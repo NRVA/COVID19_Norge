{
 "cells": [
  {
   "cell_type": "code",
   "execution_count": 1,
   "metadata": {},
   "outputs": [],
   "source": [
    "# ========== (c) JP Hwang 2020-02-28  ==========\n",
    "\n",
    "import pandas as pd\n",
    "import dash\n",
    "import dash_core_components as dcc\n",
    "import dash_html_components as html\n",
    "from dash.dependencies import Input, Output"
   ]
  },
  {
   "cell_type": "code",
   "execution_count": 11,
   "metadata": {},
   "outputs": [
    {
     "data": {
      "text/html": [
       "<div>\n",
       "<style scoped>\n",
       "    .dataframe tbody tr th:only-of-type {\n",
       "        vertical-align: middle;\n",
       "    }\n",
       "\n",
       "    .dataframe tbody tr th {\n",
       "        vertical-align: top;\n",
       "    }\n",
       "\n",
       "    .dataframe thead th {\n",
       "        text-align: right;\n",
       "    }\n",
       "</style>\n",
       "<table border=\"1\" class=\"dataframe\">\n",
       "  <thead>\n",
       "    <tr style=\"text-align: right;\">\n",
       "      <th></th>\n",
       "      <th>player</th>\n",
       "      <th>pl_acc</th>\n",
       "      <th>pl_pps</th>\n",
       "      <th>min_start</th>\n",
       "      <th>min_mid</th>\n",
       "      <th>min_end</th>\n",
       "      <th>shots_count</th>\n",
       "      <th>shots_made</th>\n",
       "      <th>shots_freq</th>\n",
       "      <th>shots_acc</th>\n",
       "      <th>group</th>\n",
       "    </tr>\n",
       "  </thead>\n",
       "  <tbody>\n",
       "    <tr>\n",
       "      <td>0</td>\n",
       "      <td>Jahlil Okafor</td>\n",
       "      <td>65.1</td>\n",
       "      <td>132.6</td>\n",
       "      <td>1</td>\n",
       "      <td>0.5</td>\n",
       "      <td>1</td>\n",
       "      <td>3</td>\n",
       "      <td>1</td>\n",
       "      <td>3.7</td>\n",
       "      <td>33.3</td>\n",
       "      <td>NOP</td>\n",
       "    </tr>\n",
       "    <tr>\n",
       "      <td>1</td>\n",
       "      <td>Jaxson Hayes</td>\n",
       "      <td>77.8</td>\n",
       "      <td>155.6</td>\n",
       "      <td>1</td>\n",
       "      <td>0.5</td>\n",
       "      <td>1</td>\n",
       "      <td>3</td>\n",
       "      <td>2</td>\n",
       "      <td>3.7</td>\n",
       "      <td>66.7</td>\n",
       "      <td>NOP</td>\n",
       "    </tr>\n",
       "    <tr>\n",
       "      <td>2</td>\n",
       "      <td>Nicolo Melli</td>\n",
       "      <td>36.4</td>\n",
       "      <td>88.6</td>\n",
       "      <td>1</td>\n",
       "      <td>0.5</td>\n",
       "      <td>1</td>\n",
       "      <td>1</td>\n",
       "      <td>1</td>\n",
       "      <td>1.2</td>\n",
       "      <td>100.0</td>\n",
       "      <td>NOP</td>\n",
       "    </tr>\n",
       "    <tr>\n",
       "      <td>3</td>\n",
       "      <td>Zion Williamson</td>\n",
       "      <td>54.3</td>\n",
       "      <td>111.4</td>\n",
       "      <td>1</td>\n",
       "      <td>0.5</td>\n",
       "      <td>1</td>\n",
       "      <td>2</td>\n",
       "      <td>1</td>\n",
       "      <td>2.5</td>\n",
       "      <td>50.0</td>\n",
       "      <td>NOP</td>\n",
       "    </tr>\n",
       "    <tr>\n",
       "      <td>4</td>\n",
       "      <td>Frank Jackson</td>\n",
       "      <td>44.7</td>\n",
       "      <td>105.3</td>\n",
       "      <td>1</td>\n",
       "      <td>0.5</td>\n",
       "      <td>1</td>\n",
       "      <td>0</td>\n",
       "      <td>0</td>\n",
       "      <td>0.0</td>\n",
       "      <td>0.0</td>\n",
       "      <td>NOP</td>\n",
       "    </tr>\n",
       "  </tbody>\n",
       "</table>\n",
       "</div>"
      ],
      "text/plain": [
       "            player  pl_acc  pl_pps  min_start  min_mid  min_end  shots_count  \\\n",
       "0    Jahlil Okafor    65.1   132.6          1      0.5        1            3   \n",
       "1     Jaxson Hayes    77.8   155.6          1      0.5        1            3   \n",
       "2     Nicolo Melli    36.4    88.6          1      0.5        1            1   \n",
       "3  Zion Williamson    54.3   111.4          1      0.5        1            2   \n",
       "4    Frank Jackson    44.7   105.3          1      0.5        1            0   \n",
       "\n",
       "   shots_made  shots_freq  shots_acc group  \n",
       "0           1         3.7       33.3   NOP  \n",
       "1           2         3.7       66.7   NOP  \n",
       "2           1         1.2      100.0   NOP  \n",
       "3           1         2.5       50.0   NOP  \n",
       "4           0         0.0        0.0   NOP  "
      ]
     },
     "execution_count": 11,
     "metadata": {},
     "output_type": "execute_result"
    }
   ],
   "source": [
    "all_teams_df = pd.read_csv(\"learning_demo.csv\", sep=',')\n",
    "all_teams_df = all_teams_df.drop(columns=\"Unnamed: 0\")\n",
    "all_teams_df.head()"
   ]
  },
  {
   "cell_type": "code",
   "execution_count": 16,
   "metadata": {},
   "outputs": [
    {
     "name": "stdout",
     "output_type": "stream",
     "text": [
      " * Serving Flask app \"__main__\" (lazy loading)\n",
      " * Environment: production\n",
      "   WARNING: This is a development server. Do not use it in a production deployment.\n",
      "   Use a production WSGI server instead.\n",
      " * Debug mode: off\n"
     ]
    },
    {
     "name": "stderr",
     "output_type": "stream",
     "text": [
      " * Running on http://127.0.0.1:8050/ (Press CTRL+C to quit)\n"
     ]
    }
   ],
   "source": [
    "app = dash.Dash(__name__)\n",
    "server = app.server\n",
    "team_names = all_teams_df.group.unique()\n",
    "team_names.sort()\n",
    "app.layout = html.Div([\n",
    "    html.Div([dcc.Dropdown(id='group-select', options=[{'label': i, 'value': i} for i in team_names],\n",
    "                           value='TOR', style={'width': '140px'})]),\n",
    "    dcc.Graph('shot-dist-graph', config={'displayModeBar': False})])\n",
    "\n",
    "@app.callback(\n",
    "    Output('shot-dist-graph', 'figure'),\n",
    "    [Input('group-select', 'value')]\n",
    ")\n",
    "def update_graph(grpname):\n",
    "    import plotly.express as px\n",
    "    return px.scatter(all_teams_df[all_teams_df.group == grpname], x='min_mid', y='player', size='shots_freq', color='pl_pps')\n",
    "\n",
    "if __name__ == '__main__':\n",
    "    app.run_server(debug=False)"
   ]
  },
  {
   "cell_type": "code",
   "execution_count": 14,
   "metadata": {},
   "outputs": [
    {
     "ename": "SyntaxError",
     "evalue": "unexpected EOF while parsing (<ipython-input-14-ad86b3cfc78c>, line 4)",
     "output_type": "error",
     "traceback": [
      "\u001b[0;36m  File \u001b[0;32m\"<ipython-input-14-ad86b3cfc78c>\"\u001b[0;36m, line \u001b[0;32m4\u001b[0m\n\u001b[0;31m    )\u001b[0m\n\u001b[0m     ^\u001b[0m\n\u001b[0;31mSyntaxError\u001b[0m\u001b[0;31m:\u001b[0m unexpected EOF while parsing\n"
     ]
    }
   ],
   "source": [
    "@app.callback(\n",
    "    Output('shot-dist-graph', 'figure'),\n",
    "    [Input('group-select', 'value')]\n",
    ")"
   ]
  }
 ],
 "metadata": {
  "kernelspec": {
   "display_name": "Python 3",
   "language": "python",
   "name": "python3"
  },
  "language_info": {
   "codemirror_mode": {
    "name": "ipython",
    "version": 3
   },
   "file_extension": ".py",
   "mimetype": "text/x-python",
   "name": "python",
   "nbconvert_exporter": "python",
   "pygments_lexer": "ipython3",
   "version": "3.7.4"
  }
 },
 "nbformat": 4,
 "nbformat_minor": 2
}
