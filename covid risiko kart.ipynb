{
 "cells": [
  {
   "cell_type": "code",
   "execution_count": 4,
   "metadata": {},
   "outputs": [],
   "source": [
    "import pandas as pd\n",
    "import numpy as np\n",
    "import plotly\n",
    "import plotly.express as px\n",
    "import chart_studio.plotly as py\n",
    "import chart_studio\n",
    "import matplotlib.pyplot as plt\n",
    "\n",
    "chart_studio.tools.set_credentials_file(username='oystein.nerva', api_key='0ODcZ6UisJ8n0AjEQt9N')"
   ]
  },
  {
   "cell_type": "code",
   "execution_count": 36,
   "metadata": {},
   "outputs": [
    {
     "data": {
      "text/html": [
       "<div>\n",
       "<style scoped>\n",
       "    .dataframe tbody tr th:only-of-type {\n",
       "        vertical-align: middle;\n",
       "    }\n",
       "\n",
       "    .dataframe tbody tr th {\n",
       "        vertical-align: top;\n",
       "    }\n",
       "\n",
       "    .dataframe thead th {\n",
       "        text-align: right;\n",
       "    }\n",
       "</style>\n",
       "<table border=\"1\" class=\"dataframe\">\n",
       "  <thead>\n",
       "    <tr style=\"text-align: right;\">\n",
       "      <th></th>\n",
       "      <th>region</th>\n",
       "      <th>kjønn</th>\n",
       "      <th>alder</th>\n",
       "      <th>år</th>\n",
       "      <th>statistikkvariabel</th>\n",
       "      <th>07459: Befolkning, etter region, kjønn, alder, år og statistikkvariabel</th>\n",
       "    </tr>\n",
       "  </thead>\n",
       "  <tbody>\n",
       "    <tr>\n",
       "      <td>0</td>\n",
       "      <td>3001 Halden</td>\n",
       "      <td>1 Menn</td>\n",
       "      <td>F00-04 0-4 år</td>\n",
       "      <td>2020</td>\n",
       "      <td>Personer</td>\n",
       "      <td>761</td>\n",
       "    </tr>\n",
       "    <tr>\n",
       "      <td>1</td>\n",
       "      <td>3001 Halden</td>\n",
       "      <td>1 Menn</td>\n",
       "      <td>F05-09 5-9 år</td>\n",
       "      <td>2020</td>\n",
       "      <td>Personer</td>\n",
       "      <td>888</td>\n",
       "    </tr>\n",
       "    <tr>\n",
       "      <td>2</td>\n",
       "      <td>3001 Halden</td>\n",
       "      <td>1 Menn</td>\n",
       "      <td>F10-14 10-14 år</td>\n",
       "      <td>2020</td>\n",
       "      <td>Personer</td>\n",
       "      <td>947</td>\n",
       "    </tr>\n",
       "    <tr>\n",
       "      <td>3</td>\n",
       "      <td>3001 Halden</td>\n",
       "      <td>1 Menn</td>\n",
       "      <td>F15-19 15-19 år</td>\n",
       "      <td>2020</td>\n",
       "      <td>Personer</td>\n",
       "      <td>1029</td>\n",
       "    </tr>\n",
       "    <tr>\n",
       "      <td>4</td>\n",
       "      <td>3001 Halden</td>\n",
       "      <td>1 Menn</td>\n",
       "      <td>F20-24 20-24 år</td>\n",
       "      <td>2020</td>\n",
       "      <td>Personer</td>\n",
       "      <td>1020</td>\n",
       "    </tr>\n",
       "  </tbody>\n",
       "</table>\n",
       "</div>"
      ],
      "text/plain": [
       "        region   kjønn            alder    år statistikkvariabel  \\\n",
       "0  3001 Halden  1 Menn    F00-04 0-4 år  2020           Personer   \n",
       "1  3001 Halden  1 Menn    F05-09 5-9 år  2020           Personer   \n",
       "2  3001 Halden  1 Menn  F10-14 10-14 år  2020           Personer   \n",
       "3  3001 Halden  1 Menn  F15-19 15-19 år  2020           Personer   \n",
       "4  3001 Halden  1 Menn  F20-24 20-24 år  2020           Personer   \n",
       "\n",
       "   07459: Befolkning, etter region, kjønn, alder, år og statistikkvariabel  \n",
       "0                                                761                        \n",
       "1                                                888                        \n",
       "2                                                947                        \n",
       "3                                               1029                        \n",
       "4                                               1020                        "
      ]
     },
     "execution_count": 36,
     "metadata": {},
     "output_type": "execute_result"
    }
   ],
   "source": [
    "# finn API url her: https://data.ssb.no/api/v0/dataset\n",
    "\n",
    "url = \"https://data.ssb.no/api/v0/dataset/1078.csv?lang=no\"\n",
    "\n",
    "df = pd.read_csv(url, sep=\";\", decimal=\",\", encoding=\"ISO-8859-1\")\n",
    "df.head()"
   ]
  },
  {
   "cell_type": "code",
   "execution_count": null,
   "metadata": {},
   "outputs": [],
   "source": []
  },
  {
   "cell_type": "code",
   "execution_count": 37,
   "metadata": {},
   "outputs": [
    {
     "data": {
      "text/html": [
       "<div>\n",
       "<style scoped>\n",
       "    .dataframe tbody tr th:only-of-type {\n",
       "        vertical-align: middle;\n",
       "    }\n",
       "\n",
       "    .dataframe tbody tr th {\n",
       "        vertical-align: top;\n",
       "    }\n",
       "\n",
       "    .dataframe thead th {\n",
       "        text-align: right;\n",
       "    }\n",
       "</style>\n",
       "<table border=\"1\" class=\"dataframe\">\n",
       "  <thead>\n",
       "    <tr style=\"text-align: right;\">\n",
       "      <th></th>\n",
       "      <th>kjønn</th>\n",
       "      <th>07459: Befolkning, etter region, kjønn, alder, år og statistikkvariabel</th>\n",
       "      <th>aldersgruppe</th>\n",
       "      <th>Kommunenr</th>\n",
       "      <th>Kommune</th>\n",
       "    </tr>\n",
       "  </thead>\n",
       "  <tbody>\n",
       "    <tr>\n",
       "      <td>0</td>\n",
       "      <td>1 Menn</td>\n",
       "      <td>761</td>\n",
       "      <td>0</td>\n",
       "      <td>3001</td>\n",
       "      <td>Halden</td>\n",
       "    </tr>\n",
       "    <tr>\n",
       "      <td>1</td>\n",
       "      <td>1 Menn</td>\n",
       "      <td>888</td>\n",
       "      <td>5</td>\n",
       "      <td>3001</td>\n",
       "      <td>Halden</td>\n",
       "    </tr>\n",
       "    <tr>\n",
       "      <td>2</td>\n",
       "      <td>1 Menn</td>\n",
       "      <td>947</td>\n",
       "      <td>10</td>\n",
       "      <td>3001</td>\n",
       "      <td>Halden</td>\n",
       "    </tr>\n",
       "    <tr>\n",
       "      <td>3</td>\n",
       "      <td>1 Menn</td>\n",
       "      <td>1029</td>\n",
       "      <td>15</td>\n",
       "      <td>3001</td>\n",
       "      <td>Halden</td>\n",
       "    </tr>\n",
       "    <tr>\n",
       "      <td>4</td>\n",
       "      <td>1 Menn</td>\n",
       "      <td>1020</td>\n",
       "      <td>20</td>\n",
       "      <td>3001</td>\n",
       "      <td>Halden</td>\n",
       "    </tr>\n",
       "  </tbody>\n",
       "</table>\n",
       "</div>"
      ],
      "text/plain": [
       "    kjønn  \\\n",
       "0  1 Menn   \n",
       "1  1 Menn   \n",
       "2  1 Menn   \n",
       "3  1 Menn   \n",
       "4  1 Menn   \n",
       "\n",
       "   07459: Befolkning, etter region, kjønn, alder, år og statistikkvariabel  \\\n",
       "0                                                761                         \n",
       "1                                                888                         \n",
       "2                                                947                         \n",
       "3                                               1029                         \n",
       "4                                               1020                         \n",
       "\n",
       "   aldersgruppe Kommunenr Kommune  \n",
       "0             0      3001  Halden  \n",
       "1             5      3001  Halden  \n",
       "2            10      3001  Halden  \n",
       "3            15      3001  Halden  \n",
       "4            20      3001  Halden  "
      ]
     },
     "execution_count": 37,
     "metadata": {},
     "output_type": "execute_result"
    }
   ],
   "source": [
    "df[\"rest\"], df[\"age\"], df[\"rest2\"] = df[\"alder\"].str.split(\" \",2).str\n",
    "df = df.drop(columns = [\"rest\", \"rest2\", \"statistikkvariabel\", \"år\", \"alder\"])\n",
    "\n",
    "df[\"aldersgruppe\"], df[\"rest\"] = df[\"age\"].str.split(\"-\",1).str\n",
    "df[\"aldersgruppe\"] = pd.to_numeric(df[\"aldersgruppe\"], errors='coerce')\n",
    "df = df.drop(columns = [\"rest\", \"age\"])\n",
    "\n",
    "df[\"Kommunenr\"], df[\"Kommune\"] = df[\"region\"].str.split(\" \",1).str\n",
    "df = df.drop(columns=\"region\")\n",
    "\n",
    "df.head()"
   ]
  },
  {
   "cell_type": "code",
   "execution_count": 38,
   "metadata": {},
   "outputs": [
    {
     "data": {
      "text/html": [
       "<div>\n",
       "<style scoped>\n",
       "    .dataframe tbody tr th:only-of-type {\n",
       "        vertical-align: middle;\n",
       "    }\n",
       "\n",
       "    .dataframe tbody tr th {\n",
       "        vertical-align: top;\n",
       "    }\n",
       "\n",
       "    .dataframe thead th {\n",
       "        text-align: right;\n",
       "    }\n",
       "</style>\n",
       "<table border=\"1\" class=\"dataframe\">\n",
       "  <thead>\n",
       "    <tr style=\"text-align: right;\">\n",
       "      <th></th>\n",
       "      <th>Kommunenr</th>\n",
       "      <th>Kommune</th>\n",
       "      <th>aldersgruppe</th>\n",
       "      <th>07459: Befolkning, etter region, kjønn, alder, år og statistikkvariabel</th>\n",
       "    </tr>\n",
       "  </thead>\n",
       "  <tbody>\n",
       "    <tr>\n",
       "      <td>0</td>\n",
       "      <td>0301</td>\n",
       "      <td>Oslo kommune</td>\n",
       "      <td>over 65</td>\n",
       "      <td>87380</td>\n",
       "    </tr>\n",
       "    <tr>\n",
       "      <td>1</td>\n",
       "      <td>0301</td>\n",
       "      <td>Oslo kommune</td>\n",
       "      <td>under 65</td>\n",
       "      <td>606114</td>\n",
       "    </tr>\n",
       "    <tr>\n",
       "      <td>2</td>\n",
       "      <td>1101</td>\n",
       "      <td>Eigersund</td>\n",
       "      <td>over 65</td>\n",
       "      <td>2687</td>\n",
       "    </tr>\n",
       "    <tr>\n",
       "      <td>3</td>\n",
       "      <td>1101</td>\n",
       "      <td>Eigersund</td>\n",
       "      <td>under 65</td>\n",
       "      <td>12124</td>\n",
       "    </tr>\n",
       "    <tr>\n",
       "      <td>4</td>\n",
       "      <td>1103</td>\n",
       "      <td>Stavanger</td>\n",
       "      <td>over 65</td>\n",
       "      <td>20729</td>\n",
       "    </tr>\n",
       "  </tbody>\n",
       "</table>\n",
       "</div>"
      ],
      "text/plain": [
       "  Kommunenr       Kommune aldersgruppe  \\\n",
       "0      0301  Oslo kommune      over 65   \n",
       "1      0301  Oslo kommune     under 65   \n",
       "2      1101     Eigersund      over 65   \n",
       "3      1101     Eigersund     under 65   \n",
       "4      1103     Stavanger      over 65   \n",
       "\n",
       "   07459: Befolkning, etter region, kjønn, alder, år og statistikkvariabel  \n",
       "0                                              87380                        \n",
       "1                                             606114                        \n",
       "2                                               2687                        \n",
       "3                                              12124                        \n",
       "4                                              20729                        "
      ]
     },
     "execution_count": 38,
     "metadata": {},
     "output_type": "execute_result"
    }
   ],
   "source": [
    "df = df.groupby([\"Kommunenr\", \"Kommune\", \"aldersgruppe\"]).sum().reset_index()\n",
    "df[\"aldersgruppe\"] = df.apply(lambda x: \"over 65\" if x[\"aldersgruppe\"] >= 65 else \"under 65\", axis=1)\n",
    "df = df.groupby([\"Kommunenr\", \"Kommune\", \"aldersgruppe\"]).sum().reset_index()\n",
    "\n",
    "df.head()"
   ]
  },
  {
   "cell_type": "code",
   "execution_count": 41,
   "metadata": {},
   "outputs": [
    {
     "data": {
      "text/html": [
       "<div>\n",
       "<style scoped>\n",
       "    .dataframe tbody tr th:only-of-type {\n",
       "        vertical-align: middle;\n",
       "    }\n",
       "\n",
       "    .dataframe tbody tr th {\n",
       "        vertical-align: top;\n",
       "    }\n",
       "\n",
       "    .dataframe thead th {\n",
       "        text-align: right;\n",
       "    }\n",
       "</style>\n",
       "<table border=\"1\" class=\"dataframe\">\n",
       "  <thead>\n",
       "    <tr style=\"text-align: right;\">\n",
       "      <th>aldersgruppe</th>\n",
       "      <th>Kommunenr</th>\n",
       "      <th>Kommune</th>\n",
       "      <th>over 65</th>\n",
       "      <th>under 65</th>\n",
       "      <th>andel over 65</th>\n",
       "    </tr>\n",
       "  </thead>\n",
       "  <tbody>\n",
       "    <tr>\n",
       "      <td>0</td>\n",
       "      <td>0301</td>\n",
       "      <td>Oslo kommune</td>\n",
       "      <td>87380</td>\n",
       "      <td>606114</td>\n",
       "      <td>12.599965</td>\n",
       "    </tr>\n",
       "    <tr>\n",
       "      <td>1</td>\n",
       "      <td>1101</td>\n",
       "      <td>Eigersund</td>\n",
       "      <td>2687</td>\n",
       "      <td>12124</td>\n",
       "      <td>18.141922</td>\n",
       "    </tr>\n",
       "    <tr>\n",
       "      <td>2</td>\n",
       "      <td>1103</td>\n",
       "      <td>Stavanger</td>\n",
       "      <td>20729</td>\n",
       "      <td>122845</td>\n",
       "      <td>14.437851</td>\n",
       "    </tr>\n",
       "    <tr>\n",
       "      <td>3</td>\n",
       "      <td>1106</td>\n",
       "      <td>Haugesund</td>\n",
       "      <td>6342</td>\n",
       "      <td>31015</td>\n",
       "      <td>16.976738</td>\n",
       "    </tr>\n",
       "    <tr>\n",
       "      <td>4</td>\n",
       "      <td>1108</td>\n",
       "      <td>Sandnes</td>\n",
       "      <td>10292</td>\n",
       "      <td>69245</td>\n",
       "      <td>12.939890</td>\n",
       "    </tr>\n",
       "  </tbody>\n",
       "</table>\n",
       "</div>"
      ],
      "text/plain": [
       "aldersgruppe Kommunenr       Kommune  over 65  under 65  andel over 65\n",
       "0                 0301  Oslo kommune    87380    606114      12.599965\n",
       "1                 1101     Eigersund     2687     12124      18.141922\n",
       "2                 1103     Stavanger    20729    122845      14.437851\n",
       "3                 1106     Haugesund     6342     31015      16.976738\n",
       "4                 1108       Sandnes    10292     69245      12.939890"
      ]
     },
     "execution_count": 41,
     "metadata": {},
     "output_type": "execute_result"
    }
   ],
   "source": [
    "df = df.pivot_table(index=[\"Kommunenr\", \"Kommune\"], columns=[\"aldersgruppe\"], values=\"07459: Befolkning, etter region, kjønn, alder, år og statistikkvariabel\").reset_index()\n",
    "df[\"andel over 65\"] = (df[\"over 65\"]/(df[\"over 65\"]+df[\"under 65\"]))*100\n",
    "df.head()"
   ]
  },
  {
   "cell_type": "markdown",
   "metadata": {},
   "source": [
    "# tettbebygd strøk"
   ]
  },
  {
   "cell_type": "code",
   "execution_count": 106,
   "metadata": {},
   "outputs": [
    {
     "data": {
      "text/html": [
       "<div>\n",
       "<style scoped>\n",
       "    .dataframe tbody tr th:only-of-type {\n",
       "        vertical-align: middle;\n",
       "    }\n",
       "\n",
       "    .dataframe tbody tr th {\n",
       "        vertical-align: top;\n",
       "    }\n",
       "\n",
       "    .dataframe thead th {\n",
       "        text-align: right;\n",
       "    }\n",
       "</style>\n",
       "<table border=\"1\" class=\"dataframe\">\n",
       "  <thead>\n",
       "    <tr style=\"text-align: right;\">\n",
       "      <th></th>\n",
       "      <th>Kommune</th>\n",
       "      <th>Type</th>\n",
       "      <th>Befolkning</th>\n",
       "      <th>Kommunenr</th>\n",
       "    </tr>\n",
       "  </thead>\n",
       "  <tbody>\n",
       "    <tr>\n",
       "      <td>0</td>\n",
       "      <td>Halden</td>\n",
       "      <td>Tettbygd strøk</td>\n",
       "      <td>27084</td>\n",
       "      <td>3001</td>\n",
       "    </tr>\n",
       "    <tr>\n",
       "      <td>1</td>\n",
       "      <td>Halden</td>\n",
       "      <td>Spredtbygd strøk</td>\n",
       "      <td>4043</td>\n",
       "      <td>3001</td>\n",
       "    </tr>\n",
       "    <tr>\n",
       "      <td>2</td>\n",
       "      <td>Halden</td>\n",
       "      <td>Ukjent</td>\n",
       "      <td>50</td>\n",
       "      <td>3001</td>\n",
       "    </tr>\n",
       "    <tr>\n",
       "      <td>3</td>\n",
       "      <td>Moss</td>\n",
       "      <td>Tettbygd strøk</td>\n",
       "      <td>46901</td>\n",
       "      <td>3002</td>\n",
       "    </tr>\n",
       "    <tr>\n",
       "      <td>4</td>\n",
       "      <td>Moss</td>\n",
       "      <td>Spredtbygd strøk</td>\n",
       "      <td>1863</td>\n",
       "      <td>3002</td>\n",
       "    </tr>\n",
       "  </tbody>\n",
       "</table>\n",
       "</div>"
      ],
      "text/plain": [
       "  Kommune              Type  Befolkning Kommunenr\n",
       "0  Halden    Tettbygd strøk       27084      3001\n",
       "1  Halden  Spredtbygd strøk        4043      3001\n",
       "2  Halden            Ukjent          50      3001\n",
       "3    Moss    Tettbygd strøk       46901      3002\n",
       "4    Moss  Spredtbygd strøk        1863      3002"
      ]
     },
     "execution_count": 106,
     "metadata": {},
     "output_type": "execute_result"
    }
   ],
   "source": [
    "bebyggelse = pd.read_excel(\"Folkemengde-2.xlsx\")\n",
    "bebyggelse[\"Kommunenr\"], bebyggelse[\"Kommune\"] = bebyggelse[\"Kommune\"].str.split(\" \",1).str\n",
    "bebyggelse[\"rest\"], bebyggelse[\"Kommunenr\"] = bebyggelse[\"Kommunenr\"].str.split(\"-\",1).str\n",
    "bebyggelse = bebyggelse.drop(columns = [\"rest\"])\n",
    "\n",
    "innbyggere = bebyggelse.groupby([\"Kommunenr\"])[\"Befolkning\"].sum().reset_index()\n",
    "bebyggelse.head()"
   ]
  },
  {
   "cell_type": "code",
   "execution_count": 107,
   "metadata": {},
   "outputs": [
    {
     "data": {
      "text/html": [
       "<div>\n",
       "<style scoped>\n",
       "    .dataframe tbody tr th:only-of-type {\n",
       "        vertical-align: middle;\n",
       "    }\n",
       "\n",
       "    .dataframe tbody tr th {\n",
       "        vertical-align: top;\n",
       "    }\n",
       "\n",
       "    .dataframe thead th {\n",
       "        text-align: right;\n",
       "    }\n",
       "</style>\n",
       "<table border=\"1\" class=\"dataframe\">\n",
       "  <thead>\n",
       "    <tr style=\"text-align: right;\">\n",
       "      <th></th>\n",
       "      <th>Kommunenr</th>\n",
       "      <th>Andel i tettebebyggelse</th>\n",
       "      <th>Befolkning</th>\n",
       "    </tr>\n",
       "  </thead>\n",
       "  <tbody>\n",
       "    <tr>\n",
       "      <td>0</td>\n",
       "      <td>0301</td>\n",
       "      <td>99.422674</td>\n",
       "      <td>681071</td>\n",
       "    </tr>\n",
       "    <tr>\n",
       "      <td>1</td>\n",
       "      <td>1101</td>\n",
       "      <td>82.805125</td>\n",
       "      <td>14830</td>\n",
       "    </tr>\n",
       "    <tr>\n",
       "      <td>2</td>\n",
       "      <td>1103</td>\n",
       "      <td>95.848881</td>\n",
       "      <td>142034</td>\n",
       "    </tr>\n",
       "    <tr>\n",
       "      <td>3</td>\n",
       "      <td>1106</td>\n",
       "      <td>97.535570</td>\n",
       "      <td>37250</td>\n",
       "    </tr>\n",
       "    <tr>\n",
       "      <td>4</td>\n",
       "      <td>1108</td>\n",
       "      <td>93.825775</td>\n",
       "      <td>78439</td>\n",
       "    </tr>\n",
       "  </tbody>\n",
       "</table>\n",
       "</div>"
      ],
      "text/plain": [
       "  Kommunenr  Andel i tettebebyggelse  Befolkning\n",
       "0      0301                99.422674      681071\n",
       "1      1101                82.805125       14830\n",
       "2      1103                95.848881      142034\n",
       "3      1106                97.535570       37250\n",
       "4      1108                93.825775       78439"
      ]
     },
     "execution_count": 107,
     "metadata": {},
     "output_type": "execute_result"
    }
   ],
   "source": [
    "bebyggelse = bebyggelse.pivot_table(index=[\"Kommunenr\", \"Kommune\"], columns=[\"Type\"], values=\"Befolkning\").reset_index()\n",
    "bebyggelse[\"Andel i tettebebyggelse\"] = ((bebyggelse[\"Tettbygd strøk\"]/(bebyggelse[\"Tettbygd strøk\"]+bebyggelse[\"Spredtbygd strøk\"]+bebyggelse[\"Ukjent\"])))*100\n",
    "bebyggelse = bebyggelse.drop(columns = [\"Kommune\", \"Spredtbygd strøk\", \"Tettbygd strøk\", \"Ukjent\"])\n",
    "bebyggelse = bebyggelse.merge(innbyggere, how=\"left\", on=\"Kommunenr\")\n",
    "bebyggelse.head()"
   ]
  },
  {
   "cell_type": "markdown",
   "metadata": {},
   "source": [
    "# tilhørighet/mapping"
   ]
  },
  {
   "cell_type": "code",
   "execution_count": 159,
   "metadata": {},
   "outputs": [
    {
     "data": {
      "text/html": [
       "<div>\n",
       "<style scoped>\n",
       "    .dataframe tbody tr th:only-of-type {\n",
       "        vertical-align: middle;\n",
       "    }\n",
       "\n",
       "    .dataframe tbody tr th {\n",
       "        vertical-align: top;\n",
       "    }\n",
       "\n",
       "    .dataframe thead th {\n",
       "        text-align: right;\n",
       "    }\n",
       "</style>\n",
       "<table border=\"1\" class=\"dataframe\">\n",
       "  <thead>\n",
       "    <tr style=\"text-align: right;\">\n",
       "      <th></th>\n",
       "      <th>Fylkesnummer</th>\n",
       "      <th>Fylke</th>\n",
       "      <th>Kommunenummer</th>\n",
       "      <th>Kommune</th>\n",
       "    </tr>\n",
       "  </thead>\n",
       "  <tbody>\n",
       "    <tr>\n",
       "      <td>351</td>\n",
       "      <td>54</td>\n",
       "      <td>Troms og Finnmark - Romsa ja Finnmárku - Troms...</td>\n",
       "      <td>5440</td>\n",
       "      <td>Berlevåg</td>\n",
       "    </tr>\n",
       "    <tr>\n",
       "      <td>352</td>\n",
       "      <td>54</td>\n",
       "      <td>Troms og Finnmark - Romsa ja Finnmárku - Troms...</td>\n",
       "      <td>5441</td>\n",
       "      <td>Deatnu - Tana</td>\n",
       "    </tr>\n",
       "    <tr>\n",
       "      <td>353</td>\n",
       "      <td>54</td>\n",
       "      <td>Troms og Finnmark - Romsa ja Finnmárku - Troms...</td>\n",
       "      <td>5442</td>\n",
       "      <td>Unjárga - Nesseby</td>\n",
       "    </tr>\n",
       "    <tr>\n",
       "      <td>354</td>\n",
       "      <td>54</td>\n",
       "      <td>Troms og Finnmark - Romsa ja Finnmárku - Troms...</td>\n",
       "      <td>5443</td>\n",
       "      <td>Båtsfjord</td>\n",
       "    </tr>\n",
       "    <tr>\n",
       "      <td>355</td>\n",
       "      <td>54</td>\n",
       "      <td>Troms og Finnmark - Romsa ja Finnmárku - Troms...</td>\n",
       "      <td>5444</td>\n",
       "      <td>Sør-Varanger</td>\n",
       "    </tr>\n",
       "  </tbody>\n",
       "</table>\n",
       "</div>"
      ],
      "text/plain": [
       "     Fylkesnummer                                              Fylke  \\\n",
       "351            54  Troms og Finnmark - Romsa ja Finnmárku - Troms...   \n",
       "352            54  Troms og Finnmark - Romsa ja Finnmárku - Troms...   \n",
       "353            54  Troms og Finnmark - Romsa ja Finnmárku - Troms...   \n",
       "354            54  Troms og Finnmark - Romsa ja Finnmárku - Troms...   \n",
       "355            54  Troms og Finnmark - Romsa ja Finnmárku - Troms...   \n",
       "\n",
       "     Kommunenummer            Kommune  \n",
       "351           5440           Berlevåg  \n",
       "352           5441      Deatnu - Tana  \n",
       "353           5442  Unjárga - Nesseby  \n",
       "354           5443          Båtsfjord  \n",
       "355           5444       Sør-Varanger  "
      ]
     },
     "execution_count": 159,
     "metadata": {},
     "output_type": "execute_result"
    }
   ],
   "source": [
    "kom = pd.read_csv(\"kommunetilhorighet_2020.csv\", sep=\";\", decimal=\",\")\n",
    "kom.tail()"
   ]
  },
  {
   "cell_type": "code",
   "execution_count": 160,
   "metadata": {},
   "outputs": [
    {
     "data": {
      "text/html": [
       "<div>\n",
       "<style scoped>\n",
       "    .dataframe tbody tr th:only-of-type {\n",
       "        vertical-align: middle;\n",
       "    }\n",
       "\n",
       "    .dataframe tbody tr th {\n",
       "        vertical-align: top;\n",
       "    }\n",
       "\n",
       "    .dataframe thead th {\n",
       "        text-align: right;\n",
       "    }\n",
       "</style>\n",
       "<table border=\"1\" class=\"dataframe\">\n",
       "  <thead>\n",
       "    <tr style=\"text-align: right;\">\n",
       "      <th></th>\n",
       "      <th>Fylkesnummer</th>\n",
       "      <th>Fylke</th>\n",
       "      <th>Kommunenummer</th>\n",
       "      <th>Kommune</th>\n",
       "      <th>rest</th>\n",
       "    </tr>\n",
       "  </thead>\n",
       "  <tbody>\n",
       "    <tr>\n",
       "      <td>351</td>\n",
       "      <td>54</td>\n",
       "      <td>Troms og Finnmark</td>\n",
       "      <td>5440</td>\n",
       "      <td>Berlevåg</td>\n",
       "      <td>Romsa ja Finnmárku - Tromssa ja Finmarkku</td>\n",
       "    </tr>\n",
       "    <tr>\n",
       "      <td>352</td>\n",
       "      <td>54</td>\n",
       "      <td>Troms og Finnmark</td>\n",
       "      <td>5441</td>\n",
       "      <td>Deatnu - Tana</td>\n",
       "      <td>Romsa ja Finnmárku - Tromssa ja Finmarkku</td>\n",
       "    </tr>\n",
       "    <tr>\n",
       "      <td>353</td>\n",
       "      <td>54</td>\n",
       "      <td>Troms og Finnmark</td>\n",
       "      <td>5442</td>\n",
       "      <td>Unjárga - Nesseby</td>\n",
       "      <td>Romsa ja Finnmárku - Tromssa ja Finmarkku</td>\n",
       "    </tr>\n",
       "    <tr>\n",
       "      <td>354</td>\n",
       "      <td>54</td>\n",
       "      <td>Troms og Finnmark</td>\n",
       "      <td>5443</td>\n",
       "      <td>Båtsfjord</td>\n",
       "      <td>Romsa ja Finnmárku - Tromssa ja Finmarkku</td>\n",
       "    </tr>\n",
       "    <tr>\n",
       "      <td>355</td>\n",
       "      <td>54</td>\n",
       "      <td>Troms og Finnmark</td>\n",
       "      <td>5444</td>\n",
       "      <td>Sør-Varanger</td>\n",
       "      <td>Romsa ja Finnmárku - Tromssa ja Finmarkku</td>\n",
       "    </tr>\n",
       "  </tbody>\n",
       "</table>\n",
       "</div>"
      ],
      "text/plain": [
       "     Fylkesnummer               Fylke  Kommunenummer            Kommune  \\\n",
       "351            54  Troms og Finnmark            5440           Berlevåg   \n",
       "352            54  Troms og Finnmark            5441      Deatnu - Tana   \n",
       "353            54  Troms og Finnmark            5442  Unjárga - Nesseby   \n",
       "354            54  Troms og Finnmark            5443          Båtsfjord   \n",
       "355            54  Troms og Finnmark            5444       Sør-Varanger   \n",
       "\n",
       "                                           rest  \n",
       "351   Romsa ja Finnmárku - Tromssa ja Finmarkku  \n",
       "352   Romsa ja Finnmárku - Tromssa ja Finmarkku  \n",
       "353   Romsa ja Finnmárku - Tromssa ja Finmarkku  \n",
       "354   Romsa ja Finnmárku - Tromssa ja Finmarkku  \n",
       "355   Romsa ja Finnmárku - Tromssa ja Finmarkku  "
      ]
     },
     "execution_count": 160,
     "metadata": {},
     "output_type": "execute_result"
    }
   ],
   "source": [
    "kom[\"Fylke\"], kom[\"rest\"] = kom[\"Fylke\"].str.split(\"-\",1).str\n",
    "kom.tail()"
   ]
  },
  {
   "cell_type": "markdown",
   "metadata": {},
   "source": [
    "# JOIN"
   ]
  },
  {
   "cell_type": "code",
   "execution_count": 161,
   "metadata": {},
   "outputs": [
    {
     "data": {
      "text/html": [
       "<div>\n",
       "<style scoped>\n",
       "    .dataframe tbody tr th:only-of-type {\n",
       "        vertical-align: middle;\n",
       "    }\n",
       "\n",
       "    .dataframe tbody tr th {\n",
       "        vertical-align: top;\n",
       "    }\n",
       "\n",
       "    .dataframe thead th {\n",
       "        text-align: right;\n",
       "    }\n",
       "</style>\n",
       "<table border=\"1\" class=\"dataframe\">\n",
       "  <thead>\n",
       "    <tr style=\"text-align: right;\">\n",
       "      <th></th>\n",
       "      <th>Kommunenr</th>\n",
       "      <th>Kommune</th>\n",
       "      <th>over 65</th>\n",
       "      <th>under 65</th>\n",
       "      <th>andel over 65</th>\n",
       "      <th>Andel i tettebebyggelse</th>\n",
       "      <th>Befolkning</th>\n",
       "    </tr>\n",
       "  </thead>\n",
       "  <tbody>\n",
       "    <tr>\n",
       "      <td>0</td>\n",
       "      <td>0301</td>\n",
       "      <td>Oslo kommune</td>\n",
       "      <td>87380</td>\n",
       "      <td>606114</td>\n",
       "      <td>12.599965</td>\n",
       "      <td>99.422674</td>\n",
       "      <td>681071</td>\n",
       "    </tr>\n",
       "    <tr>\n",
       "      <td>1</td>\n",
       "      <td>1101</td>\n",
       "      <td>Eigersund</td>\n",
       "      <td>2687</td>\n",
       "      <td>12124</td>\n",
       "      <td>18.141922</td>\n",
       "      <td>82.805125</td>\n",
       "      <td>14830</td>\n",
       "    </tr>\n",
       "    <tr>\n",
       "      <td>2</td>\n",
       "      <td>1103</td>\n",
       "      <td>Stavanger</td>\n",
       "      <td>20729</td>\n",
       "      <td>122845</td>\n",
       "      <td>14.437851</td>\n",
       "      <td>95.848881</td>\n",
       "      <td>142034</td>\n",
       "    </tr>\n",
       "    <tr>\n",
       "      <td>3</td>\n",
       "      <td>1106</td>\n",
       "      <td>Haugesund</td>\n",
       "      <td>6342</td>\n",
       "      <td>31015</td>\n",
       "      <td>16.976738</td>\n",
       "      <td>97.535570</td>\n",
       "      <td>37250</td>\n",
       "    </tr>\n",
       "    <tr>\n",
       "      <td>4</td>\n",
       "      <td>1108</td>\n",
       "      <td>Sandnes</td>\n",
       "      <td>10292</td>\n",
       "      <td>69245</td>\n",
       "      <td>12.939890</td>\n",
       "      <td>93.825775</td>\n",
       "      <td>78439</td>\n",
       "    </tr>\n",
       "  </tbody>\n",
       "</table>\n",
       "</div>"
      ],
      "text/plain": [
       "  Kommunenr       Kommune  over 65  under 65  andel over 65  \\\n",
       "0      0301  Oslo kommune    87380    606114      12.599965   \n",
       "1      1101     Eigersund     2687     12124      18.141922   \n",
       "2      1103     Stavanger    20729    122845      14.437851   \n",
       "3      1106     Haugesund     6342     31015      16.976738   \n",
       "4      1108       Sandnes    10292     69245      12.939890   \n",
       "\n",
       "   Andel i tettebebyggelse  Befolkning  \n",
       "0                99.422674      681071  \n",
       "1                82.805125       14830  \n",
       "2                95.848881      142034  \n",
       "3                97.535570       37250  \n",
       "4                93.825775       78439  "
      ]
     },
     "execution_count": 161,
     "metadata": {},
     "output_type": "execute_result"
    }
   ],
   "source": [
    "data = df.merge(bebyggelse, how=\"left\", on=\"Kommunenr\")\n",
    "data.head()"
   ]
  },
  {
   "cell_type": "code",
   "execution_count": 162,
   "metadata": {},
   "outputs": [],
   "source": [
    "data[\"Kommunenr\"] = pd.to_numeric(data[\"Kommunenr\"], errors='coerce')\n",
    "data = data.merge(kom, how=\"left\", left_on=\"Kommunenr\", right_on=\"Kommunenummer\")\n"
   ]
  },
  {
   "cell_type": "code",
   "execution_count": 109,
   "metadata": {},
   "outputs": [
    {
     "data": {
      "text/html": [
       "<div>\n",
       "<style scoped>\n",
       "    .dataframe tbody tr th:only-of-type {\n",
       "        vertical-align: middle;\n",
       "    }\n",
       "\n",
       "    .dataframe tbody tr th {\n",
       "        vertical-align: top;\n",
       "    }\n",
       "\n",
       "    .dataframe thead th {\n",
       "        text-align: right;\n",
       "    }\n",
       "</style>\n",
       "<table border=\"1\" class=\"dataframe\">\n",
       "  <thead>\n",
       "    <tr style=\"text-align: right;\">\n",
       "      <th></th>\n",
       "      <th>Threshold</th>\n",
       "      <th>Tekst</th>\n",
       "    </tr>\n",
       "  </thead>\n",
       "  <tbody>\n",
       "    <tr>\n",
       "      <td>0</td>\n",
       "      <td>0.000000</td>\n",
       "      <td>Lav</td>\n",
       "    </tr>\n",
       "    <tr>\n",
       "      <td>1</td>\n",
       "      <td>44.550362</td>\n",
       "      <td>Mid</td>\n",
       "    </tr>\n",
       "    <tr>\n",
       "      <td>2</td>\n",
       "      <td>69.745587</td>\n",
       "      <td>Høy</td>\n",
       "    </tr>\n",
       "  </tbody>\n",
       "</table>\n",
       "</div>"
      ],
      "text/plain": [
       "   Threshold Tekst\n",
       "0   0.000000   Lav\n",
       "1  44.550362   Mid\n",
       "2  69.745587   Høy"
      ]
     },
     "execution_count": 109,
     "metadata": {},
     "output_type": "execute_result"
    }
   ],
   "source": [
    "results, bin_edges = pd.qcut(data['Andel i tettebebyggelse'], q=3, labels=[\"Lav\", \"Mid\", \"Høy\"], retbins=True)\n",
    "bebyggelse_thresh = pd.DataFrame(zip(bin_edges, [\"Lav\", \"Mid\", \"Høy\"]), columns=['Threshold', 'Tekst'])\n",
    "bebyggelse_thresh"
   ]
  },
  {
   "cell_type": "code",
   "execution_count": 110,
   "metadata": {},
   "outputs": [
    {
     "data": {
      "text/html": [
       "<div>\n",
       "<style scoped>\n",
       "    .dataframe tbody tr th:only-of-type {\n",
       "        vertical-align: middle;\n",
       "    }\n",
       "\n",
       "    .dataframe tbody tr th {\n",
       "        vertical-align: top;\n",
       "    }\n",
       "\n",
       "    .dataframe thead th {\n",
       "        text-align: right;\n",
       "    }\n",
       "</style>\n",
       "<table border=\"1\" class=\"dataframe\">\n",
       "  <thead>\n",
       "    <tr style=\"text-align: right;\">\n",
       "      <th></th>\n",
       "      <th>Threshold</th>\n",
       "      <th>Tekst</th>\n",
       "    </tr>\n",
       "  </thead>\n",
       "  <tbody>\n",
       "    <tr>\n",
       "      <td>0</td>\n",
       "      <td>11.648059</td>\n",
       "      <td>Lav</td>\n",
       "    </tr>\n",
       "    <tr>\n",
       "      <td>1</td>\n",
       "      <td>20.087025</td>\n",
       "      <td>Mid</td>\n",
       "    </tr>\n",
       "    <tr>\n",
       "      <td>2</td>\n",
       "      <td>23.191483</td>\n",
       "      <td>Høy</td>\n",
       "    </tr>\n",
       "  </tbody>\n",
       "</table>\n",
       "</div>"
      ],
      "text/plain": [
       "   Threshold Tekst\n",
       "0  11.648059   Lav\n",
       "1  20.087025   Mid\n",
       "2  23.191483   Høy"
      ]
     },
     "execution_count": 110,
     "metadata": {},
     "output_type": "execute_result"
    }
   ],
   "source": [
    "results, bin_edges = pd.qcut(data['andel over 65'], q=3, labels=[\"Lav\", \"Mid\", \"Høy\"], retbins=True)\n",
    "alder_thresh = pd.DataFrame(zip(bin_edges, [\"Lav\", \"Mid\", \"Høy\"]), columns=['Threshold', 'Tekst'])\n",
    "alder_thresh"
   ]
  },
  {
   "cell_type": "code",
   "execution_count": 189,
   "metadata": {},
   "outputs": [
    {
     "data": {
      "application/vnd.plotly.v1+json": {
       "config": {
        "plotlyServerURL": "https://plot.ly"
       },
       "data": [
        {
         "hoverlabel": {
          "namelength": 0
         },
         "hovertemplate": "<b>%{hovertext}</b><br><br>Fylke=Agder<br>Andel i tettebebyggelse=%{x}<br>andel over 65=%{y}<br>Befolkning=%{marker.size}",
         "hovertext": [
          "Risør",
          "Grimstad",
          "Arendal",
          "Kristiansand",
          "Lindesnes",
          "Farsund",
          "Flekkefjord",
          "Gjerstad",
          "Vegårshei",
          "Tvedestrand",
          "Froland",
          "Lillesand",
          "Birkenes",
          "Åmli",
          "Iveland",
          "Evje og Hornnes",
          "Bygland",
          "Valle",
          "Bykle",
          "Vennesla",
          "Åseral",
          "Lyngdal",
          "Hægebostad",
          "Kvinesdal",
          "Sirdal"
         ],
         "legendgroup": "Agder",
         "marker": {
          "color": "#636efa",
          "size": [
           6848,
           23246,
           44785,
           110391,
           22909,
           9695,
           9066,
           2454,
           2093,
           6069,
           5845,
           10990,
           5212,
           1848,
           1326,
           3638,
           1192,
           1156,
           953,
           14630,
           939,
           10389,
           1683,
           6048,
           1839
          ],
          "sizemode": "area",
          "sizeref": 189.1863888888889,
          "symbol": "circle"
         },
         "mode": "markers",
         "name": "Agder",
         "showlegend": true,
         "type": "scatter",
         "x": [
          67.46495327102804,
          86.50520519659295,
          87.1988388969521,
          94.50770443242655,
          66.94312279016981,
          67.18927282104178,
          73.72600926538716,
          34.67807660961695,
          49.49832775919732,
          47.042346350304825,
          53.704020530367835,
          75.22292993630573,
          56.29316960859555,
          37.33766233766234,
          0,
          68.74656404617922,
          50.92281879194631,
          0,
          66.94648478488983,
          83.02118933697881,
          0,
          57.329868129752626,
          13.48781937017231,
          48.61111111111111,
          48.613376835236544
         ],
         "xaxis": "x",
         "y": [
          24.57042150095462,
          16.607203533809038,
          19.29376208360186,
          15.7507188734514,
          19.07489369087911,
          20.854400990609847,
          21.01240584847142,
          22.075782537067546,
          17.02432045779685,
          22.51775978853461,
          15.963703579230382,
          18.340256456564926,
          16.494450822809032,
          21.895424836601308,
          15.326821938392184,
          20.225646670335717,
          25.817555938037867,
          24.140893470790378,
          14.715025906735752,
          15.398673345065655,
          16.84549356223176,
          17.29860106126387,
          18.333333333333332,
          18.64038750626357,
          20.08781558726674
         ],
         "yaxis": "y"
        },
        {
         "hoverlabel": {
          "namelength": 0
         },
         "hovertemplate": "<b>%{hovertext}</b><br><br>Fylke=Innlandet<br>Andel i tettebebyggelse=%{x}<br>andel over 65=%{y}<br>Befolkning=%{marker.size}",
         "hovertext": [
          "Kongsvinger",
          "Hamar",
          "Lillehammer",
          "Gjøvik",
          "Ringsaker",
          "Løten",
          "Stange",
          "Nord-Odal",
          "Sør-Odal",
          "Eidskog",
          "Grue",
          "Åsnes",
          "Våler (Innlandet)",
          "Elverum",
          "Trysil",
          "Åmot",
          "Stor-Elvdal",
          "Rendalen",
          "Engerdal",
          "Tolga",
          "Tynset",
          "Alvdal",
          "Folldal",
          "Os",
          "Dovre",
          "Lesja",
          "Skjåk",
          "Lom",
          "Vågå",
          "Nord-Fron",
          "Sel",
          "Sør-Fron",
          "Ringebu",
          "Øyer",
          "Gausdal",
          "Østre Toten",
          "Vestre Toten",
          "Gran",
          "Søndre Land",
          "Nordre Land",
          "Sør-Aurdal",
          "Etnedal",
          "Nord-Aurdal",
          "Vestre Slidre",
          "Øystre Slidre",
          "Vang"
         ],
         "legendgroup": "Innlandet",
         "marker": {
          "color": "#EF553B",
          "size": [
           17823,
           31144,
           28023,
           30676,
           34488,
           7663,
           20916,
           5024,
           7879,
           6114,
           4646,
           7214,
           3705,
           21191,
           6607,
           4407,
           2459,
           1791,
           1286,
           1551,
           5591,
           2418,
           1577,
           1912,
           2615,
           2009,
           2204,
           2293,
           3589,
           5742,
           5789,
           3127,
           4425,
           5119,
           6112,
           14948,
           13384,
           13642,
           5623,
           6671,
           2981,
           1305,
           6418,
           2135,
           3208,
           1610
          ],
          "sizemode": "area",
          "sizeref": 189.1863888888889,
          "symbol": "circle"
         },
         "mode": "markers",
         "name": "Innlandet",
         "showlegend": true,
         "type": "scatter",
         "x": [
          73.37709700948213,
          88.66234266632416,
          86.34336081076259,
          77.40578954231322,
          54.19856181860357,
          61.45112880073078,
          62.14381334863263,
          29.47850318471338,
          39.05317933747938,
          37.749427543343145,
          27.034007748600946,
          31.77155530912115,
          38.35357624831309,
          73.29526685857203,
          43.06039049492962,
          51.35012480145223,
          47.17364782431883,
          15.019542155220547,
          0,
          35.783365570599614,
          50.25934537649795,
          29.528535980148884,
          34.812935954343686,
          36.24476987447699,
          46.347992351816444,
          11.249377799900447,
          28.992740471869325,
          37.679895333624074,
          50.65477848983003,
          60.240334378265416,
          52.92796683365003,
          38.695235049568275,
          46.779661016949156,
          57.042391092010156,
          44.56806282722513,
          43.16965480331817,
          73.4160191273162,
          47.21448467966574,
          36.599679886181754,
          44.46110028481487,
          21.938946662193896,
          19.080459770114942,
          53.583670925521965,
          28.57142857142857,
          27.026184538653364,
          0
         ],
         "xaxis": "x",
         "y": [
          24.005833193112345,
          22.037680512607988,
          20.38101958017287,
          20.04253926701571,
          19.860216290842153,
          20.862653114412304,
          20.091150778579568,
          25.259170653907496,
          20.961416824794433,
          25.66328201768752,
          28.946227233304423,
          27.016520894071917,
          27.36209721463681,
          20.320880775383458,
          25.592274030481367,
          21.64830119375574,
          27.821413807358415,
          30.39325842696629,
          29.02208201892745,
          21.830985915492956,
          21.351738974542847,
          20.394736842105264,
          28.09061488673139,
          24.061343204653625,
          27.262044653348998,
          24.050632911392405,
          26.12653618570778,
          24.461400359066428,
          24.53781512605042,
          24.55006115673598,
          24.568740198640878,
          22.731644757935236,
          24.681238615664842,
          21.137254901960784,
          22.617097936455945,
          22.106458291591533,
          21.240783495941017,
          21.621423330887747,
          22.787965105928432,
          23.126790290969396,
          25.761679079214623,
          26.348709929632523,
          23.60829564946203,
          22.400000000000002,
          22.143078352431093,
          22.9404309252218
         ],
         "yaxis": "y"
        },
        {
         "hoverlabel": {
          "namelength": 0
         },
         "hovertemplate": "<b>%{hovertext}</b><br><br>Fylke=Møre og Romsdal<br>Andel i tettebebyggelse=%{x}<br>andel over 65=%{y}<br>Befolkning=%{marker.size}",
         "hovertext": [
          "Kristiansund",
          "Molde",
          "Ålesund",
          "Vanylven",
          "Sande (Møre og Romsdal)",
          "Herøy (Møre og Romsdal)",
          "Ulstein",
          "Hareid",
          "Ørsta",
          "Stranda",
          "Sykkylven",
          "Sula",
          "Giske",
          "Vestnes",
          "Rauma",
          "Aukra",
          "Averøy",
          "Gjemnes",
          "Tingvoll",
          "Sunndal",
          "Surnadal",
          "Smøla",
          "Aure",
          "Volda",
          "Fjord",
          "Hustadvika"
         ],
         "legendgroup": "Møre og Romsdal",
         "marker": {
          "color": "#00cc96",
          "size": [
           24274,
           31976,
           65633,
           3163,
           2493,
           8927,
           8609,
           5155,
           10857,
           4565,
           7657,
           9271,
           8398,
           6536,
           7487,
           3539,
           5849,
           2641,
           3045,
           7106,
           5928,
           2134,
           3553,
           10349,
           2592,
           13233
          ],
          "sizemode": "area",
          "sizeref": 189.1863888888889,
          "symbol": "circle"
         },
         "mode": "markers",
         "name": "Møre og Romsdal",
         "showlegend": true,
         "type": "scatter",
         "x": [
          91.25813627749856,
          81.32036527395546,
          87.95575396523091,
          16.092317420170723,
          36.18130766145207,
          69.66506105074494,
          82.05366476942734,
          87.33268671193017,
          72.00884222160818,
          70.95290251916758,
          77.81115319315658,
          94.01359076690756,
          81.93617527982853,
          57.955936352509184,
          59.770268465339925,
          47.24498445888669,
          28.02188408274919,
          23.513820522529343,
          31.461412151067325,
          66.80270194202083,
          47.38529014844804,
          0,
          17.78778497044751,
          71.88134119238573,
          23.84259259259259,
          51.68895941963274
         ],
         "xaxis": "x",
         "y": [
          20.451631581124115,
          20.264647918165608,
          17.489208850252044,
          29.066410009624637,
          23.20195042665583,
          20.123595505617978,
          16.5441605413604,
          18.33816425120773,
          20.009237875288683,
          22.529294715896526,
          20.288524590163934,
          16.27282491944146,
          16.37910659418577,
          21.785058175137785,
          23.19228709159079,
          20.60416072955258,
          21.458189357290948,
          23.392925066565233,
          25.355371900826444,
          21.859010801591815,
          23.344594594594597,
          24.88372093023256,
          24.721984602224122,
          19.860593908144754,
          24.597881522165554,
          19.271029444988326
         ],
         "yaxis": "y"
        },
        {
         "hoverlabel": {
          "namelength": 0
         },
         "hovertemplate": "<b>%{hovertext}</b><br><br>Fylke=Nordland<br>Andel i tettebebyggelse=%{x}<br>andel over 65=%{y}<br>Befolkning=%{marker.size}",
         "hovertext": [
          "Bodø",
          "Narvik",
          "Bindal",
          "Sømna",
          "Brønnøy",
          "Vega",
          "Vevelstad",
          "Herøy (Nordland)",
          "Alstahaug",
          "Leirfjord",
          "Vefsn",
          "Grane",
          "Hattfjelldal",
          "Dønna",
          "Nesna",
          "Hemnes",
          "Rana",
          "Lurøy",
          "Træna",
          "Rødøy",
          "Meløy",
          "Gildeskål",
          "Beiarn",
          "Saltdal",
          "Fauske - Fuossko",
          "Sørfold",
          "Steigen",
          "Lødingen",
          "Evenes",
          "Røst",
          "Værøy",
          "Flakstad",
          "Vestvågøy",
          "Vågan",
          "Hadsel",
          "Bø (Nordland)",
          "Øksnes",
          "Sortland - Suortá",
          "Andøy",
          "Moskenes",
          "Hamarøy"
         ],
         "legendgroup": "Nordland",
         "marker": {
          "color": "#ab63fa",
          "size": [
           52024,
           0,
           1450,
           2014,
           7916,
           1232,
           497,
           1780,
           7415,
           2320,
           13403,
           1493,
           1359,
           1391,
           1792,
           4501,
           26315,
           1904,
           456,
           1238,
           6331,
           1978,
           1022,
           4657,
           9760,
           1975,
           2576,
           2077,
           1387,
           508,
           732,
           1292,
           11480,
           9595,
           8091,
           2616,
           4449,
           10518,
           4771,
           1039,
           0
          ],
          "sizemode": "area",
          "sizeref": 189.1863888888889,
          "symbol": "circle"
         },
         "mode": "markers",
         "name": "Nordland",
         "showlegend": true,
         "type": "scatter",
         "x": [
          90.58703675226818,
          null,
          36.689655172413794,
          47.318768619662364,
          71.3365336028297,
          26.704545454545453,
          0,
          48.59550561797753,
          81.61834120026973,
          31.551724137931036,
          73.52085354025219,
          55.99464166108506,
          39.882266372332595,
          19.626168224299064,
          74.33035714285714,
          58.40924239057988,
          83.27189815694472,
          25.787815126050422,
          82.45614035087719,
          0,
          56.15226662454589,
          33.26592517694641,
          0,
          55.5507837663732,
          73.73975409836065,
          44.81012658227848,
          0,
          80.9821858449687,
          53.352559480894016,
          69.68503937007874,
          84.97267759562843,
          0,
          62.76132404181185,
          73.99687337154768,
          69.6947225312075,
          36.92660550458716,
          53.652506181164306,
          66.53356151359574,
          64.38901697757284,
          71.99230028873917,
          null
         ],
         "xaxis": "x",
         "y": [
          16.293905303970817,
          21.387045090409703,
          28.962131837307155,
          23.189873417721518,
          18.908677529367186,
          26.916666666666668,
          28.13852813852814,
          22.566122678671917,
          20.93460453874043,
          20.619006102877073,
          21.61470100918813,
          24.898785425101213,
          27.679259830377795,
          24.945295404814004,
          19.988642816581486,
          24.27031881454872,
          19.93965780629392,
          25.608465608465607,
          18.620689655172416,
          22.91838417147568,
          21.962468193384225,
          27.025641025641022,
          31.268436578171094,
          24.405908798972384,
          22.01458055241811,
          26.791277258566975,
          26.495398773006134,
          29.547689282202555,
          29.673590504451035,
          23.09236947791165,
          22.939560439560438,
          26.022012578616355,
          19.86355287326161,
          20.295587010824313,
          22.92519538518794,
          29.155313351498634,
          21.58730158730159,
          18.77720991860685,
          26.356422903710058,
          25.320197044334975,
          26.35574837310195
         ],
         "yaxis": "y"
        },
        {
         "hoverlabel": {
          "namelength": 0
         },
         "hovertemplate": "<b>%{hovertext}</b><br><br>Fylke=Oslo<br>Andel i tettebebyggelse=%{x}<br>andel over 65=%{y}<br>Befolkning=%{marker.size}",
         "hovertext": [
          "Oslo kommune"
         ],
         "legendgroup": "Oslo",
         "marker": {
          "color": "#FFA15A",
          "size": [
           681071
          ],
          "sizemode": "area",
          "sizeref": 189.1863888888889,
          "symbol": "circle"
         },
         "mode": "markers",
         "name": "Oslo",
         "showlegend": true,
         "type": "scatter",
         "x": [
          99.42267399434127
         ],
         "xaxis": "x",
         "y": [
          12.59996481584556
         ],
         "yaxis": "y"
        },
        {
         "hoverlabel": {
          "namelength": 0
         },
         "hovertemplate": "<b>%{hovertext}</b><br><br>Fylke=Rogaland<br>Andel i tettebebyggelse=%{x}<br>andel over 65=%{y}<br>Befolkning=%{marker.size}",
         "hovertext": [
          "Eigersund",
          "Stavanger",
          "Haugesund",
          "Sandnes",
          "Sokndal",
          "Lund",
          "Bjerkreim",
          "Hå",
          "Klepp",
          "Time",
          "Gjesdal",
          "Sola",
          "Randaberg",
          "Strand",
          "Hjelmeland",
          "Suldal",
          "Sauda",
          "Kvitsøy",
          "Bokn",
          "Tysvær",
          "Karmøy",
          "Utsira",
          "Vindafjord"
         ],
         "legendgroup": "Rogaland",
         "marker": {
          "color": "#19d3f3",
          "size": [
           14830,
           142034,
           37250,
           78439,
           3305,
           3213,
           2807,
           18814,
           19354,
           18795,
           11899,
           26582,
           11053,
           12720,
           2684,
           3794,
           4597,
           516,
           840,
           11028,
           42161,
           196,
           8743
          ],
          "sizemode": "area",
          "sizeref": 189.1863888888889,
          "symbol": "circle"
         },
         "mode": "markers",
         "name": "Rogaland",
         "showlegend": true,
         "type": "scatter",
         "x": [
          82.80512474713419,
          95.8488812537843,
          97.53557046979866,
          93.82577544333813,
          65.50680786686837,
          59.943977591036415,
          36.23085144282152,
          79.86074200063781,
          81.28552237263614,
          88.17770683692471,
          89.52853180939574,
          89.38755548867655,
          86.93567357278566,
          82.09119496855347,
          22.056631892697467,
          30.91723774380601,
          90.79834674787905,
          72.48062015503875,
          32.857142857142854,
          59.2310482408415,
          87.92960318778017,
          0,
          42.67413931144916
         ],
         "xaxis": "x",
         "y": [
          18.141921544797786,
          14.437850864362629,
          16.97673796075702,
          12.939889611124384,
          20.426829268292682,
          18.425983760149904,
          15.536419088625763,
          14.422621241640776,
          13.37043087604656,
          14.331782617889619,
          11.648058656890518,
          13.07406179795971,
          14.891720880491935,
          16.15515114127082,
          21.6006216006216,
          21.58254468980021,
          22.023939064200217,
          23.404255319148938,
          21.12676056338028,
          16.484410302756437,
          17.301948513724934,
          21.21212121212121,
          18.223548313059446
         ],
         "yaxis": "y"
        },
        {
         "hoverlabel": {
          "namelength": 0
         },
         "hovertemplate": "<b>%{hovertext}</b><br><br>Fylke=Troms og Finnmark <br>Andel i tettebebyggelse=%{x}<br>andel over 65=%{y}<br>Befolkning=%{marker.size}",
         "hovertext": [
          "Tromsø",
          "Harstad",
          "Alta",
          "Vardø",
          "Vadsø",
          "Hammerfest",
          "Kvæfjord",
          "Tjeldsund",
          "Ibestad",
          "Gratangen",
          "Loabák - Lavangen",
          "Bardu",
          "Salangen",
          "Målselv",
          "Sørreisa",
          "Dyrøy",
          "Senja",
          "Balsfjord",
          "Karlsøy",
          "Lyngen",
          "Storfjord - Omasvuotna - Omasvuono",
          "Gáivuotna - Kåfjord - Kaivuono",
          "Skjervøy",
          "Nordreisa",
          "Kvænangen",
          "Guovdageaidnu - Kautokeino",
          "Loppa",
          "Hasvik",
          "Måsøy",
          "Nordkapp",
          "Porsanger - Porsángu - Porsanki ",
          "Kárásjohka - Karasjok",
          "Lebesby",
          "Gamvik",
          "Berlevåg",
          "Deatnu-Tana",
          "Unjárga-Nesseby",
          "Båtsfjord",
          "Sør-Varanger"
         ],
         "legendgroup": "Troms og Finnmark ",
         "marker": {
          "color": "#FF6692",
          "size": [
           76649,
           24827,
           20665,
           2081,
           5894,
           11524,
           2858,
           4268,
           1375,
           1105,
           1042,
           4030,
           2183,
           6805,
           3489,
           1129,
           15011,
           5625,
           2252,
           2847,
           1841,
           2097,
           2917,
           4909,
           1202,
           2924,
           917,
           1045,
           1235,
           3218,
           3944,
           2673,
           1328,
           1169,
           981,
           2900,
           941,
           2270,
           10156
          ],
          "sizemode": "area",
          "sizeref": 189.1863888888889,
          "symbol": "circle"
         },
         "mode": "markers",
         "name": "Troms og Finnmark ",
         "showlegend": true,
         "type": "scatter",
         "x": [
          89.9515975420423,
          84.86728158859307,
          80.58069199128963,
          98.89476213358962,
          91.68646080760095,
          90.40263797292607,
          60.916724982505244,
          34.98125585754452,
          34.763636363636365,
          0,
          28.023032629558543,
          62.33250620347395,
          36.92166743014201,
          55.84129316678913,
          44.88392089423904,
          0,
          54.13363533408834,
          27.12888888888889,
          20.33747779751332,
          37.75904460835967,
          28.517110266159694,
          26.657129232236525,
          86.11587247171751,
          54.532491342432266,
          31.94675540765391,
          50,
          52.88985823336968,
          68.51674641148325,
          81.53846153846153,
          89.1547545059043,
          57.505070993914806,
          69.09839132061354,
          69.65361445783132,
          86.56971770744227,
          94.69928644240571,
          26.103448275862068,
          0,
          98.1057268722467,
          79.40133910988578
         ],
         "xaxis": "x",
         "y": [
          14.043703068568608,
          20.086629154353723,
          14.603877050363174,
          24.396254312469196,
          19.678645473393228,
          16.867575122292102,
          23.21239873194787,
          27.016129032258064,
          31.741366642174874,
          26.03116406966086,
          25.241779497098648,
          20.44943820224719,
          23.951537744641193,
          20.210843373493976,
          20.75635103926097,
          28.99353647276085,
          21.04908760352838,
          23.90717754991905,
          28.454545454545453,
          28.131710808876164,
          25.642427556041554,
          27.764365041042975,
          21.557909121967885,
          21.25077144620448,
          28.043660789252726,
          18.10996563573883,
          29.504504504504503,
          22.388059701492537,
          27.10204081632653,
          21.094244149272612,
          22.336168084042022,
          19.863013698630137,
          22.48062015503876,
          20.936395759717314,
          25.287356321839084,
          23.098012337217273,
          27.5377969762419,
          17.829806393516435,
          18.113801929513684
         ],
         "yaxis": "y"
        },
        {
         "hoverlabel": {
          "namelength": 0
         },
         "hovertemplate": "<b>%{hovertext}</b><br><br>Fylke=Trøndelag <br>Andel i tettebebyggelse=%{x}<br>andel over 65=%{y}<br>Befolkning=%{marker.size}",
         "hovertext": [
          "Trondheim",
          "Steinkjer",
          "Namsos",
          "Frøya",
          "Osen",
          "Oppdal",
          "Rennebu",
          "Røros",
          "Holtålen",
          "Midtre Gauldal",
          "Melhus",
          "Skaun",
          "Malvik",
          "Selbu",
          "Tydal",
          "Meråker",
          "Stjørdal",
          "Frosta",
          "Levanger",
          "Verdal",
          "Snåase - Snåsa",
          "Lierne",
          "Raarvihke - Røyrvik",
          "Namsskogan",
          "Grong",
          "Høylandet",
          "Overhalla",
          "Flatanger",
          "Leka",
          "Inderøy",
          "Indre Fosen",
          "Heim",
          "Hitra",
          "Ørland",
          "Åfjord",
          "Orkland",
          "Nærøysund",
          "Rindal"
         ],
         "legendgroup": "Trøndelag ",
         "marker": {
          "color": "#B6E880",
          "size": [
           202235,
           24539,
           15294,
           5068,
           947,
           6975,
           2501,
           5610,
           2025,
           6246,
           16562,
           8231,
           14040,
           4088,
           794,
           2432,
           24028,
           2632,
           20254,
           14933,
           2100,
           1386,
           482,
           871,
           2374,
           1254,
           3879,
           1103,
           567,
           6804,
           9988,
           0,
           0,
           10238,
           4297,
           0,
           9650,
           2028
          ],
          "sizemode": "area",
          "sizeref": 189.1863888888889,
          "symbol": "circle"
         },
         "mode": "markers",
         "name": "Trøndelag ",
         "showlegend": true,
         "type": "scatter",
         "x": [
          96.42396222216728,
          65.62614613472432,
          72.4074800575389,
          31.215469613259668,
          0,
          61.99283154121864,
          39.54418232706917,
          68.64527629233511,
          30.765432098765434,
          41.96285622798591,
          63.47059533872721,
          65.44769772810109,
          87.42877492877493,
          30.063600782778867,
          0,
          42.680921052631575,
          69.81438321957715,
          22.56838905775076,
          66.50044435667029,
          67.72249380566531,
          32.42857142857143,
          17.604617604617605,
          51.867219917012456,
          27.210103329506314,
          55.30749789385004,
          26.555023923444978,
          48.33720030935808,
          44.51495920217589,
          0,
          48.51557907113463,
          35.482579094913895,
          null,
          null,
          50.957218206680984,
          28.438445427042126,
          null,
          53.212435233160626,
          34.566074950690336
         ],
         "xaxis": "x",
         "y": [
          14.659563371563097,
          21.808925565545838,
          20.82731451083388,
          16.55989128324597,
          29.219409282700422,
          21.868304527924582,
          25.94529364440869,
          25.01343845189034,
          26.905603230691572,
          20.407181789034947,
          17.307117671666767,
          14.846846846846848,
          14.32004523607577,
          22.895125553914326,
          28.088426527958386,
          24.483897605284888,
          18.517291364671777,
          22.154548915112297,
          18.890101170402698,
          20.524484880920525,
          24.43044110518662,
          27.084870848708487,
          27.765726681127983,
          28.46975088967972,
          23.993217465027556,
          25.995125913891144,
          18.717816683831103,
          25.385312783318227,
          30.700179533213646,
          21.40551643192488,
          22.90757635858786,
          24.098608083179606,
          20.594059405940595,
          20.778843359488523,
          25.02332089552239,
          21.27133995718285,
          19.44300114309467,
          25.012481278082877
         ],
         "yaxis": "y"
        },
        {
         "hoverlabel": {
          "namelength": 0
         },
         "hovertemplate": "<b>%{hovertext}</b><br><br>Fylke=Vestfold og Telemark<br>Andel i tettebebyggelse=%{x}<br>andel over 65=%{y}<br>Befolkning=%{marker.size}",
         "hovertext": [
          "Horten",
          "Holmestrand",
          "Tønsberg",
          "Sandefjord",
          "Larvik",
          "Porsgrunn",
          "Skien",
          "Notodden",
          "Færder",
          "Siljan",
          "Bamble",
          "Kragerø",
          "Drangedal",
          "Nome",
          "Midt-Telemark",
          "Tinn",
          "Hjartdal",
          "Seljord",
          "Kviteseid",
          "Nissedal",
          "Fyresdal",
          "Tokke",
          "Vinje"
         ],
         "legendgroup": "Vestfold og Telemark",
         "marker": {
          "color": "#FF97FF",
          "size": [
           27334,
           24275,
           55706,
           63271,
           47107,
           36224,
           54645,
           12682,
           26700,
           2329,
           14089,
           10406,
           4080,
           6538,
           10923,
           5780,
           1572,
           2934,
           2403,
           1476,
           1286,
           2228,
           3723
          ],
          "sizemode": "area",
          "sizeref": 189.1863888888889,
          "symbol": "circle"
         },
         "mode": "markers",
         "name": "Vestfold og Telemark",
         "showlegend": true,
         "type": "scatter",
         "x": [
          94.57818101997513,
          73.37590113285273,
          87.29400782680501,
          87.21373140933444,
          81.18750928736705,
          95.34562720848056,
          90.6359227742703,
          73.75808232140041,
          87.83520599250937,
          50.79433233147274,
          83.50486194903826,
          76.79223524889487,
          38.995098039215684,
          58.74885286020189,
          51.66163141993958,
          67.0242214532872,
          0,
          48.670756646216766,
          32.8755722014149,
          38.482384823848236,
          30.093312597200622,
          27.244165170556556,
          31.641149610529144
         ],
         "xaxis": "x",
         "y": [
          20.342949069503856,
          19.494716385278757,
          18.075071500897092,
          19.10011918951132,
          21.468519616981613,
          19.878011924059674,
          19.658913035564776,
          21.53421718139321,
          21.608679386457162,
          20.384615384615383,
          21.406727828746178,
          25.134874759152215,
          22.364532019704434,
          22.225633154259402,
          19.149751053236308,
          24.442101563872782,
          24.157660521296883,
          24.272853185595565,
          23.88680815647108,
          22.582872928176794,
          22.455322455322456,
          23.489323034984096,
          21.92600652883569
         ],
         "yaxis": "y"
        },
        {
         "hoverlabel": {
          "namelength": 0
         },
         "hovertemplate": "<b>%{hovertext}</b><br><br>Fylke=Vestland<br>Andel i tettebebyggelse=%{x}<br>andel over 65=%{y}<br>Befolkning=%{marker.size}",
         "hovertext": [
          "Bergen",
          "Kinn",
          "Etne",
          "Sveio",
          "Bømlo",
          "Stord",
          "Fitjar",
          "Tysnes",
          "Kvinnherad",
          "Ullensvang",
          "Eidfjord",
          "Ulvik",
          "Voss",
          "Kvam",
          "Samnanger",
          "Bjørnafjorden",
          "Austevoll",
          "Øygarden",
          "Askøy",
          "Vaksdal",
          "Modalen",
          "Osterøy",
          "Alver",
          "Austrheim",
          "Fedje",
          "Masfjorden",
          "Gulen",
          "Solund",
          "Hyllestad",
          "Høyanger",
          "Vik",
          "Sogndal",
          "Aurland",
          "Lærdal",
          "Årdal",
          "Luster",
          "Askvoll",
          "Fjaler",
          "Sunnfjord",
          "Bremanger",
          "Stad",
          "Gloppen",
          "Stryn"
         ],
         "legendgroup": "Vestland",
         "marker": {
          "color": "#FECB52",
          "size": [
           281190,
           17822,
           4077,
           5721,
           11960,
           18699,
           3201,
           2846,
           13137,
           11152,
           906,
           1093,
           15543,
           8441,
           2465,
           24665,
           5212,
           38117,
           29275,
           4045,
           380,
           8120,
           29090,
           2887,
           562,
           1711,
           2322,
           820,
           1366,
           4091,
           2672,
           11801,
           1764,
           2151,
           5245,
           5195,
           3038,
           2770,
           21959,
           3705,
           8898,
           5836,
           7167
          ],
          "sizemode": "area",
          "sizeref": 189.1863888888889,
          "symbol": "circle"
         },
         "mode": "markers",
         "name": "Vestland",
         "showlegend": true,
         "type": "scatter",
         "x": [
          97.75987766279029,
          82.83020985299069,
          45.47461368653421,
          33.106100332109776,
          59.54013377926422,
          93.82854698112199,
          54.70165573258357,
          38.615600843288824,
          63.06614904468296,
          63.80021520803444,
          60.04415011037527,
          48.85635864592864,
          61.44888374187737,
          69.71922757967064,
          43.32657200811359,
          75.52807622136632,
          41.53875671527245,
          71.89180680536244,
          87.91460290350128,
          72.95426452410383,
          0,
          49.02709359605911,
          54.65795806118942,
          38.58676827156218,
          78.29181494661923,
          0,
          26.22739018087855,
          40.731707317073166,
          0,
          65.90075776093865,
          46.5943113772455,
          74.39200067790865,
          46.71201814058957,
          52.76615527661552,
          93.97521448999046,
          44.6390760346487,
          24.45687952600395,
          42.81588447653429,
          67.75809463090305,
          54.1970310391363,
          53.34906720611373,
          53.82111034955449,
          48.318682851960375
         ],
         "xaxis": "x",
         "y": [
          15.672227916133963,
          18.57964781774859,
          21.270310192023633,
          17.568505029483177,
          17.79710629756628,
          17.015832400447785,
          18.5010975227344,
          26.768909027535727,
          22.1712187284829,
          24.08580738595221,
          22.40618101545254,
          25.833333333333336,
          21.556543837357054,
          22.667612628591698,
          22.374245472837025,
          16.82993415770034,
          18.048128342245988,
          14.962417788913248,
          14.743004094338986,
          23.03243650993211,
          17.525773195876287,
          18.91825142010373,
          18.033123460169723,
          22.473867595818817,
          27.37226277372263,
          24.659964518036663,
          22.59468872442316,
          26.184538653366584,
          27.03313253012048,
          23.603999024628138,
          26.451612903225808,
          17.768211361526127,
          21.055586749017404,
          23.847601128880527,
          23.377623724244177,
          21.24081948202551,
          26.36997675190966,
          23.09064953604568,
          16.73172945982751,
          25.98511986773216,
          21.39156180606958,
          22.80491971301674,
          20.112201963534364
         ],
         "yaxis": "y"
        },
        {
         "hoverlabel": {
          "namelength": 0
         },
         "hovertemplate": "<b>%{hovertext}</b><br><br>Fylke=Viken<br>Andel i tettebebyggelse=%{x}<br>andel over 65=%{y}<br>Befolkning=%{marker.size}",
         "hovertext": [
          "Halden",
          "Moss",
          "Sarpsborg",
          "Fredrikstad",
          "Drammen",
          "Kongsberg",
          "Ringerike",
          "Hvaler",
          "Aremark",
          "Marker",
          "Indre Østfold",
          "Skiptvet",
          "Rakkestad",
          "Råde",
          "Våler (Viken)",
          "Vestby",
          "Nordre Follo",
          "Ås",
          "Frogn",
          "Nesodden",
          "Bærum",
          "Asker",
          "Aurskog-Høland",
          "Rælingen",
          "Enebakk",
          "Lørenskog",
          "Lillestrøm",
          "Nittedal",
          "Gjerdrum",
          "Ullensaker",
          "Nes",
          "Eidsvoll",
          "Nannestad",
          "Hurdal",
          "Hole",
          "Flå",
          "Nesbyen",
          "Gol",
          "Hemsedal",
          "Ål",
          "Hol",
          "Sigdal",
          "Krødsherad",
          "Modum",
          "Øvre Eiker",
          "Lier",
          "Flesberg",
          "Rollag",
          "Nore og Uvdal",
          "Jevnaker",
          "Lunner"
         ],
         "legendgroup": "Viken",
         "marker": {
          "color": "#636efa",
          "size": [
           31177,
           48871,
           55997,
           81772,
           100581,
           27481,
           30442,
           4599,
           1357,
           3592,
           44320,
           3797,
           8230,
           7542,
           5593,
           17824,
           58237,
           20335,
           15761,
           19488,
           126841,
           93679,
           17173,
           18161,
           11026,
           40106,
           85757,
           24089,
           6823,
           38234,
           21885,
           24919,
           13682,
           2864,
           6845,
           1052,
           3315,
           4576,
           2481,
           4671,
           4473,
           3490,
           2239,
           13980,
           19117,
           26373,
           2694,
           1419,
           2448,
           6846,
           9051
          ],
          "sizemode": "area",
          "sizeref": 189.1863888888889,
          "symbol": "circle"
         },
         "mode": "markers",
         "name": "Viken",
         "showlegend": true,
         "type": "scatter",
         "x": [
          86.87173236680886,
          95.96897955842934,
          91.03523403039449,
          92.54267964584454,
          97.31161949075869,
          84.83315745424112,
          69.79830497339202,
          61.274190041313325,
          0,
          51.44766146993318,
          76.67193140794224,
          45.29892020015802,
          61.39732685297692,
          76.23972421108459,
          67.5487216163061,
          84.40305206463195,
          93.73250682555764,
          84.34718465699534,
          84.97557261595077,
          89.15229885057471,
          98.85289456879084,
          94.28687325868124,
          57.32836429278518,
          96.34381366664832,
          78.72301832033376,
          99.07495137884605,
          92.01114777802395,
          93.38702312258708,
          73.76520592114906,
          90.9844640895538,
          67.10532328078592,
          80.58509571010073,
          75.46411343370852,
          38.582402234636874,
          64.7918188458729,
          0,
          64.13273001508296,
          63.70192307692307,
          56.6303909713825,
          58.01755512738171,
          63.22378716744914,
          14.355300859598854,
          43.501563197856186,
          71.47353361945636,
          78.92451744520584,
          83.66511204641111,
          35.374907201187824,
          22.832980972515855,
          19.77124183006536,
          72.36342389716623,
          63.7719588995691
         ],
         "xaxis": "x",
         "y": [
          20.278583495362255,
          20.06575609360096,
          18.913487978565886,
          19.065363840504943,
          17.587240841930836,
          19.204270822061105,
          20.864201560001305,
          27.485004284490145,
          23.471698113207548,
          26.091794158553544,
          19.063672084300766,
          17.897503285151117,
          20.327074500302846,
          21.09749600426212,
          14.539748953974897,
          17.2209289435761,
          16.919106733234383,
          14.18856108420177,
          20.463563645524975,
          16.38458401305057,
          16.631827825664875,
          16.82002520091909,
          19.54571592869465,
          13.847814355099839,
          15.445544554455445,
          15.496864447660396,
          15.19486410104323,
          14.55317745061652,
          15.486211901306241,
          13.226498422712934,
          16.616144119175473,
          16.25255543324422,
          13.303628262253342,
          21.723896285914506,
          18.399764671275186,
          24.666666666666668,
          25.90895203177513,
          22.28732638888889,
          15.929203539823009,
          22.95678219940094,
          23.350596712452152,
          24.603403518892414,
          22.016274864376133,
          20.885582713425435,
          17.95809092313237,
          16.571556450710528,
          21.465773809523807,
          25.827338129496404,
          24.846248462484624,
          19.994162288382956,
          18.85499557913351
         ],
         "yaxis": "y"
        }
       ],
       "layout": {
        "autosize": true,
        "legend": {
         "itemsizing": "constant",
         "title": {
          "text": "Fylke"
         },
         "tracegroupgap": 0
        },
        "margin": {
         "b": 100,
         "l": 100,
         "r": 100,
         "t": 120
        },
        "paper_bgcolor": "rgba(0, 0, 0, 0)",
        "shapes": [
         {
          "fillcolor": "rgb(200,33,72)",
          "layer": "below",
          "line": {
           "width": 0
          },
          "opacity": 0.1,
          "type": "rect",
          "x0": -1,
          "x1": 110,
          "y0": 8,
          "y1": 20.087025
         },
         {
          "fillcolor": "rgb(200,33,72)",
          "layer": "below",
          "line": {
           "width": 0
          },
          "opacity": 0.4,
          "type": "rect",
          "x0": -1,
          "x1": 110,
          "y0": 20.087025,
          "y1": 23.191483
         },
         {
          "fillcolor": "rgb(200,33,72)",
          "layer": "below",
          "line": {
           "width": 0
          },
          "opacity": 0.7,
          "type": "rect",
          "x0": -1,
          "x1": 110,
          "y0": 23.191483,
          "y1": 35
         },
         {
          "fillcolor": "rgb(9,28,87)",
          "layer": "below",
          "line": {
           "width": 0
          },
          "opacity": 0.1,
          "type": "rect",
          "x0": -1,
          "x1": 44.550362,
          "y0": 8,
          "y1": 35
         },
         {
          "fillcolor": "rgb(9,28,87)",
          "layer": "below",
          "line": {
           "width": 0
          },
          "opacity": 0.35,
          "type": "rect",
          "x0": 44.550362,
          "x1": 69.745587,
          "y0": 8,
          "y1": 35
         },
         {
          "fillcolor": "rgb(9,28,87)",
          "layer": "below",
          "line": {
           "width": 0
          },
          "opacity": 0.7,
          "type": "rect",
          "x0": 69.745587,
          "x1": 110,
          "y0": 8,
          "y1": 35
         }
        ],
        "template": {
         "data": {
          "bar": [
           {
            "error_x": {
             "color": "#2a3f5f"
            },
            "error_y": {
             "color": "#2a3f5f"
            },
            "marker": {
             "line": {
              "color": "white",
              "width": 0.5
             }
            },
            "type": "bar"
           }
          ],
          "barpolar": [
           {
            "marker": {
             "line": {
              "color": "white",
              "width": 0.5
             }
            },
            "type": "barpolar"
           }
          ],
          "carpet": [
           {
            "aaxis": {
             "endlinecolor": "#2a3f5f",
             "gridcolor": "#C8D4E3",
             "linecolor": "#C8D4E3",
             "minorgridcolor": "#C8D4E3",
             "startlinecolor": "#2a3f5f"
            },
            "baxis": {
             "endlinecolor": "#2a3f5f",
             "gridcolor": "#C8D4E3",
             "linecolor": "#C8D4E3",
             "minorgridcolor": "#C8D4E3",
             "startlinecolor": "#2a3f5f"
            },
            "type": "carpet"
           }
          ],
          "choropleth": [
           {
            "colorbar": {
             "outlinewidth": 0,
             "ticks": ""
            },
            "type": "choropleth"
           }
          ],
          "contour": [
           {
            "colorbar": {
             "outlinewidth": 0,
             "ticks": ""
            },
            "colorscale": [
             [
              0,
              "#0d0887"
             ],
             [
              0.1111111111111111,
              "#46039f"
             ],
             [
              0.2222222222222222,
              "#7201a8"
             ],
             [
              0.3333333333333333,
              "#9c179e"
             ],
             [
              0.4444444444444444,
              "#bd3786"
             ],
             [
              0.5555555555555556,
              "#d8576b"
             ],
             [
              0.6666666666666666,
              "#ed7953"
             ],
             [
              0.7777777777777778,
              "#fb9f3a"
             ],
             [
              0.8888888888888888,
              "#fdca26"
             ],
             [
              1,
              "#f0f921"
             ]
            ],
            "type": "contour"
           }
          ],
          "contourcarpet": [
           {
            "colorbar": {
             "outlinewidth": 0,
             "ticks": ""
            },
            "type": "contourcarpet"
           }
          ],
          "heatmap": [
           {
            "colorbar": {
             "outlinewidth": 0,
             "ticks": ""
            },
            "colorscale": [
             [
              0,
              "#0d0887"
             ],
             [
              0.1111111111111111,
              "#46039f"
             ],
             [
              0.2222222222222222,
              "#7201a8"
             ],
             [
              0.3333333333333333,
              "#9c179e"
             ],
             [
              0.4444444444444444,
              "#bd3786"
             ],
             [
              0.5555555555555556,
              "#d8576b"
             ],
             [
              0.6666666666666666,
              "#ed7953"
             ],
             [
              0.7777777777777778,
              "#fb9f3a"
             ],
             [
              0.8888888888888888,
              "#fdca26"
             ],
             [
              1,
              "#f0f921"
             ]
            ],
            "type": "heatmap"
           }
          ],
          "heatmapgl": [
           {
            "colorbar": {
             "outlinewidth": 0,
             "ticks": ""
            },
            "colorscale": [
             [
              0,
              "#0d0887"
             ],
             [
              0.1111111111111111,
              "#46039f"
             ],
             [
              0.2222222222222222,
              "#7201a8"
             ],
             [
              0.3333333333333333,
              "#9c179e"
             ],
             [
              0.4444444444444444,
              "#bd3786"
             ],
             [
              0.5555555555555556,
              "#d8576b"
             ],
             [
              0.6666666666666666,
              "#ed7953"
             ],
             [
              0.7777777777777778,
              "#fb9f3a"
             ],
             [
              0.8888888888888888,
              "#fdca26"
             ],
             [
              1,
              "#f0f921"
             ]
            ],
            "type": "heatmapgl"
           }
          ],
          "histogram": [
           {
            "marker": {
             "colorbar": {
              "outlinewidth": 0,
              "ticks": ""
             }
            },
            "type": "histogram"
           }
          ],
          "histogram2d": [
           {
            "colorbar": {
             "outlinewidth": 0,
             "ticks": ""
            },
            "colorscale": [
             [
              0,
              "#0d0887"
             ],
             [
              0.1111111111111111,
              "#46039f"
             ],
             [
              0.2222222222222222,
              "#7201a8"
             ],
             [
              0.3333333333333333,
              "#9c179e"
             ],
             [
              0.4444444444444444,
              "#bd3786"
             ],
             [
              0.5555555555555556,
              "#d8576b"
             ],
             [
              0.6666666666666666,
              "#ed7953"
             ],
             [
              0.7777777777777778,
              "#fb9f3a"
             ],
             [
              0.8888888888888888,
              "#fdca26"
             ],
             [
              1,
              "#f0f921"
             ]
            ],
            "type": "histogram2d"
           }
          ],
          "histogram2dcontour": [
           {
            "colorbar": {
             "outlinewidth": 0,
             "ticks": ""
            },
            "colorscale": [
             [
              0,
              "#0d0887"
             ],
             [
              0.1111111111111111,
              "#46039f"
             ],
             [
              0.2222222222222222,
              "#7201a8"
             ],
             [
              0.3333333333333333,
              "#9c179e"
             ],
             [
              0.4444444444444444,
              "#bd3786"
             ],
             [
              0.5555555555555556,
              "#d8576b"
             ],
             [
              0.6666666666666666,
              "#ed7953"
             ],
             [
              0.7777777777777778,
              "#fb9f3a"
             ],
             [
              0.8888888888888888,
              "#fdca26"
             ],
             [
              1,
              "#f0f921"
             ]
            ],
            "type": "histogram2dcontour"
           }
          ],
          "mesh3d": [
           {
            "colorbar": {
             "outlinewidth": 0,
             "ticks": ""
            },
            "type": "mesh3d"
           }
          ],
          "parcoords": [
           {
            "line": {
             "colorbar": {
              "outlinewidth": 0,
              "ticks": ""
             }
            },
            "type": "parcoords"
           }
          ],
          "pie": [
           {
            "automargin": true,
            "type": "pie"
           }
          ],
          "scatter": [
           {
            "marker": {
             "colorbar": {
              "outlinewidth": 0,
              "ticks": ""
             }
            },
            "type": "scatter"
           }
          ],
          "scatter3d": [
           {
            "line": {
             "colorbar": {
              "outlinewidth": 0,
              "ticks": ""
             }
            },
            "marker": {
             "colorbar": {
              "outlinewidth": 0,
              "ticks": ""
             }
            },
            "type": "scatter3d"
           }
          ],
          "scattercarpet": [
           {
            "marker": {
             "colorbar": {
              "outlinewidth": 0,
              "ticks": ""
             }
            },
            "type": "scattercarpet"
           }
          ],
          "scattergeo": [
           {
            "marker": {
             "colorbar": {
              "outlinewidth": 0,
              "ticks": ""
             }
            },
            "type": "scattergeo"
           }
          ],
          "scattergl": [
           {
            "marker": {
             "colorbar": {
              "outlinewidth": 0,
              "ticks": ""
             }
            },
            "type": "scattergl"
           }
          ],
          "scattermapbox": [
           {
            "marker": {
             "colorbar": {
              "outlinewidth": 0,
              "ticks": ""
             }
            },
            "type": "scattermapbox"
           }
          ],
          "scatterpolar": [
           {
            "marker": {
             "colorbar": {
              "outlinewidth": 0,
              "ticks": ""
             }
            },
            "type": "scatterpolar"
           }
          ],
          "scatterpolargl": [
           {
            "marker": {
             "colorbar": {
              "outlinewidth": 0,
              "ticks": ""
             }
            },
            "type": "scatterpolargl"
           }
          ],
          "scatterternary": [
           {
            "marker": {
             "colorbar": {
              "outlinewidth": 0,
              "ticks": ""
             }
            },
            "type": "scatterternary"
           }
          ],
          "surface": [
           {
            "colorbar": {
             "outlinewidth": 0,
             "ticks": ""
            },
            "colorscale": [
             [
              0,
              "#0d0887"
             ],
             [
              0.1111111111111111,
              "#46039f"
             ],
             [
              0.2222222222222222,
              "#7201a8"
             ],
             [
              0.3333333333333333,
              "#9c179e"
             ],
             [
              0.4444444444444444,
              "#bd3786"
             ],
             [
              0.5555555555555556,
              "#d8576b"
             ],
             [
              0.6666666666666666,
              "#ed7953"
             ],
             [
              0.7777777777777778,
              "#fb9f3a"
             ],
             [
              0.8888888888888888,
              "#fdca26"
             ],
             [
              1,
              "#f0f921"
             ]
            ],
            "type": "surface"
           }
          ],
          "table": [
           {
            "cells": {
             "fill": {
              "color": "#EBF0F8"
             },
             "line": {
              "color": "white"
             }
            },
            "header": {
             "fill": {
              "color": "#C8D4E3"
             },
             "line": {
              "color": "white"
             }
            },
            "type": "table"
           }
          ]
         },
         "layout": {
          "annotationdefaults": {
           "arrowcolor": "#2a3f5f",
           "arrowhead": 0,
           "arrowwidth": 1
          },
          "coloraxis": {
           "colorbar": {
            "outlinewidth": 0,
            "ticks": ""
           }
          },
          "colorscale": {
           "diverging": [
            [
             0,
             "#8e0152"
            ],
            [
             0.1,
             "#c51b7d"
            ],
            [
             0.2,
             "#de77ae"
            ],
            [
             0.3,
             "#f1b6da"
            ],
            [
             0.4,
             "#fde0ef"
            ],
            [
             0.5,
             "#f7f7f7"
            ],
            [
             0.6,
             "#e6f5d0"
            ],
            [
             0.7,
             "#b8e186"
            ],
            [
             0.8,
             "#7fbc41"
            ],
            [
             0.9,
             "#4d9221"
            ],
            [
             1,
             "#276419"
            ]
           ],
           "sequential": [
            [
             0,
             "#0d0887"
            ],
            [
             0.1111111111111111,
             "#46039f"
            ],
            [
             0.2222222222222222,
             "#7201a8"
            ],
            [
             0.3333333333333333,
             "#9c179e"
            ],
            [
             0.4444444444444444,
             "#bd3786"
            ],
            [
             0.5555555555555556,
             "#d8576b"
            ],
            [
             0.6666666666666666,
             "#ed7953"
            ],
            [
             0.7777777777777778,
             "#fb9f3a"
            ],
            [
             0.8888888888888888,
             "#fdca26"
            ],
            [
             1,
             "#f0f921"
            ]
           ],
           "sequentialminus": [
            [
             0,
             "#0d0887"
            ],
            [
             0.1111111111111111,
             "#46039f"
            ],
            [
             0.2222222222222222,
             "#7201a8"
            ],
            [
             0.3333333333333333,
             "#9c179e"
            ],
            [
             0.4444444444444444,
             "#bd3786"
            ],
            [
             0.5555555555555556,
             "#d8576b"
            ],
            [
             0.6666666666666666,
             "#ed7953"
            ],
            [
             0.7777777777777778,
             "#fb9f3a"
            ],
            [
             0.8888888888888888,
             "#fdca26"
            ],
            [
             1,
             "#f0f921"
            ]
           ]
          },
          "colorway": [
           "#636efa",
           "#EF553B",
           "#00cc96",
           "#ab63fa",
           "#FFA15A",
           "#19d3f3",
           "#FF6692",
           "#B6E880",
           "#FF97FF",
           "#FECB52"
          ],
          "font": {
           "color": "#2a3f5f"
          },
          "geo": {
           "bgcolor": "white",
           "lakecolor": "white",
           "landcolor": "white",
           "showlakes": true,
           "showland": true,
           "subunitcolor": "#C8D4E3"
          },
          "hoverlabel": {
           "align": "left"
          },
          "hovermode": "closest",
          "mapbox": {
           "style": "light"
          },
          "paper_bgcolor": "white",
          "plot_bgcolor": "white",
          "polar": {
           "angularaxis": {
            "gridcolor": "#EBF0F8",
            "linecolor": "#EBF0F8",
            "ticks": ""
           },
           "bgcolor": "white",
           "radialaxis": {
            "gridcolor": "#EBF0F8",
            "linecolor": "#EBF0F8",
            "ticks": ""
           }
          },
          "scene": {
           "xaxis": {
            "backgroundcolor": "white",
            "gridcolor": "#DFE8F3",
            "gridwidth": 2,
            "linecolor": "#EBF0F8",
            "showbackground": true,
            "ticks": "",
            "zerolinecolor": "#EBF0F8"
           },
           "yaxis": {
            "backgroundcolor": "white",
            "gridcolor": "#DFE8F3",
            "gridwidth": 2,
            "linecolor": "#EBF0F8",
            "showbackground": true,
            "ticks": "",
            "zerolinecolor": "#EBF0F8"
           },
           "zaxis": {
            "backgroundcolor": "white",
            "gridcolor": "#DFE8F3",
            "gridwidth": 2,
            "linecolor": "#EBF0F8",
            "showbackground": true,
            "ticks": "",
            "zerolinecolor": "#EBF0F8"
           }
          },
          "shapedefaults": {
           "line": {
            "color": "#2a3f5f"
           }
          },
          "ternary": {
           "aaxis": {
            "gridcolor": "#DFE8F3",
            "linecolor": "#A2B1C6",
            "ticks": ""
           },
           "baxis": {
            "gridcolor": "#DFE8F3",
            "linecolor": "#A2B1C6",
            "ticks": ""
           },
           "bgcolor": "white",
           "caxis": {
            "gridcolor": "#DFE8F3",
            "linecolor": "#A2B1C6",
            "ticks": ""
           }
          },
          "title": {
           "x": 0.05
          },
          "xaxis": {
           "automargin": true,
           "gridcolor": "#EBF0F8",
           "linecolor": "#EBF0F8",
           "ticks": "",
           "title": {
            "standoff": 15
           },
           "zerolinecolor": "#EBF0F8",
           "zerolinewidth": 2
          },
          "yaxis": {
           "automargin": true,
           "gridcolor": "#EBF0F8",
           "linecolor": "#EBF0F8",
           "ticks": "",
           "title": {
            "standoff": 15
           },
           "zerolinecolor": "#EBF0F8",
           "zerolinewidth": 2
          }
         }
        },
        "title": {
         "text": "<b>Potensielt sårbare kommuner i Norge</b><br>Alderssammensetning og tettebebyggelse farget etter tertiler.<br>Datakilde: ssb.no"
        },
        "updatemenus": [
         {
          "active": 0,
          "buttons": [
           {
            "args": [
             {
              "visible": [
               true,
               true,
               true,
               true,
               true,
               true,
               true,
               true,
               true,
               true,
               true
              ]
             }
            ],
            "label": "Hele landet",
            "method": "update"
           },
           {
            "args": [
             {
              "visible": [
               false,
               false,
               true,
               false,
               false,
               false,
               false,
               true,
               false,
               false,
               false
              ]
             }
            ],
            "label": "Midt",
            "method": "update"
           },
           {
            "args": [
             {
              "visible": [
               false,
               false,
               false,
               true,
               false,
               false,
               true,
               false,
               false,
               false,
               false
              ]
             }
            ],
            "label": "Nord",
            "method": "update"
           },
           {
            "args": [
             {
              "visible": [
               true,
               true,
               false,
               false,
               true,
               false,
               false,
               false,
               true,
               false,
               true
              ]
             }
            ],
            "label": "Sør-Øst",
            "method": "update"
           },
           {
            "args": [
             {
              "visible": [
               false,
               false,
               false,
               false,
               false,
               true,
               false,
               false,
               false,
               true,
               false
              ]
             }
            ],
            "label": "Vest",
            "method": "update"
           }
          ],
          "direction": "left",
          "showactive": true,
          "type": "buttons",
          "x": 0.5,
          "xanchor": "center",
          "y": -0.2,
          "yanchor": "top"
         }
        ],
        "xaxis": {
         "anchor": "y",
         "domain": [
          0,
          1
         ],
         "range": [
          -1,
          110
         ],
         "showgrid": false,
         "title": {
          "text": "Andel i tettebebyggelse"
         }
        },
        "yaxis": {
         "anchor": "x",
         "domain": [
          0,
          1
         ],
         "range": [
          8,
          35
         ],
         "showgrid": false,
         "title": {
          "text": "andel over 65"
         }
        }
       }
      },
      "text/html": [
       "<div>\n",
       "        \n",
       "        \n",
       "            <div id=\"19413979-7530-411b-b1b7-1ee56f8afcbe\" class=\"plotly-graph-div\" style=\"height:525px; width:100%;\"></div>\n",
       "            <script type=\"text/javascript\">\n",
       "                require([\"plotly\"], function(Plotly) {\n",
       "                    window.PLOTLYENV=window.PLOTLYENV || {};\n",
       "                    \n",
       "                if (document.getElementById(\"19413979-7530-411b-b1b7-1ee56f8afcbe\")) {\n",
       "                    Plotly.newPlot(\n",
       "                        '19413979-7530-411b-b1b7-1ee56f8afcbe',\n",
       "                        [{\"hoverlabel\": {\"namelength\": 0}, \"hovertemplate\": \"<b>%{hovertext}</b><br><br>Fylke=Agder<br>Andel i tettebebyggelse=%{x}<br>andel over 65=%{y}<br>Befolkning=%{marker.size}\", \"hovertext\": [\"Ris\\u00f8r\", \"Grimstad\", \"Arendal\", \"Kristiansand\", \"Lindesnes\", \"Farsund\", \"Flekkefjord\", \"Gjerstad\", \"Veg\\u00e5rshei\", \"Tvedestrand\", \"Froland\", \"Lillesand\", \"Birkenes\", \"\\u00c5mli\", \"Iveland\", \"Evje og Hornnes\", \"Bygland\", \"Valle\", \"Bykle\", \"Vennesla\", \"\\u00c5seral\", \"Lyngdal\", \"H\\u00e6gebostad\", \"Kvinesdal\", \"Sirdal\"], \"legendgroup\": \"Agder\", \"marker\": {\"color\": \"#636efa\", \"size\": [6848, 23246, 44785, 110391, 22909, 9695, 9066, 2454, 2093, 6069, 5845, 10990, 5212, 1848, 1326, 3638, 1192, 1156, 953, 14630, 939, 10389, 1683, 6048, 1839], \"sizemode\": \"area\", \"sizeref\": 189.1863888888889, \"symbol\": \"circle\"}, \"mode\": \"markers\", \"name\": \"Agder\", \"showlegend\": true, \"type\": \"scatter\", \"x\": [67.46495327102804, 86.50520519659295, 87.1988388969521, 94.50770443242655, 66.94312279016981, 67.18927282104178, 73.72600926538716, 34.67807660961695, 49.49832775919732, 47.042346350304825, 53.704020530367835, 75.22292993630573, 56.29316960859555, 37.33766233766234, 0.0, 68.74656404617922, 50.92281879194631, 0.0, 66.94648478488983, 83.02118933697881, 0.0, 57.329868129752626, 13.48781937017231, 48.61111111111111, 48.613376835236544], \"xaxis\": \"x\", \"y\": [24.57042150095462, 16.607203533809038, 19.29376208360186, 15.7507188734514, 19.07489369087911, 20.854400990609847, 21.01240584847142, 22.075782537067546, 17.02432045779685, 22.51775978853461, 15.963703579230382, 18.340256456564926, 16.494450822809032, 21.895424836601308, 15.326821938392184, 20.225646670335717, 25.817555938037867, 24.140893470790378, 14.715025906735752, 15.398673345065655, 16.84549356223176, 17.29860106126387, 18.333333333333332, 18.64038750626357, 20.08781558726674], \"yaxis\": \"y\"}, {\"hoverlabel\": {\"namelength\": 0}, \"hovertemplate\": \"<b>%{hovertext}</b><br><br>Fylke=Innlandet<br>Andel i tettebebyggelse=%{x}<br>andel over 65=%{y}<br>Befolkning=%{marker.size}\", \"hovertext\": [\"Kongsvinger\", \"Hamar\", \"Lillehammer\", \"Gj\\u00f8vik\", \"Ringsaker\", \"L\\u00f8ten\", \"Stange\", \"Nord-Odal\", \"S\\u00f8r-Odal\", \"Eidskog\", \"Grue\", \"\\u00c5snes\", \"V\\u00e5ler (Innlandet)\", \"Elverum\", \"Trysil\", \"\\u00c5mot\", \"Stor-Elvdal\", \"Rendalen\", \"Engerdal\", \"Tolga\", \"Tynset\", \"Alvdal\", \"Folldal\", \"Os\", \"Dovre\", \"Lesja\", \"Skj\\u00e5k\", \"Lom\", \"V\\u00e5g\\u00e5\", \"Nord-Fron\", \"Sel\", \"S\\u00f8r-Fron\", \"Ringebu\", \"\\u00d8yer\", \"Gausdal\", \"\\u00d8stre Toten\", \"Vestre Toten\", \"Gran\", \"S\\u00f8ndre Land\", \"Nordre Land\", \"S\\u00f8r-Aurdal\", \"Etnedal\", \"Nord-Aurdal\", \"Vestre Slidre\", \"\\u00d8ystre Slidre\", \"Vang\"], \"legendgroup\": \"Innlandet\", \"marker\": {\"color\": \"#EF553B\", \"size\": [17823, 31144, 28023, 30676, 34488, 7663, 20916, 5024, 7879, 6114, 4646, 7214, 3705, 21191, 6607, 4407, 2459, 1791, 1286, 1551, 5591, 2418, 1577, 1912, 2615, 2009, 2204, 2293, 3589, 5742, 5789, 3127, 4425, 5119, 6112, 14948, 13384, 13642, 5623, 6671, 2981, 1305, 6418, 2135, 3208, 1610], \"sizemode\": \"area\", \"sizeref\": 189.1863888888889, \"symbol\": \"circle\"}, \"mode\": \"markers\", \"name\": \"Innlandet\", \"showlegend\": true, \"type\": \"scatter\", \"x\": [73.37709700948213, 88.66234266632416, 86.34336081076259, 77.40578954231322, 54.19856181860357, 61.45112880073078, 62.14381334863263, 29.47850318471338, 39.05317933747938, 37.749427543343145, 27.034007748600946, 31.77155530912115, 38.35357624831309, 73.29526685857203, 43.06039049492962, 51.35012480145223, 47.17364782431883, 15.019542155220547, 0.0, 35.783365570599614, 50.25934537649795, 29.528535980148884, 34.812935954343686, 36.24476987447699, 46.347992351816444, 11.249377799900447, 28.992740471869325, 37.679895333624074, 50.65477848983003, 60.240334378265416, 52.92796683365003, 38.695235049568275, 46.779661016949156, 57.042391092010156, 44.56806282722513, 43.16965480331817, 73.4160191273162, 47.21448467966574, 36.599679886181754, 44.46110028481487, 21.938946662193896, 19.080459770114942, 53.583670925521965, 28.57142857142857, 27.026184538653364, 0.0], \"xaxis\": \"x\", \"y\": [24.005833193112345, 22.037680512607988, 20.38101958017287, 20.04253926701571, 19.860216290842153, 20.862653114412304, 20.091150778579568, 25.259170653907496, 20.961416824794433, 25.66328201768752, 28.946227233304423, 27.016520894071917, 27.36209721463681, 20.320880775383458, 25.592274030481367, 21.64830119375574, 27.821413807358415, 30.39325842696629, 29.02208201892745, 21.830985915492956, 21.351738974542847, 20.394736842105264, 28.09061488673139, 24.061343204653625, 27.262044653348998, 24.050632911392405, 26.12653618570778, 24.461400359066428, 24.53781512605042, 24.55006115673598, 24.568740198640878, 22.731644757935236, 24.681238615664842, 21.137254901960784, 22.617097936455945, 22.106458291591533, 21.240783495941017, 21.621423330887747, 22.787965105928432, 23.126790290969396, 25.761679079214623, 26.348709929632523, 23.60829564946203, 22.400000000000002, 22.143078352431093, 22.9404309252218], \"yaxis\": \"y\"}, {\"hoverlabel\": {\"namelength\": 0}, \"hovertemplate\": \"<b>%{hovertext}</b><br><br>Fylke=M\\u00f8re og Romsdal<br>Andel i tettebebyggelse=%{x}<br>andel over 65=%{y}<br>Befolkning=%{marker.size}\", \"hovertext\": [\"Kristiansund\", \"Molde\", \"\\u00c5lesund\", \"Vanylven\", \"Sande (M\\u00f8re og Romsdal)\", \"Her\\u00f8y (M\\u00f8re og Romsdal)\", \"Ulstein\", \"Hareid\", \"\\u00d8rsta\", \"Stranda\", \"Sykkylven\", \"Sula\", \"Giske\", \"Vestnes\", \"Rauma\", \"Aukra\", \"Aver\\u00f8y\", \"Gjemnes\", \"Tingvoll\", \"Sunndal\", \"Surnadal\", \"Sm\\u00f8la\", \"Aure\", \"Volda\", \"Fjord\", \"Hustadvika\"], \"legendgroup\": \"M\\u00f8re og Romsdal\", \"marker\": {\"color\": \"#00cc96\", \"size\": [24274, 31976, 65633, 3163, 2493, 8927, 8609, 5155, 10857, 4565, 7657, 9271, 8398, 6536, 7487, 3539, 5849, 2641, 3045, 7106, 5928, 2134, 3553, 10349, 2592, 13233], \"sizemode\": \"area\", \"sizeref\": 189.1863888888889, \"symbol\": \"circle\"}, \"mode\": \"markers\", \"name\": \"M\\u00f8re og Romsdal\", \"showlegend\": true, \"type\": \"scatter\", \"x\": [91.25813627749856, 81.32036527395546, 87.95575396523091, 16.092317420170723, 36.18130766145207, 69.66506105074494, 82.05366476942734, 87.33268671193017, 72.00884222160818, 70.95290251916758, 77.81115319315658, 94.01359076690756, 81.93617527982853, 57.955936352509184, 59.770268465339925, 47.24498445888669, 28.02188408274919, 23.513820522529343, 31.461412151067325, 66.80270194202083, 47.38529014844804, 0.0, 17.78778497044751, 71.88134119238573, 23.84259259259259, 51.68895941963274], \"xaxis\": \"x\", \"y\": [20.451631581124115, 20.264647918165608, 17.489208850252044, 29.066410009624637, 23.20195042665583, 20.123595505617978, 16.5441605413604, 18.33816425120773, 20.009237875288683, 22.529294715896526, 20.288524590163934, 16.27282491944146, 16.37910659418577, 21.785058175137785, 23.19228709159079, 20.60416072955258, 21.458189357290948, 23.392925066565233, 25.355371900826444, 21.859010801591815, 23.344594594594597, 24.88372093023256, 24.721984602224122, 19.860593908144754, 24.597881522165554, 19.271029444988326], \"yaxis\": \"y\"}, {\"hoverlabel\": {\"namelength\": 0}, \"hovertemplate\": \"<b>%{hovertext}</b><br><br>Fylke=Nordland<br>Andel i tettebebyggelse=%{x}<br>andel over 65=%{y}<br>Befolkning=%{marker.size}\", \"hovertext\": [\"Bod\\u00f8\", \"Narvik\", \"Bindal\", \"S\\u00f8mna\", \"Br\\u00f8nn\\u00f8y\", \"Vega\", \"Vevelstad\", \"Her\\u00f8y (Nordland)\", \"Alstahaug\", \"Leirfjord\", \"Vefsn\", \"Grane\", \"Hattfjelldal\", \"D\\u00f8nna\", \"Nesna\", \"Hemnes\", \"Rana\", \"Lur\\u00f8y\", \"Tr\\u00e6na\", \"R\\u00f8d\\u00f8y\", \"Mel\\u00f8y\", \"Gildesk\\u00e5l\", \"Beiarn\", \"Saltdal\", \"Fauske - Fuossko\", \"S\\u00f8rfold\", \"Steigen\", \"L\\u00f8dingen\", \"Evenes\", \"R\\u00f8st\", \"V\\u00e6r\\u00f8y\", \"Flakstad\", \"Vestv\\u00e5g\\u00f8y\", \"V\\u00e5gan\", \"Hadsel\", \"B\\u00f8 (Nordland)\", \"\\u00d8ksnes\", \"Sortland - Suort\\u00e1\", \"And\\u00f8y\", \"Moskenes\", \"Hamar\\u00f8y\"], \"legendgroup\": \"Nordland\", \"marker\": {\"color\": \"#ab63fa\", \"size\": [52024, 0, 1450, 2014, 7916, 1232, 497, 1780, 7415, 2320, 13403, 1493, 1359, 1391, 1792, 4501, 26315, 1904, 456, 1238, 6331, 1978, 1022, 4657, 9760, 1975, 2576, 2077, 1387, 508, 732, 1292, 11480, 9595, 8091, 2616, 4449, 10518, 4771, 1039, 0], \"sizemode\": \"area\", \"sizeref\": 189.1863888888889, \"symbol\": \"circle\"}, \"mode\": \"markers\", \"name\": \"Nordland\", \"showlegend\": true, \"type\": \"scatter\", \"x\": [90.58703675226818, null, 36.689655172413794, 47.318768619662364, 71.3365336028297, 26.704545454545453, 0.0, 48.59550561797753, 81.61834120026973, 31.551724137931036, 73.52085354025219, 55.99464166108506, 39.882266372332595, 19.626168224299064, 74.33035714285714, 58.40924239057988, 83.27189815694472, 25.787815126050422, 82.45614035087719, 0.0, 56.15226662454589, 33.26592517694641, 0.0, 55.5507837663732, 73.73975409836065, 44.81012658227848, 0.0, 80.9821858449687, 53.352559480894016, 69.68503937007874, 84.97267759562843, 0.0, 62.76132404181185, 73.99687337154768, 69.6947225312075, 36.92660550458716, 53.652506181164306, 66.53356151359574, 64.38901697757284, 71.99230028873917, null], \"xaxis\": \"x\", \"y\": [16.293905303970817, 21.387045090409703, 28.962131837307155, 23.189873417721518, 18.908677529367186, 26.916666666666668, 28.13852813852814, 22.566122678671917, 20.93460453874043, 20.619006102877073, 21.61470100918813, 24.898785425101213, 27.679259830377795, 24.945295404814004, 19.988642816581486, 24.27031881454872, 19.93965780629392, 25.608465608465607, 18.620689655172416, 22.91838417147568, 21.962468193384225, 27.025641025641022, 31.268436578171094, 24.405908798972384, 22.01458055241811, 26.791277258566975, 26.495398773006134, 29.547689282202555, 29.673590504451035, 23.09236947791165, 22.939560439560438, 26.022012578616355, 19.86355287326161, 20.295587010824313, 22.92519538518794, 29.155313351498634, 21.58730158730159, 18.77720991860685, 26.356422903710058, 25.320197044334975, 26.35574837310195], \"yaxis\": \"y\"}, {\"hoverlabel\": {\"namelength\": 0}, \"hovertemplate\": \"<b>%{hovertext}</b><br><br>Fylke=Oslo<br>Andel i tettebebyggelse=%{x}<br>andel over 65=%{y}<br>Befolkning=%{marker.size}\", \"hovertext\": [\"Oslo kommune\"], \"legendgroup\": \"Oslo\", \"marker\": {\"color\": \"#FFA15A\", \"size\": [681071], \"sizemode\": \"area\", \"sizeref\": 189.1863888888889, \"symbol\": \"circle\"}, \"mode\": \"markers\", \"name\": \"Oslo\", \"showlegend\": true, \"type\": \"scatter\", \"x\": [99.42267399434127], \"xaxis\": \"x\", \"y\": [12.59996481584556], \"yaxis\": \"y\"}, {\"hoverlabel\": {\"namelength\": 0}, \"hovertemplate\": \"<b>%{hovertext}</b><br><br>Fylke=Rogaland<br>Andel i tettebebyggelse=%{x}<br>andel over 65=%{y}<br>Befolkning=%{marker.size}\", \"hovertext\": [\"Eigersund\", \"Stavanger\", \"Haugesund\", \"Sandnes\", \"Sokndal\", \"Lund\", \"Bjerkreim\", \"H\\u00e5\", \"Klepp\", \"Time\", \"Gjesdal\", \"Sola\", \"Randaberg\", \"Strand\", \"Hjelmeland\", \"Suldal\", \"Sauda\", \"Kvits\\u00f8y\", \"Bokn\", \"Tysv\\u00e6r\", \"Karm\\u00f8y\", \"Utsira\", \"Vindafjord\"], \"legendgroup\": \"Rogaland\", \"marker\": {\"color\": \"#19d3f3\", \"size\": [14830, 142034, 37250, 78439, 3305, 3213, 2807, 18814, 19354, 18795, 11899, 26582, 11053, 12720, 2684, 3794, 4597, 516, 840, 11028, 42161, 196, 8743], \"sizemode\": \"area\", \"sizeref\": 189.1863888888889, \"symbol\": \"circle\"}, \"mode\": \"markers\", \"name\": \"Rogaland\", \"showlegend\": true, \"type\": \"scatter\", \"x\": [82.80512474713419, 95.8488812537843, 97.53557046979866, 93.82577544333813, 65.50680786686837, 59.943977591036415, 36.23085144282152, 79.86074200063781, 81.28552237263614, 88.17770683692471, 89.52853180939574, 89.38755548867655, 86.93567357278566, 82.09119496855347, 22.056631892697467, 30.91723774380601, 90.79834674787905, 72.48062015503875, 32.857142857142854, 59.2310482408415, 87.92960318778017, 0.0, 42.67413931144916], \"xaxis\": \"x\", \"y\": [18.141921544797786, 14.437850864362629, 16.97673796075702, 12.939889611124384, 20.426829268292682, 18.425983760149904, 15.536419088625763, 14.422621241640776, 13.37043087604656, 14.331782617889619, 11.648058656890518, 13.07406179795971, 14.891720880491935, 16.15515114127082, 21.6006216006216, 21.58254468980021, 22.023939064200217, 23.404255319148938, 21.12676056338028, 16.484410302756437, 17.301948513724934, 21.21212121212121, 18.223548313059446], \"yaxis\": \"y\"}, {\"hoverlabel\": {\"namelength\": 0}, \"hovertemplate\": \"<b>%{hovertext}</b><br><br>Fylke=Troms og Finnmark <br>Andel i tettebebyggelse=%{x}<br>andel over 65=%{y}<br>Befolkning=%{marker.size}\", \"hovertext\": [\"Troms\\u00f8\", \"Harstad\", \"Alta\", \"Vard\\u00f8\", \"Vads\\u00f8\", \"Hammerfest\", \"Kv\\u00e6fjord\", \"Tjeldsund\", \"Ibestad\", \"Gratangen\", \"Loab\\u00e1k - Lavangen\", \"Bardu\", \"Salangen\", \"M\\u00e5lselv\", \"S\\u00f8rreisa\", \"Dyr\\u00f8y\", \"Senja\", \"Balsfjord\", \"Karls\\u00f8y\", \"Lyngen\", \"Storfjord - Omasvuotna - Omasvuono\", \"G\\u00e1ivuotna - K\\u00e5fjord - Kaivuono\", \"Skjerv\\u00f8y\", \"Nordreisa\", \"Kv\\u00e6nangen\", \"Guovdageaidnu - Kautokeino\", \"Loppa\", \"Hasvik\", \"M\\u00e5s\\u00f8y\", \"Nordkapp\", \"Porsanger - Pors\\u00e1ngu - Porsanki\\u00a0\", \"K\\u00e1r\\u00e1sjohka - Karasjok\", \"Lebesby\", \"Gamvik\", \"Berlev\\u00e5g\", \"Deatnu-Tana\", \"Unj\\u00e1rga-Nesseby\", \"B\\u00e5tsfjord\", \"S\\u00f8r-Varanger\"], \"legendgroup\": \"Troms og Finnmark \", \"marker\": {\"color\": \"#FF6692\", \"size\": [76649, 24827, 20665, 2081, 5894, 11524, 2858, 4268, 1375, 1105, 1042, 4030, 2183, 6805, 3489, 1129, 15011, 5625, 2252, 2847, 1841, 2097, 2917, 4909, 1202, 2924, 917, 1045, 1235, 3218, 3944, 2673, 1328, 1169, 981, 2900, 941, 2270, 10156], \"sizemode\": \"area\", \"sizeref\": 189.1863888888889, \"symbol\": \"circle\"}, \"mode\": \"markers\", \"name\": \"Troms og Finnmark \", \"showlegend\": true, \"type\": \"scatter\", \"x\": [89.9515975420423, 84.86728158859307, 80.58069199128963, 98.89476213358962, 91.68646080760095, 90.40263797292607, 60.916724982505244, 34.98125585754452, 34.763636363636365, 0.0, 28.023032629558543, 62.33250620347395, 36.92166743014201, 55.84129316678913, 44.88392089423904, 0.0, 54.13363533408834, 27.12888888888889, 20.33747779751332, 37.75904460835967, 28.517110266159694, 26.657129232236525, 86.11587247171751, 54.532491342432266, 31.94675540765391, 50.0, 52.88985823336968, 68.51674641148325, 81.53846153846153, 89.1547545059043, 57.505070993914806, 69.09839132061354, 69.65361445783132, 86.56971770744227, 94.69928644240571, 26.103448275862068, 0.0, 98.1057268722467, 79.40133910988578], \"xaxis\": \"x\", \"y\": [14.043703068568608, 20.086629154353723, 14.603877050363174, 24.396254312469196, 19.678645473393228, 16.867575122292102, 23.21239873194787, 27.016129032258064, 31.741366642174874, 26.03116406966086, 25.241779497098648, 20.44943820224719, 23.951537744641193, 20.210843373493976, 20.75635103926097, 28.99353647276085, 21.04908760352838, 23.90717754991905, 28.454545454545453, 28.131710808876164, 25.642427556041554, 27.764365041042975, 21.557909121967885, 21.25077144620448, 28.043660789252726, 18.10996563573883, 29.504504504504503, 22.388059701492537, 27.10204081632653, 21.094244149272612, 22.336168084042022, 19.863013698630137, 22.48062015503876, 20.936395759717314, 25.287356321839084, 23.098012337217273, 27.5377969762419, 17.829806393516435, 18.113801929513684], \"yaxis\": \"y\"}, {\"hoverlabel\": {\"namelength\": 0}, \"hovertemplate\": \"<b>%{hovertext}</b><br><br>Fylke=Tr\\u00f8ndelag <br>Andel i tettebebyggelse=%{x}<br>andel over 65=%{y}<br>Befolkning=%{marker.size}\", \"hovertext\": [\"Trondheim\", \"Steinkjer\", \"Namsos\", \"Fr\\u00f8ya\", \"Osen\", \"Oppdal\", \"Rennebu\", \"R\\u00f8ros\", \"Holt\\u00e5len\", \"Midtre Gauldal\", \"Melhus\", \"Skaun\", \"Malvik\", \"Selbu\", \"Tydal\", \"Mer\\u00e5ker\", \"Stj\\u00f8rdal\", \"Frosta\", \"Levanger\", \"Verdal\", \"Sn\\u00e5ase - Sn\\u00e5sa\", \"Lierne\", \"Raarvihke - R\\u00f8yrvik\", \"Namsskogan\", \"Grong\", \"H\\u00f8ylandet\", \"Overhalla\", \"Flatanger\", \"Leka\", \"Inder\\u00f8y\", \"Indre Fosen\", \"Heim\", \"Hitra\", \"\\u00d8rland\", \"\\u00c5fjord\", \"Orkland\", \"N\\u00e6r\\u00f8ysund\", \"Rindal\"], \"legendgroup\": \"Tr\\u00f8ndelag \", \"marker\": {\"color\": \"#B6E880\", \"size\": [202235, 24539, 15294, 5068, 947, 6975, 2501, 5610, 2025, 6246, 16562, 8231, 14040, 4088, 794, 2432, 24028, 2632, 20254, 14933, 2100, 1386, 482, 871, 2374, 1254, 3879, 1103, 567, 6804, 9988, 0, 0, 10238, 4297, 0, 9650, 2028], \"sizemode\": \"area\", \"sizeref\": 189.1863888888889, \"symbol\": \"circle\"}, \"mode\": \"markers\", \"name\": \"Tr\\u00f8ndelag \", \"showlegend\": true, \"type\": \"scatter\", \"x\": [96.42396222216728, 65.62614613472432, 72.4074800575389, 31.215469613259668, 0.0, 61.99283154121864, 39.54418232706917, 68.64527629233511, 30.765432098765434, 41.96285622798591, 63.47059533872721, 65.44769772810109, 87.42877492877493, 30.063600782778867, 0.0, 42.680921052631575, 69.81438321957715, 22.56838905775076, 66.50044435667029, 67.72249380566531, 32.42857142857143, 17.604617604617605, 51.867219917012456, 27.210103329506314, 55.30749789385004, 26.555023923444978, 48.33720030935808, 44.51495920217589, 0.0, 48.51557907113463, 35.482579094913895, null, null, 50.957218206680984, 28.438445427042126, null, 53.212435233160626, 34.566074950690336], \"xaxis\": \"x\", \"y\": [14.659563371563097, 21.808925565545838, 20.82731451083388, 16.55989128324597, 29.219409282700422, 21.868304527924582, 25.94529364440869, 25.01343845189034, 26.905603230691572, 20.407181789034947, 17.307117671666767, 14.846846846846848, 14.32004523607577, 22.895125553914326, 28.088426527958386, 24.483897605284888, 18.517291364671777, 22.154548915112297, 18.890101170402698, 20.524484880920525, 24.43044110518662, 27.084870848708487, 27.765726681127983, 28.46975088967972, 23.993217465027556, 25.995125913891144, 18.717816683831103, 25.385312783318227, 30.700179533213646, 21.40551643192488, 22.90757635858786, 24.098608083179606, 20.594059405940595, 20.778843359488523, 25.02332089552239, 21.27133995718285, 19.44300114309467, 25.012481278082877], \"yaxis\": \"y\"}, {\"hoverlabel\": {\"namelength\": 0}, \"hovertemplate\": \"<b>%{hovertext}</b><br><br>Fylke=Vestfold og Telemark<br>Andel i tettebebyggelse=%{x}<br>andel over 65=%{y}<br>Befolkning=%{marker.size}\", \"hovertext\": [\"Horten\", \"Holmestrand\", \"T\\u00f8nsberg\", \"Sandefjord\", \"Larvik\", \"Porsgrunn\", \"Skien\", \"Notodden\", \"F\\u00e6rder\", \"Siljan\", \"Bamble\", \"Krager\\u00f8\", \"Drangedal\", \"Nome\", \"Midt-Telemark\", \"Tinn\", \"Hjartdal\", \"Seljord\", \"Kviteseid\", \"Nissedal\", \"Fyresdal\", \"Tokke\", \"Vinje\"], \"legendgroup\": \"Vestfold og Telemark\", \"marker\": {\"color\": \"#FF97FF\", \"size\": [27334, 24275, 55706, 63271, 47107, 36224, 54645, 12682, 26700, 2329, 14089, 10406, 4080, 6538, 10923, 5780, 1572, 2934, 2403, 1476, 1286, 2228, 3723], \"sizemode\": \"area\", \"sizeref\": 189.1863888888889, \"symbol\": \"circle\"}, \"mode\": \"markers\", \"name\": \"Vestfold og Telemark\", \"showlegend\": true, \"type\": \"scatter\", \"x\": [94.57818101997513, 73.37590113285273, 87.29400782680501, 87.21373140933444, 81.18750928736705, 95.34562720848056, 90.6359227742703, 73.75808232140041, 87.83520599250937, 50.79433233147274, 83.50486194903826, 76.79223524889487, 38.995098039215684, 58.74885286020189, 51.66163141993958, 67.0242214532872, 0.0, 48.670756646216766, 32.8755722014149, 38.482384823848236, 30.093312597200622, 27.244165170556556, 31.641149610529144], \"xaxis\": \"x\", \"y\": [20.342949069503856, 19.494716385278757, 18.075071500897092, 19.10011918951132, 21.468519616981613, 19.878011924059674, 19.658913035564776, 21.53421718139321, 21.608679386457162, 20.384615384615383, 21.406727828746178, 25.134874759152215, 22.364532019704434, 22.225633154259402, 19.149751053236308, 24.442101563872782, 24.157660521296883, 24.272853185595565, 23.88680815647108, 22.582872928176794, 22.455322455322456, 23.489323034984096, 21.92600652883569], \"yaxis\": \"y\"}, {\"hoverlabel\": {\"namelength\": 0}, \"hovertemplate\": \"<b>%{hovertext}</b><br><br>Fylke=Vestland<br>Andel i tettebebyggelse=%{x}<br>andel over 65=%{y}<br>Befolkning=%{marker.size}\", \"hovertext\": [\"Bergen\", \"Kinn\", \"Etne\", \"Sveio\", \"B\\u00f8mlo\", \"Stord\", \"Fitjar\", \"Tysnes\", \"Kvinnherad\", \"Ullensvang\", \"Eidfjord\", \"Ulvik\", \"Voss\", \"Kvam\", \"Samnanger\", \"Bj\\u00f8rnafjorden\", \"Austevoll\", \"\\u00d8ygarden\", \"Ask\\u00f8y\", \"Vaksdal\", \"Modalen\", \"Oster\\u00f8y\", \"Alver\", \"Austrheim\", \"Fedje\", \"Masfjorden\", \"Gulen\", \"Solund\", \"Hyllestad\", \"H\\u00f8yanger\", \"Vik\", \"Sogndal\", \"Aurland\", \"L\\u00e6rdal\", \"\\u00c5rdal\", \"Luster\", \"Askvoll\", \"Fjaler\", \"Sunnfjord\", \"Bremanger\", \"Stad\", \"Gloppen\", \"Stryn\"], \"legendgroup\": \"Vestland\", \"marker\": {\"color\": \"#FECB52\", \"size\": [281190, 17822, 4077, 5721, 11960, 18699, 3201, 2846, 13137, 11152, 906, 1093, 15543, 8441, 2465, 24665, 5212, 38117, 29275, 4045, 380, 8120, 29090, 2887, 562, 1711, 2322, 820, 1366, 4091, 2672, 11801, 1764, 2151, 5245, 5195, 3038, 2770, 21959, 3705, 8898, 5836, 7167], \"sizemode\": \"area\", \"sizeref\": 189.1863888888889, \"symbol\": \"circle\"}, \"mode\": \"markers\", \"name\": \"Vestland\", \"showlegend\": true, \"type\": \"scatter\", \"x\": [97.75987766279029, 82.83020985299069, 45.47461368653421, 33.106100332109776, 59.54013377926422, 93.82854698112199, 54.70165573258357, 38.615600843288824, 63.06614904468296, 63.80021520803444, 60.04415011037527, 48.85635864592864, 61.44888374187737, 69.71922757967064, 43.32657200811359, 75.52807622136632, 41.53875671527245, 71.89180680536244, 87.91460290350128, 72.95426452410383, 0.0, 49.02709359605911, 54.65795806118942, 38.58676827156218, 78.29181494661923, 0.0, 26.22739018087855, 40.731707317073166, 0.0, 65.90075776093865, 46.5943113772455, 74.39200067790865, 46.71201814058957, 52.76615527661552, 93.97521448999046, 44.6390760346487, 24.45687952600395, 42.81588447653429, 67.75809463090305, 54.1970310391363, 53.34906720611373, 53.82111034955449, 48.318682851960375], \"xaxis\": \"x\", \"y\": [15.672227916133963, 18.57964781774859, 21.270310192023633, 17.568505029483177, 17.79710629756628, 17.015832400447785, 18.5010975227344, 26.768909027535727, 22.1712187284829, 24.08580738595221, 22.40618101545254, 25.833333333333336, 21.556543837357054, 22.667612628591698, 22.374245472837025, 16.82993415770034, 18.048128342245988, 14.962417788913248, 14.743004094338986, 23.03243650993211, 17.525773195876287, 18.91825142010373, 18.033123460169723, 22.473867595818817, 27.37226277372263, 24.659964518036663, 22.59468872442316, 26.184538653366584, 27.03313253012048, 23.603999024628138, 26.451612903225808, 17.768211361526127, 21.055586749017404, 23.847601128880527, 23.377623724244177, 21.24081948202551, 26.36997675190966, 23.09064953604568, 16.73172945982751, 25.98511986773216, 21.39156180606958, 22.80491971301674, 20.112201963534364], \"yaxis\": \"y\"}, {\"hoverlabel\": {\"namelength\": 0}, \"hovertemplate\": \"<b>%{hovertext}</b><br><br>Fylke=Viken<br>Andel i tettebebyggelse=%{x}<br>andel over 65=%{y}<br>Befolkning=%{marker.size}\", \"hovertext\": [\"Halden\", \"Moss\", \"Sarpsborg\", \"Fredrikstad\", \"Drammen\", \"Kongsberg\", \"Ringerike\", \"Hvaler\", \"Aremark\", \"Marker\", \"Indre \\u00d8stfold\", \"Skiptvet\", \"Rakkestad\", \"R\\u00e5de\", \"V\\u00e5ler (Viken)\", \"Vestby\", \"Nordre Follo\", \"\\u00c5s\", \"Frogn\", \"Nesodden\", \"B\\u00e6rum\", \"Asker\", \"Aurskog-H\\u00f8land\", \"R\\u00e6lingen\", \"Enebakk\", \"L\\u00f8renskog\", \"Lillestr\\u00f8m\", \"Nittedal\", \"Gjerdrum\", \"Ullensaker\", \"Nes\", \"Eidsvoll\", \"Nannestad\", \"Hurdal\", \"Hole\", \"Fl\\u00e5\", \"Nesbyen\", \"Gol\", \"Hemsedal\", \"\\u00c5l\", \"Hol\", \"Sigdal\", \"Kr\\u00f8dsherad\", \"Modum\", \"\\u00d8vre Eiker\", \"Lier\", \"Flesberg\", \"Rollag\", \"Nore og Uvdal\", \"Jevnaker\", \"Lunner\"], \"legendgroup\": \"Viken\", \"marker\": {\"color\": \"#636efa\", \"size\": [31177, 48871, 55997, 81772, 100581, 27481, 30442, 4599, 1357, 3592, 44320, 3797, 8230, 7542, 5593, 17824, 58237, 20335, 15761, 19488, 126841, 93679, 17173, 18161, 11026, 40106, 85757, 24089, 6823, 38234, 21885, 24919, 13682, 2864, 6845, 1052, 3315, 4576, 2481, 4671, 4473, 3490, 2239, 13980, 19117, 26373, 2694, 1419, 2448, 6846, 9051], \"sizemode\": \"area\", \"sizeref\": 189.1863888888889, \"symbol\": \"circle\"}, \"mode\": \"markers\", \"name\": \"Viken\", \"showlegend\": true, \"type\": \"scatter\", \"x\": [86.87173236680886, 95.96897955842934, 91.03523403039449, 92.54267964584454, 97.31161949075869, 84.83315745424112, 69.79830497339202, 61.274190041313325, 0.0, 51.44766146993318, 76.67193140794224, 45.29892020015802, 61.39732685297692, 76.23972421108459, 67.5487216163061, 84.40305206463195, 93.73250682555764, 84.34718465699534, 84.97557261595077, 89.15229885057471, 98.85289456879084, 94.28687325868124, 57.32836429278518, 96.34381366664832, 78.72301832033376, 99.07495137884605, 92.01114777802395, 93.38702312258708, 73.76520592114906, 90.9844640895538, 67.10532328078592, 80.58509571010073, 75.46411343370852, 38.582402234636874, 64.7918188458729, 0.0, 64.13273001508296, 63.70192307692307, 56.6303909713825, 58.01755512738171, 63.22378716744914, 14.355300859598854, 43.501563197856186, 71.47353361945636, 78.92451744520584, 83.66511204641111, 35.374907201187824, 22.832980972515855, 19.77124183006536, 72.36342389716623, 63.7719588995691], \"xaxis\": \"x\", \"y\": [20.278583495362255, 20.06575609360096, 18.913487978565886, 19.065363840504943, 17.587240841930836, 19.204270822061105, 20.864201560001305, 27.485004284490145, 23.471698113207548, 26.091794158553544, 19.063672084300766, 17.897503285151117, 20.327074500302846, 21.09749600426212, 14.539748953974897, 17.2209289435761, 16.919106733234383, 14.18856108420177, 20.463563645524975, 16.38458401305057, 16.631827825664875, 16.82002520091909, 19.54571592869465, 13.847814355099839, 15.445544554455445, 15.496864447660396, 15.19486410104323, 14.55317745061652, 15.486211901306241, 13.226498422712934, 16.616144119175473, 16.25255543324422, 13.303628262253342, 21.723896285914506, 18.399764671275186, 24.666666666666668, 25.90895203177513, 22.28732638888889, 15.929203539823009, 22.95678219940094, 23.350596712452152, 24.603403518892414, 22.016274864376133, 20.885582713425435, 17.95809092313237, 16.571556450710528, 21.465773809523807, 25.827338129496404, 24.846248462484624, 19.994162288382956, 18.85499557913351], \"yaxis\": \"y\"}],\n",
       "                        {\"autosize\": true, \"legend\": {\"itemsizing\": \"constant\", \"title\": {\"text\": \"Fylke\"}, \"tracegroupgap\": 0}, \"margin\": {\"b\": 100, \"l\": 100, \"r\": 100, \"t\": 120}, \"paper_bgcolor\": \"rgba(0, 0, 0, 0)\", \"shapes\": [{\"fillcolor\": \"rgb(200,33,72)\", \"layer\": \"below\", \"line\": {\"width\": 0}, \"opacity\": 0.1, \"type\": \"rect\", \"x0\": -1, \"x1\": 110, \"y0\": 8, \"y1\": 20.087025}, {\"fillcolor\": \"rgb(200,33,72)\", \"layer\": \"below\", \"line\": {\"width\": 0}, \"opacity\": 0.4, \"type\": \"rect\", \"x0\": -1, \"x1\": 110, \"y0\": 20.087025, \"y1\": 23.191483}, {\"fillcolor\": \"rgb(200,33,72)\", \"layer\": \"below\", \"line\": {\"width\": 0}, \"opacity\": 0.7, \"type\": \"rect\", \"x0\": -1, \"x1\": 110, \"y0\": 23.191483, \"y1\": 35}, {\"fillcolor\": \"rgb(9,28,87)\", \"layer\": \"below\", \"line\": {\"width\": 0}, \"opacity\": 0.1, \"type\": \"rect\", \"x0\": -1, \"x1\": 44.550362, \"y0\": 8, \"y1\": 35}, {\"fillcolor\": \"rgb(9,28,87)\", \"layer\": \"below\", \"line\": {\"width\": 0}, \"opacity\": 0.35, \"type\": \"rect\", \"x0\": 44.550362, \"x1\": 69.745587, \"y0\": 8, \"y1\": 35}, {\"fillcolor\": \"rgb(9,28,87)\", \"layer\": \"below\", \"line\": {\"width\": 0}, \"opacity\": 0.7, \"type\": \"rect\", \"x0\": 69.745587, \"x1\": 110, \"y0\": 8, \"y1\": 35}], \"template\": {\"data\": {\"bar\": [{\"error_x\": {\"color\": \"#2a3f5f\"}, \"error_y\": {\"color\": \"#2a3f5f\"}, \"marker\": {\"line\": {\"color\": \"white\", \"width\": 0.5}}, \"type\": \"bar\"}], \"barpolar\": [{\"marker\": {\"line\": {\"color\": \"white\", \"width\": 0.5}}, \"type\": \"barpolar\"}], \"carpet\": [{\"aaxis\": {\"endlinecolor\": \"#2a3f5f\", \"gridcolor\": \"#C8D4E3\", \"linecolor\": \"#C8D4E3\", \"minorgridcolor\": \"#C8D4E3\", \"startlinecolor\": \"#2a3f5f\"}, \"baxis\": {\"endlinecolor\": \"#2a3f5f\", \"gridcolor\": \"#C8D4E3\", \"linecolor\": \"#C8D4E3\", \"minorgridcolor\": \"#C8D4E3\", \"startlinecolor\": \"#2a3f5f\"}, \"type\": \"carpet\"}], \"choropleth\": [{\"colorbar\": {\"outlinewidth\": 0, \"ticks\": \"\"}, \"type\": \"choropleth\"}], \"contour\": [{\"colorbar\": {\"outlinewidth\": 0, \"ticks\": \"\"}, \"colorscale\": [[0.0, \"#0d0887\"], [0.1111111111111111, \"#46039f\"], [0.2222222222222222, \"#7201a8\"], [0.3333333333333333, \"#9c179e\"], [0.4444444444444444, \"#bd3786\"], [0.5555555555555556, \"#d8576b\"], [0.6666666666666666, \"#ed7953\"], [0.7777777777777778, \"#fb9f3a\"], [0.8888888888888888, \"#fdca26\"], [1.0, \"#f0f921\"]], \"type\": \"contour\"}], \"contourcarpet\": [{\"colorbar\": {\"outlinewidth\": 0, \"ticks\": \"\"}, \"type\": \"contourcarpet\"}], \"heatmap\": [{\"colorbar\": {\"outlinewidth\": 0, \"ticks\": \"\"}, \"colorscale\": [[0.0, \"#0d0887\"], [0.1111111111111111, \"#46039f\"], [0.2222222222222222, \"#7201a8\"], [0.3333333333333333, \"#9c179e\"], [0.4444444444444444, \"#bd3786\"], [0.5555555555555556, \"#d8576b\"], [0.6666666666666666, \"#ed7953\"], [0.7777777777777778, \"#fb9f3a\"], [0.8888888888888888, \"#fdca26\"], [1.0, \"#f0f921\"]], \"type\": \"heatmap\"}], \"heatmapgl\": [{\"colorbar\": {\"outlinewidth\": 0, \"ticks\": \"\"}, \"colorscale\": [[0.0, \"#0d0887\"], [0.1111111111111111, \"#46039f\"], [0.2222222222222222, \"#7201a8\"], [0.3333333333333333, \"#9c179e\"], [0.4444444444444444, \"#bd3786\"], [0.5555555555555556, \"#d8576b\"], [0.6666666666666666, \"#ed7953\"], [0.7777777777777778, \"#fb9f3a\"], [0.8888888888888888, \"#fdca26\"], [1.0, \"#f0f921\"]], \"type\": \"heatmapgl\"}], \"histogram\": [{\"marker\": {\"colorbar\": {\"outlinewidth\": 0, \"ticks\": \"\"}}, \"type\": \"histogram\"}], \"histogram2d\": [{\"colorbar\": {\"outlinewidth\": 0, \"ticks\": \"\"}, \"colorscale\": [[0.0, \"#0d0887\"], [0.1111111111111111, \"#46039f\"], [0.2222222222222222, \"#7201a8\"], [0.3333333333333333, \"#9c179e\"], [0.4444444444444444, \"#bd3786\"], [0.5555555555555556, \"#d8576b\"], [0.6666666666666666, \"#ed7953\"], [0.7777777777777778, \"#fb9f3a\"], [0.8888888888888888, \"#fdca26\"], [1.0, \"#f0f921\"]], \"type\": \"histogram2d\"}], \"histogram2dcontour\": [{\"colorbar\": {\"outlinewidth\": 0, \"ticks\": \"\"}, \"colorscale\": [[0.0, \"#0d0887\"], [0.1111111111111111, \"#46039f\"], [0.2222222222222222, \"#7201a8\"], [0.3333333333333333, \"#9c179e\"], [0.4444444444444444, \"#bd3786\"], [0.5555555555555556, \"#d8576b\"], [0.6666666666666666, \"#ed7953\"], [0.7777777777777778, \"#fb9f3a\"], [0.8888888888888888, \"#fdca26\"], [1.0, \"#f0f921\"]], \"type\": \"histogram2dcontour\"}], \"mesh3d\": [{\"colorbar\": {\"outlinewidth\": 0, \"ticks\": \"\"}, \"type\": \"mesh3d\"}], \"parcoords\": [{\"line\": {\"colorbar\": {\"outlinewidth\": 0, \"ticks\": \"\"}}, \"type\": \"parcoords\"}], \"pie\": [{\"automargin\": true, \"type\": \"pie\"}], \"scatter\": [{\"marker\": {\"colorbar\": {\"outlinewidth\": 0, \"ticks\": \"\"}}, \"type\": \"scatter\"}], \"scatter3d\": [{\"line\": {\"colorbar\": {\"outlinewidth\": 0, \"ticks\": \"\"}}, \"marker\": {\"colorbar\": {\"outlinewidth\": 0, \"ticks\": \"\"}}, \"type\": \"scatter3d\"}], \"scattercarpet\": [{\"marker\": {\"colorbar\": {\"outlinewidth\": 0, \"ticks\": \"\"}}, \"type\": \"scattercarpet\"}], \"scattergeo\": [{\"marker\": {\"colorbar\": {\"outlinewidth\": 0, \"ticks\": \"\"}}, \"type\": \"scattergeo\"}], \"scattergl\": [{\"marker\": {\"colorbar\": {\"outlinewidth\": 0, \"ticks\": \"\"}}, \"type\": \"scattergl\"}], \"scattermapbox\": [{\"marker\": {\"colorbar\": {\"outlinewidth\": 0, \"ticks\": \"\"}}, \"type\": \"scattermapbox\"}], \"scatterpolar\": [{\"marker\": {\"colorbar\": {\"outlinewidth\": 0, \"ticks\": \"\"}}, \"type\": \"scatterpolar\"}], \"scatterpolargl\": [{\"marker\": {\"colorbar\": {\"outlinewidth\": 0, \"ticks\": \"\"}}, \"type\": \"scatterpolargl\"}], \"scatterternary\": [{\"marker\": {\"colorbar\": {\"outlinewidth\": 0, \"ticks\": \"\"}}, \"type\": \"scatterternary\"}], \"surface\": [{\"colorbar\": {\"outlinewidth\": 0, \"ticks\": \"\"}, \"colorscale\": [[0.0, \"#0d0887\"], [0.1111111111111111, \"#46039f\"], [0.2222222222222222, \"#7201a8\"], [0.3333333333333333, \"#9c179e\"], [0.4444444444444444, \"#bd3786\"], [0.5555555555555556, \"#d8576b\"], [0.6666666666666666, \"#ed7953\"], [0.7777777777777778, \"#fb9f3a\"], [0.8888888888888888, \"#fdca26\"], [1.0, \"#f0f921\"]], \"type\": \"surface\"}], \"table\": [{\"cells\": {\"fill\": {\"color\": \"#EBF0F8\"}, \"line\": {\"color\": \"white\"}}, \"header\": {\"fill\": {\"color\": \"#C8D4E3\"}, \"line\": {\"color\": \"white\"}}, \"type\": \"table\"}]}, \"layout\": {\"annotationdefaults\": {\"arrowcolor\": \"#2a3f5f\", \"arrowhead\": 0, \"arrowwidth\": 1}, \"coloraxis\": {\"colorbar\": {\"outlinewidth\": 0, \"ticks\": \"\"}}, \"colorscale\": {\"diverging\": [[0, \"#8e0152\"], [0.1, \"#c51b7d\"], [0.2, \"#de77ae\"], [0.3, \"#f1b6da\"], [0.4, \"#fde0ef\"], [0.5, \"#f7f7f7\"], [0.6, \"#e6f5d0\"], [0.7, \"#b8e186\"], [0.8, \"#7fbc41\"], [0.9, \"#4d9221\"], [1, \"#276419\"]], \"sequential\": [[0.0, \"#0d0887\"], [0.1111111111111111, \"#46039f\"], [0.2222222222222222, \"#7201a8\"], [0.3333333333333333, \"#9c179e\"], [0.4444444444444444, \"#bd3786\"], [0.5555555555555556, \"#d8576b\"], [0.6666666666666666, \"#ed7953\"], [0.7777777777777778, \"#fb9f3a\"], [0.8888888888888888, \"#fdca26\"], [1.0, \"#f0f921\"]], \"sequentialminus\": [[0.0, \"#0d0887\"], [0.1111111111111111, \"#46039f\"], [0.2222222222222222, \"#7201a8\"], [0.3333333333333333, \"#9c179e\"], [0.4444444444444444, \"#bd3786\"], [0.5555555555555556, \"#d8576b\"], [0.6666666666666666, \"#ed7953\"], [0.7777777777777778, \"#fb9f3a\"], [0.8888888888888888, \"#fdca26\"], [1.0, \"#f0f921\"]]}, \"colorway\": [\"#636efa\", \"#EF553B\", \"#00cc96\", \"#ab63fa\", \"#FFA15A\", \"#19d3f3\", \"#FF6692\", \"#B6E880\", \"#FF97FF\", \"#FECB52\"], \"font\": {\"color\": \"#2a3f5f\"}, \"geo\": {\"bgcolor\": \"white\", \"lakecolor\": \"white\", \"landcolor\": \"white\", \"showlakes\": true, \"showland\": true, \"subunitcolor\": \"#C8D4E3\"}, \"hoverlabel\": {\"align\": \"left\"}, \"hovermode\": \"closest\", \"mapbox\": {\"style\": \"light\"}, \"paper_bgcolor\": \"white\", \"plot_bgcolor\": \"white\", \"polar\": {\"angularaxis\": {\"gridcolor\": \"#EBF0F8\", \"linecolor\": \"#EBF0F8\", \"ticks\": \"\"}, \"bgcolor\": \"white\", \"radialaxis\": {\"gridcolor\": \"#EBF0F8\", \"linecolor\": \"#EBF0F8\", \"ticks\": \"\"}}, \"scene\": {\"xaxis\": {\"backgroundcolor\": \"white\", \"gridcolor\": \"#DFE8F3\", \"gridwidth\": 2, \"linecolor\": \"#EBF0F8\", \"showbackground\": true, \"ticks\": \"\", \"zerolinecolor\": \"#EBF0F8\"}, \"yaxis\": {\"backgroundcolor\": \"white\", \"gridcolor\": \"#DFE8F3\", \"gridwidth\": 2, \"linecolor\": \"#EBF0F8\", \"showbackground\": true, \"ticks\": \"\", \"zerolinecolor\": \"#EBF0F8\"}, \"zaxis\": {\"backgroundcolor\": \"white\", \"gridcolor\": \"#DFE8F3\", \"gridwidth\": 2, \"linecolor\": \"#EBF0F8\", \"showbackground\": true, \"ticks\": \"\", \"zerolinecolor\": \"#EBF0F8\"}}, \"shapedefaults\": {\"line\": {\"color\": \"#2a3f5f\"}}, \"ternary\": {\"aaxis\": {\"gridcolor\": \"#DFE8F3\", \"linecolor\": \"#A2B1C6\", \"ticks\": \"\"}, \"baxis\": {\"gridcolor\": \"#DFE8F3\", \"linecolor\": \"#A2B1C6\", \"ticks\": \"\"}, \"bgcolor\": \"white\", \"caxis\": {\"gridcolor\": \"#DFE8F3\", \"linecolor\": \"#A2B1C6\", \"ticks\": \"\"}}, \"title\": {\"x\": 0.05}, \"xaxis\": {\"automargin\": true, \"gridcolor\": \"#EBF0F8\", \"linecolor\": \"#EBF0F8\", \"ticks\": \"\", \"title\": {\"standoff\": 15}, \"zerolinecolor\": \"#EBF0F8\", \"zerolinewidth\": 2}, \"yaxis\": {\"automargin\": true, \"gridcolor\": \"#EBF0F8\", \"linecolor\": \"#EBF0F8\", \"ticks\": \"\", \"title\": {\"standoff\": 15}, \"zerolinecolor\": \"#EBF0F8\", \"zerolinewidth\": 2}}}, \"title\": {\"text\": \"<b>Potensielt s\\u00e5rbare kommuner i Norge</b><br>Alderssammensetning og tettebebyggelse farget etter tertiler.<br>Datakilde: ssb.no\"}, \"updatemenus\": [{\"active\": 0, \"buttons\": [{\"args\": [{\"visible\": [true, true, true, true, true, true, true, true, true, true, true]}], \"label\": \"Hele landet\", \"method\": \"update\"}, {\"args\": [{\"visible\": [false, false, true, false, false, false, false, true, false, false, false]}], \"label\": \"Midt\", \"method\": \"update\"}, {\"args\": [{\"visible\": [false, false, false, true, false, false, true, false, false, false, false]}], \"label\": \"Nord\", \"method\": \"update\"}, {\"args\": [{\"visible\": [true, true, false, false, true, false, false, false, true, false, true]}], \"label\": \"S\\u00f8r-\\u00d8st\", \"method\": \"update\"}, {\"args\": [{\"visible\": [false, false, false, false, false, true, false, false, false, true, false]}], \"label\": \"Vest\", \"method\": \"update\"}], \"direction\": \"left\", \"showactive\": true, \"type\": \"buttons\", \"x\": 0.5, \"xanchor\": \"center\", \"y\": -0.2, \"yanchor\": \"top\"}], \"xaxis\": {\"anchor\": \"y\", \"domain\": [0.0, 1.0], \"range\": [-1, 110], \"showgrid\": false, \"title\": {\"text\": \"Andel i tettebebyggelse\"}}, \"yaxis\": {\"anchor\": \"x\", \"domain\": [0.0, 1.0], \"range\": [8, 35], \"showgrid\": false, \"title\": {\"text\": \"andel over 65\"}}},\n",
       "                        {\"responsive\": true}\n",
       "                    ).then(function(){\n",
       "                            \n",
       "var gd = document.getElementById('19413979-7530-411b-b1b7-1ee56f8afcbe');\n",
       "var x = new MutationObserver(function (mutations, observer) {{\n",
       "        var display = window.getComputedStyle(gd).display;\n",
       "        if (!display || display === 'none') {{\n",
       "            console.log([gd, 'removed!']);\n",
       "            Plotly.purge(gd);\n",
       "            observer.disconnect();\n",
       "        }}\n",
       "}});\n",
       "\n",
       "// Listen for the removal of the full notebook cells\n",
       "var notebookContainer = gd.closest('#notebook-container');\n",
       "if (notebookContainer) {{\n",
       "    x.observe(notebookContainer, {childList: true});\n",
       "}}\n",
       "\n",
       "// Listen for the clearing of the current output cell\n",
       "var outputEl = gd.closest('.output');\n",
       "if (outputEl) {{\n",
       "    x.observe(outputEl, {childList: true});\n",
       "}}\n",
       "\n",
       "                        })\n",
       "                };\n",
       "                });\n",
       "            </script>\n",
       "        </div>"
      ]
     },
     "metadata": {},
     "output_type": "display_data"
    }
   ],
   "source": [
    "legend = [i for i in data[\"Fylke\"].dropna().unique()]\n",
    "legend.sort()\n",
    "\n",
    "grey = \"rgba(192,192,192,1)\"\n",
    "b = \"rgb(9,28,87)\"\n",
    "maroon = \"rgb(200,33,72)\"\n",
    "\n",
    "fig = px.scatter(data, \n",
    "                 x=\"Andel i tettebebyggelse\", \n",
    "                 y=\"andel over 65\", \n",
    "                 category_orders={\"Fylke\": legend},\n",
    "                 color=\"Fylke\",\n",
    "                 hover_name=\"Kommune_x\",\n",
    "                 size=\"Befolkning\",\n",
    "                 size_max=60,\n",
    "                 #marginal_x=\"histogram\", marginal_y=\"histogram\",\n",
    "                 template = \"plotly_white\",\n",
    "                 range_x=[-1,110], range_y=[8,35],\n",
    "                 title = \"<b>Potensielt sårbare kommuner i Norge</b><br>Alderssammensetning og tettebebyggelse farget etter tertiler.<br>Datakilde: ssb.no\",\n",
    "                 labels = {\"level_1\": \"Dager siden antall smittede passerte 5\", \"variable\": \"Dato\", \"value\": \"Totalt registrerte smittede\"}    \n",
    "                )\n",
    "\n",
    "fig.add_shape(type=\"rect\",\n",
    "            x0=-1, y0=8,\n",
    "            x1=110, y1=20.087025,\n",
    "            line_width=0,layer=\"below\",\n",
    "            fillcolor=maroon, opacity=0.1,)\n",
    "\n",
    "fig.add_shape(type=\"rect\",\n",
    "            x0=-1, y0=20.087025,\n",
    "            x1=110, y1=23.191483,\n",
    "            line_width=0,layer=\"below\",\n",
    "            fillcolor=maroon, opacity=0.4)\n",
    "\n",
    "fig.add_shape(type=\"rect\",\n",
    "            x0=-1, y0=23.191483,\n",
    "            x1=110, y1=35,\n",
    "            line_width=0,layer=\"below\",\n",
    "            fillcolor=maroon, opacity=0.7)\n",
    "\n",
    "#vertical areas:\n",
    "fig.add_shape(type=\"rect\",\n",
    "            x0=-1, y0=8,\n",
    "            x1=44.550362, y1=35,\n",
    "            line_width=0,layer=\"below\",\n",
    "            fillcolor=b, opacity=0.1,)\n",
    "\n",
    "fig.add_shape(type=\"rect\",\n",
    "            x0=44.550362, y0=8,\n",
    "            x1=69.745587, y1=35,\n",
    "            line_width=0,layer=\"below\",\n",
    "            fillcolor=b, opacity=0.35)\n",
    "\n",
    "fig.add_shape(type=\"rect\",\n",
    "            x0=69.745587, y0=8,\n",
    "            x1=110, y1=35,\n",
    "            line_width=0,layer=\"below\",\n",
    "            fillcolor=b, opacity=0.7)\n",
    "\n",
    "fig.update_layout(\n",
    "    updatemenus = list([\n",
    "    dict(type=\"buttons\", \n",
    "         direction=\"left\", \n",
    "         active=0,\n",
    "         buttons=list([\n",
    "                        dict(label='Hele landet',\n",
    "                 method='update',\n",
    "                 args=[{'visible': [True, True, True, True, True, True, True, True, True, True, True]}]), \n",
    "            dict(label='Midt',\n",
    "                 method='update',\n",
    "                 args=[{'visible': [False, False, True, False, False, False, False, True, False, False, False]}]),         \n",
    "            dict(label='Nord',\n",
    "                 method='update',\n",
    "                 args=[{'visible': [False, False, False, True, False, False, True, False, False, False, False]}]),\n",
    "            \n",
    "            dict(label='Sør-Øst',\n",
    "                 method='update',\n",
    "                 args=[{'visible': [True, True, False, False, True, False, False, False, True, False, True]}]),  \n",
    "                               \n",
    "             dict(label='Vest',\n",
    "                 method='update',\n",
    "                 args=[{'visible': [False, False, False, False, False, True, False, False, False, True, False]},\n",
    "                       ])  \n",
    "             \n",
    "            ]),\n",
    "            showactive=True,\n",
    "            x=0.5,\n",
    "            xanchor=\"center\",\n",
    "            y=-0.2,\n",
    "            yanchor=\"top\"\n",
    "        )\n",
    "    ]))\n",
    "\n",
    "fig.update_layout(autosize=True,\n",
    "    margin=dict(l=100, r=100, t=120, b=100),\n",
    "    paper_bgcolor='rgba(0, 0, 0, 0)',\n",
    "    xaxis=dict(showgrid=False),\n",
    "    yaxis=dict(showgrid=False),\n",
    "    #plot_bgcolor='rgb(248, 248, 255),'\n",
    "                 )\n",
    "\n",
    "#py.plot(fig, filename='sarbare_kommuner.html', auto_open=False)\n",
    "fig.show()"
   ]
  },
  {
   "cell_type": "code",
   "execution_count": 194,
   "metadata": {},
   "outputs": [
    {
     "data": {
      "text/html": [
       "<div>\n",
       "<style scoped>\n",
       "    .dataframe tbody tr th:only-of-type {\n",
       "        vertical-align: middle;\n",
       "    }\n",
       "\n",
       "    .dataframe tbody tr th {\n",
       "        vertical-align: top;\n",
       "    }\n",
       "\n",
       "    .dataframe thead th {\n",
       "        text-align: right;\n",
       "    }\n",
       "</style>\n",
       "<table border=\"1\" class=\"dataframe\">\n",
       "  <thead>\n",
       "    <tr style=\"text-align: right;\">\n",
       "      <th></th>\n",
       "      <th>Kommunenr</th>\n",
       "      <th>Kommune_x</th>\n",
       "      <th>over 65</th>\n",
       "      <th>under 65</th>\n",
       "      <th>andel over 65</th>\n",
       "      <th>Andel i tettebebyggelse</th>\n",
       "      <th>Befolkning</th>\n",
       "      <th>Fylkesnummer</th>\n",
       "      <th>Fylke</th>\n",
       "      <th>Kommunenummer</th>\n",
       "      <th>Kommune_y</th>\n",
       "      <th>rest</th>\n",
       "      <th>risk_score</th>\n",
       "    </tr>\n",
       "  </thead>\n",
       "  <tbody>\n",
       "    <tr>\n",
       "      <td>0</td>\n",
       "      <td>301</td>\n",
       "      <td>Oslo kommune</td>\n",
       "      <td>87380</td>\n",
       "      <td>606114</td>\n",
       "      <td>12.599965</td>\n",
       "      <td>99.422674</td>\n",
       "      <td>681071</td>\n",
       "      <td>3</td>\n",
       "      <td>Oslo</td>\n",
       "      <td>301</td>\n",
       "      <td>Oslo</td>\n",
       "      <td>NaN</td>\n",
       "      <td>0.047374</td>\n",
       "    </tr>\n",
       "    <tr>\n",
       "      <td>1</td>\n",
       "      <td>1101</td>\n",
       "      <td>Eigersund</td>\n",
       "      <td>2687</td>\n",
       "      <td>12124</td>\n",
       "      <td>18.141922</td>\n",
       "      <td>82.805125</td>\n",
       "      <td>14830</td>\n",
       "      <td>11</td>\n",
       "      <td>Rogaland</td>\n",
       "      <td>1101</td>\n",
       "      <td>Eigersund</td>\n",
       "      <td>NaN</td>\n",
       "      <td>0.269168</td>\n",
       "    </tr>\n",
       "    <tr>\n",
       "      <td>2</td>\n",
       "      <td>1103</td>\n",
       "      <td>Stavanger</td>\n",
       "      <td>20729</td>\n",
       "      <td>122845</td>\n",
       "      <td>14.437851</td>\n",
       "      <td>95.848881</td>\n",
       "      <td>142034</td>\n",
       "      <td>11</td>\n",
       "      <td>Rogaland</td>\n",
       "      <td>1103</td>\n",
       "      <td>Stavanger</td>\n",
       "      <td>NaN</td>\n",
       "      <td>0.133851</td>\n",
       "    </tr>\n",
       "    <tr>\n",
       "      <td>3</td>\n",
       "      <td>1106</td>\n",
       "      <td>Haugesund</td>\n",
       "      <td>6342</td>\n",
       "      <td>31015</td>\n",
       "      <td>16.976738</td>\n",
       "      <td>97.535570</td>\n",
       "      <td>37250</td>\n",
       "      <td>11</td>\n",
       "      <td>Rogaland</td>\n",
       "      <td>1106</td>\n",
       "      <td>Haugesund</td>\n",
       "      <td>NaN</td>\n",
       "      <td>0.260163</td>\n",
       "    </tr>\n",
       "    <tr>\n",
       "      <td>4</td>\n",
       "      <td>1108</td>\n",
       "      <td>Sandnes</td>\n",
       "      <td>10292</td>\n",
       "      <td>69245</td>\n",
       "      <td>12.939890</td>\n",
       "      <td>93.825775</td>\n",
       "      <td>78439</td>\n",
       "      <td>11</td>\n",
       "      <td>Rogaland</td>\n",
       "      <td>1108</td>\n",
       "      <td>Sandnes</td>\n",
       "      <td>NaN</td>\n",
       "      <td>0.060672</td>\n",
       "    </tr>\n",
       "  </tbody>\n",
       "</table>\n",
       "</div>"
      ],
      "text/plain": [
       "   Kommunenr     Kommune_x  over 65  under 65  andel over 65  \\\n",
       "0        301  Oslo kommune    87380    606114      12.599965   \n",
       "1       1101     Eigersund     2687     12124      18.141922   \n",
       "2       1103     Stavanger    20729    122845      14.437851   \n",
       "3       1106     Haugesund     6342     31015      16.976738   \n",
       "4       1108       Sandnes    10292     69245      12.939890   \n",
       "\n",
       "   Andel i tettebebyggelse  Befolkning  Fylkesnummer     Fylke  Kommunenummer  \\\n",
       "0                99.422674      681071             3      Oslo            301   \n",
       "1                82.805125       14830            11  Rogaland           1101   \n",
       "2                95.848881      142034            11  Rogaland           1103   \n",
       "3                97.535570       37250            11  Rogaland           1106   \n",
       "4                93.825775       78439            11  Rogaland           1108   \n",
       "\n",
       "   Kommune_y rest  risk_score  \n",
       "0       Oslo  NaN    0.047374  \n",
       "1  Eigersund  NaN    0.269168  \n",
       "2  Stavanger  NaN    0.133851  \n",
       "3  Haugesund  NaN    0.260163  \n",
       "4    Sandnes  NaN    0.060672  "
      ]
     },
     "execution_count": 194,
     "metadata": {},
     "output_type": "execute_result"
    }
   ],
   "source": [
    "data[\"risk_score\"] = (data[\"andel over 65\"] - data[\"andel over 65\"].min())/(data[\"andel over 65\"].max()-data[\"andel over 65\"].min()) * (data[\"Andel i tettebebyggelse\"] - data[\"Andel i tettebebyggelse\"].min())/(data[\"Andel i tettebebyggelse\"].max()-data[\"Andel i tettebebyggelse\"].min())\n",
    "data.head()"
   ]
  },
  {
   "cell_type": "code",
   "execution_count": 199,
   "metadata": {},
   "outputs": [
    {
     "data": {
      "application/vnd.plotly.v1+json": {
       "config": {
        "plotlyServerURL": "https://plot.ly"
       },
       "data": [
        {
         "alignmentgroup": "True",
         "hoverlabel": {
          "namelength": 0
         },
         "hovertemplate": "Fylke=%{y}<br>risk_score=%{x}",
         "legendgroup": "Agder",
         "marker": {
          "color": "#636efa"
         },
         "name": "Agder",
         "offsetgroup": "Agder",
         "orientation": "h",
         "showlegend": true,
         "textposition": "auto",
         "type": "bar",
         "x": [
          0.4363985257332151,
          0.2147396080986662,
          0.33372694246418194,
          0.19408674830726602,
          0.2488701815374702,
          0.3096350958407749,
          0.3455901480002862,
          0.18101211549832852,
          0.1332091494944254,
          0.25595858329109294,
          0.11601539548753502,
          0.25198931941173036,
          0.13656436069516578,
          0.19152368932734526,
          0,
          0.2951748148730297,
          0.3611852425461701,
          0,
          0.10277797012691667,
          0.15586712336620598,
          0,
          0.1621564398269444,
          0.04513610888465561,
          0.17014551765435912,
          0.20537560130560228
         ],
         "xaxis": "x",
         "y": [
          "Agder",
          "Agder",
          "Agder",
          "Agder",
          "Agder",
          "Agder",
          "Agder",
          "Agder",
          "Agder",
          "Agder",
          "Agder",
          "Agder",
          "Agder",
          "Agder",
          "Agder",
          "Agder",
          "Agder",
          "Agder",
          "Agder",
          "Agder",
          "Agder",
          "Agder",
          "Agder",
          "Agder",
          "Agder"
         ],
         "yaxis": "y"
        },
        {
         "alignmentgroup": "True",
         "hoverlabel": {
          "namelength": 0
         },
         "hovertemplate": "Fylke=%{y}<br>risk_score=%{x}",
         "legendgroup": "Innlandet",
         "marker": {
          "color": "#EF553B"
         },
         "name": "Innlandet",
         "offsetgroup": "Innlandet",
         "orientation": "h",
         "showlegend": true,
         "textposition": "auto",
         "type": "bar",
         "x": [
          0.4539038985187517,
          0.46110736907342925,
          0.37744492071564845,
          0.32525980302602375,
          0.22279639490810632,
          0.2834452678013004,
          0.26264101425093683,
          0.20084552274217654,
          0.18206472959222295,
          0.2648338616172545,
          0.23408505029357562,
          0.24441733765196735,
          0.3016871411633605,
          0.31819949710740153,
          0.30056275678657607,
          0.25704854865558563,
          0.3819114713668564,
          0.14093208815643526,
          0,
          0.18239668725026398,
          0.24412734483109363,
          0.1292850127815003,
          0.28653198364183724,
          0.22521389258936214,
          0.3622495308577953,
          0.0698398757066921,
          0.21012381824343684,
          0.24167694097614725,
          0.32683476994555366,
          0.3890519667348873,
          0.34232116652485106,
          0.21468460778185414,
          0.3051901986421698,
          0.27095069527065313,
          0.24471211405347054,
          0.2259992138708634,
          0.3525298844089402,
          0.23571112068759797,
          0.20409010550224543,
          0.25546842354316557,
          0.15499487028685127,
          0.1404069257292316,
          0.32080074479586723,
          0.15377366368378156,
          0.14198128922183018,
          0
         ],
         "xaxis": "x",
         "y": [
          "Innlandet",
          "Innlandet",
          "Innlandet",
          "Innlandet",
          "Innlandet",
          "Innlandet",
          "Innlandet",
          "Innlandet",
          "Innlandet",
          "Innlandet",
          "Innlandet",
          "Innlandet",
          "Innlandet",
          "Innlandet",
          "Innlandet",
          "Innlandet",
          "Innlandet",
          "Innlandet",
          "Innlandet",
          "Innlandet",
          "Innlandet",
          "Innlandet",
          "Innlandet",
          "Innlandet",
          "Innlandet",
          "Innlandet",
          "Innlandet",
          "Innlandet",
          "Innlandet",
          "Innlandet",
          "Innlandet",
          "Innlandet",
          "Innlandet",
          "Innlandet",
          "Innlandet",
          "Innlandet",
          "Innlandet",
          "Innlandet",
          "Innlandet",
          "Innlandet",
          "Innlandet",
          "Innlandet",
          "Innlandet",
          "Innlandet",
          "Innlandet",
          "Innlandet"
         ],
         "yaxis": "y"
        },
        {
         "alignmentgroup": "True",
         "hoverlabel": {
          "namelength": 0
         },
         "hovertemplate": "Fylke=%{y}<br>risk_score=%{x}",
         "legendgroup": "Møre og Romsdal",
         "marker": {
          "color": "#00cc96"
         },
         "name": "Møre og Romsdal",
         "offsetgroup": "Møre og Romsdal",
         "orientation": "h",
         "showlegend": true,
         "textposition": "auto",
         "type": "bar",
         "x": [
          0.4021551926691703,
          0.3507501226814576,
          0.25717322362038014,
          0.14031004263685568,
          0.20925491791348141,
          0.2955597958858888,
          0.201099758424497,
          0.2924643351383088,
          0.301381423802103,
          0.3864662007410456,
          0.33654421801264556,
          0.2176424210085723,
          0.19404218469372647,
          0.2940833738893232,
          0.3453927664908912,
          0.21180580786461267,
          0.13760532654709,
          0.13824021476275594,
          0.21587068477611782,
          0.34144706888130577,
          0.27743670845815727,
          0,
          0.11641019346446121,
          0.2954993555211757,
          0.1545540625939155,
          0.19723553583153555
         ],
         "xaxis": "x",
         "y": [
          "Møre og Romsdal",
          "Møre og Romsdal",
          "Møre og Romsdal",
          "Møre og Romsdal",
          "Møre og Romsdal",
          "Møre og Romsdal",
          "Møre og Romsdal",
          "Møre og Romsdal",
          "Møre og Romsdal",
          "Møre og Romsdal",
          "Møre og Romsdal",
          "Møre og Romsdal",
          "Møre og Romsdal",
          "Møre og Romsdal",
          "Møre og Romsdal",
          "Møre og Romsdal",
          "Møre og Romsdal",
          "Møre og Romsdal",
          "Møre og Romsdal",
          "Møre og Romsdal",
          "Møre og Romsdal",
          "Møre og Romsdal",
          "Møre og Romsdal",
          "Møre og Romsdal",
          "Møre og Romsdal",
          "Møre og Romsdal"
         ],
         "yaxis": "y"
        },
        {
         "alignmentgroup": "True",
         "hoverlabel": {
          "namelength": 0
         },
         "hovertemplate": "Fylke=%{y}<br>risk_score=%{x}",
         "legendgroup": "Nordland",
         "marker": {
          "color": "#ab63fa"
         },
         "name": "Nordland",
         "offsetgroup": "Nordland",
         "orientation": "h",
         "showlegend": true,
         "textposition": "auto",
         "type": "bar",
         "x": [
          0.21066580305712326,
          null,
          0.3179845346828195,
          0.2733824642100682,
          0.25926790710372044,
          0.20410223257794696,
          0,
          0.2655858062934505,
          0.37940678423502205,
          0.14168521325778305,
          0.3667942627615124,
          0.3714063187329877,
          0.3200435016139534,
          0.130635146824432,
          0.3103314623871536,
          0.36904711948999946,
          0.34562080885234553,
          0.18020869676795293,
          0.2877947082028364,
          0,
          0.2899177344825706,
          0.25606533399233433,
          0,
          0.3547568637246099,
          0.38264661331536043,
          0.33967022739860214,
          0,
          0.72559901331799,
          0.4814004209977881,
          0.3992016372270069,
          0.48027958932198456,
          0,
          0.2581005386311625,
          0.3203085149065254,
          0.3934249143781987,
          0.3236089737484996,
          0.26693556361782206,
          0.2374333502687132,
          0.47406652609244465,
          0.49270346379144325,
          null
         ],
         "xaxis": "x",
         "y": [
          "Nordland",
          "Nordland",
          "Nordland",
          "Nordland",
          "Nordland",
          "Nordland",
          "Nordland",
          "Nordland",
          "Nordland",
          "Nordland",
          "Nordland",
          "Nordland",
          "Nordland",
          "Nordland",
          "Nordland",
          "Nordland",
          "Nordland",
          "Nordland",
          "Nordland",
          "Nordland",
          "Nordland",
          "Nordland",
          "Nordland",
          "Nordland",
          "Nordland",
          "Nordland",
          "Nordland",
          "Nordland",
          "Nordland",
          "Nordland",
          "Nordland",
          "Nordland",
          "Nordland",
          "Nordland",
          "Nordland",
          "Nordland",
          "Nordland",
          "Nordland",
          "Nordland",
          "Nordland",
          "Nordland"
         ],
         "yaxis": "y"
        },
        {
         "alignmentgroup": "True",
         "hoverlabel": {
          "namelength": 0
         },
         "hovertemplate": "Fylke=%{y}<br>risk_score=%{x}",
         "legendgroup": "Oslo",
         "marker": {
          "color": "#FFA15A"
         },
         "name": "Oslo",
         "offsetgroup": "Oslo",
         "orientation": "h",
         "showlegend": true,
         "textposition": "auto",
         "type": "bar",
         "x": [
          0.04737428797946985
         ],
         "xaxis": "x",
         "y": [
          "Oslo"
         ],
         "yaxis": "y"
        },
        {
         "alignmentgroup": "True",
         "hoverlabel": {
          "namelength": 0
         },
         "hovertemplate": "Fylke=%{y}<br>risk_score=%{x}",
         "legendgroup": "Rogaland",
         "marker": {
          "color": "#19d3f3"
         },
         "name": "Rogaland",
         "offsetgroup": "Rogaland",
         "orientation": "h",
         "showlegend": true,
         "textposition": "auto",
         "type": "bar",
         "x": [
          0.2691680138739907,
          0.13385112464294885,
          0.2601631197766327,
          0.06067237123644171,
          0.28786128352181073,
          0.20337868844282278,
          0.07051932958686698,
          0.11091517940313265,
          0.0700814909275251,
          0.11845673648650777,
          0,
          0.06380587405921645,
          0.14115516234834485,
          0.18520647538637636,
          0.10988470527258266,
          0.1537479056802922,
          0.4715915534232754,
          0.4265322391765703,
          0.15589844415126974,
          0.14339381145423732,
          0.24885454477105634,
          0,
          0.1404610753901668
         ],
         "xaxis": "x",
         "y": [
          "Rogaland",
          "Rogaland",
          "Rogaland",
          "Rogaland",
          "Rogaland",
          "Rogaland",
          "Rogaland",
          "Rogaland",
          "Rogaland",
          "Rogaland",
          "Rogaland",
          "Rogaland",
          "Rogaland",
          "Rogaland",
          "Rogaland",
          "Rogaland",
          "Rogaland",
          "Rogaland",
          "Rogaland",
          "Rogaland",
          "Rogaland",
          "Rogaland",
          "Rogaland"
         ],
         "yaxis": "y"
        },
        {
         "alignmentgroup": "True",
         "hoverlabel": {
          "namelength": 0
         },
         "hovertemplate": "Fylke=%{y}<br>risk_score=%{x}",
         "legendgroup": "Troms og Finnmark ",
         "marker": {
          "color": "#FF6692"
         },
         "name": "Troms og Finnmark ",
         "offsetgroup": "Troms og Finnmark ",
         "orientation": "h",
         "showlegend": true,
         "textposition": "auto",
         "type": "bar",
         "x": [
          0.10786842957945662,
          0.35848607764265433,
          0.11922624316030704,
          0.6310810363244789,
          0.36856628901966276,
          0.23619706403898846,
          0.35263102602879076,
          0.2691025772736085,
          0.3496550129562495,
          0,
          0.19068502981734844,
          0.27461765739721405,
          0.22739052326552556,
          0.23935009922293568,
          0.20464016209146624,
          0,
          0.25474501984663295,
          0.16647705455064113,
          0.17109493378698037,
          0.3115570319305911,
          0.19976617422792076,
          0.2150512701969685,
          0.42718247411981697,
          0.26212738696486426,
          0.2621906783059126,
          0.16173120629296303,
          0.4727489179925712,
          0.36835296925475886,
          0.6307627516026196,
          0.4215645638043665,
          0.30765937613067545,
          0.2841425327041238,
          0.37769213437131,
          0.4025011168796937,
          0.6465495796832829,
          0.14961141516678747,
          0,
          0.30357692520606383,
          0.25698596357141995
         ],
         "xaxis": "x",
         "y": [
          "Troms og Finnmark ",
          "Troms og Finnmark ",
          "Troms og Finnmark ",
          "Troms og Finnmark ",
          "Troms og Finnmark ",
          "Troms og Finnmark ",
          "Troms og Finnmark ",
          "Troms og Finnmark ",
          "Troms og Finnmark ",
          "Troms og Finnmark ",
          "Troms og Finnmark ",
          "Troms og Finnmark ",
          "Troms og Finnmark ",
          "Troms og Finnmark ",
          "Troms og Finnmark ",
          "Troms og Finnmark ",
          "Troms og Finnmark ",
          "Troms og Finnmark ",
          "Troms og Finnmark ",
          "Troms og Finnmark ",
          "Troms og Finnmark ",
          "Troms og Finnmark ",
          "Troms og Finnmark ",
          "Troms og Finnmark ",
          "Troms og Finnmark ",
          "Troms og Finnmark ",
          "Troms og Finnmark ",
          "Troms og Finnmark ",
          "Troms og Finnmark ",
          "Troms og Finnmark ",
          "Troms og Finnmark ",
          "Troms og Finnmark ",
          "Troms og Finnmark ",
          "Troms og Finnmark ",
          "Troms og Finnmark ",
          "Troms og Finnmark ",
          "Troms og Finnmark ",
          "Troms og Finnmark ",
          "Troms og Finnmark "
         ],
         "yaxis": "y"
        },
        {
         "alignmentgroup": "True",
         "hoverlabel": {
          "namelength": 0
         },
         "hovertemplate": "Fylke=%{y}<br>risk_score=%{x}",
         "legendgroup": "Trøndelag ",
         "marker": {
          "color": "#B6E880"
         },
         "name": "Trøndelag ",
         "offsetgroup": "Trøndelag ",
         "orientation": "h",
         "showlegend": true,
         "textposition": "auto",
         "type": "bar",
         "x": [
          0.1453555572309886,
          0.3337880494296935,
          0.3327009400753234,
          0.07674967622282872,
          0,
          0.31715089165529664,
          0.28300738903035483,
          0.4592562562565034,
          0.2349691176530013,
          0.18398770072697176,
          0.17979595397594553,
          0.1047955828169077,
          0.11693695613686828,
          0.1692557352068853,
          0,
          0.27423391377205053,
          0.2400580390905792,
          0.11869197098693043,
          0.24107309122350676,
          0.30090832936127604,
          0.20749266283604928,
          0.1360339585399808,
          0.4184641871973744,
          0.22911999622326087,
          0.34177777021642713,
          0.19070977368590722,
          0.17106027334717988,
          0.3061040189129156,
          0,
          0.2369632619180385,
          0.19998530610708604,
          null,
          null,
          0.2329039926133716,
          0.1904018998144598,
          null,
          0.20762955314927223,
          0.23124022733442287
         ],
         "xaxis": "x",
         "y": [
          "Trøndelag ",
          "Trøndelag ",
          "Trøndelag ",
          "Trøndelag ",
          "Trøndelag ",
          "Trøndelag ",
          "Trøndelag ",
          "Trøndelag ",
          "Trøndelag ",
          "Trøndelag ",
          "Trøndelag ",
          "Trøndelag ",
          "Trøndelag ",
          "Trøndelag ",
          "Trøndelag ",
          "Trøndelag ",
          "Trøndelag ",
          "Trøndelag ",
          "Trøndelag ",
          "Trøndelag ",
          "Trøndelag ",
          "Trøndelag ",
          "Trøndelag ",
          "Trøndelag ",
          "Trøndelag ",
          "Trøndelag ",
          "Trøndelag ",
          "Trøndelag ",
          "Trøndelag ",
          "Trøndelag ",
          "Trøndelag ",
          "Trøndelag ",
          "Trøndelag ",
          "Trøndelag ",
          "Trøndelag ",
          "Trøndelag ",
          "Trøndelag ",
          "Trøndelag "
         ],
         "yaxis": "y"
        },
        {
         "alignmentgroup": "True",
         "hoverlabel": {
          "namelength": 0
         },
         "hovertemplate": "Fylke=%{y}<br>risk_score=%{x}",
         "legendgroup": "Vestfold og Telemark",
         "marker": {
          "color": "#FF97FF"
         },
         "name": "Vestfold og Telemark",
         "offsetgroup": "Vestfold og Telemark",
         "orientation": "h",
         "showlegend": true,
         "textposition": "auto",
         "type": "bar",
         "x": [
          0.41164058752338906,
          0.28820484436962424,
          0.2808385490349586,
          0.3253301860532126,
          0.39910228211796345,
          0.3927907652134463,
          0.3634480285455143,
          0.3650062545487652,
          0.4379435631188102,
          0.2221358616745486,
          0.4079110565735646,
          0.51842968904506,
          0.20918234386107096,
          0.31106317693034985,
          0.19399497840338967,
          0.4292424849185261,
          0,
          0.30757818940836745,
          0.20140650157682055,
          0.2106378962888929,
          0.16279792623390094,
          0.1614859347612647,
          0.16278777396255792
         ],
         "xaxis": "x",
         "y": [
          "Vestfold og Telemark",
          "Vestfold og Telemark",
          "Vestfold og Telemark",
          "Vestfold og Telemark",
          "Vestfold og Telemark",
          "Vestfold og Telemark",
          "Vestfold og Telemark",
          "Vestfold og Telemark",
          "Vestfold og Telemark",
          "Vestfold og Telemark",
          "Vestfold og Telemark",
          "Vestfold og Telemark",
          "Vestfold og Telemark",
          "Vestfold og Telemark",
          "Vestfold og Telemark",
          "Vestfold og Telemark",
          "Vestfold og Telemark",
          "Vestfold og Telemark",
          "Vestfold og Telemark",
          "Vestfold og Telemark",
          "Vestfold og Telemark",
          "Vestfold og Telemark",
          "Vestfold og Telemark"
         ],
         "yaxis": "y"
        },
        {
         "alignmentgroup": "True",
         "hoverlabel": {
          "namelength": 0
         },
         "hovertemplate": "Fylke=%{y}<br>risk_score=%{x}",
         "legendgroup": "Vestland",
         "marker": {
          "color": "#FECB52"
         },
         "name": "Vestland",
         "offsetgroup": "Vestland",
         "orientation": "h",
         "showlegend": true,
         "textposition": "auto",
         "type": "bar",
         "x": [
          0.19692461637906858,
          0.2873986310359974,
          0.21903264290330882,
          0.0981127837422787,
          0.18326552844096647,
          0.2521113001732263,
          0.18764922985522323,
          0.2922820414651426,
          0.3322045749568175,
          0.3972162820007755,
          0.32334809081333504,
          0.3469141100625373,
          0.3047785382259638,
          0.3845738081611318,
          0.23262843839826491,
          0.1959108626344246,
          0.13307648338566985,
          0.11927298362935333,
          0.1362000087079556,
          0.41574123789246037,
          0,
          0.17842068149242163,
          0.17469554581183522,
          0.20910378043819386,
          0.6162375429506243,
          0,
          0.14371385478840557,
          0.2963841596863584,
          0,
          0.3944003286504479,
          0.3452725216758562,
          0.2279038262796617,
          0.21997193457848835,
          0.3222271380500496,
          0.5517703429619752,
          0.21434923244114865,
          0.18023061348390698,
          0.2452406225165099,
          0.17242559142922043,
          0.38895445944110035,
          0.26019867441152006,
          0.30057842002324114,
          0.20472044383248897
         ],
         "xaxis": "x",
         "y": [
          "Vestland",
          "Vestland",
          "Vestland",
          "Vestland",
          "Vestland",
          "Vestland",
          "Vestland",
          "Vestland",
          "Vestland",
          "Vestland",
          "Vestland",
          "Vestland",
          "Vestland",
          "Vestland",
          "Vestland",
          "Vestland",
          "Vestland",
          "Vestland",
          "Vestland",
          "Vestland",
          "Vestland",
          "Vestland",
          "Vestland",
          "Vestland",
          "Vestland",
          "Vestland",
          "Vestland",
          "Vestland",
          "Vestland",
          "Vestland",
          "Vestland",
          "Vestland",
          "Vestland",
          "Vestland",
          "Vestland",
          "Vestland",
          "Vestland",
          "Vestland",
          "Vestland",
          "Vestland",
          "Vestland",
          "Vestland",
          "Vestland"
         ],
         "yaxis": "y"
        },
        {
         "alignmentgroup": "True",
         "hoverlabel": {
          "namelength": 0
         },
         "hovertemplate": "Fylke=%{y}<br>risk_score=%{x}",
         "legendgroup": "Viken",
         "marker": {
          "color": "#636efa"
         },
         "name": "Viken",
         "offsetgroup": "Viken",
         "orientation": "h",
         "showlegend": true,
         "textposition": "auto",
         "type": "bar",
         "x": [
          0.3753002109127021,
          0.4043778026687258,
          0.3310807381990372,
          0.3435985627745698,
          0.28930401929591854,
          0.3208727931381726,
          0.322000981733411,
          0.48574923400447245,
          0,
          0.3719703174140261,
          0.2846076734931522,
          0.1417073556044344,
          0.266736878020418,
          0.36062047910158185,
          0.09777594712985445,
          0.2354508189741235,
          0.2473149267270898,
          0.10726383618210576,
          0.3749768141010875,
          0.211375930457019,
          0.2466098558170448,
          0.24410128201860906,
          0.2266370732669234,
          0.10608681337331871,
          0.1496445919305183,
          0.19087672931949534,
          0.1633581980553683,
          0.13580430807985433,
          0.14172190757813108,
          0.07188832663468284,
          0.16688186728452897,
          0.1857376809673764,
          0.06253901523227887,
          0.19459583657851312,
          0.21897614960986317,
          0,
          0.45781453810424216,
          0.3392558933413953,
          0.12135917208764355,
          0.32842494087151974,
          0.3703596701054348,
          0.09309457991386454,
          0.22577301246544942,
          0.3304942864889993,
          0.24929102013024246,
          0.20619648810714744,
          0.17384766274631372,
          0.1620615158565112,
          0.1306205287521248,
          0.3023193881252321,
          0.23006131511042177
         ],
         "xaxis": "x",
         "y": [
          "Viken",
          "Viken",
          "Viken",
          "Viken",
          "Viken",
          "Viken",
          "Viken",
          "Viken",
          "Viken",
          "Viken",
          "Viken",
          "Viken",
          "Viken",
          "Viken",
          "Viken",
          "Viken",
          "Viken",
          "Viken",
          "Viken",
          "Viken",
          "Viken",
          "Viken",
          "Viken",
          "Viken",
          "Viken",
          "Viken",
          "Viken",
          "Viken",
          "Viken",
          "Viken",
          "Viken",
          "Viken",
          "Viken",
          "Viken",
          "Viken",
          "Viken",
          "Viken",
          "Viken",
          "Viken",
          "Viken",
          "Viken",
          "Viken",
          "Viken",
          "Viken",
          "Viken",
          "Viken",
          "Viken",
          "Viken",
          "Viken",
          "Viken",
          "Viken"
         ],
         "yaxis": "y"
        }
       ],
       "layout": {
        "autosize": true,
        "barmode": "relative",
        "coloraxis": {
         "showscale": false
        },
        "height": 500,
        "legend": {
         "title": {
          "text": "Fylke"
         },
         "tracegroupgap": 0
        },
        "margin": {
         "b": 0,
         "l": 100,
         "r": 100,
         "t": 150
        },
        "paper_bgcolor": "rgba(0, 0, 0, 0)",
        "template": {
         "data": {
          "bar": [
           {
            "error_x": {
             "color": "#2a3f5f"
            },
            "error_y": {
             "color": "#2a3f5f"
            },
            "marker": {
             "line": {
              "color": "white",
              "width": 0.5
             }
            },
            "type": "bar"
           }
          ],
          "barpolar": [
           {
            "marker": {
             "line": {
              "color": "white",
              "width": 0.5
             }
            },
            "type": "barpolar"
           }
          ],
          "carpet": [
           {
            "aaxis": {
             "endlinecolor": "#2a3f5f",
             "gridcolor": "#C8D4E3",
             "linecolor": "#C8D4E3",
             "minorgridcolor": "#C8D4E3",
             "startlinecolor": "#2a3f5f"
            },
            "baxis": {
             "endlinecolor": "#2a3f5f",
             "gridcolor": "#C8D4E3",
             "linecolor": "#C8D4E3",
             "minorgridcolor": "#C8D4E3",
             "startlinecolor": "#2a3f5f"
            },
            "type": "carpet"
           }
          ],
          "choropleth": [
           {
            "colorbar": {
             "outlinewidth": 0,
             "ticks": ""
            },
            "type": "choropleth"
           }
          ],
          "contour": [
           {
            "colorbar": {
             "outlinewidth": 0,
             "ticks": ""
            },
            "colorscale": [
             [
              0,
              "#0d0887"
             ],
             [
              0.1111111111111111,
              "#46039f"
             ],
             [
              0.2222222222222222,
              "#7201a8"
             ],
             [
              0.3333333333333333,
              "#9c179e"
             ],
             [
              0.4444444444444444,
              "#bd3786"
             ],
             [
              0.5555555555555556,
              "#d8576b"
             ],
             [
              0.6666666666666666,
              "#ed7953"
             ],
             [
              0.7777777777777778,
              "#fb9f3a"
             ],
             [
              0.8888888888888888,
              "#fdca26"
             ],
             [
              1,
              "#f0f921"
             ]
            ],
            "type": "contour"
           }
          ],
          "contourcarpet": [
           {
            "colorbar": {
             "outlinewidth": 0,
             "ticks": ""
            },
            "type": "contourcarpet"
           }
          ],
          "heatmap": [
           {
            "colorbar": {
             "outlinewidth": 0,
             "ticks": ""
            },
            "colorscale": [
             [
              0,
              "#0d0887"
             ],
             [
              0.1111111111111111,
              "#46039f"
             ],
             [
              0.2222222222222222,
              "#7201a8"
             ],
             [
              0.3333333333333333,
              "#9c179e"
             ],
             [
              0.4444444444444444,
              "#bd3786"
             ],
             [
              0.5555555555555556,
              "#d8576b"
             ],
             [
              0.6666666666666666,
              "#ed7953"
             ],
             [
              0.7777777777777778,
              "#fb9f3a"
             ],
             [
              0.8888888888888888,
              "#fdca26"
             ],
             [
              1,
              "#f0f921"
             ]
            ],
            "type": "heatmap"
           }
          ],
          "heatmapgl": [
           {
            "colorbar": {
             "outlinewidth": 0,
             "ticks": ""
            },
            "colorscale": [
             [
              0,
              "#0d0887"
             ],
             [
              0.1111111111111111,
              "#46039f"
             ],
             [
              0.2222222222222222,
              "#7201a8"
             ],
             [
              0.3333333333333333,
              "#9c179e"
             ],
             [
              0.4444444444444444,
              "#bd3786"
             ],
             [
              0.5555555555555556,
              "#d8576b"
             ],
             [
              0.6666666666666666,
              "#ed7953"
             ],
             [
              0.7777777777777778,
              "#fb9f3a"
             ],
             [
              0.8888888888888888,
              "#fdca26"
             ],
             [
              1,
              "#f0f921"
             ]
            ],
            "type": "heatmapgl"
           }
          ],
          "histogram": [
           {
            "marker": {
             "colorbar": {
              "outlinewidth": 0,
              "ticks": ""
             }
            },
            "type": "histogram"
           }
          ],
          "histogram2d": [
           {
            "colorbar": {
             "outlinewidth": 0,
             "ticks": ""
            },
            "colorscale": [
             [
              0,
              "#0d0887"
             ],
             [
              0.1111111111111111,
              "#46039f"
             ],
             [
              0.2222222222222222,
              "#7201a8"
             ],
             [
              0.3333333333333333,
              "#9c179e"
             ],
             [
              0.4444444444444444,
              "#bd3786"
             ],
             [
              0.5555555555555556,
              "#d8576b"
             ],
             [
              0.6666666666666666,
              "#ed7953"
             ],
             [
              0.7777777777777778,
              "#fb9f3a"
             ],
             [
              0.8888888888888888,
              "#fdca26"
             ],
             [
              1,
              "#f0f921"
             ]
            ],
            "type": "histogram2d"
           }
          ],
          "histogram2dcontour": [
           {
            "colorbar": {
             "outlinewidth": 0,
             "ticks": ""
            },
            "colorscale": [
             [
              0,
              "#0d0887"
             ],
             [
              0.1111111111111111,
              "#46039f"
             ],
             [
              0.2222222222222222,
              "#7201a8"
             ],
             [
              0.3333333333333333,
              "#9c179e"
             ],
             [
              0.4444444444444444,
              "#bd3786"
             ],
             [
              0.5555555555555556,
              "#d8576b"
             ],
             [
              0.6666666666666666,
              "#ed7953"
             ],
             [
              0.7777777777777778,
              "#fb9f3a"
             ],
             [
              0.8888888888888888,
              "#fdca26"
             ],
             [
              1,
              "#f0f921"
             ]
            ],
            "type": "histogram2dcontour"
           }
          ],
          "mesh3d": [
           {
            "colorbar": {
             "outlinewidth": 0,
             "ticks": ""
            },
            "type": "mesh3d"
           }
          ],
          "parcoords": [
           {
            "line": {
             "colorbar": {
              "outlinewidth": 0,
              "ticks": ""
             }
            },
            "type": "parcoords"
           }
          ],
          "pie": [
           {
            "automargin": true,
            "type": "pie"
           }
          ],
          "scatter": [
           {
            "marker": {
             "colorbar": {
              "outlinewidth": 0,
              "ticks": ""
             }
            },
            "type": "scatter"
           }
          ],
          "scatter3d": [
           {
            "line": {
             "colorbar": {
              "outlinewidth": 0,
              "ticks": ""
             }
            },
            "marker": {
             "colorbar": {
              "outlinewidth": 0,
              "ticks": ""
             }
            },
            "type": "scatter3d"
           }
          ],
          "scattercarpet": [
           {
            "marker": {
             "colorbar": {
              "outlinewidth": 0,
              "ticks": ""
             }
            },
            "type": "scattercarpet"
           }
          ],
          "scattergeo": [
           {
            "marker": {
             "colorbar": {
              "outlinewidth": 0,
              "ticks": ""
             }
            },
            "type": "scattergeo"
           }
          ],
          "scattergl": [
           {
            "marker": {
             "colorbar": {
              "outlinewidth": 0,
              "ticks": ""
             }
            },
            "type": "scattergl"
           }
          ],
          "scattermapbox": [
           {
            "marker": {
             "colorbar": {
              "outlinewidth": 0,
              "ticks": ""
             }
            },
            "type": "scattermapbox"
           }
          ],
          "scatterpolar": [
           {
            "marker": {
             "colorbar": {
              "outlinewidth": 0,
              "ticks": ""
             }
            },
            "type": "scatterpolar"
           }
          ],
          "scatterpolargl": [
           {
            "marker": {
             "colorbar": {
              "outlinewidth": 0,
              "ticks": ""
             }
            },
            "type": "scatterpolargl"
           }
          ],
          "scatterternary": [
           {
            "marker": {
             "colorbar": {
              "outlinewidth": 0,
              "ticks": ""
             }
            },
            "type": "scatterternary"
           }
          ],
          "surface": [
           {
            "colorbar": {
             "outlinewidth": 0,
             "ticks": ""
            },
            "colorscale": [
             [
              0,
              "#0d0887"
             ],
             [
              0.1111111111111111,
              "#46039f"
             ],
             [
              0.2222222222222222,
              "#7201a8"
             ],
             [
              0.3333333333333333,
              "#9c179e"
             ],
             [
              0.4444444444444444,
              "#bd3786"
             ],
             [
              0.5555555555555556,
              "#d8576b"
             ],
             [
              0.6666666666666666,
              "#ed7953"
             ],
             [
              0.7777777777777778,
              "#fb9f3a"
             ],
             [
              0.8888888888888888,
              "#fdca26"
             ],
             [
              1,
              "#f0f921"
             ]
            ],
            "type": "surface"
           }
          ],
          "table": [
           {
            "cells": {
             "fill": {
              "color": "#EBF0F8"
             },
             "line": {
              "color": "white"
             }
            },
            "header": {
             "fill": {
              "color": "#C8D4E3"
             },
             "line": {
              "color": "white"
             }
            },
            "type": "table"
           }
          ]
         },
         "layout": {
          "annotationdefaults": {
           "arrowcolor": "#2a3f5f",
           "arrowhead": 0,
           "arrowwidth": 1
          },
          "coloraxis": {
           "colorbar": {
            "outlinewidth": 0,
            "ticks": ""
           }
          },
          "colorscale": {
           "diverging": [
            [
             0,
             "#8e0152"
            ],
            [
             0.1,
             "#c51b7d"
            ],
            [
             0.2,
             "#de77ae"
            ],
            [
             0.3,
             "#f1b6da"
            ],
            [
             0.4,
             "#fde0ef"
            ],
            [
             0.5,
             "#f7f7f7"
            ],
            [
             0.6,
             "#e6f5d0"
            ],
            [
             0.7,
             "#b8e186"
            ],
            [
             0.8,
             "#7fbc41"
            ],
            [
             0.9,
             "#4d9221"
            ],
            [
             1,
             "#276419"
            ]
           ],
           "sequential": [
            [
             0,
             "#0d0887"
            ],
            [
             0.1111111111111111,
             "#46039f"
            ],
            [
             0.2222222222222222,
             "#7201a8"
            ],
            [
             0.3333333333333333,
             "#9c179e"
            ],
            [
             0.4444444444444444,
             "#bd3786"
            ],
            [
             0.5555555555555556,
             "#d8576b"
            ],
            [
             0.6666666666666666,
             "#ed7953"
            ],
            [
             0.7777777777777778,
             "#fb9f3a"
            ],
            [
             0.8888888888888888,
             "#fdca26"
            ],
            [
             1,
             "#f0f921"
            ]
           ],
           "sequentialminus": [
            [
             0,
             "#0d0887"
            ],
            [
             0.1111111111111111,
             "#46039f"
            ],
            [
             0.2222222222222222,
             "#7201a8"
            ],
            [
             0.3333333333333333,
             "#9c179e"
            ],
            [
             0.4444444444444444,
             "#bd3786"
            ],
            [
             0.5555555555555556,
             "#d8576b"
            ],
            [
             0.6666666666666666,
             "#ed7953"
            ],
            [
             0.7777777777777778,
             "#fb9f3a"
            ],
            [
             0.8888888888888888,
             "#fdca26"
            ],
            [
             1,
             "#f0f921"
            ]
           ]
          },
          "colorway": [
           "#636efa",
           "#EF553B",
           "#00cc96",
           "#ab63fa",
           "#FFA15A",
           "#19d3f3",
           "#FF6692",
           "#B6E880",
           "#FF97FF",
           "#FECB52"
          ],
          "font": {
           "color": "#2a3f5f"
          },
          "geo": {
           "bgcolor": "white",
           "lakecolor": "white",
           "landcolor": "white",
           "showlakes": true,
           "showland": true,
           "subunitcolor": "#C8D4E3"
          },
          "hoverlabel": {
           "align": "left"
          },
          "hovermode": "closest",
          "mapbox": {
           "style": "light"
          },
          "paper_bgcolor": "white",
          "plot_bgcolor": "white",
          "polar": {
           "angularaxis": {
            "gridcolor": "#EBF0F8",
            "linecolor": "#EBF0F8",
            "ticks": ""
           },
           "bgcolor": "white",
           "radialaxis": {
            "gridcolor": "#EBF0F8",
            "linecolor": "#EBF0F8",
            "ticks": ""
           }
          },
          "scene": {
           "xaxis": {
            "backgroundcolor": "white",
            "gridcolor": "#DFE8F3",
            "gridwidth": 2,
            "linecolor": "#EBF0F8",
            "showbackground": true,
            "ticks": "",
            "zerolinecolor": "#EBF0F8"
           },
           "yaxis": {
            "backgroundcolor": "white",
            "gridcolor": "#DFE8F3",
            "gridwidth": 2,
            "linecolor": "#EBF0F8",
            "showbackground": true,
            "ticks": "",
            "zerolinecolor": "#EBF0F8"
           },
           "zaxis": {
            "backgroundcolor": "white",
            "gridcolor": "#DFE8F3",
            "gridwidth": 2,
            "linecolor": "#EBF0F8",
            "showbackground": true,
            "ticks": "",
            "zerolinecolor": "#EBF0F8"
           }
          },
          "shapedefaults": {
           "line": {
            "color": "#2a3f5f"
           }
          },
          "ternary": {
           "aaxis": {
            "gridcolor": "#DFE8F3",
            "linecolor": "#A2B1C6",
            "ticks": ""
           },
           "baxis": {
            "gridcolor": "#DFE8F3",
            "linecolor": "#A2B1C6",
            "ticks": ""
           },
           "bgcolor": "white",
           "caxis": {
            "gridcolor": "#DFE8F3",
            "linecolor": "#A2B1C6",
            "ticks": ""
           }
          },
          "title": {
           "x": 0.05
          },
          "xaxis": {
           "automargin": true,
           "gridcolor": "#EBF0F8",
           "linecolor": "#EBF0F8",
           "ticks": "",
           "title": {
            "standoff": 15
           },
           "zerolinecolor": "#EBF0F8",
           "zerolinewidth": 2
          },
          "yaxis": {
           "automargin": true,
           "gridcolor": "#EBF0F8",
           "linecolor": "#EBF0F8",
           "ticks": "",
           "title": {
            "standoff": 15
           },
           "zerolinecolor": "#EBF0F8",
           "zerolinewidth": 2
          }
         }
        },
        "title": {
         "font": {
          "family": "Helvetica",
          "size": 18
         },
         "text": "<b>Fylker sortert etter potensiell sårbarhet</b><br>Datakilde: ssb.no."
        },
        "xaxis": {
         "anchor": "y",
         "domain": [
          0,
          1
         ],
         "fixedrange": true,
         "title": {
          "text": ""
         }
        },
        "yaxis": {
         "anchor": "x",
         "categoryarray": [
          "Viken",
          "Vestland",
          "Vestfold og Telemark",
          "Trøndelag ",
          "Troms og Finnmark ",
          "Rogaland",
          "Oslo",
          "Nordland",
          "Møre og Romsdal",
          "Innlandet",
          "Agder"
         ],
         "categoryorder": "total ascending",
         "domain": [
          0,
          1
         ],
         "fixedrange": true,
         "separatethousands": true,
         "title": {
          "text": ""
         }
        }
       }
      },
      "text/html": [
       "<div>\n",
       "        \n",
       "        \n",
       "            <div id=\"d9011a78-c6f7-4356-b5e1-13a2646e0cf5\" class=\"plotly-graph-div\" style=\"height:500px; width:100%;\"></div>\n",
       "            <script type=\"text/javascript\">\n",
       "                require([\"plotly\"], function(Plotly) {\n",
       "                    window.PLOTLYENV=window.PLOTLYENV || {};\n",
       "                    \n",
       "                if (document.getElementById(\"d9011a78-c6f7-4356-b5e1-13a2646e0cf5\")) {\n",
       "                    Plotly.newPlot(\n",
       "                        'd9011a78-c6f7-4356-b5e1-13a2646e0cf5',\n",
       "                        [{\"alignmentgroup\": \"True\", \"hoverlabel\": {\"namelength\": 0}, \"hovertemplate\": \"Fylke=%{y}<br>risk_score=%{x}\", \"legendgroup\": \"Agder\", \"marker\": {\"color\": \"#636efa\"}, \"name\": \"Agder\", \"offsetgroup\": \"Agder\", \"orientation\": \"h\", \"showlegend\": true, \"textposition\": \"auto\", \"type\": \"bar\", \"x\": [0.4363985257332151, 0.2147396080986662, 0.33372694246418194, 0.19408674830726602, 0.2488701815374702, 0.3096350958407749, 0.3455901480002862, 0.18101211549832852, 0.1332091494944254, 0.25595858329109294, 0.11601539548753502, 0.25198931941173036, 0.13656436069516578, 0.19152368932734526, 0.0, 0.2951748148730297, 0.3611852425461701, 0.0, 0.10277797012691667, 0.15586712336620598, 0.0, 0.1621564398269444, 0.04513610888465561, 0.17014551765435912, 0.20537560130560228], \"xaxis\": \"x\", \"y\": [\"Agder\", \"Agder\", \"Agder\", \"Agder\", \"Agder\", \"Agder\", \"Agder\", \"Agder\", \"Agder\", \"Agder\", \"Agder\", \"Agder\", \"Agder\", \"Agder\", \"Agder\", \"Agder\", \"Agder\", \"Agder\", \"Agder\", \"Agder\", \"Agder\", \"Agder\", \"Agder\", \"Agder\", \"Agder\"], \"yaxis\": \"y\"}, {\"alignmentgroup\": \"True\", \"hoverlabel\": {\"namelength\": 0}, \"hovertemplate\": \"Fylke=%{y}<br>risk_score=%{x}\", \"legendgroup\": \"Innlandet\", \"marker\": {\"color\": \"#EF553B\"}, \"name\": \"Innlandet\", \"offsetgroup\": \"Innlandet\", \"orientation\": \"h\", \"showlegend\": true, \"textposition\": \"auto\", \"type\": \"bar\", \"x\": [0.4539038985187517, 0.46110736907342925, 0.37744492071564845, 0.32525980302602375, 0.22279639490810632, 0.2834452678013004, 0.26264101425093683, 0.20084552274217654, 0.18206472959222295, 0.2648338616172545, 0.23408505029357562, 0.24441733765196735, 0.3016871411633605, 0.31819949710740153, 0.30056275678657607, 0.25704854865558563, 0.3819114713668564, 0.14093208815643526, 0.0, 0.18239668725026398, 0.24412734483109363, 0.1292850127815003, 0.28653198364183724, 0.22521389258936214, 0.3622495308577953, 0.0698398757066921, 0.21012381824343684, 0.24167694097614725, 0.32683476994555366, 0.3890519667348873, 0.34232116652485106, 0.21468460778185414, 0.3051901986421698, 0.27095069527065313, 0.24471211405347054, 0.2259992138708634, 0.3525298844089402, 0.23571112068759797, 0.20409010550224543, 0.25546842354316557, 0.15499487028685127, 0.1404069257292316, 0.32080074479586723, 0.15377366368378156, 0.14198128922183018, 0.0], \"xaxis\": \"x\", \"y\": [\"Innlandet\", \"Innlandet\", \"Innlandet\", \"Innlandet\", \"Innlandet\", \"Innlandet\", \"Innlandet\", \"Innlandet\", \"Innlandet\", \"Innlandet\", \"Innlandet\", \"Innlandet\", \"Innlandet\", \"Innlandet\", \"Innlandet\", \"Innlandet\", \"Innlandet\", \"Innlandet\", \"Innlandet\", \"Innlandet\", \"Innlandet\", \"Innlandet\", \"Innlandet\", \"Innlandet\", \"Innlandet\", \"Innlandet\", \"Innlandet\", \"Innlandet\", \"Innlandet\", \"Innlandet\", \"Innlandet\", \"Innlandet\", \"Innlandet\", \"Innlandet\", \"Innlandet\", \"Innlandet\", \"Innlandet\", \"Innlandet\", \"Innlandet\", \"Innlandet\", \"Innlandet\", \"Innlandet\", \"Innlandet\", \"Innlandet\", \"Innlandet\", \"Innlandet\"], \"yaxis\": \"y\"}, {\"alignmentgroup\": \"True\", \"hoverlabel\": {\"namelength\": 0}, \"hovertemplate\": \"Fylke=%{y}<br>risk_score=%{x}\", \"legendgroup\": \"M\\u00f8re og Romsdal\", \"marker\": {\"color\": \"#00cc96\"}, \"name\": \"M\\u00f8re og Romsdal\", \"offsetgroup\": \"M\\u00f8re og Romsdal\", \"orientation\": \"h\", \"showlegend\": true, \"textposition\": \"auto\", \"type\": \"bar\", \"x\": [0.4021551926691703, 0.3507501226814576, 0.25717322362038014, 0.14031004263685568, 0.20925491791348141, 0.2955597958858888, 0.201099758424497, 0.2924643351383088, 0.301381423802103, 0.3864662007410456, 0.33654421801264556, 0.2176424210085723, 0.19404218469372647, 0.2940833738893232, 0.3453927664908912, 0.21180580786461267, 0.13760532654709, 0.13824021476275594, 0.21587068477611782, 0.34144706888130577, 0.27743670845815727, 0.0, 0.11641019346446121, 0.2954993555211757, 0.1545540625939155, 0.19723553583153555], \"xaxis\": \"x\", \"y\": [\"M\\u00f8re og Romsdal\", \"M\\u00f8re og Romsdal\", \"M\\u00f8re og Romsdal\", \"M\\u00f8re og Romsdal\", \"M\\u00f8re og Romsdal\", \"M\\u00f8re og Romsdal\", \"M\\u00f8re og Romsdal\", \"M\\u00f8re og Romsdal\", \"M\\u00f8re og Romsdal\", \"M\\u00f8re og Romsdal\", \"M\\u00f8re og Romsdal\", \"M\\u00f8re og Romsdal\", \"M\\u00f8re og Romsdal\", \"M\\u00f8re og Romsdal\", \"M\\u00f8re og Romsdal\", \"M\\u00f8re og Romsdal\", \"M\\u00f8re og Romsdal\", \"M\\u00f8re og Romsdal\", \"M\\u00f8re og Romsdal\", \"M\\u00f8re og Romsdal\", \"M\\u00f8re og Romsdal\", \"M\\u00f8re og Romsdal\", \"M\\u00f8re og Romsdal\", \"M\\u00f8re og Romsdal\", \"M\\u00f8re og Romsdal\", \"M\\u00f8re og Romsdal\"], \"yaxis\": \"y\"}, {\"alignmentgroup\": \"True\", \"hoverlabel\": {\"namelength\": 0}, \"hovertemplate\": \"Fylke=%{y}<br>risk_score=%{x}\", \"legendgroup\": \"Nordland\", \"marker\": {\"color\": \"#ab63fa\"}, \"name\": \"Nordland\", \"offsetgroup\": \"Nordland\", \"orientation\": \"h\", \"showlegend\": true, \"textposition\": \"auto\", \"type\": \"bar\", \"x\": [0.21066580305712326, null, 0.3179845346828195, 0.2733824642100682, 0.25926790710372044, 0.20410223257794696, 0.0, 0.2655858062934505, 0.37940678423502205, 0.14168521325778305, 0.3667942627615124, 0.3714063187329877, 0.3200435016139534, 0.130635146824432, 0.3103314623871536, 0.36904711948999946, 0.34562080885234553, 0.18020869676795293, 0.2877947082028364, 0.0, 0.2899177344825706, 0.25606533399233433, 0.0, 0.3547568637246099, 0.38264661331536043, 0.33967022739860214, 0.0, 0.72559901331799, 0.4814004209977881, 0.3992016372270069, 0.48027958932198456, 0.0, 0.2581005386311625, 0.3203085149065254, 0.3934249143781987, 0.3236089737484996, 0.26693556361782206, 0.2374333502687132, 0.47406652609244465, 0.49270346379144325, null], \"xaxis\": \"x\", \"y\": [\"Nordland\", \"Nordland\", \"Nordland\", \"Nordland\", \"Nordland\", \"Nordland\", \"Nordland\", \"Nordland\", \"Nordland\", \"Nordland\", \"Nordland\", \"Nordland\", \"Nordland\", \"Nordland\", \"Nordland\", \"Nordland\", \"Nordland\", \"Nordland\", \"Nordland\", \"Nordland\", \"Nordland\", \"Nordland\", \"Nordland\", \"Nordland\", \"Nordland\", \"Nordland\", \"Nordland\", \"Nordland\", \"Nordland\", \"Nordland\", \"Nordland\", \"Nordland\", \"Nordland\", \"Nordland\", \"Nordland\", \"Nordland\", \"Nordland\", \"Nordland\", \"Nordland\", \"Nordland\", \"Nordland\"], \"yaxis\": \"y\"}, {\"alignmentgroup\": \"True\", \"hoverlabel\": {\"namelength\": 0}, \"hovertemplate\": \"Fylke=%{y}<br>risk_score=%{x}\", \"legendgroup\": \"Oslo\", \"marker\": {\"color\": \"#FFA15A\"}, \"name\": \"Oslo\", \"offsetgroup\": \"Oslo\", \"orientation\": \"h\", \"showlegend\": true, \"textposition\": \"auto\", \"type\": \"bar\", \"x\": [0.04737428797946985], \"xaxis\": \"x\", \"y\": [\"Oslo\"], \"yaxis\": \"y\"}, {\"alignmentgroup\": \"True\", \"hoverlabel\": {\"namelength\": 0}, \"hovertemplate\": \"Fylke=%{y}<br>risk_score=%{x}\", \"legendgroup\": \"Rogaland\", \"marker\": {\"color\": \"#19d3f3\"}, \"name\": \"Rogaland\", \"offsetgroup\": \"Rogaland\", \"orientation\": \"h\", \"showlegend\": true, \"textposition\": \"auto\", \"type\": \"bar\", \"x\": [0.2691680138739907, 0.13385112464294885, 0.2601631197766327, 0.06067237123644171, 0.28786128352181073, 0.20337868844282278, 0.07051932958686698, 0.11091517940313265, 0.0700814909275251, 0.11845673648650777, 0.0, 0.06380587405921645, 0.14115516234834485, 0.18520647538637636, 0.10988470527258266, 0.1537479056802922, 0.4715915534232754, 0.4265322391765703, 0.15589844415126974, 0.14339381145423732, 0.24885454477105634, 0.0, 0.1404610753901668], \"xaxis\": \"x\", \"y\": [\"Rogaland\", \"Rogaland\", \"Rogaland\", \"Rogaland\", \"Rogaland\", \"Rogaland\", \"Rogaland\", \"Rogaland\", \"Rogaland\", \"Rogaland\", \"Rogaland\", \"Rogaland\", \"Rogaland\", \"Rogaland\", \"Rogaland\", \"Rogaland\", \"Rogaland\", \"Rogaland\", \"Rogaland\", \"Rogaland\", \"Rogaland\", \"Rogaland\", \"Rogaland\"], \"yaxis\": \"y\"}, {\"alignmentgroup\": \"True\", \"hoverlabel\": {\"namelength\": 0}, \"hovertemplate\": \"Fylke=%{y}<br>risk_score=%{x}\", \"legendgroup\": \"Troms og Finnmark \", \"marker\": {\"color\": \"#FF6692\"}, \"name\": \"Troms og Finnmark \", \"offsetgroup\": \"Troms og Finnmark \", \"orientation\": \"h\", \"showlegend\": true, \"textposition\": \"auto\", \"type\": \"bar\", \"x\": [0.10786842957945662, 0.35848607764265433, 0.11922624316030704, 0.6310810363244789, 0.36856628901966276, 0.23619706403898846, 0.35263102602879076, 0.2691025772736085, 0.3496550129562495, 0.0, 0.19068502981734844, 0.27461765739721405, 0.22739052326552556, 0.23935009922293568, 0.20464016209146624, 0.0, 0.25474501984663295, 0.16647705455064113, 0.17109493378698037, 0.3115570319305911, 0.19976617422792076, 0.2150512701969685, 0.42718247411981697, 0.26212738696486426, 0.2621906783059126, 0.16173120629296303, 0.4727489179925712, 0.36835296925475886, 0.6307627516026196, 0.4215645638043665, 0.30765937613067545, 0.2841425327041238, 0.37769213437131, 0.4025011168796937, 0.6465495796832829, 0.14961141516678747, 0.0, 0.30357692520606383, 0.25698596357141995], \"xaxis\": \"x\", \"y\": [\"Troms og Finnmark \", \"Troms og Finnmark \", \"Troms og Finnmark \", \"Troms og Finnmark \", \"Troms og Finnmark \", \"Troms og Finnmark \", \"Troms og Finnmark \", \"Troms og Finnmark \", \"Troms og Finnmark \", \"Troms og Finnmark \", \"Troms og Finnmark \", \"Troms og Finnmark \", \"Troms og Finnmark \", \"Troms og Finnmark \", \"Troms og Finnmark \", \"Troms og Finnmark \", \"Troms og Finnmark \", \"Troms og Finnmark \", \"Troms og Finnmark \", \"Troms og Finnmark \", \"Troms og Finnmark \", \"Troms og Finnmark \", \"Troms og Finnmark \", \"Troms og Finnmark \", \"Troms og Finnmark \", \"Troms og Finnmark \", \"Troms og Finnmark \", \"Troms og Finnmark \", \"Troms og Finnmark \", \"Troms og Finnmark \", \"Troms og Finnmark \", \"Troms og Finnmark \", \"Troms og Finnmark \", \"Troms og Finnmark \", \"Troms og Finnmark \", \"Troms og Finnmark \", \"Troms og Finnmark \", \"Troms og Finnmark \", \"Troms og Finnmark \"], \"yaxis\": \"y\"}, {\"alignmentgroup\": \"True\", \"hoverlabel\": {\"namelength\": 0}, \"hovertemplate\": \"Fylke=%{y}<br>risk_score=%{x}\", \"legendgroup\": \"Tr\\u00f8ndelag \", \"marker\": {\"color\": \"#B6E880\"}, \"name\": \"Tr\\u00f8ndelag \", \"offsetgroup\": \"Tr\\u00f8ndelag \", \"orientation\": \"h\", \"showlegend\": true, \"textposition\": \"auto\", \"type\": \"bar\", \"x\": [0.1453555572309886, 0.3337880494296935, 0.3327009400753234, 0.07674967622282872, 0.0, 0.31715089165529664, 0.28300738903035483, 0.4592562562565034, 0.2349691176530013, 0.18398770072697176, 0.17979595397594553, 0.1047955828169077, 0.11693695613686828, 0.1692557352068853, 0.0, 0.27423391377205053, 0.2400580390905792, 0.11869197098693043, 0.24107309122350676, 0.30090832936127604, 0.20749266283604928, 0.1360339585399808, 0.4184641871973744, 0.22911999622326087, 0.34177777021642713, 0.19070977368590722, 0.17106027334717988, 0.3061040189129156, 0.0, 0.2369632619180385, 0.19998530610708604, null, null, 0.2329039926133716, 0.1904018998144598, null, 0.20762955314927223, 0.23124022733442287], \"xaxis\": \"x\", \"y\": [\"Tr\\u00f8ndelag \", \"Tr\\u00f8ndelag \", \"Tr\\u00f8ndelag \", \"Tr\\u00f8ndelag \", \"Tr\\u00f8ndelag \", \"Tr\\u00f8ndelag \", \"Tr\\u00f8ndelag \", \"Tr\\u00f8ndelag \", \"Tr\\u00f8ndelag \", \"Tr\\u00f8ndelag \", \"Tr\\u00f8ndelag \", \"Tr\\u00f8ndelag \", \"Tr\\u00f8ndelag \", \"Tr\\u00f8ndelag \", \"Tr\\u00f8ndelag \", \"Tr\\u00f8ndelag \", \"Tr\\u00f8ndelag \", \"Tr\\u00f8ndelag \", \"Tr\\u00f8ndelag \", \"Tr\\u00f8ndelag \", \"Tr\\u00f8ndelag \", \"Tr\\u00f8ndelag \", \"Tr\\u00f8ndelag \", \"Tr\\u00f8ndelag \", \"Tr\\u00f8ndelag \", \"Tr\\u00f8ndelag \", \"Tr\\u00f8ndelag \", \"Tr\\u00f8ndelag \", \"Tr\\u00f8ndelag \", \"Tr\\u00f8ndelag \", \"Tr\\u00f8ndelag \", \"Tr\\u00f8ndelag \", \"Tr\\u00f8ndelag \", \"Tr\\u00f8ndelag \", \"Tr\\u00f8ndelag \", \"Tr\\u00f8ndelag \", \"Tr\\u00f8ndelag \", \"Tr\\u00f8ndelag \"], \"yaxis\": \"y\"}, {\"alignmentgroup\": \"True\", \"hoverlabel\": {\"namelength\": 0}, \"hovertemplate\": \"Fylke=%{y}<br>risk_score=%{x}\", \"legendgroup\": \"Vestfold og Telemark\", \"marker\": {\"color\": \"#FF97FF\"}, \"name\": \"Vestfold og Telemark\", \"offsetgroup\": \"Vestfold og Telemark\", \"orientation\": \"h\", \"showlegend\": true, \"textposition\": \"auto\", \"type\": \"bar\", \"x\": [0.41164058752338906, 0.28820484436962424, 0.2808385490349586, 0.3253301860532126, 0.39910228211796345, 0.3927907652134463, 0.3634480285455143, 0.3650062545487652, 0.4379435631188102, 0.2221358616745486, 0.4079110565735646, 0.51842968904506, 0.20918234386107096, 0.31106317693034985, 0.19399497840338967, 0.4292424849185261, 0.0, 0.30757818940836745, 0.20140650157682055, 0.2106378962888929, 0.16279792623390094, 0.1614859347612647, 0.16278777396255792], \"xaxis\": \"x\", \"y\": [\"Vestfold og Telemark\", \"Vestfold og Telemark\", \"Vestfold og Telemark\", \"Vestfold og Telemark\", \"Vestfold og Telemark\", \"Vestfold og Telemark\", \"Vestfold og Telemark\", \"Vestfold og Telemark\", \"Vestfold og Telemark\", \"Vestfold og Telemark\", \"Vestfold og Telemark\", \"Vestfold og Telemark\", \"Vestfold og Telemark\", \"Vestfold og Telemark\", \"Vestfold og Telemark\", \"Vestfold og Telemark\", \"Vestfold og Telemark\", \"Vestfold og Telemark\", \"Vestfold og Telemark\", \"Vestfold og Telemark\", \"Vestfold og Telemark\", \"Vestfold og Telemark\", \"Vestfold og Telemark\"], \"yaxis\": \"y\"}, {\"alignmentgroup\": \"True\", \"hoverlabel\": {\"namelength\": 0}, \"hovertemplate\": \"Fylke=%{y}<br>risk_score=%{x}\", \"legendgroup\": \"Vestland\", \"marker\": {\"color\": \"#FECB52\"}, \"name\": \"Vestland\", \"offsetgroup\": \"Vestland\", \"orientation\": \"h\", \"showlegend\": true, \"textposition\": \"auto\", \"type\": \"bar\", \"x\": [0.19692461637906858, 0.2873986310359974, 0.21903264290330882, 0.0981127837422787, 0.18326552844096647, 0.2521113001732263, 0.18764922985522323, 0.2922820414651426, 0.3322045749568175, 0.3972162820007755, 0.32334809081333504, 0.3469141100625373, 0.3047785382259638, 0.3845738081611318, 0.23262843839826491, 0.1959108626344246, 0.13307648338566985, 0.11927298362935333, 0.1362000087079556, 0.41574123789246037, 0.0, 0.17842068149242163, 0.17469554581183522, 0.20910378043819386, 0.6162375429506243, 0.0, 0.14371385478840557, 0.2963841596863584, 0.0, 0.3944003286504479, 0.3452725216758562, 0.2279038262796617, 0.21997193457848835, 0.3222271380500496, 0.5517703429619752, 0.21434923244114865, 0.18023061348390698, 0.2452406225165099, 0.17242559142922043, 0.38895445944110035, 0.26019867441152006, 0.30057842002324114, 0.20472044383248897], \"xaxis\": \"x\", \"y\": [\"Vestland\", \"Vestland\", \"Vestland\", \"Vestland\", \"Vestland\", \"Vestland\", \"Vestland\", \"Vestland\", \"Vestland\", \"Vestland\", \"Vestland\", \"Vestland\", \"Vestland\", \"Vestland\", \"Vestland\", \"Vestland\", \"Vestland\", \"Vestland\", \"Vestland\", \"Vestland\", \"Vestland\", \"Vestland\", \"Vestland\", \"Vestland\", \"Vestland\", \"Vestland\", \"Vestland\", \"Vestland\", \"Vestland\", \"Vestland\", \"Vestland\", \"Vestland\", \"Vestland\", \"Vestland\", \"Vestland\", \"Vestland\", \"Vestland\", \"Vestland\", \"Vestland\", \"Vestland\", \"Vestland\", \"Vestland\", \"Vestland\"], \"yaxis\": \"y\"}, {\"alignmentgroup\": \"True\", \"hoverlabel\": {\"namelength\": 0}, \"hovertemplate\": \"Fylke=%{y}<br>risk_score=%{x}\", \"legendgroup\": \"Viken\", \"marker\": {\"color\": \"#636efa\"}, \"name\": \"Viken\", \"offsetgroup\": \"Viken\", \"orientation\": \"h\", \"showlegend\": true, \"textposition\": \"auto\", \"type\": \"bar\", \"x\": [0.3753002109127021, 0.4043778026687258, 0.3310807381990372, 0.3435985627745698, 0.28930401929591854, 0.3208727931381726, 0.322000981733411, 0.48574923400447245, 0.0, 0.3719703174140261, 0.2846076734931522, 0.1417073556044344, 0.266736878020418, 0.36062047910158185, 0.09777594712985445, 0.2354508189741235, 0.2473149267270898, 0.10726383618210576, 0.3749768141010875, 0.211375930457019, 0.2466098558170448, 0.24410128201860906, 0.2266370732669234, 0.10608681337331871, 0.1496445919305183, 0.19087672931949534, 0.1633581980553683, 0.13580430807985433, 0.14172190757813108, 0.07188832663468284, 0.16688186728452897, 0.1857376809673764, 0.06253901523227887, 0.19459583657851312, 0.21897614960986317, 0.0, 0.45781453810424216, 0.3392558933413953, 0.12135917208764355, 0.32842494087151974, 0.3703596701054348, 0.09309457991386454, 0.22577301246544942, 0.3304942864889993, 0.24929102013024246, 0.20619648810714744, 0.17384766274631372, 0.1620615158565112, 0.1306205287521248, 0.3023193881252321, 0.23006131511042177], \"xaxis\": \"x\", \"y\": [\"Viken\", \"Viken\", \"Viken\", \"Viken\", \"Viken\", \"Viken\", \"Viken\", \"Viken\", \"Viken\", \"Viken\", \"Viken\", \"Viken\", \"Viken\", \"Viken\", \"Viken\", \"Viken\", \"Viken\", \"Viken\", \"Viken\", \"Viken\", \"Viken\", \"Viken\", \"Viken\", \"Viken\", \"Viken\", \"Viken\", \"Viken\", \"Viken\", \"Viken\", \"Viken\", \"Viken\", \"Viken\", \"Viken\", \"Viken\", \"Viken\", \"Viken\", \"Viken\", \"Viken\", \"Viken\", \"Viken\", \"Viken\", \"Viken\", \"Viken\", \"Viken\", \"Viken\", \"Viken\", \"Viken\", \"Viken\", \"Viken\", \"Viken\", \"Viken\"], \"yaxis\": \"y\"}],\n",
       "                        {\"autosize\": true, \"barmode\": \"relative\", \"coloraxis\": {\"showscale\": false}, \"height\": 500, \"legend\": {\"title\": {\"text\": \"Fylke\"}, \"tracegroupgap\": 0}, \"margin\": {\"b\": 0, \"l\": 100, \"r\": 100, \"t\": 150}, \"paper_bgcolor\": \"rgba(0, 0, 0, 0)\", \"template\": {\"data\": {\"bar\": [{\"error_x\": {\"color\": \"#2a3f5f\"}, \"error_y\": {\"color\": \"#2a3f5f\"}, \"marker\": {\"line\": {\"color\": \"white\", \"width\": 0.5}}, \"type\": \"bar\"}], \"barpolar\": [{\"marker\": {\"line\": {\"color\": \"white\", \"width\": 0.5}}, \"type\": \"barpolar\"}], \"carpet\": [{\"aaxis\": {\"endlinecolor\": \"#2a3f5f\", \"gridcolor\": \"#C8D4E3\", \"linecolor\": \"#C8D4E3\", \"minorgridcolor\": \"#C8D4E3\", \"startlinecolor\": \"#2a3f5f\"}, \"baxis\": {\"endlinecolor\": \"#2a3f5f\", \"gridcolor\": \"#C8D4E3\", \"linecolor\": \"#C8D4E3\", \"minorgridcolor\": \"#C8D4E3\", \"startlinecolor\": \"#2a3f5f\"}, \"type\": \"carpet\"}], \"choropleth\": [{\"colorbar\": {\"outlinewidth\": 0, \"ticks\": \"\"}, \"type\": \"choropleth\"}], \"contour\": [{\"colorbar\": {\"outlinewidth\": 0, \"ticks\": \"\"}, \"colorscale\": [[0.0, \"#0d0887\"], [0.1111111111111111, \"#46039f\"], [0.2222222222222222, \"#7201a8\"], [0.3333333333333333, \"#9c179e\"], [0.4444444444444444, \"#bd3786\"], [0.5555555555555556, \"#d8576b\"], [0.6666666666666666, \"#ed7953\"], [0.7777777777777778, \"#fb9f3a\"], [0.8888888888888888, \"#fdca26\"], [1.0, \"#f0f921\"]], \"type\": \"contour\"}], \"contourcarpet\": [{\"colorbar\": {\"outlinewidth\": 0, \"ticks\": \"\"}, \"type\": \"contourcarpet\"}], \"heatmap\": [{\"colorbar\": {\"outlinewidth\": 0, \"ticks\": \"\"}, \"colorscale\": [[0.0, \"#0d0887\"], [0.1111111111111111, \"#46039f\"], [0.2222222222222222, \"#7201a8\"], [0.3333333333333333, \"#9c179e\"], [0.4444444444444444, \"#bd3786\"], [0.5555555555555556, \"#d8576b\"], [0.6666666666666666, \"#ed7953\"], [0.7777777777777778, \"#fb9f3a\"], [0.8888888888888888, \"#fdca26\"], [1.0, \"#f0f921\"]], \"type\": \"heatmap\"}], \"heatmapgl\": [{\"colorbar\": {\"outlinewidth\": 0, \"ticks\": \"\"}, \"colorscale\": [[0.0, \"#0d0887\"], [0.1111111111111111, \"#46039f\"], [0.2222222222222222, \"#7201a8\"], [0.3333333333333333, \"#9c179e\"], [0.4444444444444444, \"#bd3786\"], [0.5555555555555556, \"#d8576b\"], [0.6666666666666666, \"#ed7953\"], [0.7777777777777778, \"#fb9f3a\"], [0.8888888888888888, \"#fdca26\"], [1.0, \"#f0f921\"]], \"type\": \"heatmapgl\"}], \"histogram\": [{\"marker\": {\"colorbar\": {\"outlinewidth\": 0, \"ticks\": \"\"}}, \"type\": \"histogram\"}], \"histogram2d\": [{\"colorbar\": {\"outlinewidth\": 0, \"ticks\": \"\"}, \"colorscale\": [[0.0, \"#0d0887\"], [0.1111111111111111, \"#46039f\"], [0.2222222222222222, \"#7201a8\"], [0.3333333333333333, \"#9c179e\"], [0.4444444444444444, \"#bd3786\"], [0.5555555555555556, \"#d8576b\"], [0.6666666666666666, \"#ed7953\"], [0.7777777777777778, \"#fb9f3a\"], [0.8888888888888888, \"#fdca26\"], [1.0, \"#f0f921\"]], \"type\": \"histogram2d\"}], \"histogram2dcontour\": [{\"colorbar\": {\"outlinewidth\": 0, \"ticks\": \"\"}, \"colorscale\": [[0.0, \"#0d0887\"], [0.1111111111111111, \"#46039f\"], [0.2222222222222222, \"#7201a8\"], [0.3333333333333333, \"#9c179e\"], [0.4444444444444444, \"#bd3786\"], [0.5555555555555556, \"#d8576b\"], [0.6666666666666666, \"#ed7953\"], [0.7777777777777778, \"#fb9f3a\"], [0.8888888888888888, \"#fdca26\"], [1.0, \"#f0f921\"]], \"type\": \"histogram2dcontour\"}], \"mesh3d\": [{\"colorbar\": {\"outlinewidth\": 0, \"ticks\": \"\"}, \"type\": \"mesh3d\"}], \"parcoords\": [{\"line\": {\"colorbar\": {\"outlinewidth\": 0, \"ticks\": \"\"}}, \"type\": \"parcoords\"}], \"pie\": [{\"automargin\": true, \"type\": \"pie\"}], \"scatter\": [{\"marker\": {\"colorbar\": {\"outlinewidth\": 0, \"ticks\": \"\"}}, \"type\": \"scatter\"}], \"scatter3d\": [{\"line\": {\"colorbar\": {\"outlinewidth\": 0, \"ticks\": \"\"}}, \"marker\": {\"colorbar\": {\"outlinewidth\": 0, \"ticks\": \"\"}}, \"type\": \"scatter3d\"}], \"scattercarpet\": [{\"marker\": {\"colorbar\": {\"outlinewidth\": 0, \"ticks\": \"\"}}, \"type\": \"scattercarpet\"}], \"scattergeo\": [{\"marker\": {\"colorbar\": {\"outlinewidth\": 0, \"ticks\": \"\"}}, \"type\": \"scattergeo\"}], \"scattergl\": [{\"marker\": {\"colorbar\": {\"outlinewidth\": 0, \"ticks\": \"\"}}, \"type\": \"scattergl\"}], \"scattermapbox\": [{\"marker\": {\"colorbar\": {\"outlinewidth\": 0, \"ticks\": \"\"}}, \"type\": \"scattermapbox\"}], \"scatterpolar\": [{\"marker\": {\"colorbar\": {\"outlinewidth\": 0, \"ticks\": \"\"}}, \"type\": \"scatterpolar\"}], \"scatterpolargl\": [{\"marker\": {\"colorbar\": {\"outlinewidth\": 0, \"ticks\": \"\"}}, \"type\": \"scatterpolargl\"}], \"scatterternary\": [{\"marker\": {\"colorbar\": {\"outlinewidth\": 0, \"ticks\": \"\"}}, \"type\": \"scatterternary\"}], \"surface\": [{\"colorbar\": {\"outlinewidth\": 0, \"ticks\": \"\"}, \"colorscale\": [[0.0, \"#0d0887\"], [0.1111111111111111, \"#46039f\"], [0.2222222222222222, \"#7201a8\"], [0.3333333333333333, \"#9c179e\"], [0.4444444444444444, \"#bd3786\"], [0.5555555555555556, \"#d8576b\"], [0.6666666666666666, \"#ed7953\"], [0.7777777777777778, \"#fb9f3a\"], [0.8888888888888888, \"#fdca26\"], [1.0, \"#f0f921\"]], \"type\": \"surface\"}], \"table\": [{\"cells\": {\"fill\": {\"color\": \"#EBF0F8\"}, \"line\": {\"color\": \"white\"}}, \"header\": {\"fill\": {\"color\": \"#C8D4E3\"}, \"line\": {\"color\": \"white\"}}, \"type\": \"table\"}]}, \"layout\": {\"annotationdefaults\": {\"arrowcolor\": \"#2a3f5f\", \"arrowhead\": 0, \"arrowwidth\": 1}, \"coloraxis\": {\"colorbar\": {\"outlinewidth\": 0, \"ticks\": \"\"}}, \"colorscale\": {\"diverging\": [[0, \"#8e0152\"], [0.1, \"#c51b7d\"], [0.2, \"#de77ae\"], [0.3, \"#f1b6da\"], [0.4, \"#fde0ef\"], [0.5, \"#f7f7f7\"], [0.6, \"#e6f5d0\"], [0.7, \"#b8e186\"], [0.8, \"#7fbc41\"], [0.9, \"#4d9221\"], [1, \"#276419\"]], \"sequential\": [[0.0, \"#0d0887\"], [0.1111111111111111, \"#46039f\"], [0.2222222222222222, \"#7201a8\"], [0.3333333333333333, \"#9c179e\"], [0.4444444444444444, \"#bd3786\"], [0.5555555555555556, \"#d8576b\"], [0.6666666666666666, \"#ed7953\"], [0.7777777777777778, \"#fb9f3a\"], [0.8888888888888888, \"#fdca26\"], [1.0, \"#f0f921\"]], \"sequentialminus\": [[0.0, \"#0d0887\"], [0.1111111111111111, \"#46039f\"], [0.2222222222222222, \"#7201a8\"], [0.3333333333333333, \"#9c179e\"], [0.4444444444444444, \"#bd3786\"], [0.5555555555555556, \"#d8576b\"], [0.6666666666666666, \"#ed7953\"], [0.7777777777777778, \"#fb9f3a\"], [0.8888888888888888, \"#fdca26\"], [1.0, \"#f0f921\"]]}, \"colorway\": [\"#636efa\", \"#EF553B\", \"#00cc96\", \"#ab63fa\", \"#FFA15A\", \"#19d3f3\", \"#FF6692\", \"#B6E880\", \"#FF97FF\", \"#FECB52\"], \"font\": {\"color\": \"#2a3f5f\"}, \"geo\": {\"bgcolor\": \"white\", \"lakecolor\": \"white\", \"landcolor\": \"white\", \"showlakes\": true, \"showland\": true, \"subunitcolor\": \"#C8D4E3\"}, \"hoverlabel\": {\"align\": \"left\"}, \"hovermode\": \"closest\", \"mapbox\": {\"style\": \"light\"}, \"paper_bgcolor\": \"white\", \"plot_bgcolor\": \"white\", \"polar\": {\"angularaxis\": {\"gridcolor\": \"#EBF0F8\", \"linecolor\": \"#EBF0F8\", \"ticks\": \"\"}, \"bgcolor\": \"white\", \"radialaxis\": {\"gridcolor\": \"#EBF0F8\", \"linecolor\": \"#EBF0F8\", \"ticks\": \"\"}}, \"scene\": {\"xaxis\": {\"backgroundcolor\": \"white\", \"gridcolor\": \"#DFE8F3\", \"gridwidth\": 2, \"linecolor\": \"#EBF0F8\", \"showbackground\": true, \"ticks\": \"\", \"zerolinecolor\": \"#EBF0F8\"}, \"yaxis\": {\"backgroundcolor\": \"white\", \"gridcolor\": \"#DFE8F3\", \"gridwidth\": 2, \"linecolor\": \"#EBF0F8\", \"showbackground\": true, \"ticks\": \"\", \"zerolinecolor\": \"#EBF0F8\"}, \"zaxis\": {\"backgroundcolor\": \"white\", \"gridcolor\": \"#DFE8F3\", \"gridwidth\": 2, \"linecolor\": \"#EBF0F8\", \"showbackground\": true, \"ticks\": \"\", \"zerolinecolor\": \"#EBF0F8\"}}, \"shapedefaults\": {\"line\": {\"color\": \"#2a3f5f\"}}, \"ternary\": {\"aaxis\": {\"gridcolor\": \"#DFE8F3\", \"linecolor\": \"#A2B1C6\", \"ticks\": \"\"}, \"baxis\": {\"gridcolor\": \"#DFE8F3\", \"linecolor\": \"#A2B1C6\", \"ticks\": \"\"}, \"bgcolor\": \"white\", \"caxis\": {\"gridcolor\": \"#DFE8F3\", \"linecolor\": \"#A2B1C6\", \"ticks\": \"\"}}, \"title\": {\"x\": 0.05}, \"xaxis\": {\"automargin\": true, \"gridcolor\": \"#EBF0F8\", \"linecolor\": \"#EBF0F8\", \"ticks\": \"\", \"title\": {\"standoff\": 15}, \"zerolinecolor\": \"#EBF0F8\", \"zerolinewidth\": 2}, \"yaxis\": {\"automargin\": true, \"gridcolor\": \"#EBF0F8\", \"linecolor\": \"#EBF0F8\", \"ticks\": \"\", \"title\": {\"standoff\": 15}, \"zerolinecolor\": \"#EBF0F8\", \"zerolinewidth\": 2}}}, \"title\": {\"font\": {\"family\": \"Helvetica\", \"size\": 18}, \"text\": \"<b>Fylker sortert etter potensiell s\\u00e5rbarhet</b><br>Datakilde: ssb.no.\"}, \"xaxis\": {\"anchor\": \"y\", \"domain\": [0.0, 1.0], \"fixedrange\": true, \"title\": {\"text\": \"\"}}, \"yaxis\": {\"anchor\": \"x\", \"categoryarray\": [\"Viken\", \"Vestland\", \"Vestfold og Telemark\", \"Tr\\u00f8ndelag \", \"Troms og Finnmark \", \"Rogaland\", \"Oslo\", \"Nordland\", \"M\\u00f8re og Romsdal\", \"Innlandet\", \"Agder\"], \"categoryorder\": \"total ascending\", \"domain\": [0.0, 1.0], \"fixedrange\": true, \"separatethousands\": true, \"title\": {\"text\": \"\"}}},\n",
       "                        {\"responsive\": true}\n",
       "                    ).then(function(){\n",
       "                            \n",
       "var gd = document.getElementById('d9011a78-c6f7-4356-b5e1-13a2646e0cf5');\n",
       "var x = new MutationObserver(function (mutations, observer) {{\n",
       "        var display = window.getComputedStyle(gd).display;\n",
       "        if (!display || display === 'none') {{\n",
       "            console.log([gd, 'removed!']);\n",
       "            Plotly.purge(gd);\n",
       "            observer.disconnect();\n",
       "        }}\n",
       "}});\n",
       "\n",
       "// Listen for the removal of the full notebook cells\n",
       "var notebookContainer = gd.closest('#notebook-container');\n",
       "if (notebookContainer) {{\n",
       "    x.observe(notebookContainer, {childList: true});\n",
       "}}\n",
       "\n",
       "// Listen for the clearing of the current output cell\n",
       "var outputEl = gd.closest('.output');\n",
       "if (outputEl) {{\n",
       "    x.observe(outputEl, {childList: true});\n",
       "}}\n",
       "\n",
       "                        })\n",
       "                };\n",
       "                });\n",
       "            </script>\n",
       "        </div>"
      ]
     },
     "metadata": {},
     "output_type": "display_data"
    }
   ],
   "source": [
    "fig = px.bar(data, \n",
    "             x='risk_score', y='Fylke', \n",
    "             orientation='h',\n",
    "             category_orders={\"Fylke\": legend},\n",
    "             height=500,\n",
    "             title = \"<b>Fylker sortert etter potensiell sårbarhet</b><br>Datakilde: ssb.no.\",\n",
    "             color='Fylke',\n",
    "             #hover_name=\"Fylke\",\n",
    "             #hover_data=[\"Andel over 65 år\"],\n",
    "             template = \"plotly_white\", \n",
    "             #labels = {\"Vekstrate\": \"daglig vekst (%)\", \"- 1 uke\": \"Daglig vekst for en uke siden\", \"text\": \"Dager før dobling med dagens vekst\"},\n",
    "            )\n",
    "\n",
    "\n",
    "fig.layout.coloraxis.showscale = False\n",
    "\n",
    "fig.update_layout(\n",
    "    yaxis=dict(\n",
    "        separatethousands=True,\n",
    "        categoryorder = 'total ascending',\n",
    "        title_text=\"\",\n",
    "        fixedrange=True,\n",
    "    ), xaxis=dict(fixedrange=True,\n",
    "                 title_text=\"\"),\n",
    "    title_font=dict(family=\"Helvetica\", size=18),\n",
    "        margin=dict(b=150)) #bottom margin\n",
    "\n",
    "fig.update_layout(autosize=True,\n",
    "    margin=dict(l=100, r=100, t=150, b=0),\n",
    "    paper_bgcolor='rgba(0, 0, 0, 0)'\n",
    "    #plot_bgcolor='rgb(248, 248, 255)'    \n",
    "                 )\n",
    "\n",
    "#plotly.offline.plot(fig, filename='COVID_moment_fylke.html')\n",
    "#py.plot(fig, filename='COVID19_vekstmomentum_fylker.html', auto_open=False)\n",
    "fig.show()"
   ]
  },
  {
   "cell_type": "code",
   "execution_count": null,
   "metadata": {},
   "outputs": [],
   "source": [
    "\n"
   ]
  }
 ],
 "metadata": {
  "kernelspec": {
   "display_name": "Python 3",
   "language": "python",
   "name": "python3"
  },
  "language_info": {
   "codemirror_mode": {
    "name": "ipython",
    "version": 3
   },
   "file_extension": ".py",
   "mimetype": "text/x-python",
   "name": "python",
   "nbconvert_exporter": "python",
   "pygments_lexer": "ipython3",
   "version": "3.7.4"
  }
 },
 "nbformat": 4,
 "nbformat_minor": 2
}
