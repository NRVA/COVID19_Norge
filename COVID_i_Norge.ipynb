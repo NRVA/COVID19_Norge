{
 "cells": [
  {
   "cell_type": "code",
   "execution_count": 1,
   "metadata": {},
   "outputs": [],
   "source": [
    "import pandas as pd\n",
    "import numpy as np\n",
    "import plotly\n",
    "import chart_studio.plotly as py\n",
    "import chart_studio\n",
    "import matplotlib.pyplot as plt\n",
    "\n",
    "chart_studio.tools.set_credentials_file(username='oystein.nerva', api_key='0ODcZ6UisJ8n0AjEQt9N')"
   ]
  },
  {
   "cell_type": "code",
   "execution_count": 143,
   "metadata": {},
   "outputs": [
    {
     "data": {
      "text/html": [
       "<div>\n",
       "<style scoped>\n",
       "    .dataframe tbody tr th:only-of-type {\n",
       "        vertical-align: middle;\n",
       "    }\n",
       "\n",
       "    .dataframe tbody tr th {\n",
       "        vertical-align: top;\n",
       "    }\n",
       "\n",
       "    .dataframe thead th {\n",
       "        text-align: right;\n",
       "    }\n",
       "</style>\n",
       "<table border=\"1\" class=\"dataframe\">\n",
       "  <thead>\n",
       "    <tr style=\"text-align: right;\">\n",
       "      <th></th>\n",
       "      <th>Fylke</th>\n",
       "      <th>02-Mar-20</th>\n",
       "      <th>03-Mar-20</th>\n",
       "      <th>04-Mar-20</th>\n",
       "      <th>05-Mar-20</th>\n",
       "      <th>06-Mar-20</th>\n",
       "      <th>07-Mar-20</th>\n",
       "      <th>08-Mar-20</th>\n",
       "      <th>09-Mar-20</th>\n",
       "      <th>10-Mar-20</th>\n",
       "      <th>...</th>\n",
       "      <th>15-Mar-20</th>\n",
       "      <th>16-Mar-20</th>\n",
       "      <th>17-Mar-20</th>\n",
       "      <th>18-Mar-20</th>\n",
       "      <th>19-Mar-20</th>\n",
       "      <th>20-Mar-20</th>\n",
       "      <th>21-Mar-20</th>\n",
       "      <th>22-Mar-20</th>\n",
       "      <th>23-Mar-20</th>\n",
       "      <th>24-Mar-20</th>\n",
       "    </tr>\n",
       "  </thead>\n",
       "  <tbody>\n",
       "    <tr>\n",
       "      <td>0</td>\n",
       "      <td>Agder</td>\n",
       "      <td>2</td>\n",
       "      <td>3</td>\n",
       "      <td>3</td>\n",
       "      <td>7</td>\n",
       "      <td>7</td>\n",
       "      <td>9</td>\n",
       "      <td>9</td>\n",
       "      <td>17</td>\n",
       "      <td>19</td>\n",
       "      <td>...</td>\n",
       "      <td>55</td>\n",
       "      <td>67</td>\n",
       "      <td>67</td>\n",
       "      <td>67</td>\n",
       "      <td>75</td>\n",
       "      <td>79</td>\n",
       "      <td>82</td>\n",
       "      <td>91</td>\n",
       "      <td>91</td>\n",
       "      <td>92</td>\n",
       "    </tr>\n",
       "    <tr>\n",
       "      <td>1</td>\n",
       "      <td>Innlandet</td>\n",
       "      <td>0</td>\n",
       "      <td>0</td>\n",
       "      <td>3</td>\n",
       "      <td>4</td>\n",
       "      <td>12</td>\n",
       "      <td>12</td>\n",
       "      <td>12</td>\n",
       "      <td>14</td>\n",
       "      <td>16</td>\n",
       "      <td>...</td>\n",
       "      <td>72</td>\n",
       "      <td>81</td>\n",
       "      <td>88</td>\n",
       "      <td>97</td>\n",
       "      <td>105</td>\n",
       "      <td>115</td>\n",
       "      <td>125</td>\n",
       "      <td>148</td>\n",
       "      <td>151</td>\n",
       "      <td>163</td>\n",
       "    </tr>\n",
       "    <tr>\n",
       "      <td>2</td>\n",
       "      <td>Møre og Romsdal</td>\n",
       "      <td>0</td>\n",
       "      <td>0</td>\n",
       "      <td>1</td>\n",
       "      <td>2</td>\n",
       "      <td>2</td>\n",
       "      <td>2</td>\n",
       "      <td>2</td>\n",
       "      <td>4</td>\n",
       "      <td>5</td>\n",
       "      <td>...</td>\n",
       "      <td>20</td>\n",
       "      <td>20</td>\n",
       "      <td>20</td>\n",
       "      <td>20</td>\n",
       "      <td>25</td>\n",
       "      <td>29</td>\n",
       "      <td>32</td>\n",
       "      <td>38</td>\n",
       "      <td>44</td>\n",
       "      <td>46</td>\n",
       "    </tr>\n",
       "    <tr>\n",
       "      <td>3</td>\n",
       "      <td>Nordland</td>\n",
       "      <td>0</td>\n",
       "      <td>0</td>\n",
       "      <td>0</td>\n",
       "      <td>0</td>\n",
       "      <td>1</td>\n",
       "      <td>2</td>\n",
       "      <td>3</td>\n",
       "      <td>3</td>\n",
       "      <td>3</td>\n",
       "      <td>...</td>\n",
       "      <td>8</td>\n",
       "      <td>11</td>\n",
       "      <td>11</td>\n",
       "      <td>12</td>\n",
       "      <td>13</td>\n",
       "      <td>17</td>\n",
       "      <td>17</td>\n",
       "      <td>18</td>\n",
       "      <td>18</td>\n",
       "      <td>18</td>\n",
       "    </tr>\n",
       "    <tr>\n",
       "      <td>4</td>\n",
       "      <td>Oslo</td>\n",
       "      <td>7</td>\n",
       "      <td>7</td>\n",
       "      <td>14</td>\n",
       "      <td>18</td>\n",
       "      <td>23</td>\n",
       "      <td>29</td>\n",
       "      <td>35</td>\n",
       "      <td>35</td>\n",
       "      <td>51</td>\n",
       "      <td>...</td>\n",
       "      <td>281</td>\n",
       "      <td>292</td>\n",
       "      <td>329</td>\n",
       "      <td>348</td>\n",
       "      <td>392</td>\n",
       "      <td>419</td>\n",
       "      <td>448</td>\n",
       "      <td>523</td>\n",
       "      <td>636</td>\n",
       "      <td>657</td>\n",
       "    </tr>\n",
       "    <tr>\n",
       "      <td>5</td>\n",
       "      <td>Rogaland</td>\n",
       "      <td>0</td>\n",
       "      <td>0</td>\n",
       "      <td>3</td>\n",
       "      <td>6</td>\n",
       "      <td>11</td>\n",
       "      <td>14</td>\n",
       "      <td>19</td>\n",
       "      <td>25</td>\n",
       "      <td>33</td>\n",
       "      <td>...</td>\n",
       "      <td>127</td>\n",
       "      <td>131</td>\n",
       "      <td>150</td>\n",
       "      <td>161</td>\n",
       "      <td>176</td>\n",
       "      <td>180</td>\n",
       "      <td>199</td>\n",
       "      <td>219</td>\n",
       "      <td>237</td>\n",
       "      <td>251</td>\n",
       "    </tr>\n",
       "    <tr>\n",
       "      <td>6</td>\n",
       "      <td>Troms og Finnmark</td>\n",
       "      <td>1</td>\n",
       "      <td>2</td>\n",
       "      <td>2</td>\n",
       "      <td>2</td>\n",
       "      <td>6</td>\n",
       "      <td>6</td>\n",
       "      <td>6</td>\n",
       "      <td>6</td>\n",
       "      <td>6</td>\n",
       "      <td>...</td>\n",
       "      <td>20</td>\n",
       "      <td>21</td>\n",
       "      <td>24</td>\n",
       "      <td>28</td>\n",
       "      <td>28</td>\n",
       "      <td>32</td>\n",
       "      <td>37</td>\n",
       "      <td>49</td>\n",
       "      <td>55</td>\n",
       "      <td>59</td>\n",
       "    </tr>\n",
       "    <tr>\n",
       "      <td>7</td>\n",
       "      <td>Trøndelag</td>\n",
       "      <td>0</td>\n",
       "      <td>0</td>\n",
       "      <td>1</td>\n",
       "      <td>7</td>\n",
       "      <td>15</td>\n",
       "      <td>18</td>\n",
       "      <td>19</td>\n",
       "      <td>22</td>\n",
       "      <td>22</td>\n",
       "      <td>...</td>\n",
       "      <td>50</td>\n",
       "      <td>52</td>\n",
       "      <td>61</td>\n",
       "      <td>70</td>\n",
       "      <td>75</td>\n",
       "      <td>97</td>\n",
       "      <td>122</td>\n",
       "      <td>131</td>\n",
       "      <td>144</td>\n",
       "      <td>158</td>\n",
       "    </tr>\n",
       "    <tr>\n",
       "      <td>8</td>\n",
       "      <td>Vestfold og Telemark</td>\n",
       "      <td>0</td>\n",
       "      <td>0</td>\n",
       "      <td>0</td>\n",
       "      <td>2</td>\n",
       "      <td>2</td>\n",
       "      <td>2</td>\n",
       "      <td>3</td>\n",
       "      <td>5</td>\n",
       "      <td>5</td>\n",
       "      <td>...</td>\n",
       "      <td>48</td>\n",
       "      <td>53</td>\n",
       "      <td>59</td>\n",
       "      <td>63</td>\n",
       "      <td>65</td>\n",
       "      <td>72</td>\n",
       "      <td>81</td>\n",
       "      <td>85</td>\n",
       "      <td>87</td>\n",
       "      <td>95</td>\n",
       "    </tr>\n",
       "    <tr>\n",
       "      <td>9</td>\n",
       "      <td>Vestland</td>\n",
       "      <td>9</td>\n",
       "      <td>12</td>\n",
       "      <td>17</td>\n",
       "      <td>22</td>\n",
       "      <td>24</td>\n",
       "      <td>24</td>\n",
       "      <td>24</td>\n",
       "      <td>28</td>\n",
       "      <td>31</td>\n",
       "      <td>...</td>\n",
       "      <td>118</td>\n",
       "      <td>127</td>\n",
       "      <td>141</td>\n",
       "      <td>147</td>\n",
       "      <td>153</td>\n",
       "      <td>173</td>\n",
       "      <td>200</td>\n",
       "      <td>214</td>\n",
       "      <td>234</td>\n",
       "      <td>279</td>\n",
       "    </tr>\n",
       "    <tr>\n",
       "      <td>10</td>\n",
       "      <td>Viken</td>\n",
       "      <td>5</td>\n",
       "      <td>8</td>\n",
       "      <td>19</td>\n",
       "      <td>23</td>\n",
       "      <td>26</td>\n",
       "      <td>38</td>\n",
       "      <td>41</td>\n",
       "      <td>52</td>\n",
       "      <td>86</td>\n",
       "      <td>...</td>\n",
       "      <td>278</td>\n",
       "      <td>314</td>\n",
       "      <td>358</td>\n",
       "      <td>410</td>\n",
       "      <td>445</td>\n",
       "      <td>529</td>\n",
       "      <td>583</td>\n",
       "      <td>615</td>\n",
       "      <td>674</td>\n",
       "      <td>748</td>\n",
       "    </tr>\n",
       "  </tbody>\n",
       "</table>\n",
       "<p>11 rows × 24 columns</p>\n",
       "</div>"
      ],
      "text/plain": [
       "                   Fylke  02-Mar-20  03-Mar-20  04-Mar-20  05-Mar-20  \\\n",
       "0                  Agder          2          3          3          7   \n",
       "1              Innlandet          0          0          3          4   \n",
       "2        Møre og Romsdal          0          0          1          2   \n",
       "3               Nordland          0          0          0          0   \n",
       "4                   Oslo          7          7         14         18   \n",
       "5               Rogaland          0          0          3          6   \n",
       "6      Troms og Finnmark          1          2          2          2   \n",
       "7              Trøndelag          0          0          1          7   \n",
       "8   Vestfold og Telemark          0          0          0          2   \n",
       "9               Vestland          9         12         17         22   \n",
       "10                 Viken          5          8         19         23   \n",
       "\n",
       "    06-Mar-20  07-Mar-20  08-Mar-20  09-Mar-20  10-Mar-20  ...  15-Mar-20  \\\n",
       "0           7          9          9         17         19  ...         55   \n",
       "1          12         12         12         14         16  ...         72   \n",
       "2           2          2          2          4          5  ...         20   \n",
       "3           1          2          3          3          3  ...          8   \n",
       "4          23         29         35         35         51  ...        281   \n",
       "5          11         14         19         25         33  ...        127   \n",
       "6           6          6          6          6          6  ...         20   \n",
       "7          15         18         19         22         22  ...         50   \n",
       "8           2          2          3          5          5  ...         48   \n",
       "9          24         24         24         28         31  ...        118   \n",
       "10         26         38         41         52         86  ...        278   \n",
       "\n",
       "    16-Mar-20  17-Mar-20  18-Mar-20  19-Mar-20  20-Mar-20  21-Mar-20  \\\n",
       "0          67         67         67         75         79         82   \n",
       "1          81         88         97        105        115        125   \n",
       "2          20         20         20         25         29         32   \n",
       "3          11         11         12         13         17         17   \n",
       "4         292        329        348        392        419        448   \n",
       "5         131        150        161        176        180        199   \n",
       "6          21         24         28         28         32         37   \n",
       "7          52         61         70         75         97        122   \n",
       "8          53         59         63         65         72         81   \n",
       "9         127        141        147        153        173        200   \n",
       "10        314        358        410        445        529        583   \n",
       "\n",
       "    22-Mar-20  23-Mar-20  24-Mar-20  \n",
       "0          91         91         92  \n",
       "1         148        151        163  \n",
       "2          38         44         46  \n",
       "3          18         18         18  \n",
       "4         523        636        657  \n",
       "5         219        237        251  \n",
       "6          49         55         59  \n",
       "7         131        144        158  \n",
       "8          85         87         95  \n",
       "9         214        234        279  \n",
       "10        615        674        748  \n",
       "\n",
       "[11 rows x 24 columns]"
      ]
     },
     "execution_count": 143,
     "metadata": {},
     "output_type": "execute_result"
    }
   ],
   "source": [
    "url = \"https://github.com/NRVA/COVID19_Norge/raw/master/COVID19_fhi_data_fylke.csv\"\n",
    "data = pd.read_csv(url, sep=';')\n",
    "data"
   ]
  },
  {
   "cell_type": "code",
   "execution_count": 6,
   "metadata": {},
   "outputs": [
    {
     "data": {
      "text/html": [
       "<div>\n",
       "<style scoped>\n",
       "    .dataframe tbody tr th:only-of-type {\n",
       "        vertical-align: middle;\n",
       "    }\n",
       "\n",
       "    .dataframe tbody tr th {\n",
       "        vertical-align: top;\n",
       "    }\n",
       "\n",
       "    .dataframe thead th {\n",
       "        text-align: right;\n",
       "    }\n",
       "</style>\n",
       "<table border=\"1\" class=\"dataframe\">\n",
       "  <thead>\n",
       "    <tr style=\"text-align: right;\">\n",
       "      <th></th>\n",
       "      <th>Fylke</th>\n",
       "      <th>RHF</th>\n",
       "      <th>Befolkning</th>\n",
       "    </tr>\n",
       "  </thead>\n",
       "  <tbody>\n",
       "    <tr>\n",
       "      <td>0</td>\n",
       "      <td>Agder</td>\n",
       "      <td>Helse Sør-Øst</td>\n",
       "      <td>307231</td>\n",
       "    </tr>\n",
       "    <tr>\n",
       "      <td>1</td>\n",
       "      <td>Innlandet</td>\n",
       "      <td>Helse Sør-Øst</td>\n",
       "      <td>371385</td>\n",
       "    </tr>\n",
       "    <tr>\n",
       "      <td>2</td>\n",
       "      <td>Møre og Romsdal</td>\n",
       "      <td>Helse Midt-Norge</td>\n",
       "      <td>265238</td>\n",
       "    </tr>\n",
       "    <tr>\n",
       "      <td>3</td>\n",
       "      <td>Nordland</td>\n",
       "      <td>Helse Nord</td>\n",
       "      <td>241235</td>\n",
       "    </tr>\n",
       "    <tr>\n",
       "      <td>4</td>\n",
       "      <td>Oslo</td>\n",
       "      <td>Helse Sør-Øst</td>\n",
       "      <td>693494</td>\n",
       "    </tr>\n",
       "    <tr>\n",
       "      <td>5</td>\n",
       "      <td>Rogaland</td>\n",
       "      <td>Helse Vest</td>\n",
       "      <td>479892</td>\n",
       "    </tr>\n",
       "    <tr>\n",
       "      <td>6</td>\n",
       "      <td>Troms og Finnmark</td>\n",
       "      <td>Helse Nord</td>\n",
       "      <td>243311</td>\n",
       "    </tr>\n",
       "    <tr>\n",
       "      <td>7</td>\n",
       "      <td>Trøndelag</td>\n",
       "      <td>Helse Midt-Norge</td>\n",
       "      <td>468702</td>\n",
       "    </tr>\n",
       "    <tr>\n",
       "      <td>8</td>\n",
       "      <td>Vestfold og Telemark</td>\n",
       "      <td>Helse Sør-Øst</td>\n",
       "      <td>419396</td>\n",
       "    </tr>\n",
       "    <tr>\n",
       "      <td>9</td>\n",
       "      <td>Vestland</td>\n",
       "      <td>Helse Vest</td>\n",
       "      <td>636531</td>\n",
       "    </tr>\n",
       "    <tr>\n",
       "      <td>10</td>\n",
       "      <td>Viken</td>\n",
       "      <td>Helse Sør-Øst</td>\n",
       "      <td>1241165</td>\n",
       "    </tr>\n",
       "  </tbody>\n",
       "</table>\n",
       "</div>"
      ],
      "text/plain": [
       "                   Fylke               RHF  Befolkning\n",
       "0                  Agder     Helse Sør-Øst      307231\n",
       "1              Innlandet     Helse Sør-Øst      371385\n",
       "2        Møre og Romsdal  Helse Midt-Norge      265238\n",
       "3               Nordland        Helse Nord      241235\n",
       "4                   Oslo     Helse Sør-Øst      693494\n",
       "5               Rogaland        Helse Vest      479892\n",
       "6      Troms og Finnmark        Helse Nord      243311\n",
       "7              Trøndelag  Helse Midt-Norge      468702\n",
       "8   Vestfold og Telemark     Helse Sør-Øst      419396\n",
       "9               Vestland        Helse Vest      636531\n",
       "10                 Viken     Helse Sør-Øst     1241165"
      ]
     },
     "execution_count": 6,
     "metadata": {},
     "output_type": "execute_result"
    }
   ],
   "source": [
    "url = \"https://github.com/NRVA/COVID19_Norge/raw/master/Fylkestilhorighet_2020.csv\"\n",
    "fylker = pd.read_csv(url, sep=';')\n",
    "fylker"
   ]
  },
  {
   "cell_type": "code",
   "execution_count": 144,
   "metadata": {},
   "outputs": [
    {
     "data": {
      "text/html": [
       "<div>\n",
       "<style scoped>\n",
       "    .dataframe tbody tr th:only-of-type {\n",
       "        vertical-align: middle;\n",
       "    }\n",
       "\n",
       "    .dataframe tbody tr th {\n",
       "        vertical-align: top;\n",
       "    }\n",
       "\n",
       "    .dataframe thead th {\n",
       "        text-align: right;\n",
       "    }\n",
       "</style>\n",
       "<table border=\"1\" class=\"dataframe\">\n",
       "  <thead>\n",
       "    <tr style=\"text-align: right;\">\n",
       "      <th>Fylke</th>\n",
       "      <th>Agder</th>\n",
       "      <th>Innlandet</th>\n",
       "      <th>Møre og Romsdal</th>\n",
       "      <th>Nordland</th>\n",
       "      <th>Oslo</th>\n",
       "      <th>Rogaland</th>\n",
       "      <th>Troms og Finnmark</th>\n",
       "      <th>Trøndelag</th>\n",
       "      <th>Vestfold og Telemark</th>\n",
       "      <th>Vestland</th>\n",
       "      <th>Viken</th>\n",
       "    </tr>\n",
       "    <tr>\n",
       "      <th>variable</th>\n",
       "      <th></th>\n",
       "      <th></th>\n",
       "      <th></th>\n",
       "      <th></th>\n",
       "      <th></th>\n",
       "      <th></th>\n",
       "      <th></th>\n",
       "      <th></th>\n",
       "      <th></th>\n",
       "      <th></th>\n",
       "      <th></th>\n",
       "    </tr>\n",
       "  </thead>\n",
       "  <tbody>\n",
       "    <tr>\n",
       "      <td>2020-03-02</td>\n",
       "      <td>2</td>\n",
       "      <td>0</td>\n",
       "      <td>0</td>\n",
       "      <td>0</td>\n",
       "      <td>7</td>\n",
       "      <td>0</td>\n",
       "      <td>1</td>\n",
       "      <td>0</td>\n",
       "      <td>0</td>\n",
       "      <td>9</td>\n",
       "      <td>5</td>\n",
       "    </tr>\n",
       "    <tr>\n",
       "      <td>2020-03-03</td>\n",
       "      <td>3</td>\n",
       "      <td>0</td>\n",
       "      <td>0</td>\n",
       "      <td>0</td>\n",
       "      <td>7</td>\n",
       "      <td>0</td>\n",
       "      <td>2</td>\n",
       "      <td>0</td>\n",
       "      <td>0</td>\n",
       "      <td>12</td>\n",
       "      <td>8</td>\n",
       "    </tr>\n",
       "    <tr>\n",
       "      <td>2020-03-04</td>\n",
       "      <td>3</td>\n",
       "      <td>3</td>\n",
       "      <td>1</td>\n",
       "      <td>0</td>\n",
       "      <td>14</td>\n",
       "      <td>3</td>\n",
       "      <td>2</td>\n",
       "      <td>1</td>\n",
       "      <td>0</td>\n",
       "      <td>17</td>\n",
       "      <td>19</td>\n",
       "    </tr>\n",
       "    <tr>\n",
       "      <td>2020-03-05</td>\n",
       "      <td>7</td>\n",
       "      <td>4</td>\n",
       "      <td>2</td>\n",
       "      <td>0</td>\n",
       "      <td>18</td>\n",
       "      <td>6</td>\n",
       "      <td>2</td>\n",
       "      <td>7</td>\n",
       "      <td>2</td>\n",
       "      <td>22</td>\n",
       "      <td>23</td>\n",
       "    </tr>\n",
       "    <tr>\n",
       "      <td>2020-03-06</td>\n",
       "      <td>7</td>\n",
       "      <td>12</td>\n",
       "      <td>2</td>\n",
       "      <td>1</td>\n",
       "      <td>23</td>\n",
       "      <td>11</td>\n",
       "      <td>6</td>\n",
       "      <td>15</td>\n",
       "      <td>2</td>\n",
       "      <td>24</td>\n",
       "      <td>26</td>\n",
       "    </tr>\n",
       "  </tbody>\n",
       "</table>\n",
       "</div>"
      ],
      "text/plain": [
       "Fylke       Agder  Innlandet  Møre og Romsdal  Nordland  Oslo  Rogaland  \\\n",
       "variable                                                                  \n",
       "2020-03-02      2          0                0         0     7         0   \n",
       "2020-03-03      3          0                0         0     7         0   \n",
       "2020-03-04      3          3                1         0    14         3   \n",
       "2020-03-05      7          4                2         0    18         6   \n",
       "2020-03-06      7         12                2         1    23        11   \n",
       "\n",
       "Fylke       Troms og Finnmark  Trøndelag  Vestfold og Telemark  Vestland  \\\n",
       "variable                                                                   \n",
       "2020-03-02                  1          0                     0         9   \n",
       "2020-03-03                  2          0                     0        12   \n",
       "2020-03-04                  2          1                     0        17   \n",
       "2020-03-05                  2          7                     2        22   \n",
       "2020-03-06                  6         15                     2        24   \n",
       "\n",
       "Fylke       Viken  \n",
       "variable           \n",
       "2020-03-02      5  \n",
       "2020-03-03      8  \n",
       "2020-03-04     19  \n",
       "2020-03-05     23  \n",
       "2020-03-06     26  "
      ]
     },
     "execution_count": 144,
     "metadata": {},
     "output_type": "execute_result"
    }
   ],
   "source": [
    "df = data.melt(id_vars=['Fylke']).copy()\n",
    "df['variable'] = pd.to_datetime(df['variable'], errors='coerce')\n",
    "df = df.groupby([\"Fylke\", pd.Grouper(key=\"variable\", freq=\"d\")]).max().reset_index()\n",
    "df = df.pivot(index=\"variable\", columns=\"Fylke\", values=\"value\")\n",
    "\n",
    "restart = df.copy()\n",
    "\n",
    "df.head()"
   ]
  },
  {
   "cell_type": "code",
   "execution_count": 145,
   "metadata": {},
   "outputs": [
    {
     "data": {
      "image/png": "[encoded data removed]",
      "text/plain": [
       "<Figure size 3200x2400 with 12 Axes>"
      ]
     },
     "metadata": {
      "needs_background": "light"
     },
     "output_type": "display_data"
    }
   ],
   "source": [
    "fig = plt.figure(figsize=(16,12), dpi=200, constrained_layout=True)\n",
    "\n",
    "axs = fig.subplots(nrows=4, ncols=3)\n",
    "\n",
    "for i in range(len(df.columns)):\n",
    "    axs.flat[i].plot(df.index, df.iloc[:,i], color='black')\n",
    "    axs.flat[i].get_xaxis().set_ticks([])\n",
    "    axs.flat[i].get_yaxis().set_ticks([])\n",
    "    axs.flat[i].annotate(df.iloc[:,i].name, (0.05, 0.8),xycoords='axes fraction', va='center', ha='left')\n",
    "    \n",
    "fig.savefig('fylker_matrix.png')"
   ]
  },
  {
   "cell_type": "code",
   "execution_count": 146,
   "metadata": {},
   "outputs": [
    {
     "data": {
      "text/html": [
       "<div>\n",
       "<style scoped>\n",
       "    .dataframe tbody tr th:only-of-type {\n",
       "        vertical-align: middle;\n",
       "    }\n",
       "\n",
       "    .dataframe tbody tr th {\n",
       "        vertical-align: top;\n",
       "    }\n",
       "\n",
       "    .dataframe thead th {\n",
       "        text-align: right;\n",
       "    }\n",
       "</style>\n",
       "<table border=\"1\" class=\"dataframe\">\n",
       "  <thead>\n",
       "    <tr style=\"text-align: right;\">\n",
       "      <th></th>\n",
       "      <th>Fylke</th>\n",
       "      <th>variable</th>\n",
       "      <th>0</th>\n",
       "    </tr>\n",
       "  </thead>\n",
       "  <tbody>\n",
       "    <tr>\n",
       "      <td>0</td>\n",
       "      <td>Agder</td>\n",
       "      <td>2020-03-02</td>\n",
       "      <td>2</td>\n",
       "    </tr>\n",
       "    <tr>\n",
       "      <td>1</td>\n",
       "      <td>Agder</td>\n",
       "      <td>2020-03-03</td>\n",
       "      <td>3</td>\n",
       "    </tr>\n",
       "    <tr>\n",
       "      <td>2</td>\n",
       "      <td>Agder</td>\n",
       "      <td>2020-03-04</td>\n",
       "      <td>3</td>\n",
       "    </tr>\n",
       "    <tr>\n",
       "      <td>3</td>\n",
       "      <td>Agder</td>\n",
       "      <td>2020-03-05</td>\n",
       "      <td>7</td>\n",
       "    </tr>\n",
       "    <tr>\n",
       "      <td>4</td>\n",
       "      <td>Agder</td>\n",
       "      <td>2020-03-06</td>\n",
       "      <td>7</td>\n",
       "    </tr>\n",
       "  </tbody>\n",
       "</table>\n",
       "</div>"
      ],
      "text/plain": [
       "   Fylke   variable  0\n",
       "0  Agder 2020-03-02  2\n",
       "1  Agder 2020-03-03  3\n",
       "2  Agder 2020-03-04  3\n",
       "3  Agder 2020-03-05  7\n",
       "4  Agder 2020-03-06  7"
      ]
     },
     "execution_count": 146,
     "metadata": {},
     "output_type": "execute_result"
    }
   ],
   "source": [
    "unstacked = df.unstack().reset_index()\n",
    "\n",
    "unstacked = unstacked[pd.to_datetime(unstacked[\"variable\"]) >= pd.to_datetime(\"2020-02-25\")]\n",
    "\n",
    "unstacked.head()"
   ]
  },
  {
   "cell_type": "markdown",
   "metadata": {},
   "source": [
    "# moment"
   ]
  },
  {
   "cell_type": "code",
   "execution_count": 147,
   "metadata": {},
   "outputs": [
    {
     "data": {
      "text/html": [
       "<div>\n",
       "<style scoped>\n",
       "    .dataframe tbody tr th:only-of-type {\n",
       "        vertical-align: middle;\n",
       "    }\n",
       "\n",
       "    .dataframe tbody tr th {\n",
       "        vertical-align: top;\n",
       "    }\n",
       "\n",
       "    .dataframe thead th {\n",
       "        text-align: right;\n",
       "    }\n",
       "</style>\n",
       "<table border=\"1\" class=\"dataframe\">\n",
       "  <thead>\n",
       "    <tr style=\"text-align: right;\">\n",
       "      <th></th>\n",
       "      <th>Fylke</th>\n",
       "      <th>Vekstrate</th>\n",
       "      <th>- 1 uke</th>\n",
       "    </tr>\n",
       "  </thead>\n",
       "  <tbody>\n",
       "    <tr>\n",
       "      <td>0</td>\n",
       "      <td>Nordland</td>\n",
       "      <td>0.000000</td>\n",
       "      <td>3.030303</td>\n",
       "    </tr>\n",
       "    <tr>\n",
       "      <td>1</td>\n",
       "      <td>Agder</td>\n",
       "      <td>0.366300</td>\n",
       "      <td>0.000000</td>\n",
       "    </tr>\n",
       "    <tr>\n",
       "      <td>2</td>\n",
       "      <td>Innlandet</td>\n",
       "      <td>3.378378</td>\n",
       "      <td>6.584362</td>\n",
       "    </tr>\n",
       "    <tr>\n",
       "      <td>3</td>\n",
       "      <td>Vestfold og Telemark</td>\n",
       "      <td>3.921569</td>\n",
       "      <td>6.289308</td>\n",
       "    </tr>\n",
       "    <tr>\n",
       "      <td>4</td>\n",
       "      <td>Rogaland</td>\n",
       "      <td>4.870624</td>\n",
       "      <td>7.633588</td>\n",
       "    </tr>\n",
       "  </tbody>\n",
       "</table>\n",
       "</div>"
      ],
      "text/plain": [
       "                  Fylke  Vekstrate   - 1 uke\n",
       "0              Nordland   0.000000  3.030303\n",
       "1                 Agder   0.366300  0.000000\n",
       "2             Innlandet   3.378378  6.584362\n",
       "3  Vestfold og Telemark   3.921569  6.289308\n",
       "4              Rogaland   4.870624  7.633588"
      ]
     },
     "execution_count": 147,
     "metadata": {},
     "output_type": "execute_result"
    }
   ],
   "source": [
    "roc = df.copy()\n",
    "roc = roc.pct_change(periods=2)*100/3\n",
    "\n",
    "roc.iloc[[-1]].melt()\n",
    "roc1 = roc.iloc[[-1]].melt().rename(columns={\"value\": \"Vekstrate\"}).sort_values(by=['Vekstrate'], ascending=True)\n",
    "lastweek = roc.iloc[[-7]].melt().rename(columns={\"value\": \"- 1 uke\"})\n",
    "\n",
    "vekst = roc1.merge(lastweek, how=\"left\", on=\"Fylke\")\n",
    "vekst.head()"
   ]
  },
  {
   "cell_type": "code",
   "execution_count": 148,
   "metadata": {},
   "outputs": [
    {
     "data": {
      "text/html": [
       "<div>\n",
       "<style scoped>\n",
       "    .dataframe tbody tr th:only-of-type {\n",
       "        vertical-align: middle;\n",
       "    }\n",
       "\n",
       "    .dataframe tbody tr th {\n",
       "        vertical-align: top;\n",
       "    }\n",
       "\n",
       "    .dataframe thead th {\n",
       "        text-align: right;\n",
       "    }\n",
       "</style>\n",
       "<table border=\"1\" class=\"dataframe\">\n",
       "  <thead>\n",
       "    <tr style=\"text-align: right;\">\n",
       "      <th></th>\n",
       "      <th>Fylke</th>\n",
       "      <th>Vekstrate</th>\n",
       "      <th>- 1 uke</th>\n",
       "      <th>dtime</th>\n",
       "      <th>momentum</th>\n",
       "      <th>text</th>\n",
       "      <th>RHF</th>\n",
       "      <th>Befolkning</th>\n",
       "    </tr>\n",
       "  </thead>\n",
       "  <tbody>\n",
       "    <tr>\n",
       "      <td>0</td>\n",
       "      <td>Nordland</td>\n",
       "      <td>0.00</td>\n",
       "      <td>3.03</td>\n",
       "      <td>inf</td>\n",
       "      <td>Avtagende</td>\n",
       "      <td>Hver inf dag</td>\n",
       "      <td>Helse Nord</td>\n",
       "      <td>241235</td>\n",
       "    </tr>\n",
       "    <tr>\n",
       "      <td>1</td>\n",
       "      <td>Agder</td>\n",
       "      <td>0.37</td>\n",
       "      <td>0.00</td>\n",
       "      <td>189.575543</td>\n",
       "      <td>Tiltagende</td>\n",
       "      <td>Hver 190.0 dag</td>\n",
       "      <td>Helse Sør-Øst</td>\n",
       "      <td>307231</td>\n",
       "    </tr>\n",
       "    <tr>\n",
       "      <td>2</td>\n",
       "      <td>Innlandet</td>\n",
       "      <td>3.38</td>\n",
       "      <td>6.58</td>\n",
       "      <td>20.861811</td>\n",
       "      <td>Avtagende</td>\n",
       "      <td>Hver 21.0 dag</td>\n",
       "      <td>Helse Sør-Øst</td>\n",
       "      <td>371385</td>\n",
       "    </tr>\n",
       "    <tr>\n",
       "      <td>3</td>\n",
       "      <td>Vestfold og Telemark</td>\n",
       "      <td>3.92</td>\n",
       "      <td>6.29</td>\n",
       "      <td>18.019605</td>\n",
       "      <td>Avtagende</td>\n",
       "      <td>Hver 18.0 dag</td>\n",
       "      <td>Helse Sør-Øst</td>\n",
       "      <td>419396</td>\n",
       "    </tr>\n",
       "    <tr>\n",
       "      <td>4</td>\n",
       "      <td>Rogaland</td>\n",
       "      <td>4.87</td>\n",
       "      <td>7.63</td>\n",
       "      <td>14.575005</td>\n",
       "      <td>Avtagende</td>\n",
       "      <td>Hver 15.0 dag</td>\n",
       "      <td>Helse Vest</td>\n",
       "      <td>479892</td>\n",
       "    </tr>\n",
       "    <tr>\n",
       "      <td>5</td>\n",
       "      <td>Troms og Finnmark</td>\n",
       "      <td>6.80</td>\n",
       "      <td>11.11</td>\n",
       "      <td>10.532036</td>\n",
       "      <td>Avtagende</td>\n",
       "      <td>Hver 11.0 dag</td>\n",
       "      <td>Helse Nord</td>\n",
       "      <td>243311</td>\n",
       "    </tr>\n",
       "    <tr>\n",
       "      <td>6</td>\n",
       "      <td>Trøndelag</td>\n",
       "      <td>6.87</td>\n",
       "      <td>11.54</td>\n",
       "      <td>10.431878</td>\n",
       "      <td>Avtagende</td>\n",
       "      <td>Hver 10.0 dag</td>\n",
       "      <td>Helse Midt-Norge</td>\n",
       "      <td>468702</td>\n",
       "    </tr>\n",
       "    <tr>\n",
       "      <td>7</td>\n",
       "      <td>Møre og Romsdal</td>\n",
       "      <td>7.02</td>\n",
       "      <td>0.00</td>\n",
       "      <td>10.220004</td>\n",
       "      <td>Tiltagende</td>\n",
       "      <td>Hver 10.0 dag</td>\n",
       "      <td>Helse Midt-Norge</td>\n",
       "      <td>265238</td>\n",
       "    </tr>\n",
       "    <tr>\n",
       "      <td>8</td>\n",
       "      <td>Viken</td>\n",
       "      <td>7.21</td>\n",
       "      <td>10.19</td>\n",
       "      <td>9.958016</td>\n",
       "      <td>Avtagende</td>\n",
       "      <td>Hver 10.0 dag</td>\n",
       "      <td>Helse Sør-Øst</td>\n",
       "      <td>1241165</td>\n",
       "    </tr>\n",
       "    <tr>\n",
       "      <td>9</td>\n",
       "      <td>Oslo</td>\n",
       "      <td>8.54</td>\n",
       "      <td>6.39</td>\n",
       "      <td>8.457870</td>\n",
       "      <td>Tiltagende</td>\n",
       "      <td>Hver 8.0 dag</td>\n",
       "      <td>Helse Sør-Øst</td>\n",
       "      <td>693494</td>\n",
       "    </tr>\n",
       "    <tr>\n",
       "      <td>10</td>\n",
       "      <td>Vestland</td>\n",
       "      <td>10.12</td>\n",
       "      <td>5.25</td>\n",
       "      <td>7.187165</td>\n",
       "      <td>Tiltagende</td>\n",
       "      <td>Hver 7.0 dag</td>\n",
       "      <td>Helse Vest</td>\n",
       "      <td>636531</td>\n",
       "    </tr>\n",
       "  </tbody>\n",
       "</table>\n",
       "</div>"
      ],
      "text/plain": [
       "                   Fylke  Vekstrate  - 1 uke       dtime    momentum  \\\n",
       "0               Nordland       0.00     3.03         inf   Avtagende   \n",
       "1                  Agder       0.37     0.00  189.575543  Tiltagende   \n",
       "2              Innlandet       3.38     6.58   20.861811   Avtagende   \n",
       "3   Vestfold og Telemark       3.92     6.29   18.019605   Avtagende   \n",
       "4               Rogaland       4.87     7.63   14.575005   Avtagende   \n",
       "5      Troms og Finnmark       6.80    11.11   10.532036   Avtagende   \n",
       "6              Trøndelag       6.87    11.54   10.431878   Avtagende   \n",
       "7        Møre og Romsdal       7.02     0.00   10.220004  Tiltagende   \n",
       "8                  Viken       7.21    10.19    9.958016   Avtagende   \n",
       "9                   Oslo       8.54     6.39    8.457870  Tiltagende   \n",
       "10              Vestland      10.12     5.25    7.187165  Tiltagende   \n",
       "\n",
       "              text               RHF  Befolkning  \n",
       "0     Hver inf dag        Helse Nord      241235  \n",
       "1   Hver 190.0 dag     Helse Sør-Øst      307231  \n",
       "2    Hver 21.0 dag     Helse Sør-Øst      371385  \n",
       "3    Hver 18.0 dag     Helse Sør-Øst      419396  \n",
       "4    Hver 15.0 dag        Helse Vest      479892  \n",
       "5    Hver 11.0 dag        Helse Nord      243311  \n",
       "6    Hver 10.0 dag  Helse Midt-Norge      468702  \n",
       "7    Hver 10.0 dag  Helse Midt-Norge      265238  \n",
       "8    Hver 10.0 dag     Helse Sør-Øst     1241165  \n",
       "9     Hver 8.0 dag     Helse Sør-Øst      693494  \n",
       "10    Hver 7.0 dag        Helse Vest      636531  "
      ]
     },
     "execution_count": 148,
     "metadata": {},
     "output_type": "execute_result"
    }
   ],
   "source": [
    "vekst[\"dtime\"] = np.log(2)/np.log(1+(vekst[\"Vekstrate\"]/100))\n",
    "#vekst[\"dtime\"] = (72/(vekst[\"Vekstrate\"]))\n",
    "vekst[\"momentum\"] = vekst[\"Vekstrate\"]-vekst[\"- 1 uke\"]\n",
    "vekst[\"momentum\"] = vekst[\"momentum\"].apply(lambda x: \"Avtagende\" if x < 0 else \"Tiltagende\")\n",
    "vekst[\"text\"] = \"Hver \"+vekst[\"dtime\"].round(0).astype(str)+\" dag\"\n",
    "vekst[\"Vekstrate\"] = vekst[\"Vekstrate\"].round(2)\n",
    "vekst[\"- 1 uke\"] = vekst[\"- 1 uke\"].round(2)\n",
    "vekst = vekst.merge(fylker, how=\"left\", on=\"Fylke\")\n",
    "\n",
    "vekst"
   ]
  },
  {
   "cell_type": "code",
   "execution_count": 13,
   "metadata": {},
   "outputs": [
    {
     "data": {
      "text/plain": [
       "'https://plotly.com/~oystein.nerva/58/'"
      ]
     },
     "execution_count": 13,
     "metadata": {},
     "output_type": "execute_result"
    }
   ],
   "source": [
    "from datetime import datetime\n",
    "\n",
    "legend = [i for i in vekst[\"RHF\"].unique()]\n",
    "legend.sort()\n",
    "\n",
    "fig = px.bar(vekst, \n",
    "             x='Vekstrate', y='Fylke', \n",
    "             orientation='h',\n",
    "             category_orders={\"RHF\": legend},\n",
    "             height=500,\n",
    "             title = \"<b>Endringer i antall registrerte smittede pr fylke</b><br>Gjennomsnittlig veksttakt siste tre dager<br>Datakilde: FHI - folkehelseinstituttet. Oppdatert \" +datetime.today().strftime('%d.%m.%Y'),\n",
    "             color='RHF',\n",
    "             text=\"text\",\n",
    "             hover_name=\"Fylke\",\n",
    "             hover_data=[\"Vekstrate\"],\n",
    "             template = \"plotly_white\", \n",
    "             labels = {\"Vekstrate\": \"daglig vekst (%)\", \"- 1 uke\": \"Daglig vekst for en uke siden\", \"text\": \"Dager før dobling med dagens vekst\"},\n",
    "            )\n",
    "\n",
    "\"\"\"\n",
    "fig.add_shape(\n",
    "        # doubling time 2 days\n",
    "        dict(\n",
    "            type=\"line\",\n",
    "            x0=41.42136,\n",
    "            y0=-0.5,\n",
    "            x1=41.42136,\n",
    "            y1=21.5,\n",
    "            line=dict(\n",
    "                color=\"Black\",\n",
    "                width=1\n",
    "            )))\n",
    "fig.add_shape(\n",
    "        # doubling time 1 uke\n",
    "        dict(\n",
    "            type=\"line\",\n",
    "            x0=10.40895,\n",
    "            y0=-0.5,\n",
    "            x1=10.40895,\n",
    "            y1=21.5,\n",
    "            line=dict(\n",
    "                color=\"Black\",\n",
    "                width=1\n",
    "            )))\n",
    "\n",
    "\"\"\"\n",
    "fig.layout.coloraxis.showscale = False\n",
    "\n",
    "fig.update_layout(\n",
    "    yaxis=dict(\n",
    "        separatethousands=True,\n",
    "        categoryorder = 'total ascending',\n",
    "        title_text=\"\",\n",
    "        fixedrange=True,\n",
    "    ), xaxis=dict(fixedrange=True,\n",
    "                 title_text=\"\"),\n",
    "    title_font=dict(family=\"Helvetica\", size=18),\n",
    "        margin=dict(b=150)) #bottom margin\n",
    "\n",
    "fig.update_layout(autosize=True,\n",
    "    margin=dict(l=100, r=100, t=150, b=0),\n",
    "    paper_bgcolor='rgba(0, 0, 0, 0)'\n",
    "    #plot_bgcolor='rgb(248, 248, 255)'    \n",
    "                 )\n",
    "\n",
    "#plotly.offline.plot(fig, filename='COVID_moment_fylke.html')\n",
    "#py.plot(fig, filename='COVID19_vekstmomentum_fylker.html')"
   ]
  },
  {
   "cell_type": "markdown",
   "metadata": {},
   "source": [
    "# animation"
   ]
  },
  {
   "cell_type": "code",
   "execution_count": 149,
   "metadata": {},
   "outputs": [
    {
     "data": {
      "text/html": [
       "<div>\n",
       "<style scoped>\n",
       "    .dataframe tbody tr th:only-of-type {\n",
       "        vertical-align: middle;\n",
       "    }\n",
       "\n",
       "    .dataframe tbody tr th {\n",
       "        vertical-align: top;\n",
       "    }\n",
       "\n",
       "    .dataframe thead th {\n",
       "        text-align: right;\n",
       "    }\n",
       "</style>\n",
       "<table border=\"1\" class=\"dataframe\">\n",
       "  <thead>\n",
       "    <tr style=\"text-align: right;\">\n",
       "      <th></th>\n",
       "      <th>variable</th>\n",
       "      <th>Fylke</th>\n",
       "      <th>Registrerte smittede</th>\n",
       "      <th>RHF</th>\n",
       "      <th>Befolkning</th>\n",
       "      <th>Smittede/tusen innb</th>\n",
       "      <th>txt</th>\n",
       "    </tr>\n",
       "  </thead>\n",
       "  <tbody>\n",
       "    <tr>\n",
       "      <td>0</td>\n",
       "      <td>02 Mar</td>\n",
       "      <td>Agder</td>\n",
       "      <td>2</td>\n",
       "      <td>Helse Sør-Øst</td>\n",
       "      <td>307231</td>\n",
       "      <td>0.00651</td>\n",
       "      <td>0.01</td>\n",
       "    </tr>\n",
       "    <tr>\n",
       "      <td>1</td>\n",
       "      <td>02 Mar</td>\n",
       "      <td>Innlandet</td>\n",
       "      <td>0</td>\n",
       "      <td>Helse Sør-Øst</td>\n",
       "      <td>371385</td>\n",
       "      <td>0.00000</td>\n",
       "      <td>0.0</td>\n",
       "    </tr>\n",
       "    <tr>\n",
       "      <td>2</td>\n",
       "      <td>02 Mar</td>\n",
       "      <td>Troms og Finnmark</td>\n",
       "      <td>1</td>\n",
       "      <td>Helse Nord</td>\n",
       "      <td>243311</td>\n",
       "      <td>0.00411</td>\n",
       "      <td>0.0</td>\n",
       "    </tr>\n",
       "    <tr>\n",
       "      <td>3</td>\n",
       "      <td>02 Mar</td>\n",
       "      <td>Rogaland</td>\n",
       "      <td>0</td>\n",
       "      <td>Helse Vest</td>\n",
       "      <td>479892</td>\n",
       "      <td>0.00000</td>\n",
       "      <td>0.0</td>\n",
       "    </tr>\n",
       "    <tr>\n",
       "      <td>4</td>\n",
       "      <td>02 Mar</td>\n",
       "      <td>Nordland</td>\n",
       "      <td>0</td>\n",
       "      <td>Helse Nord</td>\n",
       "      <td>241235</td>\n",
       "      <td>0.00000</td>\n",
       "      <td>0.0</td>\n",
       "    </tr>\n",
       "  </tbody>\n",
       "</table>\n",
       "</div>"
      ],
      "text/plain": [
       "  variable              Fylke  Registrerte smittede            RHF  \\\n",
       "0   02 Mar              Agder                     2  Helse Sør-Øst   \n",
       "1   02 Mar          Innlandet                     0  Helse Sør-Øst   \n",
       "2   02 Mar  Troms og Finnmark                     1     Helse Nord   \n",
       "3   02 Mar           Rogaland                     0     Helse Vest   \n",
       "4   02 Mar           Nordland                     0     Helse Nord   \n",
       "\n",
       "   Befolkning  Smittede/tusen innb   txt  \n",
       "0      307231              0.00651  0.01  \n",
       "1      371385              0.00000   0.0  \n",
       "2      243311              0.00411   0.0  \n",
       "3      479892              0.00000   0.0  \n",
       "4      241235              0.00000   0.0  "
      ]
     },
     "execution_count": 149,
     "metadata": {},
     "output_type": "execute_result"
    }
   ],
   "source": [
    "melted = pd.melt(df.reset_index(), id_vars=[\"variable\"], var_name=\"Fylke\", value_name=\"Registrerte smittede\").dropna().sort_values(by=[\"variable\"])\n",
    "melted[\"variable\"] = melted[\"variable\"].apply(lambda x: x.strftime(\"%d %b\"))\n",
    "melted = melted.merge(fylker, how=\"left\", on=\"Fylke\")\n",
    "melted[\"Smittede/tusen innb\"] = melted[\"Registrerte smittede\"]/(melted[\"Befolkning\"]/1000)\n",
    "melted[\"txt\"] = melted[\"Smittede/tusen innb\"].round(2).astype(str)\n",
    "melted.head()"
   ]
  },
  {
   "cell_type": "code",
   "execution_count": 150,
   "metadata": {
    "scrolled": false
   },
   "outputs": [
    {
     "data": {
      "application/vnd.plotly.v1+json": {
       "config": {
        "plotlyServerURL": "https://plot.ly"
       },
       "data": [
        {
         "alignmentgroup": "True",
         "hoverlabel": {
          "namelength": 0
         },
         "hovertemplate": "RHF=Helse Midt-Norge<br>Dato=02 Mar<br>Registrerte smittede=%{text}<br>Fylke=%{y}",
         "ids": [
          "Trøndelag",
          "Møre og Romsdal"
         ],
         "legendgroup": "Helse Midt-Norge",
         "marker": {
          "color": "#636efa"
         },
         "name": "Helse Midt-Norge",
         "offsetgroup": "Helse Midt-Norge",
         "orientation": "h",
         "showlegend": true,
         "text": [
          0,
          0
         ],
         "textposition": "auto",
         "type": "bar",
         "x": [
          0,
          0
         ],
         "xaxis": "x",
         "y": [
          "Trøndelag",
          "Møre og Romsdal"
         ],
         "yaxis": "y"
        },
        {
         "alignmentgroup": "True",
         "hoverlabel": {
          "namelength": 0
         },
         "hovertemplate": "RHF=Helse Nord<br>Dato=02 Mar<br>Registrerte smittede=%{text}<br>Fylke=%{y}",
         "ids": [
          "Troms og Finnmark",
          "Nordland"
         ],
         "legendgroup": "Helse Nord",
         "marker": {
          "color": "#EF553B"
         },
         "name": "Helse Nord",
         "offsetgroup": "Helse Nord",
         "orientation": "h",
         "showlegend": true,
         "text": [
          1,
          0
         ],
         "textposition": "auto",
         "type": "bar",
         "x": [
          1,
          0
         ],
         "xaxis": "x",
         "y": [
          "Troms og Finnmark",
          "Nordland"
         ],
         "yaxis": "y"
        },
        {
         "alignmentgroup": "True",
         "hoverlabel": {
          "namelength": 0
         },
         "hovertemplate": "RHF=Helse Sør-Øst<br>Dato=02 Mar<br>Registrerte smittede=%{text}<br>Fylke=%{y}",
         "ids": [
          "Agder",
          "Innlandet",
          "Oslo",
          "Viken",
          "Vestfold og Telemark"
         ],
         "legendgroup": "Helse Sør-Øst",
         "marker": {
          "color": "#00cc96"
         },
         "name": "Helse Sør-Øst",
         "offsetgroup": "Helse Sør-Øst",
         "orientation": "h",
         "showlegend": true,
         "text": [
          2,
          0,
          7,
          5,
          0
         ],
         "textposition": "auto",
         "type": "bar",
         "x": [
          2,
          0,
          7,
          5,
          0
         ],
         "xaxis": "x",
         "y": [
          "Agder",
          "Innlandet",
          "Oslo",
          "Viken",
          "Vestfold og Telemark"
         ],
         "yaxis": "y"
        },
        {
         "alignmentgroup": "True",
         "hoverlabel": {
          "namelength": 0
         },
         "hovertemplate": "RHF=Helse Vest<br>Dato=02 Mar<br>Registrerte smittede=%{text}<br>Fylke=%{y}",
         "ids": [
          "Rogaland",
          "Vestland"
         ],
         "legendgroup": "Helse Vest",
         "marker": {
          "color": "#ab63fa"
         },
         "name": "Helse Vest",
         "offsetgroup": "Helse Vest",
         "orientation": "h",
         "showlegend": true,
         "text": [
          0,
          9
         ],
         "textposition": "auto",
         "type": "bar",
         "x": [
          0,
          9
         ],
         "xaxis": "x",
         "y": [
          "Rogaland",
          "Vestland"
         ],
         "yaxis": "y"
        }
       ],
       "frames": [
        {
         "data": [
          {
           "alignmentgroup": "True",
           "hoverlabel": {
            "namelength": 0
           },
           "hovertemplate": "RHF=Helse Midt-Norge<br>Dato=02 Mar<br>Registrerte smittede=%{text}<br>Fylke=%{y}",
           "ids": [
            "Trøndelag",
            "Møre og Romsdal"
           ],
           "legendgroup": "Helse Midt-Norge",
           "marker": {
            "color": "#636efa"
           },
           "name": "Helse Midt-Norge",
           "offsetgroup": "Helse Midt-Norge",
           "orientation": "h",
           "showlegend": true,
           "text": [
            0,
            0
           ],
           "textposition": "auto",
           "type": "bar",
           "x": [
            0,
            0
           ],
           "xaxis": "x",
           "y": [
            "Trøndelag",
            "Møre og Romsdal"
           ],
           "yaxis": "y"
          },
          {
           "alignmentgroup": "True",
           "hoverlabel": {
            "namelength": 0
           },
           "hovertemplate": "RHF=Helse Nord<br>Dato=02 Mar<br>Registrerte smittede=%{text}<br>Fylke=%{y}",
           "ids": [
            "Troms og Finnmark",
            "Nordland"
           ],
           "legendgroup": "Helse Nord",
           "marker": {
            "color": "#EF553B"
           },
           "name": "Helse Nord",
           "offsetgroup": "Helse Nord",
           "orientation": "h",
           "showlegend": true,
           "text": [
            1,
            0
           ],
           "textposition": "auto",
           "type": "bar",
           "x": [
            1,
            0
           ],
           "xaxis": "x",
           "y": [
            "Troms og Finnmark",
            "Nordland"
           ],
           "yaxis": "y"
          },
          {
           "alignmentgroup": "True",
           "hoverlabel": {
            "namelength": 0
           },
           "hovertemplate": "RHF=Helse Sør-Øst<br>Dato=02 Mar<br>Registrerte smittede=%{text}<br>Fylke=%{y}",
           "ids": [
            "Agder",
            "Innlandet",
            "Oslo",
            "Viken",
            "Vestfold og Telemark"
           ],
           "legendgroup": "Helse Sør-Øst",
           "marker": {
            "color": "#00cc96"
           },
           "name": "Helse Sør-Øst",
           "offsetgroup": "Helse Sør-Øst",
           "orientation": "h",
           "showlegend": true,
           "text": [
            2,
            0,
            7,
            5,
            0
           ],
           "textposition": "auto",
           "type": "bar",
           "x": [
            2,
            0,
            7,
            5,
            0
           ],
           "xaxis": "x",
           "y": [
            "Agder",
            "Innlandet",
            "Oslo",
            "Viken",
            "Vestfold og Telemark"
           ],
           "yaxis": "y"
          },
          {
           "alignmentgroup": "True",
           "hoverlabel": {
            "namelength": 0
           },
           "hovertemplate": "RHF=Helse Vest<br>Dato=02 Mar<br>Registrerte smittede=%{text}<br>Fylke=%{y}",
           "ids": [
            "Rogaland",
            "Vestland"
           ],
           "legendgroup": "Helse Vest",
           "marker": {
            "color": "#ab63fa"
           },
           "name": "Helse Vest",
           "offsetgroup": "Helse Vest",
           "orientation": "h",
           "showlegend": true,
           "text": [
            0,
            9
           ],
           "textposition": "auto",
           "type": "bar",
           "x": [
            0,
            9
           ],
           "xaxis": "x",
           "y": [
            "Rogaland",
            "Vestland"
           ],
           "yaxis": "y"
          }
         ],
         "name": "02 Mar"
        },
        {
         "data": [
          {
           "alignmentgroup": "True",
           "hoverlabel": {
            "namelength": 0
           },
           "hovertemplate": "RHF=Helse Midt-Norge<br>Dato=03 Mar<br>Registrerte smittede=%{text}<br>Fylke=%{y}",
           "ids": [
            "Møre og Romsdal",
            "Trøndelag"
           ],
           "legendgroup": "Helse Midt-Norge",
           "marker": {
            "color": "#636efa"
           },
           "name": "Helse Midt-Norge",
           "offsetgroup": "Helse Midt-Norge",
           "orientation": "h",
           "showlegend": true,
           "text": [
            0,
            0
           ],
           "textposition": "auto",
           "type": "bar",
           "x": [
            0,
            0
           ],
           "xaxis": "x",
           "y": [
            "Møre og Romsdal",
            "Trøndelag"
           ],
           "yaxis": "y"
          },
          {
           "alignmentgroup": "True",
           "hoverlabel": {
            "namelength": 0
           },
           "hovertemplate": "RHF=Helse Nord<br>Dato=03 Mar<br>Registrerte smittede=%{text}<br>Fylke=%{y}",
           "ids": [
            "Nordland",
            "Troms og Finnmark"
           ],
           "legendgroup": "Helse Nord",
           "marker": {
            "color": "#EF553B"
           },
           "name": "Helse Nord",
           "offsetgroup": "Helse Nord",
           "orientation": "h",
           "showlegend": true,
           "text": [
            0,
            2
           ],
           "textposition": "auto",
           "type": "bar",
           "x": [
            0,
            2
           ],
           "xaxis": "x",
           "y": [
            "Nordland",
            "Troms og Finnmark"
           ],
           "yaxis": "y"
          },
          {
           "alignmentgroup": "True",
           "hoverlabel": {
            "namelength": 0
           },
           "hovertemplate": "RHF=Helse Sør-Øst<br>Dato=03 Mar<br>Registrerte smittede=%{text}<br>Fylke=%{y}",
           "ids": [
            "Oslo",
            "Vestfold og Telemark",
            "Innlandet",
            "Viken",
            "Agder"
           ],
           "legendgroup": "Helse Sør-Øst",
           "marker": {
            "color": "#00cc96"
           },
           "name": "Helse Sør-Øst",
           "offsetgroup": "Helse Sør-Øst",
           "orientation": "h",
           "showlegend": true,
           "text": [
            7,
            0,
            0,
            8,
            3
           ],
           "textposition": "auto",
           "type": "bar",
           "x": [
            7,
            0,
            0,
            8,
            3
           ],
           "xaxis": "x",
           "y": [
            "Oslo",
            "Vestfold og Telemark",
            "Innlandet",
            "Viken",
            "Agder"
           ],
           "yaxis": "y"
          },
          {
           "alignmentgroup": "True",
           "hoverlabel": {
            "namelength": 0
           },
           "hovertemplate": "RHF=Helse Vest<br>Dato=03 Mar<br>Registrerte smittede=%{text}<br>Fylke=%{y}",
           "ids": [
            "Vestland",
            "Rogaland"
           ],
           "legendgroup": "Helse Vest",
           "marker": {
            "color": "#ab63fa"
           },
           "name": "Helse Vest",
           "offsetgroup": "Helse Vest",
           "orientation": "h",
           "showlegend": true,
           "text": [
            12,
            0
           ],
           "textposition": "auto",
           "type": "bar",
           "x": [
            12,
            0
           ],
           "xaxis": "x",
           "y": [
            "Vestland",
            "Rogaland"
           ],
           "yaxis": "y"
          }
         ],
         "name": "03 Mar"
        },
        {
         "data": [
          {
           "alignmentgroup": "True",
           "hoverlabel": {
            "namelength": 0
           },
           "hovertemplate": "RHF=Helse Midt-Norge<br>Dato=04 Mar<br>Registrerte smittede=%{text}<br>Fylke=%{y}",
           "ids": [
            "Trøndelag",
            "Møre og Romsdal"
           ],
           "legendgroup": "Helse Midt-Norge",
           "marker": {
            "color": "#636efa"
           },
           "name": "Helse Midt-Norge",
           "offsetgroup": "Helse Midt-Norge",
           "orientation": "h",
           "showlegend": true,
           "text": [
            1,
            1
           ],
           "textposition": "auto",
           "type": "bar",
           "x": [
            1,
            1
           ],
           "xaxis": "x",
           "y": [
            "Trøndelag",
            "Møre og Romsdal"
           ],
           "yaxis": "y"
          },
          {
           "alignmentgroup": "True",
           "hoverlabel": {
            "namelength": 0
           },
           "hovertemplate": "RHF=Helse Nord<br>Dato=04 Mar<br>Registrerte smittede=%{text}<br>Fylke=%{y}",
           "ids": [
            "Troms og Finnmark",
            "Nordland"
           ],
           "legendgroup": "Helse Nord",
           "marker": {
            "color": "#EF553B"
           },
           "name": "Helse Nord",
           "offsetgroup": "Helse Nord",
           "orientation": "h",
           "showlegend": true,
           "text": [
            2,
            0
           ],
           "textposition": "auto",
           "type": "bar",
           "x": [
            2,
            0
           ],
           "xaxis": "x",
           "y": [
            "Troms og Finnmark",
            "Nordland"
           ],
           "yaxis": "y"
          },
          {
           "alignmentgroup": "True",
           "hoverlabel": {
            "namelength": 0
           },
           "hovertemplate": "RHF=Helse Sør-Øst<br>Dato=04 Mar<br>Registrerte smittede=%{text}<br>Fylke=%{y}",
           "ids": [
            "Viken",
            "Agder",
            "Innlandet",
            "Vestfold og Telemark",
            "Oslo"
           ],
           "legendgroup": "Helse Sør-Øst",
           "marker": {
            "color": "#00cc96"
           },
           "name": "Helse Sør-Øst",
           "offsetgroup": "Helse Sør-Øst",
           "orientation": "h",
           "showlegend": true,
           "text": [
            19,
            3,
            3,
            0,
            14
           ],
           "textposition": "auto",
           "type": "bar",
           "x": [
            19,
            3,
            3,
            0,
            14
           ],
           "xaxis": "x",
           "y": [
            "Viken",
            "Agder",
            "Innlandet",
            "Vestfold og Telemark",
            "Oslo"
           ],
           "yaxis": "y"
          },
          {
           "alignmentgroup": "True",
           "hoverlabel": {
            "namelength": 0
           },
           "hovertemplate": "RHF=Helse Vest<br>Dato=04 Mar<br>Registrerte smittede=%{text}<br>Fylke=%{y}",
           "ids": [
            "Rogaland",
            "Vestland"
           ],
           "legendgroup": "Helse Vest",
           "marker": {
            "color": "#ab63fa"
           },
           "name": "Helse Vest",
           "offsetgroup": "Helse Vest",
           "orientation": "h",
           "showlegend": true,
           "text": [
            3,
            17
           ],
           "textposition": "auto",
           "type": "bar",
           "x": [
            3,
            17
           ],
           "xaxis": "x",
           "y": [
            "Rogaland",
            "Vestland"
           ],
           "yaxis": "y"
          }
         ],
         "name": "04 Mar"
        },
        {
         "data": [
          {
           "alignmentgroup": "True",
           "hoverlabel": {
            "namelength": 0
           },
           "hovertemplate": "RHF=Helse Midt-Norge<br>Dato=05 Mar<br>Registrerte smittede=%{text}<br>Fylke=%{y}",
           "ids": [
            "Trøndelag",
            "Møre og Romsdal"
           ],
           "legendgroup": "Helse Midt-Norge",
           "marker": {
            "color": "#636efa"
           },
           "name": "Helse Midt-Norge",
           "offsetgroup": "Helse Midt-Norge",
           "orientation": "h",
           "showlegend": true,
           "text": [
            7,
            2
           ],
           "textposition": "auto",
           "type": "bar",
           "x": [
            7,
            2
           ],
           "xaxis": "x",
           "y": [
            "Trøndelag",
            "Møre og Romsdal"
           ],
           "yaxis": "y"
          },
          {
           "alignmentgroup": "True",
           "hoverlabel": {
            "namelength": 0
           },
           "hovertemplate": "RHF=Helse Nord<br>Dato=05 Mar<br>Registrerte smittede=%{text}<br>Fylke=%{y}",
           "ids": [
            "Nordland",
            "Troms og Finnmark"
           ],
           "legendgroup": "Helse Nord",
           "marker": {
            "color": "#EF553B"
           },
           "name": "Helse Nord",
           "offsetgroup": "Helse Nord",
           "orientation": "h",
           "showlegend": true,
           "text": [
            0,
            2
           ],
           "textposition": "auto",
           "type": "bar",
           "x": [
            0,
            2
           ],
           "xaxis": "x",
           "y": [
            "Nordland",
            "Troms og Finnmark"
           ],
           "yaxis": "y"
          },
          {
           "alignmentgroup": "True",
           "hoverlabel": {
            "namelength": 0
           },
           "hovertemplate": "RHF=Helse Sør-Øst<br>Dato=05 Mar<br>Registrerte smittede=%{text}<br>Fylke=%{y}",
           "ids": [
            "Viken",
            "Agder",
            "Vestfold og Telemark",
            "Oslo",
            "Innlandet"
           ],
           "legendgroup": "Helse Sør-Øst",
           "marker": {
            "color": "#00cc96"
           },
           "name": "Helse Sør-Øst",
           "offsetgroup": "Helse Sør-Øst",
           "orientation": "h",
           "showlegend": true,
           "text": [
            23,
            7,
            2,
            18,
            4
           ],
           "textposition": "auto",
           "type": "bar",
           "x": [
            23,
            7,
            2,
            18,
            4
           ],
           "xaxis": "x",
           "y": [
            "Viken",
            "Agder",
            "Vestfold og Telemark",
            "Oslo",
            "Innlandet"
           ],
           "yaxis": "y"
          },
          {
           "alignmentgroup": "True",
           "hoverlabel": {
            "namelength": 0
           },
           "hovertemplate": "RHF=Helse Vest<br>Dato=05 Mar<br>Registrerte smittede=%{text}<br>Fylke=%{y}",
           "ids": [
            "Vestland",
            "Rogaland"
           ],
           "legendgroup": "Helse Vest",
           "marker": {
            "color": "#ab63fa"
           },
           "name": "Helse Vest",
           "offsetgroup": "Helse Vest",
           "orientation": "h",
           "showlegend": true,
           "text": [
            22,
            6
           ],
           "textposition": "auto",
           "type": "bar",
           "x": [
            22,
            6
           ],
           "xaxis": "x",
           "y": [
            "Vestland",
            "Rogaland"
           ],
           "yaxis": "y"
          }
         ],
         "name": "05 Mar"
        },
        {
         "data": [
          {
           "alignmentgroup": "True",
           "hoverlabel": {
            "namelength": 0
           },
           "hovertemplate": "RHF=Helse Midt-Norge<br>Dato=06 Mar<br>Registrerte smittede=%{text}<br>Fylke=%{y}",
           "ids": [
            "Møre og Romsdal",
            "Trøndelag"
           ],
           "legendgroup": "Helse Midt-Norge",
           "marker": {
            "color": "#636efa"
           },
           "name": "Helse Midt-Norge",
           "offsetgroup": "Helse Midt-Norge",
           "orientation": "h",
           "showlegend": true,
           "text": [
            2,
            15
           ],
           "textposition": "auto",
           "type": "bar",
           "x": [
            2,
            15
           ],
           "xaxis": "x",
           "y": [
            "Møre og Romsdal",
            "Trøndelag"
           ],
           "yaxis": "y"
          },
          {
           "alignmentgroup": "True",
           "hoverlabel": {
            "namelength": 0
           },
           "hovertemplate": "RHF=Helse Nord<br>Dato=06 Mar<br>Registrerte smittede=%{text}<br>Fylke=%{y}",
           "ids": [
            "Troms og Finnmark",
            "Nordland"
           ],
           "legendgroup": "Helse Nord",
           "marker": {
            "color": "#EF553B"
           },
           "name": "Helse Nord",
           "offsetgroup": "Helse Nord",
           "orientation": "h",
           "showlegend": true,
           "text": [
            6,
            1
           ],
           "textposition": "auto",
           "type": "bar",
           "x": [
            6,
            1
           ],
           "xaxis": "x",
           "y": [
            "Troms og Finnmark",
            "Nordland"
           ],
           "yaxis": "y"
          },
          {
           "alignmentgroup": "True",
           "hoverlabel": {
            "namelength": 0
           },
           "hovertemplate": "RHF=Helse Sør-Øst<br>Dato=06 Mar<br>Registrerte smittede=%{text}<br>Fylke=%{y}",
           "ids": [
            "Innlandet",
            "Vestfold og Telemark",
            "Oslo",
            "Viken",
            "Agder"
           ],
           "legendgroup": "Helse Sør-Øst",
           "marker": {
            "color": "#00cc96"
           },
           "name": "Helse Sør-Øst",
           "offsetgroup": "Helse Sør-Øst",
           "orientation": "h",
           "showlegend": true,
           "text": [
            12,
            2,
            23,
            26,
            7
           ],
           "textposition": "auto",
           "type": "bar",
           "x": [
            12,
            2,
            23,
            26,
            7
           ],
           "xaxis": "x",
           "y": [
            "Innlandet",
            "Vestfold og Telemark",
            "Oslo",
            "Viken",
            "Agder"
           ],
           "yaxis": "y"
          },
          {
           "alignmentgroup": "True",
           "hoverlabel": {
            "namelength": 0
           },
           "hovertemplate": "RHF=Helse Vest<br>Dato=06 Mar<br>Registrerte smittede=%{text}<br>Fylke=%{y}",
           "ids": [
            "Vestland",
            "Rogaland"
           ],
           "legendgroup": "Helse Vest",
           "marker": {
            "color": "#ab63fa"
           },
           "name": "Helse Vest",
           "offsetgroup": "Helse Vest",
           "orientation": "h",
           "showlegend": true,
           "text": [
            24,
            11
           ],
           "textposition": "auto",
           "type": "bar",
           "x": [
            24,
            11
           ],
           "xaxis": "x",
           "y": [
            "Vestland",
            "Rogaland"
           ],
           "yaxis": "y"
          }
         ],
         "name": "06 Mar"
        },
        {
         "data": [
          {
           "alignmentgroup": "True",
           "hoverlabel": {
            "namelength": 0
           },
           "hovertemplate": "RHF=Helse Midt-Norge<br>Dato=07 Mar<br>Registrerte smittede=%{text}<br>Fylke=%{y}",
           "ids": [
            "Møre og Romsdal",
            "Trøndelag"
           ],
           "legendgroup": "Helse Midt-Norge",
           "marker": {
            "color": "#636efa"
           },
           "name": "Helse Midt-Norge",
           "offsetgroup": "Helse Midt-Norge",
           "orientation": "h",
           "showlegend": true,
           "text": [
            2,
            18
           ],
           "textposition": "auto",
           "type": "bar",
           "x": [
            2,
            18
           ],
           "xaxis": "x",
           "y": [
            "Møre og Romsdal",
            "Trøndelag"
           ],
           "yaxis": "y"
          },
          {
           "alignmentgroup": "True",
           "hoverlabel": {
            "namelength": 0
           },
           "hovertemplate": "RHF=Helse Nord<br>Dato=07 Mar<br>Registrerte smittede=%{text}<br>Fylke=%{y}",
           "ids": [
            "Troms og Finnmark",
            "Nordland"
           ],
           "legendgroup": "Helse Nord",
           "marker": {
            "color": "#EF553B"
           },
           "name": "Helse Nord",
           "offsetgroup": "Helse Nord",
           "orientation": "h",
           "showlegend": true,
           "text": [
            6,
            2
           ],
           "textposition": "auto",
           "type": "bar",
           "x": [
            6,
            2
           ],
           "xaxis": "x",
           "y": [
            "Troms og Finnmark",
            "Nordland"
           ],
           "yaxis": "y"
          },
          {
           "alignmentgroup": "True",
           "hoverlabel": {
            "namelength": 0
           },
           "hovertemplate": "RHF=Helse Sør-Øst<br>Dato=07 Mar<br>Registrerte smittede=%{text}<br>Fylke=%{y}",
           "ids": [
            "Viken",
            "Agder",
            "Vestfold og Telemark",
            "Innlandet",
            "Oslo"
           ],
           "legendgroup": "Helse Sør-Øst",
           "marker": {
            "color": "#00cc96"
           },
           "name": "Helse Sør-Øst",
           "offsetgroup": "Helse Sør-Øst",
           "orientation": "h",
           "showlegend": true,
           "text": [
            38,
            9,
            2,
            12,
            29
           ],
           "textposition": "auto",
           "type": "bar",
           "x": [
            38,
            9,
            2,
            12,
            29
           ],
           "xaxis": "x",
           "y": [
            "Viken",
            "Agder",
            "Vestfold og Telemark",
            "Innlandet",
            "Oslo"
           ],
           "yaxis": "y"
          },
          {
           "alignmentgroup": "True",
           "hoverlabel": {
            "namelength": 0
           },
           "hovertemplate": "RHF=Helse Vest<br>Dato=07 Mar<br>Registrerte smittede=%{text}<br>Fylke=%{y}",
           "ids": [
            "Vestland",
            "Rogaland"
           ],
           "legendgroup": "Helse Vest",
           "marker": {
            "color": "#ab63fa"
           },
           "name": "Helse Vest",
           "offsetgroup": "Helse Vest",
           "orientation": "h",
           "showlegend": true,
           "text": [
            24,
            14
           ],
           "textposition": "auto",
           "type": "bar",
           "x": [
            24,
            14
           ],
           "xaxis": "x",
           "y": [
            "Vestland",
            "Rogaland"
           ],
           "yaxis": "y"
          }
         ],
         "name": "07 Mar"
        },
        {
         "data": [
          {
           "alignmentgroup": "True",
           "hoverlabel": {
            "namelength": 0
           },
           "hovertemplate": "RHF=Helse Midt-Norge<br>Dato=08 Mar<br>Registrerte smittede=%{text}<br>Fylke=%{y}",
           "ids": [
            "Trøndelag",
            "Møre og Romsdal"
           ],
           "legendgroup": "Helse Midt-Norge",
           "marker": {
            "color": "#636efa"
           },
           "name": "Helse Midt-Norge",
           "offsetgroup": "Helse Midt-Norge",
           "orientation": "h",
           "showlegend": true,
           "text": [
            19,
            2
           ],
           "textposition": "auto",
           "type": "bar",
           "x": [
            19,
            2
           ],
           "xaxis": "x",
           "y": [
            "Trøndelag",
            "Møre og Romsdal"
           ],
           "yaxis": "y"
          },
          {
           "alignmentgroup": "True",
           "hoverlabel": {
            "namelength": 0
           },
           "hovertemplate": "RHF=Helse Nord<br>Dato=08 Mar<br>Registrerte smittede=%{text}<br>Fylke=%{y}",
           "ids": [
            "Nordland",
            "Troms og Finnmark"
           ],
           "legendgroup": "Helse Nord",
           "marker": {
            "color": "#EF553B"
           },
           "name": "Helse Nord",
           "offsetgroup": "Helse Nord",
           "orientation": "h",
           "showlegend": true,
           "text": [
            3,
            6
           ],
           "textposition": "auto",
           "type": "bar",
           "x": [
            3,
            6
           ],
           "xaxis": "x",
           "y": [
            "Nordland",
            "Troms og Finnmark"
           ],
           "yaxis": "y"
          },
          {
           "alignmentgroup": "True",
           "hoverlabel": {
            "namelength": 0
           },
           "hovertemplate": "RHF=Helse Sør-Øst<br>Dato=08 Mar<br>Registrerte smittede=%{text}<br>Fylke=%{y}",
           "ids": [
            "Oslo",
            "Vestfold og Telemark",
            "Innlandet",
            "Agder",
            "Viken"
           ],
           "legendgroup": "Helse Sør-Øst",
           "marker": {
            "color": "#00cc96"
           },
           "name": "Helse Sør-Øst",
           "offsetgroup": "Helse Sør-Øst",
           "orientation": "h",
           "showlegend": true,
           "text": [
            35,
            3,
            12,
            9,
            41
           ],
           "textposition": "auto",
           "type": "bar",
           "x": [
            35,
            3,
            12,
            9,
            41
           ],
           "xaxis": "x",
           "y": [
            "Oslo",
            "Vestfold og Telemark",
            "Innlandet",
            "Agder",
            "Viken"
           ],
           "yaxis": "y"
          },
          {
           "alignmentgroup": "True",
           "hoverlabel": {
            "namelength": 0
           },
           "hovertemplate": "RHF=Helse Vest<br>Dato=08 Mar<br>Registrerte smittede=%{text}<br>Fylke=%{y}",
           "ids": [
            "Rogaland",
            "Vestland"
           ],
           "legendgroup": "Helse Vest",
           "marker": {
            "color": "#ab63fa"
           },
           "name": "Helse Vest",
           "offsetgroup": "Helse Vest",
           "orientation": "h",
           "showlegend": true,
           "text": [
            19,
            24
           ],
           "textposition": "auto",
           "type": "bar",
           "x": [
            19,
            24
           ],
           "xaxis": "x",
           "y": [
            "Rogaland",
            "Vestland"
           ],
           "yaxis": "y"
          }
         ],
         "name": "08 Mar"
        },
        {
         "data": [
          {
           "alignmentgroup": "True",
           "hoverlabel": {
            "namelength": 0
           },
           "hovertemplate": "RHF=Helse Midt-Norge<br>Dato=09 Mar<br>Registrerte smittede=%{text}<br>Fylke=%{y}",
           "ids": [
            "Møre og Romsdal",
            "Trøndelag"
           ],
           "legendgroup": "Helse Midt-Norge",
           "marker": {
            "color": "#636efa"
           },
           "name": "Helse Midt-Norge",
           "offsetgroup": "Helse Midt-Norge",
           "orientation": "h",
           "showlegend": true,
           "text": [
            4,
            22
           ],
           "textposition": "auto",
           "type": "bar",
           "x": [
            4,
            22
           ],
           "xaxis": "x",
           "y": [
            "Møre og Romsdal",
            "Trøndelag"
           ],
           "yaxis": "y"
          },
          {
           "alignmentgroup": "True",
           "hoverlabel": {
            "namelength": 0
           },
           "hovertemplate": "RHF=Helse Nord<br>Dato=09 Mar<br>Registrerte smittede=%{text}<br>Fylke=%{y}",
           "ids": [
            "Troms og Finnmark",
            "Nordland"
           ],
           "legendgroup": "Helse Nord",
           "marker": {
            "color": "#EF553B"
           },
           "name": "Helse Nord",
           "offsetgroup": "Helse Nord",
           "orientation": "h",
           "showlegend": true,
           "text": [
            6,
            3
           ],
           "textposition": "auto",
           "type": "bar",
           "x": [
            6,
            3
           ],
           "xaxis": "x",
           "y": [
            "Troms og Finnmark",
            "Nordland"
           ],
           "yaxis": "y"
          },
          {
           "alignmentgroup": "True",
           "hoverlabel": {
            "namelength": 0
           },
           "hovertemplate": "RHF=Helse Sør-Øst<br>Dato=09 Mar<br>Registrerte smittede=%{text}<br>Fylke=%{y}",
           "ids": [
            "Vestfold og Telemark",
            "Oslo",
            "Innlandet",
            "Viken",
            "Agder"
           ],
           "legendgroup": "Helse Sør-Øst",
           "marker": {
            "color": "#00cc96"
           },
           "name": "Helse Sør-Øst",
           "offsetgroup": "Helse Sør-Øst",
           "orientation": "h",
           "showlegend": true,
           "text": [
            5,
            35,
            14,
            52,
            17
           ],
           "textposition": "auto",
           "type": "bar",
           "x": [
            5,
            35,
            14,
            52,
            17
           ],
           "xaxis": "x",
           "y": [
            "Vestfold og Telemark",
            "Oslo",
            "Innlandet",
            "Viken",
            "Agder"
           ],
           "yaxis": "y"
          },
          {
           "alignmentgroup": "True",
           "hoverlabel": {
            "namelength": 0
           },
           "hovertemplate": "RHF=Helse Vest<br>Dato=09 Mar<br>Registrerte smittede=%{text}<br>Fylke=%{y}",
           "ids": [
            "Vestland",
            "Rogaland"
           ],
           "legendgroup": "Helse Vest",
           "marker": {
            "color": "#ab63fa"
           },
           "name": "Helse Vest",
           "offsetgroup": "Helse Vest",
           "orientation": "h",
           "showlegend": true,
           "text": [
            28,
            25
           ],
           "textposition": "auto",
           "type": "bar",
           "x": [
            28,
            25
           ],
           "xaxis": "x",
           "y": [
            "Vestland",
            "Rogaland"
           ],
           "yaxis": "y"
          }
         ],
         "name": "09 Mar"
        },
        {
         "data": [
          {
           "alignmentgroup": "True",
           "hoverlabel": {
            "namelength": 0
           },
           "hovertemplate": "RHF=Helse Midt-Norge<br>Dato=10 Mar<br>Registrerte smittede=%{text}<br>Fylke=%{y}",
           "ids": [
            "Møre og Romsdal",
            "Trøndelag"
           ],
           "legendgroup": "Helse Midt-Norge",
           "marker": {
            "color": "#636efa"
           },
           "name": "Helse Midt-Norge",
           "offsetgroup": "Helse Midt-Norge",
           "orientation": "h",
           "showlegend": true,
           "text": [
            5,
            22
           ],
           "textposition": "auto",
           "type": "bar",
           "x": [
            5,
            22
           ],
           "xaxis": "x",
           "y": [
            "Møre og Romsdal",
            "Trøndelag"
           ],
           "yaxis": "y"
          },
          {
           "alignmentgroup": "True",
           "hoverlabel": {
            "namelength": 0
           },
           "hovertemplate": "RHF=Helse Nord<br>Dato=10 Mar<br>Registrerte smittede=%{text}<br>Fylke=%{y}",
           "ids": [
            "Troms og Finnmark",
            "Nordland"
           ],
           "legendgroup": "Helse Nord",
           "marker": {
            "color": "#EF553B"
           },
           "name": "Helse Nord",
           "offsetgroup": "Helse Nord",
           "orientation": "h",
           "showlegend": true,
           "text": [
            6,
            3
           ],
           "textposition": "auto",
           "type": "bar",
           "x": [
            6,
            3
           ],
           "xaxis": "x",
           "y": [
            "Troms og Finnmark",
            "Nordland"
           ],
           "yaxis": "y"
          },
          {
           "alignmentgroup": "True",
           "hoverlabel": {
            "namelength": 0
           },
           "hovertemplate": "RHF=Helse Sør-Øst<br>Dato=10 Mar<br>Registrerte smittede=%{text}<br>Fylke=%{y}",
           "ids": [
            "Viken",
            "Vestfold og Telemark",
            "Innlandet",
            "Agder",
            "Oslo"
           ],
           "legendgroup": "Helse Sør-Øst",
           "marker": {
            "color": "#00cc96"
           },
           "name": "Helse Sør-Øst",
           "offsetgroup": "Helse Sør-Øst",
           "orientation": "h",
           "showlegend": true,
           "text": [
            86,
            5,
            16,
            19,
            51
           ],
           "textposition": "auto",
           "type": "bar",
           "x": [
            86,
            5,
            16,
            19,
            51
           ],
           "xaxis": "x",
           "y": [
            "Viken",
            "Vestfold og Telemark",
            "Innlandet",
            "Agder",
            "Oslo"
           ],
           "yaxis": "y"
          },
          {
           "alignmentgroup": "True",
           "hoverlabel": {
            "namelength": 0
           },
           "hovertemplate": "RHF=Helse Vest<br>Dato=10 Mar<br>Registrerte smittede=%{text}<br>Fylke=%{y}",
           "ids": [
            "Rogaland",
            "Vestland"
           ],
           "legendgroup": "Helse Vest",
           "marker": {
            "color": "#ab63fa"
           },
           "name": "Helse Vest",
           "offsetgroup": "Helse Vest",
           "orientation": "h",
           "showlegend": true,
           "text": [
            33,
            31
           ],
           "textposition": "auto",
           "type": "bar",
           "x": [
            33,
            31
           ],
           "xaxis": "x",
           "y": [
            "Rogaland",
            "Vestland"
           ],
           "yaxis": "y"
          }
         ],
         "name": "10 Mar"
        },
        {
         "data": [
          {
           "alignmentgroup": "True",
           "hoverlabel": {
            "namelength": 0
           },
           "hovertemplate": "RHF=Helse Midt-Norge<br>Dato=11 Mar<br>Registrerte smittede=%{text}<br>Fylke=%{y}",
           "ids": [
            "Trøndelag",
            "Møre og Romsdal"
           ],
           "legendgroup": "Helse Midt-Norge",
           "marker": {
            "color": "#636efa"
           },
           "name": "Helse Midt-Norge",
           "offsetgroup": "Helse Midt-Norge",
           "orientation": "h",
           "showlegend": true,
           "text": [
            25,
            7
           ],
           "textposition": "auto",
           "type": "bar",
           "x": [
            25,
            7
           ],
           "xaxis": "x",
           "y": [
            "Trøndelag",
            "Møre og Romsdal"
           ],
           "yaxis": "y"
          },
          {
           "alignmentgroup": "True",
           "hoverlabel": {
            "namelength": 0
           },
           "hovertemplate": "RHF=Helse Nord<br>Dato=11 Mar<br>Registrerte smittede=%{text}<br>Fylke=%{y}",
           "ids": [
            "Troms og Finnmark",
            "Nordland"
           ],
           "legendgroup": "Helse Nord",
           "marker": {
            "color": "#EF553B"
           },
           "name": "Helse Nord",
           "offsetgroup": "Helse Nord",
           "orientation": "h",
           "showlegend": true,
           "text": [
            7,
            3
           ],
           "textposition": "auto",
           "type": "bar",
           "x": [
            7,
            3
           ],
           "xaxis": "x",
           "y": [
            "Troms og Finnmark",
            "Nordland"
           ],
           "yaxis": "y"
          },
          {
           "alignmentgroup": "True",
           "hoverlabel": {
            "namelength": 0
           },
           "hovertemplate": "RHF=Helse Sør-Øst<br>Dato=11 Mar<br>Registrerte smittede=%{text}<br>Fylke=%{y}",
           "ids": [
            "Agder",
            "Viken",
            "Innlandet",
            "Vestfold og Telemark",
            "Oslo"
           ],
           "legendgroup": "Helse Sør-Øst",
           "marker": {
            "color": "#00cc96"
           },
           "name": "Helse Sør-Øst",
           "offsetgroup": "Helse Sør-Øst",
           "orientation": "h",
           "showlegend": true,
           "text": [
            20,
            124,
            23,
            15,
            123
           ],
           "textposition": "auto",
           "type": "bar",
           "x": [
            20,
            124,
            23,
            15,
            123
           ],
           "xaxis": "x",
           "y": [
            "Agder",
            "Viken",
            "Innlandet",
            "Vestfold og Telemark",
            "Oslo"
           ],
           "yaxis": "y"
          },
          {
           "alignmentgroup": "True",
           "hoverlabel": {
            "namelength": 0
           },
           "hovertemplate": "RHF=Helse Vest<br>Dato=11 Mar<br>Registrerte smittede=%{text}<br>Fylke=%{y}",
           "ids": [
            "Rogaland",
            "Vestland"
           ],
           "legendgroup": "Helse Vest",
           "marker": {
            "color": "#ab63fa"
           },
           "name": "Helse Vest",
           "offsetgroup": "Helse Vest",
           "orientation": "h",
           "showlegend": true,
           "text": [
            71,
            41
           ],
           "textposition": "auto",
           "type": "bar",
           "x": [
            71,
            41
           ],
           "xaxis": "x",
           "y": [
            "Rogaland",
            "Vestland"
           ],
           "yaxis": "y"
          }
         ],
         "name": "11 Mar"
        },
        {
         "data": [
          {
           "alignmentgroup": "True",
           "hoverlabel": {
            "namelength": 0
           },
           "hovertemplate": "RHF=Helse Midt-Norge<br>Dato=12 Mar<br>Registrerte smittede=%{text}<br>Fylke=%{y}",
           "ids": [
            "Trøndelag",
            "Møre og Romsdal"
           ],
           "legendgroup": "Helse Midt-Norge",
           "marker": {
            "color": "#636efa"
           },
           "name": "Helse Midt-Norge",
           "offsetgroup": "Helse Midt-Norge",
           "orientation": "h",
           "showlegend": true,
           "text": [
            37,
            6
           ],
           "textposition": "auto",
           "type": "bar",
           "x": [
            37,
            6
           ],
           "xaxis": "x",
           "y": [
            "Trøndelag",
            "Møre og Romsdal"
           ],
           "yaxis": "y"
          },
          {
           "alignmentgroup": "True",
           "hoverlabel": {
            "namelength": 0
           },
           "hovertemplate": "RHF=Helse Nord<br>Dato=12 Mar<br>Registrerte smittede=%{text}<br>Fylke=%{y}",
           "ids": [
            "Nordland",
            "Troms og Finnmark"
           ],
           "legendgroup": "Helse Nord",
           "marker": {
            "color": "#EF553B"
           },
           "name": "Helse Nord",
           "offsetgroup": "Helse Nord",
           "orientation": "h",
           "showlegend": true,
           "text": [
            4,
            11
           ],
           "textposition": "auto",
           "type": "bar",
           "x": [
            4,
            11
           ],
           "xaxis": "x",
           "y": [
            "Nordland",
            "Troms og Finnmark"
           ],
           "yaxis": "y"
          },
          {
           "alignmentgroup": "True",
           "hoverlabel": {
            "namelength": 0
           },
           "hovertemplate": "RHF=Helse Sør-Øst<br>Dato=12 Mar<br>Registrerte smittede=%{text}<br>Fylke=%{y}",
           "ids": [
            "Vestfold og Telemark",
            "Agder",
            "Viken",
            "Innlandet",
            "Oslo"
           ],
           "legendgroup": "Helse Sør-Øst",
           "marker": {
            "color": "#00cc96"
           },
           "name": "Helse Sør-Øst",
           "offsetgroup": "Helse Sør-Øst",
           "orientation": "h",
           "showlegend": true,
           "text": [
            22,
            32,
            154,
            40,
            166
           ],
           "textposition": "auto",
           "type": "bar",
           "x": [
            22,
            32,
            154,
            40,
            166
           ],
           "xaxis": "x",
           "y": [
            "Vestfold og Telemark",
            "Agder",
            "Viken",
            "Innlandet",
            "Oslo"
           ],
           "yaxis": "y"
          },
          {
           "alignmentgroup": "True",
           "hoverlabel": {
            "namelength": 0
           },
           "hovertemplate": "RHF=Helse Vest<br>Dato=12 Mar<br>Registrerte smittede=%{text}<br>Fylke=%{y}",
           "ids": [
            "Rogaland",
            "Vestland"
           ],
           "legendgroup": "Helse Vest",
           "marker": {
            "color": "#ab63fa"
           },
           "name": "Helse Vest",
           "offsetgroup": "Helse Vest",
           "orientation": "h",
           "showlegend": true,
           "text": [
            82,
            67
           ],
           "textposition": "auto",
           "type": "bar",
           "x": [
            82,
            67
           ],
           "xaxis": "x",
           "y": [
            "Rogaland",
            "Vestland"
           ],
           "yaxis": "y"
          }
         ],
         "name": "12 Mar"
        },
        {
         "data": [
          {
           "alignmentgroup": "True",
           "hoverlabel": {
            "namelength": 0
           },
           "hovertemplate": "RHF=Helse Midt-Norge<br>Dato=13 Mar<br>Registrerte smittede=%{text}<br>Fylke=%{y}",
           "ids": [
            "Trøndelag",
            "Møre og Romsdal"
           ],
           "legendgroup": "Helse Midt-Norge",
           "marker": {
            "color": "#636efa"
           },
           "name": "Helse Midt-Norge",
           "offsetgroup": "Helse Midt-Norge",
           "orientation": "h",
           "showlegend": true,
           "text": [
            43,
            7
           ],
           "textposition": "auto",
           "type": "bar",
           "x": [
            43,
            7
           ],
           "xaxis": "x",
           "y": [
            "Trøndelag",
            "Møre og Romsdal"
           ],
           "yaxis": "y"
          },
          {
           "alignmentgroup": "True",
           "hoverlabel": {
            "namelength": 0
           },
           "hovertemplate": "RHF=Helse Nord<br>Dato=13 Mar<br>Registrerte smittede=%{text}<br>Fylke=%{y}",
           "ids": [
            "Troms og Finnmark",
            "Nordland"
           ],
           "legendgroup": "Helse Nord",
           "marker": {
            "color": "#EF553B"
           },
           "name": "Helse Nord",
           "offsetgroup": "Helse Nord",
           "orientation": "h",
           "showlegend": true,
           "text": [
            12,
            5
           ],
           "textposition": "auto",
           "type": "bar",
           "x": [
            12,
            5
           ],
           "xaxis": "x",
           "y": [
            "Troms og Finnmark",
            "Nordland"
           ],
           "yaxis": "y"
          },
          {
           "alignmentgroup": "True",
           "hoverlabel": {
            "namelength": 0
           },
           "hovertemplate": "RHF=Helse Sør-Øst<br>Dato=13 Mar<br>Registrerte smittede=%{text}<br>Fylke=%{y}",
           "ids": [
            "Viken",
            "Vestfold og Telemark",
            "Oslo",
            "Innlandet",
            "Agder"
           ],
           "legendgroup": "Helse Sør-Øst",
           "marker": {
            "color": "#00cc96"
           },
           "name": "Helse Sør-Øst",
           "offsetgroup": "Helse Sør-Øst",
           "orientation": "h",
           "showlegend": true,
           "text": [
            180,
            30,
            207,
            49,
            34
           ],
           "textposition": "auto",
           "type": "bar",
           "x": [
            180,
            30,
            207,
            49,
            34
           ],
           "xaxis": "x",
           "y": [
            "Viken",
            "Vestfold og Telemark",
            "Oslo",
            "Innlandet",
            "Agder"
           ],
           "yaxis": "y"
          },
          {
           "alignmentgroup": "True",
           "hoverlabel": {
            "namelength": 0
           },
           "hovertemplate": "RHF=Helse Vest<br>Dato=13 Mar<br>Registrerte smittede=%{text}<br>Fylke=%{y}",
           "ids": [
            "Vestland",
            "Rogaland"
           ],
           "legendgroup": "Helse Vest",
           "marker": {
            "color": "#ab63fa"
           },
           "name": "Helse Vest",
           "offsetgroup": "Helse Vest",
           "orientation": "h",
           "showlegend": true,
           "text": [
            78,
            105
           ],
           "textposition": "auto",
           "type": "bar",
           "x": [
            78,
            105
           ],
           "xaxis": "x",
           "y": [
            "Vestland",
            "Rogaland"
           ],
           "yaxis": "y"
          }
         ],
         "name": "13 Mar"
        },
        {
         "data": [
          {
           "alignmentgroup": "True",
           "hoverlabel": {
            "namelength": 0
           },
           "hovertemplate": "RHF=Helse Midt-Norge<br>Dato=14 Mar<br>Registrerte smittede=%{text}<br>Fylke=%{y}",
           "ids": [
            "Trøndelag",
            "Møre og Romsdal"
           ],
           "legendgroup": "Helse Midt-Norge",
           "marker": {
            "color": "#636efa"
           },
           "name": "Helse Midt-Norge",
           "offsetgroup": "Helse Midt-Norge",
           "orientation": "h",
           "showlegend": true,
           "text": [
            46,
            16
           ],
           "textposition": "auto",
           "type": "bar",
           "x": [
            46,
            16
           ],
           "xaxis": "x",
           "y": [
            "Trøndelag",
            "Møre og Romsdal"
           ],
           "yaxis": "y"
          },
          {
           "alignmentgroup": "True",
           "hoverlabel": {
            "namelength": 0
           },
           "hovertemplate": "RHF=Helse Nord<br>Dato=14 Mar<br>Registrerte smittede=%{text}<br>Fylke=%{y}",
           "ids": [
            "Troms og Finnmark",
            "Nordland"
           ],
           "legendgroup": "Helse Nord",
           "marker": {
            "color": "#EF553B"
           },
           "name": "Helse Nord",
           "offsetgroup": "Helse Nord",
           "orientation": "h",
           "showlegend": true,
           "text": [
            16,
            8
           ],
           "textposition": "auto",
           "type": "bar",
           "x": [
            16,
            8
           ],
           "xaxis": "x",
           "y": [
            "Troms og Finnmark",
            "Nordland"
           ],
           "yaxis": "y"
          },
          {
           "alignmentgroup": "True",
           "hoverlabel": {
            "namelength": 0
           },
           "hovertemplate": "RHF=Helse Sør-Øst<br>Dato=14 Mar<br>Registrerte smittede=%{text}<br>Fylke=%{y}",
           "ids": [
            "Oslo",
            "Agder",
            "Viken",
            "Vestfold og Telemark",
            "Innlandet"
           ],
           "legendgroup": "Helse Sør-Øst",
           "marker": {
            "color": "#00cc96"
           },
           "name": "Helse Sør-Øst",
           "offsetgroup": "Helse Sør-Øst",
           "orientation": "h",
           "showlegend": true,
           "text": [
            222,
            52,
            231,
            39,
            57
           ],
           "textposition": "auto",
           "type": "bar",
           "x": [
            222,
            52,
            231,
            39,
            57
           ],
           "xaxis": "x",
           "y": [
            "Oslo",
            "Agder",
            "Viken",
            "Vestfold og Telemark",
            "Innlandet"
           ],
           "yaxis": "y"
          },
          {
           "alignmentgroup": "True",
           "hoverlabel": {
            "namelength": 0
           },
           "hovertemplate": "RHF=Helse Vest<br>Dato=14 Mar<br>Registrerte smittede=%{text}<br>Fylke=%{y}",
           "ids": [
            "Vestland",
            "Rogaland"
           ],
           "legendgroup": "Helse Vest",
           "marker": {
            "color": "#ab63fa"
           },
           "name": "Helse Vest",
           "offsetgroup": "Helse Vest",
           "orientation": "h",
           "showlegend": true,
           "text": [
            101,
            119
           ],
           "textposition": "auto",
           "type": "bar",
           "x": [
            101,
            119
           ],
           "xaxis": "x",
           "y": [
            "Vestland",
            "Rogaland"
           ],
           "yaxis": "y"
          }
         ],
         "name": "14 Mar"
        },
        {
         "data": [
          {
           "alignmentgroup": "True",
           "hoverlabel": {
            "namelength": 0
           },
           "hovertemplate": "RHF=Helse Midt-Norge<br>Dato=15 Mar<br>Registrerte smittede=%{text}<br>Fylke=%{y}",
           "ids": [
            "Trøndelag",
            "Møre og Romsdal"
           ],
           "legendgroup": "Helse Midt-Norge",
           "marker": {
            "color": "#636efa"
           },
           "name": "Helse Midt-Norge",
           "offsetgroup": "Helse Midt-Norge",
           "orientation": "h",
           "showlegend": true,
           "text": [
            50,
            20
           ],
           "textposition": "auto",
           "type": "bar",
           "x": [
            50,
            20
           ],
           "xaxis": "x",
           "y": [
            "Trøndelag",
            "Møre og Romsdal"
           ],
           "yaxis": "y"
          },
          {
           "alignmentgroup": "True",
           "hoverlabel": {
            "namelength": 0
           },
           "hovertemplate": "RHF=Helse Nord<br>Dato=15 Mar<br>Registrerte smittede=%{text}<br>Fylke=%{y}",
           "ids": [
            "Troms og Finnmark",
            "Nordland"
           ],
           "legendgroup": "Helse Nord",
           "marker": {
            "color": "#EF553B"
           },
           "name": "Helse Nord",
           "offsetgroup": "Helse Nord",
           "orientation": "h",
           "showlegend": true,
           "text": [
            20,
            8
           ],
           "textposition": "auto",
           "type": "bar",
           "x": [
            20,
            8
           ],
           "xaxis": "x",
           "y": [
            "Troms og Finnmark",
            "Nordland"
           ],
           "yaxis": "y"
          },
          {
           "alignmentgroup": "True",
           "hoverlabel": {
            "namelength": 0
           },
           "hovertemplate": "RHF=Helse Sør-Øst<br>Dato=15 Mar<br>Registrerte smittede=%{text}<br>Fylke=%{y}",
           "ids": [
            "Oslo",
            "Innlandet",
            "Agder",
            "Viken",
            "Vestfold og Telemark"
           ],
           "legendgroup": "Helse Sør-Øst",
           "marker": {
            "color": "#00cc96"
           },
           "name": "Helse Sør-Øst",
           "offsetgroup": "Helse Sør-Øst",
           "orientation": "h",
           "showlegend": true,
           "text": [
            281,
            72,
            55,
            278,
            48
           ],
           "textposition": "auto",
           "type": "bar",
           "x": [
            281,
            72,
            55,
            278,
            48
           ],
           "xaxis": "x",
           "y": [
            "Oslo",
            "Innlandet",
            "Agder",
            "Viken",
            "Vestfold og Telemark"
           ],
           "yaxis": "y"
          },
          {
           "alignmentgroup": "True",
           "hoverlabel": {
            "namelength": 0
           },
           "hovertemplate": "RHF=Helse Vest<br>Dato=15 Mar<br>Registrerte smittede=%{text}<br>Fylke=%{y}",
           "ids": [
            "Rogaland",
            "Vestland"
           ],
           "legendgroup": "Helse Vest",
           "marker": {
            "color": "#ab63fa"
           },
           "name": "Helse Vest",
           "offsetgroup": "Helse Vest",
           "orientation": "h",
           "showlegend": true,
           "text": [
            127,
            118
           ],
           "textposition": "auto",
           "type": "bar",
           "x": [
            127,
            118
           ],
           "xaxis": "x",
           "y": [
            "Rogaland",
            "Vestland"
           ],
           "yaxis": "y"
          }
         ],
         "name": "15 Mar"
        },
        {
         "data": [
          {
           "alignmentgroup": "True",
           "hoverlabel": {
            "namelength": 0
           },
           "hovertemplate": "RHF=Helse Midt-Norge<br>Dato=16 Mar<br>Registrerte smittede=%{text}<br>Fylke=%{y}",
           "ids": [
            "Trøndelag",
            "Møre og Romsdal"
           ],
           "legendgroup": "Helse Midt-Norge",
           "marker": {
            "color": "#636efa"
           },
           "name": "Helse Midt-Norge",
           "offsetgroup": "Helse Midt-Norge",
           "orientation": "h",
           "showlegend": true,
           "text": [
            52,
            20
           ],
           "textposition": "auto",
           "type": "bar",
           "x": [
            52,
            20
           ],
           "xaxis": "x",
           "y": [
            "Trøndelag",
            "Møre og Romsdal"
           ],
           "yaxis": "y"
          },
          {
           "alignmentgroup": "True",
           "hoverlabel": {
            "namelength": 0
           },
           "hovertemplate": "RHF=Helse Nord<br>Dato=16 Mar<br>Registrerte smittede=%{text}<br>Fylke=%{y}",
           "ids": [
            "Nordland",
            "Troms og Finnmark"
           ],
           "legendgroup": "Helse Nord",
           "marker": {
            "color": "#EF553B"
           },
           "name": "Helse Nord",
           "offsetgroup": "Helse Nord",
           "orientation": "h",
           "showlegend": true,
           "text": [
            11,
            21
           ],
           "textposition": "auto",
           "type": "bar",
           "x": [
            11,
            21
           ],
           "xaxis": "x",
           "y": [
            "Nordland",
            "Troms og Finnmark"
           ],
           "yaxis": "y"
          },
          {
           "alignmentgroup": "True",
           "hoverlabel": {
            "namelength": 0
           },
           "hovertemplate": "RHF=Helse Sør-Øst<br>Dato=16 Mar<br>Registrerte smittede=%{text}<br>Fylke=%{y}",
           "ids": [
            "Vestfold og Telemark",
            "Innlandet",
            "Agder",
            "Viken",
            "Oslo"
           ],
           "legendgroup": "Helse Sør-Øst",
           "marker": {
            "color": "#00cc96"
           },
           "name": "Helse Sør-Øst",
           "offsetgroup": "Helse Sør-Øst",
           "orientation": "h",
           "showlegend": true,
           "text": [
            53,
            81,
            67,
            314,
            292
           ],
           "textposition": "auto",
           "type": "bar",
           "x": [
            53,
            81,
            67,
            314,
            292
           ],
           "xaxis": "x",
           "y": [
            "Vestfold og Telemark",
            "Innlandet",
            "Agder",
            "Viken",
            "Oslo"
           ],
           "yaxis": "y"
          },
          {
           "alignmentgroup": "True",
           "hoverlabel": {
            "namelength": 0
           },
           "hovertemplate": "RHF=Helse Vest<br>Dato=16 Mar<br>Registrerte smittede=%{text}<br>Fylke=%{y}",
           "ids": [
            "Vestland",
            "Rogaland"
           ],
           "legendgroup": "Helse Vest",
           "marker": {
            "color": "#ab63fa"
           },
           "name": "Helse Vest",
           "offsetgroup": "Helse Vest",
           "orientation": "h",
           "showlegend": true,
           "text": [
            127,
            131
           ],
           "textposition": "auto",
           "type": "bar",
           "x": [
            127,
            131
           ],
           "xaxis": "x",
           "y": [
            "Vestland",
            "Rogaland"
           ],
           "yaxis": "y"
          }
         ],
         "name": "16 Mar"
        },
        {
         "data": [
          {
           "alignmentgroup": "True",
           "hoverlabel": {
            "namelength": 0
           },
           "hovertemplate": "RHF=Helse Midt-Norge<br>Dato=17 Mar<br>Registrerte smittede=%{text}<br>Fylke=%{y}",
           "ids": [
            "Trøndelag",
            "Møre og Romsdal"
           ],
           "legendgroup": "Helse Midt-Norge",
           "marker": {
            "color": "#636efa"
           },
           "name": "Helse Midt-Norge",
           "offsetgroup": "Helse Midt-Norge",
           "orientation": "h",
           "showlegend": true,
           "text": [
            61,
            20
           ],
           "textposition": "auto",
           "type": "bar",
           "x": [
            61,
            20
           ],
           "xaxis": "x",
           "y": [
            "Trøndelag",
            "Møre og Romsdal"
           ],
           "yaxis": "y"
          },
          {
           "alignmentgroup": "True",
           "hoverlabel": {
            "namelength": 0
           },
           "hovertemplate": "RHF=Helse Nord<br>Dato=17 Mar<br>Registrerte smittede=%{text}<br>Fylke=%{y}",
           "ids": [
            "Troms og Finnmark",
            "Nordland"
           ],
           "legendgroup": "Helse Nord",
           "marker": {
            "color": "#EF553B"
           },
           "name": "Helse Nord",
           "offsetgroup": "Helse Nord",
           "orientation": "h",
           "showlegend": true,
           "text": [
            24,
            11
           ],
           "textposition": "auto",
           "type": "bar",
           "x": [
            24,
            11
           ],
           "xaxis": "x",
           "y": [
            "Troms og Finnmark",
            "Nordland"
           ],
           "yaxis": "y"
          },
          {
           "alignmentgroup": "True",
           "hoverlabel": {
            "namelength": 0
           },
           "hovertemplate": "RHF=Helse Sør-Øst<br>Dato=17 Mar<br>Registrerte smittede=%{text}<br>Fylke=%{y}",
           "ids": [
            "Viken",
            "Vestfold og Telemark",
            "Agder",
            "Oslo",
            "Innlandet"
           ],
           "legendgroup": "Helse Sør-Øst",
           "marker": {
            "color": "#00cc96"
           },
           "name": "Helse Sør-Øst",
           "offsetgroup": "Helse Sør-Øst",
           "orientation": "h",
           "showlegend": true,
           "text": [
            358,
            59,
            67,
            329,
            88
           ],
           "textposition": "auto",
           "type": "bar",
           "x": [
            358,
            59,
            67,
            329,
            88
           ],
           "xaxis": "x",
           "y": [
            "Viken",
            "Vestfold og Telemark",
            "Agder",
            "Oslo",
            "Innlandet"
           ],
           "yaxis": "y"
          },
          {
           "alignmentgroup": "True",
           "hoverlabel": {
            "namelength": 0
           },
           "hovertemplate": "RHF=Helse Vest<br>Dato=17 Mar<br>Registrerte smittede=%{text}<br>Fylke=%{y}",
           "ids": [
            "Rogaland",
            "Vestland"
           ],
           "legendgroup": "Helse Vest",
           "marker": {
            "color": "#ab63fa"
           },
           "name": "Helse Vest",
           "offsetgroup": "Helse Vest",
           "orientation": "h",
           "showlegend": true,
           "text": [
            150,
            141
           ],
           "textposition": "auto",
           "type": "bar",
           "x": [
            150,
            141
           ],
           "xaxis": "x",
           "y": [
            "Rogaland",
            "Vestland"
           ],
           "yaxis": "y"
          }
         ],
         "name": "17 Mar"
        },
        {
         "data": [
          {
           "alignmentgroup": "True",
           "hoverlabel": {
            "namelength": 0
           },
           "hovertemplate": "RHF=Helse Midt-Norge<br>Dato=18 Mar<br>Registrerte smittede=%{text}<br>Fylke=%{y}",
           "ids": [
            "Trøndelag",
            "Møre og Romsdal"
           ],
           "legendgroup": "Helse Midt-Norge",
           "marker": {
            "color": "#636efa"
           },
           "name": "Helse Midt-Norge",
           "offsetgroup": "Helse Midt-Norge",
           "orientation": "h",
           "showlegend": true,
           "text": [
            70,
            20
           ],
           "textposition": "auto",
           "type": "bar",
           "x": [
            70,
            20
           ],
           "xaxis": "x",
           "y": [
            "Trøndelag",
            "Møre og Romsdal"
           ],
           "yaxis": "y"
          },
          {
           "alignmentgroup": "True",
           "hoverlabel": {
            "namelength": 0
           },
           "hovertemplate": "RHF=Helse Nord<br>Dato=18 Mar<br>Registrerte smittede=%{text}<br>Fylke=%{y}",
           "ids": [
            "Troms og Finnmark",
            "Nordland"
           ],
           "legendgroup": "Helse Nord",
           "marker": {
            "color": "#EF553B"
           },
           "name": "Helse Nord",
           "offsetgroup": "Helse Nord",
           "orientation": "h",
           "showlegend": true,
           "text": [
            28,
            12
           ],
           "textposition": "auto",
           "type": "bar",
           "x": [
            28,
            12
           ],
           "xaxis": "x",
           "y": [
            "Troms og Finnmark",
            "Nordland"
           ],
           "yaxis": "y"
          },
          {
           "alignmentgroup": "True",
           "hoverlabel": {
            "namelength": 0
           },
           "hovertemplate": "RHF=Helse Sør-Øst<br>Dato=18 Mar<br>Registrerte smittede=%{text}<br>Fylke=%{y}",
           "ids": [
            "Viken",
            "Oslo",
            "Innlandet",
            "Agder",
            "Vestfold og Telemark"
           ],
           "legendgroup": "Helse Sør-Øst",
           "marker": {
            "color": "#00cc96"
           },
           "name": "Helse Sør-Øst",
           "offsetgroup": "Helse Sør-Øst",
           "orientation": "h",
           "showlegend": true,
           "text": [
            410,
            348,
            97,
            67,
            63
           ],
           "textposition": "auto",
           "type": "bar",
           "x": [
            410,
            348,
            97,
            67,
            63
           ],
           "xaxis": "x",
           "y": [
            "Viken",
            "Oslo",
            "Innlandet",
            "Agder",
            "Vestfold og Telemark"
           ],
           "yaxis": "y"
          },
          {
           "alignmentgroup": "True",
           "hoverlabel": {
            "namelength": 0
           },
           "hovertemplate": "RHF=Helse Vest<br>Dato=18 Mar<br>Registrerte smittede=%{text}<br>Fylke=%{y}",
           "ids": [
            "Vestland",
            "Rogaland"
           ],
           "legendgroup": "Helse Vest",
           "marker": {
            "color": "#ab63fa"
           },
           "name": "Helse Vest",
           "offsetgroup": "Helse Vest",
           "orientation": "h",
           "showlegend": true,
           "text": [
            147,
            161
           ],
           "textposition": "auto",
           "type": "bar",
           "x": [
            147,
            161
           ],
           "xaxis": "x",
           "y": [
            "Vestland",
            "Rogaland"
           ],
           "yaxis": "y"
          }
         ],
         "name": "18 Mar"
        },
        {
         "data": [
          {
           "alignmentgroup": "True",
           "hoverlabel": {
            "namelength": 0
           },
           "hovertemplate": "RHF=Helse Midt-Norge<br>Dato=19 Mar<br>Registrerte smittede=%{text}<br>Fylke=%{y}",
           "ids": [
            "Møre og Romsdal",
            "Trøndelag"
           ],
           "legendgroup": "Helse Midt-Norge",
           "marker": {
            "color": "#636efa"
           },
           "name": "Helse Midt-Norge",
           "offsetgroup": "Helse Midt-Norge",
           "orientation": "h",
           "showlegend": true,
           "text": [
            25,
            75
           ],
           "textposition": "auto",
           "type": "bar",
           "x": [
            25,
            75
           ],
           "xaxis": "x",
           "y": [
            "Møre og Romsdal",
            "Trøndelag"
           ],
           "yaxis": "y"
          },
          {
           "alignmentgroup": "True",
           "hoverlabel": {
            "namelength": 0
           },
           "hovertemplate": "RHF=Helse Nord<br>Dato=19 Mar<br>Registrerte smittede=%{text}<br>Fylke=%{y}",
           "ids": [
            "Nordland",
            "Troms og Finnmark"
           ],
           "legendgroup": "Helse Nord",
           "marker": {
            "color": "#EF553B"
           },
           "name": "Helse Nord",
           "offsetgroup": "Helse Nord",
           "orientation": "h",
           "showlegend": true,
           "text": [
            13,
            28
           ],
           "textposition": "auto",
           "type": "bar",
           "x": [
            13,
            28
           ],
           "xaxis": "x",
           "y": [
            "Nordland",
            "Troms og Finnmark"
           ],
           "yaxis": "y"
          },
          {
           "alignmentgroup": "True",
           "hoverlabel": {
            "namelength": 0
           },
           "hovertemplate": "RHF=Helse Sør-Øst<br>Dato=19 Mar<br>Registrerte smittede=%{text}<br>Fylke=%{y}",
           "ids": [
            "Innlandet",
            "Agder",
            "Viken",
            "Vestfold og Telemark",
            "Oslo"
           ],
           "legendgroup": "Helse Sør-Øst",
           "marker": {
            "color": "#00cc96"
           },
           "name": "Helse Sør-Øst",
           "offsetgroup": "Helse Sør-Øst",
           "orientation": "h",
           "showlegend": true,
           "text": [
            105,
            75,
            445,
            65,
            392
           ],
           "textposition": "auto",
           "type": "bar",
           "x": [
            105,
            75,
            445,
            65,
            392
           ],
           "xaxis": "x",
           "y": [
            "Innlandet",
            "Agder",
            "Viken",
            "Vestfold og Telemark",
            "Oslo"
           ],
           "yaxis": "y"
          },
          {
           "alignmentgroup": "True",
           "hoverlabel": {
            "namelength": 0
           },
           "hovertemplate": "RHF=Helse Vest<br>Dato=19 Mar<br>Registrerte smittede=%{text}<br>Fylke=%{y}",
           "ids": [
            "Vestland",
            "Rogaland"
           ],
           "legendgroup": "Helse Vest",
           "marker": {
            "color": "#ab63fa"
           },
           "name": "Helse Vest",
           "offsetgroup": "Helse Vest",
           "orientation": "h",
           "showlegend": true,
           "text": [
            153,
            176
           ],
           "textposition": "auto",
           "type": "bar",
           "x": [
            153,
            176
           ],
           "xaxis": "x",
           "y": [
            "Vestland",
            "Rogaland"
           ],
           "yaxis": "y"
          }
         ],
         "name": "19 Mar"
        },
        {
         "data": [
          {
           "alignmentgroup": "True",
           "hoverlabel": {
            "namelength": 0
           },
           "hovertemplate": "RHF=Helse Midt-Norge<br>Dato=20 Mar<br>Registrerte smittede=%{text}<br>Fylke=%{y}",
           "ids": [
            "Trøndelag",
            "Møre og Romsdal"
           ],
           "legendgroup": "Helse Midt-Norge",
           "marker": {
            "color": "#636efa"
           },
           "name": "Helse Midt-Norge",
           "offsetgroup": "Helse Midt-Norge",
           "orientation": "h",
           "showlegend": true,
           "text": [
            97,
            29
           ],
           "textposition": "auto",
           "type": "bar",
           "x": [
            97,
            29
           ],
           "xaxis": "x",
           "y": [
            "Trøndelag",
            "Møre og Romsdal"
           ],
           "yaxis": "y"
          },
          {
           "alignmentgroup": "True",
           "hoverlabel": {
            "namelength": 0
           },
           "hovertemplate": "RHF=Helse Nord<br>Dato=20 Mar<br>Registrerte smittede=%{text}<br>Fylke=%{y}",
           "ids": [
            "Nordland",
            "Troms og Finnmark"
           ],
           "legendgroup": "Helse Nord",
           "marker": {
            "color": "#EF553B"
           },
           "name": "Helse Nord",
           "offsetgroup": "Helse Nord",
           "orientation": "h",
           "showlegend": true,
           "text": [
            17,
            32
           ],
           "textposition": "auto",
           "type": "bar",
           "x": [
            17,
            32
           ],
           "xaxis": "x",
           "y": [
            "Nordland",
            "Troms og Finnmark"
           ],
           "yaxis": "y"
          },
          {
           "alignmentgroup": "True",
           "hoverlabel": {
            "namelength": 0
           },
           "hovertemplate": "RHF=Helse Sør-Øst<br>Dato=20 Mar<br>Registrerte smittede=%{text}<br>Fylke=%{y}",
           "ids": [
            "Agder",
            "Innlandet",
            "Oslo",
            "Viken",
            "Vestfold og Telemark"
           ],
           "legendgroup": "Helse Sør-Øst",
           "marker": {
            "color": "#00cc96"
           },
           "name": "Helse Sør-Øst",
           "offsetgroup": "Helse Sør-Øst",
           "orientation": "h",
           "showlegend": true,
           "text": [
            79,
            115,
            419,
            529,
            72
           ],
           "textposition": "auto",
           "type": "bar",
           "x": [
            79,
            115,
            419,
            529,
            72
           ],
           "xaxis": "x",
           "y": [
            "Agder",
            "Innlandet",
            "Oslo",
            "Viken",
            "Vestfold og Telemark"
           ],
           "yaxis": "y"
          },
          {
           "alignmentgroup": "True",
           "hoverlabel": {
            "namelength": 0
           },
           "hovertemplate": "RHF=Helse Vest<br>Dato=20 Mar<br>Registrerte smittede=%{text}<br>Fylke=%{y}",
           "ids": [
            "Vestland",
            "Rogaland"
           ],
           "legendgroup": "Helse Vest",
           "marker": {
            "color": "#ab63fa"
           },
           "name": "Helse Vest",
           "offsetgroup": "Helse Vest",
           "orientation": "h",
           "showlegend": true,
           "text": [
            173,
            180
           ],
           "textposition": "auto",
           "type": "bar",
           "x": [
            173,
            180
           ],
           "xaxis": "x",
           "y": [
            "Vestland",
            "Rogaland"
           ],
           "yaxis": "y"
          }
         ],
         "name": "20 Mar"
        },
        {
         "data": [
          {
           "alignmentgroup": "True",
           "hoverlabel": {
            "namelength": 0
           },
           "hovertemplate": "RHF=Helse Midt-Norge<br>Dato=21 Mar<br>Registrerte smittede=%{text}<br>Fylke=%{y}",
           "ids": [
            "Trøndelag",
            "Møre og Romsdal"
           ],
           "legendgroup": "Helse Midt-Norge",
           "marker": {
            "color": "#636efa"
           },
           "name": "Helse Midt-Norge",
           "offsetgroup": "Helse Midt-Norge",
           "orientation": "h",
           "showlegend": true,
           "text": [
            122,
            32
           ],
           "textposition": "auto",
           "type": "bar",
           "x": [
            122,
            32
           ],
           "xaxis": "x",
           "y": [
            "Trøndelag",
            "Møre og Romsdal"
           ],
           "yaxis": "y"
          },
          {
           "alignmentgroup": "True",
           "hoverlabel": {
            "namelength": 0
           },
           "hovertemplate": "RHF=Helse Nord<br>Dato=21 Mar<br>Registrerte smittede=%{text}<br>Fylke=%{y}",
           "ids": [
            "Nordland",
            "Troms og Finnmark"
           ],
           "legendgroup": "Helse Nord",
           "marker": {
            "color": "#EF553B"
           },
           "name": "Helse Nord",
           "offsetgroup": "Helse Nord",
           "orientation": "h",
           "showlegend": true,
           "text": [
            17,
            37
           ],
           "textposition": "auto",
           "type": "bar",
           "x": [
            17,
            37
           ],
           "xaxis": "x",
           "y": [
            "Nordland",
            "Troms og Finnmark"
           ],
           "yaxis": "y"
          },
          {
           "alignmentgroup": "True",
           "hoverlabel": {
            "namelength": 0
           },
           "hovertemplate": "RHF=Helse Sør-Øst<br>Dato=21 Mar<br>Registrerte smittede=%{text}<br>Fylke=%{y}",
           "ids": [
            "Vestfold og Telemark",
            "Innlandet",
            "Oslo",
            "Viken",
            "Agder"
           ],
           "legendgroup": "Helse Sør-Øst",
           "marker": {
            "color": "#00cc96"
           },
           "name": "Helse Sør-Øst",
           "offsetgroup": "Helse Sør-Øst",
           "orientation": "h",
           "showlegend": true,
           "text": [
            81,
            125,
            448,
            583,
            82
           ],
           "textposition": "auto",
           "type": "bar",
           "x": [
            81,
            125,
            448,
            583,
            82
           ],
           "xaxis": "x",
           "y": [
            "Vestfold og Telemark",
            "Innlandet",
            "Oslo",
            "Viken",
            "Agder"
           ],
           "yaxis": "y"
          },
          {
           "alignmentgroup": "True",
           "hoverlabel": {
            "namelength": 0
           },
           "hovertemplate": "RHF=Helse Vest<br>Dato=21 Mar<br>Registrerte smittede=%{text}<br>Fylke=%{y}",
           "ids": [
            "Rogaland",
            "Vestland"
           ],
           "legendgroup": "Helse Vest",
           "marker": {
            "color": "#ab63fa"
           },
           "name": "Helse Vest",
           "offsetgroup": "Helse Vest",
           "orientation": "h",
           "showlegend": true,
           "text": [
            199,
            200
           ],
           "textposition": "auto",
           "type": "bar",
           "x": [
            199,
            200
           ],
           "xaxis": "x",
           "y": [
            "Rogaland",
            "Vestland"
           ],
           "yaxis": "y"
          }
         ],
         "name": "21 Mar"
        },
        {
         "data": [
          {
           "alignmentgroup": "True",
           "hoverlabel": {
            "namelength": 0
           },
           "hovertemplate": "RHF=Helse Midt-Norge<br>Dato=22 Mar<br>Registrerte smittede=%{text}<br>Fylke=%{y}",
           "ids": [
            "Møre og Romsdal",
            "Trøndelag"
           ],
           "legendgroup": "Helse Midt-Norge",
           "marker": {
            "color": "#636efa"
           },
           "name": "Helse Midt-Norge",
           "offsetgroup": "Helse Midt-Norge",
           "orientation": "h",
           "showlegend": true,
           "text": [
            38,
            131
           ],
           "textposition": "auto",
           "type": "bar",
           "x": [
            38,
            131
           ],
           "xaxis": "x",
           "y": [
            "Møre og Romsdal",
            "Trøndelag"
           ],
           "yaxis": "y"
          },
          {
           "alignmentgroup": "True",
           "hoverlabel": {
            "namelength": 0
           },
           "hovertemplate": "RHF=Helse Nord<br>Dato=22 Mar<br>Registrerte smittede=%{text}<br>Fylke=%{y}",
           "ids": [
            "Troms og Finnmark",
            "Nordland"
           ],
           "legendgroup": "Helse Nord",
           "marker": {
            "color": "#EF553B"
           },
           "name": "Helse Nord",
           "offsetgroup": "Helse Nord",
           "orientation": "h",
           "showlegend": true,
           "text": [
            49,
            18
           ],
           "textposition": "auto",
           "type": "bar",
           "x": [
            49,
            18
           ],
           "xaxis": "x",
           "y": [
            "Troms og Finnmark",
            "Nordland"
           ],
           "yaxis": "y"
          },
          {
           "alignmentgroup": "True",
           "hoverlabel": {
            "namelength": 0
           },
           "hovertemplate": "RHF=Helse Sør-Øst<br>Dato=22 Mar<br>Registrerte smittede=%{text}<br>Fylke=%{y}",
           "ids": [
            "Viken",
            "Agder",
            "Oslo",
            "Vestfold og Telemark",
            "Innlandet"
           ],
           "legendgroup": "Helse Sør-Øst",
           "marker": {
            "color": "#00cc96"
           },
           "name": "Helse Sør-Øst",
           "offsetgroup": "Helse Sør-Øst",
           "orientation": "h",
           "showlegend": true,
           "text": [
            615,
            91,
            523,
            85,
            148
           ],
           "textposition": "auto",
           "type": "bar",
           "x": [
            615,
            91,
            523,
            85,
            148
           ],
           "xaxis": "x",
           "y": [
            "Viken",
            "Agder",
            "Oslo",
            "Vestfold og Telemark",
            "Innlandet"
           ],
           "yaxis": "y"
          },
          {
           "alignmentgroup": "True",
           "hoverlabel": {
            "namelength": 0
           },
           "hovertemplate": "RHF=Helse Vest<br>Dato=22 Mar<br>Registrerte smittede=%{text}<br>Fylke=%{y}",
           "ids": [
            "Rogaland",
            "Vestland"
           ],
           "legendgroup": "Helse Vest",
           "marker": {
            "color": "#ab63fa"
           },
           "name": "Helse Vest",
           "offsetgroup": "Helse Vest",
           "orientation": "h",
           "showlegend": true,
           "text": [
            219,
            214
           ],
           "textposition": "auto",
           "type": "bar",
           "x": [
            219,
            214
           ],
           "xaxis": "x",
           "y": [
            "Rogaland",
            "Vestland"
           ],
           "yaxis": "y"
          }
         ],
         "name": "22 Mar"
        },
        {
         "data": [
          {
           "alignmentgroup": "True",
           "hoverlabel": {
            "namelength": 0
           },
           "hovertemplate": "RHF=Helse Midt-Norge<br>Dato=23 Mar<br>Registrerte smittede=%{text}<br>Fylke=%{y}",
           "ids": [
            "Møre og Romsdal",
            "Trøndelag"
           ],
           "legendgroup": "Helse Midt-Norge",
           "marker": {
            "color": "#636efa"
           },
           "name": "Helse Midt-Norge",
           "offsetgroup": "Helse Midt-Norge",
           "orientation": "h",
           "showlegend": true,
           "text": [
            44,
            144
           ],
           "textposition": "auto",
           "type": "bar",
           "x": [
            44,
            144
           ],
           "xaxis": "x",
           "y": [
            "Møre og Romsdal",
            "Trøndelag"
           ],
           "yaxis": "y"
          },
          {
           "alignmentgroup": "True",
           "hoverlabel": {
            "namelength": 0
           },
           "hovertemplate": "RHF=Helse Nord<br>Dato=23 Mar<br>Registrerte smittede=%{text}<br>Fylke=%{y}",
           "ids": [
            "Troms og Finnmark",
            "Nordland"
           ],
           "legendgroup": "Helse Nord",
           "marker": {
            "color": "#EF553B"
           },
           "name": "Helse Nord",
           "offsetgroup": "Helse Nord",
           "orientation": "h",
           "showlegend": true,
           "text": [
            55,
            18
           ],
           "textposition": "auto",
           "type": "bar",
           "x": [
            55,
            18
           ],
           "xaxis": "x",
           "y": [
            "Troms og Finnmark",
            "Nordland"
           ],
           "yaxis": "y"
          },
          {
           "alignmentgroup": "True",
           "hoverlabel": {
            "namelength": 0
           },
           "hovertemplate": "RHF=Helse Sør-Øst<br>Dato=23 Mar<br>Registrerte smittede=%{text}<br>Fylke=%{y}",
           "ids": [
            "Oslo",
            "Viken",
            "Vestfold og Telemark",
            "Innlandet",
            "Agder"
           ],
           "legendgroup": "Helse Sør-Øst",
           "marker": {
            "color": "#00cc96"
           },
           "name": "Helse Sør-Øst",
           "offsetgroup": "Helse Sør-Øst",
           "orientation": "h",
           "showlegend": true,
           "text": [
            636,
            674,
            87,
            151,
            91
           ],
           "textposition": "auto",
           "type": "bar",
           "x": [
            636,
            674,
            87,
            151,
            91
           ],
           "xaxis": "x",
           "y": [
            "Oslo",
            "Viken",
            "Vestfold og Telemark",
            "Innlandet",
            "Agder"
           ],
           "yaxis": "y"
          },
          {
           "alignmentgroup": "True",
           "hoverlabel": {
            "namelength": 0
           },
           "hovertemplate": "RHF=Helse Vest<br>Dato=23 Mar<br>Registrerte smittede=%{text}<br>Fylke=%{y}",
           "ids": [
            "Rogaland",
            "Vestland"
           ],
           "legendgroup": "Helse Vest",
           "marker": {
            "color": "#ab63fa"
           },
           "name": "Helse Vest",
           "offsetgroup": "Helse Vest",
           "orientation": "h",
           "showlegend": true,
           "text": [
            237,
            234
           ],
           "textposition": "auto",
           "type": "bar",
           "x": [
            237,
            234
           ],
           "xaxis": "x",
           "y": [
            "Rogaland",
            "Vestland"
           ],
           "yaxis": "y"
          }
         ],
         "name": "23 Mar"
        },
        {
         "data": [
          {
           "alignmentgroup": "True",
           "hoverlabel": {
            "namelength": 0
           },
           "hovertemplate": "RHF=Helse Midt-Norge<br>Dato=24 Mar<br>Registrerte smittede=%{text}<br>Fylke=%{y}",
           "ids": [
            "Trøndelag",
            "Møre og Romsdal"
           ],
           "legendgroup": "Helse Midt-Norge",
           "marker": {
            "color": "#636efa"
           },
           "name": "Helse Midt-Norge",
           "offsetgroup": "Helse Midt-Norge",
           "orientation": "h",
           "showlegend": true,
           "text": [
            158,
            46
           ],
           "textposition": "auto",
           "type": "bar",
           "x": [
            158,
            46
           ],
           "xaxis": "x",
           "y": [
            "Trøndelag",
            "Møre og Romsdal"
           ],
           "yaxis": "y"
          },
          {
           "alignmentgroup": "True",
           "hoverlabel": {
            "namelength": 0
           },
           "hovertemplate": "RHF=Helse Nord<br>Dato=24 Mar<br>Registrerte smittede=%{text}<br>Fylke=%{y}",
           "ids": [
            "Nordland",
            "Troms og Finnmark"
           ],
           "legendgroup": "Helse Nord",
           "marker": {
            "color": "#EF553B"
           },
           "name": "Helse Nord",
           "offsetgroup": "Helse Nord",
           "orientation": "h",
           "showlegend": true,
           "text": [
            18,
            59
           ],
           "textposition": "auto",
           "type": "bar",
           "x": [
            18,
            59
           ],
           "xaxis": "x",
           "y": [
            "Nordland",
            "Troms og Finnmark"
           ],
           "yaxis": "y"
          },
          {
           "alignmentgroup": "True",
           "hoverlabel": {
            "namelength": 0
           },
           "hovertemplate": "RHF=Helse Sør-Øst<br>Dato=24 Mar<br>Registrerte smittede=%{text}<br>Fylke=%{y}",
           "ids": [
            "Vestfold og Telemark",
            "Oslo",
            "Agder",
            "Innlandet",
            "Viken"
           ],
           "legendgroup": "Helse Sør-Øst",
           "marker": {
            "color": "#00cc96"
           },
           "name": "Helse Sør-Øst",
           "offsetgroup": "Helse Sør-Øst",
           "orientation": "h",
           "showlegend": true,
           "text": [
            95,
            657,
            92,
            163,
            748
           ],
           "textposition": "auto",
           "type": "bar",
           "x": [
            95,
            657,
            92,
            163,
            748
           ],
           "xaxis": "x",
           "y": [
            "Vestfold og Telemark",
            "Oslo",
            "Agder",
            "Innlandet",
            "Viken"
           ],
           "yaxis": "y"
          },
          {
           "alignmentgroup": "True",
           "hoverlabel": {
            "namelength": 0
           },
           "hovertemplate": "RHF=Helse Vest<br>Dato=24 Mar<br>Registrerte smittede=%{text}<br>Fylke=%{y}",
           "ids": [
            "Rogaland",
            "Vestland"
           ],
           "legendgroup": "Helse Vest",
           "marker": {
            "color": "#ab63fa"
           },
           "name": "Helse Vest",
           "offsetgroup": "Helse Vest",
           "orientation": "h",
           "showlegend": true,
           "text": [
            251,
            279
           ],
           "textposition": "auto",
           "type": "bar",
           "x": [
            251,
            279
           ],
           "xaxis": "x",
           "y": [
            "Rogaland",
            "Vestland"
           ],
           "yaxis": "y"
          }
         ],
         "name": "24 Mar"
        }
       ],
       "layout": {
        "autosize": true,
        "barmode": "relative",
        "coloraxis": {
         "showscale": false
        },
        "height": 600,
        "legend": {
         "title": {
          "text": "RHF"
         },
         "tracegroupgap": 0
        },
        "margin": {
         "b": 0,
         "l": 100,
         "r": 100,
         "t": 150
        },
        "paper_bgcolor": "rgba(0, 0, 0, 0)",
        "sliders": [
         {
          "active": 0,
          "currentvalue": {
           "prefix": "Dato="
          },
          "len": 0.9,
          "pad": {
           "b": 10,
           "t": 60
          },
          "steps": [
           {
            "args": [
             [
              "02 Mar"
             ],
             {
              "frame": {
               "duration": 0,
               "redraw": true
              },
              "fromcurrent": true,
              "mode": "immediate",
              "transition": {
               "duration": 0,
               "easing": "linear"
              }
             }
            ],
            "label": "02 Mar",
            "method": "animate"
           },
           {
            "args": [
             [
              "03 Mar"
             ],
             {
              "frame": {
               "duration": 0,
               "redraw": true
              },
              "fromcurrent": true,
              "mode": "immediate",
              "transition": {
               "duration": 0,
               "easing": "linear"
              }
             }
            ],
            "label": "03 Mar",
            "method": "animate"
           },
           {
            "args": [
             [
              "04 Mar"
             ],
             {
              "frame": {
               "duration": 0,
               "redraw": true
              },
              "fromcurrent": true,
              "mode": "immediate",
              "transition": {
               "duration": 0,
               "easing": "linear"
              }
             }
            ],
            "label": "04 Mar",
            "method": "animate"
           },
           {
            "args": [
             [
              "05 Mar"
             ],
             {
              "frame": {
               "duration": 0,
               "redraw": true
              },
              "fromcurrent": true,
              "mode": "immediate",
              "transition": {
               "duration": 0,
               "easing": "linear"
              }
             }
            ],
            "label": "05 Mar",
            "method": "animate"
           },
           {
            "args": [
             [
              "06 Mar"
             ],
             {
              "frame": {
               "duration": 0,
               "redraw": true
              },
              "fromcurrent": true,
              "mode": "immediate",
              "transition": {
               "duration": 0,
               "easing": "linear"
              }
             }
            ],
            "label": "06 Mar",
            "method": "animate"
           },
           {
            "args": [
             [
              "07 Mar"
             ],
             {
              "frame": {
               "duration": 0,
               "redraw": true
              },
              "fromcurrent": true,
              "mode": "immediate",
              "transition": {
               "duration": 0,
               "easing": "linear"
              }
             }
            ],
            "label": "07 Mar",
            "method": "animate"
           },
           {
            "args": [
             [
              "08 Mar"
             ],
             {
              "frame": {
               "duration": 0,
               "redraw": true
              },
              "fromcurrent": true,
              "mode": "immediate",
              "transition": {
               "duration": 0,
               "easing": "linear"
              }
             }
            ],
            "label": "08 Mar",
            "method": "animate"
           },
           {
            "args": [
             [
              "09 Mar"
             ],
             {
              "frame": {
               "duration": 0,
               "redraw": true
              },
              "fromcurrent": true,
              "mode": "immediate",
              "transition": {
               "duration": 0,
               "easing": "linear"
              }
             }
            ],
            "label": "09 Mar",
            "method": "animate"
           },
           {
            "args": [
             [
              "10 Mar"
             ],
             {
              "frame": {
               "duration": 0,
               "redraw": true
              },
              "fromcurrent": true,
              "mode": "immediate",
              "transition": {
               "duration": 0,
               "easing": "linear"
              }
             }
            ],
            "label": "10 Mar",
            "method": "animate"
           },
           {
            "args": [
             [
              "11 Mar"
             ],
             {
              "frame": {
               "duration": 0,
               "redraw": true
              },
              "fromcurrent": true,
              "mode": "immediate",
              "transition": {
               "duration": 0,
               "easing": "linear"
              }
             }
            ],
            "label": "11 Mar",
            "method": "animate"
           },
           {
            "args": [
             [
              "12 Mar"
             ],
             {
              "frame": {
               "duration": 0,
               "redraw": true
              },
              "fromcurrent": true,
              "mode": "immediate",
              "transition": {
               "duration": 0,
               "easing": "linear"
              }
             }
            ],
            "label": "12 Mar",
            "method": "animate"
           },
           {
            "args": [
             [
              "13 Mar"
             ],
             {
              "frame": {
               "duration": 0,
               "redraw": true
              },
              "fromcurrent": true,
              "mode": "immediate",
              "transition": {
               "duration": 0,
               "easing": "linear"
              }
             }
            ],
            "label": "13 Mar",
            "method": "animate"
           },
           {
            "args": [
             [
              "14 Mar"
             ],
             {
              "frame": {
               "duration": 0,
               "redraw": true
              },
              "fromcurrent": true,
              "mode": "immediate",
              "transition": {
               "duration": 0,
               "easing": "linear"
              }
             }
            ],
            "label": "14 Mar",
            "method": "animate"
           },
           {
            "args": [
             [
              "15 Mar"
             ],
             {
              "frame": {
               "duration": 0,
               "redraw": true
              },
              "fromcurrent": true,
              "mode": "immediate",
              "transition": {
               "duration": 0,
               "easing": "linear"
              }
             }
            ],
            "label": "15 Mar",
            "method": "animate"
           },
           {
            "args": [
             [
              "16 Mar"
             ],
             {
              "frame": {
               "duration": 0,
               "redraw": true
              },
              "fromcurrent": true,
              "mode": "immediate",
              "transition": {
               "duration": 0,
               "easing": "linear"
              }
             }
            ],
            "label": "16 Mar",
            "method": "animate"
           },
           {
            "args": [
             [
              "17 Mar"
             ],
             {
              "frame": {
               "duration": 0,
               "redraw": true
              },
              "fromcurrent": true,
              "mode": "immediate",
              "transition": {
               "duration": 0,
               "easing": "linear"
              }
             }
            ],
            "label": "17 Mar",
            "method": "animate"
           },
           {
            "args": [
             [
              "18 Mar"
             ],
             {
              "frame": {
               "duration": 0,
               "redraw": true
              },
              "fromcurrent": true,
              "mode": "immediate",
              "transition": {
               "duration": 0,
               "easing": "linear"
              }
             }
            ],
            "label": "18 Mar",
            "method": "animate"
           },
           {
            "args": [
             [
              "19 Mar"
             ],
             {
              "frame": {
               "duration": 0,
               "redraw": true
              },
              "fromcurrent": true,
              "mode": "immediate",
              "transition": {
               "duration": 0,
               "easing": "linear"
              }
             }
            ],
            "label": "19 Mar",
            "method": "animate"
           },
           {
            "args": [
             [
              "20 Mar"
             ],
             {
              "frame": {
               "duration": 0,
               "redraw": true
              },
              "fromcurrent": true,
              "mode": "immediate",
              "transition": {
               "duration": 0,
               "easing": "linear"
              }
             }
            ],
            "label": "20 Mar",
            "method": "animate"
           },
           {
            "args": [
             [
              "21 Mar"
             ],
             {
              "frame": {
               "duration": 0,
               "redraw": true
              },
              "fromcurrent": true,
              "mode": "immediate",
              "transition": {
               "duration": 0,
               "easing": "linear"
              }
             }
            ],
            "label": "21 Mar",
            "method": "animate"
           },
           {
            "args": [
             [
              "22 Mar"
             ],
             {
              "frame": {
               "duration": 0,
               "redraw": true
              },
              "fromcurrent": true,
              "mode": "immediate",
              "transition": {
               "duration": 0,
               "easing": "linear"
              }
             }
            ],
            "label": "22 Mar",
            "method": "animate"
           },
           {
            "args": [
             [
              "23 Mar"
             ],
             {
              "frame": {
               "duration": 0,
               "redraw": true
              },
              "fromcurrent": true,
              "mode": "immediate",
              "transition": {
               "duration": 0,
               "easing": "linear"
              }
             }
            ],
            "label": "23 Mar",
            "method": "animate"
           },
           {
            "args": [
             [
              "24 Mar"
             ],
             {
              "frame": {
               "duration": 0,
               "redraw": true
              },
              "fromcurrent": true,
              "mode": "immediate",
              "transition": {
               "duration": 0,
               "easing": "linear"
              }
             }
            ],
            "label": "24 Mar",
            "method": "animate"
           }
          ],
          "x": 0.1,
          "xanchor": "left",
          "y": 0,
          "yanchor": "top"
         }
        ],
        "template": {
         "data": {
          "bar": [
           {
            "error_x": {
             "color": "#2a3f5f"
            },
            "error_y": {
             "color": "#2a3f5f"
            },
            "marker": {
             "line": {
              "color": "white",
              "width": 0.5
             }
            },
            "type": "bar"
           }
          ],
          "barpolar": [
           {
            "marker": {
             "line": {
              "color": "white",
              "width": 0.5
             }
            },
            "type": "barpolar"
           }
          ],
          "carpet": [
           {
            "aaxis": {
             "endlinecolor": "#2a3f5f",
             "gridcolor": "#C8D4E3",
             "linecolor": "#C8D4E3",
             "minorgridcolor": "#C8D4E3",
             "startlinecolor": "#2a3f5f"
            },
            "baxis": {
             "endlinecolor": "#2a3f5f",
             "gridcolor": "#C8D4E3",
             "linecolor": "#C8D4E3",
             "minorgridcolor": "#C8D4E3",
             "startlinecolor": "#2a3f5f"
            },
            "type": "carpet"
           }
          ],
          "choropleth": [
           {
            "colorbar": {
             "outlinewidth": 0,
             "ticks": ""
            },
            "type": "choropleth"
           }
          ],
          "contour": [
           {
            "colorbar": {
             "outlinewidth": 0,
             "ticks": ""
            },
            "colorscale": [
             [
              0,
              "#0d0887"
             ],
             [
              0.1111111111111111,
              "#46039f"
             ],
             [
              0.2222222222222222,
              "#7201a8"
             ],
             [
              0.3333333333333333,
              "#9c179e"
             ],
             [
              0.4444444444444444,
              "#bd3786"
             ],
             [
              0.5555555555555556,
              "#d8576b"
             ],
             [
              0.6666666666666666,
              "#ed7953"
             ],
             [
              0.7777777777777778,
              "#fb9f3a"
             ],
             [
              0.8888888888888888,
              "#fdca26"
             ],
             [
              1,
              "#f0f921"
             ]
            ],
            "type": "contour"
           }
          ],
          "contourcarpet": [
           {
            "colorbar": {
             "outlinewidth": 0,
             "ticks": ""
            },
            "type": "contourcarpet"
           }
          ],
          "heatmap": [
           {
            "colorbar": {
             "outlinewidth": 0,
             "ticks": ""
            },
            "colorscale": [
             [
              0,
              "#0d0887"
             ],
             [
              0.1111111111111111,
              "#46039f"
             ],
             [
              0.2222222222222222,
              "#7201a8"
             ],
             [
              0.3333333333333333,
              "#9c179e"
             ],
             [
              0.4444444444444444,
              "#bd3786"
             ],
             [
              0.5555555555555556,
              "#d8576b"
             ],
             [
              0.6666666666666666,
              "#ed7953"
             ],
             [
              0.7777777777777778,
              "#fb9f3a"
             ],
             [
              0.8888888888888888,
              "#fdca26"
             ],
             [
              1,
              "#f0f921"
             ]
            ],
            "type": "heatmap"
           }
          ],
          "heatmapgl": [
           {
            "colorbar": {
             "outlinewidth": 0,
             "ticks": ""
            },
            "colorscale": [
             [
              0,
              "#0d0887"
             ],
             [
              0.1111111111111111,
              "#46039f"
             ],
             [
              0.2222222222222222,
              "#7201a8"
             ],
             [
              0.3333333333333333,
              "#9c179e"
             ],
             [
              0.4444444444444444,
              "#bd3786"
             ],
             [
              0.5555555555555556,
              "#d8576b"
             ],
             [
              0.6666666666666666,
              "#ed7953"
             ],
             [
              0.7777777777777778,
              "#fb9f3a"
             ],
             [
              0.8888888888888888,
              "#fdca26"
             ],
             [
              1,
              "#f0f921"
             ]
            ],
            "type": "heatmapgl"
           }
          ],
          "histogram": [
           {
            "marker": {
             "colorbar": {
              "outlinewidth": 0,
              "ticks": ""
             }
            },
            "type": "histogram"
           }
          ],
          "histogram2d": [
           {
            "colorbar": {
             "outlinewidth": 0,
             "ticks": ""
            },
            "colorscale": [
             [
              0,
              "#0d0887"
             ],
             [
              0.1111111111111111,
              "#46039f"
             ],
             [
              0.2222222222222222,
              "#7201a8"
             ],
             [
              0.3333333333333333,
              "#9c179e"
             ],
             [
              0.4444444444444444,
              "#bd3786"
             ],
             [
              0.5555555555555556,
              "#d8576b"
             ],
             [
              0.6666666666666666,
              "#ed7953"
             ],
             [
              0.7777777777777778,
              "#fb9f3a"
             ],
             [
              0.8888888888888888,
              "#fdca26"
             ],
             [
              1,
              "#f0f921"
             ]
            ],
            "type": "histogram2d"
           }
          ],
          "histogram2dcontour": [
           {
            "colorbar": {
             "outlinewidth": 0,
             "ticks": ""
            },
            "colorscale": [
             [
              0,
              "#0d0887"
             ],
             [
              0.1111111111111111,
              "#46039f"
             ],
             [
              0.2222222222222222,
              "#7201a8"
             ],
             [
              0.3333333333333333,
              "#9c179e"
             ],
             [
              0.4444444444444444,
              "#bd3786"
             ],
             [
              0.5555555555555556,
              "#d8576b"
             ],
             [
              0.6666666666666666,
              "#ed7953"
             ],
             [
              0.7777777777777778,
              "#fb9f3a"
             ],
             [
              0.8888888888888888,
              "#fdca26"
             ],
             [
              1,
              "#f0f921"
             ]
            ],
            "type": "histogram2dcontour"
           }
          ],
          "mesh3d": [
           {
            "colorbar": {
             "outlinewidth": 0,
             "ticks": ""
            },
            "type": "mesh3d"
           }
          ],
          "parcoords": [
           {
            "line": {
             "colorbar": {
              "outlinewidth": 0,
              "ticks": ""
             }
            },
            "type": "parcoords"
           }
          ],
          "pie": [
           {
            "automargin": true,
            "type": "pie"
           }
          ],
          "scatter": [
           {
            "marker": {
             "colorbar": {
              "outlinewidth": 0,
              "ticks": ""
             }
            },
            "type": "scatter"
           }
          ],
          "scatter3d": [
           {
            "line": {
             "colorbar": {
              "outlinewidth": 0,
              "ticks": ""
             }
            },
            "marker": {
             "colorbar": {
              "outlinewidth": 0,
              "ticks": ""
             }
            },
            "type": "scatter3d"
           }
          ],
          "scattercarpet": [
           {
            "marker": {
             "colorbar": {
              "outlinewidth": 0,
              "ticks": ""
             }
            },
            "type": "scattercarpet"
           }
          ],
          "scattergeo": [
           {
            "marker": {
             "colorbar": {
              "outlinewidth": 0,
              "ticks": ""
             }
            },
            "type": "scattergeo"
           }
          ],
          "scattergl": [
           {
            "marker": {
             "colorbar": {
              "outlinewidth": 0,
              "ticks": ""
             }
            },
            "type": "scattergl"
           }
          ],
          "scattermapbox": [
           {
            "marker": {
             "colorbar": {
              "outlinewidth": 0,
              "ticks": ""
             }
            },
            "type": "scattermapbox"
           }
          ],
          "scatterpolar": [
           {
            "marker": {
             "colorbar": {
              "outlinewidth": 0,
              "ticks": ""
             }
            },
            "type": "scatterpolar"
           }
          ],
          "scatterpolargl": [
           {
            "marker": {
             "colorbar": {
              "outlinewidth": 0,
              "ticks": ""
             }
            },
            "type": "scatterpolargl"
           }
          ],
          "scatterternary": [
           {
            "marker": {
             "colorbar": {
              "outlinewidth": 0,
              "ticks": ""
             }
            },
            "type": "scatterternary"
           }
          ],
          "surface": [
           {
            "colorbar": {
             "outlinewidth": 0,
             "ticks": ""
            },
            "colorscale": [
             [
              0,
              "#0d0887"
             ],
             [
              0.1111111111111111,
              "#46039f"
             ],
             [
              0.2222222222222222,
              "#7201a8"
             ],
             [
              0.3333333333333333,
              "#9c179e"
             ],
             [
              0.4444444444444444,
              "#bd3786"
             ],
             [
              0.5555555555555556,
              "#d8576b"
             ],
             [
              0.6666666666666666,
              "#ed7953"
             ],
             [
              0.7777777777777778,
              "#fb9f3a"
             ],
             [
              0.8888888888888888,
              "#fdca26"
             ],
             [
              1,
              "#f0f921"
             ]
            ],
            "type": "surface"
           }
          ],
          "table": [
           {
            "cells": {
             "fill": {
              "color": "#EBF0F8"
             },
             "line": {
              "color": "white"
             }
            },
            "header": {
             "fill": {
              "color": "#C8D4E3"
             },
             "line": {
              "color": "white"
             }
            },
            "type": "table"
           }
          ]
         },
         "layout": {
          "annotationdefaults": {
           "arrowcolor": "#2a3f5f",
           "arrowhead": 0,
           "arrowwidth": 1
          },
          "coloraxis": {
           "colorbar": {
            "outlinewidth": 0,
            "ticks": ""
           }
          },
          "colorscale": {
           "diverging": [
            [
             0,
             "#8e0152"
            ],
            [
             0.1,
             "#c51b7d"
            ],
            [
             0.2,
             "#de77ae"
            ],
            [
             0.3,
             "#f1b6da"
            ],
            [
             0.4,
             "#fde0ef"
            ],
            [
             0.5,
             "#f7f7f7"
            ],
            [
             0.6,
             "#e6f5d0"
            ],
            [
             0.7,
             "#b8e186"
            ],
            [
             0.8,
             "#7fbc41"
            ],
            [
             0.9,
             "#4d9221"
            ],
            [
             1,
             "#276419"
            ]
           ],
           "sequential": [
            [
             0,
             "#0d0887"
            ],
            [
             0.1111111111111111,
             "#46039f"
            ],
            [
             0.2222222222222222,
             "#7201a8"
            ],
            [
             0.3333333333333333,
             "#9c179e"
            ],
            [
             0.4444444444444444,
             "#bd3786"
            ],
            [
             0.5555555555555556,
             "#d8576b"
            ],
            [
             0.6666666666666666,
             "#ed7953"
            ],
            [
             0.7777777777777778,
             "#fb9f3a"
            ],
            [
             0.8888888888888888,
             "#fdca26"
            ],
            [
             1,
             "#f0f921"
            ]
           ],
           "sequentialminus": [
            [
             0,
             "#0d0887"
            ],
            [
             0.1111111111111111,
             "#46039f"
            ],
            [
             0.2222222222222222,
             "#7201a8"
            ],
            [
             0.3333333333333333,
             "#9c179e"
            ],
            [
             0.4444444444444444,
             "#bd3786"
            ],
            [
             0.5555555555555556,
             "#d8576b"
            ],
            [
             0.6666666666666666,
             "#ed7953"
            ],
            [
             0.7777777777777778,
             "#fb9f3a"
            ],
            [
             0.8888888888888888,
             "#fdca26"
            ],
            [
             1,
             "#f0f921"
            ]
           ]
          },
          "colorway": [
           "#636efa",
           "#EF553B",
           "#00cc96",
           "#ab63fa",
           "#FFA15A",
           "#19d3f3",
           "#FF6692",
           "#B6E880",
           "#FF97FF",
           "#FECB52"
          ],
          "font": {
           "color": "#2a3f5f"
          },
          "geo": {
           "bgcolor": "white",
           "lakecolor": "white",
           "landcolor": "white",
           "showlakes": true,
           "showland": true,
           "subunitcolor": "#C8D4E3"
          },
          "hoverlabel": {
           "align": "left"
          },
          "hovermode": "closest",
          "mapbox": {
           "style": "light"
          },
          "paper_bgcolor": "white",
          "plot_bgcolor": "white",
          "polar": {
           "angularaxis": {
            "gridcolor": "#EBF0F8",
            "linecolor": "#EBF0F8",
            "ticks": ""
           },
           "bgcolor": "white",
           "radialaxis": {
            "gridcolor": "#EBF0F8",
            "linecolor": "#EBF0F8",
            "ticks": ""
           }
          },
          "scene": {
           "xaxis": {
            "backgroundcolor": "white",
            "gridcolor": "#DFE8F3",
            "gridwidth": 2,
            "linecolor": "#EBF0F8",
            "showbackground": true,
            "ticks": "",
            "zerolinecolor": "#EBF0F8"
           },
           "yaxis": {
            "backgroundcolor": "white",
            "gridcolor": "#DFE8F3",
            "gridwidth": 2,
            "linecolor": "#EBF0F8",
            "showbackground": true,
            "ticks": "",
            "zerolinecolor": "#EBF0F8"
           },
           "zaxis": {
            "backgroundcolor": "white",
            "gridcolor": "#DFE8F3",
            "gridwidth": 2,
            "linecolor": "#EBF0F8",
            "showbackground": true,
            "ticks": "",
            "zerolinecolor": "#EBF0F8"
           }
          },
          "shapedefaults": {
           "line": {
            "color": "#2a3f5f"
           }
          },
          "ternary": {
           "aaxis": {
            "gridcolor": "#DFE8F3",
            "linecolor": "#A2B1C6",
            "ticks": ""
           },
           "baxis": {
            "gridcolor": "#DFE8F3",
            "linecolor": "#A2B1C6",
            "ticks": ""
           },
           "bgcolor": "white",
           "caxis": {
            "gridcolor": "#DFE8F3",
            "linecolor": "#A2B1C6",
            "ticks": ""
           }
          },
          "title": {
           "x": 0.05
          },
          "xaxis": {
           "automargin": true,
           "gridcolor": "#EBF0F8",
           "linecolor": "#EBF0F8",
           "ticks": "",
           "title": {
            "standoff": 15
           },
           "zerolinecolor": "#EBF0F8",
           "zerolinewidth": 2
          },
          "yaxis": {
           "automargin": true,
           "gridcolor": "#EBF0F8",
           "linecolor": "#EBF0F8",
           "ticks": "",
           "title": {
            "standoff": 15
           },
           "zerolinecolor": "#EBF0F8",
           "zerolinewidth": 2
          }
         }
        },
        "title": {
         "font": {
          "family": "Helvetica",
          "size": 18
         },
         "text": "<b>COVID19: Registrert smittet i Norge</b><br>Fordeling per fylke<br>Datakilde: FHI - folkehelseinstituttet. Oppdatert 25.03.2020"
        },
        "updatemenus": [
         {
          "buttons": [
           {
            "args": [
             null,
             {
              "frame": {
               "duration": 500,
               "redraw": true
              },
              "fromcurrent": true,
              "mode": "immediate",
              "transition": {
               "duration": 500,
               "easing": "linear"
              }
             }
            ],
            "label": "&#9654;",
            "method": "animate"
           },
           {
            "args": [
             [
              null
             ],
             {
              "frame": {
               "duration": 0,
               "redraw": true
              },
              "fromcurrent": true,
              "mode": "immediate",
              "transition": {
               "duration": 0,
               "easing": "linear"
              }
             }
            ],
            "label": "&#9724;",
            "method": "animate"
           }
          ],
          "direction": "left",
          "pad": {
           "r": 10,
           "t": 70
          },
          "showactive": false,
          "type": "buttons",
          "x": 0.1,
          "xanchor": "right",
          "y": 0,
          "yanchor": "top"
         }
        ],
        "xaxis": {
         "anchor": "y",
         "domain": [
          0,
          1
         ],
         "fixedrange": true,
         "range": [
          0,
          600
         ],
         "title": {
          "text": ""
         }
        },
        "yaxis": {
         "anchor": "x",
         "categoryorder": "total ascending",
         "domain": [
          0,
          1
         ],
         "fixedrange": true,
         "separatethousands": true,
         "title": {
          "text": ""
         }
        }
       }
      },
      "text/html": [
       "<div>\n",
       "        \n",
       "        \n",
       "            <div id=\"9bec6e3a-efbb-42c5-9a54-ab3513d4b121\" class=\"plotly-graph-div\" style=\"height:600px; width:100%;\"></div>\n",
       "            <script type=\"text/javascript\">\n",
       "                require([\"plotly\"], function(Plotly) {\n",
       "                    window.PLOTLYENV=window.PLOTLYENV || {};\n",
       "                    \n",
       "                if (document.getElementById(\"9bec6e3a-efbb-42c5-9a54-ab3513d4b121\")) {\n",
       "                    Plotly.newPlot(\n",
       "                        '9bec6e3a-efbb-42c5-9a54-ab3513d4b121',\n",
       "                        [{\"alignmentgroup\": \"True\", \"hoverlabel\": {\"namelength\": 0}, \"hovertemplate\": \"RHF=Helse Midt-Norge<br>Dato=02 Mar<br>Registrerte smittede=%{text}<br>Fylke=%{y}\", \"ids\": [\"Tr\\u00f8ndelag\", \"M\\u00f8re og Romsdal\"], \"legendgroup\": \"Helse Midt-Norge\", \"marker\": {\"color\": \"#636efa\"}, \"name\": \"Helse Midt-Norge\", \"offsetgroup\": \"Helse Midt-Norge\", \"orientation\": \"h\", \"showlegend\": true, \"text\": [0.0, 0.0], \"textposition\": \"auto\", \"type\": \"bar\", \"x\": [0, 0], \"xaxis\": \"x\", \"y\": [\"Tr\\u00f8ndelag\", \"M\\u00f8re og Romsdal\"], \"yaxis\": \"y\"}, {\"alignmentgroup\": \"True\", \"hoverlabel\": {\"namelength\": 0}, \"hovertemplate\": \"RHF=Helse Nord<br>Dato=02 Mar<br>Registrerte smittede=%{text}<br>Fylke=%{y}\", \"ids\": [\"Troms og Finnmark\", \"Nordland\"], \"legendgroup\": \"Helse Nord\", \"marker\": {\"color\": \"#EF553B\"}, \"name\": \"Helse Nord\", \"offsetgroup\": \"Helse Nord\", \"orientation\": \"h\", \"showlegend\": true, \"text\": [1.0, 0.0], \"textposition\": \"auto\", \"type\": \"bar\", \"x\": [1, 0], \"xaxis\": \"x\", \"y\": [\"Troms og Finnmark\", \"Nordland\"], \"yaxis\": \"y\"}, {\"alignmentgroup\": \"True\", \"hoverlabel\": {\"namelength\": 0}, \"hovertemplate\": \"RHF=Helse S\\u00f8r-\\u00d8st<br>Dato=02 Mar<br>Registrerte smittede=%{text}<br>Fylke=%{y}\", \"ids\": [\"Agder\", \"Innlandet\", \"Oslo\", \"Viken\", \"Vestfold og Telemark\"], \"legendgroup\": \"Helse S\\u00f8r-\\u00d8st\", \"marker\": {\"color\": \"#00cc96\"}, \"name\": \"Helse S\\u00f8r-\\u00d8st\", \"offsetgroup\": \"Helse S\\u00f8r-\\u00d8st\", \"orientation\": \"h\", \"showlegend\": true, \"text\": [2.0, 0.0, 7.0, 5.0, 0.0], \"textposition\": \"auto\", \"type\": \"bar\", \"x\": [2, 0, 7, 5, 0], \"xaxis\": \"x\", \"y\": [\"Agder\", \"Innlandet\", \"Oslo\", \"Viken\", \"Vestfold og Telemark\"], \"yaxis\": \"y\"}, {\"alignmentgroup\": \"True\", \"hoverlabel\": {\"namelength\": 0}, \"hovertemplate\": \"RHF=Helse Vest<br>Dato=02 Mar<br>Registrerte smittede=%{text}<br>Fylke=%{y}\", \"ids\": [\"Rogaland\", \"Vestland\"], \"legendgroup\": \"Helse Vest\", \"marker\": {\"color\": \"#ab63fa\"}, \"name\": \"Helse Vest\", \"offsetgroup\": \"Helse Vest\", \"orientation\": \"h\", \"showlegend\": true, \"text\": [0.0, 9.0], \"textposition\": \"auto\", \"type\": \"bar\", \"x\": [0, 9], \"xaxis\": \"x\", \"y\": [\"Rogaland\", \"Vestland\"], \"yaxis\": \"y\"}],\n",
       "                        {\"autosize\": true, \"barmode\": \"relative\", \"coloraxis\": {\"showscale\": false}, \"height\": 600, \"legend\": {\"title\": {\"text\": \"RHF\"}, \"tracegroupgap\": 0}, \"margin\": {\"b\": 0, \"l\": 100, \"r\": 100, \"t\": 150}, \"paper_bgcolor\": \"rgba(0, 0, 0, 0)\", \"sliders\": [{\"active\": 0, \"currentvalue\": {\"prefix\": \"Dato=\"}, \"len\": 0.9, \"pad\": {\"b\": 10, \"t\": 60}, \"steps\": [{\"args\": [[\"02 Mar\"], {\"frame\": {\"duration\": 0, \"redraw\": true}, \"fromcurrent\": true, \"mode\": \"immediate\", \"transition\": {\"duration\": 0, \"easing\": \"linear\"}}], \"label\": \"02 Mar\", \"method\": \"animate\"}, {\"args\": [[\"03 Mar\"], {\"frame\": {\"duration\": 0, \"redraw\": true}, \"fromcurrent\": true, \"mode\": \"immediate\", \"transition\": {\"duration\": 0, \"easing\": \"linear\"}}], \"label\": \"03 Mar\", \"method\": \"animate\"}, {\"args\": [[\"04 Mar\"], {\"frame\": {\"duration\": 0, \"redraw\": true}, \"fromcurrent\": true, \"mode\": \"immediate\", \"transition\": {\"duration\": 0, \"easing\": \"linear\"}}], \"label\": \"04 Mar\", \"method\": \"animate\"}, {\"args\": [[\"05 Mar\"], {\"frame\": {\"duration\": 0, \"redraw\": true}, \"fromcurrent\": true, \"mode\": \"immediate\", \"transition\": {\"duration\": 0, \"easing\": \"linear\"}}], \"label\": \"05 Mar\", \"method\": \"animate\"}, {\"args\": [[\"06 Mar\"], {\"frame\": {\"duration\": 0, \"redraw\": true}, \"fromcurrent\": true, \"mode\": \"immediate\", \"transition\": {\"duration\": 0, \"easing\": \"linear\"}}], \"label\": \"06 Mar\", \"method\": \"animate\"}, {\"args\": [[\"07 Mar\"], {\"frame\": {\"duration\": 0, \"redraw\": true}, \"fromcurrent\": true, \"mode\": \"immediate\", \"transition\": {\"duration\": 0, \"easing\": \"linear\"}}], \"label\": \"07 Mar\", \"method\": \"animate\"}, {\"args\": [[\"08 Mar\"], {\"frame\": {\"duration\": 0, \"redraw\": true}, \"fromcurrent\": true, \"mode\": \"immediate\", \"transition\": {\"duration\": 0, \"easing\": \"linear\"}}], \"label\": \"08 Mar\", \"method\": \"animate\"}, {\"args\": [[\"09 Mar\"], {\"frame\": {\"duration\": 0, \"redraw\": true}, \"fromcurrent\": true, \"mode\": \"immediate\", \"transition\": {\"duration\": 0, \"easing\": \"linear\"}}], \"label\": \"09 Mar\", \"method\": \"animate\"}, {\"args\": [[\"10 Mar\"], {\"frame\": {\"duration\": 0, \"redraw\": true}, \"fromcurrent\": true, \"mode\": \"immediate\", \"transition\": {\"duration\": 0, \"easing\": \"linear\"}}], \"label\": \"10 Mar\", \"method\": \"animate\"}, {\"args\": [[\"11 Mar\"], {\"frame\": {\"duration\": 0, \"redraw\": true}, \"fromcurrent\": true, \"mode\": \"immediate\", \"transition\": {\"duration\": 0, \"easing\": \"linear\"}}], \"label\": \"11 Mar\", \"method\": \"animate\"}, {\"args\": [[\"12 Mar\"], {\"frame\": {\"duration\": 0, \"redraw\": true}, \"fromcurrent\": true, \"mode\": \"immediate\", \"transition\": {\"duration\": 0, \"easing\": \"linear\"}}], \"label\": \"12 Mar\", \"method\": \"animate\"}, {\"args\": [[\"13 Mar\"], {\"frame\": {\"duration\": 0, \"redraw\": true}, \"fromcurrent\": true, \"mode\": \"immediate\", \"transition\": {\"duration\": 0, \"easing\": \"linear\"}}], \"label\": \"13 Mar\", \"method\": \"animate\"}, {\"args\": [[\"14 Mar\"], {\"frame\": {\"duration\": 0, \"redraw\": true}, \"fromcurrent\": true, \"mode\": \"immediate\", \"transition\": {\"duration\": 0, \"easing\": \"linear\"}}], \"label\": \"14 Mar\", \"method\": \"animate\"}, {\"args\": [[\"15 Mar\"], {\"frame\": {\"duration\": 0, \"redraw\": true}, \"fromcurrent\": true, \"mode\": \"immediate\", \"transition\": {\"duration\": 0, \"easing\": \"linear\"}}], \"label\": \"15 Mar\", \"method\": \"animate\"}, {\"args\": [[\"16 Mar\"], {\"frame\": {\"duration\": 0, \"redraw\": true}, \"fromcurrent\": true, \"mode\": \"immediate\", \"transition\": {\"duration\": 0, \"easing\": \"linear\"}}], \"label\": \"16 Mar\", \"method\": \"animate\"}, {\"args\": [[\"17 Mar\"], {\"frame\": {\"duration\": 0, \"redraw\": true}, \"fromcurrent\": true, \"mode\": \"immediate\", \"transition\": {\"duration\": 0, \"easing\": \"linear\"}}], \"label\": \"17 Mar\", \"method\": \"animate\"}, {\"args\": [[\"18 Mar\"], {\"frame\": {\"duration\": 0, \"redraw\": true}, \"fromcurrent\": true, \"mode\": \"immediate\", \"transition\": {\"duration\": 0, \"easing\": \"linear\"}}], \"label\": \"18 Mar\", \"method\": \"animate\"}, {\"args\": [[\"19 Mar\"], {\"frame\": {\"duration\": 0, \"redraw\": true}, \"fromcurrent\": true, \"mode\": \"immediate\", \"transition\": {\"duration\": 0, \"easing\": \"linear\"}}], \"label\": \"19 Mar\", \"method\": \"animate\"}, {\"args\": [[\"20 Mar\"], {\"frame\": {\"duration\": 0, \"redraw\": true}, \"fromcurrent\": true, \"mode\": \"immediate\", \"transition\": {\"duration\": 0, \"easing\": \"linear\"}}], \"label\": \"20 Mar\", \"method\": \"animate\"}, {\"args\": [[\"21 Mar\"], {\"frame\": {\"duration\": 0, \"redraw\": true}, \"fromcurrent\": true, \"mode\": \"immediate\", \"transition\": {\"duration\": 0, \"easing\": \"linear\"}}], \"label\": \"21 Mar\", \"method\": \"animate\"}, {\"args\": [[\"22 Mar\"], {\"frame\": {\"duration\": 0, \"redraw\": true}, \"fromcurrent\": true, \"mode\": \"immediate\", \"transition\": {\"duration\": 0, \"easing\": \"linear\"}}], \"label\": \"22 Mar\", \"method\": \"animate\"}, {\"args\": [[\"23 Mar\"], {\"frame\": {\"duration\": 0, \"redraw\": true}, \"fromcurrent\": true, \"mode\": \"immediate\", \"transition\": {\"duration\": 0, \"easing\": \"linear\"}}], \"label\": \"23 Mar\", \"method\": \"animate\"}, {\"args\": [[\"24 Mar\"], {\"frame\": {\"duration\": 0, \"redraw\": true}, \"fromcurrent\": true, \"mode\": \"immediate\", \"transition\": {\"duration\": 0, \"easing\": \"linear\"}}], \"label\": \"24 Mar\", \"method\": \"animate\"}], \"x\": 0.1, \"xanchor\": \"left\", \"y\": 0, \"yanchor\": \"top\"}], \"template\": {\"data\": {\"bar\": [{\"error_x\": {\"color\": \"#2a3f5f\"}, \"error_y\": {\"color\": \"#2a3f5f\"}, \"marker\": {\"line\": {\"color\": \"white\", \"width\": 0.5}}, \"type\": \"bar\"}], \"barpolar\": [{\"marker\": {\"line\": {\"color\": \"white\", \"width\": 0.5}}, \"type\": \"barpolar\"}], \"carpet\": [{\"aaxis\": {\"endlinecolor\": \"#2a3f5f\", \"gridcolor\": \"#C8D4E3\", \"linecolor\": \"#C8D4E3\", \"minorgridcolor\": \"#C8D4E3\", \"startlinecolor\": \"#2a3f5f\"}, \"baxis\": {\"endlinecolor\": \"#2a3f5f\", \"gridcolor\": \"#C8D4E3\", \"linecolor\": \"#C8D4E3\", \"minorgridcolor\": \"#C8D4E3\", \"startlinecolor\": \"#2a3f5f\"}, \"type\": \"carpet\"}], \"choropleth\": [{\"colorbar\": {\"outlinewidth\": 0, \"ticks\": \"\"}, \"type\": \"choropleth\"}], \"contour\": [{\"colorbar\": {\"outlinewidth\": 0, \"ticks\": \"\"}, \"colorscale\": [[0.0, \"#0d0887\"], [0.1111111111111111, \"#46039f\"], [0.2222222222222222, \"#7201a8\"], [0.3333333333333333, \"#9c179e\"], [0.4444444444444444, \"#bd3786\"], [0.5555555555555556, \"#d8576b\"], [0.6666666666666666, \"#ed7953\"], [0.7777777777777778, \"#fb9f3a\"], [0.8888888888888888, \"#fdca26\"], [1.0, \"#f0f921\"]], \"type\": \"contour\"}], \"contourcarpet\": [{\"colorbar\": {\"outlinewidth\": 0, \"ticks\": \"\"}, \"type\": \"contourcarpet\"}], \"heatmap\": [{\"colorbar\": {\"outlinewidth\": 0, \"ticks\": \"\"}, \"colorscale\": [[0.0, \"#0d0887\"], [0.1111111111111111, \"#46039f\"], [0.2222222222222222, \"#7201a8\"], [0.3333333333333333, \"#9c179e\"], [0.4444444444444444, \"#bd3786\"], [0.5555555555555556, \"#d8576b\"], [0.6666666666666666, \"#ed7953\"], [0.7777777777777778, \"#fb9f3a\"], [0.8888888888888888, \"#fdca26\"], [1.0, \"#f0f921\"]], \"type\": \"heatmap\"}], \"heatmapgl\": [{\"colorbar\": {\"outlinewidth\": 0, \"ticks\": \"\"}, \"colorscale\": [[0.0, \"#0d0887\"], [0.1111111111111111, \"#46039f\"], [0.2222222222222222, \"#7201a8\"], [0.3333333333333333, \"#9c179e\"], [0.4444444444444444, \"#bd3786\"], [0.5555555555555556, \"#d8576b\"], [0.6666666666666666, \"#ed7953\"], [0.7777777777777778, \"#fb9f3a\"], [0.8888888888888888, \"#fdca26\"], [1.0, \"#f0f921\"]], \"type\": \"heatmapgl\"}], \"histogram\": [{\"marker\": {\"colorbar\": {\"outlinewidth\": 0, \"ticks\": \"\"}}, \"type\": \"histogram\"}], \"histogram2d\": [{\"colorbar\": {\"outlinewidth\": 0, \"ticks\": \"\"}, \"colorscale\": [[0.0, \"#0d0887\"], [0.1111111111111111, \"#46039f\"], [0.2222222222222222, \"#7201a8\"], [0.3333333333333333, \"#9c179e\"], [0.4444444444444444, \"#bd3786\"], [0.5555555555555556, \"#d8576b\"], [0.6666666666666666, \"#ed7953\"], [0.7777777777777778, \"#fb9f3a\"], [0.8888888888888888, \"#fdca26\"], [1.0, \"#f0f921\"]], \"type\": \"histogram2d\"}], \"histogram2dcontour\": [{\"colorbar\": {\"outlinewidth\": 0, \"ticks\": \"\"}, \"colorscale\": [[0.0, \"#0d0887\"], [0.1111111111111111, \"#46039f\"], [0.2222222222222222, \"#7201a8\"], [0.3333333333333333, \"#9c179e\"], [0.4444444444444444, \"#bd3786\"], [0.5555555555555556, \"#d8576b\"], [0.6666666666666666, \"#ed7953\"], [0.7777777777777778, \"#fb9f3a\"], [0.8888888888888888, \"#fdca26\"], [1.0, \"#f0f921\"]], \"type\": \"histogram2dcontour\"}], \"mesh3d\": [{\"colorbar\": {\"outlinewidth\": 0, \"ticks\": \"\"}, \"type\": \"mesh3d\"}], \"parcoords\": [{\"line\": {\"colorbar\": {\"outlinewidth\": 0, \"ticks\": \"\"}}, \"type\": \"parcoords\"}], \"pie\": [{\"automargin\": true, \"type\": \"pie\"}], \"scatter\": [{\"marker\": {\"colorbar\": {\"outlinewidth\": 0, \"ticks\": \"\"}}, \"type\": \"scatter\"}], \"scatter3d\": [{\"line\": {\"colorbar\": {\"outlinewidth\": 0, \"ticks\": \"\"}}, \"marker\": {\"colorbar\": {\"outlinewidth\": 0, \"ticks\": \"\"}}, \"type\": \"scatter3d\"}], \"scattercarpet\": [{\"marker\": {\"colorbar\": {\"outlinewidth\": 0, \"ticks\": \"\"}}, \"type\": \"scattercarpet\"}], \"scattergeo\": [{\"marker\": {\"colorbar\": {\"outlinewidth\": 0, \"ticks\": \"\"}}, \"type\": \"scattergeo\"}], \"scattergl\": [{\"marker\": {\"colorbar\": {\"outlinewidth\": 0, \"ticks\": \"\"}}, \"type\": \"scattergl\"}], \"scattermapbox\": [{\"marker\": {\"colorbar\": {\"outlinewidth\": 0, \"ticks\": \"\"}}, \"type\": \"scattermapbox\"}], \"scatterpolar\": [{\"marker\": {\"colorbar\": {\"outlinewidth\": 0, \"ticks\": \"\"}}, \"type\": \"scatterpolar\"}], \"scatterpolargl\": [{\"marker\": {\"colorbar\": {\"outlinewidth\": 0, \"ticks\": \"\"}}, \"type\": \"scatterpolargl\"}], \"scatterternary\": [{\"marker\": {\"colorbar\": {\"outlinewidth\": 0, \"ticks\": \"\"}}, \"type\": \"scatterternary\"}], \"surface\": [{\"colorbar\": {\"outlinewidth\": 0, \"ticks\": \"\"}, \"colorscale\": [[0.0, \"#0d0887\"], [0.1111111111111111, \"#46039f\"], [0.2222222222222222, \"#7201a8\"], [0.3333333333333333, \"#9c179e\"], [0.4444444444444444, \"#bd3786\"], [0.5555555555555556, \"#d8576b\"], [0.6666666666666666, \"#ed7953\"], [0.7777777777777778, \"#fb9f3a\"], [0.8888888888888888, \"#fdca26\"], [1.0, \"#f0f921\"]], \"type\": \"surface\"}], \"table\": [{\"cells\": {\"fill\": {\"color\": \"#EBF0F8\"}, \"line\": {\"color\": \"white\"}}, \"header\": {\"fill\": {\"color\": \"#C8D4E3\"}, \"line\": {\"color\": \"white\"}}, \"type\": \"table\"}]}, \"layout\": {\"annotationdefaults\": {\"arrowcolor\": \"#2a3f5f\", \"arrowhead\": 0, \"arrowwidth\": 1}, \"coloraxis\": {\"colorbar\": {\"outlinewidth\": 0, \"ticks\": \"\"}}, \"colorscale\": {\"diverging\": [[0, \"#8e0152\"], [0.1, \"#c51b7d\"], [0.2, \"#de77ae\"], [0.3, \"#f1b6da\"], [0.4, \"#fde0ef\"], [0.5, \"#f7f7f7\"], [0.6, \"#e6f5d0\"], [0.7, \"#b8e186\"], [0.8, \"#7fbc41\"], [0.9, \"#4d9221\"], [1, \"#276419\"]], \"sequential\": [[0.0, \"#0d0887\"], [0.1111111111111111, \"#46039f\"], [0.2222222222222222, \"#7201a8\"], [0.3333333333333333, \"#9c179e\"], [0.4444444444444444, \"#bd3786\"], [0.5555555555555556, \"#d8576b\"], [0.6666666666666666, \"#ed7953\"], [0.7777777777777778, \"#fb9f3a\"], [0.8888888888888888, \"#fdca26\"], [1.0, \"#f0f921\"]], \"sequentialminus\": [[0.0, \"#0d0887\"], [0.1111111111111111, \"#46039f\"], [0.2222222222222222, \"#7201a8\"], [0.3333333333333333, \"#9c179e\"], [0.4444444444444444, \"#bd3786\"], [0.5555555555555556, \"#d8576b\"], [0.6666666666666666, \"#ed7953\"], [0.7777777777777778, \"#fb9f3a\"], [0.8888888888888888, \"#fdca26\"], [1.0, \"#f0f921\"]]}, \"colorway\": [\"#636efa\", \"#EF553B\", \"#00cc96\", \"#ab63fa\", \"#FFA15A\", \"#19d3f3\", \"#FF6692\", \"#B6E880\", \"#FF97FF\", \"#FECB52\"], \"font\": {\"color\": \"#2a3f5f\"}, \"geo\": {\"bgcolor\": \"white\", \"lakecolor\": \"white\", \"landcolor\": \"white\", \"showlakes\": true, \"showland\": true, \"subunitcolor\": \"#C8D4E3\"}, \"hoverlabel\": {\"align\": \"left\"}, \"hovermode\": \"closest\", \"mapbox\": {\"style\": \"light\"}, \"paper_bgcolor\": \"white\", \"plot_bgcolor\": \"white\", \"polar\": {\"angularaxis\": {\"gridcolor\": \"#EBF0F8\", \"linecolor\": \"#EBF0F8\", \"ticks\": \"\"}, \"bgcolor\": \"white\", \"radialaxis\": {\"gridcolor\": \"#EBF0F8\", \"linecolor\": \"#EBF0F8\", \"ticks\": \"\"}}, \"scene\": {\"xaxis\": {\"backgroundcolor\": \"white\", \"gridcolor\": \"#DFE8F3\", \"gridwidth\": 2, \"linecolor\": \"#EBF0F8\", \"showbackground\": true, \"ticks\": \"\", \"zerolinecolor\": \"#EBF0F8\"}, \"yaxis\": {\"backgroundcolor\": \"white\", \"gridcolor\": \"#DFE8F3\", \"gridwidth\": 2, \"linecolor\": \"#EBF0F8\", \"showbackground\": true, \"ticks\": \"\", \"zerolinecolor\": \"#EBF0F8\"}, \"zaxis\": {\"backgroundcolor\": \"white\", \"gridcolor\": \"#DFE8F3\", \"gridwidth\": 2, \"linecolor\": \"#EBF0F8\", \"showbackground\": true, \"ticks\": \"\", \"zerolinecolor\": \"#EBF0F8\"}}, \"shapedefaults\": {\"line\": {\"color\": \"#2a3f5f\"}}, \"ternary\": {\"aaxis\": {\"gridcolor\": \"#DFE8F3\", \"linecolor\": \"#A2B1C6\", \"ticks\": \"\"}, \"baxis\": {\"gridcolor\": \"#DFE8F3\", \"linecolor\": \"#A2B1C6\", \"ticks\": \"\"}, \"bgcolor\": \"white\", \"caxis\": {\"gridcolor\": \"#DFE8F3\", \"linecolor\": \"#A2B1C6\", \"ticks\": \"\"}}, \"title\": {\"x\": 0.05}, \"xaxis\": {\"automargin\": true, \"gridcolor\": \"#EBF0F8\", \"linecolor\": \"#EBF0F8\", \"ticks\": \"\", \"title\": {\"standoff\": 15}, \"zerolinecolor\": \"#EBF0F8\", \"zerolinewidth\": 2}, \"yaxis\": {\"automargin\": true, \"gridcolor\": \"#EBF0F8\", \"linecolor\": \"#EBF0F8\", \"ticks\": \"\", \"title\": {\"standoff\": 15}, \"zerolinecolor\": \"#EBF0F8\", \"zerolinewidth\": 2}}}, \"title\": {\"font\": {\"family\": \"Helvetica\", \"size\": 18}, \"text\": \"<b>COVID19: Registrert smittet i Norge</b><br>Fordeling per fylke<br>Datakilde: FHI - folkehelseinstituttet. Oppdatert 25.03.2020\"}, \"updatemenus\": [{\"buttons\": [{\"args\": [null, {\"frame\": {\"duration\": 500, \"redraw\": true}, \"fromcurrent\": true, \"mode\": \"immediate\", \"transition\": {\"duration\": 500, \"easing\": \"linear\"}}], \"label\": \"&#9654;\", \"method\": \"animate\"}, {\"args\": [[null], {\"frame\": {\"duration\": 0, \"redraw\": true}, \"fromcurrent\": true, \"mode\": \"immediate\", \"transition\": {\"duration\": 0, \"easing\": \"linear\"}}], \"label\": \"&#9724;\", \"method\": \"animate\"}], \"direction\": \"left\", \"pad\": {\"r\": 10, \"t\": 70}, \"showactive\": false, \"type\": \"buttons\", \"x\": 0.1, \"xanchor\": \"right\", \"y\": 0, \"yanchor\": \"top\"}], \"xaxis\": {\"anchor\": \"y\", \"domain\": [0.0, 1.0], \"fixedrange\": true, \"range\": [0, 600], \"title\": {\"text\": \"\"}}, \"yaxis\": {\"anchor\": \"x\", \"categoryorder\": \"total ascending\", \"domain\": [0.0, 1.0], \"fixedrange\": true, \"separatethousands\": true, \"title\": {\"text\": \"\"}}},\n",
       "                        {\"responsive\": true}\n",
       "                    ).then(function(){\n",
       "                            Plotly.addFrames('9bec6e3a-efbb-42c5-9a54-ab3513d4b121', [{\"data\": [{\"alignmentgroup\": \"True\", \"hoverlabel\": {\"namelength\": 0}, \"hovertemplate\": \"RHF=Helse Midt-Norge<br>Dato=02 Mar<br>Registrerte smittede=%{text}<br>Fylke=%{y}\", \"ids\": [\"Tr\\u00f8ndelag\", \"M\\u00f8re og Romsdal\"], \"legendgroup\": \"Helse Midt-Norge\", \"marker\": {\"color\": \"#636efa\"}, \"name\": \"Helse Midt-Norge\", \"offsetgroup\": \"Helse Midt-Norge\", \"orientation\": \"h\", \"showlegend\": true, \"text\": [0.0, 0.0], \"textposition\": \"auto\", \"x\": [0, 0], \"xaxis\": \"x\", \"y\": [\"Tr\\u00f8ndelag\", \"M\\u00f8re og Romsdal\"], \"yaxis\": \"y\", \"type\": \"bar\"}, {\"alignmentgroup\": \"True\", \"hoverlabel\": {\"namelength\": 0}, \"hovertemplate\": \"RHF=Helse Nord<br>Dato=02 Mar<br>Registrerte smittede=%{text}<br>Fylke=%{y}\", \"ids\": [\"Troms og Finnmark\", \"Nordland\"], \"legendgroup\": \"Helse Nord\", \"marker\": {\"color\": \"#EF553B\"}, \"name\": \"Helse Nord\", \"offsetgroup\": \"Helse Nord\", \"orientation\": \"h\", \"showlegend\": true, \"text\": [1.0, 0.0], \"textposition\": \"auto\", \"x\": [1, 0], \"xaxis\": \"x\", \"y\": [\"Troms og Finnmark\", \"Nordland\"], \"yaxis\": \"y\", \"type\": \"bar\"}, {\"alignmentgroup\": \"True\", \"hoverlabel\": {\"namelength\": 0}, \"hovertemplate\": \"RHF=Helse S\\u00f8r-\\u00d8st<br>Dato=02 Mar<br>Registrerte smittede=%{text}<br>Fylke=%{y}\", \"ids\": [\"Agder\", \"Innlandet\", \"Oslo\", \"Viken\", \"Vestfold og Telemark\"], \"legendgroup\": \"Helse S\\u00f8r-\\u00d8st\", \"marker\": {\"color\": \"#00cc96\"}, \"name\": \"Helse S\\u00f8r-\\u00d8st\", \"offsetgroup\": \"Helse S\\u00f8r-\\u00d8st\", \"orientation\": \"h\", \"showlegend\": true, \"text\": [2.0, 0.0, 7.0, 5.0, 0.0], \"textposition\": \"auto\", \"x\": [2, 0, 7, 5, 0], \"xaxis\": \"x\", \"y\": [\"Agder\", \"Innlandet\", \"Oslo\", \"Viken\", \"Vestfold og Telemark\"], \"yaxis\": \"y\", \"type\": \"bar\"}, {\"alignmentgroup\": \"True\", \"hoverlabel\": {\"namelength\": 0}, \"hovertemplate\": \"RHF=Helse Vest<br>Dato=02 Mar<br>Registrerte smittede=%{text}<br>Fylke=%{y}\", \"ids\": [\"Rogaland\", \"Vestland\"], \"legendgroup\": \"Helse Vest\", \"marker\": {\"color\": \"#ab63fa\"}, \"name\": \"Helse Vest\", \"offsetgroup\": \"Helse Vest\", \"orientation\": \"h\", \"showlegend\": true, \"text\": [0.0, 9.0], \"textposition\": \"auto\", \"x\": [0, 9], \"xaxis\": \"x\", \"y\": [\"Rogaland\", \"Vestland\"], \"yaxis\": \"y\", \"type\": \"bar\"}], \"name\": \"02 Mar\"}, {\"data\": [{\"alignmentgroup\": \"True\", \"hoverlabel\": {\"namelength\": 0}, \"hovertemplate\": \"RHF=Helse Midt-Norge<br>Dato=03 Mar<br>Registrerte smittede=%{text}<br>Fylke=%{y}\", \"ids\": [\"M\\u00f8re og Romsdal\", \"Tr\\u00f8ndelag\"], \"legendgroup\": \"Helse Midt-Norge\", \"marker\": {\"color\": \"#636efa\"}, \"name\": \"Helse Midt-Norge\", \"offsetgroup\": \"Helse Midt-Norge\", \"orientation\": \"h\", \"showlegend\": true, \"text\": [0.0, 0.0], \"textposition\": \"auto\", \"x\": [0, 0], \"xaxis\": \"x\", \"y\": [\"M\\u00f8re og Romsdal\", \"Tr\\u00f8ndelag\"], \"yaxis\": \"y\", \"type\": \"bar\"}, {\"alignmentgroup\": \"True\", \"hoverlabel\": {\"namelength\": 0}, \"hovertemplate\": \"RHF=Helse Nord<br>Dato=03 Mar<br>Registrerte smittede=%{text}<br>Fylke=%{y}\", \"ids\": [\"Nordland\", \"Troms og Finnmark\"], \"legendgroup\": \"Helse Nord\", \"marker\": {\"color\": \"#EF553B\"}, \"name\": \"Helse Nord\", \"offsetgroup\": \"Helse Nord\", \"orientation\": \"h\", \"showlegend\": true, \"text\": [0.0, 2.0], \"textposition\": \"auto\", \"x\": [0, 2], \"xaxis\": \"x\", \"y\": [\"Nordland\", \"Troms og Finnmark\"], \"yaxis\": \"y\", \"type\": \"bar\"}, {\"alignmentgroup\": \"True\", \"hoverlabel\": {\"namelength\": 0}, \"hovertemplate\": \"RHF=Helse S\\u00f8r-\\u00d8st<br>Dato=03 Mar<br>Registrerte smittede=%{text}<br>Fylke=%{y}\", \"ids\": [\"Oslo\", \"Vestfold og Telemark\", \"Innlandet\", \"Viken\", \"Agder\"], \"legendgroup\": \"Helse S\\u00f8r-\\u00d8st\", \"marker\": {\"color\": \"#00cc96\"}, \"name\": \"Helse S\\u00f8r-\\u00d8st\", \"offsetgroup\": \"Helse S\\u00f8r-\\u00d8st\", \"orientation\": \"h\", \"showlegend\": true, \"text\": [7.0, 0.0, 0.0, 8.0, 3.0], \"textposition\": \"auto\", \"x\": [7, 0, 0, 8, 3], \"xaxis\": \"x\", \"y\": [\"Oslo\", \"Vestfold og Telemark\", \"Innlandet\", \"Viken\", \"Agder\"], \"yaxis\": \"y\", \"type\": \"bar\"}, {\"alignmentgroup\": \"True\", \"hoverlabel\": {\"namelength\": 0}, \"hovertemplate\": \"RHF=Helse Vest<br>Dato=03 Mar<br>Registrerte smittede=%{text}<br>Fylke=%{y}\", \"ids\": [\"Vestland\", \"Rogaland\"], \"legendgroup\": \"Helse Vest\", \"marker\": {\"color\": \"#ab63fa\"}, \"name\": \"Helse Vest\", \"offsetgroup\": \"Helse Vest\", \"orientation\": \"h\", \"showlegend\": true, \"text\": [12.0, 0.0], \"textposition\": \"auto\", \"x\": [12, 0], \"xaxis\": \"x\", \"y\": [\"Vestland\", \"Rogaland\"], \"yaxis\": \"y\", \"type\": \"bar\"}], \"name\": \"03 Mar\"}, {\"data\": [{\"alignmentgroup\": \"True\", \"hoverlabel\": {\"namelength\": 0}, \"hovertemplate\": \"RHF=Helse Midt-Norge<br>Dato=04 Mar<br>Registrerte smittede=%{text}<br>Fylke=%{y}\", \"ids\": [\"Tr\\u00f8ndelag\", \"M\\u00f8re og Romsdal\"], \"legendgroup\": \"Helse Midt-Norge\", \"marker\": {\"color\": \"#636efa\"}, \"name\": \"Helse Midt-Norge\", \"offsetgroup\": \"Helse Midt-Norge\", \"orientation\": \"h\", \"showlegend\": true, \"text\": [1.0, 1.0], \"textposition\": \"auto\", \"x\": [1, 1], \"xaxis\": \"x\", \"y\": [\"Tr\\u00f8ndelag\", \"M\\u00f8re og Romsdal\"], \"yaxis\": \"y\", \"type\": \"bar\"}, {\"alignmentgroup\": \"True\", \"hoverlabel\": {\"namelength\": 0}, \"hovertemplate\": \"RHF=Helse Nord<br>Dato=04 Mar<br>Registrerte smittede=%{text}<br>Fylke=%{y}\", \"ids\": [\"Troms og Finnmark\", \"Nordland\"], \"legendgroup\": \"Helse Nord\", \"marker\": {\"color\": \"#EF553B\"}, \"name\": \"Helse Nord\", \"offsetgroup\": \"Helse Nord\", \"orientation\": \"h\", \"showlegend\": true, \"text\": [2.0, 0.0], \"textposition\": \"auto\", \"x\": [2, 0], \"xaxis\": \"x\", \"y\": [\"Troms og Finnmark\", \"Nordland\"], \"yaxis\": \"y\", \"type\": \"bar\"}, {\"alignmentgroup\": \"True\", \"hoverlabel\": {\"namelength\": 0}, \"hovertemplate\": \"RHF=Helse S\\u00f8r-\\u00d8st<br>Dato=04 Mar<br>Registrerte smittede=%{text}<br>Fylke=%{y}\", \"ids\": [\"Viken\", \"Agder\", \"Innlandet\", \"Vestfold og Telemark\", \"Oslo\"], \"legendgroup\": \"Helse S\\u00f8r-\\u00d8st\", \"marker\": {\"color\": \"#00cc96\"}, \"name\": \"Helse S\\u00f8r-\\u00d8st\", \"offsetgroup\": \"Helse S\\u00f8r-\\u00d8st\", \"orientation\": \"h\", \"showlegend\": true, \"text\": [19.0, 3.0, 3.0, 0.0, 14.0], \"textposition\": \"auto\", \"x\": [19, 3, 3, 0, 14], \"xaxis\": \"x\", \"y\": [\"Viken\", \"Agder\", \"Innlandet\", \"Vestfold og Telemark\", \"Oslo\"], \"yaxis\": \"y\", \"type\": \"bar\"}, {\"alignmentgroup\": \"True\", \"hoverlabel\": {\"namelength\": 0}, \"hovertemplate\": \"RHF=Helse Vest<br>Dato=04 Mar<br>Registrerte smittede=%{text}<br>Fylke=%{y}\", \"ids\": [\"Rogaland\", \"Vestland\"], \"legendgroup\": \"Helse Vest\", \"marker\": {\"color\": \"#ab63fa\"}, \"name\": \"Helse Vest\", \"offsetgroup\": \"Helse Vest\", \"orientation\": \"h\", \"showlegend\": true, \"text\": [3.0, 17.0], \"textposition\": \"auto\", \"x\": [3, 17], \"xaxis\": \"x\", \"y\": [\"Rogaland\", \"Vestland\"], \"yaxis\": \"y\", \"type\": \"bar\"}], \"name\": \"04 Mar\"}, {\"data\": [{\"alignmentgroup\": \"True\", \"hoverlabel\": {\"namelength\": 0}, \"hovertemplate\": \"RHF=Helse Midt-Norge<br>Dato=05 Mar<br>Registrerte smittede=%{text}<br>Fylke=%{y}\", \"ids\": [\"Tr\\u00f8ndelag\", \"M\\u00f8re og Romsdal\"], \"legendgroup\": \"Helse Midt-Norge\", \"marker\": {\"color\": \"#636efa\"}, \"name\": \"Helse Midt-Norge\", \"offsetgroup\": \"Helse Midt-Norge\", \"orientation\": \"h\", \"showlegend\": true, \"text\": [7.0, 2.0], \"textposition\": \"auto\", \"x\": [7, 2], \"xaxis\": \"x\", \"y\": [\"Tr\\u00f8ndelag\", \"M\\u00f8re og Romsdal\"], \"yaxis\": \"y\", \"type\": \"bar\"}, {\"alignmentgroup\": \"True\", \"hoverlabel\": {\"namelength\": 0}, \"hovertemplate\": \"RHF=Helse Nord<br>Dato=05 Mar<br>Registrerte smittede=%{text}<br>Fylke=%{y}\", \"ids\": [\"Nordland\", \"Troms og Finnmark\"], \"legendgroup\": \"Helse Nord\", \"marker\": {\"color\": \"#EF553B\"}, \"name\": \"Helse Nord\", \"offsetgroup\": \"Helse Nord\", \"orientation\": \"h\", \"showlegend\": true, \"text\": [0.0, 2.0], \"textposition\": \"auto\", \"x\": [0, 2], \"xaxis\": \"x\", \"y\": [\"Nordland\", \"Troms og Finnmark\"], \"yaxis\": \"y\", \"type\": \"bar\"}, {\"alignmentgroup\": \"True\", \"hoverlabel\": {\"namelength\": 0}, \"hovertemplate\": \"RHF=Helse S\\u00f8r-\\u00d8st<br>Dato=05 Mar<br>Registrerte smittede=%{text}<br>Fylke=%{y}\", \"ids\": [\"Viken\", \"Agder\", \"Vestfold og Telemark\", \"Oslo\", \"Innlandet\"], \"legendgroup\": \"Helse S\\u00f8r-\\u00d8st\", \"marker\": {\"color\": \"#00cc96\"}, \"name\": \"Helse S\\u00f8r-\\u00d8st\", \"offsetgroup\": \"Helse S\\u00f8r-\\u00d8st\", \"orientation\": \"h\", \"showlegend\": true, \"text\": [23.0, 7.0, 2.0, 18.0, 4.0], \"textposition\": \"auto\", \"x\": [23, 7, 2, 18, 4], \"xaxis\": \"x\", \"y\": [\"Viken\", \"Agder\", \"Vestfold og Telemark\", \"Oslo\", \"Innlandet\"], \"yaxis\": \"y\", \"type\": \"bar\"}, {\"alignmentgroup\": \"True\", \"hoverlabel\": {\"namelength\": 0}, \"hovertemplate\": \"RHF=Helse Vest<br>Dato=05 Mar<br>Registrerte smittede=%{text}<br>Fylke=%{y}\", \"ids\": [\"Vestland\", \"Rogaland\"], \"legendgroup\": \"Helse Vest\", \"marker\": {\"color\": \"#ab63fa\"}, \"name\": \"Helse Vest\", \"offsetgroup\": \"Helse Vest\", \"orientation\": \"h\", \"showlegend\": true, \"text\": [22.0, 6.0], \"textposition\": \"auto\", \"x\": [22, 6], \"xaxis\": \"x\", \"y\": [\"Vestland\", \"Rogaland\"], \"yaxis\": \"y\", \"type\": \"bar\"}], \"name\": \"05 Mar\"}, {\"data\": [{\"alignmentgroup\": \"True\", \"hoverlabel\": {\"namelength\": 0}, \"hovertemplate\": \"RHF=Helse Midt-Norge<br>Dato=06 Mar<br>Registrerte smittede=%{text}<br>Fylke=%{y}\", \"ids\": [\"M\\u00f8re og Romsdal\", \"Tr\\u00f8ndelag\"], \"legendgroup\": \"Helse Midt-Norge\", \"marker\": {\"color\": \"#636efa\"}, \"name\": \"Helse Midt-Norge\", \"offsetgroup\": \"Helse Midt-Norge\", \"orientation\": \"h\", \"showlegend\": true, \"text\": [2.0, 15.0], \"textposition\": \"auto\", \"x\": [2, 15], \"xaxis\": \"x\", \"y\": [\"M\\u00f8re og Romsdal\", \"Tr\\u00f8ndelag\"], \"yaxis\": \"y\", \"type\": \"bar\"}, {\"alignmentgroup\": \"True\", \"hoverlabel\": {\"namelength\": 0}, \"hovertemplate\": \"RHF=Helse Nord<br>Dato=06 Mar<br>Registrerte smittede=%{text}<br>Fylke=%{y}\", \"ids\": [\"Troms og Finnmark\", \"Nordland\"], \"legendgroup\": \"Helse Nord\", \"marker\": {\"color\": \"#EF553B\"}, \"name\": \"Helse Nord\", \"offsetgroup\": \"Helse Nord\", \"orientation\": \"h\", \"showlegend\": true, \"text\": [6.0, 1.0], \"textposition\": \"auto\", \"x\": [6, 1], \"xaxis\": \"x\", \"y\": [\"Troms og Finnmark\", \"Nordland\"], \"yaxis\": \"y\", \"type\": \"bar\"}, {\"alignmentgroup\": \"True\", \"hoverlabel\": {\"namelength\": 0}, \"hovertemplate\": \"RHF=Helse S\\u00f8r-\\u00d8st<br>Dato=06 Mar<br>Registrerte smittede=%{text}<br>Fylke=%{y}\", \"ids\": [\"Innlandet\", \"Vestfold og Telemark\", \"Oslo\", \"Viken\", \"Agder\"], \"legendgroup\": \"Helse S\\u00f8r-\\u00d8st\", \"marker\": {\"color\": \"#00cc96\"}, \"name\": \"Helse S\\u00f8r-\\u00d8st\", \"offsetgroup\": \"Helse S\\u00f8r-\\u00d8st\", \"orientation\": \"h\", \"showlegend\": true, \"text\": [12.0, 2.0, 23.0, 26.0, 7.0], \"textposition\": \"auto\", \"x\": [12, 2, 23, 26, 7], \"xaxis\": \"x\", \"y\": [\"Innlandet\", \"Vestfold og Telemark\", \"Oslo\", \"Viken\", \"Agder\"], \"yaxis\": \"y\", \"type\": \"bar\"}, {\"alignmentgroup\": \"True\", \"hoverlabel\": {\"namelength\": 0}, \"hovertemplate\": \"RHF=Helse Vest<br>Dato=06 Mar<br>Registrerte smittede=%{text}<br>Fylke=%{y}\", \"ids\": [\"Vestland\", \"Rogaland\"], \"legendgroup\": \"Helse Vest\", \"marker\": {\"color\": \"#ab63fa\"}, \"name\": \"Helse Vest\", \"offsetgroup\": \"Helse Vest\", \"orientation\": \"h\", \"showlegend\": true, \"text\": [24.0, 11.0], \"textposition\": \"auto\", \"x\": [24, 11], \"xaxis\": \"x\", \"y\": [\"Vestland\", \"Rogaland\"], \"yaxis\": \"y\", \"type\": \"bar\"}], \"name\": \"06 Mar\"}, {\"data\": [{\"alignmentgroup\": \"True\", \"hoverlabel\": {\"namelength\": 0}, \"hovertemplate\": \"RHF=Helse Midt-Norge<br>Dato=07 Mar<br>Registrerte smittede=%{text}<br>Fylke=%{y}\", \"ids\": [\"M\\u00f8re og Romsdal\", \"Tr\\u00f8ndelag\"], \"legendgroup\": \"Helse Midt-Norge\", \"marker\": {\"color\": \"#636efa\"}, \"name\": \"Helse Midt-Norge\", \"offsetgroup\": \"Helse Midt-Norge\", \"orientation\": \"h\", \"showlegend\": true, \"text\": [2.0, 18.0], \"textposition\": \"auto\", \"x\": [2, 18], \"xaxis\": \"x\", \"y\": [\"M\\u00f8re og Romsdal\", \"Tr\\u00f8ndelag\"], \"yaxis\": \"y\", \"type\": \"bar\"}, {\"alignmentgroup\": \"True\", \"hoverlabel\": {\"namelength\": 0}, \"hovertemplate\": \"RHF=Helse Nord<br>Dato=07 Mar<br>Registrerte smittede=%{text}<br>Fylke=%{y}\", \"ids\": [\"Troms og Finnmark\", \"Nordland\"], \"legendgroup\": \"Helse Nord\", \"marker\": {\"color\": \"#EF553B\"}, \"name\": \"Helse Nord\", \"offsetgroup\": \"Helse Nord\", \"orientation\": \"h\", \"showlegend\": true, \"text\": [6.0, 2.0], \"textposition\": \"auto\", \"x\": [6, 2], \"xaxis\": \"x\", \"y\": [\"Troms og Finnmark\", \"Nordland\"], \"yaxis\": \"y\", \"type\": \"bar\"}, {\"alignmentgroup\": \"True\", \"hoverlabel\": {\"namelength\": 0}, \"hovertemplate\": \"RHF=Helse S\\u00f8r-\\u00d8st<br>Dato=07 Mar<br>Registrerte smittede=%{text}<br>Fylke=%{y}\", \"ids\": [\"Viken\", \"Agder\", \"Vestfold og Telemark\", \"Innlandet\", \"Oslo\"], \"legendgroup\": \"Helse S\\u00f8r-\\u00d8st\", \"marker\": {\"color\": \"#00cc96\"}, \"name\": \"Helse S\\u00f8r-\\u00d8st\", \"offsetgroup\": \"Helse S\\u00f8r-\\u00d8st\", \"orientation\": \"h\", \"showlegend\": true, \"text\": [38.0, 9.0, 2.0, 12.0, 29.0], \"textposition\": \"auto\", \"x\": [38, 9, 2, 12, 29], \"xaxis\": \"x\", \"y\": [\"Viken\", \"Agder\", \"Vestfold og Telemark\", \"Innlandet\", \"Oslo\"], \"yaxis\": \"y\", \"type\": \"bar\"}, {\"alignmentgroup\": \"True\", \"hoverlabel\": {\"namelength\": 0}, \"hovertemplate\": \"RHF=Helse Vest<br>Dato=07 Mar<br>Registrerte smittede=%{text}<br>Fylke=%{y}\", \"ids\": [\"Vestland\", \"Rogaland\"], \"legendgroup\": \"Helse Vest\", \"marker\": {\"color\": \"#ab63fa\"}, \"name\": \"Helse Vest\", \"offsetgroup\": \"Helse Vest\", \"orientation\": \"h\", \"showlegend\": true, \"text\": [24.0, 14.0], \"textposition\": \"auto\", \"x\": [24, 14], \"xaxis\": \"x\", \"y\": [\"Vestland\", \"Rogaland\"], \"yaxis\": \"y\", \"type\": \"bar\"}], \"name\": \"07 Mar\"}, {\"data\": [{\"alignmentgroup\": \"True\", \"hoverlabel\": {\"namelength\": 0}, \"hovertemplate\": \"RHF=Helse Midt-Norge<br>Dato=08 Mar<br>Registrerte smittede=%{text}<br>Fylke=%{y}\", \"ids\": [\"Tr\\u00f8ndelag\", \"M\\u00f8re og Romsdal\"], \"legendgroup\": \"Helse Midt-Norge\", \"marker\": {\"color\": \"#636efa\"}, \"name\": \"Helse Midt-Norge\", \"offsetgroup\": \"Helse Midt-Norge\", \"orientation\": \"h\", \"showlegend\": true, \"text\": [19.0, 2.0], \"textposition\": \"auto\", \"x\": [19, 2], \"xaxis\": \"x\", \"y\": [\"Tr\\u00f8ndelag\", \"M\\u00f8re og Romsdal\"], \"yaxis\": \"y\", \"type\": \"bar\"}, {\"alignmentgroup\": \"True\", \"hoverlabel\": {\"namelength\": 0}, \"hovertemplate\": \"RHF=Helse Nord<br>Dato=08 Mar<br>Registrerte smittede=%{text}<br>Fylke=%{y}\", \"ids\": [\"Nordland\", \"Troms og Finnmark\"], \"legendgroup\": \"Helse Nord\", \"marker\": {\"color\": \"#EF553B\"}, \"name\": \"Helse Nord\", \"offsetgroup\": \"Helse Nord\", \"orientation\": \"h\", \"showlegend\": true, \"text\": [3.0, 6.0], \"textposition\": \"auto\", \"x\": [3, 6], \"xaxis\": \"x\", \"y\": [\"Nordland\", \"Troms og Finnmark\"], \"yaxis\": \"y\", \"type\": \"bar\"}, {\"alignmentgroup\": \"True\", \"hoverlabel\": {\"namelength\": 0}, \"hovertemplate\": \"RHF=Helse S\\u00f8r-\\u00d8st<br>Dato=08 Mar<br>Registrerte smittede=%{text}<br>Fylke=%{y}\", \"ids\": [\"Oslo\", \"Vestfold og Telemark\", \"Innlandet\", \"Agder\", \"Viken\"], \"legendgroup\": \"Helse S\\u00f8r-\\u00d8st\", \"marker\": {\"color\": \"#00cc96\"}, \"name\": \"Helse S\\u00f8r-\\u00d8st\", \"offsetgroup\": \"Helse S\\u00f8r-\\u00d8st\", \"orientation\": \"h\", \"showlegend\": true, \"text\": [35.0, 3.0, 12.0, 9.0, 41.0], \"textposition\": \"auto\", \"x\": [35, 3, 12, 9, 41], \"xaxis\": \"x\", \"y\": [\"Oslo\", \"Vestfold og Telemark\", \"Innlandet\", \"Agder\", \"Viken\"], \"yaxis\": \"y\", \"type\": \"bar\"}, {\"alignmentgroup\": \"True\", \"hoverlabel\": {\"namelength\": 0}, \"hovertemplate\": \"RHF=Helse Vest<br>Dato=08 Mar<br>Registrerte smittede=%{text}<br>Fylke=%{y}\", \"ids\": [\"Rogaland\", \"Vestland\"], \"legendgroup\": \"Helse Vest\", \"marker\": {\"color\": \"#ab63fa\"}, \"name\": \"Helse Vest\", \"offsetgroup\": \"Helse Vest\", \"orientation\": \"h\", \"showlegend\": true, \"text\": [19.0, 24.0], \"textposition\": \"auto\", \"x\": [19, 24], \"xaxis\": \"x\", \"y\": [\"Rogaland\", \"Vestland\"], \"yaxis\": \"y\", \"type\": \"bar\"}], \"name\": \"08 Mar\"}, {\"data\": [{\"alignmentgroup\": \"True\", \"hoverlabel\": {\"namelength\": 0}, \"hovertemplate\": \"RHF=Helse Midt-Norge<br>Dato=09 Mar<br>Registrerte smittede=%{text}<br>Fylke=%{y}\", \"ids\": [\"M\\u00f8re og Romsdal\", \"Tr\\u00f8ndelag\"], \"legendgroup\": \"Helse Midt-Norge\", \"marker\": {\"color\": \"#636efa\"}, \"name\": \"Helse Midt-Norge\", \"offsetgroup\": \"Helse Midt-Norge\", \"orientation\": \"h\", \"showlegend\": true, \"text\": [4.0, 22.0], \"textposition\": \"auto\", \"x\": [4, 22], \"xaxis\": \"x\", \"y\": [\"M\\u00f8re og Romsdal\", \"Tr\\u00f8ndelag\"], \"yaxis\": \"y\", \"type\": \"bar\"}, {\"alignmentgroup\": \"True\", \"hoverlabel\": {\"namelength\": 0}, \"hovertemplate\": \"RHF=Helse Nord<br>Dato=09 Mar<br>Registrerte smittede=%{text}<br>Fylke=%{y}\", \"ids\": [\"Troms og Finnmark\", \"Nordland\"], \"legendgroup\": \"Helse Nord\", \"marker\": {\"color\": \"#EF553B\"}, \"name\": \"Helse Nord\", \"offsetgroup\": \"Helse Nord\", \"orientation\": \"h\", \"showlegend\": true, \"text\": [6.0, 3.0], \"textposition\": \"auto\", \"x\": [6, 3], \"xaxis\": \"x\", \"y\": [\"Troms og Finnmark\", \"Nordland\"], \"yaxis\": \"y\", \"type\": \"bar\"}, {\"alignmentgroup\": \"True\", \"hoverlabel\": {\"namelength\": 0}, \"hovertemplate\": \"RHF=Helse S\\u00f8r-\\u00d8st<br>Dato=09 Mar<br>Registrerte smittede=%{text}<br>Fylke=%{y}\", \"ids\": [\"Vestfold og Telemark\", \"Oslo\", \"Innlandet\", \"Viken\", \"Agder\"], \"legendgroup\": \"Helse S\\u00f8r-\\u00d8st\", \"marker\": {\"color\": \"#00cc96\"}, \"name\": \"Helse S\\u00f8r-\\u00d8st\", \"offsetgroup\": \"Helse S\\u00f8r-\\u00d8st\", \"orientation\": \"h\", \"showlegend\": true, \"text\": [5.0, 35.0, 14.0, 52.0, 17.0], \"textposition\": \"auto\", \"x\": [5, 35, 14, 52, 17], \"xaxis\": \"x\", \"y\": [\"Vestfold og Telemark\", \"Oslo\", \"Innlandet\", \"Viken\", \"Agder\"], \"yaxis\": \"y\", \"type\": \"bar\"}, {\"alignmentgroup\": \"True\", \"hoverlabel\": {\"namelength\": 0}, \"hovertemplate\": \"RHF=Helse Vest<br>Dato=09 Mar<br>Registrerte smittede=%{text}<br>Fylke=%{y}\", \"ids\": [\"Vestland\", \"Rogaland\"], \"legendgroup\": \"Helse Vest\", \"marker\": {\"color\": \"#ab63fa\"}, \"name\": \"Helse Vest\", \"offsetgroup\": \"Helse Vest\", \"orientation\": \"h\", \"showlegend\": true, \"text\": [28.0, 25.0], \"textposition\": \"auto\", \"x\": [28, 25], \"xaxis\": \"x\", \"y\": [\"Vestland\", \"Rogaland\"], \"yaxis\": \"y\", \"type\": \"bar\"}], \"name\": \"09 Mar\"}, {\"data\": [{\"alignmentgroup\": \"True\", \"hoverlabel\": {\"namelength\": 0}, \"hovertemplate\": \"RHF=Helse Midt-Norge<br>Dato=10 Mar<br>Registrerte smittede=%{text}<br>Fylke=%{y}\", \"ids\": [\"M\\u00f8re og Romsdal\", \"Tr\\u00f8ndelag\"], \"legendgroup\": \"Helse Midt-Norge\", \"marker\": {\"color\": \"#636efa\"}, \"name\": \"Helse Midt-Norge\", \"offsetgroup\": \"Helse Midt-Norge\", \"orientation\": \"h\", \"showlegend\": true, \"text\": [5.0, 22.0], \"textposition\": \"auto\", \"x\": [5, 22], \"xaxis\": \"x\", \"y\": [\"M\\u00f8re og Romsdal\", \"Tr\\u00f8ndelag\"], \"yaxis\": \"y\", \"type\": \"bar\"}, {\"alignmentgroup\": \"True\", \"hoverlabel\": {\"namelength\": 0}, \"hovertemplate\": \"RHF=Helse Nord<br>Dato=10 Mar<br>Registrerte smittede=%{text}<br>Fylke=%{y}\", \"ids\": [\"Troms og Finnmark\", \"Nordland\"], \"legendgroup\": \"Helse Nord\", \"marker\": {\"color\": \"#EF553B\"}, \"name\": \"Helse Nord\", \"offsetgroup\": \"Helse Nord\", \"orientation\": \"h\", \"showlegend\": true, \"text\": [6.0, 3.0], \"textposition\": \"auto\", \"x\": [6, 3], \"xaxis\": \"x\", \"y\": [\"Troms og Finnmark\", \"Nordland\"], \"yaxis\": \"y\", \"type\": \"bar\"}, {\"alignmentgroup\": \"True\", \"hoverlabel\": {\"namelength\": 0}, \"hovertemplate\": \"RHF=Helse S\\u00f8r-\\u00d8st<br>Dato=10 Mar<br>Registrerte smittede=%{text}<br>Fylke=%{y}\", \"ids\": [\"Viken\", \"Vestfold og Telemark\", \"Innlandet\", \"Agder\", \"Oslo\"], \"legendgroup\": \"Helse S\\u00f8r-\\u00d8st\", \"marker\": {\"color\": \"#00cc96\"}, \"name\": \"Helse S\\u00f8r-\\u00d8st\", \"offsetgroup\": \"Helse S\\u00f8r-\\u00d8st\", \"orientation\": \"h\", \"showlegend\": true, \"text\": [86.0, 5.0, 16.0, 19.0, 51.0], \"textposition\": \"auto\", \"x\": [86, 5, 16, 19, 51], \"xaxis\": \"x\", \"y\": [\"Viken\", \"Vestfold og Telemark\", \"Innlandet\", \"Agder\", \"Oslo\"], \"yaxis\": \"y\", \"type\": \"bar\"}, {\"alignmentgroup\": \"True\", \"hoverlabel\": {\"namelength\": 0}, \"hovertemplate\": \"RHF=Helse Vest<br>Dato=10 Mar<br>Registrerte smittede=%{text}<br>Fylke=%{y}\", \"ids\": [\"Rogaland\", \"Vestland\"], \"legendgroup\": \"Helse Vest\", \"marker\": {\"color\": \"#ab63fa\"}, \"name\": \"Helse Vest\", \"offsetgroup\": \"Helse Vest\", \"orientation\": \"h\", \"showlegend\": true, \"text\": [33.0, 31.0], \"textposition\": \"auto\", \"x\": [33, 31], \"xaxis\": \"x\", \"y\": [\"Rogaland\", \"Vestland\"], \"yaxis\": \"y\", \"type\": \"bar\"}], \"name\": \"10 Mar\"}, {\"data\": [{\"alignmentgroup\": \"True\", \"hoverlabel\": {\"namelength\": 0}, \"hovertemplate\": \"RHF=Helse Midt-Norge<br>Dato=11 Mar<br>Registrerte smittede=%{text}<br>Fylke=%{y}\", \"ids\": [\"Tr\\u00f8ndelag\", \"M\\u00f8re og Romsdal\"], \"legendgroup\": \"Helse Midt-Norge\", \"marker\": {\"color\": \"#636efa\"}, \"name\": \"Helse Midt-Norge\", \"offsetgroup\": \"Helse Midt-Norge\", \"orientation\": \"h\", \"showlegend\": true, \"text\": [25.0, 7.0], \"textposition\": \"auto\", \"x\": [25, 7], \"xaxis\": \"x\", \"y\": [\"Tr\\u00f8ndelag\", \"M\\u00f8re og Romsdal\"], \"yaxis\": \"y\", \"type\": \"bar\"}, {\"alignmentgroup\": \"True\", \"hoverlabel\": {\"namelength\": 0}, \"hovertemplate\": \"RHF=Helse Nord<br>Dato=11 Mar<br>Registrerte smittede=%{text}<br>Fylke=%{y}\", \"ids\": [\"Troms og Finnmark\", \"Nordland\"], \"legendgroup\": \"Helse Nord\", \"marker\": {\"color\": \"#EF553B\"}, \"name\": \"Helse Nord\", \"offsetgroup\": \"Helse Nord\", \"orientation\": \"h\", \"showlegend\": true, \"text\": [7.0, 3.0], \"textposition\": \"auto\", \"x\": [7, 3], \"xaxis\": \"x\", \"y\": [\"Troms og Finnmark\", \"Nordland\"], \"yaxis\": \"y\", \"type\": \"bar\"}, {\"alignmentgroup\": \"True\", \"hoverlabel\": {\"namelength\": 0}, \"hovertemplate\": \"RHF=Helse S\\u00f8r-\\u00d8st<br>Dato=11 Mar<br>Registrerte smittede=%{text}<br>Fylke=%{y}\", \"ids\": [\"Agder\", \"Viken\", \"Innlandet\", \"Vestfold og Telemark\", \"Oslo\"], \"legendgroup\": \"Helse S\\u00f8r-\\u00d8st\", \"marker\": {\"color\": \"#00cc96\"}, \"name\": \"Helse S\\u00f8r-\\u00d8st\", \"offsetgroup\": \"Helse S\\u00f8r-\\u00d8st\", \"orientation\": \"h\", \"showlegend\": true, \"text\": [20.0, 124.0, 23.0, 15.0, 123.0], \"textposition\": \"auto\", \"x\": [20, 124, 23, 15, 123], \"xaxis\": \"x\", \"y\": [\"Agder\", \"Viken\", \"Innlandet\", \"Vestfold og Telemark\", \"Oslo\"], \"yaxis\": \"y\", \"type\": \"bar\"}, {\"alignmentgroup\": \"True\", \"hoverlabel\": {\"namelength\": 0}, \"hovertemplate\": \"RHF=Helse Vest<br>Dato=11 Mar<br>Registrerte smittede=%{text}<br>Fylke=%{y}\", \"ids\": [\"Rogaland\", \"Vestland\"], \"legendgroup\": \"Helse Vest\", \"marker\": {\"color\": \"#ab63fa\"}, \"name\": \"Helse Vest\", \"offsetgroup\": \"Helse Vest\", \"orientation\": \"h\", \"showlegend\": true, \"text\": [71.0, 41.0], \"textposition\": \"auto\", \"x\": [71, 41], \"xaxis\": \"x\", \"y\": [\"Rogaland\", \"Vestland\"], \"yaxis\": \"y\", \"type\": \"bar\"}], \"name\": \"11 Mar\"}, {\"data\": [{\"alignmentgroup\": \"True\", \"hoverlabel\": {\"namelength\": 0}, \"hovertemplate\": \"RHF=Helse Midt-Norge<br>Dato=12 Mar<br>Registrerte smittede=%{text}<br>Fylke=%{y}\", \"ids\": [\"Tr\\u00f8ndelag\", \"M\\u00f8re og Romsdal\"], \"legendgroup\": \"Helse Midt-Norge\", \"marker\": {\"color\": \"#636efa\"}, \"name\": \"Helse Midt-Norge\", \"offsetgroup\": \"Helse Midt-Norge\", \"orientation\": \"h\", \"showlegend\": true, \"text\": [37.0, 6.0], \"textposition\": \"auto\", \"x\": [37, 6], \"xaxis\": \"x\", \"y\": [\"Tr\\u00f8ndelag\", \"M\\u00f8re og Romsdal\"], \"yaxis\": \"y\", \"type\": \"bar\"}, {\"alignmentgroup\": \"True\", \"hoverlabel\": {\"namelength\": 0}, \"hovertemplate\": \"RHF=Helse Nord<br>Dato=12 Mar<br>Registrerte smittede=%{text}<br>Fylke=%{y}\", \"ids\": [\"Nordland\", \"Troms og Finnmark\"], \"legendgroup\": \"Helse Nord\", \"marker\": {\"color\": \"#EF553B\"}, \"name\": \"Helse Nord\", \"offsetgroup\": \"Helse Nord\", \"orientation\": \"h\", \"showlegend\": true, \"text\": [4.0, 11.0], \"textposition\": \"auto\", \"x\": [4, 11], \"xaxis\": \"x\", \"y\": [\"Nordland\", \"Troms og Finnmark\"], \"yaxis\": \"y\", \"type\": \"bar\"}, {\"alignmentgroup\": \"True\", \"hoverlabel\": {\"namelength\": 0}, \"hovertemplate\": \"RHF=Helse S\\u00f8r-\\u00d8st<br>Dato=12 Mar<br>Registrerte smittede=%{text}<br>Fylke=%{y}\", \"ids\": [\"Vestfold og Telemark\", \"Agder\", \"Viken\", \"Innlandet\", \"Oslo\"], \"legendgroup\": \"Helse S\\u00f8r-\\u00d8st\", \"marker\": {\"color\": \"#00cc96\"}, \"name\": \"Helse S\\u00f8r-\\u00d8st\", \"offsetgroup\": \"Helse S\\u00f8r-\\u00d8st\", \"orientation\": \"h\", \"showlegend\": true, \"text\": [22.0, 32.0, 154.0, 40.0, 166.0], \"textposition\": \"auto\", \"x\": [22, 32, 154, 40, 166], \"xaxis\": \"x\", \"y\": [\"Vestfold og Telemark\", \"Agder\", \"Viken\", \"Innlandet\", \"Oslo\"], \"yaxis\": \"y\", \"type\": \"bar\"}, {\"alignmentgroup\": \"True\", \"hoverlabel\": {\"namelength\": 0}, \"hovertemplate\": \"RHF=Helse Vest<br>Dato=12 Mar<br>Registrerte smittede=%{text}<br>Fylke=%{y}\", \"ids\": [\"Rogaland\", \"Vestland\"], \"legendgroup\": \"Helse Vest\", \"marker\": {\"color\": \"#ab63fa\"}, \"name\": \"Helse Vest\", \"offsetgroup\": \"Helse Vest\", \"orientation\": \"h\", \"showlegend\": true, \"text\": [82.0, 67.0], \"textposition\": \"auto\", \"x\": [82, 67], \"xaxis\": \"x\", \"y\": [\"Rogaland\", \"Vestland\"], \"yaxis\": \"y\", \"type\": \"bar\"}], \"name\": \"12 Mar\"}, {\"data\": [{\"alignmentgroup\": \"True\", \"hoverlabel\": {\"namelength\": 0}, \"hovertemplate\": \"RHF=Helse Midt-Norge<br>Dato=13 Mar<br>Registrerte smittede=%{text}<br>Fylke=%{y}\", \"ids\": [\"Tr\\u00f8ndelag\", \"M\\u00f8re og Romsdal\"], \"legendgroup\": \"Helse Midt-Norge\", \"marker\": {\"color\": \"#636efa\"}, \"name\": \"Helse Midt-Norge\", \"offsetgroup\": \"Helse Midt-Norge\", \"orientation\": \"h\", \"showlegend\": true, \"text\": [43.0, 7.0], \"textposition\": \"auto\", \"x\": [43, 7], \"xaxis\": \"x\", \"y\": [\"Tr\\u00f8ndelag\", \"M\\u00f8re og Romsdal\"], \"yaxis\": \"y\", \"type\": \"bar\"}, {\"alignmentgroup\": \"True\", \"hoverlabel\": {\"namelength\": 0}, \"hovertemplate\": \"RHF=Helse Nord<br>Dato=13 Mar<br>Registrerte smittede=%{text}<br>Fylke=%{y}\", \"ids\": [\"Troms og Finnmark\", \"Nordland\"], \"legendgroup\": \"Helse Nord\", \"marker\": {\"color\": \"#EF553B\"}, \"name\": \"Helse Nord\", \"offsetgroup\": \"Helse Nord\", \"orientation\": \"h\", \"showlegend\": true, \"text\": [12.0, 5.0], \"textposition\": \"auto\", \"x\": [12, 5], \"xaxis\": \"x\", \"y\": [\"Troms og Finnmark\", \"Nordland\"], \"yaxis\": \"y\", \"type\": \"bar\"}, {\"alignmentgroup\": \"True\", \"hoverlabel\": {\"namelength\": 0}, \"hovertemplate\": \"RHF=Helse S\\u00f8r-\\u00d8st<br>Dato=13 Mar<br>Registrerte smittede=%{text}<br>Fylke=%{y}\", \"ids\": [\"Viken\", \"Vestfold og Telemark\", \"Oslo\", \"Innlandet\", \"Agder\"], \"legendgroup\": \"Helse S\\u00f8r-\\u00d8st\", \"marker\": {\"color\": \"#00cc96\"}, \"name\": \"Helse S\\u00f8r-\\u00d8st\", \"offsetgroup\": \"Helse S\\u00f8r-\\u00d8st\", \"orientation\": \"h\", \"showlegend\": true, \"text\": [180.0, 30.0, 207.0, 49.0, 34.0], \"textposition\": \"auto\", \"x\": [180, 30, 207, 49, 34], \"xaxis\": \"x\", \"y\": [\"Viken\", \"Vestfold og Telemark\", \"Oslo\", \"Innlandet\", \"Agder\"], \"yaxis\": \"y\", \"type\": \"bar\"}, {\"alignmentgroup\": \"True\", \"hoverlabel\": {\"namelength\": 0}, \"hovertemplate\": \"RHF=Helse Vest<br>Dato=13 Mar<br>Registrerte smittede=%{text}<br>Fylke=%{y}\", \"ids\": [\"Vestland\", \"Rogaland\"], \"legendgroup\": \"Helse Vest\", \"marker\": {\"color\": \"#ab63fa\"}, \"name\": \"Helse Vest\", \"offsetgroup\": \"Helse Vest\", \"orientation\": \"h\", \"showlegend\": true, \"text\": [78.0, 105.0], \"textposition\": \"auto\", \"x\": [78, 105], \"xaxis\": \"x\", \"y\": [\"Vestland\", \"Rogaland\"], \"yaxis\": \"y\", \"type\": \"bar\"}], \"name\": \"13 Mar\"}, {\"data\": [{\"alignmentgroup\": \"True\", \"hoverlabel\": {\"namelength\": 0}, \"hovertemplate\": \"RHF=Helse Midt-Norge<br>Dato=14 Mar<br>Registrerte smittede=%{text}<br>Fylke=%{y}\", \"ids\": [\"Tr\\u00f8ndelag\", \"M\\u00f8re og Romsdal\"], \"legendgroup\": \"Helse Midt-Norge\", \"marker\": {\"color\": \"#636efa\"}, \"name\": \"Helse Midt-Norge\", \"offsetgroup\": \"Helse Midt-Norge\", \"orientation\": \"h\", \"showlegend\": true, \"text\": [46.0, 16.0], \"textposition\": \"auto\", \"x\": [46, 16], \"xaxis\": \"x\", \"y\": [\"Tr\\u00f8ndelag\", \"M\\u00f8re og Romsdal\"], \"yaxis\": \"y\", \"type\": \"bar\"}, {\"alignmentgroup\": \"True\", \"hoverlabel\": {\"namelength\": 0}, \"hovertemplate\": \"RHF=Helse Nord<br>Dato=14 Mar<br>Registrerte smittede=%{text}<br>Fylke=%{y}\", \"ids\": [\"Troms og Finnmark\", \"Nordland\"], \"legendgroup\": \"Helse Nord\", \"marker\": {\"color\": \"#EF553B\"}, \"name\": \"Helse Nord\", \"offsetgroup\": \"Helse Nord\", \"orientation\": \"h\", \"showlegend\": true, \"text\": [16.0, 8.0], \"textposition\": \"auto\", \"x\": [16, 8], \"xaxis\": \"x\", \"y\": [\"Troms og Finnmark\", \"Nordland\"], \"yaxis\": \"y\", \"type\": \"bar\"}, {\"alignmentgroup\": \"True\", \"hoverlabel\": {\"namelength\": 0}, \"hovertemplate\": \"RHF=Helse S\\u00f8r-\\u00d8st<br>Dato=14 Mar<br>Registrerte smittede=%{text}<br>Fylke=%{y}\", \"ids\": [\"Oslo\", \"Agder\", \"Viken\", \"Vestfold og Telemark\", \"Innlandet\"], \"legendgroup\": \"Helse S\\u00f8r-\\u00d8st\", \"marker\": {\"color\": \"#00cc96\"}, \"name\": \"Helse S\\u00f8r-\\u00d8st\", \"offsetgroup\": \"Helse S\\u00f8r-\\u00d8st\", \"orientation\": \"h\", \"showlegend\": true, \"text\": [222.0, 52.0, 231.0, 39.0, 57.0], \"textposition\": \"auto\", \"x\": [222, 52, 231, 39, 57], \"xaxis\": \"x\", \"y\": [\"Oslo\", \"Agder\", \"Viken\", \"Vestfold og Telemark\", \"Innlandet\"], \"yaxis\": \"y\", \"type\": \"bar\"}, {\"alignmentgroup\": \"True\", \"hoverlabel\": {\"namelength\": 0}, \"hovertemplate\": \"RHF=Helse Vest<br>Dato=14 Mar<br>Registrerte smittede=%{text}<br>Fylke=%{y}\", \"ids\": [\"Vestland\", \"Rogaland\"], \"legendgroup\": \"Helse Vest\", \"marker\": {\"color\": \"#ab63fa\"}, \"name\": \"Helse Vest\", \"offsetgroup\": \"Helse Vest\", \"orientation\": \"h\", \"showlegend\": true, \"text\": [101.0, 119.0], \"textposition\": \"auto\", \"x\": [101, 119], \"xaxis\": \"x\", \"y\": [\"Vestland\", \"Rogaland\"], \"yaxis\": \"y\", \"type\": \"bar\"}], \"name\": \"14 Mar\"}, {\"data\": [{\"alignmentgroup\": \"True\", \"hoverlabel\": {\"namelength\": 0}, \"hovertemplate\": \"RHF=Helse Midt-Norge<br>Dato=15 Mar<br>Registrerte smittede=%{text}<br>Fylke=%{y}\", \"ids\": [\"Tr\\u00f8ndelag\", \"M\\u00f8re og Romsdal\"], \"legendgroup\": \"Helse Midt-Norge\", \"marker\": {\"color\": \"#636efa\"}, \"name\": \"Helse Midt-Norge\", \"offsetgroup\": \"Helse Midt-Norge\", \"orientation\": \"h\", \"showlegend\": true, \"text\": [50.0, 20.0], \"textposition\": \"auto\", \"x\": [50, 20], \"xaxis\": \"x\", \"y\": [\"Tr\\u00f8ndelag\", \"M\\u00f8re og Romsdal\"], \"yaxis\": \"y\", \"type\": \"bar\"}, {\"alignmentgroup\": \"True\", \"hoverlabel\": {\"namelength\": 0}, \"hovertemplate\": \"RHF=Helse Nord<br>Dato=15 Mar<br>Registrerte smittede=%{text}<br>Fylke=%{y}\", \"ids\": [\"Troms og Finnmark\", \"Nordland\"], \"legendgroup\": \"Helse Nord\", \"marker\": {\"color\": \"#EF553B\"}, \"name\": \"Helse Nord\", \"offsetgroup\": \"Helse Nord\", \"orientation\": \"h\", \"showlegend\": true, \"text\": [20.0, 8.0], \"textposition\": \"auto\", \"x\": [20, 8], \"xaxis\": \"x\", \"y\": [\"Troms og Finnmark\", \"Nordland\"], \"yaxis\": \"y\", \"type\": \"bar\"}, {\"alignmentgroup\": \"True\", \"hoverlabel\": {\"namelength\": 0}, \"hovertemplate\": \"RHF=Helse S\\u00f8r-\\u00d8st<br>Dato=15 Mar<br>Registrerte smittede=%{text}<br>Fylke=%{y}\", \"ids\": [\"Oslo\", \"Innlandet\", \"Agder\", \"Viken\", \"Vestfold og Telemark\"], \"legendgroup\": \"Helse S\\u00f8r-\\u00d8st\", \"marker\": {\"color\": \"#00cc96\"}, \"name\": \"Helse S\\u00f8r-\\u00d8st\", \"offsetgroup\": \"Helse S\\u00f8r-\\u00d8st\", \"orientation\": \"h\", \"showlegend\": true, \"text\": [281.0, 72.0, 55.0, 278.0, 48.0], \"textposition\": \"auto\", \"x\": [281, 72, 55, 278, 48], \"xaxis\": \"x\", \"y\": [\"Oslo\", \"Innlandet\", \"Agder\", \"Viken\", \"Vestfold og Telemark\"], \"yaxis\": \"y\", \"type\": \"bar\"}, {\"alignmentgroup\": \"True\", \"hoverlabel\": {\"namelength\": 0}, \"hovertemplate\": \"RHF=Helse Vest<br>Dato=15 Mar<br>Registrerte smittede=%{text}<br>Fylke=%{y}\", \"ids\": [\"Rogaland\", \"Vestland\"], \"legendgroup\": \"Helse Vest\", \"marker\": {\"color\": \"#ab63fa\"}, \"name\": \"Helse Vest\", \"offsetgroup\": \"Helse Vest\", \"orientation\": \"h\", \"showlegend\": true, \"text\": [127.0, 118.0], \"textposition\": \"auto\", \"x\": [127, 118], \"xaxis\": \"x\", \"y\": [\"Rogaland\", \"Vestland\"], \"yaxis\": \"y\", \"type\": \"bar\"}], \"name\": \"15 Mar\"}, {\"data\": [{\"alignmentgroup\": \"True\", \"hoverlabel\": {\"namelength\": 0}, \"hovertemplate\": \"RHF=Helse Midt-Norge<br>Dato=16 Mar<br>Registrerte smittede=%{text}<br>Fylke=%{y}\", \"ids\": [\"Tr\\u00f8ndelag\", \"M\\u00f8re og Romsdal\"], \"legendgroup\": \"Helse Midt-Norge\", \"marker\": {\"color\": \"#636efa\"}, \"name\": \"Helse Midt-Norge\", \"offsetgroup\": \"Helse Midt-Norge\", \"orientation\": \"h\", \"showlegend\": true, \"text\": [52.0, 20.0], \"textposition\": \"auto\", \"x\": [52, 20], \"xaxis\": \"x\", \"y\": [\"Tr\\u00f8ndelag\", \"M\\u00f8re og Romsdal\"], \"yaxis\": \"y\", \"type\": \"bar\"}, {\"alignmentgroup\": \"True\", \"hoverlabel\": {\"namelength\": 0}, \"hovertemplate\": \"RHF=Helse Nord<br>Dato=16 Mar<br>Registrerte smittede=%{text}<br>Fylke=%{y}\", \"ids\": [\"Nordland\", \"Troms og Finnmark\"], \"legendgroup\": \"Helse Nord\", \"marker\": {\"color\": \"#EF553B\"}, \"name\": \"Helse Nord\", \"offsetgroup\": \"Helse Nord\", \"orientation\": \"h\", \"showlegend\": true, \"text\": [11.0, 21.0], \"textposition\": \"auto\", \"x\": [11, 21], \"xaxis\": \"x\", \"y\": [\"Nordland\", \"Troms og Finnmark\"], \"yaxis\": \"y\", \"type\": \"bar\"}, {\"alignmentgroup\": \"True\", \"hoverlabel\": {\"namelength\": 0}, \"hovertemplate\": \"RHF=Helse S\\u00f8r-\\u00d8st<br>Dato=16 Mar<br>Registrerte smittede=%{text}<br>Fylke=%{y}\", \"ids\": [\"Vestfold og Telemark\", \"Innlandet\", \"Agder\", \"Viken\", \"Oslo\"], \"legendgroup\": \"Helse S\\u00f8r-\\u00d8st\", \"marker\": {\"color\": \"#00cc96\"}, \"name\": \"Helse S\\u00f8r-\\u00d8st\", \"offsetgroup\": \"Helse S\\u00f8r-\\u00d8st\", \"orientation\": \"h\", \"showlegend\": true, \"text\": [53.0, 81.0, 67.0, 314.0, 292.0], \"textposition\": \"auto\", \"x\": [53, 81, 67, 314, 292], \"xaxis\": \"x\", \"y\": [\"Vestfold og Telemark\", \"Innlandet\", \"Agder\", \"Viken\", \"Oslo\"], \"yaxis\": \"y\", \"type\": \"bar\"}, {\"alignmentgroup\": \"True\", \"hoverlabel\": {\"namelength\": 0}, \"hovertemplate\": \"RHF=Helse Vest<br>Dato=16 Mar<br>Registrerte smittede=%{text}<br>Fylke=%{y}\", \"ids\": [\"Vestland\", \"Rogaland\"], \"legendgroup\": \"Helse Vest\", \"marker\": {\"color\": \"#ab63fa\"}, \"name\": \"Helse Vest\", \"offsetgroup\": \"Helse Vest\", \"orientation\": \"h\", \"showlegend\": true, \"text\": [127.0, 131.0], \"textposition\": \"auto\", \"x\": [127, 131], \"xaxis\": \"x\", \"y\": [\"Vestland\", \"Rogaland\"], \"yaxis\": \"y\", \"type\": \"bar\"}], \"name\": \"16 Mar\"}, {\"data\": [{\"alignmentgroup\": \"True\", \"hoverlabel\": {\"namelength\": 0}, \"hovertemplate\": \"RHF=Helse Midt-Norge<br>Dato=17 Mar<br>Registrerte smittede=%{text}<br>Fylke=%{y}\", \"ids\": [\"Tr\\u00f8ndelag\", \"M\\u00f8re og Romsdal\"], \"legendgroup\": \"Helse Midt-Norge\", \"marker\": {\"color\": \"#636efa\"}, \"name\": \"Helse Midt-Norge\", \"offsetgroup\": \"Helse Midt-Norge\", \"orientation\": \"h\", \"showlegend\": true, \"text\": [61.0, 20.0], \"textposition\": \"auto\", \"x\": [61, 20], \"xaxis\": \"x\", \"y\": [\"Tr\\u00f8ndelag\", \"M\\u00f8re og Romsdal\"], \"yaxis\": \"y\", \"type\": \"bar\"}, {\"alignmentgroup\": \"True\", \"hoverlabel\": {\"namelength\": 0}, \"hovertemplate\": \"RHF=Helse Nord<br>Dato=17 Mar<br>Registrerte smittede=%{text}<br>Fylke=%{y}\", \"ids\": [\"Troms og Finnmark\", \"Nordland\"], \"legendgroup\": \"Helse Nord\", \"marker\": {\"color\": \"#EF553B\"}, \"name\": \"Helse Nord\", \"offsetgroup\": \"Helse Nord\", \"orientation\": \"h\", \"showlegend\": true, \"text\": [24.0, 11.0], \"textposition\": \"auto\", \"x\": [24, 11], \"xaxis\": \"x\", \"y\": [\"Troms og Finnmark\", \"Nordland\"], \"yaxis\": \"y\", \"type\": \"bar\"}, {\"alignmentgroup\": \"True\", \"hoverlabel\": {\"namelength\": 0}, \"hovertemplate\": \"RHF=Helse S\\u00f8r-\\u00d8st<br>Dato=17 Mar<br>Registrerte smittede=%{text}<br>Fylke=%{y}\", \"ids\": [\"Viken\", \"Vestfold og Telemark\", \"Agder\", \"Oslo\", \"Innlandet\"], \"legendgroup\": \"Helse S\\u00f8r-\\u00d8st\", \"marker\": {\"color\": \"#00cc96\"}, \"name\": \"Helse S\\u00f8r-\\u00d8st\", \"offsetgroup\": \"Helse S\\u00f8r-\\u00d8st\", \"orientation\": \"h\", \"showlegend\": true, \"text\": [358.0, 59.0, 67.0, 329.0, 88.0], \"textposition\": \"auto\", \"x\": [358, 59, 67, 329, 88], \"xaxis\": \"x\", \"y\": [\"Viken\", \"Vestfold og Telemark\", \"Agder\", \"Oslo\", \"Innlandet\"], \"yaxis\": \"y\", \"type\": \"bar\"}, {\"alignmentgroup\": \"True\", \"hoverlabel\": {\"namelength\": 0}, \"hovertemplate\": \"RHF=Helse Vest<br>Dato=17 Mar<br>Registrerte smittede=%{text}<br>Fylke=%{y}\", \"ids\": [\"Rogaland\", \"Vestland\"], \"legendgroup\": \"Helse Vest\", \"marker\": {\"color\": \"#ab63fa\"}, \"name\": \"Helse Vest\", \"offsetgroup\": \"Helse Vest\", \"orientation\": \"h\", \"showlegend\": true, \"text\": [150.0, 141.0], \"textposition\": \"auto\", \"x\": [150, 141], \"xaxis\": \"x\", \"y\": [\"Rogaland\", \"Vestland\"], \"yaxis\": \"y\", \"type\": \"bar\"}], \"name\": \"17 Mar\"}, {\"data\": [{\"alignmentgroup\": \"True\", \"hoverlabel\": {\"namelength\": 0}, \"hovertemplate\": \"RHF=Helse Midt-Norge<br>Dato=18 Mar<br>Registrerte smittede=%{text}<br>Fylke=%{y}\", \"ids\": [\"Tr\\u00f8ndelag\", \"M\\u00f8re og Romsdal\"], \"legendgroup\": \"Helse Midt-Norge\", \"marker\": {\"color\": \"#636efa\"}, \"name\": \"Helse Midt-Norge\", \"offsetgroup\": \"Helse Midt-Norge\", \"orientation\": \"h\", \"showlegend\": true, \"text\": [70.0, 20.0], \"textposition\": \"auto\", \"x\": [70, 20], \"xaxis\": \"x\", \"y\": [\"Tr\\u00f8ndelag\", \"M\\u00f8re og Romsdal\"], \"yaxis\": \"y\", \"type\": \"bar\"}, {\"alignmentgroup\": \"True\", \"hoverlabel\": {\"namelength\": 0}, \"hovertemplate\": \"RHF=Helse Nord<br>Dato=18 Mar<br>Registrerte smittede=%{text}<br>Fylke=%{y}\", \"ids\": [\"Troms og Finnmark\", \"Nordland\"], \"legendgroup\": \"Helse Nord\", \"marker\": {\"color\": \"#EF553B\"}, \"name\": \"Helse Nord\", \"offsetgroup\": \"Helse Nord\", \"orientation\": \"h\", \"showlegend\": true, \"text\": [28.0, 12.0], \"textposition\": \"auto\", \"x\": [28, 12], \"xaxis\": \"x\", \"y\": [\"Troms og Finnmark\", \"Nordland\"], \"yaxis\": \"y\", \"type\": \"bar\"}, {\"alignmentgroup\": \"True\", \"hoverlabel\": {\"namelength\": 0}, \"hovertemplate\": \"RHF=Helse S\\u00f8r-\\u00d8st<br>Dato=18 Mar<br>Registrerte smittede=%{text}<br>Fylke=%{y}\", \"ids\": [\"Viken\", \"Oslo\", \"Innlandet\", \"Agder\", \"Vestfold og Telemark\"], \"legendgroup\": \"Helse S\\u00f8r-\\u00d8st\", \"marker\": {\"color\": \"#00cc96\"}, \"name\": \"Helse S\\u00f8r-\\u00d8st\", \"offsetgroup\": \"Helse S\\u00f8r-\\u00d8st\", \"orientation\": \"h\", \"showlegend\": true, \"text\": [410.0, 348.0, 97.0, 67.0, 63.0], \"textposition\": \"auto\", \"x\": [410, 348, 97, 67, 63], \"xaxis\": \"x\", \"y\": [\"Viken\", \"Oslo\", \"Innlandet\", \"Agder\", \"Vestfold og Telemark\"], \"yaxis\": \"y\", \"type\": \"bar\"}, {\"alignmentgroup\": \"True\", \"hoverlabel\": {\"namelength\": 0}, \"hovertemplate\": \"RHF=Helse Vest<br>Dato=18 Mar<br>Registrerte smittede=%{text}<br>Fylke=%{y}\", \"ids\": [\"Vestland\", \"Rogaland\"], \"legendgroup\": \"Helse Vest\", \"marker\": {\"color\": \"#ab63fa\"}, \"name\": \"Helse Vest\", \"offsetgroup\": \"Helse Vest\", \"orientation\": \"h\", \"showlegend\": true, \"text\": [147.0, 161.0], \"textposition\": \"auto\", \"x\": [147, 161], \"xaxis\": \"x\", \"y\": [\"Vestland\", \"Rogaland\"], \"yaxis\": \"y\", \"type\": \"bar\"}], \"name\": \"18 Mar\"}, {\"data\": [{\"alignmentgroup\": \"True\", \"hoverlabel\": {\"namelength\": 0}, \"hovertemplate\": \"RHF=Helse Midt-Norge<br>Dato=19 Mar<br>Registrerte smittede=%{text}<br>Fylke=%{y}\", \"ids\": [\"M\\u00f8re og Romsdal\", \"Tr\\u00f8ndelag\"], \"legendgroup\": \"Helse Midt-Norge\", \"marker\": {\"color\": \"#636efa\"}, \"name\": \"Helse Midt-Norge\", \"offsetgroup\": \"Helse Midt-Norge\", \"orientation\": \"h\", \"showlegend\": true, \"text\": [25.0, 75.0], \"textposition\": \"auto\", \"x\": [25, 75], \"xaxis\": \"x\", \"y\": [\"M\\u00f8re og Romsdal\", \"Tr\\u00f8ndelag\"], \"yaxis\": \"y\", \"type\": \"bar\"}, {\"alignmentgroup\": \"True\", \"hoverlabel\": {\"namelength\": 0}, \"hovertemplate\": \"RHF=Helse Nord<br>Dato=19 Mar<br>Registrerte smittede=%{text}<br>Fylke=%{y}\", \"ids\": [\"Nordland\", \"Troms og Finnmark\"], \"legendgroup\": \"Helse Nord\", \"marker\": {\"color\": \"#EF553B\"}, \"name\": \"Helse Nord\", \"offsetgroup\": \"Helse Nord\", \"orientation\": \"h\", \"showlegend\": true, \"text\": [13.0, 28.0], \"textposition\": \"auto\", \"x\": [13, 28], \"xaxis\": \"x\", \"y\": [\"Nordland\", \"Troms og Finnmark\"], \"yaxis\": \"y\", \"type\": \"bar\"}, {\"alignmentgroup\": \"True\", \"hoverlabel\": {\"namelength\": 0}, \"hovertemplate\": \"RHF=Helse S\\u00f8r-\\u00d8st<br>Dato=19 Mar<br>Registrerte smittede=%{text}<br>Fylke=%{y}\", \"ids\": [\"Innlandet\", \"Agder\", \"Viken\", \"Vestfold og Telemark\", \"Oslo\"], \"legendgroup\": \"Helse S\\u00f8r-\\u00d8st\", \"marker\": {\"color\": \"#00cc96\"}, \"name\": \"Helse S\\u00f8r-\\u00d8st\", \"offsetgroup\": \"Helse S\\u00f8r-\\u00d8st\", \"orientation\": \"h\", \"showlegend\": true, \"text\": [105.0, 75.0, 445.0, 65.0, 392.0], \"textposition\": \"auto\", \"x\": [105, 75, 445, 65, 392], \"xaxis\": \"x\", \"y\": [\"Innlandet\", \"Agder\", \"Viken\", \"Vestfold og Telemark\", \"Oslo\"], \"yaxis\": \"y\", \"type\": \"bar\"}, {\"alignmentgroup\": \"True\", \"hoverlabel\": {\"namelength\": 0}, \"hovertemplate\": \"RHF=Helse Vest<br>Dato=19 Mar<br>Registrerte smittede=%{text}<br>Fylke=%{y}\", \"ids\": [\"Vestland\", \"Rogaland\"], \"legendgroup\": \"Helse Vest\", \"marker\": {\"color\": \"#ab63fa\"}, \"name\": \"Helse Vest\", \"offsetgroup\": \"Helse Vest\", \"orientation\": \"h\", \"showlegend\": true, \"text\": [153.0, 176.0], \"textposition\": \"auto\", \"x\": [153, 176], \"xaxis\": \"x\", \"y\": [\"Vestland\", \"Rogaland\"], \"yaxis\": \"y\", \"type\": \"bar\"}], \"name\": \"19 Mar\"}, {\"data\": [{\"alignmentgroup\": \"True\", \"hoverlabel\": {\"namelength\": 0}, \"hovertemplate\": \"RHF=Helse Midt-Norge<br>Dato=20 Mar<br>Registrerte smittede=%{text}<br>Fylke=%{y}\", \"ids\": [\"Tr\\u00f8ndelag\", \"M\\u00f8re og Romsdal\"], \"legendgroup\": \"Helse Midt-Norge\", \"marker\": {\"color\": \"#636efa\"}, \"name\": \"Helse Midt-Norge\", \"offsetgroup\": \"Helse Midt-Norge\", \"orientation\": \"h\", \"showlegend\": true, \"text\": [97.0, 29.0], \"textposition\": \"auto\", \"x\": [97, 29], \"xaxis\": \"x\", \"y\": [\"Tr\\u00f8ndelag\", \"M\\u00f8re og Romsdal\"], \"yaxis\": \"y\", \"type\": \"bar\"}, {\"alignmentgroup\": \"True\", \"hoverlabel\": {\"namelength\": 0}, \"hovertemplate\": \"RHF=Helse Nord<br>Dato=20 Mar<br>Registrerte smittede=%{text}<br>Fylke=%{y}\", \"ids\": [\"Nordland\", \"Troms og Finnmark\"], \"legendgroup\": \"Helse Nord\", \"marker\": {\"color\": \"#EF553B\"}, \"name\": \"Helse Nord\", \"offsetgroup\": \"Helse Nord\", \"orientation\": \"h\", \"showlegend\": true, \"text\": [17.0, 32.0], \"textposition\": \"auto\", \"x\": [17, 32], \"xaxis\": \"x\", \"y\": [\"Nordland\", \"Troms og Finnmark\"], \"yaxis\": \"y\", \"type\": \"bar\"}, {\"alignmentgroup\": \"True\", \"hoverlabel\": {\"namelength\": 0}, \"hovertemplate\": \"RHF=Helse S\\u00f8r-\\u00d8st<br>Dato=20 Mar<br>Registrerte smittede=%{text}<br>Fylke=%{y}\", \"ids\": [\"Agder\", \"Innlandet\", \"Oslo\", \"Viken\", \"Vestfold og Telemark\"], \"legendgroup\": \"Helse S\\u00f8r-\\u00d8st\", \"marker\": {\"color\": \"#00cc96\"}, \"name\": \"Helse S\\u00f8r-\\u00d8st\", \"offsetgroup\": \"Helse S\\u00f8r-\\u00d8st\", \"orientation\": \"h\", \"showlegend\": true, \"text\": [79.0, 115.0, 419.0, 529.0, 72.0], \"textposition\": \"auto\", \"x\": [79, 115, 419, 529, 72], \"xaxis\": \"x\", \"y\": [\"Agder\", \"Innlandet\", \"Oslo\", \"Viken\", \"Vestfold og Telemark\"], \"yaxis\": \"y\", \"type\": \"bar\"}, {\"alignmentgroup\": \"True\", \"hoverlabel\": {\"namelength\": 0}, \"hovertemplate\": \"RHF=Helse Vest<br>Dato=20 Mar<br>Registrerte smittede=%{text}<br>Fylke=%{y}\", \"ids\": [\"Vestland\", \"Rogaland\"], \"legendgroup\": \"Helse Vest\", \"marker\": {\"color\": \"#ab63fa\"}, \"name\": \"Helse Vest\", \"offsetgroup\": \"Helse Vest\", \"orientation\": \"h\", \"showlegend\": true, \"text\": [173.0, 180.0], \"textposition\": \"auto\", \"x\": [173, 180], \"xaxis\": \"x\", \"y\": [\"Vestland\", \"Rogaland\"], \"yaxis\": \"y\", \"type\": \"bar\"}], \"name\": \"20 Mar\"}, {\"data\": [{\"alignmentgroup\": \"True\", \"hoverlabel\": {\"namelength\": 0}, \"hovertemplate\": \"RHF=Helse Midt-Norge<br>Dato=21 Mar<br>Registrerte smittede=%{text}<br>Fylke=%{y}\", \"ids\": [\"Tr\\u00f8ndelag\", \"M\\u00f8re og Romsdal\"], \"legendgroup\": \"Helse Midt-Norge\", \"marker\": {\"color\": \"#636efa\"}, \"name\": \"Helse Midt-Norge\", \"offsetgroup\": \"Helse Midt-Norge\", \"orientation\": \"h\", \"showlegend\": true, \"text\": [122.0, 32.0], \"textposition\": \"auto\", \"x\": [122, 32], \"xaxis\": \"x\", \"y\": [\"Tr\\u00f8ndelag\", \"M\\u00f8re og Romsdal\"], \"yaxis\": \"y\", \"type\": \"bar\"}, {\"alignmentgroup\": \"True\", \"hoverlabel\": {\"namelength\": 0}, \"hovertemplate\": \"RHF=Helse Nord<br>Dato=21 Mar<br>Registrerte smittede=%{text}<br>Fylke=%{y}\", \"ids\": [\"Nordland\", \"Troms og Finnmark\"], \"legendgroup\": \"Helse Nord\", \"marker\": {\"color\": \"#EF553B\"}, \"name\": \"Helse Nord\", \"offsetgroup\": \"Helse Nord\", \"orientation\": \"h\", \"showlegend\": true, \"text\": [17.0, 37.0], \"textposition\": \"auto\", \"x\": [17, 37], \"xaxis\": \"x\", \"y\": [\"Nordland\", \"Troms og Finnmark\"], \"yaxis\": \"y\", \"type\": \"bar\"}, {\"alignmentgroup\": \"True\", \"hoverlabel\": {\"namelength\": 0}, \"hovertemplate\": \"RHF=Helse S\\u00f8r-\\u00d8st<br>Dato=21 Mar<br>Registrerte smittede=%{text}<br>Fylke=%{y}\", \"ids\": [\"Vestfold og Telemark\", \"Innlandet\", \"Oslo\", \"Viken\", \"Agder\"], \"legendgroup\": \"Helse S\\u00f8r-\\u00d8st\", \"marker\": {\"color\": \"#00cc96\"}, \"name\": \"Helse S\\u00f8r-\\u00d8st\", \"offsetgroup\": \"Helse S\\u00f8r-\\u00d8st\", \"orientation\": \"h\", \"showlegend\": true, \"text\": [81.0, 125.0, 448.0, 583.0, 82.0], \"textposition\": \"auto\", \"x\": [81, 125, 448, 583, 82], \"xaxis\": \"x\", \"y\": [\"Vestfold og Telemark\", \"Innlandet\", \"Oslo\", \"Viken\", \"Agder\"], \"yaxis\": \"y\", \"type\": \"bar\"}, {\"alignmentgroup\": \"True\", \"hoverlabel\": {\"namelength\": 0}, \"hovertemplate\": \"RHF=Helse Vest<br>Dato=21 Mar<br>Registrerte smittede=%{text}<br>Fylke=%{y}\", \"ids\": [\"Rogaland\", \"Vestland\"], \"legendgroup\": \"Helse Vest\", \"marker\": {\"color\": \"#ab63fa\"}, \"name\": \"Helse Vest\", \"offsetgroup\": \"Helse Vest\", \"orientation\": \"h\", \"showlegend\": true, \"text\": [199.0, 200.0], \"textposition\": \"auto\", \"x\": [199, 200], \"xaxis\": \"x\", \"y\": [\"Rogaland\", \"Vestland\"], \"yaxis\": \"y\", \"type\": \"bar\"}], \"name\": \"21 Mar\"}, {\"data\": [{\"alignmentgroup\": \"True\", \"hoverlabel\": {\"namelength\": 0}, \"hovertemplate\": \"RHF=Helse Midt-Norge<br>Dato=22 Mar<br>Registrerte smittede=%{text}<br>Fylke=%{y}\", \"ids\": [\"M\\u00f8re og Romsdal\", \"Tr\\u00f8ndelag\"], \"legendgroup\": \"Helse Midt-Norge\", \"marker\": {\"color\": \"#636efa\"}, \"name\": \"Helse Midt-Norge\", \"offsetgroup\": \"Helse Midt-Norge\", \"orientation\": \"h\", \"showlegend\": true, \"text\": [38.0, 131.0], \"textposition\": \"auto\", \"x\": [38, 131], \"xaxis\": \"x\", \"y\": [\"M\\u00f8re og Romsdal\", \"Tr\\u00f8ndelag\"], \"yaxis\": \"y\", \"type\": \"bar\"}, {\"alignmentgroup\": \"True\", \"hoverlabel\": {\"namelength\": 0}, \"hovertemplate\": \"RHF=Helse Nord<br>Dato=22 Mar<br>Registrerte smittede=%{text}<br>Fylke=%{y}\", \"ids\": [\"Troms og Finnmark\", \"Nordland\"], \"legendgroup\": \"Helse Nord\", \"marker\": {\"color\": \"#EF553B\"}, \"name\": \"Helse Nord\", \"offsetgroup\": \"Helse Nord\", \"orientation\": \"h\", \"showlegend\": true, \"text\": [49.0, 18.0], \"textposition\": \"auto\", \"x\": [49, 18], \"xaxis\": \"x\", \"y\": [\"Troms og Finnmark\", \"Nordland\"], \"yaxis\": \"y\", \"type\": \"bar\"}, {\"alignmentgroup\": \"True\", \"hoverlabel\": {\"namelength\": 0}, \"hovertemplate\": \"RHF=Helse S\\u00f8r-\\u00d8st<br>Dato=22 Mar<br>Registrerte smittede=%{text}<br>Fylke=%{y}\", \"ids\": [\"Viken\", \"Agder\", \"Oslo\", \"Vestfold og Telemark\", \"Innlandet\"], \"legendgroup\": \"Helse S\\u00f8r-\\u00d8st\", \"marker\": {\"color\": \"#00cc96\"}, \"name\": \"Helse S\\u00f8r-\\u00d8st\", \"offsetgroup\": \"Helse S\\u00f8r-\\u00d8st\", \"orientation\": \"h\", \"showlegend\": true, \"text\": [615.0, 91.0, 523.0, 85.0, 148.0], \"textposition\": \"auto\", \"x\": [615, 91, 523, 85, 148], \"xaxis\": \"x\", \"y\": [\"Viken\", \"Agder\", \"Oslo\", \"Vestfold og Telemark\", \"Innlandet\"], \"yaxis\": \"y\", \"type\": \"bar\"}, {\"alignmentgroup\": \"True\", \"hoverlabel\": {\"namelength\": 0}, \"hovertemplate\": \"RHF=Helse Vest<br>Dato=22 Mar<br>Registrerte smittede=%{text}<br>Fylke=%{y}\", \"ids\": [\"Rogaland\", \"Vestland\"], \"legendgroup\": \"Helse Vest\", \"marker\": {\"color\": \"#ab63fa\"}, \"name\": \"Helse Vest\", \"offsetgroup\": \"Helse Vest\", \"orientation\": \"h\", \"showlegend\": true, \"text\": [219.0, 214.0], \"textposition\": \"auto\", \"x\": [219, 214], \"xaxis\": \"x\", \"y\": [\"Rogaland\", \"Vestland\"], \"yaxis\": \"y\", \"type\": \"bar\"}], \"name\": \"22 Mar\"}, {\"data\": [{\"alignmentgroup\": \"True\", \"hoverlabel\": {\"namelength\": 0}, \"hovertemplate\": \"RHF=Helse Midt-Norge<br>Dato=23 Mar<br>Registrerte smittede=%{text}<br>Fylke=%{y}\", \"ids\": [\"M\\u00f8re og Romsdal\", \"Tr\\u00f8ndelag\"], \"legendgroup\": \"Helse Midt-Norge\", \"marker\": {\"color\": \"#636efa\"}, \"name\": \"Helse Midt-Norge\", \"offsetgroup\": \"Helse Midt-Norge\", \"orientation\": \"h\", \"showlegend\": true, \"text\": [44.0, 144.0], \"textposition\": \"auto\", \"x\": [44, 144], \"xaxis\": \"x\", \"y\": [\"M\\u00f8re og Romsdal\", \"Tr\\u00f8ndelag\"], \"yaxis\": \"y\", \"type\": \"bar\"}, {\"alignmentgroup\": \"True\", \"hoverlabel\": {\"namelength\": 0}, \"hovertemplate\": \"RHF=Helse Nord<br>Dato=23 Mar<br>Registrerte smittede=%{text}<br>Fylke=%{y}\", \"ids\": [\"Troms og Finnmark\", \"Nordland\"], \"legendgroup\": \"Helse Nord\", \"marker\": {\"color\": \"#EF553B\"}, \"name\": \"Helse Nord\", \"offsetgroup\": \"Helse Nord\", \"orientation\": \"h\", \"showlegend\": true, \"text\": [55.0, 18.0], \"textposition\": \"auto\", \"x\": [55, 18], \"xaxis\": \"x\", \"y\": [\"Troms og Finnmark\", \"Nordland\"], \"yaxis\": \"y\", \"type\": \"bar\"}, {\"alignmentgroup\": \"True\", \"hoverlabel\": {\"namelength\": 0}, \"hovertemplate\": \"RHF=Helse S\\u00f8r-\\u00d8st<br>Dato=23 Mar<br>Registrerte smittede=%{text}<br>Fylke=%{y}\", \"ids\": [\"Oslo\", \"Viken\", \"Vestfold og Telemark\", \"Innlandet\", \"Agder\"], \"legendgroup\": \"Helse S\\u00f8r-\\u00d8st\", \"marker\": {\"color\": \"#00cc96\"}, \"name\": \"Helse S\\u00f8r-\\u00d8st\", \"offsetgroup\": \"Helse S\\u00f8r-\\u00d8st\", \"orientation\": \"h\", \"showlegend\": true, \"text\": [636.0, 674.0, 87.0, 151.0, 91.0], \"textposition\": \"auto\", \"x\": [636, 674, 87, 151, 91], \"xaxis\": \"x\", \"y\": [\"Oslo\", \"Viken\", \"Vestfold og Telemark\", \"Innlandet\", \"Agder\"], \"yaxis\": \"y\", \"type\": \"bar\"}, {\"alignmentgroup\": \"True\", \"hoverlabel\": {\"namelength\": 0}, \"hovertemplate\": \"RHF=Helse Vest<br>Dato=23 Mar<br>Registrerte smittede=%{text}<br>Fylke=%{y}\", \"ids\": [\"Rogaland\", \"Vestland\"], \"legendgroup\": \"Helse Vest\", \"marker\": {\"color\": \"#ab63fa\"}, \"name\": \"Helse Vest\", \"offsetgroup\": \"Helse Vest\", \"orientation\": \"h\", \"showlegend\": true, \"text\": [237.0, 234.0], \"textposition\": \"auto\", \"x\": [237, 234], \"xaxis\": \"x\", \"y\": [\"Rogaland\", \"Vestland\"], \"yaxis\": \"y\", \"type\": \"bar\"}], \"name\": \"23 Mar\"}, {\"data\": [{\"alignmentgroup\": \"True\", \"hoverlabel\": {\"namelength\": 0}, \"hovertemplate\": \"RHF=Helse Midt-Norge<br>Dato=24 Mar<br>Registrerte smittede=%{text}<br>Fylke=%{y}\", \"ids\": [\"Tr\\u00f8ndelag\", \"M\\u00f8re og Romsdal\"], \"legendgroup\": \"Helse Midt-Norge\", \"marker\": {\"color\": \"#636efa\"}, \"name\": \"Helse Midt-Norge\", \"offsetgroup\": \"Helse Midt-Norge\", \"orientation\": \"h\", \"showlegend\": true, \"text\": [158.0, 46.0], \"textposition\": \"auto\", \"x\": [158, 46], \"xaxis\": \"x\", \"y\": [\"Tr\\u00f8ndelag\", \"M\\u00f8re og Romsdal\"], \"yaxis\": \"y\", \"type\": \"bar\"}, {\"alignmentgroup\": \"True\", \"hoverlabel\": {\"namelength\": 0}, \"hovertemplate\": \"RHF=Helse Nord<br>Dato=24 Mar<br>Registrerte smittede=%{text}<br>Fylke=%{y}\", \"ids\": [\"Nordland\", \"Troms og Finnmark\"], \"legendgroup\": \"Helse Nord\", \"marker\": {\"color\": \"#EF553B\"}, \"name\": \"Helse Nord\", \"offsetgroup\": \"Helse Nord\", \"orientation\": \"h\", \"showlegend\": true, \"text\": [18.0, 59.0], \"textposition\": \"auto\", \"x\": [18, 59], \"xaxis\": \"x\", \"y\": [\"Nordland\", \"Troms og Finnmark\"], \"yaxis\": \"y\", \"type\": \"bar\"}, {\"alignmentgroup\": \"True\", \"hoverlabel\": {\"namelength\": 0}, \"hovertemplate\": \"RHF=Helse S\\u00f8r-\\u00d8st<br>Dato=24 Mar<br>Registrerte smittede=%{text}<br>Fylke=%{y}\", \"ids\": [\"Vestfold og Telemark\", \"Oslo\", \"Agder\", \"Innlandet\", \"Viken\"], \"legendgroup\": \"Helse S\\u00f8r-\\u00d8st\", \"marker\": {\"color\": \"#00cc96\"}, \"name\": \"Helse S\\u00f8r-\\u00d8st\", \"offsetgroup\": \"Helse S\\u00f8r-\\u00d8st\", \"orientation\": \"h\", \"showlegend\": true, \"text\": [95.0, 657.0, 92.0, 163.0, 748.0], \"textposition\": \"auto\", \"x\": [95, 657, 92, 163, 748], \"xaxis\": \"x\", \"y\": [\"Vestfold og Telemark\", \"Oslo\", \"Agder\", \"Innlandet\", \"Viken\"], \"yaxis\": \"y\", \"type\": \"bar\"}, {\"alignmentgroup\": \"True\", \"hoverlabel\": {\"namelength\": 0}, \"hovertemplate\": \"RHF=Helse Vest<br>Dato=24 Mar<br>Registrerte smittede=%{text}<br>Fylke=%{y}\", \"ids\": [\"Rogaland\", \"Vestland\"], \"legendgroup\": \"Helse Vest\", \"marker\": {\"color\": \"#ab63fa\"}, \"name\": \"Helse Vest\", \"offsetgroup\": \"Helse Vest\", \"orientation\": \"h\", \"showlegend\": true, \"text\": [251.0, 279.0], \"textposition\": \"auto\", \"x\": [251, 279], \"xaxis\": \"x\", \"y\": [\"Rogaland\", \"Vestland\"], \"yaxis\": \"y\", \"type\": \"bar\"}], \"name\": \"24 Mar\"}]);\n",
       "                        }).then(function(){\n",
       "                            \n",
       "var gd = document.getElementById('9bec6e3a-efbb-42c5-9a54-ab3513d4b121');\n",
       "var x = new MutationObserver(function (mutations, observer) {{\n",
       "        var display = window.getComputedStyle(gd).display;\n",
       "        if (!display || display === 'none') {{\n",
       "            console.log([gd, 'removed!']);\n",
       "            Plotly.purge(gd);\n",
       "            observer.disconnect();\n",
       "        }}\n",
       "}});\n",
       "\n",
       "// Listen for the removal of the full notebook cells\n",
       "var notebookContainer = gd.closest('#notebook-container');\n",
       "if (notebookContainer) {{\n",
       "    x.observe(notebookContainer, {childList: true});\n",
       "}}\n",
       "\n",
       "// Listen for the clearing of the current output cell\n",
       "var outputEl = gd.closest('.output');\n",
       "if (outputEl) {{\n",
       "    x.observe(outputEl, {childList: true});\n",
       "}}\n",
       "\n",
       "                        })\n",
       "                };\n",
       "                });\n",
       "            </script>\n",
       "        </div>"
      ]
     },
     "metadata": {},
     "output_type": "display_data"
    }
   ],
   "source": [
    "legend = [i for i in vekst[\"RHF\"].unique()]\n",
    "legend.sort()\n",
    "\n",
    "fig = px.bar(melted, \n",
    "             x='Registrerte smittede', y='Fylke', animation_frame=\"variable\",\n",
    "             animation_group=\"Fylke\",\n",
    "             orientation='h',\n",
    "             category_orders={\"RHF\": legend},\n",
    "             labels = {\"Veksttakt\": \"daglig vekst (%)\", \"variable\": \"Dato\"},\n",
    "             color='RHF',\n",
    "             text=\"Registrerte smittede\",\n",
    "             height=600,\n",
    "             title = \"<b>COVID19: Registrert smittet i Norge</b><br>Fordeling per fylke<br>Datakilde: FHI - folkehelseinstituttet. Oppdatert \" +datetime.today().strftime('%d.%m.%Y'),\n",
    "             template = \"plotly_white\",\n",
    "             range_x=[0,600]\n",
    "                 ).update_yaxes(categoryorder=\"total ascending\")\n",
    "\n",
    "fig.layout.coloraxis.showscale = False\n",
    "\n",
    "fig.update_layout(\n",
    "    yaxis=dict(\n",
    "        separatethousands=True,\n",
    "        categoryorder = 'total ascending',\n",
    "        title_text=\"\",\n",
    "        fixedrange=True,\n",
    "    ), xaxis=dict(fixedrange=True,\n",
    "                 title_text=\"\"),\n",
    "    title_font=dict(family=\"Helvetica\", size=18),\n",
    "        margin=dict(b=150)) #bottom margin\n",
    "\n",
    "fig.update_layout(autosize=True,\n",
    "    margin=dict(l=100, r=100, t=150, b=0),\n",
    "    paper_bgcolor='rgba(0, 0, 0, 0)'\n",
    "    #plot_bgcolor='rgb(248, 248, 255)'    \n",
    "                 )\n",
    "\n",
    "#plotly.offline.plot(fig, filename='COVID19_fylkesutvikling_animation.html')\n",
    "py.plot(fig, filename='COVID19_fylkesutvikling_animation.html')\n",
    "fig.show()"
   ]
  },
  {
   "cell_type": "code",
   "execution_count": 151,
   "metadata": {},
   "outputs": [
    {
     "data": {
      "application/vnd.plotly.v1+json": {
       "config": {
        "plotlyServerURL": "https://plot.ly"
       },
       "data": [
        {
         "alignmentgroup": "True",
         "hoverlabel": {
          "namelength": 0
         },
         "hovertemplate": "RHF=Helse Midt-Norge<br>Dato=02 Mar<br>Smittede/tusen innb=%{x}<br>Fylke=%{y}<br>txt=%{text}",
         "ids": [
          "Trøndelag",
          "Møre og Romsdal"
         ],
         "legendgroup": "Helse Midt-Norge",
         "marker": {
          "color": "#636efa"
         },
         "name": "Helse Midt-Norge",
         "offsetgroup": "Helse Midt-Norge",
         "orientation": "h",
         "showlegend": true,
         "text": [
          "0.0",
          "0.0"
         ],
         "textposition": "auto",
         "type": "bar",
         "x": [
          0,
          0
         ],
         "xaxis": "x",
         "y": [
          "Trøndelag",
          "Møre og Romsdal"
         ],
         "yaxis": "y"
        },
        {
         "alignmentgroup": "True",
         "hoverlabel": {
          "namelength": 0
         },
         "hovertemplate": "RHF=Helse Nord<br>Dato=02 Mar<br>Smittede/tusen innb=%{x}<br>Fylke=%{y}<br>txt=%{text}",
         "ids": [
          "Troms og Finnmark",
          "Nordland"
         ],
         "legendgroup": "Helse Nord",
         "marker": {
          "color": "#EF553B"
         },
         "name": "Helse Nord",
         "offsetgroup": "Helse Nord",
         "orientation": "h",
         "showlegend": true,
         "text": [
          "0.0",
          "0.0"
         ],
         "textposition": "auto",
         "type": "bar",
         "x": [
          0.004109966257177028,
          0
         ],
         "xaxis": "x",
         "y": [
          "Troms og Finnmark",
          "Nordland"
         ],
         "yaxis": "y"
        },
        {
         "alignmentgroup": "True",
         "hoverlabel": {
          "namelength": 0
         },
         "hovertemplate": "RHF=Helse Sør-Øst<br>Dato=02 Mar<br>Smittede/tusen innb=%{x}<br>Fylke=%{y}<br>txt=%{text}",
         "ids": [
          "Agder",
          "Innlandet",
          "Oslo",
          "Viken",
          "Vestfold og Telemark"
         ],
         "legendgroup": "Helse Sør-Øst",
         "marker": {
          "color": "#00cc96"
         },
         "name": "Helse Sør-Øst",
         "offsetgroup": "Helse Sør-Øst",
         "orientation": "h",
         "showlegend": true,
         "text": [
          "0.01",
          "0.0",
          "0.01",
          "0.0",
          "0.0"
         ],
         "textposition": "auto",
         "type": "bar",
         "x": [
          0.006509759757316156,
          0,
          0.010093814798686073,
          0.004028473248923391,
          0
         ],
         "xaxis": "x",
         "y": [
          "Agder",
          "Innlandet",
          "Oslo",
          "Viken",
          "Vestfold og Telemark"
         ],
         "yaxis": "y"
        },
        {
         "alignmentgroup": "True",
         "hoverlabel": {
          "namelength": 0
         },
         "hovertemplate": "RHF=Helse Vest<br>Dato=02 Mar<br>Smittede/tusen innb=%{x}<br>Fylke=%{y}<br>txt=%{text}",
         "ids": [
          "Rogaland",
          "Vestland"
         ],
         "legendgroup": "Helse Vest",
         "marker": {
          "color": "#ab63fa"
         },
         "name": "Helse Vest",
         "offsetgroup": "Helse Vest",
         "orientation": "h",
         "showlegend": true,
         "text": [
          "0.0",
          "0.01"
         ],
         "textposition": "auto",
         "type": "bar",
         "x": [
          0,
          0.014139138549418647
         ],
         "xaxis": "x",
         "y": [
          "Rogaland",
          "Vestland"
         ],
         "yaxis": "y"
        }
       ],
       "frames": [
        {
         "data": [
          {
           "alignmentgroup": "True",
           "hoverlabel": {
            "namelength": 0
           },
           "hovertemplate": "RHF=Helse Midt-Norge<br>Dato=02 Mar<br>Smittede/tusen innb=%{x}<br>Fylke=%{y}<br>txt=%{text}",
           "ids": [
            "Trøndelag",
            "Møre og Romsdal"
           ],
           "legendgroup": "Helse Midt-Norge",
           "marker": {
            "color": "#636efa"
           },
           "name": "Helse Midt-Norge",
           "offsetgroup": "Helse Midt-Norge",
           "orientation": "h",
           "showlegend": true,
           "text": [
            "0.0",
            "0.0"
           ],
           "textposition": "auto",
           "type": "bar",
           "x": [
            0,
            0
           ],
           "xaxis": "x",
           "y": [
            "Trøndelag",
            "Møre og Romsdal"
           ],
           "yaxis": "y"
          },
          {
           "alignmentgroup": "True",
           "hoverlabel": {
            "namelength": 0
           },
           "hovertemplate": "RHF=Helse Nord<br>Dato=02 Mar<br>Smittede/tusen innb=%{x}<br>Fylke=%{y}<br>txt=%{text}",
           "ids": [
            "Troms og Finnmark",
            "Nordland"
           ],
           "legendgroup": "Helse Nord",
           "marker": {
            "color": "#EF553B"
           },
           "name": "Helse Nord",
           "offsetgroup": "Helse Nord",
           "orientation": "h",
           "showlegend": true,
           "text": [
            "0.0",
            "0.0"
           ],
           "textposition": "auto",
           "type": "bar",
           "x": [
            0.004109966257177028,
            0
           ],
           "xaxis": "x",
           "y": [
            "Troms og Finnmark",
            "Nordland"
           ],
           "yaxis": "y"
          },
          {
           "alignmentgroup": "True",
           "hoverlabel": {
            "namelength": 0
           },
           "hovertemplate": "RHF=Helse Sør-Øst<br>Dato=02 Mar<br>Smittede/tusen innb=%{x}<br>Fylke=%{y}<br>txt=%{text}",
           "ids": [
            "Agder",
            "Innlandet",
            "Oslo",
            "Viken",
            "Vestfold og Telemark"
           ],
           "legendgroup": "Helse Sør-Øst",
           "marker": {
            "color": "#00cc96"
           },
           "name": "Helse Sør-Øst",
           "offsetgroup": "Helse Sør-Øst",
           "orientation": "h",
           "showlegend": true,
           "text": [
            "0.01",
            "0.0",
            "0.01",
            "0.0",
            "0.0"
           ],
           "textposition": "auto",
           "type": "bar",
           "x": [
            0.006509759757316156,
            0,
            0.010093814798686073,
            0.004028473248923391,
            0
           ],
           "xaxis": "x",
           "y": [
            "Agder",
            "Innlandet",
            "Oslo",
            "Viken",
            "Vestfold og Telemark"
           ],
           "yaxis": "y"
          },
          {
           "alignmentgroup": "True",
           "hoverlabel": {
            "namelength": 0
           },
           "hovertemplate": "RHF=Helse Vest<br>Dato=02 Mar<br>Smittede/tusen innb=%{x}<br>Fylke=%{y}<br>txt=%{text}",
           "ids": [
            "Rogaland",
            "Vestland"
           ],
           "legendgroup": "Helse Vest",
           "marker": {
            "color": "#ab63fa"
           },
           "name": "Helse Vest",
           "offsetgroup": "Helse Vest",
           "orientation": "h",
           "showlegend": true,
           "text": [
            "0.0",
            "0.01"
           ],
           "textposition": "auto",
           "type": "bar",
           "x": [
            0,
            0.014139138549418647
           ],
           "xaxis": "x",
           "y": [
            "Rogaland",
            "Vestland"
           ],
           "yaxis": "y"
          }
         ],
         "name": "02 Mar"
        },
        {
         "data": [
          {
           "alignmentgroup": "True",
           "hoverlabel": {
            "namelength": 0
           },
           "hovertemplate": "RHF=Helse Midt-Norge<br>Dato=03 Mar<br>Smittede/tusen innb=%{x}<br>Fylke=%{y}<br>txt=%{text}",
           "ids": [
            "Møre og Romsdal",
            "Trøndelag"
           ],
           "legendgroup": "Helse Midt-Norge",
           "marker": {
            "color": "#636efa"
           },
           "name": "Helse Midt-Norge",
           "offsetgroup": "Helse Midt-Norge",
           "orientation": "h",
           "showlegend": true,
           "text": [
            "0.0",
            "0.0"
           ],
           "textposition": "auto",
           "type": "bar",
           "x": [
            0,
            0
           ],
           "xaxis": "x",
           "y": [
            "Møre og Romsdal",
            "Trøndelag"
           ],
           "yaxis": "y"
          },
          {
           "alignmentgroup": "True",
           "hoverlabel": {
            "namelength": 0
           },
           "hovertemplate": "RHF=Helse Nord<br>Dato=03 Mar<br>Smittede/tusen innb=%{x}<br>Fylke=%{y}<br>txt=%{text}",
           "ids": [
            "Nordland",
            "Troms og Finnmark"
           ],
           "legendgroup": "Helse Nord",
           "marker": {
            "color": "#EF553B"
           },
           "name": "Helse Nord",
           "offsetgroup": "Helse Nord",
           "orientation": "h",
           "showlegend": true,
           "text": [
            "0.0",
            "0.01"
           ],
           "textposition": "auto",
           "type": "bar",
           "x": [
            0,
            0.008219932514354057
           ],
           "xaxis": "x",
           "y": [
            "Nordland",
            "Troms og Finnmark"
           ],
           "yaxis": "y"
          },
          {
           "alignmentgroup": "True",
           "hoverlabel": {
            "namelength": 0
           },
           "hovertemplate": "RHF=Helse Sør-Øst<br>Dato=03 Mar<br>Smittede/tusen innb=%{x}<br>Fylke=%{y}<br>txt=%{text}",
           "ids": [
            "Oslo",
            "Vestfold og Telemark",
            "Innlandet",
            "Viken",
            "Agder"
           ],
           "legendgroup": "Helse Sør-Øst",
           "marker": {
            "color": "#00cc96"
           },
           "name": "Helse Sør-Øst",
           "offsetgroup": "Helse Sør-Øst",
           "orientation": "h",
           "showlegend": true,
           "text": [
            "0.01",
            "0.0",
            "0.0",
            "0.01",
            "0.01"
           ],
           "textposition": "auto",
           "type": "bar",
           "x": [
            0.010093814798686073,
            0,
            0,
            0.006445557198277425,
            0.009764639635974235
           ],
           "xaxis": "x",
           "y": [
            "Oslo",
            "Vestfold og Telemark",
            "Innlandet",
            "Viken",
            "Agder"
           ],
           "yaxis": "y"
          },
          {
           "alignmentgroup": "True",
           "hoverlabel": {
            "namelength": 0
           },
           "hovertemplate": "RHF=Helse Vest<br>Dato=03 Mar<br>Smittede/tusen innb=%{x}<br>Fylke=%{y}<br>txt=%{text}",
           "ids": [
            "Vestland",
            "Rogaland"
           ],
           "legendgroup": "Helse Vest",
           "marker": {
            "color": "#ab63fa"
           },
           "name": "Helse Vest",
           "offsetgroup": "Helse Vest",
           "orientation": "h",
           "showlegend": true,
           "text": [
            "0.02",
            "0.0"
           ],
           "textposition": "auto",
           "type": "bar",
           "x": [
            0.018852184732558196,
            0
           ],
           "xaxis": "x",
           "y": [
            "Vestland",
            "Rogaland"
           ],
           "yaxis": "y"
          }
         ],
         "name": "03 Mar"
        },
        {
         "data": [
          {
           "alignmentgroup": "True",
           "hoverlabel": {
            "namelength": 0
           },
           "hovertemplate": "RHF=Helse Midt-Norge<br>Dato=04 Mar<br>Smittede/tusen innb=%{x}<br>Fylke=%{y}<br>txt=%{text}",
           "ids": [
            "Trøndelag",
            "Møre og Romsdal"
           ],
           "legendgroup": "Helse Midt-Norge",
           "marker": {
            "color": "#636efa"
           },
           "name": "Helse Midt-Norge",
           "offsetgroup": "Helse Midt-Norge",
           "orientation": "h",
           "showlegend": true,
           "text": [
            "0.0",
            "0.0"
           ],
           "textposition": "auto",
           "type": "bar",
           "x": [
            0.0021335518090385788,
            0.003770198840286837
           ],
           "xaxis": "x",
           "y": [
            "Trøndelag",
            "Møre og Romsdal"
           ],
           "yaxis": "y"
          },
          {
           "alignmentgroup": "True",
           "hoverlabel": {
            "namelength": 0
           },
           "hovertemplate": "RHF=Helse Nord<br>Dato=04 Mar<br>Smittede/tusen innb=%{x}<br>Fylke=%{y}<br>txt=%{text}",
           "ids": [
            "Troms og Finnmark",
            "Nordland"
           ],
           "legendgroup": "Helse Nord",
           "marker": {
            "color": "#EF553B"
           },
           "name": "Helse Nord",
           "offsetgroup": "Helse Nord",
           "orientation": "h",
           "showlegend": true,
           "text": [
            "0.01",
            "0.0"
           ],
           "textposition": "auto",
           "type": "bar",
           "x": [
            0.008219932514354057,
            0
           ],
           "xaxis": "x",
           "y": [
            "Troms og Finnmark",
            "Nordland"
           ],
           "yaxis": "y"
          },
          {
           "alignmentgroup": "True",
           "hoverlabel": {
            "namelength": 0
           },
           "hovertemplate": "RHF=Helse Sør-Øst<br>Dato=04 Mar<br>Smittede/tusen innb=%{x}<br>Fylke=%{y}<br>txt=%{text}",
           "ids": [
            "Viken",
            "Agder",
            "Innlandet",
            "Vestfold og Telemark",
            "Oslo"
           ],
           "legendgroup": "Helse Sør-Øst",
           "marker": {
            "color": "#00cc96"
           },
           "name": "Helse Sør-Øst",
           "offsetgroup": "Helse Sør-Øst",
           "orientation": "h",
           "showlegend": true,
           "text": [
            "0.02",
            "0.01",
            "0.01",
            "0.0",
            "0.02"
           ],
           "textposition": "auto",
           "type": "bar",
           "x": [
            0.015308198345908885,
            0.009764639635974235,
            0.008077870673290521,
            0,
            0.020187629597372147
           ],
           "xaxis": "x",
           "y": [
            "Viken",
            "Agder",
            "Innlandet",
            "Vestfold og Telemark",
            "Oslo"
           ],
           "yaxis": "y"
          },
          {
           "alignmentgroup": "True",
           "hoverlabel": {
            "namelength": 0
           },
           "hovertemplate": "RHF=Helse Vest<br>Dato=04 Mar<br>Smittede/tusen innb=%{x}<br>Fylke=%{y}<br>txt=%{text}",
           "ids": [
            "Rogaland",
            "Vestland"
           ],
           "legendgroup": "Helse Vest",
           "marker": {
            "color": "#ab63fa"
           },
           "name": "Helse Vest",
           "offsetgroup": "Helse Vest",
           "orientation": "h",
           "showlegend": true,
           "text": [
            "0.01",
            "0.03"
           ],
           "textposition": "auto",
           "type": "bar",
           "x": [
            0.006251406566477457,
            0.026707261704457443
           ],
           "xaxis": "x",
           "y": [
            "Rogaland",
            "Vestland"
           ],
           "yaxis": "y"
          }
         ],
         "name": "04 Mar"
        },
        {
         "data": [
          {
           "alignmentgroup": "True",
           "hoverlabel": {
            "namelength": 0
           },
           "hovertemplate": "RHF=Helse Midt-Norge<br>Dato=05 Mar<br>Smittede/tusen innb=%{x}<br>Fylke=%{y}<br>txt=%{text}",
           "ids": [
            "Trøndelag",
            "Møre og Romsdal"
           ],
           "legendgroup": "Helse Midt-Norge",
           "marker": {
            "color": "#636efa"
           },
           "name": "Helse Midt-Norge",
           "offsetgroup": "Helse Midt-Norge",
           "orientation": "h",
           "showlegend": true,
           "text": [
            "0.01",
            "0.01"
           ],
           "textposition": "auto",
           "type": "bar",
           "x": [
            0.014934862663270052,
            0.007540397680573674
           ],
           "xaxis": "x",
           "y": [
            "Trøndelag",
            "Møre og Romsdal"
           ],
           "yaxis": "y"
          },
          {
           "alignmentgroup": "True",
           "hoverlabel": {
            "namelength": 0
           },
           "hovertemplate": "RHF=Helse Nord<br>Dato=05 Mar<br>Smittede/tusen innb=%{x}<br>Fylke=%{y}<br>txt=%{text}",
           "ids": [
            "Nordland",
            "Troms og Finnmark"
           ],
           "legendgroup": "Helse Nord",
           "marker": {
            "color": "#EF553B"
           },
           "name": "Helse Nord",
           "offsetgroup": "Helse Nord",
           "orientation": "h",
           "showlegend": true,
           "text": [
            "0.0",
            "0.01"
           ],
           "textposition": "auto",
           "type": "bar",
           "x": [
            0,
            0.008219932514354057
           ],
           "xaxis": "x",
           "y": [
            "Nordland",
            "Troms og Finnmark"
           ],
           "yaxis": "y"
          },
          {
           "alignmentgroup": "True",
           "hoverlabel": {
            "namelength": 0
           },
           "hovertemplate": "RHF=Helse Sør-Øst<br>Dato=05 Mar<br>Smittede/tusen innb=%{x}<br>Fylke=%{y}<br>txt=%{text}",
           "ids": [
            "Viken",
            "Agder",
            "Vestfold og Telemark",
            "Oslo",
            "Innlandet"
           ],
           "legendgroup": "Helse Sør-Øst",
           "marker": {
            "color": "#00cc96"
           },
           "name": "Helse Sør-Øst",
           "offsetgroup": "Helse Sør-Øst",
           "orientation": "h",
           "showlegend": true,
           "text": [
            "0.02",
            "0.02",
            "0.0",
            "0.03",
            "0.01"
           ],
           "textposition": "auto",
           "type": "bar",
           "x": [
            0.018530976945047597,
            0.022784159150606546,
            0.00476876269683068,
            0.025955523768049903,
            0.010770494231054029
           ],
           "xaxis": "x",
           "y": [
            "Viken",
            "Agder",
            "Vestfold og Telemark",
            "Oslo",
            "Innlandet"
           ],
           "yaxis": "y"
          },
          {
           "alignmentgroup": "True",
           "hoverlabel": {
            "namelength": 0
           },
           "hovertemplate": "RHF=Helse Vest<br>Dato=05 Mar<br>Smittede/tusen innb=%{x}<br>Fylke=%{y}<br>txt=%{text}",
           "ids": [
            "Vestland",
            "Rogaland"
           ],
           "legendgroup": "Helse Vest",
           "marker": {
            "color": "#ab63fa"
           },
           "name": "Helse Vest",
           "offsetgroup": "Helse Vest",
           "orientation": "h",
           "showlegend": true,
           "text": [
            "0.03",
            "0.01"
           ],
           "textposition": "auto",
           "type": "bar",
           "x": [
            0.03456233867635669,
            0.012502813132954914
           ],
           "xaxis": "x",
           "y": [
            "Vestland",
            "Rogaland"
           ],
           "yaxis": "y"
          }
         ],
         "name": "05 Mar"
        },
        {
         "data": [
          {
           "alignmentgroup": "True",
           "hoverlabel": {
            "namelength": 0
           },
           "hovertemplate": "RHF=Helse Midt-Norge<br>Dato=06 Mar<br>Smittede/tusen innb=%{x}<br>Fylke=%{y}<br>txt=%{text}",
           "ids": [
            "Møre og Romsdal",
            "Trøndelag"
           ],
           "legendgroup": "Helse Midt-Norge",
           "marker": {
            "color": "#636efa"
           },
           "name": "Helse Midt-Norge",
           "offsetgroup": "Helse Midt-Norge",
           "orientation": "h",
           "showlegend": true,
           "text": [
            "0.01",
            "0.03"
           ],
           "textposition": "auto",
           "type": "bar",
           "x": [
            0.007540397680573674,
            0.032003277135578684
           ],
           "xaxis": "x",
           "y": [
            "Møre og Romsdal",
            "Trøndelag"
           ],
           "yaxis": "y"
          },
          {
           "alignmentgroup": "True",
           "hoverlabel": {
            "namelength": 0
           },
           "hovertemplate": "RHF=Helse Nord<br>Dato=06 Mar<br>Smittede/tusen innb=%{x}<br>Fylke=%{y}<br>txt=%{text}",
           "ids": [
            "Troms og Finnmark",
            "Nordland"
           ],
           "legendgroup": "Helse Nord",
           "marker": {
            "color": "#EF553B"
           },
           "name": "Helse Nord",
           "offsetgroup": "Helse Nord",
           "orientation": "h",
           "showlegend": true,
           "text": [
            "0.02",
            "0.0"
           ],
           "textposition": "auto",
           "type": "bar",
           "x": [
            0.024659797543062172,
            0.004145335461272204
           ],
           "xaxis": "x",
           "y": [
            "Troms og Finnmark",
            "Nordland"
           ],
           "yaxis": "y"
          },
          {
           "alignmentgroup": "True",
           "hoverlabel": {
            "namelength": 0
           },
           "hovertemplate": "RHF=Helse Sør-Øst<br>Dato=06 Mar<br>Smittede/tusen innb=%{x}<br>Fylke=%{y}<br>txt=%{text}",
           "ids": [
            "Innlandet",
            "Vestfold og Telemark",
            "Oslo",
            "Viken",
            "Agder"
           ],
           "legendgroup": "Helse Sør-Øst",
           "marker": {
            "color": "#00cc96"
           },
           "name": "Helse Sør-Øst",
           "offsetgroup": "Helse Sør-Øst",
           "orientation": "h",
           "showlegend": true,
           "text": [
            "0.03",
            "0.0",
            "0.03",
            "0.02",
            "0.02"
           ],
           "textposition": "auto",
           "type": "bar",
           "x": [
            0.032311482693162086,
            0.00476876269683068,
            0.0331653914813971,
            0.02094806089440163,
            0.022784159150606546
           ],
           "xaxis": "x",
           "y": [
            "Innlandet",
            "Vestfold og Telemark",
            "Oslo",
            "Viken",
            "Agder"
           ],
           "yaxis": "y"
          },
          {
           "alignmentgroup": "True",
           "hoverlabel": {
            "namelength": 0
           },
           "hovertemplate": "RHF=Helse Vest<br>Dato=06 Mar<br>Smittede/tusen innb=%{x}<br>Fylke=%{y}<br>txt=%{text}",
           "ids": [
            "Vestland",
            "Rogaland"
           ],
           "legendgroup": "Helse Vest",
           "marker": {
            "color": "#ab63fa"
           },
           "name": "Helse Vest",
           "offsetgroup": "Helse Vest",
           "orientation": "h",
           "showlegend": true,
           "text": [
            "0.04",
            "0.02"
           ],
           "textposition": "auto",
           "type": "bar",
           "x": [
            0.03770436946511639,
            0.02292182407708401
           ],
           "xaxis": "x",
           "y": [
            "Vestland",
            "Rogaland"
           ],
           "yaxis": "y"
          }
         ],
         "name": "06 Mar"
        },
        {
         "data": [
          {
           "alignmentgroup": "True",
           "hoverlabel": {
            "namelength": 0
           },
           "hovertemplate": "RHF=Helse Midt-Norge<br>Dato=07 Mar<br>Smittede/tusen innb=%{x}<br>Fylke=%{y}<br>txt=%{text}",
           "ids": [
            "Møre og Romsdal",
            "Trøndelag"
           ],
           "legendgroup": "Helse Midt-Norge",
           "marker": {
            "color": "#636efa"
           },
           "name": "Helse Midt-Norge",
           "offsetgroup": "Helse Midt-Norge",
           "orientation": "h",
           "showlegend": true,
           "text": [
            "0.01",
            "0.04"
           ],
           "textposition": "auto",
           "type": "bar",
           "x": [
            0.007540397680573674,
            0.03840393256269442
           ],
           "xaxis": "x",
           "y": [
            "Møre og Romsdal",
            "Trøndelag"
           ],
           "yaxis": "y"
          },
          {
           "alignmentgroup": "True",
           "hoverlabel": {
            "namelength": 0
           },
           "hovertemplate": "RHF=Helse Nord<br>Dato=07 Mar<br>Smittede/tusen innb=%{x}<br>Fylke=%{y}<br>txt=%{text}",
           "ids": [
            "Troms og Finnmark",
            "Nordland"
           ],
           "legendgroup": "Helse Nord",
           "marker": {
            "color": "#EF553B"
           },
           "name": "Helse Nord",
           "offsetgroup": "Helse Nord",
           "orientation": "h",
           "showlegend": true,
           "text": [
            "0.02",
            "0.01"
           ],
           "textposition": "auto",
           "type": "bar",
           "x": [
            0.024659797543062172,
            0.008290670922544407
           ],
           "xaxis": "x",
           "y": [
            "Troms og Finnmark",
            "Nordland"
           ],
           "yaxis": "y"
          },
          {
           "alignmentgroup": "True",
           "hoverlabel": {
            "namelength": 0
           },
           "hovertemplate": "RHF=Helse Sør-Øst<br>Dato=07 Mar<br>Smittede/tusen innb=%{x}<br>Fylke=%{y}<br>txt=%{text}",
           "ids": [
            "Viken",
            "Agder",
            "Vestfold og Telemark",
            "Innlandet",
            "Oslo"
           ],
           "legendgroup": "Helse Sør-Øst",
           "marker": {
            "color": "#00cc96"
           },
           "name": "Helse Sør-Øst",
           "offsetgroup": "Helse Sør-Øst",
           "orientation": "h",
           "showlegend": true,
           "text": [
            "0.03",
            "0.03",
            "0.0",
            "0.03",
            "0.04"
           ],
           "textposition": "auto",
           "type": "bar",
           "x": [
            0.03061639669181777,
            0.029293918907922704,
            0.00476876269683068,
            0.032311482693162086,
            0.04181723273741373
           ],
           "xaxis": "x",
           "y": [
            "Viken",
            "Agder",
            "Vestfold og Telemark",
            "Innlandet",
            "Oslo"
           ],
           "yaxis": "y"
          },
          {
           "alignmentgroup": "True",
           "hoverlabel": {
            "namelength": 0
           },
           "hovertemplate": "RHF=Helse Vest<br>Dato=07 Mar<br>Smittede/tusen innb=%{x}<br>Fylke=%{y}<br>txt=%{text}",
           "ids": [
            "Vestland",
            "Rogaland"
           ],
           "legendgroup": "Helse Vest",
           "marker": {
            "color": "#ab63fa"
           },
           "name": "Helse Vest",
           "offsetgroup": "Helse Vest",
           "orientation": "h",
           "showlegend": true,
           "text": [
            "0.04",
            "0.03"
           ],
           "textposition": "auto",
           "type": "bar",
           "x": [
            0.03770436946511639,
            0.02917323064356147
           ],
           "xaxis": "x",
           "y": [
            "Vestland",
            "Rogaland"
           ],
           "yaxis": "y"
          }
         ],
         "name": "07 Mar"
        },
        {
         "data": [
          {
           "alignmentgroup": "True",
           "hoverlabel": {
            "namelength": 0
           },
           "hovertemplate": "RHF=Helse Midt-Norge<br>Dato=08 Mar<br>Smittede/tusen innb=%{x}<br>Fylke=%{y}<br>txt=%{text}",
           "ids": [
            "Trøndelag",
            "Møre og Romsdal"
           ],
           "legendgroup": "Helse Midt-Norge",
           "marker": {
            "color": "#636efa"
           },
           "name": "Helse Midt-Norge",
           "offsetgroup": "Helse Midt-Norge",
           "orientation": "h",
           "showlegend": true,
           "text": [
            "0.04",
            "0.01"
           ],
           "textposition": "auto",
           "type": "bar",
           "x": [
            0.040537484371733,
            0.007540397680573674
           ],
           "xaxis": "x",
           "y": [
            "Trøndelag",
            "Møre og Romsdal"
           ],
           "yaxis": "y"
          },
          {
           "alignmentgroup": "True",
           "hoverlabel": {
            "namelength": 0
           },
           "hovertemplate": "RHF=Helse Nord<br>Dato=08 Mar<br>Smittede/tusen innb=%{x}<br>Fylke=%{y}<br>txt=%{text}",
           "ids": [
            "Nordland",
            "Troms og Finnmark"
           ],
           "legendgroup": "Helse Nord",
           "marker": {
            "color": "#EF553B"
           },
           "name": "Helse Nord",
           "offsetgroup": "Helse Nord",
           "orientation": "h",
           "showlegend": true,
           "text": [
            "0.01",
            "0.02"
           ],
           "textposition": "auto",
           "type": "bar",
           "x": [
            0.01243600638381661,
            0.024659797543062172
           ],
           "xaxis": "x",
           "y": [
            "Nordland",
            "Troms og Finnmark"
           ],
           "yaxis": "y"
          },
          {
           "alignmentgroup": "True",
           "hoverlabel": {
            "namelength": 0
           },
           "hovertemplate": "RHF=Helse Sør-Øst<br>Dato=08 Mar<br>Smittede/tusen innb=%{x}<br>Fylke=%{y}<br>txt=%{text}",
           "ids": [
            "Oslo",
            "Vestfold og Telemark",
            "Innlandet",
            "Agder",
            "Viken"
           ],
           "legendgroup": "Helse Sør-Øst",
           "marker": {
            "color": "#00cc96"
           },
           "name": "Helse Sør-Øst",
           "offsetgroup": "Helse Sør-Øst",
           "orientation": "h",
           "showlegend": true,
           "text": [
            "0.05",
            "0.01",
            "0.03",
            "0.03",
            "0.03"
           ],
           "textposition": "auto",
           "type": "bar",
           "x": [
            0.05046907399343037,
            0.007153144045246021,
            0.032311482693162086,
            0.029293918907922704,
            0.0330334806411718
           ],
           "xaxis": "x",
           "y": [
            "Oslo",
            "Vestfold og Telemark",
            "Innlandet",
            "Agder",
            "Viken"
           ],
           "yaxis": "y"
          },
          {
           "alignmentgroup": "True",
           "hoverlabel": {
            "namelength": 0
           },
           "hovertemplate": "RHF=Helse Vest<br>Dato=08 Mar<br>Smittede/tusen innb=%{x}<br>Fylke=%{y}<br>txt=%{text}",
           "ids": [
            "Rogaland",
            "Vestland"
           ],
           "legendgroup": "Helse Vest",
           "marker": {
            "color": "#ab63fa"
           },
           "name": "Helse Vest",
           "offsetgroup": "Helse Vest",
           "orientation": "h",
           "showlegend": true,
           "text": [
            "0.04",
            "0.04"
           ],
           "textposition": "auto",
           "type": "bar",
           "x": [
            0.03959224158769056,
            0.03770436946511639
           ],
           "xaxis": "x",
           "y": [
            "Rogaland",
            "Vestland"
           ],
           "yaxis": "y"
          }
         ],
         "name": "08 Mar"
        },
        {
         "data": [
          {
           "alignmentgroup": "True",
           "hoverlabel": {
            "namelength": 0
           },
           "hovertemplate": "RHF=Helse Midt-Norge<br>Dato=09 Mar<br>Smittede/tusen innb=%{x}<br>Fylke=%{y}<br>txt=%{text}",
           "ids": [
            "Møre og Romsdal",
            "Trøndelag"
           ],
           "legendgroup": "Helse Midt-Norge",
           "marker": {
            "color": "#636efa"
           },
           "name": "Helse Midt-Norge",
           "offsetgroup": "Helse Midt-Norge",
           "orientation": "h",
           "showlegend": true,
           "text": [
            "0.02",
            "0.05"
           ],
           "textposition": "auto",
           "type": "bar",
           "x": [
            0.015080795361147347,
            0.046938139798848734
           ],
           "xaxis": "x",
           "y": [
            "Møre og Romsdal",
            "Trøndelag"
           ],
           "yaxis": "y"
          },
          {
           "alignmentgroup": "True",
           "hoverlabel": {
            "namelength": 0
           },
           "hovertemplate": "RHF=Helse Nord<br>Dato=09 Mar<br>Smittede/tusen innb=%{x}<br>Fylke=%{y}<br>txt=%{text}",
           "ids": [
            "Troms og Finnmark",
            "Nordland"
           ],
           "legendgroup": "Helse Nord",
           "marker": {
            "color": "#EF553B"
           },
           "name": "Helse Nord",
           "offsetgroup": "Helse Nord",
           "orientation": "h",
           "showlegend": true,
           "text": [
            "0.02",
            "0.01"
           ],
           "textposition": "auto",
           "type": "bar",
           "x": [
            0.024659797543062172,
            0.01243600638381661
           ],
           "xaxis": "x",
           "y": [
            "Troms og Finnmark",
            "Nordland"
           ],
           "yaxis": "y"
          },
          {
           "alignmentgroup": "True",
           "hoverlabel": {
            "namelength": 0
           },
           "hovertemplate": "RHF=Helse Sør-Øst<br>Dato=09 Mar<br>Smittede/tusen innb=%{x}<br>Fylke=%{y}<br>txt=%{text}",
           "ids": [
            "Vestfold og Telemark",
            "Oslo",
            "Innlandet",
            "Viken",
            "Agder"
           ],
           "legendgroup": "Helse Sør-Øst",
           "marker": {
            "color": "#00cc96"
           },
           "name": "Helse Sør-Øst",
           "offsetgroup": "Helse Sør-Øst",
           "orientation": "h",
           "showlegend": true,
           "text": [
            "0.01",
            "0.05",
            "0.04",
            "0.04",
            "0.06"
           ],
           "textposition": "auto",
           "type": "bar",
           "x": [
            0.0119219067420767,
            0.05046907399343037,
            0.0376967298086891,
            0.04189612178880326,
            0.05533295793718733
           ],
           "xaxis": "x",
           "y": [
            "Vestfold og Telemark",
            "Oslo",
            "Innlandet",
            "Viken",
            "Agder"
           ],
           "yaxis": "y"
          },
          {
           "alignmentgroup": "True",
           "hoverlabel": {
            "namelength": 0
           },
           "hovertemplate": "RHF=Helse Vest<br>Dato=09 Mar<br>Smittede/tusen innb=%{x}<br>Fylke=%{y}<br>txt=%{text}",
           "ids": [
            "Vestland",
            "Rogaland"
           ],
           "legendgroup": "Helse Vest",
           "marker": {
            "color": "#ab63fa"
           },
           "name": "Helse Vest",
           "offsetgroup": "Helse Vest",
           "orientation": "h",
           "showlegend": true,
           "text": [
            "0.04",
            "0.05"
           ],
           "textposition": "auto",
           "type": "bar",
           "x": [
            0.04398843104263579,
            0.052095054720645476
           ],
           "xaxis": "x",
           "y": [
            "Vestland",
            "Rogaland"
           ],
           "yaxis": "y"
          }
         ],
         "name": "09 Mar"
        },
        {
         "data": [
          {
           "alignmentgroup": "True",
           "hoverlabel": {
            "namelength": 0
           },
           "hovertemplate": "RHF=Helse Midt-Norge<br>Dato=10 Mar<br>Smittede/tusen innb=%{x}<br>Fylke=%{y}<br>txt=%{text}",
           "ids": [
            "Møre og Romsdal",
            "Trøndelag"
           ],
           "legendgroup": "Helse Midt-Norge",
           "marker": {
            "color": "#636efa"
           },
           "name": "Helse Midt-Norge",
           "offsetgroup": "Helse Midt-Norge",
           "orientation": "h",
           "showlegend": true,
           "text": [
            "0.02",
            "0.05"
           ],
           "textposition": "auto",
           "type": "bar",
           "x": [
            0.018850994201434185,
            0.046938139798848734
           ],
           "xaxis": "x",
           "y": [
            "Møre og Romsdal",
            "Trøndelag"
           ],
           "yaxis": "y"
          },
          {
           "alignmentgroup": "True",
           "hoverlabel": {
            "namelength": 0
           },
           "hovertemplate": "RHF=Helse Nord<br>Dato=10 Mar<br>Smittede/tusen innb=%{x}<br>Fylke=%{y}<br>txt=%{text}",
           "ids": [
            "Troms og Finnmark",
            "Nordland"
           ],
           "legendgroup": "Helse Nord",
           "marker": {
            "color": "#EF553B"
           },
           "name": "Helse Nord",
           "offsetgroup": "Helse Nord",
           "orientation": "h",
           "showlegend": true,
           "text": [
            "0.02",
            "0.01"
           ],
           "textposition": "auto",
           "type": "bar",
           "x": [
            0.024659797543062172,
            0.01243600638381661
           ],
           "xaxis": "x",
           "y": [
            "Troms og Finnmark",
            "Nordland"
           ],
           "yaxis": "y"
          },
          {
           "alignmentgroup": "True",
           "hoverlabel": {
            "namelength": 0
           },
           "hovertemplate": "RHF=Helse Sør-Øst<br>Dato=10 Mar<br>Smittede/tusen innb=%{x}<br>Fylke=%{y}<br>txt=%{text}",
           "ids": [
            "Viken",
            "Vestfold og Telemark",
            "Innlandet",
            "Agder",
            "Oslo"
           ],
           "legendgroup": "Helse Sør-Øst",
           "marker": {
            "color": "#00cc96"
           },
           "name": "Helse Sør-Øst",
           "offsetgroup": "Helse Sør-Øst",
           "orientation": "h",
           "showlegend": true,
           "text": [
            "0.07",
            "0.01",
            "0.04",
            "0.06",
            "0.07"
           ],
           "textposition": "auto",
           "type": "bar",
           "x": [
            0.06928973988148232,
            0.0119219067420767,
            0.043081976924216114,
            0.06184271769450349,
            0.07354065067614139
           ],
           "xaxis": "x",
           "y": [
            "Viken",
            "Vestfold og Telemark",
            "Innlandet",
            "Agder",
            "Oslo"
           ],
           "yaxis": "y"
          },
          {
           "alignmentgroup": "True",
           "hoverlabel": {
            "namelength": 0
           },
           "hovertemplate": "RHF=Helse Vest<br>Dato=10 Mar<br>Smittede/tusen innb=%{x}<br>Fylke=%{y}<br>txt=%{text}",
           "ids": [
            "Rogaland",
            "Vestland"
           ],
           "legendgroup": "Helse Vest",
           "marker": {
            "color": "#ab63fa"
           },
           "name": "Helse Vest",
           "offsetgroup": "Helse Vest",
           "orientation": "h",
           "showlegend": true,
           "text": [
            "0.07",
            "0.05"
           ],
           "textposition": "auto",
           "type": "bar",
           "x": [
            0.06876547223125203,
            0.048701477225775336
           ],
           "xaxis": "x",
           "y": [
            "Rogaland",
            "Vestland"
           ],
           "yaxis": "y"
          }
         ],
         "name": "10 Mar"
        },
        {
         "data": [
          {
           "alignmentgroup": "True",
           "hoverlabel": {
            "namelength": 0
           },
           "hovertemplate": "RHF=Helse Midt-Norge<br>Dato=11 Mar<br>Smittede/tusen innb=%{x}<br>Fylke=%{y}<br>txt=%{text}",
           "ids": [
            "Trøndelag",
            "Møre og Romsdal"
           ],
           "legendgroup": "Helse Midt-Norge",
           "marker": {
            "color": "#636efa"
           },
           "name": "Helse Midt-Norge",
           "offsetgroup": "Helse Midt-Norge",
           "orientation": "h",
           "showlegend": true,
           "text": [
            "0.05",
            "0.03"
           ],
           "textposition": "auto",
           "type": "bar",
           "x": [
            0.05333879522596447,
            0.026391391882007856
           ],
           "xaxis": "x",
           "y": [
            "Trøndelag",
            "Møre og Romsdal"
           ],
           "yaxis": "y"
          },
          {
           "alignmentgroup": "True",
           "hoverlabel": {
            "namelength": 0
           },
           "hovertemplate": "RHF=Helse Nord<br>Dato=11 Mar<br>Smittede/tusen innb=%{x}<br>Fylke=%{y}<br>txt=%{text}",
           "ids": [
            "Troms og Finnmark",
            "Nordland"
           ],
           "legendgroup": "Helse Nord",
           "marker": {
            "color": "#EF553B"
           },
           "name": "Helse Nord",
           "offsetgroup": "Helse Nord",
           "orientation": "h",
           "showlegend": true,
           "text": [
            "0.03",
            "0.01"
           ],
           "textposition": "auto",
           "type": "bar",
           "x": [
            0.028769763800239198,
            0.01243600638381661
           ],
           "xaxis": "x",
           "y": [
            "Troms og Finnmark",
            "Nordland"
           ],
           "yaxis": "y"
          },
          {
           "alignmentgroup": "True",
           "hoverlabel": {
            "namelength": 0
           },
           "hovertemplate": "RHF=Helse Sør-Øst<br>Dato=11 Mar<br>Smittede/tusen innb=%{x}<br>Fylke=%{y}<br>txt=%{text}",
           "ids": [
            "Agder",
            "Viken",
            "Innlandet",
            "Vestfold og Telemark",
            "Oslo"
           ],
           "legendgroup": "Helse Sør-Øst",
           "marker": {
            "color": "#00cc96"
           },
           "name": "Helse Sør-Øst",
           "offsetgroup": "Helse Sør-Øst",
           "orientation": "h",
           "showlegend": true,
           "text": [
            "0.07",
            "0.1",
            "0.06",
            "0.04",
            "0.18"
           ],
           "textposition": "auto",
           "type": "bar",
           "x": [
            0.06509759757316157,
            0.0999061365733001,
            0.06193034182856066,
            0.0357657202262301,
            0.177362745748341
           ],
           "xaxis": "x",
           "y": [
            "Agder",
            "Viken",
            "Innlandet",
            "Vestfold og Telemark",
            "Oslo"
           ],
           "yaxis": "y"
          },
          {
           "alignmentgroup": "True",
           "hoverlabel": {
            "namelength": 0
           },
           "hovertemplate": "RHF=Helse Vest<br>Dato=11 Mar<br>Smittede/tusen innb=%{x}<br>Fylke=%{y}<br>txt=%{text}",
           "ids": [
            "Rogaland",
            "Vestland"
           ],
           "legendgroup": "Helse Vest",
           "marker": {
            "color": "#ab63fa"
           },
           "name": "Helse Vest",
           "offsetgroup": "Helse Vest",
           "orientation": "h",
           "showlegend": true,
           "text": [
            "0.15",
            "0.06"
           ],
           "textposition": "auto",
           "type": "bar",
           "x": [
            0.14794995540663317,
            0.06441163116957384
           ],
           "xaxis": "x",
           "y": [
            "Rogaland",
            "Vestland"
           ],
           "yaxis": "y"
          }
         ],
         "name": "11 Mar"
        },
        {
         "data": [
          {
           "alignmentgroup": "True",
           "hoverlabel": {
            "namelength": 0
           },
           "hovertemplate": "RHF=Helse Midt-Norge<br>Dato=12 Mar<br>Smittede/tusen innb=%{x}<br>Fylke=%{y}<br>txt=%{text}",
           "ids": [
            "Trøndelag",
            "Møre og Romsdal"
           ],
           "legendgroup": "Helse Midt-Norge",
           "marker": {
            "color": "#636efa"
           },
           "name": "Helse Midt-Norge",
           "offsetgroup": "Helse Midt-Norge",
           "orientation": "h",
           "showlegend": true,
           "text": [
            "0.08",
            "0.02"
           ],
           "textposition": "auto",
           "type": "bar",
           "x": [
            0.07894141693442742,
            0.02262119304172102
           ],
           "xaxis": "x",
           "y": [
            "Trøndelag",
            "Møre og Romsdal"
           ],
           "yaxis": "y"
          },
          {
           "alignmentgroup": "True",
           "hoverlabel": {
            "namelength": 0
           },
           "hovertemplate": "RHF=Helse Nord<br>Dato=12 Mar<br>Smittede/tusen innb=%{x}<br>Fylke=%{y}<br>txt=%{text}",
           "ids": [
            "Nordland",
            "Troms og Finnmark"
           ],
           "legendgroup": "Helse Nord",
           "marker": {
            "color": "#EF553B"
           },
           "name": "Helse Nord",
           "offsetgroup": "Helse Nord",
           "orientation": "h",
           "showlegend": true,
           "text": [
            "0.02",
            "0.05"
           ],
           "textposition": "auto",
           "type": "bar",
           "x": [
            0.016581341845088814,
            0.045209628828947315
           ],
           "xaxis": "x",
           "y": [
            "Nordland",
            "Troms og Finnmark"
           ],
           "yaxis": "y"
          },
          {
           "alignmentgroup": "True",
           "hoverlabel": {
            "namelength": 0
           },
           "hovertemplate": "RHF=Helse Sør-Øst<br>Dato=12 Mar<br>Smittede/tusen innb=%{x}<br>Fylke=%{y}<br>txt=%{text}",
           "ids": [
            "Vestfold og Telemark",
            "Agder",
            "Viken",
            "Innlandet",
            "Oslo"
           ],
           "legendgroup": "Helse Sør-Øst",
           "marker": {
            "color": "#00cc96"
           },
           "name": "Helse Sør-Øst",
           "offsetgroup": "Helse Sør-Øst",
           "orientation": "h",
           "showlegend": true,
           "text": [
            "0.05",
            "0.1",
            "0.12",
            "0.11",
            "0.24"
           ],
           "textposition": "auto",
           "type": "bar",
           "x": [
            0.05245638966513748,
            0.1041561561170585,
            0.12407697606684043,
            0.10770494231054027,
            0.23936760808312688
           ],
           "xaxis": "x",
           "y": [
            "Vestfold og Telemark",
            "Agder",
            "Viken",
            "Innlandet",
            "Oslo"
           ],
           "yaxis": "y"
          },
          {
           "alignmentgroup": "True",
           "hoverlabel": {
            "namelength": 0
           },
           "hovertemplate": "RHF=Helse Vest<br>Dato=12 Mar<br>Smittede/tusen innb=%{x}<br>Fylke=%{y}<br>txt=%{text}",
           "ids": [
            "Rogaland",
            "Vestland"
           ],
           "legendgroup": "Helse Vest",
           "marker": {
            "color": "#ab63fa"
           },
           "name": "Helse Vest",
           "offsetgroup": "Helse Vest",
           "orientation": "h",
           "showlegend": true,
           "text": [
            "0.17",
            "0.11"
           ],
           "textposition": "auto",
           "type": "bar",
           "x": [
            0.17087177948371718,
            0.10525803142344993
           ],
           "xaxis": "x",
           "y": [
            "Rogaland",
            "Vestland"
           ],
           "yaxis": "y"
          }
         ],
         "name": "12 Mar"
        },
        {
         "data": [
          {
           "alignmentgroup": "True",
           "hoverlabel": {
            "namelength": 0
           },
           "hovertemplate": "RHF=Helse Midt-Norge<br>Dato=13 Mar<br>Smittede/tusen innb=%{x}<br>Fylke=%{y}<br>txt=%{text}",
           "ids": [
            "Trøndelag",
            "Møre og Romsdal"
           ],
           "legendgroup": "Helse Midt-Norge",
           "marker": {
            "color": "#636efa"
           },
           "name": "Helse Midt-Norge",
           "offsetgroup": "Helse Midt-Norge",
           "orientation": "h",
           "showlegend": true,
           "text": [
            "0.09",
            "0.03"
           ],
           "textposition": "auto",
           "type": "bar",
           "x": [
            0.0917427277886589,
            0.026391391882007856
           ],
           "xaxis": "x",
           "y": [
            "Trøndelag",
            "Møre og Romsdal"
           ],
           "yaxis": "y"
          },
          {
           "alignmentgroup": "True",
           "hoverlabel": {
            "namelength": 0
           },
           "hovertemplate": "RHF=Helse Nord<br>Dato=13 Mar<br>Smittede/tusen innb=%{x}<br>Fylke=%{y}<br>txt=%{text}",
           "ids": [
            "Troms og Finnmark",
            "Nordland"
           ],
           "legendgroup": "Helse Nord",
           "marker": {
            "color": "#EF553B"
           },
           "name": "Helse Nord",
           "offsetgroup": "Helse Nord",
           "orientation": "h",
           "showlegend": true,
           "text": [
            "0.05",
            "0.02"
           ],
           "textposition": "auto",
           "type": "bar",
           "x": [
            0.049319595086124345,
            0.020726677306361015
           ],
           "xaxis": "x",
           "y": [
            "Troms og Finnmark",
            "Nordland"
           ],
           "yaxis": "y"
          },
          {
           "alignmentgroup": "True",
           "hoverlabel": {
            "namelength": 0
           },
           "hovertemplate": "RHF=Helse Sør-Øst<br>Dato=13 Mar<br>Smittede/tusen innb=%{x}<br>Fylke=%{y}<br>txt=%{text}",
           "ids": [
            "Viken",
            "Vestfold og Telemark",
            "Oslo",
            "Innlandet",
            "Agder"
           ],
           "legendgroup": "Helse Sør-Øst",
           "marker": {
            "color": "#00cc96"
           },
           "name": "Helse Sør-Øst",
           "offsetgroup": "Helse Sør-Øst",
           "orientation": "h",
           "showlegend": true,
           "text": [
            "0.15",
            "0.07",
            "0.3",
            "0.13",
            "0.11"
           ],
           "textposition": "auto",
           "type": "bar",
           "x": [
            0.14502503696124205,
            0.0715314404524602,
            0.29848852333257386,
            0.13193855433041185,
            0.11066591587437466
           ],
           "xaxis": "x",
           "y": [
            "Viken",
            "Vestfold og Telemark",
            "Oslo",
            "Innlandet",
            "Agder"
           ],
           "yaxis": "y"
          },
          {
           "alignmentgroup": "True",
           "hoverlabel": {
            "namelength": 0
           },
           "hovertemplate": "RHF=Helse Vest<br>Dato=13 Mar<br>Smittede/tusen innb=%{x}<br>Fylke=%{y}<br>txt=%{text}",
           "ids": [
            "Vestland",
            "Rogaland"
           ],
           "legendgroup": "Helse Vest",
           "marker": {
            "color": "#ab63fa"
           },
           "name": "Helse Vest",
           "offsetgroup": "Helse Vest",
           "orientation": "h",
           "showlegend": true,
           "text": [
            "0.12",
            "0.22"
           ],
           "textposition": "auto",
           "type": "bar",
           "x": [
            0.12253920076162828,
            0.21879922982671102
           ],
           "xaxis": "x",
           "y": [
            "Vestland",
            "Rogaland"
           ],
           "yaxis": "y"
          }
         ],
         "name": "13 Mar"
        },
        {
         "data": [
          {
           "alignmentgroup": "True",
           "hoverlabel": {
            "namelength": 0
           },
           "hovertemplate": "RHF=Helse Midt-Norge<br>Dato=14 Mar<br>Smittede/tusen innb=%{x}<br>Fylke=%{y}<br>txt=%{text}",
           "ids": [
            "Trøndelag",
            "Møre og Romsdal"
           ],
           "legendgroup": "Helse Midt-Norge",
           "marker": {
            "color": "#636efa"
           },
           "name": "Helse Midt-Norge",
           "offsetgroup": "Helse Midt-Norge",
           "orientation": "h",
           "showlegend": true,
           "text": [
            "0.1",
            "0.06"
           ],
           "textposition": "auto",
           "type": "bar",
           "x": [
            0.09814338321577463,
            0.06032318144458939
           ],
           "xaxis": "x",
           "y": [
            "Trøndelag",
            "Møre og Romsdal"
           ],
           "yaxis": "y"
          },
          {
           "alignmentgroup": "True",
           "hoverlabel": {
            "namelength": 0
           },
           "hovertemplate": "RHF=Helse Nord<br>Dato=14 Mar<br>Smittede/tusen innb=%{x}<br>Fylke=%{y}<br>txt=%{text}",
           "ids": [
            "Troms og Finnmark",
            "Nordland"
           ],
           "legendgroup": "Helse Nord",
           "marker": {
            "color": "#EF553B"
           },
           "name": "Helse Nord",
           "offsetgroup": "Helse Nord",
           "orientation": "h",
           "showlegend": true,
           "text": [
            "0.07",
            "0.03"
           ],
           "textposition": "auto",
           "type": "bar",
           "x": [
            0.06575946011483245,
            0.03316268369017763
           ],
           "xaxis": "x",
           "y": [
            "Troms og Finnmark",
            "Nordland"
           ],
           "yaxis": "y"
          },
          {
           "alignmentgroup": "True",
           "hoverlabel": {
            "namelength": 0
           },
           "hovertemplate": "RHF=Helse Sør-Øst<br>Dato=14 Mar<br>Smittede/tusen innb=%{x}<br>Fylke=%{y}<br>txt=%{text}",
           "ids": [
            "Oslo",
            "Agder",
            "Viken",
            "Vestfold og Telemark",
            "Innlandet"
           ],
           "legendgroup": "Helse Sør-Øst",
           "marker": {
            "color": "#00cc96"
           },
           "name": "Helse Sør-Øst",
           "offsetgroup": "Helse Sør-Øst",
           "orientation": "h",
           "showlegend": true,
           "text": [
            "0.32",
            "0.17",
            "0.19",
            "0.09",
            "0.15"
           ],
           "textposition": "auto",
           "type": "bar",
           "x": [
            0.32011812647261545,
            0.16925375369022005,
            0.18611546410026064,
            0.09299087258819826,
            0.1534795427925199
           ],
           "xaxis": "x",
           "y": [
            "Oslo",
            "Agder",
            "Viken",
            "Vestfold og Telemark",
            "Innlandet"
           ],
           "yaxis": "y"
          },
          {
           "alignmentgroup": "True",
           "hoverlabel": {
            "namelength": 0
           },
           "hovertemplate": "RHF=Helse Vest<br>Dato=14 Mar<br>Smittede/tusen innb=%{x}<br>Fylke=%{y}<br>txt=%{text}",
           "ids": [
            "Vestland",
            "Rogaland"
           ],
           "legendgroup": "Helse Vest",
           "marker": {
            "color": "#ab63fa"
           },
           "name": "Helse Vest",
           "offsetgroup": "Helse Vest",
           "orientation": "h",
           "showlegend": true,
           "text": [
            "0.16",
            "0.25"
           ],
           "textposition": "auto",
           "type": "bar",
           "x": [
            0.1586725548323648,
            0.2479724604702725
           ],
           "xaxis": "x",
           "y": [
            "Vestland",
            "Rogaland"
           ],
           "yaxis": "y"
          }
         ],
         "name": "14 Mar"
        },
        {
         "data": [
          {
           "alignmentgroup": "True",
           "hoverlabel": {
            "namelength": 0
           },
           "hovertemplate": "RHF=Helse Midt-Norge<br>Dato=15 Mar<br>Smittede/tusen innb=%{x}<br>Fylke=%{y}<br>txt=%{text}",
           "ids": [
            "Trøndelag",
            "Møre og Romsdal"
           ],
           "legendgroup": "Helse Midt-Norge",
           "marker": {
            "color": "#636efa"
           },
           "name": "Helse Midt-Norge",
           "offsetgroup": "Helse Midt-Norge",
           "orientation": "h",
           "showlegend": true,
           "text": [
            "0.11",
            "0.08"
           ],
           "textposition": "auto",
           "type": "bar",
           "x": [
            0.10667759045192894,
            0.07540397680573674
           ],
           "xaxis": "x",
           "y": [
            "Trøndelag",
            "Møre og Romsdal"
           ],
           "yaxis": "y"
          },
          {
           "alignmentgroup": "True",
           "hoverlabel": {
            "namelength": 0
           },
           "hovertemplate": "RHF=Helse Nord<br>Dato=15 Mar<br>Smittede/tusen innb=%{x}<br>Fylke=%{y}<br>txt=%{text}",
           "ids": [
            "Troms og Finnmark",
            "Nordland"
           ],
           "legendgroup": "Helse Nord",
           "marker": {
            "color": "#EF553B"
           },
           "name": "Helse Nord",
           "offsetgroup": "Helse Nord",
           "orientation": "h",
           "showlegend": true,
           "text": [
            "0.08",
            "0.03"
           ],
           "textposition": "auto",
           "type": "bar",
           "x": [
            0.08219932514354057,
            0.03316268369017763
           ],
           "xaxis": "x",
           "y": [
            "Troms og Finnmark",
            "Nordland"
           ],
           "yaxis": "y"
          },
          {
           "alignmentgroup": "True",
           "hoverlabel": {
            "namelength": 0
           },
           "hovertemplate": "RHF=Helse Sør-Øst<br>Dato=15 Mar<br>Smittede/tusen innb=%{x}<br>Fylke=%{y}<br>txt=%{text}",
           "ids": [
            "Oslo",
            "Innlandet",
            "Agder",
            "Viken",
            "Vestfold og Telemark"
           ],
           "legendgroup": "Helse Sør-Øst",
           "marker": {
            "color": "#00cc96"
           },
           "name": "Helse Sør-Øst",
           "offsetgroup": "Helse Sør-Øst",
           "orientation": "h",
           "showlegend": true,
           "text": [
            "0.41",
            "0.19",
            "0.18",
            "0.22",
            "0.11"
           ],
           "textposition": "auto",
           "type": "bar",
           "x": [
            0.40519456549011235,
            0.1938688961589725,
            0.1790183933261943,
            0.2239831126401405,
            0.11445030472393633
           ],
           "xaxis": "x",
           "y": [
            "Oslo",
            "Innlandet",
            "Agder",
            "Viken",
            "Vestfold og Telemark"
           ],
           "yaxis": "y"
          },
          {
           "alignmentgroup": "True",
           "hoverlabel": {
            "namelength": 0
           },
           "hovertemplate": "RHF=Helse Vest<br>Dato=15 Mar<br>Smittede/tusen innb=%{x}<br>Fylke=%{y}<br>txt=%{text}",
           "ids": [
            "Rogaland",
            "Vestland"
           ],
           "legendgroup": "Helse Vest",
           "marker": {
            "color": "#ab63fa"
           },
           "name": "Helse Vest",
           "offsetgroup": "Helse Vest",
           "orientation": "h",
           "showlegend": true,
           "text": [
            "0.26",
            "0.19"
           ],
           "textposition": "auto",
           "type": "bar",
           "x": [
            0.26464287798087904,
            0.18537981653682226
           ],
           "xaxis": "x",
           "y": [
            "Rogaland",
            "Vestland"
           ],
           "yaxis": "y"
          }
         ],
         "name": "15 Mar"
        },
        {
         "data": [
          {
           "alignmentgroup": "True",
           "hoverlabel": {
            "namelength": 0
           },
           "hovertemplate": "RHF=Helse Midt-Norge<br>Dato=16 Mar<br>Smittede/tusen innb=%{x}<br>Fylke=%{y}<br>txt=%{text}",
           "ids": [
            "Trøndelag",
            "Møre og Romsdal"
           ],
           "legendgroup": "Helse Midt-Norge",
           "marker": {
            "color": "#636efa"
           },
           "name": "Helse Midt-Norge",
           "offsetgroup": "Helse Midt-Norge",
           "orientation": "h",
           "showlegend": true,
           "text": [
            "0.11",
            "0.08"
           ],
           "textposition": "auto",
           "type": "bar",
           "x": [
            0.11094469407000611,
            0.07540397680573674
           ],
           "xaxis": "x",
           "y": [
            "Trøndelag",
            "Møre og Romsdal"
           ],
           "yaxis": "y"
          },
          {
           "alignmentgroup": "True",
           "hoverlabel": {
            "namelength": 0
           },
           "hovertemplate": "RHF=Helse Nord<br>Dato=16 Mar<br>Smittede/tusen innb=%{x}<br>Fylke=%{y}<br>txt=%{text}",
           "ids": [
            "Nordland",
            "Troms og Finnmark"
           ],
           "legendgroup": "Helse Nord",
           "marker": {
            "color": "#EF553B"
           },
           "name": "Helse Nord",
           "offsetgroup": "Helse Nord",
           "orientation": "h",
           "showlegend": true,
           "text": [
            "0.05",
            "0.09"
           ],
           "textposition": "auto",
           "type": "bar",
           "x": [
            0.04559869007399424,
            0.0863092914007176
           ],
           "xaxis": "x",
           "y": [
            "Nordland",
            "Troms og Finnmark"
           ],
           "yaxis": "y"
          },
          {
           "alignmentgroup": "True",
           "hoverlabel": {
            "namelength": 0
           },
           "hovertemplate": "RHF=Helse Sør-Øst<br>Dato=16 Mar<br>Smittede/tusen innb=%{x}<br>Fylke=%{y}<br>txt=%{text}",
           "ids": [
            "Vestfold og Telemark",
            "Innlandet",
            "Agder",
            "Viken",
            "Oslo"
           ],
           "legendgroup": "Helse Sør-Øst",
           "marker": {
            "color": "#00cc96"
           },
           "name": "Helse Sør-Øst",
           "offsetgroup": "Helse Sør-Øst",
           "orientation": "h",
           "showlegend": true,
           "text": [
            "0.13",
            "0.22",
            "0.22",
            "0.25",
            "0.42"
           ],
           "textposition": "auto",
           "type": "bar",
           "x": [
            0.12637221146601302,
            0.21810250817884405,
            0.21807695187009124,
            0.2529881200323889,
            0.4210562744594762
           ],
           "xaxis": "x",
           "y": [
            "Vestfold og Telemark",
            "Innlandet",
            "Agder",
            "Viken",
            "Oslo"
           ],
           "yaxis": "y"
          },
          {
           "alignmentgroup": "True",
           "hoverlabel": {
            "namelength": 0
           },
           "hovertemplate": "RHF=Helse Vest<br>Dato=16 Mar<br>Smittede/tusen innb=%{x}<br>Fylke=%{y}<br>txt=%{text}",
           "ids": [
            "Vestland",
            "Rogaland"
           ],
           "legendgroup": "Helse Vest",
           "marker": {
            "color": "#ab63fa"
           },
           "name": "Helse Vest",
           "offsetgroup": "Helse Vest",
           "orientation": "h",
           "showlegend": true,
           "text": [
            "0.2",
            "0.27"
           ],
           "textposition": "auto",
           "type": "bar",
           "x": [
            0.1995189550862409,
            0.2729780867361823
           ],
           "xaxis": "x",
           "y": [
            "Vestland",
            "Rogaland"
           ],
           "yaxis": "y"
          }
         ],
         "name": "16 Mar"
        },
        {
         "data": [
          {
           "alignmentgroup": "True",
           "hoverlabel": {
            "namelength": 0
           },
           "hovertemplate": "RHF=Helse Midt-Norge<br>Dato=17 Mar<br>Smittede/tusen innb=%{x}<br>Fylke=%{y}<br>txt=%{text}",
           "ids": [
            "Trøndelag",
            "Møre og Romsdal"
           ],
           "legendgroup": "Helse Midt-Norge",
           "marker": {
            "color": "#636efa"
           },
           "name": "Helse Midt-Norge",
           "offsetgroup": "Helse Midt-Norge",
           "orientation": "h",
           "showlegend": true,
           "text": [
            "0.13",
            "0.08"
           ],
           "textposition": "auto",
           "type": "bar",
           "x": [
            0.1301466603513533,
            0.07540397680573674
           ],
           "xaxis": "x",
           "y": [
            "Trøndelag",
            "Møre og Romsdal"
           ],
           "yaxis": "y"
          },
          {
           "alignmentgroup": "True",
           "hoverlabel": {
            "namelength": 0
           },
           "hovertemplate": "RHF=Helse Nord<br>Dato=17 Mar<br>Smittede/tusen innb=%{x}<br>Fylke=%{y}<br>txt=%{text}",
           "ids": [
            "Troms og Finnmark",
            "Nordland"
           ],
           "legendgroup": "Helse Nord",
           "marker": {
            "color": "#EF553B"
           },
           "name": "Helse Nord",
           "offsetgroup": "Helse Nord",
           "orientation": "h",
           "showlegend": true,
           "text": [
            "0.1",
            "0.05"
           ],
           "textposition": "auto",
           "type": "bar",
           "x": [
            0.09863919017224869,
            0.04559869007399424
           ],
           "xaxis": "x",
           "y": [
            "Troms og Finnmark",
            "Nordland"
           ],
           "yaxis": "y"
          },
          {
           "alignmentgroup": "True",
           "hoverlabel": {
            "namelength": 0
           },
           "hovertemplate": "RHF=Helse Sør-Øst<br>Dato=17 Mar<br>Smittede/tusen innb=%{x}<br>Fylke=%{y}<br>txt=%{text}",
           "ids": [
            "Viken",
            "Vestfold og Telemark",
            "Agder",
            "Oslo",
            "Innlandet"
           ],
           "legendgroup": "Helse Sør-Øst",
           "marker": {
            "color": "#00cc96"
           },
           "name": "Helse Sør-Øst",
           "offsetgroup": "Helse Sør-Øst",
           "orientation": "h",
           "showlegend": true,
           "text": [
            "0.29",
            "0.14",
            "0.22",
            "0.47",
            "0.24"
           ],
           "textposition": "auto",
           "type": "bar",
           "x": [
            0.2884386846229148,
            0.14067849955650508,
            0.21807695187009124,
            0.47440929553824546,
            0.2369508730831886
           ],
           "xaxis": "x",
           "y": [
            "Viken",
            "Vestfold og Telemark",
            "Agder",
            "Oslo",
            "Innlandet"
           ],
           "yaxis": "y"
          },
          {
           "alignmentgroup": "True",
           "hoverlabel": {
            "namelength": 0
           },
           "hovertemplate": "RHF=Helse Vest<br>Dato=17 Mar<br>Smittede/tusen innb=%{x}<br>Fylke=%{y}<br>txt=%{text}",
           "ids": [
            "Rogaland",
            "Vestland"
           ],
           "legendgroup": "Helse Vest",
           "marker": {
            "color": "#ab63fa"
           },
           "name": "Helse Vest",
           "offsetgroup": "Helse Vest",
           "orientation": "h",
           "showlegend": true,
           "text": [
            "0.31",
            "0.22"
           ],
           "textposition": "auto",
           "type": "bar",
           "x": [
            0.3125703283238729,
            0.2215131706075588
           ],
           "xaxis": "x",
           "y": [
            "Rogaland",
            "Vestland"
           ],
           "yaxis": "y"
          }
         ],
         "name": "17 Mar"
        },
        {
         "data": [
          {
           "alignmentgroup": "True",
           "hoverlabel": {
            "namelength": 0
           },
           "hovertemplate": "RHF=Helse Midt-Norge<br>Dato=18 Mar<br>Smittede/tusen innb=%{x}<br>Fylke=%{y}<br>txt=%{text}",
           "ids": [
            "Trøndelag",
            "Møre og Romsdal"
           ],
           "legendgroup": "Helse Midt-Norge",
           "marker": {
            "color": "#636efa"
           },
           "name": "Helse Midt-Norge",
           "offsetgroup": "Helse Midt-Norge",
           "orientation": "h",
           "showlegend": true,
           "text": [
            "0.15",
            "0.08"
           ],
           "textposition": "auto",
           "type": "bar",
           "x": [
            0.14934862663270052,
            0.07540397680573674
           ],
           "xaxis": "x",
           "y": [
            "Trøndelag",
            "Møre og Romsdal"
           ],
           "yaxis": "y"
          },
          {
           "alignmentgroup": "True",
           "hoverlabel": {
            "namelength": 0
           },
           "hovertemplate": "RHF=Helse Nord<br>Dato=18 Mar<br>Smittede/tusen innb=%{x}<br>Fylke=%{y}<br>txt=%{text}",
           "ids": [
            "Troms og Finnmark",
            "Nordland"
           ],
           "legendgroup": "Helse Nord",
           "marker": {
            "color": "#EF553B"
           },
           "name": "Helse Nord",
           "offsetgroup": "Helse Nord",
           "orientation": "h",
           "showlegend": true,
           "text": [
            "0.12",
            "0.05"
           ],
           "textposition": "auto",
           "type": "bar",
           "x": [
            0.11507905520095679,
            0.04974402553526644
           ],
           "xaxis": "x",
           "y": [
            "Troms og Finnmark",
            "Nordland"
           ],
           "yaxis": "y"
          },
          {
           "alignmentgroup": "True",
           "hoverlabel": {
            "namelength": 0
           },
           "hovertemplate": "RHF=Helse Sør-Øst<br>Dato=18 Mar<br>Smittede/tusen innb=%{x}<br>Fylke=%{y}<br>txt=%{text}",
           "ids": [
            "Viken",
            "Oslo",
            "Innlandet",
            "Agder",
            "Vestfold og Telemark"
           ],
           "legendgroup": "Helse Sør-Øst",
           "marker": {
            "color": "#00cc96"
           },
           "name": "Helse Sør-Øst",
           "offsetgroup": "Helse Sør-Øst",
           "orientation": "h",
           "showlegend": true,
           "text": [
            "0.33",
            "0.5",
            "0.26",
            "0.22",
            "0.15"
           ],
           "textposition": "auto",
           "type": "bar",
           "x": [
            0.33033480641171803,
            0.5018067928489648,
            0.2611844851030602,
            0.21807695187009124,
            0.15021602495016642
           ],
           "xaxis": "x",
           "y": [
            "Viken",
            "Oslo",
            "Innlandet",
            "Agder",
            "Vestfold og Telemark"
           ],
           "yaxis": "y"
          },
          {
           "alignmentgroup": "True",
           "hoverlabel": {
            "namelength": 0
           },
           "hovertemplate": "RHF=Helse Vest<br>Dato=18 Mar<br>Smittede/tusen innb=%{x}<br>Fylke=%{y}<br>txt=%{text}",
           "ids": [
            "Vestland",
            "Rogaland"
           ],
           "legendgroup": "Helse Vest",
           "marker": {
            "color": "#ab63fa"
           },
           "name": "Helse Vest",
           "offsetgroup": "Helse Vest",
           "orientation": "h",
           "showlegend": true,
           "text": [
            "0.23",
            "0.34"
           ],
           "textposition": "auto",
           "type": "bar",
           "x": [
            0.2309392629738379,
            0.33549215240095687
           ],
           "xaxis": "x",
           "y": [
            "Vestland",
            "Rogaland"
           ],
           "yaxis": "y"
          }
         ],
         "name": "18 Mar"
        },
        {
         "data": [
          {
           "alignmentgroup": "True",
           "hoverlabel": {
            "namelength": 0
           },
           "hovertemplate": "RHF=Helse Midt-Norge<br>Dato=19 Mar<br>Smittede/tusen innb=%{x}<br>Fylke=%{y}<br>txt=%{text}",
           "ids": [
            "Møre og Romsdal",
            "Trøndelag"
           ],
           "legendgroup": "Helse Midt-Norge",
           "marker": {
            "color": "#636efa"
           },
           "name": "Helse Midt-Norge",
           "offsetgroup": "Helse Midt-Norge",
           "orientation": "h",
           "showlegend": true,
           "text": [
            "0.09",
            "0.16"
           ],
           "textposition": "auto",
           "type": "bar",
           "x": [
            0.09425497100717092,
            0.16001638567789342
           ],
           "xaxis": "x",
           "y": [
            "Møre og Romsdal",
            "Trøndelag"
           ],
           "yaxis": "y"
          },
          {
           "alignmentgroup": "True",
           "hoverlabel": {
            "namelength": 0
           },
           "hovertemplate": "RHF=Helse Nord<br>Dato=19 Mar<br>Smittede/tusen innb=%{x}<br>Fylke=%{y}<br>txt=%{text}",
           "ids": [
            "Nordland",
            "Troms og Finnmark"
           ],
           "legendgroup": "Helse Nord",
           "marker": {
            "color": "#EF553B"
           },
           "name": "Helse Nord",
           "offsetgroup": "Helse Nord",
           "orientation": "h",
           "showlegend": true,
           "text": [
            "0.05",
            "0.12"
           ],
           "textposition": "auto",
           "type": "bar",
           "x": [
            0.05388936099653864,
            0.11507905520095679
           ],
           "xaxis": "x",
           "y": [
            "Nordland",
            "Troms og Finnmark"
           ],
           "yaxis": "y"
          },
          {
           "alignmentgroup": "True",
           "hoverlabel": {
            "namelength": 0
           },
           "hovertemplate": "RHF=Helse Sør-Øst<br>Dato=19 Mar<br>Smittede/tusen innb=%{x}<br>Fylke=%{y}<br>txt=%{text}",
           "ids": [
            "Innlandet",
            "Agder",
            "Viken",
            "Vestfold og Telemark",
            "Oslo"
           ],
           "legendgroup": "Helse Sør-Øst",
           "marker": {
            "color": "#00cc96"
           },
           "name": "Helse Sør-Øst",
           "offsetgroup": "Helse Sør-Øst",
           "orientation": "h",
           "showlegend": true,
           "text": [
            "0.28",
            "0.24",
            "0.36",
            "0.15",
            "0.57"
           ],
           "textposition": "auto",
           "type": "bar",
           "x": [
            0.28272547356516825,
            0.24411599089935587,
            0.35853411915418176,
            0.1549847876469971,
            0.5652536287264202
           ],
           "xaxis": "x",
           "y": [
            "Innlandet",
            "Agder",
            "Viken",
            "Vestfold og Telemark",
            "Oslo"
           ],
           "yaxis": "y"
          },
          {
           "alignmentgroup": "True",
           "hoverlabel": {
            "namelength": 0
           },
           "hovertemplate": "RHF=Helse Vest<br>Dato=19 Mar<br>Smittede/tusen innb=%{x}<br>Fylke=%{y}<br>txt=%{text}",
           "ids": [
            "Vestland",
            "Rogaland"
           ],
           "legendgroup": "Helse Vest",
           "marker": {
            "color": "#ab63fa"
           },
           "name": "Helse Vest",
           "offsetgroup": "Helse Vest",
           "orientation": "h",
           "showlegend": true,
           "text": [
            "0.24",
            "0.37"
           ],
           "textposition": "auto",
           "type": "bar",
           "x": [
            0.240365355340117,
            0.36674918523334415
           ],
           "xaxis": "x",
           "y": [
            "Vestland",
            "Rogaland"
           ],
           "yaxis": "y"
          }
         ],
         "name": "19 Mar"
        },
        {
         "data": [
          {
           "alignmentgroup": "True",
           "hoverlabel": {
            "namelength": 0
           },
           "hovertemplate": "RHF=Helse Midt-Norge<br>Dato=20 Mar<br>Smittede/tusen innb=%{x}<br>Fylke=%{y}<br>txt=%{text}",
           "ids": [
            "Trøndelag",
            "Møre og Romsdal"
           ],
           "legendgroup": "Helse Midt-Norge",
           "marker": {
            "color": "#636efa"
           },
           "name": "Helse Midt-Norge",
           "offsetgroup": "Helse Midt-Norge",
           "orientation": "h",
           "showlegend": true,
           "text": [
            "0.21",
            "0.11"
           ],
           "textposition": "auto",
           "type": "bar",
           "x": [
            0.20695452547674215,
            0.10933576636831827
           ],
           "xaxis": "x",
           "y": [
            "Trøndelag",
            "Møre og Romsdal"
           ],
           "yaxis": "y"
          },
          {
           "alignmentgroup": "True",
           "hoverlabel": {
            "namelength": 0
           },
           "hovertemplate": "RHF=Helse Nord<br>Dato=20 Mar<br>Smittede/tusen innb=%{x}<br>Fylke=%{y}<br>txt=%{text}",
           "ids": [
            "Nordland",
            "Troms og Finnmark"
           ],
           "legendgroup": "Helse Nord",
           "marker": {
            "color": "#EF553B"
           },
           "name": "Helse Nord",
           "offsetgroup": "Helse Nord",
           "orientation": "h",
           "showlegend": true,
           "text": [
            "0.07",
            "0.13"
           ],
           "textposition": "auto",
           "type": "bar",
           "x": [
            0.07047070284162746,
            0.1315189202296649
           ],
           "xaxis": "x",
           "y": [
            "Nordland",
            "Troms og Finnmark"
           ],
           "yaxis": "y"
          },
          {
           "alignmentgroup": "True",
           "hoverlabel": {
            "namelength": 0
           },
           "hovertemplate": "RHF=Helse Sør-Øst<br>Dato=20 Mar<br>Smittede/tusen innb=%{x}<br>Fylke=%{y}<br>txt=%{text}",
           "ids": [
            "Agder",
            "Innlandet",
            "Oslo",
            "Viken",
            "Vestfold og Telemark"
           ],
           "legendgroup": "Helse Sør-Øst",
           "marker": {
            "color": "#00cc96"
           },
           "name": "Helse Sør-Øst",
           "offsetgroup": "Helse Sør-Øst",
           "orientation": "h",
           "showlegend": true,
           "text": [
            "0.26",
            "0.31",
            "0.6",
            "0.43",
            "0.17"
           ],
           "textposition": "auto",
           "type": "bar",
           "x": [
            0.2571355104139882,
            0.3096517091428033,
            0.6041869143784949,
            0.4262124697360947,
            0.17167545708590448
           ],
           "xaxis": "x",
           "y": [
            "Agder",
            "Innlandet",
            "Oslo",
            "Viken",
            "Vestfold og Telemark"
           ],
           "yaxis": "y"
          },
          {
           "alignmentgroup": "True",
           "hoverlabel": {
            "namelength": 0
           },
           "hovertemplate": "RHF=Helse Vest<br>Dato=20 Mar<br>Smittede/tusen innb=%{x}<br>Fylke=%{y}<br>txt=%{text}",
           "ids": [
            "Vestland",
            "Rogaland"
           ],
           "legendgroup": "Helse Vest",
           "marker": {
            "color": "#ab63fa"
           },
           "name": "Helse Vest",
           "offsetgroup": "Helse Vest",
           "orientation": "h",
           "showlegend": true,
           "text": [
            "0.27",
            "0.38"
           ],
           "textposition": "auto",
           "type": "bar",
           "x": [
            0.27178566322771397,
            0.37508439398864746
           ],
           "xaxis": "x",
           "y": [
            "Vestland",
            "Rogaland"
           ],
           "yaxis": "y"
          }
         ],
         "name": "20 Mar"
        },
        {
         "data": [
          {
           "alignmentgroup": "True",
           "hoverlabel": {
            "namelength": 0
           },
           "hovertemplate": "RHF=Helse Midt-Norge<br>Dato=21 Mar<br>Smittede/tusen innb=%{x}<br>Fylke=%{y}<br>txt=%{text}",
           "ids": [
            "Trøndelag",
            "Møre og Romsdal"
           ],
           "legendgroup": "Helse Midt-Norge",
           "marker": {
            "color": "#636efa"
           },
           "name": "Helse Midt-Norge",
           "offsetgroup": "Helse Midt-Norge",
           "orientation": "h",
           "showlegend": true,
           "text": [
            "0.26",
            "0.12"
           ],
           "textposition": "auto",
           "type": "bar",
           "x": [
            0.2602933207027066,
            0.12064636288917878
           ],
           "xaxis": "x",
           "y": [
            "Trøndelag",
            "Møre og Romsdal"
           ],
           "yaxis": "y"
          },
          {
           "alignmentgroup": "True",
           "hoverlabel": {
            "namelength": 0
           },
           "hovertemplate": "RHF=Helse Nord<br>Dato=21 Mar<br>Smittede/tusen innb=%{x}<br>Fylke=%{y}<br>txt=%{text}",
           "ids": [
            "Nordland",
            "Troms og Finnmark"
           ],
           "legendgroup": "Helse Nord",
           "marker": {
            "color": "#EF553B"
           },
           "name": "Helse Nord",
           "offsetgroup": "Helse Nord",
           "orientation": "h",
           "showlegend": true,
           "text": [
            "0.07",
            "0.15"
           ],
           "textposition": "auto",
           "type": "bar",
           "x": [
            0.07047070284162746,
            0.15206875151555005
           ],
           "xaxis": "x",
           "y": [
            "Nordland",
            "Troms og Finnmark"
           ],
           "yaxis": "y"
          },
          {
           "alignmentgroup": "True",
           "hoverlabel": {
            "namelength": 0
           },
           "hovertemplate": "RHF=Helse Sør-Øst<br>Dato=21 Mar<br>Smittede/tusen innb=%{x}<br>Fylke=%{y}<br>txt=%{text}",
           "ids": [
            "Vestfold og Telemark",
            "Innlandet",
            "Oslo",
            "Viken",
            "Agder"
           ],
           "legendgroup": "Helse Sør-Øst",
           "marker": {
            "color": "#00cc96"
           },
           "name": "Helse Sør-Øst",
           "offsetgroup": "Helse Sør-Øst",
           "orientation": "h",
           "showlegend": true,
           "text": [
            "0.19",
            "0.34",
            "0.65",
            "0.47",
            "0.27"
           ],
           "textposition": "auto",
           "type": "bar",
           "x": [
            0.19313488922164254,
            0.3365779447204384,
            0.6460041471159087,
            0.46971998082446736,
            0.2669001500499624
           ],
           "xaxis": "x",
           "y": [
            "Vestfold og Telemark",
            "Innlandet",
            "Oslo",
            "Viken",
            "Agder"
           ],
           "yaxis": "y"
          },
          {
           "alignmentgroup": "True",
           "hoverlabel": {
            "namelength": 0
           },
           "hovertemplate": "RHF=Helse Vest<br>Dato=21 Mar<br>Smittede/tusen innb=%{x}<br>Fylke=%{y}<br>txt=%{text}",
           "ids": [
            "Rogaland",
            "Vestland"
           ],
           "legendgroup": "Helse Vest",
           "marker": {
            "color": "#ab63fa"
           },
           "name": "Helse Vest",
           "offsetgroup": "Helse Vest",
           "orientation": "h",
           "showlegend": true,
           "text": [
            "0.41",
            "0.31"
           ],
           "textposition": "auto",
           "type": "bar",
           "x": [
            0.414676635576338,
            0.31420307887596993
           ],
           "xaxis": "x",
           "y": [
            "Rogaland",
            "Vestland"
           ],
           "yaxis": "y"
          }
         ],
         "name": "21 Mar"
        },
        {
         "data": [
          {
           "alignmentgroup": "True",
           "hoverlabel": {
            "namelength": 0
           },
           "hovertemplate": "RHF=Helse Midt-Norge<br>Dato=22 Mar<br>Smittede/tusen innb=%{x}<br>Fylke=%{y}<br>txt=%{text}",
           "ids": [
            "Møre og Romsdal",
            "Trøndelag"
           ],
           "legendgroup": "Helse Midt-Norge",
           "marker": {
            "color": "#636efa"
           },
           "name": "Helse Midt-Norge",
           "offsetgroup": "Helse Midt-Norge",
           "orientation": "h",
           "showlegend": true,
           "text": [
            "0.14",
            "0.28"
           ],
           "textposition": "auto",
           "type": "bar",
           "x": [
            0.1432675559308998,
            0.27949528698405385
           ],
           "xaxis": "x",
           "y": [
            "Møre og Romsdal",
            "Trøndelag"
           ],
           "yaxis": "y"
          },
          {
           "alignmentgroup": "True",
           "hoverlabel": {
            "namelength": 0
           },
           "hovertemplate": "RHF=Helse Nord<br>Dato=22 Mar<br>Smittede/tusen innb=%{x}<br>Fylke=%{y}<br>txt=%{text}",
           "ids": [
            "Troms og Finnmark",
            "Nordland"
           ],
           "legendgroup": "Helse Nord",
           "marker": {
            "color": "#EF553B"
           },
           "name": "Helse Nord",
           "offsetgroup": "Helse Nord",
           "orientation": "h",
           "showlegend": true,
           "text": [
            "0.2",
            "0.07"
           ],
           "textposition": "auto",
           "type": "bar",
           "x": [
            0.2013883466016744,
            0.07461603830289966
           ],
           "xaxis": "x",
           "y": [
            "Troms og Finnmark",
            "Nordland"
           ],
           "yaxis": "y"
          },
          {
           "alignmentgroup": "True",
           "hoverlabel": {
            "namelength": 0
           },
           "hovertemplate": "RHF=Helse Sør-Øst<br>Dato=22 Mar<br>Smittede/tusen innb=%{x}<br>Fylke=%{y}<br>txt=%{text}",
           "ids": [
            "Viken",
            "Agder",
            "Oslo",
            "Vestfold og Telemark",
            "Innlandet"
           ],
           "legendgroup": "Helse Sør-Øst",
           "marker": {
            "color": "#00cc96"
           },
           "name": "Helse Sør-Øst",
           "offsetgroup": "Helse Sør-Øst",
           "orientation": "h",
           "showlegend": true,
           "text": [
            "0.5",
            "0.3",
            "0.75",
            "0.2",
            "0.4"
           ],
           "textposition": "auto",
           "type": "bar",
           "x": [
            0.49550220961757707,
            0.29619406895788514,
            0.7541521628161166,
            0.20267241461530391,
            0.398508286548999
           ],
           "xaxis": "x",
           "y": [
            "Viken",
            "Agder",
            "Oslo",
            "Vestfold og Telemark",
            "Innlandet"
           ],
           "yaxis": "y"
          },
          {
           "alignmentgroup": "True",
           "hoverlabel": {
            "namelength": 0
           },
           "hovertemplate": "RHF=Helse Vest<br>Dato=22 Mar<br>Smittede/tusen innb=%{x}<br>Fylke=%{y}<br>txt=%{text}",
           "ids": [
            "Rogaland",
            "Vestland"
           ],
           "legendgroup": "Helse Vest",
           "marker": {
            "color": "#ab63fa"
           },
           "name": "Helse Vest",
           "offsetgroup": "Helse Vest",
           "orientation": "h",
           "showlegend": true,
           "text": [
            "0.46",
            "0.34"
           ],
           "textposition": "auto",
           "type": "bar",
           "x": [
            0.4563526793528544,
            0.33619729439728785
           ],
           "xaxis": "x",
           "y": [
            "Rogaland",
            "Vestland"
           ],
           "yaxis": "y"
          }
         ],
         "name": "22 Mar"
        },
        {
         "data": [
          {
           "alignmentgroup": "True",
           "hoverlabel": {
            "namelength": 0
           },
           "hovertemplate": "RHF=Helse Midt-Norge<br>Dato=23 Mar<br>Smittede/tusen innb=%{x}<br>Fylke=%{y}<br>txt=%{text}",
           "ids": [
            "Møre og Romsdal",
            "Trøndelag"
           ],
           "legendgroup": "Helse Midt-Norge",
           "marker": {
            "color": "#636efa"
           },
           "name": "Helse Midt-Norge",
           "offsetgroup": "Helse Midt-Norge",
           "orientation": "h",
           "showlegend": true,
           "text": [
            "0.17",
            "0.31"
           ],
           "textposition": "auto",
           "type": "bar",
           "x": [
            0.16588874897262082,
            0.30723146050155536
           ],
           "xaxis": "x",
           "y": [
            "Møre og Romsdal",
            "Trøndelag"
           ],
           "yaxis": "y"
          },
          {
           "alignmentgroup": "True",
           "hoverlabel": {
            "namelength": 0
           },
           "hovertemplate": "RHF=Helse Nord<br>Dato=23 Mar<br>Smittede/tusen innb=%{x}<br>Fylke=%{y}<br>txt=%{text}",
           "ids": [
            "Troms og Finnmark",
            "Nordland"
           ],
           "legendgroup": "Helse Nord",
           "marker": {
            "color": "#EF553B"
           },
           "name": "Helse Nord",
           "offsetgroup": "Helse Nord",
           "orientation": "h",
           "showlegend": true,
           "text": [
            "0.23",
            "0.07"
           ],
           "textposition": "auto",
           "type": "bar",
           "x": [
            0.22604814414473656,
            0.07461603830289966
           ],
           "xaxis": "x",
           "y": [
            "Troms og Finnmark",
            "Nordland"
           ],
           "yaxis": "y"
          },
          {
           "alignmentgroup": "True",
           "hoverlabel": {
            "namelength": 0
           },
           "hovertemplate": "RHF=Helse Sør-Øst<br>Dato=23 Mar<br>Smittede/tusen innb=%{x}<br>Fylke=%{y}<br>txt=%{text}",
           "ids": [
            "Oslo",
            "Viken",
            "Vestfold og Telemark",
            "Innlandet",
            "Agder"
           ],
           "legendgroup": "Helse Sør-Øst",
           "marker": {
            "color": "#00cc96"
           },
           "name": "Helse Sør-Øst",
           "offsetgroup": "Helse Sør-Øst",
           "orientation": "h",
           "showlegend": true,
           "text": [
            "0.92",
            "0.54",
            "0.21",
            "0.41",
            "0.3"
           ],
           "textposition": "auto",
           "type": "bar",
           "x": [
            0.9170951731377632,
            0.5430381939548731,
            0.20744117731213457,
            0.4065861572222895,
            0.29619406895788514
           ],
           "xaxis": "x",
           "y": [
            "Oslo",
            "Viken",
            "Vestfold og Telemark",
            "Innlandet",
            "Agder"
           ],
           "yaxis": "y"
          },
          {
           "alignmentgroup": "True",
           "hoverlabel": {
            "namelength": 0
           },
           "hovertemplate": "RHF=Helse Vest<br>Dato=23 Mar<br>Smittede/tusen innb=%{x}<br>Fylke=%{y}<br>txt=%{text}",
           "ids": [
            "Rogaland",
            "Vestland"
           ],
           "legendgroup": "Helse Vest",
           "marker": {
            "color": "#ab63fa"
           },
           "name": "Helse Vest",
           "offsetgroup": "Helse Vest",
           "orientation": "h",
           "showlegend": true,
           "text": [
            "0.49",
            "0.37"
           ],
           "textposition": "auto",
           "type": "bar",
           "x": [
            0.4938611187517191,
            0.3676176022848848
           ],
           "xaxis": "x",
           "y": [
            "Rogaland",
            "Vestland"
           ],
           "yaxis": "y"
          }
         ],
         "name": "23 Mar"
        },
        {
         "data": [
          {
           "alignmentgroup": "True",
           "hoverlabel": {
            "namelength": 0
           },
           "hovertemplate": "RHF=Helse Midt-Norge<br>Dato=24 Mar<br>Smittede/tusen innb=%{x}<br>Fylke=%{y}<br>txt=%{text}",
           "ids": [
            "Trøndelag",
            "Møre og Romsdal"
           ],
           "legendgroup": "Helse Midt-Norge",
           "marker": {
            "color": "#636efa"
           },
           "name": "Helse Midt-Norge",
           "offsetgroup": "Helse Midt-Norge",
           "orientation": "h",
           "showlegend": true,
           "text": [
            "0.34",
            "0.17"
           ],
           "textposition": "auto",
           "type": "bar",
           "x": [
            0.33710118582809545,
            0.17342914665319448
           ],
           "xaxis": "x",
           "y": [
            "Trøndelag",
            "Møre og Romsdal"
           ],
           "yaxis": "y"
          },
          {
           "alignmentgroup": "True",
           "hoverlabel": {
            "namelength": 0
           },
           "hovertemplate": "RHF=Helse Nord<br>Dato=24 Mar<br>Smittede/tusen innb=%{x}<br>Fylke=%{y}<br>txt=%{text}",
           "ids": [
            "Nordland",
            "Troms og Finnmark"
           ],
           "legendgroup": "Helse Nord",
           "marker": {
            "color": "#EF553B"
           },
           "name": "Helse Nord",
           "offsetgroup": "Helse Nord",
           "orientation": "h",
           "showlegend": true,
           "text": [
            "0.07",
            "0.24"
           ],
           "textposition": "auto",
           "type": "bar",
           "x": [
            0.07461603830289966,
            0.24248800917344468
           ],
           "xaxis": "x",
           "y": [
            "Nordland",
            "Troms og Finnmark"
           ],
           "yaxis": "y"
          },
          {
           "alignmentgroup": "True",
           "hoverlabel": {
            "namelength": 0
           },
           "hovertemplate": "RHF=Helse Sør-Øst<br>Dato=24 Mar<br>Smittede/tusen innb=%{x}<br>Fylke=%{y}<br>txt=%{text}",
           "ids": [
            "Vestfold og Telemark",
            "Oslo",
            "Agder",
            "Innlandet",
            "Viken"
           ],
           "legendgroup": "Helse Sør-Øst",
           "marker": {
            "color": "#00cc96"
           },
           "name": "Helse Sør-Øst",
           "offsetgroup": "Helse Sør-Øst",
           "orientation": "h",
           "showlegend": true,
           "text": [
            "0.23",
            "0.95",
            "0.3",
            "0.44",
            "0.6"
           ],
           "textposition": "auto",
           "type": "bar",
           "x": [
            0.22651622809945732,
            0.9473766175338214,
            0.2994489488365432,
            0.4388976399154516,
            0.6026595980389392
           ],
           "xaxis": "x",
           "y": [
            "Vestfold og Telemark",
            "Oslo",
            "Agder",
            "Innlandet",
            "Viken"
           ],
           "yaxis": "y"
          },
          {
           "alignmentgroup": "True",
           "hoverlabel": {
            "namelength": 0
           },
           "hovertemplate": "RHF=Helse Vest<br>Dato=24 Mar<br>Smittede/tusen innb=%{x}<br>Fylke=%{y}<br>txt=%{text}",
           "ids": [
            "Rogaland",
            "Vestland"
           ],
           "legendgroup": "Helse Vest",
           "marker": {
            "color": "#ab63fa"
           },
           "name": "Helse Vest",
           "offsetgroup": "Helse Vest",
           "orientation": "h",
           "showlegend": true,
           "text": [
            "0.52",
            "0.44"
           ],
           "textposition": "auto",
           "type": "bar",
           "x": [
            0.5230343493952806,
            0.4383132950319781
           ],
           "xaxis": "x",
           "y": [
            "Rogaland",
            "Vestland"
           ],
           "yaxis": "y"
          }
         ],
         "name": "24 Mar"
        }
       ],
       "layout": {
        "autosize": true,
        "barmode": "relative",
        "coloraxis": {
         "showscale": false
        },
        "height": 600,
        "legend": {
         "title": {
          "text": "RHF"
         },
         "tracegroupgap": 0
        },
        "margin": {
         "b": 0,
         "l": 100,
         "r": 100,
         "t": 150
        },
        "paper_bgcolor": "rgba(0, 0, 0, 0)",
        "sliders": [
         {
          "active": 0,
          "currentvalue": {
           "prefix": "Dato="
          },
          "len": 0.9,
          "pad": {
           "b": 10,
           "t": 60
          },
          "steps": [
           {
            "args": [
             [
              "02 Mar"
             ],
             {
              "frame": {
               "duration": 0,
               "redraw": true
              },
              "fromcurrent": true,
              "mode": "immediate",
              "transition": {
               "duration": 0,
               "easing": "linear"
              }
             }
            ],
            "label": "02 Mar",
            "method": "animate"
           },
           {
            "args": [
             [
              "03 Mar"
             ],
             {
              "frame": {
               "duration": 0,
               "redraw": true
              },
              "fromcurrent": true,
              "mode": "immediate",
              "transition": {
               "duration": 0,
               "easing": "linear"
              }
             }
            ],
            "label": "03 Mar",
            "method": "animate"
           },
           {
            "args": [
             [
              "04 Mar"
             ],
             {
              "frame": {
               "duration": 0,
               "redraw": true
              },
              "fromcurrent": true,
              "mode": "immediate",
              "transition": {
               "duration": 0,
               "easing": "linear"
              }
             }
            ],
            "label": "04 Mar",
            "method": "animate"
           },
           {
            "args": [
             [
              "05 Mar"
             ],
             {
              "frame": {
               "duration": 0,
               "redraw": true
              },
              "fromcurrent": true,
              "mode": "immediate",
              "transition": {
               "duration": 0,
               "easing": "linear"
              }
             }
            ],
            "label": "05 Mar",
            "method": "animate"
           },
           {
            "args": [
             [
              "06 Mar"
             ],
             {
              "frame": {
               "duration": 0,
               "redraw": true
              },
              "fromcurrent": true,
              "mode": "immediate",
              "transition": {
               "duration": 0,
               "easing": "linear"
              }
             }
            ],
            "label": "06 Mar",
            "method": "animate"
           },
           {
            "args": [
             [
              "07 Mar"
             ],
             {
              "frame": {
               "duration": 0,
               "redraw": true
              },
              "fromcurrent": true,
              "mode": "immediate",
              "transition": {
               "duration": 0,
               "easing": "linear"
              }
             }
            ],
            "label": "07 Mar",
            "method": "animate"
           },
           {
            "args": [
             [
              "08 Mar"
             ],
             {
              "frame": {
               "duration": 0,
               "redraw": true
              },
              "fromcurrent": true,
              "mode": "immediate",
              "transition": {
               "duration": 0,
               "easing": "linear"
              }
             }
            ],
            "label": "08 Mar",
            "method": "animate"
           },
           {
            "args": [
             [
              "09 Mar"
             ],
             {
              "frame": {
               "duration": 0,
               "redraw": true
              },
              "fromcurrent": true,
              "mode": "immediate",
              "transition": {
               "duration": 0,
               "easing": "linear"
              }
             }
            ],
            "label": "09 Mar",
            "method": "animate"
           },
           {
            "args": [
             [
              "10 Mar"
             ],
             {
              "frame": {
               "duration": 0,
               "redraw": true
              },
              "fromcurrent": true,
              "mode": "immediate",
              "transition": {
               "duration": 0,
               "easing": "linear"
              }
             }
            ],
            "label": "10 Mar",
            "method": "animate"
           },
           {
            "args": [
             [
              "11 Mar"
             ],
             {
              "frame": {
               "duration": 0,
               "redraw": true
              },
              "fromcurrent": true,
              "mode": "immediate",
              "transition": {
               "duration": 0,
               "easing": "linear"
              }
             }
            ],
            "label": "11 Mar",
            "method": "animate"
           },
           {
            "args": [
             [
              "12 Mar"
             ],
             {
              "frame": {
               "duration": 0,
               "redraw": true
              },
              "fromcurrent": true,
              "mode": "immediate",
              "transition": {
               "duration": 0,
               "easing": "linear"
              }
             }
            ],
            "label": "12 Mar",
            "method": "animate"
           },
           {
            "args": [
             [
              "13 Mar"
             ],
             {
              "frame": {
               "duration": 0,
               "redraw": true
              },
              "fromcurrent": true,
              "mode": "immediate",
              "transition": {
               "duration": 0,
               "easing": "linear"
              }
             }
            ],
            "label": "13 Mar",
            "method": "animate"
           },
           {
            "args": [
             [
              "14 Mar"
             ],
             {
              "frame": {
               "duration": 0,
               "redraw": true
              },
              "fromcurrent": true,
              "mode": "immediate",
              "transition": {
               "duration": 0,
               "easing": "linear"
              }
             }
            ],
            "label": "14 Mar",
            "method": "animate"
           },
           {
            "args": [
             [
              "15 Mar"
             ],
             {
              "frame": {
               "duration": 0,
               "redraw": true
              },
              "fromcurrent": true,
              "mode": "immediate",
              "transition": {
               "duration": 0,
               "easing": "linear"
              }
             }
            ],
            "label": "15 Mar",
            "method": "animate"
           },
           {
            "args": [
             [
              "16 Mar"
             ],
             {
              "frame": {
               "duration": 0,
               "redraw": true
              },
              "fromcurrent": true,
              "mode": "immediate",
              "transition": {
               "duration": 0,
               "easing": "linear"
              }
             }
            ],
            "label": "16 Mar",
            "method": "animate"
           },
           {
            "args": [
             [
              "17 Mar"
             ],
             {
              "frame": {
               "duration": 0,
               "redraw": true
              },
              "fromcurrent": true,
              "mode": "immediate",
              "transition": {
               "duration": 0,
               "easing": "linear"
              }
             }
            ],
            "label": "17 Mar",
            "method": "animate"
           },
           {
            "args": [
             [
              "18 Mar"
             ],
             {
              "frame": {
               "duration": 0,
               "redraw": true
              },
              "fromcurrent": true,
              "mode": "immediate",
              "transition": {
               "duration": 0,
               "easing": "linear"
              }
             }
            ],
            "label": "18 Mar",
            "method": "animate"
           },
           {
            "args": [
             [
              "19 Mar"
             ],
             {
              "frame": {
               "duration": 0,
               "redraw": true
              },
              "fromcurrent": true,
              "mode": "immediate",
              "transition": {
               "duration": 0,
               "easing": "linear"
              }
             }
            ],
            "label": "19 Mar",
            "method": "animate"
           },
           {
            "args": [
             [
              "20 Mar"
             ],
             {
              "frame": {
               "duration": 0,
               "redraw": true
              },
              "fromcurrent": true,
              "mode": "immediate",
              "transition": {
               "duration": 0,
               "easing": "linear"
              }
             }
            ],
            "label": "20 Mar",
            "method": "animate"
           },
           {
            "args": [
             [
              "21 Mar"
             ],
             {
              "frame": {
               "duration": 0,
               "redraw": true
              },
              "fromcurrent": true,
              "mode": "immediate",
              "transition": {
               "duration": 0,
               "easing": "linear"
              }
             }
            ],
            "label": "21 Mar",
            "method": "animate"
           },
           {
            "args": [
             [
              "22 Mar"
             ],
             {
              "frame": {
               "duration": 0,
               "redraw": true
              },
              "fromcurrent": true,
              "mode": "immediate",
              "transition": {
               "duration": 0,
               "easing": "linear"
              }
             }
            ],
            "label": "22 Mar",
            "method": "animate"
           },
           {
            "args": [
             [
              "23 Mar"
             ],
             {
              "frame": {
               "duration": 0,
               "redraw": true
              },
              "fromcurrent": true,
              "mode": "immediate",
              "transition": {
               "duration": 0,
               "easing": "linear"
              }
             }
            ],
            "label": "23 Mar",
            "method": "animate"
           },
           {
            "args": [
             [
              "24 Mar"
             ],
             {
              "frame": {
               "duration": 0,
               "redraw": true
              },
              "fromcurrent": true,
              "mode": "immediate",
              "transition": {
               "duration": 0,
               "easing": "linear"
              }
             }
            ],
            "label": "24 Mar",
            "method": "animate"
           }
          ],
          "x": 0.1,
          "xanchor": "left",
          "y": 0,
          "yanchor": "top"
         }
        ],
        "template": {
         "data": {
          "bar": [
           {
            "error_x": {
             "color": "#2a3f5f"
            },
            "error_y": {
             "color": "#2a3f5f"
            },
            "marker": {
             "line": {
              "color": "white",
              "width": 0.5
             }
            },
            "type": "bar"
           }
          ],
          "barpolar": [
           {
            "marker": {
             "line": {
              "color": "white",
              "width": 0.5
             }
            },
            "type": "barpolar"
           }
          ],
          "carpet": [
           {
            "aaxis": {
             "endlinecolor": "#2a3f5f",
             "gridcolor": "#C8D4E3",
             "linecolor": "#C8D4E3",
             "minorgridcolor": "#C8D4E3",
             "startlinecolor": "#2a3f5f"
            },
            "baxis": {
             "endlinecolor": "#2a3f5f",
             "gridcolor": "#C8D4E3",
             "linecolor": "#C8D4E3",
             "minorgridcolor": "#C8D4E3",
             "startlinecolor": "#2a3f5f"
            },
            "type": "carpet"
           }
          ],
          "choropleth": [
           {
            "colorbar": {
             "outlinewidth": 0,
             "ticks": ""
            },
            "type": "choropleth"
           }
          ],
          "contour": [
           {
            "colorbar": {
             "outlinewidth": 0,
             "ticks": ""
            },
            "colorscale": [
             [
              0,
              "#0d0887"
             ],
             [
              0.1111111111111111,
              "#46039f"
             ],
             [
              0.2222222222222222,
              "#7201a8"
             ],
             [
              0.3333333333333333,
              "#9c179e"
             ],
             [
              0.4444444444444444,
              "#bd3786"
             ],
             [
              0.5555555555555556,
              "#d8576b"
             ],
             [
              0.6666666666666666,
              "#ed7953"
             ],
             [
              0.7777777777777778,
              "#fb9f3a"
             ],
             [
              0.8888888888888888,
              "#fdca26"
             ],
             [
              1,
              "#f0f921"
             ]
            ],
            "type": "contour"
           }
          ],
          "contourcarpet": [
           {
            "colorbar": {
             "outlinewidth": 0,
             "ticks": ""
            },
            "type": "contourcarpet"
           }
          ],
          "heatmap": [
           {
            "colorbar": {
             "outlinewidth": 0,
             "ticks": ""
            },
            "colorscale": [
             [
              0,
              "#0d0887"
             ],
             [
              0.1111111111111111,
              "#46039f"
             ],
             [
              0.2222222222222222,
              "#7201a8"
             ],
             [
              0.3333333333333333,
              "#9c179e"
             ],
             [
              0.4444444444444444,
              "#bd3786"
             ],
             [
              0.5555555555555556,
              "#d8576b"
             ],
             [
              0.6666666666666666,
              "#ed7953"
             ],
             [
              0.7777777777777778,
              "#fb9f3a"
             ],
             [
              0.8888888888888888,
              "#fdca26"
             ],
             [
              1,
              "#f0f921"
             ]
            ],
            "type": "heatmap"
           }
          ],
          "heatmapgl": [
           {
            "colorbar": {
             "outlinewidth": 0,
             "ticks": ""
            },
            "colorscale": [
             [
              0,
              "#0d0887"
             ],
             [
              0.1111111111111111,
              "#46039f"
             ],
             [
              0.2222222222222222,
              "#7201a8"
             ],
             [
              0.3333333333333333,
              "#9c179e"
             ],
             [
              0.4444444444444444,
              "#bd3786"
             ],
             [
              0.5555555555555556,
              "#d8576b"
             ],
             [
              0.6666666666666666,
              "#ed7953"
             ],
             [
              0.7777777777777778,
              "#fb9f3a"
             ],
             [
              0.8888888888888888,
              "#fdca26"
             ],
             [
              1,
              "#f0f921"
             ]
            ],
            "type": "heatmapgl"
           }
          ],
          "histogram": [
           {
            "marker": {
             "colorbar": {
              "outlinewidth": 0,
              "ticks": ""
             }
            },
            "type": "histogram"
           }
          ],
          "histogram2d": [
           {
            "colorbar": {
             "outlinewidth": 0,
             "ticks": ""
            },
            "colorscale": [
             [
              0,
              "#0d0887"
             ],
             [
              0.1111111111111111,
              "#46039f"
             ],
             [
              0.2222222222222222,
              "#7201a8"
             ],
             [
              0.3333333333333333,
              "#9c179e"
             ],
             [
              0.4444444444444444,
              "#bd3786"
             ],
             [
              0.5555555555555556,
              "#d8576b"
             ],
             [
              0.6666666666666666,
              "#ed7953"
             ],
             [
              0.7777777777777778,
              "#fb9f3a"
             ],
             [
              0.8888888888888888,
              "#fdca26"
             ],
             [
              1,
              "#f0f921"
             ]
            ],
            "type": "histogram2d"
           }
          ],
          "histogram2dcontour": [
           {
            "colorbar": {
             "outlinewidth": 0,
             "ticks": ""
            },
            "colorscale": [
             [
              0,
              "#0d0887"
             ],
             [
              0.1111111111111111,
              "#46039f"
             ],
             [
              0.2222222222222222,
              "#7201a8"
             ],
             [
              0.3333333333333333,
              "#9c179e"
             ],
             [
              0.4444444444444444,
              "#bd3786"
             ],
             [
              0.5555555555555556,
              "#d8576b"
             ],
             [
              0.6666666666666666,
              "#ed7953"
             ],
             [
              0.7777777777777778,
              "#fb9f3a"
             ],
             [
              0.8888888888888888,
              "#fdca26"
             ],
             [
              1,
              "#f0f921"
             ]
            ],
            "type": "histogram2dcontour"
           }
          ],
          "mesh3d": [
           {
            "colorbar": {
             "outlinewidth": 0,
             "ticks": ""
            },
            "type": "mesh3d"
           }
          ],
          "parcoords": [
           {
            "line": {
             "colorbar": {
              "outlinewidth": 0,
              "ticks": ""
             }
            },
            "type": "parcoords"
           }
          ],
          "pie": [
           {
            "automargin": true,
            "type": "pie"
           }
          ],
          "scatter": [
           {
            "marker": {
             "colorbar": {
              "outlinewidth": 0,
              "ticks": ""
             }
            },
            "type": "scatter"
           }
          ],
          "scatter3d": [
           {
            "line": {
             "colorbar": {
              "outlinewidth": 0,
              "ticks": ""
             }
            },
            "marker": {
             "colorbar": {
              "outlinewidth": 0,
              "ticks": ""
             }
            },
            "type": "scatter3d"
           }
          ],
          "scattercarpet": [
           {
            "marker": {
             "colorbar": {
              "outlinewidth": 0,
              "ticks": ""
             }
            },
            "type": "scattercarpet"
           }
          ],
          "scattergeo": [
           {
            "marker": {
             "colorbar": {
              "outlinewidth": 0,
              "ticks": ""
             }
            },
            "type": "scattergeo"
           }
          ],
          "scattergl": [
           {
            "marker": {
             "colorbar": {
              "outlinewidth": 0,
              "ticks": ""
             }
            },
            "type": "scattergl"
           }
          ],
          "scattermapbox": [
           {
            "marker": {
             "colorbar": {
              "outlinewidth": 0,
              "ticks": ""
             }
            },
            "type": "scattermapbox"
           }
          ],
          "scatterpolar": [
           {
            "marker": {
             "colorbar": {
              "outlinewidth": 0,
              "ticks": ""
             }
            },
            "type": "scatterpolar"
           }
          ],
          "scatterpolargl": [
           {
            "marker": {
             "colorbar": {
              "outlinewidth": 0,
              "ticks": ""
             }
            },
            "type": "scatterpolargl"
           }
          ],
          "scatterternary": [
           {
            "marker": {
             "colorbar": {
              "outlinewidth": 0,
              "ticks": ""
             }
            },
            "type": "scatterternary"
           }
          ],
          "surface": [
           {
            "colorbar": {
             "outlinewidth": 0,
             "ticks": ""
            },
            "colorscale": [
             [
              0,
              "#0d0887"
             ],
             [
              0.1111111111111111,
              "#46039f"
             ],
             [
              0.2222222222222222,
              "#7201a8"
             ],
             [
              0.3333333333333333,
              "#9c179e"
             ],
             [
              0.4444444444444444,
              "#bd3786"
             ],
             [
              0.5555555555555556,
              "#d8576b"
             ],
             [
              0.6666666666666666,
              "#ed7953"
             ],
             [
              0.7777777777777778,
              "#fb9f3a"
             ],
             [
              0.8888888888888888,
              "#fdca26"
             ],
             [
              1,
              "#f0f921"
             ]
            ],
            "type": "surface"
           }
          ],
          "table": [
           {
            "cells": {
             "fill": {
              "color": "#EBF0F8"
             },
             "line": {
              "color": "white"
             }
            },
            "header": {
             "fill": {
              "color": "#C8D4E3"
             },
             "line": {
              "color": "white"
             }
            },
            "type": "table"
           }
          ]
         },
         "layout": {
          "annotationdefaults": {
           "arrowcolor": "#2a3f5f",
           "arrowhead": 0,
           "arrowwidth": 1
          },
          "coloraxis": {
           "colorbar": {
            "outlinewidth": 0,
            "ticks": ""
           }
          },
          "colorscale": {
           "diverging": [
            [
             0,
             "#8e0152"
            ],
            [
             0.1,
             "#c51b7d"
            ],
            [
             0.2,
             "#de77ae"
            ],
            [
             0.3,
             "#f1b6da"
            ],
            [
             0.4,
             "#fde0ef"
            ],
            [
             0.5,
             "#f7f7f7"
            ],
            [
             0.6,
             "#e6f5d0"
            ],
            [
             0.7,
             "#b8e186"
            ],
            [
             0.8,
             "#7fbc41"
            ],
            [
             0.9,
             "#4d9221"
            ],
            [
             1,
             "#276419"
            ]
           ],
           "sequential": [
            [
             0,
             "#0d0887"
            ],
            [
             0.1111111111111111,
             "#46039f"
            ],
            [
             0.2222222222222222,
             "#7201a8"
            ],
            [
             0.3333333333333333,
             "#9c179e"
            ],
            [
             0.4444444444444444,
             "#bd3786"
            ],
            [
             0.5555555555555556,
             "#d8576b"
            ],
            [
             0.6666666666666666,
             "#ed7953"
            ],
            [
             0.7777777777777778,
             "#fb9f3a"
            ],
            [
             0.8888888888888888,
             "#fdca26"
            ],
            [
             1,
             "#f0f921"
            ]
           ],
           "sequentialminus": [
            [
             0,
             "#0d0887"
            ],
            [
             0.1111111111111111,
             "#46039f"
            ],
            [
             0.2222222222222222,
             "#7201a8"
            ],
            [
             0.3333333333333333,
             "#9c179e"
            ],
            [
             0.4444444444444444,
             "#bd3786"
            ],
            [
             0.5555555555555556,
             "#d8576b"
            ],
            [
             0.6666666666666666,
             "#ed7953"
            ],
            [
             0.7777777777777778,
             "#fb9f3a"
            ],
            [
             0.8888888888888888,
             "#fdca26"
            ],
            [
             1,
             "#f0f921"
            ]
           ]
          },
          "colorway": [
           "#636efa",
           "#EF553B",
           "#00cc96",
           "#ab63fa",
           "#FFA15A",
           "#19d3f3",
           "#FF6692",
           "#B6E880",
           "#FF97FF",
           "#FECB52"
          ],
          "font": {
           "color": "#2a3f5f"
          },
          "geo": {
           "bgcolor": "white",
           "lakecolor": "white",
           "landcolor": "white",
           "showlakes": true,
           "showland": true,
           "subunitcolor": "#C8D4E3"
          },
          "hoverlabel": {
           "align": "left"
          },
          "hovermode": "closest",
          "mapbox": {
           "style": "light"
          },
          "paper_bgcolor": "white",
          "plot_bgcolor": "white",
          "polar": {
           "angularaxis": {
            "gridcolor": "#EBF0F8",
            "linecolor": "#EBF0F8",
            "ticks": ""
           },
           "bgcolor": "white",
           "radialaxis": {
            "gridcolor": "#EBF0F8",
            "linecolor": "#EBF0F8",
            "ticks": ""
           }
          },
          "scene": {
           "xaxis": {
            "backgroundcolor": "white",
            "gridcolor": "#DFE8F3",
            "gridwidth": 2,
            "linecolor": "#EBF0F8",
            "showbackground": true,
            "ticks": "",
            "zerolinecolor": "#EBF0F8"
           },
           "yaxis": {
            "backgroundcolor": "white",
            "gridcolor": "#DFE8F3",
            "gridwidth": 2,
            "linecolor": "#EBF0F8",
            "showbackground": true,
            "ticks": "",
            "zerolinecolor": "#EBF0F8"
           },
           "zaxis": {
            "backgroundcolor": "white",
            "gridcolor": "#DFE8F3",
            "gridwidth": 2,
            "linecolor": "#EBF0F8",
            "showbackground": true,
            "ticks": "",
            "zerolinecolor": "#EBF0F8"
           }
          },
          "shapedefaults": {
           "line": {
            "color": "#2a3f5f"
           }
          },
          "ternary": {
           "aaxis": {
            "gridcolor": "#DFE8F3",
            "linecolor": "#A2B1C6",
            "ticks": ""
           },
           "baxis": {
            "gridcolor": "#DFE8F3",
            "linecolor": "#A2B1C6",
            "ticks": ""
           },
           "bgcolor": "white",
           "caxis": {
            "gridcolor": "#DFE8F3",
            "linecolor": "#A2B1C6",
            "ticks": ""
           }
          },
          "title": {
           "x": 0.05
          },
          "xaxis": {
           "automargin": true,
           "gridcolor": "#EBF0F8",
           "linecolor": "#EBF0F8",
           "ticks": "",
           "title": {
            "standoff": 15
           },
           "zerolinecolor": "#EBF0F8",
           "zerolinewidth": 2
          },
          "yaxis": {
           "automargin": true,
           "gridcolor": "#EBF0F8",
           "linecolor": "#EBF0F8",
           "ticks": "",
           "title": {
            "standoff": 15
           },
           "zerolinecolor": "#EBF0F8",
           "zerolinewidth": 2
          }
         }
        },
        "title": {
         "font": {
          "family": "Helvetica",
          "size": 18
         },
         "text": "<b>COVID19: Registrert smittet i Norge</b><br>Antall smittet per 1 000 innbyggere<br>Datakilde: FHI - folkehelseinstituttet. Oppdatert 25.03.2020"
        },
        "updatemenus": [
         {
          "buttons": [
           {
            "args": [
             null,
             {
              "frame": {
               "duration": 500,
               "redraw": true
              },
              "fromcurrent": true,
              "mode": "immediate",
              "transition": {
               "duration": 500,
               "easing": "linear"
              }
             }
            ],
            "label": "&#9654;",
            "method": "animate"
           },
           {
            "args": [
             [
              null
             ],
             {
              "frame": {
               "duration": 0,
               "redraw": true
              },
              "fromcurrent": true,
              "mode": "immediate",
              "transition": {
               "duration": 0,
               "easing": "linear"
              }
             }
            ],
            "label": "&#9724;",
            "method": "animate"
           }
          ],
          "direction": "left",
          "pad": {
           "r": 10,
           "t": 70
          },
          "showactive": false,
          "type": "buttons",
          "x": 0.1,
          "xanchor": "right",
          "y": 0,
          "yanchor": "top"
         }
        ],
        "xaxis": {
         "anchor": "y",
         "domain": [
          0,
          1
         ],
         "fixedrange": true,
         "range": [
          0,
          1
         ],
         "title": {
          "text": "per 1 000"
         }
        },
        "yaxis": {
         "anchor": "x",
         "categoryorder": "total ascending",
         "domain": [
          0,
          1
         ],
         "fixedrange": true,
         "separatethousands": true,
         "title": {
          "text": ""
         }
        }
       }
      },
      "text/html": [
       "<div>\n",
       "        \n",
       "        \n",
       "            <div id=\"ce276719-c38a-4ab5-a0a4-9b84c7ef9e44\" class=\"plotly-graph-div\" style=\"height:600px; width:100%;\"></div>\n",
       "            <script type=\"text/javascript\">\n",
       "                require([\"plotly\"], function(Plotly) {\n",
       "                    window.PLOTLYENV=window.PLOTLYENV || {};\n",
       "                    \n",
       "                if (document.getElementById(\"ce276719-c38a-4ab5-a0a4-9b84c7ef9e44\")) {\n",
       "                    Plotly.newPlot(\n",
       "                        'ce276719-c38a-4ab5-a0a4-9b84c7ef9e44',\n",
       "                        [{\"alignmentgroup\": \"True\", \"hoverlabel\": {\"namelength\": 0}, \"hovertemplate\": \"RHF=Helse Midt-Norge<br>Dato=02 Mar<br>Smittede/tusen innb=%{x}<br>Fylke=%{y}<br>txt=%{text}\", \"ids\": [\"Tr\\u00f8ndelag\", \"M\\u00f8re og Romsdal\"], \"legendgroup\": \"Helse Midt-Norge\", \"marker\": {\"color\": \"#636efa\"}, \"name\": \"Helse Midt-Norge\", \"offsetgroup\": \"Helse Midt-Norge\", \"orientation\": \"h\", \"showlegend\": true, \"text\": [\"0.0\", \"0.0\"], \"textposition\": \"auto\", \"type\": \"bar\", \"x\": [0.0, 0.0], \"xaxis\": \"x\", \"y\": [\"Tr\\u00f8ndelag\", \"M\\u00f8re og Romsdal\"], \"yaxis\": \"y\"}, {\"alignmentgroup\": \"True\", \"hoverlabel\": {\"namelength\": 0}, \"hovertemplate\": \"RHF=Helse Nord<br>Dato=02 Mar<br>Smittede/tusen innb=%{x}<br>Fylke=%{y}<br>txt=%{text}\", \"ids\": [\"Troms og Finnmark\", \"Nordland\"], \"legendgroup\": \"Helse Nord\", \"marker\": {\"color\": \"#EF553B\"}, \"name\": \"Helse Nord\", \"offsetgroup\": \"Helse Nord\", \"orientation\": \"h\", \"showlegend\": true, \"text\": [\"0.0\", \"0.0\"], \"textposition\": \"auto\", \"type\": \"bar\", \"x\": [0.004109966257177028, 0.0], \"xaxis\": \"x\", \"y\": [\"Troms og Finnmark\", \"Nordland\"], \"yaxis\": \"y\"}, {\"alignmentgroup\": \"True\", \"hoverlabel\": {\"namelength\": 0}, \"hovertemplate\": \"RHF=Helse S\\u00f8r-\\u00d8st<br>Dato=02 Mar<br>Smittede/tusen innb=%{x}<br>Fylke=%{y}<br>txt=%{text}\", \"ids\": [\"Agder\", \"Innlandet\", \"Oslo\", \"Viken\", \"Vestfold og Telemark\"], \"legendgroup\": \"Helse S\\u00f8r-\\u00d8st\", \"marker\": {\"color\": \"#00cc96\"}, \"name\": \"Helse S\\u00f8r-\\u00d8st\", \"offsetgroup\": \"Helse S\\u00f8r-\\u00d8st\", \"orientation\": \"h\", \"showlegend\": true, \"text\": [\"0.01\", \"0.0\", \"0.01\", \"0.0\", \"0.0\"], \"textposition\": \"auto\", \"type\": \"bar\", \"x\": [0.006509759757316156, 0.0, 0.010093814798686073, 0.004028473248923391, 0.0], \"xaxis\": \"x\", \"y\": [\"Agder\", \"Innlandet\", \"Oslo\", \"Viken\", \"Vestfold og Telemark\"], \"yaxis\": \"y\"}, {\"alignmentgroup\": \"True\", \"hoverlabel\": {\"namelength\": 0}, \"hovertemplate\": \"RHF=Helse Vest<br>Dato=02 Mar<br>Smittede/tusen innb=%{x}<br>Fylke=%{y}<br>txt=%{text}\", \"ids\": [\"Rogaland\", \"Vestland\"], \"legendgroup\": \"Helse Vest\", \"marker\": {\"color\": \"#ab63fa\"}, \"name\": \"Helse Vest\", \"offsetgroup\": \"Helse Vest\", \"orientation\": \"h\", \"showlegend\": true, \"text\": [\"0.0\", \"0.01\"], \"textposition\": \"auto\", \"type\": \"bar\", \"x\": [0.0, 0.014139138549418647], \"xaxis\": \"x\", \"y\": [\"Rogaland\", \"Vestland\"], \"yaxis\": \"y\"}],\n",
       "                        {\"autosize\": true, \"barmode\": \"relative\", \"coloraxis\": {\"showscale\": false}, \"height\": 600, \"legend\": {\"title\": {\"text\": \"RHF\"}, \"tracegroupgap\": 0}, \"margin\": {\"b\": 0, \"l\": 100, \"r\": 100, \"t\": 150}, \"paper_bgcolor\": \"rgba(0, 0, 0, 0)\", \"sliders\": [{\"active\": 0, \"currentvalue\": {\"prefix\": \"Dato=\"}, \"len\": 0.9, \"pad\": {\"b\": 10, \"t\": 60}, \"steps\": [{\"args\": [[\"02 Mar\"], {\"frame\": {\"duration\": 0, \"redraw\": true}, \"fromcurrent\": true, \"mode\": \"immediate\", \"transition\": {\"duration\": 0, \"easing\": \"linear\"}}], \"label\": \"02 Mar\", \"method\": \"animate\"}, {\"args\": [[\"03 Mar\"], {\"frame\": {\"duration\": 0, \"redraw\": true}, \"fromcurrent\": true, \"mode\": \"immediate\", \"transition\": {\"duration\": 0, \"easing\": \"linear\"}}], \"label\": \"03 Mar\", \"method\": \"animate\"}, {\"args\": [[\"04 Mar\"], {\"frame\": {\"duration\": 0, \"redraw\": true}, \"fromcurrent\": true, \"mode\": \"immediate\", \"transition\": {\"duration\": 0, \"easing\": \"linear\"}}], \"label\": \"04 Mar\", \"method\": \"animate\"}, {\"args\": [[\"05 Mar\"], {\"frame\": {\"duration\": 0, \"redraw\": true}, \"fromcurrent\": true, \"mode\": \"immediate\", \"transition\": {\"duration\": 0, \"easing\": \"linear\"}}], \"label\": \"05 Mar\", \"method\": \"animate\"}, {\"args\": [[\"06 Mar\"], {\"frame\": {\"duration\": 0, \"redraw\": true}, \"fromcurrent\": true, \"mode\": \"immediate\", \"transition\": {\"duration\": 0, \"easing\": \"linear\"}}], \"label\": \"06 Mar\", \"method\": \"animate\"}, {\"args\": [[\"07 Mar\"], {\"frame\": {\"duration\": 0, \"redraw\": true}, \"fromcurrent\": true, \"mode\": \"immediate\", \"transition\": {\"duration\": 0, \"easing\": \"linear\"}}], \"label\": \"07 Mar\", \"method\": \"animate\"}, {\"args\": [[\"08 Mar\"], {\"frame\": {\"duration\": 0, \"redraw\": true}, \"fromcurrent\": true, \"mode\": \"immediate\", \"transition\": {\"duration\": 0, \"easing\": \"linear\"}}], \"label\": \"08 Mar\", \"method\": \"animate\"}, {\"args\": [[\"09 Mar\"], {\"frame\": {\"duration\": 0, \"redraw\": true}, \"fromcurrent\": true, \"mode\": \"immediate\", \"transition\": {\"duration\": 0, \"easing\": \"linear\"}}], \"label\": \"09 Mar\", \"method\": \"animate\"}, {\"args\": [[\"10 Mar\"], {\"frame\": {\"duration\": 0, \"redraw\": true}, \"fromcurrent\": true, \"mode\": \"immediate\", \"transition\": {\"duration\": 0, \"easing\": \"linear\"}}], \"label\": \"10 Mar\", \"method\": \"animate\"}, {\"args\": [[\"11 Mar\"], {\"frame\": {\"duration\": 0, \"redraw\": true}, \"fromcurrent\": true, \"mode\": \"immediate\", \"transition\": {\"duration\": 0, \"easing\": \"linear\"}}], \"label\": \"11 Mar\", \"method\": \"animate\"}, {\"args\": [[\"12 Mar\"], {\"frame\": {\"duration\": 0, \"redraw\": true}, \"fromcurrent\": true, \"mode\": \"immediate\", \"transition\": {\"duration\": 0, \"easing\": \"linear\"}}], \"label\": \"12 Mar\", \"method\": \"animate\"}, {\"args\": [[\"13 Mar\"], {\"frame\": {\"duration\": 0, \"redraw\": true}, \"fromcurrent\": true, \"mode\": \"immediate\", \"transition\": {\"duration\": 0, \"easing\": \"linear\"}}], \"label\": \"13 Mar\", \"method\": \"animate\"}, {\"args\": [[\"14 Mar\"], {\"frame\": {\"duration\": 0, \"redraw\": true}, \"fromcurrent\": true, \"mode\": \"immediate\", \"transition\": {\"duration\": 0, \"easing\": \"linear\"}}], \"label\": \"14 Mar\", \"method\": \"animate\"}, {\"args\": [[\"15 Mar\"], {\"frame\": {\"duration\": 0, \"redraw\": true}, \"fromcurrent\": true, \"mode\": \"immediate\", \"transition\": {\"duration\": 0, \"easing\": \"linear\"}}], \"label\": \"15 Mar\", \"method\": \"animate\"}, {\"args\": [[\"16 Mar\"], {\"frame\": {\"duration\": 0, \"redraw\": true}, \"fromcurrent\": true, \"mode\": \"immediate\", \"transition\": {\"duration\": 0, \"easing\": \"linear\"}}], \"label\": \"16 Mar\", \"method\": \"animate\"}, {\"args\": [[\"17 Mar\"], {\"frame\": {\"duration\": 0, \"redraw\": true}, \"fromcurrent\": true, \"mode\": \"immediate\", \"transition\": {\"duration\": 0, \"easing\": \"linear\"}}], \"label\": \"17 Mar\", \"method\": \"animate\"}, {\"args\": [[\"18 Mar\"], {\"frame\": {\"duration\": 0, \"redraw\": true}, \"fromcurrent\": true, \"mode\": \"immediate\", \"transition\": {\"duration\": 0, \"easing\": \"linear\"}}], \"label\": \"18 Mar\", \"method\": \"animate\"}, {\"args\": [[\"19 Mar\"], {\"frame\": {\"duration\": 0, \"redraw\": true}, \"fromcurrent\": true, \"mode\": \"immediate\", \"transition\": {\"duration\": 0, \"easing\": \"linear\"}}], \"label\": \"19 Mar\", \"method\": \"animate\"}, {\"args\": [[\"20 Mar\"], {\"frame\": {\"duration\": 0, \"redraw\": true}, \"fromcurrent\": true, \"mode\": \"immediate\", \"transition\": {\"duration\": 0, \"easing\": \"linear\"}}], \"label\": \"20 Mar\", \"method\": \"animate\"}, {\"args\": [[\"21 Mar\"], {\"frame\": {\"duration\": 0, \"redraw\": true}, \"fromcurrent\": true, \"mode\": \"immediate\", \"transition\": {\"duration\": 0, \"easing\": \"linear\"}}], \"label\": \"21 Mar\", \"method\": \"animate\"}, {\"args\": [[\"22 Mar\"], {\"frame\": {\"duration\": 0, \"redraw\": true}, \"fromcurrent\": true, \"mode\": \"immediate\", \"transition\": {\"duration\": 0, \"easing\": \"linear\"}}], \"label\": \"22 Mar\", \"method\": \"animate\"}, {\"args\": [[\"23 Mar\"], {\"frame\": {\"duration\": 0, \"redraw\": true}, \"fromcurrent\": true, \"mode\": \"immediate\", \"transition\": {\"duration\": 0, \"easing\": \"linear\"}}], \"label\": \"23 Mar\", \"method\": \"animate\"}, {\"args\": [[\"24 Mar\"], {\"frame\": {\"duration\": 0, \"redraw\": true}, \"fromcurrent\": true, \"mode\": \"immediate\", \"transition\": {\"duration\": 0, \"easing\": \"linear\"}}], \"label\": \"24 Mar\", \"method\": \"animate\"}], \"x\": 0.1, \"xanchor\": \"left\", \"y\": 0, \"yanchor\": \"top\"}], \"template\": {\"data\": {\"bar\": [{\"error_x\": {\"color\": \"#2a3f5f\"}, \"error_y\": {\"color\": \"#2a3f5f\"}, \"marker\": {\"line\": {\"color\": \"white\", \"width\": 0.5}}, \"type\": \"bar\"}], \"barpolar\": [{\"marker\": {\"line\": {\"color\": \"white\", \"width\": 0.5}}, \"type\": \"barpolar\"}], \"carpet\": [{\"aaxis\": {\"endlinecolor\": \"#2a3f5f\", \"gridcolor\": \"#C8D4E3\", \"linecolor\": \"#C8D4E3\", \"minorgridcolor\": \"#C8D4E3\", \"startlinecolor\": \"#2a3f5f\"}, \"baxis\": {\"endlinecolor\": \"#2a3f5f\", \"gridcolor\": \"#C8D4E3\", \"linecolor\": \"#C8D4E3\", \"minorgridcolor\": \"#C8D4E3\", \"startlinecolor\": \"#2a3f5f\"}, \"type\": \"carpet\"}], \"choropleth\": [{\"colorbar\": {\"outlinewidth\": 0, \"ticks\": \"\"}, \"type\": \"choropleth\"}], \"contour\": [{\"colorbar\": {\"outlinewidth\": 0, \"ticks\": \"\"}, \"colorscale\": [[0.0, \"#0d0887\"], [0.1111111111111111, \"#46039f\"], [0.2222222222222222, \"#7201a8\"], [0.3333333333333333, \"#9c179e\"], [0.4444444444444444, \"#bd3786\"], [0.5555555555555556, \"#d8576b\"], [0.6666666666666666, \"#ed7953\"], [0.7777777777777778, \"#fb9f3a\"], [0.8888888888888888, \"#fdca26\"], [1.0, \"#f0f921\"]], \"type\": \"contour\"}], \"contourcarpet\": [{\"colorbar\": {\"outlinewidth\": 0, \"ticks\": \"\"}, \"type\": \"contourcarpet\"}], \"heatmap\": [{\"colorbar\": {\"outlinewidth\": 0, \"ticks\": \"\"}, \"colorscale\": [[0.0, \"#0d0887\"], [0.1111111111111111, \"#46039f\"], [0.2222222222222222, \"#7201a8\"], [0.3333333333333333, \"#9c179e\"], [0.4444444444444444, \"#bd3786\"], [0.5555555555555556, \"#d8576b\"], [0.6666666666666666, \"#ed7953\"], [0.7777777777777778, \"#fb9f3a\"], [0.8888888888888888, \"#fdca26\"], [1.0, \"#f0f921\"]], \"type\": \"heatmap\"}], \"heatmapgl\": [{\"colorbar\": {\"outlinewidth\": 0, \"ticks\": \"\"}, \"colorscale\": [[0.0, \"#0d0887\"], [0.1111111111111111, \"#46039f\"], [0.2222222222222222, \"#7201a8\"], [0.3333333333333333, \"#9c179e\"], [0.4444444444444444, \"#bd3786\"], [0.5555555555555556, \"#d8576b\"], [0.6666666666666666, \"#ed7953\"], [0.7777777777777778, \"#fb9f3a\"], [0.8888888888888888, \"#fdca26\"], [1.0, \"#f0f921\"]], \"type\": \"heatmapgl\"}], \"histogram\": [{\"marker\": {\"colorbar\": {\"outlinewidth\": 0, \"ticks\": \"\"}}, \"type\": \"histogram\"}], \"histogram2d\": [{\"colorbar\": {\"outlinewidth\": 0, \"ticks\": \"\"}, \"colorscale\": [[0.0, \"#0d0887\"], [0.1111111111111111, \"#46039f\"], [0.2222222222222222, \"#7201a8\"], [0.3333333333333333, \"#9c179e\"], [0.4444444444444444, \"#bd3786\"], [0.5555555555555556, \"#d8576b\"], [0.6666666666666666, \"#ed7953\"], [0.7777777777777778, \"#fb9f3a\"], [0.8888888888888888, \"#fdca26\"], [1.0, \"#f0f921\"]], \"type\": \"histogram2d\"}], \"histogram2dcontour\": [{\"colorbar\": {\"outlinewidth\": 0, \"ticks\": \"\"}, \"colorscale\": [[0.0, \"#0d0887\"], [0.1111111111111111, \"#46039f\"], [0.2222222222222222, \"#7201a8\"], [0.3333333333333333, \"#9c179e\"], [0.4444444444444444, \"#bd3786\"], [0.5555555555555556, \"#d8576b\"], [0.6666666666666666, \"#ed7953\"], [0.7777777777777778, \"#fb9f3a\"], [0.8888888888888888, \"#fdca26\"], [1.0, \"#f0f921\"]], \"type\": \"histogram2dcontour\"}], \"mesh3d\": [{\"colorbar\": {\"outlinewidth\": 0, \"ticks\": \"\"}, \"type\": \"mesh3d\"}], \"parcoords\": [{\"line\": {\"colorbar\": {\"outlinewidth\": 0, \"ticks\": \"\"}}, \"type\": \"parcoords\"}], \"pie\": [{\"automargin\": true, \"type\": \"pie\"}], \"scatter\": [{\"marker\": {\"colorbar\": {\"outlinewidth\": 0, \"ticks\": \"\"}}, \"type\": \"scatter\"}], \"scatter3d\": [{\"line\": {\"colorbar\": {\"outlinewidth\": 0, \"ticks\": \"\"}}, \"marker\": {\"colorbar\": {\"outlinewidth\": 0, \"ticks\": \"\"}}, \"type\": \"scatter3d\"}], \"scattercarpet\": [{\"marker\": {\"colorbar\": {\"outlinewidth\": 0, \"ticks\": \"\"}}, \"type\": \"scattercarpet\"}], \"scattergeo\": [{\"marker\": {\"colorbar\": {\"outlinewidth\": 0, \"ticks\": \"\"}}, \"type\": \"scattergeo\"}], \"scattergl\": [{\"marker\": {\"colorbar\": {\"outlinewidth\": 0, \"ticks\": \"\"}}, \"type\": \"scattergl\"}], \"scattermapbox\": [{\"marker\": {\"colorbar\": {\"outlinewidth\": 0, \"ticks\": \"\"}}, \"type\": \"scattermapbox\"}], \"scatterpolar\": [{\"marker\": {\"colorbar\": {\"outlinewidth\": 0, \"ticks\": \"\"}}, \"type\": \"scatterpolar\"}], \"scatterpolargl\": [{\"marker\": {\"colorbar\": {\"outlinewidth\": 0, \"ticks\": \"\"}}, \"type\": \"scatterpolargl\"}], \"scatterternary\": [{\"marker\": {\"colorbar\": {\"outlinewidth\": 0, \"ticks\": \"\"}}, \"type\": \"scatterternary\"}], \"surface\": [{\"colorbar\": {\"outlinewidth\": 0, \"ticks\": \"\"}, \"colorscale\": [[0.0, \"#0d0887\"], [0.1111111111111111, \"#46039f\"], [0.2222222222222222, \"#7201a8\"], [0.3333333333333333, \"#9c179e\"], [0.4444444444444444, \"#bd3786\"], [0.5555555555555556, \"#d8576b\"], [0.6666666666666666, \"#ed7953\"], [0.7777777777777778, \"#fb9f3a\"], [0.8888888888888888, \"#fdca26\"], [1.0, \"#f0f921\"]], \"type\": \"surface\"}], \"table\": [{\"cells\": {\"fill\": {\"color\": \"#EBF0F8\"}, \"line\": {\"color\": \"white\"}}, \"header\": {\"fill\": {\"color\": \"#C8D4E3\"}, \"line\": {\"color\": \"white\"}}, \"type\": \"table\"}]}, \"layout\": {\"annotationdefaults\": {\"arrowcolor\": \"#2a3f5f\", \"arrowhead\": 0, \"arrowwidth\": 1}, \"coloraxis\": {\"colorbar\": {\"outlinewidth\": 0, \"ticks\": \"\"}}, \"colorscale\": {\"diverging\": [[0, \"#8e0152\"], [0.1, \"#c51b7d\"], [0.2, \"#de77ae\"], [0.3, \"#f1b6da\"], [0.4, \"#fde0ef\"], [0.5, \"#f7f7f7\"], [0.6, \"#e6f5d0\"], [0.7, \"#b8e186\"], [0.8, \"#7fbc41\"], [0.9, \"#4d9221\"], [1, \"#276419\"]], \"sequential\": [[0.0, \"#0d0887\"], [0.1111111111111111, \"#46039f\"], [0.2222222222222222, \"#7201a8\"], [0.3333333333333333, \"#9c179e\"], [0.4444444444444444, \"#bd3786\"], [0.5555555555555556, \"#d8576b\"], [0.6666666666666666, \"#ed7953\"], [0.7777777777777778, \"#fb9f3a\"], [0.8888888888888888, \"#fdca26\"], [1.0, \"#f0f921\"]], \"sequentialminus\": [[0.0, \"#0d0887\"], [0.1111111111111111, \"#46039f\"], [0.2222222222222222, \"#7201a8\"], [0.3333333333333333, \"#9c179e\"], [0.4444444444444444, \"#bd3786\"], [0.5555555555555556, \"#d8576b\"], [0.6666666666666666, \"#ed7953\"], [0.7777777777777778, \"#fb9f3a\"], [0.8888888888888888, \"#fdca26\"], [1.0, \"#f0f921\"]]}, \"colorway\": [\"#636efa\", \"#EF553B\", \"#00cc96\", \"#ab63fa\", \"#FFA15A\", \"#19d3f3\", \"#FF6692\", \"#B6E880\", \"#FF97FF\", \"#FECB52\"], \"font\": {\"color\": \"#2a3f5f\"}, \"geo\": {\"bgcolor\": \"white\", \"lakecolor\": \"white\", \"landcolor\": \"white\", \"showlakes\": true, \"showland\": true, \"subunitcolor\": \"#C8D4E3\"}, \"hoverlabel\": {\"align\": \"left\"}, \"hovermode\": \"closest\", \"mapbox\": {\"style\": \"light\"}, \"paper_bgcolor\": \"white\", \"plot_bgcolor\": \"white\", \"polar\": {\"angularaxis\": {\"gridcolor\": \"#EBF0F8\", \"linecolor\": \"#EBF0F8\", \"ticks\": \"\"}, \"bgcolor\": \"white\", \"radialaxis\": {\"gridcolor\": \"#EBF0F8\", \"linecolor\": \"#EBF0F8\", \"ticks\": \"\"}}, \"scene\": {\"xaxis\": {\"backgroundcolor\": \"white\", \"gridcolor\": \"#DFE8F3\", \"gridwidth\": 2, \"linecolor\": \"#EBF0F8\", \"showbackground\": true, \"ticks\": \"\", \"zerolinecolor\": \"#EBF0F8\"}, \"yaxis\": {\"backgroundcolor\": \"white\", \"gridcolor\": \"#DFE8F3\", \"gridwidth\": 2, \"linecolor\": \"#EBF0F8\", \"showbackground\": true, \"ticks\": \"\", \"zerolinecolor\": \"#EBF0F8\"}, \"zaxis\": {\"backgroundcolor\": \"white\", \"gridcolor\": \"#DFE8F3\", \"gridwidth\": 2, \"linecolor\": \"#EBF0F8\", \"showbackground\": true, \"ticks\": \"\", \"zerolinecolor\": \"#EBF0F8\"}}, \"shapedefaults\": {\"line\": {\"color\": \"#2a3f5f\"}}, \"ternary\": {\"aaxis\": {\"gridcolor\": \"#DFE8F3\", \"linecolor\": \"#A2B1C6\", \"ticks\": \"\"}, \"baxis\": {\"gridcolor\": \"#DFE8F3\", \"linecolor\": \"#A2B1C6\", \"ticks\": \"\"}, \"bgcolor\": \"white\", \"caxis\": {\"gridcolor\": \"#DFE8F3\", \"linecolor\": \"#A2B1C6\", \"ticks\": \"\"}}, \"title\": {\"x\": 0.05}, \"xaxis\": {\"automargin\": true, \"gridcolor\": \"#EBF0F8\", \"linecolor\": \"#EBF0F8\", \"ticks\": \"\", \"title\": {\"standoff\": 15}, \"zerolinecolor\": \"#EBF0F8\", \"zerolinewidth\": 2}, \"yaxis\": {\"automargin\": true, \"gridcolor\": \"#EBF0F8\", \"linecolor\": \"#EBF0F8\", \"ticks\": \"\", \"title\": {\"standoff\": 15}, \"zerolinecolor\": \"#EBF0F8\", \"zerolinewidth\": 2}}}, \"title\": {\"font\": {\"family\": \"Helvetica\", \"size\": 18}, \"text\": \"<b>COVID19: Registrert smittet i Norge</b><br>Antall smittet per 1 000 innbyggere<br>Datakilde: FHI - folkehelseinstituttet. Oppdatert 25.03.2020\"}, \"updatemenus\": [{\"buttons\": [{\"args\": [null, {\"frame\": {\"duration\": 500, \"redraw\": true}, \"fromcurrent\": true, \"mode\": \"immediate\", \"transition\": {\"duration\": 500, \"easing\": \"linear\"}}], \"label\": \"&#9654;\", \"method\": \"animate\"}, {\"args\": [[null], {\"frame\": {\"duration\": 0, \"redraw\": true}, \"fromcurrent\": true, \"mode\": \"immediate\", \"transition\": {\"duration\": 0, \"easing\": \"linear\"}}], \"label\": \"&#9724;\", \"method\": \"animate\"}], \"direction\": \"left\", \"pad\": {\"r\": 10, \"t\": 70}, \"showactive\": false, \"type\": \"buttons\", \"x\": 0.1, \"xanchor\": \"right\", \"y\": 0, \"yanchor\": \"top\"}], \"xaxis\": {\"anchor\": \"y\", \"domain\": [0.0, 1.0], \"fixedrange\": true, \"range\": [0, 1], \"title\": {\"text\": \"per 1 000\"}}, \"yaxis\": {\"anchor\": \"x\", \"categoryorder\": \"total ascending\", \"domain\": [0.0, 1.0], \"fixedrange\": true, \"separatethousands\": true, \"title\": {\"text\": \"\"}}},\n",
       "                        {\"responsive\": true}\n",
       "                    ).then(function(){\n",
       "                            Plotly.addFrames('ce276719-c38a-4ab5-a0a4-9b84c7ef9e44', [{\"data\": [{\"alignmentgroup\": \"True\", \"hoverlabel\": {\"namelength\": 0}, \"hovertemplate\": \"RHF=Helse Midt-Norge<br>Dato=02 Mar<br>Smittede/tusen innb=%{x}<br>Fylke=%{y}<br>txt=%{text}\", \"ids\": [\"Tr\\u00f8ndelag\", \"M\\u00f8re og Romsdal\"], \"legendgroup\": \"Helse Midt-Norge\", \"marker\": {\"color\": \"#636efa\"}, \"name\": \"Helse Midt-Norge\", \"offsetgroup\": \"Helse Midt-Norge\", \"orientation\": \"h\", \"showlegend\": true, \"text\": [\"0.0\", \"0.0\"], \"textposition\": \"auto\", \"x\": [0.0, 0.0], \"xaxis\": \"x\", \"y\": [\"Tr\\u00f8ndelag\", \"M\\u00f8re og Romsdal\"], \"yaxis\": \"y\", \"type\": \"bar\"}, {\"alignmentgroup\": \"True\", \"hoverlabel\": {\"namelength\": 0}, \"hovertemplate\": \"RHF=Helse Nord<br>Dato=02 Mar<br>Smittede/tusen innb=%{x}<br>Fylke=%{y}<br>txt=%{text}\", \"ids\": [\"Troms og Finnmark\", \"Nordland\"], \"legendgroup\": \"Helse Nord\", \"marker\": {\"color\": \"#EF553B\"}, \"name\": \"Helse Nord\", \"offsetgroup\": \"Helse Nord\", \"orientation\": \"h\", \"showlegend\": true, \"text\": [\"0.0\", \"0.0\"], \"textposition\": \"auto\", \"x\": [0.004109966257177028, 0.0], \"xaxis\": \"x\", \"y\": [\"Troms og Finnmark\", \"Nordland\"], \"yaxis\": \"y\", \"type\": \"bar\"}, {\"alignmentgroup\": \"True\", \"hoverlabel\": {\"namelength\": 0}, \"hovertemplate\": \"RHF=Helse S\\u00f8r-\\u00d8st<br>Dato=02 Mar<br>Smittede/tusen innb=%{x}<br>Fylke=%{y}<br>txt=%{text}\", \"ids\": [\"Agder\", \"Innlandet\", \"Oslo\", \"Viken\", \"Vestfold og Telemark\"], \"legendgroup\": \"Helse S\\u00f8r-\\u00d8st\", \"marker\": {\"color\": \"#00cc96\"}, \"name\": \"Helse S\\u00f8r-\\u00d8st\", \"offsetgroup\": \"Helse S\\u00f8r-\\u00d8st\", \"orientation\": \"h\", \"showlegend\": true, \"text\": [\"0.01\", \"0.0\", \"0.01\", \"0.0\", \"0.0\"], \"textposition\": \"auto\", \"x\": [0.006509759757316156, 0.0, 0.010093814798686073, 0.004028473248923391, 0.0], \"xaxis\": \"x\", \"y\": [\"Agder\", \"Innlandet\", \"Oslo\", \"Viken\", \"Vestfold og Telemark\"], \"yaxis\": \"y\", \"type\": \"bar\"}, {\"alignmentgroup\": \"True\", \"hoverlabel\": {\"namelength\": 0}, \"hovertemplate\": \"RHF=Helse Vest<br>Dato=02 Mar<br>Smittede/tusen innb=%{x}<br>Fylke=%{y}<br>txt=%{text}\", \"ids\": [\"Rogaland\", \"Vestland\"], \"legendgroup\": \"Helse Vest\", \"marker\": {\"color\": \"#ab63fa\"}, \"name\": \"Helse Vest\", \"offsetgroup\": \"Helse Vest\", \"orientation\": \"h\", \"showlegend\": true, \"text\": [\"0.0\", \"0.01\"], \"textposition\": \"auto\", \"x\": [0.0, 0.014139138549418647], \"xaxis\": \"x\", \"y\": [\"Rogaland\", \"Vestland\"], \"yaxis\": \"y\", \"type\": \"bar\"}], \"name\": \"02 Mar\"}, {\"data\": [{\"alignmentgroup\": \"True\", \"hoverlabel\": {\"namelength\": 0}, \"hovertemplate\": \"RHF=Helse Midt-Norge<br>Dato=03 Mar<br>Smittede/tusen innb=%{x}<br>Fylke=%{y}<br>txt=%{text}\", \"ids\": [\"M\\u00f8re og Romsdal\", \"Tr\\u00f8ndelag\"], \"legendgroup\": \"Helse Midt-Norge\", \"marker\": {\"color\": \"#636efa\"}, \"name\": \"Helse Midt-Norge\", \"offsetgroup\": \"Helse Midt-Norge\", \"orientation\": \"h\", \"showlegend\": true, \"text\": [\"0.0\", \"0.0\"], \"textposition\": \"auto\", \"x\": [0.0, 0.0], \"xaxis\": \"x\", \"y\": [\"M\\u00f8re og Romsdal\", \"Tr\\u00f8ndelag\"], \"yaxis\": \"y\", \"type\": \"bar\"}, {\"alignmentgroup\": \"True\", \"hoverlabel\": {\"namelength\": 0}, \"hovertemplate\": \"RHF=Helse Nord<br>Dato=03 Mar<br>Smittede/tusen innb=%{x}<br>Fylke=%{y}<br>txt=%{text}\", \"ids\": [\"Nordland\", \"Troms og Finnmark\"], \"legendgroup\": \"Helse Nord\", \"marker\": {\"color\": \"#EF553B\"}, \"name\": \"Helse Nord\", \"offsetgroup\": \"Helse Nord\", \"orientation\": \"h\", \"showlegend\": true, \"text\": [\"0.0\", \"0.01\"], \"textposition\": \"auto\", \"x\": [0.0, 0.008219932514354057], \"xaxis\": \"x\", \"y\": [\"Nordland\", \"Troms og Finnmark\"], \"yaxis\": \"y\", \"type\": \"bar\"}, {\"alignmentgroup\": \"True\", \"hoverlabel\": {\"namelength\": 0}, \"hovertemplate\": \"RHF=Helse S\\u00f8r-\\u00d8st<br>Dato=03 Mar<br>Smittede/tusen innb=%{x}<br>Fylke=%{y}<br>txt=%{text}\", \"ids\": [\"Oslo\", \"Vestfold og Telemark\", \"Innlandet\", \"Viken\", \"Agder\"], \"legendgroup\": \"Helse S\\u00f8r-\\u00d8st\", \"marker\": {\"color\": \"#00cc96\"}, \"name\": \"Helse S\\u00f8r-\\u00d8st\", \"offsetgroup\": \"Helse S\\u00f8r-\\u00d8st\", \"orientation\": \"h\", \"showlegend\": true, \"text\": [\"0.01\", \"0.0\", \"0.0\", \"0.01\", \"0.01\"], \"textposition\": \"auto\", \"x\": [0.010093814798686073, 0.0, 0.0, 0.006445557198277425, 0.009764639635974235], \"xaxis\": \"x\", \"y\": [\"Oslo\", \"Vestfold og Telemark\", \"Innlandet\", \"Viken\", \"Agder\"], \"yaxis\": \"y\", \"type\": \"bar\"}, {\"alignmentgroup\": \"True\", \"hoverlabel\": {\"namelength\": 0}, \"hovertemplate\": \"RHF=Helse Vest<br>Dato=03 Mar<br>Smittede/tusen innb=%{x}<br>Fylke=%{y}<br>txt=%{text}\", \"ids\": [\"Vestland\", \"Rogaland\"], \"legendgroup\": \"Helse Vest\", \"marker\": {\"color\": \"#ab63fa\"}, \"name\": \"Helse Vest\", \"offsetgroup\": \"Helse Vest\", \"orientation\": \"h\", \"showlegend\": true, \"text\": [\"0.02\", \"0.0\"], \"textposition\": \"auto\", \"x\": [0.018852184732558196, 0.0], \"xaxis\": \"x\", \"y\": [\"Vestland\", \"Rogaland\"], \"yaxis\": \"y\", \"type\": \"bar\"}], \"name\": \"03 Mar\"}, {\"data\": [{\"alignmentgroup\": \"True\", \"hoverlabel\": {\"namelength\": 0}, \"hovertemplate\": \"RHF=Helse Midt-Norge<br>Dato=04 Mar<br>Smittede/tusen innb=%{x}<br>Fylke=%{y}<br>txt=%{text}\", \"ids\": [\"Tr\\u00f8ndelag\", \"M\\u00f8re og Romsdal\"], \"legendgroup\": \"Helse Midt-Norge\", \"marker\": {\"color\": \"#636efa\"}, \"name\": \"Helse Midt-Norge\", \"offsetgroup\": \"Helse Midt-Norge\", \"orientation\": \"h\", \"showlegend\": true, \"text\": [\"0.0\", \"0.0\"], \"textposition\": \"auto\", \"x\": [0.0021335518090385788, 0.003770198840286837], \"xaxis\": \"x\", \"y\": [\"Tr\\u00f8ndelag\", \"M\\u00f8re og Romsdal\"], \"yaxis\": \"y\", \"type\": \"bar\"}, {\"alignmentgroup\": \"True\", \"hoverlabel\": {\"namelength\": 0}, \"hovertemplate\": \"RHF=Helse Nord<br>Dato=04 Mar<br>Smittede/tusen innb=%{x}<br>Fylke=%{y}<br>txt=%{text}\", \"ids\": [\"Troms og Finnmark\", \"Nordland\"], \"legendgroup\": \"Helse Nord\", \"marker\": {\"color\": \"#EF553B\"}, \"name\": \"Helse Nord\", \"offsetgroup\": \"Helse Nord\", \"orientation\": \"h\", \"showlegend\": true, \"text\": [\"0.01\", \"0.0\"], \"textposition\": \"auto\", \"x\": [0.008219932514354057, 0.0], \"xaxis\": \"x\", \"y\": [\"Troms og Finnmark\", \"Nordland\"], \"yaxis\": \"y\", \"type\": \"bar\"}, {\"alignmentgroup\": \"True\", \"hoverlabel\": {\"namelength\": 0}, \"hovertemplate\": \"RHF=Helse S\\u00f8r-\\u00d8st<br>Dato=04 Mar<br>Smittede/tusen innb=%{x}<br>Fylke=%{y}<br>txt=%{text}\", \"ids\": [\"Viken\", \"Agder\", \"Innlandet\", \"Vestfold og Telemark\", \"Oslo\"], \"legendgroup\": \"Helse S\\u00f8r-\\u00d8st\", \"marker\": {\"color\": \"#00cc96\"}, \"name\": \"Helse S\\u00f8r-\\u00d8st\", \"offsetgroup\": \"Helse S\\u00f8r-\\u00d8st\", \"orientation\": \"h\", \"showlegend\": true, \"text\": [\"0.02\", \"0.01\", \"0.01\", \"0.0\", \"0.02\"], \"textposition\": \"auto\", \"x\": [0.015308198345908885, 0.009764639635974235, 0.008077870673290521, 0.0, 0.020187629597372147], \"xaxis\": \"x\", \"y\": [\"Viken\", \"Agder\", \"Innlandet\", \"Vestfold og Telemark\", \"Oslo\"], \"yaxis\": \"y\", \"type\": \"bar\"}, {\"alignmentgroup\": \"True\", \"hoverlabel\": {\"namelength\": 0}, \"hovertemplate\": \"RHF=Helse Vest<br>Dato=04 Mar<br>Smittede/tusen innb=%{x}<br>Fylke=%{y}<br>txt=%{text}\", \"ids\": [\"Rogaland\", \"Vestland\"], \"legendgroup\": \"Helse Vest\", \"marker\": {\"color\": \"#ab63fa\"}, \"name\": \"Helse Vest\", \"offsetgroup\": \"Helse Vest\", \"orientation\": \"h\", \"showlegend\": true, \"text\": [\"0.01\", \"0.03\"], \"textposition\": \"auto\", \"x\": [0.006251406566477457, 0.026707261704457443], \"xaxis\": \"x\", \"y\": [\"Rogaland\", \"Vestland\"], \"yaxis\": \"y\", \"type\": \"bar\"}], \"name\": \"04 Mar\"}, {\"data\": [{\"alignmentgroup\": \"True\", \"hoverlabel\": {\"namelength\": 0}, \"hovertemplate\": \"RHF=Helse Midt-Norge<br>Dato=05 Mar<br>Smittede/tusen innb=%{x}<br>Fylke=%{y}<br>txt=%{text}\", \"ids\": [\"Tr\\u00f8ndelag\", \"M\\u00f8re og Romsdal\"], \"legendgroup\": \"Helse Midt-Norge\", \"marker\": {\"color\": \"#636efa\"}, \"name\": \"Helse Midt-Norge\", \"offsetgroup\": \"Helse Midt-Norge\", \"orientation\": \"h\", \"showlegend\": true, \"text\": [\"0.01\", \"0.01\"], \"textposition\": \"auto\", \"x\": [0.014934862663270052, 0.007540397680573674], \"xaxis\": \"x\", \"y\": [\"Tr\\u00f8ndelag\", \"M\\u00f8re og Romsdal\"], \"yaxis\": \"y\", \"type\": \"bar\"}, {\"alignmentgroup\": \"True\", \"hoverlabel\": {\"namelength\": 0}, \"hovertemplate\": \"RHF=Helse Nord<br>Dato=05 Mar<br>Smittede/tusen innb=%{x}<br>Fylke=%{y}<br>txt=%{text}\", \"ids\": [\"Nordland\", \"Troms og Finnmark\"], \"legendgroup\": \"Helse Nord\", \"marker\": {\"color\": \"#EF553B\"}, \"name\": \"Helse Nord\", \"offsetgroup\": \"Helse Nord\", \"orientation\": \"h\", \"showlegend\": true, \"text\": [\"0.0\", \"0.01\"], \"textposition\": \"auto\", \"x\": [0.0, 0.008219932514354057], \"xaxis\": \"x\", \"y\": [\"Nordland\", \"Troms og Finnmark\"], \"yaxis\": \"y\", \"type\": \"bar\"}, {\"alignmentgroup\": \"True\", \"hoverlabel\": {\"namelength\": 0}, \"hovertemplate\": \"RHF=Helse S\\u00f8r-\\u00d8st<br>Dato=05 Mar<br>Smittede/tusen innb=%{x}<br>Fylke=%{y}<br>txt=%{text}\", \"ids\": [\"Viken\", \"Agder\", \"Vestfold og Telemark\", \"Oslo\", \"Innlandet\"], \"legendgroup\": \"Helse S\\u00f8r-\\u00d8st\", \"marker\": {\"color\": \"#00cc96\"}, \"name\": \"Helse S\\u00f8r-\\u00d8st\", \"offsetgroup\": \"Helse S\\u00f8r-\\u00d8st\", \"orientation\": \"h\", \"showlegend\": true, \"text\": [\"0.02\", \"0.02\", \"0.0\", \"0.03\", \"0.01\"], \"textposition\": \"auto\", \"x\": [0.018530976945047597, 0.022784159150606546, 0.00476876269683068, 0.025955523768049903, 0.010770494231054029], \"xaxis\": \"x\", \"y\": [\"Viken\", \"Agder\", \"Vestfold og Telemark\", \"Oslo\", \"Innlandet\"], \"yaxis\": \"y\", \"type\": \"bar\"}, {\"alignmentgroup\": \"True\", \"hoverlabel\": {\"namelength\": 0}, \"hovertemplate\": \"RHF=Helse Vest<br>Dato=05 Mar<br>Smittede/tusen innb=%{x}<br>Fylke=%{y}<br>txt=%{text}\", \"ids\": [\"Vestland\", \"Rogaland\"], \"legendgroup\": \"Helse Vest\", \"marker\": {\"color\": \"#ab63fa\"}, \"name\": \"Helse Vest\", \"offsetgroup\": \"Helse Vest\", \"orientation\": \"h\", \"showlegend\": true, \"text\": [\"0.03\", \"0.01\"], \"textposition\": \"auto\", \"x\": [0.03456233867635669, 0.012502813132954914], \"xaxis\": \"x\", \"y\": [\"Vestland\", \"Rogaland\"], \"yaxis\": \"y\", \"type\": \"bar\"}], \"name\": \"05 Mar\"}, {\"data\": [{\"alignmentgroup\": \"True\", \"hoverlabel\": {\"namelength\": 0}, \"hovertemplate\": \"RHF=Helse Midt-Norge<br>Dato=06 Mar<br>Smittede/tusen innb=%{x}<br>Fylke=%{y}<br>txt=%{text}\", \"ids\": [\"M\\u00f8re og Romsdal\", \"Tr\\u00f8ndelag\"], \"legendgroup\": \"Helse Midt-Norge\", \"marker\": {\"color\": \"#636efa\"}, \"name\": \"Helse Midt-Norge\", \"offsetgroup\": \"Helse Midt-Norge\", \"orientation\": \"h\", \"showlegend\": true, \"text\": [\"0.01\", \"0.03\"], \"textposition\": \"auto\", \"x\": [0.007540397680573674, 0.032003277135578684], \"xaxis\": \"x\", \"y\": [\"M\\u00f8re og Romsdal\", \"Tr\\u00f8ndelag\"], \"yaxis\": \"y\", \"type\": \"bar\"}, {\"alignmentgroup\": \"True\", \"hoverlabel\": {\"namelength\": 0}, \"hovertemplate\": \"RHF=Helse Nord<br>Dato=06 Mar<br>Smittede/tusen innb=%{x}<br>Fylke=%{y}<br>txt=%{text}\", \"ids\": [\"Troms og Finnmark\", \"Nordland\"], \"legendgroup\": \"Helse Nord\", \"marker\": {\"color\": \"#EF553B\"}, \"name\": \"Helse Nord\", \"offsetgroup\": \"Helse Nord\", \"orientation\": \"h\", \"showlegend\": true, \"text\": [\"0.02\", \"0.0\"], \"textposition\": \"auto\", \"x\": [0.024659797543062172, 0.004145335461272204], \"xaxis\": \"x\", \"y\": [\"Troms og Finnmark\", \"Nordland\"], \"yaxis\": \"y\", \"type\": \"bar\"}, {\"alignmentgroup\": \"True\", \"hoverlabel\": {\"namelength\": 0}, \"hovertemplate\": \"RHF=Helse S\\u00f8r-\\u00d8st<br>Dato=06 Mar<br>Smittede/tusen innb=%{x}<br>Fylke=%{y}<br>txt=%{text}\", \"ids\": [\"Innlandet\", \"Vestfold og Telemark\", \"Oslo\", \"Viken\", \"Agder\"], \"legendgroup\": \"Helse S\\u00f8r-\\u00d8st\", \"marker\": {\"color\": \"#00cc96\"}, \"name\": \"Helse S\\u00f8r-\\u00d8st\", \"offsetgroup\": \"Helse S\\u00f8r-\\u00d8st\", \"orientation\": \"h\", \"showlegend\": true, \"text\": [\"0.03\", \"0.0\", \"0.03\", \"0.02\", \"0.02\"], \"textposition\": \"auto\", \"x\": [0.032311482693162086, 0.00476876269683068, 0.0331653914813971, 0.02094806089440163, 0.022784159150606546], \"xaxis\": \"x\", \"y\": [\"Innlandet\", \"Vestfold og Telemark\", \"Oslo\", \"Viken\", \"Agder\"], \"yaxis\": \"y\", \"type\": \"bar\"}, {\"alignmentgroup\": \"True\", \"hoverlabel\": {\"namelength\": 0}, \"hovertemplate\": \"RHF=Helse Vest<br>Dato=06 Mar<br>Smittede/tusen innb=%{x}<br>Fylke=%{y}<br>txt=%{text}\", \"ids\": [\"Vestland\", \"Rogaland\"], \"legendgroup\": \"Helse Vest\", \"marker\": {\"color\": \"#ab63fa\"}, \"name\": \"Helse Vest\", \"offsetgroup\": \"Helse Vest\", \"orientation\": \"h\", \"showlegend\": true, \"text\": [\"0.04\", \"0.02\"], \"textposition\": \"auto\", \"x\": [0.03770436946511639, 0.02292182407708401], \"xaxis\": \"x\", \"y\": [\"Vestland\", \"Rogaland\"], \"yaxis\": \"y\", \"type\": \"bar\"}], \"name\": \"06 Mar\"}, {\"data\": [{\"alignmentgroup\": \"True\", \"hoverlabel\": {\"namelength\": 0}, \"hovertemplate\": \"RHF=Helse Midt-Norge<br>Dato=07 Mar<br>Smittede/tusen innb=%{x}<br>Fylke=%{y}<br>txt=%{text}\", \"ids\": [\"M\\u00f8re og Romsdal\", \"Tr\\u00f8ndelag\"], \"legendgroup\": \"Helse Midt-Norge\", \"marker\": {\"color\": \"#636efa\"}, \"name\": \"Helse Midt-Norge\", \"offsetgroup\": \"Helse Midt-Norge\", \"orientation\": \"h\", \"showlegend\": true, \"text\": [\"0.01\", \"0.04\"], \"textposition\": \"auto\", \"x\": [0.007540397680573674, 0.03840393256269442], \"xaxis\": \"x\", \"y\": [\"M\\u00f8re og Romsdal\", \"Tr\\u00f8ndelag\"], \"yaxis\": \"y\", \"type\": \"bar\"}, {\"alignmentgroup\": \"True\", \"hoverlabel\": {\"namelength\": 0}, \"hovertemplate\": \"RHF=Helse Nord<br>Dato=07 Mar<br>Smittede/tusen innb=%{x}<br>Fylke=%{y}<br>txt=%{text}\", \"ids\": [\"Troms og Finnmark\", \"Nordland\"], \"legendgroup\": \"Helse Nord\", \"marker\": {\"color\": \"#EF553B\"}, \"name\": \"Helse Nord\", \"offsetgroup\": \"Helse Nord\", \"orientation\": \"h\", \"showlegend\": true, \"text\": [\"0.02\", \"0.01\"], \"textposition\": \"auto\", \"x\": [0.024659797543062172, 0.008290670922544407], \"xaxis\": \"x\", \"y\": [\"Troms og Finnmark\", \"Nordland\"], \"yaxis\": \"y\", \"type\": \"bar\"}, {\"alignmentgroup\": \"True\", \"hoverlabel\": {\"namelength\": 0}, \"hovertemplate\": \"RHF=Helse S\\u00f8r-\\u00d8st<br>Dato=07 Mar<br>Smittede/tusen innb=%{x}<br>Fylke=%{y}<br>txt=%{text}\", \"ids\": [\"Viken\", \"Agder\", \"Vestfold og Telemark\", \"Innlandet\", \"Oslo\"], \"legendgroup\": \"Helse S\\u00f8r-\\u00d8st\", \"marker\": {\"color\": \"#00cc96\"}, \"name\": \"Helse S\\u00f8r-\\u00d8st\", \"offsetgroup\": \"Helse S\\u00f8r-\\u00d8st\", \"orientation\": \"h\", \"showlegend\": true, \"text\": [\"0.03\", \"0.03\", \"0.0\", \"0.03\", \"0.04\"], \"textposition\": \"auto\", \"x\": [0.03061639669181777, 0.029293918907922704, 0.00476876269683068, 0.032311482693162086, 0.04181723273741373], \"xaxis\": \"x\", \"y\": [\"Viken\", \"Agder\", \"Vestfold og Telemark\", \"Innlandet\", \"Oslo\"], \"yaxis\": \"y\", \"type\": \"bar\"}, {\"alignmentgroup\": \"True\", \"hoverlabel\": {\"namelength\": 0}, \"hovertemplate\": \"RHF=Helse Vest<br>Dato=07 Mar<br>Smittede/tusen innb=%{x}<br>Fylke=%{y}<br>txt=%{text}\", \"ids\": [\"Vestland\", \"Rogaland\"], \"legendgroup\": \"Helse Vest\", \"marker\": {\"color\": \"#ab63fa\"}, \"name\": \"Helse Vest\", \"offsetgroup\": \"Helse Vest\", \"orientation\": \"h\", \"showlegend\": true, \"text\": [\"0.04\", \"0.03\"], \"textposition\": \"auto\", \"x\": [0.03770436946511639, 0.02917323064356147], \"xaxis\": \"x\", \"y\": [\"Vestland\", \"Rogaland\"], \"yaxis\": \"y\", \"type\": \"bar\"}], \"name\": \"07 Mar\"}, {\"data\": [{\"alignmentgroup\": \"True\", \"hoverlabel\": {\"namelength\": 0}, \"hovertemplate\": \"RHF=Helse Midt-Norge<br>Dato=08 Mar<br>Smittede/tusen innb=%{x}<br>Fylke=%{y}<br>txt=%{text}\", \"ids\": [\"Tr\\u00f8ndelag\", \"M\\u00f8re og Romsdal\"], \"legendgroup\": \"Helse Midt-Norge\", \"marker\": {\"color\": \"#636efa\"}, \"name\": \"Helse Midt-Norge\", \"offsetgroup\": \"Helse Midt-Norge\", \"orientation\": \"h\", \"showlegend\": true, \"text\": [\"0.04\", \"0.01\"], \"textposition\": \"auto\", \"x\": [0.040537484371733, 0.007540397680573674], \"xaxis\": \"x\", \"y\": [\"Tr\\u00f8ndelag\", \"M\\u00f8re og Romsdal\"], \"yaxis\": \"y\", \"type\": \"bar\"}, {\"alignmentgroup\": \"True\", \"hoverlabel\": {\"namelength\": 0}, \"hovertemplate\": \"RHF=Helse Nord<br>Dato=08 Mar<br>Smittede/tusen innb=%{x}<br>Fylke=%{y}<br>txt=%{text}\", \"ids\": [\"Nordland\", \"Troms og Finnmark\"], \"legendgroup\": \"Helse Nord\", \"marker\": {\"color\": \"#EF553B\"}, \"name\": \"Helse Nord\", \"offsetgroup\": \"Helse Nord\", \"orientation\": \"h\", \"showlegend\": true, \"text\": [\"0.01\", \"0.02\"], \"textposition\": \"auto\", \"x\": [0.01243600638381661, 0.024659797543062172], \"xaxis\": \"x\", \"y\": [\"Nordland\", \"Troms og Finnmark\"], \"yaxis\": \"y\", \"type\": \"bar\"}, {\"alignmentgroup\": \"True\", \"hoverlabel\": {\"namelength\": 0}, \"hovertemplate\": \"RHF=Helse S\\u00f8r-\\u00d8st<br>Dato=08 Mar<br>Smittede/tusen innb=%{x}<br>Fylke=%{y}<br>txt=%{text}\", \"ids\": [\"Oslo\", \"Vestfold og Telemark\", \"Innlandet\", \"Agder\", \"Viken\"], \"legendgroup\": \"Helse S\\u00f8r-\\u00d8st\", \"marker\": {\"color\": \"#00cc96\"}, \"name\": \"Helse S\\u00f8r-\\u00d8st\", \"offsetgroup\": \"Helse S\\u00f8r-\\u00d8st\", \"orientation\": \"h\", \"showlegend\": true, \"text\": [\"0.05\", \"0.01\", \"0.03\", \"0.03\", \"0.03\"], \"textposition\": \"auto\", \"x\": [0.05046907399343037, 0.007153144045246021, 0.032311482693162086, 0.029293918907922704, 0.0330334806411718], \"xaxis\": \"x\", \"y\": [\"Oslo\", \"Vestfold og Telemark\", \"Innlandet\", \"Agder\", \"Viken\"], \"yaxis\": \"y\", \"type\": \"bar\"}, {\"alignmentgroup\": \"True\", \"hoverlabel\": {\"namelength\": 0}, \"hovertemplate\": \"RHF=Helse Vest<br>Dato=08 Mar<br>Smittede/tusen innb=%{x}<br>Fylke=%{y}<br>txt=%{text}\", \"ids\": [\"Rogaland\", \"Vestland\"], \"legendgroup\": \"Helse Vest\", \"marker\": {\"color\": \"#ab63fa\"}, \"name\": \"Helse Vest\", \"offsetgroup\": \"Helse Vest\", \"orientation\": \"h\", \"showlegend\": true, \"text\": [\"0.04\", \"0.04\"], \"textposition\": \"auto\", \"x\": [0.03959224158769056, 0.03770436946511639], \"xaxis\": \"x\", \"y\": [\"Rogaland\", \"Vestland\"], \"yaxis\": \"y\", \"type\": \"bar\"}], \"name\": \"08 Mar\"}, {\"data\": [{\"alignmentgroup\": \"True\", \"hoverlabel\": {\"namelength\": 0}, \"hovertemplate\": \"RHF=Helse Midt-Norge<br>Dato=09 Mar<br>Smittede/tusen innb=%{x}<br>Fylke=%{y}<br>txt=%{text}\", \"ids\": [\"M\\u00f8re og Romsdal\", \"Tr\\u00f8ndelag\"], \"legendgroup\": \"Helse Midt-Norge\", \"marker\": {\"color\": \"#636efa\"}, \"name\": \"Helse Midt-Norge\", \"offsetgroup\": \"Helse Midt-Norge\", \"orientation\": \"h\", \"showlegend\": true, \"text\": [\"0.02\", \"0.05\"], \"textposition\": \"auto\", \"x\": [0.015080795361147347, 0.046938139798848734], \"xaxis\": \"x\", \"y\": [\"M\\u00f8re og Romsdal\", \"Tr\\u00f8ndelag\"], \"yaxis\": \"y\", \"type\": \"bar\"}, {\"alignmentgroup\": \"True\", \"hoverlabel\": {\"namelength\": 0}, \"hovertemplate\": \"RHF=Helse Nord<br>Dato=09 Mar<br>Smittede/tusen innb=%{x}<br>Fylke=%{y}<br>txt=%{text}\", \"ids\": [\"Troms og Finnmark\", \"Nordland\"], \"legendgroup\": \"Helse Nord\", \"marker\": {\"color\": \"#EF553B\"}, \"name\": \"Helse Nord\", \"offsetgroup\": \"Helse Nord\", \"orientation\": \"h\", \"showlegend\": true, \"text\": [\"0.02\", \"0.01\"], \"textposition\": \"auto\", \"x\": [0.024659797543062172, 0.01243600638381661], \"xaxis\": \"x\", \"y\": [\"Troms og Finnmark\", \"Nordland\"], \"yaxis\": \"y\", \"type\": \"bar\"}, {\"alignmentgroup\": \"True\", \"hoverlabel\": {\"namelength\": 0}, \"hovertemplate\": \"RHF=Helse S\\u00f8r-\\u00d8st<br>Dato=09 Mar<br>Smittede/tusen innb=%{x}<br>Fylke=%{y}<br>txt=%{text}\", \"ids\": [\"Vestfold og Telemark\", \"Oslo\", \"Innlandet\", \"Viken\", \"Agder\"], \"legendgroup\": \"Helse S\\u00f8r-\\u00d8st\", \"marker\": {\"color\": \"#00cc96\"}, \"name\": \"Helse S\\u00f8r-\\u00d8st\", \"offsetgroup\": \"Helse S\\u00f8r-\\u00d8st\", \"orientation\": \"h\", \"showlegend\": true, \"text\": [\"0.01\", \"0.05\", \"0.04\", \"0.04\", \"0.06\"], \"textposition\": \"auto\", \"x\": [0.0119219067420767, 0.05046907399343037, 0.0376967298086891, 0.04189612178880326, 0.05533295793718733], \"xaxis\": \"x\", \"y\": [\"Vestfold og Telemark\", \"Oslo\", \"Innlandet\", \"Viken\", \"Agder\"], \"yaxis\": \"y\", \"type\": \"bar\"}, {\"alignmentgroup\": \"True\", \"hoverlabel\": {\"namelength\": 0}, \"hovertemplate\": \"RHF=Helse Vest<br>Dato=09 Mar<br>Smittede/tusen innb=%{x}<br>Fylke=%{y}<br>txt=%{text}\", \"ids\": [\"Vestland\", \"Rogaland\"], \"legendgroup\": \"Helse Vest\", \"marker\": {\"color\": \"#ab63fa\"}, \"name\": \"Helse Vest\", \"offsetgroup\": \"Helse Vest\", \"orientation\": \"h\", \"showlegend\": true, \"text\": [\"0.04\", \"0.05\"], \"textposition\": \"auto\", \"x\": [0.04398843104263579, 0.052095054720645476], \"xaxis\": \"x\", \"y\": [\"Vestland\", \"Rogaland\"], \"yaxis\": \"y\", \"type\": \"bar\"}], \"name\": \"09 Mar\"}, {\"data\": [{\"alignmentgroup\": \"True\", \"hoverlabel\": {\"namelength\": 0}, \"hovertemplate\": \"RHF=Helse Midt-Norge<br>Dato=10 Mar<br>Smittede/tusen innb=%{x}<br>Fylke=%{y}<br>txt=%{text}\", \"ids\": [\"M\\u00f8re og Romsdal\", \"Tr\\u00f8ndelag\"], \"legendgroup\": \"Helse Midt-Norge\", \"marker\": {\"color\": \"#636efa\"}, \"name\": \"Helse Midt-Norge\", \"offsetgroup\": \"Helse Midt-Norge\", \"orientation\": \"h\", \"showlegend\": true, \"text\": [\"0.02\", \"0.05\"], \"textposition\": \"auto\", \"x\": [0.018850994201434185, 0.046938139798848734], \"xaxis\": \"x\", \"y\": [\"M\\u00f8re og Romsdal\", \"Tr\\u00f8ndelag\"], \"yaxis\": \"y\", \"type\": \"bar\"}, {\"alignmentgroup\": \"True\", \"hoverlabel\": {\"namelength\": 0}, \"hovertemplate\": \"RHF=Helse Nord<br>Dato=10 Mar<br>Smittede/tusen innb=%{x}<br>Fylke=%{y}<br>txt=%{text}\", \"ids\": [\"Troms og Finnmark\", \"Nordland\"], \"legendgroup\": \"Helse Nord\", \"marker\": {\"color\": \"#EF553B\"}, \"name\": \"Helse Nord\", \"offsetgroup\": \"Helse Nord\", \"orientation\": \"h\", \"showlegend\": true, \"text\": [\"0.02\", \"0.01\"], \"textposition\": \"auto\", \"x\": [0.024659797543062172, 0.01243600638381661], \"xaxis\": \"x\", \"y\": [\"Troms og Finnmark\", \"Nordland\"], \"yaxis\": \"y\", \"type\": \"bar\"}, {\"alignmentgroup\": \"True\", \"hoverlabel\": {\"namelength\": 0}, \"hovertemplate\": \"RHF=Helse S\\u00f8r-\\u00d8st<br>Dato=10 Mar<br>Smittede/tusen innb=%{x}<br>Fylke=%{y}<br>txt=%{text}\", \"ids\": [\"Viken\", \"Vestfold og Telemark\", \"Innlandet\", \"Agder\", \"Oslo\"], \"legendgroup\": \"Helse S\\u00f8r-\\u00d8st\", \"marker\": {\"color\": \"#00cc96\"}, \"name\": \"Helse S\\u00f8r-\\u00d8st\", \"offsetgroup\": \"Helse S\\u00f8r-\\u00d8st\", \"orientation\": \"h\", \"showlegend\": true, \"text\": [\"0.07\", \"0.01\", \"0.04\", \"0.06\", \"0.07\"], \"textposition\": \"auto\", \"x\": [0.06928973988148232, 0.0119219067420767, 0.043081976924216114, 0.06184271769450349, 0.07354065067614139], \"xaxis\": \"x\", \"y\": [\"Viken\", \"Vestfold og Telemark\", \"Innlandet\", \"Agder\", \"Oslo\"], \"yaxis\": \"y\", \"type\": \"bar\"}, {\"alignmentgroup\": \"True\", \"hoverlabel\": {\"namelength\": 0}, \"hovertemplate\": \"RHF=Helse Vest<br>Dato=10 Mar<br>Smittede/tusen innb=%{x}<br>Fylke=%{y}<br>txt=%{text}\", \"ids\": [\"Rogaland\", \"Vestland\"], \"legendgroup\": \"Helse Vest\", \"marker\": {\"color\": \"#ab63fa\"}, \"name\": \"Helse Vest\", \"offsetgroup\": \"Helse Vest\", \"orientation\": \"h\", \"showlegend\": true, \"text\": [\"0.07\", \"0.05\"], \"textposition\": \"auto\", \"x\": [0.06876547223125203, 0.048701477225775336], \"xaxis\": \"x\", \"y\": [\"Rogaland\", \"Vestland\"], \"yaxis\": \"y\", \"type\": \"bar\"}], \"name\": \"10 Mar\"}, {\"data\": [{\"alignmentgroup\": \"True\", \"hoverlabel\": {\"namelength\": 0}, \"hovertemplate\": \"RHF=Helse Midt-Norge<br>Dato=11 Mar<br>Smittede/tusen innb=%{x}<br>Fylke=%{y}<br>txt=%{text}\", \"ids\": [\"Tr\\u00f8ndelag\", \"M\\u00f8re og Romsdal\"], \"legendgroup\": \"Helse Midt-Norge\", \"marker\": {\"color\": \"#636efa\"}, \"name\": \"Helse Midt-Norge\", \"offsetgroup\": \"Helse Midt-Norge\", \"orientation\": \"h\", \"showlegend\": true, \"text\": [\"0.05\", \"0.03\"], \"textposition\": \"auto\", \"x\": [0.05333879522596447, 0.026391391882007856], \"xaxis\": \"x\", \"y\": [\"Tr\\u00f8ndelag\", \"M\\u00f8re og Romsdal\"], \"yaxis\": \"y\", \"type\": \"bar\"}, {\"alignmentgroup\": \"True\", \"hoverlabel\": {\"namelength\": 0}, \"hovertemplate\": \"RHF=Helse Nord<br>Dato=11 Mar<br>Smittede/tusen innb=%{x}<br>Fylke=%{y}<br>txt=%{text}\", \"ids\": [\"Troms og Finnmark\", \"Nordland\"], \"legendgroup\": \"Helse Nord\", \"marker\": {\"color\": \"#EF553B\"}, \"name\": \"Helse Nord\", \"offsetgroup\": \"Helse Nord\", \"orientation\": \"h\", \"showlegend\": true, \"text\": [\"0.03\", \"0.01\"], \"textposition\": \"auto\", \"x\": [0.028769763800239198, 0.01243600638381661], \"xaxis\": \"x\", \"y\": [\"Troms og Finnmark\", \"Nordland\"], \"yaxis\": \"y\", \"type\": \"bar\"}, {\"alignmentgroup\": \"True\", \"hoverlabel\": {\"namelength\": 0}, \"hovertemplate\": \"RHF=Helse S\\u00f8r-\\u00d8st<br>Dato=11 Mar<br>Smittede/tusen innb=%{x}<br>Fylke=%{y}<br>txt=%{text}\", \"ids\": [\"Agder\", \"Viken\", \"Innlandet\", \"Vestfold og Telemark\", \"Oslo\"], \"legendgroup\": \"Helse S\\u00f8r-\\u00d8st\", \"marker\": {\"color\": \"#00cc96\"}, \"name\": \"Helse S\\u00f8r-\\u00d8st\", \"offsetgroup\": \"Helse S\\u00f8r-\\u00d8st\", \"orientation\": \"h\", \"showlegend\": true, \"text\": [\"0.07\", \"0.1\", \"0.06\", \"0.04\", \"0.18\"], \"textposition\": \"auto\", \"x\": [0.06509759757316157, 0.0999061365733001, 0.06193034182856066, 0.0357657202262301, 0.177362745748341], \"xaxis\": \"x\", \"y\": [\"Agder\", \"Viken\", \"Innlandet\", \"Vestfold og Telemark\", \"Oslo\"], \"yaxis\": \"y\", \"type\": \"bar\"}, {\"alignmentgroup\": \"True\", \"hoverlabel\": {\"namelength\": 0}, \"hovertemplate\": \"RHF=Helse Vest<br>Dato=11 Mar<br>Smittede/tusen innb=%{x}<br>Fylke=%{y}<br>txt=%{text}\", \"ids\": [\"Rogaland\", \"Vestland\"], \"legendgroup\": \"Helse Vest\", \"marker\": {\"color\": \"#ab63fa\"}, \"name\": \"Helse Vest\", \"offsetgroup\": \"Helse Vest\", \"orientation\": \"h\", \"showlegend\": true, \"text\": [\"0.15\", \"0.06\"], \"textposition\": \"auto\", \"x\": [0.14794995540663317, 0.06441163116957384], \"xaxis\": \"x\", \"y\": [\"Rogaland\", \"Vestland\"], \"yaxis\": \"y\", \"type\": \"bar\"}], \"name\": \"11 Mar\"}, {\"data\": [{\"alignmentgroup\": \"True\", \"hoverlabel\": {\"namelength\": 0}, \"hovertemplate\": \"RHF=Helse Midt-Norge<br>Dato=12 Mar<br>Smittede/tusen innb=%{x}<br>Fylke=%{y}<br>txt=%{text}\", \"ids\": [\"Tr\\u00f8ndelag\", \"M\\u00f8re og Romsdal\"], \"legendgroup\": \"Helse Midt-Norge\", \"marker\": {\"color\": \"#636efa\"}, \"name\": \"Helse Midt-Norge\", \"offsetgroup\": \"Helse Midt-Norge\", \"orientation\": \"h\", \"showlegend\": true, \"text\": [\"0.08\", \"0.02\"], \"textposition\": \"auto\", \"x\": [0.07894141693442742, 0.02262119304172102], \"xaxis\": \"x\", \"y\": [\"Tr\\u00f8ndelag\", \"M\\u00f8re og Romsdal\"], \"yaxis\": \"y\", \"type\": \"bar\"}, {\"alignmentgroup\": \"True\", \"hoverlabel\": {\"namelength\": 0}, \"hovertemplate\": \"RHF=Helse Nord<br>Dato=12 Mar<br>Smittede/tusen innb=%{x}<br>Fylke=%{y}<br>txt=%{text}\", \"ids\": [\"Nordland\", \"Troms og Finnmark\"], \"legendgroup\": \"Helse Nord\", \"marker\": {\"color\": \"#EF553B\"}, \"name\": \"Helse Nord\", \"offsetgroup\": \"Helse Nord\", \"orientation\": \"h\", \"showlegend\": true, \"text\": [\"0.02\", \"0.05\"], \"textposition\": \"auto\", \"x\": [0.016581341845088814, 0.045209628828947315], \"xaxis\": \"x\", \"y\": [\"Nordland\", \"Troms og Finnmark\"], \"yaxis\": \"y\", \"type\": \"bar\"}, {\"alignmentgroup\": \"True\", \"hoverlabel\": {\"namelength\": 0}, \"hovertemplate\": \"RHF=Helse S\\u00f8r-\\u00d8st<br>Dato=12 Mar<br>Smittede/tusen innb=%{x}<br>Fylke=%{y}<br>txt=%{text}\", \"ids\": [\"Vestfold og Telemark\", \"Agder\", \"Viken\", \"Innlandet\", \"Oslo\"], \"legendgroup\": \"Helse S\\u00f8r-\\u00d8st\", \"marker\": {\"color\": \"#00cc96\"}, \"name\": \"Helse S\\u00f8r-\\u00d8st\", \"offsetgroup\": \"Helse S\\u00f8r-\\u00d8st\", \"orientation\": \"h\", \"showlegend\": true, \"text\": [\"0.05\", \"0.1\", \"0.12\", \"0.11\", \"0.24\"], \"textposition\": \"auto\", \"x\": [0.05245638966513748, 0.1041561561170585, 0.12407697606684043, 0.10770494231054027, 0.23936760808312688], \"xaxis\": \"x\", \"y\": [\"Vestfold og Telemark\", \"Agder\", \"Viken\", \"Innlandet\", \"Oslo\"], \"yaxis\": \"y\", \"type\": \"bar\"}, {\"alignmentgroup\": \"True\", \"hoverlabel\": {\"namelength\": 0}, \"hovertemplate\": \"RHF=Helse Vest<br>Dato=12 Mar<br>Smittede/tusen innb=%{x}<br>Fylke=%{y}<br>txt=%{text}\", \"ids\": [\"Rogaland\", \"Vestland\"], \"legendgroup\": \"Helse Vest\", \"marker\": {\"color\": \"#ab63fa\"}, \"name\": \"Helse Vest\", \"offsetgroup\": \"Helse Vest\", \"orientation\": \"h\", \"showlegend\": true, \"text\": [\"0.17\", \"0.11\"], \"textposition\": \"auto\", \"x\": [0.17087177948371718, 0.10525803142344993], \"xaxis\": \"x\", \"y\": [\"Rogaland\", \"Vestland\"], \"yaxis\": \"y\", \"type\": \"bar\"}], \"name\": \"12 Mar\"}, {\"data\": [{\"alignmentgroup\": \"True\", \"hoverlabel\": {\"namelength\": 0}, \"hovertemplate\": \"RHF=Helse Midt-Norge<br>Dato=13 Mar<br>Smittede/tusen innb=%{x}<br>Fylke=%{y}<br>txt=%{text}\", \"ids\": [\"Tr\\u00f8ndelag\", \"M\\u00f8re og Romsdal\"], \"legendgroup\": \"Helse Midt-Norge\", \"marker\": {\"color\": \"#636efa\"}, \"name\": \"Helse Midt-Norge\", \"offsetgroup\": \"Helse Midt-Norge\", \"orientation\": \"h\", \"showlegend\": true, \"text\": [\"0.09\", \"0.03\"], \"textposition\": \"auto\", \"x\": [0.0917427277886589, 0.026391391882007856], \"xaxis\": \"x\", \"y\": [\"Tr\\u00f8ndelag\", \"M\\u00f8re og Romsdal\"], \"yaxis\": \"y\", \"type\": \"bar\"}, {\"alignmentgroup\": \"True\", \"hoverlabel\": {\"namelength\": 0}, \"hovertemplate\": \"RHF=Helse Nord<br>Dato=13 Mar<br>Smittede/tusen innb=%{x}<br>Fylke=%{y}<br>txt=%{text}\", \"ids\": [\"Troms og Finnmark\", \"Nordland\"], \"legendgroup\": \"Helse Nord\", \"marker\": {\"color\": \"#EF553B\"}, \"name\": \"Helse Nord\", \"offsetgroup\": \"Helse Nord\", \"orientation\": \"h\", \"showlegend\": true, \"text\": [\"0.05\", \"0.02\"], \"textposition\": \"auto\", \"x\": [0.049319595086124345, 0.020726677306361015], \"xaxis\": \"x\", \"y\": [\"Troms og Finnmark\", \"Nordland\"], \"yaxis\": \"y\", \"type\": \"bar\"}, {\"alignmentgroup\": \"True\", \"hoverlabel\": {\"namelength\": 0}, \"hovertemplate\": \"RHF=Helse S\\u00f8r-\\u00d8st<br>Dato=13 Mar<br>Smittede/tusen innb=%{x}<br>Fylke=%{y}<br>txt=%{text}\", \"ids\": [\"Viken\", \"Vestfold og Telemark\", \"Oslo\", \"Innlandet\", \"Agder\"], \"legendgroup\": \"Helse S\\u00f8r-\\u00d8st\", \"marker\": {\"color\": \"#00cc96\"}, \"name\": \"Helse S\\u00f8r-\\u00d8st\", \"offsetgroup\": \"Helse S\\u00f8r-\\u00d8st\", \"orientation\": \"h\", \"showlegend\": true, \"text\": [\"0.15\", \"0.07\", \"0.3\", \"0.13\", \"0.11\"], \"textposition\": \"auto\", \"x\": [0.14502503696124205, 0.0715314404524602, 0.29848852333257386, 0.13193855433041185, 0.11066591587437466], \"xaxis\": \"x\", \"y\": [\"Viken\", \"Vestfold og Telemark\", \"Oslo\", \"Innlandet\", \"Agder\"], \"yaxis\": \"y\", \"type\": \"bar\"}, {\"alignmentgroup\": \"True\", \"hoverlabel\": {\"namelength\": 0}, \"hovertemplate\": \"RHF=Helse Vest<br>Dato=13 Mar<br>Smittede/tusen innb=%{x}<br>Fylke=%{y}<br>txt=%{text}\", \"ids\": [\"Vestland\", \"Rogaland\"], \"legendgroup\": \"Helse Vest\", \"marker\": {\"color\": \"#ab63fa\"}, \"name\": \"Helse Vest\", \"offsetgroup\": \"Helse Vest\", \"orientation\": \"h\", \"showlegend\": true, \"text\": [\"0.12\", \"0.22\"], \"textposition\": \"auto\", \"x\": [0.12253920076162828, 0.21879922982671102], \"xaxis\": \"x\", \"y\": [\"Vestland\", \"Rogaland\"], \"yaxis\": \"y\", \"type\": \"bar\"}], \"name\": \"13 Mar\"}, {\"data\": [{\"alignmentgroup\": \"True\", \"hoverlabel\": {\"namelength\": 0}, \"hovertemplate\": \"RHF=Helse Midt-Norge<br>Dato=14 Mar<br>Smittede/tusen innb=%{x}<br>Fylke=%{y}<br>txt=%{text}\", \"ids\": [\"Tr\\u00f8ndelag\", \"M\\u00f8re og Romsdal\"], \"legendgroup\": \"Helse Midt-Norge\", \"marker\": {\"color\": \"#636efa\"}, \"name\": \"Helse Midt-Norge\", \"offsetgroup\": \"Helse Midt-Norge\", \"orientation\": \"h\", \"showlegend\": true, \"text\": [\"0.1\", \"0.06\"], \"textposition\": \"auto\", \"x\": [0.09814338321577463, 0.06032318144458939], \"xaxis\": \"x\", \"y\": [\"Tr\\u00f8ndelag\", \"M\\u00f8re og Romsdal\"], \"yaxis\": \"y\", \"type\": \"bar\"}, {\"alignmentgroup\": \"True\", \"hoverlabel\": {\"namelength\": 0}, \"hovertemplate\": \"RHF=Helse Nord<br>Dato=14 Mar<br>Smittede/tusen innb=%{x}<br>Fylke=%{y}<br>txt=%{text}\", \"ids\": [\"Troms og Finnmark\", \"Nordland\"], \"legendgroup\": \"Helse Nord\", \"marker\": {\"color\": \"#EF553B\"}, \"name\": \"Helse Nord\", \"offsetgroup\": \"Helse Nord\", \"orientation\": \"h\", \"showlegend\": true, \"text\": [\"0.07\", \"0.03\"], \"textposition\": \"auto\", \"x\": [0.06575946011483245, 0.03316268369017763], \"xaxis\": \"x\", \"y\": [\"Troms og Finnmark\", \"Nordland\"], \"yaxis\": \"y\", \"type\": \"bar\"}, {\"alignmentgroup\": \"True\", \"hoverlabel\": {\"namelength\": 0}, \"hovertemplate\": \"RHF=Helse S\\u00f8r-\\u00d8st<br>Dato=14 Mar<br>Smittede/tusen innb=%{x}<br>Fylke=%{y}<br>txt=%{text}\", \"ids\": [\"Oslo\", \"Agder\", \"Viken\", \"Vestfold og Telemark\", \"Innlandet\"], \"legendgroup\": \"Helse S\\u00f8r-\\u00d8st\", \"marker\": {\"color\": \"#00cc96\"}, \"name\": \"Helse S\\u00f8r-\\u00d8st\", \"offsetgroup\": \"Helse S\\u00f8r-\\u00d8st\", \"orientation\": \"h\", \"showlegend\": true, \"text\": [\"0.32\", \"0.17\", \"0.19\", \"0.09\", \"0.15\"], \"textposition\": \"auto\", \"x\": [0.32011812647261545, 0.16925375369022005, 0.18611546410026064, 0.09299087258819826, 0.1534795427925199], \"xaxis\": \"x\", \"y\": [\"Oslo\", \"Agder\", \"Viken\", \"Vestfold og Telemark\", \"Innlandet\"], \"yaxis\": \"y\", \"type\": \"bar\"}, {\"alignmentgroup\": \"True\", \"hoverlabel\": {\"namelength\": 0}, \"hovertemplate\": \"RHF=Helse Vest<br>Dato=14 Mar<br>Smittede/tusen innb=%{x}<br>Fylke=%{y}<br>txt=%{text}\", \"ids\": [\"Vestland\", \"Rogaland\"], \"legendgroup\": \"Helse Vest\", \"marker\": {\"color\": \"#ab63fa\"}, \"name\": \"Helse Vest\", \"offsetgroup\": \"Helse Vest\", \"orientation\": \"h\", \"showlegend\": true, \"text\": [\"0.16\", \"0.25\"], \"textposition\": \"auto\", \"x\": [0.1586725548323648, 0.2479724604702725], \"xaxis\": \"x\", \"y\": [\"Vestland\", \"Rogaland\"], \"yaxis\": \"y\", \"type\": \"bar\"}], \"name\": \"14 Mar\"}, {\"data\": [{\"alignmentgroup\": \"True\", \"hoverlabel\": {\"namelength\": 0}, \"hovertemplate\": \"RHF=Helse Midt-Norge<br>Dato=15 Mar<br>Smittede/tusen innb=%{x}<br>Fylke=%{y}<br>txt=%{text}\", \"ids\": [\"Tr\\u00f8ndelag\", \"M\\u00f8re og Romsdal\"], \"legendgroup\": \"Helse Midt-Norge\", \"marker\": {\"color\": \"#636efa\"}, \"name\": \"Helse Midt-Norge\", \"offsetgroup\": \"Helse Midt-Norge\", \"orientation\": \"h\", \"showlegend\": true, \"text\": [\"0.11\", \"0.08\"], \"textposition\": \"auto\", \"x\": [0.10667759045192894, 0.07540397680573674], \"xaxis\": \"x\", \"y\": [\"Tr\\u00f8ndelag\", \"M\\u00f8re og Romsdal\"], \"yaxis\": \"y\", \"type\": \"bar\"}, {\"alignmentgroup\": \"True\", \"hoverlabel\": {\"namelength\": 0}, \"hovertemplate\": \"RHF=Helse Nord<br>Dato=15 Mar<br>Smittede/tusen innb=%{x}<br>Fylke=%{y}<br>txt=%{text}\", \"ids\": [\"Troms og Finnmark\", \"Nordland\"], \"legendgroup\": \"Helse Nord\", \"marker\": {\"color\": \"#EF553B\"}, \"name\": \"Helse Nord\", \"offsetgroup\": \"Helse Nord\", \"orientation\": \"h\", \"showlegend\": true, \"text\": [\"0.08\", \"0.03\"], \"textposition\": \"auto\", \"x\": [0.08219932514354057, 0.03316268369017763], \"xaxis\": \"x\", \"y\": [\"Troms og Finnmark\", \"Nordland\"], \"yaxis\": \"y\", \"type\": \"bar\"}, {\"alignmentgroup\": \"True\", \"hoverlabel\": {\"namelength\": 0}, \"hovertemplate\": \"RHF=Helse S\\u00f8r-\\u00d8st<br>Dato=15 Mar<br>Smittede/tusen innb=%{x}<br>Fylke=%{y}<br>txt=%{text}\", \"ids\": [\"Oslo\", \"Innlandet\", \"Agder\", \"Viken\", \"Vestfold og Telemark\"], \"legendgroup\": \"Helse S\\u00f8r-\\u00d8st\", \"marker\": {\"color\": \"#00cc96\"}, \"name\": \"Helse S\\u00f8r-\\u00d8st\", \"offsetgroup\": \"Helse S\\u00f8r-\\u00d8st\", \"orientation\": \"h\", \"showlegend\": true, \"text\": [\"0.41\", \"0.19\", \"0.18\", \"0.22\", \"0.11\"], \"textposition\": \"auto\", \"x\": [0.40519456549011235, 0.1938688961589725, 0.1790183933261943, 0.2239831126401405, 0.11445030472393633], \"xaxis\": \"x\", \"y\": [\"Oslo\", \"Innlandet\", \"Agder\", \"Viken\", \"Vestfold og Telemark\"], \"yaxis\": \"y\", \"type\": \"bar\"}, {\"alignmentgroup\": \"True\", \"hoverlabel\": {\"namelength\": 0}, \"hovertemplate\": \"RHF=Helse Vest<br>Dato=15 Mar<br>Smittede/tusen innb=%{x}<br>Fylke=%{y}<br>txt=%{text}\", \"ids\": [\"Rogaland\", \"Vestland\"], \"legendgroup\": \"Helse Vest\", \"marker\": {\"color\": \"#ab63fa\"}, \"name\": \"Helse Vest\", \"offsetgroup\": \"Helse Vest\", \"orientation\": \"h\", \"showlegend\": true, \"text\": [\"0.26\", \"0.19\"], \"textposition\": \"auto\", \"x\": [0.26464287798087904, 0.18537981653682226], \"xaxis\": \"x\", \"y\": [\"Rogaland\", \"Vestland\"], \"yaxis\": \"y\", \"type\": \"bar\"}], \"name\": \"15 Mar\"}, {\"data\": [{\"alignmentgroup\": \"True\", \"hoverlabel\": {\"namelength\": 0}, \"hovertemplate\": \"RHF=Helse Midt-Norge<br>Dato=16 Mar<br>Smittede/tusen innb=%{x}<br>Fylke=%{y}<br>txt=%{text}\", \"ids\": [\"Tr\\u00f8ndelag\", \"M\\u00f8re og Romsdal\"], \"legendgroup\": \"Helse Midt-Norge\", \"marker\": {\"color\": \"#636efa\"}, \"name\": \"Helse Midt-Norge\", \"offsetgroup\": \"Helse Midt-Norge\", \"orientation\": \"h\", \"showlegend\": true, \"text\": [\"0.11\", \"0.08\"], \"textposition\": \"auto\", \"x\": [0.11094469407000611, 0.07540397680573674], \"xaxis\": \"x\", \"y\": [\"Tr\\u00f8ndelag\", \"M\\u00f8re og Romsdal\"], \"yaxis\": \"y\", \"type\": \"bar\"}, {\"alignmentgroup\": \"True\", \"hoverlabel\": {\"namelength\": 0}, \"hovertemplate\": \"RHF=Helse Nord<br>Dato=16 Mar<br>Smittede/tusen innb=%{x}<br>Fylke=%{y}<br>txt=%{text}\", \"ids\": [\"Nordland\", \"Troms og Finnmark\"], \"legendgroup\": \"Helse Nord\", \"marker\": {\"color\": \"#EF553B\"}, \"name\": \"Helse Nord\", \"offsetgroup\": \"Helse Nord\", \"orientation\": \"h\", \"showlegend\": true, \"text\": [\"0.05\", \"0.09\"], \"textposition\": \"auto\", \"x\": [0.04559869007399424, 0.0863092914007176], \"xaxis\": \"x\", \"y\": [\"Nordland\", \"Troms og Finnmark\"], \"yaxis\": \"y\", \"type\": \"bar\"}, {\"alignmentgroup\": \"True\", \"hoverlabel\": {\"namelength\": 0}, \"hovertemplate\": \"RHF=Helse S\\u00f8r-\\u00d8st<br>Dato=16 Mar<br>Smittede/tusen innb=%{x}<br>Fylke=%{y}<br>txt=%{text}\", \"ids\": [\"Vestfold og Telemark\", \"Innlandet\", \"Agder\", \"Viken\", \"Oslo\"], \"legendgroup\": \"Helse S\\u00f8r-\\u00d8st\", \"marker\": {\"color\": \"#00cc96\"}, \"name\": \"Helse S\\u00f8r-\\u00d8st\", \"offsetgroup\": \"Helse S\\u00f8r-\\u00d8st\", \"orientation\": \"h\", \"showlegend\": true, \"text\": [\"0.13\", \"0.22\", \"0.22\", \"0.25\", \"0.42\"], \"textposition\": \"auto\", \"x\": [0.12637221146601302, 0.21810250817884405, 0.21807695187009124, 0.2529881200323889, 0.4210562744594762], \"xaxis\": \"x\", \"y\": [\"Vestfold og Telemark\", \"Innlandet\", \"Agder\", \"Viken\", \"Oslo\"], \"yaxis\": \"y\", \"type\": \"bar\"}, {\"alignmentgroup\": \"True\", \"hoverlabel\": {\"namelength\": 0}, \"hovertemplate\": \"RHF=Helse Vest<br>Dato=16 Mar<br>Smittede/tusen innb=%{x}<br>Fylke=%{y}<br>txt=%{text}\", \"ids\": [\"Vestland\", \"Rogaland\"], \"legendgroup\": \"Helse Vest\", \"marker\": {\"color\": \"#ab63fa\"}, \"name\": \"Helse Vest\", \"offsetgroup\": \"Helse Vest\", \"orientation\": \"h\", \"showlegend\": true, \"text\": [\"0.2\", \"0.27\"], \"textposition\": \"auto\", \"x\": [0.1995189550862409, 0.2729780867361823], \"xaxis\": \"x\", \"y\": [\"Vestland\", \"Rogaland\"], \"yaxis\": \"y\", \"type\": \"bar\"}], \"name\": \"16 Mar\"}, {\"data\": [{\"alignmentgroup\": \"True\", \"hoverlabel\": {\"namelength\": 0}, \"hovertemplate\": \"RHF=Helse Midt-Norge<br>Dato=17 Mar<br>Smittede/tusen innb=%{x}<br>Fylke=%{y}<br>txt=%{text}\", \"ids\": [\"Tr\\u00f8ndelag\", \"M\\u00f8re og Romsdal\"], \"legendgroup\": \"Helse Midt-Norge\", \"marker\": {\"color\": \"#636efa\"}, \"name\": \"Helse Midt-Norge\", \"offsetgroup\": \"Helse Midt-Norge\", \"orientation\": \"h\", \"showlegend\": true, \"text\": [\"0.13\", \"0.08\"], \"textposition\": \"auto\", \"x\": [0.1301466603513533, 0.07540397680573674], \"xaxis\": \"x\", \"y\": [\"Tr\\u00f8ndelag\", \"M\\u00f8re og Romsdal\"], \"yaxis\": \"y\", \"type\": \"bar\"}, {\"alignmentgroup\": \"True\", \"hoverlabel\": {\"namelength\": 0}, \"hovertemplate\": \"RHF=Helse Nord<br>Dato=17 Mar<br>Smittede/tusen innb=%{x}<br>Fylke=%{y}<br>txt=%{text}\", \"ids\": [\"Troms og Finnmark\", \"Nordland\"], \"legendgroup\": \"Helse Nord\", \"marker\": {\"color\": \"#EF553B\"}, \"name\": \"Helse Nord\", \"offsetgroup\": \"Helse Nord\", \"orientation\": \"h\", \"showlegend\": true, \"text\": [\"0.1\", \"0.05\"], \"textposition\": \"auto\", \"x\": [0.09863919017224869, 0.04559869007399424], \"xaxis\": \"x\", \"y\": [\"Troms og Finnmark\", \"Nordland\"], \"yaxis\": \"y\", \"type\": \"bar\"}, {\"alignmentgroup\": \"True\", \"hoverlabel\": {\"namelength\": 0}, \"hovertemplate\": \"RHF=Helse S\\u00f8r-\\u00d8st<br>Dato=17 Mar<br>Smittede/tusen innb=%{x}<br>Fylke=%{y}<br>txt=%{text}\", \"ids\": [\"Viken\", \"Vestfold og Telemark\", \"Agder\", \"Oslo\", \"Innlandet\"], \"legendgroup\": \"Helse S\\u00f8r-\\u00d8st\", \"marker\": {\"color\": \"#00cc96\"}, \"name\": \"Helse S\\u00f8r-\\u00d8st\", \"offsetgroup\": \"Helse S\\u00f8r-\\u00d8st\", \"orientation\": \"h\", \"showlegend\": true, \"text\": [\"0.29\", \"0.14\", \"0.22\", \"0.47\", \"0.24\"], \"textposition\": \"auto\", \"x\": [0.2884386846229148, 0.14067849955650508, 0.21807695187009124, 0.47440929553824546, 0.2369508730831886], \"xaxis\": \"x\", \"y\": [\"Viken\", \"Vestfold og Telemark\", \"Agder\", \"Oslo\", \"Innlandet\"], \"yaxis\": \"y\", \"type\": \"bar\"}, {\"alignmentgroup\": \"True\", \"hoverlabel\": {\"namelength\": 0}, \"hovertemplate\": \"RHF=Helse Vest<br>Dato=17 Mar<br>Smittede/tusen innb=%{x}<br>Fylke=%{y}<br>txt=%{text}\", \"ids\": [\"Rogaland\", \"Vestland\"], \"legendgroup\": \"Helse Vest\", \"marker\": {\"color\": \"#ab63fa\"}, \"name\": \"Helse Vest\", \"offsetgroup\": \"Helse Vest\", \"orientation\": \"h\", \"showlegend\": true, \"text\": [\"0.31\", \"0.22\"], \"textposition\": \"auto\", \"x\": [0.3125703283238729, 0.2215131706075588], \"xaxis\": \"x\", \"y\": [\"Rogaland\", \"Vestland\"], \"yaxis\": \"y\", \"type\": \"bar\"}], \"name\": \"17 Mar\"}, {\"data\": [{\"alignmentgroup\": \"True\", \"hoverlabel\": {\"namelength\": 0}, \"hovertemplate\": \"RHF=Helse Midt-Norge<br>Dato=18 Mar<br>Smittede/tusen innb=%{x}<br>Fylke=%{y}<br>txt=%{text}\", \"ids\": [\"Tr\\u00f8ndelag\", \"M\\u00f8re og Romsdal\"], \"legendgroup\": \"Helse Midt-Norge\", \"marker\": {\"color\": \"#636efa\"}, \"name\": \"Helse Midt-Norge\", \"offsetgroup\": \"Helse Midt-Norge\", \"orientation\": \"h\", \"showlegend\": true, \"text\": [\"0.15\", \"0.08\"], \"textposition\": \"auto\", \"x\": [0.14934862663270052, 0.07540397680573674], \"xaxis\": \"x\", \"y\": [\"Tr\\u00f8ndelag\", \"M\\u00f8re og Romsdal\"], \"yaxis\": \"y\", \"type\": \"bar\"}, {\"alignmentgroup\": \"True\", \"hoverlabel\": {\"namelength\": 0}, \"hovertemplate\": \"RHF=Helse Nord<br>Dato=18 Mar<br>Smittede/tusen innb=%{x}<br>Fylke=%{y}<br>txt=%{text}\", \"ids\": [\"Troms og Finnmark\", \"Nordland\"], \"legendgroup\": \"Helse Nord\", \"marker\": {\"color\": \"#EF553B\"}, \"name\": \"Helse Nord\", \"offsetgroup\": \"Helse Nord\", \"orientation\": \"h\", \"showlegend\": true, \"text\": [\"0.12\", \"0.05\"], \"textposition\": \"auto\", \"x\": [0.11507905520095679, 0.04974402553526644], \"xaxis\": \"x\", \"y\": [\"Troms og Finnmark\", \"Nordland\"], \"yaxis\": \"y\", \"type\": \"bar\"}, {\"alignmentgroup\": \"True\", \"hoverlabel\": {\"namelength\": 0}, \"hovertemplate\": \"RHF=Helse S\\u00f8r-\\u00d8st<br>Dato=18 Mar<br>Smittede/tusen innb=%{x}<br>Fylke=%{y}<br>txt=%{text}\", \"ids\": [\"Viken\", \"Oslo\", \"Innlandet\", \"Agder\", \"Vestfold og Telemark\"], \"legendgroup\": \"Helse S\\u00f8r-\\u00d8st\", \"marker\": {\"color\": \"#00cc96\"}, \"name\": \"Helse S\\u00f8r-\\u00d8st\", \"offsetgroup\": \"Helse S\\u00f8r-\\u00d8st\", \"orientation\": \"h\", \"showlegend\": true, \"text\": [\"0.33\", \"0.5\", \"0.26\", \"0.22\", \"0.15\"], \"textposition\": \"auto\", \"x\": [0.33033480641171803, 0.5018067928489648, 0.2611844851030602, 0.21807695187009124, 0.15021602495016642], \"xaxis\": \"x\", \"y\": [\"Viken\", \"Oslo\", \"Innlandet\", \"Agder\", \"Vestfold og Telemark\"], \"yaxis\": \"y\", \"type\": \"bar\"}, {\"alignmentgroup\": \"True\", \"hoverlabel\": {\"namelength\": 0}, \"hovertemplate\": \"RHF=Helse Vest<br>Dato=18 Mar<br>Smittede/tusen innb=%{x}<br>Fylke=%{y}<br>txt=%{text}\", \"ids\": [\"Vestland\", \"Rogaland\"], \"legendgroup\": \"Helse Vest\", \"marker\": {\"color\": \"#ab63fa\"}, \"name\": \"Helse Vest\", \"offsetgroup\": \"Helse Vest\", \"orientation\": \"h\", \"showlegend\": true, \"text\": [\"0.23\", \"0.34\"], \"textposition\": \"auto\", \"x\": [0.2309392629738379, 0.33549215240095687], \"xaxis\": \"x\", \"y\": [\"Vestland\", \"Rogaland\"], \"yaxis\": \"y\", \"type\": \"bar\"}], \"name\": \"18 Mar\"}, {\"data\": [{\"alignmentgroup\": \"True\", \"hoverlabel\": {\"namelength\": 0}, \"hovertemplate\": \"RHF=Helse Midt-Norge<br>Dato=19 Mar<br>Smittede/tusen innb=%{x}<br>Fylke=%{y}<br>txt=%{text}\", \"ids\": [\"M\\u00f8re og Romsdal\", \"Tr\\u00f8ndelag\"], \"legendgroup\": \"Helse Midt-Norge\", \"marker\": {\"color\": \"#636efa\"}, \"name\": \"Helse Midt-Norge\", \"offsetgroup\": \"Helse Midt-Norge\", \"orientation\": \"h\", \"showlegend\": true, \"text\": [\"0.09\", \"0.16\"], \"textposition\": \"auto\", \"x\": [0.09425497100717092, 0.16001638567789342], \"xaxis\": \"x\", \"y\": [\"M\\u00f8re og Romsdal\", \"Tr\\u00f8ndelag\"], \"yaxis\": \"y\", \"type\": \"bar\"}, {\"alignmentgroup\": \"True\", \"hoverlabel\": {\"namelength\": 0}, \"hovertemplate\": \"RHF=Helse Nord<br>Dato=19 Mar<br>Smittede/tusen innb=%{x}<br>Fylke=%{y}<br>txt=%{text}\", \"ids\": [\"Nordland\", \"Troms og Finnmark\"], \"legendgroup\": \"Helse Nord\", \"marker\": {\"color\": \"#EF553B\"}, \"name\": \"Helse Nord\", \"offsetgroup\": \"Helse Nord\", \"orientation\": \"h\", \"showlegend\": true, \"text\": [\"0.05\", \"0.12\"], \"textposition\": \"auto\", \"x\": [0.05388936099653864, 0.11507905520095679], \"xaxis\": \"x\", \"y\": [\"Nordland\", \"Troms og Finnmark\"], \"yaxis\": \"y\", \"type\": \"bar\"}, {\"alignmentgroup\": \"True\", \"hoverlabel\": {\"namelength\": 0}, \"hovertemplate\": \"RHF=Helse S\\u00f8r-\\u00d8st<br>Dato=19 Mar<br>Smittede/tusen innb=%{x}<br>Fylke=%{y}<br>txt=%{text}\", \"ids\": [\"Innlandet\", \"Agder\", \"Viken\", \"Vestfold og Telemark\", \"Oslo\"], \"legendgroup\": \"Helse S\\u00f8r-\\u00d8st\", \"marker\": {\"color\": \"#00cc96\"}, \"name\": \"Helse S\\u00f8r-\\u00d8st\", \"offsetgroup\": \"Helse S\\u00f8r-\\u00d8st\", \"orientation\": \"h\", \"showlegend\": true, \"text\": [\"0.28\", \"0.24\", \"0.36\", \"0.15\", \"0.57\"], \"textposition\": \"auto\", \"x\": [0.28272547356516825, 0.24411599089935587, 0.35853411915418176, 0.1549847876469971, 0.5652536287264202], \"xaxis\": \"x\", \"y\": [\"Innlandet\", \"Agder\", \"Viken\", \"Vestfold og Telemark\", \"Oslo\"], \"yaxis\": \"y\", \"type\": \"bar\"}, {\"alignmentgroup\": \"True\", \"hoverlabel\": {\"namelength\": 0}, \"hovertemplate\": \"RHF=Helse Vest<br>Dato=19 Mar<br>Smittede/tusen innb=%{x}<br>Fylke=%{y}<br>txt=%{text}\", \"ids\": [\"Vestland\", \"Rogaland\"], \"legendgroup\": \"Helse Vest\", \"marker\": {\"color\": \"#ab63fa\"}, \"name\": \"Helse Vest\", \"offsetgroup\": \"Helse Vest\", \"orientation\": \"h\", \"showlegend\": true, \"text\": [\"0.24\", \"0.37\"], \"textposition\": \"auto\", \"x\": [0.240365355340117, 0.36674918523334415], \"xaxis\": \"x\", \"y\": [\"Vestland\", \"Rogaland\"], \"yaxis\": \"y\", \"type\": \"bar\"}], \"name\": \"19 Mar\"}, {\"data\": [{\"alignmentgroup\": \"True\", \"hoverlabel\": {\"namelength\": 0}, \"hovertemplate\": \"RHF=Helse Midt-Norge<br>Dato=20 Mar<br>Smittede/tusen innb=%{x}<br>Fylke=%{y}<br>txt=%{text}\", \"ids\": [\"Tr\\u00f8ndelag\", \"M\\u00f8re og Romsdal\"], \"legendgroup\": \"Helse Midt-Norge\", \"marker\": {\"color\": \"#636efa\"}, \"name\": \"Helse Midt-Norge\", \"offsetgroup\": \"Helse Midt-Norge\", \"orientation\": \"h\", \"showlegend\": true, \"text\": [\"0.21\", \"0.11\"], \"textposition\": \"auto\", \"x\": [0.20695452547674215, 0.10933576636831827], \"xaxis\": \"x\", \"y\": [\"Tr\\u00f8ndelag\", \"M\\u00f8re og Romsdal\"], \"yaxis\": \"y\", \"type\": \"bar\"}, {\"alignmentgroup\": \"True\", \"hoverlabel\": {\"namelength\": 0}, \"hovertemplate\": \"RHF=Helse Nord<br>Dato=20 Mar<br>Smittede/tusen innb=%{x}<br>Fylke=%{y}<br>txt=%{text}\", \"ids\": [\"Nordland\", \"Troms og Finnmark\"], \"legendgroup\": \"Helse Nord\", \"marker\": {\"color\": \"#EF553B\"}, \"name\": \"Helse Nord\", \"offsetgroup\": \"Helse Nord\", \"orientation\": \"h\", \"showlegend\": true, \"text\": [\"0.07\", \"0.13\"], \"textposition\": \"auto\", \"x\": [0.07047070284162746, 0.1315189202296649], \"xaxis\": \"x\", \"y\": [\"Nordland\", \"Troms og Finnmark\"], \"yaxis\": \"y\", \"type\": \"bar\"}, {\"alignmentgroup\": \"True\", \"hoverlabel\": {\"namelength\": 0}, \"hovertemplate\": \"RHF=Helse S\\u00f8r-\\u00d8st<br>Dato=20 Mar<br>Smittede/tusen innb=%{x}<br>Fylke=%{y}<br>txt=%{text}\", \"ids\": [\"Agder\", \"Innlandet\", \"Oslo\", \"Viken\", \"Vestfold og Telemark\"], \"legendgroup\": \"Helse S\\u00f8r-\\u00d8st\", \"marker\": {\"color\": \"#00cc96\"}, \"name\": \"Helse S\\u00f8r-\\u00d8st\", \"offsetgroup\": \"Helse S\\u00f8r-\\u00d8st\", \"orientation\": \"h\", \"showlegend\": true, \"text\": [\"0.26\", \"0.31\", \"0.6\", \"0.43\", \"0.17\"], \"textposition\": \"auto\", \"x\": [0.2571355104139882, 0.3096517091428033, 0.6041869143784949, 0.4262124697360947, 0.17167545708590448], \"xaxis\": \"x\", \"y\": [\"Agder\", \"Innlandet\", \"Oslo\", \"Viken\", \"Vestfold og Telemark\"], \"yaxis\": \"y\", \"type\": \"bar\"}, {\"alignmentgroup\": \"True\", \"hoverlabel\": {\"namelength\": 0}, \"hovertemplate\": \"RHF=Helse Vest<br>Dato=20 Mar<br>Smittede/tusen innb=%{x}<br>Fylke=%{y}<br>txt=%{text}\", \"ids\": [\"Vestland\", \"Rogaland\"], \"legendgroup\": \"Helse Vest\", \"marker\": {\"color\": \"#ab63fa\"}, \"name\": \"Helse Vest\", \"offsetgroup\": \"Helse Vest\", \"orientation\": \"h\", \"showlegend\": true, \"text\": [\"0.27\", \"0.38\"], \"textposition\": \"auto\", \"x\": [0.27178566322771397, 0.37508439398864746], \"xaxis\": \"x\", \"y\": [\"Vestland\", \"Rogaland\"], \"yaxis\": \"y\", \"type\": \"bar\"}], \"name\": \"20 Mar\"}, {\"data\": [{\"alignmentgroup\": \"True\", \"hoverlabel\": {\"namelength\": 0}, \"hovertemplate\": \"RHF=Helse Midt-Norge<br>Dato=21 Mar<br>Smittede/tusen innb=%{x}<br>Fylke=%{y}<br>txt=%{text}\", \"ids\": [\"Tr\\u00f8ndelag\", \"M\\u00f8re og Romsdal\"], \"legendgroup\": \"Helse Midt-Norge\", \"marker\": {\"color\": \"#636efa\"}, \"name\": \"Helse Midt-Norge\", \"offsetgroup\": \"Helse Midt-Norge\", \"orientation\": \"h\", \"showlegend\": true, \"text\": [\"0.26\", \"0.12\"], \"textposition\": \"auto\", \"x\": [0.2602933207027066, 0.12064636288917878], \"xaxis\": \"x\", \"y\": [\"Tr\\u00f8ndelag\", \"M\\u00f8re og Romsdal\"], \"yaxis\": \"y\", \"type\": \"bar\"}, {\"alignmentgroup\": \"True\", \"hoverlabel\": {\"namelength\": 0}, \"hovertemplate\": \"RHF=Helse Nord<br>Dato=21 Mar<br>Smittede/tusen innb=%{x}<br>Fylke=%{y}<br>txt=%{text}\", \"ids\": [\"Nordland\", \"Troms og Finnmark\"], \"legendgroup\": \"Helse Nord\", \"marker\": {\"color\": \"#EF553B\"}, \"name\": \"Helse Nord\", \"offsetgroup\": \"Helse Nord\", \"orientation\": \"h\", \"showlegend\": true, \"text\": [\"0.07\", \"0.15\"], \"textposition\": \"auto\", \"x\": [0.07047070284162746, 0.15206875151555005], \"xaxis\": \"x\", \"y\": [\"Nordland\", \"Troms og Finnmark\"], \"yaxis\": \"y\", \"type\": \"bar\"}, {\"alignmentgroup\": \"True\", \"hoverlabel\": {\"namelength\": 0}, \"hovertemplate\": \"RHF=Helse S\\u00f8r-\\u00d8st<br>Dato=21 Mar<br>Smittede/tusen innb=%{x}<br>Fylke=%{y}<br>txt=%{text}\", \"ids\": [\"Vestfold og Telemark\", \"Innlandet\", \"Oslo\", \"Viken\", \"Agder\"], \"legendgroup\": \"Helse S\\u00f8r-\\u00d8st\", \"marker\": {\"color\": \"#00cc96\"}, \"name\": \"Helse S\\u00f8r-\\u00d8st\", \"offsetgroup\": \"Helse S\\u00f8r-\\u00d8st\", \"orientation\": \"h\", \"showlegend\": true, \"text\": [\"0.19\", \"0.34\", \"0.65\", \"0.47\", \"0.27\"], \"textposition\": \"auto\", \"x\": [0.19313488922164254, 0.3365779447204384, 0.6460041471159087, 0.46971998082446736, 0.2669001500499624], \"xaxis\": \"x\", \"y\": [\"Vestfold og Telemark\", \"Innlandet\", \"Oslo\", \"Viken\", \"Agder\"], \"yaxis\": \"y\", \"type\": \"bar\"}, {\"alignmentgroup\": \"True\", \"hoverlabel\": {\"namelength\": 0}, \"hovertemplate\": \"RHF=Helse Vest<br>Dato=21 Mar<br>Smittede/tusen innb=%{x}<br>Fylke=%{y}<br>txt=%{text}\", \"ids\": [\"Rogaland\", \"Vestland\"], \"legendgroup\": \"Helse Vest\", \"marker\": {\"color\": \"#ab63fa\"}, \"name\": \"Helse Vest\", \"offsetgroup\": \"Helse Vest\", \"orientation\": \"h\", \"showlegend\": true, \"text\": [\"0.41\", \"0.31\"], \"textposition\": \"auto\", \"x\": [0.414676635576338, 0.31420307887596993], \"xaxis\": \"x\", \"y\": [\"Rogaland\", \"Vestland\"], \"yaxis\": \"y\", \"type\": \"bar\"}], \"name\": \"21 Mar\"}, {\"data\": [{\"alignmentgroup\": \"True\", \"hoverlabel\": {\"namelength\": 0}, \"hovertemplate\": \"RHF=Helse Midt-Norge<br>Dato=22 Mar<br>Smittede/tusen innb=%{x}<br>Fylke=%{y}<br>txt=%{text}\", \"ids\": [\"M\\u00f8re og Romsdal\", \"Tr\\u00f8ndelag\"], \"legendgroup\": \"Helse Midt-Norge\", \"marker\": {\"color\": \"#636efa\"}, \"name\": \"Helse Midt-Norge\", \"offsetgroup\": \"Helse Midt-Norge\", \"orientation\": \"h\", \"showlegend\": true, \"text\": [\"0.14\", \"0.28\"], \"textposition\": \"auto\", \"x\": [0.1432675559308998, 0.27949528698405385], \"xaxis\": \"x\", \"y\": [\"M\\u00f8re og Romsdal\", \"Tr\\u00f8ndelag\"], \"yaxis\": \"y\", \"type\": \"bar\"}, {\"alignmentgroup\": \"True\", \"hoverlabel\": {\"namelength\": 0}, \"hovertemplate\": \"RHF=Helse Nord<br>Dato=22 Mar<br>Smittede/tusen innb=%{x}<br>Fylke=%{y}<br>txt=%{text}\", \"ids\": [\"Troms og Finnmark\", \"Nordland\"], \"legendgroup\": \"Helse Nord\", \"marker\": {\"color\": \"#EF553B\"}, \"name\": \"Helse Nord\", \"offsetgroup\": \"Helse Nord\", \"orientation\": \"h\", \"showlegend\": true, \"text\": [\"0.2\", \"0.07\"], \"textposition\": \"auto\", \"x\": [0.2013883466016744, 0.07461603830289966], \"xaxis\": \"x\", \"y\": [\"Troms og Finnmark\", \"Nordland\"], \"yaxis\": \"y\", \"type\": \"bar\"}, {\"alignmentgroup\": \"True\", \"hoverlabel\": {\"namelength\": 0}, \"hovertemplate\": \"RHF=Helse S\\u00f8r-\\u00d8st<br>Dato=22 Mar<br>Smittede/tusen innb=%{x}<br>Fylke=%{y}<br>txt=%{text}\", \"ids\": [\"Viken\", \"Agder\", \"Oslo\", \"Vestfold og Telemark\", \"Innlandet\"], \"legendgroup\": \"Helse S\\u00f8r-\\u00d8st\", \"marker\": {\"color\": \"#00cc96\"}, \"name\": \"Helse S\\u00f8r-\\u00d8st\", \"offsetgroup\": \"Helse S\\u00f8r-\\u00d8st\", \"orientation\": \"h\", \"showlegend\": true, \"text\": [\"0.5\", \"0.3\", \"0.75\", \"0.2\", \"0.4\"], \"textposition\": \"auto\", \"x\": [0.49550220961757707, 0.29619406895788514, 0.7541521628161166, 0.20267241461530391, 0.398508286548999], \"xaxis\": \"x\", \"y\": [\"Viken\", \"Agder\", \"Oslo\", \"Vestfold og Telemark\", \"Innlandet\"], \"yaxis\": \"y\", \"type\": \"bar\"}, {\"alignmentgroup\": \"True\", \"hoverlabel\": {\"namelength\": 0}, \"hovertemplate\": \"RHF=Helse Vest<br>Dato=22 Mar<br>Smittede/tusen innb=%{x}<br>Fylke=%{y}<br>txt=%{text}\", \"ids\": [\"Rogaland\", \"Vestland\"], \"legendgroup\": \"Helse Vest\", \"marker\": {\"color\": \"#ab63fa\"}, \"name\": \"Helse Vest\", \"offsetgroup\": \"Helse Vest\", \"orientation\": \"h\", \"showlegend\": true, \"text\": [\"0.46\", \"0.34\"], \"textposition\": \"auto\", \"x\": [0.4563526793528544, 0.33619729439728785], \"xaxis\": \"x\", \"y\": [\"Rogaland\", \"Vestland\"], \"yaxis\": \"y\", \"type\": \"bar\"}], \"name\": \"22 Mar\"}, {\"data\": [{\"alignmentgroup\": \"True\", \"hoverlabel\": {\"namelength\": 0}, \"hovertemplate\": \"RHF=Helse Midt-Norge<br>Dato=23 Mar<br>Smittede/tusen innb=%{x}<br>Fylke=%{y}<br>txt=%{text}\", \"ids\": [\"M\\u00f8re og Romsdal\", \"Tr\\u00f8ndelag\"], \"legendgroup\": \"Helse Midt-Norge\", \"marker\": {\"color\": \"#636efa\"}, \"name\": \"Helse Midt-Norge\", \"offsetgroup\": \"Helse Midt-Norge\", \"orientation\": \"h\", \"showlegend\": true, \"text\": [\"0.17\", \"0.31\"], \"textposition\": \"auto\", \"x\": [0.16588874897262082, 0.30723146050155536], \"xaxis\": \"x\", \"y\": [\"M\\u00f8re og Romsdal\", \"Tr\\u00f8ndelag\"], \"yaxis\": \"y\", \"type\": \"bar\"}, {\"alignmentgroup\": \"True\", \"hoverlabel\": {\"namelength\": 0}, \"hovertemplate\": \"RHF=Helse Nord<br>Dato=23 Mar<br>Smittede/tusen innb=%{x}<br>Fylke=%{y}<br>txt=%{text}\", \"ids\": [\"Troms og Finnmark\", \"Nordland\"], \"legendgroup\": \"Helse Nord\", \"marker\": {\"color\": \"#EF553B\"}, \"name\": \"Helse Nord\", \"offsetgroup\": \"Helse Nord\", \"orientation\": \"h\", \"showlegend\": true, \"text\": [\"0.23\", \"0.07\"], \"textposition\": \"auto\", \"x\": [0.22604814414473656, 0.07461603830289966], \"xaxis\": \"x\", \"y\": [\"Troms og Finnmark\", \"Nordland\"], \"yaxis\": \"y\", \"type\": \"bar\"}, {\"alignmentgroup\": \"True\", \"hoverlabel\": {\"namelength\": 0}, \"hovertemplate\": \"RHF=Helse S\\u00f8r-\\u00d8st<br>Dato=23 Mar<br>Smittede/tusen innb=%{x}<br>Fylke=%{y}<br>txt=%{text}\", \"ids\": [\"Oslo\", \"Viken\", \"Vestfold og Telemark\", \"Innlandet\", \"Agder\"], \"legendgroup\": \"Helse S\\u00f8r-\\u00d8st\", \"marker\": {\"color\": \"#00cc96\"}, \"name\": \"Helse S\\u00f8r-\\u00d8st\", \"offsetgroup\": \"Helse S\\u00f8r-\\u00d8st\", \"orientation\": \"h\", \"showlegend\": true, \"text\": [\"0.92\", \"0.54\", \"0.21\", \"0.41\", \"0.3\"], \"textposition\": \"auto\", \"x\": [0.9170951731377632, 0.5430381939548731, 0.20744117731213457, 0.4065861572222895, 0.29619406895788514], \"xaxis\": \"x\", \"y\": [\"Oslo\", \"Viken\", \"Vestfold og Telemark\", \"Innlandet\", \"Agder\"], \"yaxis\": \"y\", \"type\": \"bar\"}, {\"alignmentgroup\": \"True\", \"hoverlabel\": {\"namelength\": 0}, \"hovertemplate\": \"RHF=Helse Vest<br>Dato=23 Mar<br>Smittede/tusen innb=%{x}<br>Fylke=%{y}<br>txt=%{text}\", \"ids\": [\"Rogaland\", \"Vestland\"], \"legendgroup\": \"Helse Vest\", \"marker\": {\"color\": \"#ab63fa\"}, \"name\": \"Helse Vest\", \"offsetgroup\": \"Helse Vest\", \"orientation\": \"h\", \"showlegend\": true, \"text\": [\"0.49\", \"0.37\"], \"textposition\": \"auto\", \"x\": [0.4938611187517191, 0.3676176022848848], \"xaxis\": \"x\", \"y\": [\"Rogaland\", \"Vestland\"], \"yaxis\": \"y\", \"type\": \"bar\"}], \"name\": \"23 Mar\"}, {\"data\": [{\"alignmentgroup\": \"True\", \"hoverlabel\": {\"namelength\": 0}, \"hovertemplate\": \"RHF=Helse Midt-Norge<br>Dato=24 Mar<br>Smittede/tusen innb=%{x}<br>Fylke=%{y}<br>txt=%{text}\", \"ids\": [\"Tr\\u00f8ndelag\", \"M\\u00f8re og Romsdal\"], \"legendgroup\": \"Helse Midt-Norge\", \"marker\": {\"color\": \"#636efa\"}, \"name\": \"Helse Midt-Norge\", \"offsetgroup\": \"Helse Midt-Norge\", \"orientation\": \"h\", \"showlegend\": true, \"text\": [\"0.34\", \"0.17\"], \"textposition\": \"auto\", \"x\": [0.33710118582809545, 0.17342914665319448], \"xaxis\": \"x\", \"y\": [\"Tr\\u00f8ndelag\", \"M\\u00f8re og Romsdal\"], \"yaxis\": \"y\", \"type\": \"bar\"}, {\"alignmentgroup\": \"True\", \"hoverlabel\": {\"namelength\": 0}, \"hovertemplate\": \"RHF=Helse Nord<br>Dato=24 Mar<br>Smittede/tusen innb=%{x}<br>Fylke=%{y}<br>txt=%{text}\", \"ids\": [\"Nordland\", \"Troms og Finnmark\"], \"legendgroup\": \"Helse Nord\", \"marker\": {\"color\": \"#EF553B\"}, \"name\": \"Helse Nord\", \"offsetgroup\": \"Helse Nord\", \"orientation\": \"h\", \"showlegend\": true, \"text\": [\"0.07\", \"0.24\"], \"textposition\": \"auto\", \"x\": [0.07461603830289966, 0.24248800917344468], \"xaxis\": \"x\", \"y\": [\"Nordland\", \"Troms og Finnmark\"], \"yaxis\": \"y\", \"type\": \"bar\"}, {\"alignmentgroup\": \"True\", \"hoverlabel\": {\"namelength\": 0}, \"hovertemplate\": \"RHF=Helse S\\u00f8r-\\u00d8st<br>Dato=24 Mar<br>Smittede/tusen innb=%{x}<br>Fylke=%{y}<br>txt=%{text}\", \"ids\": [\"Vestfold og Telemark\", \"Oslo\", \"Agder\", \"Innlandet\", \"Viken\"], \"legendgroup\": \"Helse S\\u00f8r-\\u00d8st\", \"marker\": {\"color\": \"#00cc96\"}, \"name\": \"Helse S\\u00f8r-\\u00d8st\", \"offsetgroup\": \"Helse S\\u00f8r-\\u00d8st\", \"orientation\": \"h\", \"showlegend\": true, \"text\": [\"0.23\", \"0.95\", \"0.3\", \"0.44\", \"0.6\"], \"textposition\": \"auto\", \"x\": [0.22651622809945732, 0.9473766175338214, 0.2994489488365432, 0.4388976399154516, 0.6026595980389392], \"xaxis\": \"x\", \"y\": [\"Vestfold og Telemark\", \"Oslo\", \"Agder\", \"Innlandet\", \"Viken\"], \"yaxis\": \"y\", \"type\": \"bar\"}, {\"alignmentgroup\": \"True\", \"hoverlabel\": {\"namelength\": 0}, \"hovertemplate\": \"RHF=Helse Vest<br>Dato=24 Mar<br>Smittede/tusen innb=%{x}<br>Fylke=%{y}<br>txt=%{text}\", \"ids\": [\"Rogaland\", \"Vestland\"], \"legendgroup\": \"Helse Vest\", \"marker\": {\"color\": \"#ab63fa\"}, \"name\": \"Helse Vest\", \"offsetgroup\": \"Helse Vest\", \"orientation\": \"h\", \"showlegend\": true, \"text\": [\"0.52\", \"0.44\"], \"textposition\": \"auto\", \"x\": [0.5230343493952806, 0.4383132950319781], \"xaxis\": \"x\", \"y\": [\"Rogaland\", \"Vestland\"], \"yaxis\": \"y\", \"type\": \"bar\"}], \"name\": \"24 Mar\"}]);\n",
       "                        }).then(function(){\n",
       "                            \n",
       "var gd = document.getElementById('ce276719-c38a-4ab5-a0a4-9b84c7ef9e44');\n",
       "var x = new MutationObserver(function (mutations, observer) {{\n",
       "        var display = window.getComputedStyle(gd).display;\n",
       "        if (!display || display === 'none') {{\n",
       "            console.log([gd, 'removed!']);\n",
       "            Plotly.purge(gd);\n",
       "            observer.disconnect();\n",
       "        }}\n",
       "}});\n",
       "\n",
       "// Listen for the removal of the full notebook cells\n",
       "var notebookContainer = gd.closest('#notebook-container');\n",
       "if (notebookContainer) {{\n",
       "    x.observe(notebookContainer, {childList: true});\n",
       "}}\n",
       "\n",
       "// Listen for the clearing of the current output cell\n",
       "var outputEl = gd.closest('.output');\n",
       "if (outputEl) {{\n",
       "    x.observe(outputEl, {childList: true});\n",
       "}}\n",
       "\n",
       "                        })\n",
       "                };\n",
       "                });\n",
       "            </script>\n",
       "        </div>"
      ]
     },
     "metadata": {},
     "output_type": "display_data"
    }
   ],
   "source": [
    "legend = [i for i in vekst[\"RHF\"].unique()]\n",
    "legend.sort()\n",
    "\n",
    "fig = px.bar(melted, \n",
    "             x='Smittede/tusen innb', y='Fylke', animation_frame=\"variable\",\n",
    "             animation_group=\"Fylke\",\n",
    "             orientation='h',\n",
    "             category_orders={\"RHF\": legend},\n",
    "             labels = {\"Veksttakt\": \"daglig vekst (%)\", \"variable\": \"Dato\"},\n",
    "             color='RHF',\n",
    "             text=\"txt\",\n",
    "             height=600,\n",
    "             title = \"<b>COVID19: Registrert smittet i Norge</b><br>Antall smittet per 1 000 innbyggere<br>Datakilde: FHI - folkehelseinstituttet. Oppdatert \" +datetime.today().strftime('%d.%m.%Y'),\n",
    "             template = \"plotly_white\",\n",
    "             range_x=[0,1]\n",
    "                 ).update_yaxes(categoryorder=\"total ascending\")\n",
    "\n",
    "fig.layout.coloraxis.showscale = False\n",
    "\n",
    "fig.update_layout(\n",
    "    yaxis=dict(\n",
    "        separatethousands=True,\n",
    "        categoryorder = 'total ascending',\n",
    "        title_text=\"\",\n",
    "        fixedrange=True,\n",
    "    ), xaxis=dict(fixedrange=True,\n",
    "                 title_text=\"per 1 000\"),\n",
    "    title_font=dict(family=\"Helvetica\", size=18),\n",
    "        margin=dict(b=150)) #bottom margin\n",
    "\n",
    "fig.update_layout(autosize=True,\n",
    "    margin=dict(l=100, r=100, t=150, b=0),\n",
    "    paper_bgcolor='rgba(0, 0, 0, 0)'\n",
    "    #plot_bgcolor='rgb(248, 248, 255)'    \n",
    "                 )\n",
    "\n",
    "py.plot(fig, filename='COVID19_per_capita_fylkesutvikling_animation.html')\n",
    "fig.show()"
   ]
  },
  {
   "cell_type": "markdown",
   "metadata": {},
   "source": [
    "# sammenligning fra registrering nr 10"
   ]
  },
  {
   "cell_type": "code",
   "execution_count": 152,
   "metadata": {},
   "outputs": [
    {
     "data": {
      "text/html": [
       "<div>\n",
       "<style scoped>\n",
       "    .dataframe tbody tr th:only-of-type {\n",
       "        vertical-align: middle;\n",
       "    }\n",
       "\n",
       "    .dataframe tbody tr th {\n",
       "        vertical-align: top;\n",
       "    }\n",
       "\n",
       "    .dataframe thead th {\n",
       "        text-align: right;\n",
       "    }\n",
       "</style>\n",
       "<table border=\"1\" class=\"dataframe\">\n",
       "  <thead>\n",
       "    <tr style=\"text-align: right;\">\n",
       "      <th>Fylke</th>\n",
       "      <th>Agder</th>\n",
       "      <th>Innlandet</th>\n",
       "      <th>Møre og Romsdal</th>\n",
       "      <th>Nordland</th>\n",
       "      <th>Oslo</th>\n",
       "      <th>Rogaland</th>\n",
       "      <th>Troms og Finnmark</th>\n",
       "      <th>Trøndelag</th>\n",
       "      <th>Vestfold og Telemark</th>\n",
       "      <th>Vestland</th>\n",
       "      <th>Viken</th>\n",
       "    </tr>\n",
       "    <tr>\n",
       "      <th>variable</th>\n",
       "      <th></th>\n",
       "      <th></th>\n",
       "      <th></th>\n",
       "      <th></th>\n",
       "      <th></th>\n",
       "      <th></th>\n",
       "      <th></th>\n",
       "      <th></th>\n",
       "      <th></th>\n",
       "      <th></th>\n",
       "      <th></th>\n",
       "    </tr>\n",
       "  </thead>\n",
       "  <tbody>\n",
       "    <tr>\n",
       "      <td>2020-03-02</td>\n",
       "      <td>2</td>\n",
       "      <td>0</td>\n",
       "      <td>0</td>\n",
       "      <td>0</td>\n",
       "      <td>7</td>\n",
       "      <td>0</td>\n",
       "      <td>1</td>\n",
       "      <td>0</td>\n",
       "      <td>0</td>\n",
       "      <td>9</td>\n",
       "      <td>5</td>\n",
       "    </tr>\n",
       "    <tr>\n",
       "      <td>2020-03-03</td>\n",
       "      <td>3</td>\n",
       "      <td>0</td>\n",
       "      <td>0</td>\n",
       "      <td>0</td>\n",
       "      <td>7</td>\n",
       "      <td>0</td>\n",
       "      <td>2</td>\n",
       "      <td>0</td>\n",
       "      <td>0</td>\n",
       "      <td>12</td>\n",
       "      <td>8</td>\n",
       "    </tr>\n",
       "    <tr>\n",
       "      <td>2020-03-04</td>\n",
       "      <td>3</td>\n",
       "      <td>3</td>\n",
       "      <td>1</td>\n",
       "      <td>0</td>\n",
       "      <td>14</td>\n",
       "      <td>3</td>\n",
       "      <td>2</td>\n",
       "      <td>1</td>\n",
       "      <td>0</td>\n",
       "      <td>17</td>\n",
       "      <td>19</td>\n",
       "    </tr>\n",
       "    <tr>\n",
       "      <td>2020-03-05</td>\n",
       "      <td>7</td>\n",
       "      <td>4</td>\n",
       "      <td>2</td>\n",
       "      <td>0</td>\n",
       "      <td>18</td>\n",
       "      <td>6</td>\n",
       "      <td>2</td>\n",
       "      <td>7</td>\n",
       "      <td>2</td>\n",
       "      <td>22</td>\n",
       "      <td>23</td>\n",
       "    </tr>\n",
       "    <tr>\n",
       "      <td>2020-03-06</td>\n",
       "      <td>7</td>\n",
       "      <td>12</td>\n",
       "      <td>2</td>\n",
       "      <td>1</td>\n",
       "      <td>23</td>\n",
       "      <td>11</td>\n",
       "      <td>6</td>\n",
       "      <td>15</td>\n",
       "      <td>2</td>\n",
       "      <td>24</td>\n",
       "      <td>26</td>\n",
       "    </tr>\n",
       "  </tbody>\n",
       "</table>\n",
       "</div>"
      ],
      "text/plain": [
       "Fylke       Agder  Innlandet  Møre og Romsdal  Nordland  Oslo  Rogaland  \\\n",
       "variable                                                                  \n",
       "2020-03-02      2          0                0         0     7         0   \n",
       "2020-03-03      3          0                0         0     7         0   \n",
       "2020-03-04      3          3                1         0    14         3   \n",
       "2020-03-05      7          4                2         0    18         6   \n",
       "2020-03-06      7         12                2         1    23        11   \n",
       "\n",
       "Fylke       Troms og Finnmark  Trøndelag  Vestfold og Telemark  Vestland  \\\n",
       "variable                                                                   \n",
       "2020-03-02                  1          0                     0         9   \n",
       "2020-03-03                  2          0                     0        12   \n",
       "2020-03-04                  2          1                     0        17   \n",
       "2020-03-05                  2          7                     2        22   \n",
       "2020-03-06                  6         15                     2        24   \n",
       "\n",
       "Fylke       Viken  \n",
       "variable           \n",
       "2020-03-02      5  \n",
       "2020-03-03      8  \n",
       "2020-03-04     19  \n",
       "2020-03-05     23  \n",
       "2020-03-06     26  "
      ]
     },
     "execution_count": 152,
     "metadata": {},
     "output_type": "execute_result"
    }
   ],
   "source": [
    "restart.head()"
   ]
  },
  {
   "cell_type": "code",
   "execution_count": 153,
   "metadata": {},
   "outputs": [
    {
     "data": {
      "text/html": [
       "<div>\n",
       "<style scoped>\n",
       "    .dataframe tbody tr th:only-of-type {\n",
       "        vertical-align: middle;\n",
       "    }\n",
       "\n",
       "    .dataframe tbody tr th {\n",
       "        vertical-align: top;\n",
       "    }\n",
       "\n",
       "    .dataframe thead th {\n",
       "        text-align: right;\n",
       "    }\n",
       "</style>\n",
       "<table border=\"1\" class=\"dataframe\">\n",
       "  <thead>\n",
       "    <tr style=\"text-align: right;\">\n",
       "      <th></th>\n",
       "      <th>variable</th>\n",
       "      <th>Fylke</th>\n",
       "      <th>value</th>\n",
       "    </tr>\n",
       "  </thead>\n",
       "  <tbody>\n",
       "    <tr>\n",
       "      <td>0</td>\n",
       "      <td>2020-03-05</td>\n",
       "      <td>Agder</td>\n",
       "      <td>7.0</td>\n",
       "    </tr>\n",
       "    <tr>\n",
       "      <td>1</td>\n",
       "      <td>2020-03-06</td>\n",
       "      <td>Agder</td>\n",
       "      <td>7.0</td>\n",
       "    </tr>\n",
       "    <tr>\n",
       "      <td>2</td>\n",
       "      <td>2020-03-07</td>\n",
       "      <td>Agder</td>\n",
       "      <td>9.0</td>\n",
       "    </tr>\n",
       "    <tr>\n",
       "      <td>3</td>\n",
       "      <td>2020-03-08</td>\n",
       "      <td>Agder</td>\n",
       "      <td>9.0</td>\n",
       "    </tr>\n",
       "    <tr>\n",
       "      <td>4</td>\n",
       "      <td>2020-03-09</td>\n",
       "      <td>Agder</td>\n",
       "      <td>17.0</td>\n",
       "    </tr>\n",
       "  </tbody>\n",
       "</table>\n",
       "</div>"
      ],
      "text/plain": [
       "    variable  Fylke  value\n",
       "0 2020-03-05  Agder    7.0\n",
       "1 2020-03-06  Agder    7.0\n",
       "2 2020-03-07  Agder    9.0\n",
       "3 2020-03-08  Agder    9.0\n",
       "4 2020-03-09  Agder   17.0"
      ]
     },
     "execution_count": 153,
     "metadata": {},
     "output_type": "execute_result"
    }
   ],
   "source": [
    "restart = pd.melt(restart.reset_index(), id_vars=[\"variable\"])\n",
    "restart[restart[\"value\"] < 5] = np.nan\n",
    "restart = restart.apply(lambda x: pd.Series(x.dropna().values))\n",
    "restart.head()"
   ]
  },
  {
   "cell_type": "code",
   "execution_count": 154,
   "metadata": {},
   "outputs": [
    {
     "data": {
      "text/html": [
       "<div>\n",
       "<style scoped>\n",
       "    .dataframe tbody tr th:only-of-type {\n",
       "        vertical-align: middle;\n",
       "    }\n",
       "\n",
       "    .dataframe tbody tr th {\n",
       "        vertical-align: top;\n",
       "    }\n",
       "\n",
       "    .dataframe thead th {\n",
       "        text-align: right;\n",
       "    }\n",
       "</style>\n",
       "<table border=\"1\" class=\"dataframe\">\n",
       "  <thead>\n",
       "    <tr style=\"text-align: right;\">\n",
       "      <th></th>\n",
       "      <th>level_0</th>\n",
       "      <th>level_1</th>\n",
       "      <th>variable</th>\n",
       "      <th>Fylke</th>\n",
       "      <th>value</th>\n",
       "      <th>RHF</th>\n",
       "      <th>Befolkning</th>\n",
       "    </tr>\n",
       "  </thead>\n",
       "  <tbody>\n",
       "    <tr>\n",
       "      <td>0</td>\n",
       "      <td>0</td>\n",
       "      <td>0</td>\n",
       "      <td>05 Mar</td>\n",
       "      <td>Agder</td>\n",
       "      <td>7.0</td>\n",
       "      <td>Helse Sør-Øst</td>\n",
       "      <td>307231</td>\n",
       "    </tr>\n",
       "    <tr>\n",
       "      <td>1</td>\n",
       "      <td>0</td>\n",
       "      <td>1</td>\n",
       "      <td>06 Mar</td>\n",
       "      <td>Agder</td>\n",
       "      <td>7.0</td>\n",
       "      <td>Helse Sør-Øst</td>\n",
       "      <td>307231</td>\n",
       "    </tr>\n",
       "    <tr>\n",
       "      <td>2</td>\n",
       "      <td>0</td>\n",
       "      <td>2</td>\n",
       "      <td>07 Mar</td>\n",
       "      <td>Agder</td>\n",
       "      <td>9.0</td>\n",
       "      <td>Helse Sør-Øst</td>\n",
       "      <td>307231</td>\n",
       "    </tr>\n",
       "    <tr>\n",
       "      <td>3</td>\n",
       "      <td>0</td>\n",
       "      <td>3</td>\n",
       "      <td>08 Mar</td>\n",
       "      <td>Agder</td>\n",
       "      <td>9.0</td>\n",
       "      <td>Helse Sør-Øst</td>\n",
       "      <td>307231</td>\n",
       "    </tr>\n",
       "    <tr>\n",
       "      <td>4</td>\n",
       "      <td>0</td>\n",
       "      <td>4</td>\n",
       "      <td>09 Mar</td>\n",
       "      <td>Agder</td>\n",
       "      <td>17.0</td>\n",
       "      <td>Helse Sør-Øst</td>\n",
       "      <td>307231</td>\n",
       "    </tr>\n",
       "  </tbody>\n",
       "</table>\n",
       "</div>"
      ],
      "text/plain": [
       "   level_0  level_1 variable  Fylke  value            RHF  Befolkning\n",
       "0        0        0   05 Mar  Agder    7.0  Helse Sør-Øst      307231\n",
       "1        0        1   06 Mar  Agder    7.0  Helse Sør-Øst      307231\n",
       "2        0        2   07 Mar  Agder    9.0  Helse Sør-Øst      307231\n",
       "3        0        3   08 Mar  Agder    9.0  Helse Sør-Øst      307231\n",
       "4        0        4   09 Mar  Agder   17.0  Helse Sør-Øst      307231"
      ]
     },
     "execution_count": 154,
     "metadata": {},
     "output_type": "execute_result"
    }
   ],
   "source": [
    "restart = restart.groupby([\"Fylke\"], as_index=False)\n",
    "restart = restart.apply(lambda x: x.reset_index(drop=True)).reset_index()\n",
    "restart[\"variable\"] = restart[\"variable\"].apply(lambda x: x.strftime(\"%d %b\"))\n",
    "restart = restart.merge(fylker, how=\"left\", on=\"Fylke\")\n",
    "restart.head()"
   ]
  },
  {
   "cell_type": "code",
   "execution_count": 197,
   "metadata": {},
   "outputs": [
    {
     "data": {
      "application/vnd.plotly.v1+json": {
       "config": {
        "plotlyServerURL": "https://plot.ly"
       },
       "data": [
        {
         "customdata": [
          [
           "Helse Sør-Øst",
           "05 Mar",
           7
          ],
          [
           "Helse Sør-Øst",
           "06 Mar",
           7
          ],
          [
           "Helse Sør-Øst",
           "07 Mar",
           9
          ],
          [
           "Helse Sør-Øst",
           "08 Mar",
           9
          ],
          [
           "Helse Sør-Øst",
           "09 Mar",
           17
          ],
          [
           "Helse Sør-Øst",
           "10 Mar",
           19
          ],
          [
           "Helse Sør-Øst",
           "11 Mar",
           20
          ],
          [
           "Helse Sør-Øst",
           "12 Mar",
           32
          ],
          [
           "Helse Sør-Øst",
           "13 Mar",
           34
          ],
          [
           "Helse Sør-Øst",
           "14 Mar",
           52
          ],
          [
           "Helse Sør-Øst",
           "15 Mar",
           55
          ],
          [
           "Helse Sør-Øst",
           "16 Mar",
           67
          ],
          [
           "Helse Sør-Øst",
           "17 Mar",
           67
          ],
          [
           "Helse Sør-Øst",
           "18 Mar",
           67
          ],
          [
           "Helse Sør-Øst",
           "19 Mar",
           75
          ],
          [
           "Helse Sør-Øst",
           "20 Mar",
           79
          ],
          [
           "Helse Sør-Øst",
           "21 Mar",
           82
          ],
          [
           "Helse Sør-Øst",
           "22 Mar",
           91
          ],
          [
           "Helse Sør-Øst",
           "23 Mar",
           91
          ],
          [
           "Helse Sør-Øst",
           "24 Mar",
           92
          ]
         ],
         "hoverlabel": {
          "namelength": 0
         },
         "hovertemplate": "<b>%{hovertext}</b><br><br>Fylke=Agder<br>Dager siden antall smittede passerte 5=%{x}<br>Totalt registrerte smittede (log)=%{customdata[2]}<br>RHF=%{customdata[0]}<br>Dato=%{customdata[1]}",
         "hovertext": [
          "Agder",
          "Agder",
          "Agder",
          "Agder",
          "Agder",
          "Agder",
          "Agder",
          "Agder",
          "Agder",
          "Agder",
          "Agder",
          "Agder",
          "Agder",
          "Agder",
          "Agder",
          "Agder",
          "Agder",
          "Agder",
          "Agder",
          "Agder"
         ],
         "legendgroup": "Agder",
         "marker": {
          "color": "#636efa",
          "symbol": "circle"
         },
         "mode": "markers+lines",
         "name": "Agder",
         "showlegend": true,
         "type": "scatter",
         "x": [
          0,
          1,
          2,
          3,
          4,
          5,
          6,
          7,
          8,
          9,
          10,
          11,
          12,
          13,
          14,
          15,
          16,
          17,
          18,
          19
         ],
         "xaxis": "x",
         "y": [
          7,
          7,
          9,
          9,
          17,
          19,
          20,
          32,
          34,
          52,
          55,
          67,
          67,
          67,
          75,
          79,
          82,
          91,
          91,
          92
         ],
         "yaxis": "y"
        },
        {
         "customdata": [
          [
           "Helse Sør-Øst",
           "06 Mar",
           12
          ],
          [
           "Helse Sør-Øst",
           "07 Mar",
           12
          ],
          [
           "Helse Sør-Øst",
           "08 Mar",
           12
          ],
          [
           "Helse Sør-Øst",
           "09 Mar",
           14
          ],
          [
           "Helse Sør-Øst",
           "10 Mar",
           16
          ],
          [
           "Helse Sør-Øst",
           "11 Mar",
           23
          ],
          [
           "Helse Sør-Øst",
           "12 Mar",
           40
          ],
          [
           "Helse Sør-Øst",
           "13 Mar",
           49
          ],
          [
           "Helse Sør-Øst",
           "14 Mar",
           57
          ],
          [
           "Helse Sør-Øst",
           "15 Mar",
           72
          ],
          [
           "Helse Sør-Øst",
           "16 Mar",
           81
          ],
          [
           "Helse Sør-Øst",
           "17 Mar",
           88
          ],
          [
           "Helse Sør-Øst",
           "18 Mar",
           97
          ],
          [
           "Helse Sør-Øst",
           "19 Mar",
           105
          ],
          [
           "Helse Sør-Øst",
           "20 Mar",
           115
          ],
          [
           "Helse Sør-Øst",
           "21 Mar",
           125
          ],
          [
           "Helse Sør-Øst",
           "22 Mar",
           148
          ],
          [
           "Helse Sør-Øst",
           "23 Mar",
           151
          ],
          [
           "Helse Sør-Øst",
           "24 Mar",
           163
          ]
         ],
         "hoverlabel": {
          "namelength": 0
         },
         "hovertemplate": "<b>%{hovertext}</b><br><br>Fylke=Innlandet<br>Dager siden antall smittede passerte 5=%{x}<br>Totalt registrerte smittede (log)=%{customdata[2]}<br>RHF=%{customdata[0]}<br>Dato=%{customdata[1]}",
         "hovertext": [
          "Innlandet",
          "Innlandet",
          "Innlandet",
          "Innlandet",
          "Innlandet",
          "Innlandet",
          "Innlandet",
          "Innlandet",
          "Innlandet",
          "Innlandet",
          "Innlandet",
          "Innlandet",
          "Innlandet",
          "Innlandet",
          "Innlandet",
          "Innlandet",
          "Innlandet",
          "Innlandet",
          "Innlandet"
         ],
         "legendgroup": "Innlandet",
         "marker": {
          "color": "#EF553B",
          "symbol": "circle"
         },
         "mode": "markers+lines",
         "name": "Innlandet",
         "showlegend": true,
         "type": "scatter",
         "x": [
          0,
          1,
          2,
          3,
          4,
          5,
          6,
          7,
          8,
          9,
          10,
          11,
          12,
          13,
          14,
          15,
          16,
          17,
          18
         ],
         "xaxis": "x",
         "y": [
          12,
          12,
          12,
          14,
          16,
          23,
          40,
          49,
          57,
          72,
          81,
          88,
          97,
          105,
          115,
          125,
          148,
          151,
          163
         ],
         "yaxis": "y"
        },
        {
         "customdata": [
          [
           "Helse Midt-Norge",
           "10 Mar",
           5
          ],
          [
           "Helse Midt-Norge",
           "11 Mar",
           7
          ],
          [
           "Helse Midt-Norge",
           "12 Mar",
           6
          ],
          [
           "Helse Midt-Norge",
           "13 Mar",
           7
          ],
          [
           "Helse Midt-Norge",
           "14 Mar",
           16
          ],
          [
           "Helse Midt-Norge",
           "15 Mar",
           20
          ],
          [
           "Helse Midt-Norge",
           "16 Mar",
           20
          ],
          [
           "Helse Midt-Norge",
           "17 Mar",
           20
          ],
          [
           "Helse Midt-Norge",
           "18 Mar",
           20
          ],
          [
           "Helse Midt-Norge",
           "19 Mar",
           25
          ],
          [
           "Helse Midt-Norge",
           "20 Mar",
           29
          ],
          [
           "Helse Midt-Norge",
           "21 Mar",
           32
          ],
          [
           "Helse Midt-Norge",
           "22 Mar",
           38
          ],
          [
           "Helse Midt-Norge",
           "23 Mar",
           44
          ],
          [
           "Helse Midt-Norge",
           "24 Mar",
           46
          ]
         ],
         "hoverlabel": {
          "namelength": 0
         },
         "hovertemplate": "<b>%{hovertext}</b><br><br>Fylke=Møre og Romsdal<br>Dager siden antall smittede passerte 5=%{x}<br>Totalt registrerte smittede (log)=%{customdata[2]}<br>RHF=%{customdata[0]}<br>Dato=%{customdata[1]}",
         "hovertext": [
          "Møre og Romsdal",
          "Møre og Romsdal",
          "Møre og Romsdal",
          "Møre og Romsdal",
          "Møre og Romsdal",
          "Møre og Romsdal",
          "Møre og Romsdal",
          "Møre og Romsdal",
          "Møre og Romsdal",
          "Møre og Romsdal",
          "Møre og Romsdal",
          "Møre og Romsdal",
          "Møre og Romsdal",
          "Møre og Romsdal",
          "Møre og Romsdal"
         ],
         "legendgroup": "Møre og Romsdal",
         "marker": {
          "color": "#00cc96",
          "symbol": "circle"
         },
         "mode": "markers+lines",
         "name": "Møre og Romsdal",
         "showlegend": true,
         "type": "scatter",
         "x": [
          0,
          1,
          2,
          3,
          4,
          5,
          6,
          7,
          8,
          9,
          10,
          11,
          12,
          13,
          14
         ],
         "xaxis": "x",
         "y": [
          5,
          7,
          6,
          7,
          16,
          20,
          20,
          20,
          20,
          25,
          29,
          32,
          38,
          44,
          46
         ],
         "yaxis": "y"
        },
        {
         "customdata": [
          [
           "Helse Nord",
           "13 Mar",
           5
          ],
          [
           "Helse Nord",
           "14 Mar",
           8
          ],
          [
           "Helse Nord",
           "15 Mar",
           8
          ],
          [
           "Helse Nord",
           "16 Mar",
           11
          ],
          [
           "Helse Nord",
           "17 Mar",
           11
          ],
          [
           "Helse Nord",
           "18 Mar",
           12
          ],
          [
           "Helse Nord",
           "19 Mar",
           13
          ],
          [
           "Helse Nord",
           "20 Mar",
           17
          ],
          [
           "Helse Nord",
           "21 Mar",
           17
          ],
          [
           "Helse Nord",
           "22 Mar",
           18
          ],
          [
           "Helse Nord",
           "23 Mar",
           18
          ],
          [
           "Helse Nord",
           "24 Mar",
           18
          ]
         ],
         "hoverlabel": {
          "namelength": 0
         },
         "hovertemplate": "<b>%{hovertext}</b><br><br>Fylke=Nordland<br>Dager siden antall smittede passerte 5=%{x}<br>Totalt registrerte smittede (log)=%{customdata[2]}<br>RHF=%{customdata[0]}<br>Dato=%{customdata[1]}",
         "hovertext": [
          "Nordland",
          "Nordland",
          "Nordland",
          "Nordland",
          "Nordland",
          "Nordland",
          "Nordland",
          "Nordland",
          "Nordland",
          "Nordland",
          "Nordland",
          "Nordland"
         ],
         "legendgroup": "Nordland",
         "marker": {
          "color": "#ab63fa",
          "symbol": "circle"
         },
         "mode": "markers+lines",
         "name": "Nordland",
         "showlegend": true,
         "type": "scatter",
         "x": [
          0,
          1,
          2,
          3,
          4,
          5,
          6,
          7,
          8,
          9,
          10,
          11
         ],
         "xaxis": "x",
         "y": [
          5,
          8,
          8,
          11,
          11,
          12,
          13,
          17,
          17,
          18,
          18,
          18
         ],
         "yaxis": "y"
        },
        {
         "customdata": [
          [
           "Helse Sør-Øst",
           "02 Mar",
           7
          ],
          [
           "Helse Sør-Øst",
           "03 Mar",
           7
          ],
          [
           "Helse Sør-Øst",
           "04 Mar",
           14
          ],
          [
           "Helse Sør-Øst",
           "05 Mar",
           18
          ],
          [
           "Helse Sør-Øst",
           "06 Mar",
           23
          ],
          [
           "Helse Sør-Øst",
           "07 Mar",
           29
          ],
          [
           "Helse Sør-Øst",
           "08 Mar",
           35
          ],
          [
           "Helse Sør-Øst",
           "09 Mar",
           35
          ],
          [
           "Helse Sør-Øst",
           "10 Mar",
           51
          ],
          [
           "Helse Sør-Øst",
           "11 Mar",
           123
          ],
          [
           "Helse Sør-Øst",
           "12 Mar",
           166
          ],
          [
           "Helse Sør-Øst",
           "13 Mar",
           207
          ],
          [
           "Helse Sør-Øst",
           "14 Mar",
           222
          ],
          [
           "Helse Sør-Øst",
           "15 Mar",
           281
          ],
          [
           "Helse Sør-Øst",
           "16 Mar",
           292
          ],
          [
           "Helse Sør-Øst",
           "17 Mar",
           329
          ],
          [
           "Helse Sør-Øst",
           "18 Mar",
           348
          ],
          [
           "Helse Sør-Øst",
           "19 Mar",
           392
          ],
          [
           "Helse Sør-Øst",
           "20 Mar",
           419
          ],
          [
           "Helse Sør-Øst",
           "21 Mar",
           448
          ],
          [
           "Helse Sør-Øst",
           "22 Mar",
           523
          ],
          [
           "Helse Sør-Øst",
           "23 Mar",
           636
          ],
          [
           "Helse Sør-Øst",
           "24 Mar",
           657
          ]
         ],
         "hoverlabel": {
          "namelength": 0
         },
         "hovertemplate": "<b>%{hovertext}</b><br><br>Fylke=Oslo<br>Dager siden antall smittede passerte 5=%{x}<br>Totalt registrerte smittede (log)=%{customdata[2]}<br>RHF=%{customdata[0]}<br>Dato=%{customdata[1]}",
         "hovertext": [
          "Oslo",
          "Oslo",
          "Oslo",
          "Oslo",
          "Oslo",
          "Oslo",
          "Oslo",
          "Oslo",
          "Oslo",
          "Oslo",
          "Oslo",
          "Oslo",
          "Oslo",
          "Oslo",
          "Oslo",
          "Oslo",
          "Oslo",
          "Oslo",
          "Oslo",
          "Oslo",
          "Oslo",
          "Oslo",
          "Oslo"
         ],
         "legendgroup": "Oslo",
         "marker": {
          "color": "#FFA15A",
          "symbol": "circle"
         },
         "mode": "markers+lines",
         "name": "Oslo",
         "showlegend": true,
         "type": "scatter",
         "x": [
          0,
          1,
          2,
          3,
          4,
          5,
          6,
          7,
          8,
          9,
          10,
          11,
          12,
          13,
          14,
          15,
          16,
          17,
          18,
          19,
          20,
          21,
          22
         ],
         "xaxis": "x",
         "y": [
          7,
          7,
          14,
          18,
          23,
          29,
          35,
          35,
          51,
          123,
          166,
          207,
          222,
          281,
          292,
          329,
          348,
          392,
          419,
          448,
          523,
          636,
          657
         ],
         "yaxis": "y"
        },
        {
         "customdata": [
          [
           "Helse Vest",
           "05 Mar",
           6
          ],
          [
           "Helse Vest",
           "06 Mar",
           11
          ],
          [
           "Helse Vest",
           "07 Mar",
           14
          ],
          [
           "Helse Vest",
           "08 Mar",
           19
          ],
          [
           "Helse Vest",
           "09 Mar",
           25
          ],
          [
           "Helse Vest",
           "10 Mar",
           33
          ],
          [
           "Helse Vest",
           "11 Mar",
           71
          ],
          [
           "Helse Vest",
           "12 Mar",
           82
          ],
          [
           "Helse Vest",
           "13 Mar",
           105
          ],
          [
           "Helse Vest",
           "14 Mar",
           119
          ],
          [
           "Helse Vest",
           "15 Mar",
           127
          ],
          [
           "Helse Vest",
           "16 Mar",
           131
          ],
          [
           "Helse Vest",
           "17 Mar",
           150
          ],
          [
           "Helse Vest",
           "18 Mar",
           161
          ],
          [
           "Helse Vest",
           "19 Mar",
           176
          ],
          [
           "Helse Vest",
           "20 Mar",
           180
          ],
          [
           "Helse Vest",
           "21 Mar",
           199
          ],
          [
           "Helse Vest",
           "22 Mar",
           219
          ],
          [
           "Helse Vest",
           "23 Mar",
           237
          ],
          [
           "Helse Vest",
           "24 Mar",
           251
          ]
         ],
         "hoverlabel": {
          "namelength": 0
         },
         "hovertemplate": "<b>%{hovertext}</b><br><br>Fylke=Rogaland<br>Dager siden antall smittede passerte 5=%{x}<br>Totalt registrerte smittede (log)=%{customdata[2]}<br>RHF=%{customdata[0]}<br>Dato=%{customdata[1]}",
         "hovertext": [
          "Rogaland",
          "Rogaland",
          "Rogaland",
          "Rogaland",
          "Rogaland",
          "Rogaland",
          "Rogaland",
          "Rogaland",
          "Rogaland",
          "Rogaland",
          "Rogaland",
          "Rogaland",
          "Rogaland",
          "Rogaland",
          "Rogaland",
          "Rogaland",
          "Rogaland",
          "Rogaland",
          "Rogaland",
          "Rogaland"
         ],
         "legendgroup": "Rogaland",
         "marker": {
          "color": "#19d3f3",
          "symbol": "circle"
         },
         "mode": "markers+lines",
         "name": "Rogaland",
         "showlegend": true,
         "type": "scatter",
         "x": [
          0,
          1,
          2,
          3,
          4,
          5,
          6,
          7,
          8,
          9,
          10,
          11,
          12,
          13,
          14,
          15,
          16,
          17,
          18,
          19
         ],
         "xaxis": "x",
         "y": [
          6,
          11,
          14,
          19,
          25,
          33,
          71,
          82,
          105,
          119,
          127,
          131,
          150,
          161,
          176,
          180,
          199,
          219,
          237,
          251
         ],
         "yaxis": "y"
        },
        {
         "customdata": [
          [
           "Helse Nord",
           "06 Mar",
           6
          ],
          [
           "Helse Nord",
           "07 Mar",
           6
          ],
          [
           "Helse Nord",
           "08 Mar",
           6
          ],
          [
           "Helse Nord",
           "09 Mar",
           6
          ],
          [
           "Helse Nord",
           "10 Mar",
           6
          ],
          [
           "Helse Nord",
           "11 Mar",
           7
          ],
          [
           "Helse Nord",
           "12 Mar",
           11
          ],
          [
           "Helse Nord",
           "13 Mar",
           12
          ],
          [
           "Helse Nord",
           "14 Mar",
           16
          ],
          [
           "Helse Nord",
           "15 Mar",
           20
          ],
          [
           "Helse Nord",
           "16 Mar",
           21
          ],
          [
           "Helse Nord",
           "17 Mar",
           24
          ],
          [
           "Helse Nord",
           "18 Mar",
           28
          ],
          [
           "Helse Nord",
           "19 Mar",
           28
          ],
          [
           "Helse Nord",
           "20 Mar",
           32
          ],
          [
           "Helse Nord",
           "21 Mar",
           37
          ],
          [
           "Helse Nord",
           "22 Mar",
           49
          ],
          [
           "Helse Nord",
           "23 Mar",
           55
          ],
          [
           "Helse Nord",
           "24 Mar",
           59
          ]
         ],
         "hoverlabel": {
          "namelength": 0
         },
         "hovertemplate": "<b>%{hovertext}</b><br><br>Fylke=Troms og Finnmark<br>Dager siden antall smittede passerte 5=%{x}<br>Totalt registrerte smittede (log)=%{customdata[2]}<br>RHF=%{customdata[0]}<br>Dato=%{customdata[1]}",
         "hovertext": [
          "Troms og Finnmark",
          "Troms og Finnmark",
          "Troms og Finnmark",
          "Troms og Finnmark",
          "Troms og Finnmark",
          "Troms og Finnmark",
          "Troms og Finnmark",
          "Troms og Finnmark",
          "Troms og Finnmark",
          "Troms og Finnmark",
          "Troms og Finnmark",
          "Troms og Finnmark",
          "Troms og Finnmark",
          "Troms og Finnmark",
          "Troms og Finnmark",
          "Troms og Finnmark",
          "Troms og Finnmark",
          "Troms og Finnmark",
          "Troms og Finnmark"
         ],
         "legendgroup": "Troms og Finnmark",
         "marker": {
          "color": "#FF6692",
          "symbol": "circle"
         },
         "mode": "markers+lines",
         "name": "Troms og Finnmark",
         "showlegend": true,
         "type": "scatter",
         "x": [
          0,
          1,
          2,
          3,
          4,
          5,
          6,
          7,
          8,
          9,
          10,
          11,
          12,
          13,
          14,
          15,
          16,
          17,
          18
         ],
         "xaxis": "x",
         "y": [
          6,
          6,
          6,
          6,
          6,
          7,
          11,
          12,
          16,
          20,
          21,
          24,
          28,
          28,
          32,
          37,
          49,
          55,
          59
         ],
         "yaxis": "y"
        },
        {
         "customdata": [
          [
           "Helse Midt-Norge",
           "05 Mar",
           7
          ],
          [
           "Helse Midt-Norge",
           "06 Mar",
           15
          ],
          [
           "Helse Midt-Norge",
           "07 Mar",
           18
          ],
          [
           "Helse Midt-Norge",
           "08 Mar",
           19
          ],
          [
           "Helse Midt-Norge",
           "09 Mar",
           22
          ],
          [
           "Helse Midt-Norge",
           "10 Mar",
           22
          ],
          [
           "Helse Midt-Norge",
           "11 Mar",
           25
          ],
          [
           "Helse Midt-Norge",
           "12 Mar",
           37
          ],
          [
           "Helse Midt-Norge",
           "13 Mar",
           43
          ],
          [
           "Helse Midt-Norge",
           "14 Mar",
           46
          ],
          [
           "Helse Midt-Norge",
           "15 Mar",
           50
          ],
          [
           "Helse Midt-Norge",
           "16 Mar",
           52
          ],
          [
           "Helse Midt-Norge",
           "17 Mar",
           61
          ],
          [
           "Helse Midt-Norge",
           "18 Mar",
           70
          ],
          [
           "Helse Midt-Norge",
           "19 Mar",
           75
          ],
          [
           "Helse Midt-Norge",
           "20 Mar",
           97
          ],
          [
           "Helse Midt-Norge",
           "21 Mar",
           122
          ],
          [
           "Helse Midt-Norge",
           "22 Mar",
           131
          ],
          [
           "Helse Midt-Norge",
           "23 Mar",
           144
          ],
          [
           "Helse Midt-Norge",
           "24 Mar",
           158
          ]
         ],
         "hoverlabel": {
          "namelength": 0
         },
         "hovertemplate": "<b>%{hovertext}</b><br><br>Fylke=Trøndelag<br>Dager siden antall smittede passerte 5=%{x}<br>Totalt registrerte smittede (log)=%{customdata[2]}<br>RHF=%{customdata[0]}<br>Dato=%{customdata[1]}",
         "hovertext": [
          "Trøndelag",
          "Trøndelag",
          "Trøndelag",
          "Trøndelag",
          "Trøndelag",
          "Trøndelag",
          "Trøndelag",
          "Trøndelag",
          "Trøndelag",
          "Trøndelag",
          "Trøndelag",
          "Trøndelag",
          "Trøndelag",
          "Trøndelag",
          "Trøndelag",
          "Trøndelag",
          "Trøndelag",
          "Trøndelag",
          "Trøndelag",
          "Trøndelag"
         ],
         "legendgroup": "Trøndelag",
         "marker": {
          "color": "#B6E880",
          "symbol": "circle"
         },
         "mode": "markers+lines",
         "name": "Trøndelag",
         "showlegend": true,
         "type": "scatter",
         "x": [
          0,
          1,
          2,
          3,
          4,
          5,
          6,
          7,
          8,
          9,
          10,
          11,
          12,
          13,
          14,
          15,
          16,
          17,
          18,
          19
         ],
         "xaxis": "x",
         "y": [
          7,
          15,
          18,
          19,
          22,
          22,
          25,
          37,
          43,
          46,
          50,
          52,
          61,
          70,
          75,
          97,
          122,
          131,
          144,
          158
         ],
         "yaxis": "y"
        },
        {
         "customdata": [
          [
           "Helse Sør-Øst",
           "09 Mar",
           5
          ],
          [
           "Helse Sør-Øst",
           "10 Mar",
           5
          ],
          [
           "Helse Sør-Øst",
           "11 Mar",
           15
          ],
          [
           "Helse Sør-Øst",
           "12 Mar",
           22
          ],
          [
           "Helse Sør-Øst",
           "13 Mar",
           30
          ],
          [
           "Helse Sør-Øst",
           "14 Mar",
           39
          ],
          [
           "Helse Sør-Øst",
           "15 Mar",
           48
          ],
          [
           "Helse Sør-Øst",
           "16 Mar",
           53
          ],
          [
           "Helse Sør-Øst",
           "17 Mar",
           59
          ],
          [
           "Helse Sør-Øst",
           "18 Mar",
           63
          ],
          [
           "Helse Sør-Øst",
           "19 Mar",
           65
          ],
          [
           "Helse Sør-Øst",
           "20 Mar",
           72
          ],
          [
           "Helse Sør-Øst",
           "21 Mar",
           81
          ],
          [
           "Helse Sør-Øst",
           "22 Mar",
           85
          ],
          [
           "Helse Sør-Øst",
           "23 Mar",
           87
          ],
          [
           "Helse Sør-Øst",
           "24 Mar",
           95
          ]
         ],
         "hoverlabel": {
          "namelength": 0
         },
         "hovertemplate": "<b>%{hovertext}</b><br><br>Fylke=Vestfold og Telemark<br>Dager siden antall smittede passerte 5=%{x}<br>Totalt registrerte smittede (log)=%{customdata[2]}<br>RHF=%{customdata[0]}<br>Dato=%{customdata[1]}",
         "hovertext": [
          "Vestfold og Telemark",
          "Vestfold og Telemark",
          "Vestfold og Telemark",
          "Vestfold og Telemark",
          "Vestfold og Telemark",
          "Vestfold og Telemark",
          "Vestfold og Telemark",
          "Vestfold og Telemark",
          "Vestfold og Telemark",
          "Vestfold og Telemark",
          "Vestfold og Telemark",
          "Vestfold og Telemark",
          "Vestfold og Telemark",
          "Vestfold og Telemark",
          "Vestfold og Telemark",
          "Vestfold og Telemark"
         ],
         "legendgroup": "Vestfold og Telemark",
         "marker": {
          "color": "#FF97FF",
          "symbol": "circle"
         },
         "mode": "markers+lines",
         "name": "Vestfold og Telemark",
         "showlegend": true,
         "type": "scatter",
         "x": [
          0,
          1,
          2,
          3,
          4,
          5,
          6,
          7,
          8,
          9,
          10,
          11,
          12,
          13,
          14,
          15
         ],
         "xaxis": "x",
         "y": [
          5,
          5,
          15,
          22,
          30,
          39,
          48,
          53,
          59,
          63,
          65,
          72,
          81,
          85,
          87,
          95
         ],
         "yaxis": "y"
        },
        {
         "customdata": [
          [
           "Helse Vest",
           "02 Mar",
           9
          ],
          [
           "Helse Vest",
           "03 Mar",
           12
          ],
          [
           "Helse Vest",
           "04 Mar",
           17
          ],
          [
           "Helse Vest",
           "05 Mar",
           22
          ],
          [
           "Helse Vest",
           "06 Mar",
           24
          ],
          [
           "Helse Vest",
           "07 Mar",
           24
          ],
          [
           "Helse Vest",
           "08 Mar",
           24
          ],
          [
           "Helse Vest",
           "09 Mar",
           28
          ],
          [
           "Helse Vest",
           "10 Mar",
           31
          ],
          [
           "Helse Vest",
           "11 Mar",
           41
          ],
          [
           "Helse Vest",
           "12 Mar",
           67
          ],
          [
           "Helse Vest",
           "13 Mar",
           78
          ],
          [
           "Helse Vest",
           "14 Mar",
           101
          ],
          [
           "Helse Vest",
           "15 Mar",
           118
          ],
          [
           "Helse Vest",
           "16 Mar",
           127
          ],
          [
           "Helse Vest",
           "17 Mar",
           141
          ],
          [
           "Helse Vest",
           "18 Mar",
           147
          ],
          [
           "Helse Vest",
           "19 Mar",
           153
          ],
          [
           "Helse Vest",
           "20 Mar",
           173
          ],
          [
           "Helse Vest",
           "21 Mar",
           200
          ],
          [
           "Helse Vest",
           "22 Mar",
           214
          ],
          [
           "Helse Vest",
           "23 Mar",
           234
          ],
          [
           "Helse Vest",
           "24 Mar",
           279
          ]
         ],
         "hoverlabel": {
          "namelength": 0
         },
         "hovertemplate": "<b>%{hovertext}</b><br><br>Fylke=Vestland<br>Dager siden antall smittede passerte 5=%{x}<br>Totalt registrerte smittede (log)=%{customdata[2]}<br>RHF=%{customdata[0]}<br>Dato=%{customdata[1]}",
         "hovertext": [
          "Vestland",
          "Vestland",
          "Vestland",
          "Vestland",
          "Vestland",
          "Vestland",
          "Vestland",
          "Vestland",
          "Vestland",
          "Vestland",
          "Vestland",
          "Vestland",
          "Vestland",
          "Vestland",
          "Vestland",
          "Vestland",
          "Vestland",
          "Vestland",
          "Vestland",
          "Vestland",
          "Vestland",
          "Vestland",
          "Vestland"
         ],
         "legendgroup": "Vestland",
         "marker": {
          "color": "#FECB52",
          "symbol": "circle"
         },
         "mode": "markers+lines",
         "name": "Vestland",
         "showlegend": true,
         "type": "scatter",
         "x": [
          0,
          1,
          2,
          3,
          4,
          5,
          6,
          7,
          8,
          9,
          10,
          11,
          12,
          13,
          14,
          15,
          16,
          17,
          18,
          19,
          20,
          21,
          22
         ],
         "xaxis": "x",
         "y": [
          9,
          12,
          17,
          22,
          24,
          24,
          24,
          28,
          31,
          41,
          67,
          78,
          101,
          118,
          127,
          141,
          147,
          153,
          173,
          200,
          214,
          234,
          279
         ],
         "yaxis": "y"
        },
        {
         "customdata": [
          [
           "Helse Sør-Øst",
           "02 Mar",
           5
          ],
          [
           "Helse Sør-Øst",
           "03 Mar",
           8
          ],
          [
           "Helse Sør-Øst",
           "04 Mar",
           19
          ],
          [
           "Helse Sør-Øst",
           "05 Mar",
           23
          ],
          [
           "Helse Sør-Øst",
           "06 Mar",
           26
          ],
          [
           "Helse Sør-Øst",
           "07 Mar",
           38
          ],
          [
           "Helse Sør-Øst",
           "08 Mar",
           41
          ],
          [
           "Helse Sør-Øst",
           "09 Mar",
           52
          ],
          [
           "Helse Sør-Øst",
           "10 Mar",
           86
          ],
          [
           "Helse Sør-Øst",
           "11 Mar",
           124
          ],
          [
           "Helse Sør-Øst",
           "12 Mar",
           154
          ],
          [
           "Helse Sør-Øst",
           "13 Mar",
           180
          ],
          [
           "Helse Sør-Øst",
           "14 Mar",
           231
          ],
          [
           "Helse Sør-Øst",
           "15 Mar",
           278
          ],
          [
           "Helse Sør-Øst",
           "16 Mar",
           314
          ],
          [
           "Helse Sør-Øst",
           "17 Mar",
           358
          ],
          [
           "Helse Sør-Øst",
           "18 Mar",
           410
          ],
          [
           "Helse Sør-Øst",
           "19 Mar",
           445
          ],
          [
           "Helse Sør-Øst",
           "20 Mar",
           529
          ],
          [
           "Helse Sør-Øst",
           "21 Mar",
           583
          ],
          [
           "Helse Sør-Øst",
           "22 Mar",
           615
          ],
          [
           "Helse Sør-Øst",
           "23 Mar",
           674
          ],
          [
           "Helse Sør-Øst",
           "24 Mar",
           748
          ]
         ],
         "hoverlabel": {
          "namelength": 0
         },
         "hovertemplate": "<b>%{hovertext}</b><br><br>Fylke=Viken<br>Dager siden antall smittede passerte 5=%{x}<br>Totalt registrerte smittede (log)=%{customdata[2]}<br>RHF=%{customdata[0]}<br>Dato=%{customdata[1]}",
         "hovertext": [
          "Viken",
          "Viken",
          "Viken",
          "Viken",
          "Viken",
          "Viken",
          "Viken",
          "Viken",
          "Viken",
          "Viken",
          "Viken",
          "Viken",
          "Viken",
          "Viken",
          "Viken",
          "Viken",
          "Viken",
          "Viken",
          "Viken",
          "Viken",
          "Viken",
          "Viken",
          "Viken"
         ],
         "legendgroup": "Viken",
         "marker": {
          "color": "#636efa",
          "symbol": "circle"
         },
         "mode": "markers+lines",
         "name": "Viken",
         "showlegend": true,
         "type": "scatter",
         "x": [
          0,
          1,
          2,
          3,
          4,
          5,
          6,
          7,
          8,
          9,
          10,
          11,
          12,
          13,
          14,
          15,
          16,
          17,
          18,
          19,
          20,
          21,
          22
         ],
         "xaxis": "x",
         "y": [
          5,
          8,
          19,
          23,
          26,
          38,
          41,
          52,
          86,
          124,
          154,
          180,
          231,
          278,
          314,
          358,
          410,
          445,
          529,
          583,
          615,
          674,
          748
         ],
         "yaxis": "y"
        }
       ],
       "layout": {
        "annotations": [
         {
          "align": "center",
          "font": {
           "family": "Helvetica",
           "size": 12
          },
          "opacity": 0.8,
          "showarrow": false,
          "text": "FHI anslår 86 000 smittede <br> Slutten av april.",
          "x": 40,
          "y": 40000
         }
        ],
        "autosize": true,
        "height": 600,
        "legend": {
         "title": {
          "text": "Fylke"
         },
         "tracegroupgap": 0
        },
        "margin": {
         "b": 0,
         "l": 100,
         "r": 100,
         "t": 150
        },
        "paper_bgcolor": "rgba(0, 0, 0, 0)",
        "shapes": [
         {
          "line": {
           "color": "rgba(192,192,192,0.7)",
           "width": 1
          },
          "type": "line",
          "x0": 0,
          "x1": 50,
          "y0": 5,
          "y1": 5121
         },
         {
          "line": {
           "color": "rgba(192,192,192,0.7)",
           "width": 1
          },
          "type": "line",
          "x0": 0,
          "x1": 50,
          "y0": 5,
          "y1": 159.981
         },
         {
          "line": {
           "color": "rgba(192,192,192,0.7)",
           "width": 1
          },
          "type": "line",
          "x0": 0,
          "x1": 50,
          "y0": 5,
          "y1": 5226006.11
         }
        ],
        "template": {
         "data": {
          "bar": [
           {
            "error_x": {
             "color": "#2a3f5f"
            },
            "error_y": {
             "color": "#2a3f5f"
            },
            "marker": {
             "line": {
              "color": "white",
              "width": 0.5
             }
            },
            "type": "bar"
           }
          ],
          "barpolar": [
           {
            "marker": {
             "line": {
              "color": "white",
              "width": 0.5
             }
            },
            "type": "barpolar"
           }
          ],
          "carpet": [
           {
            "aaxis": {
             "endlinecolor": "#2a3f5f",
             "gridcolor": "#C8D4E3",
             "linecolor": "#C8D4E3",
             "minorgridcolor": "#C8D4E3",
             "startlinecolor": "#2a3f5f"
            },
            "baxis": {
             "endlinecolor": "#2a3f5f",
             "gridcolor": "#C8D4E3",
             "linecolor": "#C8D4E3",
             "minorgridcolor": "#C8D4E3",
             "startlinecolor": "#2a3f5f"
            },
            "type": "carpet"
           }
          ],
          "choropleth": [
           {
            "colorbar": {
             "outlinewidth": 0,
             "ticks": ""
            },
            "type": "choropleth"
           }
          ],
          "contour": [
           {
            "colorbar": {
             "outlinewidth": 0,
             "ticks": ""
            },
            "colorscale": [
             [
              0,
              "#0d0887"
             ],
             [
              0.1111111111111111,
              "#46039f"
             ],
             [
              0.2222222222222222,
              "#7201a8"
             ],
             [
              0.3333333333333333,
              "#9c179e"
             ],
             [
              0.4444444444444444,
              "#bd3786"
             ],
             [
              0.5555555555555556,
              "#d8576b"
             ],
             [
              0.6666666666666666,
              "#ed7953"
             ],
             [
              0.7777777777777778,
              "#fb9f3a"
             ],
             [
              0.8888888888888888,
              "#fdca26"
             ],
             [
              1,
              "#f0f921"
             ]
            ],
            "type": "contour"
           }
          ],
          "contourcarpet": [
           {
            "colorbar": {
             "outlinewidth": 0,
             "ticks": ""
            },
            "type": "contourcarpet"
           }
          ],
          "heatmap": [
           {
            "colorbar": {
             "outlinewidth": 0,
             "ticks": ""
            },
            "colorscale": [
             [
              0,
              "#0d0887"
             ],
             [
              0.1111111111111111,
              "#46039f"
             ],
             [
              0.2222222222222222,
              "#7201a8"
             ],
             [
              0.3333333333333333,
              "#9c179e"
             ],
             [
              0.4444444444444444,
              "#bd3786"
             ],
             [
              0.5555555555555556,
              "#d8576b"
             ],
             [
              0.6666666666666666,
              "#ed7953"
             ],
             [
              0.7777777777777778,
              "#fb9f3a"
             ],
             [
              0.8888888888888888,
              "#fdca26"
             ],
             [
              1,
              "#f0f921"
             ]
            ],
            "type": "heatmap"
           }
          ],
          "heatmapgl": [
           {
            "colorbar": {
             "outlinewidth": 0,
             "ticks": ""
            },
            "colorscale": [
             [
              0,
              "#0d0887"
             ],
             [
              0.1111111111111111,
              "#46039f"
             ],
             [
              0.2222222222222222,
              "#7201a8"
             ],
             [
              0.3333333333333333,
              "#9c179e"
             ],
             [
              0.4444444444444444,
              "#bd3786"
             ],
             [
              0.5555555555555556,
              "#d8576b"
             ],
             [
              0.6666666666666666,
              "#ed7953"
             ],
             [
              0.7777777777777778,
              "#fb9f3a"
             ],
             [
              0.8888888888888888,
              "#fdca26"
             ],
             [
              1,
              "#f0f921"
             ]
            ],
            "type": "heatmapgl"
           }
          ],
          "histogram": [
           {
            "marker": {
             "colorbar": {
              "outlinewidth": 0,
              "ticks": ""
             }
            },
            "type": "histogram"
           }
          ],
          "histogram2d": [
           {
            "colorbar": {
             "outlinewidth": 0,
             "ticks": ""
            },
            "colorscale": [
             [
              0,
              "#0d0887"
             ],
             [
              0.1111111111111111,
              "#46039f"
             ],
             [
              0.2222222222222222,
              "#7201a8"
             ],
             [
              0.3333333333333333,
              "#9c179e"
             ],
             [
              0.4444444444444444,
              "#bd3786"
             ],
             [
              0.5555555555555556,
              "#d8576b"
             ],
             [
              0.6666666666666666,
              "#ed7953"
             ],
             [
              0.7777777777777778,
              "#fb9f3a"
             ],
             [
              0.8888888888888888,
              "#fdca26"
             ],
             [
              1,
              "#f0f921"
             ]
            ],
            "type": "histogram2d"
           }
          ],
          "histogram2dcontour": [
           {
            "colorbar": {
             "outlinewidth": 0,
             "ticks": ""
            },
            "colorscale": [
             [
              0,
              "#0d0887"
             ],
             [
              0.1111111111111111,
              "#46039f"
             ],
             [
              0.2222222222222222,
              "#7201a8"
             ],
             [
              0.3333333333333333,
              "#9c179e"
             ],
             [
              0.4444444444444444,
              "#bd3786"
             ],
             [
              0.5555555555555556,
              "#d8576b"
             ],
             [
              0.6666666666666666,
              "#ed7953"
             ],
             [
              0.7777777777777778,
              "#fb9f3a"
             ],
             [
              0.8888888888888888,
              "#fdca26"
             ],
             [
              1,
              "#f0f921"
             ]
            ],
            "type": "histogram2dcontour"
           }
          ],
          "mesh3d": [
           {
            "colorbar": {
             "outlinewidth": 0,
             "ticks": ""
            },
            "type": "mesh3d"
           }
          ],
          "parcoords": [
           {
            "line": {
             "colorbar": {
              "outlinewidth": 0,
              "ticks": ""
             }
            },
            "type": "parcoords"
           }
          ],
          "pie": [
           {
            "automargin": true,
            "type": "pie"
           }
          ],
          "scatter": [
           {
            "marker": {
             "colorbar": {
              "outlinewidth": 0,
              "ticks": ""
             }
            },
            "type": "scatter"
           }
          ],
          "scatter3d": [
           {
            "line": {
             "colorbar": {
              "outlinewidth": 0,
              "ticks": ""
             }
            },
            "marker": {
             "colorbar": {
              "outlinewidth": 0,
              "ticks": ""
             }
            },
            "type": "scatter3d"
           }
          ],
          "scattercarpet": [
           {
            "marker": {
             "colorbar": {
              "outlinewidth": 0,
              "ticks": ""
             }
            },
            "type": "scattercarpet"
           }
          ],
          "scattergeo": [
           {
            "marker": {
             "colorbar": {
              "outlinewidth": 0,
              "ticks": ""
             }
            },
            "type": "scattergeo"
           }
          ],
          "scattergl": [
           {
            "marker": {
             "colorbar": {
              "outlinewidth": 0,
              "ticks": ""
             }
            },
            "type": "scattergl"
           }
          ],
          "scattermapbox": [
           {
            "marker": {
             "colorbar": {
              "outlinewidth": 0,
              "ticks": ""
             }
            },
            "type": "scattermapbox"
           }
          ],
          "scatterpolar": [
           {
            "marker": {
             "colorbar": {
              "outlinewidth": 0,
              "ticks": ""
             }
            },
            "type": "scatterpolar"
           }
          ],
          "scatterpolargl": [
           {
            "marker": {
             "colorbar": {
              "outlinewidth": 0,
              "ticks": ""
             }
            },
            "type": "scatterpolargl"
           }
          ],
          "scatterternary": [
           {
            "marker": {
             "colorbar": {
              "outlinewidth": 0,
              "ticks": ""
             }
            },
            "type": "scatterternary"
           }
          ],
          "surface": [
           {
            "colorbar": {
             "outlinewidth": 0,
             "ticks": ""
            },
            "colorscale": [
             [
              0,
              "#0d0887"
             ],
             [
              0.1111111111111111,
              "#46039f"
             ],
             [
              0.2222222222222222,
              "#7201a8"
             ],
             [
              0.3333333333333333,
              "#9c179e"
             ],
             [
              0.4444444444444444,
              "#bd3786"
             ],
             [
              0.5555555555555556,
              "#d8576b"
             ],
             [
              0.6666666666666666,
              "#ed7953"
             ],
             [
              0.7777777777777778,
              "#fb9f3a"
             ],
             [
              0.8888888888888888,
              "#fdca26"
             ],
             [
              1,
              "#f0f921"
             ]
            ],
            "type": "surface"
           }
          ],
          "table": [
           {
            "cells": {
             "fill": {
              "color": "#EBF0F8"
             },
             "line": {
              "color": "white"
             }
            },
            "header": {
             "fill": {
              "color": "#C8D4E3"
             },
             "line": {
              "color": "white"
             }
            },
            "type": "table"
           }
          ]
         },
         "layout": {
          "annotationdefaults": {
           "arrowcolor": "#2a3f5f",
           "arrowhead": 0,
           "arrowwidth": 1
          },
          "coloraxis": {
           "colorbar": {
            "outlinewidth": 0,
            "ticks": ""
           }
          },
          "colorscale": {
           "diverging": [
            [
             0,
             "#8e0152"
            ],
            [
             0.1,
             "#c51b7d"
            ],
            [
             0.2,
             "#de77ae"
            ],
            [
             0.3,
             "#f1b6da"
            ],
            [
             0.4,
             "#fde0ef"
            ],
            [
             0.5,
             "#f7f7f7"
            ],
            [
             0.6,
             "#e6f5d0"
            ],
            [
             0.7,
             "#b8e186"
            ],
            [
             0.8,
             "#7fbc41"
            ],
            [
             0.9,
             "#4d9221"
            ],
            [
             1,
             "#276419"
            ]
           ],
           "sequential": [
            [
             0,
             "#0d0887"
            ],
            [
             0.1111111111111111,
             "#46039f"
            ],
            [
             0.2222222222222222,
             "#7201a8"
            ],
            [
             0.3333333333333333,
             "#9c179e"
            ],
            [
             0.4444444444444444,
             "#bd3786"
            ],
            [
             0.5555555555555556,
             "#d8576b"
            ],
            [
             0.6666666666666666,
             "#ed7953"
            ],
            [
             0.7777777777777778,
             "#fb9f3a"
            ],
            [
             0.8888888888888888,
             "#fdca26"
            ],
            [
             1,
             "#f0f921"
            ]
           ],
           "sequentialminus": [
            [
             0,
             "#0d0887"
            ],
            [
             0.1111111111111111,
             "#46039f"
            ],
            [
             0.2222222222222222,
             "#7201a8"
            ],
            [
             0.3333333333333333,
             "#9c179e"
            ],
            [
             0.4444444444444444,
             "#bd3786"
            ],
            [
             0.5555555555555556,
             "#d8576b"
            ],
            [
             0.6666666666666666,
             "#ed7953"
            ],
            [
             0.7777777777777778,
             "#fb9f3a"
            ],
            [
             0.8888888888888888,
             "#fdca26"
            ],
            [
             1,
             "#f0f921"
            ]
           ]
          },
          "colorway": [
           "#636efa",
           "#EF553B",
           "#00cc96",
           "#ab63fa",
           "#FFA15A",
           "#19d3f3",
           "#FF6692",
           "#B6E880",
           "#FF97FF",
           "#FECB52"
          ],
          "font": {
           "color": "#2a3f5f"
          },
          "geo": {
           "bgcolor": "white",
           "lakecolor": "white",
           "landcolor": "white",
           "showlakes": true,
           "showland": true,
           "subunitcolor": "#C8D4E3"
          },
          "hoverlabel": {
           "align": "left"
          },
          "hovermode": "closest",
          "mapbox": {
           "style": "light"
          },
          "paper_bgcolor": "white",
          "plot_bgcolor": "white",
          "polar": {
           "angularaxis": {
            "gridcolor": "#EBF0F8",
            "linecolor": "#EBF0F8",
            "ticks": ""
           },
           "bgcolor": "white",
           "radialaxis": {
            "gridcolor": "#EBF0F8",
            "linecolor": "#EBF0F8",
            "ticks": ""
           }
          },
          "scene": {
           "xaxis": {
            "backgroundcolor": "white",
            "gridcolor": "#DFE8F3",
            "gridwidth": 2,
            "linecolor": "#EBF0F8",
            "showbackground": true,
            "ticks": "",
            "zerolinecolor": "#EBF0F8"
           },
           "yaxis": {
            "backgroundcolor": "white",
            "gridcolor": "#DFE8F3",
            "gridwidth": 2,
            "linecolor": "#EBF0F8",
            "showbackground": true,
            "ticks": "",
            "zerolinecolor": "#EBF0F8"
           },
           "zaxis": {
            "backgroundcolor": "white",
            "gridcolor": "#DFE8F3",
            "gridwidth": 2,
            "linecolor": "#EBF0F8",
            "showbackground": true,
            "ticks": "",
            "zerolinecolor": "#EBF0F8"
           }
          },
          "shapedefaults": {
           "line": {
            "color": "#2a3f5f"
           }
          },
          "ternary": {
           "aaxis": {
            "gridcolor": "#DFE8F3",
            "linecolor": "#A2B1C6",
            "ticks": ""
           },
           "baxis": {
            "gridcolor": "#DFE8F3",
            "linecolor": "#A2B1C6",
            "ticks": ""
           },
           "bgcolor": "white",
           "caxis": {
            "gridcolor": "#DFE8F3",
            "linecolor": "#A2B1C6",
            "ticks": ""
           }
          },
          "title": {
           "x": 0.05
          },
          "xaxis": {
           "automargin": true,
           "gridcolor": "#EBF0F8",
           "linecolor": "#EBF0F8",
           "ticks": "",
           "title": {
            "standoff": 15
           },
           "zerolinecolor": "#EBF0F8",
           "zerolinewidth": 2
          },
          "yaxis": {
           "automargin": true,
           "gridcolor": "#EBF0F8",
           "linecolor": "#EBF0F8",
           "ticks": "",
           "title": {
            "standoff": 15
           },
           "zerolinecolor": "#EBF0F8",
           "zerolinewidth": 2
          }
         }
        },
        "title": {
         "text": "<b>Antall smittet med COVID-19 per fylke</b><br>Starter fra dagen hvert fylke passerte 10 smittede<br>Det gjør det mulig å sammenligne smitteraten mellom forskjellige fylker.<br>Datakilde: FHI. Oppdatert 25.03.2020"
        },
        "xaxis": {
         "anchor": "y",
         "domain": [
          0,
          1
         ],
         "title": {
          "text": "Dager siden antall smittede passerte 5"
         }
        },
        "yaxis": {
         "anchor": "x",
         "domain": [
          0,
          1
         ],
         "nticks": 4,
         "range": [
          0.47712125471966244,
          3.9956351945975492
         ],
         "title": {
          "text": "Totalt registrerte smittede (log)"
         },
         "type": "log"
        }
       }
      },
      "text/html": [
       "<div>\n",
       "        \n",
       "        \n",
       "            <div id=\"77c55914-4f70-41f1-aed8-b1387e45d53d\" class=\"plotly-graph-div\" style=\"height:600px; width:100%;\"></div>\n",
       "            <script type=\"text/javascript\">\n",
       "                require([\"plotly\"], function(Plotly) {\n",
       "                    window.PLOTLYENV=window.PLOTLYENV || {};\n",
       "                    \n",
       "                if (document.getElementById(\"77c55914-4f70-41f1-aed8-b1387e45d53d\")) {\n",
       "                    Plotly.newPlot(\n",
       "                        '77c55914-4f70-41f1-aed8-b1387e45d53d',\n",
       "                        [{\"customdata\": [[\"Helse S\\u00f8r-\\u00d8st\", \"05 Mar\", 7.0], [\"Helse S\\u00f8r-\\u00d8st\", \"06 Mar\", 7.0], [\"Helse S\\u00f8r-\\u00d8st\", \"07 Mar\", 9.0], [\"Helse S\\u00f8r-\\u00d8st\", \"08 Mar\", 9.0], [\"Helse S\\u00f8r-\\u00d8st\", \"09 Mar\", 17.0], [\"Helse S\\u00f8r-\\u00d8st\", \"10 Mar\", 19.0], [\"Helse S\\u00f8r-\\u00d8st\", \"11 Mar\", 20.0], [\"Helse S\\u00f8r-\\u00d8st\", \"12 Mar\", 32.0], [\"Helse S\\u00f8r-\\u00d8st\", \"13 Mar\", 34.0], [\"Helse S\\u00f8r-\\u00d8st\", \"14 Mar\", 52.0], [\"Helse S\\u00f8r-\\u00d8st\", \"15 Mar\", 55.0], [\"Helse S\\u00f8r-\\u00d8st\", \"16 Mar\", 67.0], [\"Helse S\\u00f8r-\\u00d8st\", \"17 Mar\", 67.0], [\"Helse S\\u00f8r-\\u00d8st\", \"18 Mar\", 67.0], [\"Helse S\\u00f8r-\\u00d8st\", \"19 Mar\", 75.0], [\"Helse S\\u00f8r-\\u00d8st\", \"20 Mar\", 79.0], [\"Helse S\\u00f8r-\\u00d8st\", \"21 Mar\", 82.0], [\"Helse S\\u00f8r-\\u00d8st\", \"22 Mar\", 91.0], [\"Helse S\\u00f8r-\\u00d8st\", \"23 Mar\", 91.0], [\"Helse S\\u00f8r-\\u00d8st\", \"24 Mar\", 92.0]], \"hoverlabel\": {\"namelength\": 0}, \"hovertemplate\": \"<b>%{hovertext}</b><br><br>Fylke=Agder<br>Dager siden antall smittede passerte 5=%{x}<br>Totalt registrerte smittede (log)=%{customdata[2]}<br>RHF=%{customdata[0]}<br>Dato=%{customdata[1]}\", \"hovertext\": [\"Agder\", \"Agder\", \"Agder\", \"Agder\", \"Agder\", \"Agder\", \"Agder\", \"Agder\", \"Agder\", \"Agder\", \"Agder\", \"Agder\", \"Agder\", \"Agder\", \"Agder\", \"Agder\", \"Agder\", \"Agder\", \"Agder\", \"Agder\"], \"legendgroup\": \"Agder\", \"marker\": {\"color\": \"#636efa\", \"symbol\": \"circle\"}, \"mode\": \"markers+lines\", \"name\": \"Agder\", \"showlegend\": true, \"type\": \"scatter\", \"x\": [0, 1, 2, 3, 4, 5, 6, 7, 8, 9, 10, 11, 12, 13, 14, 15, 16, 17, 18, 19], \"xaxis\": \"x\", \"y\": [7.0, 7.0, 9.0, 9.0, 17.0, 19.0, 20.0, 32.0, 34.0, 52.0, 55.0, 67.0, 67.0, 67.0, 75.0, 79.0, 82.0, 91.0, 91.0, 92.0], \"yaxis\": \"y\"}, {\"customdata\": [[\"Helse S\\u00f8r-\\u00d8st\", \"06 Mar\", 12.0], [\"Helse S\\u00f8r-\\u00d8st\", \"07 Mar\", 12.0], [\"Helse S\\u00f8r-\\u00d8st\", \"08 Mar\", 12.0], [\"Helse S\\u00f8r-\\u00d8st\", \"09 Mar\", 14.0], [\"Helse S\\u00f8r-\\u00d8st\", \"10 Mar\", 16.0], [\"Helse S\\u00f8r-\\u00d8st\", \"11 Mar\", 23.0], [\"Helse S\\u00f8r-\\u00d8st\", \"12 Mar\", 40.0], [\"Helse S\\u00f8r-\\u00d8st\", \"13 Mar\", 49.0], [\"Helse S\\u00f8r-\\u00d8st\", \"14 Mar\", 57.0], [\"Helse S\\u00f8r-\\u00d8st\", \"15 Mar\", 72.0], [\"Helse S\\u00f8r-\\u00d8st\", \"16 Mar\", 81.0], [\"Helse S\\u00f8r-\\u00d8st\", \"17 Mar\", 88.0], [\"Helse S\\u00f8r-\\u00d8st\", \"18 Mar\", 97.0], [\"Helse S\\u00f8r-\\u00d8st\", \"19 Mar\", 105.0], [\"Helse S\\u00f8r-\\u00d8st\", \"20 Mar\", 115.0], [\"Helse S\\u00f8r-\\u00d8st\", \"21 Mar\", 125.0], [\"Helse S\\u00f8r-\\u00d8st\", \"22 Mar\", 148.0], [\"Helse S\\u00f8r-\\u00d8st\", \"23 Mar\", 151.0], [\"Helse S\\u00f8r-\\u00d8st\", \"24 Mar\", 163.0]], \"hoverlabel\": {\"namelength\": 0}, \"hovertemplate\": \"<b>%{hovertext}</b><br><br>Fylke=Innlandet<br>Dager siden antall smittede passerte 5=%{x}<br>Totalt registrerte smittede (log)=%{customdata[2]}<br>RHF=%{customdata[0]}<br>Dato=%{customdata[1]}\", \"hovertext\": [\"Innlandet\", \"Innlandet\", \"Innlandet\", \"Innlandet\", \"Innlandet\", \"Innlandet\", \"Innlandet\", \"Innlandet\", \"Innlandet\", \"Innlandet\", \"Innlandet\", \"Innlandet\", \"Innlandet\", \"Innlandet\", \"Innlandet\", \"Innlandet\", \"Innlandet\", \"Innlandet\", \"Innlandet\"], \"legendgroup\": \"Innlandet\", \"marker\": {\"color\": \"#EF553B\", \"symbol\": \"circle\"}, \"mode\": \"markers+lines\", \"name\": \"Innlandet\", \"showlegend\": true, \"type\": \"scatter\", \"x\": [0, 1, 2, 3, 4, 5, 6, 7, 8, 9, 10, 11, 12, 13, 14, 15, 16, 17, 18], \"xaxis\": \"x\", \"y\": [12.0, 12.0, 12.0, 14.0, 16.0, 23.0, 40.0, 49.0, 57.0, 72.0, 81.0, 88.0, 97.0, 105.0, 115.0, 125.0, 148.0, 151.0, 163.0], \"yaxis\": \"y\"}, {\"customdata\": [[\"Helse Midt-Norge\", \"10 Mar\", 5.0], [\"Helse Midt-Norge\", \"11 Mar\", 7.0], [\"Helse Midt-Norge\", \"12 Mar\", 6.0], [\"Helse Midt-Norge\", \"13 Mar\", 7.0], [\"Helse Midt-Norge\", \"14 Mar\", 16.0], [\"Helse Midt-Norge\", \"15 Mar\", 20.0], [\"Helse Midt-Norge\", \"16 Mar\", 20.0], [\"Helse Midt-Norge\", \"17 Mar\", 20.0], [\"Helse Midt-Norge\", \"18 Mar\", 20.0], [\"Helse Midt-Norge\", \"19 Mar\", 25.0], [\"Helse Midt-Norge\", \"20 Mar\", 29.0], [\"Helse Midt-Norge\", \"21 Mar\", 32.0], [\"Helse Midt-Norge\", \"22 Mar\", 38.0], [\"Helse Midt-Norge\", \"23 Mar\", 44.0], [\"Helse Midt-Norge\", \"24 Mar\", 46.0]], \"hoverlabel\": {\"namelength\": 0}, \"hovertemplate\": \"<b>%{hovertext}</b><br><br>Fylke=M\\u00f8re og Romsdal<br>Dager siden antall smittede passerte 5=%{x}<br>Totalt registrerte smittede (log)=%{customdata[2]}<br>RHF=%{customdata[0]}<br>Dato=%{customdata[1]}\", \"hovertext\": [\"M\\u00f8re og Romsdal\", \"M\\u00f8re og Romsdal\", \"M\\u00f8re og Romsdal\", \"M\\u00f8re og Romsdal\", \"M\\u00f8re og Romsdal\", \"M\\u00f8re og Romsdal\", \"M\\u00f8re og Romsdal\", \"M\\u00f8re og Romsdal\", \"M\\u00f8re og Romsdal\", \"M\\u00f8re og Romsdal\", \"M\\u00f8re og Romsdal\", \"M\\u00f8re og Romsdal\", \"M\\u00f8re og Romsdal\", \"M\\u00f8re og Romsdal\", \"M\\u00f8re og Romsdal\"], \"legendgroup\": \"M\\u00f8re og Romsdal\", \"marker\": {\"color\": \"#00cc96\", \"symbol\": \"circle\"}, \"mode\": \"markers+lines\", \"name\": \"M\\u00f8re og Romsdal\", \"showlegend\": true, \"type\": \"scatter\", \"x\": [0, 1, 2, 3, 4, 5, 6, 7, 8, 9, 10, 11, 12, 13, 14], \"xaxis\": \"x\", \"y\": [5.0, 7.0, 6.0, 7.0, 16.0, 20.0, 20.0, 20.0, 20.0, 25.0, 29.0, 32.0, 38.0, 44.0, 46.0], \"yaxis\": \"y\"}, {\"customdata\": [[\"Helse Nord\", \"13 Mar\", 5.0], [\"Helse Nord\", \"14 Mar\", 8.0], [\"Helse Nord\", \"15 Mar\", 8.0], [\"Helse Nord\", \"16 Mar\", 11.0], [\"Helse Nord\", \"17 Mar\", 11.0], [\"Helse Nord\", \"18 Mar\", 12.0], [\"Helse Nord\", \"19 Mar\", 13.0], [\"Helse Nord\", \"20 Mar\", 17.0], [\"Helse Nord\", \"21 Mar\", 17.0], [\"Helse Nord\", \"22 Mar\", 18.0], [\"Helse Nord\", \"23 Mar\", 18.0], [\"Helse Nord\", \"24 Mar\", 18.0]], \"hoverlabel\": {\"namelength\": 0}, \"hovertemplate\": \"<b>%{hovertext}</b><br><br>Fylke=Nordland<br>Dager siden antall smittede passerte 5=%{x}<br>Totalt registrerte smittede (log)=%{customdata[2]}<br>RHF=%{customdata[0]}<br>Dato=%{customdata[1]}\", \"hovertext\": [\"Nordland\", \"Nordland\", \"Nordland\", \"Nordland\", \"Nordland\", \"Nordland\", \"Nordland\", \"Nordland\", \"Nordland\", \"Nordland\", \"Nordland\", \"Nordland\"], \"legendgroup\": \"Nordland\", \"marker\": {\"color\": \"#ab63fa\", \"symbol\": \"circle\"}, \"mode\": \"markers+lines\", \"name\": \"Nordland\", \"showlegend\": true, \"type\": \"scatter\", \"x\": [0, 1, 2, 3, 4, 5, 6, 7, 8, 9, 10, 11], \"xaxis\": \"x\", \"y\": [5.0, 8.0, 8.0, 11.0, 11.0, 12.0, 13.0, 17.0, 17.0, 18.0, 18.0, 18.0], \"yaxis\": \"y\"}, {\"customdata\": [[\"Helse S\\u00f8r-\\u00d8st\", \"02 Mar\", 7.0], [\"Helse S\\u00f8r-\\u00d8st\", \"03 Mar\", 7.0], [\"Helse S\\u00f8r-\\u00d8st\", \"04 Mar\", 14.0], [\"Helse S\\u00f8r-\\u00d8st\", \"05 Mar\", 18.0], [\"Helse S\\u00f8r-\\u00d8st\", \"06 Mar\", 23.0], [\"Helse S\\u00f8r-\\u00d8st\", \"07 Mar\", 29.0], [\"Helse S\\u00f8r-\\u00d8st\", \"08 Mar\", 35.0], [\"Helse S\\u00f8r-\\u00d8st\", \"09 Mar\", 35.0], [\"Helse S\\u00f8r-\\u00d8st\", \"10 Mar\", 51.0], [\"Helse S\\u00f8r-\\u00d8st\", \"11 Mar\", 123.0], [\"Helse S\\u00f8r-\\u00d8st\", \"12 Mar\", 166.0], [\"Helse S\\u00f8r-\\u00d8st\", \"13 Mar\", 207.0], [\"Helse S\\u00f8r-\\u00d8st\", \"14 Mar\", 222.0], [\"Helse S\\u00f8r-\\u00d8st\", \"15 Mar\", 281.0], [\"Helse S\\u00f8r-\\u00d8st\", \"16 Mar\", 292.0], [\"Helse S\\u00f8r-\\u00d8st\", \"17 Mar\", 329.0], [\"Helse S\\u00f8r-\\u00d8st\", \"18 Mar\", 348.0], [\"Helse S\\u00f8r-\\u00d8st\", \"19 Mar\", 392.0], [\"Helse S\\u00f8r-\\u00d8st\", \"20 Mar\", 419.0], [\"Helse S\\u00f8r-\\u00d8st\", \"21 Mar\", 448.0], [\"Helse S\\u00f8r-\\u00d8st\", \"22 Mar\", 523.0], [\"Helse S\\u00f8r-\\u00d8st\", \"23 Mar\", 636.0], [\"Helse S\\u00f8r-\\u00d8st\", \"24 Mar\", 657.0]], \"hoverlabel\": {\"namelength\": 0}, \"hovertemplate\": \"<b>%{hovertext}</b><br><br>Fylke=Oslo<br>Dager siden antall smittede passerte 5=%{x}<br>Totalt registrerte smittede (log)=%{customdata[2]}<br>RHF=%{customdata[0]}<br>Dato=%{customdata[1]}\", \"hovertext\": [\"Oslo\", \"Oslo\", \"Oslo\", \"Oslo\", \"Oslo\", \"Oslo\", \"Oslo\", \"Oslo\", \"Oslo\", \"Oslo\", \"Oslo\", \"Oslo\", \"Oslo\", \"Oslo\", \"Oslo\", \"Oslo\", \"Oslo\", \"Oslo\", \"Oslo\", \"Oslo\", \"Oslo\", \"Oslo\", \"Oslo\"], \"legendgroup\": \"Oslo\", \"marker\": {\"color\": \"#FFA15A\", \"symbol\": \"circle\"}, \"mode\": \"markers+lines\", \"name\": \"Oslo\", \"showlegend\": true, \"type\": \"scatter\", \"x\": [0, 1, 2, 3, 4, 5, 6, 7, 8, 9, 10, 11, 12, 13, 14, 15, 16, 17, 18, 19, 20, 21, 22], \"xaxis\": \"x\", \"y\": [7.0, 7.0, 14.0, 18.0, 23.0, 29.0, 35.0, 35.0, 51.0, 123.0, 166.0, 207.0, 222.0, 281.0, 292.0, 329.0, 348.0, 392.0, 419.0, 448.0, 523.0, 636.0, 657.0], \"yaxis\": \"y\"}, {\"customdata\": [[\"Helse Vest\", \"05 Mar\", 6.0], [\"Helse Vest\", \"06 Mar\", 11.0], [\"Helse Vest\", \"07 Mar\", 14.0], [\"Helse Vest\", \"08 Mar\", 19.0], [\"Helse Vest\", \"09 Mar\", 25.0], [\"Helse Vest\", \"10 Mar\", 33.0], [\"Helse Vest\", \"11 Mar\", 71.0], [\"Helse Vest\", \"12 Mar\", 82.0], [\"Helse Vest\", \"13 Mar\", 105.0], [\"Helse Vest\", \"14 Mar\", 119.0], [\"Helse Vest\", \"15 Mar\", 127.0], [\"Helse Vest\", \"16 Mar\", 131.0], [\"Helse Vest\", \"17 Mar\", 150.0], [\"Helse Vest\", \"18 Mar\", 161.0], [\"Helse Vest\", \"19 Mar\", 176.0], [\"Helse Vest\", \"20 Mar\", 180.0], [\"Helse Vest\", \"21 Mar\", 199.0], [\"Helse Vest\", \"22 Mar\", 219.0], [\"Helse Vest\", \"23 Mar\", 237.0], [\"Helse Vest\", \"24 Mar\", 251.0]], \"hoverlabel\": {\"namelength\": 0}, \"hovertemplate\": \"<b>%{hovertext}</b><br><br>Fylke=Rogaland<br>Dager siden antall smittede passerte 5=%{x}<br>Totalt registrerte smittede (log)=%{customdata[2]}<br>RHF=%{customdata[0]}<br>Dato=%{customdata[1]}\", \"hovertext\": [\"Rogaland\", \"Rogaland\", \"Rogaland\", \"Rogaland\", \"Rogaland\", \"Rogaland\", \"Rogaland\", \"Rogaland\", \"Rogaland\", \"Rogaland\", \"Rogaland\", \"Rogaland\", \"Rogaland\", \"Rogaland\", \"Rogaland\", \"Rogaland\", \"Rogaland\", \"Rogaland\", \"Rogaland\", \"Rogaland\"], \"legendgroup\": \"Rogaland\", \"marker\": {\"color\": \"#19d3f3\", \"symbol\": \"circle\"}, \"mode\": \"markers+lines\", \"name\": \"Rogaland\", \"showlegend\": true, \"type\": \"scatter\", \"x\": [0, 1, 2, 3, 4, 5, 6, 7, 8, 9, 10, 11, 12, 13, 14, 15, 16, 17, 18, 19], \"xaxis\": \"x\", \"y\": [6.0, 11.0, 14.0, 19.0, 25.0, 33.0, 71.0, 82.0, 105.0, 119.0, 127.0, 131.0, 150.0, 161.0, 176.0, 180.0, 199.0, 219.0, 237.0, 251.0], \"yaxis\": \"y\"}, {\"customdata\": [[\"Helse Nord\", \"06 Mar\", 6.0], [\"Helse Nord\", \"07 Mar\", 6.0], [\"Helse Nord\", \"08 Mar\", 6.0], [\"Helse Nord\", \"09 Mar\", 6.0], [\"Helse Nord\", \"10 Mar\", 6.0], [\"Helse Nord\", \"11 Mar\", 7.0], [\"Helse Nord\", \"12 Mar\", 11.0], [\"Helse Nord\", \"13 Mar\", 12.0], [\"Helse Nord\", \"14 Mar\", 16.0], [\"Helse Nord\", \"15 Mar\", 20.0], [\"Helse Nord\", \"16 Mar\", 21.0], [\"Helse Nord\", \"17 Mar\", 24.0], [\"Helse Nord\", \"18 Mar\", 28.0], [\"Helse Nord\", \"19 Mar\", 28.0], [\"Helse Nord\", \"20 Mar\", 32.0], [\"Helse Nord\", \"21 Mar\", 37.0], [\"Helse Nord\", \"22 Mar\", 49.0], [\"Helse Nord\", \"23 Mar\", 55.0], [\"Helse Nord\", \"24 Mar\", 59.0]], \"hoverlabel\": {\"namelength\": 0}, \"hovertemplate\": \"<b>%{hovertext}</b><br><br>Fylke=Troms og Finnmark<br>Dager siden antall smittede passerte 5=%{x}<br>Totalt registrerte smittede (log)=%{customdata[2]}<br>RHF=%{customdata[0]}<br>Dato=%{customdata[1]}\", \"hovertext\": [\"Troms og Finnmark\", \"Troms og Finnmark\", \"Troms og Finnmark\", \"Troms og Finnmark\", \"Troms og Finnmark\", \"Troms og Finnmark\", \"Troms og Finnmark\", \"Troms og Finnmark\", \"Troms og Finnmark\", \"Troms og Finnmark\", \"Troms og Finnmark\", \"Troms og Finnmark\", \"Troms og Finnmark\", \"Troms og Finnmark\", \"Troms og Finnmark\", \"Troms og Finnmark\", \"Troms og Finnmark\", \"Troms og Finnmark\", \"Troms og Finnmark\"], \"legendgroup\": \"Troms og Finnmark\", \"marker\": {\"color\": \"#FF6692\", \"symbol\": \"circle\"}, \"mode\": \"markers+lines\", \"name\": \"Troms og Finnmark\", \"showlegend\": true, \"type\": \"scatter\", \"x\": [0, 1, 2, 3, 4, 5, 6, 7, 8, 9, 10, 11, 12, 13, 14, 15, 16, 17, 18], \"xaxis\": \"x\", \"y\": [6.0, 6.0, 6.0, 6.0, 6.0, 7.0, 11.0, 12.0, 16.0, 20.0, 21.0, 24.0, 28.0, 28.0, 32.0, 37.0, 49.0, 55.0, 59.0], \"yaxis\": \"y\"}, {\"customdata\": [[\"Helse Midt-Norge\", \"05 Mar\", 7.0], [\"Helse Midt-Norge\", \"06 Mar\", 15.0], [\"Helse Midt-Norge\", \"07 Mar\", 18.0], [\"Helse Midt-Norge\", \"08 Mar\", 19.0], [\"Helse Midt-Norge\", \"09 Mar\", 22.0], [\"Helse Midt-Norge\", \"10 Mar\", 22.0], [\"Helse Midt-Norge\", \"11 Mar\", 25.0], [\"Helse Midt-Norge\", \"12 Mar\", 37.0], [\"Helse Midt-Norge\", \"13 Mar\", 43.0], [\"Helse Midt-Norge\", \"14 Mar\", 46.0], [\"Helse Midt-Norge\", \"15 Mar\", 50.0], [\"Helse Midt-Norge\", \"16 Mar\", 52.0], [\"Helse Midt-Norge\", \"17 Mar\", 61.0], [\"Helse Midt-Norge\", \"18 Mar\", 70.0], [\"Helse Midt-Norge\", \"19 Mar\", 75.0], [\"Helse Midt-Norge\", \"20 Mar\", 97.0], [\"Helse Midt-Norge\", \"21 Mar\", 122.0], [\"Helse Midt-Norge\", \"22 Mar\", 131.0], [\"Helse Midt-Norge\", \"23 Mar\", 144.0], [\"Helse Midt-Norge\", \"24 Mar\", 158.0]], \"hoverlabel\": {\"namelength\": 0}, \"hovertemplate\": \"<b>%{hovertext}</b><br><br>Fylke=Tr\\u00f8ndelag<br>Dager siden antall smittede passerte 5=%{x}<br>Totalt registrerte smittede (log)=%{customdata[2]}<br>RHF=%{customdata[0]}<br>Dato=%{customdata[1]}\", \"hovertext\": [\"Tr\\u00f8ndelag\", \"Tr\\u00f8ndelag\", \"Tr\\u00f8ndelag\", \"Tr\\u00f8ndelag\", \"Tr\\u00f8ndelag\", \"Tr\\u00f8ndelag\", \"Tr\\u00f8ndelag\", \"Tr\\u00f8ndelag\", \"Tr\\u00f8ndelag\", \"Tr\\u00f8ndelag\", \"Tr\\u00f8ndelag\", \"Tr\\u00f8ndelag\", \"Tr\\u00f8ndelag\", \"Tr\\u00f8ndelag\", \"Tr\\u00f8ndelag\", \"Tr\\u00f8ndelag\", \"Tr\\u00f8ndelag\", \"Tr\\u00f8ndelag\", \"Tr\\u00f8ndelag\", \"Tr\\u00f8ndelag\"], \"legendgroup\": \"Tr\\u00f8ndelag\", \"marker\": {\"color\": \"#B6E880\", \"symbol\": \"circle\"}, \"mode\": \"markers+lines\", \"name\": \"Tr\\u00f8ndelag\", \"showlegend\": true, \"type\": \"scatter\", \"x\": [0, 1, 2, 3, 4, 5, 6, 7, 8, 9, 10, 11, 12, 13, 14, 15, 16, 17, 18, 19], \"xaxis\": \"x\", \"y\": [7.0, 15.0, 18.0, 19.0, 22.0, 22.0, 25.0, 37.0, 43.0, 46.0, 50.0, 52.0, 61.0, 70.0, 75.0, 97.0, 122.0, 131.0, 144.0, 158.0], \"yaxis\": \"y\"}, {\"customdata\": [[\"Helse S\\u00f8r-\\u00d8st\", \"09 Mar\", 5.0], [\"Helse S\\u00f8r-\\u00d8st\", \"10 Mar\", 5.0], [\"Helse S\\u00f8r-\\u00d8st\", \"11 Mar\", 15.0], [\"Helse S\\u00f8r-\\u00d8st\", \"12 Mar\", 22.0], [\"Helse S\\u00f8r-\\u00d8st\", \"13 Mar\", 30.0], [\"Helse S\\u00f8r-\\u00d8st\", \"14 Mar\", 39.0], [\"Helse S\\u00f8r-\\u00d8st\", \"15 Mar\", 48.0], [\"Helse S\\u00f8r-\\u00d8st\", \"16 Mar\", 53.0], [\"Helse S\\u00f8r-\\u00d8st\", \"17 Mar\", 59.0], [\"Helse S\\u00f8r-\\u00d8st\", \"18 Mar\", 63.0], [\"Helse S\\u00f8r-\\u00d8st\", \"19 Mar\", 65.0], [\"Helse S\\u00f8r-\\u00d8st\", \"20 Mar\", 72.0], [\"Helse S\\u00f8r-\\u00d8st\", \"21 Mar\", 81.0], [\"Helse S\\u00f8r-\\u00d8st\", \"22 Mar\", 85.0], [\"Helse S\\u00f8r-\\u00d8st\", \"23 Mar\", 87.0], [\"Helse S\\u00f8r-\\u00d8st\", \"24 Mar\", 95.0]], \"hoverlabel\": {\"namelength\": 0}, \"hovertemplate\": \"<b>%{hovertext}</b><br><br>Fylke=Vestfold og Telemark<br>Dager siden antall smittede passerte 5=%{x}<br>Totalt registrerte smittede (log)=%{customdata[2]}<br>RHF=%{customdata[0]}<br>Dato=%{customdata[1]}\", \"hovertext\": [\"Vestfold og Telemark\", \"Vestfold og Telemark\", \"Vestfold og Telemark\", \"Vestfold og Telemark\", \"Vestfold og Telemark\", \"Vestfold og Telemark\", \"Vestfold og Telemark\", \"Vestfold og Telemark\", \"Vestfold og Telemark\", \"Vestfold og Telemark\", \"Vestfold og Telemark\", \"Vestfold og Telemark\", \"Vestfold og Telemark\", \"Vestfold og Telemark\", \"Vestfold og Telemark\", \"Vestfold og Telemark\"], \"legendgroup\": \"Vestfold og Telemark\", \"marker\": {\"color\": \"#FF97FF\", \"symbol\": \"circle\"}, \"mode\": \"markers+lines\", \"name\": \"Vestfold og Telemark\", \"showlegend\": true, \"type\": \"scatter\", \"x\": [0, 1, 2, 3, 4, 5, 6, 7, 8, 9, 10, 11, 12, 13, 14, 15], \"xaxis\": \"x\", \"y\": [5.0, 5.0, 15.0, 22.0, 30.0, 39.0, 48.0, 53.0, 59.0, 63.0, 65.0, 72.0, 81.0, 85.0, 87.0, 95.0], \"yaxis\": \"y\"}, {\"customdata\": [[\"Helse Vest\", \"02 Mar\", 9.0], [\"Helse Vest\", \"03 Mar\", 12.0], [\"Helse Vest\", \"04 Mar\", 17.0], [\"Helse Vest\", \"05 Mar\", 22.0], [\"Helse Vest\", \"06 Mar\", 24.0], [\"Helse Vest\", \"07 Mar\", 24.0], [\"Helse Vest\", \"08 Mar\", 24.0], [\"Helse Vest\", \"09 Mar\", 28.0], [\"Helse Vest\", \"10 Mar\", 31.0], [\"Helse Vest\", \"11 Mar\", 41.0], [\"Helse Vest\", \"12 Mar\", 67.0], [\"Helse Vest\", \"13 Mar\", 78.0], [\"Helse Vest\", \"14 Mar\", 101.0], [\"Helse Vest\", \"15 Mar\", 118.0], [\"Helse Vest\", \"16 Mar\", 127.0], [\"Helse Vest\", \"17 Mar\", 141.0], [\"Helse Vest\", \"18 Mar\", 147.0], [\"Helse Vest\", \"19 Mar\", 153.0], [\"Helse Vest\", \"20 Mar\", 173.0], [\"Helse Vest\", \"21 Mar\", 200.0], [\"Helse Vest\", \"22 Mar\", 214.0], [\"Helse Vest\", \"23 Mar\", 234.0], [\"Helse Vest\", \"24 Mar\", 279.0]], \"hoverlabel\": {\"namelength\": 0}, \"hovertemplate\": \"<b>%{hovertext}</b><br><br>Fylke=Vestland<br>Dager siden antall smittede passerte 5=%{x}<br>Totalt registrerte smittede (log)=%{customdata[2]}<br>RHF=%{customdata[0]}<br>Dato=%{customdata[1]}\", \"hovertext\": [\"Vestland\", \"Vestland\", \"Vestland\", \"Vestland\", \"Vestland\", \"Vestland\", \"Vestland\", \"Vestland\", \"Vestland\", \"Vestland\", \"Vestland\", \"Vestland\", \"Vestland\", \"Vestland\", \"Vestland\", \"Vestland\", \"Vestland\", \"Vestland\", \"Vestland\", \"Vestland\", \"Vestland\", \"Vestland\", \"Vestland\"], \"legendgroup\": \"Vestland\", \"marker\": {\"color\": \"#FECB52\", \"symbol\": \"circle\"}, \"mode\": \"markers+lines\", \"name\": \"Vestland\", \"showlegend\": true, \"type\": \"scatter\", \"x\": [0, 1, 2, 3, 4, 5, 6, 7, 8, 9, 10, 11, 12, 13, 14, 15, 16, 17, 18, 19, 20, 21, 22], \"xaxis\": \"x\", \"y\": [9.0, 12.0, 17.0, 22.0, 24.0, 24.0, 24.0, 28.0, 31.0, 41.0, 67.0, 78.0, 101.0, 118.0, 127.0, 141.0, 147.0, 153.0, 173.0, 200.0, 214.0, 234.0, 279.0], \"yaxis\": \"y\"}, {\"customdata\": [[\"Helse S\\u00f8r-\\u00d8st\", \"02 Mar\", 5.0], [\"Helse S\\u00f8r-\\u00d8st\", \"03 Mar\", 8.0], [\"Helse S\\u00f8r-\\u00d8st\", \"04 Mar\", 19.0], [\"Helse S\\u00f8r-\\u00d8st\", \"05 Mar\", 23.0], [\"Helse S\\u00f8r-\\u00d8st\", \"06 Mar\", 26.0], [\"Helse S\\u00f8r-\\u00d8st\", \"07 Mar\", 38.0], [\"Helse S\\u00f8r-\\u00d8st\", \"08 Mar\", 41.0], [\"Helse S\\u00f8r-\\u00d8st\", \"09 Mar\", 52.0], [\"Helse S\\u00f8r-\\u00d8st\", \"10 Mar\", 86.0], [\"Helse S\\u00f8r-\\u00d8st\", \"11 Mar\", 124.0], [\"Helse S\\u00f8r-\\u00d8st\", \"12 Mar\", 154.0], [\"Helse S\\u00f8r-\\u00d8st\", \"13 Mar\", 180.0], [\"Helse S\\u00f8r-\\u00d8st\", \"14 Mar\", 231.0], [\"Helse S\\u00f8r-\\u00d8st\", \"15 Mar\", 278.0], [\"Helse S\\u00f8r-\\u00d8st\", \"16 Mar\", 314.0], [\"Helse S\\u00f8r-\\u00d8st\", \"17 Mar\", 358.0], [\"Helse S\\u00f8r-\\u00d8st\", \"18 Mar\", 410.0], [\"Helse S\\u00f8r-\\u00d8st\", \"19 Mar\", 445.0], [\"Helse S\\u00f8r-\\u00d8st\", \"20 Mar\", 529.0], [\"Helse S\\u00f8r-\\u00d8st\", \"21 Mar\", 583.0], [\"Helse S\\u00f8r-\\u00d8st\", \"22 Mar\", 615.0], [\"Helse S\\u00f8r-\\u00d8st\", \"23 Mar\", 674.0], [\"Helse S\\u00f8r-\\u00d8st\", \"24 Mar\", 748.0]], \"hoverlabel\": {\"namelength\": 0}, \"hovertemplate\": \"<b>%{hovertext}</b><br><br>Fylke=Viken<br>Dager siden antall smittede passerte 5=%{x}<br>Totalt registrerte smittede (log)=%{customdata[2]}<br>RHF=%{customdata[0]}<br>Dato=%{customdata[1]}\", \"hovertext\": [\"Viken\", \"Viken\", \"Viken\", \"Viken\", \"Viken\", \"Viken\", \"Viken\", \"Viken\", \"Viken\", \"Viken\", \"Viken\", \"Viken\", \"Viken\", \"Viken\", \"Viken\", \"Viken\", \"Viken\", \"Viken\", \"Viken\", \"Viken\", \"Viken\", \"Viken\", \"Viken\"], \"legendgroup\": \"Viken\", \"marker\": {\"color\": \"#636efa\", \"symbol\": \"circle\"}, \"mode\": \"markers+lines\", \"name\": \"Viken\", \"showlegend\": true, \"type\": \"scatter\", \"x\": [0, 1, 2, 3, 4, 5, 6, 7, 8, 9, 10, 11, 12, 13, 14, 15, 16, 17, 18, 19, 20, 21, 22], \"xaxis\": \"x\", \"y\": [5.0, 8.0, 19.0, 23.0, 26.0, 38.0, 41.0, 52.0, 86.0, 124.0, 154.0, 180.0, 231.0, 278.0, 314.0, 358.0, 410.0, 445.0, 529.0, 583.0, 615.0, 674.0, 748.0], \"yaxis\": \"y\"}],\n",
       "                        {\"annotations\": [{\"align\": \"center\", \"font\": {\"family\": \"Helvetica\", \"size\": 12}, \"opacity\": 0.8, \"showarrow\": false, \"text\": \"FHI ansl\\u00e5r 86 000 smittede <br> Slutten av april.\", \"x\": 40, \"y\": 40000}], \"autosize\": true, \"height\": 600, \"legend\": {\"title\": {\"text\": \"Fylke\"}, \"tracegroupgap\": 0}, \"margin\": {\"b\": 0, \"l\": 100, \"r\": 100, \"t\": 150}, \"paper_bgcolor\": \"rgba(0, 0, 0, 0)\", \"shapes\": [{\"line\": {\"color\": \"rgba(192,192,192,0.7)\", \"width\": 1}, \"type\": \"line\", \"x0\": 0, \"x1\": 50, \"y0\": 5, \"y1\": 5121}, {\"line\": {\"color\": \"rgba(192,192,192,0.7)\", \"width\": 1}, \"type\": \"line\", \"x0\": 0, \"x1\": 50, \"y0\": 5, \"y1\": 159.981}, {\"line\": {\"color\": \"rgba(192,192,192,0.7)\", \"width\": 1}, \"type\": \"line\", \"x0\": 0, \"x1\": 50, \"y0\": 5, \"y1\": 5226006.11}], \"template\": {\"data\": {\"bar\": [{\"error_x\": {\"color\": \"#2a3f5f\"}, \"error_y\": {\"color\": \"#2a3f5f\"}, \"marker\": {\"line\": {\"color\": \"white\", \"width\": 0.5}}, \"type\": \"bar\"}], \"barpolar\": [{\"marker\": {\"line\": {\"color\": \"white\", \"width\": 0.5}}, \"type\": \"barpolar\"}], \"carpet\": [{\"aaxis\": {\"endlinecolor\": \"#2a3f5f\", \"gridcolor\": \"#C8D4E3\", \"linecolor\": \"#C8D4E3\", \"minorgridcolor\": \"#C8D4E3\", \"startlinecolor\": \"#2a3f5f\"}, \"baxis\": {\"endlinecolor\": \"#2a3f5f\", \"gridcolor\": \"#C8D4E3\", \"linecolor\": \"#C8D4E3\", \"minorgridcolor\": \"#C8D4E3\", \"startlinecolor\": \"#2a3f5f\"}, \"type\": \"carpet\"}], \"choropleth\": [{\"colorbar\": {\"outlinewidth\": 0, \"ticks\": \"\"}, \"type\": \"choropleth\"}], \"contour\": [{\"colorbar\": {\"outlinewidth\": 0, \"ticks\": \"\"}, \"colorscale\": [[0.0, \"#0d0887\"], [0.1111111111111111, \"#46039f\"], [0.2222222222222222, \"#7201a8\"], [0.3333333333333333, \"#9c179e\"], [0.4444444444444444, \"#bd3786\"], [0.5555555555555556, \"#d8576b\"], [0.6666666666666666, \"#ed7953\"], [0.7777777777777778, \"#fb9f3a\"], [0.8888888888888888, \"#fdca26\"], [1.0, \"#f0f921\"]], \"type\": \"contour\"}], \"contourcarpet\": [{\"colorbar\": {\"outlinewidth\": 0, \"ticks\": \"\"}, \"type\": \"contourcarpet\"}], \"heatmap\": [{\"colorbar\": {\"outlinewidth\": 0, \"ticks\": \"\"}, \"colorscale\": [[0.0, \"#0d0887\"], [0.1111111111111111, \"#46039f\"], [0.2222222222222222, \"#7201a8\"], [0.3333333333333333, \"#9c179e\"], [0.4444444444444444, \"#bd3786\"], [0.5555555555555556, \"#d8576b\"], [0.6666666666666666, \"#ed7953\"], [0.7777777777777778, \"#fb9f3a\"], [0.8888888888888888, \"#fdca26\"], [1.0, \"#f0f921\"]], \"type\": \"heatmap\"}], \"heatmapgl\": [{\"colorbar\": {\"outlinewidth\": 0, \"ticks\": \"\"}, \"colorscale\": [[0.0, \"#0d0887\"], [0.1111111111111111, \"#46039f\"], [0.2222222222222222, \"#7201a8\"], [0.3333333333333333, \"#9c179e\"], [0.4444444444444444, \"#bd3786\"], [0.5555555555555556, \"#d8576b\"], [0.6666666666666666, \"#ed7953\"], [0.7777777777777778, \"#fb9f3a\"], [0.8888888888888888, \"#fdca26\"], [1.0, \"#f0f921\"]], \"type\": \"heatmapgl\"}], \"histogram\": [{\"marker\": {\"colorbar\": {\"outlinewidth\": 0, \"ticks\": \"\"}}, \"type\": \"histogram\"}], \"histogram2d\": [{\"colorbar\": {\"outlinewidth\": 0, \"ticks\": \"\"}, \"colorscale\": [[0.0, \"#0d0887\"], [0.1111111111111111, \"#46039f\"], [0.2222222222222222, \"#7201a8\"], [0.3333333333333333, \"#9c179e\"], [0.4444444444444444, \"#bd3786\"], [0.5555555555555556, \"#d8576b\"], [0.6666666666666666, \"#ed7953\"], [0.7777777777777778, \"#fb9f3a\"], [0.8888888888888888, \"#fdca26\"], [1.0, \"#f0f921\"]], \"type\": \"histogram2d\"}], \"histogram2dcontour\": [{\"colorbar\": {\"outlinewidth\": 0, \"ticks\": \"\"}, \"colorscale\": [[0.0, \"#0d0887\"], [0.1111111111111111, \"#46039f\"], [0.2222222222222222, \"#7201a8\"], [0.3333333333333333, \"#9c179e\"], [0.4444444444444444, \"#bd3786\"], [0.5555555555555556, \"#d8576b\"], [0.6666666666666666, \"#ed7953\"], [0.7777777777777778, \"#fb9f3a\"], [0.8888888888888888, \"#fdca26\"], [1.0, \"#f0f921\"]], \"type\": \"histogram2dcontour\"}], \"mesh3d\": [{\"colorbar\": {\"outlinewidth\": 0, \"ticks\": \"\"}, \"type\": \"mesh3d\"}], \"parcoords\": [{\"line\": {\"colorbar\": {\"outlinewidth\": 0, \"ticks\": \"\"}}, \"type\": \"parcoords\"}], \"pie\": [{\"automargin\": true, \"type\": \"pie\"}], \"scatter\": [{\"marker\": {\"colorbar\": {\"outlinewidth\": 0, \"ticks\": \"\"}}, \"type\": \"scatter\"}], \"scatter3d\": [{\"line\": {\"colorbar\": {\"outlinewidth\": 0, \"ticks\": \"\"}}, \"marker\": {\"colorbar\": {\"outlinewidth\": 0, \"ticks\": \"\"}}, \"type\": \"scatter3d\"}], \"scattercarpet\": [{\"marker\": {\"colorbar\": {\"outlinewidth\": 0, \"ticks\": \"\"}}, \"type\": \"scattercarpet\"}], \"scattergeo\": [{\"marker\": {\"colorbar\": {\"outlinewidth\": 0, \"ticks\": \"\"}}, \"type\": \"scattergeo\"}], \"scattergl\": [{\"marker\": {\"colorbar\": {\"outlinewidth\": 0, \"ticks\": \"\"}}, \"type\": \"scattergl\"}], \"scattermapbox\": [{\"marker\": {\"colorbar\": {\"outlinewidth\": 0, \"ticks\": \"\"}}, \"type\": \"scattermapbox\"}], \"scatterpolar\": [{\"marker\": {\"colorbar\": {\"outlinewidth\": 0, \"ticks\": \"\"}}, \"type\": \"scatterpolar\"}], \"scatterpolargl\": [{\"marker\": {\"colorbar\": {\"outlinewidth\": 0, \"ticks\": \"\"}}, \"type\": \"scatterpolargl\"}], \"scatterternary\": [{\"marker\": {\"colorbar\": {\"outlinewidth\": 0, \"ticks\": \"\"}}, \"type\": \"scatterternary\"}], \"surface\": [{\"colorbar\": {\"outlinewidth\": 0, \"ticks\": \"\"}, \"colorscale\": [[0.0, \"#0d0887\"], [0.1111111111111111, \"#46039f\"], [0.2222222222222222, \"#7201a8\"], [0.3333333333333333, \"#9c179e\"], [0.4444444444444444, \"#bd3786\"], [0.5555555555555556, \"#d8576b\"], [0.6666666666666666, \"#ed7953\"], [0.7777777777777778, \"#fb9f3a\"], [0.8888888888888888, \"#fdca26\"], [1.0, \"#f0f921\"]], \"type\": \"surface\"}], \"table\": [{\"cells\": {\"fill\": {\"color\": \"#EBF0F8\"}, \"line\": {\"color\": \"white\"}}, \"header\": {\"fill\": {\"color\": \"#C8D4E3\"}, \"line\": {\"color\": \"white\"}}, \"type\": \"table\"}]}, \"layout\": {\"annotationdefaults\": {\"arrowcolor\": \"#2a3f5f\", \"arrowhead\": 0, \"arrowwidth\": 1}, \"coloraxis\": {\"colorbar\": {\"outlinewidth\": 0, \"ticks\": \"\"}}, \"colorscale\": {\"diverging\": [[0, \"#8e0152\"], [0.1, \"#c51b7d\"], [0.2, \"#de77ae\"], [0.3, \"#f1b6da\"], [0.4, \"#fde0ef\"], [0.5, \"#f7f7f7\"], [0.6, \"#e6f5d0\"], [0.7, \"#b8e186\"], [0.8, \"#7fbc41\"], [0.9, \"#4d9221\"], [1, \"#276419\"]], \"sequential\": [[0.0, \"#0d0887\"], [0.1111111111111111, \"#46039f\"], [0.2222222222222222, \"#7201a8\"], [0.3333333333333333, \"#9c179e\"], [0.4444444444444444, \"#bd3786\"], [0.5555555555555556, \"#d8576b\"], [0.6666666666666666, \"#ed7953\"], [0.7777777777777778, \"#fb9f3a\"], [0.8888888888888888, \"#fdca26\"], [1.0, \"#f0f921\"]], \"sequentialminus\": [[0.0, \"#0d0887\"], [0.1111111111111111, \"#46039f\"], [0.2222222222222222, \"#7201a8\"], [0.3333333333333333, \"#9c179e\"], [0.4444444444444444, \"#bd3786\"], [0.5555555555555556, \"#d8576b\"], [0.6666666666666666, \"#ed7953\"], [0.7777777777777778, \"#fb9f3a\"], [0.8888888888888888, \"#fdca26\"], [1.0, \"#f0f921\"]]}, \"colorway\": [\"#636efa\", \"#EF553B\", \"#00cc96\", \"#ab63fa\", \"#FFA15A\", \"#19d3f3\", \"#FF6692\", \"#B6E880\", \"#FF97FF\", \"#FECB52\"], \"font\": {\"color\": \"#2a3f5f\"}, \"geo\": {\"bgcolor\": \"white\", \"lakecolor\": \"white\", \"landcolor\": \"white\", \"showlakes\": true, \"showland\": true, \"subunitcolor\": \"#C8D4E3\"}, \"hoverlabel\": {\"align\": \"left\"}, \"hovermode\": \"closest\", \"mapbox\": {\"style\": \"light\"}, \"paper_bgcolor\": \"white\", \"plot_bgcolor\": \"white\", \"polar\": {\"angularaxis\": {\"gridcolor\": \"#EBF0F8\", \"linecolor\": \"#EBF0F8\", \"ticks\": \"\"}, \"bgcolor\": \"white\", \"radialaxis\": {\"gridcolor\": \"#EBF0F8\", \"linecolor\": \"#EBF0F8\", \"ticks\": \"\"}}, \"scene\": {\"xaxis\": {\"backgroundcolor\": \"white\", \"gridcolor\": \"#DFE8F3\", \"gridwidth\": 2, \"linecolor\": \"#EBF0F8\", \"showbackground\": true, \"ticks\": \"\", \"zerolinecolor\": \"#EBF0F8\"}, \"yaxis\": {\"backgroundcolor\": \"white\", \"gridcolor\": \"#DFE8F3\", \"gridwidth\": 2, \"linecolor\": \"#EBF0F8\", \"showbackground\": true, \"ticks\": \"\", \"zerolinecolor\": \"#EBF0F8\"}, \"zaxis\": {\"backgroundcolor\": \"white\", \"gridcolor\": \"#DFE8F3\", \"gridwidth\": 2, \"linecolor\": \"#EBF0F8\", \"showbackground\": true, \"ticks\": \"\", \"zerolinecolor\": \"#EBF0F8\"}}, \"shapedefaults\": {\"line\": {\"color\": \"#2a3f5f\"}}, \"ternary\": {\"aaxis\": {\"gridcolor\": \"#DFE8F3\", \"linecolor\": \"#A2B1C6\", \"ticks\": \"\"}, \"baxis\": {\"gridcolor\": \"#DFE8F3\", \"linecolor\": \"#A2B1C6\", \"ticks\": \"\"}, \"bgcolor\": \"white\", \"caxis\": {\"gridcolor\": \"#DFE8F3\", \"linecolor\": \"#A2B1C6\", \"ticks\": \"\"}}, \"title\": {\"x\": 0.05}, \"xaxis\": {\"automargin\": true, \"gridcolor\": \"#EBF0F8\", \"linecolor\": \"#EBF0F8\", \"ticks\": \"\", \"title\": {\"standoff\": 15}, \"zerolinecolor\": \"#EBF0F8\", \"zerolinewidth\": 2}, \"yaxis\": {\"automargin\": true, \"gridcolor\": \"#EBF0F8\", \"linecolor\": \"#EBF0F8\", \"ticks\": \"\", \"title\": {\"standoff\": 15}, \"zerolinecolor\": \"#EBF0F8\", \"zerolinewidth\": 2}}}, \"title\": {\"text\": \"<b>Antall smittet med COVID-19 per fylke</b><br>Starter fra dagen hvert fylke passerte 10 smittede<br>Det gj\\u00f8r det mulig \\u00e5 sammenligne smitteraten mellom forskjellige fylker.<br>Datakilde: FHI. Oppdatert 25.03.2020\"}, \"xaxis\": {\"anchor\": \"y\", \"domain\": [0.0, 1.0], \"title\": {\"text\": \"Dager siden antall smittede passerte 5\"}}, \"yaxis\": {\"anchor\": \"x\", \"domain\": [0.0, 1.0], \"nticks\": 4, \"range\": [0.47712125471966244, 3.9956351945975492], \"title\": {\"text\": \"Totalt registrerte smittede (log)\"}, \"type\": \"log\"}},\n",
       "                        {\"responsive\": true}\n",
       "                    ).then(function(){\n",
       "                            \n",
       "var gd = document.getElementById('77c55914-4f70-41f1-aed8-b1387e45d53d');\n",
       "var x = new MutationObserver(function (mutations, observer) {{\n",
       "        var display = window.getComputedStyle(gd).display;\n",
       "        if (!display || display === 'none') {{\n",
       "            console.log([gd, 'removed!']);\n",
       "            Plotly.purge(gd);\n",
       "            observer.disconnect();\n",
       "        }}\n",
       "}});\n",
       "\n",
       "// Listen for the removal of the full notebook cells\n",
       "var notebookContainer = gd.closest('#notebook-container');\n",
       "if (notebookContainer) {{\n",
       "    x.observe(notebookContainer, {childList: true});\n",
       "}}\n",
       "\n",
       "// Listen for the clearing of the current output cell\n",
       "var outputEl = gd.closest('.output');\n",
       "if (outputEl) {{\n",
       "    x.observe(outputEl, {childList: true});\n",
       "}}\n",
       "\n",
       "                        })\n",
       "                };\n",
       "                });\n",
       "            </script>\n",
       "        </div>"
      ]
     },
     "metadata": {},
     "output_type": "display_data"
    }
   ],
   "source": [
    "kategori = [i for i in restart[\"Fylke\"].unique()]\n",
    "kategori.sort()\n",
    "\n",
    "fig = px.scatter(restart, \n",
    "                 x=\"level_1\", \n",
    "                 y=\"value\", \n",
    "                 color=\"Fylke\",\n",
    "                 hover_name=\"Fylke\",\n",
    "                 hover_data=[\"RHF\", \"variable\", \"value\"],\n",
    "                 #animation_frame=\"variable\",\n",
    "                 #animation_group=\"RHF\",\n",
    "                 log_y=True,\n",
    "                 height=600,\n",
    "                 #category_orders={\"Fylke\": kategori}, \n",
    "                 #color_discrete_sequence=colorlist,\n",
    "                 template = \"plotly_white\",\n",
    "                 range_y=[3,9900],\n",
    "                 title = \"<b>Antall smittet med COVID-19 per fylke</b><br>Starter fra dagen hvert fylke passerte 10 smittede<br>Det gjør det mulig å sammenligne smitteraten mellom forskjellige fylker.<br>Datakilde: FHI. Oppdatert \"+datetime.today().strftime('%d.%m.%Y'),\n",
    "                 labels = {\"level_1\": \"Dager siden antall smittede passerte 5\", \"variable\": \"Dato\", \"value\": \"Totalt registrerte smittede (log)\"}    \n",
    "                )\n",
    "\n",
    "fig.update_traces(mode=\"markers+lines\")\n",
    "\n",
    "fig.update_layout(autosize=True,\n",
    "    margin=dict(l=100, r=100, t=150, b=0),\n",
    "    paper_bgcolor='rgba(0, 0, 0, 0)',\n",
    "    #plot_bgcolor='rgb(248, 248, 255)'    \n",
    "                 )\n",
    "fig.update_yaxes(nticks=4)\n",
    "\n",
    "fig.add_shape(\n",
    "        dict(\n",
    "            type=\"line\",\n",
    "            x0=0,\n",
    "            y0=5,\n",
    "            x1=50,\n",
    "            y1=5121,\n",
    "            line=dict(\n",
    "                color=\"rgba(192,192,192,0.7)\",\n",
    "                width=1\n",
    "            ))\n",
    "        )\n",
    "\n",
    "fig.add_shape(\n",
    "        dict(\n",
    "            type=\"line\",\n",
    "            x0=0,\n",
    "            y0=5,\n",
    "            x1=50,\n",
    "            y1=159.981,\n",
    "            line=dict(\n",
    "                color=\"rgba(192,192,192,0.7)\",\n",
    "                width=1\n",
    "            ))\n",
    "        )\n",
    "fig.add_shape(\n",
    "        dict(\n",
    "            type=\"line\",\n",
    "            x0=0,\n",
    "            y0=5,\n",
    "            x1=50,\n",
    "            y1=5226006.11,\n",
    "            line=dict(\n",
    "                color=\"rgba(192,192,192,0.7)\",\n",
    "                width=1\n",
    "            ))\n",
    "        )\n",
    "\n",
    "fig.add_annotation(\n",
    "    x=40,\n",
    "    y=40000,\n",
    "    text=\"FHI anslår 86 000 smittede <br> Slutten av april.\",\n",
    "    showarrow=False,\n",
    "    font=dict(family=\"Helvetica\", size=12),\n",
    "    align=\"center\",\n",
    "    opacity=0.8)\n",
    "\n",
    "py.plot(fig, filename='COVID19_antall_per_fylke.html', auto_open=False)\n",
    "fig.show()"
   ]
  },
  {
   "cell_type": "code",
   "execution_count": 173,
   "metadata": {},
   "outputs": [
    {
     "data": {
      "text/plain": [
       "3.9381963002538787"
      ]
     },
     "execution_count": 173,
     "metadata": {},
     "output_type": "execute_result"
    }
   ],
   "source": [
    "duration = 55\n",
    "target=80000\n",
    "start=5\n",
    "\n",
    "duration*np.log(2)/(np.log(target)-np.log(start))"
   ]
  },
  {
   "cell_type": "code",
   "execution_count": 175,
   "metadata": {},
   "outputs": [
    {
     "data": {
      "text/plain": [
       "0.5064498124578554"
      ]
     },
     "execution_count": 175,
     "metadata": {},
     "output_type": "execute_result"
    }
   ],
   "source": [
    "np.log(2)/np.log(3.93)"
   ]
  },
  {
   "cell_type": "code",
   "execution_count": 182,
   "metadata": {},
   "outputs": [
    {
     "data": {
      "text/plain": [
       "14.206699082890461"
      ]
     },
     "execution_count": 182,
     "metadata": {},
     "output_type": "execute_result"
    }
   ],
   "source": [
    "np.log(2)/np.log(1+0.05)"
   ]
  }
 ],
 "metadata": {
  "kernelspec": {
   "display_name": "Python 3",
   "language": "python",
   "name": "python3"
  },
  "language_info": {
   "codemirror_mode": {
    "name": "ipython",
    "version": 3
   },
   "file_extension": ".py",
   "mimetype": "text/x-python",
   "name": "python",
   "nbconvert_exporter": "python",
   "pygments_lexer": "ipython3",
   "version": "3.7.4"
  }
 },
 "nbformat": 4,
 "nbformat_minor": 2
}
