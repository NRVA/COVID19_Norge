{
 "cells": [
  {
   "cell_type": "code",
   "execution_count": 37,
   "metadata": {},
   "outputs": [],
   "source": [
    "import pandas as pd\n",
    "import numpy as np\n",
    "import plotly\n",
    "import chart_studio.plotly as py\n",
    "import chart_studio\n",
    "import matplotlib.pyplot as plt\n",
    "\n",
    "chart_studio.tools.set_credentials_file(username='oystein.nerva', api_key='0ODcZ6UisJ8n0AjEQt9N')"
   ]
  },
  {
   "cell_type": "code",
   "execution_count": 407,
   "metadata": {},
   "outputs": [
    {
     "data": {
      "text/html": [
       "<div>\n",
       "<style scoped>\n",
       "    .dataframe tbody tr th:only-of-type {\n",
       "        vertical-align: middle;\n",
       "    }\n",
       "\n",
       "    .dataframe tbody tr th {\n",
       "        vertical-align: top;\n",
       "    }\n",
       "\n",
       "    .dataframe thead th {\n",
       "        text-align: right;\n",
       "    }\n",
       "</style>\n",
       "<table border=\"1\" class=\"dataframe\">\n",
       "  <thead>\n",
       "    <tr style=\"text-align: right;\">\n",
       "      <th></th>\n",
       "      <th>Fylke</th>\n",
       "      <th>09-Mar-20</th>\n",
       "      <th>10-Mar-20</th>\n",
       "      <th>11-Mar-20</th>\n",
       "      <th>12-Mar-20</th>\n",
       "      <th>13-Mar-20</th>\n",
       "      <th>14-Mar-20</th>\n",
       "      <th>15-Mar-20</th>\n",
       "      <th>16-Mar-20</th>\n",
       "      <th>17-Mar-20</th>\n",
       "      <th>18-Mar-20</th>\n",
       "      <th>19-Mar-20</th>\n",
       "      <th>20-Mar-20</th>\n",
       "      <th>21-Mar-20</th>\n",
       "      <th>22-Mar-20</th>\n",
       "    </tr>\n",
       "  </thead>\n",
       "  <tbody>\n",
       "    <tr>\n",
       "      <td>0</td>\n",
       "      <td>Agder</td>\n",
       "      <td>19</td>\n",
       "      <td>19</td>\n",
       "      <td>20</td>\n",
       "      <td>32</td>\n",
       "      <td>34</td>\n",
       "      <td>52</td>\n",
       "      <td>55</td>\n",
       "      <td>67</td>\n",
       "      <td>67</td>\n",
       "      <td>67</td>\n",
       "      <td>75</td>\n",
       "      <td>79</td>\n",
       "      <td>82</td>\n",
       "      <td>91</td>\n",
       "    </tr>\n",
       "    <tr>\n",
       "      <td>1</td>\n",
       "      <td>Innlandet</td>\n",
       "      <td>16</td>\n",
       "      <td>16</td>\n",
       "      <td>23</td>\n",
       "      <td>40</td>\n",
       "      <td>49</td>\n",
       "      <td>57</td>\n",
       "      <td>72</td>\n",
       "      <td>81</td>\n",
       "      <td>88</td>\n",
       "      <td>97</td>\n",
       "      <td>105</td>\n",
       "      <td>115</td>\n",
       "      <td>125</td>\n",
       "      <td>148</td>\n",
       "    </tr>\n",
       "    <tr>\n",
       "      <td>2</td>\n",
       "      <td>Møre og Romsdal</td>\n",
       "      <td>5</td>\n",
       "      <td>5</td>\n",
       "      <td>7</td>\n",
       "      <td>6</td>\n",
       "      <td>7</td>\n",
       "      <td>16</td>\n",
       "      <td>20</td>\n",
       "      <td>20</td>\n",
       "      <td>20</td>\n",
       "      <td>20</td>\n",
       "      <td>25</td>\n",
       "      <td>29</td>\n",
       "      <td>32</td>\n",
       "      <td>38</td>\n",
       "    </tr>\n",
       "    <tr>\n",
       "      <td>3</td>\n",
       "      <td>Nordland</td>\n",
       "      <td>3</td>\n",
       "      <td>3</td>\n",
       "      <td>3</td>\n",
       "      <td>4</td>\n",
       "      <td>5</td>\n",
       "      <td>8</td>\n",
       "      <td>8</td>\n",
       "      <td>11</td>\n",
       "      <td>11</td>\n",
       "      <td>12</td>\n",
       "      <td>13</td>\n",
       "      <td>17</td>\n",
       "      <td>17</td>\n",
       "      <td>19</td>\n",
       "    </tr>\n",
       "    <tr>\n",
       "      <td>4</td>\n",
       "      <td>Oslo</td>\n",
       "      <td>51</td>\n",
       "      <td>51</td>\n",
       "      <td>123</td>\n",
       "      <td>166</td>\n",
       "      <td>207</td>\n",
       "      <td>222</td>\n",
       "      <td>281</td>\n",
       "      <td>292</td>\n",
       "      <td>329</td>\n",
       "      <td>348</td>\n",
       "      <td>392</td>\n",
       "      <td>419</td>\n",
       "      <td>448</td>\n",
       "      <td>523</td>\n",
       "    </tr>\n",
       "    <tr>\n",
       "      <td>5</td>\n",
       "      <td>Rogaland</td>\n",
       "      <td>33</td>\n",
       "      <td>33</td>\n",
       "      <td>71</td>\n",
       "      <td>82</td>\n",
       "      <td>105</td>\n",
       "      <td>119</td>\n",
       "      <td>127</td>\n",
       "      <td>131</td>\n",
       "      <td>150</td>\n",
       "      <td>161</td>\n",
       "      <td>176</td>\n",
       "      <td>180</td>\n",
       "      <td>199</td>\n",
       "      <td>219</td>\n",
       "    </tr>\n",
       "    <tr>\n",
       "      <td>6</td>\n",
       "      <td>Troms og Finnmark</td>\n",
       "      <td>6</td>\n",
       "      <td>6</td>\n",
       "      <td>7</td>\n",
       "      <td>11</td>\n",
       "      <td>12</td>\n",
       "      <td>16</td>\n",
       "      <td>20</td>\n",
       "      <td>21</td>\n",
       "      <td>24</td>\n",
       "      <td>28</td>\n",
       "      <td>28</td>\n",
       "      <td>32</td>\n",
       "      <td>37</td>\n",
       "      <td>49</td>\n",
       "    </tr>\n",
       "    <tr>\n",
       "      <td>7</td>\n",
       "      <td>Trøndelag</td>\n",
       "      <td>22</td>\n",
       "      <td>22</td>\n",
       "      <td>25</td>\n",
       "      <td>37</td>\n",
       "      <td>43</td>\n",
       "      <td>46</td>\n",
       "      <td>50</td>\n",
       "      <td>52</td>\n",
       "      <td>61</td>\n",
       "      <td>70</td>\n",
       "      <td>75</td>\n",
       "      <td>97</td>\n",
       "      <td>122</td>\n",
       "      <td>131</td>\n",
       "    </tr>\n",
       "    <tr>\n",
       "      <td>8</td>\n",
       "      <td>Vestfold og Telemark</td>\n",
       "      <td>5</td>\n",
       "      <td>5</td>\n",
       "      <td>15</td>\n",
       "      <td>22</td>\n",
       "      <td>30</td>\n",
       "      <td>39</td>\n",
       "      <td>48</td>\n",
       "      <td>53</td>\n",
       "      <td>59</td>\n",
       "      <td>63</td>\n",
       "      <td>65</td>\n",
       "      <td>72</td>\n",
       "      <td>81</td>\n",
       "      <td>85</td>\n",
       "    </tr>\n",
       "    <tr>\n",
       "      <td>9</td>\n",
       "      <td>Vestland</td>\n",
       "      <td>31</td>\n",
       "      <td>31</td>\n",
       "      <td>41</td>\n",
       "      <td>67</td>\n",
       "      <td>78</td>\n",
       "      <td>101</td>\n",
       "      <td>118</td>\n",
       "      <td>127</td>\n",
       "      <td>141</td>\n",
       "      <td>147</td>\n",
       "      <td>153</td>\n",
       "      <td>173</td>\n",
       "      <td>200</td>\n",
       "      <td>214</td>\n",
       "    </tr>\n",
       "    <tr>\n",
       "      <td>10</td>\n",
       "      <td>Viken</td>\n",
       "      <td>86</td>\n",
       "      <td>86</td>\n",
       "      <td>124</td>\n",
       "      <td>154</td>\n",
       "      <td>180</td>\n",
       "      <td>231</td>\n",
       "      <td>278</td>\n",
       "      <td>314</td>\n",
       "      <td>358</td>\n",
       "      <td>410</td>\n",
       "      <td>445</td>\n",
       "      <td>529</td>\n",
       "      <td>583</td>\n",
       "      <td>615</td>\n",
       "    </tr>\n",
       "  </tbody>\n",
       "</table>\n",
       "</div>"
      ],
      "text/plain": [
       "                   Fylke  09-Mar-20  10-Mar-20  11-Mar-20  12-Mar-20  \\\n",
       "0                  Agder         19         19         20         32   \n",
       "1              Innlandet         16         16         23         40   \n",
       "2        Møre og Romsdal          5          5          7          6   \n",
       "3               Nordland          3          3          3          4   \n",
       "4                   Oslo         51         51        123        166   \n",
       "5               Rogaland         33         33         71         82   \n",
       "6      Troms og Finnmark          6          6          7         11   \n",
       "7              Trøndelag         22         22         25         37   \n",
       "8   Vestfold og Telemark          5          5         15         22   \n",
       "9               Vestland         31         31         41         67   \n",
       "10                 Viken         86         86        124        154   \n",
       "\n",
       "    13-Mar-20  14-Mar-20  15-Mar-20  16-Mar-20  17-Mar-20  18-Mar-20  \\\n",
       "0          34         52         55         67         67         67   \n",
       "1          49         57         72         81         88         97   \n",
       "2           7         16         20         20         20         20   \n",
       "3           5          8          8         11         11         12   \n",
       "4         207        222        281        292        329        348   \n",
       "5         105        119        127        131        150        161   \n",
       "6          12         16         20         21         24         28   \n",
       "7          43         46         50         52         61         70   \n",
       "8          30         39         48         53         59         63   \n",
       "9          78        101        118        127        141        147   \n",
       "10        180        231        278        314        358        410   \n",
       "\n",
       "    19-Mar-20  20-Mar-20  21-Mar-20  22-Mar-20  \n",
       "0          75         79         82         91  \n",
       "1         105        115        125        148  \n",
       "2          25         29         32         38  \n",
       "3          13         17         17         19  \n",
       "4         392        419        448        523  \n",
       "5         176        180        199        219  \n",
       "6          28         32         37         49  \n",
       "7          75         97        122        131  \n",
       "8          65         72         81         85  \n",
       "9         153        173        200        214  \n",
       "10        445        529        583        615  "
      ]
     },
     "execution_count": 407,
     "metadata": {},
     "output_type": "execute_result"
    }
   ],
   "source": [
    "url = \"https://github.com/NRVA/COVID19_Norge/raw/master/COVID19_fhi_data_fylke.csv\"\n",
    "data = pd.read_csv(url, sep=';')\n",
    "data"
   ]
  },
  {
   "cell_type": "code",
   "execution_count": 408,
   "metadata": {},
   "outputs": [
    {
     "data": {
      "text/html": [
       "<div>\n",
       "<style scoped>\n",
       "    .dataframe tbody tr th:only-of-type {\n",
       "        vertical-align: middle;\n",
       "    }\n",
       "\n",
       "    .dataframe tbody tr th {\n",
       "        vertical-align: top;\n",
       "    }\n",
       "\n",
       "    .dataframe thead th {\n",
       "        text-align: right;\n",
       "    }\n",
       "</style>\n",
       "<table border=\"1\" class=\"dataframe\">\n",
       "  <thead>\n",
       "    <tr style=\"text-align: right;\">\n",
       "      <th></th>\n",
       "      <th>Fylke</th>\n",
       "      <th>RHF</th>\n",
       "      <th>Befolkning</th>\n",
       "    </tr>\n",
       "  </thead>\n",
       "  <tbody>\n",
       "    <tr>\n",
       "      <td>0</td>\n",
       "      <td>Agder</td>\n",
       "      <td>Helse Sør-Øst</td>\n",
       "      <td>307231</td>\n",
       "    </tr>\n",
       "    <tr>\n",
       "      <td>1</td>\n",
       "      <td>Innlandet</td>\n",
       "      <td>Helse Sør-Øst</td>\n",
       "      <td>371385</td>\n",
       "    </tr>\n",
       "    <tr>\n",
       "      <td>2</td>\n",
       "      <td>Møre og Romsdal</td>\n",
       "      <td>Helse Midt-Norge</td>\n",
       "      <td>265238</td>\n",
       "    </tr>\n",
       "    <tr>\n",
       "      <td>3</td>\n",
       "      <td>Nordland</td>\n",
       "      <td>Helse Nord</td>\n",
       "      <td>241235</td>\n",
       "    </tr>\n",
       "    <tr>\n",
       "      <td>4</td>\n",
       "      <td>Oslo</td>\n",
       "      <td>Helse Sør-Øst</td>\n",
       "      <td>693494</td>\n",
       "    </tr>\n",
       "    <tr>\n",
       "      <td>5</td>\n",
       "      <td>Rogaland</td>\n",
       "      <td>Helse Vest</td>\n",
       "      <td>479892</td>\n",
       "    </tr>\n",
       "    <tr>\n",
       "      <td>6</td>\n",
       "      <td>Troms og Finnmark</td>\n",
       "      <td>Helse Nord</td>\n",
       "      <td>243311</td>\n",
       "    </tr>\n",
       "    <tr>\n",
       "      <td>7</td>\n",
       "      <td>Trøndelag</td>\n",
       "      <td>Helse Midt-Norge</td>\n",
       "      <td>468702</td>\n",
       "    </tr>\n",
       "    <tr>\n",
       "      <td>8</td>\n",
       "      <td>Vestfold og Telemark</td>\n",
       "      <td>Helse Sør-Øst</td>\n",
       "      <td>419396</td>\n",
       "    </tr>\n",
       "    <tr>\n",
       "      <td>9</td>\n",
       "      <td>Vestland</td>\n",
       "      <td>Helse Vest</td>\n",
       "      <td>636531</td>\n",
       "    </tr>\n",
       "    <tr>\n",
       "      <td>10</td>\n",
       "      <td>Viken</td>\n",
       "      <td>Helse Sør-Øst</td>\n",
       "      <td>1241165</td>\n",
       "    </tr>\n",
       "  </tbody>\n",
       "</table>\n",
       "</div>"
      ],
      "text/plain": [
       "                   Fylke               RHF  Befolkning\n",
       "0                  Agder     Helse Sør-Øst      307231\n",
       "1              Innlandet     Helse Sør-Øst      371385\n",
       "2        Møre og Romsdal  Helse Midt-Norge      265238\n",
       "3               Nordland        Helse Nord      241235\n",
       "4                   Oslo     Helse Sør-Øst      693494\n",
       "5               Rogaland        Helse Vest      479892\n",
       "6      Troms og Finnmark        Helse Nord      243311\n",
       "7              Trøndelag  Helse Midt-Norge      468702\n",
       "8   Vestfold og Telemark     Helse Sør-Øst      419396\n",
       "9               Vestland        Helse Vest      636531\n",
       "10                 Viken     Helse Sør-Øst     1241165"
      ]
     },
     "execution_count": 408,
     "metadata": {},
     "output_type": "execute_result"
    }
   ],
   "source": [
    "url = \"https://github.com/NRVA/COVID19_Norge/raw/master/Fylkestilhorighet_2020.csv\"\n",
    "fylker = pd.read_csv(url, sep=';')\n",
    "fylker"
   ]
  },
  {
   "cell_type": "code",
   "execution_count": 409,
   "metadata": {},
   "outputs": [
    {
     "data": {
      "text/html": [
       "<div>\n",
       "<style scoped>\n",
       "    .dataframe tbody tr th:only-of-type {\n",
       "        vertical-align: middle;\n",
       "    }\n",
       "\n",
       "    .dataframe tbody tr th {\n",
       "        vertical-align: top;\n",
       "    }\n",
       "\n",
       "    .dataframe thead th {\n",
       "        text-align: right;\n",
       "    }\n",
       "</style>\n",
       "<table border=\"1\" class=\"dataframe\">\n",
       "  <thead>\n",
       "    <tr style=\"text-align: right;\">\n",
       "      <th>Fylke</th>\n",
       "      <th>Agder</th>\n",
       "      <th>Innlandet</th>\n",
       "      <th>Møre og Romsdal</th>\n",
       "      <th>Nordland</th>\n",
       "      <th>Oslo</th>\n",
       "      <th>Rogaland</th>\n",
       "      <th>Troms og Finnmark</th>\n",
       "      <th>Trøndelag</th>\n",
       "      <th>Vestfold og Telemark</th>\n",
       "      <th>Vestland</th>\n",
       "      <th>Viken</th>\n",
       "    </tr>\n",
       "    <tr>\n",
       "      <th>variable</th>\n",
       "      <th></th>\n",
       "      <th></th>\n",
       "      <th></th>\n",
       "      <th></th>\n",
       "      <th></th>\n",
       "      <th></th>\n",
       "      <th></th>\n",
       "      <th></th>\n",
       "      <th></th>\n",
       "      <th></th>\n",
       "      <th></th>\n",
       "    </tr>\n",
       "  </thead>\n",
       "  <tbody>\n",
       "    <tr>\n",
       "      <td>2020-03-09</td>\n",
       "      <td>19</td>\n",
       "      <td>16</td>\n",
       "      <td>5</td>\n",
       "      <td>3</td>\n",
       "      <td>51</td>\n",
       "      <td>33</td>\n",
       "      <td>6</td>\n",
       "      <td>22</td>\n",
       "      <td>5</td>\n",
       "      <td>31</td>\n",
       "      <td>86</td>\n",
       "    </tr>\n",
       "    <tr>\n",
       "      <td>2020-03-10</td>\n",
       "      <td>19</td>\n",
       "      <td>16</td>\n",
       "      <td>5</td>\n",
       "      <td>3</td>\n",
       "      <td>51</td>\n",
       "      <td>33</td>\n",
       "      <td>6</td>\n",
       "      <td>22</td>\n",
       "      <td>5</td>\n",
       "      <td>31</td>\n",
       "      <td>86</td>\n",
       "    </tr>\n",
       "    <tr>\n",
       "      <td>2020-03-11</td>\n",
       "      <td>20</td>\n",
       "      <td>23</td>\n",
       "      <td>7</td>\n",
       "      <td>3</td>\n",
       "      <td>123</td>\n",
       "      <td>71</td>\n",
       "      <td>7</td>\n",
       "      <td>25</td>\n",
       "      <td>15</td>\n",
       "      <td>41</td>\n",
       "      <td>124</td>\n",
       "    </tr>\n",
       "    <tr>\n",
       "      <td>2020-03-12</td>\n",
       "      <td>32</td>\n",
       "      <td>40</td>\n",
       "      <td>6</td>\n",
       "      <td>4</td>\n",
       "      <td>166</td>\n",
       "      <td>82</td>\n",
       "      <td>11</td>\n",
       "      <td>37</td>\n",
       "      <td>22</td>\n",
       "      <td>67</td>\n",
       "      <td>154</td>\n",
       "    </tr>\n",
       "    <tr>\n",
       "      <td>2020-03-13</td>\n",
       "      <td>34</td>\n",
       "      <td>49</td>\n",
       "      <td>7</td>\n",
       "      <td>5</td>\n",
       "      <td>207</td>\n",
       "      <td>105</td>\n",
       "      <td>12</td>\n",
       "      <td>43</td>\n",
       "      <td>30</td>\n",
       "      <td>78</td>\n",
       "      <td>180</td>\n",
       "    </tr>\n",
       "  </tbody>\n",
       "</table>\n",
       "</div>"
      ],
      "text/plain": [
       "Fylke       Agder  Innlandet  Møre og Romsdal  Nordland  Oslo  Rogaland  \\\n",
       "variable                                                                  \n",
       "2020-03-09     19         16                5         3    51        33   \n",
       "2020-03-10     19         16                5         3    51        33   \n",
       "2020-03-11     20         23                7         3   123        71   \n",
       "2020-03-12     32         40                6         4   166        82   \n",
       "2020-03-13     34         49                7         5   207       105   \n",
       "\n",
       "Fylke       Troms og Finnmark  Trøndelag  Vestfold og Telemark  Vestland  \\\n",
       "variable                                                                   \n",
       "2020-03-09                  6         22                     5        31   \n",
       "2020-03-10                  6         22                     5        31   \n",
       "2020-03-11                  7         25                    15        41   \n",
       "2020-03-12                 11         37                    22        67   \n",
       "2020-03-13                 12         43                    30        78   \n",
       "\n",
       "Fylke       Viken  \n",
       "variable           \n",
       "2020-03-09     86  \n",
       "2020-03-10     86  \n",
       "2020-03-11    124  \n",
       "2020-03-12    154  \n",
       "2020-03-13    180  "
      ]
     },
     "execution_count": 409,
     "metadata": {},
     "output_type": "execute_result"
    }
   ],
   "source": [
    "df = data.melt(id_vars=['Fylke']).copy()\n",
    "df['variable'] = pd.to_datetime(df['variable'], errors='coerce')\n",
    "df = df.groupby([\"Fylke\", pd.Grouper(key=\"variable\", freq=\"d\")]).max().reset_index()\n",
    "df = df.pivot(index=\"variable\", columns=\"Fylke\", values=\"value\")\n",
    "df.head()"
   ]
  },
  {
   "cell_type": "code",
   "execution_count": 410,
   "metadata": {},
   "outputs": [
    {
     "data": {
      "image/png": "[encoded data removed]",
      "text/plain": [
       "<Figure size 3200x2400 with 12 Axes>"
      ]
     },
     "metadata": {
      "needs_background": "light"
     },
     "output_type": "display_data"
    }
   ],
   "source": [
    "fig = plt.figure(figsize=(16,12), dpi=200, constrained_layout=True)\n",
    "\n",
    "axs = fig.subplots(nrows=4, ncols=3)\n",
    "\n",
    "for i in range(len(df.columns)):\n",
    "    axs.flat[i].plot(df.index, df.iloc[:,i], color='black')\n",
    "    axs.flat[i].get_xaxis().set_ticks([])\n",
    "    axs.flat[i].get_yaxis().set_ticks([])\n",
    "    axs.flat[i].annotate(df.iloc[:,i].name, (0.05, 0.8),xycoords='axes fraction', va='center', ha='left')\n",
    "    \n",
    "fig.savefig('fylker_matrix.png')"
   ]
  },
  {
   "cell_type": "code",
   "execution_count": 411,
   "metadata": {},
   "outputs": [
    {
     "data": {
      "text/html": [
       "<div>\n",
       "<style scoped>\n",
       "    .dataframe tbody tr th:only-of-type {\n",
       "        vertical-align: middle;\n",
       "    }\n",
       "\n",
       "    .dataframe tbody tr th {\n",
       "        vertical-align: top;\n",
       "    }\n",
       "\n",
       "    .dataframe thead th {\n",
       "        text-align: right;\n",
       "    }\n",
       "</style>\n",
       "<table border=\"1\" class=\"dataframe\">\n",
       "  <thead>\n",
       "    <tr style=\"text-align: right;\">\n",
       "      <th></th>\n",
       "      <th>Fylke</th>\n",
       "      <th>variable</th>\n",
       "      <th>0</th>\n",
       "    </tr>\n",
       "  </thead>\n",
       "  <tbody>\n",
       "    <tr>\n",
       "      <td>0</td>\n",
       "      <td>Agder</td>\n",
       "      <td>2020-03-09</td>\n",
       "      <td>19</td>\n",
       "    </tr>\n",
       "    <tr>\n",
       "      <td>1</td>\n",
       "      <td>Agder</td>\n",
       "      <td>2020-03-10</td>\n",
       "      <td>19</td>\n",
       "    </tr>\n",
       "    <tr>\n",
       "      <td>2</td>\n",
       "      <td>Agder</td>\n",
       "      <td>2020-03-11</td>\n",
       "      <td>20</td>\n",
       "    </tr>\n",
       "    <tr>\n",
       "      <td>3</td>\n",
       "      <td>Agder</td>\n",
       "      <td>2020-03-12</td>\n",
       "      <td>32</td>\n",
       "    </tr>\n",
       "    <tr>\n",
       "      <td>4</td>\n",
       "      <td>Agder</td>\n",
       "      <td>2020-03-13</td>\n",
       "      <td>34</td>\n",
       "    </tr>\n",
       "  </tbody>\n",
       "</table>\n",
       "</div>"
      ],
      "text/plain": [
       "   Fylke   variable   0\n",
       "0  Agder 2020-03-09  19\n",
       "1  Agder 2020-03-10  19\n",
       "2  Agder 2020-03-11  20\n",
       "3  Agder 2020-03-12  32\n",
       "4  Agder 2020-03-13  34"
      ]
     },
     "execution_count": 411,
     "metadata": {},
     "output_type": "execute_result"
    }
   ],
   "source": [
    "unstacked = df.unstack().reset_index()\n",
    "\n",
    "unstacked = unstacked[pd.to_datetime(unstacked[\"variable\"]) >= pd.to_datetime(\"2020-02-25\")]\n",
    "\n",
    "unstacked.head()"
   ]
  },
  {
   "cell_type": "code",
   "execution_count": 412,
   "metadata": {},
   "outputs": [
    {
     "data": {
      "application/vnd.plotly.v1+json": {
       "config": {
        "plotlyServerURL": "https://plot.ly"
       },
       "data": [
        {
         "hoverlabel": {
          "namelength": 0
         },
         "hovertemplate": "Fylke=Agder<br>variable=%{x}<br>0=%{y}",
         "legendgroup": "Agder",
         "marker": {
          "color": "#636efa",
          "symbol": "circle"
         },
         "mode": "markers+lines",
         "name": "Agder",
         "showlegend": true,
         "type": "scatter",
         "x": [
          "2020-03-09T00:00:00",
          "2020-03-10T00:00:00",
          "2020-03-11T00:00:00",
          "2020-03-12T00:00:00",
          "2020-03-13T00:00:00",
          "2020-03-14T00:00:00",
          "2020-03-15T00:00:00",
          "2020-03-16T00:00:00",
          "2020-03-17T00:00:00",
          "2020-03-18T00:00:00",
          "2020-03-19T00:00:00",
          "2020-03-20T00:00:00",
          "2020-03-21T00:00:00",
          "2020-03-22T00:00:00"
         ],
         "xaxis": "x",
         "y": [
          19,
          19,
          20,
          32,
          34,
          52,
          55,
          67,
          67,
          67,
          75,
          79,
          82,
          91
         ],
         "yaxis": "y"
        },
        {
         "hoverlabel": {
          "namelength": 0
         },
         "hovertemplate": "Fylke=Innlandet<br>variable=%{x}<br>0=%{y}",
         "legendgroup": "Innlandet",
         "marker": {
          "color": "#EF553B",
          "symbol": "circle"
         },
         "mode": "markers+lines",
         "name": "Innlandet",
         "showlegend": true,
         "type": "scatter",
         "x": [
          "2020-03-09T00:00:00",
          "2020-03-10T00:00:00",
          "2020-03-11T00:00:00",
          "2020-03-12T00:00:00",
          "2020-03-13T00:00:00",
          "2020-03-14T00:00:00",
          "2020-03-15T00:00:00",
          "2020-03-16T00:00:00",
          "2020-03-17T00:00:00",
          "2020-03-18T00:00:00",
          "2020-03-19T00:00:00",
          "2020-03-20T00:00:00",
          "2020-03-21T00:00:00",
          "2020-03-22T00:00:00"
         ],
         "xaxis": "x",
         "y": [
          16,
          16,
          23,
          40,
          49,
          57,
          72,
          81,
          88,
          97,
          105,
          115,
          125,
          148
         ],
         "yaxis": "y"
        },
        {
         "hoverlabel": {
          "namelength": 0
         },
         "hovertemplate": "Fylke=Møre og Romsdal<br>variable=%{x}<br>0=%{y}",
         "legendgroup": "Møre og Romsdal",
         "marker": {
          "color": "#00cc96",
          "symbol": "circle"
         },
         "mode": "markers+lines",
         "name": "Møre og Romsdal",
         "showlegend": true,
         "type": "scatter",
         "x": [
          "2020-03-09T00:00:00",
          "2020-03-10T00:00:00",
          "2020-03-11T00:00:00",
          "2020-03-12T00:00:00",
          "2020-03-13T00:00:00",
          "2020-03-14T00:00:00",
          "2020-03-15T00:00:00",
          "2020-03-16T00:00:00",
          "2020-03-17T00:00:00",
          "2020-03-18T00:00:00",
          "2020-03-19T00:00:00",
          "2020-03-20T00:00:00",
          "2020-03-21T00:00:00",
          "2020-03-22T00:00:00"
         ],
         "xaxis": "x",
         "y": [
          5,
          5,
          7,
          6,
          7,
          16,
          20,
          20,
          20,
          20,
          25,
          29,
          32,
          38
         ],
         "yaxis": "y"
        },
        {
         "hoverlabel": {
          "namelength": 0
         },
         "hovertemplate": "Fylke=Nordland<br>variable=%{x}<br>0=%{y}",
         "legendgroup": "Nordland",
         "marker": {
          "color": "#ab63fa",
          "symbol": "circle"
         },
         "mode": "markers+lines",
         "name": "Nordland",
         "showlegend": true,
         "type": "scatter",
         "x": [
          "2020-03-09T00:00:00",
          "2020-03-10T00:00:00",
          "2020-03-11T00:00:00",
          "2020-03-12T00:00:00",
          "2020-03-13T00:00:00",
          "2020-03-14T00:00:00",
          "2020-03-15T00:00:00",
          "2020-03-16T00:00:00",
          "2020-03-17T00:00:00",
          "2020-03-18T00:00:00",
          "2020-03-19T00:00:00",
          "2020-03-20T00:00:00",
          "2020-03-21T00:00:00",
          "2020-03-22T00:00:00"
         ],
         "xaxis": "x",
         "y": [
          3,
          3,
          3,
          4,
          5,
          8,
          8,
          11,
          11,
          12,
          13,
          17,
          17,
          19
         ],
         "yaxis": "y"
        },
        {
         "hoverlabel": {
          "namelength": 0
         },
         "hovertemplate": "Fylke=Oslo<br>variable=%{x}<br>0=%{y}",
         "legendgroup": "Oslo",
         "marker": {
          "color": "#FFA15A",
          "symbol": "circle"
         },
         "mode": "markers+lines",
         "name": "Oslo",
         "showlegend": true,
         "type": "scatter",
         "x": [
          "2020-03-09T00:00:00",
          "2020-03-10T00:00:00",
          "2020-03-11T00:00:00",
          "2020-03-12T00:00:00",
          "2020-03-13T00:00:00",
          "2020-03-14T00:00:00",
          "2020-03-15T00:00:00",
          "2020-03-16T00:00:00",
          "2020-03-17T00:00:00",
          "2020-03-18T00:00:00",
          "2020-03-19T00:00:00",
          "2020-03-20T00:00:00",
          "2020-03-21T00:00:00",
          "2020-03-22T00:00:00"
         ],
         "xaxis": "x",
         "y": [
          51,
          51,
          123,
          166,
          207,
          222,
          281,
          292,
          329,
          348,
          392,
          419,
          448,
          523
         ],
         "yaxis": "y"
        },
        {
         "hoverlabel": {
          "namelength": 0
         },
         "hovertemplate": "Fylke=Rogaland<br>variable=%{x}<br>0=%{y}",
         "legendgroup": "Rogaland",
         "marker": {
          "color": "#19d3f3",
          "symbol": "circle"
         },
         "mode": "markers+lines",
         "name": "Rogaland",
         "showlegend": true,
         "type": "scatter",
         "x": [
          "2020-03-09T00:00:00",
          "2020-03-10T00:00:00",
          "2020-03-11T00:00:00",
          "2020-03-12T00:00:00",
          "2020-03-13T00:00:00",
          "2020-03-14T00:00:00",
          "2020-03-15T00:00:00",
          "2020-03-16T00:00:00",
          "2020-03-17T00:00:00",
          "2020-03-18T00:00:00",
          "2020-03-19T00:00:00",
          "2020-03-20T00:00:00",
          "2020-03-21T00:00:00",
          "2020-03-22T00:00:00"
         ],
         "xaxis": "x",
         "y": [
          33,
          33,
          71,
          82,
          105,
          119,
          127,
          131,
          150,
          161,
          176,
          180,
          199,
          219
         ],
         "yaxis": "y"
        },
        {
         "hoverlabel": {
          "namelength": 0
         },
         "hovertemplate": "Fylke=Troms og Finnmark<br>variable=%{x}<br>0=%{y}",
         "legendgroup": "Troms og Finnmark",
         "marker": {
          "color": "#FF6692",
          "symbol": "circle"
         },
         "mode": "markers+lines",
         "name": "Troms og Finnmark",
         "showlegend": true,
         "type": "scatter",
         "x": [
          "2020-03-09T00:00:00",
          "2020-03-10T00:00:00",
          "2020-03-11T00:00:00",
          "2020-03-12T00:00:00",
          "2020-03-13T00:00:00",
          "2020-03-14T00:00:00",
          "2020-03-15T00:00:00",
          "2020-03-16T00:00:00",
          "2020-03-17T00:00:00",
          "2020-03-18T00:00:00",
          "2020-03-19T00:00:00",
          "2020-03-20T00:00:00",
          "2020-03-21T00:00:00",
          "2020-03-22T00:00:00"
         ],
         "xaxis": "x",
         "y": [
          6,
          6,
          7,
          11,
          12,
          16,
          20,
          21,
          24,
          28,
          28,
          32,
          37,
          49
         ],
         "yaxis": "y"
        },
        {
         "hoverlabel": {
          "namelength": 0
         },
         "hovertemplate": "Fylke=Trøndelag<br>variable=%{x}<br>0=%{y}",
         "legendgroup": "Trøndelag",
         "marker": {
          "color": "#B6E880",
          "symbol": "circle"
         },
         "mode": "markers+lines",
         "name": "Trøndelag",
         "showlegend": true,
         "type": "scatter",
         "x": [
          "2020-03-09T00:00:00",
          "2020-03-10T00:00:00",
          "2020-03-11T00:00:00",
          "2020-03-12T00:00:00",
          "2020-03-13T00:00:00",
          "2020-03-14T00:00:00",
          "2020-03-15T00:00:00",
          "2020-03-16T00:00:00",
          "2020-03-17T00:00:00",
          "2020-03-18T00:00:00",
          "2020-03-19T00:00:00",
          "2020-03-20T00:00:00",
          "2020-03-21T00:00:00",
          "2020-03-22T00:00:00"
         ],
         "xaxis": "x",
         "y": [
          22,
          22,
          25,
          37,
          43,
          46,
          50,
          52,
          61,
          70,
          75,
          97,
          122,
          131
         ],
         "yaxis": "y"
        },
        {
         "hoverlabel": {
          "namelength": 0
         },
         "hovertemplate": "Fylke=Vestfold og Telemark<br>variable=%{x}<br>0=%{y}",
         "legendgroup": "Vestfold og Telemark",
         "marker": {
          "color": "#FF97FF",
          "symbol": "circle"
         },
         "mode": "markers+lines",
         "name": "Vestfold og Telemark",
         "showlegend": true,
         "type": "scatter",
         "x": [
          "2020-03-09T00:00:00",
          "2020-03-10T00:00:00",
          "2020-03-11T00:00:00",
          "2020-03-12T00:00:00",
          "2020-03-13T00:00:00",
          "2020-03-14T00:00:00",
          "2020-03-15T00:00:00",
          "2020-03-16T00:00:00",
          "2020-03-17T00:00:00",
          "2020-03-18T00:00:00",
          "2020-03-19T00:00:00",
          "2020-03-20T00:00:00",
          "2020-03-21T00:00:00",
          "2020-03-22T00:00:00"
         ],
         "xaxis": "x",
         "y": [
          5,
          5,
          15,
          22,
          30,
          39,
          48,
          53,
          59,
          63,
          65,
          72,
          81,
          85
         ],
         "yaxis": "y"
        },
        {
         "hoverlabel": {
          "namelength": 0
         },
         "hovertemplate": "Fylke=Vestland<br>variable=%{x}<br>0=%{y}",
         "legendgroup": "Vestland",
         "marker": {
          "color": "#FECB52",
          "symbol": "circle"
         },
         "mode": "markers+lines",
         "name": "Vestland",
         "showlegend": true,
         "type": "scatter",
         "x": [
          "2020-03-09T00:00:00",
          "2020-03-10T00:00:00",
          "2020-03-11T00:00:00",
          "2020-03-12T00:00:00",
          "2020-03-13T00:00:00",
          "2020-03-14T00:00:00",
          "2020-03-15T00:00:00",
          "2020-03-16T00:00:00",
          "2020-03-17T00:00:00",
          "2020-03-18T00:00:00",
          "2020-03-19T00:00:00",
          "2020-03-20T00:00:00",
          "2020-03-21T00:00:00",
          "2020-03-22T00:00:00"
         ],
         "xaxis": "x",
         "y": [
          31,
          31,
          41,
          67,
          78,
          101,
          118,
          127,
          141,
          147,
          153,
          173,
          200,
          214
         ],
         "yaxis": "y"
        },
        {
         "hoverlabel": {
          "namelength": 0
         },
         "hovertemplate": "Fylke=Viken<br>variable=%{x}<br>0=%{y}",
         "legendgroup": "Viken",
         "marker": {
          "color": "#636efa",
          "symbol": "circle"
         },
         "mode": "markers+lines",
         "name": "Viken",
         "showlegend": true,
         "type": "scatter",
         "x": [
          "2020-03-09T00:00:00",
          "2020-03-10T00:00:00",
          "2020-03-11T00:00:00",
          "2020-03-12T00:00:00",
          "2020-03-13T00:00:00",
          "2020-03-14T00:00:00",
          "2020-03-15T00:00:00",
          "2020-03-16T00:00:00",
          "2020-03-17T00:00:00",
          "2020-03-18T00:00:00",
          "2020-03-19T00:00:00",
          "2020-03-20T00:00:00",
          "2020-03-21T00:00:00",
          "2020-03-22T00:00:00"
         ],
         "xaxis": "x",
         "y": [
          86,
          86,
          124,
          154,
          180,
          231,
          278,
          314,
          358,
          410,
          445,
          529,
          583,
          615
         ],
         "yaxis": "y"
        }
       ],
       "layout": {
        "legend": {
         "title": {
          "text": "Fylke"
         },
         "tracegroupgap": 0
        },
        "margin": {
         "t": 60
        },
        "template": {
         "data": {
          "bar": [
           {
            "error_x": {
             "color": "#2a3f5f"
            },
            "error_y": {
             "color": "#2a3f5f"
            },
            "marker": {
             "line": {
              "color": "#E5ECF6",
              "width": 0.5
             }
            },
            "type": "bar"
           }
          ],
          "barpolar": [
           {
            "marker": {
             "line": {
              "color": "#E5ECF6",
              "width": 0.5
             }
            },
            "type": "barpolar"
           }
          ],
          "carpet": [
           {
            "aaxis": {
             "endlinecolor": "#2a3f5f",
             "gridcolor": "white",
             "linecolor": "white",
             "minorgridcolor": "white",
             "startlinecolor": "#2a3f5f"
            },
            "baxis": {
             "endlinecolor": "#2a3f5f",
             "gridcolor": "white",
             "linecolor": "white",
             "minorgridcolor": "white",
             "startlinecolor": "#2a3f5f"
            },
            "type": "carpet"
           }
          ],
          "choropleth": [
           {
            "colorbar": {
             "outlinewidth": 0,
             "ticks": ""
            },
            "type": "choropleth"
           }
          ],
          "contour": [
           {
            "colorbar": {
             "outlinewidth": 0,
             "ticks": ""
            },
            "colorscale": [
             [
              0,
              "#0d0887"
             ],
             [
              0.1111111111111111,
              "#46039f"
             ],
             [
              0.2222222222222222,
              "#7201a8"
             ],
             [
              0.3333333333333333,
              "#9c179e"
             ],
             [
              0.4444444444444444,
              "#bd3786"
             ],
             [
              0.5555555555555556,
              "#d8576b"
             ],
             [
              0.6666666666666666,
              "#ed7953"
             ],
             [
              0.7777777777777778,
              "#fb9f3a"
             ],
             [
              0.8888888888888888,
              "#fdca26"
             ],
             [
              1,
              "#f0f921"
             ]
            ],
            "type": "contour"
           }
          ],
          "contourcarpet": [
           {
            "colorbar": {
             "outlinewidth": 0,
             "ticks": ""
            },
            "type": "contourcarpet"
           }
          ],
          "heatmap": [
           {
            "colorbar": {
             "outlinewidth": 0,
             "ticks": ""
            },
            "colorscale": [
             [
              0,
              "#0d0887"
             ],
             [
              0.1111111111111111,
              "#46039f"
             ],
             [
              0.2222222222222222,
              "#7201a8"
             ],
             [
              0.3333333333333333,
              "#9c179e"
             ],
             [
              0.4444444444444444,
              "#bd3786"
             ],
             [
              0.5555555555555556,
              "#d8576b"
             ],
             [
              0.6666666666666666,
              "#ed7953"
             ],
             [
              0.7777777777777778,
              "#fb9f3a"
             ],
             [
              0.8888888888888888,
              "#fdca26"
             ],
             [
              1,
              "#f0f921"
             ]
            ],
            "type": "heatmap"
           }
          ],
          "heatmapgl": [
           {
            "colorbar": {
             "outlinewidth": 0,
             "ticks": ""
            },
            "colorscale": [
             [
              0,
              "#0d0887"
             ],
             [
              0.1111111111111111,
              "#46039f"
             ],
             [
              0.2222222222222222,
              "#7201a8"
             ],
             [
              0.3333333333333333,
              "#9c179e"
             ],
             [
              0.4444444444444444,
              "#bd3786"
             ],
             [
              0.5555555555555556,
              "#d8576b"
             ],
             [
              0.6666666666666666,
              "#ed7953"
             ],
             [
              0.7777777777777778,
              "#fb9f3a"
             ],
             [
              0.8888888888888888,
              "#fdca26"
             ],
             [
              1,
              "#f0f921"
             ]
            ],
            "type": "heatmapgl"
           }
          ],
          "histogram": [
           {
            "marker": {
             "colorbar": {
              "outlinewidth": 0,
              "ticks": ""
             }
            },
            "type": "histogram"
           }
          ],
          "histogram2d": [
           {
            "colorbar": {
             "outlinewidth": 0,
             "ticks": ""
            },
            "colorscale": [
             [
              0,
              "#0d0887"
             ],
             [
              0.1111111111111111,
              "#46039f"
             ],
             [
              0.2222222222222222,
              "#7201a8"
             ],
             [
              0.3333333333333333,
              "#9c179e"
             ],
             [
              0.4444444444444444,
              "#bd3786"
             ],
             [
              0.5555555555555556,
              "#d8576b"
             ],
             [
              0.6666666666666666,
              "#ed7953"
             ],
             [
              0.7777777777777778,
              "#fb9f3a"
             ],
             [
              0.8888888888888888,
              "#fdca26"
             ],
             [
              1,
              "#f0f921"
             ]
            ],
            "type": "histogram2d"
           }
          ],
          "histogram2dcontour": [
           {
            "colorbar": {
             "outlinewidth": 0,
             "ticks": ""
            },
            "colorscale": [
             [
              0,
              "#0d0887"
             ],
             [
              0.1111111111111111,
              "#46039f"
             ],
             [
              0.2222222222222222,
              "#7201a8"
             ],
             [
              0.3333333333333333,
              "#9c179e"
             ],
             [
              0.4444444444444444,
              "#bd3786"
             ],
             [
              0.5555555555555556,
              "#d8576b"
             ],
             [
              0.6666666666666666,
              "#ed7953"
             ],
             [
              0.7777777777777778,
              "#fb9f3a"
             ],
             [
              0.8888888888888888,
              "#fdca26"
             ],
             [
              1,
              "#f0f921"
             ]
            ],
            "type": "histogram2dcontour"
           }
          ],
          "mesh3d": [
           {
            "colorbar": {
             "outlinewidth": 0,
             "ticks": ""
            },
            "type": "mesh3d"
           }
          ],
          "parcoords": [
           {
            "line": {
             "colorbar": {
              "outlinewidth": 0,
              "ticks": ""
             }
            },
            "type": "parcoords"
           }
          ],
          "pie": [
           {
            "automargin": true,
            "type": "pie"
           }
          ],
          "scatter": [
           {
            "marker": {
             "colorbar": {
              "outlinewidth": 0,
              "ticks": ""
             }
            },
            "type": "scatter"
           }
          ],
          "scatter3d": [
           {
            "line": {
             "colorbar": {
              "outlinewidth": 0,
              "ticks": ""
             }
            },
            "marker": {
             "colorbar": {
              "outlinewidth": 0,
              "ticks": ""
             }
            },
            "type": "scatter3d"
           }
          ],
          "scattercarpet": [
           {
            "marker": {
             "colorbar": {
              "outlinewidth": 0,
              "ticks": ""
             }
            },
            "type": "scattercarpet"
           }
          ],
          "scattergeo": [
           {
            "marker": {
             "colorbar": {
              "outlinewidth": 0,
              "ticks": ""
             }
            },
            "type": "scattergeo"
           }
          ],
          "scattergl": [
           {
            "marker": {
             "colorbar": {
              "outlinewidth": 0,
              "ticks": ""
             }
            },
            "type": "scattergl"
           }
          ],
          "scattermapbox": [
           {
            "marker": {
             "colorbar": {
              "outlinewidth": 0,
              "ticks": ""
             }
            },
            "type": "scattermapbox"
           }
          ],
          "scatterpolar": [
           {
            "marker": {
             "colorbar": {
              "outlinewidth": 0,
              "ticks": ""
             }
            },
            "type": "scatterpolar"
           }
          ],
          "scatterpolargl": [
           {
            "marker": {
             "colorbar": {
              "outlinewidth": 0,
              "ticks": ""
             }
            },
            "type": "scatterpolargl"
           }
          ],
          "scatterternary": [
           {
            "marker": {
             "colorbar": {
              "outlinewidth": 0,
              "ticks": ""
             }
            },
            "type": "scatterternary"
           }
          ],
          "surface": [
           {
            "colorbar": {
             "outlinewidth": 0,
             "ticks": ""
            },
            "colorscale": [
             [
              0,
              "#0d0887"
             ],
             [
              0.1111111111111111,
              "#46039f"
             ],
             [
              0.2222222222222222,
              "#7201a8"
             ],
             [
              0.3333333333333333,
              "#9c179e"
             ],
             [
              0.4444444444444444,
              "#bd3786"
             ],
             [
              0.5555555555555556,
              "#d8576b"
             ],
             [
              0.6666666666666666,
              "#ed7953"
             ],
             [
              0.7777777777777778,
              "#fb9f3a"
             ],
             [
              0.8888888888888888,
              "#fdca26"
             ],
             [
              1,
              "#f0f921"
             ]
            ],
            "type": "surface"
           }
          ],
          "table": [
           {
            "cells": {
             "fill": {
              "color": "#EBF0F8"
             },
             "line": {
              "color": "white"
             }
            },
            "header": {
             "fill": {
              "color": "#C8D4E3"
             },
             "line": {
              "color": "white"
             }
            },
            "type": "table"
           }
          ]
         },
         "layout": {
          "annotationdefaults": {
           "arrowcolor": "#2a3f5f",
           "arrowhead": 0,
           "arrowwidth": 1
          },
          "coloraxis": {
           "colorbar": {
            "outlinewidth": 0,
            "ticks": ""
           }
          },
          "colorscale": {
           "diverging": [
            [
             0,
             "#8e0152"
            ],
            [
             0.1,
             "#c51b7d"
            ],
            [
             0.2,
             "#de77ae"
            ],
            [
             0.3,
             "#f1b6da"
            ],
            [
             0.4,
             "#fde0ef"
            ],
            [
             0.5,
             "#f7f7f7"
            ],
            [
             0.6,
             "#e6f5d0"
            ],
            [
             0.7,
             "#b8e186"
            ],
            [
             0.8,
             "#7fbc41"
            ],
            [
             0.9,
             "#4d9221"
            ],
            [
             1,
             "#276419"
            ]
           ],
           "sequential": [
            [
             0,
             "#0d0887"
            ],
            [
             0.1111111111111111,
             "#46039f"
            ],
            [
             0.2222222222222222,
             "#7201a8"
            ],
            [
             0.3333333333333333,
             "#9c179e"
            ],
            [
             0.4444444444444444,
             "#bd3786"
            ],
            [
             0.5555555555555556,
             "#d8576b"
            ],
            [
             0.6666666666666666,
             "#ed7953"
            ],
            [
             0.7777777777777778,
             "#fb9f3a"
            ],
            [
             0.8888888888888888,
             "#fdca26"
            ],
            [
             1,
             "#f0f921"
            ]
           ],
           "sequentialminus": [
            [
             0,
             "#0d0887"
            ],
            [
             0.1111111111111111,
             "#46039f"
            ],
            [
             0.2222222222222222,
             "#7201a8"
            ],
            [
             0.3333333333333333,
             "#9c179e"
            ],
            [
             0.4444444444444444,
             "#bd3786"
            ],
            [
             0.5555555555555556,
             "#d8576b"
            ],
            [
             0.6666666666666666,
             "#ed7953"
            ],
            [
             0.7777777777777778,
             "#fb9f3a"
            ],
            [
             0.8888888888888888,
             "#fdca26"
            ],
            [
             1,
             "#f0f921"
            ]
           ]
          },
          "colorway": [
           "#636efa",
           "#EF553B",
           "#00cc96",
           "#ab63fa",
           "#FFA15A",
           "#19d3f3",
           "#FF6692",
           "#B6E880",
           "#FF97FF",
           "#FECB52"
          ],
          "font": {
           "color": "#2a3f5f"
          },
          "geo": {
           "bgcolor": "white",
           "lakecolor": "white",
           "landcolor": "#E5ECF6",
           "showlakes": true,
           "showland": true,
           "subunitcolor": "white"
          },
          "hoverlabel": {
           "align": "left"
          },
          "hovermode": "closest",
          "mapbox": {
           "style": "light"
          },
          "paper_bgcolor": "white",
          "plot_bgcolor": "#E5ECF6",
          "polar": {
           "angularaxis": {
            "gridcolor": "white",
            "linecolor": "white",
            "ticks": ""
           },
           "bgcolor": "#E5ECF6",
           "radialaxis": {
            "gridcolor": "white",
            "linecolor": "white",
            "ticks": ""
           }
          },
          "scene": {
           "xaxis": {
            "backgroundcolor": "#E5ECF6",
            "gridcolor": "white",
            "gridwidth": 2,
            "linecolor": "white",
            "showbackground": true,
            "ticks": "",
            "zerolinecolor": "white"
           },
           "yaxis": {
            "backgroundcolor": "#E5ECF6",
            "gridcolor": "white",
            "gridwidth": 2,
            "linecolor": "white",
            "showbackground": true,
            "ticks": "",
            "zerolinecolor": "white"
           },
           "zaxis": {
            "backgroundcolor": "#E5ECF6",
            "gridcolor": "white",
            "gridwidth": 2,
            "linecolor": "white",
            "showbackground": true,
            "ticks": "",
            "zerolinecolor": "white"
           }
          },
          "shapedefaults": {
           "line": {
            "color": "#2a3f5f"
           }
          },
          "ternary": {
           "aaxis": {
            "gridcolor": "white",
            "linecolor": "white",
            "ticks": ""
           },
           "baxis": {
            "gridcolor": "white",
            "linecolor": "white",
            "ticks": ""
           },
           "bgcolor": "#E5ECF6",
           "caxis": {
            "gridcolor": "white",
            "linecolor": "white",
            "ticks": ""
           }
          },
          "title": {
           "x": 0.05
          },
          "xaxis": {
           "automargin": true,
           "gridcolor": "white",
           "linecolor": "white",
           "ticks": "",
           "title": {
            "standoff": 15
           },
           "zerolinecolor": "white",
           "zerolinewidth": 2
          },
          "yaxis": {
           "automargin": true,
           "gridcolor": "white",
           "linecolor": "white",
           "ticks": "",
           "title": {
            "standoff": 15
           },
           "zerolinecolor": "white",
           "zerolinewidth": 2
          }
         }
        },
        "xaxis": {
         "anchor": "y",
         "domain": [
          0,
          1
         ],
         "title": {
          "text": "variable"
         }
        },
        "yaxis": {
         "anchor": "x",
         "domain": [
          0,
          1
         ],
         "title": {
          "text": "0"
         }
        }
       }
      },
      "text/html": [
       "<div>\n",
       "        \n",
       "        \n",
       "            <div id=\"2ddeee20-8317-4089-839d-4c4b5a50fd0a\" class=\"plotly-graph-div\" style=\"height:525px; width:100%;\"></div>\n",
       "            <script type=\"text/javascript\">\n",
       "                require([\"plotly\"], function(Plotly) {\n",
       "                    window.PLOTLYENV=window.PLOTLYENV || {};\n",
       "                    \n",
       "                if (document.getElementById(\"2ddeee20-8317-4089-839d-4c4b5a50fd0a\")) {\n",
       "                    Plotly.newPlot(\n",
       "                        '2ddeee20-8317-4089-839d-4c4b5a50fd0a',\n",
       "                        [{\"hoverlabel\": {\"namelength\": 0}, \"hovertemplate\": \"Fylke=Agder<br>variable=%{x}<br>0=%{y}\", \"legendgroup\": \"Agder\", \"marker\": {\"color\": \"#636efa\", \"symbol\": \"circle\"}, \"mode\": \"markers+lines\", \"name\": \"Agder\", \"showlegend\": true, \"type\": \"scatter\", \"x\": [\"2020-03-09T00:00:00\", \"2020-03-10T00:00:00\", \"2020-03-11T00:00:00\", \"2020-03-12T00:00:00\", \"2020-03-13T00:00:00\", \"2020-03-14T00:00:00\", \"2020-03-15T00:00:00\", \"2020-03-16T00:00:00\", \"2020-03-17T00:00:00\", \"2020-03-18T00:00:00\", \"2020-03-19T00:00:00\", \"2020-03-20T00:00:00\", \"2020-03-21T00:00:00\", \"2020-03-22T00:00:00\"], \"xaxis\": \"x\", \"y\": [19, 19, 20, 32, 34, 52, 55, 67, 67, 67, 75, 79, 82, 91], \"yaxis\": \"y\"}, {\"hoverlabel\": {\"namelength\": 0}, \"hovertemplate\": \"Fylke=Innlandet<br>variable=%{x}<br>0=%{y}\", \"legendgroup\": \"Innlandet\", \"marker\": {\"color\": \"#EF553B\", \"symbol\": \"circle\"}, \"mode\": \"markers+lines\", \"name\": \"Innlandet\", \"showlegend\": true, \"type\": \"scatter\", \"x\": [\"2020-03-09T00:00:00\", \"2020-03-10T00:00:00\", \"2020-03-11T00:00:00\", \"2020-03-12T00:00:00\", \"2020-03-13T00:00:00\", \"2020-03-14T00:00:00\", \"2020-03-15T00:00:00\", \"2020-03-16T00:00:00\", \"2020-03-17T00:00:00\", \"2020-03-18T00:00:00\", \"2020-03-19T00:00:00\", \"2020-03-20T00:00:00\", \"2020-03-21T00:00:00\", \"2020-03-22T00:00:00\"], \"xaxis\": \"x\", \"y\": [16, 16, 23, 40, 49, 57, 72, 81, 88, 97, 105, 115, 125, 148], \"yaxis\": \"y\"}, {\"hoverlabel\": {\"namelength\": 0}, \"hovertemplate\": \"Fylke=M\\u00f8re og Romsdal<br>variable=%{x}<br>0=%{y}\", \"legendgroup\": \"M\\u00f8re og Romsdal\", \"marker\": {\"color\": \"#00cc96\", \"symbol\": \"circle\"}, \"mode\": \"markers+lines\", \"name\": \"M\\u00f8re og Romsdal\", \"showlegend\": true, \"type\": \"scatter\", \"x\": [\"2020-03-09T00:00:00\", \"2020-03-10T00:00:00\", \"2020-03-11T00:00:00\", \"2020-03-12T00:00:00\", \"2020-03-13T00:00:00\", \"2020-03-14T00:00:00\", \"2020-03-15T00:00:00\", \"2020-03-16T00:00:00\", \"2020-03-17T00:00:00\", \"2020-03-18T00:00:00\", \"2020-03-19T00:00:00\", \"2020-03-20T00:00:00\", \"2020-03-21T00:00:00\", \"2020-03-22T00:00:00\"], \"xaxis\": \"x\", \"y\": [5, 5, 7, 6, 7, 16, 20, 20, 20, 20, 25, 29, 32, 38], \"yaxis\": \"y\"}, {\"hoverlabel\": {\"namelength\": 0}, \"hovertemplate\": \"Fylke=Nordland<br>variable=%{x}<br>0=%{y}\", \"legendgroup\": \"Nordland\", \"marker\": {\"color\": \"#ab63fa\", \"symbol\": \"circle\"}, \"mode\": \"markers+lines\", \"name\": \"Nordland\", \"showlegend\": true, \"type\": \"scatter\", \"x\": [\"2020-03-09T00:00:00\", \"2020-03-10T00:00:00\", \"2020-03-11T00:00:00\", \"2020-03-12T00:00:00\", \"2020-03-13T00:00:00\", \"2020-03-14T00:00:00\", \"2020-03-15T00:00:00\", \"2020-03-16T00:00:00\", \"2020-03-17T00:00:00\", \"2020-03-18T00:00:00\", \"2020-03-19T00:00:00\", \"2020-03-20T00:00:00\", \"2020-03-21T00:00:00\", \"2020-03-22T00:00:00\"], \"xaxis\": \"x\", \"y\": [3, 3, 3, 4, 5, 8, 8, 11, 11, 12, 13, 17, 17, 19], \"yaxis\": \"y\"}, {\"hoverlabel\": {\"namelength\": 0}, \"hovertemplate\": \"Fylke=Oslo<br>variable=%{x}<br>0=%{y}\", \"legendgroup\": \"Oslo\", \"marker\": {\"color\": \"#FFA15A\", \"symbol\": \"circle\"}, \"mode\": \"markers+lines\", \"name\": \"Oslo\", \"showlegend\": true, \"type\": \"scatter\", \"x\": [\"2020-03-09T00:00:00\", \"2020-03-10T00:00:00\", \"2020-03-11T00:00:00\", \"2020-03-12T00:00:00\", \"2020-03-13T00:00:00\", \"2020-03-14T00:00:00\", \"2020-03-15T00:00:00\", \"2020-03-16T00:00:00\", \"2020-03-17T00:00:00\", \"2020-03-18T00:00:00\", \"2020-03-19T00:00:00\", \"2020-03-20T00:00:00\", \"2020-03-21T00:00:00\", \"2020-03-22T00:00:00\"], \"xaxis\": \"x\", \"y\": [51, 51, 123, 166, 207, 222, 281, 292, 329, 348, 392, 419, 448, 523], \"yaxis\": \"y\"}, {\"hoverlabel\": {\"namelength\": 0}, \"hovertemplate\": \"Fylke=Rogaland<br>variable=%{x}<br>0=%{y}\", \"legendgroup\": \"Rogaland\", \"marker\": {\"color\": \"#19d3f3\", \"symbol\": \"circle\"}, \"mode\": \"markers+lines\", \"name\": \"Rogaland\", \"showlegend\": true, \"type\": \"scatter\", \"x\": [\"2020-03-09T00:00:00\", \"2020-03-10T00:00:00\", \"2020-03-11T00:00:00\", \"2020-03-12T00:00:00\", \"2020-03-13T00:00:00\", \"2020-03-14T00:00:00\", \"2020-03-15T00:00:00\", \"2020-03-16T00:00:00\", \"2020-03-17T00:00:00\", \"2020-03-18T00:00:00\", \"2020-03-19T00:00:00\", \"2020-03-20T00:00:00\", \"2020-03-21T00:00:00\", \"2020-03-22T00:00:00\"], \"xaxis\": \"x\", \"y\": [33, 33, 71, 82, 105, 119, 127, 131, 150, 161, 176, 180, 199, 219], \"yaxis\": \"y\"}, {\"hoverlabel\": {\"namelength\": 0}, \"hovertemplate\": \"Fylke=Troms og Finnmark<br>variable=%{x}<br>0=%{y}\", \"legendgroup\": \"Troms og Finnmark\", \"marker\": {\"color\": \"#FF6692\", \"symbol\": \"circle\"}, \"mode\": \"markers+lines\", \"name\": \"Troms og Finnmark\", \"showlegend\": true, \"type\": \"scatter\", \"x\": [\"2020-03-09T00:00:00\", \"2020-03-10T00:00:00\", \"2020-03-11T00:00:00\", \"2020-03-12T00:00:00\", \"2020-03-13T00:00:00\", \"2020-03-14T00:00:00\", \"2020-03-15T00:00:00\", \"2020-03-16T00:00:00\", \"2020-03-17T00:00:00\", \"2020-03-18T00:00:00\", \"2020-03-19T00:00:00\", \"2020-03-20T00:00:00\", \"2020-03-21T00:00:00\", \"2020-03-22T00:00:00\"], \"xaxis\": \"x\", \"y\": [6, 6, 7, 11, 12, 16, 20, 21, 24, 28, 28, 32, 37, 49], \"yaxis\": \"y\"}, {\"hoverlabel\": {\"namelength\": 0}, \"hovertemplate\": \"Fylke=Tr\\u00f8ndelag<br>variable=%{x}<br>0=%{y}\", \"legendgroup\": \"Tr\\u00f8ndelag\", \"marker\": {\"color\": \"#B6E880\", \"symbol\": \"circle\"}, \"mode\": \"markers+lines\", \"name\": \"Tr\\u00f8ndelag\", \"showlegend\": true, \"type\": \"scatter\", \"x\": [\"2020-03-09T00:00:00\", \"2020-03-10T00:00:00\", \"2020-03-11T00:00:00\", \"2020-03-12T00:00:00\", \"2020-03-13T00:00:00\", \"2020-03-14T00:00:00\", \"2020-03-15T00:00:00\", \"2020-03-16T00:00:00\", \"2020-03-17T00:00:00\", \"2020-03-18T00:00:00\", \"2020-03-19T00:00:00\", \"2020-03-20T00:00:00\", \"2020-03-21T00:00:00\", \"2020-03-22T00:00:00\"], \"xaxis\": \"x\", \"y\": [22, 22, 25, 37, 43, 46, 50, 52, 61, 70, 75, 97, 122, 131], \"yaxis\": \"y\"}, {\"hoverlabel\": {\"namelength\": 0}, \"hovertemplate\": \"Fylke=Vestfold og Telemark<br>variable=%{x}<br>0=%{y}\", \"legendgroup\": \"Vestfold og Telemark\", \"marker\": {\"color\": \"#FF97FF\", \"symbol\": \"circle\"}, \"mode\": \"markers+lines\", \"name\": \"Vestfold og Telemark\", \"showlegend\": true, \"type\": \"scatter\", \"x\": [\"2020-03-09T00:00:00\", \"2020-03-10T00:00:00\", \"2020-03-11T00:00:00\", \"2020-03-12T00:00:00\", \"2020-03-13T00:00:00\", \"2020-03-14T00:00:00\", \"2020-03-15T00:00:00\", \"2020-03-16T00:00:00\", \"2020-03-17T00:00:00\", \"2020-03-18T00:00:00\", \"2020-03-19T00:00:00\", \"2020-03-20T00:00:00\", \"2020-03-21T00:00:00\", \"2020-03-22T00:00:00\"], \"xaxis\": \"x\", \"y\": [5, 5, 15, 22, 30, 39, 48, 53, 59, 63, 65, 72, 81, 85], \"yaxis\": \"y\"}, {\"hoverlabel\": {\"namelength\": 0}, \"hovertemplate\": \"Fylke=Vestland<br>variable=%{x}<br>0=%{y}\", \"legendgroup\": \"Vestland\", \"marker\": {\"color\": \"#FECB52\", \"symbol\": \"circle\"}, \"mode\": \"markers+lines\", \"name\": \"Vestland\", \"showlegend\": true, \"type\": \"scatter\", \"x\": [\"2020-03-09T00:00:00\", \"2020-03-10T00:00:00\", \"2020-03-11T00:00:00\", \"2020-03-12T00:00:00\", \"2020-03-13T00:00:00\", \"2020-03-14T00:00:00\", \"2020-03-15T00:00:00\", \"2020-03-16T00:00:00\", \"2020-03-17T00:00:00\", \"2020-03-18T00:00:00\", \"2020-03-19T00:00:00\", \"2020-03-20T00:00:00\", \"2020-03-21T00:00:00\", \"2020-03-22T00:00:00\"], \"xaxis\": \"x\", \"y\": [31, 31, 41, 67, 78, 101, 118, 127, 141, 147, 153, 173, 200, 214], \"yaxis\": \"y\"}, {\"hoverlabel\": {\"namelength\": 0}, \"hovertemplate\": \"Fylke=Viken<br>variable=%{x}<br>0=%{y}\", \"legendgroup\": \"Viken\", \"marker\": {\"color\": \"#636efa\", \"symbol\": \"circle\"}, \"mode\": \"markers+lines\", \"name\": \"Viken\", \"showlegend\": true, \"type\": \"scatter\", \"x\": [\"2020-03-09T00:00:00\", \"2020-03-10T00:00:00\", \"2020-03-11T00:00:00\", \"2020-03-12T00:00:00\", \"2020-03-13T00:00:00\", \"2020-03-14T00:00:00\", \"2020-03-15T00:00:00\", \"2020-03-16T00:00:00\", \"2020-03-17T00:00:00\", \"2020-03-18T00:00:00\", \"2020-03-19T00:00:00\", \"2020-03-20T00:00:00\", \"2020-03-21T00:00:00\", \"2020-03-22T00:00:00\"], \"xaxis\": \"x\", \"y\": [86, 86, 124, 154, 180, 231, 278, 314, 358, 410, 445, 529, 583, 615], \"yaxis\": \"y\"}],\n",
       "                        {\"legend\": {\"title\": {\"text\": \"Fylke\"}, \"tracegroupgap\": 0}, \"margin\": {\"t\": 60}, \"template\": {\"data\": {\"bar\": [{\"error_x\": {\"color\": \"#2a3f5f\"}, \"error_y\": {\"color\": \"#2a3f5f\"}, \"marker\": {\"line\": {\"color\": \"#E5ECF6\", \"width\": 0.5}}, \"type\": \"bar\"}], \"barpolar\": [{\"marker\": {\"line\": {\"color\": \"#E5ECF6\", \"width\": 0.5}}, \"type\": \"barpolar\"}], \"carpet\": [{\"aaxis\": {\"endlinecolor\": \"#2a3f5f\", \"gridcolor\": \"white\", \"linecolor\": \"white\", \"minorgridcolor\": \"white\", \"startlinecolor\": \"#2a3f5f\"}, \"baxis\": {\"endlinecolor\": \"#2a3f5f\", \"gridcolor\": \"white\", \"linecolor\": \"white\", \"minorgridcolor\": \"white\", \"startlinecolor\": \"#2a3f5f\"}, \"type\": \"carpet\"}], \"choropleth\": [{\"colorbar\": {\"outlinewidth\": 0, \"ticks\": \"\"}, \"type\": \"choropleth\"}], \"contour\": [{\"colorbar\": {\"outlinewidth\": 0, \"ticks\": \"\"}, \"colorscale\": [[0.0, \"#0d0887\"], [0.1111111111111111, \"#46039f\"], [0.2222222222222222, \"#7201a8\"], [0.3333333333333333, \"#9c179e\"], [0.4444444444444444, \"#bd3786\"], [0.5555555555555556, \"#d8576b\"], [0.6666666666666666, \"#ed7953\"], [0.7777777777777778, \"#fb9f3a\"], [0.8888888888888888, \"#fdca26\"], [1.0, \"#f0f921\"]], \"type\": \"contour\"}], \"contourcarpet\": [{\"colorbar\": {\"outlinewidth\": 0, \"ticks\": \"\"}, \"type\": \"contourcarpet\"}], \"heatmap\": [{\"colorbar\": {\"outlinewidth\": 0, \"ticks\": \"\"}, \"colorscale\": [[0.0, \"#0d0887\"], [0.1111111111111111, \"#46039f\"], [0.2222222222222222, \"#7201a8\"], [0.3333333333333333, \"#9c179e\"], [0.4444444444444444, \"#bd3786\"], [0.5555555555555556, \"#d8576b\"], [0.6666666666666666, \"#ed7953\"], [0.7777777777777778, \"#fb9f3a\"], [0.8888888888888888, \"#fdca26\"], [1.0, \"#f0f921\"]], \"type\": \"heatmap\"}], \"heatmapgl\": [{\"colorbar\": {\"outlinewidth\": 0, \"ticks\": \"\"}, \"colorscale\": [[0.0, \"#0d0887\"], [0.1111111111111111, \"#46039f\"], [0.2222222222222222, \"#7201a8\"], [0.3333333333333333, \"#9c179e\"], [0.4444444444444444, \"#bd3786\"], [0.5555555555555556, \"#d8576b\"], [0.6666666666666666, \"#ed7953\"], [0.7777777777777778, \"#fb9f3a\"], [0.8888888888888888, \"#fdca26\"], [1.0, \"#f0f921\"]], \"type\": \"heatmapgl\"}], \"histogram\": [{\"marker\": {\"colorbar\": {\"outlinewidth\": 0, \"ticks\": \"\"}}, \"type\": \"histogram\"}], \"histogram2d\": [{\"colorbar\": {\"outlinewidth\": 0, \"ticks\": \"\"}, \"colorscale\": [[0.0, \"#0d0887\"], [0.1111111111111111, \"#46039f\"], [0.2222222222222222, \"#7201a8\"], [0.3333333333333333, \"#9c179e\"], [0.4444444444444444, \"#bd3786\"], [0.5555555555555556, \"#d8576b\"], [0.6666666666666666, \"#ed7953\"], [0.7777777777777778, \"#fb9f3a\"], [0.8888888888888888, \"#fdca26\"], [1.0, \"#f0f921\"]], \"type\": \"histogram2d\"}], \"histogram2dcontour\": [{\"colorbar\": {\"outlinewidth\": 0, \"ticks\": \"\"}, \"colorscale\": [[0.0, \"#0d0887\"], [0.1111111111111111, \"#46039f\"], [0.2222222222222222, \"#7201a8\"], [0.3333333333333333, \"#9c179e\"], [0.4444444444444444, \"#bd3786\"], [0.5555555555555556, \"#d8576b\"], [0.6666666666666666, \"#ed7953\"], [0.7777777777777778, \"#fb9f3a\"], [0.8888888888888888, \"#fdca26\"], [1.0, \"#f0f921\"]], \"type\": \"histogram2dcontour\"}], \"mesh3d\": [{\"colorbar\": {\"outlinewidth\": 0, \"ticks\": \"\"}, \"type\": \"mesh3d\"}], \"parcoords\": [{\"line\": {\"colorbar\": {\"outlinewidth\": 0, \"ticks\": \"\"}}, \"type\": \"parcoords\"}], \"pie\": [{\"automargin\": true, \"type\": \"pie\"}], \"scatter\": [{\"marker\": {\"colorbar\": {\"outlinewidth\": 0, \"ticks\": \"\"}}, \"type\": \"scatter\"}], \"scatter3d\": [{\"line\": {\"colorbar\": {\"outlinewidth\": 0, \"ticks\": \"\"}}, \"marker\": {\"colorbar\": {\"outlinewidth\": 0, \"ticks\": \"\"}}, \"type\": \"scatter3d\"}], \"scattercarpet\": [{\"marker\": {\"colorbar\": {\"outlinewidth\": 0, \"ticks\": \"\"}}, \"type\": \"scattercarpet\"}], \"scattergeo\": [{\"marker\": {\"colorbar\": {\"outlinewidth\": 0, \"ticks\": \"\"}}, \"type\": \"scattergeo\"}], \"scattergl\": [{\"marker\": {\"colorbar\": {\"outlinewidth\": 0, \"ticks\": \"\"}}, \"type\": \"scattergl\"}], \"scattermapbox\": [{\"marker\": {\"colorbar\": {\"outlinewidth\": 0, \"ticks\": \"\"}}, \"type\": \"scattermapbox\"}], \"scatterpolar\": [{\"marker\": {\"colorbar\": {\"outlinewidth\": 0, \"ticks\": \"\"}}, \"type\": \"scatterpolar\"}], \"scatterpolargl\": [{\"marker\": {\"colorbar\": {\"outlinewidth\": 0, \"ticks\": \"\"}}, \"type\": \"scatterpolargl\"}], \"scatterternary\": [{\"marker\": {\"colorbar\": {\"outlinewidth\": 0, \"ticks\": \"\"}}, \"type\": \"scatterternary\"}], \"surface\": [{\"colorbar\": {\"outlinewidth\": 0, \"ticks\": \"\"}, \"colorscale\": [[0.0, \"#0d0887\"], [0.1111111111111111, \"#46039f\"], [0.2222222222222222, \"#7201a8\"], [0.3333333333333333, \"#9c179e\"], [0.4444444444444444, \"#bd3786\"], [0.5555555555555556, \"#d8576b\"], [0.6666666666666666, \"#ed7953\"], [0.7777777777777778, \"#fb9f3a\"], [0.8888888888888888, \"#fdca26\"], [1.0, \"#f0f921\"]], \"type\": \"surface\"}], \"table\": [{\"cells\": {\"fill\": {\"color\": \"#EBF0F8\"}, \"line\": {\"color\": \"white\"}}, \"header\": {\"fill\": {\"color\": \"#C8D4E3\"}, \"line\": {\"color\": \"white\"}}, \"type\": \"table\"}]}, \"layout\": {\"annotationdefaults\": {\"arrowcolor\": \"#2a3f5f\", \"arrowhead\": 0, \"arrowwidth\": 1}, \"coloraxis\": {\"colorbar\": {\"outlinewidth\": 0, \"ticks\": \"\"}}, \"colorscale\": {\"diverging\": [[0, \"#8e0152\"], [0.1, \"#c51b7d\"], [0.2, \"#de77ae\"], [0.3, \"#f1b6da\"], [0.4, \"#fde0ef\"], [0.5, \"#f7f7f7\"], [0.6, \"#e6f5d0\"], [0.7, \"#b8e186\"], [0.8, \"#7fbc41\"], [0.9, \"#4d9221\"], [1, \"#276419\"]], \"sequential\": [[0.0, \"#0d0887\"], [0.1111111111111111, \"#46039f\"], [0.2222222222222222, \"#7201a8\"], [0.3333333333333333, \"#9c179e\"], [0.4444444444444444, \"#bd3786\"], [0.5555555555555556, \"#d8576b\"], [0.6666666666666666, \"#ed7953\"], [0.7777777777777778, \"#fb9f3a\"], [0.8888888888888888, \"#fdca26\"], [1.0, \"#f0f921\"]], \"sequentialminus\": [[0.0, \"#0d0887\"], [0.1111111111111111, \"#46039f\"], [0.2222222222222222, \"#7201a8\"], [0.3333333333333333, \"#9c179e\"], [0.4444444444444444, \"#bd3786\"], [0.5555555555555556, \"#d8576b\"], [0.6666666666666666, \"#ed7953\"], [0.7777777777777778, \"#fb9f3a\"], [0.8888888888888888, \"#fdca26\"], [1.0, \"#f0f921\"]]}, \"colorway\": [\"#636efa\", \"#EF553B\", \"#00cc96\", \"#ab63fa\", \"#FFA15A\", \"#19d3f3\", \"#FF6692\", \"#B6E880\", \"#FF97FF\", \"#FECB52\"], \"font\": {\"color\": \"#2a3f5f\"}, \"geo\": {\"bgcolor\": \"white\", \"lakecolor\": \"white\", \"landcolor\": \"#E5ECF6\", \"showlakes\": true, \"showland\": true, \"subunitcolor\": \"white\"}, \"hoverlabel\": {\"align\": \"left\"}, \"hovermode\": \"closest\", \"mapbox\": {\"style\": \"light\"}, \"paper_bgcolor\": \"white\", \"plot_bgcolor\": \"#E5ECF6\", \"polar\": {\"angularaxis\": {\"gridcolor\": \"white\", \"linecolor\": \"white\", \"ticks\": \"\"}, \"bgcolor\": \"#E5ECF6\", \"radialaxis\": {\"gridcolor\": \"white\", \"linecolor\": \"white\", \"ticks\": \"\"}}, \"scene\": {\"xaxis\": {\"backgroundcolor\": \"#E5ECF6\", \"gridcolor\": \"white\", \"gridwidth\": 2, \"linecolor\": \"white\", \"showbackground\": true, \"ticks\": \"\", \"zerolinecolor\": \"white\"}, \"yaxis\": {\"backgroundcolor\": \"#E5ECF6\", \"gridcolor\": \"white\", \"gridwidth\": 2, \"linecolor\": \"white\", \"showbackground\": true, \"ticks\": \"\", \"zerolinecolor\": \"white\"}, \"zaxis\": {\"backgroundcolor\": \"#E5ECF6\", \"gridcolor\": \"white\", \"gridwidth\": 2, \"linecolor\": \"white\", \"showbackground\": true, \"ticks\": \"\", \"zerolinecolor\": \"white\"}}, \"shapedefaults\": {\"line\": {\"color\": \"#2a3f5f\"}}, \"ternary\": {\"aaxis\": {\"gridcolor\": \"white\", \"linecolor\": \"white\", \"ticks\": \"\"}, \"baxis\": {\"gridcolor\": \"white\", \"linecolor\": \"white\", \"ticks\": \"\"}, \"bgcolor\": \"#E5ECF6\", \"caxis\": {\"gridcolor\": \"white\", \"linecolor\": \"white\", \"ticks\": \"\"}}, \"title\": {\"x\": 0.05}, \"xaxis\": {\"automargin\": true, \"gridcolor\": \"white\", \"linecolor\": \"white\", \"ticks\": \"\", \"title\": {\"standoff\": 15}, \"zerolinecolor\": \"white\", \"zerolinewidth\": 2}, \"yaxis\": {\"automargin\": true, \"gridcolor\": \"white\", \"linecolor\": \"white\", \"ticks\": \"\", \"title\": {\"standoff\": 15}, \"zerolinecolor\": \"white\", \"zerolinewidth\": 2}}}, \"xaxis\": {\"anchor\": \"y\", \"domain\": [0.0, 1.0], \"title\": {\"text\": \"variable\"}}, \"yaxis\": {\"anchor\": \"x\", \"domain\": [0.0, 1.0], \"title\": {\"text\": \"0\"}}},\n",
       "                        {\"responsive\": true}\n",
       "                    ).then(function(){\n",
       "                            \n",
       "var gd = document.getElementById('2ddeee20-8317-4089-839d-4c4b5a50fd0a');\n",
       "var x = new MutationObserver(function (mutations, observer) {{\n",
       "        var display = window.getComputedStyle(gd).display;\n",
       "        if (!display || display === 'none') {{\n",
       "            console.log([gd, 'removed!']);\n",
       "            Plotly.purge(gd);\n",
       "            observer.disconnect();\n",
       "        }}\n",
       "}});\n",
       "\n",
       "// Listen for the removal of the full notebook cells\n",
       "var notebookContainer = gd.closest('#notebook-container');\n",
       "if (notebookContainer) {{\n",
       "    x.observe(notebookContainer, {childList: true});\n",
       "}}\n",
       "\n",
       "// Listen for the clearing of the current output cell\n",
       "var outputEl = gd.closest('.output');\n",
       "if (outputEl) {{\n",
       "    x.observe(outputEl, {childList: true});\n",
       "}}\n",
       "\n",
       "                        })\n",
       "                };\n",
       "                });\n",
       "            </script>\n",
       "        </div>"
      ]
     },
     "metadata": {},
     "output_type": "display_data"
    }
   ],
   "source": [
    "import plotly.express as px\n",
    "fig = px.scatter(unstacked, x=\"variable\", y=0, color=\"Fylke\")\n",
    "fig.update_traces(mode=\"markers+lines\")\n"
   ]
  },
  {
   "cell_type": "markdown",
   "metadata": {},
   "source": [
    "# moment"
   ]
  },
  {
   "cell_type": "code",
   "execution_count": 422,
   "metadata": {},
   "outputs": [
    {
     "data": {
      "text/html": [
       "<div>\n",
       "<style scoped>\n",
       "    .dataframe tbody tr th:only-of-type {\n",
       "        vertical-align: middle;\n",
       "    }\n",
       "\n",
       "    .dataframe tbody tr th {\n",
       "        vertical-align: top;\n",
       "    }\n",
       "\n",
       "    .dataframe thead th {\n",
       "        text-align: right;\n",
       "    }\n",
       "</style>\n",
       "<table border=\"1\" class=\"dataframe\">\n",
       "  <thead>\n",
       "    <tr style=\"text-align: right;\">\n",
       "      <th></th>\n",
       "      <th>Fylke</th>\n",
       "      <th>Vekstrate</th>\n",
       "      <th>- 1 uke</th>\n",
       "    </tr>\n",
       "  </thead>\n",
       "  <tbody>\n",
       "    <tr>\n",
       "      <td>0</td>\n",
       "      <td>Nordland</td>\n",
       "      <td>3.921569</td>\n",
       "      <td>12.500000</td>\n",
       "    </tr>\n",
       "    <tr>\n",
       "      <td>1</td>\n",
       "      <td>Agder</td>\n",
       "      <td>5.063291</td>\n",
       "      <td>9.615385</td>\n",
       "    </tr>\n",
       "    <tr>\n",
       "      <td>2</td>\n",
       "      <td>Viken</td>\n",
       "      <td>5.419030</td>\n",
       "      <td>11.976912</td>\n",
       "    </tr>\n",
       "    <tr>\n",
       "      <td>3</td>\n",
       "      <td>Vestfold og Telemark</td>\n",
       "      <td>6.018519</td>\n",
       "      <td>11.965812</td>\n",
       "    </tr>\n",
       "    <tr>\n",
       "      <td>4</td>\n",
       "      <td>Rogaland</td>\n",
       "      <td>7.222222</td>\n",
       "      <td>3.361345</td>\n",
       "    </tr>\n",
       "  </tbody>\n",
       "</table>\n",
       "</div>"
      ],
      "text/plain": [
       "                  Fylke  Vekstrate    - 1 uke\n",
       "0              Nordland   3.921569  12.500000\n",
       "1                 Agder   5.063291   9.615385\n",
       "2                 Viken   5.419030  11.976912\n",
       "3  Vestfold og Telemark   6.018519  11.965812\n",
       "4              Rogaland   7.222222   3.361345"
      ]
     },
     "execution_count": 422,
     "metadata": {},
     "output_type": "execute_result"
    }
   ],
   "source": [
    "roc = df.copy()\n",
    "roc = roc.pct_change(periods=2)*100/3\n",
    "\n",
    "roc.iloc[[-1]].melt()\n",
    "roc1 = roc.iloc[[-1]].melt().rename(columns={\"value\": \"Vekstrate\"}).sort_values(by=['Vekstrate'], ascending=True)\n",
    "lastweek = roc.iloc[[-7]].melt().rename(columns={\"value\": \"- 1 uke\"})\n",
    "\n",
    "vekst = roc1.merge(lastweek, how=\"left\", on=\"Fylke\")\n",
    "vekst.head()"
   ]
  },
  {
   "cell_type": "code",
   "execution_count": 423,
   "metadata": {},
   "outputs": [
    {
     "data": {
      "text/html": [
       "<div>\n",
       "<style scoped>\n",
       "    .dataframe tbody tr th:only-of-type {\n",
       "        vertical-align: middle;\n",
       "    }\n",
       "\n",
       "    .dataframe tbody tr th {\n",
       "        vertical-align: top;\n",
       "    }\n",
       "\n",
       "    .dataframe thead th {\n",
       "        text-align: right;\n",
       "    }\n",
       "</style>\n",
       "<table border=\"1\" class=\"dataframe\">\n",
       "  <thead>\n",
       "    <tr style=\"text-align: right;\">\n",
       "      <th></th>\n",
       "      <th>Fylke</th>\n",
       "      <th>Vekstrate</th>\n",
       "      <th>- 1 uke</th>\n",
       "      <th>dtime</th>\n",
       "      <th>momentum</th>\n",
       "      <th>text</th>\n",
       "      <th>RHF</th>\n",
       "      <th>Befolkning</th>\n",
       "    </tr>\n",
       "  </thead>\n",
       "  <tbody>\n",
       "    <tr>\n",
       "      <td>0</td>\n",
       "      <td>Nordland</td>\n",
       "      <td>3.92</td>\n",
       "      <td>12.50</td>\n",
       "      <td>18.019605</td>\n",
       "      <td>Avtagende</td>\n",
       "      <td>Hver 18.0 dag</td>\n",
       "      <td>Helse Nord</td>\n",
       "      <td>241235</td>\n",
       "    </tr>\n",
       "    <tr>\n",
       "      <td>1</td>\n",
       "      <td>Agder</td>\n",
       "      <td>5.06</td>\n",
       "      <td>9.62</td>\n",
       "      <td>14.033377</td>\n",
       "      <td>Avtagende</td>\n",
       "      <td>Hver 14.0 dag</td>\n",
       "      <td>Helse Sør-Øst</td>\n",
       "      <td>307231</td>\n",
       "    </tr>\n",
       "    <tr>\n",
       "      <td>2</td>\n",
       "      <td>Viken</td>\n",
       "      <td>5.42</td>\n",
       "      <td>11.98</td>\n",
       "      <td>13.134509</td>\n",
       "      <td>Avtagende</td>\n",
       "      <td>Hver 13.0 dag</td>\n",
       "      <td>Helse Sør-Øst</td>\n",
       "      <td>1241165</td>\n",
       "    </tr>\n",
       "    <tr>\n",
       "      <td>3</td>\n",
       "      <td>Vestfold og Telemark</td>\n",
       "      <td>6.02</td>\n",
       "      <td>11.97</td>\n",
       "      <td>11.860105</td>\n",
       "      <td>Avtagende</td>\n",
       "      <td>Hver 12.0 dag</td>\n",
       "      <td>Helse Sør-Øst</td>\n",
       "      <td>419396</td>\n",
       "    </tr>\n",
       "    <tr>\n",
       "      <td>4</td>\n",
       "      <td>Rogaland</td>\n",
       "      <td>7.22</td>\n",
       "      <td>3.36</td>\n",
       "      <td>9.939968</td>\n",
       "      <td>Tiltagende</td>\n",
       "      <td>Hver 10.0 dag</td>\n",
       "      <td>Helse Vest</td>\n",
       "      <td>479892</td>\n",
       "    </tr>\n",
       "    <tr>\n",
       "      <td>5</td>\n",
       "      <td>Vestland</td>\n",
       "      <td>7.90</td>\n",
       "      <td>8.58</td>\n",
       "      <td>9.116411</td>\n",
       "      <td>Avtagende</td>\n",
       "      <td>Hver 9.0 dag</td>\n",
       "      <td>Helse Vest</td>\n",
       "      <td>636531</td>\n",
       "    </tr>\n",
       "    <tr>\n",
       "      <td>6</td>\n",
       "      <td>Oslo</td>\n",
       "      <td>8.27</td>\n",
       "      <td>10.51</td>\n",
       "      <td>8.719733</td>\n",
       "      <td>Avtagende</td>\n",
       "      <td>Hver 9.0 dag</td>\n",
       "      <td>Helse Sør-Øst</td>\n",
       "      <td>693494</td>\n",
       "    </tr>\n",
       "    <tr>\n",
       "      <td>7</td>\n",
       "      <td>Innlandet</td>\n",
       "      <td>9.57</td>\n",
       "      <td>14.04</td>\n",
       "      <td>7.587836</td>\n",
       "      <td>Avtagende</td>\n",
       "      <td>Hver 8.0 dag</td>\n",
       "      <td>Helse Sør-Øst</td>\n",
       "      <td>371385</td>\n",
       "    </tr>\n",
       "    <tr>\n",
       "      <td>8</td>\n",
       "      <td>Møre og Romsdal</td>\n",
       "      <td>10.34</td>\n",
       "      <td>8.33</td>\n",
       "      <td>7.041311</td>\n",
       "      <td>Tiltagende</td>\n",
       "      <td>Hver 7.0 dag</td>\n",
       "      <td>Helse Midt-Norge</td>\n",
       "      <td>265238</td>\n",
       "    </tr>\n",
       "    <tr>\n",
       "      <td>9</td>\n",
       "      <td>Trøndelag</td>\n",
       "      <td>11.68</td>\n",
       "      <td>4.35</td>\n",
       "      <td>6.272716</td>\n",
       "      <td>Tiltagende</td>\n",
       "      <td>Hver 6.0 dag</td>\n",
       "      <td>Helse Midt-Norge</td>\n",
       "      <td>468702</td>\n",
       "    </tr>\n",
       "    <tr>\n",
       "      <td>10</td>\n",
       "      <td>Troms og Finnmark</td>\n",
       "      <td>17.71</td>\n",
       "      <td>10.42</td>\n",
       "      <td>4.251403</td>\n",
       "      <td>Tiltagende</td>\n",
       "      <td>Hver 4.0 dag</td>\n",
       "      <td>Helse Nord</td>\n",
       "      <td>243311</td>\n",
       "    </tr>\n",
       "  </tbody>\n",
       "</table>\n",
       "</div>"
      ],
      "text/plain": [
       "                   Fylke  Vekstrate  - 1 uke      dtime    momentum  \\\n",
       "0               Nordland       3.92    12.50  18.019605   Avtagende   \n",
       "1                  Agder       5.06     9.62  14.033377   Avtagende   \n",
       "2                  Viken       5.42    11.98  13.134509   Avtagende   \n",
       "3   Vestfold og Telemark       6.02    11.97  11.860105   Avtagende   \n",
       "4               Rogaland       7.22     3.36   9.939968  Tiltagende   \n",
       "5               Vestland       7.90     8.58   9.116411   Avtagende   \n",
       "6                   Oslo       8.27    10.51   8.719733   Avtagende   \n",
       "7              Innlandet       9.57    14.04   7.587836   Avtagende   \n",
       "8        Møre og Romsdal      10.34     8.33   7.041311  Tiltagende   \n",
       "9              Trøndelag      11.68     4.35   6.272716  Tiltagende   \n",
       "10     Troms og Finnmark      17.71    10.42   4.251403  Tiltagende   \n",
       "\n",
       "             text               RHF  Befolkning  \n",
       "0   Hver 18.0 dag        Helse Nord      241235  \n",
       "1   Hver 14.0 dag     Helse Sør-Øst      307231  \n",
       "2   Hver 13.0 dag     Helse Sør-Øst     1241165  \n",
       "3   Hver 12.0 dag     Helse Sør-Øst      419396  \n",
       "4   Hver 10.0 dag        Helse Vest      479892  \n",
       "5    Hver 9.0 dag        Helse Vest      636531  \n",
       "6    Hver 9.0 dag     Helse Sør-Øst      693494  \n",
       "7    Hver 8.0 dag     Helse Sør-Øst      371385  \n",
       "8    Hver 7.0 dag  Helse Midt-Norge      265238  \n",
       "9    Hver 6.0 dag  Helse Midt-Norge      468702  \n",
       "10   Hver 4.0 dag        Helse Nord      243311  "
      ]
     },
     "execution_count": 423,
     "metadata": {},
     "output_type": "execute_result"
    }
   ],
   "source": [
    "vekst[\"dtime\"] = np.log(2)/np.log(1+(vekst[\"Vekstrate\"]/100))\n",
    "#vekst[\"dtime\"] = (72/(vekst[\"Vekstrate\"]))\n",
    "vekst[\"momentum\"] = vekst[\"Vekstrate\"]-vekst[\"- 1 uke\"]\n",
    "vekst[\"momentum\"] = vekst[\"momentum\"].apply(lambda x: \"Avtagende\" if x < 0 else \"Tiltagende\")\n",
    "vekst[\"text\"] = \"Hver \"+vekst[\"dtime\"].round(0).astype(str)+\" dag\"\n",
    "vekst[\"Vekstrate\"] = vekst[\"Vekstrate\"].round(2)\n",
    "vekst[\"- 1 uke\"] = vekst[\"- 1 uke\"].round(2)\n",
    "vekst = vekst.merge(fylker, how=\"left\", on=\"Fylke\")\n",
    "\n",
    "vekst"
   ]
  },
  {
   "cell_type": "code",
   "execution_count": 424,
   "metadata": {},
   "outputs": [
    {
     "data": {
      "text/plain": [
       "'https://plot.ly/~oystein.nerva/58/'"
      ]
     },
     "execution_count": 424,
     "metadata": {},
     "output_type": "execute_result"
    }
   ],
   "source": [
    "from datetime import datetime\n",
    "\n",
    "legend = [i for i in vekst[\"RHF\"].unique()]\n",
    "legend.sort()\n",
    "\n",
    "fig = px.bar(vekst, \n",
    "             x='Vekstrate', y='Fylke', \n",
    "             orientation='h',\n",
    "             category_orders={\"RHF\": legend},\n",
    "             height=500,\n",
    "             title = \"<b>Endringer i antall registrerte smittede pr fylke</b><br>Gjennomsnittlig veksttakt siste tre dager<br>Datakilde: FHI - folkehelseinstituttet. Oppdatert \" +datetime.today().strftime('%d.%m.%Y'),\n",
    "             color='RHF',\n",
    "             text=\"text\",\n",
    "             hover_name=\"Fylke\",\n",
    "             hover_data=[\"Vekstrate\"],\n",
    "             template = \"plotly_white\", \n",
    "             labels = {\"Vekstrate\": \"daglig vekst (%)\", \"- 1 uke\": \"Daglig vekst for en uke siden\", \"text\": \"Dager før dobling med dagens vekst\"},\n",
    "            )\n",
    "\n",
    "\"\"\"\n",
    "fig.add_shape(\n",
    "        # doubling time 2 days\n",
    "        dict(\n",
    "            type=\"line\",\n",
    "            x0=41.42136,\n",
    "            y0=-0.5,\n",
    "            x1=41.42136,\n",
    "            y1=21.5,\n",
    "            line=dict(\n",
    "                color=\"Black\",\n",
    "                width=1\n",
    "            )))\n",
    "fig.add_shape(\n",
    "        # doubling time 1 uke\n",
    "        dict(\n",
    "            type=\"line\",\n",
    "            x0=10.40895,\n",
    "            y0=-0.5,\n",
    "            x1=10.40895,\n",
    "            y1=21.5,\n",
    "            line=dict(\n",
    "                color=\"Black\",\n",
    "                width=1\n",
    "            )))\n",
    "\n",
    "\"\"\"\n",
    "fig.layout.coloraxis.showscale = False\n",
    "\n",
    "fig.update_layout(\n",
    "    yaxis=dict(\n",
    "        separatethousands=True,\n",
    "        categoryorder = 'total ascending',\n",
    "        title_text=\"\",\n",
    "        fixedrange=True,\n",
    "    ), xaxis=dict(fixedrange=True,\n",
    "                 title_text=\"\"),\n",
    "    title_font=dict(family=\"Helvetica\", size=18),\n",
    "        margin=dict(b=150)) #bottom margin\n",
    "\n",
    "fig.update_layout(autosize=True,\n",
    "    margin=dict(l=100, r=100, t=150, b=0),\n",
    "    paper_bgcolor='rgba(0, 0, 0, 0)'\n",
    "    #plot_bgcolor='rgb(248, 248, 255)'    \n",
    "                 )\n",
    "\n",
    "#plotly.offline.plot(fig, filename='COVID_moment_fylke.html')\n",
    "py.plot(fig, filename='COVID19_vekstmomentum_fylker.html')"
   ]
  },
  {
   "cell_type": "markdown",
   "metadata": {},
   "source": [
    "# animation"
   ]
  },
  {
   "cell_type": "code",
   "execution_count": 416,
   "metadata": {},
   "outputs": [
    {
     "data": {
      "text/html": [
       "<div>\n",
       "<style scoped>\n",
       "    .dataframe tbody tr th:only-of-type {\n",
       "        vertical-align: middle;\n",
       "    }\n",
       "\n",
       "    .dataframe tbody tr th {\n",
       "        vertical-align: top;\n",
       "    }\n",
       "\n",
       "    .dataframe thead th {\n",
       "        text-align: right;\n",
       "    }\n",
       "</style>\n",
       "<table border=\"1\" class=\"dataframe\">\n",
       "  <thead>\n",
       "    <tr style=\"text-align: right;\">\n",
       "      <th></th>\n",
       "      <th>variable</th>\n",
       "      <th>Fylke</th>\n",
       "      <th>Registrerte smittede</th>\n",
       "      <th>RHF</th>\n",
       "      <th>Befolkning</th>\n",
       "      <th>Smittede/tusen innb</th>\n",
       "      <th>txt</th>\n",
       "    </tr>\n",
       "  </thead>\n",
       "  <tbody>\n",
       "    <tr>\n",
       "      <td>0</td>\n",
       "      <td>09 Mar</td>\n",
       "      <td>Agder</td>\n",
       "      <td>19</td>\n",
       "      <td>Helse Sør-Øst</td>\n",
       "      <td>307231</td>\n",
       "      <td>0.061843</td>\n",
       "      <td>0.06</td>\n",
       "    </tr>\n",
       "    <tr>\n",
       "      <td>1</td>\n",
       "      <td>09 Mar</td>\n",
       "      <td>Troms og Finnmark</td>\n",
       "      <td>6</td>\n",
       "      <td>Helse Nord</td>\n",
       "      <td>243311</td>\n",
       "      <td>0.024660</td>\n",
       "      <td>0.02</td>\n",
       "    </tr>\n",
       "    <tr>\n",
       "      <td>2</td>\n",
       "      <td>09 Mar</td>\n",
       "      <td>Oslo</td>\n",
       "      <td>51</td>\n",
       "      <td>Helse Sør-Øst</td>\n",
       "      <td>693494</td>\n",
       "      <td>0.073541</td>\n",
       "      <td>0.07</td>\n",
       "    </tr>\n",
       "    <tr>\n",
       "      <td>3</td>\n",
       "      <td>09 Mar</td>\n",
       "      <td>Trøndelag</td>\n",
       "      <td>22</td>\n",
       "      <td>Helse Midt-Norge</td>\n",
       "      <td>468702</td>\n",
       "      <td>0.046938</td>\n",
       "      <td>0.05</td>\n",
       "    </tr>\n",
       "    <tr>\n",
       "      <td>4</td>\n",
       "      <td>09 Mar</td>\n",
       "      <td>Nordland</td>\n",
       "      <td>3</td>\n",
       "      <td>Helse Nord</td>\n",
       "      <td>241235</td>\n",
       "      <td>0.012436</td>\n",
       "      <td>0.01</td>\n",
       "    </tr>\n",
       "  </tbody>\n",
       "</table>\n",
       "</div>"
      ],
      "text/plain": [
       "  variable              Fylke  Registrerte smittede               RHF  \\\n",
       "0   09 Mar              Agder                    19     Helse Sør-Øst   \n",
       "1   09 Mar  Troms og Finnmark                     6        Helse Nord   \n",
       "2   09 Mar               Oslo                    51     Helse Sør-Øst   \n",
       "3   09 Mar          Trøndelag                    22  Helse Midt-Norge   \n",
       "4   09 Mar           Nordland                     3        Helse Nord   \n",
       "\n",
       "   Befolkning  Smittede/tusen innb   txt  \n",
       "0      307231             0.061843  0.06  \n",
       "1      243311             0.024660  0.02  \n",
       "2      693494             0.073541  0.07  \n",
       "3      468702             0.046938  0.05  \n",
       "4      241235             0.012436  0.01  "
      ]
     },
     "execution_count": 416,
     "metadata": {},
     "output_type": "execute_result"
    }
   ],
   "source": [
    "melted = pd.melt(df.reset_index(), id_vars=[\"variable\"], var_name=\"Fylke\", value_name=\"Registrerte smittede\").dropna().sort_values(by=[\"variable\"])\n",
    "melted[\"variable\"] = melted[\"variable\"].apply(lambda x: x.strftime(\"%d %b\"))\n",
    "melted = melted.merge(fylker, how=\"left\", on=\"Fylke\")\n",
    "melted[\"Smittede/tusen innb\"] = melted[\"Registrerte smittede\"]/(melted[\"Befolkning\"]/1000)\n",
    "melted[\"txt\"] = melted[\"Smittede/tusen innb\"].round(2).astype(str)\n",
    "melted.head()"
   ]
  },
  {
   "cell_type": "code",
   "execution_count": 417,
   "metadata": {
    "scrolled": false
   },
   "outputs": [
    {
     "data": {
      "application/vnd.plotly.v1+json": {
       "config": {
        "plotlyServerURL": "https://plot.ly"
       },
       "data": [
        {
         "alignmentgroup": "True",
         "hoverlabel": {
          "namelength": 0
         },
         "hovertemplate": "RHF=Helse Midt-Norge<br>Dato=09 Mar<br>Registrerte smittede=%{text}<br>Fylke=%{y}",
         "ids": [
          "Trøndelag",
          "Møre og Romsdal"
         ],
         "legendgroup": "Helse Midt-Norge",
         "marker": {
          "color": "#636efa"
         },
         "name": "Helse Midt-Norge",
         "offsetgroup": "Helse Midt-Norge",
         "orientation": "h",
         "showlegend": true,
         "text": [
          22,
          5
         ],
         "textposition": "auto",
         "type": "bar",
         "x": [
          22,
          5
         ],
         "xaxis": "x",
         "y": [
          "Trøndelag",
          "Møre og Romsdal"
         ],
         "yaxis": "y"
        },
        {
         "alignmentgroup": "True",
         "hoverlabel": {
          "namelength": 0
         },
         "hovertemplate": "RHF=Helse Nord<br>Dato=09 Mar<br>Registrerte smittede=%{text}<br>Fylke=%{y}",
         "ids": [
          "Troms og Finnmark",
          "Nordland"
         ],
         "legendgroup": "Helse Nord",
         "marker": {
          "color": "#EF553B"
         },
         "name": "Helse Nord",
         "offsetgroup": "Helse Nord",
         "orientation": "h",
         "showlegend": true,
         "text": [
          6,
          3
         ],
         "textposition": "auto",
         "type": "bar",
         "x": [
          6,
          3
         ],
         "xaxis": "x",
         "y": [
          "Troms og Finnmark",
          "Nordland"
         ],
         "yaxis": "y"
        },
        {
         "alignmentgroup": "True",
         "hoverlabel": {
          "namelength": 0
         },
         "hovertemplate": "RHF=Helse Sør-Øst<br>Dato=09 Mar<br>Registrerte smittede=%{text}<br>Fylke=%{y}",
         "ids": [
          "Agder",
          "Oslo",
          "Vestfold og Telemark",
          "Innlandet",
          "Viken"
         ],
         "legendgroup": "Helse Sør-Øst",
         "marker": {
          "color": "#00cc96"
         },
         "name": "Helse Sør-Øst",
         "offsetgroup": "Helse Sør-Øst",
         "orientation": "h",
         "showlegend": true,
         "text": [
          19,
          51,
          5,
          16,
          86
         ],
         "textposition": "auto",
         "type": "bar",
         "x": [
          19,
          51,
          5,
          16,
          86
         ],
         "xaxis": "x",
         "y": [
          "Agder",
          "Oslo",
          "Vestfold og Telemark",
          "Innlandet",
          "Viken"
         ],
         "yaxis": "y"
        },
        {
         "alignmentgroup": "True",
         "hoverlabel": {
          "namelength": 0
         },
         "hovertemplate": "RHF=Helse Vest<br>Dato=09 Mar<br>Registrerte smittede=%{text}<br>Fylke=%{y}",
         "ids": [
          "Vestland",
          "Rogaland"
         ],
         "legendgroup": "Helse Vest",
         "marker": {
          "color": "#ab63fa"
         },
         "name": "Helse Vest",
         "offsetgroup": "Helse Vest",
         "orientation": "h",
         "showlegend": true,
         "text": [
          31,
          33
         ],
         "textposition": "auto",
         "type": "bar",
         "x": [
          31,
          33
         ],
         "xaxis": "x",
         "y": [
          "Vestland",
          "Rogaland"
         ],
         "yaxis": "y"
        }
       ],
       "frames": [
        {
         "data": [
          {
           "alignmentgroup": "True",
           "hoverlabel": {
            "namelength": 0
           },
           "hovertemplate": "RHF=Helse Midt-Norge<br>Dato=09 Mar<br>Registrerte smittede=%{text}<br>Fylke=%{y}",
           "ids": [
            "Trøndelag",
            "Møre og Romsdal"
           ],
           "legendgroup": "Helse Midt-Norge",
           "marker": {
            "color": "#636efa"
           },
           "name": "Helse Midt-Norge",
           "offsetgroup": "Helse Midt-Norge",
           "orientation": "h",
           "showlegend": true,
           "text": [
            22,
            5
           ],
           "textposition": "auto",
           "type": "bar",
           "x": [
            22,
            5
           ],
           "xaxis": "x",
           "y": [
            "Trøndelag",
            "Møre og Romsdal"
           ],
           "yaxis": "y"
          },
          {
           "alignmentgroup": "True",
           "hoverlabel": {
            "namelength": 0
           },
           "hovertemplate": "RHF=Helse Nord<br>Dato=09 Mar<br>Registrerte smittede=%{text}<br>Fylke=%{y}",
           "ids": [
            "Troms og Finnmark",
            "Nordland"
           ],
           "legendgroup": "Helse Nord",
           "marker": {
            "color": "#EF553B"
           },
           "name": "Helse Nord",
           "offsetgroup": "Helse Nord",
           "orientation": "h",
           "showlegend": true,
           "text": [
            6,
            3
           ],
           "textposition": "auto",
           "type": "bar",
           "x": [
            6,
            3
           ],
           "xaxis": "x",
           "y": [
            "Troms og Finnmark",
            "Nordland"
           ],
           "yaxis": "y"
          },
          {
           "alignmentgroup": "True",
           "hoverlabel": {
            "namelength": 0
           },
           "hovertemplate": "RHF=Helse Sør-Øst<br>Dato=09 Mar<br>Registrerte smittede=%{text}<br>Fylke=%{y}",
           "ids": [
            "Agder",
            "Oslo",
            "Vestfold og Telemark",
            "Innlandet",
            "Viken"
           ],
           "legendgroup": "Helse Sør-Øst",
           "marker": {
            "color": "#00cc96"
           },
           "name": "Helse Sør-Øst",
           "offsetgroup": "Helse Sør-Øst",
           "orientation": "h",
           "showlegend": true,
           "text": [
            19,
            51,
            5,
            16,
            86
           ],
           "textposition": "auto",
           "type": "bar",
           "x": [
            19,
            51,
            5,
            16,
            86
           ],
           "xaxis": "x",
           "y": [
            "Agder",
            "Oslo",
            "Vestfold og Telemark",
            "Innlandet",
            "Viken"
           ],
           "yaxis": "y"
          },
          {
           "alignmentgroup": "True",
           "hoverlabel": {
            "namelength": 0
           },
           "hovertemplate": "RHF=Helse Vest<br>Dato=09 Mar<br>Registrerte smittede=%{text}<br>Fylke=%{y}",
           "ids": [
            "Vestland",
            "Rogaland"
           ],
           "legendgroup": "Helse Vest",
           "marker": {
            "color": "#ab63fa"
           },
           "name": "Helse Vest",
           "offsetgroup": "Helse Vest",
           "orientation": "h",
           "showlegend": true,
           "text": [
            31,
            33
           ],
           "textposition": "auto",
           "type": "bar",
           "x": [
            31,
            33
           ],
           "xaxis": "x",
           "y": [
            "Vestland",
            "Rogaland"
           ],
           "yaxis": "y"
          }
         ],
         "name": "09 Mar"
        },
        {
         "data": [
          {
           "alignmentgroup": "True",
           "hoverlabel": {
            "namelength": 0
           },
           "hovertemplate": "RHF=Helse Midt-Norge<br>Dato=10 Mar<br>Registrerte smittede=%{text}<br>Fylke=%{y}",
           "ids": [
            "Møre og Romsdal",
            "Trøndelag"
           ],
           "legendgroup": "Helse Midt-Norge",
           "marker": {
            "color": "#636efa"
           },
           "name": "Helse Midt-Norge",
           "offsetgroup": "Helse Midt-Norge",
           "orientation": "h",
           "showlegend": true,
           "text": [
            5,
            22
           ],
           "textposition": "auto",
           "type": "bar",
           "x": [
            5,
            22
           ],
           "xaxis": "x",
           "y": [
            "Møre og Romsdal",
            "Trøndelag"
           ],
           "yaxis": "y"
          },
          {
           "alignmentgroup": "True",
           "hoverlabel": {
            "namelength": 0
           },
           "hovertemplate": "RHF=Helse Nord<br>Dato=10 Mar<br>Registrerte smittede=%{text}<br>Fylke=%{y}",
           "ids": [
            "Nordland",
            "Troms og Finnmark"
           ],
           "legendgroup": "Helse Nord",
           "marker": {
            "color": "#EF553B"
           },
           "name": "Helse Nord",
           "offsetgroup": "Helse Nord",
           "orientation": "h",
           "showlegend": true,
           "text": [
            3,
            6
           ],
           "textposition": "auto",
           "type": "bar",
           "x": [
            3,
            6
           ],
           "xaxis": "x",
           "y": [
            "Nordland",
            "Troms og Finnmark"
           ],
           "yaxis": "y"
          },
          {
           "alignmentgroup": "True",
           "hoverlabel": {
            "namelength": 0
           },
           "hovertemplate": "RHF=Helse Sør-Øst<br>Dato=10 Mar<br>Registrerte smittede=%{text}<br>Fylke=%{y}",
           "ids": [
            "Viken",
            "Vestfold og Telemark",
            "Oslo",
            "Agder",
            "Innlandet"
           ],
           "legendgroup": "Helse Sør-Øst",
           "marker": {
            "color": "#00cc96"
           },
           "name": "Helse Sør-Øst",
           "offsetgroup": "Helse Sør-Øst",
           "orientation": "h",
           "showlegend": true,
           "text": [
            86,
            5,
            51,
            19,
            16
           ],
           "textposition": "auto",
           "type": "bar",
           "x": [
            86,
            5,
            51,
            19,
            16
           ],
           "xaxis": "x",
           "y": [
            "Viken",
            "Vestfold og Telemark",
            "Oslo",
            "Agder",
            "Innlandet"
           ],
           "yaxis": "y"
          },
          {
           "alignmentgroup": "True",
           "hoverlabel": {
            "namelength": 0
           },
           "hovertemplate": "RHF=Helse Vest<br>Dato=10 Mar<br>Registrerte smittede=%{text}<br>Fylke=%{y}",
           "ids": [
            "Rogaland",
            "Vestland"
           ],
           "legendgroup": "Helse Vest",
           "marker": {
            "color": "#ab63fa"
           },
           "name": "Helse Vest",
           "offsetgroup": "Helse Vest",
           "orientation": "h",
           "showlegend": true,
           "text": [
            33,
            31
           ],
           "textposition": "auto",
           "type": "bar",
           "x": [
            33,
            31
           ],
           "xaxis": "x",
           "y": [
            "Rogaland",
            "Vestland"
           ],
           "yaxis": "y"
          }
         ],
         "name": "10 Mar"
        },
        {
         "data": [
          {
           "alignmentgroup": "True",
           "hoverlabel": {
            "namelength": 0
           },
           "hovertemplate": "RHF=Helse Midt-Norge<br>Dato=11 Mar<br>Registrerte smittede=%{text}<br>Fylke=%{y}",
           "ids": [
            "Trøndelag",
            "Møre og Romsdal"
           ],
           "legendgroup": "Helse Midt-Norge",
           "marker": {
            "color": "#636efa"
           },
           "name": "Helse Midt-Norge",
           "offsetgroup": "Helse Midt-Norge",
           "orientation": "h",
           "showlegend": true,
           "text": [
            25,
            7
           ],
           "textposition": "auto",
           "type": "bar",
           "x": [
            25,
            7
           ],
           "xaxis": "x",
           "y": [
            "Trøndelag",
            "Møre og Romsdal"
           ],
           "yaxis": "y"
          },
          {
           "alignmentgroup": "True",
           "hoverlabel": {
            "namelength": 0
           },
           "hovertemplate": "RHF=Helse Nord<br>Dato=11 Mar<br>Registrerte smittede=%{text}<br>Fylke=%{y}",
           "ids": [
            "Nordland",
            "Troms og Finnmark"
           ],
           "legendgroup": "Helse Nord",
           "marker": {
            "color": "#EF553B"
           },
           "name": "Helse Nord",
           "offsetgroup": "Helse Nord",
           "orientation": "h",
           "showlegend": true,
           "text": [
            3,
            7
           ],
           "textposition": "auto",
           "type": "bar",
           "x": [
            3,
            7
           ],
           "xaxis": "x",
           "y": [
            "Nordland",
            "Troms og Finnmark"
           ],
           "yaxis": "y"
          },
          {
           "alignmentgroup": "True",
           "hoverlabel": {
            "namelength": 0
           },
           "hovertemplate": "RHF=Helse Sør-Øst<br>Dato=11 Mar<br>Registrerte smittede=%{text}<br>Fylke=%{y}",
           "ids": [
            "Vestfold og Telemark",
            "Viken",
            "Innlandet",
            "Agder",
            "Oslo"
           ],
           "legendgroup": "Helse Sør-Øst",
           "marker": {
            "color": "#00cc96"
           },
           "name": "Helse Sør-Øst",
           "offsetgroup": "Helse Sør-Øst",
           "orientation": "h",
           "showlegend": true,
           "text": [
            15,
            124,
            23,
            20,
            123
           ],
           "textposition": "auto",
           "type": "bar",
           "x": [
            15,
            124,
            23,
            20,
            123
           ],
           "xaxis": "x",
           "y": [
            "Vestfold og Telemark",
            "Viken",
            "Innlandet",
            "Agder",
            "Oslo"
           ],
           "yaxis": "y"
          },
          {
           "alignmentgroup": "True",
           "hoverlabel": {
            "namelength": 0
           },
           "hovertemplate": "RHF=Helse Vest<br>Dato=11 Mar<br>Registrerte smittede=%{text}<br>Fylke=%{y}",
           "ids": [
            "Rogaland",
            "Vestland"
           ],
           "legendgroup": "Helse Vest",
           "marker": {
            "color": "#ab63fa"
           },
           "name": "Helse Vest",
           "offsetgroup": "Helse Vest",
           "orientation": "h",
           "showlegend": true,
           "text": [
            71,
            41
           ],
           "textposition": "auto",
           "type": "bar",
           "x": [
            71,
            41
           ],
           "xaxis": "x",
           "y": [
            "Rogaland",
            "Vestland"
           ],
           "yaxis": "y"
          }
         ],
         "name": "11 Mar"
        },
        {
         "data": [
          {
           "alignmentgroup": "True",
           "hoverlabel": {
            "namelength": 0
           },
           "hovertemplate": "RHF=Helse Midt-Norge<br>Dato=12 Mar<br>Registrerte smittede=%{text}<br>Fylke=%{y}",
           "ids": [
            "Trøndelag",
            "Møre og Romsdal"
           ],
           "legendgroup": "Helse Midt-Norge",
           "marker": {
            "color": "#636efa"
           },
           "name": "Helse Midt-Norge",
           "offsetgroup": "Helse Midt-Norge",
           "orientation": "h",
           "showlegend": true,
           "text": [
            37,
            6
           ],
           "textposition": "auto",
           "type": "bar",
           "x": [
            37,
            6
           ],
           "xaxis": "x",
           "y": [
            "Trøndelag",
            "Møre og Romsdal"
           ],
           "yaxis": "y"
          },
          {
           "alignmentgroup": "True",
           "hoverlabel": {
            "namelength": 0
           },
           "hovertemplate": "RHF=Helse Nord<br>Dato=12 Mar<br>Registrerte smittede=%{text}<br>Fylke=%{y}",
           "ids": [
            "Troms og Finnmark",
            "Nordland"
           ],
           "legendgroup": "Helse Nord",
           "marker": {
            "color": "#EF553B"
           },
           "name": "Helse Nord",
           "offsetgroup": "Helse Nord",
           "orientation": "h",
           "showlegend": true,
           "text": [
            11,
            4
           ],
           "textposition": "auto",
           "type": "bar",
           "x": [
            11,
            4
           ],
           "xaxis": "x",
           "y": [
            "Troms og Finnmark",
            "Nordland"
           ],
           "yaxis": "y"
          },
          {
           "alignmentgroup": "True",
           "hoverlabel": {
            "namelength": 0
           },
           "hovertemplate": "RHF=Helse Sør-Øst<br>Dato=12 Mar<br>Registrerte smittede=%{text}<br>Fylke=%{y}",
           "ids": [
            "Agder",
            "Oslo",
            "Vestfold og Telemark",
            "Viken",
            "Innlandet"
           ],
           "legendgroup": "Helse Sør-Øst",
           "marker": {
            "color": "#00cc96"
           },
           "name": "Helse Sør-Øst",
           "offsetgroup": "Helse Sør-Øst",
           "orientation": "h",
           "showlegend": true,
           "text": [
            32,
            166,
            22,
            154,
            40
           ],
           "textposition": "auto",
           "type": "bar",
           "x": [
            32,
            166,
            22,
            154,
            40
           ],
           "xaxis": "x",
           "y": [
            "Agder",
            "Oslo",
            "Vestfold og Telemark",
            "Viken",
            "Innlandet"
           ],
           "yaxis": "y"
          },
          {
           "alignmentgroup": "True",
           "hoverlabel": {
            "namelength": 0
           },
           "hovertemplate": "RHF=Helse Vest<br>Dato=12 Mar<br>Registrerte smittede=%{text}<br>Fylke=%{y}",
           "ids": [
            "Rogaland",
            "Vestland"
           ],
           "legendgroup": "Helse Vest",
           "marker": {
            "color": "#ab63fa"
           },
           "name": "Helse Vest",
           "offsetgroup": "Helse Vest",
           "orientation": "h",
           "showlegend": true,
           "text": [
            82,
            67
           ],
           "textposition": "auto",
           "type": "bar",
           "x": [
            82,
            67
           ],
           "xaxis": "x",
           "y": [
            "Rogaland",
            "Vestland"
           ],
           "yaxis": "y"
          }
         ],
         "name": "12 Mar"
        },
        {
         "data": [
          {
           "alignmentgroup": "True",
           "hoverlabel": {
            "namelength": 0
           },
           "hovertemplate": "RHF=Helse Midt-Norge<br>Dato=13 Mar<br>Registrerte smittede=%{text}<br>Fylke=%{y}",
           "ids": [
            "Trøndelag",
            "Møre og Romsdal"
           ],
           "legendgroup": "Helse Midt-Norge",
           "marker": {
            "color": "#636efa"
           },
           "name": "Helse Midt-Norge",
           "offsetgroup": "Helse Midt-Norge",
           "orientation": "h",
           "showlegend": true,
           "text": [
            43,
            7
           ],
           "textposition": "auto",
           "type": "bar",
           "x": [
            43,
            7
           ],
           "xaxis": "x",
           "y": [
            "Trøndelag",
            "Møre og Romsdal"
           ],
           "yaxis": "y"
          },
          {
           "alignmentgroup": "True",
           "hoverlabel": {
            "namelength": 0
           },
           "hovertemplate": "RHF=Helse Nord<br>Dato=13 Mar<br>Registrerte smittede=%{text}<br>Fylke=%{y}",
           "ids": [
            "Nordland",
            "Troms og Finnmark"
           ],
           "legendgroup": "Helse Nord",
           "marker": {
            "color": "#EF553B"
           },
           "name": "Helse Nord",
           "offsetgroup": "Helse Nord",
           "orientation": "h",
           "showlegend": true,
           "text": [
            5,
            12
           ],
           "textposition": "auto",
           "type": "bar",
           "x": [
            5,
            12
           ],
           "xaxis": "x",
           "y": [
            "Nordland",
            "Troms og Finnmark"
           ],
           "yaxis": "y"
          },
          {
           "alignmentgroup": "True",
           "hoverlabel": {
            "namelength": 0
           },
           "hovertemplate": "RHF=Helse Sør-Øst<br>Dato=13 Mar<br>Registrerte smittede=%{text}<br>Fylke=%{y}",
           "ids": [
            "Agder",
            "Vestfold og Telemark",
            "Viken",
            "Innlandet",
            "Oslo"
           ],
           "legendgroup": "Helse Sør-Øst",
           "marker": {
            "color": "#00cc96"
           },
           "name": "Helse Sør-Øst",
           "offsetgroup": "Helse Sør-Øst",
           "orientation": "h",
           "showlegend": true,
           "text": [
            34,
            30,
            180,
            49,
            207
           ],
           "textposition": "auto",
           "type": "bar",
           "x": [
            34,
            30,
            180,
            49,
            207
           ],
           "xaxis": "x",
           "y": [
            "Agder",
            "Vestfold og Telemark",
            "Viken",
            "Innlandet",
            "Oslo"
           ],
           "yaxis": "y"
          },
          {
           "alignmentgroup": "True",
           "hoverlabel": {
            "namelength": 0
           },
           "hovertemplate": "RHF=Helse Vest<br>Dato=13 Mar<br>Registrerte smittede=%{text}<br>Fylke=%{y}",
           "ids": [
            "Rogaland",
            "Vestland"
           ],
           "legendgroup": "Helse Vest",
           "marker": {
            "color": "#ab63fa"
           },
           "name": "Helse Vest",
           "offsetgroup": "Helse Vest",
           "orientation": "h",
           "showlegend": true,
           "text": [
            105,
            78
           ],
           "textposition": "auto",
           "type": "bar",
           "x": [
            105,
            78
           ],
           "xaxis": "x",
           "y": [
            "Rogaland",
            "Vestland"
           ],
           "yaxis": "y"
          }
         ],
         "name": "13 Mar"
        },
        {
         "data": [
          {
           "alignmentgroup": "True",
           "hoverlabel": {
            "namelength": 0
           },
           "hovertemplate": "RHF=Helse Midt-Norge<br>Dato=14 Mar<br>Registrerte smittede=%{text}<br>Fylke=%{y}",
           "ids": [
            "Møre og Romsdal",
            "Trøndelag"
           ],
           "legendgroup": "Helse Midt-Norge",
           "marker": {
            "color": "#636efa"
           },
           "name": "Helse Midt-Norge",
           "offsetgroup": "Helse Midt-Norge",
           "orientation": "h",
           "showlegend": true,
           "text": [
            16,
            46
           ],
           "textposition": "auto",
           "type": "bar",
           "x": [
            16,
            46
           ],
           "xaxis": "x",
           "y": [
            "Møre og Romsdal",
            "Trøndelag"
           ],
           "yaxis": "y"
          },
          {
           "alignmentgroup": "True",
           "hoverlabel": {
            "namelength": 0
           },
           "hovertemplate": "RHF=Helse Nord<br>Dato=14 Mar<br>Registrerte smittede=%{text}<br>Fylke=%{y}",
           "ids": [
            "Troms og Finnmark",
            "Nordland"
           ],
           "legendgroup": "Helse Nord",
           "marker": {
            "color": "#EF553B"
           },
           "name": "Helse Nord",
           "offsetgroup": "Helse Nord",
           "orientation": "h",
           "showlegend": true,
           "text": [
            16,
            8
           ],
           "textposition": "auto",
           "type": "bar",
           "x": [
            16,
            8
           ],
           "xaxis": "x",
           "y": [
            "Troms og Finnmark",
            "Nordland"
           ],
           "yaxis": "y"
          },
          {
           "alignmentgroup": "True",
           "hoverlabel": {
            "namelength": 0
           },
           "hovertemplate": "RHF=Helse Sør-Øst<br>Dato=14 Mar<br>Registrerte smittede=%{text}<br>Fylke=%{y}",
           "ids": [
            "Agder",
            "Oslo",
            "Innlandet",
            "Viken",
            "Vestfold og Telemark"
           ],
           "legendgroup": "Helse Sør-Øst",
           "marker": {
            "color": "#00cc96"
           },
           "name": "Helse Sør-Øst",
           "offsetgroup": "Helse Sør-Øst",
           "orientation": "h",
           "showlegend": true,
           "text": [
            52,
            222,
            57,
            231,
            39
           ],
           "textposition": "auto",
           "type": "bar",
           "x": [
            52,
            222,
            57,
            231,
            39
           ],
           "xaxis": "x",
           "y": [
            "Agder",
            "Oslo",
            "Innlandet",
            "Viken",
            "Vestfold og Telemark"
           ],
           "yaxis": "y"
          },
          {
           "alignmentgroup": "True",
           "hoverlabel": {
            "namelength": 0
           },
           "hovertemplate": "RHF=Helse Vest<br>Dato=14 Mar<br>Registrerte smittede=%{text}<br>Fylke=%{y}",
           "ids": [
            "Rogaland",
            "Vestland"
           ],
           "legendgroup": "Helse Vest",
           "marker": {
            "color": "#ab63fa"
           },
           "name": "Helse Vest",
           "offsetgroup": "Helse Vest",
           "orientation": "h",
           "showlegend": true,
           "text": [
            119,
            101
           ],
           "textposition": "auto",
           "type": "bar",
           "x": [
            119,
            101
           ],
           "xaxis": "x",
           "y": [
            "Rogaland",
            "Vestland"
           ],
           "yaxis": "y"
          }
         ],
         "name": "14 Mar"
        },
        {
         "data": [
          {
           "alignmentgroup": "True",
           "hoverlabel": {
            "namelength": 0
           },
           "hovertemplate": "RHF=Helse Midt-Norge<br>Dato=15 Mar<br>Registrerte smittede=%{text}<br>Fylke=%{y}",
           "ids": [
            "Trøndelag",
            "Møre og Romsdal"
           ],
           "legendgroup": "Helse Midt-Norge",
           "marker": {
            "color": "#636efa"
           },
           "name": "Helse Midt-Norge",
           "offsetgroup": "Helse Midt-Norge",
           "orientation": "h",
           "showlegend": true,
           "text": [
            50,
            20
           ],
           "textposition": "auto",
           "type": "bar",
           "x": [
            50,
            20
           ],
           "xaxis": "x",
           "y": [
            "Trøndelag",
            "Møre og Romsdal"
           ],
           "yaxis": "y"
          },
          {
           "alignmentgroup": "True",
           "hoverlabel": {
            "namelength": 0
           },
           "hovertemplate": "RHF=Helse Nord<br>Dato=15 Mar<br>Registrerte smittede=%{text}<br>Fylke=%{y}",
           "ids": [
            "Troms og Finnmark",
            "Nordland"
           ],
           "legendgroup": "Helse Nord",
           "marker": {
            "color": "#EF553B"
           },
           "name": "Helse Nord",
           "offsetgroup": "Helse Nord",
           "orientation": "h",
           "showlegend": true,
           "text": [
            20,
            8
           ],
           "textposition": "auto",
           "type": "bar",
           "x": [
            20,
            8
           ],
           "xaxis": "x",
           "y": [
            "Troms og Finnmark",
            "Nordland"
           ],
           "yaxis": "y"
          },
          {
           "alignmentgroup": "True",
           "hoverlabel": {
            "namelength": 0
           },
           "hovertemplate": "RHF=Helse Sør-Øst<br>Dato=15 Mar<br>Registrerte smittede=%{text}<br>Fylke=%{y}",
           "ids": [
            "Vestfold og Telemark",
            "Viken",
            "Agder",
            "Innlandet",
            "Oslo"
           ],
           "legendgroup": "Helse Sør-Øst",
           "marker": {
            "color": "#00cc96"
           },
           "name": "Helse Sør-Øst",
           "offsetgroup": "Helse Sør-Øst",
           "orientation": "h",
           "showlegend": true,
           "text": [
            48,
            278,
            55,
            72,
            281
           ],
           "textposition": "auto",
           "type": "bar",
           "x": [
            48,
            278,
            55,
            72,
            281
           ],
           "xaxis": "x",
           "y": [
            "Vestfold og Telemark",
            "Viken",
            "Agder",
            "Innlandet",
            "Oslo"
           ],
           "yaxis": "y"
          },
          {
           "alignmentgroup": "True",
           "hoverlabel": {
            "namelength": 0
           },
           "hovertemplate": "RHF=Helse Vest<br>Dato=15 Mar<br>Registrerte smittede=%{text}<br>Fylke=%{y}",
           "ids": [
            "Vestland",
            "Rogaland"
           ],
           "legendgroup": "Helse Vest",
           "marker": {
            "color": "#ab63fa"
           },
           "name": "Helse Vest",
           "offsetgroup": "Helse Vest",
           "orientation": "h",
           "showlegend": true,
           "text": [
            118,
            127
           ],
           "textposition": "auto",
           "type": "bar",
           "x": [
            118,
            127
           ],
           "xaxis": "x",
           "y": [
            "Vestland",
            "Rogaland"
           ],
           "yaxis": "y"
          }
         ],
         "name": "15 Mar"
        },
        {
         "data": [
          {
           "alignmentgroup": "True",
           "hoverlabel": {
            "namelength": 0
           },
           "hovertemplate": "RHF=Helse Midt-Norge<br>Dato=16 Mar<br>Registrerte smittede=%{text}<br>Fylke=%{y}",
           "ids": [
            "Trøndelag",
            "Møre og Romsdal"
           ],
           "legendgroup": "Helse Midt-Norge",
           "marker": {
            "color": "#636efa"
           },
           "name": "Helse Midt-Norge",
           "offsetgroup": "Helse Midt-Norge",
           "orientation": "h",
           "showlegend": true,
           "text": [
            52,
            20
           ],
           "textposition": "auto",
           "type": "bar",
           "x": [
            52,
            20
           ],
           "xaxis": "x",
           "y": [
            "Trøndelag",
            "Møre og Romsdal"
           ],
           "yaxis": "y"
          },
          {
           "alignmentgroup": "True",
           "hoverlabel": {
            "namelength": 0
           },
           "hovertemplate": "RHF=Helse Nord<br>Dato=16 Mar<br>Registrerte smittede=%{text}<br>Fylke=%{y}",
           "ids": [
            "Troms og Finnmark",
            "Nordland"
           ],
           "legendgroup": "Helse Nord",
           "marker": {
            "color": "#EF553B"
           },
           "name": "Helse Nord",
           "offsetgroup": "Helse Nord",
           "orientation": "h",
           "showlegend": true,
           "text": [
            21,
            11
           ],
           "textposition": "auto",
           "type": "bar",
           "x": [
            21,
            11
           ],
           "xaxis": "x",
           "y": [
            "Troms og Finnmark",
            "Nordland"
           ],
           "yaxis": "y"
          },
          {
           "alignmentgroup": "True",
           "hoverlabel": {
            "namelength": 0
           },
           "hovertemplate": "RHF=Helse Sør-Øst<br>Dato=16 Mar<br>Registrerte smittede=%{text}<br>Fylke=%{y}",
           "ids": [
            "Viken",
            "Oslo",
            "Vestfold og Telemark",
            "Innlandet",
            "Agder"
           ],
           "legendgroup": "Helse Sør-Øst",
           "marker": {
            "color": "#00cc96"
           },
           "name": "Helse Sør-Øst",
           "offsetgroup": "Helse Sør-Øst",
           "orientation": "h",
           "showlegend": true,
           "text": [
            314,
            292,
            53,
            81,
            67
           ],
           "textposition": "auto",
           "type": "bar",
           "x": [
            314,
            292,
            53,
            81,
            67
           ],
           "xaxis": "x",
           "y": [
            "Viken",
            "Oslo",
            "Vestfold og Telemark",
            "Innlandet",
            "Agder"
           ],
           "yaxis": "y"
          },
          {
           "alignmentgroup": "True",
           "hoverlabel": {
            "namelength": 0
           },
           "hovertemplate": "RHF=Helse Vest<br>Dato=16 Mar<br>Registrerte smittede=%{text}<br>Fylke=%{y}",
           "ids": [
            "Vestland",
            "Rogaland"
           ],
           "legendgroup": "Helse Vest",
           "marker": {
            "color": "#ab63fa"
           },
           "name": "Helse Vest",
           "offsetgroup": "Helse Vest",
           "orientation": "h",
           "showlegend": true,
           "text": [
            127,
            131
           ],
           "textposition": "auto",
           "type": "bar",
           "x": [
            127,
            131
           ],
           "xaxis": "x",
           "y": [
            "Vestland",
            "Rogaland"
           ],
           "yaxis": "y"
          }
         ],
         "name": "16 Mar"
        },
        {
         "data": [
          {
           "alignmentgroup": "True",
           "hoverlabel": {
            "namelength": 0
           },
           "hovertemplate": "RHF=Helse Midt-Norge<br>Dato=17 Mar<br>Registrerte smittede=%{text}<br>Fylke=%{y}",
           "ids": [
            "Møre og Romsdal",
            "Trøndelag"
           ],
           "legendgroup": "Helse Midt-Norge",
           "marker": {
            "color": "#636efa"
           },
           "name": "Helse Midt-Norge",
           "offsetgroup": "Helse Midt-Norge",
           "orientation": "h",
           "showlegend": true,
           "text": [
            20,
            61
           ],
           "textposition": "auto",
           "type": "bar",
           "x": [
            20,
            61
           ],
           "xaxis": "x",
           "y": [
            "Møre og Romsdal",
            "Trøndelag"
           ],
           "yaxis": "y"
          },
          {
           "alignmentgroup": "True",
           "hoverlabel": {
            "namelength": 0
           },
           "hovertemplate": "RHF=Helse Nord<br>Dato=17 Mar<br>Registrerte smittede=%{text}<br>Fylke=%{y}",
           "ids": [
            "Nordland",
            "Troms og Finnmark"
           ],
           "legendgroup": "Helse Nord",
           "marker": {
            "color": "#EF553B"
           },
           "name": "Helse Nord",
           "offsetgroup": "Helse Nord",
           "orientation": "h",
           "showlegend": true,
           "text": [
            11,
            24
           ],
           "textposition": "auto",
           "type": "bar",
           "x": [
            11,
            24
           ],
           "xaxis": "x",
           "y": [
            "Nordland",
            "Troms og Finnmark"
           ],
           "yaxis": "y"
          },
          {
           "alignmentgroup": "True",
           "hoverlabel": {
            "namelength": 0
           },
           "hovertemplate": "RHF=Helse Sør-Øst<br>Dato=17 Mar<br>Registrerte smittede=%{text}<br>Fylke=%{y}",
           "ids": [
            "Vestfold og Telemark",
            "Innlandet",
            "Agder",
            "Viken",
            "Oslo"
           ],
           "legendgroup": "Helse Sør-Øst",
           "marker": {
            "color": "#00cc96"
           },
           "name": "Helse Sør-Øst",
           "offsetgroup": "Helse Sør-Øst",
           "orientation": "h",
           "showlegend": true,
           "text": [
            59,
            88,
            67,
            358,
            329
           ],
           "textposition": "auto",
           "type": "bar",
           "x": [
            59,
            88,
            67,
            358,
            329
           ],
           "xaxis": "x",
           "y": [
            "Vestfold og Telemark",
            "Innlandet",
            "Agder",
            "Viken",
            "Oslo"
           ],
           "yaxis": "y"
          },
          {
           "alignmentgroup": "True",
           "hoverlabel": {
            "namelength": 0
           },
           "hovertemplate": "RHF=Helse Vest<br>Dato=17 Mar<br>Registrerte smittede=%{text}<br>Fylke=%{y}",
           "ids": [
            "Vestland",
            "Rogaland"
           ],
           "legendgroup": "Helse Vest",
           "marker": {
            "color": "#ab63fa"
           },
           "name": "Helse Vest",
           "offsetgroup": "Helse Vest",
           "orientation": "h",
           "showlegend": true,
           "text": [
            141,
            150
           ],
           "textposition": "auto",
           "type": "bar",
           "x": [
            141,
            150
           ],
           "xaxis": "x",
           "y": [
            "Vestland",
            "Rogaland"
           ],
           "yaxis": "y"
          }
         ],
         "name": "17 Mar"
        },
        {
         "data": [
          {
           "alignmentgroup": "True",
           "hoverlabel": {
            "namelength": 0
           },
           "hovertemplate": "RHF=Helse Midt-Norge<br>Dato=18 Mar<br>Registrerte smittede=%{text}<br>Fylke=%{y}",
           "ids": [
            "Trøndelag",
            "Møre og Romsdal"
           ],
           "legendgroup": "Helse Midt-Norge",
           "marker": {
            "color": "#636efa"
           },
           "name": "Helse Midt-Norge",
           "offsetgroup": "Helse Midt-Norge",
           "orientation": "h",
           "showlegend": true,
           "text": [
            70,
            20
           ],
           "textposition": "auto",
           "type": "bar",
           "x": [
            70,
            20
           ],
           "xaxis": "x",
           "y": [
            "Trøndelag",
            "Møre og Romsdal"
           ],
           "yaxis": "y"
          },
          {
           "alignmentgroup": "True",
           "hoverlabel": {
            "namelength": 0
           },
           "hovertemplate": "RHF=Helse Nord<br>Dato=18 Mar<br>Registrerte smittede=%{text}<br>Fylke=%{y}",
           "ids": [
            "Nordland",
            "Troms og Finnmark"
           ],
           "legendgroup": "Helse Nord",
           "marker": {
            "color": "#EF553B"
           },
           "name": "Helse Nord",
           "offsetgroup": "Helse Nord",
           "orientation": "h",
           "showlegend": true,
           "text": [
            12,
            28
           ],
           "textposition": "auto",
           "type": "bar",
           "x": [
            12,
            28
           ],
           "xaxis": "x",
           "y": [
            "Nordland",
            "Troms og Finnmark"
           ],
           "yaxis": "y"
          },
          {
           "alignmentgroup": "True",
           "hoverlabel": {
            "namelength": 0
           },
           "hovertemplate": "RHF=Helse Sør-Øst<br>Dato=18 Mar<br>Registrerte smittede=%{text}<br>Fylke=%{y}",
           "ids": [
            "Innlandet",
            "Oslo",
            "Vestfold og Telemark",
            "Agder",
            "Viken"
           ],
           "legendgroup": "Helse Sør-Øst",
           "marker": {
            "color": "#00cc96"
           },
           "name": "Helse Sør-Øst",
           "offsetgroup": "Helse Sør-Øst",
           "orientation": "h",
           "showlegend": true,
           "text": [
            97,
            348,
            63,
            67,
            410
           ],
           "textposition": "auto",
           "type": "bar",
           "x": [
            97,
            348,
            63,
            67,
            410
           ],
           "xaxis": "x",
           "y": [
            "Innlandet",
            "Oslo",
            "Vestfold og Telemark",
            "Agder",
            "Viken"
           ],
           "yaxis": "y"
          },
          {
           "alignmentgroup": "True",
           "hoverlabel": {
            "namelength": 0
           },
           "hovertemplate": "RHF=Helse Vest<br>Dato=18 Mar<br>Registrerte smittede=%{text}<br>Fylke=%{y}",
           "ids": [
            "Vestland",
            "Rogaland"
           ],
           "legendgroup": "Helse Vest",
           "marker": {
            "color": "#ab63fa"
           },
           "name": "Helse Vest",
           "offsetgroup": "Helse Vest",
           "orientation": "h",
           "showlegend": true,
           "text": [
            147,
            161
           ],
           "textposition": "auto",
           "type": "bar",
           "x": [
            147,
            161
           ],
           "xaxis": "x",
           "y": [
            "Vestland",
            "Rogaland"
           ],
           "yaxis": "y"
          }
         ],
         "name": "18 Mar"
        },
        {
         "data": [
          {
           "alignmentgroup": "True",
           "hoverlabel": {
            "namelength": 0
           },
           "hovertemplate": "RHF=Helse Midt-Norge<br>Dato=19 Mar<br>Registrerte smittede=%{text}<br>Fylke=%{y}",
           "ids": [
            "Møre og Romsdal",
            "Trøndelag"
           ],
           "legendgroup": "Helse Midt-Norge",
           "marker": {
            "color": "#636efa"
           },
           "name": "Helse Midt-Norge",
           "offsetgroup": "Helse Midt-Norge",
           "orientation": "h",
           "showlegend": true,
           "text": [
            25,
            75
           ],
           "textposition": "auto",
           "type": "bar",
           "x": [
            25,
            75
           ],
           "xaxis": "x",
           "y": [
            "Møre og Romsdal",
            "Trøndelag"
           ],
           "yaxis": "y"
          },
          {
           "alignmentgroup": "True",
           "hoverlabel": {
            "namelength": 0
           },
           "hovertemplate": "RHF=Helse Nord<br>Dato=19 Mar<br>Registrerte smittede=%{text}<br>Fylke=%{y}",
           "ids": [
            "Troms og Finnmark",
            "Nordland"
           ],
           "legendgroup": "Helse Nord",
           "marker": {
            "color": "#EF553B"
           },
           "name": "Helse Nord",
           "offsetgroup": "Helse Nord",
           "orientation": "h",
           "showlegend": true,
           "text": [
            28,
            13
           ],
           "textposition": "auto",
           "type": "bar",
           "x": [
            28,
            13
           ],
           "xaxis": "x",
           "y": [
            "Troms og Finnmark",
            "Nordland"
           ],
           "yaxis": "y"
          },
          {
           "alignmentgroup": "True",
           "hoverlabel": {
            "namelength": 0
           },
           "hovertemplate": "RHF=Helse Sør-Øst<br>Dato=19 Mar<br>Registrerte smittede=%{text}<br>Fylke=%{y}",
           "ids": [
            "Agder",
            "Viken",
            "Oslo",
            "Innlandet",
            "Vestfold og Telemark"
           ],
           "legendgroup": "Helse Sør-Øst",
           "marker": {
            "color": "#00cc96"
           },
           "name": "Helse Sør-Øst",
           "offsetgroup": "Helse Sør-Øst",
           "orientation": "h",
           "showlegend": true,
           "text": [
            75,
            445,
            392,
            105,
            65
           ],
           "textposition": "auto",
           "type": "bar",
           "x": [
            75,
            445,
            392,
            105,
            65
           ],
           "xaxis": "x",
           "y": [
            "Agder",
            "Viken",
            "Oslo",
            "Innlandet",
            "Vestfold og Telemark"
           ],
           "yaxis": "y"
          },
          {
           "alignmentgroup": "True",
           "hoverlabel": {
            "namelength": 0
           },
           "hovertemplate": "RHF=Helse Vest<br>Dato=19 Mar<br>Registrerte smittede=%{text}<br>Fylke=%{y}",
           "ids": [
            "Vestland",
            "Rogaland"
           ],
           "legendgroup": "Helse Vest",
           "marker": {
            "color": "#ab63fa"
           },
           "name": "Helse Vest",
           "offsetgroup": "Helse Vest",
           "orientation": "h",
           "showlegend": true,
           "text": [
            153,
            176
           ],
           "textposition": "auto",
           "type": "bar",
           "x": [
            153,
            176
           ],
           "xaxis": "x",
           "y": [
            "Vestland",
            "Rogaland"
           ],
           "yaxis": "y"
          }
         ],
         "name": "19 Mar"
        },
        {
         "data": [
          {
           "alignmentgroup": "True",
           "hoverlabel": {
            "namelength": 0
           },
           "hovertemplate": "RHF=Helse Midt-Norge<br>Dato=20 Mar<br>Registrerte smittede=%{text}<br>Fylke=%{y}",
           "ids": [
            "Trøndelag",
            "Møre og Romsdal"
           ],
           "legendgroup": "Helse Midt-Norge",
           "marker": {
            "color": "#636efa"
           },
           "name": "Helse Midt-Norge",
           "offsetgroup": "Helse Midt-Norge",
           "orientation": "h",
           "showlegend": true,
           "text": [
            97,
            29
           ],
           "textposition": "auto",
           "type": "bar",
           "x": [
            97,
            29
           ],
           "xaxis": "x",
           "y": [
            "Trøndelag",
            "Møre og Romsdal"
           ],
           "yaxis": "y"
          },
          {
           "alignmentgroup": "True",
           "hoverlabel": {
            "namelength": 0
           },
           "hovertemplate": "RHF=Helse Nord<br>Dato=20 Mar<br>Registrerte smittede=%{text}<br>Fylke=%{y}",
           "ids": [
            "Troms og Finnmark",
            "Nordland"
           ],
           "legendgroup": "Helse Nord",
           "marker": {
            "color": "#EF553B"
           },
           "name": "Helse Nord",
           "offsetgroup": "Helse Nord",
           "orientation": "h",
           "showlegend": true,
           "text": [
            32,
            17
           ],
           "textposition": "auto",
           "type": "bar",
           "x": [
            32,
            17
           ],
           "xaxis": "x",
           "y": [
            "Troms og Finnmark",
            "Nordland"
           ],
           "yaxis": "y"
          },
          {
           "alignmentgroup": "True",
           "hoverlabel": {
            "namelength": 0
           },
           "hovertemplate": "RHF=Helse Sør-Øst<br>Dato=20 Mar<br>Registrerte smittede=%{text}<br>Fylke=%{y}",
           "ids": [
            "Innlandet",
            "Oslo",
            "Viken",
            "Agder",
            "Vestfold og Telemark"
           ],
           "legendgroup": "Helse Sør-Øst",
           "marker": {
            "color": "#00cc96"
           },
           "name": "Helse Sør-Øst",
           "offsetgroup": "Helse Sør-Øst",
           "orientation": "h",
           "showlegend": true,
           "text": [
            115,
            419,
            529,
            79,
            72
           ],
           "textposition": "auto",
           "type": "bar",
           "x": [
            115,
            419,
            529,
            79,
            72
           ],
           "xaxis": "x",
           "y": [
            "Innlandet",
            "Oslo",
            "Viken",
            "Agder",
            "Vestfold og Telemark"
           ],
           "yaxis": "y"
          },
          {
           "alignmentgroup": "True",
           "hoverlabel": {
            "namelength": 0
           },
           "hovertemplate": "RHF=Helse Vest<br>Dato=20 Mar<br>Registrerte smittede=%{text}<br>Fylke=%{y}",
           "ids": [
            "Vestland",
            "Rogaland"
           ],
           "legendgroup": "Helse Vest",
           "marker": {
            "color": "#ab63fa"
           },
           "name": "Helse Vest",
           "offsetgroup": "Helse Vest",
           "orientation": "h",
           "showlegend": true,
           "text": [
            173,
            180
           ],
           "textposition": "auto",
           "type": "bar",
           "x": [
            173,
            180
           ],
           "xaxis": "x",
           "y": [
            "Vestland",
            "Rogaland"
           ],
           "yaxis": "y"
          }
         ],
         "name": "20 Mar"
        },
        {
         "data": [
          {
           "alignmentgroup": "True",
           "hoverlabel": {
            "namelength": 0
           },
           "hovertemplate": "RHF=Helse Midt-Norge<br>Dato=21 Mar<br>Registrerte smittede=%{text}<br>Fylke=%{y}",
           "ids": [
            "Trøndelag",
            "Møre og Romsdal"
           ],
           "legendgroup": "Helse Midt-Norge",
           "marker": {
            "color": "#636efa"
           },
           "name": "Helse Midt-Norge",
           "offsetgroup": "Helse Midt-Norge",
           "orientation": "h",
           "showlegend": true,
           "text": [
            122,
            32
           ],
           "textposition": "auto",
           "type": "bar",
           "x": [
            122,
            32
           ],
           "xaxis": "x",
           "y": [
            "Trøndelag",
            "Møre og Romsdal"
           ],
           "yaxis": "y"
          },
          {
           "alignmentgroup": "True",
           "hoverlabel": {
            "namelength": 0
           },
           "hovertemplate": "RHF=Helse Nord<br>Dato=21 Mar<br>Registrerte smittede=%{text}<br>Fylke=%{y}",
           "ids": [
            "Nordland",
            "Troms og Finnmark"
           ],
           "legendgroup": "Helse Nord",
           "marker": {
            "color": "#EF553B"
           },
           "name": "Helse Nord",
           "offsetgroup": "Helse Nord",
           "orientation": "h",
           "showlegend": true,
           "text": [
            17,
            37
           ],
           "textposition": "auto",
           "type": "bar",
           "x": [
            17,
            37
           ],
           "xaxis": "x",
           "y": [
            "Nordland",
            "Troms og Finnmark"
           ],
           "yaxis": "y"
          },
          {
           "alignmentgroup": "True",
           "hoverlabel": {
            "namelength": 0
           },
           "hovertemplate": "RHF=Helse Sør-Øst<br>Dato=21 Mar<br>Registrerte smittede=%{text}<br>Fylke=%{y}",
           "ids": [
            "Agder",
            "Oslo",
            "Vestfold og Telemark",
            "Innlandet",
            "Viken"
           ],
           "legendgroup": "Helse Sør-Øst",
           "marker": {
            "color": "#00cc96"
           },
           "name": "Helse Sør-Øst",
           "offsetgroup": "Helse Sør-Øst",
           "orientation": "h",
           "showlegend": true,
           "text": [
            82,
            448,
            81,
            125,
            583
           ],
           "textposition": "auto",
           "type": "bar",
           "x": [
            82,
            448,
            81,
            125,
            583
           ],
           "xaxis": "x",
           "y": [
            "Agder",
            "Oslo",
            "Vestfold og Telemark",
            "Innlandet",
            "Viken"
           ],
           "yaxis": "y"
          },
          {
           "alignmentgroup": "True",
           "hoverlabel": {
            "namelength": 0
           },
           "hovertemplate": "RHF=Helse Vest<br>Dato=21 Mar<br>Registrerte smittede=%{text}<br>Fylke=%{y}",
           "ids": [
            "Vestland",
            "Rogaland"
           ],
           "legendgroup": "Helse Vest",
           "marker": {
            "color": "#ab63fa"
           },
           "name": "Helse Vest",
           "offsetgroup": "Helse Vest",
           "orientation": "h",
           "showlegend": true,
           "text": [
            200,
            199
           ],
           "textposition": "auto",
           "type": "bar",
           "x": [
            200,
            199
           ],
           "xaxis": "x",
           "y": [
            "Vestland",
            "Rogaland"
           ],
           "yaxis": "y"
          }
         ],
         "name": "21 Mar"
        },
        {
         "data": [
          {
           "alignmentgroup": "True",
           "hoverlabel": {
            "namelength": 0
           },
           "hovertemplate": "RHF=Helse Midt-Norge<br>Dato=22 Mar<br>Registrerte smittede=%{text}<br>Fylke=%{y}",
           "ids": [
            "Møre og Romsdal",
            "Trøndelag"
           ],
           "legendgroup": "Helse Midt-Norge",
           "marker": {
            "color": "#636efa"
           },
           "name": "Helse Midt-Norge",
           "offsetgroup": "Helse Midt-Norge",
           "orientation": "h",
           "showlegend": true,
           "text": [
            38,
            131
           ],
           "textposition": "auto",
           "type": "bar",
           "x": [
            38,
            131
           ],
           "xaxis": "x",
           "y": [
            "Møre og Romsdal",
            "Trøndelag"
           ],
           "yaxis": "y"
          },
          {
           "alignmentgroup": "True",
           "hoverlabel": {
            "namelength": 0
           },
           "hovertemplate": "RHF=Helse Nord<br>Dato=22 Mar<br>Registrerte smittede=%{text}<br>Fylke=%{y}",
           "ids": [
            "Nordland",
            "Troms og Finnmark"
           ],
           "legendgroup": "Helse Nord",
           "marker": {
            "color": "#EF553B"
           },
           "name": "Helse Nord",
           "offsetgroup": "Helse Nord",
           "orientation": "h",
           "showlegend": true,
           "text": [
            19,
            49
           ],
           "textposition": "auto",
           "type": "bar",
           "x": [
            19,
            49
           ],
           "xaxis": "x",
           "y": [
            "Nordland",
            "Troms og Finnmark"
           ],
           "yaxis": "y"
          },
          {
           "alignmentgroup": "True",
           "hoverlabel": {
            "namelength": 0
           },
           "hovertemplate": "RHF=Helse Sør-Øst<br>Dato=22 Mar<br>Registrerte smittede=%{text}<br>Fylke=%{y}",
           "ids": [
            "Vestfold og Telemark",
            "Agder",
            "Oslo",
            "Innlandet",
            "Viken"
           ],
           "legendgroup": "Helse Sør-Øst",
           "marker": {
            "color": "#00cc96"
           },
           "name": "Helse Sør-Øst",
           "offsetgroup": "Helse Sør-Øst",
           "orientation": "h",
           "showlegend": true,
           "text": [
            85,
            91,
            523,
            148,
            615
           ],
           "textposition": "auto",
           "type": "bar",
           "x": [
            85,
            91,
            523,
            148,
            615
           ],
           "xaxis": "x",
           "y": [
            "Vestfold og Telemark",
            "Agder",
            "Oslo",
            "Innlandet",
            "Viken"
           ],
           "yaxis": "y"
          },
          {
           "alignmentgroup": "True",
           "hoverlabel": {
            "namelength": 0
           },
           "hovertemplate": "RHF=Helse Vest<br>Dato=22 Mar<br>Registrerte smittede=%{text}<br>Fylke=%{y}",
           "ids": [
            "Rogaland",
            "Vestland"
           ],
           "legendgroup": "Helse Vest",
           "marker": {
            "color": "#ab63fa"
           },
           "name": "Helse Vest",
           "offsetgroup": "Helse Vest",
           "orientation": "h",
           "showlegend": true,
           "text": [
            219,
            214
           ],
           "textposition": "auto",
           "type": "bar",
           "x": [
            219,
            214
           ],
           "xaxis": "x",
           "y": [
            "Rogaland",
            "Vestland"
           ],
           "yaxis": "y"
          }
         ],
         "name": "22 Mar"
        }
       ],
       "layout": {
        "autosize": true,
        "barmode": "relative",
        "coloraxis": {
         "showscale": false
        },
        "height": 600,
        "legend": {
         "title": {
          "text": "RHF"
         },
         "tracegroupgap": 0
        },
        "margin": {
         "b": 0,
         "l": 100,
         "r": 100,
         "t": 150
        },
        "paper_bgcolor": "rgba(0, 0, 0, 0)",
        "sliders": [
         {
          "active": 0,
          "currentvalue": {
           "prefix": "Dato="
          },
          "len": 0.9,
          "pad": {
           "b": 10,
           "t": 60
          },
          "steps": [
           {
            "args": [
             [
              "09 Mar"
             ],
             {
              "frame": {
               "duration": 0,
               "redraw": true
              },
              "fromcurrent": true,
              "mode": "immediate",
              "transition": {
               "duration": 0,
               "easing": "linear"
              }
             }
            ],
            "label": "09 Mar",
            "method": "animate"
           },
           {
            "args": [
             [
              "10 Mar"
             ],
             {
              "frame": {
               "duration": 0,
               "redraw": true
              },
              "fromcurrent": true,
              "mode": "immediate",
              "transition": {
               "duration": 0,
               "easing": "linear"
              }
             }
            ],
            "label": "10 Mar",
            "method": "animate"
           },
           {
            "args": [
             [
              "11 Mar"
             ],
             {
              "frame": {
               "duration": 0,
               "redraw": true
              },
              "fromcurrent": true,
              "mode": "immediate",
              "transition": {
               "duration": 0,
               "easing": "linear"
              }
             }
            ],
            "label": "11 Mar",
            "method": "animate"
           },
           {
            "args": [
             [
              "12 Mar"
             ],
             {
              "frame": {
               "duration": 0,
               "redraw": true
              },
              "fromcurrent": true,
              "mode": "immediate",
              "transition": {
               "duration": 0,
               "easing": "linear"
              }
             }
            ],
            "label": "12 Mar",
            "method": "animate"
           },
           {
            "args": [
             [
              "13 Mar"
             ],
             {
              "frame": {
               "duration": 0,
               "redraw": true
              },
              "fromcurrent": true,
              "mode": "immediate",
              "transition": {
               "duration": 0,
               "easing": "linear"
              }
             }
            ],
            "label": "13 Mar",
            "method": "animate"
           },
           {
            "args": [
             [
              "14 Mar"
             ],
             {
              "frame": {
               "duration": 0,
               "redraw": true
              },
              "fromcurrent": true,
              "mode": "immediate",
              "transition": {
               "duration": 0,
               "easing": "linear"
              }
             }
            ],
            "label": "14 Mar",
            "method": "animate"
           },
           {
            "args": [
             [
              "15 Mar"
             ],
             {
              "frame": {
               "duration": 0,
               "redraw": true
              },
              "fromcurrent": true,
              "mode": "immediate",
              "transition": {
               "duration": 0,
               "easing": "linear"
              }
             }
            ],
            "label": "15 Mar",
            "method": "animate"
           },
           {
            "args": [
             [
              "16 Mar"
             ],
             {
              "frame": {
               "duration": 0,
               "redraw": true
              },
              "fromcurrent": true,
              "mode": "immediate",
              "transition": {
               "duration": 0,
               "easing": "linear"
              }
             }
            ],
            "label": "16 Mar",
            "method": "animate"
           },
           {
            "args": [
             [
              "17 Mar"
             ],
             {
              "frame": {
               "duration": 0,
               "redraw": true
              },
              "fromcurrent": true,
              "mode": "immediate",
              "transition": {
               "duration": 0,
               "easing": "linear"
              }
             }
            ],
            "label": "17 Mar",
            "method": "animate"
           },
           {
            "args": [
             [
              "18 Mar"
             ],
             {
              "frame": {
               "duration": 0,
               "redraw": true
              },
              "fromcurrent": true,
              "mode": "immediate",
              "transition": {
               "duration": 0,
               "easing": "linear"
              }
             }
            ],
            "label": "18 Mar",
            "method": "animate"
           },
           {
            "args": [
             [
              "19 Mar"
             ],
             {
              "frame": {
               "duration": 0,
               "redraw": true
              },
              "fromcurrent": true,
              "mode": "immediate",
              "transition": {
               "duration": 0,
               "easing": "linear"
              }
             }
            ],
            "label": "19 Mar",
            "method": "animate"
           },
           {
            "args": [
             [
              "20 Mar"
             ],
             {
              "frame": {
               "duration": 0,
               "redraw": true
              },
              "fromcurrent": true,
              "mode": "immediate",
              "transition": {
               "duration": 0,
               "easing": "linear"
              }
             }
            ],
            "label": "20 Mar",
            "method": "animate"
           },
           {
            "args": [
             [
              "21 Mar"
             ],
             {
              "frame": {
               "duration": 0,
               "redraw": true
              },
              "fromcurrent": true,
              "mode": "immediate",
              "transition": {
               "duration": 0,
               "easing": "linear"
              }
             }
            ],
            "label": "21 Mar",
            "method": "animate"
           },
           {
            "args": [
             [
              "22 Mar"
             ],
             {
              "frame": {
               "duration": 0,
               "redraw": true
              },
              "fromcurrent": true,
              "mode": "immediate",
              "transition": {
               "duration": 0,
               "easing": "linear"
              }
             }
            ],
            "label": "22 Mar",
            "method": "animate"
           }
          ],
          "x": 0.1,
          "xanchor": "left",
          "y": 0,
          "yanchor": "top"
         }
        ],
        "template": {
         "data": {
          "bar": [
           {
            "error_x": {
             "color": "#2a3f5f"
            },
            "error_y": {
             "color": "#2a3f5f"
            },
            "marker": {
             "line": {
              "color": "white",
              "width": 0.5
             }
            },
            "type": "bar"
           }
          ],
          "barpolar": [
           {
            "marker": {
             "line": {
              "color": "white",
              "width": 0.5
             }
            },
            "type": "barpolar"
           }
          ],
          "carpet": [
           {
            "aaxis": {
             "endlinecolor": "#2a3f5f",
             "gridcolor": "#C8D4E3",
             "linecolor": "#C8D4E3",
             "minorgridcolor": "#C8D4E3",
             "startlinecolor": "#2a3f5f"
            },
            "baxis": {
             "endlinecolor": "#2a3f5f",
             "gridcolor": "#C8D4E3",
             "linecolor": "#C8D4E3",
             "minorgridcolor": "#C8D4E3",
             "startlinecolor": "#2a3f5f"
            },
            "type": "carpet"
           }
          ],
          "choropleth": [
           {
            "colorbar": {
             "outlinewidth": 0,
             "ticks": ""
            },
            "type": "choropleth"
           }
          ],
          "contour": [
           {
            "colorbar": {
             "outlinewidth": 0,
             "ticks": ""
            },
            "colorscale": [
             [
              0,
              "#0d0887"
             ],
             [
              0.1111111111111111,
              "#46039f"
             ],
             [
              0.2222222222222222,
              "#7201a8"
             ],
             [
              0.3333333333333333,
              "#9c179e"
             ],
             [
              0.4444444444444444,
              "#bd3786"
             ],
             [
              0.5555555555555556,
              "#d8576b"
             ],
             [
              0.6666666666666666,
              "#ed7953"
             ],
             [
              0.7777777777777778,
              "#fb9f3a"
             ],
             [
              0.8888888888888888,
              "#fdca26"
             ],
             [
              1,
              "#f0f921"
             ]
            ],
            "type": "contour"
           }
          ],
          "contourcarpet": [
           {
            "colorbar": {
             "outlinewidth": 0,
             "ticks": ""
            },
            "type": "contourcarpet"
           }
          ],
          "heatmap": [
           {
            "colorbar": {
             "outlinewidth": 0,
             "ticks": ""
            },
            "colorscale": [
             [
              0,
              "#0d0887"
             ],
             [
              0.1111111111111111,
              "#46039f"
             ],
             [
              0.2222222222222222,
              "#7201a8"
             ],
             [
              0.3333333333333333,
              "#9c179e"
             ],
             [
              0.4444444444444444,
              "#bd3786"
             ],
             [
              0.5555555555555556,
              "#d8576b"
             ],
             [
              0.6666666666666666,
              "#ed7953"
             ],
             [
              0.7777777777777778,
              "#fb9f3a"
             ],
             [
              0.8888888888888888,
              "#fdca26"
             ],
             [
              1,
              "#f0f921"
             ]
            ],
            "type": "heatmap"
           }
          ],
          "heatmapgl": [
           {
            "colorbar": {
             "outlinewidth": 0,
             "ticks": ""
            },
            "colorscale": [
             [
              0,
              "#0d0887"
             ],
             [
              0.1111111111111111,
              "#46039f"
             ],
             [
              0.2222222222222222,
              "#7201a8"
             ],
             [
              0.3333333333333333,
              "#9c179e"
             ],
             [
              0.4444444444444444,
              "#bd3786"
             ],
             [
              0.5555555555555556,
              "#d8576b"
             ],
             [
              0.6666666666666666,
              "#ed7953"
             ],
             [
              0.7777777777777778,
              "#fb9f3a"
             ],
             [
              0.8888888888888888,
              "#fdca26"
             ],
             [
              1,
              "#f0f921"
             ]
            ],
            "type": "heatmapgl"
           }
          ],
          "histogram": [
           {
            "marker": {
             "colorbar": {
              "outlinewidth": 0,
              "ticks": ""
             }
            },
            "type": "histogram"
           }
          ],
          "histogram2d": [
           {
            "colorbar": {
             "outlinewidth": 0,
             "ticks": ""
            },
            "colorscale": [
             [
              0,
              "#0d0887"
             ],
             [
              0.1111111111111111,
              "#46039f"
             ],
             [
              0.2222222222222222,
              "#7201a8"
             ],
             [
              0.3333333333333333,
              "#9c179e"
             ],
             [
              0.4444444444444444,
              "#bd3786"
             ],
             [
              0.5555555555555556,
              "#d8576b"
             ],
             [
              0.6666666666666666,
              "#ed7953"
             ],
             [
              0.7777777777777778,
              "#fb9f3a"
             ],
             [
              0.8888888888888888,
              "#fdca26"
             ],
             [
              1,
              "#f0f921"
             ]
            ],
            "type": "histogram2d"
           }
          ],
          "histogram2dcontour": [
           {
            "colorbar": {
             "outlinewidth": 0,
             "ticks": ""
            },
            "colorscale": [
             [
              0,
              "#0d0887"
             ],
             [
              0.1111111111111111,
              "#46039f"
             ],
             [
              0.2222222222222222,
              "#7201a8"
             ],
             [
              0.3333333333333333,
              "#9c179e"
             ],
             [
              0.4444444444444444,
              "#bd3786"
             ],
             [
              0.5555555555555556,
              "#d8576b"
             ],
             [
              0.6666666666666666,
              "#ed7953"
             ],
             [
              0.7777777777777778,
              "#fb9f3a"
             ],
             [
              0.8888888888888888,
              "#fdca26"
             ],
             [
              1,
              "#f0f921"
             ]
            ],
            "type": "histogram2dcontour"
           }
          ],
          "mesh3d": [
           {
            "colorbar": {
             "outlinewidth": 0,
             "ticks": ""
            },
            "type": "mesh3d"
           }
          ],
          "parcoords": [
           {
            "line": {
             "colorbar": {
              "outlinewidth": 0,
              "ticks": ""
             }
            },
            "type": "parcoords"
           }
          ],
          "pie": [
           {
            "automargin": true,
            "type": "pie"
           }
          ],
          "scatter": [
           {
            "marker": {
             "colorbar": {
              "outlinewidth": 0,
              "ticks": ""
             }
            },
            "type": "scatter"
           }
          ],
          "scatter3d": [
           {
            "line": {
             "colorbar": {
              "outlinewidth": 0,
              "ticks": ""
             }
            },
            "marker": {
             "colorbar": {
              "outlinewidth": 0,
              "ticks": ""
             }
            },
            "type": "scatter3d"
           }
          ],
          "scattercarpet": [
           {
            "marker": {
             "colorbar": {
              "outlinewidth": 0,
              "ticks": ""
             }
            },
            "type": "scattercarpet"
           }
          ],
          "scattergeo": [
           {
            "marker": {
             "colorbar": {
              "outlinewidth": 0,
              "ticks": ""
             }
            },
            "type": "scattergeo"
           }
          ],
          "scattergl": [
           {
            "marker": {
             "colorbar": {
              "outlinewidth": 0,
              "ticks": ""
             }
            },
            "type": "scattergl"
           }
          ],
          "scattermapbox": [
           {
            "marker": {
             "colorbar": {
              "outlinewidth": 0,
              "ticks": ""
             }
            },
            "type": "scattermapbox"
           }
          ],
          "scatterpolar": [
           {
            "marker": {
             "colorbar": {
              "outlinewidth": 0,
              "ticks": ""
             }
            },
            "type": "scatterpolar"
           }
          ],
          "scatterpolargl": [
           {
            "marker": {
             "colorbar": {
              "outlinewidth": 0,
              "ticks": ""
             }
            },
            "type": "scatterpolargl"
           }
          ],
          "scatterternary": [
           {
            "marker": {
             "colorbar": {
              "outlinewidth": 0,
              "ticks": ""
             }
            },
            "type": "scatterternary"
           }
          ],
          "surface": [
           {
            "colorbar": {
             "outlinewidth": 0,
             "ticks": ""
            },
            "colorscale": [
             [
              0,
              "#0d0887"
             ],
             [
              0.1111111111111111,
              "#46039f"
             ],
             [
              0.2222222222222222,
              "#7201a8"
             ],
             [
              0.3333333333333333,
              "#9c179e"
             ],
             [
              0.4444444444444444,
              "#bd3786"
             ],
             [
              0.5555555555555556,
              "#d8576b"
             ],
             [
              0.6666666666666666,
              "#ed7953"
             ],
             [
              0.7777777777777778,
              "#fb9f3a"
             ],
             [
              0.8888888888888888,
              "#fdca26"
             ],
             [
              1,
              "#f0f921"
             ]
            ],
            "type": "surface"
           }
          ],
          "table": [
           {
            "cells": {
             "fill": {
              "color": "#EBF0F8"
             },
             "line": {
              "color": "white"
             }
            },
            "header": {
             "fill": {
              "color": "#C8D4E3"
             },
             "line": {
              "color": "white"
             }
            },
            "type": "table"
           }
          ]
         },
         "layout": {
          "annotationdefaults": {
           "arrowcolor": "#2a3f5f",
           "arrowhead": 0,
           "arrowwidth": 1
          },
          "coloraxis": {
           "colorbar": {
            "outlinewidth": 0,
            "ticks": ""
           }
          },
          "colorscale": {
           "diverging": [
            [
             0,
             "#8e0152"
            ],
            [
             0.1,
             "#c51b7d"
            ],
            [
             0.2,
             "#de77ae"
            ],
            [
             0.3,
             "#f1b6da"
            ],
            [
             0.4,
             "#fde0ef"
            ],
            [
             0.5,
             "#f7f7f7"
            ],
            [
             0.6,
             "#e6f5d0"
            ],
            [
             0.7,
             "#b8e186"
            ],
            [
             0.8,
             "#7fbc41"
            ],
            [
             0.9,
             "#4d9221"
            ],
            [
             1,
             "#276419"
            ]
           ],
           "sequential": [
            [
             0,
             "#0d0887"
            ],
            [
             0.1111111111111111,
             "#46039f"
            ],
            [
             0.2222222222222222,
             "#7201a8"
            ],
            [
             0.3333333333333333,
             "#9c179e"
            ],
            [
             0.4444444444444444,
             "#bd3786"
            ],
            [
             0.5555555555555556,
             "#d8576b"
            ],
            [
             0.6666666666666666,
             "#ed7953"
            ],
            [
             0.7777777777777778,
             "#fb9f3a"
            ],
            [
             0.8888888888888888,
             "#fdca26"
            ],
            [
             1,
             "#f0f921"
            ]
           ],
           "sequentialminus": [
            [
             0,
             "#0d0887"
            ],
            [
             0.1111111111111111,
             "#46039f"
            ],
            [
             0.2222222222222222,
             "#7201a8"
            ],
            [
             0.3333333333333333,
             "#9c179e"
            ],
            [
             0.4444444444444444,
             "#bd3786"
            ],
            [
             0.5555555555555556,
             "#d8576b"
            ],
            [
             0.6666666666666666,
             "#ed7953"
            ],
            [
             0.7777777777777778,
             "#fb9f3a"
            ],
            [
             0.8888888888888888,
             "#fdca26"
            ],
            [
             1,
             "#f0f921"
            ]
           ]
          },
          "colorway": [
           "#636efa",
           "#EF553B",
           "#00cc96",
           "#ab63fa",
           "#FFA15A",
           "#19d3f3",
           "#FF6692",
           "#B6E880",
           "#FF97FF",
           "#FECB52"
          ],
          "font": {
           "color": "#2a3f5f"
          },
          "geo": {
           "bgcolor": "white",
           "lakecolor": "white",
           "landcolor": "white",
           "showlakes": true,
           "showland": true,
           "subunitcolor": "#C8D4E3"
          },
          "hoverlabel": {
           "align": "left"
          },
          "hovermode": "closest",
          "mapbox": {
           "style": "light"
          },
          "paper_bgcolor": "white",
          "plot_bgcolor": "white",
          "polar": {
           "angularaxis": {
            "gridcolor": "#EBF0F8",
            "linecolor": "#EBF0F8",
            "ticks": ""
           },
           "bgcolor": "white",
           "radialaxis": {
            "gridcolor": "#EBF0F8",
            "linecolor": "#EBF0F8",
            "ticks": ""
           }
          },
          "scene": {
           "xaxis": {
            "backgroundcolor": "white",
            "gridcolor": "#DFE8F3",
            "gridwidth": 2,
            "linecolor": "#EBF0F8",
            "showbackground": true,
            "ticks": "",
            "zerolinecolor": "#EBF0F8"
           },
           "yaxis": {
            "backgroundcolor": "white",
            "gridcolor": "#DFE8F3",
            "gridwidth": 2,
            "linecolor": "#EBF0F8",
            "showbackground": true,
            "ticks": "",
            "zerolinecolor": "#EBF0F8"
           },
           "zaxis": {
            "backgroundcolor": "white",
            "gridcolor": "#DFE8F3",
            "gridwidth": 2,
            "linecolor": "#EBF0F8",
            "showbackground": true,
            "ticks": "",
            "zerolinecolor": "#EBF0F8"
           }
          },
          "shapedefaults": {
           "line": {
            "color": "#2a3f5f"
           }
          },
          "ternary": {
           "aaxis": {
            "gridcolor": "#DFE8F3",
            "linecolor": "#A2B1C6",
            "ticks": ""
           },
           "baxis": {
            "gridcolor": "#DFE8F3",
            "linecolor": "#A2B1C6",
            "ticks": ""
           },
           "bgcolor": "white",
           "caxis": {
            "gridcolor": "#DFE8F3",
            "linecolor": "#A2B1C6",
            "ticks": ""
           }
          },
          "title": {
           "x": 0.05
          },
          "xaxis": {
           "automargin": true,
           "gridcolor": "#EBF0F8",
           "linecolor": "#EBF0F8",
           "ticks": "",
           "title": {
            "standoff": 15
           },
           "zerolinecolor": "#EBF0F8",
           "zerolinewidth": 2
          },
          "yaxis": {
           "automargin": true,
           "gridcolor": "#EBF0F8",
           "linecolor": "#EBF0F8",
           "ticks": "",
           "title": {
            "standoff": 15
           },
           "zerolinecolor": "#EBF0F8",
           "zerolinewidth": 2
          }
         }
        },
        "title": {
         "font": {
          "family": "Helvetica",
          "size": 18
         },
         "text": "<b>COVID19: Registrert smittet i Norge</b><br>Fordeling per fylke<br>Datakilde: FHI - folkehelseinstituttet. Oppdatert 23.03.2020"
        },
        "updatemenus": [
         {
          "buttons": [
           {
            "args": [
             null,
             {
              "frame": {
               "duration": 500,
               "redraw": true
              },
              "fromcurrent": true,
              "mode": "immediate",
              "transition": {
               "duration": 500,
               "easing": "linear"
              }
             }
            ],
            "label": "&#9654;",
            "method": "animate"
           },
           {
            "args": [
             [
              null
             ],
             {
              "frame": {
               "duration": 0,
               "redraw": true
              },
              "fromcurrent": true,
              "mode": "immediate",
              "transition": {
               "duration": 0,
               "easing": "linear"
              }
             }
            ],
            "label": "&#9724;",
            "method": "animate"
           }
          ],
          "direction": "left",
          "pad": {
           "r": 10,
           "t": 70
          },
          "showactive": false,
          "type": "buttons",
          "x": 0.1,
          "xanchor": "right",
          "y": 0,
          "yanchor": "top"
         }
        ],
        "xaxis": {
         "anchor": "y",
         "domain": [
          0,
          1
         ],
         "fixedrange": true,
         "range": [
          0,
          600
         ],
         "title": {
          "text": ""
         }
        },
        "yaxis": {
         "anchor": "x",
         "categoryorder": "total ascending",
         "domain": [
          0,
          1
         ],
         "fixedrange": true,
         "separatethousands": true,
         "title": {
          "text": ""
         }
        }
       }
      },
      "text/html": [
       "<div>\n",
       "        \n",
       "        \n",
       "            <div id=\"068ac02d-899e-4f0c-be9b-28a8afeef02f\" class=\"plotly-graph-div\" style=\"height:600px; width:100%;\"></div>\n",
       "            <script type=\"text/javascript\">\n",
       "                require([\"plotly\"], function(Plotly) {\n",
       "                    window.PLOTLYENV=window.PLOTLYENV || {};\n",
       "                    \n",
       "                if (document.getElementById(\"068ac02d-899e-4f0c-be9b-28a8afeef02f\")) {\n",
       "                    Plotly.newPlot(\n",
       "                        '068ac02d-899e-4f0c-be9b-28a8afeef02f',\n",
       "                        [{\"alignmentgroup\": \"True\", \"hoverlabel\": {\"namelength\": 0}, \"hovertemplate\": \"RHF=Helse Midt-Norge<br>Dato=09 Mar<br>Registrerte smittede=%{text}<br>Fylke=%{y}\", \"ids\": [\"Tr\\u00f8ndelag\", \"M\\u00f8re og Romsdal\"], \"legendgroup\": \"Helse Midt-Norge\", \"marker\": {\"color\": \"#636efa\"}, \"name\": \"Helse Midt-Norge\", \"offsetgroup\": \"Helse Midt-Norge\", \"orientation\": \"h\", \"showlegend\": true, \"text\": [22.0, 5.0], \"textposition\": \"auto\", \"type\": \"bar\", \"x\": [22, 5], \"xaxis\": \"x\", \"y\": [\"Tr\\u00f8ndelag\", \"M\\u00f8re og Romsdal\"], \"yaxis\": \"y\"}, {\"alignmentgroup\": \"True\", \"hoverlabel\": {\"namelength\": 0}, \"hovertemplate\": \"RHF=Helse Nord<br>Dato=09 Mar<br>Registrerte smittede=%{text}<br>Fylke=%{y}\", \"ids\": [\"Troms og Finnmark\", \"Nordland\"], \"legendgroup\": \"Helse Nord\", \"marker\": {\"color\": \"#EF553B\"}, \"name\": \"Helse Nord\", \"offsetgroup\": \"Helse Nord\", \"orientation\": \"h\", \"showlegend\": true, \"text\": [6.0, 3.0], \"textposition\": \"auto\", \"type\": \"bar\", \"x\": [6, 3], \"xaxis\": \"x\", \"y\": [\"Troms og Finnmark\", \"Nordland\"], \"yaxis\": \"y\"}, {\"alignmentgroup\": \"True\", \"hoverlabel\": {\"namelength\": 0}, \"hovertemplate\": \"RHF=Helse S\\u00f8r-\\u00d8st<br>Dato=09 Mar<br>Registrerte smittede=%{text}<br>Fylke=%{y}\", \"ids\": [\"Agder\", \"Oslo\", \"Vestfold og Telemark\", \"Innlandet\", \"Viken\"], \"legendgroup\": \"Helse S\\u00f8r-\\u00d8st\", \"marker\": {\"color\": \"#00cc96\"}, \"name\": \"Helse S\\u00f8r-\\u00d8st\", \"offsetgroup\": \"Helse S\\u00f8r-\\u00d8st\", \"orientation\": \"h\", \"showlegend\": true, \"text\": [19.0, 51.0, 5.0, 16.0, 86.0], \"textposition\": \"auto\", \"type\": \"bar\", \"x\": [19, 51, 5, 16, 86], \"xaxis\": \"x\", \"y\": [\"Agder\", \"Oslo\", \"Vestfold og Telemark\", \"Innlandet\", \"Viken\"], \"yaxis\": \"y\"}, {\"alignmentgroup\": \"True\", \"hoverlabel\": {\"namelength\": 0}, \"hovertemplate\": \"RHF=Helse Vest<br>Dato=09 Mar<br>Registrerte smittede=%{text}<br>Fylke=%{y}\", \"ids\": [\"Vestland\", \"Rogaland\"], \"legendgroup\": \"Helse Vest\", \"marker\": {\"color\": \"#ab63fa\"}, \"name\": \"Helse Vest\", \"offsetgroup\": \"Helse Vest\", \"orientation\": \"h\", \"showlegend\": true, \"text\": [31.0, 33.0], \"textposition\": \"auto\", \"type\": \"bar\", \"x\": [31, 33], \"xaxis\": \"x\", \"y\": [\"Vestland\", \"Rogaland\"], \"yaxis\": \"y\"}],\n",
       "                        {\"autosize\": true, \"barmode\": \"relative\", \"coloraxis\": {\"showscale\": false}, \"height\": 600, \"legend\": {\"title\": {\"text\": \"RHF\"}, \"tracegroupgap\": 0}, \"margin\": {\"b\": 0, \"l\": 100, \"r\": 100, \"t\": 150}, \"paper_bgcolor\": \"rgba(0, 0, 0, 0)\", \"sliders\": [{\"active\": 0, \"currentvalue\": {\"prefix\": \"Dato=\"}, \"len\": 0.9, \"pad\": {\"b\": 10, \"t\": 60}, \"steps\": [{\"args\": [[\"09 Mar\"], {\"frame\": {\"duration\": 0, \"redraw\": true}, \"fromcurrent\": true, \"mode\": \"immediate\", \"transition\": {\"duration\": 0, \"easing\": \"linear\"}}], \"label\": \"09 Mar\", \"method\": \"animate\"}, {\"args\": [[\"10 Mar\"], {\"frame\": {\"duration\": 0, \"redraw\": true}, \"fromcurrent\": true, \"mode\": \"immediate\", \"transition\": {\"duration\": 0, \"easing\": \"linear\"}}], \"label\": \"10 Mar\", \"method\": \"animate\"}, {\"args\": [[\"11 Mar\"], {\"frame\": {\"duration\": 0, \"redraw\": true}, \"fromcurrent\": true, \"mode\": \"immediate\", \"transition\": {\"duration\": 0, \"easing\": \"linear\"}}], \"label\": \"11 Mar\", \"method\": \"animate\"}, {\"args\": [[\"12 Mar\"], {\"frame\": {\"duration\": 0, \"redraw\": true}, \"fromcurrent\": true, \"mode\": \"immediate\", \"transition\": {\"duration\": 0, \"easing\": \"linear\"}}], \"label\": \"12 Mar\", \"method\": \"animate\"}, {\"args\": [[\"13 Mar\"], {\"frame\": {\"duration\": 0, \"redraw\": true}, \"fromcurrent\": true, \"mode\": \"immediate\", \"transition\": {\"duration\": 0, \"easing\": \"linear\"}}], \"label\": \"13 Mar\", \"method\": \"animate\"}, {\"args\": [[\"14 Mar\"], {\"frame\": {\"duration\": 0, \"redraw\": true}, \"fromcurrent\": true, \"mode\": \"immediate\", \"transition\": {\"duration\": 0, \"easing\": \"linear\"}}], \"label\": \"14 Mar\", \"method\": \"animate\"}, {\"args\": [[\"15 Mar\"], {\"frame\": {\"duration\": 0, \"redraw\": true}, \"fromcurrent\": true, \"mode\": \"immediate\", \"transition\": {\"duration\": 0, \"easing\": \"linear\"}}], \"label\": \"15 Mar\", \"method\": \"animate\"}, {\"args\": [[\"16 Mar\"], {\"frame\": {\"duration\": 0, \"redraw\": true}, \"fromcurrent\": true, \"mode\": \"immediate\", \"transition\": {\"duration\": 0, \"easing\": \"linear\"}}], \"label\": \"16 Mar\", \"method\": \"animate\"}, {\"args\": [[\"17 Mar\"], {\"frame\": {\"duration\": 0, \"redraw\": true}, \"fromcurrent\": true, \"mode\": \"immediate\", \"transition\": {\"duration\": 0, \"easing\": \"linear\"}}], \"label\": \"17 Mar\", \"method\": \"animate\"}, {\"args\": [[\"18 Mar\"], {\"frame\": {\"duration\": 0, \"redraw\": true}, \"fromcurrent\": true, \"mode\": \"immediate\", \"transition\": {\"duration\": 0, \"easing\": \"linear\"}}], \"label\": \"18 Mar\", \"method\": \"animate\"}, {\"args\": [[\"19 Mar\"], {\"frame\": {\"duration\": 0, \"redraw\": true}, \"fromcurrent\": true, \"mode\": \"immediate\", \"transition\": {\"duration\": 0, \"easing\": \"linear\"}}], \"label\": \"19 Mar\", \"method\": \"animate\"}, {\"args\": [[\"20 Mar\"], {\"frame\": {\"duration\": 0, \"redraw\": true}, \"fromcurrent\": true, \"mode\": \"immediate\", \"transition\": {\"duration\": 0, \"easing\": \"linear\"}}], \"label\": \"20 Mar\", \"method\": \"animate\"}, {\"args\": [[\"21 Mar\"], {\"frame\": {\"duration\": 0, \"redraw\": true}, \"fromcurrent\": true, \"mode\": \"immediate\", \"transition\": {\"duration\": 0, \"easing\": \"linear\"}}], \"label\": \"21 Mar\", \"method\": \"animate\"}, {\"args\": [[\"22 Mar\"], {\"frame\": {\"duration\": 0, \"redraw\": true}, \"fromcurrent\": true, \"mode\": \"immediate\", \"transition\": {\"duration\": 0, \"easing\": \"linear\"}}], \"label\": \"22 Mar\", \"method\": \"animate\"}], \"x\": 0.1, \"xanchor\": \"left\", \"y\": 0, \"yanchor\": \"top\"}], \"template\": {\"data\": {\"bar\": [{\"error_x\": {\"color\": \"#2a3f5f\"}, \"error_y\": {\"color\": \"#2a3f5f\"}, \"marker\": {\"line\": {\"color\": \"white\", \"width\": 0.5}}, \"type\": \"bar\"}], \"barpolar\": [{\"marker\": {\"line\": {\"color\": \"white\", \"width\": 0.5}}, \"type\": \"barpolar\"}], \"carpet\": [{\"aaxis\": {\"endlinecolor\": \"#2a3f5f\", \"gridcolor\": \"#C8D4E3\", \"linecolor\": \"#C8D4E3\", \"minorgridcolor\": \"#C8D4E3\", \"startlinecolor\": \"#2a3f5f\"}, \"baxis\": {\"endlinecolor\": \"#2a3f5f\", \"gridcolor\": \"#C8D4E3\", \"linecolor\": \"#C8D4E3\", \"minorgridcolor\": \"#C8D4E3\", \"startlinecolor\": \"#2a3f5f\"}, \"type\": \"carpet\"}], \"choropleth\": [{\"colorbar\": {\"outlinewidth\": 0, \"ticks\": \"\"}, \"type\": \"choropleth\"}], \"contour\": [{\"colorbar\": {\"outlinewidth\": 0, \"ticks\": \"\"}, \"colorscale\": [[0.0, \"#0d0887\"], [0.1111111111111111, \"#46039f\"], [0.2222222222222222, \"#7201a8\"], [0.3333333333333333, \"#9c179e\"], [0.4444444444444444, \"#bd3786\"], [0.5555555555555556, \"#d8576b\"], [0.6666666666666666, \"#ed7953\"], [0.7777777777777778, \"#fb9f3a\"], [0.8888888888888888, \"#fdca26\"], [1.0, \"#f0f921\"]], \"type\": \"contour\"}], \"contourcarpet\": [{\"colorbar\": {\"outlinewidth\": 0, \"ticks\": \"\"}, \"type\": \"contourcarpet\"}], \"heatmap\": [{\"colorbar\": {\"outlinewidth\": 0, \"ticks\": \"\"}, \"colorscale\": [[0.0, \"#0d0887\"], [0.1111111111111111, \"#46039f\"], [0.2222222222222222, \"#7201a8\"], [0.3333333333333333, \"#9c179e\"], [0.4444444444444444, \"#bd3786\"], [0.5555555555555556, \"#d8576b\"], [0.6666666666666666, \"#ed7953\"], [0.7777777777777778, \"#fb9f3a\"], [0.8888888888888888, \"#fdca26\"], [1.0, \"#f0f921\"]], \"type\": \"heatmap\"}], \"heatmapgl\": [{\"colorbar\": {\"outlinewidth\": 0, \"ticks\": \"\"}, \"colorscale\": [[0.0, \"#0d0887\"], [0.1111111111111111, \"#46039f\"], [0.2222222222222222, \"#7201a8\"], [0.3333333333333333, \"#9c179e\"], [0.4444444444444444, \"#bd3786\"], [0.5555555555555556, \"#d8576b\"], [0.6666666666666666, \"#ed7953\"], [0.7777777777777778, \"#fb9f3a\"], [0.8888888888888888, \"#fdca26\"], [1.0, \"#f0f921\"]], \"type\": \"heatmapgl\"}], \"histogram\": [{\"marker\": {\"colorbar\": {\"outlinewidth\": 0, \"ticks\": \"\"}}, \"type\": \"histogram\"}], \"histogram2d\": [{\"colorbar\": {\"outlinewidth\": 0, \"ticks\": \"\"}, \"colorscale\": [[0.0, \"#0d0887\"], [0.1111111111111111, \"#46039f\"], [0.2222222222222222, \"#7201a8\"], [0.3333333333333333, \"#9c179e\"], [0.4444444444444444, \"#bd3786\"], [0.5555555555555556, \"#d8576b\"], [0.6666666666666666, \"#ed7953\"], [0.7777777777777778, \"#fb9f3a\"], [0.8888888888888888, \"#fdca26\"], [1.0, \"#f0f921\"]], \"type\": \"histogram2d\"}], \"histogram2dcontour\": [{\"colorbar\": {\"outlinewidth\": 0, \"ticks\": \"\"}, \"colorscale\": [[0.0, \"#0d0887\"], [0.1111111111111111, \"#46039f\"], [0.2222222222222222, \"#7201a8\"], [0.3333333333333333, \"#9c179e\"], [0.4444444444444444, \"#bd3786\"], [0.5555555555555556, \"#d8576b\"], [0.6666666666666666, \"#ed7953\"], [0.7777777777777778, \"#fb9f3a\"], [0.8888888888888888, \"#fdca26\"], [1.0, \"#f0f921\"]], \"type\": \"histogram2dcontour\"}], \"mesh3d\": [{\"colorbar\": {\"outlinewidth\": 0, \"ticks\": \"\"}, \"type\": \"mesh3d\"}], \"parcoords\": [{\"line\": {\"colorbar\": {\"outlinewidth\": 0, \"ticks\": \"\"}}, \"type\": \"parcoords\"}], \"pie\": [{\"automargin\": true, \"type\": \"pie\"}], \"scatter\": [{\"marker\": {\"colorbar\": {\"outlinewidth\": 0, \"ticks\": \"\"}}, \"type\": \"scatter\"}], \"scatter3d\": [{\"line\": {\"colorbar\": {\"outlinewidth\": 0, \"ticks\": \"\"}}, \"marker\": {\"colorbar\": {\"outlinewidth\": 0, \"ticks\": \"\"}}, \"type\": \"scatter3d\"}], \"scattercarpet\": [{\"marker\": {\"colorbar\": {\"outlinewidth\": 0, \"ticks\": \"\"}}, \"type\": \"scattercarpet\"}], \"scattergeo\": [{\"marker\": {\"colorbar\": {\"outlinewidth\": 0, \"ticks\": \"\"}}, \"type\": \"scattergeo\"}], \"scattergl\": [{\"marker\": {\"colorbar\": {\"outlinewidth\": 0, \"ticks\": \"\"}}, \"type\": \"scattergl\"}], \"scattermapbox\": [{\"marker\": {\"colorbar\": {\"outlinewidth\": 0, \"ticks\": \"\"}}, \"type\": \"scattermapbox\"}], \"scatterpolar\": [{\"marker\": {\"colorbar\": {\"outlinewidth\": 0, \"ticks\": \"\"}}, \"type\": \"scatterpolar\"}], \"scatterpolargl\": [{\"marker\": {\"colorbar\": {\"outlinewidth\": 0, \"ticks\": \"\"}}, \"type\": \"scatterpolargl\"}], \"scatterternary\": [{\"marker\": {\"colorbar\": {\"outlinewidth\": 0, \"ticks\": \"\"}}, \"type\": \"scatterternary\"}], \"surface\": [{\"colorbar\": {\"outlinewidth\": 0, \"ticks\": \"\"}, \"colorscale\": [[0.0, \"#0d0887\"], [0.1111111111111111, \"#46039f\"], [0.2222222222222222, \"#7201a8\"], [0.3333333333333333, \"#9c179e\"], [0.4444444444444444, \"#bd3786\"], [0.5555555555555556, \"#d8576b\"], [0.6666666666666666, \"#ed7953\"], [0.7777777777777778, \"#fb9f3a\"], [0.8888888888888888, \"#fdca26\"], [1.0, \"#f0f921\"]], \"type\": \"surface\"}], \"table\": [{\"cells\": {\"fill\": {\"color\": \"#EBF0F8\"}, \"line\": {\"color\": \"white\"}}, \"header\": {\"fill\": {\"color\": \"#C8D4E3\"}, \"line\": {\"color\": \"white\"}}, \"type\": \"table\"}]}, \"layout\": {\"annotationdefaults\": {\"arrowcolor\": \"#2a3f5f\", \"arrowhead\": 0, \"arrowwidth\": 1}, \"coloraxis\": {\"colorbar\": {\"outlinewidth\": 0, \"ticks\": \"\"}}, \"colorscale\": {\"diverging\": [[0, \"#8e0152\"], [0.1, \"#c51b7d\"], [0.2, \"#de77ae\"], [0.3, \"#f1b6da\"], [0.4, \"#fde0ef\"], [0.5, \"#f7f7f7\"], [0.6, \"#e6f5d0\"], [0.7, \"#b8e186\"], [0.8, \"#7fbc41\"], [0.9, \"#4d9221\"], [1, \"#276419\"]], \"sequential\": [[0.0, \"#0d0887\"], [0.1111111111111111, \"#46039f\"], [0.2222222222222222, \"#7201a8\"], [0.3333333333333333, \"#9c179e\"], [0.4444444444444444, \"#bd3786\"], [0.5555555555555556, \"#d8576b\"], [0.6666666666666666, \"#ed7953\"], [0.7777777777777778, \"#fb9f3a\"], [0.8888888888888888, \"#fdca26\"], [1.0, \"#f0f921\"]], \"sequentialminus\": [[0.0, \"#0d0887\"], [0.1111111111111111, \"#46039f\"], [0.2222222222222222, \"#7201a8\"], [0.3333333333333333, \"#9c179e\"], [0.4444444444444444, \"#bd3786\"], [0.5555555555555556, \"#d8576b\"], [0.6666666666666666, \"#ed7953\"], [0.7777777777777778, \"#fb9f3a\"], [0.8888888888888888, \"#fdca26\"], [1.0, \"#f0f921\"]]}, \"colorway\": [\"#636efa\", \"#EF553B\", \"#00cc96\", \"#ab63fa\", \"#FFA15A\", \"#19d3f3\", \"#FF6692\", \"#B6E880\", \"#FF97FF\", \"#FECB52\"], \"font\": {\"color\": \"#2a3f5f\"}, \"geo\": {\"bgcolor\": \"white\", \"lakecolor\": \"white\", \"landcolor\": \"white\", \"showlakes\": true, \"showland\": true, \"subunitcolor\": \"#C8D4E3\"}, \"hoverlabel\": {\"align\": \"left\"}, \"hovermode\": \"closest\", \"mapbox\": {\"style\": \"light\"}, \"paper_bgcolor\": \"white\", \"plot_bgcolor\": \"white\", \"polar\": {\"angularaxis\": {\"gridcolor\": \"#EBF0F8\", \"linecolor\": \"#EBF0F8\", \"ticks\": \"\"}, \"bgcolor\": \"white\", \"radialaxis\": {\"gridcolor\": \"#EBF0F8\", \"linecolor\": \"#EBF0F8\", \"ticks\": \"\"}}, \"scene\": {\"xaxis\": {\"backgroundcolor\": \"white\", \"gridcolor\": \"#DFE8F3\", \"gridwidth\": 2, \"linecolor\": \"#EBF0F8\", \"showbackground\": true, \"ticks\": \"\", \"zerolinecolor\": \"#EBF0F8\"}, \"yaxis\": {\"backgroundcolor\": \"white\", \"gridcolor\": \"#DFE8F3\", \"gridwidth\": 2, \"linecolor\": \"#EBF0F8\", \"showbackground\": true, \"ticks\": \"\", \"zerolinecolor\": \"#EBF0F8\"}, \"zaxis\": {\"backgroundcolor\": \"white\", \"gridcolor\": \"#DFE8F3\", \"gridwidth\": 2, \"linecolor\": \"#EBF0F8\", \"showbackground\": true, \"ticks\": \"\", \"zerolinecolor\": \"#EBF0F8\"}}, \"shapedefaults\": {\"line\": {\"color\": \"#2a3f5f\"}}, \"ternary\": {\"aaxis\": {\"gridcolor\": \"#DFE8F3\", \"linecolor\": \"#A2B1C6\", \"ticks\": \"\"}, \"baxis\": {\"gridcolor\": \"#DFE8F3\", \"linecolor\": \"#A2B1C6\", \"ticks\": \"\"}, \"bgcolor\": \"white\", \"caxis\": {\"gridcolor\": \"#DFE8F3\", \"linecolor\": \"#A2B1C6\", \"ticks\": \"\"}}, \"title\": {\"x\": 0.05}, \"xaxis\": {\"automargin\": true, \"gridcolor\": \"#EBF0F8\", \"linecolor\": \"#EBF0F8\", \"ticks\": \"\", \"title\": {\"standoff\": 15}, \"zerolinecolor\": \"#EBF0F8\", \"zerolinewidth\": 2}, \"yaxis\": {\"automargin\": true, \"gridcolor\": \"#EBF0F8\", \"linecolor\": \"#EBF0F8\", \"ticks\": \"\", \"title\": {\"standoff\": 15}, \"zerolinecolor\": \"#EBF0F8\", \"zerolinewidth\": 2}}}, \"title\": {\"font\": {\"family\": \"Helvetica\", \"size\": 18}, \"text\": \"<b>COVID19: Registrert smittet i Norge</b><br>Fordeling per fylke<br>Datakilde: FHI - folkehelseinstituttet. Oppdatert 23.03.2020\"}, \"updatemenus\": [{\"buttons\": [{\"args\": [null, {\"frame\": {\"duration\": 500, \"redraw\": true}, \"fromcurrent\": true, \"mode\": \"immediate\", \"transition\": {\"duration\": 500, \"easing\": \"linear\"}}], \"label\": \"&#9654;\", \"method\": \"animate\"}, {\"args\": [[null], {\"frame\": {\"duration\": 0, \"redraw\": true}, \"fromcurrent\": true, \"mode\": \"immediate\", \"transition\": {\"duration\": 0, \"easing\": \"linear\"}}], \"label\": \"&#9724;\", \"method\": \"animate\"}], \"direction\": \"left\", \"pad\": {\"r\": 10, \"t\": 70}, \"showactive\": false, \"type\": \"buttons\", \"x\": 0.1, \"xanchor\": \"right\", \"y\": 0, \"yanchor\": \"top\"}], \"xaxis\": {\"anchor\": \"y\", \"domain\": [0.0, 1.0], \"fixedrange\": true, \"range\": [0, 600], \"title\": {\"text\": \"\"}}, \"yaxis\": {\"anchor\": \"x\", \"categoryorder\": \"total ascending\", \"domain\": [0.0, 1.0], \"fixedrange\": true, \"separatethousands\": true, \"title\": {\"text\": \"\"}}},\n",
       "                        {\"responsive\": true}\n",
       "                    ).then(function(){\n",
       "                            Plotly.addFrames('068ac02d-899e-4f0c-be9b-28a8afeef02f', [{\"data\": [{\"alignmentgroup\": \"True\", \"hoverlabel\": {\"namelength\": 0}, \"hovertemplate\": \"RHF=Helse Midt-Norge<br>Dato=09 Mar<br>Registrerte smittede=%{text}<br>Fylke=%{y}\", \"ids\": [\"Tr\\u00f8ndelag\", \"M\\u00f8re og Romsdal\"], \"legendgroup\": \"Helse Midt-Norge\", \"marker\": {\"color\": \"#636efa\"}, \"name\": \"Helse Midt-Norge\", \"offsetgroup\": \"Helse Midt-Norge\", \"orientation\": \"h\", \"showlegend\": true, \"text\": [22.0, 5.0], \"textposition\": \"auto\", \"x\": [22, 5], \"xaxis\": \"x\", \"y\": [\"Tr\\u00f8ndelag\", \"M\\u00f8re og Romsdal\"], \"yaxis\": \"y\", \"type\": \"bar\"}, {\"alignmentgroup\": \"True\", \"hoverlabel\": {\"namelength\": 0}, \"hovertemplate\": \"RHF=Helse Nord<br>Dato=09 Mar<br>Registrerte smittede=%{text}<br>Fylke=%{y}\", \"ids\": [\"Troms og Finnmark\", \"Nordland\"], \"legendgroup\": \"Helse Nord\", \"marker\": {\"color\": \"#EF553B\"}, \"name\": \"Helse Nord\", \"offsetgroup\": \"Helse Nord\", \"orientation\": \"h\", \"showlegend\": true, \"text\": [6.0, 3.0], \"textposition\": \"auto\", \"x\": [6, 3], \"xaxis\": \"x\", \"y\": [\"Troms og Finnmark\", \"Nordland\"], \"yaxis\": \"y\", \"type\": \"bar\"}, {\"alignmentgroup\": \"True\", \"hoverlabel\": {\"namelength\": 0}, \"hovertemplate\": \"RHF=Helse S\\u00f8r-\\u00d8st<br>Dato=09 Mar<br>Registrerte smittede=%{text}<br>Fylke=%{y}\", \"ids\": [\"Agder\", \"Oslo\", \"Vestfold og Telemark\", \"Innlandet\", \"Viken\"], \"legendgroup\": \"Helse S\\u00f8r-\\u00d8st\", \"marker\": {\"color\": \"#00cc96\"}, \"name\": \"Helse S\\u00f8r-\\u00d8st\", \"offsetgroup\": \"Helse S\\u00f8r-\\u00d8st\", \"orientation\": \"h\", \"showlegend\": true, \"text\": [19.0, 51.0, 5.0, 16.0, 86.0], \"textposition\": \"auto\", \"x\": [19, 51, 5, 16, 86], \"xaxis\": \"x\", \"y\": [\"Agder\", \"Oslo\", \"Vestfold og Telemark\", \"Innlandet\", \"Viken\"], \"yaxis\": \"y\", \"type\": \"bar\"}, {\"alignmentgroup\": \"True\", \"hoverlabel\": {\"namelength\": 0}, \"hovertemplate\": \"RHF=Helse Vest<br>Dato=09 Mar<br>Registrerte smittede=%{text}<br>Fylke=%{y}\", \"ids\": [\"Vestland\", \"Rogaland\"], \"legendgroup\": \"Helse Vest\", \"marker\": {\"color\": \"#ab63fa\"}, \"name\": \"Helse Vest\", \"offsetgroup\": \"Helse Vest\", \"orientation\": \"h\", \"showlegend\": true, \"text\": [31.0, 33.0], \"textposition\": \"auto\", \"x\": [31, 33], \"xaxis\": \"x\", \"y\": [\"Vestland\", \"Rogaland\"], \"yaxis\": \"y\", \"type\": \"bar\"}], \"name\": \"09 Mar\"}, {\"data\": [{\"alignmentgroup\": \"True\", \"hoverlabel\": {\"namelength\": 0}, \"hovertemplate\": \"RHF=Helse Midt-Norge<br>Dato=10 Mar<br>Registrerte smittede=%{text}<br>Fylke=%{y}\", \"ids\": [\"M\\u00f8re og Romsdal\", \"Tr\\u00f8ndelag\"], \"legendgroup\": \"Helse Midt-Norge\", \"marker\": {\"color\": \"#636efa\"}, \"name\": \"Helse Midt-Norge\", \"offsetgroup\": \"Helse Midt-Norge\", \"orientation\": \"h\", \"showlegend\": true, \"text\": [5.0, 22.0], \"textposition\": \"auto\", \"x\": [5, 22], \"xaxis\": \"x\", \"y\": [\"M\\u00f8re og Romsdal\", \"Tr\\u00f8ndelag\"], \"yaxis\": \"y\", \"type\": \"bar\"}, {\"alignmentgroup\": \"True\", \"hoverlabel\": {\"namelength\": 0}, \"hovertemplate\": \"RHF=Helse Nord<br>Dato=10 Mar<br>Registrerte smittede=%{text}<br>Fylke=%{y}\", \"ids\": [\"Nordland\", \"Troms og Finnmark\"], \"legendgroup\": \"Helse Nord\", \"marker\": {\"color\": \"#EF553B\"}, \"name\": \"Helse Nord\", \"offsetgroup\": \"Helse Nord\", \"orientation\": \"h\", \"showlegend\": true, \"text\": [3.0, 6.0], \"textposition\": \"auto\", \"x\": [3, 6], \"xaxis\": \"x\", \"y\": [\"Nordland\", \"Troms og Finnmark\"], \"yaxis\": \"y\", \"type\": \"bar\"}, {\"alignmentgroup\": \"True\", \"hoverlabel\": {\"namelength\": 0}, \"hovertemplate\": \"RHF=Helse S\\u00f8r-\\u00d8st<br>Dato=10 Mar<br>Registrerte smittede=%{text}<br>Fylke=%{y}\", \"ids\": [\"Viken\", \"Vestfold og Telemark\", \"Oslo\", \"Agder\", \"Innlandet\"], \"legendgroup\": \"Helse S\\u00f8r-\\u00d8st\", \"marker\": {\"color\": \"#00cc96\"}, \"name\": \"Helse S\\u00f8r-\\u00d8st\", \"offsetgroup\": \"Helse S\\u00f8r-\\u00d8st\", \"orientation\": \"h\", \"showlegend\": true, \"text\": [86.0, 5.0, 51.0, 19.0, 16.0], \"textposition\": \"auto\", \"x\": [86, 5, 51, 19, 16], \"xaxis\": \"x\", \"y\": [\"Viken\", \"Vestfold og Telemark\", \"Oslo\", \"Agder\", \"Innlandet\"], \"yaxis\": \"y\", \"type\": \"bar\"}, {\"alignmentgroup\": \"True\", \"hoverlabel\": {\"namelength\": 0}, \"hovertemplate\": \"RHF=Helse Vest<br>Dato=10 Mar<br>Registrerte smittede=%{text}<br>Fylke=%{y}\", \"ids\": [\"Rogaland\", \"Vestland\"], \"legendgroup\": \"Helse Vest\", \"marker\": {\"color\": \"#ab63fa\"}, \"name\": \"Helse Vest\", \"offsetgroup\": \"Helse Vest\", \"orientation\": \"h\", \"showlegend\": true, \"text\": [33.0, 31.0], \"textposition\": \"auto\", \"x\": [33, 31], \"xaxis\": \"x\", \"y\": [\"Rogaland\", \"Vestland\"], \"yaxis\": \"y\", \"type\": \"bar\"}], \"name\": \"10 Mar\"}, {\"data\": [{\"alignmentgroup\": \"True\", \"hoverlabel\": {\"namelength\": 0}, \"hovertemplate\": \"RHF=Helse Midt-Norge<br>Dato=11 Mar<br>Registrerte smittede=%{text}<br>Fylke=%{y}\", \"ids\": [\"Tr\\u00f8ndelag\", \"M\\u00f8re og Romsdal\"], \"legendgroup\": \"Helse Midt-Norge\", \"marker\": {\"color\": \"#636efa\"}, \"name\": \"Helse Midt-Norge\", \"offsetgroup\": \"Helse Midt-Norge\", \"orientation\": \"h\", \"showlegend\": true, \"text\": [25.0, 7.0], \"textposition\": \"auto\", \"x\": [25, 7], \"xaxis\": \"x\", \"y\": [\"Tr\\u00f8ndelag\", \"M\\u00f8re og Romsdal\"], \"yaxis\": \"y\", \"type\": \"bar\"}, {\"alignmentgroup\": \"True\", \"hoverlabel\": {\"namelength\": 0}, \"hovertemplate\": \"RHF=Helse Nord<br>Dato=11 Mar<br>Registrerte smittede=%{text}<br>Fylke=%{y}\", \"ids\": [\"Nordland\", \"Troms og Finnmark\"], \"legendgroup\": \"Helse Nord\", \"marker\": {\"color\": \"#EF553B\"}, \"name\": \"Helse Nord\", \"offsetgroup\": \"Helse Nord\", \"orientation\": \"h\", \"showlegend\": true, \"text\": [3.0, 7.0], \"textposition\": \"auto\", \"x\": [3, 7], \"xaxis\": \"x\", \"y\": [\"Nordland\", \"Troms og Finnmark\"], \"yaxis\": \"y\", \"type\": \"bar\"}, {\"alignmentgroup\": \"True\", \"hoverlabel\": {\"namelength\": 0}, \"hovertemplate\": \"RHF=Helse S\\u00f8r-\\u00d8st<br>Dato=11 Mar<br>Registrerte smittede=%{text}<br>Fylke=%{y}\", \"ids\": [\"Vestfold og Telemark\", \"Viken\", \"Innlandet\", \"Agder\", \"Oslo\"], \"legendgroup\": \"Helse S\\u00f8r-\\u00d8st\", \"marker\": {\"color\": \"#00cc96\"}, \"name\": \"Helse S\\u00f8r-\\u00d8st\", \"offsetgroup\": \"Helse S\\u00f8r-\\u00d8st\", \"orientation\": \"h\", \"showlegend\": true, \"text\": [15.0, 124.0, 23.0, 20.0, 123.0], \"textposition\": \"auto\", \"x\": [15, 124, 23, 20, 123], \"xaxis\": \"x\", \"y\": [\"Vestfold og Telemark\", \"Viken\", \"Innlandet\", \"Agder\", \"Oslo\"], \"yaxis\": \"y\", \"type\": \"bar\"}, {\"alignmentgroup\": \"True\", \"hoverlabel\": {\"namelength\": 0}, \"hovertemplate\": \"RHF=Helse Vest<br>Dato=11 Mar<br>Registrerte smittede=%{text}<br>Fylke=%{y}\", \"ids\": [\"Rogaland\", \"Vestland\"], \"legendgroup\": \"Helse Vest\", \"marker\": {\"color\": \"#ab63fa\"}, \"name\": \"Helse Vest\", \"offsetgroup\": \"Helse Vest\", \"orientation\": \"h\", \"showlegend\": true, \"text\": [71.0, 41.0], \"textposition\": \"auto\", \"x\": [71, 41], \"xaxis\": \"x\", \"y\": [\"Rogaland\", \"Vestland\"], \"yaxis\": \"y\", \"type\": \"bar\"}], \"name\": \"11 Mar\"}, {\"data\": [{\"alignmentgroup\": \"True\", \"hoverlabel\": {\"namelength\": 0}, \"hovertemplate\": \"RHF=Helse Midt-Norge<br>Dato=12 Mar<br>Registrerte smittede=%{text}<br>Fylke=%{y}\", \"ids\": [\"Tr\\u00f8ndelag\", \"M\\u00f8re og Romsdal\"], \"legendgroup\": \"Helse Midt-Norge\", \"marker\": {\"color\": \"#636efa\"}, \"name\": \"Helse Midt-Norge\", \"offsetgroup\": \"Helse Midt-Norge\", \"orientation\": \"h\", \"showlegend\": true, \"text\": [37.0, 6.0], \"textposition\": \"auto\", \"x\": [37, 6], \"xaxis\": \"x\", \"y\": [\"Tr\\u00f8ndelag\", \"M\\u00f8re og Romsdal\"], \"yaxis\": \"y\", \"type\": \"bar\"}, {\"alignmentgroup\": \"True\", \"hoverlabel\": {\"namelength\": 0}, \"hovertemplate\": \"RHF=Helse Nord<br>Dato=12 Mar<br>Registrerte smittede=%{text}<br>Fylke=%{y}\", \"ids\": [\"Troms og Finnmark\", \"Nordland\"], \"legendgroup\": \"Helse Nord\", \"marker\": {\"color\": \"#EF553B\"}, \"name\": \"Helse Nord\", \"offsetgroup\": \"Helse Nord\", \"orientation\": \"h\", \"showlegend\": true, \"text\": [11.0, 4.0], \"textposition\": \"auto\", \"x\": [11, 4], \"xaxis\": \"x\", \"y\": [\"Troms og Finnmark\", \"Nordland\"], \"yaxis\": \"y\", \"type\": \"bar\"}, {\"alignmentgroup\": \"True\", \"hoverlabel\": {\"namelength\": 0}, \"hovertemplate\": \"RHF=Helse S\\u00f8r-\\u00d8st<br>Dato=12 Mar<br>Registrerte smittede=%{text}<br>Fylke=%{y}\", \"ids\": [\"Agder\", \"Oslo\", \"Vestfold og Telemark\", \"Viken\", \"Innlandet\"], \"legendgroup\": \"Helse S\\u00f8r-\\u00d8st\", \"marker\": {\"color\": \"#00cc96\"}, \"name\": \"Helse S\\u00f8r-\\u00d8st\", \"offsetgroup\": \"Helse S\\u00f8r-\\u00d8st\", \"orientation\": \"h\", \"showlegend\": true, \"text\": [32.0, 166.0, 22.0, 154.0, 40.0], \"textposition\": \"auto\", \"x\": [32, 166, 22, 154, 40], \"xaxis\": \"x\", \"y\": [\"Agder\", \"Oslo\", \"Vestfold og Telemark\", \"Viken\", \"Innlandet\"], \"yaxis\": \"y\", \"type\": \"bar\"}, {\"alignmentgroup\": \"True\", \"hoverlabel\": {\"namelength\": 0}, \"hovertemplate\": \"RHF=Helse Vest<br>Dato=12 Mar<br>Registrerte smittede=%{text}<br>Fylke=%{y}\", \"ids\": [\"Rogaland\", \"Vestland\"], \"legendgroup\": \"Helse Vest\", \"marker\": {\"color\": \"#ab63fa\"}, \"name\": \"Helse Vest\", \"offsetgroup\": \"Helse Vest\", \"orientation\": \"h\", \"showlegend\": true, \"text\": [82.0, 67.0], \"textposition\": \"auto\", \"x\": [82, 67], \"xaxis\": \"x\", \"y\": [\"Rogaland\", \"Vestland\"], \"yaxis\": \"y\", \"type\": \"bar\"}], \"name\": \"12 Mar\"}, {\"data\": [{\"alignmentgroup\": \"True\", \"hoverlabel\": {\"namelength\": 0}, \"hovertemplate\": \"RHF=Helse Midt-Norge<br>Dato=13 Mar<br>Registrerte smittede=%{text}<br>Fylke=%{y}\", \"ids\": [\"Tr\\u00f8ndelag\", \"M\\u00f8re og Romsdal\"], \"legendgroup\": \"Helse Midt-Norge\", \"marker\": {\"color\": \"#636efa\"}, \"name\": \"Helse Midt-Norge\", \"offsetgroup\": \"Helse Midt-Norge\", \"orientation\": \"h\", \"showlegend\": true, \"text\": [43.0, 7.0], \"textposition\": \"auto\", \"x\": [43, 7], \"xaxis\": \"x\", \"y\": [\"Tr\\u00f8ndelag\", \"M\\u00f8re og Romsdal\"], \"yaxis\": \"y\", \"type\": \"bar\"}, {\"alignmentgroup\": \"True\", \"hoverlabel\": {\"namelength\": 0}, \"hovertemplate\": \"RHF=Helse Nord<br>Dato=13 Mar<br>Registrerte smittede=%{text}<br>Fylke=%{y}\", \"ids\": [\"Nordland\", \"Troms og Finnmark\"], \"legendgroup\": \"Helse Nord\", \"marker\": {\"color\": \"#EF553B\"}, \"name\": \"Helse Nord\", \"offsetgroup\": \"Helse Nord\", \"orientation\": \"h\", \"showlegend\": true, \"text\": [5.0, 12.0], \"textposition\": \"auto\", \"x\": [5, 12], \"xaxis\": \"x\", \"y\": [\"Nordland\", \"Troms og Finnmark\"], \"yaxis\": \"y\", \"type\": \"bar\"}, {\"alignmentgroup\": \"True\", \"hoverlabel\": {\"namelength\": 0}, \"hovertemplate\": \"RHF=Helse S\\u00f8r-\\u00d8st<br>Dato=13 Mar<br>Registrerte smittede=%{text}<br>Fylke=%{y}\", \"ids\": [\"Agder\", \"Vestfold og Telemark\", \"Viken\", \"Innlandet\", \"Oslo\"], \"legendgroup\": \"Helse S\\u00f8r-\\u00d8st\", \"marker\": {\"color\": \"#00cc96\"}, \"name\": \"Helse S\\u00f8r-\\u00d8st\", \"offsetgroup\": \"Helse S\\u00f8r-\\u00d8st\", \"orientation\": \"h\", \"showlegend\": true, \"text\": [34.0, 30.0, 180.0, 49.0, 207.0], \"textposition\": \"auto\", \"x\": [34, 30, 180, 49, 207], \"xaxis\": \"x\", \"y\": [\"Agder\", \"Vestfold og Telemark\", \"Viken\", \"Innlandet\", \"Oslo\"], \"yaxis\": \"y\", \"type\": \"bar\"}, {\"alignmentgroup\": \"True\", \"hoverlabel\": {\"namelength\": 0}, \"hovertemplate\": \"RHF=Helse Vest<br>Dato=13 Mar<br>Registrerte smittede=%{text}<br>Fylke=%{y}\", \"ids\": [\"Rogaland\", \"Vestland\"], \"legendgroup\": \"Helse Vest\", \"marker\": {\"color\": \"#ab63fa\"}, \"name\": \"Helse Vest\", \"offsetgroup\": \"Helse Vest\", \"orientation\": \"h\", \"showlegend\": true, \"text\": [105.0, 78.0], \"textposition\": \"auto\", \"x\": [105, 78], \"xaxis\": \"x\", \"y\": [\"Rogaland\", \"Vestland\"], \"yaxis\": \"y\", \"type\": \"bar\"}], \"name\": \"13 Mar\"}, {\"data\": [{\"alignmentgroup\": \"True\", \"hoverlabel\": {\"namelength\": 0}, \"hovertemplate\": \"RHF=Helse Midt-Norge<br>Dato=14 Mar<br>Registrerte smittede=%{text}<br>Fylke=%{y}\", \"ids\": [\"M\\u00f8re og Romsdal\", \"Tr\\u00f8ndelag\"], \"legendgroup\": \"Helse Midt-Norge\", \"marker\": {\"color\": \"#636efa\"}, \"name\": \"Helse Midt-Norge\", \"offsetgroup\": \"Helse Midt-Norge\", \"orientation\": \"h\", \"showlegend\": true, \"text\": [16.0, 46.0], \"textposition\": \"auto\", \"x\": [16, 46], \"xaxis\": \"x\", \"y\": [\"M\\u00f8re og Romsdal\", \"Tr\\u00f8ndelag\"], \"yaxis\": \"y\", \"type\": \"bar\"}, {\"alignmentgroup\": \"True\", \"hoverlabel\": {\"namelength\": 0}, \"hovertemplate\": \"RHF=Helse Nord<br>Dato=14 Mar<br>Registrerte smittede=%{text}<br>Fylke=%{y}\", \"ids\": [\"Troms og Finnmark\", \"Nordland\"], \"legendgroup\": \"Helse Nord\", \"marker\": {\"color\": \"#EF553B\"}, \"name\": \"Helse Nord\", \"offsetgroup\": \"Helse Nord\", \"orientation\": \"h\", \"showlegend\": true, \"text\": [16.0, 8.0], \"textposition\": \"auto\", \"x\": [16, 8], \"xaxis\": \"x\", \"y\": [\"Troms og Finnmark\", \"Nordland\"], \"yaxis\": \"y\", \"type\": \"bar\"}, {\"alignmentgroup\": \"True\", \"hoverlabel\": {\"namelength\": 0}, \"hovertemplate\": \"RHF=Helse S\\u00f8r-\\u00d8st<br>Dato=14 Mar<br>Registrerte smittede=%{text}<br>Fylke=%{y}\", \"ids\": [\"Agder\", \"Oslo\", \"Innlandet\", \"Viken\", \"Vestfold og Telemark\"], \"legendgroup\": \"Helse S\\u00f8r-\\u00d8st\", \"marker\": {\"color\": \"#00cc96\"}, \"name\": \"Helse S\\u00f8r-\\u00d8st\", \"offsetgroup\": \"Helse S\\u00f8r-\\u00d8st\", \"orientation\": \"h\", \"showlegend\": true, \"text\": [52.0, 222.0, 57.0, 231.0, 39.0], \"textposition\": \"auto\", \"x\": [52, 222, 57, 231, 39], \"xaxis\": \"x\", \"y\": [\"Agder\", \"Oslo\", \"Innlandet\", \"Viken\", \"Vestfold og Telemark\"], \"yaxis\": \"y\", \"type\": \"bar\"}, {\"alignmentgroup\": \"True\", \"hoverlabel\": {\"namelength\": 0}, \"hovertemplate\": \"RHF=Helse Vest<br>Dato=14 Mar<br>Registrerte smittede=%{text}<br>Fylke=%{y}\", \"ids\": [\"Rogaland\", \"Vestland\"], \"legendgroup\": \"Helse Vest\", \"marker\": {\"color\": \"#ab63fa\"}, \"name\": \"Helse Vest\", \"offsetgroup\": \"Helse Vest\", \"orientation\": \"h\", \"showlegend\": true, \"text\": [119.0, 101.0], \"textposition\": \"auto\", \"x\": [119, 101], \"xaxis\": \"x\", \"y\": [\"Rogaland\", \"Vestland\"], \"yaxis\": \"y\", \"type\": \"bar\"}], \"name\": \"14 Mar\"}, {\"data\": [{\"alignmentgroup\": \"True\", \"hoverlabel\": {\"namelength\": 0}, \"hovertemplate\": \"RHF=Helse Midt-Norge<br>Dato=15 Mar<br>Registrerte smittede=%{text}<br>Fylke=%{y}\", \"ids\": [\"Tr\\u00f8ndelag\", \"M\\u00f8re og Romsdal\"], \"legendgroup\": \"Helse Midt-Norge\", \"marker\": {\"color\": \"#636efa\"}, \"name\": \"Helse Midt-Norge\", \"offsetgroup\": \"Helse Midt-Norge\", \"orientation\": \"h\", \"showlegend\": true, \"text\": [50.0, 20.0], \"textposition\": \"auto\", \"x\": [50, 20], \"xaxis\": \"x\", \"y\": [\"Tr\\u00f8ndelag\", \"M\\u00f8re og Romsdal\"], \"yaxis\": \"y\", \"type\": \"bar\"}, {\"alignmentgroup\": \"True\", \"hoverlabel\": {\"namelength\": 0}, \"hovertemplate\": \"RHF=Helse Nord<br>Dato=15 Mar<br>Registrerte smittede=%{text}<br>Fylke=%{y}\", \"ids\": [\"Troms og Finnmark\", \"Nordland\"], \"legendgroup\": \"Helse Nord\", \"marker\": {\"color\": \"#EF553B\"}, \"name\": \"Helse Nord\", \"offsetgroup\": \"Helse Nord\", \"orientation\": \"h\", \"showlegend\": true, \"text\": [20.0, 8.0], \"textposition\": \"auto\", \"x\": [20, 8], \"xaxis\": \"x\", \"y\": [\"Troms og Finnmark\", \"Nordland\"], \"yaxis\": \"y\", \"type\": \"bar\"}, {\"alignmentgroup\": \"True\", \"hoverlabel\": {\"namelength\": 0}, \"hovertemplate\": \"RHF=Helse S\\u00f8r-\\u00d8st<br>Dato=15 Mar<br>Registrerte smittede=%{text}<br>Fylke=%{y}\", \"ids\": [\"Vestfold og Telemark\", \"Viken\", \"Agder\", \"Innlandet\", \"Oslo\"], \"legendgroup\": \"Helse S\\u00f8r-\\u00d8st\", \"marker\": {\"color\": \"#00cc96\"}, \"name\": \"Helse S\\u00f8r-\\u00d8st\", \"offsetgroup\": \"Helse S\\u00f8r-\\u00d8st\", \"orientation\": \"h\", \"showlegend\": true, \"text\": [48.0, 278.0, 55.0, 72.0, 281.0], \"textposition\": \"auto\", \"x\": [48, 278, 55, 72, 281], \"xaxis\": \"x\", \"y\": [\"Vestfold og Telemark\", \"Viken\", \"Agder\", \"Innlandet\", \"Oslo\"], \"yaxis\": \"y\", \"type\": \"bar\"}, {\"alignmentgroup\": \"True\", \"hoverlabel\": {\"namelength\": 0}, \"hovertemplate\": \"RHF=Helse Vest<br>Dato=15 Mar<br>Registrerte smittede=%{text}<br>Fylke=%{y}\", \"ids\": [\"Vestland\", \"Rogaland\"], \"legendgroup\": \"Helse Vest\", \"marker\": {\"color\": \"#ab63fa\"}, \"name\": \"Helse Vest\", \"offsetgroup\": \"Helse Vest\", \"orientation\": \"h\", \"showlegend\": true, \"text\": [118.0, 127.0], \"textposition\": \"auto\", \"x\": [118, 127], \"xaxis\": \"x\", \"y\": [\"Vestland\", \"Rogaland\"], \"yaxis\": \"y\", \"type\": \"bar\"}], \"name\": \"15 Mar\"}, {\"data\": [{\"alignmentgroup\": \"True\", \"hoverlabel\": {\"namelength\": 0}, \"hovertemplate\": \"RHF=Helse Midt-Norge<br>Dato=16 Mar<br>Registrerte smittede=%{text}<br>Fylke=%{y}\", \"ids\": [\"Tr\\u00f8ndelag\", \"M\\u00f8re og Romsdal\"], \"legendgroup\": \"Helse Midt-Norge\", \"marker\": {\"color\": \"#636efa\"}, \"name\": \"Helse Midt-Norge\", \"offsetgroup\": \"Helse Midt-Norge\", \"orientation\": \"h\", \"showlegend\": true, \"text\": [52.0, 20.0], \"textposition\": \"auto\", \"x\": [52, 20], \"xaxis\": \"x\", \"y\": [\"Tr\\u00f8ndelag\", \"M\\u00f8re og Romsdal\"], \"yaxis\": \"y\", \"type\": \"bar\"}, {\"alignmentgroup\": \"True\", \"hoverlabel\": {\"namelength\": 0}, \"hovertemplate\": \"RHF=Helse Nord<br>Dato=16 Mar<br>Registrerte smittede=%{text}<br>Fylke=%{y}\", \"ids\": [\"Troms og Finnmark\", \"Nordland\"], \"legendgroup\": \"Helse Nord\", \"marker\": {\"color\": \"#EF553B\"}, \"name\": \"Helse Nord\", \"offsetgroup\": \"Helse Nord\", \"orientation\": \"h\", \"showlegend\": true, \"text\": [21.0, 11.0], \"textposition\": \"auto\", \"x\": [21, 11], \"xaxis\": \"x\", \"y\": [\"Troms og Finnmark\", \"Nordland\"], \"yaxis\": \"y\", \"type\": \"bar\"}, {\"alignmentgroup\": \"True\", \"hoverlabel\": {\"namelength\": 0}, \"hovertemplate\": \"RHF=Helse S\\u00f8r-\\u00d8st<br>Dato=16 Mar<br>Registrerte smittede=%{text}<br>Fylke=%{y}\", \"ids\": [\"Viken\", \"Oslo\", \"Vestfold og Telemark\", \"Innlandet\", \"Agder\"], \"legendgroup\": \"Helse S\\u00f8r-\\u00d8st\", \"marker\": {\"color\": \"#00cc96\"}, \"name\": \"Helse S\\u00f8r-\\u00d8st\", \"offsetgroup\": \"Helse S\\u00f8r-\\u00d8st\", \"orientation\": \"h\", \"showlegend\": true, \"text\": [314.0, 292.0, 53.0, 81.0, 67.0], \"textposition\": \"auto\", \"x\": [314, 292, 53, 81, 67], \"xaxis\": \"x\", \"y\": [\"Viken\", \"Oslo\", \"Vestfold og Telemark\", \"Innlandet\", \"Agder\"], \"yaxis\": \"y\", \"type\": \"bar\"}, {\"alignmentgroup\": \"True\", \"hoverlabel\": {\"namelength\": 0}, \"hovertemplate\": \"RHF=Helse Vest<br>Dato=16 Mar<br>Registrerte smittede=%{text}<br>Fylke=%{y}\", \"ids\": [\"Vestland\", \"Rogaland\"], \"legendgroup\": \"Helse Vest\", \"marker\": {\"color\": \"#ab63fa\"}, \"name\": \"Helse Vest\", \"offsetgroup\": \"Helse Vest\", \"orientation\": \"h\", \"showlegend\": true, \"text\": [127.0, 131.0], \"textposition\": \"auto\", \"x\": [127, 131], \"xaxis\": \"x\", \"y\": [\"Vestland\", \"Rogaland\"], \"yaxis\": \"y\", \"type\": \"bar\"}], \"name\": \"16 Mar\"}, {\"data\": [{\"alignmentgroup\": \"True\", \"hoverlabel\": {\"namelength\": 0}, \"hovertemplate\": \"RHF=Helse Midt-Norge<br>Dato=17 Mar<br>Registrerte smittede=%{text}<br>Fylke=%{y}\", \"ids\": [\"M\\u00f8re og Romsdal\", \"Tr\\u00f8ndelag\"], \"legendgroup\": \"Helse Midt-Norge\", \"marker\": {\"color\": \"#636efa\"}, \"name\": \"Helse Midt-Norge\", \"offsetgroup\": \"Helse Midt-Norge\", \"orientation\": \"h\", \"showlegend\": true, \"text\": [20.0, 61.0], \"textposition\": \"auto\", \"x\": [20, 61], \"xaxis\": \"x\", \"y\": [\"M\\u00f8re og Romsdal\", \"Tr\\u00f8ndelag\"], \"yaxis\": \"y\", \"type\": \"bar\"}, {\"alignmentgroup\": \"True\", \"hoverlabel\": {\"namelength\": 0}, \"hovertemplate\": \"RHF=Helse Nord<br>Dato=17 Mar<br>Registrerte smittede=%{text}<br>Fylke=%{y}\", \"ids\": [\"Nordland\", \"Troms og Finnmark\"], \"legendgroup\": \"Helse Nord\", \"marker\": {\"color\": \"#EF553B\"}, \"name\": \"Helse Nord\", \"offsetgroup\": \"Helse Nord\", \"orientation\": \"h\", \"showlegend\": true, \"text\": [11.0, 24.0], \"textposition\": \"auto\", \"x\": [11, 24], \"xaxis\": \"x\", \"y\": [\"Nordland\", \"Troms og Finnmark\"], \"yaxis\": \"y\", \"type\": \"bar\"}, {\"alignmentgroup\": \"True\", \"hoverlabel\": {\"namelength\": 0}, \"hovertemplate\": \"RHF=Helse S\\u00f8r-\\u00d8st<br>Dato=17 Mar<br>Registrerte smittede=%{text}<br>Fylke=%{y}\", \"ids\": [\"Vestfold og Telemark\", \"Innlandet\", \"Agder\", \"Viken\", \"Oslo\"], \"legendgroup\": \"Helse S\\u00f8r-\\u00d8st\", \"marker\": {\"color\": \"#00cc96\"}, \"name\": \"Helse S\\u00f8r-\\u00d8st\", \"offsetgroup\": \"Helse S\\u00f8r-\\u00d8st\", \"orientation\": \"h\", \"showlegend\": true, \"text\": [59.0, 88.0, 67.0, 358.0, 329.0], \"textposition\": \"auto\", \"x\": [59, 88, 67, 358, 329], \"xaxis\": \"x\", \"y\": [\"Vestfold og Telemark\", \"Innlandet\", \"Agder\", \"Viken\", \"Oslo\"], \"yaxis\": \"y\", \"type\": \"bar\"}, {\"alignmentgroup\": \"True\", \"hoverlabel\": {\"namelength\": 0}, \"hovertemplate\": \"RHF=Helse Vest<br>Dato=17 Mar<br>Registrerte smittede=%{text}<br>Fylke=%{y}\", \"ids\": [\"Vestland\", \"Rogaland\"], \"legendgroup\": \"Helse Vest\", \"marker\": {\"color\": \"#ab63fa\"}, \"name\": \"Helse Vest\", \"offsetgroup\": \"Helse Vest\", \"orientation\": \"h\", \"showlegend\": true, \"text\": [141.0, 150.0], \"textposition\": \"auto\", \"x\": [141, 150], \"xaxis\": \"x\", \"y\": [\"Vestland\", \"Rogaland\"], \"yaxis\": \"y\", \"type\": \"bar\"}], \"name\": \"17 Mar\"}, {\"data\": [{\"alignmentgroup\": \"True\", \"hoverlabel\": {\"namelength\": 0}, \"hovertemplate\": \"RHF=Helse Midt-Norge<br>Dato=18 Mar<br>Registrerte smittede=%{text}<br>Fylke=%{y}\", \"ids\": [\"Tr\\u00f8ndelag\", \"M\\u00f8re og Romsdal\"], \"legendgroup\": \"Helse Midt-Norge\", \"marker\": {\"color\": \"#636efa\"}, \"name\": \"Helse Midt-Norge\", \"offsetgroup\": \"Helse Midt-Norge\", \"orientation\": \"h\", \"showlegend\": true, \"text\": [70.0, 20.0], \"textposition\": \"auto\", \"x\": [70, 20], \"xaxis\": \"x\", \"y\": [\"Tr\\u00f8ndelag\", \"M\\u00f8re og Romsdal\"], \"yaxis\": \"y\", \"type\": \"bar\"}, {\"alignmentgroup\": \"True\", \"hoverlabel\": {\"namelength\": 0}, \"hovertemplate\": \"RHF=Helse Nord<br>Dato=18 Mar<br>Registrerte smittede=%{text}<br>Fylke=%{y}\", \"ids\": [\"Nordland\", \"Troms og Finnmark\"], \"legendgroup\": \"Helse Nord\", \"marker\": {\"color\": \"#EF553B\"}, \"name\": \"Helse Nord\", \"offsetgroup\": \"Helse Nord\", \"orientation\": \"h\", \"showlegend\": true, \"text\": [12.0, 28.0], \"textposition\": \"auto\", \"x\": [12, 28], \"xaxis\": \"x\", \"y\": [\"Nordland\", \"Troms og Finnmark\"], \"yaxis\": \"y\", \"type\": \"bar\"}, {\"alignmentgroup\": \"True\", \"hoverlabel\": {\"namelength\": 0}, \"hovertemplate\": \"RHF=Helse S\\u00f8r-\\u00d8st<br>Dato=18 Mar<br>Registrerte smittede=%{text}<br>Fylke=%{y}\", \"ids\": [\"Innlandet\", \"Oslo\", \"Vestfold og Telemark\", \"Agder\", \"Viken\"], \"legendgroup\": \"Helse S\\u00f8r-\\u00d8st\", \"marker\": {\"color\": \"#00cc96\"}, \"name\": \"Helse S\\u00f8r-\\u00d8st\", \"offsetgroup\": \"Helse S\\u00f8r-\\u00d8st\", \"orientation\": \"h\", \"showlegend\": true, \"text\": [97.0, 348.0, 63.0, 67.0, 410.0], \"textposition\": \"auto\", \"x\": [97, 348, 63, 67, 410], \"xaxis\": \"x\", \"y\": [\"Innlandet\", \"Oslo\", \"Vestfold og Telemark\", \"Agder\", \"Viken\"], \"yaxis\": \"y\", \"type\": \"bar\"}, {\"alignmentgroup\": \"True\", \"hoverlabel\": {\"namelength\": 0}, \"hovertemplate\": \"RHF=Helse Vest<br>Dato=18 Mar<br>Registrerte smittede=%{text}<br>Fylke=%{y}\", \"ids\": [\"Vestland\", \"Rogaland\"], \"legendgroup\": \"Helse Vest\", \"marker\": {\"color\": \"#ab63fa\"}, \"name\": \"Helse Vest\", \"offsetgroup\": \"Helse Vest\", \"orientation\": \"h\", \"showlegend\": true, \"text\": [147.0, 161.0], \"textposition\": \"auto\", \"x\": [147, 161], \"xaxis\": \"x\", \"y\": [\"Vestland\", \"Rogaland\"], \"yaxis\": \"y\", \"type\": \"bar\"}], \"name\": \"18 Mar\"}, {\"data\": [{\"alignmentgroup\": \"True\", \"hoverlabel\": {\"namelength\": 0}, \"hovertemplate\": \"RHF=Helse Midt-Norge<br>Dato=19 Mar<br>Registrerte smittede=%{text}<br>Fylke=%{y}\", \"ids\": [\"M\\u00f8re og Romsdal\", \"Tr\\u00f8ndelag\"], \"legendgroup\": \"Helse Midt-Norge\", \"marker\": {\"color\": \"#636efa\"}, \"name\": \"Helse Midt-Norge\", \"offsetgroup\": \"Helse Midt-Norge\", \"orientation\": \"h\", \"showlegend\": true, \"text\": [25.0, 75.0], \"textposition\": \"auto\", \"x\": [25, 75], \"xaxis\": \"x\", \"y\": [\"M\\u00f8re og Romsdal\", \"Tr\\u00f8ndelag\"], \"yaxis\": \"y\", \"type\": \"bar\"}, {\"alignmentgroup\": \"True\", \"hoverlabel\": {\"namelength\": 0}, \"hovertemplate\": \"RHF=Helse Nord<br>Dato=19 Mar<br>Registrerte smittede=%{text}<br>Fylke=%{y}\", \"ids\": [\"Troms og Finnmark\", \"Nordland\"], \"legendgroup\": \"Helse Nord\", \"marker\": {\"color\": \"#EF553B\"}, \"name\": \"Helse Nord\", \"offsetgroup\": \"Helse Nord\", \"orientation\": \"h\", \"showlegend\": true, \"text\": [28.0, 13.0], \"textposition\": \"auto\", \"x\": [28, 13], \"xaxis\": \"x\", \"y\": [\"Troms og Finnmark\", \"Nordland\"], \"yaxis\": \"y\", \"type\": \"bar\"}, {\"alignmentgroup\": \"True\", \"hoverlabel\": {\"namelength\": 0}, \"hovertemplate\": \"RHF=Helse S\\u00f8r-\\u00d8st<br>Dato=19 Mar<br>Registrerte smittede=%{text}<br>Fylke=%{y}\", \"ids\": [\"Agder\", \"Viken\", \"Oslo\", \"Innlandet\", \"Vestfold og Telemark\"], \"legendgroup\": \"Helse S\\u00f8r-\\u00d8st\", \"marker\": {\"color\": \"#00cc96\"}, \"name\": \"Helse S\\u00f8r-\\u00d8st\", \"offsetgroup\": \"Helse S\\u00f8r-\\u00d8st\", \"orientation\": \"h\", \"showlegend\": true, \"text\": [75.0, 445.0, 392.0, 105.0, 65.0], \"textposition\": \"auto\", \"x\": [75, 445, 392, 105, 65], \"xaxis\": \"x\", \"y\": [\"Agder\", \"Viken\", \"Oslo\", \"Innlandet\", \"Vestfold og Telemark\"], \"yaxis\": \"y\", \"type\": \"bar\"}, {\"alignmentgroup\": \"True\", \"hoverlabel\": {\"namelength\": 0}, \"hovertemplate\": \"RHF=Helse Vest<br>Dato=19 Mar<br>Registrerte smittede=%{text}<br>Fylke=%{y}\", \"ids\": [\"Vestland\", \"Rogaland\"], \"legendgroup\": \"Helse Vest\", \"marker\": {\"color\": \"#ab63fa\"}, \"name\": \"Helse Vest\", \"offsetgroup\": \"Helse Vest\", \"orientation\": \"h\", \"showlegend\": true, \"text\": [153.0, 176.0], \"textposition\": \"auto\", \"x\": [153, 176], \"xaxis\": \"x\", \"y\": [\"Vestland\", \"Rogaland\"], \"yaxis\": \"y\", \"type\": \"bar\"}], \"name\": \"19 Mar\"}, {\"data\": [{\"alignmentgroup\": \"True\", \"hoverlabel\": {\"namelength\": 0}, \"hovertemplate\": \"RHF=Helse Midt-Norge<br>Dato=20 Mar<br>Registrerte smittede=%{text}<br>Fylke=%{y}\", \"ids\": [\"Tr\\u00f8ndelag\", \"M\\u00f8re og Romsdal\"], \"legendgroup\": \"Helse Midt-Norge\", \"marker\": {\"color\": \"#636efa\"}, \"name\": \"Helse Midt-Norge\", \"offsetgroup\": \"Helse Midt-Norge\", \"orientation\": \"h\", \"showlegend\": true, \"text\": [97.0, 29.0], \"textposition\": \"auto\", \"x\": [97, 29], \"xaxis\": \"x\", \"y\": [\"Tr\\u00f8ndelag\", \"M\\u00f8re og Romsdal\"], \"yaxis\": \"y\", \"type\": \"bar\"}, {\"alignmentgroup\": \"True\", \"hoverlabel\": {\"namelength\": 0}, \"hovertemplate\": \"RHF=Helse Nord<br>Dato=20 Mar<br>Registrerte smittede=%{text}<br>Fylke=%{y}\", \"ids\": [\"Troms og Finnmark\", \"Nordland\"], \"legendgroup\": \"Helse Nord\", \"marker\": {\"color\": \"#EF553B\"}, \"name\": \"Helse Nord\", \"offsetgroup\": \"Helse Nord\", \"orientation\": \"h\", \"showlegend\": true, \"text\": [32.0, 17.0], \"textposition\": \"auto\", \"x\": [32, 17], \"xaxis\": \"x\", \"y\": [\"Troms og Finnmark\", \"Nordland\"], \"yaxis\": \"y\", \"type\": \"bar\"}, {\"alignmentgroup\": \"True\", \"hoverlabel\": {\"namelength\": 0}, \"hovertemplate\": \"RHF=Helse S\\u00f8r-\\u00d8st<br>Dato=20 Mar<br>Registrerte smittede=%{text}<br>Fylke=%{y}\", \"ids\": [\"Innlandet\", \"Oslo\", \"Viken\", \"Agder\", \"Vestfold og Telemark\"], \"legendgroup\": \"Helse S\\u00f8r-\\u00d8st\", \"marker\": {\"color\": \"#00cc96\"}, \"name\": \"Helse S\\u00f8r-\\u00d8st\", \"offsetgroup\": \"Helse S\\u00f8r-\\u00d8st\", \"orientation\": \"h\", \"showlegend\": true, \"text\": [115.0, 419.0, 529.0, 79.0, 72.0], \"textposition\": \"auto\", \"x\": [115, 419, 529, 79, 72], \"xaxis\": \"x\", \"y\": [\"Innlandet\", \"Oslo\", \"Viken\", \"Agder\", \"Vestfold og Telemark\"], \"yaxis\": \"y\", \"type\": \"bar\"}, {\"alignmentgroup\": \"True\", \"hoverlabel\": {\"namelength\": 0}, \"hovertemplate\": \"RHF=Helse Vest<br>Dato=20 Mar<br>Registrerte smittede=%{text}<br>Fylke=%{y}\", \"ids\": [\"Vestland\", \"Rogaland\"], \"legendgroup\": \"Helse Vest\", \"marker\": {\"color\": \"#ab63fa\"}, \"name\": \"Helse Vest\", \"offsetgroup\": \"Helse Vest\", \"orientation\": \"h\", \"showlegend\": true, \"text\": [173.0, 180.0], \"textposition\": \"auto\", \"x\": [173, 180], \"xaxis\": \"x\", \"y\": [\"Vestland\", \"Rogaland\"], \"yaxis\": \"y\", \"type\": \"bar\"}], \"name\": \"20 Mar\"}, {\"data\": [{\"alignmentgroup\": \"True\", \"hoverlabel\": {\"namelength\": 0}, \"hovertemplate\": \"RHF=Helse Midt-Norge<br>Dato=21 Mar<br>Registrerte smittede=%{text}<br>Fylke=%{y}\", \"ids\": [\"Tr\\u00f8ndelag\", \"M\\u00f8re og Romsdal\"], \"legendgroup\": \"Helse Midt-Norge\", \"marker\": {\"color\": \"#636efa\"}, \"name\": \"Helse Midt-Norge\", \"offsetgroup\": \"Helse Midt-Norge\", \"orientation\": \"h\", \"showlegend\": true, \"text\": [122.0, 32.0], \"textposition\": \"auto\", \"x\": [122, 32], \"xaxis\": \"x\", \"y\": [\"Tr\\u00f8ndelag\", \"M\\u00f8re og Romsdal\"], \"yaxis\": \"y\", \"type\": \"bar\"}, {\"alignmentgroup\": \"True\", \"hoverlabel\": {\"namelength\": 0}, \"hovertemplate\": \"RHF=Helse Nord<br>Dato=21 Mar<br>Registrerte smittede=%{text}<br>Fylke=%{y}\", \"ids\": [\"Nordland\", \"Troms og Finnmark\"], \"legendgroup\": \"Helse Nord\", \"marker\": {\"color\": \"#EF553B\"}, \"name\": \"Helse Nord\", \"offsetgroup\": \"Helse Nord\", \"orientation\": \"h\", \"showlegend\": true, \"text\": [17.0, 37.0], \"textposition\": \"auto\", \"x\": [17, 37], \"xaxis\": \"x\", \"y\": [\"Nordland\", \"Troms og Finnmark\"], \"yaxis\": \"y\", \"type\": \"bar\"}, {\"alignmentgroup\": \"True\", \"hoverlabel\": {\"namelength\": 0}, \"hovertemplate\": \"RHF=Helse S\\u00f8r-\\u00d8st<br>Dato=21 Mar<br>Registrerte smittede=%{text}<br>Fylke=%{y}\", \"ids\": [\"Agder\", \"Oslo\", \"Vestfold og Telemark\", \"Innlandet\", \"Viken\"], \"legendgroup\": \"Helse S\\u00f8r-\\u00d8st\", \"marker\": {\"color\": \"#00cc96\"}, \"name\": \"Helse S\\u00f8r-\\u00d8st\", \"offsetgroup\": \"Helse S\\u00f8r-\\u00d8st\", \"orientation\": \"h\", \"showlegend\": true, \"text\": [82.0, 448.0, 81.0, 125.0, 583.0], \"textposition\": \"auto\", \"x\": [82, 448, 81, 125, 583], \"xaxis\": \"x\", \"y\": [\"Agder\", \"Oslo\", \"Vestfold og Telemark\", \"Innlandet\", \"Viken\"], \"yaxis\": \"y\", \"type\": \"bar\"}, {\"alignmentgroup\": \"True\", \"hoverlabel\": {\"namelength\": 0}, \"hovertemplate\": \"RHF=Helse Vest<br>Dato=21 Mar<br>Registrerte smittede=%{text}<br>Fylke=%{y}\", \"ids\": [\"Vestland\", \"Rogaland\"], \"legendgroup\": \"Helse Vest\", \"marker\": {\"color\": \"#ab63fa\"}, \"name\": \"Helse Vest\", \"offsetgroup\": \"Helse Vest\", \"orientation\": \"h\", \"showlegend\": true, \"text\": [200.0, 199.0], \"textposition\": \"auto\", \"x\": [200, 199], \"xaxis\": \"x\", \"y\": [\"Vestland\", \"Rogaland\"], \"yaxis\": \"y\", \"type\": \"bar\"}], \"name\": \"21 Mar\"}, {\"data\": [{\"alignmentgroup\": \"True\", \"hoverlabel\": {\"namelength\": 0}, \"hovertemplate\": \"RHF=Helse Midt-Norge<br>Dato=22 Mar<br>Registrerte smittede=%{text}<br>Fylke=%{y}\", \"ids\": [\"M\\u00f8re og Romsdal\", \"Tr\\u00f8ndelag\"], \"legendgroup\": \"Helse Midt-Norge\", \"marker\": {\"color\": \"#636efa\"}, \"name\": \"Helse Midt-Norge\", \"offsetgroup\": \"Helse Midt-Norge\", \"orientation\": \"h\", \"showlegend\": true, \"text\": [38.0, 131.0], \"textposition\": \"auto\", \"x\": [38, 131], \"xaxis\": \"x\", \"y\": [\"M\\u00f8re og Romsdal\", \"Tr\\u00f8ndelag\"], \"yaxis\": \"y\", \"type\": \"bar\"}, {\"alignmentgroup\": \"True\", \"hoverlabel\": {\"namelength\": 0}, \"hovertemplate\": \"RHF=Helse Nord<br>Dato=22 Mar<br>Registrerte smittede=%{text}<br>Fylke=%{y}\", \"ids\": [\"Nordland\", \"Troms og Finnmark\"], \"legendgroup\": \"Helse Nord\", \"marker\": {\"color\": \"#EF553B\"}, \"name\": \"Helse Nord\", \"offsetgroup\": \"Helse Nord\", \"orientation\": \"h\", \"showlegend\": true, \"text\": [19.0, 49.0], \"textposition\": \"auto\", \"x\": [19, 49], \"xaxis\": \"x\", \"y\": [\"Nordland\", \"Troms og Finnmark\"], \"yaxis\": \"y\", \"type\": \"bar\"}, {\"alignmentgroup\": \"True\", \"hoverlabel\": {\"namelength\": 0}, \"hovertemplate\": \"RHF=Helse S\\u00f8r-\\u00d8st<br>Dato=22 Mar<br>Registrerte smittede=%{text}<br>Fylke=%{y}\", \"ids\": [\"Vestfold og Telemark\", \"Agder\", \"Oslo\", \"Innlandet\", \"Viken\"], \"legendgroup\": \"Helse S\\u00f8r-\\u00d8st\", \"marker\": {\"color\": \"#00cc96\"}, \"name\": \"Helse S\\u00f8r-\\u00d8st\", \"offsetgroup\": \"Helse S\\u00f8r-\\u00d8st\", \"orientation\": \"h\", \"showlegend\": true, \"text\": [85.0, 91.0, 523.0, 148.0, 615.0], \"textposition\": \"auto\", \"x\": [85, 91, 523, 148, 615], \"xaxis\": \"x\", \"y\": [\"Vestfold og Telemark\", \"Agder\", \"Oslo\", \"Innlandet\", \"Viken\"], \"yaxis\": \"y\", \"type\": \"bar\"}, {\"alignmentgroup\": \"True\", \"hoverlabel\": {\"namelength\": 0}, \"hovertemplate\": \"RHF=Helse Vest<br>Dato=22 Mar<br>Registrerte smittede=%{text}<br>Fylke=%{y}\", \"ids\": [\"Rogaland\", \"Vestland\"], \"legendgroup\": \"Helse Vest\", \"marker\": {\"color\": \"#ab63fa\"}, \"name\": \"Helse Vest\", \"offsetgroup\": \"Helse Vest\", \"orientation\": \"h\", \"showlegend\": true, \"text\": [219.0, 214.0], \"textposition\": \"auto\", \"x\": [219, 214], \"xaxis\": \"x\", \"y\": [\"Rogaland\", \"Vestland\"], \"yaxis\": \"y\", \"type\": \"bar\"}], \"name\": \"22 Mar\"}]);\n",
       "                        }).then(function(){\n",
       "                            \n",
       "var gd = document.getElementById('068ac02d-899e-4f0c-be9b-28a8afeef02f');\n",
       "var x = new MutationObserver(function (mutations, observer) {{\n",
       "        var display = window.getComputedStyle(gd).display;\n",
       "        if (!display || display === 'none') {{\n",
       "            console.log([gd, 'removed!']);\n",
       "            Plotly.purge(gd);\n",
       "            observer.disconnect();\n",
       "        }}\n",
       "}});\n",
       "\n",
       "// Listen for the removal of the full notebook cells\n",
       "var notebookContainer = gd.closest('#notebook-container');\n",
       "if (notebookContainer) {{\n",
       "    x.observe(notebookContainer, {childList: true});\n",
       "}}\n",
       "\n",
       "// Listen for the clearing of the current output cell\n",
       "var outputEl = gd.closest('.output');\n",
       "if (outputEl) {{\n",
       "    x.observe(outputEl, {childList: true});\n",
       "}}\n",
       "\n",
       "                        })\n",
       "                };\n",
       "                });\n",
       "            </script>\n",
       "        </div>"
      ]
     },
     "metadata": {},
     "output_type": "display_data"
    }
   ],
   "source": [
    "legend = [i for i in vekst[\"RHF\"].unique()]\n",
    "legend.sort()\n",
    "\n",
    "fig = px.bar(melted, \n",
    "             x='Registrerte smittede', y='Fylke', animation_frame=\"variable\",\n",
    "             animation_group=\"Fylke\",\n",
    "             orientation='h',\n",
    "             category_orders={\"RHF\": legend},\n",
    "             labels = {\"Veksttakt\": \"daglig vekst (%)\", \"variable\": \"Dato\"},\n",
    "             color='RHF',\n",
    "             text=\"Registrerte smittede\",\n",
    "             height=600,\n",
    "             title = \"<b>COVID19: Registrert smittet i Norge</b><br>Fordeling per fylke<br>Datakilde: FHI - folkehelseinstituttet. Oppdatert \" +datetime.today().strftime('%d.%m.%Y'),\n",
    "             template = \"plotly_white\",\n",
    "             range_x=[0,600]\n",
    "                 ).update_yaxes(categoryorder=\"total ascending\")\n",
    "\n",
    "fig.layout.coloraxis.showscale = False\n",
    "\n",
    "fig.update_layout(\n",
    "    yaxis=dict(\n",
    "        separatethousands=True,\n",
    "        categoryorder = 'total ascending',\n",
    "        title_text=\"\",\n",
    "        fixedrange=True,\n",
    "    ), xaxis=dict(fixedrange=True,\n",
    "                 title_text=\"\"),\n",
    "    title_font=dict(family=\"Helvetica\", size=18),\n",
    "        margin=dict(b=150)) #bottom margin\n",
    "\n",
    "fig.update_layout(autosize=True,\n",
    "    margin=dict(l=100, r=100, t=150, b=0),\n",
    "    paper_bgcolor='rgba(0, 0, 0, 0)'\n",
    "    #plot_bgcolor='rgb(248, 248, 255)'    \n",
    "                 )\n",
    "\n",
    "#plotly.offline.plot(fig, filename='COVID19_fylkesutvikling_animation.html')\n",
    "py.plot(fig, filename='COVID19_fylkesutvikling_animation.html')\n",
    "fig.show()"
   ]
  },
  {
   "cell_type": "code",
   "execution_count": 421,
   "metadata": {},
   "outputs": [
    {
     "data": {
      "application/vnd.plotly.v1+json": {
       "config": {
        "plotlyServerURL": "https://plot.ly"
       },
       "data": [
        {
         "alignmentgroup": "True",
         "hoverlabel": {
          "namelength": 0
         },
         "hovertemplate": "RHF=Helse Midt-Norge<br>Dato=09 Mar<br>Smittede/tusen innb=%{x}<br>Fylke=%{y}<br>txt=%{text}",
         "ids": [
          "Trøndelag",
          "Møre og Romsdal"
         ],
         "legendgroup": "Helse Midt-Norge",
         "marker": {
          "color": "#636efa"
         },
         "name": "Helse Midt-Norge",
         "offsetgroup": "Helse Midt-Norge",
         "orientation": "h",
         "showlegend": true,
         "text": [
          "0.05",
          "0.02"
         ],
         "textposition": "auto",
         "type": "bar",
         "x": [
          0.046938139798848734,
          0.018850994201434185
         ],
         "xaxis": "x",
         "y": [
          "Trøndelag",
          "Møre og Romsdal"
         ],
         "yaxis": "y"
        },
        {
         "alignmentgroup": "True",
         "hoverlabel": {
          "namelength": 0
         },
         "hovertemplate": "RHF=Helse Nord<br>Dato=09 Mar<br>Smittede/tusen innb=%{x}<br>Fylke=%{y}<br>txt=%{text}",
         "ids": [
          "Troms og Finnmark",
          "Nordland"
         ],
         "legendgroup": "Helse Nord",
         "marker": {
          "color": "#EF553B"
         },
         "name": "Helse Nord",
         "offsetgroup": "Helse Nord",
         "orientation": "h",
         "showlegend": true,
         "text": [
          "0.02",
          "0.01"
         ],
         "textposition": "auto",
         "type": "bar",
         "x": [
          0.024659797543062172,
          0.01243600638381661
         ],
         "xaxis": "x",
         "y": [
          "Troms og Finnmark",
          "Nordland"
         ],
         "yaxis": "y"
        },
        {
         "alignmentgroup": "True",
         "hoverlabel": {
          "namelength": 0
         },
         "hovertemplate": "RHF=Helse Sør-Øst<br>Dato=09 Mar<br>Smittede/tusen innb=%{x}<br>Fylke=%{y}<br>txt=%{text}",
         "ids": [
          "Agder",
          "Oslo",
          "Vestfold og Telemark",
          "Innlandet",
          "Viken"
         ],
         "legendgroup": "Helse Sør-Øst",
         "marker": {
          "color": "#00cc96"
         },
         "name": "Helse Sør-Øst",
         "offsetgroup": "Helse Sør-Øst",
         "orientation": "h",
         "showlegend": true,
         "text": [
          "0.06",
          "0.07",
          "0.01",
          "0.04",
          "0.07"
         ],
         "textposition": "auto",
         "type": "bar",
         "x": [
          0.06184271769450349,
          0.07354065067614139,
          0.0119219067420767,
          0.043081976924216114,
          0.06928973988148232
         ],
         "xaxis": "x",
         "y": [
          "Agder",
          "Oslo",
          "Vestfold og Telemark",
          "Innlandet",
          "Viken"
         ],
         "yaxis": "y"
        },
        {
         "alignmentgroup": "True",
         "hoverlabel": {
          "namelength": 0
         },
         "hovertemplate": "RHF=Helse Vest<br>Dato=09 Mar<br>Smittede/tusen innb=%{x}<br>Fylke=%{y}<br>txt=%{text}",
         "ids": [
          "Vestland",
          "Rogaland"
         ],
         "legendgroup": "Helse Vest",
         "marker": {
          "color": "#ab63fa"
         },
         "name": "Helse Vest",
         "offsetgroup": "Helse Vest",
         "orientation": "h",
         "showlegend": true,
         "text": [
          "0.05",
          "0.07"
         ],
         "textposition": "auto",
         "type": "bar",
         "x": [
          0.048701477225775336,
          0.06876547223125203
         ],
         "xaxis": "x",
         "y": [
          "Vestland",
          "Rogaland"
         ],
         "yaxis": "y"
        }
       ],
       "frames": [
        {
         "data": [
          {
           "alignmentgroup": "True",
           "hoverlabel": {
            "namelength": 0
           },
           "hovertemplate": "RHF=Helse Midt-Norge<br>Dato=09 Mar<br>Smittede/tusen innb=%{x}<br>Fylke=%{y}<br>txt=%{text}",
           "ids": [
            "Trøndelag",
            "Møre og Romsdal"
           ],
           "legendgroup": "Helse Midt-Norge",
           "marker": {
            "color": "#636efa"
           },
           "name": "Helse Midt-Norge",
           "offsetgroup": "Helse Midt-Norge",
           "orientation": "h",
           "showlegend": true,
           "text": [
            "0.05",
            "0.02"
           ],
           "textposition": "auto",
           "type": "bar",
           "x": [
            0.046938139798848734,
            0.018850994201434185
           ],
           "xaxis": "x",
           "y": [
            "Trøndelag",
            "Møre og Romsdal"
           ],
           "yaxis": "y"
          },
          {
           "alignmentgroup": "True",
           "hoverlabel": {
            "namelength": 0
           },
           "hovertemplate": "RHF=Helse Nord<br>Dato=09 Mar<br>Smittede/tusen innb=%{x}<br>Fylke=%{y}<br>txt=%{text}",
           "ids": [
            "Troms og Finnmark",
            "Nordland"
           ],
           "legendgroup": "Helse Nord",
           "marker": {
            "color": "#EF553B"
           },
           "name": "Helse Nord",
           "offsetgroup": "Helse Nord",
           "orientation": "h",
           "showlegend": true,
           "text": [
            "0.02",
            "0.01"
           ],
           "textposition": "auto",
           "type": "bar",
           "x": [
            0.024659797543062172,
            0.01243600638381661
           ],
           "xaxis": "x",
           "y": [
            "Troms og Finnmark",
            "Nordland"
           ],
           "yaxis": "y"
          },
          {
           "alignmentgroup": "True",
           "hoverlabel": {
            "namelength": 0
           },
           "hovertemplate": "RHF=Helse Sør-Øst<br>Dato=09 Mar<br>Smittede/tusen innb=%{x}<br>Fylke=%{y}<br>txt=%{text}",
           "ids": [
            "Agder",
            "Oslo",
            "Vestfold og Telemark",
            "Innlandet",
            "Viken"
           ],
           "legendgroup": "Helse Sør-Øst",
           "marker": {
            "color": "#00cc96"
           },
           "name": "Helse Sør-Øst",
           "offsetgroup": "Helse Sør-Øst",
           "orientation": "h",
           "showlegend": true,
           "text": [
            "0.06",
            "0.07",
            "0.01",
            "0.04",
            "0.07"
           ],
           "textposition": "auto",
           "type": "bar",
           "x": [
            0.06184271769450349,
            0.07354065067614139,
            0.0119219067420767,
            0.043081976924216114,
            0.06928973988148232
           ],
           "xaxis": "x",
           "y": [
            "Agder",
            "Oslo",
            "Vestfold og Telemark",
            "Innlandet",
            "Viken"
           ],
           "yaxis": "y"
          },
          {
           "alignmentgroup": "True",
           "hoverlabel": {
            "namelength": 0
           },
           "hovertemplate": "RHF=Helse Vest<br>Dato=09 Mar<br>Smittede/tusen innb=%{x}<br>Fylke=%{y}<br>txt=%{text}",
           "ids": [
            "Vestland",
            "Rogaland"
           ],
           "legendgroup": "Helse Vest",
           "marker": {
            "color": "#ab63fa"
           },
           "name": "Helse Vest",
           "offsetgroup": "Helse Vest",
           "orientation": "h",
           "showlegend": true,
           "text": [
            "0.05",
            "0.07"
           ],
           "textposition": "auto",
           "type": "bar",
           "x": [
            0.048701477225775336,
            0.06876547223125203
           ],
           "xaxis": "x",
           "y": [
            "Vestland",
            "Rogaland"
           ],
           "yaxis": "y"
          }
         ],
         "name": "09 Mar"
        },
        {
         "data": [
          {
           "alignmentgroup": "True",
           "hoverlabel": {
            "namelength": 0
           },
           "hovertemplate": "RHF=Helse Midt-Norge<br>Dato=10 Mar<br>Smittede/tusen innb=%{x}<br>Fylke=%{y}<br>txt=%{text}",
           "ids": [
            "Møre og Romsdal",
            "Trøndelag"
           ],
           "legendgroup": "Helse Midt-Norge",
           "marker": {
            "color": "#636efa"
           },
           "name": "Helse Midt-Norge",
           "offsetgroup": "Helse Midt-Norge",
           "orientation": "h",
           "showlegend": true,
           "text": [
            "0.02",
            "0.05"
           ],
           "textposition": "auto",
           "type": "bar",
           "x": [
            0.018850994201434185,
            0.046938139798848734
           ],
           "xaxis": "x",
           "y": [
            "Møre og Romsdal",
            "Trøndelag"
           ],
           "yaxis": "y"
          },
          {
           "alignmentgroup": "True",
           "hoverlabel": {
            "namelength": 0
           },
           "hovertemplate": "RHF=Helse Nord<br>Dato=10 Mar<br>Smittede/tusen innb=%{x}<br>Fylke=%{y}<br>txt=%{text}",
           "ids": [
            "Nordland",
            "Troms og Finnmark"
           ],
           "legendgroup": "Helse Nord",
           "marker": {
            "color": "#EF553B"
           },
           "name": "Helse Nord",
           "offsetgroup": "Helse Nord",
           "orientation": "h",
           "showlegend": true,
           "text": [
            "0.01",
            "0.02"
           ],
           "textposition": "auto",
           "type": "bar",
           "x": [
            0.01243600638381661,
            0.024659797543062172
           ],
           "xaxis": "x",
           "y": [
            "Nordland",
            "Troms og Finnmark"
           ],
           "yaxis": "y"
          },
          {
           "alignmentgroup": "True",
           "hoverlabel": {
            "namelength": 0
           },
           "hovertemplate": "RHF=Helse Sør-Øst<br>Dato=10 Mar<br>Smittede/tusen innb=%{x}<br>Fylke=%{y}<br>txt=%{text}",
           "ids": [
            "Viken",
            "Vestfold og Telemark",
            "Oslo",
            "Agder",
            "Innlandet"
           ],
           "legendgroup": "Helse Sør-Øst",
           "marker": {
            "color": "#00cc96"
           },
           "name": "Helse Sør-Øst",
           "offsetgroup": "Helse Sør-Øst",
           "orientation": "h",
           "showlegend": true,
           "text": [
            "0.07",
            "0.01",
            "0.07",
            "0.06",
            "0.04"
           ],
           "textposition": "auto",
           "type": "bar",
           "x": [
            0.06928973988148232,
            0.0119219067420767,
            0.07354065067614139,
            0.06184271769450349,
            0.043081976924216114
           ],
           "xaxis": "x",
           "y": [
            "Viken",
            "Vestfold og Telemark",
            "Oslo",
            "Agder",
            "Innlandet"
           ],
           "yaxis": "y"
          },
          {
           "alignmentgroup": "True",
           "hoverlabel": {
            "namelength": 0
           },
           "hovertemplate": "RHF=Helse Vest<br>Dato=10 Mar<br>Smittede/tusen innb=%{x}<br>Fylke=%{y}<br>txt=%{text}",
           "ids": [
            "Rogaland",
            "Vestland"
           ],
           "legendgroup": "Helse Vest",
           "marker": {
            "color": "#ab63fa"
           },
           "name": "Helse Vest",
           "offsetgroup": "Helse Vest",
           "orientation": "h",
           "showlegend": true,
           "text": [
            "0.07",
            "0.05"
           ],
           "textposition": "auto",
           "type": "bar",
           "x": [
            0.06876547223125203,
            0.048701477225775336
           ],
           "xaxis": "x",
           "y": [
            "Rogaland",
            "Vestland"
           ],
           "yaxis": "y"
          }
         ],
         "name": "10 Mar"
        },
        {
         "data": [
          {
           "alignmentgroup": "True",
           "hoverlabel": {
            "namelength": 0
           },
           "hovertemplate": "RHF=Helse Midt-Norge<br>Dato=11 Mar<br>Smittede/tusen innb=%{x}<br>Fylke=%{y}<br>txt=%{text}",
           "ids": [
            "Trøndelag",
            "Møre og Romsdal"
           ],
           "legendgroup": "Helse Midt-Norge",
           "marker": {
            "color": "#636efa"
           },
           "name": "Helse Midt-Norge",
           "offsetgroup": "Helse Midt-Norge",
           "orientation": "h",
           "showlegend": true,
           "text": [
            "0.05",
            "0.03"
           ],
           "textposition": "auto",
           "type": "bar",
           "x": [
            0.05333879522596447,
            0.026391391882007856
           ],
           "xaxis": "x",
           "y": [
            "Trøndelag",
            "Møre og Romsdal"
           ],
           "yaxis": "y"
          },
          {
           "alignmentgroup": "True",
           "hoverlabel": {
            "namelength": 0
           },
           "hovertemplate": "RHF=Helse Nord<br>Dato=11 Mar<br>Smittede/tusen innb=%{x}<br>Fylke=%{y}<br>txt=%{text}",
           "ids": [
            "Nordland",
            "Troms og Finnmark"
           ],
           "legendgroup": "Helse Nord",
           "marker": {
            "color": "#EF553B"
           },
           "name": "Helse Nord",
           "offsetgroup": "Helse Nord",
           "orientation": "h",
           "showlegend": true,
           "text": [
            "0.01",
            "0.03"
           ],
           "textposition": "auto",
           "type": "bar",
           "x": [
            0.01243600638381661,
            0.028769763800239198
           ],
           "xaxis": "x",
           "y": [
            "Nordland",
            "Troms og Finnmark"
           ],
           "yaxis": "y"
          },
          {
           "alignmentgroup": "True",
           "hoverlabel": {
            "namelength": 0
           },
           "hovertemplate": "RHF=Helse Sør-Øst<br>Dato=11 Mar<br>Smittede/tusen innb=%{x}<br>Fylke=%{y}<br>txt=%{text}",
           "ids": [
            "Vestfold og Telemark",
            "Viken",
            "Innlandet",
            "Agder",
            "Oslo"
           ],
           "legendgroup": "Helse Sør-Øst",
           "marker": {
            "color": "#00cc96"
           },
           "name": "Helse Sør-Øst",
           "offsetgroup": "Helse Sør-Øst",
           "orientation": "h",
           "showlegend": true,
           "text": [
            "0.04",
            "0.1",
            "0.06",
            "0.07",
            "0.18"
           ],
           "textposition": "auto",
           "type": "bar",
           "x": [
            0.0357657202262301,
            0.0999061365733001,
            0.06193034182856066,
            0.06509759757316157,
            0.177362745748341
           ],
           "xaxis": "x",
           "y": [
            "Vestfold og Telemark",
            "Viken",
            "Innlandet",
            "Agder",
            "Oslo"
           ],
           "yaxis": "y"
          },
          {
           "alignmentgroup": "True",
           "hoverlabel": {
            "namelength": 0
           },
           "hovertemplate": "RHF=Helse Vest<br>Dato=11 Mar<br>Smittede/tusen innb=%{x}<br>Fylke=%{y}<br>txt=%{text}",
           "ids": [
            "Rogaland",
            "Vestland"
           ],
           "legendgroup": "Helse Vest",
           "marker": {
            "color": "#ab63fa"
           },
           "name": "Helse Vest",
           "offsetgroup": "Helse Vest",
           "orientation": "h",
           "showlegend": true,
           "text": [
            "0.15",
            "0.06"
           ],
           "textposition": "auto",
           "type": "bar",
           "x": [
            0.14794995540663317,
            0.06441163116957384
           ],
           "xaxis": "x",
           "y": [
            "Rogaland",
            "Vestland"
           ],
           "yaxis": "y"
          }
         ],
         "name": "11 Mar"
        },
        {
         "data": [
          {
           "alignmentgroup": "True",
           "hoverlabel": {
            "namelength": 0
           },
           "hovertemplate": "RHF=Helse Midt-Norge<br>Dato=12 Mar<br>Smittede/tusen innb=%{x}<br>Fylke=%{y}<br>txt=%{text}",
           "ids": [
            "Trøndelag",
            "Møre og Romsdal"
           ],
           "legendgroup": "Helse Midt-Norge",
           "marker": {
            "color": "#636efa"
           },
           "name": "Helse Midt-Norge",
           "offsetgroup": "Helse Midt-Norge",
           "orientation": "h",
           "showlegend": true,
           "text": [
            "0.08",
            "0.02"
           ],
           "textposition": "auto",
           "type": "bar",
           "x": [
            0.07894141693442742,
            0.02262119304172102
           ],
           "xaxis": "x",
           "y": [
            "Trøndelag",
            "Møre og Romsdal"
           ],
           "yaxis": "y"
          },
          {
           "alignmentgroup": "True",
           "hoverlabel": {
            "namelength": 0
           },
           "hovertemplate": "RHF=Helse Nord<br>Dato=12 Mar<br>Smittede/tusen innb=%{x}<br>Fylke=%{y}<br>txt=%{text}",
           "ids": [
            "Troms og Finnmark",
            "Nordland"
           ],
           "legendgroup": "Helse Nord",
           "marker": {
            "color": "#EF553B"
           },
           "name": "Helse Nord",
           "offsetgroup": "Helse Nord",
           "orientation": "h",
           "showlegend": true,
           "text": [
            "0.05",
            "0.02"
           ],
           "textposition": "auto",
           "type": "bar",
           "x": [
            0.045209628828947315,
            0.016581341845088814
           ],
           "xaxis": "x",
           "y": [
            "Troms og Finnmark",
            "Nordland"
           ],
           "yaxis": "y"
          },
          {
           "alignmentgroup": "True",
           "hoverlabel": {
            "namelength": 0
           },
           "hovertemplate": "RHF=Helse Sør-Øst<br>Dato=12 Mar<br>Smittede/tusen innb=%{x}<br>Fylke=%{y}<br>txt=%{text}",
           "ids": [
            "Agder",
            "Oslo",
            "Vestfold og Telemark",
            "Viken",
            "Innlandet"
           ],
           "legendgroup": "Helse Sør-Øst",
           "marker": {
            "color": "#00cc96"
           },
           "name": "Helse Sør-Øst",
           "offsetgroup": "Helse Sør-Øst",
           "orientation": "h",
           "showlegend": true,
           "text": [
            "0.1",
            "0.24",
            "0.05",
            "0.12",
            "0.11"
           ],
           "textposition": "auto",
           "type": "bar",
           "x": [
            0.1041561561170585,
            0.23936760808312688,
            0.05245638966513748,
            0.12407697606684043,
            0.10770494231054027
           ],
           "xaxis": "x",
           "y": [
            "Agder",
            "Oslo",
            "Vestfold og Telemark",
            "Viken",
            "Innlandet"
           ],
           "yaxis": "y"
          },
          {
           "alignmentgroup": "True",
           "hoverlabel": {
            "namelength": 0
           },
           "hovertemplate": "RHF=Helse Vest<br>Dato=12 Mar<br>Smittede/tusen innb=%{x}<br>Fylke=%{y}<br>txt=%{text}",
           "ids": [
            "Rogaland",
            "Vestland"
           ],
           "legendgroup": "Helse Vest",
           "marker": {
            "color": "#ab63fa"
           },
           "name": "Helse Vest",
           "offsetgroup": "Helse Vest",
           "orientation": "h",
           "showlegend": true,
           "text": [
            "0.17",
            "0.11"
           ],
           "textposition": "auto",
           "type": "bar",
           "x": [
            0.17087177948371718,
            0.10525803142344993
           ],
           "xaxis": "x",
           "y": [
            "Rogaland",
            "Vestland"
           ],
           "yaxis": "y"
          }
         ],
         "name": "12 Mar"
        },
        {
         "data": [
          {
           "alignmentgroup": "True",
           "hoverlabel": {
            "namelength": 0
           },
           "hovertemplate": "RHF=Helse Midt-Norge<br>Dato=13 Mar<br>Smittede/tusen innb=%{x}<br>Fylke=%{y}<br>txt=%{text}",
           "ids": [
            "Trøndelag",
            "Møre og Romsdal"
           ],
           "legendgroup": "Helse Midt-Norge",
           "marker": {
            "color": "#636efa"
           },
           "name": "Helse Midt-Norge",
           "offsetgroup": "Helse Midt-Norge",
           "orientation": "h",
           "showlegend": true,
           "text": [
            "0.09",
            "0.03"
           ],
           "textposition": "auto",
           "type": "bar",
           "x": [
            0.0917427277886589,
            0.026391391882007856
           ],
           "xaxis": "x",
           "y": [
            "Trøndelag",
            "Møre og Romsdal"
           ],
           "yaxis": "y"
          },
          {
           "alignmentgroup": "True",
           "hoverlabel": {
            "namelength": 0
           },
           "hovertemplate": "RHF=Helse Nord<br>Dato=13 Mar<br>Smittede/tusen innb=%{x}<br>Fylke=%{y}<br>txt=%{text}",
           "ids": [
            "Nordland",
            "Troms og Finnmark"
           ],
           "legendgroup": "Helse Nord",
           "marker": {
            "color": "#EF553B"
           },
           "name": "Helse Nord",
           "offsetgroup": "Helse Nord",
           "orientation": "h",
           "showlegend": true,
           "text": [
            "0.02",
            "0.05"
           ],
           "textposition": "auto",
           "type": "bar",
           "x": [
            0.020726677306361015,
            0.049319595086124345
           ],
           "xaxis": "x",
           "y": [
            "Nordland",
            "Troms og Finnmark"
           ],
           "yaxis": "y"
          },
          {
           "alignmentgroup": "True",
           "hoverlabel": {
            "namelength": 0
           },
           "hovertemplate": "RHF=Helse Sør-Øst<br>Dato=13 Mar<br>Smittede/tusen innb=%{x}<br>Fylke=%{y}<br>txt=%{text}",
           "ids": [
            "Agder",
            "Vestfold og Telemark",
            "Viken",
            "Innlandet",
            "Oslo"
           ],
           "legendgroup": "Helse Sør-Øst",
           "marker": {
            "color": "#00cc96"
           },
           "name": "Helse Sør-Øst",
           "offsetgroup": "Helse Sør-Øst",
           "orientation": "h",
           "showlegend": true,
           "text": [
            "0.11",
            "0.07",
            "0.15",
            "0.13",
            "0.3"
           ],
           "textposition": "auto",
           "type": "bar",
           "x": [
            0.11066591587437466,
            0.0715314404524602,
            0.14502503696124205,
            0.13193855433041185,
            0.29848852333257386
           ],
           "xaxis": "x",
           "y": [
            "Agder",
            "Vestfold og Telemark",
            "Viken",
            "Innlandet",
            "Oslo"
           ],
           "yaxis": "y"
          },
          {
           "alignmentgroup": "True",
           "hoverlabel": {
            "namelength": 0
           },
           "hovertemplate": "RHF=Helse Vest<br>Dato=13 Mar<br>Smittede/tusen innb=%{x}<br>Fylke=%{y}<br>txt=%{text}",
           "ids": [
            "Rogaland",
            "Vestland"
           ],
           "legendgroup": "Helse Vest",
           "marker": {
            "color": "#ab63fa"
           },
           "name": "Helse Vest",
           "offsetgroup": "Helse Vest",
           "orientation": "h",
           "showlegend": true,
           "text": [
            "0.22",
            "0.12"
           ],
           "textposition": "auto",
           "type": "bar",
           "x": [
            0.21879922982671102,
            0.12253920076162828
           ],
           "xaxis": "x",
           "y": [
            "Rogaland",
            "Vestland"
           ],
           "yaxis": "y"
          }
         ],
         "name": "13 Mar"
        },
        {
         "data": [
          {
           "alignmentgroup": "True",
           "hoverlabel": {
            "namelength": 0
           },
           "hovertemplate": "RHF=Helse Midt-Norge<br>Dato=14 Mar<br>Smittede/tusen innb=%{x}<br>Fylke=%{y}<br>txt=%{text}",
           "ids": [
            "Møre og Romsdal",
            "Trøndelag"
           ],
           "legendgroup": "Helse Midt-Norge",
           "marker": {
            "color": "#636efa"
           },
           "name": "Helse Midt-Norge",
           "offsetgroup": "Helse Midt-Norge",
           "orientation": "h",
           "showlegend": true,
           "text": [
            "0.06",
            "0.1"
           ],
           "textposition": "auto",
           "type": "bar",
           "x": [
            0.06032318144458939,
            0.09814338321577463
           ],
           "xaxis": "x",
           "y": [
            "Møre og Romsdal",
            "Trøndelag"
           ],
           "yaxis": "y"
          },
          {
           "alignmentgroup": "True",
           "hoverlabel": {
            "namelength": 0
           },
           "hovertemplate": "RHF=Helse Nord<br>Dato=14 Mar<br>Smittede/tusen innb=%{x}<br>Fylke=%{y}<br>txt=%{text}",
           "ids": [
            "Troms og Finnmark",
            "Nordland"
           ],
           "legendgroup": "Helse Nord",
           "marker": {
            "color": "#EF553B"
           },
           "name": "Helse Nord",
           "offsetgroup": "Helse Nord",
           "orientation": "h",
           "showlegend": true,
           "text": [
            "0.07",
            "0.03"
           ],
           "textposition": "auto",
           "type": "bar",
           "x": [
            0.06575946011483245,
            0.03316268369017763
           ],
           "xaxis": "x",
           "y": [
            "Troms og Finnmark",
            "Nordland"
           ],
           "yaxis": "y"
          },
          {
           "alignmentgroup": "True",
           "hoverlabel": {
            "namelength": 0
           },
           "hovertemplate": "RHF=Helse Sør-Øst<br>Dato=14 Mar<br>Smittede/tusen innb=%{x}<br>Fylke=%{y}<br>txt=%{text}",
           "ids": [
            "Agder",
            "Oslo",
            "Innlandet",
            "Viken",
            "Vestfold og Telemark"
           ],
           "legendgroup": "Helse Sør-Øst",
           "marker": {
            "color": "#00cc96"
           },
           "name": "Helse Sør-Øst",
           "offsetgroup": "Helse Sør-Øst",
           "orientation": "h",
           "showlegend": true,
           "text": [
            "0.17",
            "0.32",
            "0.15",
            "0.19",
            "0.09"
           ],
           "textposition": "auto",
           "type": "bar",
           "x": [
            0.16925375369022005,
            0.32011812647261545,
            0.1534795427925199,
            0.18611546410026064,
            0.09299087258819826
           ],
           "xaxis": "x",
           "y": [
            "Agder",
            "Oslo",
            "Innlandet",
            "Viken",
            "Vestfold og Telemark"
           ],
           "yaxis": "y"
          },
          {
           "alignmentgroup": "True",
           "hoverlabel": {
            "namelength": 0
           },
           "hovertemplate": "RHF=Helse Vest<br>Dato=14 Mar<br>Smittede/tusen innb=%{x}<br>Fylke=%{y}<br>txt=%{text}",
           "ids": [
            "Rogaland",
            "Vestland"
           ],
           "legendgroup": "Helse Vest",
           "marker": {
            "color": "#ab63fa"
           },
           "name": "Helse Vest",
           "offsetgroup": "Helse Vest",
           "orientation": "h",
           "showlegend": true,
           "text": [
            "0.25",
            "0.16"
           ],
           "textposition": "auto",
           "type": "bar",
           "x": [
            0.2479724604702725,
            0.1586725548323648
           ],
           "xaxis": "x",
           "y": [
            "Rogaland",
            "Vestland"
           ],
           "yaxis": "y"
          }
         ],
         "name": "14 Mar"
        },
        {
         "data": [
          {
           "alignmentgroup": "True",
           "hoverlabel": {
            "namelength": 0
           },
           "hovertemplate": "RHF=Helse Midt-Norge<br>Dato=15 Mar<br>Smittede/tusen innb=%{x}<br>Fylke=%{y}<br>txt=%{text}",
           "ids": [
            "Trøndelag",
            "Møre og Romsdal"
           ],
           "legendgroup": "Helse Midt-Norge",
           "marker": {
            "color": "#636efa"
           },
           "name": "Helse Midt-Norge",
           "offsetgroup": "Helse Midt-Norge",
           "orientation": "h",
           "showlegend": true,
           "text": [
            "0.11",
            "0.08"
           ],
           "textposition": "auto",
           "type": "bar",
           "x": [
            0.10667759045192894,
            0.07540397680573674
           ],
           "xaxis": "x",
           "y": [
            "Trøndelag",
            "Møre og Romsdal"
           ],
           "yaxis": "y"
          },
          {
           "alignmentgroup": "True",
           "hoverlabel": {
            "namelength": 0
           },
           "hovertemplate": "RHF=Helse Nord<br>Dato=15 Mar<br>Smittede/tusen innb=%{x}<br>Fylke=%{y}<br>txt=%{text}",
           "ids": [
            "Troms og Finnmark",
            "Nordland"
           ],
           "legendgroup": "Helse Nord",
           "marker": {
            "color": "#EF553B"
           },
           "name": "Helse Nord",
           "offsetgroup": "Helse Nord",
           "orientation": "h",
           "showlegend": true,
           "text": [
            "0.08",
            "0.03"
           ],
           "textposition": "auto",
           "type": "bar",
           "x": [
            0.08219932514354057,
            0.03316268369017763
           ],
           "xaxis": "x",
           "y": [
            "Troms og Finnmark",
            "Nordland"
           ],
           "yaxis": "y"
          },
          {
           "alignmentgroup": "True",
           "hoverlabel": {
            "namelength": 0
           },
           "hovertemplate": "RHF=Helse Sør-Øst<br>Dato=15 Mar<br>Smittede/tusen innb=%{x}<br>Fylke=%{y}<br>txt=%{text}",
           "ids": [
            "Vestfold og Telemark",
            "Viken",
            "Agder",
            "Innlandet",
            "Oslo"
           ],
           "legendgroup": "Helse Sør-Øst",
           "marker": {
            "color": "#00cc96"
           },
           "name": "Helse Sør-Øst",
           "offsetgroup": "Helse Sør-Øst",
           "orientation": "h",
           "showlegend": true,
           "text": [
            "0.11",
            "0.22",
            "0.18",
            "0.19",
            "0.41"
           ],
           "textposition": "auto",
           "type": "bar",
           "x": [
            0.11445030472393633,
            0.2239831126401405,
            0.1790183933261943,
            0.1938688961589725,
            0.40519456549011235
           ],
           "xaxis": "x",
           "y": [
            "Vestfold og Telemark",
            "Viken",
            "Agder",
            "Innlandet",
            "Oslo"
           ],
           "yaxis": "y"
          },
          {
           "alignmentgroup": "True",
           "hoverlabel": {
            "namelength": 0
           },
           "hovertemplate": "RHF=Helse Vest<br>Dato=15 Mar<br>Smittede/tusen innb=%{x}<br>Fylke=%{y}<br>txt=%{text}",
           "ids": [
            "Vestland",
            "Rogaland"
           ],
           "legendgroup": "Helse Vest",
           "marker": {
            "color": "#ab63fa"
           },
           "name": "Helse Vest",
           "offsetgroup": "Helse Vest",
           "orientation": "h",
           "showlegend": true,
           "text": [
            "0.19",
            "0.26"
           ],
           "textposition": "auto",
           "type": "bar",
           "x": [
            0.18537981653682226,
            0.26464287798087904
           ],
           "xaxis": "x",
           "y": [
            "Vestland",
            "Rogaland"
           ],
           "yaxis": "y"
          }
         ],
         "name": "15 Mar"
        },
        {
         "data": [
          {
           "alignmentgroup": "True",
           "hoverlabel": {
            "namelength": 0
           },
           "hovertemplate": "RHF=Helse Midt-Norge<br>Dato=16 Mar<br>Smittede/tusen innb=%{x}<br>Fylke=%{y}<br>txt=%{text}",
           "ids": [
            "Trøndelag",
            "Møre og Romsdal"
           ],
           "legendgroup": "Helse Midt-Norge",
           "marker": {
            "color": "#636efa"
           },
           "name": "Helse Midt-Norge",
           "offsetgroup": "Helse Midt-Norge",
           "orientation": "h",
           "showlegend": true,
           "text": [
            "0.11",
            "0.08"
           ],
           "textposition": "auto",
           "type": "bar",
           "x": [
            0.11094469407000611,
            0.07540397680573674
           ],
           "xaxis": "x",
           "y": [
            "Trøndelag",
            "Møre og Romsdal"
           ],
           "yaxis": "y"
          },
          {
           "alignmentgroup": "True",
           "hoverlabel": {
            "namelength": 0
           },
           "hovertemplate": "RHF=Helse Nord<br>Dato=16 Mar<br>Smittede/tusen innb=%{x}<br>Fylke=%{y}<br>txt=%{text}",
           "ids": [
            "Troms og Finnmark",
            "Nordland"
           ],
           "legendgroup": "Helse Nord",
           "marker": {
            "color": "#EF553B"
           },
           "name": "Helse Nord",
           "offsetgroup": "Helse Nord",
           "orientation": "h",
           "showlegend": true,
           "text": [
            "0.09",
            "0.05"
           ],
           "textposition": "auto",
           "type": "bar",
           "x": [
            0.0863092914007176,
            0.04559869007399424
           ],
           "xaxis": "x",
           "y": [
            "Troms og Finnmark",
            "Nordland"
           ],
           "yaxis": "y"
          },
          {
           "alignmentgroup": "True",
           "hoverlabel": {
            "namelength": 0
           },
           "hovertemplate": "RHF=Helse Sør-Øst<br>Dato=16 Mar<br>Smittede/tusen innb=%{x}<br>Fylke=%{y}<br>txt=%{text}",
           "ids": [
            "Viken",
            "Oslo",
            "Vestfold og Telemark",
            "Innlandet",
            "Agder"
           ],
           "legendgroup": "Helse Sør-Øst",
           "marker": {
            "color": "#00cc96"
           },
           "name": "Helse Sør-Øst",
           "offsetgroup": "Helse Sør-Øst",
           "orientation": "h",
           "showlegend": true,
           "text": [
            "0.25",
            "0.42",
            "0.13",
            "0.22",
            "0.22"
           ],
           "textposition": "auto",
           "type": "bar",
           "x": [
            0.2529881200323889,
            0.4210562744594762,
            0.12637221146601302,
            0.21810250817884405,
            0.21807695187009124
           ],
           "xaxis": "x",
           "y": [
            "Viken",
            "Oslo",
            "Vestfold og Telemark",
            "Innlandet",
            "Agder"
           ],
           "yaxis": "y"
          },
          {
           "alignmentgroup": "True",
           "hoverlabel": {
            "namelength": 0
           },
           "hovertemplate": "RHF=Helse Vest<br>Dato=16 Mar<br>Smittede/tusen innb=%{x}<br>Fylke=%{y}<br>txt=%{text}",
           "ids": [
            "Vestland",
            "Rogaland"
           ],
           "legendgroup": "Helse Vest",
           "marker": {
            "color": "#ab63fa"
           },
           "name": "Helse Vest",
           "offsetgroup": "Helse Vest",
           "orientation": "h",
           "showlegend": true,
           "text": [
            "0.2",
            "0.27"
           ],
           "textposition": "auto",
           "type": "bar",
           "x": [
            0.1995189550862409,
            0.2729780867361823
           ],
           "xaxis": "x",
           "y": [
            "Vestland",
            "Rogaland"
           ],
           "yaxis": "y"
          }
         ],
         "name": "16 Mar"
        },
        {
         "data": [
          {
           "alignmentgroup": "True",
           "hoverlabel": {
            "namelength": 0
           },
           "hovertemplate": "RHF=Helse Midt-Norge<br>Dato=17 Mar<br>Smittede/tusen innb=%{x}<br>Fylke=%{y}<br>txt=%{text}",
           "ids": [
            "Møre og Romsdal",
            "Trøndelag"
           ],
           "legendgroup": "Helse Midt-Norge",
           "marker": {
            "color": "#636efa"
           },
           "name": "Helse Midt-Norge",
           "offsetgroup": "Helse Midt-Norge",
           "orientation": "h",
           "showlegend": true,
           "text": [
            "0.08",
            "0.13"
           ],
           "textposition": "auto",
           "type": "bar",
           "x": [
            0.07540397680573674,
            0.1301466603513533
           ],
           "xaxis": "x",
           "y": [
            "Møre og Romsdal",
            "Trøndelag"
           ],
           "yaxis": "y"
          },
          {
           "alignmentgroup": "True",
           "hoverlabel": {
            "namelength": 0
           },
           "hovertemplate": "RHF=Helse Nord<br>Dato=17 Mar<br>Smittede/tusen innb=%{x}<br>Fylke=%{y}<br>txt=%{text}",
           "ids": [
            "Nordland",
            "Troms og Finnmark"
           ],
           "legendgroup": "Helse Nord",
           "marker": {
            "color": "#EF553B"
           },
           "name": "Helse Nord",
           "offsetgroup": "Helse Nord",
           "orientation": "h",
           "showlegend": true,
           "text": [
            "0.05",
            "0.1"
           ],
           "textposition": "auto",
           "type": "bar",
           "x": [
            0.04559869007399424,
            0.09863919017224869
           ],
           "xaxis": "x",
           "y": [
            "Nordland",
            "Troms og Finnmark"
           ],
           "yaxis": "y"
          },
          {
           "alignmentgroup": "True",
           "hoverlabel": {
            "namelength": 0
           },
           "hovertemplate": "RHF=Helse Sør-Øst<br>Dato=17 Mar<br>Smittede/tusen innb=%{x}<br>Fylke=%{y}<br>txt=%{text}",
           "ids": [
            "Vestfold og Telemark",
            "Innlandet",
            "Agder",
            "Viken",
            "Oslo"
           ],
           "legendgroup": "Helse Sør-Øst",
           "marker": {
            "color": "#00cc96"
           },
           "name": "Helse Sør-Øst",
           "offsetgroup": "Helse Sør-Øst",
           "orientation": "h",
           "showlegend": true,
           "text": [
            "0.14",
            "0.24",
            "0.22",
            "0.29",
            "0.47"
           ],
           "textposition": "auto",
           "type": "bar",
           "x": [
            0.14067849955650508,
            0.2369508730831886,
            0.21807695187009124,
            0.2884386846229148,
            0.47440929553824546
           ],
           "xaxis": "x",
           "y": [
            "Vestfold og Telemark",
            "Innlandet",
            "Agder",
            "Viken",
            "Oslo"
           ],
           "yaxis": "y"
          },
          {
           "alignmentgroup": "True",
           "hoverlabel": {
            "namelength": 0
           },
           "hovertemplate": "RHF=Helse Vest<br>Dato=17 Mar<br>Smittede/tusen innb=%{x}<br>Fylke=%{y}<br>txt=%{text}",
           "ids": [
            "Vestland",
            "Rogaland"
           ],
           "legendgroup": "Helse Vest",
           "marker": {
            "color": "#ab63fa"
           },
           "name": "Helse Vest",
           "offsetgroup": "Helse Vest",
           "orientation": "h",
           "showlegend": true,
           "text": [
            "0.22",
            "0.31"
           ],
           "textposition": "auto",
           "type": "bar",
           "x": [
            0.2215131706075588,
            0.3125703283238729
           ],
           "xaxis": "x",
           "y": [
            "Vestland",
            "Rogaland"
           ],
           "yaxis": "y"
          }
         ],
         "name": "17 Mar"
        },
        {
         "data": [
          {
           "alignmentgroup": "True",
           "hoverlabel": {
            "namelength": 0
           },
           "hovertemplate": "RHF=Helse Midt-Norge<br>Dato=18 Mar<br>Smittede/tusen innb=%{x}<br>Fylke=%{y}<br>txt=%{text}",
           "ids": [
            "Trøndelag",
            "Møre og Romsdal"
           ],
           "legendgroup": "Helse Midt-Norge",
           "marker": {
            "color": "#636efa"
           },
           "name": "Helse Midt-Norge",
           "offsetgroup": "Helse Midt-Norge",
           "orientation": "h",
           "showlegend": true,
           "text": [
            "0.15",
            "0.08"
           ],
           "textposition": "auto",
           "type": "bar",
           "x": [
            0.14934862663270052,
            0.07540397680573674
           ],
           "xaxis": "x",
           "y": [
            "Trøndelag",
            "Møre og Romsdal"
           ],
           "yaxis": "y"
          },
          {
           "alignmentgroup": "True",
           "hoverlabel": {
            "namelength": 0
           },
           "hovertemplate": "RHF=Helse Nord<br>Dato=18 Mar<br>Smittede/tusen innb=%{x}<br>Fylke=%{y}<br>txt=%{text}",
           "ids": [
            "Nordland",
            "Troms og Finnmark"
           ],
           "legendgroup": "Helse Nord",
           "marker": {
            "color": "#EF553B"
           },
           "name": "Helse Nord",
           "offsetgroup": "Helse Nord",
           "orientation": "h",
           "showlegend": true,
           "text": [
            "0.05",
            "0.12"
           ],
           "textposition": "auto",
           "type": "bar",
           "x": [
            0.04974402553526644,
            0.11507905520095679
           ],
           "xaxis": "x",
           "y": [
            "Nordland",
            "Troms og Finnmark"
           ],
           "yaxis": "y"
          },
          {
           "alignmentgroup": "True",
           "hoverlabel": {
            "namelength": 0
           },
           "hovertemplate": "RHF=Helse Sør-Øst<br>Dato=18 Mar<br>Smittede/tusen innb=%{x}<br>Fylke=%{y}<br>txt=%{text}",
           "ids": [
            "Innlandet",
            "Oslo",
            "Vestfold og Telemark",
            "Agder",
            "Viken"
           ],
           "legendgroup": "Helse Sør-Øst",
           "marker": {
            "color": "#00cc96"
           },
           "name": "Helse Sør-Øst",
           "offsetgroup": "Helse Sør-Øst",
           "orientation": "h",
           "showlegend": true,
           "text": [
            "0.26",
            "0.5",
            "0.15",
            "0.22",
            "0.33"
           ],
           "textposition": "auto",
           "type": "bar",
           "x": [
            0.2611844851030602,
            0.5018067928489648,
            0.15021602495016642,
            0.21807695187009124,
            0.33033480641171803
           ],
           "xaxis": "x",
           "y": [
            "Innlandet",
            "Oslo",
            "Vestfold og Telemark",
            "Agder",
            "Viken"
           ],
           "yaxis": "y"
          },
          {
           "alignmentgroup": "True",
           "hoverlabel": {
            "namelength": 0
           },
           "hovertemplate": "RHF=Helse Vest<br>Dato=18 Mar<br>Smittede/tusen innb=%{x}<br>Fylke=%{y}<br>txt=%{text}",
           "ids": [
            "Vestland",
            "Rogaland"
           ],
           "legendgroup": "Helse Vest",
           "marker": {
            "color": "#ab63fa"
           },
           "name": "Helse Vest",
           "offsetgroup": "Helse Vest",
           "orientation": "h",
           "showlegend": true,
           "text": [
            "0.23",
            "0.34"
           ],
           "textposition": "auto",
           "type": "bar",
           "x": [
            0.2309392629738379,
            0.33549215240095687
           ],
           "xaxis": "x",
           "y": [
            "Vestland",
            "Rogaland"
           ],
           "yaxis": "y"
          }
         ],
         "name": "18 Mar"
        },
        {
         "data": [
          {
           "alignmentgroup": "True",
           "hoverlabel": {
            "namelength": 0
           },
           "hovertemplate": "RHF=Helse Midt-Norge<br>Dato=19 Mar<br>Smittede/tusen innb=%{x}<br>Fylke=%{y}<br>txt=%{text}",
           "ids": [
            "Møre og Romsdal",
            "Trøndelag"
           ],
           "legendgroup": "Helse Midt-Norge",
           "marker": {
            "color": "#636efa"
           },
           "name": "Helse Midt-Norge",
           "offsetgroup": "Helse Midt-Norge",
           "orientation": "h",
           "showlegend": true,
           "text": [
            "0.09",
            "0.16"
           ],
           "textposition": "auto",
           "type": "bar",
           "x": [
            0.09425497100717092,
            0.16001638567789342
           ],
           "xaxis": "x",
           "y": [
            "Møre og Romsdal",
            "Trøndelag"
           ],
           "yaxis": "y"
          },
          {
           "alignmentgroup": "True",
           "hoverlabel": {
            "namelength": 0
           },
           "hovertemplate": "RHF=Helse Nord<br>Dato=19 Mar<br>Smittede/tusen innb=%{x}<br>Fylke=%{y}<br>txt=%{text}",
           "ids": [
            "Troms og Finnmark",
            "Nordland"
           ],
           "legendgroup": "Helse Nord",
           "marker": {
            "color": "#EF553B"
           },
           "name": "Helse Nord",
           "offsetgroup": "Helse Nord",
           "orientation": "h",
           "showlegend": true,
           "text": [
            "0.12",
            "0.05"
           ],
           "textposition": "auto",
           "type": "bar",
           "x": [
            0.11507905520095679,
            0.05388936099653864
           ],
           "xaxis": "x",
           "y": [
            "Troms og Finnmark",
            "Nordland"
           ],
           "yaxis": "y"
          },
          {
           "alignmentgroup": "True",
           "hoverlabel": {
            "namelength": 0
           },
           "hovertemplate": "RHF=Helse Sør-Øst<br>Dato=19 Mar<br>Smittede/tusen innb=%{x}<br>Fylke=%{y}<br>txt=%{text}",
           "ids": [
            "Agder",
            "Viken",
            "Oslo",
            "Innlandet",
            "Vestfold og Telemark"
           ],
           "legendgroup": "Helse Sør-Øst",
           "marker": {
            "color": "#00cc96"
           },
           "name": "Helse Sør-Øst",
           "offsetgroup": "Helse Sør-Øst",
           "orientation": "h",
           "showlegend": true,
           "text": [
            "0.24",
            "0.36",
            "0.57",
            "0.28",
            "0.15"
           ],
           "textposition": "auto",
           "type": "bar",
           "x": [
            0.24411599089935587,
            0.35853411915418176,
            0.5652536287264202,
            0.28272547356516825,
            0.1549847876469971
           ],
           "xaxis": "x",
           "y": [
            "Agder",
            "Viken",
            "Oslo",
            "Innlandet",
            "Vestfold og Telemark"
           ],
           "yaxis": "y"
          },
          {
           "alignmentgroup": "True",
           "hoverlabel": {
            "namelength": 0
           },
           "hovertemplate": "RHF=Helse Vest<br>Dato=19 Mar<br>Smittede/tusen innb=%{x}<br>Fylke=%{y}<br>txt=%{text}",
           "ids": [
            "Vestland",
            "Rogaland"
           ],
           "legendgroup": "Helse Vest",
           "marker": {
            "color": "#ab63fa"
           },
           "name": "Helse Vest",
           "offsetgroup": "Helse Vest",
           "orientation": "h",
           "showlegend": true,
           "text": [
            "0.24",
            "0.37"
           ],
           "textposition": "auto",
           "type": "bar",
           "x": [
            0.240365355340117,
            0.36674918523334415
           ],
           "xaxis": "x",
           "y": [
            "Vestland",
            "Rogaland"
           ],
           "yaxis": "y"
          }
         ],
         "name": "19 Mar"
        },
        {
         "data": [
          {
           "alignmentgroup": "True",
           "hoverlabel": {
            "namelength": 0
           },
           "hovertemplate": "RHF=Helse Midt-Norge<br>Dato=20 Mar<br>Smittede/tusen innb=%{x}<br>Fylke=%{y}<br>txt=%{text}",
           "ids": [
            "Trøndelag",
            "Møre og Romsdal"
           ],
           "legendgroup": "Helse Midt-Norge",
           "marker": {
            "color": "#636efa"
           },
           "name": "Helse Midt-Norge",
           "offsetgroup": "Helse Midt-Norge",
           "orientation": "h",
           "showlegend": true,
           "text": [
            "0.21",
            "0.11"
           ],
           "textposition": "auto",
           "type": "bar",
           "x": [
            0.20695452547674215,
            0.10933576636831827
           ],
           "xaxis": "x",
           "y": [
            "Trøndelag",
            "Møre og Romsdal"
           ],
           "yaxis": "y"
          },
          {
           "alignmentgroup": "True",
           "hoverlabel": {
            "namelength": 0
           },
           "hovertemplate": "RHF=Helse Nord<br>Dato=20 Mar<br>Smittede/tusen innb=%{x}<br>Fylke=%{y}<br>txt=%{text}",
           "ids": [
            "Troms og Finnmark",
            "Nordland"
           ],
           "legendgroup": "Helse Nord",
           "marker": {
            "color": "#EF553B"
           },
           "name": "Helse Nord",
           "offsetgroup": "Helse Nord",
           "orientation": "h",
           "showlegend": true,
           "text": [
            "0.13",
            "0.07"
           ],
           "textposition": "auto",
           "type": "bar",
           "x": [
            0.1315189202296649,
            0.07047070284162746
           ],
           "xaxis": "x",
           "y": [
            "Troms og Finnmark",
            "Nordland"
           ],
           "yaxis": "y"
          },
          {
           "alignmentgroup": "True",
           "hoverlabel": {
            "namelength": 0
           },
           "hovertemplate": "RHF=Helse Sør-Øst<br>Dato=20 Mar<br>Smittede/tusen innb=%{x}<br>Fylke=%{y}<br>txt=%{text}",
           "ids": [
            "Innlandet",
            "Oslo",
            "Viken",
            "Agder",
            "Vestfold og Telemark"
           ],
           "legendgroup": "Helse Sør-Øst",
           "marker": {
            "color": "#00cc96"
           },
           "name": "Helse Sør-Øst",
           "offsetgroup": "Helse Sør-Øst",
           "orientation": "h",
           "showlegend": true,
           "text": [
            "0.31",
            "0.6",
            "0.43",
            "0.26",
            "0.17"
           ],
           "textposition": "auto",
           "type": "bar",
           "x": [
            0.3096517091428033,
            0.6041869143784949,
            0.4262124697360947,
            0.2571355104139882,
            0.17167545708590448
           ],
           "xaxis": "x",
           "y": [
            "Innlandet",
            "Oslo",
            "Viken",
            "Agder",
            "Vestfold og Telemark"
           ],
           "yaxis": "y"
          },
          {
           "alignmentgroup": "True",
           "hoverlabel": {
            "namelength": 0
           },
           "hovertemplate": "RHF=Helse Vest<br>Dato=20 Mar<br>Smittede/tusen innb=%{x}<br>Fylke=%{y}<br>txt=%{text}",
           "ids": [
            "Vestland",
            "Rogaland"
           ],
           "legendgroup": "Helse Vest",
           "marker": {
            "color": "#ab63fa"
           },
           "name": "Helse Vest",
           "offsetgroup": "Helse Vest",
           "orientation": "h",
           "showlegend": true,
           "text": [
            "0.27",
            "0.38"
           ],
           "textposition": "auto",
           "type": "bar",
           "x": [
            0.27178566322771397,
            0.37508439398864746
           ],
           "xaxis": "x",
           "y": [
            "Vestland",
            "Rogaland"
           ],
           "yaxis": "y"
          }
         ],
         "name": "20 Mar"
        },
        {
         "data": [
          {
           "alignmentgroup": "True",
           "hoverlabel": {
            "namelength": 0
           },
           "hovertemplate": "RHF=Helse Midt-Norge<br>Dato=21 Mar<br>Smittede/tusen innb=%{x}<br>Fylke=%{y}<br>txt=%{text}",
           "ids": [
            "Trøndelag",
            "Møre og Romsdal"
           ],
           "legendgroup": "Helse Midt-Norge",
           "marker": {
            "color": "#636efa"
           },
           "name": "Helse Midt-Norge",
           "offsetgroup": "Helse Midt-Norge",
           "orientation": "h",
           "showlegend": true,
           "text": [
            "0.26",
            "0.12"
           ],
           "textposition": "auto",
           "type": "bar",
           "x": [
            0.2602933207027066,
            0.12064636288917878
           ],
           "xaxis": "x",
           "y": [
            "Trøndelag",
            "Møre og Romsdal"
           ],
           "yaxis": "y"
          },
          {
           "alignmentgroup": "True",
           "hoverlabel": {
            "namelength": 0
           },
           "hovertemplate": "RHF=Helse Nord<br>Dato=21 Mar<br>Smittede/tusen innb=%{x}<br>Fylke=%{y}<br>txt=%{text}",
           "ids": [
            "Nordland",
            "Troms og Finnmark"
           ],
           "legendgroup": "Helse Nord",
           "marker": {
            "color": "#EF553B"
           },
           "name": "Helse Nord",
           "offsetgroup": "Helse Nord",
           "orientation": "h",
           "showlegend": true,
           "text": [
            "0.07",
            "0.15"
           ],
           "textposition": "auto",
           "type": "bar",
           "x": [
            0.07047070284162746,
            0.15206875151555005
           ],
           "xaxis": "x",
           "y": [
            "Nordland",
            "Troms og Finnmark"
           ],
           "yaxis": "y"
          },
          {
           "alignmentgroup": "True",
           "hoverlabel": {
            "namelength": 0
           },
           "hovertemplate": "RHF=Helse Sør-Øst<br>Dato=21 Mar<br>Smittede/tusen innb=%{x}<br>Fylke=%{y}<br>txt=%{text}",
           "ids": [
            "Agder",
            "Oslo",
            "Vestfold og Telemark",
            "Innlandet",
            "Viken"
           ],
           "legendgroup": "Helse Sør-Øst",
           "marker": {
            "color": "#00cc96"
           },
           "name": "Helse Sør-Øst",
           "offsetgroup": "Helse Sør-Øst",
           "orientation": "h",
           "showlegend": true,
           "text": [
            "0.27",
            "0.65",
            "0.19",
            "0.34",
            "0.47"
           ],
           "textposition": "auto",
           "type": "bar",
           "x": [
            0.2669001500499624,
            0.6460041471159087,
            0.19313488922164254,
            0.3365779447204384,
            0.46971998082446736
           ],
           "xaxis": "x",
           "y": [
            "Agder",
            "Oslo",
            "Vestfold og Telemark",
            "Innlandet",
            "Viken"
           ],
           "yaxis": "y"
          },
          {
           "alignmentgroup": "True",
           "hoverlabel": {
            "namelength": 0
           },
           "hovertemplate": "RHF=Helse Vest<br>Dato=21 Mar<br>Smittede/tusen innb=%{x}<br>Fylke=%{y}<br>txt=%{text}",
           "ids": [
            "Vestland",
            "Rogaland"
           ],
           "legendgroup": "Helse Vest",
           "marker": {
            "color": "#ab63fa"
           },
           "name": "Helse Vest",
           "offsetgroup": "Helse Vest",
           "orientation": "h",
           "showlegend": true,
           "text": [
            "0.31",
            "0.41"
           ],
           "textposition": "auto",
           "type": "bar",
           "x": [
            0.31420307887596993,
            0.414676635576338
           ],
           "xaxis": "x",
           "y": [
            "Vestland",
            "Rogaland"
           ],
           "yaxis": "y"
          }
         ],
         "name": "21 Mar"
        },
        {
         "data": [
          {
           "alignmentgroup": "True",
           "hoverlabel": {
            "namelength": 0
           },
           "hovertemplate": "RHF=Helse Midt-Norge<br>Dato=22 Mar<br>Smittede/tusen innb=%{x}<br>Fylke=%{y}<br>txt=%{text}",
           "ids": [
            "Møre og Romsdal",
            "Trøndelag"
           ],
           "legendgroup": "Helse Midt-Norge",
           "marker": {
            "color": "#636efa"
           },
           "name": "Helse Midt-Norge",
           "offsetgroup": "Helse Midt-Norge",
           "orientation": "h",
           "showlegend": true,
           "text": [
            "0.14",
            "0.28"
           ],
           "textposition": "auto",
           "type": "bar",
           "x": [
            0.1432675559308998,
            0.27949528698405385
           ],
           "xaxis": "x",
           "y": [
            "Møre og Romsdal",
            "Trøndelag"
           ],
           "yaxis": "y"
          },
          {
           "alignmentgroup": "True",
           "hoverlabel": {
            "namelength": 0
           },
           "hovertemplate": "RHF=Helse Nord<br>Dato=22 Mar<br>Smittede/tusen innb=%{x}<br>Fylke=%{y}<br>txt=%{text}",
           "ids": [
            "Nordland",
            "Troms og Finnmark"
           ],
           "legendgroup": "Helse Nord",
           "marker": {
            "color": "#EF553B"
           },
           "name": "Helse Nord",
           "offsetgroup": "Helse Nord",
           "orientation": "h",
           "showlegend": true,
           "text": [
            "0.08",
            "0.2"
           ],
           "textposition": "auto",
           "type": "bar",
           "x": [
            0.07876137376417186,
            0.2013883466016744
           ],
           "xaxis": "x",
           "y": [
            "Nordland",
            "Troms og Finnmark"
           ],
           "yaxis": "y"
          },
          {
           "alignmentgroup": "True",
           "hoverlabel": {
            "namelength": 0
           },
           "hovertemplate": "RHF=Helse Sør-Øst<br>Dato=22 Mar<br>Smittede/tusen innb=%{x}<br>Fylke=%{y}<br>txt=%{text}",
           "ids": [
            "Vestfold og Telemark",
            "Agder",
            "Oslo",
            "Innlandet",
            "Viken"
           ],
           "legendgroup": "Helse Sør-Øst",
           "marker": {
            "color": "#00cc96"
           },
           "name": "Helse Sør-Øst",
           "offsetgroup": "Helse Sør-Øst",
           "orientation": "h",
           "showlegend": true,
           "text": [
            "0.2",
            "0.3",
            "0.75",
            "0.4",
            "0.5"
           ],
           "textposition": "auto",
           "type": "bar",
           "x": [
            0.20267241461530391,
            0.29619406895788514,
            0.7541521628161166,
            0.398508286548999,
            0.49550220961757707
           ],
           "xaxis": "x",
           "y": [
            "Vestfold og Telemark",
            "Agder",
            "Oslo",
            "Innlandet",
            "Viken"
           ],
           "yaxis": "y"
          },
          {
           "alignmentgroup": "True",
           "hoverlabel": {
            "namelength": 0
           },
           "hovertemplate": "RHF=Helse Vest<br>Dato=22 Mar<br>Smittede/tusen innb=%{x}<br>Fylke=%{y}<br>txt=%{text}",
           "ids": [
            "Rogaland",
            "Vestland"
           ],
           "legendgroup": "Helse Vest",
           "marker": {
            "color": "#ab63fa"
           },
           "name": "Helse Vest",
           "offsetgroup": "Helse Vest",
           "orientation": "h",
           "showlegend": true,
           "text": [
            "0.46",
            "0.34"
           ],
           "textposition": "auto",
           "type": "bar",
           "x": [
            0.4563526793528544,
            0.33619729439728785
           ],
           "xaxis": "x",
           "y": [
            "Rogaland",
            "Vestland"
           ],
           "yaxis": "y"
          }
         ],
         "name": "22 Mar"
        }
       ],
       "layout": {
        "autosize": true,
        "barmode": "relative",
        "coloraxis": {
         "showscale": false
        },
        "height": 600,
        "legend": {
         "title": {
          "text": "RHF"
         },
         "tracegroupgap": 0
        },
        "margin": {
         "b": 0,
         "l": 100,
         "r": 100,
         "t": 150
        },
        "paper_bgcolor": "rgba(0, 0, 0, 0)",
        "sliders": [
         {
          "active": 0,
          "currentvalue": {
           "prefix": "Dato="
          },
          "len": 0.9,
          "pad": {
           "b": 10,
           "t": 60
          },
          "steps": [
           {
            "args": [
             [
              "09 Mar"
             ],
             {
              "frame": {
               "duration": 0,
               "redraw": true
              },
              "fromcurrent": true,
              "mode": "immediate",
              "transition": {
               "duration": 0,
               "easing": "linear"
              }
             }
            ],
            "label": "09 Mar",
            "method": "animate"
           },
           {
            "args": [
             [
              "10 Mar"
             ],
             {
              "frame": {
               "duration": 0,
               "redraw": true
              },
              "fromcurrent": true,
              "mode": "immediate",
              "transition": {
               "duration": 0,
               "easing": "linear"
              }
             }
            ],
            "label": "10 Mar",
            "method": "animate"
           },
           {
            "args": [
             [
              "11 Mar"
             ],
             {
              "frame": {
               "duration": 0,
               "redraw": true
              },
              "fromcurrent": true,
              "mode": "immediate",
              "transition": {
               "duration": 0,
               "easing": "linear"
              }
             }
            ],
            "label": "11 Mar",
            "method": "animate"
           },
           {
            "args": [
             [
              "12 Mar"
             ],
             {
              "frame": {
               "duration": 0,
               "redraw": true
              },
              "fromcurrent": true,
              "mode": "immediate",
              "transition": {
               "duration": 0,
               "easing": "linear"
              }
             }
            ],
            "label": "12 Mar",
            "method": "animate"
           },
           {
            "args": [
             [
              "13 Mar"
             ],
             {
              "frame": {
               "duration": 0,
               "redraw": true
              },
              "fromcurrent": true,
              "mode": "immediate",
              "transition": {
               "duration": 0,
               "easing": "linear"
              }
             }
            ],
            "label": "13 Mar",
            "method": "animate"
           },
           {
            "args": [
             [
              "14 Mar"
             ],
             {
              "frame": {
               "duration": 0,
               "redraw": true
              },
              "fromcurrent": true,
              "mode": "immediate",
              "transition": {
               "duration": 0,
               "easing": "linear"
              }
             }
            ],
            "label": "14 Mar",
            "method": "animate"
           },
           {
            "args": [
             [
              "15 Mar"
             ],
             {
              "frame": {
               "duration": 0,
               "redraw": true
              },
              "fromcurrent": true,
              "mode": "immediate",
              "transition": {
               "duration": 0,
               "easing": "linear"
              }
             }
            ],
            "label": "15 Mar",
            "method": "animate"
           },
           {
            "args": [
             [
              "16 Mar"
             ],
             {
              "frame": {
               "duration": 0,
               "redraw": true
              },
              "fromcurrent": true,
              "mode": "immediate",
              "transition": {
               "duration": 0,
               "easing": "linear"
              }
             }
            ],
            "label": "16 Mar",
            "method": "animate"
           },
           {
            "args": [
             [
              "17 Mar"
             ],
             {
              "frame": {
               "duration": 0,
               "redraw": true
              },
              "fromcurrent": true,
              "mode": "immediate",
              "transition": {
               "duration": 0,
               "easing": "linear"
              }
             }
            ],
            "label": "17 Mar",
            "method": "animate"
           },
           {
            "args": [
             [
              "18 Mar"
             ],
             {
              "frame": {
               "duration": 0,
               "redraw": true
              },
              "fromcurrent": true,
              "mode": "immediate",
              "transition": {
               "duration": 0,
               "easing": "linear"
              }
             }
            ],
            "label": "18 Mar",
            "method": "animate"
           },
           {
            "args": [
             [
              "19 Mar"
             ],
             {
              "frame": {
               "duration": 0,
               "redraw": true
              },
              "fromcurrent": true,
              "mode": "immediate",
              "transition": {
               "duration": 0,
               "easing": "linear"
              }
             }
            ],
            "label": "19 Mar",
            "method": "animate"
           },
           {
            "args": [
             [
              "20 Mar"
             ],
             {
              "frame": {
               "duration": 0,
               "redraw": true
              },
              "fromcurrent": true,
              "mode": "immediate",
              "transition": {
               "duration": 0,
               "easing": "linear"
              }
             }
            ],
            "label": "20 Mar",
            "method": "animate"
           },
           {
            "args": [
             [
              "21 Mar"
             ],
             {
              "frame": {
               "duration": 0,
               "redraw": true
              },
              "fromcurrent": true,
              "mode": "immediate",
              "transition": {
               "duration": 0,
               "easing": "linear"
              }
             }
            ],
            "label": "21 Mar",
            "method": "animate"
           },
           {
            "args": [
             [
              "22 Mar"
             ],
             {
              "frame": {
               "duration": 0,
               "redraw": true
              },
              "fromcurrent": true,
              "mode": "immediate",
              "transition": {
               "duration": 0,
               "easing": "linear"
              }
             }
            ],
            "label": "22 Mar",
            "method": "animate"
           }
          ],
          "x": 0.1,
          "xanchor": "left",
          "y": 0,
          "yanchor": "top"
         }
        ],
        "template": {
         "data": {
          "bar": [
           {
            "error_x": {
             "color": "#2a3f5f"
            },
            "error_y": {
             "color": "#2a3f5f"
            },
            "marker": {
             "line": {
              "color": "white",
              "width": 0.5
             }
            },
            "type": "bar"
           }
          ],
          "barpolar": [
           {
            "marker": {
             "line": {
              "color": "white",
              "width": 0.5
             }
            },
            "type": "barpolar"
           }
          ],
          "carpet": [
           {
            "aaxis": {
             "endlinecolor": "#2a3f5f",
             "gridcolor": "#C8D4E3",
             "linecolor": "#C8D4E3",
             "minorgridcolor": "#C8D4E3",
             "startlinecolor": "#2a3f5f"
            },
            "baxis": {
             "endlinecolor": "#2a3f5f",
             "gridcolor": "#C8D4E3",
             "linecolor": "#C8D4E3",
             "minorgridcolor": "#C8D4E3",
             "startlinecolor": "#2a3f5f"
            },
            "type": "carpet"
           }
          ],
          "choropleth": [
           {
            "colorbar": {
             "outlinewidth": 0,
             "ticks": ""
            },
            "type": "choropleth"
           }
          ],
          "contour": [
           {
            "colorbar": {
             "outlinewidth": 0,
             "ticks": ""
            },
            "colorscale": [
             [
              0,
              "#0d0887"
             ],
             [
              0.1111111111111111,
              "#46039f"
             ],
             [
              0.2222222222222222,
              "#7201a8"
             ],
             [
              0.3333333333333333,
              "#9c179e"
             ],
             [
              0.4444444444444444,
              "#bd3786"
             ],
             [
              0.5555555555555556,
              "#d8576b"
             ],
             [
              0.6666666666666666,
              "#ed7953"
             ],
             [
              0.7777777777777778,
              "#fb9f3a"
             ],
             [
              0.8888888888888888,
              "#fdca26"
             ],
             [
              1,
              "#f0f921"
             ]
            ],
            "type": "contour"
           }
          ],
          "contourcarpet": [
           {
            "colorbar": {
             "outlinewidth": 0,
             "ticks": ""
            },
            "type": "contourcarpet"
           }
          ],
          "heatmap": [
           {
            "colorbar": {
             "outlinewidth": 0,
             "ticks": ""
            },
            "colorscale": [
             [
              0,
              "#0d0887"
             ],
             [
              0.1111111111111111,
              "#46039f"
             ],
             [
              0.2222222222222222,
              "#7201a8"
             ],
             [
              0.3333333333333333,
              "#9c179e"
             ],
             [
              0.4444444444444444,
              "#bd3786"
             ],
             [
              0.5555555555555556,
              "#d8576b"
             ],
             [
              0.6666666666666666,
              "#ed7953"
             ],
             [
              0.7777777777777778,
              "#fb9f3a"
             ],
             [
              0.8888888888888888,
              "#fdca26"
             ],
             [
              1,
              "#f0f921"
             ]
            ],
            "type": "heatmap"
           }
          ],
          "heatmapgl": [
           {
            "colorbar": {
             "outlinewidth": 0,
             "ticks": ""
            },
            "colorscale": [
             [
              0,
              "#0d0887"
             ],
             [
              0.1111111111111111,
              "#46039f"
             ],
             [
              0.2222222222222222,
              "#7201a8"
             ],
             [
              0.3333333333333333,
              "#9c179e"
             ],
             [
              0.4444444444444444,
              "#bd3786"
             ],
             [
              0.5555555555555556,
              "#d8576b"
             ],
             [
              0.6666666666666666,
              "#ed7953"
             ],
             [
              0.7777777777777778,
              "#fb9f3a"
             ],
             [
              0.8888888888888888,
              "#fdca26"
             ],
             [
              1,
              "#f0f921"
             ]
            ],
            "type": "heatmapgl"
           }
          ],
          "histogram": [
           {
            "marker": {
             "colorbar": {
              "outlinewidth": 0,
              "ticks": ""
             }
            },
            "type": "histogram"
           }
          ],
          "histogram2d": [
           {
            "colorbar": {
             "outlinewidth": 0,
             "ticks": ""
            },
            "colorscale": [
             [
              0,
              "#0d0887"
             ],
             [
              0.1111111111111111,
              "#46039f"
             ],
             [
              0.2222222222222222,
              "#7201a8"
             ],
             [
              0.3333333333333333,
              "#9c179e"
             ],
             [
              0.4444444444444444,
              "#bd3786"
             ],
             [
              0.5555555555555556,
              "#d8576b"
             ],
             [
              0.6666666666666666,
              "#ed7953"
             ],
             [
              0.7777777777777778,
              "#fb9f3a"
             ],
             [
              0.8888888888888888,
              "#fdca26"
             ],
             [
              1,
              "#f0f921"
             ]
            ],
            "type": "histogram2d"
           }
          ],
          "histogram2dcontour": [
           {
            "colorbar": {
             "outlinewidth": 0,
             "ticks": ""
            },
            "colorscale": [
             [
              0,
              "#0d0887"
             ],
             [
              0.1111111111111111,
              "#46039f"
             ],
             [
              0.2222222222222222,
              "#7201a8"
             ],
             [
              0.3333333333333333,
              "#9c179e"
             ],
             [
              0.4444444444444444,
              "#bd3786"
             ],
             [
              0.5555555555555556,
              "#d8576b"
             ],
             [
              0.6666666666666666,
              "#ed7953"
             ],
             [
              0.7777777777777778,
              "#fb9f3a"
             ],
             [
              0.8888888888888888,
              "#fdca26"
             ],
             [
              1,
              "#f0f921"
             ]
            ],
            "type": "histogram2dcontour"
           }
          ],
          "mesh3d": [
           {
            "colorbar": {
             "outlinewidth": 0,
             "ticks": ""
            },
            "type": "mesh3d"
           }
          ],
          "parcoords": [
           {
            "line": {
             "colorbar": {
              "outlinewidth": 0,
              "ticks": ""
             }
            },
            "type": "parcoords"
           }
          ],
          "pie": [
           {
            "automargin": true,
            "type": "pie"
           }
          ],
          "scatter": [
           {
            "marker": {
             "colorbar": {
              "outlinewidth": 0,
              "ticks": ""
             }
            },
            "type": "scatter"
           }
          ],
          "scatter3d": [
           {
            "line": {
             "colorbar": {
              "outlinewidth": 0,
              "ticks": ""
             }
            },
            "marker": {
             "colorbar": {
              "outlinewidth": 0,
              "ticks": ""
             }
            },
            "type": "scatter3d"
           }
          ],
          "scattercarpet": [
           {
            "marker": {
             "colorbar": {
              "outlinewidth": 0,
              "ticks": ""
             }
            },
            "type": "scattercarpet"
           }
          ],
          "scattergeo": [
           {
            "marker": {
             "colorbar": {
              "outlinewidth": 0,
              "ticks": ""
             }
            },
            "type": "scattergeo"
           }
          ],
          "scattergl": [
           {
            "marker": {
             "colorbar": {
              "outlinewidth": 0,
              "ticks": ""
             }
            },
            "type": "scattergl"
           }
          ],
          "scattermapbox": [
           {
            "marker": {
             "colorbar": {
              "outlinewidth": 0,
              "ticks": ""
             }
            },
            "type": "scattermapbox"
           }
          ],
          "scatterpolar": [
           {
            "marker": {
             "colorbar": {
              "outlinewidth": 0,
              "ticks": ""
             }
            },
            "type": "scatterpolar"
           }
          ],
          "scatterpolargl": [
           {
            "marker": {
             "colorbar": {
              "outlinewidth": 0,
              "ticks": ""
             }
            },
            "type": "scatterpolargl"
           }
          ],
          "scatterternary": [
           {
            "marker": {
             "colorbar": {
              "outlinewidth": 0,
              "ticks": ""
             }
            },
            "type": "scatterternary"
           }
          ],
          "surface": [
           {
            "colorbar": {
             "outlinewidth": 0,
             "ticks": ""
            },
            "colorscale": [
             [
              0,
              "#0d0887"
             ],
             [
              0.1111111111111111,
              "#46039f"
             ],
             [
              0.2222222222222222,
              "#7201a8"
             ],
             [
              0.3333333333333333,
              "#9c179e"
             ],
             [
              0.4444444444444444,
              "#bd3786"
             ],
             [
              0.5555555555555556,
              "#d8576b"
             ],
             [
              0.6666666666666666,
              "#ed7953"
             ],
             [
              0.7777777777777778,
              "#fb9f3a"
             ],
             [
              0.8888888888888888,
              "#fdca26"
             ],
             [
              1,
              "#f0f921"
             ]
            ],
            "type": "surface"
           }
          ],
          "table": [
           {
            "cells": {
             "fill": {
              "color": "#EBF0F8"
             },
             "line": {
              "color": "white"
             }
            },
            "header": {
             "fill": {
              "color": "#C8D4E3"
             },
             "line": {
              "color": "white"
             }
            },
            "type": "table"
           }
          ]
         },
         "layout": {
          "annotationdefaults": {
           "arrowcolor": "#2a3f5f",
           "arrowhead": 0,
           "arrowwidth": 1
          },
          "coloraxis": {
           "colorbar": {
            "outlinewidth": 0,
            "ticks": ""
           }
          },
          "colorscale": {
           "diverging": [
            [
             0,
             "#8e0152"
            ],
            [
             0.1,
             "#c51b7d"
            ],
            [
             0.2,
             "#de77ae"
            ],
            [
             0.3,
             "#f1b6da"
            ],
            [
             0.4,
             "#fde0ef"
            ],
            [
             0.5,
             "#f7f7f7"
            ],
            [
             0.6,
             "#e6f5d0"
            ],
            [
             0.7,
             "#b8e186"
            ],
            [
             0.8,
             "#7fbc41"
            ],
            [
             0.9,
             "#4d9221"
            ],
            [
             1,
             "#276419"
            ]
           ],
           "sequential": [
            [
             0,
             "#0d0887"
            ],
            [
             0.1111111111111111,
             "#46039f"
            ],
            [
             0.2222222222222222,
             "#7201a8"
            ],
            [
             0.3333333333333333,
             "#9c179e"
            ],
            [
             0.4444444444444444,
             "#bd3786"
            ],
            [
             0.5555555555555556,
             "#d8576b"
            ],
            [
             0.6666666666666666,
             "#ed7953"
            ],
            [
             0.7777777777777778,
             "#fb9f3a"
            ],
            [
             0.8888888888888888,
             "#fdca26"
            ],
            [
             1,
             "#f0f921"
            ]
           ],
           "sequentialminus": [
            [
             0,
             "#0d0887"
            ],
            [
             0.1111111111111111,
             "#46039f"
            ],
            [
             0.2222222222222222,
             "#7201a8"
            ],
            [
             0.3333333333333333,
             "#9c179e"
            ],
            [
             0.4444444444444444,
             "#bd3786"
            ],
            [
             0.5555555555555556,
             "#d8576b"
            ],
            [
             0.6666666666666666,
             "#ed7953"
            ],
            [
             0.7777777777777778,
             "#fb9f3a"
            ],
            [
             0.8888888888888888,
             "#fdca26"
            ],
            [
             1,
             "#f0f921"
            ]
           ]
          },
          "colorway": [
           "#636efa",
           "#EF553B",
           "#00cc96",
           "#ab63fa",
           "#FFA15A",
           "#19d3f3",
           "#FF6692",
           "#B6E880",
           "#FF97FF",
           "#FECB52"
          ],
          "font": {
           "color": "#2a3f5f"
          },
          "geo": {
           "bgcolor": "white",
           "lakecolor": "white",
           "landcolor": "white",
           "showlakes": true,
           "showland": true,
           "subunitcolor": "#C8D4E3"
          },
          "hoverlabel": {
           "align": "left"
          },
          "hovermode": "closest",
          "mapbox": {
           "style": "light"
          },
          "paper_bgcolor": "white",
          "plot_bgcolor": "white",
          "polar": {
           "angularaxis": {
            "gridcolor": "#EBF0F8",
            "linecolor": "#EBF0F8",
            "ticks": ""
           },
           "bgcolor": "white",
           "radialaxis": {
            "gridcolor": "#EBF0F8",
            "linecolor": "#EBF0F8",
            "ticks": ""
           }
          },
          "scene": {
           "xaxis": {
            "backgroundcolor": "white",
            "gridcolor": "#DFE8F3",
            "gridwidth": 2,
            "linecolor": "#EBF0F8",
            "showbackground": true,
            "ticks": "",
            "zerolinecolor": "#EBF0F8"
           },
           "yaxis": {
            "backgroundcolor": "white",
            "gridcolor": "#DFE8F3",
            "gridwidth": 2,
            "linecolor": "#EBF0F8",
            "showbackground": true,
            "ticks": "",
            "zerolinecolor": "#EBF0F8"
           },
           "zaxis": {
            "backgroundcolor": "white",
            "gridcolor": "#DFE8F3",
            "gridwidth": 2,
            "linecolor": "#EBF0F8",
            "showbackground": true,
            "ticks": "",
            "zerolinecolor": "#EBF0F8"
           }
          },
          "shapedefaults": {
           "line": {
            "color": "#2a3f5f"
           }
          },
          "ternary": {
           "aaxis": {
            "gridcolor": "#DFE8F3",
            "linecolor": "#A2B1C6",
            "ticks": ""
           },
           "baxis": {
            "gridcolor": "#DFE8F3",
            "linecolor": "#A2B1C6",
            "ticks": ""
           },
           "bgcolor": "white",
           "caxis": {
            "gridcolor": "#DFE8F3",
            "linecolor": "#A2B1C6",
            "ticks": ""
           }
          },
          "title": {
           "x": 0.05
          },
          "xaxis": {
           "automargin": true,
           "gridcolor": "#EBF0F8",
           "linecolor": "#EBF0F8",
           "ticks": "",
           "title": {
            "standoff": 15
           },
           "zerolinecolor": "#EBF0F8",
           "zerolinewidth": 2
          },
          "yaxis": {
           "automargin": true,
           "gridcolor": "#EBF0F8",
           "linecolor": "#EBF0F8",
           "ticks": "",
           "title": {
            "standoff": 15
           },
           "zerolinecolor": "#EBF0F8",
           "zerolinewidth": 2
          }
         }
        },
        "title": {
         "font": {
          "family": "Helvetica",
          "size": 18
         },
         "text": "<b>COVID19: Registrert smittet i Norge</b><br>Antall smittet per 1 000 innbyggere<br>Datakilde: FHI - folkehelseinstituttet. Oppdatert 23.03.2020"
        },
        "updatemenus": [
         {
          "buttons": [
           {
            "args": [
             null,
             {
              "frame": {
               "duration": 500,
               "redraw": true
              },
              "fromcurrent": true,
              "mode": "immediate",
              "transition": {
               "duration": 500,
               "easing": "linear"
              }
             }
            ],
            "label": "&#9654;",
            "method": "animate"
           },
           {
            "args": [
             [
              null
             ],
             {
              "frame": {
               "duration": 0,
               "redraw": true
              },
              "fromcurrent": true,
              "mode": "immediate",
              "transition": {
               "duration": 0,
               "easing": "linear"
              }
             }
            ],
            "label": "&#9724;",
            "method": "animate"
           }
          ],
          "direction": "left",
          "pad": {
           "r": 10,
           "t": 70
          },
          "showactive": false,
          "type": "buttons",
          "x": 0.1,
          "xanchor": "right",
          "y": 0,
          "yanchor": "top"
         }
        ],
        "xaxis": {
         "anchor": "y",
         "domain": [
          0,
          1
         ],
         "fixedrange": true,
         "range": [
          0,
          0.8
         ],
         "title": {
          "text": "per 1 000"
         }
        },
        "yaxis": {
         "anchor": "x",
         "categoryorder": "total ascending",
         "domain": [
          0,
          1
         ],
         "fixedrange": true,
         "separatethousands": true,
         "title": {
          "text": ""
         }
        }
       }
      },
      "text/html": [
       "<div>\n",
       "        \n",
       "        \n",
       "            <div id=\"26d967d3-1c8c-4246-b663-e2927a289c2b\" class=\"plotly-graph-div\" style=\"height:600px; width:100%;\"></div>\n",
       "            <script type=\"text/javascript\">\n",
       "                require([\"plotly\"], function(Plotly) {\n",
       "                    window.PLOTLYENV=window.PLOTLYENV || {};\n",
       "                    \n",
       "                if (document.getElementById(\"26d967d3-1c8c-4246-b663-e2927a289c2b\")) {\n",
       "                    Plotly.newPlot(\n",
       "                        '26d967d3-1c8c-4246-b663-e2927a289c2b',\n",
       "                        [{\"alignmentgroup\": \"True\", \"hoverlabel\": {\"namelength\": 0}, \"hovertemplate\": \"RHF=Helse Midt-Norge<br>Dato=09 Mar<br>Smittede/tusen innb=%{x}<br>Fylke=%{y}<br>txt=%{text}\", \"ids\": [\"Tr\\u00f8ndelag\", \"M\\u00f8re og Romsdal\"], \"legendgroup\": \"Helse Midt-Norge\", \"marker\": {\"color\": \"#636efa\"}, \"name\": \"Helse Midt-Norge\", \"offsetgroup\": \"Helse Midt-Norge\", \"orientation\": \"h\", \"showlegend\": true, \"text\": [\"0.05\", \"0.02\"], \"textposition\": \"auto\", \"type\": \"bar\", \"x\": [0.046938139798848734, 0.018850994201434185], \"xaxis\": \"x\", \"y\": [\"Tr\\u00f8ndelag\", \"M\\u00f8re og Romsdal\"], \"yaxis\": \"y\"}, {\"alignmentgroup\": \"True\", \"hoverlabel\": {\"namelength\": 0}, \"hovertemplate\": \"RHF=Helse Nord<br>Dato=09 Mar<br>Smittede/tusen innb=%{x}<br>Fylke=%{y}<br>txt=%{text}\", \"ids\": [\"Troms og Finnmark\", \"Nordland\"], \"legendgroup\": \"Helse Nord\", \"marker\": {\"color\": \"#EF553B\"}, \"name\": \"Helse Nord\", \"offsetgroup\": \"Helse Nord\", \"orientation\": \"h\", \"showlegend\": true, \"text\": [\"0.02\", \"0.01\"], \"textposition\": \"auto\", \"type\": \"bar\", \"x\": [0.024659797543062172, 0.01243600638381661], \"xaxis\": \"x\", \"y\": [\"Troms og Finnmark\", \"Nordland\"], \"yaxis\": \"y\"}, {\"alignmentgroup\": \"True\", \"hoverlabel\": {\"namelength\": 0}, \"hovertemplate\": \"RHF=Helse S\\u00f8r-\\u00d8st<br>Dato=09 Mar<br>Smittede/tusen innb=%{x}<br>Fylke=%{y}<br>txt=%{text}\", \"ids\": [\"Agder\", \"Oslo\", \"Vestfold og Telemark\", \"Innlandet\", \"Viken\"], \"legendgroup\": \"Helse S\\u00f8r-\\u00d8st\", \"marker\": {\"color\": \"#00cc96\"}, \"name\": \"Helse S\\u00f8r-\\u00d8st\", \"offsetgroup\": \"Helse S\\u00f8r-\\u00d8st\", \"orientation\": \"h\", \"showlegend\": true, \"text\": [\"0.06\", \"0.07\", \"0.01\", \"0.04\", \"0.07\"], \"textposition\": \"auto\", \"type\": \"bar\", \"x\": [0.06184271769450349, 0.07354065067614139, 0.0119219067420767, 0.043081976924216114, 0.06928973988148232], \"xaxis\": \"x\", \"y\": [\"Agder\", \"Oslo\", \"Vestfold og Telemark\", \"Innlandet\", \"Viken\"], \"yaxis\": \"y\"}, {\"alignmentgroup\": \"True\", \"hoverlabel\": {\"namelength\": 0}, \"hovertemplate\": \"RHF=Helse Vest<br>Dato=09 Mar<br>Smittede/tusen innb=%{x}<br>Fylke=%{y}<br>txt=%{text}\", \"ids\": [\"Vestland\", \"Rogaland\"], \"legendgroup\": \"Helse Vest\", \"marker\": {\"color\": \"#ab63fa\"}, \"name\": \"Helse Vest\", \"offsetgroup\": \"Helse Vest\", \"orientation\": \"h\", \"showlegend\": true, \"text\": [\"0.05\", \"0.07\"], \"textposition\": \"auto\", \"type\": \"bar\", \"x\": [0.048701477225775336, 0.06876547223125203], \"xaxis\": \"x\", \"y\": [\"Vestland\", \"Rogaland\"], \"yaxis\": \"y\"}],\n",
       "                        {\"autosize\": true, \"barmode\": \"relative\", \"coloraxis\": {\"showscale\": false}, \"height\": 600, \"legend\": {\"title\": {\"text\": \"RHF\"}, \"tracegroupgap\": 0}, \"margin\": {\"b\": 0, \"l\": 100, \"r\": 100, \"t\": 150}, \"paper_bgcolor\": \"rgba(0, 0, 0, 0)\", \"sliders\": [{\"active\": 0, \"currentvalue\": {\"prefix\": \"Dato=\"}, \"len\": 0.9, \"pad\": {\"b\": 10, \"t\": 60}, \"steps\": [{\"args\": [[\"09 Mar\"], {\"frame\": {\"duration\": 0, \"redraw\": true}, \"fromcurrent\": true, \"mode\": \"immediate\", \"transition\": {\"duration\": 0, \"easing\": \"linear\"}}], \"label\": \"09 Mar\", \"method\": \"animate\"}, {\"args\": [[\"10 Mar\"], {\"frame\": {\"duration\": 0, \"redraw\": true}, \"fromcurrent\": true, \"mode\": \"immediate\", \"transition\": {\"duration\": 0, \"easing\": \"linear\"}}], \"label\": \"10 Mar\", \"method\": \"animate\"}, {\"args\": [[\"11 Mar\"], {\"frame\": {\"duration\": 0, \"redraw\": true}, \"fromcurrent\": true, \"mode\": \"immediate\", \"transition\": {\"duration\": 0, \"easing\": \"linear\"}}], \"label\": \"11 Mar\", \"method\": \"animate\"}, {\"args\": [[\"12 Mar\"], {\"frame\": {\"duration\": 0, \"redraw\": true}, \"fromcurrent\": true, \"mode\": \"immediate\", \"transition\": {\"duration\": 0, \"easing\": \"linear\"}}], \"label\": \"12 Mar\", \"method\": \"animate\"}, {\"args\": [[\"13 Mar\"], {\"frame\": {\"duration\": 0, \"redraw\": true}, \"fromcurrent\": true, \"mode\": \"immediate\", \"transition\": {\"duration\": 0, \"easing\": \"linear\"}}], \"label\": \"13 Mar\", \"method\": \"animate\"}, {\"args\": [[\"14 Mar\"], {\"frame\": {\"duration\": 0, \"redraw\": true}, \"fromcurrent\": true, \"mode\": \"immediate\", \"transition\": {\"duration\": 0, \"easing\": \"linear\"}}], \"label\": \"14 Mar\", \"method\": \"animate\"}, {\"args\": [[\"15 Mar\"], {\"frame\": {\"duration\": 0, \"redraw\": true}, \"fromcurrent\": true, \"mode\": \"immediate\", \"transition\": {\"duration\": 0, \"easing\": \"linear\"}}], \"label\": \"15 Mar\", \"method\": \"animate\"}, {\"args\": [[\"16 Mar\"], {\"frame\": {\"duration\": 0, \"redraw\": true}, \"fromcurrent\": true, \"mode\": \"immediate\", \"transition\": {\"duration\": 0, \"easing\": \"linear\"}}], \"label\": \"16 Mar\", \"method\": \"animate\"}, {\"args\": [[\"17 Mar\"], {\"frame\": {\"duration\": 0, \"redraw\": true}, \"fromcurrent\": true, \"mode\": \"immediate\", \"transition\": {\"duration\": 0, \"easing\": \"linear\"}}], \"label\": \"17 Mar\", \"method\": \"animate\"}, {\"args\": [[\"18 Mar\"], {\"frame\": {\"duration\": 0, \"redraw\": true}, \"fromcurrent\": true, \"mode\": \"immediate\", \"transition\": {\"duration\": 0, \"easing\": \"linear\"}}], \"label\": \"18 Mar\", \"method\": \"animate\"}, {\"args\": [[\"19 Mar\"], {\"frame\": {\"duration\": 0, \"redraw\": true}, \"fromcurrent\": true, \"mode\": \"immediate\", \"transition\": {\"duration\": 0, \"easing\": \"linear\"}}], \"label\": \"19 Mar\", \"method\": \"animate\"}, {\"args\": [[\"20 Mar\"], {\"frame\": {\"duration\": 0, \"redraw\": true}, \"fromcurrent\": true, \"mode\": \"immediate\", \"transition\": {\"duration\": 0, \"easing\": \"linear\"}}], \"label\": \"20 Mar\", \"method\": \"animate\"}, {\"args\": [[\"21 Mar\"], {\"frame\": {\"duration\": 0, \"redraw\": true}, \"fromcurrent\": true, \"mode\": \"immediate\", \"transition\": {\"duration\": 0, \"easing\": \"linear\"}}], \"label\": \"21 Mar\", \"method\": \"animate\"}, {\"args\": [[\"22 Mar\"], {\"frame\": {\"duration\": 0, \"redraw\": true}, \"fromcurrent\": true, \"mode\": \"immediate\", \"transition\": {\"duration\": 0, \"easing\": \"linear\"}}], \"label\": \"22 Mar\", \"method\": \"animate\"}], \"x\": 0.1, \"xanchor\": \"left\", \"y\": 0, \"yanchor\": \"top\"}], \"template\": {\"data\": {\"bar\": [{\"error_x\": {\"color\": \"#2a3f5f\"}, \"error_y\": {\"color\": \"#2a3f5f\"}, \"marker\": {\"line\": {\"color\": \"white\", \"width\": 0.5}}, \"type\": \"bar\"}], \"barpolar\": [{\"marker\": {\"line\": {\"color\": \"white\", \"width\": 0.5}}, \"type\": \"barpolar\"}], \"carpet\": [{\"aaxis\": {\"endlinecolor\": \"#2a3f5f\", \"gridcolor\": \"#C8D4E3\", \"linecolor\": \"#C8D4E3\", \"minorgridcolor\": \"#C8D4E3\", \"startlinecolor\": \"#2a3f5f\"}, \"baxis\": {\"endlinecolor\": \"#2a3f5f\", \"gridcolor\": \"#C8D4E3\", \"linecolor\": \"#C8D4E3\", \"minorgridcolor\": \"#C8D4E3\", \"startlinecolor\": \"#2a3f5f\"}, \"type\": \"carpet\"}], \"choropleth\": [{\"colorbar\": {\"outlinewidth\": 0, \"ticks\": \"\"}, \"type\": \"choropleth\"}], \"contour\": [{\"colorbar\": {\"outlinewidth\": 0, \"ticks\": \"\"}, \"colorscale\": [[0.0, \"#0d0887\"], [0.1111111111111111, \"#46039f\"], [0.2222222222222222, \"#7201a8\"], [0.3333333333333333, \"#9c179e\"], [0.4444444444444444, \"#bd3786\"], [0.5555555555555556, \"#d8576b\"], [0.6666666666666666, \"#ed7953\"], [0.7777777777777778, \"#fb9f3a\"], [0.8888888888888888, \"#fdca26\"], [1.0, \"#f0f921\"]], \"type\": \"contour\"}], \"contourcarpet\": [{\"colorbar\": {\"outlinewidth\": 0, \"ticks\": \"\"}, \"type\": \"contourcarpet\"}], \"heatmap\": [{\"colorbar\": {\"outlinewidth\": 0, \"ticks\": \"\"}, \"colorscale\": [[0.0, \"#0d0887\"], [0.1111111111111111, \"#46039f\"], [0.2222222222222222, \"#7201a8\"], [0.3333333333333333, \"#9c179e\"], [0.4444444444444444, \"#bd3786\"], [0.5555555555555556, \"#d8576b\"], [0.6666666666666666, \"#ed7953\"], [0.7777777777777778, \"#fb9f3a\"], [0.8888888888888888, \"#fdca26\"], [1.0, \"#f0f921\"]], \"type\": \"heatmap\"}], \"heatmapgl\": [{\"colorbar\": {\"outlinewidth\": 0, \"ticks\": \"\"}, \"colorscale\": [[0.0, \"#0d0887\"], [0.1111111111111111, \"#46039f\"], [0.2222222222222222, \"#7201a8\"], [0.3333333333333333, \"#9c179e\"], [0.4444444444444444, \"#bd3786\"], [0.5555555555555556, \"#d8576b\"], [0.6666666666666666, \"#ed7953\"], [0.7777777777777778, \"#fb9f3a\"], [0.8888888888888888, \"#fdca26\"], [1.0, \"#f0f921\"]], \"type\": \"heatmapgl\"}], \"histogram\": [{\"marker\": {\"colorbar\": {\"outlinewidth\": 0, \"ticks\": \"\"}}, \"type\": \"histogram\"}], \"histogram2d\": [{\"colorbar\": {\"outlinewidth\": 0, \"ticks\": \"\"}, \"colorscale\": [[0.0, \"#0d0887\"], [0.1111111111111111, \"#46039f\"], [0.2222222222222222, \"#7201a8\"], [0.3333333333333333, \"#9c179e\"], [0.4444444444444444, \"#bd3786\"], [0.5555555555555556, \"#d8576b\"], [0.6666666666666666, \"#ed7953\"], [0.7777777777777778, \"#fb9f3a\"], [0.8888888888888888, \"#fdca26\"], [1.0, \"#f0f921\"]], \"type\": \"histogram2d\"}], \"histogram2dcontour\": [{\"colorbar\": {\"outlinewidth\": 0, \"ticks\": \"\"}, \"colorscale\": [[0.0, \"#0d0887\"], [0.1111111111111111, \"#46039f\"], [0.2222222222222222, \"#7201a8\"], [0.3333333333333333, \"#9c179e\"], [0.4444444444444444, \"#bd3786\"], [0.5555555555555556, \"#d8576b\"], [0.6666666666666666, \"#ed7953\"], [0.7777777777777778, \"#fb9f3a\"], [0.8888888888888888, \"#fdca26\"], [1.0, \"#f0f921\"]], \"type\": \"histogram2dcontour\"}], \"mesh3d\": [{\"colorbar\": {\"outlinewidth\": 0, \"ticks\": \"\"}, \"type\": \"mesh3d\"}], \"parcoords\": [{\"line\": {\"colorbar\": {\"outlinewidth\": 0, \"ticks\": \"\"}}, \"type\": \"parcoords\"}], \"pie\": [{\"automargin\": true, \"type\": \"pie\"}], \"scatter\": [{\"marker\": {\"colorbar\": {\"outlinewidth\": 0, \"ticks\": \"\"}}, \"type\": \"scatter\"}], \"scatter3d\": [{\"line\": {\"colorbar\": {\"outlinewidth\": 0, \"ticks\": \"\"}}, \"marker\": {\"colorbar\": {\"outlinewidth\": 0, \"ticks\": \"\"}}, \"type\": \"scatter3d\"}], \"scattercarpet\": [{\"marker\": {\"colorbar\": {\"outlinewidth\": 0, \"ticks\": \"\"}}, \"type\": \"scattercarpet\"}], \"scattergeo\": [{\"marker\": {\"colorbar\": {\"outlinewidth\": 0, \"ticks\": \"\"}}, \"type\": \"scattergeo\"}], \"scattergl\": [{\"marker\": {\"colorbar\": {\"outlinewidth\": 0, \"ticks\": \"\"}}, \"type\": \"scattergl\"}], \"scattermapbox\": [{\"marker\": {\"colorbar\": {\"outlinewidth\": 0, \"ticks\": \"\"}}, \"type\": \"scattermapbox\"}], \"scatterpolar\": [{\"marker\": {\"colorbar\": {\"outlinewidth\": 0, \"ticks\": \"\"}}, \"type\": \"scatterpolar\"}], \"scatterpolargl\": [{\"marker\": {\"colorbar\": {\"outlinewidth\": 0, \"ticks\": \"\"}}, \"type\": \"scatterpolargl\"}], \"scatterternary\": [{\"marker\": {\"colorbar\": {\"outlinewidth\": 0, \"ticks\": \"\"}}, \"type\": \"scatterternary\"}], \"surface\": [{\"colorbar\": {\"outlinewidth\": 0, \"ticks\": \"\"}, \"colorscale\": [[0.0, \"#0d0887\"], [0.1111111111111111, \"#46039f\"], [0.2222222222222222, \"#7201a8\"], [0.3333333333333333, \"#9c179e\"], [0.4444444444444444, \"#bd3786\"], [0.5555555555555556, \"#d8576b\"], [0.6666666666666666, \"#ed7953\"], [0.7777777777777778, \"#fb9f3a\"], [0.8888888888888888, \"#fdca26\"], [1.0, \"#f0f921\"]], \"type\": \"surface\"}], \"table\": [{\"cells\": {\"fill\": {\"color\": \"#EBF0F8\"}, \"line\": {\"color\": \"white\"}}, \"header\": {\"fill\": {\"color\": \"#C8D4E3\"}, \"line\": {\"color\": \"white\"}}, \"type\": \"table\"}]}, \"layout\": {\"annotationdefaults\": {\"arrowcolor\": \"#2a3f5f\", \"arrowhead\": 0, \"arrowwidth\": 1}, \"coloraxis\": {\"colorbar\": {\"outlinewidth\": 0, \"ticks\": \"\"}}, \"colorscale\": {\"diverging\": [[0, \"#8e0152\"], [0.1, \"#c51b7d\"], [0.2, \"#de77ae\"], [0.3, \"#f1b6da\"], [0.4, \"#fde0ef\"], [0.5, \"#f7f7f7\"], [0.6, \"#e6f5d0\"], [0.7, \"#b8e186\"], [0.8, \"#7fbc41\"], [0.9, \"#4d9221\"], [1, \"#276419\"]], \"sequential\": [[0.0, \"#0d0887\"], [0.1111111111111111, \"#46039f\"], [0.2222222222222222, \"#7201a8\"], [0.3333333333333333, \"#9c179e\"], [0.4444444444444444, \"#bd3786\"], [0.5555555555555556, \"#d8576b\"], [0.6666666666666666, \"#ed7953\"], [0.7777777777777778, \"#fb9f3a\"], [0.8888888888888888, \"#fdca26\"], [1.0, \"#f0f921\"]], \"sequentialminus\": [[0.0, \"#0d0887\"], [0.1111111111111111, \"#46039f\"], [0.2222222222222222, \"#7201a8\"], [0.3333333333333333, \"#9c179e\"], [0.4444444444444444, \"#bd3786\"], [0.5555555555555556, \"#d8576b\"], [0.6666666666666666, \"#ed7953\"], [0.7777777777777778, \"#fb9f3a\"], [0.8888888888888888, \"#fdca26\"], [1.0, \"#f0f921\"]]}, \"colorway\": [\"#636efa\", \"#EF553B\", \"#00cc96\", \"#ab63fa\", \"#FFA15A\", \"#19d3f3\", \"#FF6692\", \"#B6E880\", \"#FF97FF\", \"#FECB52\"], \"font\": {\"color\": \"#2a3f5f\"}, \"geo\": {\"bgcolor\": \"white\", \"lakecolor\": \"white\", \"landcolor\": \"white\", \"showlakes\": true, \"showland\": true, \"subunitcolor\": \"#C8D4E3\"}, \"hoverlabel\": {\"align\": \"left\"}, \"hovermode\": \"closest\", \"mapbox\": {\"style\": \"light\"}, \"paper_bgcolor\": \"white\", \"plot_bgcolor\": \"white\", \"polar\": {\"angularaxis\": {\"gridcolor\": \"#EBF0F8\", \"linecolor\": \"#EBF0F8\", \"ticks\": \"\"}, \"bgcolor\": \"white\", \"radialaxis\": {\"gridcolor\": \"#EBF0F8\", \"linecolor\": \"#EBF0F8\", \"ticks\": \"\"}}, \"scene\": {\"xaxis\": {\"backgroundcolor\": \"white\", \"gridcolor\": \"#DFE8F3\", \"gridwidth\": 2, \"linecolor\": \"#EBF0F8\", \"showbackground\": true, \"ticks\": \"\", \"zerolinecolor\": \"#EBF0F8\"}, \"yaxis\": {\"backgroundcolor\": \"white\", \"gridcolor\": \"#DFE8F3\", \"gridwidth\": 2, \"linecolor\": \"#EBF0F8\", \"showbackground\": true, \"ticks\": \"\", \"zerolinecolor\": \"#EBF0F8\"}, \"zaxis\": {\"backgroundcolor\": \"white\", \"gridcolor\": \"#DFE8F3\", \"gridwidth\": 2, \"linecolor\": \"#EBF0F8\", \"showbackground\": true, \"ticks\": \"\", \"zerolinecolor\": \"#EBF0F8\"}}, \"shapedefaults\": {\"line\": {\"color\": \"#2a3f5f\"}}, \"ternary\": {\"aaxis\": {\"gridcolor\": \"#DFE8F3\", \"linecolor\": \"#A2B1C6\", \"ticks\": \"\"}, \"baxis\": {\"gridcolor\": \"#DFE8F3\", \"linecolor\": \"#A2B1C6\", \"ticks\": \"\"}, \"bgcolor\": \"white\", \"caxis\": {\"gridcolor\": \"#DFE8F3\", \"linecolor\": \"#A2B1C6\", \"ticks\": \"\"}}, \"title\": {\"x\": 0.05}, \"xaxis\": {\"automargin\": true, \"gridcolor\": \"#EBF0F8\", \"linecolor\": \"#EBF0F8\", \"ticks\": \"\", \"title\": {\"standoff\": 15}, \"zerolinecolor\": \"#EBF0F8\", \"zerolinewidth\": 2}, \"yaxis\": {\"automargin\": true, \"gridcolor\": \"#EBF0F8\", \"linecolor\": \"#EBF0F8\", \"ticks\": \"\", \"title\": {\"standoff\": 15}, \"zerolinecolor\": \"#EBF0F8\", \"zerolinewidth\": 2}}}, \"title\": {\"font\": {\"family\": \"Helvetica\", \"size\": 18}, \"text\": \"<b>COVID19: Registrert smittet i Norge</b><br>Antall smittet per 1 000 innbyggere<br>Datakilde: FHI - folkehelseinstituttet. Oppdatert 23.03.2020\"}, \"updatemenus\": [{\"buttons\": [{\"args\": [null, {\"frame\": {\"duration\": 500, \"redraw\": true}, \"fromcurrent\": true, \"mode\": \"immediate\", \"transition\": {\"duration\": 500, \"easing\": \"linear\"}}], \"label\": \"&#9654;\", \"method\": \"animate\"}, {\"args\": [[null], {\"frame\": {\"duration\": 0, \"redraw\": true}, \"fromcurrent\": true, \"mode\": \"immediate\", \"transition\": {\"duration\": 0, \"easing\": \"linear\"}}], \"label\": \"&#9724;\", \"method\": \"animate\"}], \"direction\": \"left\", \"pad\": {\"r\": 10, \"t\": 70}, \"showactive\": false, \"type\": \"buttons\", \"x\": 0.1, \"xanchor\": \"right\", \"y\": 0, \"yanchor\": \"top\"}], \"xaxis\": {\"anchor\": \"y\", \"domain\": [0.0, 1.0], \"fixedrange\": true, \"range\": [0, 0.8], \"title\": {\"text\": \"per 1 000\"}}, \"yaxis\": {\"anchor\": \"x\", \"categoryorder\": \"total ascending\", \"domain\": [0.0, 1.0], \"fixedrange\": true, \"separatethousands\": true, \"title\": {\"text\": \"\"}}},\n",
       "                        {\"responsive\": true}\n",
       "                    ).then(function(){\n",
       "                            Plotly.addFrames('26d967d3-1c8c-4246-b663-e2927a289c2b', [{\"data\": [{\"alignmentgroup\": \"True\", \"hoverlabel\": {\"namelength\": 0}, \"hovertemplate\": \"RHF=Helse Midt-Norge<br>Dato=09 Mar<br>Smittede/tusen innb=%{x}<br>Fylke=%{y}<br>txt=%{text}\", \"ids\": [\"Tr\\u00f8ndelag\", \"M\\u00f8re og Romsdal\"], \"legendgroup\": \"Helse Midt-Norge\", \"marker\": {\"color\": \"#636efa\"}, \"name\": \"Helse Midt-Norge\", \"offsetgroup\": \"Helse Midt-Norge\", \"orientation\": \"h\", \"showlegend\": true, \"text\": [\"0.05\", \"0.02\"], \"textposition\": \"auto\", \"x\": [0.046938139798848734, 0.018850994201434185], \"xaxis\": \"x\", \"y\": [\"Tr\\u00f8ndelag\", \"M\\u00f8re og Romsdal\"], \"yaxis\": \"y\", \"type\": \"bar\"}, {\"alignmentgroup\": \"True\", \"hoverlabel\": {\"namelength\": 0}, \"hovertemplate\": \"RHF=Helse Nord<br>Dato=09 Mar<br>Smittede/tusen innb=%{x}<br>Fylke=%{y}<br>txt=%{text}\", \"ids\": [\"Troms og Finnmark\", \"Nordland\"], \"legendgroup\": \"Helse Nord\", \"marker\": {\"color\": \"#EF553B\"}, \"name\": \"Helse Nord\", \"offsetgroup\": \"Helse Nord\", \"orientation\": \"h\", \"showlegend\": true, \"text\": [\"0.02\", \"0.01\"], \"textposition\": \"auto\", \"x\": [0.024659797543062172, 0.01243600638381661], \"xaxis\": \"x\", \"y\": [\"Troms og Finnmark\", \"Nordland\"], \"yaxis\": \"y\", \"type\": \"bar\"}, {\"alignmentgroup\": \"True\", \"hoverlabel\": {\"namelength\": 0}, \"hovertemplate\": \"RHF=Helse S\\u00f8r-\\u00d8st<br>Dato=09 Mar<br>Smittede/tusen innb=%{x}<br>Fylke=%{y}<br>txt=%{text}\", \"ids\": [\"Agder\", \"Oslo\", \"Vestfold og Telemark\", \"Innlandet\", \"Viken\"], \"legendgroup\": \"Helse S\\u00f8r-\\u00d8st\", \"marker\": {\"color\": \"#00cc96\"}, \"name\": \"Helse S\\u00f8r-\\u00d8st\", \"offsetgroup\": \"Helse S\\u00f8r-\\u00d8st\", \"orientation\": \"h\", \"showlegend\": true, \"text\": [\"0.06\", \"0.07\", \"0.01\", \"0.04\", \"0.07\"], \"textposition\": \"auto\", \"x\": [0.06184271769450349, 0.07354065067614139, 0.0119219067420767, 0.043081976924216114, 0.06928973988148232], \"xaxis\": \"x\", \"y\": [\"Agder\", \"Oslo\", \"Vestfold og Telemark\", \"Innlandet\", \"Viken\"], \"yaxis\": \"y\", \"type\": \"bar\"}, {\"alignmentgroup\": \"True\", \"hoverlabel\": {\"namelength\": 0}, \"hovertemplate\": \"RHF=Helse Vest<br>Dato=09 Mar<br>Smittede/tusen innb=%{x}<br>Fylke=%{y}<br>txt=%{text}\", \"ids\": [\"Vestland\", \"Rogaland\"], \"legendgroup\": \"Helse Vest\", \"marker\": {\"color\": \"#ab63fa\"}, \"name\": \"Helse Vest\", \"offsetgroup\": \"Helse Vest\", \"orientation\": \"h\", \"showlegend\": true, \"text\": [\"0.05\", \"0.07\"], \"textposition\": \"auto\", \"x\": [0.048701477225775336, 0.06876547223125203], \"xaxis\": \"x\", \"y\": [\"Vestland\", \"Rogaland\"], \"yaxis\": \"y\", \"type\": \"bar\"}], \"name\": \"09 Mar\"}, {\"data\": [{\"alignmentgroup\": \"True\", \"hoverlabel\": {\"namelength\": 0}, \"hovertemplate\": \"RHF=Helse Midt-Norge<br>Dato=10 Mar<br>Smittede/tusen innb=%{x}<br>Fylke=%{y}<br>txt=%{text}\", \"ids\": [\"M\\u00f8re og Romsdal\", \"Tr\\u00f8ndelag\"], \"legendgroup\": \"Helse Midt-Norge\", \"marker\": {\"color\": \"#636efa\"}, \"name\": \"Helse Midt-Norge\", \"offsetgroup\": \"Helse Midt-Norge\", \"orientation\": \"h\", \"showlegend\": true, \"text\": [\"0.02\", \"0.05\"], \"textposition\": \"auto\", \"x\": [0.018850994201434185, 0.046938139798848734], \"xaxis\": \"x\", \"y\": [\"M\\u00f8re og Romsdal\", \"Tr\\u00f8ndelag\"], \"yaxis\": \"y\", \"type\": \"bar\"}, {\"alignmentgroup\": \"True\", \"hoverlabel\": {\"namelength\": 0}, \"hovertemplate\": \"RHF=Helse Nord<br>Dato=10 Mar<br>Smittede/tusen innb=%{x}<br>Fylke=%{y}<br>txt=%{text}\", \"ids\": [\"Nordland\", \"Troms og Finnmark\"], \"legendgroup\": \"Helse Nord\", \"marker\": {\"color\": \"#EF553B\"}, \"name\": \"Helse Nord\", \"offsetgroup\": \"Helse Nord\", \"orientation\": \"h\", \"showlegend\": true, \"text\": [\"0.01\", \"0.02\"], \"textposition\": \"auto\", \"x\": [0.01243600638381661, 0.024659797543062172], \"xaxis\": \"x\", \"y\": [\"Nordland\", \"Troms og Finnmark\"], \"yaxis\": \"y\", \"type\": \"bar\"}, {\"alignmentgroup\": \"True\", \"hoverlabel\": {\"namelength\": 0}, \"hovertemplate\": \"RHF=Helse S\\u00f8r-\\u00d8st<br>Dato=10 Mar<br>Smittede/tusen innb=%{x}<br>Fylke=%{y}<br>txt=%{text}\", \"ids\": [\"Viken\", \"Vestfold og Telemark\", \"Oslo\", \"Agder\", \"Innlandet\"], \"legendgroup\": \"Helse S\\u00f8r-\\u00d8st\", \"marker\": {\"color\": \"#00cc96\"}, \"name\": \"Helse S\\u00f8r-\\u00d8st\", \"offsetgroup\": \"Helse S\\u00f8r-\\u00d8st\", \"orientation\": \"h\", \"showlegend\": true, \"text\": [\"0.07\", \"0.01\", \"0.07\", \"0.06\", \"0.04\"], \"textposition\": \"auto\", \"x\": [0.06928973988148232, 0.0119219067420767, 0.07354065067614139, 0.06184271769450349, 0.043081976924216114], \"xaxis\": \"x\", \"y\": [\"Viken\", \"Vestfold og Telemark\", \"Oslo\", \"Agder\", \"Innlandet\"], \"yaxis\": \"y\", \"type\": \"bar\"}, {\"alignmentgroup\": \"True\", \"hoverlabel\": {\"namelength\": 0}, \"hovertemplate\": \"RHF=Helse Vest<br>Dato=10 Mar<br>Smittede/tusen innb=%{x}<br>Fylke=%{y}<br>txt=%{text}\", \"ids\": [\"Rogaland\", \"Vestland\"], \"legendgroup\": \"Helse Vest\", \"marker\": {\"color\": \"#ab63fa\"}, \"name\": \"Helse Vest\", \"offsetgroup\": \"Helse Vest\", \"orientation\": \"h\", \"showlegend\": true, \"text\": [\"0.07\", \"0.05\"], \"textposition\": \"auto\", \"x\": [0.06876547223125203, 0.048701477225775336], \"xaxis\": \"x\", \"y\": [\"Rogaland\", \"Vestland\"], \"yaxis\": \"y\", \"type\": \"bar\"}], \"name\": \"10 Mar\"}, {\"data\": [{\"alignmentgroup\": \"True\", \"hoverlabel\": {\"namelength\": 0}, \"hovertemplate\": \"RHF=Helse Midt-Norge<br>Dato=11 Mar<br>Smittede/tusen innb=%{x}<br>Fylke=%{y}<br>txt=%{text}\", \"ids\": [\"Tr\\u00f8ndelag\", \"M\\u00f8re og Romsdal\"], \"legendgroup\": \"Helse Midt-Norge\", \"marker\": {\"color\": \"#636efa\"}, \"name\": \"Helse Midt-Norge\", \"offsetgroup\": \"Helse Midt-Norge\", \"orientation\": \"h\", \"showlegend\": true, \"text\": [\"0.05\", \"0.03\"], \"textposition\": \"auto\", \"x\": [0.05333879522596447, 0.026391391882007856], \"xaxis\": \"x\", \"y\": [\"Tr\\u00f8ndelag\", \"M\\u00f8re og Romsdal\"], \"yaxis\": \"y\", \"type\": \"bar\"}, {\"alignmentgroup\": \"True\", \"hoverlabel\": {\"namelength\": 0}, \"hovertemplate\": \"RHF=Helse Nord<br>Dato=11 Mar<br>Smittede/tusen innb=%{x}<br>Fylke=%{y}<br>txt=%{text}\", \"ids\": [\"Nordland\", \"Troms og Finnmark\"], \"legendgroup\": \"Helse Nord\", \"marker\": {\"color\": \"#EF553B\"}, \"name\": \"Helse Nord\", \"offsetgroup\": \"Helse Nord\", \"orientation\": \"h\", \"showlegend\": true, \"text\": [\"0.01\", \"0.03\"], \"textposition\": \"auto\", \"x\": [0.01243600638381661, 0.028769763800239198], \"xaxis\": \"x\", \"y\": [\"Nordland\", \"Troms og Finnmark\"], \"yaxis\": \"y\", \"type\": \"bar\"}, {\"alignmentgroup\": \"True\", \"hoverlabel\": {\"namelength\": 0}, \"hovertemplate\": \"RHF=Helse S\\u00f8r-\\u00d8st<br>Dato=11 Mar<br>Smittede/tusen innb=%{x}<br>Fylke=%{y}<br>txt=%{text}\", \"ids\": [\"Vestfold og Telemark\", \"Viken\", \"Innlandet\", \"Agder\", \"Oslo\"], \"legendgroup\": \"Helse S\\u00f8r-\\u00d8st\", \"marker\": {\"color\": \"#00cc96\"}, \"name\": \"Helse S\\u00f8r-\\u00d8st\", \"offsetgroup\": \"Helse S\\u00f8r-\\u00d8st\", \"orientation\": \"h\", \"showlegend\": true, \"text\": [\"0.04\", \"0.1\", \"0.06\", \"0.07\", \"0.18\"], \"textposition\": \"auto\", \"x\": [0.0357657202262301, 0.0999061365733001, 0.06193034182856066, 0.06509759757316157, 0.177362745748341], \"xaxis\": \"x\", \"y\": [\"Vestfold og Telemark\", \"Viken\", \"Innlandet\", \"Agder\", \"Oslo\"], \"yaxis\": \"y\", \"type\": \"bar\"}, {\"alignmentgroup\": \"True\", \"hoverlabel\": {\"namelength\": 0}, \"hovertemplate\": \"RHF=Helse Vest<br>Dato=11 Mar<br>Smittede/tusen innb=%{x}<br>Fylke=%{y}<br>txt=%{text}\", \"ids\": [\"Rogaland\", \"Vestland\"], \"legendgroup\": \"Helse Vest\", \"marker\": {\"color\": \"#ab63fa\"}, \"name\": \"Helse Vest\", \"offsetgroup\": \"Helse Vest\", \"orientation\": \"h\", \"showlegend\": true, \"text\": [\"0.15\", \"0.06\"], \"textposition\": \"auto\", \"x\": [0.14794995540663317, 0.06441163116957384], \"xaxis\": \"x\", \"y\": [\"Rogaland\", \"Vestland\"], \"yaxis\": \"y\", \"type\": \"bar\"}], \"name\": \"11 Mar\"}, {\"data\": [{\"alignmentgroup\": \"True\", \"hoverlabel\": {\"namelength\": 0}, \"hovertemplate\": \"RHF=Helse Midt-Norge<br>Dato=12 Mar<br>Smittede/tusen innb=%{x}<br>Fylke=%{y}<br>txt=%{text}\", \"ids\": [\"Tr\\u00f8ndelag\", \"M\\u00f8re og Romsdal\"], \"legendgroup\": \"Helse Midt-Norge\", \"marker\": {\"color\": \"#636efa\"}, \"name\": \"Helse Midt-Norge\", \"offsetgroup\": \"Helse Midt-Norge\", \"orientation\": \"h\", \"showlegend\": true, \"text\": [\"0.08\", \"0.02\"], \"textposition\": \"auto\", \"x\": [0.07894141693442742, 0.02262119304172102], \"xaxis\": \"x\", \"y\": [\"Tr\\u00f8ndelag\", \"M\\u00f8re og Romsdal\"], \"yaxis\": \"y\", \"type\": \"bar\"}, {\"alignmentgroup\": \"True\", \"hoverlabel\": {\"namelength\": 0}, \"hovertemplate\": \"RHF=Helse Nord<br>Dato=12 Mar<br>Smittede/tusen innb=%{x}<br>Fylke=%{y}<br>txt=%{text}\", \"ids\": [\"Troms og Finnmark\", \"Nordland\"], \"legendgroup\": \"Helse Nord\", \"marker\": {\"color\": \"#EF553B\"}, \"name\": \"Helse Nord\", \"offsetgroup\": \"Helse Nord\", \"orientation\": \"h\", \"showlegend\": true, \"text\": [\"0.05\", \"0.02\"], \"textposition\": \"auto\", \"x\": [0.045209628828947315, 0.016581341845088814], \"xaxis\": \"x\", \"y\": [\"Troms og Finnmark\", \"Nordland\"], \"yaxis\": \"y\", \"type\": \"bar\"}, {\"alignmentgroup\": \"True\", \"hoverlabel\": {\"namelength\": 0}, \"hovertemplate\": \"RHF=Helse S\\u00f8r-\\u00d8st<br>Dato=12 Mar<br>Smittede/tusen innb=%{x}<br>Fylke=%{y}<br>txt=%{text}\", \"ids\": [\"Agder\", \"Oslo\", \"Vestfold og Telemark\", \"Viken\", \"Innlandet\"], \"legendgroup\": \"Helse S\\u00f8r-\\u00d8st\", \"marker\": {\"color\": \"#00cc96\"}, \"name\": \"Helse S\\u00f8r-\\u00d8st\", \"offsetgroup\": \"Helse S\\u00f8r-\\u00d8st\", \"orientation\": \"h\", \"showlegend\": true, \"text\": [\"0.1\", \"0.24\", \"0.05\", \"0.12\", \"0.11\"], \"textposition\": \"auto\", \"x\": [0.1041561561170585, 0.23936760808312688, 0.05245638966513748, 0.12407697606684043, 0.10770494231054027], \"xaxis\": \"x\", \"y\": [\"Agder\", \"Oslo\", \"Vestfold og Telemark\", \"Viken\", \"Innlandet\"], \"yaxis\": \"y\", \"type\": \"bar\"}, {\"alignmentgroup\": \"True\", \"hoverlabel\": {\"namelength\": 0}, \"hovertemplate\": \"RHF=Helse Vest<br>Dato=12 Mar<br>Smittede/tusen innb=%{x}<br>Fylke=%{y}<br>txt=%{text}\", \"ids\": [\"Rogaland\", \"Vestland\"], \"legendgroup\": \"Helse Vest\", \"marker\": {\"color\": \"#ab63fa\"}, \"name\": \"Helse Vest\", \"offsetgroup\": \"Helse Vest\", \"orientation\": \"h\", \"showlegend\": true, \"text\": [\"0.17\", \"0.11\"], \"textposition\": \"auto\", \"x\": [0.17087177948371718, 0.10525803142344993], \"xaxis\": \"x\", \"y\": [\"Rogaland\", \"Vestland\"], \"yaxis\": \"y\", \"type\": \"bar\"}], \"name\": \"12 Mar\"}, {\"data\": [{\"alignmentgroup\": \"True\", \"hoverlabel\": {\"namelength\": 0}, \"hovertemplate\": \"RHF=Helse Midt-Norge<br>Dato=13 Mar<br>Smittede/tusen innb=%{x}<br>Fylke=%{y}<br>txt=%{text}\", \"ids\": [\"Tr\\u00f8ndelag\", \"M\\u00f8re og Romsdal\"], \"legendgroup\": \"Helse Midt-Norge\", \"marker\": {\"color\": \"#636efa\"}, \"name\": \"Helse Midt-Norge\", \"offsetgroup\": \"Helse Midt-Norge\", \"orientation\": \"h\", \"showlegend\": true, \"text\": [\"0.09\", \"0.03\"], \"textposition\": \"auto\", \"x\": [0.0917427277886589, 0.026391391882007856], \"xaxis\": \"x\", \"y\": [\"Tr\\u00f8ndelag\", \"M\\u00f8re og Romsdal\"], \"yaxis\": \"y\", \"type\": \"bar\"}, {\"alignmentgroup\": \"True\", \"hoverlabel\": {\"namelength\": 0}, \"hovertemplate\": \"RHF=Helse Nord<br>Dato=13 Mar<br>Smittede/tusen innb=%{x}<br>Fylke=%{y}<br>txt=%{text}\", \"ids\": [\"Nordland\", \"Troms og Finnmark\"], \"legendgroup\": \"Helse Nord\", \"marker\": {\"color\": \"#EF553B\"}, \"name\": \"Helse Nord\", \"offsetgroup\": \"Helse Nord\", \"orientation\": \"h\", \"showlegend\": true, \"text\": [\"0.02\", \"0.05\"], \"textposition\": \"auto\", \"x\": [0.020726677306361015, 0.049319595086124345], \"xaxis\": \"x\", \"y\": [\"Nordland\", \"Troms og Finnmark\"], \"yaxis\": \"y\", \"type\": \"bar\"}, {\"alignmentgroup\": \"True\", \"hoverlabel\": {\"namelength\": 0}, \"hovertemplate\": \"RHF=Helse S\\u00f8r-\\u00d8st<br>Dato=13 Mar<br>Smittede/tusen innb=%{x}<br>Fylke=%{y}<br>txt=%{text}\", \"ids\": [\"Agder\", \"Vestfold og Telemark\", \"Viken\", \"Innlandet\", \"Oslo\"], \"legendgroup\": \"Helse S\\u00f8r-\\u00d8st\", \"marker\": {\"color\": \"#00cc96\"}, \"name\": \"Helse S\\u00f8r-\\u00d8st\", \"offsetgroup\": \"Helse S\\u00f8r-\\u00d8st\", \"orientation\": \"h\", \"showlegend\": true, \"text\": [\"0.11\", \"0.07\", \"0.15\", \"0.13\", \"0.3\"], \"textposition\": \"auto\", \"x\": [0.11066591587437466, 0.0715314404524602, 0.14502503696124205, 0.13193855433041185, 0.29848852333257386], \"xaxis\": \"x\", \"y\": [\"Agder\", \"Vestfold og Telemark\", \"Viken\", \"Innlandet\", \"Oslo\"], \"yaxis\": \"y\", \"type\": \"bar\"}, {\"alignmentgroup\": \"True\", \"hoverlabel\": {\"namelength\": 0}, \"hovertemplate\": \"RHF=Helse Vest<br>Dato=13 Mar<br>Smittede/tusen innb=%{x}<br>Fylke=%{y}<br>txt=%{text}\", \"ids\": [\"Rogaland\", \"Vestland\"], \"legendgroup\": \"Helse Vest\", \"marker\": {\"color\": \"#ab63fa\"}, \"name\": \"Helse Vest\", \"offsetgroup\": \"Helse Vest\", \"orientation\": \"h\", \"showlegend\": true, \"text\": [\"0.22\", \"0.12\"], \"textposition\": \"auto\", \"x\": [0.21879922982671102, 0.12253920076162828], \"xaxis\": \"x\", \"y\": [\"Rogaland\", \"Vestland\"], \"yaxis\": \"y\", \"type\": \"bar\"}], \"name\": \"13 Mar\"}, {\"data\": [{\"alignmentgroup\": \"True\", \"hoverlabel\": {\"namelength\": 0}, \"hovertemplate\": \"RHF=Helse Midt-Norge<br>Dato=14 Mar<br>Smittede/tusen innb=%{x}<br>Fylke=%{y}<br>txt=%{text}\", \"ids\": [\"M\\u00f8re og Romsdal\", \"Tr\\u00f8ndelag\"], \"legendgroup\": \"Helse Midt-Norge\", \"marker\": {\"color\": \"#636efa\"}, \"name\": \"Helse Midt-Norge\", \"offsetgroup\": \"Helse Midt-Norge\", \"orientation\": \"h\", \"showlegend\": true, \"text\": [\"0.06\", \"0.1\"], \"textposition\": \"auto\", \"x\": [0.06032318144458939, 0.09814338321577463], \"xaxis\": \"x\", \"y\": [\"M\\u00f8re og Romsdal\", \"Tr\\u00f8ndelag\"], \"yaxis\": \"y\", \"type\": \"bar\"}, {\"alignmentgroup\": \"True\", \"hoverlabel\": {\"namelength\": 0}, \"hovertemplate\": \"RHF=Helse Nord<br>Dato=14 Mar<br>Smittede/tusen innb=%{x}<br>Fylke=%{y}<br>txt=%{text}\", \"ids\": [\"Troms og Finnmark\", \"Nordland\"], \"legendgroup\": \"Helse Nord\", \"marker\": {\"color\": \"#EF553B\"}, \"name\": \"Helse Nord\", \"offsetgroup\": \"Helse Nord\", \"orientation\": \"h\", \"showlegend\": true, \"text\": [\"0.07\", \"0.03\"], \"textposition\": \"auto\", \"x\": [0.06575946011483245, 0.03316268369017763], \"xaxis\": \"x\", \"y\": [\"Troms og Finnmark\", \"Nordland\"], \"yaxis\": \"y\", \"type\": \"bar\"}, {\"alignmentgroup\": \"True\", \"hoverlabel\": {\"namelength\": 0}, \"hovertemplate\": \"RHF=Helse S\\u00f8r-\\u00d8st<br>Dato=14 Mar<br>Smittede/tusen innb=%{x}<br>Fylke=%{y}<br>txt=%{text}\", \"ids\": [\"Agder\", \"Oslo\", \"Innlandet\", \"Viken\", \"Vestfold og Telemark\"], \"legendgroup\": \"Helse S\\u00f8r-\\u00d8st\", \"marker\": {\"color\": \"#00cc96\"}, \"name\": \"Helse S\\u00f8r-\\u00d8st\", \"offsetgroup\": \"Helse S\\u00f8r-\\u00d8st\", \"orientation\": \"h\", \"showlegend\": true, \"text\": [\"0.17\", \"0.32\", \"0.15\", \"0.19\", \"0.09\"], \"textposition\": \"auto\", \"x\": [0.16925375369022005, 0.32011812647261545, 0.1534795427925199, 0.18611546410026064, 0.09299087258819826], \"xaxis\": \"x\", \"y\": [\"Agder\", \"Oslo\", \"Innlandet\", \"Viken\", \"Vestfold og Telemark\"], \"yaxis\": \"y\", \"type\": \"bar\"}, {\"alignmentgroup\": \"True\", \"hoverlabel\": {\"namelength\": 0}, \"hovertemplate\": \"RHF=Helse Vest<br>Dato=14 Mar<br>Smittede/tusen innb=%{x}<br>Fylke=%{y}<br>txt=%{text}\", \"ids\": [\"Rogaland\", \"Vestland\"], \"legendgroup\": \"Helse Vest\", \"marker\": {\"color\": \"#ab63fa\"}, \"name\": \"Helse Vest\", \"offsetgroup\": \"Helse Vest\", \"orientation\": \"h\", \"showlegend\": true, \"text\": [\"0.25\", \"0.16\"], \"textposition\": \"auto\", \"x\": [0.2479724604702725, 0.1586725548323648], \"xaxis\": \"x\", \"y\": [\"Rogaland\", \"Vestland\"], \"yaxis\": \"y\", \"type\": \"bar\"}], \"name\": \"14 Mar\"}, {\"data\": [{\"alignmentgroup\": \"True\", \"hoverlabel\": {\"namelength\": 0}, \"hovertemplate\": \"RHF=Helse Midt-Norge<br>Dato=15 Mar<br>Smittede/tusen innb=%{x}<br>Fylke=%{y}<br>txt=%{text}\", \"ids\": [\"Tr\\u00f8ndelag\", \"M\\u00f8re og Romsdal\"], \"legendgroup\": \"Helse Midt-Norge\", \"marker\": {\"color\": \"#636efa\"}, \"name\": \"Helse Midt-Norge\", \"offsetgroup\": \"Helse Midt-Norge\", \"orientation\": \"h\", \"showlegend\": true, \"text\": [\"0.11\", \"0.08\"], \"textposition\": \"auto\", \"x\": [0.10667759045192894, 0.07540397680573674], \"xaxis\": \"x\", \"y\": [\"Tr\\u00f8ndelag\", \"M\\u00f8re og Romsdal\"], \"yaxis\": \"y\", \"type\": \"bar\"}, {\"alignmentgroup\": \"True\", \"hoverlabel\": {\"namelength\": 0}, \"hovertemplate\": \"RHF=Helse Nord<br>Dato=15 Mar<br>Smittede/tusen innb=%{x}<br>Fylke=%{y}<br>txt=%{text}\", \"ids\": [\"Troms og Finnmark\", \"Nordland\"], \"legendgroup\": \"Helse Nord\", \"marker\": {\"color\": \"#EF553B\"}, \"name\": \"Helse Nord\", \"offsetgroup\": \"Helse Nord\", \"orientation\": \"h\", \"showlegend\": true, \"text\": [\"0.08\", \"0.03\"], \"textposition\": \"auto\", \"x\": [0.08219932514354057, 0.03316268369017763], \"xaxis\": \"x\", \"y\": [\"Troms og Finnmark\", \"Nordland\"], \"yaxis\": \"y\", \"type\": \"bar\"}, {\"alignmentgroup\": \"True\", \"hoverlabel\": {\"namelength\": 0}, \"hovertemplate\": \"RHF=Helse S\\u00f8r-\\u00d8st<br>Dato=15 Mar<br>Smittede/tusen innb=%{x}<br>Fylke=%{y}<br>txt=%{text}\", \"ids\": [\"Vestfold og Telemark\", \"Viken\", \"Agder\", \"Innlandet\", \"Oslo\"], \"legendgroup\": \"Helse S\\u00f8r-\\u00d8st\", \"marker\": {\"color\": \"#00cc96\"}, \"name\": \"Helse S\\u00f8r-\\u00d8st\", \"offsetgroup\": \"Helse S\\u00f8r-\\u00d8st\", \"orientation\": \"h\", \"showlegend\": true, \"text\": [\"0.11\", \"0.22\", \"0.18\", \"0.19\", \"0.41\"], \"textposition\": \"auto\", \"x\": [0.11445030472393633, 0.2239831126401405, 0.1790183933261943, 0.1938688961589725, 0.40519456549011235], \"xaxis\": \"x\", \"y\": [\"Vestfold og Telemark\", \"Viken\", \"Agder\", \"Innlandet\", \"Oslo\"], \"yaxis\": \"y\", \"type\": \"bar\"}, {\"alignmentgroup\": \"True\", \"hoverlabel\": {\"namelength\": 0}, \"hovertemplate\": \"RHF=Helse Vest<br>Dato=15 Mar<br>Smittede/tusen innb=%{x}<br>Fylke=%{y}<br>txt=%{text}\", \"ids\": [\"Vestland\", \"Rogaland\"], \"legendgroup\": \"Helse Vest\", \"marker\": {\"color\": \"#ab63fa\"}, \"name\": \"Helse Vest\", \"offsetgroup\": \"Helse Vest\", \"orientation\": \"h\", \"showlegend\": true, \"text\": [\"0.19\", \"0.26\"], \"textposition\": \"auto\", \"x\": [0.18537981653682226, 0.26464287798087904], \"xaxis\": \"x\", \"y\": [\"Vestland\", \"Rogaland\"], \"yaxis\": \"y\", \"type\": \"bar\"}], \"name\": \"15 Mar\"}, {\"data\": [{\"alignmentgroup\": \"True\", \"hoverlabel\": {\"namelength\": 0}, \"hovertemplate\": \"RHF=Helse Midt-Norge<br>Dato=16 Mar<br>Smittede/tusen innb=%{x}<br>Fylke=%{y}<br>txt=%{text}\", \"ids\": [\"Tr\\u00f8ndelag\", \"M\\u00f8re og Romsdal\"], \"legendgroup\": \"Helse Midt-Norge\", \"marker\": {\"color\": \"#636efa\"}, \"name\": \"Helse Midt-Norge\", \"offsetgroup\": \"Helse Midt-Norge\", \"orientation\": \"h\", \"showlegend\": true, \"text\": [\"0.11\", \"0.08\"], \"textposition\": \"auto\", \"x\": [0.11094469407000611, 0.07540397680573674], \"xaxis\": \"x\", \"y\": [\"Tr\\u00f8ndelag\", \"M\\u00f8re og Romsdal\"], \"yaxis\": \"y\", \"type\": \"bar\"}, {\"alignmentgroup\": \"True\", \"hoverlabel\": {\"namelength\": 0}, \"hovertemplate\": \"RHF=Helse Nord<br>Dato=16 Mar<br>Smittede/tusen innb=%{x}<br>Fylke=%{y}<br>txt=%{text}\", \"ids\": [\"Troms og Finnmark\", \"Nordland\"], \"legendgroup\": \"Helse Nord\", \"marker\": {\"color\": \"#EF553B\"}, \"name\": \"Helse Nord\", \"offsetgroup\": \"Helse Nord\", \"orientation\": \"h\", \"showlegend\": true, \"text\": [\"0.09\", \"0.05\"], \"textposition\": \"auto\", \"x\": [0.0863092914007176, 0.04559869007399424], \"xaxis\": \"x\", \"y\": [\"Troms og Finnmark\", \"Nordland\"], \"yaxis\": \"y\", \"type\": \"bar\"}, {\"alignmentgroup\": \"True\", \"hoverlabel\": {\"namelength\": 0}, \"hovertemplate\": \"RHF=Helse S\\u00f8r-\\u00d8st<br>Dato=16 Mar<br>Smittede/tusen innb=%{x}<br>Fylke=%{y}<br>txt=%{text}\", \"ids\": [\"Viken\", \"Oslo\", \"Vestfold og Telemark\", \"Innlandet\", \"Agder\"], \"legendgroup\": \"Helse S\\u00f8r-\\u00d8st\", \"marker\": {\"color\": \"#00cc96\"}, \"name\": \"Helse S\\u00f8r-\\u00d8st\", \"offsetgroup\": \"Helse S\\u00f8r-\\u00d8st\", \"orientation\": \"h\", \"showlegend\": true, \"text\": [\"0.25\", \"0.42\", \"0.13\", \"0.22\", \"0.22\"], \"textposition\": \"auto\", \"x\": [0.2529881200323889, 0.4210562744594762, 0.12637221146601302, 0.21810250817884405, 0.21807695187009124], \"xaxis\": \"x\", \"y\": [\"Viken\", \"Oslo\", \"Vestfold og Telemark\", \"Innlandet\", \"Agder\"], \"yaxis\": \"y\", \"type\": \"bar\"}, {\"alignmentgroup\": \"True\", \"hoverlabel\": {\"namelength\": 0}, \"hovertemplate\": \"RHF=Helse Vest<br>Dato=16 Mar<br>Smittede/tusen innb=%{x}<br>Fylke=%{y}<br>txt=%{text}\", \"ids\": [\"Vestland\", \"Rogaland\"], \"legendgroup\": \"Helse Vest\", \"marker\": {\"color\": \"#ab63fa\"}, \"name\": \"Helse Vest\", \"offsetgroup\": \"Helse Vest\", \"orientation\": \"h\", \"showlegend\": true, \"text\": [\"0.2\", \"0.27\"], \"textposition\": \"auto\", \"x\": [0.1995189550862409, 0.2729780867361823], \"xaxis\": \"x\", \"y\": [\"Vestland\", \"Rogaland\"], \"yaxis\": \"y\", \"type\": \"bar\"}], \"name\": \"16 Mar\"}, {\"data\": [{\"alignmentgroup\": \"True\", \"hoverlabel\": {\"namelength\": 0}, \"hovertemplate\": \"RHF=Helse Midt-Norge<br>Dato=17 Mar<br>Smittede/tusen innb=%{x}<br>Fylke=%{y}<br>txt=%{text}\", \"ids\": [\"M\\u00f8re og Romsdal\", \"Tr\\u00f8ndelag\"], \"legendgroup\": \"Helse Midt-Norge\", \"marker\": {\"color\": \"#636efa\"}, \"name\": \"Helse Midt-Norge\", \"offsetgroup\": \"Helse Midt-Norge\", \"orientation\": \"h\", \"showlegend\": true, \"text\": [\"0.08\", \"0.13\"], \"textposition\": \"auto\", \"x\": [0.07540397680573674, 0.1301466603513533], \"xaxis\": \"x\", \"y\": [\"M\\u00f8re og Romsdal\", \"Tr\\u00f8ndelag\"], \"yaxis\": \"y\", \"type\": \"bar\"}, {\"alignmentgroup\": \"True\", \"hoverlabel\": {\"namelength\": 0}, \"hovertemplate\": \"RHF=Helse Nord<br>Dato=17 Mar<br>Smittede/tusen innb=%{x}<br>Fylke=%{y}<br>txt=%{text}\", \"ids\": [\"Nordland\", \"Troms og Finnmark\"], \"legendgroup\": \"Helse Nord\", \"marker\": {\"color\": \"#EF553B\"}, \"name\": \"Helse Nord\", \"offsetgroup\": \"Helse Nord\", \"orientation\": \"h\", \"showlegend\": true, \"text\": [\"0.05\", \"0.1\"], \"textposition\": \"auto\", \"x\": [0.04559869007399424, 0.09863919017224869], \"xaxis\": \"x\", \"y\": [\"Nordland\", \"Troms og Finnmark\"], \"yaxis\": \"y\", \"type\": \"bar\"}, {\"alignmentgroup\": \"True\", \"hoverlabel\": {\"namelength\": 0}, \"hovertemplate\": \"RHF=Helse S\\u00f8r-\\u00d8st<br>Dato=17 Mar<br>Smittede/tusen innb=%{x}<br>Fylke=%{y}<br>txt=%{text}\", \"ids\": [\"Vestfold og Telemark\", \"Innlandet\", \"Agder\", \"Viken\", \"Oslo\"], \"legendgroup\": \"Helse S\\u00f8r-\\u00d8st\", \"marker\": {\"color\": \"#00cc96\"}, \"name\": \"Helse S\\u00f8r-\\u00d8st\", \"offsetgroup\": \"Helse S\\u00f8r-\\u00d8st\", \"orientation\": \"h\", \"showlegend\": true, \"text\": [\"0.14\", \"0.24\", \"0.22\", \"0.29\", \"0.47\"], \"textposition\": \"auto\", \"x\": [0.14067849955650508, 0.2369508730831886, 0.21807695187009124, 0.2884386846229148, 0.47440929553824546], \"xaxis\": \"x\", \"y\": [\"Vestfold og Telemark\", \"Innlandet\", \"Agder\", \"Viken\", \"Oslo\"], \"yaxis\": \"y\", \"type\": \"bar\"}, {\"alignmentgroup\": \"True\", \"hoverlabel\": {\"namelength\": 0}, \"hovertemplate\": \"RHF=Helse Vest<br>Dato=17 Mar<br>Smittede/tusen innb=%{x}<br>Fylke=%{y}<br>txt=%{text}\", \"ids\": [\"Vestland\", \"Rogaland\"], \"legendgroup\": \"Helse Vest\", \"marker\": {\"color\": \"#ab63fa\"}, \"name\": \"Helse Vest\", \"offsetgroup\": \"Helse Vest\", \"orientation\": \"h\", \"showlegend\": true, \"text\": [\"0.22\", \"0.31\"], \"textposition\": \"auto\", \"x\": [0.2215131706075588, 0.3125703283238729], \"xaxis\": \"x\", \"y\": [\"Vestland\", \"Rogaland\"], \"yaxis\": \"y\", \"type\": \"bar\"}], \"name\": \"17 Mar\"}, {\"data\": [{\"alignmentgroup\": \"True\", \"hoverlabel\": {\"namelength\": 0}, \"hovertemplate\": \"RHF=Helse Midt-Norge<br>Dato=18 Mar<br>Smittede/tusen innb=%{x}<br>Fylke=%{y}<br>txt=%{text}\", \"ids\": [\"Tr\\u00f8ndelag\", \"M\\u00f8re og Romsdal\"], \"legendgroup\": \"Helse Midt-Norge\", \"marker\": {\"color\": \"#636efa\"}, \"name\": \"Helse Midt-Norge\", \"offsetgroup\": \"Helse Midt-Norge\", \"orientation\": \"h\", \"showlegend\": true, \"text\": [\"0.15\", \"0.08\"], \"textposition\": \"auto\", \"x\": [0.14934862663270052, 0.07540397680573674], \"xaxis\": \"x\", \"y\": [\"Tr\\u00f8ndelag\", \"M\\u00f8re og Romsdal\"], \"yaxis\": \"y\", \"type\": \"bar\"}, {\"alignmentgroup\": \"True\", \"hoverlabel\": {\"namelength\": 0}, \"hovertemplate\": \"RHF=Helse Nord<br>Dato=18 Mar<br>Smittede/tusen innb=%{x}<br>Fylke=%{y}<br>txt=%{text}\", \"ids\": [\"Nordland\", \"Troms og Finnmark\"], \"legendgroup\": \"Helse Nord\", \"marker\": {\"color\": \"#EF553B\"}, \"name\": \"Helse Nord\", \"offsetgroup\": \"Helse Nord\", \"orientation\": \"h\", \"showlegend\": true, \"text\": [\"0.05\", \"0.12\"], \"textposition\": \"auto\", \"x\": [0.04974402553526644, 0.11507905520095679], \"xaxis\": \"x\", \"y\": [\"Nordland\", \"Troms og Finnmark\"], \"yaxis\": \"y\", \"type\": \"bar\"}, {\"alignmentgroup\": \"True\", \"hoverlabel\": {\"namelength\": 0}, \"hovertemplate\": \"RHF=Helse S\\u00f8r-\\u00d8st<br>Dato=18 Mar<br>Smittede/tusen innb=%{x}<br>Fylke=%{y}<br>txt=%{text}\", \"ids\": [\"Innlandet\", \"Oslo\", \"Vestfold og Telemark\", \"Agder\", \"Viken\"], \"legendgroup\": \"Helse S\\u00f8r-\\u00d8st\", \"marker\": {\"color\": \"#00cc96\"}, \"name\": \"Helse S\\u00f8r-\\u00d8st\", \"offsetgroup\": \"Helse S\\u00f8r-\\u00d8st\", \"orientation\": \"h\", \"showlegend\": true, \"text\": [\"0.26\", \"0.5\", \"0.15\", \"0.22\", \"0.33\"], \"textposition\": \"auto\", \"x\": [0.2611844851030602, 0.5018067928489648, 0.15021602495016642, 0.21807695187009124, 0.33033480641171803], \"xaxis\": \"x\", \"y\": [\"Innlandet\", \"Oslo\", \"Vestfold og Telemark\", \"Agder\", \"Viken\"], \"yaxis\": \"y\", \"type\": \"bar\"}, {\"alignmentgroup\": \"True\", \"hoverlabel\": {\"namelength\": 0}, \"hovertemplate\": \"RHF=Helse Vest<br>Dato=18 Mar<br>Smittede/tusen innb=%{x}<br>Fylke=%{y}<br>txt=%{text}\", \"ids\": [\"Vestland\", \"Rogaland\"], \"legendgroup\": \"Helse Vest\", \"marker\": {\"color\": \"#ab63fa\"}, \"name\": \"Helse Vest\", \"offsetgroup\": \"Helse Vest\", \"orientation\": \"h\", \"showlegend\": true, \"text\": [\"0.23\", \"0.34\"], \"textposition\": \"auto\", \"x\": [0.2309392629738379, 0.33549215240095687], \"xaxis\": \"x\", \"y\": [\"Vestland\", \"Rogaland\"], \"yaxis\": \"y\", \"type\": \"bar\"}], \"name\": \"18 Mar\"}, {\"data\": [{\"alignmentgroup\": \"True\", \"hoverlabel\": {\"namelength\": 0}, \"hovertemplate\": \"RHF=Helse Midt-Norge<br>Dato=19 Mar<br>Smittede/tusen innb=%{x}<br>Fylke=%{y}<br>txt=%{text}\", \"ids\": [\"M\\u00f8re og Romsdal\", \"Tr\\u00f8ndelag\"], \"legendgroup\": \"Helse Midt-Norge\", \"marker\": {\"color\": \"#636efa\"}, \"name\": \"Helse Midt-Norge\", \"offsetgroup\": \"Helse Midt-Norge\", \"orientation\": \"h\", \"showlegend\": true, \"text\": [\"0.09\", \"0.16\"], \"textposition\": \"auto\", \"x\": [0.09425497100717092, 0.16001638567789342], \"xaxis\": \"x\", \"y\": [\"M\\u00f8re og Romsdal\", \"Tr\\u00f8ndelag\"], \"yaxis\": \"y\", \"type\": \"bar\"}, {\"alignmentgroup\": \"True\", \"hoverlabel\": {\"namelength\": 0}, \"hovertemplate\": \"RHF=Helse Nord<br>Dato=19 Mar<br>Smittede/tusen innb=%{x}<br>Fylke=%{y}<br>txt=%{text}\", \"ids\": [\"Troms og Finnmark\", \"Nordland\"], \"legendgroup\": \"Helse Nord\", \"marker\": {\"color\": \"#EF553B\"}, \"name\": \"Helse Nord\", \"offsetgroup\": \"Helse Nord\", \"orientation\": \"h\", \"showlegend\": true, \"text\": [\"0.12\", \"0.05\"], \"textposition\": \"auto\", \"x\": [0.11507905520095679, 0.05388936099653864], \"xaxis\": \"x\", \"y\": [\"Troms og Finnmark\", \"Nordland\"], \"yaxis\": \"y\", \"type\": \"bar\"}, {\"alignmentgroup\": \"True\", \"hoverlabel\": {\"namelength\": 0}, \"hovertemplate\": \"RHF=Helse S\\u00f8r-\\u00d8st<br>Dato=19 Mar<br>Smittede/tusen innb=%{x}<br>Fylke=%{y}<br>txt=%{text}\", \"ids\": [\"Agder\", \"Viken\", \"Oslo\", \"Innlandet\", \"Vestfold og Telemark\"], \"legendgroup\": \"Helse S\\u00f8r-\\u00d8st\", \"marker\": {\"color\": \"#00cc96\"}, \"name\": \"Helse S\\u00f8r-\\u00d8st\", \"offsetgroup\": \"Helse S\\u00f8r-\\u00d8st\", \"orientation\": \"h\", \"showlegend\": true, \"text\": [\"0.24\", \"0.36\", \"0.57\", \"0.28\", \"0.15\"], \"textposition\": \"auto\", \"x\": [0.24411599089935587, 0.35853411915418176, 0.5652536287264202, 0.28272547356516825, 0.1549847876469971], \"xaxis\": \"x\", \"y\": [\"Agder\", \"Viken\", \"Oslo\", \"Innlandet\", \"Vestfold og Telemark\"], \"yaxis\": \"y\", \"type\": \"bar\"}, {\"alignmentgroup\": \"True\", \"hoverlabel\": {\"namelength\": 0}, \"hovertemplate\": \"RHF=Helse Vest<br>Dato=19 Mar<br>Smittede/tusen innb=%{x}<br>Fylke=%{y}<br>txt=%{text}\", \"ids\": [\"Vestland\", \"Rogaland\"], \"legendgroup\": \"Helse Vest\", \"marker\": {\"color\": \"#ab63fa\"}, \"name\": \"Helse Vest\", \"offsetgroup\": \"Helse Vest\", \"orientation\": \"h\", \"showlegend\": true, \"text\": [\"0.24\", \"0.37\"], \"textposition\": \"auto\", \"x\": [0.240365355340117, 0.36674918523334415], \"xaxis\": \"x\", \"y\": [\"Vestland\", \"Rogaland\"], \"yaxis\": \"y\", \"type\": \"bar\"}], \"name\": \"19 Mar\"}, {\"data\": [{\"alignmentgroup\": \"True\", \"hoverlabel\": {\"namelength\": 0}, \"hovertemplate\": \"RHF=Helse Midt-Norge<br>Dato=20 Mar<br>Smittede/tusen innb=%{x}<br>Fylke=%{y}<br>txt=%{text}\", \"ids\": [\"Tr\\u00f8ndelag\", \"M\\u00f8re og Romsdal\"], \"legendgroup\": \"Helse Midt-Norge\", \"marker\": {\"color\": \"#636efa\"}, \"name\": \"Helse Midt-Norge\", \"offsetgroup\": \"Helse Midt-Norge\", \"orientation\": \"h\", \"showlegend\": true, \"text\": [\"0.21\", \"0.11\"], \"textposition\": \"auto\", \"x\": [0.20695452547674215, 0.10933576636831827], \"xaxis\": \"x\", \"y\": [\"Tr\\u00f8ndelag\", \"M\\u00f8re og Romsdal\"], \"yaxis\": \"y\", \"type\": \"bar\"}, {\"alignmentgroup\": \"True\", \"hoverlabel\": {\"namelength\": 0}, \"hovertemplate\": \"RHF=Helse Nord<br>Dato=20 Mar<br>Smittede/tusen innb=%{x}<br>Fylke=%{y}<br>txt=%{text}\", \"ids\": [\"Troms og Finnmark\", \"Nordland\"], \"legendgroup\": \"Helse Nord\", \"marker\": {\"color\": \"#EF553B\"}, \"name\": \"Helse Nord\", \"offsetgroup\": \"Helse Nord\", \"orientation\": \"h\", \"showlegend\": true, \"text\": [\"0.13\", \"0.07\"], \"textposition\": \"auto\", \"x\": [0.1315189202296649, 0.07047070284162746], \"xaxis\": \"x\", \"y\": [\"Troms og Finnmark\", \"Nordland\"], \"yaxis\": \"y\", \"type\": \"bar\"}, {\"alignmentgroup\": \"True\", \"hoverlabel\": {\"namelength\": 0}, \"hovertemplate\": \"RHF=Helse S\\u00f8r-\\u00d8st<br>Dato=20 Mar<br>Smittede/tusen innb=%{x}<br>Fylke=%{y}<br>txt=%{text}\", \"ids\": [\"Innlandet\", \"Oslo\", \"Viken\", \"Agder\", \"Vestfold og Telemark\"], \"legendgroup\": \"Helse S\\u00f8r-\\u00d8st\", \"marker\": {\"color\": \"#00cc96\"}, \"name\": \"Helse S\\u00f8r-\\u00d8st\", \"offsetgroup\": \"Helse S\\u00f8r-\\u00d8st\", \"orientation\": \"h\", \"showlegend\": true, \"text\": [\"0.31\", \"0.6\", \"0.43\", \"0.26\", \"0.17\"], \"textposition\": \"auto\", \"x\": [0.3096517091428033, 0.6041869143784949, 0.4262124697360947, 0.2571355104139882, 0.17167545708590448], \"xaxis\": \"x\", \"y\": [\"Innlandet\", \"Oslo\", \"Viken\", \"Agder\", \"Vestfold og Telemark\"], \"yaxis\": \"y\", \"type\": \"bar\"}, {\"alignmentgroup\": \"True\", \"hoverlabel\": {\"namelength\": 0}, \"hovertemplate\": \"RHF=Helse Vest<br>Dato=20 Mar<br>Smittede/tusen innb=%{x}<br>Fylke=%{y}<br>txt=%{text}\", \"ids\": [\"Vestland\", \"Rogaland\"], \"legendgroup\": \"Helse Vest\", \"marker\": {\"color\": \"#ab63fa\"}, \"name\": \"Helse Vest\", \"offsetgroup\": \"Helse Vest\", \"orientation\": \"h\", \"showlegend\": true, \"text\": [\"0.27\", \"0.38\"], \"textposition\": \"auto\", \"x\": [0.27178566322771397, 0.37508439398864746], \"xaxis\": \"x\", \"y\": [\"Vestland\", \"Rogaland\"], \"yaxis\": \"y\", \"type\": \"bar\"}], \"name\": \"20 Mar\"}, {\"data\": [{\"alignmentgroup\": \"True\", \"hoverlabel\": {\"namelength\": 0}, \"hovertemplate\": \"RHF=Helse Midt-Norge<br>Dato=21 Mar<br>Smittede/tusen innb=%{x}<br>Fylke=%{y}<br>txt=%{text}\", \"ids\": [\"Tr\\u00f8ndelag\", \"M\\u00f8re og Romsdal\"], \"legendgroup\": \"Helse Midt-Norge\", \"marker\": {\"color\": \"#636efa\"}, \"name\": \"Helse Midt-Norge\", \"offsetgroup\": \"Helse Midt-Norge\", \"orientation\": \"h\", \"showlegend\": true, \"text\": [\"0.26\", \"0.12\"], \"textposition\": \"auto\", \"x\": [0.2602933207027066, 0.12064636288917878], \"xaxis\": \"x\", \"y\": [\"Tr\\u00f8ndelag\", \"M\\u00f8re og Romsdal\"], \"yaxis\": \"y\", \"type\": \"bar\"}, {\"alignmentgroup\": \"True\", \"hoverlabel\": {\"namelength\": 0}, \"hovertemplate\": \"RHF=Helse Nord<br>Dato=21 Mar<br>Smittede/tusen innb=%{x}<br>Fylke=%{y}<br>txt=%{text}\", \"ids\": [\"Nordland\", \"Troms og Finnmark\"], \"legendgroup\": \"Helse Nord\", \"marker\": {\"color\": \"#EF553B\"}, \"name\": \"Helse Nord\", \"offsetgroup\": \"Helse Nord\", \"orientation\": \"h\", \"showlegend\": true, \"text\": [\"0.07\", \"0.15\"], \"textposition\": \"auto\", \"x\": [0.07047070284162746, 0.15206875151555005], \"xaxis\": \"x\", \"y\": [\"Nordland\", \"Troms og Finnmark\"], \"yaxis\": \"y\", \"type\": \"bar\"}, {\"alignmentgroup\": \"True\", \"hoverlabel\": {\"namelength\": 0}, \"hovertemplate\": \"RHF=Helse S\\u00f8r-\\u00d8st<br>Dato=21 Mar<br>Smittede/tusen innb=%{x}<br>Fylke=%{y}<br>txt=%{text}\", \"ids\": [\"Agder\", \"Oslo\", \"Vestfold og Telemark\", \"Innlandet\", \"Viken\"], \"legendgroup\": \"Helse S\\u00f8r-\\u00d8st\", \"marker\": {\"color\": \"#00cc96\"}, \"name\": \"Helse S\\u00f8r-\\u00d8st\", \"offsetgroup\": \"Helse S\\u00f8r-\\u00d8st\", \"orientation\": \"h\", \"showlegend\": true, \"text\": [\"0.27\", \"0.65\", \"0.19\", \"0.34\", \"0.47\"], \"textposition\": \"auto\", \"x\": [0.2669001500499624, 0.6460041471159087, 0.19313488922164254, 0.3365779447204384, 0.46971998082446736], \"xaxis\": \"x\", \"y\": [\"Agder\", \"Oslo\", \"Vestfold og Telemark\", \"Innlandet\", \"Viken\"], \"yaxis\": \"y\", \"type\": \"bar\"}, {\"alignmentgroup\": \"True\", \"hoverlabel\": {\"namelength\": 0}, \"hovertemplate\": \"RHF=Helse Vest<br>Dato=21 Mar<br>Smittede/tusen innb=%{x}<br>Fylke=%{y}<br>txt=%{text}\", \"ids\": [\"Vestland\", \"Rogaland\"], \"legendgroup\": \"Helse Vest\", \"marker\": {\"color\": \"#ab63fa\"}, \"name\": \"Helse Vest\", \"offsetgroup\": \"Helse Vest\", \"orientation\": \"h\", \"showlegend\": true, \"text\": [\"0.31\", \"0.41\"], \"textposition\": \"auto\", \"x\": [0.31420307887596993, 0.414676635576338], \"xaxis\": \"x\", \"y\": [\"Vestland\", \"Rogaland\"], \"yaxis\": \"y\", \"type\": \"bar\"}], \"name\": \"21 Mar\"}, {\"data\": [{\"alignmentgroup\": \"True\", \"hoverlabel\": {\"namelength\": 0}, \"hovertemplate\": \"RHF=Helse Midt-Norge<br>Dato=22 Mar<br>Smittede/tusen innb=%{x}<br>Fylke=%{y}<br>txt=%{text}\", \"ids\": [\"M\\u00f8re og Romsdal\", \"Tr\\u00f8ndelag\"], \"legendgroup\": \"Helse Midt-Norge\", \"marker\": {\"color\": \"#636efa\"}, \"name\": \"Helse Midt-Norge\", \"offsetgroup\": \"Helse Midt-Norge\", \"orientation\": \"h\", \"showlegend\": true, \"text\": [\"0.14\", \"0.28\"], \"textposition\": \"auto\", \"x\": [0.1432675559308998, 0.27949528698405385], \"xaxis\": \"x\", \"y\": [\"M\\u00f8re og Romsdal\", \"Tr\\u00f8ndelag\"], \"yaxis\": \"y\", \"type\": \"bar\"}, {\"alignmentgroup\": \"True\", \"hoverlabel\": {\"namelength\": 0}, \"hovertemplate\": \"RHF=Helse Nord<br>Dato=22 Mar<br>Smittede/tusen innb=%{x}<br>Fylke=%{y}<br>txt=%{text}\", \"ids\": [\"Nordland\", \"Troms og Finnmark\"], \"legendgroup\": \"Helse Nord\", \"marker\": {\"color\": \"#EF553B\"}, \"name\": \"Helse Nord\", \"offsetgroup\": \"Helse Nord\", \"orientation\": \"h\", \"showlegend\": true, \"text\": [\"0.08\", \"0.2\"], \"textposition\": \"auto\", \"x\": [0.07876137376417186, 0.2013883466016744], \"xaxis\": \"x\", \"y\": [\"Nordland\", \"Troms og Finnmark\"], \"yaxis\": \"y\", \"type\": \"bar\"}, {\"alignmentgroup\": \"True\", \"hoverlabel\": {\"namelength\": 0}, \"hovertemplate\": \"RHF=Helse S\\u00f8r-\\u00d8st<br>Dato=22 Mar<br>Smittede/tusen innb=%{x}<br>Fylke=%{y}<br>txt=%{text}\", \"ids\": [\"Vestfold og Telemark\", \"Agder\", \"Oslo\", \"Innlandet\", \"Viken\"], \"legendgroup\": \"Helse S\\u00f8r-\\u00d8st\", \"marker\": {\"color\": \"#00cc96\"}, \"name\": \"Helse S\\u00f8r-\\u00d8st\", \"offsetgroup\": \"Helse S\\u00f8r-\\u00d8st\", \"orientation\": \"h\", \"showlegend\": true, \"text\": [\"0.2\", \"0.3\", \"0.75\", \"0.4\", \"0.5\"], \"textposition\": \"auto\", \"x\": [0.20267241461530391, 0.29619406895788514, 0.7541521628161166, 0.398508286548999, 0.49550220961757707], \"xaxis\": \"x\", \"y\": [\"Vestfold og Telemark\", \"Agder\", \"Oslo\", \"Innlandet\", \"Viken\"], \"yaxis\": \"y\", \"type\": \"bar\"}, {\"alignmentgroup\": \"True\", \"hoverlabel\": {\"namelength\": 0}, \"hovertemplate\": \"RHF=Helse Vest<br>Dato=22 Mar<br>Smittede/tusen innb=%{x}<br>Fylke=%{y}<br>txt=%{text}\", \"ids\": [\"Rogaland\", \"Vestland\"], \"legendgroup\": \"Helse Vest\", \"marker\": {\"color\": \"#ab63fa\"}, \"name\": \"Helse Vest\", \"offsetgroup\": \"Helse Vest\", \"orientation\": \"h\", \"showlegend\": true, \"text\": [\"0.46\", \"0.34\"], \"textposition\": \"auto\", \"x\": [0.4563526793528544, 0.33619729439728785], \"xaxis\": \"x\", \"y\": [\"Rogaland\", \"Vestland\"], \"yaxis\": \"y\", \"type\": \"bar\"}], \"name\": \"22 Mar\"}]);\n",
       "                        }).then(function(){\n",
       "                            \n",
       "var gd = document.getElementById('26d967d3-1c8c-4246-b663-e2927a289c2b');\n",
       "var x = new MutationObserver(function (mutations, observer) {{\n",
       "        var display = window.getComputedStyle(gd).display;\n",
       "        if (!display || display === 'none') {{\n",
       "            console.log([gd, 'removed!']);\n",
       "            Plotly.purge(gd);\n",
       "            observer.disconnect();\n",
       "        }}\n",
       "}});\n",
       "\n",
       "// Listen for the removal of the full notebook cells\n",
       "var notebookContainer = gd.closest('#notebook-container');\n",
       "if (notebookContainer) {{\n",
       "    x.observe(notebookContainer, {childList: true});\n",
       "}}\n",
       "\n",
       "// Listen for the clearing of the current output cell\n",
       "var outputEl = gd.closest('.output');\n",
       "if (outputEl) {{\n",
       "    x.observe(outputEl, {childList: true});\n",
       "}}\n",
       "\n",
       "                        })\n",
       "                };\n",
       "                });\n",
       "            </script>\n",
       "        </div>"
      ]
     },
     "metadata": {},
     "output_type": "display_data"
    }
   ],
   "source": [
    "legend = [i for i in vekst[\"RHF\"].unique()]\n",
    "legend.sort()\n",
    "\n",
    "fig = px.bar(melted, \n",
    "             x='Smittede/tusen innb', y='Fylke', animation_frame=\"variable\",\n",
    "             animation_group=\"Fylke\",\n",
    "             orientation='h',\n",
    "             category_orders={\"RHF\": legend},\n",
    "             labels = {\"Veksttakt\": \"daglig vekst (%)\", \"variable\": \"Dato\"},\n",
    "             color='RHF',\n",
    "             text=\"txt\",\n",
    "             height=600,\n",
    "             title = \"<b>COVID19: Registrert smittet i Norge</b><br>Antall smittet per 1 000 innbyggere<br>Datakilde: FHI - folkehelseinstituttet. Oppdatert \" +datetime.today().strftime('%d.%m.%Y'),\n",
    "             template = \"plotly_white\",\n",
    "             range_x=[0,0.8]\n",
    "                 ).update_yaxes(categoryorder=\"total ascending\")\n",
    "\n",
    "fig.layout.coloraxis.showscale = False\n",
    "\n",
    "fig.update_layout(\n",
    "    yaxis=dict(\n",
    "        separatethousands=True,\n",
    "        categoryorder = 'total ascending',\n",
    "        title_text=\"\",\n",
    "        fixedrange=True,\n",
    "    ), xaxis=dict(fixedrange=True,\n",
    "                 title_text=\"per 1 000\"),\n",
    "    title_font=dict(family=\"Helvetica\", size=18),\n",
    "        margin=dict(b=150)) #bottom margin\n",
    "\n",
    "fig.update_layout(autosize=True,\n",
    "    margin=dict(l=100, r=100, t=150, b=0),\n",
    "    paper_bgcolor='rgba(0, 0, 0, 0)'\n",
    "    #plot_bgcolor='rgb(248, 248, 255)'    \n",
    "                 )\n",
    "\n",
    "py.plot(fig, filename='COVID19_per_capita_fylkesutvikling_animation.html')\n",
    "fig.show()"
   ]
  },
  {
   "cell_type": "code",
   "execution_count": null,
   "metadata": {},
   "outputs": [],
   "source": []
  },
  {
   "cell_type": "code",
   "execution_count": null,
   "metadata": {},
   "outputs": [],
   "source": []
  },
  {
   "cell_type": "code",
   "execution_count": null,
   "metadata": {},
   "outputs": [],
   "source": []
  }
 ],
 "metadata": {
  "kernelspec": {
   "display_name": "Python 3",
   "language": "python",
   "name": "python3"
  },
  "language_info": {
   "codemirror_mode": {
    "name": "ipython",
    "version": 3
   },
   "file_extension": ".py",
   "mimetype": "text/x-python",
   "name": "python",
   "nbconvert_exporter": "python",
   "pygments_lexer": "ipython3",
   "version": "3.7.4"
  }
 },
 "nbformat": 4,
 "nbformat_minor": 2
}
