{
 "cells": [
  {
   "cell_type": "code",
   "execution_count": 37,
   "metadata": {},
   "outputs": [],
   "source": [
    "import pandas as pd\n",
    "import numpy as np\n",
    "import plotly\n",
    "import chart_studio.plotly as py\n",
    "import chart_studio\n",
    "import matplotlib.pyplot as plt\n",
    "\n",
    "chart_studio.tools.set_credentials_file(username='oystein.nerva', api_key='0ODcZ6UisJ8n0AjEQt9N')"
   ]
  },
  {
   "cell_type": "code",
   "execution_count": 303,
   "metadata": {},
   "outputs": [
    {
     "data": {
      "text/html": [
       "<div>\n",
       "<style scoped>\n",
       "    .dataframe tbody tr th:only-of-type {\n",
       "        vertical-align: middle;\n",
       "    }\n",
       "\n",
       "    .dataframe tbody tr th {\n",
       "        vertical-align: top;\n",
       "    }\n",
       "\n",
       "    .dataframe thead th {\n",
       "        text-align: right;\n",
       "    }\n",
       "</style>\n",
       "<table border=\"1\" class=\"dataframe\">\n",
       "  <thead>\n",
       "    <tr style=\"text-align: right;\">\n",
       "      <th></th>\n",
       "      <th>Fylke</th>\n",
       "      <th>2020-03-09</th>\n",
       "      <th>2020-03-10</th>\n",
       "      <th>2020-03-11</th>\n",
       "      <th>2020-03-12</th>\n",
       "      <th>2020-03-13</th>\n",
       "      <th>2020-03-14</th>\n",
       "      <th>2020-03-15</th>\n",
       "      <th>2020-03-16</th>\n",
       "      <th>2020-03-17</th>\n",
       "      <th>2020-03-18</th>\n",
       "      <th>2020-03-19</th>\n",
       "    </tr>\n",
       "  </thead>\n",
       "  <tbody>\n",
       "    <tr>\n",
       "      <td>0</td>\n",
       "      <td>Agder</td>\n",
       "      <td>19</td>\n",
       "      <td>19</td>\n",
       "      <td>20</td>\n",
       "      <td>32</td>\n",
       "      <td>34</td>\n",
       "      <td>52</td>\n",
       "      <td>55</td>\n",
       "      <td>67</td>\n",
       "      <td>67</td>\n",
       "      <td>67</td>\n",
       "      <td>75</td>\n",
       "    </tr>\n",
       "    <tr>\n",
       "      <td>1</td>\n",
       "      <td>Innlandet</td>\n",
       "      <td>16</td>\n",
       "      <td>16</td>\n",
       "      <td>23</td>\n",
       "      <td>40</td>\n",
       "      <td>49</td>\n",
       "      <td>57</td>\n",
       "      <td>72</td>\n",
       "      <td>81</td>\n",
       "      <td>88</td>\n",
       "      <td>97</td>\n",
       "      <td>105</td>\n",
       "    </tr>\n",
       "    <tr>\n",
       "      <td>2</td>\n",
       "      <td>Møre og Romsdal</td>\n",
       "      <td>5</td>\n",
       "      <td>5</td>\n",
       "      <td>7</td>\n",
       "      <td>6</td>\n",
       "      <td>7</td>\n",
       "      <td>16</td>\n",
       "      <td>20</td>\n",
       "      <td>20</td>\n",
       "      <td>20</td>\n",
       "      <td>20</td>\n",
       "      <td>25</td>\n",
       "    </tr>\n",
       "    <tr>\n",
       "      <td>3</td>\n",
       "      <td>Nordland</td>\n",
       "      <td>3</td>\n",
       "      <td>3</td>\n",
       "      <td>3</td>\n",
       "      <td>4</td>\n",
       "      <td>5</td>\n",
       "      <td>8</td>\n",
       "      <td>8</td>\n",
       "      <td>11</td>\n",
       "      <td>11</td>\n",
       "      <td>12</td>\n",
       "      <td>13</td>\n",
       "    </tr>\n",
       "    <tr>\n",
       "      <td>4</td>\n",
       "      <td>Oslo</td>\n",
       "      <td>51</td>\n",
       "      <td>51</td>\n",
       "      <td>123</td>\n",
       "      <td>166</td>\n",
       "      <td>207</td>\n",
       "      <td>222</td>\n",
       "      <td>281</td>\n",
       "      <td>292</td>\n",
       "      <td>329</td>\n",
       "      <td>348</td>\n",
       "      <td>392</td>\n",
       "    </tr>\n",
       "    <tr>\n",
       "      <td>5</td>\n",
       "      <td>Rogaland</td>\n",
       "      <td>33</td>\n",
       "      <td>33</td>\n",
       "      <td>71</td>\n",
       "      <td>82</td>\n",
       "      <td>105</td>\n",
       "      <td>119</td>\n",
       "      <td>127</td>\n",
       "      <td>131</td>\n",
       "      <td>150</td>\n",
       "      <td>161</td>\n",
       "      <td>176</td>\n",
       "    </tr>\n",
       "    <tr>\n",
       "      <td>6</td>\n",
       "      <td>Troms og Finnmark</td>\n",
       "      <td>6</td>\n",
       "      <td>6</td>\n",
       "      <td>7</td>\n",
       "      <td>11</td>\n",
       "      <td>12</td>\n",
       "      <td>16</td>\n",
       "      <td>20</td>\n",
       "      <td>21</td>\n",
       "      <td>24</td>\n",
       "      <td>28</td>\n",
       "      <td>28</td>\n",
       "    </tr>\n",
       "    <tr>\n",
       "      <td>7</td>\n",
       "      <td>Trøndelag</td>\n",
       "      <td>22</td>\n",
       "      <td>22</td>\n",
       "      <td>25</td>\n",
       "      <td>37</td>\n",
       "      <td>43</td>\n",
       "      <td>46</td>\n",
       "      <td>50</td>\n",
       "      <td>52</td>\n",
       "      <td>61</td>\n",
       "      <td>70</td>\n",
       "      <td>75</td>\n",
       "    </tr>\n",
       "    <tr>\n",
       "      <td>8</td>\n",
       "      <td>Vestfold og Telemark</td>\n",
       "      <td>5</td>\n",
       "      <td>5</td>\n",
       "      <td>15</td>\n",
       "      <td>22</td>\n",
       "      <td>30</td>\n",
       "      <td>39</td>\n",
       "      <td>48</td>\n",
       "      <td>53</td>\n",
       "      <td>59</td>\n",
       "      <td>63</td>\n",
       "      <td>65</td>\n",
       "    </tr>\n",
       "    <tr>\n",
       "      <td>9</td>\n",
       "      <td>Vestland</td>\n",
       "      <td>31</td>\n",
       "      <td>31</td>\n",
       "      <td>41</td>\n",
       "      <td>67</td>\n",
       "      <td>78</td>\n",
       "      <td>101</td>\n",
       "      <td>118</td>\n",
       "      <td>127</td>\n",
       "      <td>141</td>\n",
       "      <td>147</td>\n",
       "      <td>153</td>\n",
       "    </tr>\n",
       "    <tr>\n",
       "      <td>10</td>\n",
       "      <td>Viken</td>\n",
       "      <td>86</td>\n",
       "      <td>86</td>\n",
       "      <td>124</td>\n",
       "      <td>154</td>\n",
       "      <td>180</td>\n",
       "      <td>231</td>\n",
       "      <td>278</td>\n",
       "      <td>314</td>\n",
       "      <td>358</td>\n",
       "      <td>410</td>\n",
       "      <td>445</td>\n",
       "    </tr>\n",
       "  </tbody>\n",
       "</table>\n",
       "</div>"
      ],
      "text/plain": [
       "                   Fylke  2020-03-09  2020-03-10  2020-03-11  2020-03-12  \\\n",
       "0                  Agder          19          19          20          32   \n",
       "1              Innlandet          16          16          23          40   \n",
       "2        Møre og Romsdal           5           5           7           6   \n",
       "3               Nordland           3           3           3           4   \n",
       "4                   Oslo          51          51         123         166   \n",
       "5               Rogaland          33          33          71          82   \n",
       "6      Troms og Finnmark           6           6           7          11   \n",
       "7              Trøndelag          22          22          25          37   \n",
       "8   Vestfold og Telemark           5           5          15          22   \n",
       "9               Vestland          31          31          41          67   \n",
       "10                 Viken          86          86         124         154   \n",
       "\n",
       "    2020-03-13  2020-03-14  2020-03-15  2020-03-16  2020-03-17  2020-03-18  \\\n",
       "0           34          52          55          67          67          67   \n",
       "1           49          57          72          81          88          97   \n",
       "2            7          16          20          20          20          20   \n",
       "3            5           8           8          11          11          12   \n",
       "4          207         222         281         292         329         348   \n",
       "5          105         119         127         131         150         161   \n",
       "6           12          16          20          21          24          28   \n",
       "7           43          46          50          52          61          70   \n",
       "8           30          39          48          53          59          63   \n",
       "9           78         101         118         127         141         147   \n",
       "10         180         231         278         314         358         410   \n",
       "\n",
       "    2020-03-19  \n",
       "0           75  \n",
       "1          105  \n",
       "2           25  \n",
       "3           13  \n",
       "4          392  \n",
       "5          176  \n",
       "6           28  \n",
       "7           75  \n",
       "8           65  \n",
       "9          153  \n",
       "10         445  "
      ]
     },
     "execution_count": 303,
     "metadata": {},
     "output_type": "execute_result"
    }
   ],
   "source": [
    "url = \"https://github.com/NRVA/COVID19_Norge/raw/master/COVID19_fhi_data_fylke.csv\"\n",
    "data = pd.read_csv(url, sep=';')\n",
    "data"
   ]
  },
  {
   "cell_type": "code",
   "execution_count": 319,
   "metadata": {},
   "outputs": [
    {
     "data": {
      "text/html": [
       "<div>\n",
       "<style scoped>\n",
       "    .dataframe tbody tr th:only-of-type {\n",
       "        vertical-align: middle;\n",
       "    }\n",
       "\n",
       "    .dataframe tbody tr th {\n",
       "        vertical-align: top;\n",
       "    }\n",
       "\n",
       "    .dataframe thead th {\n",
       "        text-align: right;\n",
       "    }\n",
       "</style>\n",
       "<table border=\"1\" class=\"dataframe\">\n",
       "  <thead>\n",
       "    <tr style=\"text-align: right;\">\n",
       "      <th></th>\n",
       "      <th>Fylke</th>\n",
       "      <th>RHF</th>\n",
       "      <th>Befolkning</th>\n",
       "    </tr>\n",
       "  </thead>\n",
       "  <tbody>\n",
       "    <tr>\n",
       "      <td>0</td>\n",
       "      <td>Agder</td>\n",
       "      <td>Helse Sør-Øst</td>\n",
       "      <td>307231</td>\n",
       "    </tr>\n",
       "    <tr>\n",
       "      <td>1</td>\n",
       "      <td>Innlandet</td>\n",
       "      <td>Helse Sør-Øst</td>\n",
       "      <td>371385</td>\n",
       "    </tr>\n",
       "    <tr>\n",
       "      <td>2</td>\n",
       "      <td>Møre og Romsdal</td>\n",
       "      <td>Helse Midt-Norge</td>\n",
       "      <td>265238</td>\n",
       "    </tr>\n",
       "    <tr>\n",
       "      <td>3</td>\n",
       "      <td>Nordland</td>\n",
       "      <td>Helse Nord</td>\n",
       "      <td>241235</td>\n",
       "    </tr>\n",
       "    <tr>\n",
       "      <td>4</td>\n",
       "      <td>Oslo</td>\n",
       "      <td>Helse Sør-Øst</td>\n",
       "      <td>693494</td>\n",
       "    </tr>\n",
       "    <tr>\n",
       "      <td>5</td>\n",
       "      <td>Rogaland</td>\n",
       "      <td>Helse Vest</td>\n",
       "      <td>479892</td>\n",
       "    </tr>\n",
       "    <tr>\n",
       "      <td>6</td>\n",
       "      <td>Troms og Finnmark</td>\n",
       "      <td>Helse Nord</td>\n",
       "      <td>243311</td>\n",
       "    </tr>\n",
       "    <tr>\n",
       "      <td>7</td>\n",
       "      <td>Trøndelag</td>\n",
       "      <td>Helse Midt-Norge</td>\n",
       "      <td>468702</td>\n",
       "    </tr>\n",
       "    <tr>\n",
       "      <td>8</td>\n",
       "      <td>Vestfold og Telemark</td>\n",
       "      <td>Helse Sør-Øst</td>\n",
       "      <td>419396</td>\n",
       "    </tr>\n",
       "    <tr>\n",
       "      <td>9</td>\n",
       "      <td>Vestland</td>\n",
       "      <td>Helse Vest</td>\n",
       "      <td>636531</td>\n",
       "    </tr>\n",
       "    <tr>\n",
       "      <td>10</td>\n",
       "      <td>Viken</td>\n",
       "      <td>Helse Sør-Øst</td>\n",
       "      <td>1241165</td>\n",
       "    </tr>\n",
       "  </tbody>\n",
       "</table>\n",
       "</div>"
      ],
      "text/plain": [
       "                   Fylke               RHF  Befolkning\n",
       "0                  Agder     Helse Sør-Øst      307231\n",
       "1              Innlandet     Helse Sør-Øst      371385\n",
       "2        Møre og Romsdal  Helse Midt-Norge      265238\n",
       "3               Nordland        Helse Nord      241235\n",
       "4                   Oslo     Helse Sør-Øst      693494\n",
       "5               Rogaland        Helse Vest      479892\n",
       "6      Troms og Finnmark        Helse Nord      243311\n",
       "7              Trøndelag  Helse Midt-Norge      468702\n",
       "8   Vestfold og Telemark     Helse Sør-Øst      419396\n",
       "9               Vestland        Helse Vest      636531\n",
       "10                 Viken     Helse Sør-Øst     1241165"
      ]
     },
     "execution_count": 319,
     "metadata": {},
     "output_type": "execute_result"
    }
   ],
   "source": [
    "url = \"https://github.com/NRVA/COVID19_Norge/raw/master/Fylkestilhorighet_2020.csv\"\n",
    "fylker = pd.read_csv(url, sep=';')\n",
    "fylker"
   ]
  },
  {
   "cell_type": "code",
   "execution_count": 154,
   "metadata": {},
   "outputs": [
    {
     "data": {
      "text/html": [
       "<div>\n",
       "<style scoped>\n",
       "    .dataframe tbody tr th:only-of-type {\n",
       "        vertical-align: middle;\n",
       "    }\n",
       "\n",
       "    .dataframe tbody tr th {\n",
       "        vertical-align: top;\n",
       "    }\n",
       "\n",
       "    .dataframe thead th {\n",
       "        text-align: right;\n",
       "    }\n",
       "</style>\n",
       "<table border=\"1\" class=\"dataframe\">\n",
       "  <thead>\n",
       "    <tr style=\"text-align: right;\">\n",
       "      <th>Fylke</th>\n",
       "      <th>Agder</th>\n",
       "      <th>Innlandet</th>\n",
       "      <th>Møre og Romsdal</th>\n",
       "      <th>Nordland</th>\n",
       "      <th>Oslo</th>\n",
       "      <th>Rogaland</th>\n",
       "      <th>Troms og Finnmark</th>\n",
       "      <th>Trøndelag</th>\n",
       "      <th>Vestfold og Telemark</th>\n",
       "      <th>Vestland</th>\n",
       "      <th>Viken</th>\n",
       "    </tr>\n",
       "    <tr>\n",
       "      <th>variable</th>\n",
       "      <th></th>\n",
       "      <th></th>\n",
       "      <th></th>\n",
       "      <th></th>\n",
       "      <th></th>\n",
       "      <th></th>\n",
       "      <th></th>\n",
       "      <th></th>\n",
       "      <th></th>\n",
       "      <th></th>\n",
       "      <th></th>\n",
       "    </tr>\n",
       "  </thead>\n",
       "  <tbody>\n",
       "    <tr>\n",
       "      <td>2020-03-09</td>\n",
       "      <td>19</td>\n",
       "      <td>16</td>\n",
       "      <td>5</td>\n",
       "      <td>3</td>\n",
       "      <td>51</td>\n",
       "      <td>33</td>\n",
       "      <td>6</td>\n",
       "      <td>22</td>\n",
       "      <td>5</td>\n",
       "      <td>31</td>\n",
       "      <td>86</td>\n",
       "    </tr>\n",
       "    <tr>\n",
       "      <td>2020-03-10</td>\n",
       "      <td>19</td>\n",
       "      <td>16</td>\n",
       "      <td>5</td>\n",
       "      <td>3</td>\n",
       "      <td>51</td>\n",
       "      <td>33</td>\n",
       "      <td>6</td>\n",
       "      <td>22</td>\n",
       "      <td>5</td>\n",
       "      <td>31</td>\n",
       "      <td>86</td>\n",
       "    </tr>\n",
       "    <tr>\n",
       "      <td>2020-03-11</td>\n",
       "      <td>20</td>\n",
       "      <td>23</td>\n",
       "      <td>7</td>\n",
       "      <td>3</td>\n",
       "      <td>123</td>\n",
       "      <td>71</td>\n",
       "      <td>7</td>\n",
       "      <td>25</td>\n",
       "      <td>15</td>\n",
       "      <td>41</td>\n",
       "      <td>124</td>\n",
       "    </tr>\n",
       "    <tr>\n",
       "      <td>2020-03-12</td>\n",
       "      <td>32</td>\n",
       "      <td>40</td>\n",
       "      <td>6</td>\n",
       "      <td>4</td>\n",
       "      <td>166</td>\n",
       "      <td>82</td>\n",
       "      <td>11</td>\n",
       "      <td>37</td>\n",
       "      <td>22</td>\n",
       "      <td>67</td>\n",
       "      <td>154</td>\n",
       "    </tr>\n",
       "    <tr>\n",
       "      <td>2020-03-13</td>\n",
       "      <td>34</td>\n",
       "      <td>49</td>\n",
       "      <td>7</td>\n",
       "      <td>5</td>\n",
       "      <td>207</td>\n",
       "      <td>105</td>\n",
       "      <td>12</td>\n",
       "      <td>43</td>\n",
       "      <td>30</td>\n",
       "      <td>78</td>\n",
       "      <td>180</td>\n",
       "    </tr>\n",
       "  </tbody>\n",
       "</table>\n",
       "</div>"
      ],
      "text/plain": [
       "Fylke       Agder  Innlandet  Møre og Romsdal  Nordland  Oslo  Rogaland  \\\n",
       "variable                                                                  \n",
       "2020-03-09     19         16                5         3    51        33   \n",
       "2020-03-10     19         16                5         3    51        33   \n",
       "2020-03-11     20         23                7         3   123        71   \n",
       "2020-03-12     32         40                6         4   166        82   \n",
       "2020-03-13     34         49                7         5   207       105   \n",
       "\n",
       "Fylke       Troms og Finnmark  Trøndelag  Vestfold og Telemark  Vestland  \\\n",
       "variable                                                                   \n",
       "2020-03-09                  6         22                     5        31   \n",
       "2020-03-10                  6         22                     5        31   \n",
       "2020-03-11                  7         25                    15        41   \n",
       "2020-03-12                 11         37                    22        67   \n",
       "2020-03-13                 12         43                    30        78   \n",
       "\n",
       "Fylke       Viken  \n",
       "variable           \n",
       "2020-03-09     86  \n",
       "2020-03-10     86  \n",
       "2020-03-11    124  \n",
       "2020-03-12    154  \n",
       "2020-03-13    180  "
      ]
     },
     "execution_count": 154,
     "metadata": {},
     "output_type": "execute_result"
    }
   ],
   "source": [
    "df = data.melt(id_vars=['Fylke']).copy()\n",
    "df['variable'] = pd.to_datetime(df['variable'], errors='coerce')\n",
    "df = df.groupby([\"Fylke\", pd.Grouper(key=\"variable\", freq=\"d\")]).max().reset_index()\n",
    "df = df.pivot(index=\"variable\", columns=\"Fylke\", values=\"value\")\n",
    "df.head()"
   ]
  },
  {
   "cell_type": "code",
   "execution_count": 155,
   "metadata": {},
   "outputs": [
    {
     "data": {
      "image/png": "[encoded data removed]",
      "text/plain": [
       "<Figure size 3200x2400 with 12 Axes>"
      ]
     },
     "metadata": {
      "needs_background": "light"
     },
     "output_type": "display_data"
    }
   ],
   "source": [
    "fig = plt.figure(figsize=(16,12), dpi=200, constrained_layout=True)\n",
    "\n",
    "axs = fig.subplots(nrows=4, ncols=3)\n",
    "\n",
    "for i in range(len(df.columns)):\n",
    "    axs.flat[i].plot(df.index, df.iloc[:,i], color='black')\n",
    "    axs.flat[i].get_xaxis().set_ticks([])\n",
    "    axs.flat[i].get_yaxis().set_ticks([])\n",
    "    axs.flat[i].annotate(df.iloc[:,i].name, (0.05, 0.8),xycoords='axes fraction', va='center', ha='left')\n",
    "    \n",
    "fig.savefig('fylker_matrix.png')"
   ]
  },
  {
   "cell_type": "code",
   "execution_count": 156,
   "metadata": {},
   "outputs": [
    {
     "data": {
      "text/html": [
       "<div>\n",
       "<style scoped>\n",
       "    .dataframe tbody tr th:only-of-type {\n",
       "        vertical-align: middle;\n",
       "    }\n",
       "\n",
       "    .dataframe tbody tr th {\n",
       "        vertical-align: top;\n",
       "    }\n",
       "\n",
       "    .dataframe thead th {\n",
       "        text-align: right;\n",
       "    }\n",
       "</style>\n",
       "<table border=\"1\" class=\"dataframe\">\n",
       "  <thead>\n",
       "    <tr style=\"text-align: right;\">\n",
       "      <th></th>\n",
       "      <th>Fylke</th>\n",
       "      <th>variable</th>\n",
       "      <th>0</th>\n",
       "    </tr>\n",
       "  </thead>\n",
       "  <tbody>\n",
       "    <tr>\n",
       "      <td>0</td>\n",
       "      <td>Agder</td>\n",
       "      <td>2020-03-09</td>\n",
       "      <td>19</td>\n",
       "    </tr>\n",
       "    <tr>\n",
       "      <td>1</td>\n",
       "      <td>Agder</td>\n",
       "      <td>2020-03-10</td>\n",
       "      <td>19</td>\n",
       "    </tr>\n",
       "    <tr>\n",
       "      <td>2</td>\n",
       "      <td>Agder</td>\n",
       "      <td>2020-03-11</td>\n",
       "      <td>20</td>\n",
       "    </tr>\n",
       "    <tr>\n",
       "      <td>3</td>\n",
       "      <td>Agder</td>\n",
       "      <td>2020-03-12</td>\n",
       "      <td>32</td>\n",
       "    </tr>\n",
       "    <tr>\n",
       "      <td>4</td>\n",
       "      <td>Agder</td>\n",
       "      <td>2020-03-13</td>\n",
       "      <td>34</td>\n",
       "    </tr>\n",
       "  </tbody>\n",
       "</table>\n",
       "</div>"
      ],
      "text/plain": [
       "   Fylke   variable   0\n",
       "0  Agder 2020-03-09  19\n",
       "1  Agder 2020-03-10  19\n",
       "2  Agder 2020-03-11  20\n",
       "3  Agder 2020-03-12  32\n",
       "4  Agder 2020-03-13  34"
      ]
     },
     "execution_count": 156,
     "metadata": {},
     "output_type": "execute_result"
    }
   ],
   "source": [
    "unstacked = df.unstack().reset_index()\n",
    "\n",
    "unstacked = unstacked[pd.to_datetime(unstacked[\"variable\"]) >= pd.to_datetime(\"2020-02-25\")]\n",
    "\n",
    "unstacked.head()"
   ]
  },
  {
   "cell_type": "code",
   "execution_count": 157,
   "metadata": {},
   "outputs": [
    {
     "data": {
      "application/vnd.plotly.v1+json": {
       "config": {
        "plotlyServerURL": "https://plot.ly"
       },
       "data": [
        {
         "hoverlabel": {
          "namelength": 0
         },
         "hovertemplate": "Fylke=Agder<br>variable=%{x}<br>0=%{y}",
         "legendgroup": "Agder",
         "marker": {
          "color": "#636efa",
          "symbol": "circle"
         },
         "mode": "markers+lines",
         "name": "Agder",
         "showlegend": true,
         "type": "scatter",
         "x": [
          "2020-03-09T00:00:00",
          "2020-03-10T00:00:00",
          "2020-03-11T00:00:00",
          "2020-03-12T00:00:00",
          "2020-03-13T00:00:00",
          "2020-03-14T00:00:00",
          "2020-03-15T00:00:00",
          "2020-03-16T00:00:00",
          "2020-03-17T00:00:00",
          "2020-03-18T00:00:00",
          "2020-03-19T00:00:00"
         ],
         "xaxis": "x",
         "y": [
          19,
          19,
          20,
          32,
          34,
          52,
          55,
          67,
          67,
          67,
          75
         ],
         "yaxis": "y"
        },
        {
         "hoverlabel": {
          "namelength": 0
         },
         "hovertemplate": "Fylke=Innlandet<br>variable=%{x}<br>0=%{y}",
         "legendgroup": "Innlandet",
         "marker": {
          "color": "#EF553B",
          "symbol": "circle"
         },
         "mode": "markers+lines",
         "name": "Innlandet",
         "showlegend": true,
         "type": "scatter",
         "x": [
          "2020-03-09T00:00:00",
          "2020-03-10T00:00:00",
          "2020-03-11T00:00:00",
          "2020-03-12T00:00:00",
          "2020-03-13T00:00:00",
          "2020-03-14T00:00:00",
          "2020-03-15T00:00:00",
          "2020-03-16T00:00:00",
          "2020-03-17T00:00:00",
          "2020-03-18T00:00:00",
          "2020-03-19T00:00:00"
         ],
         "xaxis": "x",
         "y": [
          16,
          16,
          23,
          40,
          49,
          57,
          72,
          81,
          88,
          97,
          105
         ],
         "yaxis": "y"
        },
        {
         "hoverlabel": {
          "namelength": 0
         },
         "hovertemplate": "Fylke=Møre og Romsdal<br>variable=%{x}<br>0=%{y}",
         "legendgroup": "Møre og Romsdal",
         "marker": {
          "color": "#00cc96",
          "symbol": "circle"
         },
         "mode": "markers+lines",
         "name": "Møre og Romsdal",
         "showlegend": true,
         "type": "scatter",
         "x": [
          "2020-03-09T00:00:00",
          "2020-03-10T00:00:00",
          "2020-03-11T00:00:00",
          "2020-03-12T00:00:00",
          "2020-03-13T00:00:00",
          "2020-03-14T00:00:00",
          "2020-03-15T00:00:00",
          "2020-03-16T00:00:00",
          "2020-03-17T00:00:00",
          "2020-03-18T00:00:00",
          "2020-03-19T00:00:00"
         ],
         "xaxis": "x",
         "y": [
          5,
          5,
          7,
          6,
          7,
          16,
          20,
          20,
          20,
          20,
          25
         ],
         "yaxis": "y"
        },
        {
         "hoverlabel": {
          "namelength": 0
         },
         "hovertemplate": "Fylke=Nordland<br>variable=%{x}<br>0=%{y}",
         "legendgroup": "Nordland",
         "marker": {
          "color": "#ab63fa",
          "symbol": "circle"
         },
         "mode": "markers+lines",
         "name": "Nordland",
         "showlegend": true,
         "type": "scatter",
         "x": [
          "2020-03-09T00:00:00",
          "2020-03-10T00:00:00",
          "2020-03-11T00:00:00",
          "2020-03-12T00:00:00",
          "2020-03-13T00:00:00",
          "2020-03-14T00:00:00",
          "2020-03-15T00:00:00",
          "2020-03-16T00:00:00",
          "2020-03-17T00:00:00",
          "2020-03-18T00:00:00",
          "2020-03-19T00:00:00"
         ],
         "xaxis": "x",
         "y": [
          3,
          3,
          3,
          4,
          5,
          8,
          8,
          11,
          11,
          12,
          13
         ],
         "yaxis": "y"
        },
        {
         "hoverlabel": {
          "namelength": 0
         },
         "hovertemplate": "Fylke=Oslo<br>variable=%{x}<br>0=%{y}",
         "legendgroup": "Oslo",
         "marker": {
          "color": "#FFA15A",
          "symbol": "circle"
         },
         "mode": "markers+lines",
         "name": "Oslo",
         "showlegend": true,
         "type": "scatter",
         "x": [
          "2020-03-09T00:00:00",
          "2020-03-10T00:00:00",
          "2020-03-11T00:00:00",
          "2020-03-12T00:00:00",
          "2020-03-13T00:00:00",
          "2020-03-14T00:00:00",
          "2020-03-15T00:00:00",
          "2020-03-16T00:00:00",
          "2020-03-17T00:00:00",
          "2020-03-18T00:00:00",
          "2020-03-19T00:00:00"
         ],
         "xaxis": "x",
         "y": [
          51,
          51,
          123,
          166,
          207,
          222,
          281,
          292,
          329,
          348,
          392
         ],
         "yaxis": "y"
        },
        {
         "hoverlabel": {
          "namelength": 0
         },
         "hovertemplate": "Fylke=Rogaland<br>variable=%{x}<br>0=%{y}",
         "legendgroup": "Rogaland",
         "marker": {
          "color": "#19d3f3",
          "symbol": "circle"
         },
         "mode": "markers+lines",
         "name": "Rogaland",
         "showlegend": true,
         "type": "scatter",
         "x": [
          "2020-03-09T00:00:00",
          "2020-03-10T00:00:00",
          "2020-03-11T00:00:00",
          "2020-03-12T00:00:00",
          "2020-03-13T00:00:00",
          "2020-03-14T00:00:00",
          "2020-03-15T00:00:00",
          "2020-03-16T00:00:00",
          "2020-03-17T00:00:00",
          "2020-03-18T00:00:00",
          "2020-03-19T00:00:00"
         ],
         "xaxis": "x",
         "y": [
          33,
          33,
          71,
          82,
          105,
          119,
          127,
          131,
          150,
          161,
          176
         ],
         "yaxis": "y"
        },
        {
         "hoverlabel": {
          "namelength": 0
         },
         "hovertemplate": "Fylke=Troms og Finnmark<br>variable=%{x}<br>0=%{y}",
         "legendgroup": "Troms og Finnmark",
         "marker": {
          "color": "#FF6692",
          "symbol": "circle"
         },
         "mode": "markers+lines",
         "name": "Troms og Finnmark",
         "showlegend": true,
         "type": "scatter",
         "x": [
          "2020-03-09T00:00:00",
          "2020-03-10T00:00:00",
          "2020-03-11T00:00:00",
          "2020-03-12T00:00:00",
          "2020-03-13T00:00:00",
          "2020-03-14T00:00:00",
          "2020-03-15T00:00:00",
          "2020-03-16T00:00:00",
          "2020-03-17T00:00:00",
          "2020-03-18T00:00:00",
          "2020-03-19T00:00:00"
         ],
         "xaxis": "x",
         "y": [
          6,
          6,
          7,
          11,
          12,
          16,
          20,
          21,
          24,
          28,
          28
         ],
         "yaxis": "y"
        },
        {
         "hoverlabel": {
          "namelength": 0
         },
         "hovertemplate": "Fylke=Trøndelag<br>variable=%{x}<br>0=%{y}",
         "legendgroup": "Trøndelag",
         "marker": {
          "color": "#B6E880",
          "symbol": "circle"
         },
         "mode": "markers+lines",
         "name": "Trøndelag",
         "showlegend": true,
         "type": "scatter",
         "x": [
          "2020-03-09T00:00:00",
          "2020-03-10T00:00:00",
          "2020-03-11T00:00:00",
          "2020-03-12T00:00:00",
          "2020-03-13T00:00:00",
          "2020-03-14T00:00:00",
          "2020-03-15T00:00:00",
          "2020-03-16T00:00:00",
          "2020-03-17T00:00:00",
          "2020-03-18T00:00:00",
          "2020-03-19T00:00:00"
         ],
         "xaxis": "x",
         "y": [
          22,
          22,
          25,
          37,
          43,
          46,
          50,
          52,
          61,
          70,
          75
         ],
         "yaxis": "y"
        },
        {
         "hoverlabel": {
          "namelength": 0
         },
         "hovertemplate": "Fylke=Vestfold og Telemark<br>variable=%{x}<br>0=%{y}",
         "legendgroup": "Vestfold og Telemark",
         "marker": {
          "color": "#FF97FF",
          "symbol": "circle"
         },
         "mode": "markers+lines",
         "name": "Vestfold og Telemark",
         "showlegend": true,
         "type": "scatter",
         "x": [
          "2020-03-09T00:00:00",
          "2020-03-10T00:00:00",
          "2020-03-11T00:00:00",
          "2020-03-12T00:00:00",
          "2020-03-13T00:00:00",
          "2020-03-14T00:00:00",
          "2020-03-15T00:00:00",
          "2020-03-16T00:00:00",
          "2020-03-17T00:00:00",
          "2020-03-18T00:00:00",
          "2020-03-19T00:00:00"
         ],
         "xaxis": "x",
         "y": [
          5,
          5,
          15,
          22,
          30,
          39,
          48,
          53,
          59,
          63,
          65
         ],
         "yaxis": "y"
        },
        {
         "hoverlabel": {
          "namelength": 0
         },
         "hovertemplate": "Fylke=Vestland<br>variable=%{x}<br>0=%{y}",
         "legendgroup": "Vestland",
         "marker": {
          "color": "#FECB52",
          "symbol": "circle"
         },
         "mode": "markers+lines",
         "name": "Vestland",
         "showlegend": true,
         "type": "scatter",
         "x": [
          "2020-03-09T00:00:00",
          "2020-03-10T00:00:00",
          "2020-03-11T00:00:00",
          "2020-03-12T00:00:00",
          "2020-03-13T00:00:00",
          "2020-03-14T00:00:00",
          "2020-03-15T00:00:00",
          "2020-03-16T00:00:00",
          "2020-03-17T00:00:00",
          "2020-03-18T00:00:00",
          "2020-03-19T00:00:00"
         ],
         "xaxis": "x",
         "y": [
          31,
          31,
          41,
          67,
          78,
          101,
          118,
          127,
          141,
          147,
          153
         ],
         "yaxis": "y"
        },
        {
         "hoverlabel": {
          "namelength": 0
         },
         "hovertemplate": "Fylke=Viken<br>variable=%{x}<br>0=%{y}",
         "legendgroup": "Viken",
         "marker": {
          "color": "#636efa",
          "symbol": "circle"
         },
         "mode": "markers+lines",
         "name": "Viken",
         "showlegend": true,
         "type": "scatter",
         "x": [
          "2020-03-09T00:00:00",
          "2020-03-10T00:00:00",
          "2020-03-11T00:00:00",
          "2020-03-12T00:00:00",
          "2020-03-13T00:00:00",
          "2020-03-14T00:00:00",
          "2020-03-15T00:00:00",
          "2020-03-16T00:00:00",
          "2020-03-17T00:00:00",
          "2020-03-18T00:00:00",
          "2020-03-19T00:00:00"
         ],
         "xaxis": "x",
         "y": [
          86,
          86,
          124,
          154,
          180,
          231,
          278,
          314,
          358,
          410,
          445
         ],
         "yaxis": "y"
        }
       ],
       "layout": {
        "legend": {
         "title": {
          "text": "Fylke"
         },
         "tracegroupgap": 0
        },
        "margin": {
         "t": 60
        },
        "template": {
         "data": {
          "bar": [
           {
            "error_x": {
             "color": "#2a3f5f"
            },
            "error_y": {
             "color": "#2a3f5f"
            },
            "marker": {
             "line": {
              "color": "#E5ECF6",
              "width": 0.5
             }
            },
            "type": "bar"
           }
          ],
          "barpolar": [
           {
            "marker": {
             "line": {
              "color": "#E5ECF6",
              "width": 0.5
             }
            },
            "type": "barpolar"
           }
          ],
          "carpet": [
           {
            "aaxis": {
             "endlinecolor": "#2a3f5f",
             "gridcolor": "white",
             "linecolor": "white",
             "minorgridcolor": "white",
             "startlinecolor": "#2a3f5f"
            },
            "baxis": {
             "endlinecolor": "#2a3f5f",
             "gridcolor": "white",
             "linecolor": "white",
             "minorgridcolor": "white",
             "startlinecolor": "#2a3f5f"
            },
            "type": "carpet"
           }
          ],
          "choropleth": [
           {
            "colorbar": {
             "outlinewidth": 0,
             "ticks": ""
            },
            "type": "choropleth"
           }
          ],
          "contour": [
           {
            "colorbar": {
             "outlinewidth": 0,
             "ticks": ""
            },
            "colorscale": [
             [
              0,
              "#0d0887"
             ],
             [
              0.1111111111111111,
              "#46039f"
             ],
             [
              0.2222222222222222,
              "#7201a8"
             ],
             [
              0.3333333333333333,
              "#9c179e"
             ],
             [
              0.4444444444444444,
              "#bd3786"
             ],
             [
              0.5555555555555556,
              "#d8576b"
             ],
             [
              0.6666666666666666,
              "#ed7953"
             ],
             [
              0.7777777777777778,
              "#fb9f3a"
             ],
             [
              0.8888888888888888,
              "#fdca26"
             ],
             [
              1,
              "#f0f921"
             ]
            ],
            "type": "contour"
           }
          ],
          "contourcarpet": [
           {
            "colorbar": {
             "outlinewidth": 0,
             "ticks": ""
            },
            "type": "contourcarpet"
           }
          ],
          "heatmap": [
           {
            "colorbar": {
             "outlinewidth": 0,
             "ticks": ""
            },
            "colorscale": [
             [
              0,
              "#0d0887"
             ],
             [
              0.1111111111111111,
              "#46039f"
             ],
             [
              0.2222222222222222,
              "#7201a8"
             ],
             [
              0.3333333333333333,
              "#9c179e"
             ],
             [
              0.4444444444444444,
              "#bd3786"
             ],
             [
              0.5555555555555556,
              "#d8576b"
             ],
             [
              0.6666666666666666,
              "#ed7953"
             ],
             [
              0.7777777777777778,
              "#fb9f3a"
             ],
             [
              0.8888888888888888,
              "#fdca26"
             ],
             [
              1,
              "#f0f921"
             ]
            ],
            "type": "heatmap"
           }
          ],
          "heatmapgl": [
           {
            "colorbar": {
             "outlinewidth": 0,
             "ticks": ""
            },
            "colorscale": [
             [
              0,
              "#0d0887"
             ],
             [
              0.1111111111111111,
              "#46039f"
             ],
             [
              0.2222222222222222,
              "#7201a8"
             ],
             [
              0.3333333333333333,
              "#9c179e"
             ],
             [
              0.4444444444444444,
              "#bd3786"
             ],
             [
              0.5555555555555556,
              "#d8576b"
             ],
             [
              0.6666666666666666,
              "#ed7953"
             ],
             [
              0.7777777777777778,
              "#fb9f3a"
             ],
             [
              0.8888888888888888,
              "#fdca26"
             ],
             [
              1,
              "#f0f921"
             ]
            ],
            "type": "heatmapgl"
           }
          ],
          "histogram": [
           {
            "marker": {
             "colorbar": {
              "outlinewidth": 0,
              "ticks": ""
             }
            },
            "type": "histogram"
           }
          ],
          "histogram2d": [
           {
            "colorbar": {
             "outlinewidth": 0,
             "ticks": ""
            },
            "colorscale": [
             [
              0,
              "#0d0887"
             ],
             [
              0.1111111111111111,
              "#46039f"
             ],
             [
              0.2222222222222222,
              "#7201a8"
             ],
             [
              0.3333333333333333,
              "#9c179e"
             ],
             [
              0.4444444444444444,
              "#bd3786"
             ],
             [
              0.5555555555555556,
              "#d8576b"
             ],
             [
              0.6666666666666666,
              "#ed7953"
             ],
             [
              0.7777777777777778,
              "#fb9f3a"
             ],
             [
              0.8888888888888888,
              "#fdca26"
             ],
             [
              1,
              "#f0f921"
             ]
            ],
            "type": "histogram2d"
           }
          ],
          "histogram2dcontour": [
           {
            "colorbar": {
             "outlinewidth": 0,
             "ticks": ""
            },
            "colorscale": [
             [
              0,
              "#0d0887"
             ],
             [
              0.1111111111111111,
              "#46039f"
             ],
             [
              0.2222222222222222,
              "#7201a8"
             ],
             [
              0.3333333333333333,
              "#9c179e"
             ],
             [
              0.4444444444444444,
              "#bd3786"
             ],
             [
              0.5555555555555556,
              "#d8576b"
             ],
             [
              0.6666666666666666,
              "#ed7953"
             ],
             [
              0.7777777777777778,
              "#fb9f3a"
             ],
             [
              0.8888888888888888,
              "#fdca26"
             ],
             [
              1,
              "#f0f921"
             ]
            ],
            "type": "histogram2dcontour"
           }
          ],
          "mesh3d": [
           {
            "colorbar": {
             "outlinewidth": 0,
             "ticks": ""
            },
            "type": "mesh3d"
           }
          ],
          "parcoords": [
           {
            "line": {
             "colorbar": {
              "outlinewidth": 0,
              "ticks": ""
             }
            },
            "type": "parcoords"
           }
          ],
          "pie": [
           {
            "automargin": true,
            "type": "pie"
           }
          ],
          "scatter": [
           {
            "marker": {
             "colorbar": {
              "outlinewidth": 0,
              "ticks": ""
             }
            },
            "type": "scatter"
           }
          ],
          "scatter3d": [
           {
            "line": {
             "colorbar": {
              "outlinewidth": 0,
              "ticks": ""
             }
            },
            "marker": {
             "colorbar": {
              "outlinewidth": 0,
              "ticks": ""
             }
            },
            "type": "scatter3d"
           }
          ],
          "scattercarpet": [
           {
            "marker": {
             "colorbar": {
              "outlinewidth": 0,
              "ticks": ""
             }
            },
            "type": "scattercarpet"
           }
          ],
          "scattergeo": [
           {
            "marker": {
             "colorbar": {
              "outlinewidth": 0,
              "ticks": ""
             }
            },
            "type": "scattergeo"
           }
          ],
          "scattergl": [
           {
            "marker": {
             "colorbar": {
              "outlinewidth": 0,
              "ticks": ""
             }
            },
            "type": "scattergl"
           }
          ],
          "scattermapbox": [
           {
            "marker": {
             "colorbar": {
              "outlinewidth": 0,
              "ticks": ""
             }
            },
            "type": "scattermapbox"
           }
          ],
          "scatterpolar": [
           {
            "marker": {
             "colorbar": {
              "outlinewidth": 0,
              "ticks": ""
             }
            },
            "type": "scatterpolar"
           }
          ],
          "scatterpolargl": [
           {
            "marker": {
             "colorbar": {
              "outlinewidth": 0,
              "ticks": ""
             }
            },
            "type": "scatterpolargl"
           }
          ],
          "scatterternary": [
           {
            "marker": {
             "colorbar": {
              "outlinewidth": 0,
              "ticks": ""
             }
            },
            "type": "scatterternary"
           }
          ],
          "surface": [
           {
            "colorbar": {
             "outlinewidth": 0,
             "ticks": ""
            },
            "colorscale": [
             [
              0,
              "#0d0887"
             ],
             [
              0.1111111111111111,
              "#46039f"
             ],
             [
              0.2222222222222222,
              "#7201a8"
             ],
             [
              0.3333333333333333,
              "#9c179e"
             ],
             [
              0.4444444444444444,
              "#bd3786"
             ],
             [
              0.5555555555555556,
              "#d8576b"
             ],
             [
              0.6666666666666666,
              "#ed7953"
             ],
             [
              0.7777777777777778,
              "#fb9f3a"
             ],
             [
              0.8888888888888888,
              "#fdca26"
             ],
             [
              1,
              "#f0f921"
             ]
            ],
            "type": "surface"
           }
          ],
          "table": [
           {
            "cells": {
             "fill": {
              "color": "#EBF0F8"
             },
             "line": {
              "color": "white"
             }
            },
            "header": {
             "fill": {
              "color": "#C8D4E3"
             },
             "line": {
              "color": "white"
             }
            },
            "type": "table"
           }
          ]
         },
         "layout": {
          "annotationdefaults": {
           "arrowcolor": "#2a3f5f",
           "arrowhead": 0,
           "arrowwidth": 1
          },
          "coloraxis": {
           "colorbar": {
            "outlinewidth": 0,
            "ticks": ""
           }
          },
          "colorscale": {
           "diverging": [
            [
             0,
             "#8e0152"
            ],
            [
             0.1,
             "#c51b7d"
            ],
            [
             0.2,
             "#de77ae"
            ],
            [
             0.3,
             "#f1b6da"
            ],
            [
             0.4,
             "#fde0ef"
            ],
            [
             0.5,
             "#f7f7f7"
            ],
            [
             0.6,
             "#e6f5d0"
            ],
            [
             0.7,
             "#b8e186"
            ],
            [
             0.8,
             "#7fbc41"
            ],
            [
             0.9,
             "#4d9221"
            ],
            [
             1,
             "#276419"
            ]
           ],
           "sequential": [
            [
             0,
             "#0d0887"
            ],
            [
             0.1111111111111111,
             "#46039f"
            ],
            [
             0.2222222222222222,
             "#7201a8"
            ],
            [
             0.3333333333333333,
             "#9c179e"
            ],
            [
             0.4444444444444444,
             "#bd3786"
            ],
            [
             0.5555555555555556,
             "#d8576b"
            ],
            [
             0.6666666666666666,
             "#ed7953"
            ],
            [
             0.7777777777777778,
             "#fb9f3a"
            ],
            [
             0.8888888888888888,
             "#fdca26"
            ],
            [
             1,
             "#f0f921"
            ]
           ],
           "sequentialminus": [
            [
             0,
             "#0d0887"
            ],
            [
             0.1111111111111111,
             "#46039f"
            ],
            [
             0.2222222222222222,
             "#7201a8"
            ],
            [
             0.3333333333333333,
             "#9c179e"
            ],
            [
             0.4444444444444444,
             "#bd3786"
            ],
            [
             0.5555555555555556,
             "#d8576b"
            ],
            [
             0.6666666666666666,
             "#ed7953"
            ],
            [
             0.7777777777777778,
             "#fb9f3a"
            ],
            [
             0.8888888888888888,
             "#fdca26"
            ],
            [
             1,
             "#f0f921"
            ]
           ]
          },
          "colorway": [
           "#636efa",
           "#EF553B",
           "#00cc96",
           "#ab63fa",
           "#FFA15A",
           "#19d3f3",
           "#FF6692",
           "#B6E880",
           "#FF97FF",
           "#FECB52"
          ],
          "font": {
           "color": "#2a3f5f"
          },
          "geo": {
           "bgcolor": "white",
           "lakecolor": "white",
           "landcolor": "#E5ECF6",
           "showlakes": true,
           "showland": true,
           "subunitcolor": "white"
          },
          "hoverlabel": {
           "align": "left"
          },
          "hovermode": "closest",
          "mapbox": {
           "style": "light"
          },
          "paper_bgcolor": "white",
          "plot_bgcolor": "#E5ECF6",
          "polar": {
           "angularaxis": {
            "gridcolor": "white",
            "linecolor": "white",
            "ticks": ""
           },
           "bgcolor": "#E5ECF6",
           "radialaxis": {
            "gridcolor": "white",
            "linecolor": "white",
            "ticks": ""
           }
          },
          "scene": {
           "xaxis": {
            "backgroundcolor": "#E5ECF6",
            "gridcolor": "white",
            "gridwidth": 2,
            "linecolor": "white",
            "showbackground": true,
            "ticks": "",
            "zerolinecolor": "white"
           },
           "yaxis": {
            "backgroundcolor": "#E5ECF6",
            "gridcolor": "white",
            "gridwidth": 2,
            "linecolor": "white",
            "showbackground": true,
            "ticks": "",
            "zerolinecolor": "white"
           },
           "zaxis": {
            "backgroundcolor": "#E5ECF6",
            "gridcolor": "white",
            "gridwidth": 2,
            "linecolor": "white",
            "showbackground": true,
            "ticks": "",
            "zerolinecolor": "white"
           }
          },
          "shapedefaults": {
           "line": {
            "color": "#2a3f5f"
           }
          },
          "ternary": {
           "aaxis": {
            "gridcolor": "white",
            "linecolor": "white",
            "ticks": ""
           },
           "baxis": {
            "gridcolor": "white",
            "linecolor": "white",
            "ticks": ""
           },
           "bgcolor": "#E5ECF6",
           "caxis": {
            "gridcolor": "white",
            "linecolor": "white",
            "ticks": ""
           }
          },
          "title": {
           "x": 0.05
          },
          "xaxis": {
           "automargin": true,
           "gridcolor": "white",
           "linecolor": "white",
           "ticks": "",
           "title": {
            "standoff": 15
           },
           "zerolinecolor": "white",
           "zerolinewidth": 2
          },
          "yaxis": {
           "automargin": true,
           "gridcolor": "white",
           "linecolor": "white",
           "ticks": "",
           "title": {
            "standoff": 15
           },
           "zerolinecolor": "white",
           "zerolinewidth": 2
          }
         }
        },
        "xaxis": {
         "anchor": "y",
         "domain": [
          0,
          1
         ],
         "title": {
          "text": "variable"
         }
        },
        "yaxis": {
         "anchor": "x",
         "domain": [
          0,
          1
         ],
         "title": {
          "text": "0"
         }
        }
       }
      },
      "text/html": [
       "<div>\n",
       "        \n",
       "        \n",
       "            <div id=\"fa4dc153-3822-43b1-838d-0dcbc230ae48\" class=\"plotly-graph-div\" style=\"height:525px; width:100%;\"></div>\n",
       "            <script type=\"text/javascript\">\n",
       "                require([\"plotly\"], function(Plotly) {\n",
       "                    window.PLOTLYENV=window.PLOTLYENV || {};\n",
       "                    \n",
       "                if (document.getElementById(\"fa4dc153-3822-43b1-838d-0dcbc230ae48\")) {\n",
       "                    Plotly.newPlot(\n",
       "                        'fa4dc153-3822-43b1-838d-0dcbc230ae48',\n",
       "                        [{\"hoverlabel\": {\"namelength\": 0}, \"hovertemplate\": \"Fylke=Agder<br>variable=%{x}<br>0=%{y}\", \"legendgroup\": \"Agder\", \"marker\": {\"color\": \"#636efa\", \"symbol\": \"circle\"}, \"mode\": \"markers+lines\", \"name\": \"Agder\", \"showlegend\": true, \"type\": \"scatter\", \"x\": [\"2020-03-09T00:00:00\", \"2020-03-10T00:00:00\", \"2020-03-11T00:00:00\", \"2020-03-12T00:00:00\", \"2020-03-13T00:00:00\", \"2020-03-14T00:00:00\", \"2020-03-15T00:00:00\", \"2020-03-16T00:00:00\", \"2020-03-17T00:00:00\", \"2020-03-18T00:00:00\", \"2020-03-19T00:00:00\"], \"xaxis\": \"x\", \"y\": [19, 19, 20, 32, 34, 52, 55, 67, 67, 67, 75], \"yaxis\": \"y\"}, {\"hoverlabel\": {\"namelength\": 0}, \"hovertemplate\": \"Fylke=Innlandet<br>variable=%{x}<br>0=%{y}\", \"legendgroup\": \"Innlandet\", \"marker\": {\"color\": \"#EF553B\", \"symbol\": \"circle\"}, \"mode\": \"markers+lines\", \"name\": \"Innlandet\", \"showlegend\": true, \"type\": \"scatter\", \"x\": [\"2020-03-09T00:00:00\", \"2020-03-10T00:00:00\", \"2020-03-11T00:00:00\", \"2020-03-12T00:00:00\", \"2020-03-13T00:00:00\", \"2020-03-14T00:00:00\", \"2020-03-15T00:00:00\", \"2020-03-16T00:00:00\", \"2020-03-17T00:00:00\", \"2020-03-18T00:00:00\", \"2020-03-19T00:00:00\"], \"xaxis\": \"x\", \"y\": [16, 16, 23, 40, 49, 57, 72, 81, 88, 97, 105], \"yaxis\": \"y\"}, {\"hoverlabel\": {\"namelength\": 0}, \"hovertemplate\": \"Fylke=M\\u00f8re og Romsdal<br>variable=%{x}<br>0=%{y}\", \"legendgroup\": \"M\\u00f8re og Romsdal\", \"marker\": {\"color\": \"#00cc96\", \"symbol\": \"circle\"}, \"mode\": \"markers+lines\", \"name\": \"M\\u00f8re og Romsdal\", \"showlegend\": true, \"type\": \"scatter\", \"x\": [\"2020-03-09T00:00:00\", \"2020-03-10T00:00:00\", \"2020-03-11T00:00:00\", \"2020-03-12T00:00:00\", \"2020-03-13T00:00:00\", \"2020-03-14T00:00:00\", \"2020-03-15T00:00:00\", \"2020-03-16T00:00:00\", \"2020-03-17T00:00:00\", \"2020-03-18T00:00:00\", \"2020-03-19T00:00:00\"], \"xaxis\": \"x\", \"y\": [5, 5, 7, 6, 7, 16, 20, 20, 20, 20, 25], \"yaxis\": \"y\"}, {\"hoverlabel\": {\"namelength\": 0}, \"hovertemplate\": \"Fylke=Nordland<br>variable=%{x}<br>0=%{y}\", \"legendgroup\": \"Nordland\", \"marker\": {\"color\": \"#ab63fa\", \"symbol\": \"circle\"}, \"mode\": \"markers+lines\", \"name\": \"Nordland\", \"showlegend\": true, \"type\": \"scatter\", \"x\": [\"2020-03-09T00:00:00\", \"2020-03-10T00:00:00\", \"2020-03-11T00:00:00\", \"2020-03-12T00:00:00\", \"2020-03-13T00:00:00\", \"2020-03-14T00:00:00\", \"2020-03-15T00:00:00\", \"2020-03-16T00:00:00\", \"2020-03-17T00:00:00\", \"2020-03-18T00:00:00\", \"2020-03-19T00:00:00\"], \"xaxis\": \"x\", \"y\": [3, 3, 3, 4, 5, 8, 8, 11, 11, 12, 13], \"yaxis\": \"y\"}, {\"hoverlabel\": {\"namelength\": 0}, \"hovertemplate\": \"Fylke=Oslo<br>variable=%{x}<br>0=%{y}\", \"legendgroup\": \"Oslo\", \"marker\": {\"color\": \"#FFA15A\", \"symbol\": \"circle\"}, \"mode\": \"markers+lines\", \"name\": \"Oslo\", \"showlegend\": true, \"type\": \"scatter\", \"x\": [\"2020-03-09T00:00:00\", \"2020-03-10T00:00:00\", \"2020-03-11T00:00:00\", \"2020-03-12T00:00:00\", \"2020-03-13T00:00:00\", \"2020-03-14T00:00:00\", \"2020-03-15T00:00:00\", \"2020-03-16T00:00:00\", \"2020-03-17T00:00:00\", \"2020-03-18T00:00:00\", \"2020-03-19T00:00:00\"], \"xaxis\": \"x\", \"y\": [51, 51, 123, 166, 207, 222, 281, 292, 329, 348, 392], \"yaxis\": \"y\"}, {\"hoverlabel\": {\"namelength\": 0}, \"hovertemplate\": \"Fylke=Rogaland<br>variable=%{x}<br>0=%{y}\", \"legendgroup\": \"Rogaland\", \"marker\": {\"color\": \"#19d3f3\", \"symbol\": \"circle\"}, \"mode\": \"markers+lines\", \"name\": \"Rogaland\", \"showlegend\": true, \"type\": \"scatter\", \"x\": [\"2020-03-09T00:00:00\", \"2020-03-10T00:00:00\", \"2020-03-11T00:00:00\", \"2020-03-12T00:00:00\", \"2020-03-13T00:00:00\", \"2020-03-14T00:00:00\", \"2020-03-15T00:00:00\", \"2020-03-16T00:00:00\", \"2020-03-17T00:00:00\", \"2020-03-18T00:00:00\", \"2020-03-19T00:00:00\"], \"xaxis\": \"x\", \"y\": [33, 33, 71, 82, 105, 119, 127, 131, 150, 161, 176], \"yaxis\": \"y\"}, {\"hoverlabel\": {\"namelength\": 0}, \"hovertemplate\": \"Fylke=Troms og Finnmark<br>variable=%{x}<br>0=%{y}\", \"legendgroup\": \"Troms og Finnmark\", \"marker\": {\"color\": \"#FF6692\", \"symbol\": \"circle\"}, \"mode\": \"markers+lines\", \"name\": \"Troms og Finnmark\", \"showlegend\": true, \"type\": \"scatter\", \"x\": [\"2020-03-09T00:00:00\", \"2020-03-10T00:00:00\", \"2020-03-11T00:00:00\", \"2020-03-12T00:00:00\", \"2020-03-13T00:00:00\", \"2020-03-14T00:00:00\", \"2020-03-15T00:00:00\", \"2020-03-16T00:00:00\", \"2020-03-17T00:00:00\", \"2020-03-18T00:00:00\", \"2020-03-19T00:00:00\"], \"xaxis\": \"x\", \"y\": [6, 6, 7, 11, 12, 16, 20, 21, 24, 28, 28], \"yaxis\": \"y\"}, {\"hoverlabel\": {\"namelength\": 0}, \"hovertemplate\": \"Fylke=Tr\\u00f8ndelag<br>variable=%{x}<br>0=%{y}\", \"legendgroup\": \"Tr\\u00f8ndelag\", \"marker\": {\"color\": \"#B6E880\", \"symbol\": \"circle\"}, \"mode\": \"markers+lines\", \"name\": \"Tr\\u00f8ndelag\", \"showlegend\": true, \"type\": \"scatter\", \"x\": [\"2020-03-09T00:00:00\", \"2020-03-10T00:00:00\", \"2020-03-11T00:00:00\", \"2020-03-12T00:00:00\", \"2020-03-13T00:00:00\", \"2020-03-14T00:00:00\", \"2020-03-15T00:00:00\", \"2020-03-16T00:00:00\", \"2020-03-17T00:00:00\", \"2020-03-18T00:00:00\", \"2020-03-19T00:00:00\"], \"xaxis\": \"x\", \"y\": [22, 22, 25, 37, 43, 46, 50, 52, 61, 70, 75], \"yaxis\": \"y\"}, {\"hoverlabel\": {\"namelength\": 0}, \"hovertemplate\": \"Fylke=Vestfold og Telemark<br>variable=%{x}<br>0=%{y}\", \"legendgroup\": \"Vestfold og Telemark\", \"marker\": {\"color\": \"#FF97FF\", \"symbol\": \"circle\"}, \"mode\": \"markers+lines\", \"name\": \"Vestfold og Telemark\", \"showlegend\": true, \"type\": \"scatter\", \"x\": [\"2020-03-09T00:00:00\", \"2020-03-10T00:00:00\", \"2020-03-11T00:00:00\", \"2020-03-12T00:00:00\", \"2020-03-13T00:00:00\", \"2020-03-14T00:00:00\", \"2020-03-15T00:00:00\", \"2020-03-16T00:00:00\", \"2020-03-17T00:00:00\", \"2020-03-18T00:00:00\", \"2020-03-19T00:00:00\"], \"xaxis\": \"x\", \"y\": [5, 5, 15, 22, 30, 39, 48, 53, 59, 63, 65], \"yaxis\": \"y\"}, {\"hoverlabel\": {\"namelength\": 0}, \"hovertemplate\": \"Fylke=Vestland<br>variable=%{x}<br>0=%{y}\", \"legendgroup\": \"Vestland\", \"marker\": {\"color\": \"#FECB52\", \"symbol\": \"circle\"}, \"mode\": \"markers+lines\", \"name\": \"Vestland\", \"showlegend\": true, \"type\": \"scatter\", \"x\": [\"2020-03-09T00:00:00\", \"2020-03-10T00:00:00\", \"2020-03-11T00:00:00\", \"2020-03-12T00:00:00\", \"2020-03-13T00:00:00\", \"2020-03-14T00:00:00\", \"2020-03-15T00:00:00\", \"2020-03-16T00:00:00\", \"2020-03-17T00:00:00\", \"2020-03-18T00:00:00\", \"2020-03-19T00:00:00\"], \"xaxis\": \"x\", \"y\": [31, 31, 41, 67, 78, 101, 118, 127, 141, 147, 153], \"yaxis\": \"y\"}, {\"hoverlabel\": {\"namelength\": 0}, \"hovertemplate\": \"Fylke=Viken<br>variable=%{x}<br>0=%{y}\", \"legendgroup\": \"Viken\", \"marker\": {\"color\": \"#636efa\", \"symbol\": \"circle\"}, \"mode\": \"markers+lines\", \"name\": \"Viken\", \"showlegend\": true, \"type\": \"scatter\", \"x\": [\"2020-03-09T00:00:00\", \"2020-03-10T00:00:00\", \"2020-03-11T00:00:00\", \"2020-03-12T00:00:00\", \"2020-03-13T00:00:00\", \"2020-03-14T00:00:00\", \"2020-03-15T00:00:00\", \"2020-03-16T00:00:00\", \"2020-03-17T00:00:00\", \"2020-03-18T00:00:00\", \"2020-03-19T00:00:00\"], \"xaxis\": \"x\", \"y\": [86, 86, 124, 154, 180, 231, 278, 314, 358, 410, 445], \"yaxis\": \"y\"}],\n",
       "                        {\"legend\": {\"title\": {\"text\": \"Fylke\"}, \"tracegroupgap\": 0}, \"margin\": {\"t\": 60}, \"template\": {\"data\": {\"bar\": [{\"error_x\": {\"color\": \"#2a3f5f\"}, \"error_y\": {\"color\": \"#2a3f5f\"}, \"marker\": {\"line\": {\"color\": \"#E5ECF6\", \"width\": 0.5}}, \"type\": \"bar\"}], \"barpolar\": [{\"marker\": {\"line\": {\"color\": \"#E5ECF6\", \"width\": 0.5}}, \"type\": \"barpolar\"}], \"carpet\": [{\"aaxis\": {\"endlinecolor\": \"#2a3f5f\", \"gridcolor\": \"white\", \"linecolor\": \"white\", \"minorgridcolor\": \"white\", \"startlinecolor\": \"#2a3f5f\"}, \"baxis\": {\"endlinecolor\": \"#2a3f5f\", \"gridcolor\": \"white\", \"linecolor\": \"white\", \"minorgridcolor\": \"white\", \"startlinecolor\": \"#2a3f5f\"}, \"type\": \"carpet\"}], \"choropleth\": [{\"colorbar\": {\"outlinewidth\": 0, \"ticks\": \"\"}, \"type\": \"choropleth\"}], \"contour\": [{\"colorbar\": {\"outlinewidth\": 0, \"ticks\": \"\"}, \"colorscale\": [[0.0, \"#0d0887\"], [0.1111111111111111, \"#46039f\"], [0.2222222222222222, \"#7201a8\"], [0.3333333333333333, \"#9c179e\"], [0.4444444444444444, \"#bd3786\"], [0.5555555555555556, \"#d8576b\"], [0.6666666666666666, \"#ed7953\"], [0.7777777777777778, \"#fb9f3a\"], [0.8888888888888888, \"#fdca26\"], [1.0, \"#f0f921\"]], \"type\": \"contour\"}], \"contourcarpet\": [{\"colorbar\": {\"outlinewidth\": 0, \"ticks\": \"\"}, \"type\": \"contourcarpet\"}], \"heatmap\": [{\"colorbar\": {\"outlinewidth\": 0, \"ticks\": \"\"}, \"colorscale\": [[0.0, \"#0d0887\"], [0.1111111111111111, \"#46039f\"], [0.2222222222222222, \"#7201a8\"], [0.3333333333333333, \"#9c179e\"], [0.4444444444444444, \"#bd3786\"], [0.5555555555555556, \"#d8576b\"], [0.6666666666666666, \"#ed7953\"], [0.7777777777777778, \"#fb9f3a\"], [0.8888888888888888, \"#fdca26\"], [1.0, \"#f0f921\"]], \"type\": \"heatmap\"}], \"heatmapgl\": [{\"colorbar\": {\"outlinewidth\": 0, \"ticks\": \"\"}, \"colorscale\": [[0.0, \"#0d0887\"], [0.1111111111111111, \"#46039f\"], [0.2222222222222222, \"#7201a8\"], [0.3333333333333333, \"#9c179e\"], [0.4444444444444444, \"#bd3786\"], [0.5555555555555556, \"#d8576b\"], [0.6666666666666666, \"#ed7953\"], [0.7777777777777778, \"#fb9f3a\"], [0.8888888888888888, \"#fdca26\"], [1.0, \"#f0f921\"]], \"type\": \"heatmapgl\"}], \"histogram\": [{\"marker\": {\"colorbar\": {\"outlinewidth\": 0, \"ticks\": \"\"}}, \"type\": \"histogram\"}], \"histogram2d\": [{\"colorbar\": {\"outlinewidth\": 0, \"ticks\": \"\"}, \"colorscale\": [[0.0, \"#0d0887\"], [0.1111111111111111, \"#46039f\"], [0.2222222222222222, \"#7201a8\"], [0.3333333333333333, \"#9c179e\"], [0.4444444444444444, \"#bd3786\"], [0.5555555555555556, \"#d8576b\"], [0.6666666666666666, \"#ed7953\"], [0.7777777777777778, \"#fb9f3a\"], [0.8888888888888888, \"#fdca26\"], [1.0, \"#f0f921\"]], \"type\": \"histogram2d\"}], \"histogram2dcontour\": [{\"colorbar\": {\"outlinewidth\": 0, \"ticks\": \"\"}, \"colorscale\": [[0.0, \"#0d0887\"], [0.1111111111111111, \"#46039f\"], [0.2222222222222222, \"#7201a8\"], [0.3333333333333333, \"#9c179e\"], [0.4444444444444444, \"#bd3786\"], [0.5555555555555556, \"#d8576b\"], [0.6666666666666666, \"#ed7953\"], [0.7777777777777778, \"#fb9f3a\"], [0.8888888888888888, \"#fdca26\"], [1.0, \"#f0f921\"]], \"type\": \"histogram2dcontour\"}], \"mesh3d\": [{\"colorbar\": {\"outlinewidth\": 0, \"ticks\": \"\"}, \"type\": \"mesh3d\"}], \"parcoords\": [{\"line\": {\"colorbar\": {\"outlinewidth\": 0, \"ticks\": \"\"}}, \"type\": \"parcoords\"}], \"pie\": [{\"automargin\": true, \"type\": \"pie\"}], \"scatter\": [{\"marker\": {\"colorbar\": {\"outlinewidth\": 0, \"ticks\": \"\"}}, \"type\": \"scatter\"}], \"scatter3d\": [{\"line\": {\"colorbar\": {\"outlinewidth\": 0, \"ticks\": \"\"}}, \"marker\": {\"colorbar\": {\"outlinewidth\": 0, \"ticks\": \"\"}}, \"type\": \"scatter3d\"}], \"scattercarpet\": [{\"marker\": {\"colorbar\": {\"outlinewidth\": 0, \"ticks\": \"\"}}, \"type\": \"scattercarpet\"}], \"scattergeo\": [{\"marker\": {\"colorbar\": {\"outlinewidth\": 0, \"ticks\": \"\"}}, \"type\": \"scattergeo\"}], \"scattergl\": [{\"marker\": {\"colorbar\": {\"outlinewidth\": 0, \"ticks\": \"\"}}, \"type\": \"scattergl\"}], \"scattermapbox\": [{\"marker\": {\"colorbar\": {\"outlinewidth\": 0, \"ticks\": \"\"}}, \"type\": \"scattermapbox\"}], \"scatterpolar\": [{\"marker\": {\"colorbar\": {\"outlinewidth\": 0, \"ticks\": \"\"}}, \"type\": \"scatterpolar\"}], \"scatterpolargl\": [{\"marker\": {\"colorbar\": {\"outlinewidth\": 0, \"ticks\": \"\"}}, \"type\": \"scatterpolargl\"}], \"scatterternary\": [{\"marker\": {\"colorbar\": {\"outlinewidth\": 0, \"ticks\": \"\"}}, \"type\": \"scatterternary\"}], \"surface\": [{\"colorbar\": {\"outlinewidth\": 0, \"ticks\": \"\"}, \"colorscale\": [[0.0, \"#0d0887\"], [0.1111111111111111, \"#46039f\"], [0.2222222222222222, \"#7201a8\"], [0.3333333333333333, \"#9c179e\"], [0.4444444444444444, \"#bd3786\"], [0.5555555555555556, \"#d8576b\"], [0.6666666666666666, \"#ed7953\"], [0.7777777777777778, \"#fb9f3a\"], [0.8888888888888888, \"#fdca26\"], [1.0, \"#f0f921\"]], \"type\": \"surface\"}], \"table\": [{\"cells\": {\"fill\": {\"color\": \"#EBF0F8\"}, \"line\": {\"color\": \"white\"}}, \"header\": {\"fill\": {\"color\": \"#C8D4E3\"}, \"line\": {\"color\": \"white\"}}, \"type\": \"table\"}]}, \"layout\": {\"annotationdefaults\": {\"arrowcolor\": \"#2a3f5f\", \"arrowhead\": 0, \"arrowwidth\": 1}, \"coloraxis\": {\"colorbar\": {\"outlinewidth\": 0, \"ticks\": \"\"}}, \"colorscale\": {\"diverging\": [[0, \"#8e0152\"], [0.1, \"#c51b7d\"], [0.2, \"#de77ae\"], [0.3, \"#f1b6da\"], [0.4, \"#fde0ef\"], [0.5, \"#f7f7f7\"], [0.6, \"#e6f5d0\"], [0.7, \"#b8e186\"], [0.8, \"#7fbc41\"], [0.9, \"#4d9221\"], [1, \"#276419\"]], \"sequential\": [[0.0, \"#0d0887\"], [0.1111111111111111, \"#46039f\"], [0.2222222222222222, \"#7201a8\"], [0.3333333333333333, \"#9c179e\"], [0.4444444444444444, \"#bd3786\"], [0.5555555555555556, \"#d8576b\"], [0.6666666666666666, \"#ed7953\"], [0.7777777777777778, \"#fb9f3a\"], [0.8888888888888888, \"#fdca26\"], [1.0, \"#f0f921\"]], \"sequentialminus\": [[0.0, \"#0d0887\"], [0.1111111111111111, \"#46039f\"], [0.2222222222222222, \"#7201a8\"], [0.3333333333333333, \"#9c179e\"], [0.4444444444444444, \"#bd3786\"], [0.5555555555555556, \"#d8576b\"], [0.6666666666666666, \"#ed7953\"], [0.7777777777777778, \"#fb9f3a\"], [0.8888888888888888, \"#fdca26\"], [1.0, \"#f0f921\"]]}, \"colorway\": [\"#636efa\", \"#EF553B\", \"#00cc96\", \"#ab63fa\", \"#FFA15A\", \"#19d3f3\", \"#FF6692\", \"#B6E880\", \"#FF97FF\", \"#FECB52\"], \"font\": {\"color\": \"#2a3f5f\"}, \"geo\": {\"bgcolor\": \"white\", \"lakecolor\": \"white\", \"landcolor\": \"#E5ECF6\", \"showlakes\": true, \"showland\": true, \"subunitcolor\": \"white\"}, \"hoverlabel\": {\"align\": \"left\"}, \"hovermode\": \"closest\", \"mapbox\": {\"style\": \"light\"}, \"paper_bgcolor\": \"white\", \"plot_bgcolor\": \"#E5ECF6\", \"polar\": {\"angularaxis\": {\"gridcolor\": \"white\", \"linecolor\": \"white\", \"ticks\": \"\"}, \"bgcolor\": \"#E5ECF6\", \"radialaxis\": {\"gridcolor\": \"white\", \"linecolor\": \"white\", \"ticks\": \"\"}}, \"scene\": {\"xaxis\": {\"backgroundcolor\": \"#E5ECF6\", \"gridcolor\": \"white\", \"gridwidth\": 2, \"linecolor\": \"white\", \"showbackground\": true, \"ticks\": \"\", \"zerolinecolor\": \"white\"}, \"yaxis\": {\"backgroundcolor\": \"#E5ECF6\", \"gridcolor\": \"white\", \"gridwidth\": 2, \"linecolor\": \"white\", \"showbackground\": true, \"ticks\": \"\", \"zerolinecolor\": \"white\"}, \"zaxis\": {\"backgroundcolor\": \"#E5ECF6\", \"gridcolor\": \"white\", \"gridwidth\": 2, \"linecolor\": \"white\", \"showbackground\": true, \"ticks\": \"\", \"zerolinecolor\": \"white\"}}, \"shapedefaults\": {\"line\": {\"color\": \"#2a3f5f\"}}, \"ternary\": {\"aaxis\": {\"gridcolor\": \"white\", \"linecolor\": \"white\", \"ticks\": \"\"}, \"baxis\": {\"gridcolor\": \"white\", \"linecolor\": \"white\", \"ticks\": \"\"}, \"bgcolor\": \"#E5ECF6\", \"caxis\": {\"gridcolor\": \"white\", \"linecolor\": \"white\", \"ticks\": \"\"}}, \"title\": {\"x\": 0.05}, \"xaxis\": {\"automargin\": true, \"gridcolor\": \"white\", \"linecolor\": \"white\", \"ticks\": \"\", \"title\": {\"standoff\": 15}, \"zerolinecolor\": \"white\", \"zerolinewidth\": 2}, \"yaxis\": {\"automargin\": true, \"gridcolor\": \"white\", \"linecolor\": \"white\", \"ticks\": \"\", \"title\": {\"standoff\": 15}, \"zerolinecolor\": \"white\", \"zerolinewidth\": 2}}}, \"xaxis\": {\"anchor\": \"y\", \"domain\": [0.0, 1.0], \"title\": {\"text\": \"variable\"}}, \"yaxis\": {\"anchor\": \"x\", \"domain\": [0.0, 1.0], \"title\": {\"text\": \"0\"}}},\n",
       "                        {\"responsive\": true}\n",
       "                    ).then(function(){\n",
       "                            \n",
       "var gd = document.getElementById('fa4dc153-3822-43b1-838d-0dcbc230ae48');\n",
       "var x = new MutationObserver(function (mutations, observer) {{\n",
       "        var display = window.getComputedStyle(gd).display;\n",
       "        if (!display || display === 'none') {{\n",
       "            console.log([gd, 'removed!']);\n",
       "            Plotly.purge(gd);\n",
       "            observer.disconnect();\n",
       "        }}\n",
       "}});\n",
       "\n",
       "// Listen for the removal of the full notebook cells\n",
       "var notebookContainer = gd.closest('#notebook-container');\n",
       "if (notebookContainer) {{\n",
       "    x.observe(notebookContainer, {childList: true});\n",
       "}}\n",
       "\n",
       "// Listen for the clearing of the current output cell\n",
       "var outputEl = gd.closest('.output');\n",
       "if (outputEl) {{\n",
       "    x.observe(outputEl, {childList: true});\n",
       "}}\n",
       "\n",
       "                        })\n",
       "                };\n",
       "                });\n",
       "            </script>\n",
       "        </div>"
      ]
     },
     "metadata": {},
     "output_type": "display_data"
    }
   ],
   "source": [
    "import plotly.express as px\n",
    "fig = px.scatter(unstacked, x=\"variable\", y=0, color=\"Fylke\")\n",
    "fig.update_traces(mode=\"markers+lines\")\n"
   ]
  },
  {
   "cell_type": "markdown",
   "metadata": {},
   "source": [
    "# moment"
   ]
  },
  {
   "cell_type": "code",
   "execution_count": 351,
   "metadata": {},
   "outputs": [
    {
     "data": {
      "text/html": [
       "<div>\n",
       "<style scoped>\n",
       "    .dataframe tbody tr th:only-of-type {\n",
       "        vertical-align: middle;\n",
       "    }\n",
       "\n",
       "    .dataframe tbody tr th {\n",
       "        vertical-align: top;\n",
       "    }\n",
       "\n",
       "    .dataframe thead th {\n",
       "        text-align: right;\n",
       "    }\n",
       "</style>\n",
       "<table border=\"1\" class=\"dataframe\">\n",
       "  <thead>\n",
       "    <tr style=\"text-align: right;\">\n",
       "      <th></th>\n",
       "      <th>Fylke</th>\n",
       "      <th>Vekstrate</th>\n",
       "      <th>- 1 uke</th>\n",
       "    </tr>\n",
       "  </thead>\n",
       "  <tbody>\n",
       "    <tr>\n",
       "      <td>0</td>\n",
       "      <td>Agder</td>\n",
       "      <td>3.980100</td>\n",
       "      <td>26.315789</td>\n",
       "    </tr>\n",
       "    <tr>\n",
       "      <td>1</td>\n",
       "      <td>Nordland</td>\n",
       "      <td>6.060606</td>\n",
       "      <td>22.222222</td>\n",
       "    </tr>\n",
       "    <tr>\n",
       "      <td>2</td>\n",
       "      <td>Vestland</td>\n",
       "      <td>6.824147</td>\n",
       "      <td>50.537634</td>\n",
       "    </tr>\n",
       "    <tr>\n",
       "      <td>3</td>\n",
       "      <td>Vestfold og Telemark</td>\n",
       "      <td>7.547170</td>\n",
       "      <td>166.666667</td>\n",
       "    </tr>\n",
       "    <tr>\n",
       "      <td>4</td>\n",
       "      <td>Møre og Romsdal</td>\n",
       "      <td>8.333333</td>\n",
       "      <td>13.333333</td>\n",
       "    </tr>\n",
       "  </tbody>\n",
       "</table>\n",
       "</div>"
      ],
      "text/plain": [
       "                  Fylke  Vekstrate     - 1 uke\n",
       "0                 Agder   3.980100   26.315789\n",
       "1              Nordland   6.060606   22.222222\n",
       "2              Vestland   6.824147   50.537634\n",
       "3  Vestfold og Telemark   7.547170  166.666667\n",
       "4       Møre og Romsdal   8.333333   13.333333"
      ]
     },
     "execution_count": 351,
     "metadata": {},
     "output_type": "execute_result"
    }
   ],
   "source": [
    "roc = df.copy()\n",
    "roc = roc.pct_change(periods=3)*100/3\n",
    "\n",
    "roc.iloc[[-1]].melt()\n",
    "roc1 = roc.iloc[[-1]].melt().rename(columns={\"value\": \"Vekstrate\"}).sort_values(by=['Vekstrate'], ascending=True)\n",
    "lastweek = roc.iloc[[-7]].melt().rename(columns={\"value\": \"- 1 uke\"})\n",
    "\n",
    "vekst = roc1.merge(lastweek, how=\"left\", on=\"Fylke\")\n",
    "vekst.head()"
   ]
  },
  {
   "cell_type": "code",
   "execution_count": 354,
   "metadata": {},
   "outputs": [
    {
     "data": {
      "text/html": [
       "<div>\n",
       "<style scoped>\n",
       "    .dataframe tbody tr th:only-of-type {\n",
       "        vertical-align: middle;\n",
       "    }\n",
       "\n",
       "    .dataframe tbody tr th {\n",
       "        vertical-align: top;\n",
       "    }\n",
       "\n",
       "    .dataframe thead th {\n",
       "        text-align: right;\n",
       "    }\n",
       "</style>\n",
       "<table border=\"1\" class=\"dataframe\">\n",
       "  <thead>\n",
       "    <tr style=\"text-align: right;\">\n",
       "      <th></th>\n",
       "      <th>Fylke</th>\n",
       "      <th>Vekstrate</th>\n",
       "      <th>- 1 uke</th>\n",
       "      <th>dtime</th>\n",
       "      <th>momentum</th>\n",
       "      <th>text</th>\n",
       "      <th>RHF</th>\n",
       "      <th>Befolkning</th>\n",
       "    </tr>\n",
       "  </thead>\n",
       "  <tbody>\n",
       "    <tr>\n",
       "      <td>0</td>\n",
       "      <td>Agder</td>\n",
       "      <td>3.98</td>\n",
       "      <td>26.32</td>\n",
       "      <td>17.760078</td>\n",
       "      <td>Avtagende</td>\n",
       "      <td>Hver 18.0 dag</td>\n",
       "      <td>Helse Sør-Øst</td>\n",
       "      <td>307231</td>\n",
       "    </tr>\n",
       "    <tr>\n",
       "      <td>1</td>\n",
       "      <td>Nordland</td>\n",
       "      <td>6.06</td>\n",
       "      <td>22.22</td>\n",
       "      <td>11.781248</td>\n",
       "      <td>Avtagende</td>\n",
       "      <td>Hver 12.0 dag</td>\n",
       "      <td>Helse Nord</td>\n",
       "      <td>241235</td>\n",
       "    </tr>\n",
       "    <tr>\n",
       "      <td>2</td>\n",
       "      <td>Vestland</td>\n",
       "      <td>6.82</td>\n",
       "      <td>50.54</td>\n",
       "      <td>10.506211</td>\n",
       "      <td>Avtagende</td>\n",
       "      <td>Hver 11.0 dag</td>\n",
       "      <td>Helse Vest</td>\n",
       "      <td>636531</td>\n",
       "    </tr>\n",
       "    <tr>\n",
       "      <td>3</td>\n",
       "      <td>Vestfold og Telemark</td>\n",
       "      <td>7.55</td>\n",
       "      <td>166.67</td>\n",
       "      <td>9.523127</td>\n",
       "      <td>Avtagende</td>\n",
       "      <td>Hver 10.0 dag</td>\n",
       "      <td>Helse Sør-Øst</td>\n",
       "      <td>419396</td>\n",
       "    </tr>\n",
       "    <tr>\n",
       "      <td>4</td>\n",
       "      <td>Møre og Romsdal</td>\n",
       "      <td>8.33</td>\n",
       "      <td>13.33</td>\n",
       "      <td>8.663047</td>\n",
       "      <td>Avtagende</td>\n",
       "      <td>Hver 9.0 dag</td>\n",
       "      <td>Helse Midt-Norge</td>\n",
       "      <td>265238</td>\n",
       "    </tr>\n",
       "    <tr>\n",
       "      <td>5</td>\n",
       "      <td>Innlandet</td>\n",
       "      <td>9.88</td>\n",
       "      <td>68.75</td>\n",
       "      <td>7.356792</td>\n",
       "      <td>Avtagende</td>\n",
       "      <td>Hver 7.0 dag</td>\n",
       "      <td>Helse Sør-Øst</td>\n",
       "      <td>371385</td>\n",
       "    </tr>\n",
       "    <tr>\n",
       "      <td>6</td>\n",
       "      <td>Troms og Finnmark</td>\n",
       "      <td>11.11</td>\n",
       "      <td>33.33</td>\n",
       "      <td>6.579438</td>\n",
       "      <td>Avtagende</td>\n",
       "      <td>Hver 7.0 dag</td>\n",
       "      <td>Helse Nord</td>\n",
       "      <td>243311</td>\n",
       "    </tr>\n",
       "    <tr>\n",
       "      <td>7</td>\n",
       "      <td>Oslo</td>\n",
       "      <td>11.42</td>\n",
       "      <td>101.96</td>\n",
       "      <td>6.409919</td>\n",
       "      <td>Avtagende</td>\n",
       "      <td>Hver 6.0 dag</td>\n",
       "      <td>Helse Sør-Øst</td>\n",
       "      <td>693494</td>\n",
       "    </tr>\n",
       "    <tr>\n",
       "      <td>8</td>\n",
       "      <td>Rogaland</td>\n",
       "      <td>11.45</td>\n",
       "      <td>72.73</td>\n",
       "      <td>6.394000</td>\n",
       "      <td>Avtagende</td>\n",
       "      <td>Hver 6.0 dag</td>\n",
       "      <td>Helse Vest</td>\n",
       "      <td>479892</td>\n",
       "    </tr>\n",
       "    <tr>\n",
       "      <td>9</td>\n",
       "      <td>Viken</td>\n",
       "      <td>13.91</td>\n",
       "      <td>36.43</td>\n",
       "      <td>5.322138</td>\n",
       "      <td>Avtagende</td>\n",
       "      <td>Hver 5.0 dag</td>\n",
       "      <td>Helse Sør-Øst</td>\n",
       "      <td>1241165</td>\n",
       "    </tr>\n",
       "    <tr>\n",
       "      <td>10</td>\n",
       "      <td>Trøndelag</td>\n",
       "      <td>14.74</td>\n",
       "      <td>31.82</td>\n",
       "      <td>5.041125</td>\n",
       "      <td>Avtagende</td>\n",
       "      <td>Hver 5.0 dag</td>\n",
       "      <td>Helse Midt-Norge</td>\n",
       "      <td>468702</td>\n",
       "    </tr>\n",
       "  </tbody>\n",
       "</table>\n",
       "</div>"
      ],
      "text/plain": [
       "                   Fylke  Vekstrate  - 1 uke      dtime   momentum  \\\n",
       "0                  Agder       3.98    26.32  17.760078  Avtagende   \n",
       "1               Nordland       6.06    22.22  11.781248  Avtagende   \n",
       "2               Vestland       6.82    50.54  10.506211  Avtagende   \n",
       "3   Vestfold og Telemark       7.55   166.67   9.523127  Avtagende   \n",
       "4        Møre og Romsdal       8.33    13.33   8.663047  Avtagende   \n",
       "5              Innlandet       9.88    68.75   7.356792  Avtagende   \n",
       "6      Troms og Finnmark      11.11    33.33   6.579438  Avtagende   \n",
       "7                   Oslo      11.42   101.96   6.409919  Avtagende   \n",
       "8               Rogaland      11.45    72.73   6.394000  Avtagende   \n",
       "9                  Viken      13.91    36.43   5.322138  Avtagende   \n",
       "10             Trøndelag      14.74    31.82   5.041125  Avtagende   \n",
       "\n",
       "             text               RHF  Befolkning  \n",
       "0   Hver 18.0 dag     Helse Sør-Øst      307231  \n",
       "1   Hver 12.0 dag        Helse Nord      241235  \n",
       "2   Hver 11.0 dag        Helse Vest      636531  \n",
       "3   Hver 10.0 dag     Helse Sør-Øst      419396  \n",
       "4    Hver 9.0 dag  Helse Midt-Norge      265238  \n",
       "5    Hver 7.0 dag     Helse Sør-Øst      371385  \n",
       "6    Hver 7.0 dag        Helse Nord      243311  \n",
       "7    Hver 6.0 dag     Helse Sør-Øst      693494  \n",
       "8    Hver 6.0 dag        Helse Vest      479892  \n",
       "9    Hver 5.0 dag     Helse Sør-Øst     1241165  \n",
       "10   Hver 5.0 dag  Helse Midt-Norge      468702  "
      ]
     },
     "execution_count": 354,
     "metadata": {},
     "output_type": "execute_result"
    }
   ],
   "source": [
    "vekst[\"dtime\"] = np.log(2)/np.log(1+(vekst[\"Vekstrate\"]/100))\n",
    "#vekst[\"dtime\"] = (72/(vekst[\"Vekstrate\"]))\n",
    "vekst[\"momentum\"] = vekst[\"Vekstrate\"]-vekst[\"- 1 uke\"]\n",
    "vekst[\"momentum\"] = vekst[\"momentum\"].apply(lambda x: \"Avtagende\" if x < 0 else \"Tiltagende\")\n",
    "vekst[\"text\"] = \"Hver \"+vekst[\"dtime\"].round(0).astype(str)+\" dag\"\n",
    "vekst[\"Vekstrate\"] = vekst[\"Vekstrate\"].round(2)\n",
    "vekst[\"- 1 uke\"] = vekst[\"- 1 uke\"].round(2)\n",
    "vekst = vekst.merge(fylker, how=\"left\", on=\"Fylke\")\n",
    "\n",
    "vekst"
   ]
  },
  {
   "cell_type": "code",
   "execution_count": 376,
   "metadata": {},
   "outputs": [
    {
     "data": {
      "text/plain": [
       "'https://plot.ly/~oystein.nerva/58/'"
      ]
     },
     "execution_count": 376,
     "metadata": {},
     "output_type": "execute_result"
    }
   ],
   "source": [
    "from datetime import datetime\n",
    "\n",
    "legend = [i for i in vekst[\"RHF\"].unique()]\n",
    "legend.sort()\n",
    "\n",
    "fig = px.bar(vekst, \n",
    "             x='Vekstrate', y='Fylke', \n",
    "             orientation='h',\n",
    "             category_orders={\"RHF\": legend},\n",
    "             height=500,\n",
    "             title = \"<b>Endringer i antall registrerte smittede pr fylke</b><br>Gjennomsnittlig veksttakt siste tre dager<br>Datakilde: FHI - folkehelseinstituttet. Oppdatert \" +datetime.today().strftime('%d.%m.%Y'),\n",
    "             color='RHF',\n",
    "             text=\"text\",\n",
    "             hover_name=\"Fylke\",\n",
    "             hover_data=[\"Vekstrate\"],\n",
    "             template = \"plotly_white\", \n",
    "             labels = {\"Vekstrate\": \"daglig vekst (%)\", \"- 1 uke\": \"Daglig vekst for en uke siden\", \"text\": \"Dager før dobling med dagens vekst\"},\n",
    "            )\n",
    "\n",
    "\"\"\"\n",
    "fig.add_shape(\n",
    "        # doubling time 2 days\n",
    "        dict(\n",
    "            type=\"line\",\n",
    "            x0=41.42136,\n",
    "            y0=-0.5,\n",
    "            x1=41.42136,\n",
    "            y1=21.5,\n",
    "            line=dict(\n",
    "                color=\"Black\",\n",
    "                width=1\n",
    "            )))\n",
    "fig.add_shape(\n",
    "        # doubling time 1 uke\n",
    "        dict(\n",
    "            type=\"line\",\n",
    "            x0=10.40895,\n",
    "            y0=-0.5,\n",
    "            x1=10.40895,\n",
    "            y1=21.5,\n",
    "            line=dict(\n",
    "                color=\"Black\",\n",
    "                width=1\n",
    "            )))\n",
    "\n",
    "\"\"\"\n",
    "fig.layout.coloraxis.showscale = False\n",
    "\n",
    "fig.update_layout(\n",
    "    yaxis=dict(\n",
    "        separatethousands=True,\n",
    "        categoryorder = 'total ascending',\n",
    "        title_text=\"\",\n",
    "        fixedrange=True,\n",
    "    ), xaxis=dict(fixedrange=True,\n",
    "                 title_text=\"\"),\n",
    "    title_font=dict(family=\"Helvetica\", size=18),\n",
    "        margin=dict(b=150)) #bottom margin\n",
    "\n",
    "fig.update_layout(autosize=True,\n",
    "    margin=dict(l=100, r=100, t=150, b=0),\n",
    "    paper_bgcolor='rgba(0, 0, 0, 0)'\n",
    "    #plot_bgcolor='rgb(248, 248, 255)'    \n",
    "                 )\n",
    "\n",
    "#plotly.offline.plot(fig, filename='COVID_moment_fylke.html')\n",
    "#py.plot(fig, filename='COVID19_vekstmomentum_fylker.html')"
   ]
  },
  {
   "cell_type": "markdown",
   "metadata": {},
   "source": [
    "# animation"
   ]
  },
  {
   "cell_type": "code",
   "execution_count": 331,
   "metadata": {},
   "outputs": [
    {
     "data": {
      "text/html": [
       "<div>\n",
       "<style scoped>\n",
       "    .dataframe tbody tr th:only-of-type {\n",
       "        vertical-align: middle;\n",
       "    }\n",
       "\n",
       "    .dataframe tbody tr th {\n",
       "        vertical-align: top;\n",
       "    }\n",
       "\n",
       "    .dataframe thead th {\n",
       "        text-align: right;\n",
       "    }\n",
       "</style>\n",
       "<table border=\"1\" class=\"dataframe\">\n",
       "  <thead>\n",
       "    <tr style=\"text-align: right;\">\n",
       "      <th></th>\n",
       "      <th>variable</th>\n",
       "      <th>Fylke</th>\n",
       "      <th>Registrerte smittede</th>\n",
       "      <th>RHF</th>\n",
       "      <th>Befolkning</th>\n",
       "      <th>Smittede/tusen innb</th>\n",
       "      <th>txt</th>\n",
       "    </tr>\n",
       "  </thead>\n",
       "  <tbody>\n",
       "    <tr>\n",
       "      <td>0</td>\n",
       "      <td>09 Mar</td>\n",
       "      <td>Agder</td>\n",
       "      <td>19</td>\n",
       "      <td>Helse Sør-Øst</td>\n",
       "      <td>307231</td>\n",
       "      <td>0.061843</td>\n",
       "      <td>0.06</td>\n",
       "    </tr>\n",
       "    <tr>\n",
       "      <td>1</td>\n",
       "      <td>09 Mar</td>\n",
       "      <td>Vestland</td>\n",
       "      <td>31</td>\n",
       "      <td>Helse Vest</td>\n",
       "      <td>636531</td>\n",
       "      <td>0.048701</td>\n",
       "      <td>0.05</td>\n",
       "    </tr>\n",
       "    <tr>\n",
       "      <td>2</td>\n",
       "      <td>09 Mar</td>\n",
       "      <td>Oslo</td>\n",
       "      <td>51</td>\n",
       "      <td>Helse Sør-Øst</td>\n",
       "      <td>693494</td>\n",
       "      <td>0.073541</td>\n",
       "      <td>0.07</td>\n",
       "    </tr>\n",
       "    <tr>\n",
       "      <td>3</td>\n",
       "      <td>09 Mar</td>\n",
       "      <td>Trøndelag</td>\n",
       "      <td>22</td>\n",
       "      <td>Helse Midt-Norge</td>\n",
       "      <td>468702</td>\n",
       "      <td>0.046938</td>\n",
       "      <td>0.05</td>\n",
       "    </tr>\n",
       "    <tr>\n",
       "      <td>4</td>\n",
       "      <td>09 Mar</td>\n",
       "      <td>Møre og Romsdal</td>\n",
       "      <td>5</td>\n",
       "      <td>Helse Midt-Norge</td>\n",
       "      <td>265238</td>\n",
       "      <td>0.018851</td>\n",
       "      <td>0.02</td>\n",
       "    </tr>\n",
       "  </tbody>\n",
       "</table>\n",
       "</div>"
      ],
      "text/plain": [
       "  variable            Fylke  Registrerte smittede               RHF  \\\n",
       "0   09 Mar            Agder                    19     Helse Sør-Øst   \n",
       "1   09 Mar         Vestland                    31        Helse Vest   \n",
       "2   09 Mar             Oslo                    51     Helse Sør-Øst   \n",
       "3   09 Mar        Trøndelag                    22  Helse Midt-Norge   \n",
       "4   09 Mar  Møre og Romsdal                     5  Helse Midt-Norge   \n",
       "\n",
       "   Befolkning  Smittede/tusen innb   txt  \n",
       "0      307231             0.061843  0.06  \n",
       "1      636531             0.048701  0.05  \n",
       "2      693494             0.073541  0.07  \n",
       "3      468702             0.046938  0.05  \n",
       "4      265238             0.018851  0.02  "
      ]
     },
     "execution_count": 331,
     "metadata": {},
     "output_type": "execute_result"
    }
   ],
   "source": [
    "melted = pd.melt(df.reset_index(), id_vars=[\"variable\"], var_name=\"Fylke\", value_name=\"Registrerte smittede\").dropna().sort_values(by=[\"variable\"])\n",
    "melted[\"variable\"] = melted[\"variable\"].apply(lambda x: x.strftime(\"%d %b\"))\n",
    "melted = melted.merge(fylker, how=\"left\", on=\"Fylke\")\n",
    "melted[\"Smittede/tusen innb\"] = melted[\"Registrerte smittede\"]/(melted[\"Befolkning\"]/1000)\n",
    "melted[\"txt\"] = melted[\"Smittede/tusen innb\"].round(2).astype(str)\n",
    "melted.head()"
   ]
  },
  {
   "cell_type": "code",
   "execution_count": 374,
   "metadata": {
    "scrolled": false
   },
   "outputs": [
    {
     "data": {
      "application/vnd.plotly.v1+json": {
       "config": {
        "plotlyServerURL": "https://plot.ly"
       },
       "data": [
        {
         "alignmentgroup": "True",
         "hoverlabel": {
          "namelength": 0
         },
         "hovertemplate": "RHF=Helse Midt-Norge<br>Dato=09 Mar<br>Registrerte smittede=%{text}<br>Fylke=%{y}",
         "ids": [
          "Trøndelag",
          "Møre og Romsdal"
         ],
         "legendgroup": "Helse Midt-Norge",
         "marker": {
          "color": "#636efa"
         },
         "name": "Helse Midt-Norge",
         "offsetgroup": "Helse Midt-Norge",
         "orientation": "h",
         "showlegend": true,
         "text": [
          22,
          5
         ],
         "textposition": "auto",
         "type": "bar",
         "x": [
          22,
          5
         ],
         "xaxis": "x",
         "y": [
          "Trøndelag",
          "Møre og Romsdal"
         ],
         "yaxis": "y"
        },
        {
         "alignmentgroup": "True",
         "hoverlabel": {
          "namelength": 0
         },
         "hovertemplate": "RHF=Helse Nord<br>Dato=09 Mar<br>Registrerte smittede=%{text}<br>Fylke=%{y}",
         "ids": [
          "Nordland",
          "Troms og Finnmark"
         ],
         "legendgroup": "Helse Nord",
         "marker": {
          "color": "#EF553B"
         },
         "name": "Helse Nord",
         "offsetgroup": "Helse Nord",
         "orientation": "h",
         "showlegend": true,
         "text": [
          3,
          6
         ],
         "textposition": "auto",
         "type": "bar",
         "x": [
          3,
          6
         ],
         "xaxis": "x",
         "y": [
          "Nordland",
          "Troms og Finnmark"
         ],
         "yaxis": "y"
        },
        {
         "alignmentgroup": "True",
         "hoverlabel": {
          "namelength": 0
         },
         "hovertemplate": "RHF=Helse Sør-Øst<br>Dato=09 Mar<br>Registrerte smittede=%{text}<br>Fylke=%{y}",
         "ids": [
          "Agder",
          "Oslo",
          "Viken",
          "Innlandet",
          "Vestfold og Telemark"
         ],
         "legendgroup": "Helse Sør-Øst",
         "marker": {
          "color": "#00cc96"
         },
         "name": "Helse Sør-Øst",
         "offsetgroup": "Helse Sør-Øst",
         "orientation": "h",
         "showlegend": true,
         "text": [
          19,
          51,
          86,
          16,
          5
         ],
         "textposition": "auto",
         "type": "bar",
         "x": [
          19,
          51,
          86,
          16,
          5
         ],
         "xaxis": "x",
         "y": [
          "Agder",
          "Oslo",
          "Viken",
          "Innlandet",
          "Vestfold og Telemark"
         ],
         "yaxis": "y"
        },
        {
         "alignmentgroup": "True",
         "hoverlabel": {
          "namelength": 0
         },
         "hovertemplate": "RHF=Helse Vest<br>Dato=09 Mar<br>Registrerte smittede=%{text}<br>Fylke=%{y}",
         "ids": [
          "Vestland",
          "Rogaland"
         ],
         "legendgroup": "Helse Vest",
         "marker": {
          "color": "#ab63fa"
         },
         "name": "Helse Vest",
         "offsetgroup": "Helse Vest",
         "orientation": "h",
         "showlegend": true,
         "text": [
          31,
          33
         ],
         "textposition": "auto",
         "type": "bar",
         "x": [
          31,
          33
         ],
         "xaxis": "x",
         "y": [
          "Vestland",
          "Rogaland"
         ],
         "yaxis": "y"
        }
       ],
       "frames": [
        {
         "data": [
          {
           "alignmentgroup": "True",
           "hoverlabel": {
            "namelength": 0
           },
           "hovertemplate": "RHF=Helse Midt-Norge<br>Dato=09 Mar<br>Registrerte smittede=%{text}<br>Fylke=%{y}",
           "ids": [
            "Trøndelag",
            "Møre og Romsdal"
           ],
           "legendgroup": "Helse Midt-Norge",
           "marker": {
            "color": "#636efa"
           },
           "name": "Helse Midt-Norge",
           "offsetgroup": "Helse Midt-Norge",
           "orientation": "h",
           "showlegend": true,
           "text": [
            22,
            5
           ],
           "textposition": "auto",
           "type": "bar",
           "x": [
            22,
            5
           ],
           "xaxis": "x",
           "y": [
            "Trøndelag",
            "Møre og Romsdal"
           ],
           "yaxis": "y"
          },
          {
           "alignmentgroup": "True",
           "hoverlabel": {
            "namelength": 0
           },
           "hovertemplate": "RHF=Helse Nord<br>Dato=09 Mar<br>Registrerte smittede=%{text}<br>Fylke=%{y}",
           "ids": [
            "Nordland",
            "Troms og Finnmark"
           ],
           "legendgroup": "Helse Nord",
           "marker": {
            "color": "#EF553B"
           },
           "name": "Helse Nord",
           "offsetgroup": "Helse Nord",
           "orientation": "h",
           "showlegend": true,
           "text": [
            3,
            6
           ],
           "textposition": "auto",
           "type": "bar",
           "x": [
            3,
            6
           ],
           "xaxis": "x",
           "y": [
            "Nordland",
            "Troms og Finnmark"
           ],
           "yaxis": "y"
          },
          {
           "alignmentgroup": "True",
           "hoverlabel": {
            "namelength": 0
           },
           "hovertemplate": "RHF=Helse Sør-Øst<br>Dato=09 Mar<br>Registrerte smittede=%{text}<br>Fylke=%{y}",
           "ids": [
            "Agder",
            "Oslo",
            "Viken",
            "Innlandet",
            "Vestfold og Telemark"
           ],
           "legendgroup": "Helse Sør-Øst",
           "marker": {
            "color": "#00cc96"
           },
           "name": "Helse Sør-Øst",
           "offsetgroup": "Helse Sør-Øst",
           "orientation": "h",
           "showlegend": true,
           "text": [
            19,
            51,
            86,
            16,
            5
           ],
           "textposition": "auto",
           "type": "bar",
           "x": [
            19,
            51,
            86,
            16,
            5
           ],
           "xaxis": "x",
           "y": [
            "Agder",
            "Oslo",
            "Viken",
            "Innlandet",
            "Vestfold og Telemark"
           ],
           "yaxis": "y"
          },
          {
           "alignmentgroup": "True",
           "hoverlabel": {
            "namelength": 0
           },
           "hovertemplate": "RHF=Helse Vest<br>Dato=09 Mar<br>Registrerte smittede=%{text}<br>Fylke=%{y}",
           "ids": [
            "Vestland",
            "Rogaland"
           ],
           "legendgroup": "Helse Vest",
           "marker": {
            "color": "#ab63fa"
           },
           "name": "Helse Vest",
           "offsetgroup": "Helse Vest",
           "orientation": "h",
           "showlegend": true,
           "text": [
            31,
            33
           ],
           "textposition": "auto",
           "type": "bar",
           "x": [
            31,
            33
           ],
           "xaxis": "x",
           "y": [
            "Vestland",
            "Rogaland"
           ],
           "yaxis": "y"
          }
         ],
         "name": "09 Mar"
        },
        {
         "data": [
          {
           "alignmentgroup": "True",
           "hoverlabel": {
            "namelength": 0
           },
           "hovertemplate": "RHF=Helse Midt-Norge<br>Dato=10 Mar<br>Registrerte smittede=%{text}<br>Fylke=%{y}",
           "ids": [
            "Trøndelag",
            "Møre og Romsdal"
           ],
           "legendgroup": "Helse Midt-Norge",
           "marker": {
            "color": "#636efa"
           },
           "name": "Helse Midt-Norge",
           "offsetgroup": "Helse Midt-Norge",
           "orientation": "h",
           "showlegend": true,
           "text": [
            22,
            5
           ],
           "textposition": "auto",
           "type": "bar",
           "x": [
            22,
            5
           ],
           "xaxis": "x",
           "y": [
            "Trøndelag",
            "Møre og Romsdal"
           ],
           "yaxis": "y"
          },
          {
           "alignmentgroup": "True",
           "hoverlabel": {
            "namelength": 0
           },
           "hovertemplate": "RHF=Helse Nord<br>Dato=10 Mar<br>Registrerte smittede=%{text}<br>Fylke=%{y}",
           "ids": [
            "Troms og Finnmark",
            "Nordland"
           ],
           "legendgroup": "Helse Nord",
           "marker": {
            "color": "#EF553B"
           },
           "name": "Helse Nord",
           "offsetgroup": "Helse Nord",
           "orientation": "h",
           "showlegend": true,
           "text": [
            6,
            3
           ],
           "textposition": "auto",
           "type": "bar",
           "x": [
            6,
            3
           ],
           "xaxis": "x",
           "y": [
            "Troms og Finnmark",
            "Nordland"
           ],
           "yaxis": "y"
          },
          {
           "alignmentgroup": "True",
           "hoverlabel": {
            "namelength": 0
           },
           "hovertemplate": "RHF=Helse Sør-Øst<br>Dato=10 Mar<br>Registrerte smittede=%{text}<br>Fylke=%{y}",
           "ids": [
            "Agder",
            "Oslo",
            "Innlandet",
            "Viken",
            "Vestfold og Telemark"
           ],
           "legendgroup": "Helse Sør-Øst",
           "marker": {
            "color": "#00cc96"
           },
           "name": "Helse Sør-Øst",
           "offsetgroup": "Helse Sør-Øst",
           "orientation": "h",
           "showlegend": true,
           "text": [
            19,
            51,
            16,
            86,
            5
           ],
           "textposition": "auto",
           "type": "bar",
           "x": [
            19,
            51,
            16,
            86,
            5
           ],
           "xaxis": "x",
           "y": [
            "Agder",
            "Oslo",
            "Innlandet",
            "Viken",
            "Vestfold og Telemark"
           ],
           "yaxis": "y"
          },
          {
           "alignmentgroup": "True",
           "hoverlabel": {
            "namelength": 0
           },
           "hovertemplate": "RHF=Helse Vest<br>Dato=10 Mar<br>Registrerte smittede=%{text}<br>Fylke=%{y}",
           "ids": [
            "Vestland",
            "Rogaland"
           ],
           "legendgroup": "Helse Vest",
           "marker": {
            "color": "#ab63fa"
           },
           "name": "Helse Vest",
           "offsetgroup": "Helse Vest",
           "orientation": "h",
           "showlegend": true,
           "text": [
            31,
            33
           ],
           "textposition": "auto",
           "type": "bar",
           "x": [
            31,
            33
           ],
           "xaxis": "x",
           "y": [
            "Vestland",
            "Rogaland"
           ],
           "yaxis": "y"
          }
         ],
         "name": "10 Mar"
        },
        {
         "data": [
          {
           "alignmentgroup": "True",
           "hoverlabel": {
            "namelength": 0
           },
           "hovertemplate": "RHF=Helse Midt-Norge<br>Dato=11 Mar<br>Registrerte smittede=%{text}<br>Fylke=%{y}",
           "ids": [
            "Trøndelag",
            "Møre og Romsdal"
           ],
           "legendgroup": "Helse Midt-Norge",
           "marker": {
            "color": "#636efa"
           },
           "name": "Helse Midt-Norge",
           "offsetgroup": "Helse Midt-Norge",
           "orientation": "h",
           "showlegend": true,
           "text": [
            25,
            7
           ],
           "textposition": "auto",
           "type": "bar",
           "x": [
            25,
            7
           ],
           "xaxis": "x",
           "y": [
            "Trøndelag",
            "Møre og Romsdal"
           ],
           "yaxis": "y"
          },
          {
           "alignmentgroup": "True",
           "hoverlabel": {
            "namelength": 0
           },
           "hovertemplate": "RHF=Helse Nord<br>Dato=11 Mar<br>Registrerte smittede=%{text}<br>Fylke=%{y}",
           "ids": [
            "Troms og Finnmark",
            "Nordland"
           ],
           "legendgroup": "Helse Nord",
           "marker": {
            "color": "#EF553B"
           },
           "name": "Helse Nord",
           "offsetgroup": "Helse Nord",
           "orientation": "h",
           "showlegend": true,
           "text": [
            7,
            3
           ],
           "textposition": "auto",
           "type": "bar",
           "x": [
            7,
            3
           ],
           "xaxis": "x",
           "y": [
            "Troms og Finnmark",
            "Nordland"
           ],
           "yaxis": "y"
          },
          {
           "alignmentgroup": "True",
           "hoverlabel": {
            "namelength": 0
           },
           "hovertemplate": "RHF=Helse Sør-Øst<br>Dato=11 Mar<br>Registrerte smittede=%{text}<br>Fylke=%{y}",
           "ids": [
            "Vestfold og Telemark",
            "Oslo",
            "Innlandet",
            "Viken",
            "Agder"
           ],
           "legendgroup": "Helse Sør-Øst",
           "marker": {
            "color": "#00cc96"
           },
           "name": "Helse Sør-Øst",
           "offsetgroup": "Helse Sør-Øst",
           "orientation": "h",
           "showlegend": true,
           "text": [
            15,
            123,
            23,
            124,
            20
           ],
           "textposition": "auto",
           "type": "bar",
           "x": [
            15,
            123,
            23,
            124,
            20
           ],
           "xaxis": "x",
           "y": [
            "Vestfold og Telemark",
            "Oslo",
            "Innlandet",
            "Viken",
            "Agder"
           ],
           "yaxis": "y"
          },
          {
           "alignmentgroup": "True",
           "hoverlabel": {
            "namelength": 0
           },
           "hovertemplate": "RHF=Helse Vest<br>Dato=11 Mar<br>Registrerte smittede=%{text}<br>Fylke=%{y}",
           "ids": [
            "Vestland",
            "Rogaland"
           ],
           "legendgroup": "Helse Vest",
           "marker": {
            "color": "#ab63fa"
           },
           "name": "Helse Vest",
           "offsetgroup": "Helse Vest",
           "orientation": "h",
           "showlegend": true,
           "text": [
            41,
            71
           ],
           "textposition": "auto",
           "type": "bar",
           "x": [
            41,
            71
           ],
           "xaxis": "x",
           "y": [
            "Vestland",
            "Rogaland"
           ],
           "yaxis": "y"
          }
         ],
         "name": "11 Mar"
        },
        {
         "data": [
          {
           "alignmentgroup": "True",
           "hoverlabel": {
            "namelength": 0
           },
           "hovertemplate": "RHF=Helse Midt-Norge<br>Dato=12 Mar<br>Registrerte smittede=%{text}<br>Fylke=%{y}",
           "ids": [
            "Trøndelag",
            "Møre og Romsdal"
           ],
           "legendgroup": "Helse Midt-Norge",
           "marker": {
            "color": "#636efa"
           },
           "name": "Helse Midt-Norge",
           "offsetgroup": "Helse Midt-Norge",
           "orientation": "h",
           "showlegend": true,
           "text": [
            37,
            6
           ],
           "textposition": "auto",
           "type": "bar",
           "x": [
            37,
            6
           ],
           "xaxis": "x",
           "y": [
            "Trøndelag",
            "Møre og Romsdal"
           ],
           "yaxis": "y"
          },
          {
           "alignmentgroup": "True",
           "hoverlabel": {
            "namelength": 0
           },
           "hovertemplate": "RHF=Helse Nord<br>Dato=12 Mar<br>Registrerte smittede=%{text}<br>Fylke=%{y}",
           "ids": [
            "Troms og Finnmark",
            "Nordland"
           ],
           "legendgroup": "Helse Nord",
           "marker": {
            "color": "#EF553B"
           },
           "name": "Helse Nord",
           "offsetgroup": "Helse Nord",
           "orientation": "h",
           "showlegend": true,
           "text": [
            11,
            4
           ],
           "textposition": "auto",
           "type": "bar",
           "x": [
            11,
            4
           ],
           "xaxis": "x",
           "y": [
            "Troms og Finnmark",
            "Nordland"
           ],
           "yaxis": "y"
          },
          {
           "alignmentgroup": "True",
           "hoverlabel": {
            "namelength": 0
           },
           "hovertemplate": "RHF=Helse Sør-Øst<br>Dato=12 Mar<br>Registrerte smittede=%{text}<br>Fylke=%{y}",
           "ids": [
            "Oslo",
            "Vestfold og Telemark",
            "Agder",
            "Viken",
            "Innlandet"
           ],
           "legendgroup": "Helse Sør-Øst",
           "marker": {
            "color": "#00cc96"
           },
           "name": "Helse Sør-Øst",
           "offsetgroup": "Helse Sør-Øst",
           "orientation": "h",
           "showlegend": true,
           "text": [
            166,
            22,
            32,
            154,
            40
           ],
           "textposition": "auto",
           "type": "bar",
           "x": [
            166,
            22,
            32,
            154,
            40
           ],
           "xaxis": "x",
           "y": [
            "Oslo",
            "Vestfold og Telemark",
            "Agder",
            "Viken",
            "Innlandet"
           ],
           "yaxis": "y"
          },
          {
           "alignmentgroup": "True",
           "hoverlabel": {
            "namelength": 0
           },
           "hovertemplate": "RHF=Helse Vest<br>Dato=12 Mar<br>Registrerte smittede=%{text}<br>Fylke=%{y}",
           "ids": [
            "Rogaland",
            "Vestland"
           ],
           "legendgroup": "Helse Vest",
           "marker": {
            "color": "#ab63fa"
           },
           "name": "Helse Vest",
           "offsetgroup": "Helse Vest",
           "orientation": "h",
           "showlegend": true,
           "text": [
            82,
            67
           ],
           "textposition": "auto",
           "type": "bar",
           "x": [
            82,
            67
           ],
           "xaxis": "x",
           "y": [
            "Rogaland",
            "Vestland"
           ],
           "yaxis": "y"
          }
         ],
         "name": "12 Mar"
        },
        {
         "data": [
          {
           "alignmentgroup": "True",
           "hoverlabel": {
            "namelength": 0
           },
           "hovertemplate": "RHF=Helse Midt-Norge<br>Dato=13 Mar<br>Registrerte smittede=%{text}<br>Fylke=%{y}",
           "ids": [
            "Møre og Romsdal",
            "Trøndelag"
           ],
           "legendgroup": "Helse Midt-Norge",
           "marker": {
            "color": "#636efa"
           },
           "name": "Helse Midt-Norge",
           "offsetgroup": "Helse Midt-Norge",
           "orientation": "h",
           "showlegend": true,
           "text": [
            7,
            43
           ],
           "textposition": "auto",
           "type": "bar",
           "x": [
            7,
            43
           ],
           "xaxis": "x",
           "y": [
            "Møre og Romsdal",
            "Trøndelag"
           ],
           "yaxis": "y"
          },
          {
           "alignmentgroup": "True",
           "hoverlabel": {
            "namelength": 0
           },
           "hovertemplate": "RHF=Helse Nord<br>Dato=13 Mar<br>Registrerte smittede=%{text}<br>Fylke=%{y}",
           "ids": [
            "Nordland",
            "Troms og Finnmark"
           ],
           "legendgroup": "Helse Nord",
           "marker": {
            "color": "#EF553B"
           },
           "name": "Helse Nord",
           "offsetgroup": "Helse Nord",
           "orientation": "h",
           "showlegend": true,
           "text": [
            5,
            12
           ],
           "textposition": "auto",
           "type": "bar",
           "x": [
            5,
            12
           ],
           "xaxis": "x",
           "y": [
            "Nordland",
            "Troms og Finnmark"
           ],
           "yaxis": "y"
          },
          {
           "alignmentgroup": "True",
           "hoverlabel": {
            "namelength": 0
           },
           "hovertemplate": "RHF=Helse Sør-Øst<br>Dato=13 Mar<br>Registrerte smittede=%{text}<br>Fylke=%{y}",
           "ids": [
            "Agder",
            "Viken",
            "Innlandet",
            "Oslo",
            "Vestfold og Telemark"
           ],
           "legendgroup": "Helse Sør-Øst",
           "marker": {
            "color": "#00cc96"
           },
           "name": "Helse Sør-Øst",
           "offsetgroup": "Helse Sør-Øst",
           "orientation": "h",
           "showlegend": true,
           "text": [
            34,
            180,
            49,
            207,
            30
           ],
           "textposition": "auto",
           "type": "bar",
           "x": [
            34,
            180,
            49,
            207,
            30
           ],
           "xaxis": "x",
           "y": [
            "Agder",
            "Viken",
            "Innlandet",
            "Oslo",
            "Vestfold og Telemark"
           ],
           "yaxis": "y"
          },
          {
           "alignmentgroup": "True",
           "hoverlabel": {
            "namelength": 0
           },
           "hovertemplate": "RHF=Helse Vest<br>Dato=13 Mar<br>Registrerte smittede=%{text}<br>Fylke=%{y}",
           "ids": [
            "Vestland",
            "Rogaland"
           ],
           "legendgroup": "Helse Vest",
           "marker": {
            "color": "#ab63fa"
           },
           "name": "Helse Vest",
           "offsetgroup": "Helse Vest",
           "orientation": "h",
           "showlegend": true,
           "text": [
            78,
            105
           ],
           "textposition": "auto",
           "type": "bar",
           "x": [
            78,
            105
           ],
           "xaxis": "x",
           "y": [
            "Vestland",
            "Rogaland"
           ],
           "yaxis": "y"
          }
         ],
         "name": "13 Mar"
        },
        {
         "data": [
          {
           "alignmentgroup": "True",
           "hoverlabel": {
            "namelength": 0
           },
           "hovertemplate": "RHF=Helse Midt-Norge<br>Dato=14 Mar<br>Registrerte smittede=%{text}<br>Fylke=%{y}",
           "ids": [
            "Trøndelag",
            "Møre og Romsdal"
           ],
           "legendgroup": "Helse Midt-Norge",
           "marker": {
            "color": "#636efa"
           },
           "name": "Helse Midt-Norge",
           "offsetgroup": "Helse Midt-Norge",
           "orientation": "h",
           "showlegend": true,
           "text": [
            46,
            16
           ],
           "textposition": "auto",
           "type": "bar",
           "x": [
            46,
            16
           ],
           "xaxis": "x",
           "y": [
            "Trøndelag",
            "Møre og Romsdal"
           ],
           "yaxis": "y"
          },
          {
           "alignmentgroup": "True",
           "hoverlabel": {
            "namelength": 0
           },
           "hovertemplate": "RHF=Helse Nord<br>Dato=14 Mar<br>Registrerte smittede=%{text}<br>Fylke=%{y}",
           "ids": [
            "Troms og Finnmark",
            "Nordland"
           ],
           "legendgroup": "Helse Nord",
           "marker": {
            "color": "#EF553B"
           },
           "name": "Helse Nord",
           "offsetgroup": "Helse Nord",
           "orientation": "h",
           "showlegend": true,
           "text": [
            16,
            8
           ],
           "textposition": "auto",
           "type": "bar",
           "x": [
            16,
            8
           ],
           "xaxis": "x",
           "y": [
            "Troms og Finnmark",
            "Nordland"
           ],
           "yaxis": "y"
          },
          {
           "alignmentgroup": "True",
           "hoverlabel": {
            "namelength": 0
           },
           "hovertemplate": "RHF=Helse Sør-Øst<br>Dato=14 Mar<br>Registrerte smittede=%{text}<br>Fylke=%{y}",
           "ids": [
            "Vestfold og Telemark",
            "Viken",
            "Agder",
            "Innlandet",
            "Oslo"
           ],
           "legendgroup": "Helse Sør-Øst",
           "marker": {
            "color": "#00cc96"
           },
           "name": "Helse Sør-Øst",
           "offsetgroup": "Helse Sør-Øst",
           "orientation": "h",
           "showlegend": true,
           "text": [
            39,
            231,
            52,
            57,
            222
           ],
           "textposition": "auto",
           "type": "bar",
           "x": [
            39,
            231,
            52,
            57,
            222
           ],
           "xaxis": "x",
           "y": [
            "Vestfold og Telemark",
            "Viken",
            "Agder",
            "Innlandet",
            "Oslo"
           ],
           "yaxis": "y"
          },
          {
           "alignmentgroup": "True",
           "hoverlabel": {
            "namelength": 0
           },
           "hovertemplate": "RHF=Helse Vest<br>Dato=14 Mar<br>Registrerte smittede=%{text}<br>Fylke=%{y}",
           "ids": [
            "Vestland",
            "Rogaland"
           ],
           "legendgroup": "Helse Vest",
           "marker": {
            "color": "#ab63fa"
           },
           "name": "Helse Vest",
           "offsetgroup": "Helse Vest",
           "orientation": "h",
           "showlegend": true,
           "text": [
            101,
            119
           ],
           "textposition": "auto",
           "type": "bar",
           "x": [
            101,
            119
           ],
           "xaxis": "x",
           "y": [
            "Vestland",
            "Rogaland"
           ],
           "yaxis": "y"
          }
         ],
         "name": "14 Mar"
        },
        {
         "data": [
          {
           "alignmentgroup": "True",
           "hoverlabel": {
            "namelength": 0
           },
           "hovertemplate": "RHF=Helse Midt-Norge<br>Dato=15 Mar<br>Registrerte smittede=%{text}<br>Fylke=%{y}",
           "ids": [
            "Trøndelag",
            "Møre og Romsdal"
           ],
           "legendgroup": "Helse Midt-Norge",
           "marker": {
            "color": "#636efa"
           },
           "name": "Helse Midt-Norge",
           "offsetgroup": "Helse Midt-Norge",
           "orientation": "h",
           "showlegend": true,
           "text": [
            50,
            20
           ],
           "textposition": "auto",
           "type": "bar",
           "x": [
            50,
            20
           ],
           "xaxis": "x",
           "y": [
            "Trøndelag",
            "Møre og Romsdal"
           ],
           "yaxis": "y"
          },
          {
           "alignmentgroup": "True",
           "hoverlabel": {
            "namelength": 0
           },
           "hovertemplate": "RHF=Helse Nord<br>Dato=15 Mar<br>Registrerte smittede=%{text}<br>Fylke=%{y}",
           "ids": [
            "Nordland",
            "Troms og Finnmark"
           ],
           "legendgroup": "Helse Nord",
           "marker": {
            "color": "#EF553B"
           },
           "name": "Helse Nord",
           "offsetgroup": "Helse Nord",
           "orientation": "h",
           "showlegend": true,
           "text": [
            8,
            20
           ],
           "textposition": "auto",
           "type": "bar",
           "x": [
            8,
            20
           ],
           "xaxis": "x",
           "y": [
            "Nordland",
            "Troms og Finnmark"
           ],
           "yaxis": "y"
          },
          {
           "alignmentgroup": "True",
           "hoverlabel": {
            "namelength": 0
           },
           "hovertemplate": "RHF=Helse Sør-Øst<br>Dato=15 Mar<br>Registrerte smittede=%{text}<br>Fylke=%{y}",
           "ids": [
            "Vestfold og Telemark",
            "Innlandet",
            "Viken",
            "Oslo",
            "Agder"
           ],
           "legendgroup": "Helse Sør-Øst",
           "marker": {
            "color": "#00cc96"
           },
           "name": "Helse Sør-Øst",
           "offsetgroup": "Helse Sør-Øst",
           "orientation": "h",
           "showlegend": true,
           "text": [
            48,
            72,
            278,
            281,
            55
           ],
           "textposition": "auto",
           "type": "bar",
           "x": [
            48,
            72,
            278,
            281,
            55
           ],
           "xaxis": "x",
           "y": [
            "Vestfold og Telemark",
            "Innlandet",
            "Viken",
            "Oslo",
            "Agder"
           ],
           "yaxis": "y"
          },
          {
           "alignmentgroup": "True",
           "hoverlabel": {
            "namelength": 0
           },
           "hovertemplate": "RHF=Helse Vest<br>Dato=15 Mar<br>Registrerte smittede=%{text}<br>Fylke=%{y}",
           "ids": [
            "Rogaland",
            "Vestland"
           ],
           "legendgroup": "Helse Vest",
           "marker": {
            "color": "#ab63fa"
           },
           "name": "Helse Vest",
           "offsetgroup": "Helse Vest",
           "orientation": "h",
           "showlegend": true,
           "text": [
            127,
            118
           ],
           "textposition": "auto",
           "type": "bar",
           "x": [
            127,
            118
           ],
           "xaxis": "x",
           "y": [
            "Rogaland",
            "Vestland"
           ],
           "yaxis": "y"
          }
         ],
         "name": "15 Mar"
        },
        {
         "data": [
          {
           "alignmentgroup": "True",
           "hoverlabel": {
            "namelength": 0
           },
           "hovertemplate": "RHF=Helse Midt-Norge<br>Dato=16 Mar<br>Registrerte smittede=%{text}<br>Fylke=%{y}",
           "ids": [
            "Trøndelag",
            "Møre og Romsdal"
           ],
           "legendgroup": "Helse Midt-Norge",
           "marker": {
            "color": "#636efa"
           },
           "name": "Helse Midt-Norge",
           "offsetgroup": "Helse Midt-Norge",
           "orientation": "h",
           "showlegend": true,
           "text": [
            52,
            20
           ],
           "textposition": "auto",
           "type": "bar",
           "x": [
            52,
            20
           ],
           "xaxis": "x",
           "y": [
            "Trøndelag",
            "Møre og Romsdal"
           ],
           "yaxis": "y"
          },
          {
           "alignmentgroup": "True",
           "hoverlabel": {
            "namelength": 0
           },
           "hovertemplate": "RHF=Helse Nord<br>Dato=16 Mar<br>Registrerte smittede=%{text}<br>Fylke=%{y}",
           "ids": [
            "Troms og Finnmark",
            "Nordland"
           ],
           "legendgroup": "Helse Nord",
           "marker": {
            "color": "#EF553B"
           },
           "name": "Helse Nord",
           "offsetgroup": "Helse Nord",
           "orientation": "h",
           "showlegend": true,
           "text": [
            21,
            11
           ],
           "textposition": "auto",
           "type": "bar",
           "x": [
            21,
            11
           ],
           "xaxis": "x",
           "y": [
            "Troms og Finnmark",
            "Nordland"
           ],
           "yaxis": "y"
          },
          {
           "alignmentgroup": "True",
           "hoverlabel": {
            "namelength": 0
           },
           "hovertemplate": "RHF=Helse Sør-Øst<br>Dato=16 Mar<br>Registrerte smittede=%{text}<br>Fylke=%{y}",
           "ids": [
            "Vestfold og Telemark",
            "Innlandet",
            "Viken",
            "Agder",
            "Oslo"
           ],
           "legendgroup": "Helse Sør-Øst",
           "marker": {
            "color": "#00cc96"
           },
           "name": "Helse Sør-Øst",
           "offsetgroup": "Helse Sør-Øst",
           "orientation": "h",
           "showlegend": true,
           "text": [
            53,
            81,
            314,
            67,
            292
           ],
           "textposition": "auto",
           "type": "bar",
           "x": [
            53,
            81,
            314,
            67,
            292
           ],
           "xaxis": "x",
           "y": [
            "Vestfold og Telemark",
            "Innlandet",
            "Viken",
            "Agder",
            "Oslo"
           ],
           "yaxis": "y"
          },
          {
           "alignmentgroup": "True",
           "hoverlabel": {
            "namelength": 0
           },
           "hovertemplate": "RHF=Helse Vest<br>Dato=16 Mar<br>Registrerte smittede=%{text}<br>Fylke=%{y}",
           "ids": [
            "Rogaland",
            "Vestland"
           ],
           "legendgroup": "Helse Vest",
           "marker": {
            "color": "#ab63fa"
           },
           "name": "Helse Vest",
           "offsetgroup": "Helse Vest",
           "orientation": "h",
           "showlegend": true,
           "text": [
            131,
            127
           ],
           "textposition": "auto",
           "type": "bar",
           "x": [
            131,
            127
           ],
           "xaxis": "x",
           "y": [
            "Rogaland",
            "Vestland"
           ],
           "yaxis": "y"
          }
         ],
         "name": "16 Mar"
        },
        {
         "data": [
          {
           "alignmentgroup": "True",
           "hoverlabel": {
            "namelength": 0
           },
           "hovertemplate": "RHF=Helse Midt-Norge<br>Dato=17 Mar<br>Registrerte smittede=%{text}<br>Fylke=%{y}",
           "ids": [
            "Møre og Romsdal",
            "Trøndelag"
           ],
           "legendgroup": "Helse Midt-Norge",
           "marker": {
            "color": "#636efa"
           },
           "name": "Helse Midt-Norge",
           "offsetgroup": "Helse Midt-Norge",
           "orientation": "h",
           "showlegend": true,
           "text": [
            20,
            61
           ],
           "textposition": "auto",
           "type": "bar",
           "x": [
            20,
            61
           ],
           "xaxis": "x",
           "y": [
            "Møre og Romsdal",
            "Trøndelag"
           ],
           "yaxis": "y"
          },
          {
           "alignmentgroup": "True",
           "hoverlabel": {
            "namelength": 0
           },
           "hovertemplate": "RHF=Helse Nord<br>Dato=17 Mar<br>Registrerte smittede=%{text}<br>Fylke=%{y}",
           "ids": [
            "Troms og Finnmark",
            "Nordland"
           ],
           "legendgroup": "Helse Nord",
           "marker": {
            "color": "#EF553B"
           },
           "name": "Helse Nord",
           "offsetgroup": "Helse Nord",
           "orientation": "h",
           "showlegend": true,
           "text": [
            24,
            11
           ],
           "textposition": "auto",
           "type": "bar",
           "x": [
            24,
            11
           ],
           "xaxis": "x",
           "y": [
            "Troms og Finnmark",
            "Nordland"
           ],
           "yaxis": "y"
          },
          {
           "alignmentgroup": "True",
           "hoverlabel": {
            "namelength": 0
           },
           "hovertemplate": "RHF=Helse Sør-Øst<br>Dato=17 Mar<br>Registrerte smittede=%{text}<br>Fylke=%{y}",
           "ids": [
            "Innlandet",
            "Vestfold og Telemark",
            "Viken",
            "Agder",
            "Oslo"
           ],
           "legendgroup": "Helse Sør-Øst",
           "marker": {
            "color": "#00cc96"
           },
           "name": "Helse Sør-Øst",
           "offsetgroup": "Helse Sør-Øst",
           "orientation": "h",
           "showlegend": true,
           "text": [
            88,
            59,
            358,
            67,
            329
           ],
           "textposition": "auto",
           "type": "bar",
           "x": [
            88,
            59,
            358,
            67,
            329
           ],
           "xaxis": "x",
           "y": [
            "Innlandet",
            "Vestfold og Telemark",
            "Viken",
            "Agder",
            "Oslo"
           ],
           "yaxis": "y"
          },
          {
           "alignmentgroup": "True",
           "hoverlabel": {
            "namelength": 0
           },
           "hovertemplate": "RHF=Helse Vest<br>Dato=17 Mar<br>Registrerte smittede=%{text}<br>Fylke=%{y}",
           "ids": [
            "Vestland",
            "Rogaland"
           ],
           "legendgroup": "Helse Vest",
           "marker": {
            "color": "#ab63fa"
           },
           "name": "Helse Vest",
           "offsetgroup": "Helse Vest",
           "orientation": "h",
           "showlegend": true,
           "text": [
            141,
            150
           ],
           "textposition": "auto",
           "type": "bar",
           "x": [
            141,
            150
           ],
           "xaxis": "x",
           "y": [
            "Vestland",
            "Rogaland"
           ],
           "yaxis": "y"
          }
         ],
         "name": "17 Mar"
        },
        {
         "data": [
          {
           "alignmentgroup": "True",
           "hoverlabel": {
            "namelength": 0
           },
           "hovertemplate": "RHF=Helse Midt-Norge<br>Dato=18 Mar<br>Registrerte smittede=%{text}<br>Fylke=%{y}",
           "ids": [
            "Møre og Romsdal",
            "Trøndelag"
           ],
           "legendgroup": "Helse Midt-Norge",
           "marker": {
            "color": "#636efa"
           },
           "name": "Helse Midt-Norge",
           "offsetgroup": "Helse Midt-Norge",
           "orientation": "h",
           "showlegend": true,
           "text": [
            20,
            70
           ],
           "textposition": "auto",
           "type": "bar",
           "x": [
            20,
            70
           ],
           "xaxis": "x",
           "y": [
            "Møre og Romsdal",
            "Trøndelag"
           ],
           "yaxis": "y"
          },
          {
           "alignmentgroup": "True",
           "hoverlabel": {
            "namelength": 0
           },
           "hovertemplate": "RHF=Helse Nord<br>Dato=18 Mar<br>Registrerte smittede=%{text}<br>Fylke=%{y}",
           "ids": [
            "Troms og Finnmark",
            "Nordland"
           ],
           "legendgroup": "Helse Nord",
           "marker": {
            "color": "#EF553B"
           },
           "name": "Helse Nord",
           "offsetgroup": "Helse Nord",
           "orientation": "h",
           "showlegend": true,
           "text": [
            28,
            12
           ],
           "textposition": "auto",
           "type": "bar",
           "x": [
            28,
            12
           ],
           "xaxis": "x",
           "y": [
            "Troms og Finnmark",
            "Nordland"
           ],
           "yaxis": "y"
          },
          {
           "alignmentgroup": "True",
           "hoverlabel": {
            "namelength": 0
           },
           "hovertemplate": "RHF=Helse Sør-Øst<br>Dato=18 Mar<br>Registrerte smittede=%{text}<br>Fylke=%{y}",
           "ids": [
            "Oslo",
            "Agder",
            "Viken",
            "Innlandet",
            "Vestfold og Telemark"
           ],
           "legendgroup": "Helse Sør-Øst",
           "marker": {
            "color": "#00cc96"
           },
           "name": "Helse Sør-Øst",
           "offsetgroup": "Helse Sør-Øst",
           "orientation": "h",
           "showlegend": true,
           "text": [
            348,
            67,
            410,
            97,
            63
           ],
           "textposition": "auto",
           "type": "bar",
           "x": [
            348,
            67,
            410,
            97,
            63
           ],
           "xaxis": "x",
           "y": [
            "Oslo",
            "Agder",
            "Viken",
            "Innlandet",
            "Vestfold og Telemark"
           ],
           "yaxis": "y"
          },
          {
           "alignmentgroup": "True",
           "hoverlabel": {
            "namelength": 0
           },
           "hovertemplate": "RHF=Helse Vest<br>Dato=18 Mar<br>Registrerte smittede=%{text}<br>Fylke=%{y}",
           "ids": [
            "Rogaland",
            "Vestland"
           ],
           "legendgroup": "Helse Vest",
           "marker": {
            "color": "#ab63fa"
           },
           "name": "Helse Vest",
           "offsetgroup": "Helse Vest",
           "orientation": "h",
           "showlegend": true,
           "text": [
            161,
            147
           ],
           "textposition": "auto",
           "type": "bar",
           "x": [
            161,
            147
           ],
           "xaxis": "x",
           "y": [
            "Rogaland",
            "Vestland"
           ],
           "yaxis": "y"
          }
         ],
         "name": "18 Mar"
        },
        {
         "data": [
          {
           "alignmentgroup": "True",
           "hoverlabel": {
            "namelength": 0
           },
           "hovertemplate": "RHF=Helse Midt-Norge<br>Dato=19 Mar<br>Registrerte smittede=%{text}<br>Fylke=%{y}",
           "ids": [
            "Trøndelag",
            "Møre og Romsdal"
           ],
           "legendgroup": "Helse Midt-Norge",
           "marker": {
            "color": "#636efa"
           },
           "name": "Helse Midt-Norge",
           "offsetgroup": "Helse Midt-Norge",
           "orientation": "h",
           "showlegend": true,
           "text": [
            75,
            25
           ],
           "textposition": "auto",
           "type": "bar",
           "x": [
            75,
            25
           ],
           "xaxis": "x",
           "y": [
            "Trøndelag",
            "Møre og Romsdal"
           ],
           "yaxis": "y"
          },
          {
           "alignmentgroup": "True",
           "hoverlabel": {
            "namelength": 0
           },
           "hovertemplate": "RHF=Helse Nord<br>Dato=19 Mar<br>Registrerte smittede=%{text}<br>Fylke=%{y}",
           "ids": [
            "Troms og Finnmark",
            "Nordland"
           ],
           "legendgroup": "Helse Nord",
           "marker": {
            "color": "#EF553B"
           },
           "name": "Helse Nord",
           "offsetgroup": "Helse Nord",
           "orientation": "h",
           "showlegend": true,
           "text": [
            28,
            13
           ],
           "textposition": "auto",
           "type": "bar",
           "x": [
            28,
            13
           ],
           "xaxis": "x",
           "y": [
            "Troms og Finnmark",
            "Nordland"
           ],
           "yaxis": "y"
          },
          {
           "alignmentgroup": "True",
           "hoverlabel": {
            "namelength": 0
           },
           "hovertemplate": "RHF=Helse Sør-Øst<br>Dato=19 Mar<br>Registrerte smittede=%{text}<br>Fylke=%{y}",
           "ids": [
            "Agder",
            "Innlandet",
            "Vestfold og Telemark",
            "Oslo",
            "Viken"
           ],
           "legendgroup": "Helse Sør-Øst",
           "marker": {
            "color": "#00cc96"
           },
           "name": "Helse Sør-Øst",
           "offsetgroup": "Helse Sør-Øst",
           "orientation": "h",
           "showlegend": true,
           "text": [
            75,
            105,
            65,
            392,
            445
           ],
           "textposition": "auto",
           "type": "bar",
           "x": [
            75,
            105,
            65,
            392,
            445
           ],
           "xaxis": "x",
           "y": [
            "Agder",
            "Innlandet",
            "Vestfold og Telemark",
            "Oslo",
            "Viken"
           ],
           "yaxis": "y"
          },
          {
           "alignmentgroup": "True",
           "hoverlabel": {
            "namelength": 0
           },
           "hovertemplate": "RHF=Helse Vest<br>Dato=19 Mar<br>Registrerte smittede=%{text}<br>Fylke=%{y}",
           "ids": [
            "Vestland",
            "Rogaland"
           ],
           "legendgroup": "Helse Vest",
           "marker": {
            "color": "#ab63fa"
           },
           "name": "Helse Vest",
           "offsetgroup": "Helse Vest",
           "orientation": "h",
           "showlegend": true,
           "text": [
            153,
            176
           ],
           "textposition": "auto",
           "type": "bar",
           "x": [
            153,
            176
           ],
           "xaxis": "x",
           "y": [
            "Vestland",
            "Rogaland"
           ],
           "yaxis": "y"
          }
         ],
         "name": "19 Mar"
        }
       ],
       "layout": {
        "autosize": true,
        "barmode": "relative",
        "coloraxis": {
         "showscale": false
        },
        "height": 600,
        "legend": {
         "title": {
          "text": "RHF"
         },
         "tracegroupgap": 0
        },
        "margin": {
         "b": 0,
         "l": 100,
         "r": 100,
         "t": 150
        },
        "paper_bgcolor": "rgba(0, 0, 0, 0)",
        "sliders": [
         {
          "active": 0,
          "currentvalue": {
           "prefix": "Dato="
          },
          "len": 0.9,
          "pad": {
           "b": 10,
           "t": 60
          },
          "steps": [
           {
            "args": [
             [
              "09 Mar"
             ],
             {
              "frame": {
               "duration": 0,
               "redraw": true
              },
              "fromcurrent": true,
              "mode": "immediate",
              "transition": {
               "duration": 0,
               "easing": "linear"
              }
             }
            ],
            "label": "09 Mar",
            "method": "animate"
           },
           {
            "args": [
             [
              "10 Mar"
             ],
             {
              "frame": {
               "duration": 0,
               "redraw": true
              },
              "fromcurrent": true,
              "mode": "immediate",
              "transition": {
               "duration": 0,
               "easing": "linear"
              }
             }
            ],
            "label": "10 Mar",
            "method": "animate"
           },
           {
            "args": [
             [
              "11 Mar"
             ],
             {
              "frame": {
               "duration": 0,
               "redraw": true
              },
              "fromcurrent": true,
              "mode": "immediate",
              "transition": {
               "duration": 0,
               "easing": "linear"
              }
             }
            ],
            "label": "11 Mar",
            "method": "animate"
           },
           {
            "args": [
             [
              "12 Mar"
             ],
             {
              "frame": {
               "duration": 0,
               "redraw": true
              },
              "fromcurrent": true,
              "mode": "immediate",
              "transition": {
               "duration": 0,
               "easing": "linear"
              }
             }
            ],
            "label": "12 Mar",
            "method": "animate"
           },
           {
            "args": [
             [
              "13 Mar"
             ],
             {
              "frame": {
               "duration": 0,
               "redraw": true
              },
              "fromcurrent": true,
              "mode": "immediate",
              "transition": {
               "duration": 0,
               "easing": "linear"
              }
             }
            ],
            "label": "13 Mar",
            "method": "animate"
           },
           {
            "args": [
             [
              "14 Mar"
             ],
             {
              "frame": {
               "duration": 0,
               "redraw": true
              },
              "fromcurrent": true,
              "mode": "immediate",
              "transition": {
               "duration": 0,
               "easing": "linear"
              }
             }
            ],
            "label": "14 Mar",
            "method": "animate"
           },
           {
            "args": [
             [
              "15 Mar"
             ],
             {
              "frame": {
               "duration": 0,
               "redraw": true
              },
              "fromcurrent": true,
              "mode": "immediate",
              "transition": {
               "duration": 0,
               "easing": "linear"
              }
             }
            ],
            "label": "15 Mar",
            "method": "animate"
           },
           {
            "args": [
             [
              "16 Mar"
             ],
             {
              "frame": {
               "duration": 0,
               "redraw": true
              },
              "fromcurrent": true,
              "mode": "immediate",
              "transition": {
               "duration": 0,
               "easing": "linear"
              }
             }
            ],
            "label": "16 Mar",
            "method": "animate"
           },
           {
            "args": [
             [
              "17 Mar"
             ],
             {
              "frame": {
               "duration": 0,
               "redraw": true
              },
              "fromcurrent": true,
              "mode": "immediate",
              "transition": {
               "duration": 0,
               "easing": "linear"
              }
             }
            ],
            "label": "17 Mar",
            "method": "animate"
           },
           {
            "args": [
             [
              "18 Mar"
             ],
             {
              "frame": {
               "duration": 0,
               "redraw": true
              },
              "fromcurrent": true,
              "mode": "immediate",
              "transition": {
               "duration": 0,
               "easing": "linear"
              }
             }
            ],
            "label": "18 Mar",
            "method": "animate"
           },
           {
            "args": [
             [
              "19 Mar"
             ],
             {
              "frame": {
               "duration": 0,
               "redraw": true
              },
              "fromcurrent": true,
              "mode": "immediate",
              "transition": {
               "duration": 0,
               "easing": "linear"
              }
             }
            ],
            "label": "19 Mar",
            "method": "animate"
           }
          ],
          "x": 0.1,
          "xanchor": "left",
          "y": 0,
          "yanchor": "top"
         }
        ],
        "template": {
         "data": {
          "bar": [
           {
            "error_x": {
             "color": "#2a3f5f"
            },
            "error_y": {
             "color": "#2a3f5f"
            },
            "marker": {
             "line": {
              "color": "white",
              "width": 0.5
             }
            },
            "type": "bar"
           }
          ],
          "barpolar": [
           {
            "marker": {
             "line": {
              "color": "white",
              "width": 0.5
             }
            },
            "type": "barpolar"
           }
          ],
          "carpet": [
           {
            "aaxis": {
             "endlinecolor": "#2a3f5f",
             "gridcolor": "#C8D4E3",
             "linecolor": "#C8D4E3",
             "minorgridcolor": "#C8D4E3",
             "startlinecolor": "#2a3f5f"
            },
            "baxis": {
             "endlinecolor": "#2a3f5f",
             "gridcolor": "#C8D4E3",
             "linecolor": "#C8D4E3",
             "minorgridcolor": "#C8D4E3",
             "startlinecolor": "#2a3f5f"
            },
            "type": "carpet"
           }
          ],
          "choropleth": [
           {
            "colorbar": {
             "outlinewidth": 0,
             "ticks": ""
            },
            "type": "choropleth"
           }
          ],
          "contour": [
           {
            "colorbar": {
             "outlinewidth": 0,
             "ticks": ""
            },
            "colorscale": [
             [
              0,
              "#0d0887"
             ],
             [
              0.1111111111111111,
              "#46039f"
             ],
             [
              0.2222222222222222,
              "#7201a8"
             ],
             [
              0.3333333333333333,
              "#9c179e"
             ],
             [
              0.4444444444444444,
              "#bd3786"
             ],
             [
              0.5555555555555556,
              "#d8576b"
             ],
             [
              0.6666666666666666,
              "#ed7953"
             ],
             [
              0.7777777777777778,
              "#fb9f3a"
             ],
             [
              0.8888888888888888,
              "#fdca26"
             ],
             [
              1,
              "#f0f921"
             ]
            ],
            "type": "contour"
           }
          ],
          "contourcarpet": [
           {
            "colorbar": {
             "outlinewidth": 0,
             "ticks": ""
            },
            "type": "contourcarpet"
           }
          ],
          "heatmap": [
           {
            "colorbar": {
             "outlinewidth": 0,
             "ticks": ""
            },
            "colorscale": [
             [
              0,
              "#0d0887"
             ],
             [
              0.1111111111111111,
              "#46039f"
             ],
             [
              0.2222222222222222,
              "#7201a8"
             ],
             [
              0.3333333333333333,
              "#9c179e"
             ],
             [
              0.4444444444444444,
              "#bd3786"
             ],
             [
              0.5555555555555556,
              "#d8576b"
             ],
             [
              0.6666666666666666,
              "#ed7953"
             ],
             [
              0.7777777777777778,
              "#fb9f3a"
             ],
             [
              0.8888888888888888,
              "#fdca26"
             ],
             [
              1,
              "#f0f921"
             ]
            ],
            "type": "heatmap"
           }
          ],
          "heatmapgl": [
           {
            "colorbar": {
             "outlinewidth": 0,
             "ticks": ""
            },
            "colorscale": [
             [
              0,
              "#0d0887"
             ],
             [
              0.1111111111111111,
              "#46039f"
             ],
             [
              0.2222222222222222,
              "#7201a8"
             ],
             [
              0.3333333333333333,
              "#9c179e"
             ],
             [
              0.4444444444444444,
              "#bd3786"
             ],
             [
              0.5555555555555556,
              "#d8576b"
             ],
             [
              0.6666666666666666,
              "#ed7953"
             ],
             [
              0.7777777777777778,
              "#fb9f3a"
             ],
             [
              0.8888888888888888,
              "#fdca26"
             ],
             [
              1,
              "#f0f921"
             ]
            ],
            "type": "heatmapgl"
           }
          ],
          "histogram": [
           {
            "marker": {
             "colorbar": {
              "outlinewidth": 0,
              "ticks": ""
             }
            },
            "type": "histogram"
           }
          ],
          "histogram2d": [
           {
            "colorbar": {
             "outlinewidth": 0,
             "ticks": ""
            },
            "colorscale": [
             [
              0,
              "#0d0887"
             ],
             [
              0.1111111111111111,
              "#46039f"
             ],
             [
              0.2222222222222222,
              "#7201a8"
             ],
             [
              0.3333333333333333,
              "#9c179e"
             ],
             [
              0.4444444444444444,
              "#bd3786"
             ],
             [
              0.5555555555555556,
              "#d8576b"
             ],
             [
              0.6666666666666666,
              "#ed7953"
             ],
             [
              0.7777777777777778,
              "#fb9f3a"
             ],
             [
              0.8888888888888888,
              "#fdca26"
             ],
             [
              1,
              "#f0f921"
             ]
            ],
            "type": "histogram2d"
           }
          ],
          "histogram2dcontour": [
           {
            "colorbar": {
             "outlinewidth": 0,
             "ticks": ""
            },
            "colorscale": [
             [
              0,
              "#0d0887"
             ],
             [
              0.1111111111111111,
              "#46039f"
             ],
             [
              0.2222222222222222,
              "#7201a8"
             ],
             [
              0.3333333333333333,
              "#9c179e"
             ],
             [
              0.4444444444444444,
              "#bd3786"
             ],
             [
              0.5555555555555556,
              "#d8576b"
             ],
             [
              0.6666666666666666,
              "#ed7953"
             ],
             [
              0.7777777777777778,
              "#fb9f3a"
             ],
             [
              0.8888888888888888,
              "#fdca26"
             ],
             [
              1,
              "#f0f921"
             ]
            ],
            "type": "histogram2dcontour"
           }
          ],
          "mesh3d": [
           {
            "colorbar": {
             "outlinewidth": 0,
             "ticks": ""
            },
            "type": "mesh3d"
           }
          ],
          "parcoords": [
           {
            "line": {
             "colorbar": {
              "outlinewidth": 0,
              "ticks": ""
             }
            },
            "type": "parcoords"
           }
          ],
          "pie": [
           {
            "automargin": true,
            "type": "pie"
           }
          ],
          "scatter": [
           {
            "marker": {
             "colorbar": {
              "outlinewidth": 0,
              "ticks": ""
             }
            },
            "type": "scatter"
           }
          ],
          "scatter3d": [
           {
            "line": {
             "colorbar": {
              "outlinewidth": 0,
              "ticks": ""
             }
            },
            "marker": {
             "colorbar": {
              "outlinewidth": 0,
              "ticks": ""
             }
            },
            "type": "scatter3d"
           }
          ],
          "scattercarpet": [
           {
            "marker": {
             "colorbar": {
              "outlinewidth": 0,
              "ticks": ""
             }
            },
            "type": "scattercarpet"
           }
          ],
          "scattergeo": [
           {
            "marker": {
             "colorbar": {
              "outlinewidth": 0,
              "ticks": ""
             }
            },
            "type": "scattergeo"
           }
          ],
          "scattergl": [
           {
            "marker": {
             "colorbar": {
              "outlinewidth": 0,
              "ticks": ""
             }
            },
            "type": "scattergl"
           }
          ],
          "scattermapbox": [
           {
            "marker": {
             "colorbar": {
              "outlinewidth": 0,
              "ticks": ""
             }
            },
            "type": "scattermapbox"
           }
          ],
          "scatterpolar": [
           {
            "marker": {
             "colorbar": {
              "outlinewidth": 0,
              "ticks": ""
             }
            },
            "type": "scatterpolar"
           }
          ],
          "scatterpolargl": [
           {
            "marker": {
             "colorbar": {
              "outlinewidth": 0,
              "ticks": ""
             }
            },
            "type": "scatterpolargl"
           }
          ],
          "scatterternary": [
           {
            "marker": {
             "colorbar": {
              "outlinewidth": 0,
              "ticks": ""
             }
            },
            "type": "scatterternary"
           }
          ],
          "surface": [
           {
            "colorbar": {
             "outlinewidth": 0,
             "ticks": ""
            },
            "colorscale": [
             [
              0,
              "#0d0887"
             ],
             [
              0.1111111111111111,
              "#46039f"
             ],
             [
              0.2222222222222222,
              "#7201a8"
             ],
             [
              0.3333333333333333,
              "#9c179e"
             ],
             [
              0.4444444444444444,
              "#bd3786"
             ],
             [
              0.5555555555555556,
              "#d8576b"
             ],
             [
              0.6666666666666666,
              "#ed7953"
             ],
             [
              0.7777777777777778,
              "#fb9f3a"
             ],
             [
              0.8888888888888888,
              "#fdca26"
             ],
             [
              1,
              "#f0f921"
             ]
            ],
            "type": "surface"
           }
          ],
          "table": [
           {
            "cells": {
             "fill": {
              "color": "#EBF0F8"
             },
             "line": {
              "color": "white"
             }
            },
            "header": {
             "fill": {
              "color": "#C8D4E3"
             },
             "line": {
              "color": "white"
             }
            },
            "type": "table"
           }
          ]
         },
         "layout": {
          "annotationdefaults": {
           "arrowcolor": "#2a3f5f",
           "arrowhead": 0,
           "arrowwidth": 1
          },
          "coloraxis": {
           "colorbar": {
            "outlinewidth": 0,
            "ticks": ""
           }
          },
          "colorscale": {
           "diverging": [
            [
             0,
             "#8e0152"
            ],
            [
             0.1,
             "#c51b7d"
            ],
            [
             0.2,
             "#de77ae"
            ],
            [
             0.3,
             "#f1b6da"
            ],
            [
             0.4,
             "#fde0ef"
            ],
            [
             0.5,
             "#f7f7f7"
            ],
            [
             0.6,
             "#e6f5d0"
            ],
            [
             0.7,
             "#b8e186"
            ],
            [
             0.8,
             "#7fbc41"
            ],
            [
             0.9,
             "#4d9221"
            ],
            [
             1,
             "#276419"
            ]
           ],
           "sequential": [
            [
             0,
             "#0d0887"
            ],
            [
             0.1111111111111111,
             "#46039f"
            ],
            [
             0.2222222222222222,
             "#7201a8"
            ],
            [
             0.3333333333333333,
             "#9c179e"
            ],
            [
             0.4444444444444444,
             "#bd3786"
            ],
            [
             0.5555555555555556,
             "#d8576b"
            ],
            [
             0.6666666666666666,
             "#ed7953"
            ],
            [
             0.7777777777777778,
             "#fb9f3a"
            ],
            [
             0.8888888888888888,
             "#fdca26"
            ],
            [
             1,
             "#f0f921"
            ]
           ],
           "sequentialminus": [
            [
             0,
             "#0d0887"
            ],
            [
             0.1111111111111111,
             "#46039f"
            ],
            [
             0.2222222222222222,
             "#7201a8"
            ],
            [
             0.3333333333333333,
             "#9c179e"
            ],
            [
             0.4444444444444444,
             "#bd3786"
            ],
            [
             0.5555555555555556,
             "#d8576b"
            ],
            [
             0.6666666666666666,
             "#ed7953"
            ],
            [
             0.7777777777777778,
             "#fb9f3a"
            ],
            [
             0.8888888888888888,
             "#fdca26"
            ],
            [
             1,
             "#f0f921"
            ]
           ]
          },
          "colorway": [
           "#636efa",
           "#EF553B",
           "#00cc96",
           "#ab63fa",
           "#FFA15A",
           "#19d3f3",
           "#FF6692",
           "#B6E880",
           "#FF97FF",
           "#FECB52"
          ],
          "font": {
           "color": "#2a3f5f"
          },
          "geo": {
           "bgcolor": "white",
           "lakecolor": "white",
           "landcolor": "white",
           "showlakes": true,
           "showland": true,
           "subunitcolor": "#C8D4E3"
          },
          "hoverlabel": {
           "align": "left"
          },
          "hovermode": "closest",
          "mapbox": {
           "style": "light"
          },
          "paper_bgcolor": "white",
          "plot_bgcolor": "white",
          "polar": {
           "angularaxis": {
            "gridcolor": "#EBF0F8",
            "linecolor": "#EBF0F8",
            "ticks": ""
           },
           "bgcolor": "white",
           "radialaxis": {
            "gridcolor": "#EBF0F8",
            "linecolor": "#EBF0F8",
            "ticks": ""
           }
          },
          "scene": {
           "xaxis": {
            "backgroundcolor": "white",
            "gridcolor": "#DFE8F3",
            "gridwidth": 2,
            "linecolor": "#EBF0F8",
            "showbackground": true,
            "ticks": "",
            "zerolinecolor": "#EBF0F8"
           },
           "yaxis": {
            "backgroundcolor": "white",
            "gridcolor": "#DFE8F3",
            "gridwidth": 2,
            "linecolor": "#EBF0F8",
            "showbackground": true,
            "ticks": "",
            "zerolinecolor": "#EBF0F8"
           },
           "zaxis": {
            "backgroundcolor": "white",
            "gridcolor": "#DFE8F3",
            "gridwidth": 2,
            "linecolor": "#EBF0F8",
            "showbackground": true,
            "ticks": "",
            "zerolinecolor": "#EBF0F8"
           }
          },
          "shapedefaults": {
           "line": {
            "color": "#2a3f5f"
           }
          },
          "ternary": {
           "aaxis": {
            "gridcolor": "#DFE8F3",
            "linecolor": "#A2B1C6",
            "ticks": ""
           },
           "baxis": {
            "gridcolor": "#DFE8F3",
            "linecolor": "#A2B1C6",
            "ticks": ""
           },
           "bgcolor": "white",
           "caxis": {
            "gridcolor": "#DFE8F3",
            "linecolor": "#A2B1C6",
            "ticks": ""
           }
          },
          "title": {
           "x": 0.05
          },
          "xaxis": {
           "automargin": true,
           "gridcolor": "#EBF0F8",
           "linecolor": "#EBF0F8",
           "ticks": "",
           "title": {
            "standoff": 15
           },
           "zerolinecolor": "#EBF0F8",
           "zerolinewidth": 2
          },
          "yaxis": {
           "automargin": true,
           "gridcolor": "#EBF0F8",
           "linecolor": "#EBF0F8",
           "ticks": "",
           "title": {
            "standoff": 15
           },
           "zerolinecolor": "#EBF0F8",
           "zerolinewidth": 2
          }
         }
        },
        "title": {
         "font": {
          "family": "Helvetica",
          "size": 18
         },
         "text": "<b>COVID19: Registrert smittet i Norge</b><br>Fordeling per fylke<br>Datakilde: FHI - folkehelseinstituttet. Oppdatert 21.03.2020"
        },
        "updatemenus": [
         {
          "buttons": [
           {
            "args": [
             null,
             {
              "frame": {
               "duration": 500,
               "redraw": true
              },
              "fromcurrent": true,
              "mode": "immediate",
              "transition": {
               "duration": 500,
               "easing": "linear"
              }
             }
            ],
            "label": "&#9654;",
            "method": "animate"
           },
           {
            "args": [
             [
              null
             ],
             {
              "frame": {
               "duration": 0,
               "redraw": true
              },
              "fromcurrent": true,
              "mode": "immediate",
              "transition": {
               "duration": 0,
               "easing": "linear"
              }
             }
            ],
            "label": "&#9724;",
            "method": "animate"
           }
          ],
          "direction": "left",
          "pad": {
           "r": 10,
           "t": 70
          },
          "showactive": false,
          "type": "buttons",
          "x": 0.1,
          "xanchor": "right",
          "y": 0,
          "yanchor": "top"
         }
        ],
        "xaxis": {
         "anchor": "y",
         "domain": [
          0,
          1
         ],
         "fixedrange": true,
         "range": [
          0,
          500
         ],
         "title": {
          "text": ""
         }
        },
        "yaxis": {
         "anchor": "x",
         "categoryorder": "total ascending",
         "domain": [
          0,
          1
         ],
         "fixedrange": true,
         "separatethousands": true,
         "title": {
          "text": ""
         }
        }
       }
      },
      "text/html": [
       "<div>\n",
       "        \n",
       "        \n",
       "            <div id=\"69b13fe8-389a-4ce9-864c-73623658440e\" class=\"plotly-graph-div\" style=\"height:600px; width:100%;\"></div>\n",
       "            <script type=\"text/javascript\">\n",
       "                require([\"plotly\"], function(Plotly) {\n",
       "                    window.PLOTLYENV=window.PLOTLYENV || {};\n",
       "                    \n",
       "                if (document.getElementById(\"69b13fe8-389a-4ce9-864c-73623658440e\")) {\n",
       "                    Plotly.newPlot(\n",
       "                        '69b13fe8-389a-4ce9-864c-73623658440e',\n",
       "                        [{\"alignmentgroup\": \"True\", \"hoverlabel\": {\"namelength\": 0}, \"hovertemplate\": \"RHF=Helse Midt-Norge<br>Dato=09 Mar<br>Registrerte smittede=%{text}<br>Fylke=%{y}\", \"ids\": [\"Tr\\u00f8ndelag\", \"M\\u00f8re og Romsdal\"], \"legendgroup\": \"Helse Midt-Norge\", \"marker\": {\"color\": \"#636efa\"}, \"name\": \"Helse Midt-Norge\", \"offsetgroup\": \"Helse Midt-Norge\", \"orientation\": \"h\", \"showlegend\": true, \"text\": [22.0, 5.0], \"textposition\": \"auto\", \"type\": \"bar\", \"x\": [22, 5], \"xaxis\": \"x\", \"y\": [\"Tr\\u00f8ndelag\", \"M\\u00f8re og Romsdal\"], \"yaxis\": \"y\"}, {\"alignmentgroup\": \"True\", \"hoverlabel\": {\"namelength\": 0}, \"hovertemplate\": \"RHF=Helse Nord<br>Dato=09 Mar<br>Registrerte smittede=%{text}<br>Fylke=%{y}\", \"ids\": [\"Nordland\", \"Troms og Finnmark\"], \"legendgroup\": \"Helse Nord\", \"marker\": {\"color\": \"#EF553B\"}, \"name\": \"Helse Nord\", \"offsetgroup\": \"Helse Nord\", \"orientation\": \"h\", \"showlegend\": true, \"text\": [3.0, 6.0], \"textposition\": \"auto\", \"type\": \"bar\", \"x\": [3, 6], \"xaxis\": \"x\", \"y\": [\"Nordland\", \"Troms og Finnmark\"], \"yaxis\": \"y\"}, {\"alignmentgroup\": \"True\", \"hoverlabel\": {\"namelength\": 0}, \"hovertemplate\": \"RHF=Helse S\\u00f8r-\\u00d8st<br>Dato=09 Mar<br>Registrerte smittede=%{text}<br>Fylke=%{y}\", \"ids\": [\"Agder\", \"Oslo\", \"Viken\", \"Innlandet\", \"Vestfold og Telemark\"], \"legendgroup\": \"Helse S\\u00f8r-\\u00d8st\", \"marker\": {\"color\": \"#00cc96\"}, \"name\": \"Helse S\\u00f8r-\\u00d8st\", \"offsetgroup\": \"Helse S\\u00f8r-\\u00d8st\", \"orientation\": \"h\", \"showlegend\": true, \"text\": [19.0, 51.0, 86.0, 16.0, 5.0], \"textposition\": \"auto\", \"type\": \"bar\", \"x\": [19, 51, 86, 16, 5], \"xaxis\": \"x\", \"y\": [\"Agder\", \"Oslo\", \"Viken\", \"Innlandet\", \"Vestfold og Telemark\"], \"yaxis\": \"y\"}, {\"alignmentgroup\": \"True\", \"hoverlabel\": {\"namelength\": 0}, \"hovertemplate\": \"RHF=Helse Vest<br>Dato=09 Mar<br>Registrerte smittede=%{text}<br>Fylke=%{y}\", \"ids\": [\"Vestland\", \"Rogaland\"], \"legendgroup\": \"Helse Vest\", \"marker\": {\"color\": \"#ab63fa\"}, \"name\": \"Helse Vest\", \"offsetgroup\": \"Helse Vest\", \"orientation\": \"h\", \"showlegend\": true, \"text\": [31.0, 33.0], \"textposition\": \"auto\", \"type\": \"bar\", \"x\": [31, 33], \"xaxis\": \"x\", \"y\": [\"Vestland\", \"Rogaland\"], \"yaxis\": \"y\"}],\n",
       "                        {\"autosize\": true, \"barmode\": \"relative\", \"coloraxis\": {\"showscale\": false}, \"height\": 600, \"legend\": {\"title\": {\"text\": \"RHF\"}, \"tracegroupgap\": 0}, \"margin\": {\"b\": 0, \"l\": 100, \"r\": 100, \"t\": 150}, \"paper_bgcolor\": \"rgba(0, 0, 0, 0)\", \"sliders\": [{\"active\": 0, \"currentvalue\": {\"prefix\": \"Dato=\"}, \"len\": 0.9, \"pad\": {\"b\": 10, \"t\": 60}, \"steps\": [{\"args\": [[\"09 Mar\"], {\"frame\": {\"duration\": 0, \"redraw\": true}, \"fromcurrent\": true, \"mode\": \"immediate\", \"transition\": {\"duration\": 0, \"easing\": \"linear\"}}], \"label\": \"09 Mar\", \"method\": \"animate\"}, {\"args\": [[\"10 Mar\"], {\"frame\": {\"duration\": 0, \"redraw\": true}, \"fromcurrent\": true, \"mode\": \"immediate\", \"transition\": {\"duration\": 0, \"easing\": \"linear\"}}], \"label\": \"10 Mar\", \"method\": \"animate\"}, {\"args\": [[\"11 Mar\"], {\"frame\": {\"duration\": 0, \"redraw\": true}, \"fromcurrent\": true, \"mode\": \"immediate\", \"transition\": {\"duration\": 0, \"easing\": \"linear\"}}], \"label\": \"11 Mar\", \"method\": \"animate\"}, {\"args\": [[\"12 Mar\"], {\"frame\": {\"duration\": 0, \"redraw\": true}, \"fromcurrent\": true, \"mode\": \"immediate\", \"transition\": {\"duration\": 0, \"easing\": \"linear\"}}], \"label\": \"12 Mar\", \"method\": \"animate\"}, {\"args\": [[\"13 Mar\"], {\"frame\": {\"duration\": 0, \"redraw\": true}, \"fromcurrent\": true, \"mode\": \"immediate\", \"transition\": {\"duration\": 0, \"easing\": \"linear\"}}], \"label\": \"13 Mar\", \"method\": \"animate\"}, {\"args\": [[\"14 Mar\"], {\"frame\": {\"duration\": 0, \"redraw\": true}, \"fromcurrent\": true, \"mode\": \"immediate\", \"transition\": {\"duration\": 0, \"easing\": \"linear\"}}], \"label\": \"14 Mar\", \"method\": \"animate\"}, {\"args\": [[\"15 Mar\"], {\"frame\": {\"duration\": 0, \"redraw\": true}, \"fromcurrent\": true, \"mode\": \"immediate\", \"transition\": {\"duration\": 0, \"easing\": \"linear\"}}], \"label\": \"15 Mar\", \"method\": \"animate\"}, {\"args\": [[\"16 Mar\"], {\"frame\": {\"duration\": 0, \"redraw\": true}, \"fromcurrent\": true, \"mode\": \"immediate\", \"transition\": {\"duration\": 0, \"easing\": \"linear\"}}], \"label\": \"16 Mar\", \"method\": \"animate\"}, {\"args\": [[\"17 Mar\"], {\"frame\": {\"duration\": 0, \"redraw\": true}, \"fromcurrent\": true, \"mode\": \"immediate\", \"transition\": {\"duration\": 0, \"easing\": \"linear\"}}], \"label\": \"17 Mar\", \"method\": \"animate\"}, {\"args\": [[\"18 Mar\"], {\"frame\": {\"duration\": 0, \"redraw\": true}, \"fromcurrent\": true, \"mode\": \"immediate\", \"transition\": {\"duration\": 0, \"easing\": \"linear\"}}], \"label\": \"18 Mar\", \"method\": \"animate\"}, {\"args\": [[\"19 Mar\"], {\"frame\": {\"duration\": 0, \"redraw\": true}, \"fromcurrent\": true, \"mode\": \"immediate\", \"transition\": {\"duration\": 0, \"easing\": \"linear\"}}], \"label\": \"19 Mar\", \"method\": \"animate\"}], \"x\": 0.1, \"xanchor\": \"left\", \"y\": 0, \"yanchor\": \"top\"}], \"template\": {\"data\": {\"bar\": [{\"error_x\": {\"color\": \"#2a3f5f\"}, \"error_y\": {\"color\": \"#2a3f5f\"}, \"marker\": {\"line\": {\"color\": \"white\", \"width\": 0.5}}, \"type\": \"bar\"}], \"barpolar\": [{\"marker\": {\"line\": {\"color\": \"white\", \"width\": 0.5}}, \"type\": \"barpolar\"}], \"carpet\": [{\"aaxis\": {\"endlinecolor\": \"#2a3f5f\", \"gridcolor\": \"#C8D4E3\", \"linecolor\": \"#C8D4E3\", \"minorgridcolor\": \"#C8D4E3\", \"startlinecolor\": \"#2a3f5f\"}, \"baxis\": {\"endlinecolor\": \"#2a3f5f\", \"gridcolor\": \"#C8D4E3\", \"linecolor\": \"#C8D4E3\", \"minorgridcolor\": \"#C8D4E3\", \"startlinecolor\": \"#2a3f5f\"}, \"type\": \"carpet\"}], \"choropleth\": [{\"colorbar\": {\"outlinewidth\": 0, \"ticks\": \"\"}, \"type\": \"choropleth\"}], \"contour\": [{\"colorbar\": {\"outlinewidth\": 0, \"ticks\": \"\"}, \"colorscale\": [[0.0, \"#0d0887\"], [0.1111111111111111, \"#46039f\"], [0.2222222222222222, \"#7201a8\"], [0.3333333333333333, \"#9c179e\"], [0.4444444444444444, \"#bd3786\"], [0.5555555555555556, \"#d8576b\"], [0.6666666666666666, \"#ed7953\"], [0.7777777777777778, \"#fb9f3a\"], [0.8888888888888888, \"#fdca26\"], [1.0, \"#f0f921\"]], \"type\": \"contour\"}], \"contourcarpet\": [{\"colorbar\": {\"outlinewidth\": 0, \"ticks\": \"\"}, \"type\": \"contourcarpet\"}], \"heatmap\": [{\"colorbar\": {\"outlinewidth\": 0, \"ticks\": \"\"}, \"colorscale\": [[0.0, \"#0d0887\"], [0.1111111111111111, \"#46039f\"], [0.2222222222222222, \"#7201a8\"], [0.3333333333333333, \"#9c179e\"], [0.4444444444444444, \"#bd3786\"], [0.5555555555555556, \"#d8576b\"], [0.6666666666666666, \"#ed7953\"], [0.7777777777777778, \"#fb9f3a\"], [0.8888888888888888, \"#fdca26\"], [1.0, \"#f0f921\"]], \"type\": \"heatmap\"}], \"heatmapgl\": [{\"colorbar\": {\"outlinewidth\": 0, \"ticks\": \"\"}, \"colorscale\": [[0.0, \"#0d0887\"], [0.1111111111111111, \"#46039f\"], [0.2222222222222222, \"#7201a8\"], [0.3333333333333333, \"#9c179e\"], [0.4444444444444444, \"#bd3786\"], [0.5555555555555556, \"#d8576b\"], [0.6666666666666666, \"#ed7953\"], [0.7777777777777778, \"#fb9f3a\"], [0.8888888888888888, \"#fdca26\"], [1.0, \"#f0f921\"]], \"type\": \"heatmapgl\"}], \"histogram\": [{\"marker\": {\"colorbar\": {\"outlinewidth\": 0, \"ticks\": \"\"}}, \"type\": \"histogram\"}], \"histogram2d\": [{\"colorbar\": {\"outlinewidth\": 0, \"ticks\": \"\"}, \"colorscale\": [[0.0, \"#0d0887\"], [0.1111111111111111, \"#46039f\"], [0.2222222222222222, \"#7201a8\"], [0.3333333333333333, \"#9c179e\"], [0.4444444444444444, \"#bd3786\"], [0.5555555555555556, \"#d8576b\"], [0.6666666666666666, \"#ed7953\"], [0.7777777777777778, \"#fb9f3a\"], [0.8888888888888888, \"#fdca26\"], [1.0, \"#f0f921\"]], \"type\": \"histogram2d\"}], \"histogram2dcontour\": [{\"colorbar\": {\"outlinewidth\": 0, \"ticks\": \"\"}, \"colorscale\": [[0.0, \"#0d0887\"], [0.1111111111111111, \"#46039f\"], [0.2222222222222222, \"#7201a8\"], [0.3333333333333333, \"#9c179e\"], [0.4444444444444444, \"#bd3786\"], [0.5555555555555556, \"#d8576b\"], [0.6666666666666666, \"#ed7953\"], [0.7777777777777778, \"#fb9f3a\"], [0.8888888888888888, \"#fdca26\"], [1.0, \"#f0f921\"]], \"type\": \"histogram2dcontour\"}], \"mesh3d\": [{\"colorbar\": {\"outlinewidth\": 0, \"ticks\": \"\"}, \"type\": \"mesh3d\"}], \"parcoords\": [{\"line\": {\"colorbar\": {\"outlinewidth\": 0, \"ticks\": \"\"}}, \"type\": \"parcoords\"}], \"pie\": [{\"automargin\": true, \"type\": \"pie\"}], \"scatter\": [{\"marker\": {\"colorbar\": {\"outlinewidth\": 0, \"ticks\": \"\"}}, \"type\": \"scatter\"}], \"scatter3d\": [{\"line\": {\"colorbar\": {\"outlinewidth\": 0, \"ticks\": \"\"}}, \"marker\": {\"colorbar\": {\"outlinewidth\": 0, \"ticks\": \"\"}}, \"type\": \"scatter3d\"}], \"scattercarpet\": [{\"marker\": {\"colorbar\": {\"outlinewidth\": 0, \"ticks\": \"\"}}, \"type\": \"scattercarpet\"}], \"scattergeo\": [{\"marker\": {\"colorbar\": {\"outlinewidth\": 0, \"ticks\": \"\"}}, \"type\": \"scattergeo\"}], \"scattergl\": [{\"marker\": {\"colorbar\": {\"outlinewidth\": 0, \"ticks\": \"\"}}, \"type\": \"scattergl\"}], \"scattermapbox\": [{\"marker\": {\"colorbar\": {\"outlinewidth\": 0, \"ticks\": \"\"}}, \"type\": \"scattermapbox\"}], \"scatterpolar\": [{\"marker\": {\"colorbar\": {\"outlinewidth\": 0, \"ticks\": \"\"}}, \"type\": \"scatterpolar\"}], \"scatterpolargl\": [{\"marker\": {\"colorbar\": {\"outlinewidth\": 0, \"ticks\": \"\"}}, \"type\": \"scatterpolargl\"}], \"scatterternary\": [{\"marker\": {\"colorbar\": {\"outlinewidth\": 0, \"ticks\": \"\"}}, \"type\": \"scatterternary\"}], \"surface\": [{\"colorbar\": {\"outlinewidth\": 0, \"ticks\": \"\"}, \"colorscale\": [[0.0, \"#0d0887\"], [0.1111111111111111, \"#46039f\"], [0.2222222222222222, \"#7201a8\"], [0.3333333333333333, \"#9c179e\"], [0.4444444444444444, \"#bd3786\"], [0.5555555555555556, \"#d8576b\"], [0.6666666666666666, \"#ed7953\"], [0.7777777777777778, \"#fb9f3a\"], [0.8888888888888888, \"#fdca26\"], [1.0, \"#f0f921\"]], \"type\": \"surface\"}], \"table\": [{\"cells\": {\"fill\": {\"color\": \"#EBF0F8\"}, \"line\": {\"color\": \"white\"}}, \"header\": {\"fill\": {\"color\": \"#C8D4E3\"}, \"line\": {\"color\": \"white\"}}, \"type\": \"table\"}]}, \"layout\": {\"annotationdefaults\": {\"arrowcolor\": \"#2a3f5f\", \"arrowhead\": 0, \"arrowwidth\": 1}, \"coloraxis\": {\"colorbar\": {\"outlinewidth\": 0, \"ticks\": \"\"}}, \"colorscale\": {\"diverging\": [[0, \"#8e0152\"], [0.1, \"#c51b7d\"], [0.2, \"#de77ae\"], [0.3, \"#f1b6da\"], [0.4, \"#fde0ef\"], [0.5, \"#f7f7f7\"], [0.6, \"#e6f5d0\"], [0.7, \"#b8e186\"], [0.8, \"#7fbc41\"], [0.9, \"#4d9221\"], [1, \"#276419\"]], \"sequential\": [[0.0, \"#0d0887\"], [0.1111111111111111, \"#46039f\"], [0.2222222222222222, \"#7201a8\"], [0.3333333333333333, \"#9c179e\"], [0.4444444444444444, \"#bd3786\"], [0.5555555555555556, \"#d8576b\"], [0.6666666666666666, \"#ed7953\"], [0.7777777777777778, \"#fb9f3a\"], [0.8888888888888888, \"#fdca26\"], [1.0, \"#f0f921\"]], \"sequentialminus\": [[0.0, \"#0d0887\"], [0.1111111111111111, \"#46039f\"], [0.2222222222222222, \"#7201a8\"], [0.3333333333333333, \"#9c179e\"], [0.4444444444444444, \"#bd3786\"], [0.5555555555555556, \"#d8576b\"], [0.6666666666666666, \"#ed7953\"], [0.7777777777777778, \"#fb9f3a\"], [0.8888888888888888, \"#fdca26\"], [1.0, \"#f0f921\"]]}, \"colorway\": [\"#636efa\", \"#EF553B\", \"#00cc96\", \"#ab63fa\", \"#FFA15A\", \"#19d3f3\", \"#FF6692\", \"#B6E880\", \"#FF97FF\", \"#FECB52\"], \"font\": {\"color\": \"#2a3f5f\"}, \"geo\": {\"bgcolor\": \"white\", \"lakecolor\": \"white\", \"landcolor\": \"white\", \"showlakes\": true, \"showland\": true, \"subunitcolor\": \"#C8D4E3\"}, \"hoverlabel\": {\"align\": \"left\"}, \"hovermode\": \"closest\", \"mapbox\": {\"style\": \"light\"}, \"paper_bgcolor\": \"white\", \"plot_bgcolor\": \"white\", \"polar\": {\"angularaxis\": {\"gridcolor\": \"#EBF0F8\", \"linecolor\": \"#EBF0F8\", \"ticks\": \"\"}, \"bgcolor\": \"white\", \"radialaxis\": {\"gridcolor\": \"#EBF0F8\", \"linecolor\": \"#EBF0F8\", \"ticks\": \"\"}}, \"scene\": {\"xaxis\": {\"backgroundcolor\": \"white\", \"gridcolor\": \"#DFE8F3\", \"gridwidth\": 2, \"linecolor\": \"#EBF0F8\", \"showbackground\": true, \"ticks\": \"\", \"zerolinecolor\": \"#EBF0F8\"}, \"yaxis\": {\"backgroundcolor\": \"white\", \"gridcolor\": \"#DFE8F3\", \"gridwidth\": 2, \"linecolor\": \"#EBF0F8\", \"showbackground\": true, \"ticks\": \"\", \"zerolinecolor\": \"#EBF0F8\"}, \"zaxis\": {\"backgroundcolor\": \"white\", \"gridcolor\": \"#DFE8F3\", \"gridwidth\": 2, \"linecolor\": \"#EBF0F8\", \"showbackground\": true, \"ticks\": \"\", \"zerolinecolor\": \"#EBF0F8\"}}, \"shapedefaults\": {\"line\": {\"color\": \"#2a3f5f\"}}, \"ternary\": {\"aaxis\": {\"gridcolor\": \"#DFE8F3\", \"linecolor\": \"#A2B1C6\", \"ticks\": \"\"}, \"baxis\": {\"gridcolor\": \"#DFE8F3\", \"linecolor\": \"#A2B1C6\", \"ticks\": \"\"}, \"bgcolor\": \"white\", \"caxis\": {\"gridcolor\": \"#DFE8F3\", \"linecolor\": \"#A2B1C6\", \"ticks\": \"\"}}, \"title\": {\"x\": 0.05}, \"xaxis\": {\"automargin\": true, \"gridcolor\": \"#EBF0F8\", \"linecolor\": \"#EBF0F8\", \"ticks\": \"\", \"title\": {\"standoff\": 15}, \"zerolinecolor\": \"#EBF0F8\", \"zerolinewidth\": 2}, \"yaxis\": {\"automargin\": true, \"gridcolor\": \"#EBF0F8\", \"linecolor\": \"#EBF0F8\", \"ticks\": \"\", \"title\": {\"standoff\": 15}, \"zerolinecolor\": \"#EBF0F8\", \"zerolinewidth\": 2}}}, \"title\": {\"font\": {\"family\": \"Helvetica\", \"size\": 18}, \"text\": \"<b>COVID19: Registrert smittet i Norge</b><br>Fordeling per fylke<br>Datakilde: FHI - folkehelseinstituttet. Oppdatert 21.03.2020\"}, \"updatemenus\": [{\"buttons\": [{\"args\": [null, {\"frame\": {\"duration\": 500, \"redraw\": true}, \"fromcurrent\": true, \"mode\": \"immediate\", \"transition\": {\"duration\": 500, \"easing\": \"linear\"}}], \"label\": \"&#9654;\", \"method\": \"animate\"}, {\"args\": [[null], {\"frame\": {\"duration\": 0, \"redraw\": true}, \"fromcurrent\": true, \"mode\": \"immediate\", \"transition\": {\"duration\": 0, \"easing\": \"linear\"}}], \"label\": \"&#9724;\", \"method\": \"animate\"}], \"direction\": \"left\", \"pad\": {\"r\": 10, \"t\": 70}, \"showactive\": false, \"type\": \"buttons\", \"x\": 0.1, \"xanchor\": \"right\", \"y\": 0, \"yanchor\": \"top\"}], \"xaxis\": {\"anchor\": \"y\", \"domain\": [0.0, 1.0], \"fixedrange\": true, \"range\": [0, 500], \"title\": {\"text\": \"\"}}, \"yaxis\": {\"anchor\": \"x\", \"categoryorder\": \"total ascending\", \"domain\": [0.0, 1.0], \"fixedrange\": true, \"separatethousands\": true, \"title\": {\"text\": \"\"}}},\n",
       "                        {\"responsive\": true}\n",
       "                    ).then(function(){\n",
       "                            Plotly.addFrames('69b13fe8-389a-4ce9-864c-73623658440e', [{\"data\": [{\"alignmentgroup\": \"True\", \"hoverlabel\": {\"namelength\": 0}, \"hovertemplate\": \"RHF=Helse Midt-Norge<br>Dato=09 Mar<br>Registrerte smittede=%{text}<br>Fylke=%{y}\", \"ids\": [\"Tr\\u00f8ndelag\", \"M\\u00f8re og Romsdal\"], \"legendgroup\": \"Helse Midt-Norge\", \"marker\": {\"color\": \"#636efa\"}, \"name\": \"Helse Midt-Norge\", \"offsetgroup\": \"Helse Midt-Norge\", \"orientation\": \"h\", \"showlegend\": true, \"text\": [22.0, 5.0], \"textposition\": \"auto\", \"x\": [22, 5], \"xaxis\": \"x\", \"y\": [\"Tr\\u00f8ndelag\", \"M\\u00f8re og Romsdal\"], \"yaxis\": \"y\", \"type\": \"bar\"}, {\"alignmentgroup\": \"True\", \"hoverlabel\": {\"namelength\": 0}, \"hovertemplate\": \"RHF=Helse Nord<br>Dato=09 Mar<br>Registrerte smittede=%{text}<br>Fylke=%{y}\", \"ids\": [\"Nordland\", \"Troms og Finnmark\"], \"legendgroup\": \"Helse Nord\", \"marker\": {\"color\": \"#EF553B\"}, \"name\": \"Helse Nord\", \"offsetgroup\": \"Helse Nord\", \"orientation\": \"h\", \"showlegend\": true, \"text\": [3.0, 6.0], \"textposition\": \"auto\", \"x\": [3, 6], \"xaxis\": \"x\", \"y\": [\"Nordland\", \"Troms og Finnmark\"], \"yaxis\": \"y\", \"type\": \"bar\"}, {\"alignmentgroup\": \"True\", \"hoverlabel\": {\"namelength\": 0}, \"hovertemplate\": \"RHF=Helse S\\u00f8r-\\u00d8st<br>Dato=09 Mar<br>Registrerte smittede=%{text}<br>Fylke=%{y}\", \"ids\": [\"Agder\", \"Oslo\", \"Viken\", \"Innlandet\", \"Vestfold og Telemark\"], \"legendgroup\": \"Helse S\\u00f8r-\\u00d8st\", \"marker\": {\"color\": \"#00cc96\"}, \"name\": \"Helse S\\u00f8r-\\u00d8st\", \"offsetgroup\": \"Helse S\\u00f8r-\\u00d8st\", \"orientation\": \"h\", \"showlegend\": true, \"text\": [19.0, 51.0, 86.0, 16.0, 5.0], \"textposition\": \"auto\", \"x\": [19, 51, 86, 16, 5], \"xaxis\": \"x\", \"y\": [\"Agder\", \"Oslo\", \"Viken\", \"Innlandet\", \"Vestfold og Telemark\"], \"yaxis\": \"y\", \"type\": \"bar\"}, {\"alignmentgroup\": \"True\", \"hoverlabel\": {\"namelength\": 0}, \"hovertemplate\": \"RHF=Helse Vest<br>Dato=09 Mar<br>Registrerte smittede=%{text}<br>Fylke=%{y}\", \"ids\": [\"Vestland\", \"Rogaland\"], \"legendgroup\": \"Helse Vest\", \"marker\": {\"color\": \"#ab63fa\"}, \"name\": \"Helse Vest\", \"offsetgroup\": \"Helse Vest\", \"orientation\": \"h\", \"showlegend\": true, \"text\": [31.0, 33.0], \"textposition\": \"auto\", \"x\": [31, 33], \"xaxis\": \"x\", \"y\": [\"Vestland\", \"Rogaland\"], \"yaxis\": \"y\", \"type\": \"bar\"}], \"name\": \"09 Mar\"}, {\"data\": [{\"alignmentgroup\": \"True\", \"hoverlabel\": {\"namelength\": 0}, \"hovertemplate\": \"RHF=Helse Midt-Norge<br>Dato=10 Mar<br>Registrerte smittede=%{text}<br>Fylke=%{y}\", \"ids\": [\"Tr\\u00f8ndelag\", \"M\\u00f8re og Romsdal\"], \"legendgroup\": \"Helse Midt-Norge\", \"marker\": {\"color\": \"#636efa\"}, \"name\": \"Helse Midt-Norge\", \"offsetgroup\": \"Helse Midt-Norge\", \"orientation\": \"h\", \"showlegend\": true, \"text\": [22.0, 5.0], \"textposition\": \"auto\", \"x\": [22, 5], \"xaxis\": \"x\", \"y\": [\"Tr\\u00f8ndelag\", \"M\\u00f8re og Romsdal\"], \"yaxis\": \"y\", \"type\": \"bar\"}, {\"alignmentgroup\": \"True\", \"hoverlabel\": {\"namelength\": 0}, \"hovertemplate\": \"RHF=Helse Nord<br>Dato=10 Mar<br>Registrerte smittede=%{text}<br>Fylke=%{y}\", \"ids\": [\"Troms og Finnmark\", \"Nordland\"], \"legendgroup\": \"Helse Nord\", \"marker\": {\"color\": \"#EF553B\"}, \"name\": \"Helse Nord\", \"offsetgroup\": \"Helse Nord\", \"orientation\": \"h\", \"showlegend\": true, \"text\": [6.0, 3.0], \"textposition\": \"auto\", \"x\": [6, 3], \"xaxis\": \"x\", \"y\": [\"Troms og Finnmark\", \"Nordland\"], \"yaxis\": \"y\", \"type\": \"bar\"}, {\"alignmentgroup\": \"True\", \"hoverlabel\": {\"namelength\": 0}, \"hovertemplate\": \"RHF=Helse S\\u00f8r-\\u00d8st<br>Dato=10 Mar<br>Registrerte smittede=%{text}<br>Fylke=%{y}\", \"ids\": [\"Agder\", \"Oslo\", \"Innlandet\", \"Viken\", \"Vestfold og Telemark\"], \"legendgroup\": \"Helse S\\u00f8r-\\u00d8st\", \"marker\": {\"color\": \"#00cc96\"}, \"name\": \"Helse S\\u00f8r-\\u00d8st\", \"offsetgroup\": \"Helse S\\u00f8r-\\u00d8st\", \"orientation\": \"h\", \"showlegend\": true, \"text\": [19.0, 51.0, 16.0, 86.0, 5.0], \"textposition\": \"auto\", \"x\": [19, 51, 16, 86, 5], \"xaxis\": \"x\", \"y\": [\"Agder\", \"Oslo\", \"Innlandet\", \"Viken\", \"Vestfold og Telemark\"], \"yaxis\": \"y\", \"type\": \"bar\"}, {\"alignmentgroup\": \"True\", \"hoverlabel\": {\"namelength\": 0}, \"hovertemplate\": \"RHF=Helse Vest<br>Dato=10 Mar<br>Registrerte smittede=%{text}<br>Fylke=%{y}\", \"ids\": [\"Vestland\", \"Rogaland\"], \"legendgroup\": \"Helse Vest\", \"marker\": {\"color\": \"#ab63fa\"}, \"name\": \"Helse Vest\", \"offsetgroup\": \"Helse Vest\", \"orientation\": \"h\", \"showlegend\": true, \"text\": [31.0, 33.0], \"textposition\": \"auto\", \"x\": [31, 33], \"xaxis\": \"x\", \"y\": [\"Vestland\", \"Rogaland\"], \"yaxis\": \"y\", \"type\": \"bar\"}], \"name\": \"10 Mar\"}, {\"data\": [{\"alignmentgroup\": \"True\", \"hoverlabel\": {\"namelength\": 0}, \"hovertemplate\": \"RHF=Helse Midt-Norge<br>Dato=11 Mar<br>Registrerte smittede=%{text}<br>Fylke=%{y}\", \"ids\": [\"Tr\\u00f8ndelag\", \"M\\u00f8re og Romsdal\"], \"legendgroup\": \"Helse Midt-Norge\", \"marker\": {\"color\": \"#636efa\"}, \"name\": \"Helse Midt-Norge\", \"offsetgroup\": \"Helse Midt-Norge\", \"orientation\": \"h\", \"showlegend\": true, \"text\": [25.0, 7.0], \"textposition\": \"auto\", \"x\": [25, 7], \"xaxis\": \"x\", \"y\": [\"Tr\\u00f8ndelag\", \"M\\u00f8re og Romsdal\"], \"yaxis\": \"y\", \"type\": \"bar\"}, {\"alignmentgroup\": \"True\", \"hoverlabel\": {\"namelength\": 0}, \"hovertemplate\": \"RHF=Helse Nord<br>Dato=11 Mar<br>Registrerte smittede=%{text}<br>Fylke=%{y}\", \"ids\": [\"Troms og Finnmark\", \"Nordland\"], \"legendgroup\": \"Helse Nord\", \"marker\": {\"color\": \"#EF553B\"}, \"name\": \"Helse Nord\", \"offsetgroup\": \"Helse Nord\", \"orientation\": \"h\", \"showlegend\": true, \"text\": [7.0, 3.0], \"textposition\": \"auto\", \"x\": [7, 3], \"xaxis\": \"x\", \"y\": [\"Troms og Finnmark\", \"Nordland\"], \"yaxis\": \"y\", \"type\": \"bar\"}, {\"alignmentgroup\": \"True\", \"hoverlabel\": {\"namelength\": 0}, \"hovertemplate\": \"RHF=Helse S\\u00f8r-\\u00d8st<br>Dato=11 Mar<br>Registrerte smittede=%{text}<br>Fylke=%{y}\", \"ids\": [\"Vestfold og Telemark\", \"Oslo\", \"Innlandet\", \"Viken\", \"Agder\"], \"legendgroup\": \"Helse S\\u00f8r-\\u00d8st\", \"marker\": {\"color\": \"#00cc96\"}, \"name\": \"Helse S\\u00f8r-\\u00d8st\", \"offsetgroup\": \"Helse S\\u00f8r-\\u00d8st\", \"orientation\": \"h\", \"showlegend\": true, \"text\": [15.0, 123.0, 23.0, 124.0, 20.0], \"textposition\": \"auto\", \"x\": [15, 123, 23, 124, 20], \"xaxis\": \"x\", \"y\": [\"Vestfold og Telemark\", \"Oslo\", \"Innlandet\", \"Viken\", \"Agder\"], \"yaxis\": \"y\", \"type\": \"bar\"}, {\"alignmentgroup\": \"True\", \"hoverlabel\": {\"namelength\": 0}, \"hovertemplate\": \"RHF=Helse Vest<br>Dato=11 Mar<br>Registrerte smittede=%{text}<br>Fylke=%{y}\", \"ids\": [\"Vestland\", \"Rogaland\"], \"legendgroup\": \"Helse Vest\", \"marker\": {\"color\": \"#ab63fa\"}, \"name\": \"Helse Vest\", \"offsetgroup\": \"Helse Vest\", \"orientation\": \"h\", \"showlegend\": true, \"text\": [41.0, 71.0], \"textposition\": \"auto\", \"x\": [41, 71], \"xaxis\": \"x\", \"y\": [\"Vestland\", \"Rogaland\"], \"yaxis\": \"y\", \"type\": \"bar\"}], \"name\": \"11 Mar\"}, {\"data\": [{\"alignmentgroup\": \"True\", \"hoverlabel\": {\"namelength\": 0}, \"hovertemplate\": \"RHF=Helse Midt-Norge<br>Dato=12 Mar<br>Registrerte smittede=%{text}<br>Fylke=%{y}\", \"ids\": [\"Tr\\u00f8ndelag\", \"M\\u00f8re og Romsdal\"], \"legendgroup\": \"Helse Midt-Norge\", \"marker\": {\"color\": \"#636efa\"}, \"name\": \"Helse Midt-Norge\", \"offsetgroup\": \"Helse Midt-Norge\", \"orientation\": \"h\", \"showlegend\": true, \"text\": [37.0, 6.0], \"textposition\": \"auto\", \"x\": [37, 6], \"xaxis\": \"x\", \"y\": [\"Tr\\u00f8ndelag\", \"M\\u00f8re og Romsdal\"], \"yaxis\": \"y\", \"type\": \"bar\"}, {\"alignmentgroup\": \"True\", \"hoverlabel\": {\"namelength\": 0}, \"hovertemplate\": \"RHF=Helse Nord<br>Dato=12 Mar<br>Registrerte smittede=%{text}<br>Fylke=%{y}\", \"ids\": [\"Troms og Finnmark\", \"Nordland\"], \"legendgroup\": \"Helse Nord\", \"marker\": {\"color\": \"#EF553B\"}, \"name\": \"Helse Nord\", \"offsetgroup\": \"Helse Nord\", \"orientation\": \"h\", \"showlegend\": true, \"text\": [11.0, 4.0], \"textposition\": \"auto\", \"x\": [11, 4], \"xaxis\": \"x\", \"y\": [\"Troms og Finnmark\", \"Nordland\"], \"yaxis\": \"y\", \"type\": \"bar\"}, {\"alignmentgroup\": \"True\", \"hoverlabel\": {\"namelength\": 0}, \"hovertemplate\": \"RHF=Helse S\\u00f8r-\\u00d8st<br>Dato=12 Mar<br>Registrerte smittede=%{text}<br>Fylke=%{y}\", \"ids\": [\"Oslo\", \"Vestfold og Telemark\", \"Agder\", \"Viken\", \"Innlandet\"], \"legendgroup\": \"Helse S\\u00f8r-\\u00d8st\", \"marker\": {\"color\": \"#00cc96\"}, \"name\": \"Helse S\\u00f8r-\\u00d8st\", \"offsetgroup\": \"Helse S\\u00f8r-\\u00d8st\", \"orientation\": \"h\", \"showlegend\": true, \"text\": [166.0, 22.0, 32.0, 154.0, 40.0], \"textposition\": \"auto\", \"x\": [166, 22, 32, 154, 40], \"xaxis\": \"x\", \"y\": [\"Oslo\", \"Vestfold og Telemark\", \"Agder\", \"Viken\", \"Innlandet\"], \"yaxis\": \"y\", \"type\": \"bar\"}, {\"alignmentgroup\": \"True\", \"hoverlabel\": {\"namelength\": 0}, \"hovertemplate\": \"RHF=Helse Vest<br>Dato=12 Mar<br>Registrerte smittede=%{text}<br>Fylke=%{y}\", \"ids\": [\"Rogaland\", \"Vestland\"], \"legendgroup\": \"Helse Vest\", \"marker\": {\"color\": \"#ab63fa\"}, \"name\": \"Helse Vest\", \"offsetgroup\": \"Helse Vest\", \"orientation\": \"h\", \"showlegend\": true, \"text\": [82.0, 67.0], \"textposition\": \"auto\", \"x\": [82, 67], \"xaxis\": \"x\", \"y\": [\"Rogaland\", \"Vestland\"], \"yaxis\": \"y\", \"type\": \"bar\"}], \"name\": \"12 Mar\"}, {\"data\": [{\"alignmentgroup\": \"True\", \"hoverlabel\": {\"namelength\": 0}, \"hovertemplate\": \"RHF=Helse Midt-Norge<br>Dato=13 Mar<br>Registrerte smittede=%{text}<br>Fylke=%{y}\", \"ids\": [\"M\\u00f8re og Romsdal\", \"Tr\\u00f8ndelag\"], \"legendgroup\": \"Helse Midt-Norge\", \"marker\": {\"color\": \"#636efa\"}, \"name\": \"Helse Midt-Norge\", \"offsetgroup\": \"Helse Midt-Norge\", \"orientation\": \"h\", \"showlegend\": true, \"text\": [7.0, 43.0], \"textposition\": \"auto\", \"x\": [7, 43], \"xaxis\": \"x\", \"y\": [\"M\\u00f8re og Romsdal\", \"Tr\\u00f8ndelag\"], \"yaxis\": \"y\", \"type\": \"bar\"}, {\"alignmentgroup\": \"True\", \"hoverlabel\": {\"namelength\": 0}, \"hovertemplate\": \"RHF=Helse Nord<br>Dato=13 Mar<br>Registrerte smittede=%{text}<br>Fylke=%{y}\", \"ids\": [\"Nordland\", \"Troms og Finnmark\"], \"legendgroup\": \"Helse Nord\", \"marker\": {\"color\": \"#EF553B\"}, \"name\": \"Helse Nord\", \"offsetgroup\": \"Helse Nord\", \"orientation\": \"h\", \"showlegend\": true, \"text\": [5.0, 12.0], \"textposition\": \"auto\", \"x\": [5, 12], \"xaxis\": \"x\", \"y\": [\"Nordland\", \"Troms og Finnmark\"], \"yaxis\": \"y\", \"type\": \"bar\"}, {\"alignmentgroup\": \"True\", \"hoverlabel\": {\"namelength\": 0}, \"hovertemplate\": \"RHF=Helse S\\u00f8r-\\u00d8st<br>Dato=13 Mar<br>Registrerte smittede=%{text}<br>Fylke=%{y}\", \"ids\": [\"Agder\", \"Viken\", \"Innlandet\", \"Oslo\", \"Vestfold og Telemark\"], \"legendgroup\": \"Helse S\\u00f8r-\\u00d8st\", \"marker\": {\"color\": \"#00cc96\"}, \"name\": \"Helse S\\u00f8r-\\u00d8st\", \"offsetgroup\": \"Helse S\\u00f8r-\\u00d8st\", \"orientation\": \"h\", \"showlegend\": true, \"text\": [34.0, 180.0, 49.0, 207.0, 30.0], \"textposition\": \"auto\", \"x\": [34, 180, 49, 207, 30], \"xaxis\": \"x\", \"y\": [\"Agder\", \"Viken\", \"Innlandet\", \"Oslo\", \"Vestfold og Telemark\"], \"yaxis\": \"y\", \"type\": \"bar\"}, {\"alignmentgroup\": \"True\", \"hoverlabel\": {\"namelength\": 0}, \"hovertemplate\": \"RHF=Helse Vest<br>Dato=13 Mar<br>Registrerte smittede=%{text}<br>Fylke=%{y}\", \"ids\": [\"Vestland\", \"Rogaland\"], \"legendgroup\": \"Helse Vest\", \"marker\": {\"color\": \"#ab63fa\"}, \"name\": \"Helse Vest\", \"offsetgroup\": \"Helse Vest\", \"orientation\": \"h\", \"showlegend\": true, \"text\": [78.0, 105.0], \"textposition\": \"auto\", \"x\": [78, 105], \"xaxis\": \"x\", \"y\": [\"Vestland\", \"Rogaland\"], \"yaxis\": \"y\", \"type\": \"bar\"}], \"name\": \"13 Mar\"}, {\"data\": [{\"alignmentgroup\": \"True\", \"hoverlabel\": {\"namelength\": 0}, \"hovertemplate\": \"RHF=Helse Midt-Norge<br>Dato=14 Mar<br>Registrerte smittede=%{text}<br>Fylke=%{y}\", \"ids\": [\"Tr\\u00f8ndelag\", \"M\\u00f8re og Romsdal\"], \"legendgroup\": \"Helse Midt-Norge\", \"marker\": {\"color\": \"#636efa\"}, \"name\": \"Helse Midt-Norge\", \"offsetgroup\": \"Helse Midt-Norge\", \"orientation\": \"h\", \"showlegend\": true, \"text\": [46.0, 16.0], \"textposition\": \"auto\", \"x\": [46, 16], \"xaxis\": \"x\", \"y\": [\"Tr\\u00f8ndelag\", \"M\\u00f8re og Romsdal\"], \"yaxis\": \"y\", \"type\": \"bar\"}, {\"alignmentgroup\": \"True\", \"hoverlabel\": {\"namelength\": 0}, \"hovertemplate\": \"RHF=Helse Nord<br>Dato=14 Mar<br>Registrerte smittede=%{text}<br>Fylke=%{y}\", \"ids\": [\"Troms og Finnmark\", \"Nordland\"], \"legendgroup\": \"Helse Nord\", \"marker\": {\"color\": \"#EF553B\"}, \"name\": \"Helse Nord\", \"offsetgroup\": \"Helse Nord\", \"orientation\": \"h\", \"showlegend\": true, \"text\": [16.0, 8.0], \"textposition\": \"auto\", \"x\": [16, 8], \"xaxis\": \"x\", \"y\": [\"Troms og Finnmark\", \"Nordland\"], \"yaxis\": \"y\", \"type\": \"bar\"}, {\"alignmentgroup\": \"True\", \"hoverlabel\": {\"namelength\": 0}, \"hovertemplate\": \"RHF=Helse S\\u00f8r-\\u00d8st<br>Dato=14 Mar<br>Registrerte smittede=%{text}<br>Fylke=%{y}\", \"ids\": [\"Vestfold og Telemark\", \"Viken\", \"Agder\", \"Innlandet\", \"Oslo\"], \"legendgroup\": \"Helse S\\u00f8r-\\u00d8st\", \"marker\": {\"color\": \"#00cc96\"}, \"name\": \"Helse S\\u00f8r-\\u00d8st\", \"offsetgroup\": \"Helse S\\u00f8r-\\u00d8st\", \"orientation\": \"h\", \"showlegend\": true, \"text\": [39.0, 231.0, 52.0, 57.0, 222.0], \"textposition\": \"auto\", \"x\": [39, 231, 52, 57, 222], \"xaxis\": \"x\", \"y\": [\"Vestfold og Telemark\", \"Viken\", \"Agder\", \"Innlandet\", \"Oslo\"], \"yaxis\": \"y\", \"type\": \"bar\"}, {\"alignmentgroup\": \"True\", \"hoverlabel\": {\"namelength\": 0}, \"hovertemplate\": \"RHF=Helse Vest<br>Dato=14 Mar<br>Registrerte smittede=%{text}<br>Fylke=%{y}\", \"ids\": [\"Vestland\", \"Rogaland\"], \"legendgroup\": \"Helse Vest\", \"marker\": {\"color\": \"#ab63fa\"}, \"name\": \"Helse Vest\", \"offsetgroup\": \"Helse Vest\", \"orientation\": \"h\", \"showlegend\": true, \"text\": [101.0, 119.0], \"textposition\": \"auto\", \"x\": [101, 119], \"xaxis\": \"x\", \"y\": [\"Vestland\", \"Rogaland\"], \"yaxis\": \"y\", \"type\": \"bar\"}], \"name\": \"14 Mar\"}, {\"data\": [{\"alignmentgroup\": \"True\", \"hoverlabel\": {\"namelength\": 0}, \"hovertemplate\": \"RHF=Helse Midt-Norge<br>Dato=15 Mar<br>Registrerte smittede=%{text}<br>Fylke=%{y}\", \"ids\": [\"Tr\\u00f8ndelag\", \"M\\u00f8re og Romsdal\"], \"legendgroup\": \"Helse Midt-Norge\", \"marker\": {\"color\": \"#636efa\"}, \"name\": \"Helse Midt-Norge\", \"offsetgroup\": \"Helse Midt-Norge\", \"orientation\": \"h\", \"showlegend\": true, \"text\": [50.0, 20.0], \"textposition\": \"auto\", \"x\": [50, 20], \"xaxis\": \"x\", \"y\": [\"Tr\\u00f8ndelag\", \"M\\u00f8re og Romsdal\"], \"yaxis\": \"y\", \"type\": \"bar\"}, {\"alignmentgroup\": \"True\", \"hoverlabel\": {\"namelength\": 0}, \"hovertemplate\": \"RHF=Helse Nord<br>Dato=15 Mar<br>Registrerte smittede=%{text}<br>Fylke=%{y}\", \"ids\": [\"Nordland\", \"Troms og Finnmark\"], \"legendgroup\": \"Helse Nord\", \"marker\": {\"color\": \"#EF553B\"}, \"name\": \"Helse Nord\", \"offsetgroup\": \"Helse Nord\", \"orientation\": \"h\", \"showlegend\": true, \"text\": [8.0, 20.0], \"textposition\": \"auto\", \"x\": [8, 20], \"xaxis\": \"x\", \"y\": [\"Nordland\", \"Troms og Finnmark\"], \"yaxis\": \"y\", \"type\": \"bar\"}, {\"alignmentgroup\": \"True\", \"hoverlabel\": {\"namelength\": 0}, \"hovertemplate\": \"RHF=Helse S\\u00f8r-\\u00d8st<br>Dato=15 Mar<br>Registrerte smittede=%{text}<br>Fylke=%{y}\", \"ids\": [\"Vestfold og Telemark\", \"Innlandet\", \"Viken\", \"Oslo\", \"Agder\"], \"legendgroup\": \"Helse S\\u00f8r-\\u00d8st\", \"marker\": {\"color\": \"#00cc96\"}, \"name\": \"Helse S\\u00f8r-\\u00d8st\", \"offsetgroup\": \"Helse S\\u00f8r-\\u00d8st\", \"orientation\": \"h\", \"showlegend\": true, \"text\": [48.0, 72.0, 278.0, 281.0, 55.0], \"textposition\": \"auto\", \"x\": [48, 72, 278, 281, 55], \"xaxis\": \"x\", \"y\": [\"Vestfold og Telemark\", \"Innlandet\", \"Viken\", \"Oslo\", \"Agder\"], \"yaxis\": \"y\", \"type\": \"bar\"}, {\"alignmentgroup\": \"True\", \"hoverlabel\": {\"namelength\": 0}, \"hovertemplate\": \"RHF=Helse Vest<br>Dato=15 Mar<br>Registrerte smittede=%{text}<br>Fylke=%{y}\", \"ids\": [\"Rogaland\", \"Vestland\"], \"legendgroup\": \"Helse Vest\", \"marker\": {\"color\": \"#ab63fa\"}, \"name\": \"Helse Vest\", \"offsetgroup\": \"Helse Vest\", \"orientation\": \"h\", \"showlegend\": true, \"text\": [127.0, 118.0], \"textposition\": \"auto\", \"x\": [127, 118], \"xaxis\": \"x\", \"y\": [\"Rogaland\", \"Vestland\"], \"yaxis\": \"y\", \"type\": \"bar\"}], \"name\": \"15 Mar\"}, {\"data\": [{\"alignmentgroup\": \"True\", \"hoverlabel\": {\"namelength\": 0}, \"hovertemplate\": \"RHF=Helse Midt-Norge<br>Dato=16 Mar<br>Registrerte smittede=%{text}<br>Fylke=%{y}\", \"ids\": [\"Tr\\u00f8ndelag\", \"M\\u00f8re og Romsdal\"], \"legendgroup\": \"Helse Midt-Norge\", \"marker\": {\"color\": \"#636efa\"}, \"name\": \"Helse Midt-Norge\", \"offsetgroup\": \"Helse Midt-Norge\", \"orientation\": \"h\", \"showlegend\": true, \"text\": [52.0, 20.0], \"textposition\": \"auto\", \"x\": [52, 20], \"xaxis\": \"x\", \"y\": [\"Tr\\u00f8ndelag\", \"M\\u00f8re og Romsdal\"], \"yaxis\": \"y\", \"type\": \"bar\"}, {\"alignmentgroup\": \"True\", \"hoverlabel\": {\"namelength\": 0}, \"hovertemplate\": \"RHF=Helse Nord<br>Dato=16 Mar<br>Registrerte smittede=%{text}<br>Fylke=%{y}\", \"ids\": [\"Troms og Finnmark\", \"Nordland\"], \"legendgroup\": \"Helse Nord\", \"marker\": {\"color\": \"#EF553B\"}, \"name\": \"Helse Nord\", \"offsetgroup\": \"Helse Nord\", \"orientation\": \"h\", \"showlegend\": true, \"text\": [21.0, 11.0], \"textposition\": \"auto\", \"x\": [21, 11], \"xaxis\": \"x\", \"y\": [\"Troms og Finnmark\", \"Nordland\"], \"yaxis\": \"y\", \"type\": \"bar\"}, {\"alignmentgroup\": \"True\", \"hoverlabel\": {\"namelength\": 0}, \"hovertemplate\": \"RHF=Helse S\\u00f8r-\\u00d8st<br>Dato=16 Mar<br>Registrerte smittede=%{text}<br>Fylke=%{y}\", \"ids\": [\"Vestfold og Telemark\", \"Innlandet\", \"Viken\", \"Agder\", \"Oslo\"], \"legendgroup\": \"Helse S\\u00f8r-\\u00d8st\", \"marker\": {\"color\": \"#00cc96\"}, \"name\": \"Helse S\\u00f8r-\\u00d8st\", \"offsetgroup\": \"Helse S\\u00f8r-\\u00d8st\", \"orientation\": \"h\", \"showlegend\": true, \"text\": [53.0, 81.0, 314.0, 67.0, 292.0], \"textposition\": \"auto\", \"x\": [53, 81, 314, 67, 292], \"xaxis\": \"x\", \"y\": [\"Vestfold og Telemark\", \"Innlandet\", \"Viken\", \"Agder\", \"Oslo\"], \"yaxis\": \"y\", \"type\": \"bar\"}, {\"alignmentgroup\": \"True\", \"hoverlabel\": {\"namelength\": 0}, \"hovertemplate\": \"RHF=Helse Vest<br>Dato=16 Mar<br>Registrerte smittede=%{text}<br>Fylke=%{y}\", \"ids\": [\"Rogaland\", \"Vestland\"], \"legendgroup\": \"Helse Vest\", \"marker\": {\"color\": \"#ab63fa\"}, \"name\": \"Helse Vest\", \"offsetgroup\": \"Helse Vest\", \"orientation\": \"h\", \"showlegend\": true, \"text\": [131.0, 127.0], \"textposition\": \"auto\", \"x\": [131, 127], \"xaxis\": \"x\", \"y\": [\"Rogaland\", \"Vestland\"], \"yaxis\": \"y\", \"type\": \"bar\"}], \"name\": \"16 Mar\"}, {\"data\": [{\"alignmentgroup\": \"True\", \"hoverlabel\": {\"namelength\": 0}, \"hovertemplate\": \"RHF=Helse Midt-Norge<br>Dato=17 Mar<br>Registrerte smittede=%{text}<br>Fylke=%{y}\", \"ids\": [\"M\\u00f8re og Romsdal\", \"Tr\\u00f8ndelag\"], \"legendgroup\": \"Helse Midt-Norge\", \"marker\": {\"color\": \"#636efa\"}, \"name\": \"Helse Midt-Norge\", \"offsetgroup\": \"Helse Midt-Norge\", \"orientation\": \"h\", \"showlegend\": true, \"text\": [20.0, 61.0], \"textposition\": \"auto\", \"x\": [20, 61], \"xaxis\": \"x\", \"y\": [\"M\\u00f8re og Romsdal\", \"Tr\\u00f8ndelag\"], \"yaxis\": \"y\", \"type\": \"bar\"}, {\"alignmentgroup\": \"True\", \"hoverlabel\": {\"namelength\": 0}, \"hovertemplate\": \"RHF=Helse Nord<br>Dato=17 Mar<br>Registrerte smittede=%{text}<br>Fylke=%{y}\", \"ids\": [\"Troms og Finnmark\", \"Nordland\"], \"legendgroup\": \"Helse Nord\", \"marker\": {\"color\": \"#EF553B\"}, \"name\": \"Helse Nord\", \"offsetgroup\": \"Helse Nord\", \"orientation\": \"h\", \"showlegend\": true, \"text\": [24.0, 11.0], \"textposition\": \"auto\", \"x\": [24, 11], \"xaxis\": \"x\", \"y\": [\"Troms og Finnmark\", \"Nordland\"], \"yaxis\": \"y\", \"type\": \"bar\"}, {\"alignmentgroup\": \"True\", \"hoverlabel\": {\"namelength\": 0}, \"hovertemplate\": \"RHF=Helse S\\u00f8r-\\u00d8st<br>Dato=17 Mar<br>Registrerte smittede=%{text}<br>Fylke=%{y}\", \"ids\": [\"Innlandet\", \"Vestfold og Telemark\", \"Viken\", \"Agder\", \"Oslo\"], \"legendgroup\": \"Helse S\\u00f8r-\\u00d8st\", \"marker\": {\"color\": \"#00cc96\"}, \"name\": \"Helse S\\u00f8r-\\u00d8st\", \"offsetgroup\": \"Helse S\\u00f8r-\\u00d8st\", \"orientation\": \"h\", \"showlegend\": true, \"text\": [88.0, 59.0, 358.0, 67.0, 329.0], \"textposition\": \"auto\", \"x\": [88, 59, 358, 67, 329], \"xaxis\": \"x\", \"y\": [\"Innlandet\", \"Vestfold og Telemark\", \"Viken\", \"Agder\", \"Oslo\"], \"yaxis\": \"y\", \"type\": \"bar\"}, {\"alignmentgroup\": \"True\", \"hoverlabel\": {\"namelength\": 0}, \"hovertemplate\": \"RHF=Helse Vest<br>Dato=17 Mar<br>Registrerte smittede=%{text}<br>Fylke=%{y}\", \"ids\": [\"Vestland\", \"Rogaland\"], \"legendgroup\": \"Helse Vest\", \"marker\": {\"color\": \"#ab63fa\"}, \"name\": \"Helse Vest\", \"offsetgroup\": \"Helse Vest\", \"orientation\": \"h\", \"showlegend\": true, \"text\": [141.0, 150.0], \"textposition\": \"auto\", \"x\": [141, 150], \"xaxis\": \"x\", \"y\": [\"Vestland\", \"Rogaland\"], \"yaxis\": \"y\", \"type\": \"bar\"}], \"name\": \"17 Mar\"}, {\"data\": [{\"alignmentgroup\": \"True\", \"hoverlabel\": {\"namelength\": 0}, \"hovertemplate\": \"RHF=Helse Midt-Norge<br>Dato=18 Mar<br>Registrerte smittede=%{text}<br>Fylke=%{y}\", \"ids\": [\"M\\u00f8re og Romsdal\", \"Tr\\u00f8ndelag\"], \"legendgroup\": \"Helse Midt-Norge\", \"marker\": {\"color\": \"#636efa\"}, \"name\": \"Helse Midt-Norge\", \"offsetgroup\": \"Helse Midt-Norge\", \"orientation\": \"h\", \"showlegend\": true, \"text\": [20.0, 70.0], \"textposition\": \"auto\", \"x\": [20, 70], \"xaxis\": \"x\", \"y\": [\"M\\u00f8re og Romsdal\", \"Tr\\u00f8ndelag\"], \"yaxis\": \"y\", \"type\": \"bar\"}, {\"alignmentgroup\": \"True\", \"hoverlabel\": {\"namelength\": 0}, \"hovertemplate\": \"RHF=Helse Nord<br>Dato=18 Mar<br>Registrerte smittede=%{text}<br>Fylke=%{y}\", \"ids\": [\"Troms og Finnmark\", \"Nordland\"], \"legendgroup\": \"Helse Nord\", \"marker\": {\"color\": \"#EF553B\"}, \"name\": \"Helse Nord\", \"offsetgroup\": \"Helse Nord\", \"orientation\": \"h\", \"showlegend\": true, \"text\": [28.0, 12.0], \"textposition\": \"auto\", \"x\": [28, 12], \"xaxis\": \"x\", \"y\": [\"Troms og Finnmark\", \"Nordland\"], \"yaxis\": \"y\", \"type\": \"bar\"}, {\"alignmentgroup\": \"True\", \"hoverlabel\": {\"namelength\": 0}, \"hovertemplate\": \"RHF=Helse S\\u00f8r-\\u00d8st<br>Dato=18 Mar<br>Registrerte smittede=%{text}<br>Fylke=%{y}\", \"ids\": [\"Oslo\", \"Agder\", \"Viken\", \"Innlandet\", \"Vestfold og Telemark\"], \"legendgroup\": \"Helse S\\u00f8r-\\u00d8st\", \"marker\": {\"color\": \"#00cc96\"}, \"name\": \"Helse S\\u00f8r-\\u00d8st\", \"offsetgroup\": \"Helse S\\u00f8r-\\u00d8st\", \"orientation\": \"h\", \"showlegend\": true, \"text\": [348.0, 67.0, 410.0, 97.0, 63.0], \"textposition\": \"auto\", \"x\": [348, 67, 410, 97, 63], \"xaxis\": \"x\", \"y\": [\"Oslo\", \"Agder\", \"Viken\", \"Innlandet\", \"Vestfold og Telemark\"], \"yaxis\": \"y\", \"type\": \"bar\"}, {\"alignmentgroup\": \"True\", \"hoverlabel\": {\"namelength\": 0}, \"hovertemplate\": \"RHF=Helse Vest<br>Dato=18 Mar<br>Registrerte smittede=%{text}<br>Fylke=%{y}\", \"ids\": [\"Rogaland\", \"Vestland\"], \"legendgroup\": \"Helse Vest\", \"marker\": {\"color\": \"#ab63fa\"}, \"name\": \"Helse Vest\", \"offsetgroup\": \"Helse Vest\", \"orientation\": \"h\", \"showlegend\": true, \"text\": [161.0, 147.0], \"textposition\": \"auto\", \"x\": [161, 147], \"xaxis\": \"x\", \"y\": [\"Rogaland\", \"Vestland\"], \"yaxis\": \"y\", \"type\": \"bar\"}], \"name\": \"18 Mar\"}, {\"data\": [{\"alignmentgroup\": \"True\", \"hoverlabel\": {\"namelength\": 0}, \"hovertemplate\": \"RHF=Helse Midt-Norge<br>Dato=19 Mar<br>Registrerte smittede=%{text}<br>Fylke=%{y}\", \"ids\": [\"Tr\\u00f8ndelag\", \"M\\u00f8re og Romsdal\"], \"legendgroup\": \"Helse Midt-Norge\", \"marker\": {\"color\": \"#636efa\"}, \"name\": \"Helse Midt-Norge\", \"offsetgroup\": \"Helse Midt-Norge\", \"orientation\": \"h\", \"showlegend\": true, \"text\": [75.0, 25.0], \"textposition\": \"auto\", \"x\": [75, 25], \"xaxis\": \"x\", \"y\": [\"Tr\\u00f8ndelag\", \"M\\u00f8re og Romsdal\"], \"yaxis\": \"y\", \"type\": \"bar\"}, {\"alignmentgroup\": \"True\", \"hoverlabel\": {\"namelength\": 0}, \"hovertemplate\": \"RHF=Helse Nord<br>Dato=19 Mar<br>Registrerte smittede=%{text}<br>Fylke=%{y}\", \"ids\": [\"Troms og Finnmark\", \"Nordland\"], \"legendgroup\": \"Helse Nord\", \"marker\": {\"color\": \"#EF553B\"}, \"name\": \"Helse Nord\", \"offsetgroup\": \"Helse Nord\", \"orientation\": \"h\", \"showlegend\": true, \"text\": [28.0, 13.0], \"textposition\": \"auto\", \"x\": [28, 13], \"xaxis\": \"x\", \"y\": [\"Troms og Finnmark\", \"Nordland\"], \"yaxis\": \"y\", \"type\": \"bar\"}, {\"alignmentgroup\": \"True\", \"hoverlabel\": {\"namelength\": 0}, \"hovertemplate\": \"RHF=Helse S\\u00f8r-\\u00d8st<br>Dato=19 Mar<br>Registrerte smittede=%{text}<br>Fylke=%{y}\", \"ids\": [\"Agder\", \"Innlandet\", \"Vestfold og Telemark\", \"Oslo\", \"Viken\"], \"legendgroup\": \"Helse S\\u00f8r-\\u00d8st\", \"marker\": {\"color\": \"#00cc96\"}, \"name\": \"Helse S\\u00f8r-\\u00d8st\", \"offsetgroup\": \"Helse S\\u00f8r-\\u00d8st\", \"orientation\": \"h\", \"showlegend\": true, \"text\": [75.0, 105.0, 65.0, 392.0, 445.0], \"textposition\": \"auto\", \"x\": [75, 105, 65, 392, 445], \"xaxis\": \"x\", \"y\": [\"Agder\", \"Innlandet\", \"Vestfold og Telemark\", \"Oslo\", \"Viken\"], \"yaxis\": \"y\", \"type\": \"bar\"}, {\"alignmentgroup\": \"True\", \"hoverlabel\": {\"namelength\": 0}, \"hovertemplate\": \"RHF=Helse Vest<br>Dato=19 Mar<br>Registrerte smittede=%{text}<br>Fylke=%{y}\", \"ids\": [\"Vestland\", \"Rogaland\"], \"legendgroup\": \"Helse Vest\", \"marker\": {\"color\": \"#ab63fa\"}, \"name\": \"Helse Vest\", \"offsetgroup\": \"Helse Vest\", \"orientation\": \"h\", \"showlegend\": true, \"text\": [153.0, 176.0], \"textposition\": \"auto\", \"x\": [153, 176], \"xaxis\": \"x\", \"y\": [\"Vestland\", \"Rogaland\"], \"yaxis\": \"y\", \"type\": \"bar\"}], \"name\": \"19 Mar\"}]);\n",
       "                        }).then(function(){\n",
       "                            \n",
       "var gd = document.getElementById('69b13fe8-389a-4ce9-864c-73623658440e');\n",
       "var x = new MutationObserver(function (mutations, observer) {{\n",
       "        var display = window.getComputedStyle(gd).display;\n",
       "        if (!display || display === 'none') {{\n",
       "            console.log([gd, 'removed!']);\n",
       "            Plotly.purge(gd);\n",
       "            observer.disconnect();\n",
       "        }}\n",
       "}});\n",
       "\n",
       "// Listen for the removal of the full notebook cells\n",
       "var notebookContainer = gd.closest('#notebook-container');\n",
       "if (notebookContainer) {{\n",
       "    x.observe(notebookContainer, {childList: true});\n",
       "}}\n",
       "\n",
       "// Listen for the clearing of the current output cell\n",
       "var outputEl = gd.closest('.output');\n",
       "if (outputEl) {{\n",
       "    x.observe(outputEl, {childList: true});\n",
       "}}\n",
       "\n",
       "                        })\n",
       "                };\n",
       "                });\n",
       "            </script>\n",
       "        </div>"
      ]
     },
     "metadata": {},
     "output_type": "display_data"
    }
   ],
   "source": [
    "legend = [i for i in vekst[\"RHF\"].unique()]\n",
    "legend.sort()\n",
    "\n",
    "fig = px.bar(melted, \n",
    "             x='Registrerte smittede', y='Fylke', animation_frame=\"variable\",\n",
    "             animation_group=\"Fylke\",\n",
    "             orientation='h',\n",
    "             category_orders={\"RHF\": legend},\n",
    "             labels = {\"Veksttakt\": \"daglig vekst (%)\", \"variable\": \"Dato\"},\n",
    "             color='RHF',\n",
    "             text=\"Registrerte smittede\",\n",
    "             height=600,\n",
    "             title = \"<b>COVID19: Registrert smittet i Norge</b><br>Fordeling per fylke<br>Datakilde: FHI - folkehelseinstituttet. Oppdatert \" +datetime.today().strftime('%d.%m.%Y'),\n",
    "             template = \"plotly_white\",\n",
    "             range_x=[0,500]\n",
    "                 ).update_yaxes(categoryorder=\"total ascending\")\n",
    "\n",
    "fig.layout.coloraxis.showscale = False\n",
    "\n",
    "fig.update_layout(\n",
    "    yaxis=dict(\n",
    "        separatethousands=True,\n",
    "        categoryorder = 'total ascending',\n",
    "        title_text=\"\",\n",
    "        fixedrange=True,\n",
    "    ), xaxis=dict(fixedrange=True,\n",
    "                 title_text=\"\"),\n",
    "    title_font=dict(family=\"Helvetica\", size=18),\n",
    "        margin=dict(b=150)) #bottom margin\n",
    "\n",
    "fig.update_layout(autosize=True,\n",
    "    margin=dict(l=100, r=100, t=150, b=0),\n",
    "    paper_bgcolor='rgba(0, 0, 0, 0)'\n",
    "    #plot_bgcolor='rgb(248, 248, 255)'    \n",
    "                 )\n",
    "\n",
    "#plotly.offline.plot(fig, filename='COVID19_fylkesutvikling_animation.html')\n",
    "#py.plot(fig, filename='COVID19_fylkesutvikling_animation.html')\n",
    "fig.show()"
   ]
  },
  {
   "cell_type": "code",
   "execution_count": 377,
   "metadata": {},
   "outputs": [
    {
     "data": {
      "application/vnd.plotly.v1+json": {
       "config": {
        "plotlyServerURL": "https://plot.ly"
       },
       "data": [
        {
         "alignmentgroup": "True",
         "hoverlabel": {
          "namelength": 0
         },
         "hovertemplate": "RHF=Helse Midt-Norge<br>Dato=09 Mar<br>Smittede/tusen innb=%{x}<br>Fylke=%{y}<br>txt=%{text}",
         "ids": [
          "Trøndelag",
          "Møre og Romsdal"
         ],
         "legendgroup": "Helse Midt-Norge",
         "marker": {
          "color": "#636efa"
         },
         "name": "Helse Midt-Norge",
         "offsetgroup": "Helse Midt-Norge",
         "orientation": "h",
         "showlegend": true,
         "text": [
          "0.05",
          "0.02"
         ],
         "textposition": "auto",
         "type": "bar",
         "x": [
          0.046938139798848734,
          0.018850994201434185
         ],
         "xaxis": "x",
         "y": [
          "Trøndelag",
          "Møre og Romsdal"
         ],
         "yaxis": "y"
        },
        {
         "alignmentgroup": "True",
         "hoverlabel": {
          "namelength": 0
         },
         "hovertemplate": "RHF=Helse Nord<br>Dato=09 Mar<br>Smittede/tusen innb=%{x}<br>Fylke=%{y}<br>txt=%{text}",
         "ids": [
          "Nordland",
          "Troms og Finnmark"
         ],
         "legendgroup": "Helse Nord",
         "marker": {
          "color": "#EF553B"
         },
         "name": "Helse Nord",
         "offsetgroup": "Helse Nord",
         "orientation": "h",
         "showlegend": true,
         "text": [
          "0.01",
          "0.02"
         ],
         "textposition": "auto",
         "type": "bar",
         "x": [
          0.01243600638381661,
          0.024659797543062172
         ],
         "xaxis": "x",
         "y": [
          "Nordland",
          "Troms og Finnmark"
         ],
         "yaxis": "y"
        },
        {
         "alignmentgroup": "True",
         "hoverlabel": {
          "namelength": 0
         },
         "hovertemplate": "RHF=Helse Sør-Øst<br>Dato=09 Mar<br>Smittede/tusen innb=%{x}<br>Fylke=%{y}<br>txt=%{text}",
         "ids": [
          "Agder",
          "Oslo",
          "Viken",
          "Innlandet",
          "Vestfold og Telemark"
         ],
         "legendgroup": "Helse Sør-Øst",
         "marker": {
          "color": "#00cc96"
         },
         "name": "Helse Sør-Øst",
         "offsetgroup": "Helse Sør-Øst",
         "orientation": "h",
         "showlegend": true,
         "text": [
          "0.06",
          "0.07",
          "0.07",
          "0.04",
          "0.01"
         ],
         "textposition": "auto",
         "type": "bar",
         "x": [
          0.06184271769450349,
          0.07354065067614139,
          0.06928973988148232,
          0.043081976924216114,
          0.0119219067420767
         ],
         "xaxis": "x",
         "y": [
          "Agder",
          "Oslo",
          "Viken",
          "Innlandet",
          "Vestfold og Telemark"
         ],
         "yaxis": "y"
        },
        {
         "alignmentgroup": "True",
         "hoverlabel": {
          "namelength": 0
         },
         "hovertemplate": "RHF=Helse Vest<br>Dato=09 Mar<br>Smittede/tusen innb=%{x}<br>Fylke=%{y}<br>txt=%{text}",
         "ids": [
          "Vestland",
          "Rogaland"
         ],
         "legendgroup": "Helse Vest",
         "marker": {
          "color": "#ab63fa"
         },
         "name": "Helse Vest",
         "offsetgroup": "Helse Vest",
         "orientation": "h",
         "showlegend": true,
         "text": [
          "0.05",
          "0.07"
         ],
         "textposition": "auto",
         "type": "bar",
         "x": [
          0.048701477225775336,
          0.06876547223125203
         ],
         "xaxis": "x",
         "y": [
          "Vestland",
          "Rogaland"
         ],
         "yaxis": "y"
        }
       ],
       "frames": [
        {
         "data": [
          {
           "alignmentgroup": "True",
           "hoverlabel": {
            "namelength": 0
           },
           "hovertemplate": "RHF=Helse Midt-Norge<br>Dato=09 Mar<br>Smittede/tusen innb=%{x}<br>Fylke=%{y}<br>txt=%{text}",
           "ids": [
            "Trøndelag",
            "Møre og Romsdal"
           ],
           "legendgroup": "Helse Midt-Norge",
           "marker": {
            "color": "#636efa"
           },
           "name": "Helse Midt-Norge",
           "offsetgroup": "Helse Midt-Norge",
           "orientation": "h",
           "showlegend": true,
           "text": [
            "0.05",
            "0.02"
           ],
           "textposition": "auto",
           "type": "bar",
           "x": [
            0.046938139798848734,
            0.018850994201434185
           ],
           "xaxis": "x",
           "y": [
            "Trøndelag",
            "Møre og Romsdal"
           ],
           "yaxis": "y"
          },
          {
           "alignmentgroup": "True",
           "hoverlabel": {
            "namelength": 0
           },
           "hovertemplate": "RHF=Helse Nord<br>Dato=09 Mar<br>Smittede/tusen innb=%{x}<br>Fylke=%{y}<br>txt=%{text}",
           "ids": [
            "Nordland",
            "Troms og Finnmark"
           ],
           "legendgroup": "Helse Nord",
           "marker": {
            "color": "#EF553B"
           },
           "name": "Helse Nord",
           "offsetgroup": "Helse Nord",
           "orientation": "h",
           "showlegend": true,
           "text": [
            "0.01",
            "0.02"
           ],
           "textposition": "auto",
           "type": "bar",
           "x": [
            0.01243600638381661,
            0.024659797543062172
           ],
           "xaxis": "x",
           "y": [
            "Nordland",
            "Troms og Finnmark"
           ],
           "yaxis": "y"
          },
          {
           "alignmentgroup": "True",
           "hoverlabel": {
            "namelength": 0
           },
           "hovertemplate": "RHF=Helse Sør-Øst<br>Dato=09 Mar<br>Smittede/tusen innb=%{x}<br>Fylke=%{y}<br>txt=%{text}",
           "ids": [
            "Agder",
            "Oslo",
            "Viken",
            "Innlandet",
            "Vestfold og Telemark"
           ],
           "legendgroup": "Helse Sør-Øst",
           "marker": {
            "color": "#00cc96"
           },
           "name": "Helse Sør-Øst",
           "offsetgroup": "Helse Sør-Øst",
           "orientation": "h",
           "showlegend": true,
           "text": [
            "0.06",
            "0.07",
            "0.07",
            "0.04",
            "0.01"
           ],
           "textposition": "auto",
           "type": "bar",
           "x": [
            0.06184271769450349,
            0.07354065067614139,
            0.06928973988148232,
            0.043081976924216114,
            0.0119219067420767
           ],
           "xaxis": "x",
           "y": [
            "Agder",
            "Oslo",
            "Viken",
            "Innlandet",
            "Vestfold og Telemark"
           ],
           "yaxis": "y"
          },
          {
           "alignmentgroup": "True",
           "hoverlabel": {
            "namelength": 0
           },
           "hovertemplate": "RHF=Helse Vest<br>Dato=09 Mar<br>Smittede/tusen innb=%{x}<br>Fylke=%{y}<br>txt=%{text}",
           "ids": [
            "Vestland",
            "Rogaland"
           ],
           "legendgroup": "Helse Vest",
           "marker": {
            "color": "#ab63fa"
           },
           "name": "Helse Vest",
           "offsetgroup": "Helse Vest",
           "orientation": "h",
           "showlegend": true,
           "text": [
            "0.05",
            "0.07"
           ],
           "textposition": "auto",
           "type": "bar",
           "x": [
            0.048701477225775336,
            0.06876547223125203
           ],
           "xaxis": "x",
           "y": [
            "Vestland",
            "Rogaland"
           ],
           "yaxis": "y"
          }
         ],
         "name": "09 Mar"
        },
        {
         "data": [
          {
           "alignmentgroup": "True",
           "hoverlabel": {
            "namelength": 0
           },
           "hovertemplate": "RHF=Helse Midt-Norge<br>Dato=10 Mar<br>Smittede/tusen innb=%{x}<br>Fylke=%{y}<br>txt=%{text}",
           "ids": [
            "Trøndelag",
            "Møre og Romsdal"
           ],
           "legendgroup": "Helse Midt-Norge",
           "marker": {
            "color": "#636efa"
           },
           "name": "Helse Midt-Norge",
           "offsetgroup": "Helse Midt-Norge",
           "orientation": "h",
           "showlegend": true,
           "text": [
            "0.05",
            "0.02"
           ],
           "textposition": "auto",
           "type": "bar",
           "x": [
            0.046938139798848734,
            0.018850994201434185
           ],
           "xaxis": "x",
           "y": [
            "Trøndelag",
            "Møre og Romsdal"
           ],
           "yaxis": "y"
          },
          {
           "alignmentgroup": "True",
           "hoverlabel": {
            "namelength": 0
           },
           "hovertemplate": "RHF=Helse Nord<br>Dato=10 Mar<br>Smittede/tusen innb=%{x}<br>Fylke=%{y}<br>txt=%{text}",
           "ids": [
            "Troms og Finnmark",
            "Nordland"
           ],
           "legendgroup": "Helse Nord",
           "marker": {
            "color": "#EF553B"
           },
           "name": "Helse Nord",
           "offsetgroup": "Helse Nord",
           "orientation": "h",
           "showlegend": true,
           "text": [
            "0.02",
            "0.01"
           ],
           "textposition": "auto",
           "type": "bar",
           "x": [
            0.024659797543062172,
            0.01243600638381661
           ],
           "xaxis": "x",
           "y": [
            "Troms og Finnmark",
            "Nordland"
           ],
           "yaxis": "y"
          },
          {
           "alignmentgroup": "True",
           "hoverlabel": {
            "namelength": 0
           },
           "hovertemplate": "RHF=Helse Sør-Øst<br>Dato=10 Mar<br>Smittede/tusen innb=%{x}<br>Fylke=%{y}<br>txt=%{text}",
           "ids": [
            "Agder",
            "Oslo",
            "Innlandet",
            "Viken",
            "Vestfold og Telemark"
           ],
           "legendgroup": "Helse Sør-Øst",
           "marker": {
            "color": "#00cc96"
           },
           "name": "Helse Sør-Øst",
           "offsetgroup": "Helse Sør-Øst",
           "orientation": "h",
           "showlegend": true,
           "text": [
            "0.06",
            "0.07",
            "0.04",
            "0.07",
            "0.01"
           ],
           "textposition": "auto",
           "type": "bar",
           "x": [
            0.06184271769450349,
            0.07354065067614139,
            0.043081976924216114,
            0.06928973988148232,
            0.0119219067420767
           ],
           "xaxis": "x",
           "y": [
            "Agder",
            "Oslo",
            "Innlandet",
            "Viken",
            "Vestfold og Telemark"
           ],
           "yaxis": "y"
          },
          {
           "alignmentgroup": "True",
           "hoverlabel": {
            "namelength": 0
           },
           "hovertemplate": "RHF=Helse Vest<br>Dato=10 Mar<br>Smittede/tusen innb=%{x}<br>Fylke=%{y}<br>txt=%{text}",
           "ids": [
            "Vestland",
            "Rogaland"
           ],
           "legendgroup": "Helse Vest",
           "marker": {
            "color": "#ab63fa"
           },
           "name": "Helse Vest",
           "offsetgroup": "Helse Vest",
           "orientation": "h",
           "showlegend": true,
           "text": [
            "0.05",
            "0.07"
           ],
           "textposition": "auto",
           "type": "bar",
           "x": [
            0.048701477225775336,
            0.06876547223125203
           ],
           "xaxis": "x",
           "y": [
            "Vestland",
            "Rogaland"
           ],
           "yaxis": "y"
          }
         ],
         "name": "10 Mar"
        },
        {
         "data": [
          {
           "alignmentgroup": "True",
           "hoverlabel": {
            "namelength": 0
           },
           "hovertemplate": "RHF=Helse Midt-Norge<br>Dato=11 Mar<br>Smittede/tusen innb=%{x}<br>Fylke=%{y}<br>txt=%{text}",
           "ids": [
            "Trøndelag",
            "Møre og Romsdal"
           ],
           "legendgroup": "Helse Midt-Norge",
           "marker": {
            "color": "#636efa"
           },
           "name": "Helse Midt-Norge",
           "offsetgroup": "Helse Midt-Norge",
           "orientation": "h",
           "showlegend": true,
           "text": [
            "0.05",
            "0.03"
           ],
           "textposition": "auto",
           "type": "bar",
           "x": [
            0.05333879522596447,
            0.026391391882007856
           ],
           "xaxis": "x",
           "y": [
            "Trøndelag",
            "Møre og Romsdal"
           ],
           "yaxis": "y"
          },
          {
           "alignmentgroup": "True",
           "hoverlabel": {
            "namelength": 0
           },
           "hovertemplate": "RHF=Helse Nord<br>Dato=11 Mar<br>Smittede/tusen innb=%{x}<br>Fylke=%{y}<br>txt=%{text}",
           "ids": [
            "Troms og Finnmark",
            "Nordland"
           ],
           "legendgroup": "Helse Nord",
           "marker": {
            "color": "#EF553B"
           },
           "name": "Helse Nord",
           "offsetgroup": "Helse Nord",
           "orientation": "h",
           "showlegend": true,
           "text": [
            "0.03",
            "0.01"
           ],
           "textposition": "auto",
           "type": "bar",
           "x": [
            0.028769763800239198,
            0.01243600638381661
           ],
           "xaxis": "x",
           "y": [
            "Troms og Finnmark",
            "Nordland"
           ],
           "yaxis": "y"
          },
          {
           "alignmentgroup": "True",
           "hoverlabel": {
            "namelength": 0
           },
           "hovertemplate": "RHF=Helse Sør-Øst<br>Dato=11 Mar<br>Smittede/tusen innb=%{x}<br>Fylke=%{y}<br>txt=%{text}",
           "ids": [
            "Vestfold og Telemark",
            "Oslo",
            "Innlandet",
            "Viken",
            "Agder"
           ],
           "legendgroup": "Helse Sør-Øst",
           "marker": {
            "color": "#00cc96"
           },
           "name": "Helse Sør-Øst",
           "offsetgroup": "Helse Sør-Øst",
           "orientation": "h",
           "showlegend": true,
           "text": [
            "0.04",
            "0.18",
            "0.06",
            "0.1",
            "0.07"
           ],
           "textposition": "auto",
           "type": "bar",
           "x": [
            0.0357657202262301,
            0.177362745748341,
            0.06193034182856066,
            0.0999061365733001,
            0.06509759757316157
           ],
           "xaxis": "x",
           "y": [
            "Vestfold og Telemark",
            "Oslo",
            "Innlandet",
            "Viken",
            "Agder"
           ],
           "yaxis": "y"
          },
          {
           "alignmentgroup": "True",
           "hoverlabel": {
            "namelength": 0
           },
           "hovertemplate": "RHF=Helse Vest<br>Dato=11 Mar<br>Smittede/tusen innb=%{x}<br>Fylke=%{y}<br>txt=%{text}",
           "ids": [
            "Vestland",
            "Rogaland"
           ],
           "legendgroup": "Helse Vest",
           "marker": {
            "color": "#ab63fa"
           },
           "name": "Helse Vest",
           "offsetgroup": "Helse Vest",
           "orientation": "h",
           "showlegend": true,
           "text": [
            "0.06",
            "0.15"
           ],
           "textposition": "auto",
           "type": "bar",
           "x": [
            0.06441163116957384,
            0.14794995540663317
           ],
           "xaxis": "x",
           "y": [
            "Vestland",
            "Rogaland"
           ],
           "yaxis": "y"
          }
         ],
         "name": "11 Mar"
        },
        {
         "data": [
          {
           "alignmentgroup": "True",
           "hoverlabel": {
            "namelength": 0
           },
           "hovertemplate": "RHF=Helse Midt-Norge<br>Dato=12 Mar<br>Smittede/tusen innb=%{x}<br>Fylke=%{y}<br>txt=%{text}",
           "ids": [
            "Trøndelag",
            "Møre og Romsdal"
           ],
           "legendgroup": "Helse Midt-Norge",
           "marker": {
            "color": "#636efa"
           },
           "name": "Helse Midt-Norge",
           "offsetgroup": "Helse Midt-Norge",
           "orientation": "h",
           "showlegend": true,
           "text": [
            "0.08",
            "0.02"
           ],
           "textposition": "auto",
           "type": "bar",
           "x": [
            0.07894141693442742,
            0.02262119304172102
           ],
           "xaxis": "x",
           "y": [
            "Trøndelag",
            "Møre og Romsdal"
           ],
           "yaxis": "y"
          },
          {
           "alignmentgroup": "True",
           "hoverlabel": {
            "namelength": 0
           },
           "hovertemplate": "RHF=Helse Nord<br>Dato=12 Mar<br>Smittede/tusen innb=%{x}<br>Fylke=%{y}<br>txt=%{text}",
           "ids": [
            "Troms og Finnmark",
            "Nordland"
           ],
           "legendgroup": "Helse Nord",
           "marker": {
            "color": "#EF553B"
           },
           "name": "Helse Nord",
           "offsetgroup": "Helse Nord",
           "orientation": "h",
           "showlegend": true,
           "text": [
            "0.05",
            "0.02"
           ],
           "textposition": "auto",
           "type": "bar",
           "x": [
            0.045209628828947315,
            0.016581341845088814
           ],
           "xaxis": "x",
           "y": [
            "Troms og Finnmark",
            "Nordland"
           ],
           "yaxis": "y"
          },
          {
           "alignmentgroup": "True",
           "hoverlabel": {
            "namelength": 0
           },
           "hovertemplate": "RHF=Helse Sør-Øst<br>Dato=12 Mar<br>Smittede/tusen innb=%{x}<br>Fylke=%{y}<br>txt=%{text}",
           "ids": [
            "Oslo",
            "Vestfold og Telemark",
            "Agder",
            "Viken",
            "Innlandet"
           ],
           "legendgroup": "Helse Sør-Øst",
           "marker": {
            "color": "#00cc96"
           },
           "name": "Helse Sør-Øst",
           "offsetgroup": "Helse Sør-Øst",
           "orientation": "h",
           "showlegend": true,
           "text": [
            "0.24",
            "0.05",
            "0.1",
            "0.12",
            "0.11"
           ],
           "textposition": "auto",
           "type": "bar",
           "x": [
            0.23936760808312688,
            0.05245638966513748,
            0.1041561561170585,
            0.12407697606684043,
            0.10770494231054027
           ],
           "xaxis": "x",
           "y": [
            "Oslo",
            "Vestfold og Telemark",
            "Agder",
            "Viken",
            "Innlandet"
           ],
           "yaxis": "y"
          },
          {
           "alignmentgroup": "True",
           "hoverlabel": {
            "namelength": 0
           },
           "hovertemplate": "RHF=Helse Vest<br>Dato=12 Mar<br>Smittede/tusen innb=%{x}<br>Fylke=%{y}<br>txt=%{text}",
           "ids": [
            "Rogaland",
            "Vestland"
           ],
           "legendgroup": "Helse Vest",
           "marker": {
            "color": "#ab63fa"
           },
           "name": "Helse Vest",
           "offsetgroup": "Helse Vest",
           "orientation": "h",
           "showlegend": true,
           "text": [
            "0.17",
            "0.11"
           ],
           "textposition": "auto",
           "type": "bar",
           "x": [
            0.17087177948371718,
            0.10525803142344993
           ],
           "xaxis": "x",
           "y": [
            "Rogaland",
            "Vestland"
           ],
           "yaxis": "y"
          }
         ],
         "name": "12 Mar"
        },
        {
         "data": [
          {
           "alignmentgroup": "True",
           "hoverlabel": {
            "namelength": 0
           },
           "hovertemplate": "RHF=Helse Midt-Norge<br>Dato=13 Mar<br>Smittede/tusen innb=%{x}<br>Fylke=%{y}<br>txt=%{text}",
           "ids": [
            "Møre og Romsdal",
            "Trøndelag"
           ],
           "legendgroup": "Helse Midt-Norge",
           "marker": {
            "color": "#636efa"
           },
           "name": "Helse Midt-Norge",
           "offsetgroup": "Helse Midt-Norge",
           "orientation": "h",
           "showlegend": true,
           "text": [
            "0.03",
            "0.09"
           ],
           "textposition": "auto",
           "type": "bar",
           "x": [
            0.026391391882007856,
            0.0917427277886589
           ],
           "xaxis": "x",
           "y": [
            "Møre og Romsdal",
            "Trøndelag"
           ],
           "yaxis": "y"
          },
          {
           "alignmentgroup": "True",
           "hoverlabel": {
            "namelength": 0
           },
           "hovertemplate": "RHF=Helse Nord<br>Dato=13 Mar<br>Smittede/tusen innb=%{x}<br>Fylke=%{y}<br>txt=%{text}",
           "ids": [
            "Nordland",
            "Troms og Finnmark"
           ],
           "legendgroup": "Helse Nord",
           "marker": {
            "color": "#EF553B"
           },
           "name": "Helse Nord",
           "offsetgroup": "Helse Nord",
           "orientation": "h",
           "showlegend": true,
           "text": [
            "0.02",
            "0.05"
           ],
           "textposition": "auto",
           "type": "bar",
           "x": [
            0.020726677306361015,
            0.049319595086124345
           ],
           "xaxis": "x",
           "y": [
            "Nordland",
            "Troms og Finnmark"
           ],
           "yaxis": "y"
          },
          {
           "alignmentgroup": "True",
           "hoverlabel": {
            "namelength": 0
           },
           "hovertemplate": "RHF=Helse Sør-Øst<br>Dato=13 Mar<br>Smittede/tusen innb=%{x}<br>Fylke=%{y}<br>txt=%{text}",
           "ids": [
            "Agder",
            "Viken",
            "Innlandet",
            "Oslo",
            "Vestfold og Telemark"
           ],
           "legendgroup": "Helse Sør-Øst",
           "marker": {
            "color": "#00cc96"
           },
           "name": "Helse Sør-Øst",
           "offsetgroup": "Helse Sør-Øst",
           "orientation": "h",
           "showlegend": true,
           "text": [
            "0.11",
            "0.15",
            "0.13",
            "0.3",
            "0.07"
           ],
           "textposition": "auto",
           "type": "bar",
           "x": [
            0.11066591587437466,
            0.14502503696124205,
            0.13193855433041185,
            0.29848852333257386,
            0.0715314404524602
           ],
           "xaxis": "x",
           "y": [
            "Agder",
            "Viken",
            "Innlandet",
            "Oslo",
            "Vestfold og Telemark"
           ],
           "yaxis": "y"
          },
          {
           "alignmentgroup": "True",
           "hoverlabel": {
            "namelength": 0
           },
           "hovertemplate": "RHF=Helse Vest<br>Dato=13 Mar<br>Smittede/tusen innb=%{x}<br>Fylke=%{y}<br>txt=%{text}",
           "ids": [
            "Vestland",
            "Rogaland"
           ],
           "legendgroup": "Helse Vest",
           "marker": {
            "color": "#ab63fa"
           },
           "name": "Helse Vest",
           "offsetgroup": "Helse Vest",
           "orientation": "h",
           "showlegend": true,
           "text": [
            "0.12",
            "0.22"
           ],
           "textposition": "auto",
           "type": "bar",
           "x": [
            0.12253920076162828,
            0.21879922982671102
           ],
           "xaxis": "x",
           "y": [
            "Vestland",
            "Rogaland"
           ],
           "yaxis": "y"
          }
         ],
         "name": "13 Mar"
        },
        {
         "data": [
          {
           "alignmentgroup": "True",
           "hoverlabel": {
            "namelength": 0
           },
           "hovertemplate": "RHF=Helse Midt-Norge<br>Dato=14 Mar<br>Smittede/tusen innb=%{x}<br>Fylke=%{y}<br>txt=%{text}",
           "ids": [
            "Trøndelag",
            "Møre og Romsdal"
           ],
           "legendgroup": "Helse Midt-Norge",
           "marker": {
            "color": "#636efa"
           },
           "name": "Helse Midt-Norge",
           "offsetgroup": "Helse Midt-Norge",
           "orientation": "h",
           "showlegend": true,
           "text": [
            "0.1",
            "0.06"
           ],
           "textposition": "auto",
           "type": "bar",
           "x": [
            0.09814338321577463,
            0.06032318144458939
           ],
           "xaxis": "x",
           "y": [
            "Trøndelag",
            "Møre og Romsdal"
           ],
           "yaxis": "y"
          },
          {
           "alignmentgroup": "True",
           "hoverlabel": {
            "namelength": 0
           },
           "hovertemplate": "RHF=Helse Nord<br>Dato=14 Mar<br>Smittede/tusen innb=%{x}<br>Fylke=%{y}<br>txt=%{text}",
           "ids": [
            "Troms og Finnmark",
            "Nordland"
           ],
           "legendgroup": "Helse Nord",
           "marker": {
            "color": "#EF553B"
           },
           "name": "Helse Nord",
           "offsetgroup": "Helse Nord",
           "orientation": "h",
           "showlegend": true,
           "text": [
            "0.07",
            "0.03"
           ],
           "textposition": "auto",
           "type": "bar",
           "x": [
            0.06575946011483245,
            0.03316268369017763
           ],
           "xaxis": "x",
           "y": [
            "Troms og Finnmark",
            "Nordland"
           ],
           "yaxis": "y"
          },
          {
           "alignmentgroup": "True",
           "hoverlabel": {
            "namelength": 0
           },
           "hovertemplate": "RHF=Helse Sør-Øst<br>Dato=14 Mar<br>Smittede/tusen innb=%{x}<br>Fylke=%{y}<br>txt=%{text}",
           "ids": [
            "Vestfold og Telemark",
            "Viken",
            "Agder",
            "Innlandet",
            "Oslo"
           ],
           "legendgroup": "Helse Sør-Øst",
           "marker": {
            "color": "#00cc96"
           },
           "name": "Helse Sør-Øst",
           "offsetgroup": "Helse Sør-Øst",
           "orientation": "h",
           "showlegend": true,
           "text": [
            "0.09",
            "0.19",
            "0.17",
            "0.15",
            "0.32"
           ],
           "textposition": "auto",
           "type": "bar",
           "x": [
            0.09299087258819826,
            0.18611546410026064,
            0.16925375369022005,
            0.1534795427925199,
            0.32011812647261545
           ],
           "xaxis": "x",
           "y": [
            "Vestfold og Telemark",
            "Viken",
            "Agder",
            "Innlandet",
            "Oslo"
           ],
           "yaxis": "y"
          },
          {
           "alignmentgroup": "True",
           "hoverlabel": {
            "namelength": 0
           },
           "hovertemplate": "RHF=Helse Vest<br>Dato=14 Mar<br>Smittede/tusen innb=%{x}<br>Fylke=%{y}<br>txt=%{text}",
           "ids": [
            "Vestland",
            "Rogaland"
           ],
           "legendgroup": "Helse Vest",
           "marker": {
            "color": "#ab63fa"
           },
           "name": "Helse Vest",
           "offsetgroup": "Helse Vest",
           "orientation": "h",
           "showlegend": true,
           "text": [
            "0.16",
            "0.25"
           ],
           "textposition": "auto",
           "type": "bar",
           "x": [
            0.1586725548323648,
            0.2479724604702725
           ],
           "xaxis": "x",
           "y": [
            "Vestland",
            "Rogaland"
           ],
           "yaxis": "y"
          }
         ],
         "name": "14 Mar"
        },
        {
         "data": [
          {
           "alignmentgroup": "True",
           "hoverlabel": {
            "namelength": 0
           },
           "hovertemplate": "RHF=Helse Midt-Norge<br>Dato=15 Mar<br>Smittede/tusen innb=%{x}<br>Fylke=%{y}<br>txt=%{text}",
           "ids": [
            "Trøndelag",
            "Møre og Romsdal"
           ],
           "legendgroup": "Helse Midt-Norge",
           "marker": {
            "color": "#636efa"
           },
           "name": "Helse Midt-Norge",
           "offsetgroup": "Helse Midt-Norge",
           "orientation": "h",
           "showlegend": true,
           "text": [
            "0.11",
            "0.08"
           ],
           "textposition": "auto",
           "type": "bar",
           "x": [
            0.10667759045192894,
            0.07540397680573674
           ],
           "xaxis": "x",
           "y": [
            "Trøndelag",
            "Møre og Romsdal"
           ],
           "yaxis": "y"
          },
          {
           "alignmentgroup": "True",
           "hoverlabel": {
            "namelength": 0
           },
           "hovertemplate": "RHF=Helse Nord<br>Dato=15 Mar<br>Smittede/tusen innb=%{x}<br>Fylke=%{y}<br>txt=%{text}",
           "ids": [
            "Nordland",
            "Troms og Finnmark"
           ],
           "legendgroup": "Helse Nord",
           "marker": {
            "color": "#EF553B"
           },
           "name": "Helse Nord",
           "offsetgroup": "Helse Nord",
           "orientation": "h",
           "showlegend": true,
           "text": [
            "0.03",
            "0.08"
           ],
           "textposition": "auto",
           "type": "bar",
           "x": [
            0.03316268369017763,
            0.08219932514354057
           ],
           "xaxis": "x",
           "y": [
            "Nordland",
            "Troms og Finnmark"
           ],
           "yaxis": "y"
          },
          {
           "alignmentgroup": "True",
           "hoverlabel": {
            "namelength": 0
           },
           "hovertemplate": "RHF=Helse Sør-Øst<br>Dato=15 Mar<br>Smittede/tusen innb=%{x}<br>Fylke=%{y}<br>txt=%{text}",
           "ids": [
            "Vestfold og Telemark",
            "Innlandet",
            "Viken",
            "Oslo",
            "Agder"
           ],
           "legendgroup": "Helse Sør-Øst",
           "marker": {
            "color": "#00cc96"
           },
           "name": "Helse Sør-Øst",
           "offsetgroup": "Helse Sør-Øst",
           "orientation": "h",
           "showlegend": true,
           "text": [
            "0.11",
            "0.19",
            "0.22",
            "0.41",
            "0.18"
           ],
           "textposition": "auto",
           "type": "bar",
           "x": [
            0.11445030472393633,
            0.1938688961589725,
            0.2239831126401405,
            0.40519456549011235,
            0.1790183933261943
           ],
           "xaxis": "x",
           "y": [
            "Vestfold og Telemark",
            "Innlandet",
            "Viken",
            "Oslo",
            "Agder"
           ],
           "yaxis": "y"
          },
          {
           "alignmentgroup": "True",
           "hoverlabel": {
            "namelength": 0
           },
           "hovertemplate": "RHF=Helse Vest<br>Dato=15 Mar<br>Smittede/tusen innb=%{x}<br>Fylke=%{y}<br>txt=%{text}",
           "ids": [
            "Rogaland",
            "Vestland"
           ],
           "legendgroup": "Helse Vest",
           "marker": {
            "color": "#ab63fa"
           },
           "name": "Helse Vest",
           "offsetgroup": "Helse Vest",
           "orientation": "h",
           "showlegend": true,
           "text": [
            "0.26",
            "0.19"
           ],
           "textposition": "auto",
           "type": "bar",
           "x": [
            0.26464287798087904,
            0.18537981653682226
           ],
           "xaxis": "x",
           "y": [
            "Rogaland",
            "Vestland"
           ],
           "yaxis": "y"
          }
         ],
         "name": "15 Mar"
        },
        {
         "data": [
          {
           "alignmentgroup": "True",
           "hoverlabel": {
            "namelength": 0
           },
           "hovertemplate": "RHF=Helse Midt-Norge<br>Dato=16 Mar<br>Smittede/tusen innb=%{x}<br>Fylke=%{y}<br>txt=%{text}",
           "ids": [
            "Trøndelag",
            "Møre og Romsdal"
           ],
           "legendgroup": "Helse Midt-Norge",
           "marker": {
            "color": "#636efa"
           },
           "name": "Helse Midt-Norge",
           "offsetgroup": "Helse Midt-Norge",
           "orientation": "h",
           "showlegend": true,
           "text": [
            "0.11",
            "0.08"
           ],
           "textposition": "auto",
           "type": "bar",
           "x": [
            0.11094469407000611,
            0.07540397680573674
           ],
           "xaxis": "x",
           "y": [
            "Trøndelag",
            "Møre og Romsdal"
           ],
           "yaxis": "y"
          },
          {
           "alignmentgroup": "True",
           "hoverlabel": {
            "namelength": 0
           },
           "hovertemplate": "RHF=Helse Nord<br>Dato=16 Mar<br>Smittede/tusen innb=%{x}<br>Fylke=%{y}<br>txt=%{text}",
           "ids": [
            "Troms og Finnmark",
            "Nordland"
           ],
           "legendgroup": "Helse Nord",
           "marker": {
            "color": "#EF553B"
           },
           "name": "Helse Nord",
           "offsetgroup": "Helse Nord",
           "orientation": "h",
           "showlegend": true,
           "text": [
            "0.09",
            "0.05"
           ],
           "textposition": "auto",
           "type": "bar",
           "x": [
            0.0863092914007176,
            0.04559869007399424
           ],
           "xaxis": "x",
           "y": [
            "Troms og Finnmark",
            "Nordland"
           ],
           "yaxis": "y"
          },
          {
           "alignmentgroup": "True",
           "hoverlabel": {
            "namelength": 0
           },
           "hovertemplate": "RHF=Helse Sør-Øst<br>Dato=16 Mar<br>Smittede/tusen innb=%{x}<br>Fylke=%{y}<br>txt=%{text}",
           "ids": [
            "Vestfold og Telemark",
            "Innlandet",
            "Viken",
            "Agder",
            "Oslo"
           ],
           "legendgroup": "Helse Sør-Øst",
           "marker": {
            "color": "#00cc96"
           },
           "name": "Helse Sør-Øst",
           "offsetgroup": "Helse Sør-Øst",
           "orientation": "h",
           "showlegend": true,
           "text": [
            "0.13",
            "0.22",
            "0.25",
            "0.22",
            "0.42"
           ],
           "textposition": "auto",
           "type": "bar",
           "x": [
            0.12637221146601302,
            0.21810250817884405,
            0.2529881200323889,
            0.21807695187009124,
            0.4210562744594762
           ],
           "xaxis": "x",
           "y": [
            "Vestfold og Telemark",
            "Innlandet",
            "Viken",
            "Agder",
            "Oslo"
           ],
           "yaxis": "y"
          },
          {
           "alignmentgroup": "True",
           "hoverlabel": {
            "namelength": 0
           },
           "hovertemplate": "RHF=Helse Vest<br>Dato=16 Mar<br>Smittede/tusen innb=%{x}<br>Fylke=%{y}<br>txt=%{text}",
           "ids": [
            "Rogaland",
            "Vestland"
           ],
           "legendgroup": "Helse Vest",
           "marker": {
            "color": "#ab63fa"
           },
           "name": "Helse Vest",
           "offsetgroup": "Helse Vest",
           "orientation": "h",
           "showlegend": true,
           "text": [
            "0.27",
            "0.2"
           ],
           "textposition": "auto",
           "type": "bar",
           "x": [
            0.2729780867361823,
            0.1995189550862409
           ],
           "xaxis": "x",
           "y": [
            "Rogaland",
            "Vestland"
           ],
           "yaxis": "y"
          }
         ],
         "name": "16 Mar"
        },
        {
         "data": [
          {
           "alignmentgroup": "True",
           "hoverlabel": {
            "namelength": 0
           },
           "hovertemplate": "RHF=Helse Midt-Norge<br>Dato=17 Mar<br>Smittede/tusen innb=%{x}<br>Fylke=%{y}<br>txt=%{text}",
           "ids": [
            "Møre og Romsdal",
            "Trøndelag"
           ],
           "legendgroup": "Helse Midt-Norge",
           "marker": {
            "color": "#636efa"
           },
           "name": "Helse Midt-Norge",
           "offsetgroup": "Helse Midt-Norge",
           "orientation": "h",
           "showlegend": true,
           "text": [
            "0.08",
            "0.13"
           ],
           "textposition": "auto",
           "type": "bar",
           "x": [
            0.07540397680573674,
            0.1301466603513533
           ],
           "xaxis": "x",
           "y": [
            "Møre og Romsdal",
            "Trøndelag"
           ],
           "yaxis": "y"
          },
          {
           "alignmentgroup": "True",
           "hoverlabel": {
            "namelength": 0
           },
           "hovertemplate": "RHF=Helse Nord<br>Dato=17 Mar<br>Smittede/tusen innb=%{x}<br>Fylke=%{y}<br>txt=%{text}",
           "ids": [
            "Troms og Finnmark",
            "Nordland"
           ],
           "legendgroup": "Helse Nord",
           "marker": {
            "color": "#EF553B"
           },
           "name": "Helse Nord",
           "offsetgroup": "Helse Nord",
           "orientation": "h",
           "showlegend": true,
           "text": [
            "0.1",
            "0.05"
           ],
           "textposition": "auto",
           "type": "bar",
           "x": [
            0.09863919017224869,
            0.04559869007399424
           ],
           "xaxis": "x",
           "y": [
            "Troms og Finnmark",
            "Nordland"
           ],
           "yaxis": "y"
          },
          {
           "alignmentgroup": "True",
           "hoverlabel": {
            "namelength": 0
           },
           "hovertemplate": "RHF=Helse Sør-Øst<br>Dato=17 Mar<br>Smittede/tusen innb=%{x}<br>Fylke=%{y}<br>txt=%{text}",
           "ids": [
            "Innlandet",
            "Vestfold og Telemark",
            "Viken",
            "Agder",
            "Oslo"
           ],
           "legendgroup": "Helse Sør-Øst",
           "marker": {
            "color": "#00cc96"
           },
           "name": "Helse Sør-Øst",
           "offsetgroup": "Helse Sør-Øst",
           "orientation": "h",
           "showlegend": true,
           "text": [
            "0.24",
            "0.14",
            "0.29",
            "0.22",
            "0.47"
           ],
           "textposition": "auto",
           "type": "bar",
           "x": [
            0.2369508730831886,
            0.14067849955650508,
            0.2884386846229148,
            0.21807695187009124,
            0.47440929553824546
           ],
           "xaxis": "x",
           "y": [
            "Innlandet",
            "Vestfold og Telemark",
            "Viken",
            "Agder",
            "Oslo"
           ],
           "yaxis": "y"
          },
          {
           "alignmentgroup": "True",
           "hoverlabel": {
            "namelength": 0
           },
           "hovertemplate": "RHF=Helse Vest<br>Dato=17 Mar<br>Smittede/tusen innb=%{x}<br>Fylke=%{y}<br>txt=%{text}",
           "ids": [
            "Vestland",
            "Rogaland"
           ],
           "legendgroup": "Helse Vest",
           "marker": {
            "color": "#ab63fa"
           },
           "name": "Helse Vest",
           "offsetgroup": "Helse Vest",
           "orientation": "h",
           "showlegend": true,
           "text": [
            "0.22",
            "0.31"
           ],
           "textposition": "auto",
           "type": "bar",
           "x": [
            0.2215131706075588,
            0.3125703283238729
           ],
           "xaxis": "x",
           "y": [
            "Vestland",
            "Rogaland"
           ],
           "yaxis": "y"
          }
         ],
         "name": "17 Mar"
        },
        {
         "data": [
          {
           "alignmentgroup": "True",
           "hoverlabel": {
            "namelength": 0
           },
           "hovertemplate": "RHF=Helse Midt-Norge<br>Dato=18 Mar<br>Smittede/tusen innb=%{x}<br>Fylke=%{y}<br>txt=%{text}",
           "ids": [
            "Møre og Romsdal",
            "Trøndelag"
           ],
           "legendgroup": "Helse Midt-Norge",
           "marker": {
            "color": "#636efa"
           },
           "name": "Helse Midt-Norge",
           "offsetgroup": "Helse Midt-Norge",
           "orientation": "h",
           "showlegend": true,
           "text": [
            "0.08",
            "0.15"
           ],
           "textposition": "auto",
           "type": "bar",
           "x": [
            0.07540397680573674,
            0.14934862663270052
           ],
           "xaxis": "x",
           "y": [
            "Møre og Romsdal",
            "Trøndelag"
           ],
           "yaxis": "y"
          },
          {
           "alignmentgroup": "True",
           "hoverlabel": {
            "namelength": 0
           },
           "hovertemplate": "RHF=Helse Nord<br>Dato=18 Mar<br>Smittede/tusen innb=%{x}<br>Fylke=%{y}<br>txt=%{text}",
           "ids": [
            "Troms og Finnmark",
            "Nordland"
           ],
           "legendgroup": "Helse Nord",
           "marker": {
            "color": "#EF553B"
           },
           "name": "Helse Nord",
           "offsetgroup": "Helse Nord",
           "orientation": "h",
           "showlegend": true,
           "text": [
            "0.12",
            "0.05"
           ],
           "textposition": "auto",
           "type": "bar",
           "x": [
            0.11507905520095679,
            0.04974402553526644
           ],
           "xaxis": "x",
           "y": [
            "Troms og Finnmark",
            "Nordland"
           ],
           "yaxis": "y"
          },
          {
           "alignmentgroup": "True",
           "hoverlabel": {
            "namelength": 0
           },
           "hovertemplate": "RHF=Helse Sør-Øst<br>Dato=18 Mar<br>Smittede/tusen innb=%{x}<br>Fylke=%{y}<br>txt=%{text}",
           "ids": [
            "Oslo",
            "Agder",
            "Viken",
            "Innlandet",
            "Vestfold og Telemark"
           ],
           "legendgroup": "Helse Sør-Øst",
           "marker": {
            "color": "#00cc96"
           },
           "name": "Helse Sør-Øst",
           "offsetgroup": "Helse Sør-Øst",
           "orientation": "h",
           "showlegend": true,
           "text": [
            "0.5",
            "0.22",
            "0.33",
            "0.26",
            "0.15"
           ],
           "textposition": "auto",
           "type": "bar",
           "x": [
            0.5018067928489648,
            0.21807695187009124,
            0.33033480641171803,
            0.2611844851030602,
            0.15021602495016642
           ],
           "xaxis": "x",
           "y": [
            "Oslo",
            "Agder",
            "Viken",
            "Innlandet",
            "Vestfold og Telemark"
           ],
           "yaxis": "y"
          },
          {
           "alignmentgroup": "True",
           "hoverlabel": {
            "namelength": 0
           },
           "hovertemplate": "RHF=Helse Vest<br>Dato=18 Mar<br>Smittede/tusen innb=%{x}<br>Fylke=%{y}<br>txt=%{text}",
           "ids": [
            "Rogaland",
            "Vestland"
           ],
           "legendgroup": "Helse Vest",
           "marker": {
            "color": "#ab63fa"
           },
           "name": "Helse Vest",
           "offsetgroup": "Helse Vest",
           "orientation": "h",
           "showlegend": true,
           "text": [
            "0.34",
            "0.23"
           ],
           "textposition": "auto",
           "type": "bar",
           "x": [
            0.33549215240095687,
            0.2309392629738379
           ],
           "xaxis": "x",
           "y": [
            "Rogaland",
            "Vestland"
           ],
           "yaxis": "y"
          }
         ],
         "name": "18 Mar"
        },
        {
         "data": [
          {
           "alignmentgroup": "True",
           "hoverlabel": {
            "namelength": 0
           },
           "hovertemplate": "RHF=Helse Midt-Norge<br>Dato=19 Mar<br>Smittede/tusen innb=%{x}<br>Fylke=%{y}<br>txt=%{text}",
           "ids": [
            "Trøndelag",
            "Møre og Romsdal"
           ],
           "legendgroup": "Helse Midt-Norge",
           "marker": {
            "color": "#636efa"
           },
           "name": "Helse Midt-Norge",
           "offsetgroup": "Helse Midt-Norge",
           "orientation": "h",
           "showlegend": true,
           "text": [
            "0.16",
            "0.09"
           ],
           "textposition": "auto",
           "type": "bar",
           "x": [
            0.16001638567789342,
            0.09425497100717092
           ],
           "xaxis": "x",
           "y": [
            "Trøndelag",
            "Møre og Romsdal"
           ],
           "yaxis": "y"
          },
          {
           "alignmentgroup": "True",
           "hoverlabel": {
            "namelength": 0
           },
           "hovertemplate": "RHF=Helse Nord<br>Dato=19 Mar<br>Smittede/tusen innb=%{x}<br>Fylke=%{y}<br>txt=%{text}",
           "ids": [
            "Troms og Finnmark",
            "Nordland"
           ],
           "legendgroup": "Helse Nord",
           "marker": {
            "color": "#EF553B"
           },
           "name": "Helse Nord",
           "offsetgroup": "Helse Nord",
           "orientation": "h",
           "showlegend": true,
           "text": [
            "0.12",
            "0.05"
           ],
           "textposition": "auto",
           "type": "bar",
           "x": [
            0.11507905520095679,
            0.05388936099653864
           ],
           "xaxis": "x",
           "y": [
            "Troms og Finnmark",
            "Nordland"
           ],
           "yaxis": "y"
          },
          {
           "alignmentgroup": "True",
           "hoverlabel": {
            "namelength": 0
           },
           "hovertemplate": "RHF=Helse Sør-Øst<br>Dato=19 Mar<br>Smittede/tusen innb=%{x}<br>Fylke=%{y}<br>txt=%{text}",
           "ids": [
            "Agder",
            "Innlandet",
            "Vestfold og Telemark",
            "Oslo",
            "Viken"
           ],
           "legendgroup": "Helse Sør-Øst",
           "marker": {
            "color": "#00cc96"
           },
           "name": "Helse Sør-Øst",
           "offsetgroup": "Helse Sør-Øst",
           "orientation": "h",
           "showlegend": true,
           "text": [
            "0.24",
            "0.28",
            "0.15",
            "0.57",
            "0.36"
           ],
           "textposition": "auto",
           "type": "bar",
           "x": [
            0.24411599089935587,
            0.28272547356516825,
            0.1549847876469971,
            0.5652536287264202,
            0.35853411915418176
           ],
           "xaxis": "x",
           "y": [
            "Agder",
            "Innlandet",
            "Vestfold og Telemark",
            "Oslo",
            "Viken"
           ],
           "yaxis": "y"
          },
          {
           "alignmentgroup": "True",
           "hoverlabel": {
            "namelength": 0
           },
           "hovertemplate": "RHF=Helse Vest<br>Dato=19 Mar<br>Smittede/tusen innb=%{x}<br>Fylke=%{y}<br>txt=%{text}",
           "ids": [
            "Vestland",
            "Rogaland"
           ],
           "legendgroup": "Helse Vest",
           "marker": {
            "color": "#ab63fa"
           },
           "name": "Helse Vest",
           "offsetgroup": "Helse Vest",
           "orientation": "h",
           "showlegend": true,
           "text": [
            "0.24",
            "0.37"
           ],
           "textposition": "auto",
           "type": "bar",
           "x": [
            0.240365355340117,
            0.36674918523334415
           ],
           "xaxis": "x",
           "y": [
            "Vestland",
            "Rogaland"
           ],
           "yaxis": "y"
          }
         ],
         "name": "19 Mar"
        }
       ],
       "layout": {
        "autosize": true,
        "barmode": "relative",
        "coloraxis": {
         "showscale": false
        },
        "height": 600,
        "legend": {
         "title": {
          "text": "RHF"
         },
         "tracegroupgap": 0
        },
        "margin": {
         "b": 0,
         "l": 100,
         "r": 100,
         "t": 150
        },
        "paper_bgcolor": "rgba(0, 0, 0, 0)",
        "sliders": [
         {
          "active": 0,
          "currentvalue": {
           "prefix": "Dato="
          },
          "len": 0.9,
          "pad": {
           "b": 10,
           "t": 60
          },
          "steps": [
           {
            "args": [
             [
              "09 Mar"
             ],
             {
              "frame": {
               "duration": 0,
               "redraw": true
              },
              "fromcurrent": true,
              "mode": "immediate",
              "transition": {
               "duration": 0,
               "easing": "linear"
              }
             }
            ],
            "label": "09 Mar",
            "method": "animate"
           },
           {
            "args": [
             [
              "10 Mar"
             ],
             {
              "frame": {
               "duration": 0,
               "redraw": true
              },
              "fromcurrent": true,
              "mode": "immediate",
              "transition": {
               "duration": 0,
               "easing": "linear"
              }
             }
            ],
            "label": "10 Mar",
            "method": "animate"
           },
           {
            "args": [
             [
              "11 Mar"
             ],
             {
              "frame": {
               "duration": 0,
               "redraw": true
              },
              "fromcurrent": true,
              "mode": "immediate",
              "transition": {
               "duration": 0,
               "easing": "linear"
              }
             }
            ],
            "label": "11 Mar",
            "method": "animate"
           },
           {
            "args": [
             [
              "12 Mar"
             ],
             {
              "frame": {
               "duration": 0,
               "redraw": true
              },
              "fromcurrent": true,
              "mode": "immediate",
              "transition": {
               "duration": 0,
               "easing": "linear"
              }
             }
            ],
            "label": "12 Mar",
            "method": "animate"
           },
           {
            "args": [
             [
              "13 Mar"
             ],
             {
              "frame": {
               "duration": 0,
               "redraw": true
              },
              "fromcurrent": true,
              "mode": "immediate",
              "transition": {
               "duration": 0,
               "easing": "linear"
              }
             }
            ],
            "label": "13 Mar",
            "method": "animate"
           },
           {
            "args": [
             [
              "14 Mar"
             ],
             {
              "frame": {
               "duration": 0,
               "redraw": true
              },
              "fromcurrent": true,
              "mode": "immediate",
              "transition": {
               "duration": 0,
               "easing": "linear"
              }
             }
            ],
            "label": "14 Mar",
            "method": "animate"
           },
           {
            "args": [
             [
              "15 Mar"
             ],
             {
              "frame": {
               "duration": 0,
               "redraw": true
              },
              "fromcurrent": true,
              "mode": "immediate",
              "transition": {
               "duration": 0,
               "easing": "linear"
              }
             }
            ],
            "label": "15 Mar",
            "method": "animate"
           },
           {
            "args": [
             [
              "16 Mar"
             ],
             {
              "frame": {
               "duration": 0,
               "redraw": true
              },
              "fromcurrent": true,
              "mode": "immediate",
              "transition": {
               "duration": 0,
               "easing": "linear"
              }
             }
            ],
            "label": "16 Mar",
            "method": "animate"
           },
           {
            "args": [
             [
              "17 Mar"
             ],
             {
              "frame": {
               "duration": 0,
               "redraw": true
              },
              "fromcurrent": true,
              "mode": "immediate",
              "transition": {
               "duration": 0,
               "easing": "linear"
              }
             }
            ],
            "label": "17 Mar",
            "method": "animate"
           },
           {
            "args": [
             [
              "18 Mar"
             ],
             {
              "frame": {
               "duration": 0,
               "redraw": true
              },
              "fromcurrent": true,
              "mode": "immediate",
              "transition": {
               "duration": 0,
               "easing": "linear"
              }
             }
            ],
            "label": "18 Mar",
            "method": "animate"
           },
           {
            "args": [
             [
              "19 Mar"
             ],
             {
              "frame": {
               "duration": 0,
               "redraw": true
              },
              "fromcurrent": true,
              "mode": "immediate",
              "transition": {
               "duration": 0,
               "easing": "linear"
              }
             }
            ],
            "label": "19 Mar",
            "method": "animate"
           }
          ],
          "x": 0.1,
          "xanchor": "left",
          "y": 0,
          "yanchor": "top"
         }
        ],
        "template": {
         "data": {
          "bar": [
           {
            "error_x": {
             "color": "#2a3f5f"
            },
            "error_y": {
             "color": "#2a3f5f"
            },
            "marker": {
             "line": {
              "color": "white",
              "width": 0.5
             }
            },
            "type": "bar"
           }
          ],
          "barpolar": [
           {
            "marker": {
             "line": {
              "color": "white",
              "width": 0.5
             }
            },
            "type": "barpolar"
           }
          ],
          "carpet": [
           {
            "aaxis": {
             "endlinecolor": "#2a3f5f",
             "gridcolor": "#C8D4E3",
             "linecolor": "#C8D4E3",
             "minorgridcolor": "#C8D4E3",
             "startlinecolor": "#2a3f5f"
            },
            "baxis": {
             "endlinecolor": "#2a3f5f",
             "gridcolor": "#C8D4E3",
             "linecolor": "#C8D4E3",
             "minorgridcolor": "#C8D4E3",
             "startlinecolor": "#2a3f5f"
            },
            "type": "carpet"
           }
          ],
          "choropleth": [
           {
            "colorbar": {
             "outlinewidth": 0,
             "ticks": ""
            },
            "type": "choropleth"
           }
          ],
          "contour": [
           {
            "colorbar": {
             "outlinewidth": 0,
             "ticks": ""
            },
            "colorscale": [
             [
              0,
              "#0d0887"
             ],
             [
              0.1111111111111111,
              "#46039f"
             ],
             [
              0.2222222222222222,
              "#7201a8"
             ],
             [
              0.3333333333333333,
              "#9c179e"
             ],
             [
              0.4444444444444444,
              "#bd3786"
             ],
             [
              0.5555555555555556,
              "#d8576b"
             ],
             [
              0.6666666666666666,
              "#ed7953"
             ],
             [
              0.7777777777777778,
              "#fb9f3a"
             ],
             [
              0.8888888888888888,
              "#fdca26"
             ],
             [
              1,
              "#f0f921"
             ]
            ],
            "type": "contour"
           }
          ],
          "contourcarpet": [
           {
            "colorbar": {
             "outlinewidth": 0,
             "ticks": ""
            },
            "type": "contourcarpet"
           }
          ],
          "heatmap": [
           {
            "colorbar": {
             "outlinewidth": 0,
             "ticks": ""
            },
            "colorscale": [
             [
              0,
              "#0d0887"
             ],
             [
              0.1111111111111111,
              "#46039f"
             ],
             [
              0.2222222222222222,
              "#7201a8"
             ],
             [
              0.3333333333333333,
              "#9c179e"
             ],
             [
              0.4444444444444444,
              "#bd3786"
             ],
             [
              0.5555555555555556,
              "#d8576b"
             ],
             [
              0.6666666666666666,
              "#ed7953"
             ],
             [
              0.7777777777777778,
              "#fb9f3a"
             ],
             [
              0.8888888888888888,
              "#fdca26"
             ],
             [
              1,
              "#f0f921"
             ]
            ],
            "type": "heatmap"
           }
          ],
          "heatmapgl": [
           {
            "colorbar": {
             "outlinewidth": 0,
             "ticks": ""
            },
            "colorscale": [
             [
              0,
              "#0d0887"
             ],
             [
              0.1111111111111111,
              "#46039f"
             ],
             [
              0.2222222222222222,
              "#7201a8"
             ],
             [
              0.3333333333333333,
              "#9c179e"
             ],
             [
              0.4444444444444444,
              "#bd3786"
             ],
             [
              0.5555555555555556,
              "#d8576b"
             ],
             [
              0.6666666666666666,
              "#ed7953"
             ],
             [
              0.7777777777777778,
              "#fb9f3a"
             ],
             [
              0.8888888888888888,
              "#fdca26"
             ],
             [
              1,
              "#f0f921"
             ]
            ],
            "type": "heatmapgl"
           }
          ],
          "histogram": [
           {
            "marker": {
             "colorbar": {
              "outlinewidth": 0,
              "ticks": ""
             }
            },
            "type": "histogram"
           }
          ],
          "histogram2d": [
           {
            "colorbar": {
             "outlinewidth": 0,
             "ticks": ""
            },
            "colorscale": [
             [
              0,
              "#0d0887"
             ],
             [
              0.1111111111111111,
              "#46039f"
             ],
             [
              0.2222222222222222,
              "#7201a8"
             ],
             [
              0.3333333333333333,
              "#9c179e"
             ],
             [
              0.4444444444444444,
              "#bd3786"
             ],
             [
              0.5555555555555556,
              "#d8576b"
             ],
             [
              0.6666666666666666,
              "#ed7953"
             ],
             [
              0.7777777777777778,
              "#fb9f3a"
             ],
             [
              0.8888888888888888,
              "#fdca26"
             ],
             [
              1,
              "#f0f921"
             ]
            ],
            "type": "histogram2d"
           }
          ],
          "histogram2dcontour": [
           {
            "colorbar": {
             "outlinewidth": 0,
             "ticks": ""
            },
            "colorscale": [
             [
              0,
              "#0d0887"
             ],
             [
              0.1111111111111111,
              "#46039f"
             ],
             [
              0.2222222222222222,
              "#7201a8"
             ],
             [
              0.3333333333333333,
              "#9c179e"
             ],
             [
              0.4444444444444444,
              "#bd3786"
             ],
             [
              0.5555555555555556,
              "#d8576b"
             ],
             [
              0.6666666666666666,
              "#ed7953"
             ],
             [
              0.7777777777777778,
              "#fb9f3a"
             ],
             [
              0.8888888888888888,
              "#fdca26"
             ],
             [
              1,
              "#f0f921"
             ]
            ],
            "type": "histogram2dcontour"
           }
          ],
          "mesh3d": [
           {
            "colorbar": {
             "outlinewidth": 0,
             "ticks": ""
            },
            "type": "mesh3d"
           }
          ],
          "parcoords": [
           {
            "line": {
             "colorbar": {
              "outlinewidth": 0,
              "ticks": ""
             }
            },
            "type": "parcoords"
           }
          ],
          "pie": [
           {
            "automargin": true,
            "type": "pie"
           }
          ],
          "scatter": [
           {
            "marker": {
             "colorbar": {
              "outlinewidth": 0,
              "ticks": ""
             }
            },
            "type": "scatter"
           }
          ],
          "scatter3d": [
           {
            "line": {
             "colorbar": {
              "outlinewidth": 0,
              "ticks": ""
             }
            },
            "marker": {
             "colorbar": {
              "outlinewidth": 0,
              "ticks": ""
             }
            },
            "type": "scatter3d"
           }
          ],
          "scattercarpet": [
           {
            "marker": {
             "colorbar": {
              "outlinewidth": 0,
              "ticks": ""
             }
            },
            "type": "scattercarpet"
           }
          ],
          "scattergeo": [
           {
            "marker": {
             "colorbar": {
              "outlinewidth": 0,
              "ticks": ""
             }
            },
            "type": "scattergeo"
           }
          ],
          "scattergl": [
           {
            "marker": {
             "colorbar": {
              "outlinewidth": 0,
              "ticks": ""
             }
            },
            "type": "scattergl"
           }
          ],
          "scattermapbox": [
           {
            "marker": {
             "colorbar": {
              "outlinewidth": 0,
              "ticks": ""
             }
            },
            "type": "scattermapbox"
           }
          ],
          "scatterpolar": [
           {
            "marker": {
             "colorbar": {
              "outlinewidth": 0,
              "ticks": ""
             }
            },
            "type": "scatterpolar"
           }
          ],
          "scatterpolargl": [
           {
            "marker": {
             "colorbar": {
              "outlinewidth": 0,
              "ticks": ""
             }
            },
            "type": "scatterpolargl"
           }
          ],
          "scatterternary": [
           {
            "marker": {
             "colorbar": {
              "outlinewidth": 0,
              "ticks": ""
             }
            },
            "type": "scatterternary"
           }
          ],
          "surface": [
           {
            "colorbar": {
             "outlinewidth": 0,
             "ticks": ""
            },
            "colorscale": [
             [
              0,
              "#0d0887"
             ],
             [
              0.1111111111111111,
              "#46039f"
             ],
             [
              0.2222222222222222,
              "#7201a8"
             ],
             [
              0.3333333333333333,
              "#9c179e"
             ],
             [
              0.4444444444444444,
              "#bd3786"
             ],
             [
              0.5555555555555556,
              "#d8576b"
             ],
             [
              0.6666666666666666,
              "#ed7953"
             ],
             [
              0.7777777777777778,
              "#fb9f3a"
             ],
             [
              0.8888888888888888,
              "#fdca26"
             ],
             [
              1,
              "#f0f921"
             ]
            ],
            "type": "surface"
           }
          ],
          "table": [
           {
            "cells": {
             "fill": {
              "color": "#EBF0F8"
             },
             "line": {
              "color": "white"
             }
            },
            "header": {
             "fill": {
              "color": "#C8D4E3"
             },
             "line": {
              "color": "white"
             }
            },
            "type": "table"
           }
          ]
         },
         "layout": {
          "annotationdefaults": {
           "arrowcolor": "#2a3f5f",
           "arrowhead": 0,
           "arrowwidth": 1
          },
          "coloraxis": {
           "colorbar": {
            "outlinewidth": 0,
            "ticks": ""
           }
          },
          "colorscale": {
           "diverging": [
            [
             0,
             "#8e0152"
            ],
            [
             0.1,
             "#c51b7d"
            ],
            [
             0.2,
             "#de77ae"
            ],
            [
             0.3,
             "#f1b6da"
            ],
            [
             0.4,
             "#fde0ef"
            ],
            [
             0.5,
             "#f7f7f7"
            ],
            [
             0.6,
             "#e6f5d0"
            ],
            [
             0.7,
             "#b8e186"
            ],
            [
             0.8,
             "#7fbc41"
            ],
            [
             0.9,
             "#4d9221"
            ],
            [
             1,
             "#276419"
            ]
           ],
           "sequential": [
            [
             0,
             "#0d0887"
            ],
            [
             0.1111111111111111,
             "#46039f"
            ],
            [
             0.2222222222222222,
             "#7201a8"
            ],
            [
             0.3333333333333333,
             "#9c179e"
            ],
            [
             0.4444444444444444,
             "#bd3786"
            ],
            [
             0.5555555555555556,
             "#d8576b"
            ],
            [
             0.6666666666666666,
             "#ed7953"
            ],
            [
             0.7777777777777778,
             "#fb9f3a"
            ],
            [
             0.8888888888888888,
             "#fdca26"
            ],
            [
             1,
             "#f0f921"
            ]
           ],
           "sequentialminus": [
            [
             0,
             "#0d0887"
            ],
            [
             0.1111111111111111,
             "#46039f"
            ],
            [
             0.2222222222222222,
             "#7201a8"
            ],
            [
             0.3333333333333333,
             "#9c179e"
            ],
            [
             0.4444444444444444,
             "#bd3786"
            ],
            [
             0.5555555555555556,
             "#d8576b"
            ],
            [
             0.6666666666666666,
             "#ed7953"
            ],
            [
             0.7777777777777778,
             "#fb9f3a"
            ],
            [
             0.8888888888888888,
             "#fdca26"
            ],
            [
             1,
             "#f0f921"
            ]
           ]
          },
          "colorway": [
           "#636efa",
           "#EF553B",
           "#00cc96",
           "#ab63fa",
           "#FFA15A",
           "#19d3f3",
           "#FF6692",
           "#B6E880",
           "#FF97FF",
           "#FECB52"
          ],
          "font": {
           "color": "#2a3f5f"
          },
          "geo": {
           "bgcolor": "white",
           "lakecolor": "white",
           "landcolor": "white",
           "showlakes": true,
           "showland": true,
           "subunitcolor": "#C8D4E3"
          },
          "hoverlabel": {
           "align": "left"
          },
          "hovermode": "closest",
          "mapbox": {
           "style": "light"
          },
          "paper_bgcolor": "white",
          "plot_bgcolor": "white",
          "polar": {
           "angularaxis": {
            "gridcolor": "#EBF0F8",
            "linecolor": "#EBF0F8",
            "ticks": ""
           },
           "bgcolor": "white",
           "radialaxis": {
            "gridcolor": "#EBF0F8",
            "linecolor": "#EBF0F8",
            "ticks": ""
           }
          },
          "scene": {
           "xaxis": {
            "backgroundcolor": "white",
            "gridcolor": "#DFE8F3",
            "gridwidth": 2,
            "linecolor": "#EBF0F8",
            "showbackground": true,
            "ticks": "",
            "zerolinecolor": "#EBF0F8"
           },
           "yaxis": {
            "backgroundcolor": "white",
            "gridcolor": "#DFE8F3",
            "gridwidth": 2,
            "linecolor": "#EBF0F8",
            "showbackground": true,
            "ticks": "",
            "zerolinecolor": "#EBF0F8"
           },
           "zaxis": {
            "backgroundcolor": "white",
            "gridcolor": "#DFE8F3",
            "gridwidth": 2,
            "linecolor": "#EBF0F8",
            "showbackground": true,
            "ticks": "",
            "zerolinecolor": "#EBF0F8"
           }
          },
          "shapedefaults": {
           "line": {
            "color": "#2a3f5f"
           }
          },
          "ternary": {
           "aaxis": {
            "gridcolor": "#DFE8F3",
            "linecolor": "#A2B1C6",
            "ticks": ""
           },
           "baxis": {
            "gridcolor": "#DFE8F3",
            "linecolor": "#A2B1C6",
            "ticks": ""
           },
           "bgcolor": "white",
           "caxis": {
            "gridcolor": "#DFE8F3",
            "linecolor": "#A2B1C6",
            "ticks": ""
           }
          },
          "title": {
           "x": 0.05
          },
          "xaxis": {
           "automargin": true,
           "gridcolor": "#EBF0F8",
           "linecolor": "#EBF0F8",
           "ticks": "",
           "title": {
            "standoff": 15
           },
           "zerolinecolor": "#EBF0F8",
           "zerolinewidth": 2
          },
          "yaxis": {
           "automargin": true,
           "gridcolor": "#EBF0F8",
           "linecolor": "#EBF0F8",
           "ticks": "",
           "title": {
            "standoff": 15
           },
           "zerolinecolor": "#EBF0F8",
           "zerolinewidth": 2
          }
         }
        },
        "title": {
         "font": {
          "family": "Helvetica",
          "size": 18
         },
         "text": "<b>COVID19: Registrert smittet i Norge</b><br>Antall smittet per 1 000 innbyggere<br>Datakilde: FHI - folkehelseinstituttet. Oppdatert 21.03.2020"
        },
        "updatemenus": [
         {
          "buttons": [
           {
            "args": [
             null,
             {
              "frame": {
               "duration": 500,
               "redraw": true
              },
              "fromcurrent": true,
              "mode": "immediate",
              "transition": {
               "duration": 500,
               "easing": "linear"
              }
             }
            ],
            "label": "&#9654;",
            "method": "animate"
           },
           {
            "args": [
             [
              null
             ],
             {
              "frame": {
               "duration": 0,
               "redraw": true
              },
              "fromcurrent": true,
              "mode": "immediate",
              "transition": {
               "duration": 0,
               "easing": "linear"
              }
             }
            ],
            "label": "&#9724;",
            "method": "animate"
           }
          ],
          "direction": "left",
          "pad": {
           "r": 10,
           "t": 70
          },
          "showactive": false,
          "type": "buttons",
          "x": 0.1,
          "xanchor": "right",
          "y": 0,
          "yanchor": "top"
         }
        ],
        "xaxis": {
         "anchor": "y",
         "domain": [
          0,
          1
         ],
         "fixedrange": true,
         "range": [
          0,
          0.6
         ],
         "title": {
          "text": "per 1 000"
         }
        },
        "yaxis": {
         "anchor": "x",
         "categoryorder": "total ascending",
         "domain": [
          0,
          1
         ],
         "fixedrange": true,
         "separatethousands": true,
         "title": {
          "text": ""
         }
        }
       }
      },
      "text/html": [
       "<div>\n",
       "        \n",
       "        \n",
       "            <div id=\"dc023a88-eb34-4ee6-a13a-62d831e3b4db\" class=\"plotly-graph-div\" style=\"height:600px; width:100%;\"></div>\n",
       "            <script type=\"text/javascript\">\n",
       "                require([\"plotly\"], function(Plotly) {\n",
       "                    window.PLOTLYENV=window.PLOTLYENV || {};\n",
       "                    \n",
       "                if (document.getElementById(\"dc023a88-eb34-4ee6-a13a-62d831e3b4db\")) {\n",
       "                    Plotly.newPlot(\n",
       "                        'dc023a88-eb34-4ee6-a13a-62d831e3b4db',\n",
       "                        [{\"alignmentgroup\": \"True\", \"hoverlabel\": {\"namelength\": 0}, \"hovertemplate\": \"RHF=Helse Midt-Norge<br>Dato=09 Mar<br>Smittede/tusen innb=%{x}<br>Fylke=%{y}<br>txt=%{text}\", \"ids\": [\"Tr\\u00f8ndelag\", \"M\\u00f8re og Romsdal\"], \"legendgroup\": \"Helse Midt-Norge\", \"marker\": {\"color\": \"#636efa\"}, \"name\": \"Helse Midt-Norge\", \"offsetgroup\": \"Helse Midt-Norge\", \"orientation\": \"h\", \"showlegend\": true, \"text\": [\"0.05\", \"0.02\"], \"textposition\": \"auto\", \"type\": \"bar\", \"x\": [0.046938139798848734, 0.018850994201434185], \"xaxis\": \"x\", \"y\": [\"Tr\\u00f8ndelag\", \"M\\u00f8re og Romsdal\"], \"yaxis\": \"y\"}, {\"alignmentgroup\": \"True\", \"hoverlabel\": {\"namelength\": 0}, \"hovertemplate\": \"RHF=Helse Nord<br>Dato=09 Mar<br>Smittede/tusen innb=%{x}<br>Fylke=%{y}<br>txt=%{text}\", \"ids\": [\"Nordland\", \"Troms og Finnmark\"], \"legendgroup\": \"Helse Nord\", \"marker\": {\"color\": \"#EF553B\"}, \"name\": \"Helse Nord\", \"offsetgroup\": \"Helse Nord\", \"orientation\": \"h\", \"showlegend\": true, \"text\": [\"0.01\", \"0.02\"], \"textposition\": \"auto\", \"type\": \"bar\", \"x\": [0.01243600638381661, 0.024659797543062172], \"xaxis\": \"x\", \"y\": [\"Nordland\", \"Troms og Finnmark\"], \"yaxis\": \"y\"}, {\"alignmentgroup\": \"True\", \"hoverlabel\": {\"namelength\": 0}, \"hovertemplate\": \"RHF=Helse S\\u00f8r-\\u00d8st<br>Dato=09 Mar<br>Smittede/tusen innb=%{x}<br>Fylke=%{y}<br>txt=%{text}\", \"ids\": [\"Agder\", \"Oslo\", \"Viken\", \"Innlandet\", \"Vestfold og Telemark\"], \"legendgroup\": \"Helse S\\u00f8r-\\u00d8st\", \"marker\": {\"color\": \"#00cc96\"}, \"name\": \"Helse S\\u00f8r-\\u00d8st\", \"offsetgroup\": \"Helse S\\u00f8r-\\u00d8st\", \"orientation\": \"h\", \"showlegend\": true, \"text\": [\"0.06\", \"0.07\", \"0.07\", \"0.04\", \"0.01\"], \"textposition\": \"auto\", \"type\": \"bar\", \"x\": [0.06184271769450349, 0.07354065067614139, 0.06928973988148232, 0.043081976924216114, 0.0119219067420767], \"xaxis\": \"x\", \"y\": [\"Agder\", \"Oslo\", \"Viken\", \"Innlandet\", \"Vestfold og Telemark\"], \"yaxis\": \"y\"}, {\"alignmentgroup\": \"True\", \"hoverlabel\": {\"namelength\": 0}, \"hovertemplate\": \"RHF=Helse Vest<br>Dato=09 Mar<br>Smittede/tusen innb=%{x}<br>Fylke=%{y}<br>txt=%{text}\", \"ids\": [\"Vestland\", \"Rogaland\"], \"legendgroup\": \"Helse Vest\", \"marker\": {\"color\": \"#ab63fa\"}, \"name\": \"Helse Vest\", \"offsetgroup\": \"Helse Vest\", \"orientation\": \"h\", \"showlegend\": true, \"text\": [\"0.05\", \"0.07\"], \"textposition\": \"auto\", \"type\": \"bar\", \"x\": [0.048701477225775336, 0.06876547223125203], \"xaxis\": \"x\", \"y\": [\"Vestland\", \"Rogaland\"], \"yaxis\": \"y\"}],\n",
       "                        {\"autosize\": true, \"barmode\": \"relative\", \"coloraxis\": {\"showscale\": false}, \"height\": 600, \"legend\": {\"title\": {\"text\": \"RHF\"}, \"tracegroupgap\": 0}, \"margin\": {\"b\": 0, \"l\": 100, \"r\": 100, \"t\": 150}, \"paper_bgcolor\": \"rgba(0, 0, 0, 0)\", \"sliders\": [{\"active\": 0, \"currentvalue\": {\"prefix\": \"Dato=\"}, \"len\": 0.9, \"pad\": {\"b\": 10, \"t\": 60}, \"steps\": [{\"args\": [[\"09 Mar\"], {\"frame\": {\"duration\": 0, \"redraw\": true}, \"fromcurrent\": true, \"mode\": \"immediate\", \"transition\": {\"duration\": 0, \"easing\": \"linear\"}}], \"label\": \"09 Mar\", \"method\": \"animate\"}, {\"args\": [[\"10 Mar\"], {\"frame\": {\"duration\": 0, \"redraw\": true}, \"fromcurrent\": true, \"mode\": \"immediate\", \"transition\": {\"duration\": 0, \"easing\": \"linear\"}}], \"label\": \"10 Mar\", \"method\": \"animate\"}, {\"args\": [[\"11 Mar\"], {\"frame\": {\"duration\": 0, \"redraw\": true}, \"fromcurrent\": true, \"mode\": \"immediate\", \"transition\": {\"duration\": 0, \"easing\": \"linear\"}}], \"label\": \"11 Mar\", \"method\": \"animate\"}, {\"args\": [[\"12 Mar\"], {\"frame\": {\"duration\": 0, \"redraw\": true}, \"fromcurrent\": true, \"mode\": \"immediate\", \"transition\": {\"duration\": 0, \"easing\": \"linear\"}}], \"label\": \"12 Mar\", \"method\": \"animate\"}, {\"args\": [[\"13 Mar\"], {\"frame\": {\"duration\": 0, \"redraw\": true}, \"fromcurrent\": true, \"mode\": \"immediate\", \"transition\": {\"duration\": 0, \"easing\": \"linear\"}}], \"label\": \"13 Mar\", \"method\": \"animate\"}, {\"args\": [[\"14 Mar\"], {\"frame\": {\"duration\": 0, \"redraw\": true}, \"fromcurrent\": true, \"mode\": \"immediate\", \"transition\": {\"duration\": 0, \"easing\": \"linear\"}}], \"label\": \"14 Mar\", \"method\": \"animate\"}, {\"args\": [[\"15 Mar\"], {\"frame\": {\"duration\": 0, \"redraw\": true}, \"fromcurrent\": true, \"mode\": \"immediate\", \"transition\": {\"duration\": 0, \"easing\": \"linear\"}}], \"label\": \"15 Mar\", \"method\": \"animate\"}, {\"args\": [[\"16 Mar\"], {\"frame\": {\"duration\": 0, \"redraw\": true}, \"fromcurrent\": true, \"mode\": \"immediate\", \"transition\": {\"duration\": 0, \"easing\": \"linear\"}}], \"label\": \"16 Mar\", \"method\": \"animate\"}, {\"args\": [[\"17 Mar\"], {\"frame\": {\"duration\": 0, \"redraw\": true}, \"fromcurrent\": true, \"mode\": \"immediate\", \"transition\": {\"duration\": 0, \"easing\": \"linear\"}}], \"label\": \"17 Mar\", \"method\": \"animate\"}, {\"args\": [[\"18 Mar\"], {\"frame\": {\"duration\": 0, \"redraw\": true}, \"fromcurrent\": true, \"mode\": \"immediate\", \"transition\": {\"duration\": 0, \"easing\": \"linear\"}}], \"label\": \"18 Mar\", \"method\": \"animate\"}, {\"args\": [[\"19 Mar\"], {\"frame\": {\"duration\": 0, \"redraw\": true}, \"fromcurrent\": true, \"mode\": \"immediate\", \"transition\": {\"duration\": 0, \"easing\": \"linear\"}}], \"label\": \"19 Mar\", \"method\": \"animate\"}], \"x\": 0.1, \"xanchor\": \"left\", \"y\": 0, \"yanchor\": \"top\"}], \"template\": {\"data\": {\"bar\": [{\"error_x\": {\"color\": \"#2a3f5f\"}, \"error_y\": {\"color\": \"#2a3f5f\"}, \"marker\": {\"line\": {\"color\": \"white\", \"width\": 0.5}}, \"type\": \"bar\"}], \"barpolar\": [{\"marker\": {\"line\": {\"color\": \"white\", \"width\": 0.5}}, \"type\": \"barpolar\"}], \"carpet\": [{\"aaxis\": {\"endlinecolor\": \"#2a3f5f\", \"gridcolor\": \"#C8D4E3\", \"linecolor\": \"#C8D4E3\", \"minorgridcolor\": \"#C8D4E3\", \"startlinecolor\": \"#2a3f5f\"}, \"baxis\": {\"endlinecolor\": \"#2a3f5f\", \"gridcolor\": \"#C8D4E3\", \"linecolor\": \"#C8D4E3\", \"minorgridcolor\": \"#C8D4E3\", \"startlinecolor\": \"#2a3f5f\"}, \"type\": \"carpet\"}], \"choropleth\": [{\"colorbar\": {\"outlinewidth\": 0, \"ticks\": \"\"}, \"type\": \"choropleth\"}], \"contour\": [{\"colorbar\": {\"outlinewidth\": 0, \"ticks\": \"\"}, \"colorscale\": [[0.0, \"#0d0887\"], [0.1111111111111111, \"#46039f\"], [0.2222222222222222, \"#7201a8\"], [0.3333333333333333, \"#9c179e\"], [0.4444444444444444, \"#bd3786\"], [0.5555555555555556, \"#d8576b\"], [0.6666666666666666, \"#ed7953\"], [0.7777777777777778, \"#fb9f3a\"], [0.8888888888888888, \"#fdca26\"], [1.0, \"#f0f921\"]], \"type\": \"contour\"}], \"contourcarpet\": [{\"colorbar\": {\"outlinewidth\": 0, \"ticks\": \"\"}, \"type\": \"contourcarpet\"}], \"heatmap\": [{\"colorbar\": {\"outlinewidth\": 0, \"ticks\": \"\"}, \"colorscale\": [[0.0, \"#0d0887\"], [0.1111111111111111, \"#46039f\"], [0.2222222222222222, \"#7201a8\"], [0.3333333333333333, \"#9c179e\"], [0.4444444444444444, \"#bd3786\"], [0.5555555555555556, \"#d8576b\"], [0.6666666666666666, \"#ed7953\"], [0.7777777777777778, \"#fb9f3a\"], [0.8888888888888888, \"#fdca26\"], [1.0, \"#f0f921\"]], \"type\": \"heatmap\"}], \"heatmapgl\": [{\"colorbar\": {\"outlinewidth\": 0, \"ticks\": \"\"}, \"colorscale\": [[0.0, \"#0d0887\"], [0.1111111111111111, \"#46039f\"], [0.2222222222222222, \"#7201a8\"], [0.3333333333333333, \"#9c179e\"], [0.4444444444444444, \"#bd3786\"], [0.5555555555555556, \"#d8576b\"], [0.6666666666666666, \"#ed7953\"], [0.7777777777777778, \"#fb9f3a\"], [0.8888888888888888, \"#fdca26\"], [1.0, \"#f0f921\"]], \"type\": \"heatmapgl\"}], \"histogram\": [{\"marker\": {\"colorbar\": {\"outlinewidth\": 0, \"ticks\": \"\"}}, \"type\": \"histogram\"}], \"histogram2d\": [{\"colorbar\": {\"outlinewidth\": 0, \"ticks\": \"\"}, \"colorscale\": [[0.0, \"#0d0887\"], [0.1111111111111111, \"#46039f\"], [0.2222222222222222, \"#7201a8\"], [0.3333333333333333, \"#9c179e\"], [0.4444444444444444, \"#bd3786\"], [0.5555555555555556, \"#d8576b\"], [0.6666666666666666, \"#ed7953\"], [0.7777777777777778, \"#fb9f3a\"], [0.8888888888888888, \"#fdca26\"], [1.0, \"#f0f921\"]], \"type\": \"histogram2d\"}], \"histogram2dcontour\": [{\"colorbar\": {\"outlinewidth\": 0, \"ticks\": \"\"}, \"colorscale\": [[0.0, \"#0d0887\"], [0.1111111111111111, \"#46039f\"], [0.2222222222222222, \"#7201a8\"], [0.3333333333333333, \"#9c179e\"], [0.4444444444444444, \"#bd3786\"], [0.5555555555555556, \"#d8576b\"], [0.6666666666666666, \"#ed7953\"], [0.7777777777777778, \"#fb9f3a\"], [0.8888888888888888, \"#fdca26\"], [1.0, \"#f0f921\"]], \"type\": \"histogram2dcontour\"}], \"mesh3d\": [{\"colorbar\": {\"outlinewidth\": 0, \"ticks\": \"\"}, \"type\": \"mesh3d\"}], \"parcoords\": [{\"line\": {\"colorbar\": {\"outlinewidth\": 0, \"ticks\": \"\"}}, \"type\": \"parcoords\"}], \"pie\": [{\"automargin\": true, \"type\": \"pie\"}], \"scatter\": [{\"marker\": {\"colorbar\": {\"outlinewidth\": 0, \"ticks\": \"\"}}, \"type\": \"scatter\"}], \"scatter3d\": [{\"line\": {\"colorbar\": {\"outlinewidth\": 0, \"ticks\": \"\"}}, \"marker\": {\"colorbar\": {\"outlinewidth\": 0, \"ticks\": \"\"}}, \"type\": \"scatter3d\"}], \"scattercarpet\": [{\"marker\": {\"colorbar\": {\"outlinewidth\": 0, \"ticks\": \"\"}}, \"type\": \"scattercarpet\"}], \"scattergeo\": [{\"marker\": {\"colorbar\": {\"outlinewidth\": 0, \"ticks\": \"\"}}, \"type\": \"scattergeo\"}], \"scattergl\": [{\"marker\": {\"colorbar\": {\"outlinewidth\": 0, \"ticks\": \"\"}}, \"type\": \"scattergl\"}], \"scattermapbox\": [{\"marker\": {\"colorbar\": {\"outlinewidth\": 0, \"ticks\": \"\"}}, \"type\": \"scattermapbox\"}], \"scatterpolar\": [{\"marker\": {\"colorbar\": {\"outlinewidth\": 0, \"ticks\": \"\"}}, \"type\": \"scatterpolar\"}], \"scatterpolargl\": [{\"marker\": {\"colorbar\": {\"outlinewidth\": 0, \"ticks\": \"\"}}, \"type\": \"scatterpolargl\"}], \"scatterternary\": [{\"marker\": {\"colorbar\": {\"outlinewidth\": 0, \"ticks\": \"\"}}, \"type\": \"scatterternary\"}], \"surface\": [{\"colorbar\": {\"outlinewidth\": 0, \"ticks\": \"\"}, \"colorscale\": [[0.0, \"#0d0887\"], [0.1111111111111111, \"#46039f\"], [0.2222222222222222, \"#7201a8\"], [0.3333333333333333, \"#9c179e\"], [0.4444444444444444, \"#bd3786\"], [0.5555555555555556, \"#d8576b\"], [0.6666666666666666, \"#ed7953\"], [0.7777777777777778, \"#fb9f3a\"], [0.8888888888888888, \"#fdca26\"], [1.0, \"#f0f921\"]], \"type\": \"surface\"}], \"table\": [{\"cells\": {\"fill\": {\"color\": \"#EBF0F8\"}, \"line\": {\"color\": \"white\"}}, \"header\": {\"fill\": {\"color\": \"#C8D4E3\"}, \"line\": {\"color\": \"white\"}}, \"type\": \"table\"}]}, \"layout\": {\"annotationdefaults\": {\"arrowcolor\": \"#2a3f5f\", \"arrowhead\": 0, \"arrowwidth\": 1}, \"coloraxis\": {\"colorbar\": {\"outlinewidth\": 0, \"ticks\": \"\"}}, \"colorscale\": {\"diverging\": [[0, \"#8e0152\"], [0.1, \"#c51b7d\"], [0.2, \"#de77ae\"], [0.3, \"#f1b6da\"], [0.4, \"#fde0ef\"], [0.5, \"#f7f7f7\"], [0.6, \"#e6f5d0\"], [0.7, \"#b8e186\"], [0.8, \"#7fbc41\"], [0.9, \"#4d9221\"], [1, \"#276419\"]], \"sequential\": [[0.0, \"#0d0887\"], [0.1111111111111111, \"#46039f\"], [0.2222222222222222, \"#7201a8\"], [0.3333333333333333, \"#9c179e\"], [0.4444444444444444, \"#bd3786\"], [0.5555555555555556, \"#d8576b\"], [0.6666666666666666, \"#ed7953\"], [0.7777777777777778, \"#fb9f3a\"], [0.8888888888888888, \"#fdca26\"], [1.0, \"#f0f921\"]], \"sequentialminus\": [[0.0, \"#0d0887\"], [0.1111111111111111, \"#46039f\"], [0.2222222222222222, \"#7201a8\"], [0.3333333333333333, \"#9c179e\"], [0.4444444444444444, \"#bd3786\"], [0.5555555555555556, \"#d8576b\"], [0.6666666666666666, \"#ed7953\"], [0.7777777777777778, \"#fb9f3a\"], [0.8888888888888888, \"#fdca26\"], [1.0, \"#f0f921\"]]}, \"colorway\": [\"#636efa\", \"#EF553B\", \"#00cc96\", \"#ab63fa\", \"#FFA15A\", \"#19d3f3\", \"#FF6692\", \"#B6E880\", \"#FF97FF\", \"#FECB52\"], \"font\": {\"color\": \"#2a3f5f\"}, \"geo\": {\"bgcolor\": \"white\", \"lakecolor\": \"white\", \"landcolor\": \"white\", \"showlakes\": true, \"showland\": true, \"subunitcolor\": \"#C8D4E3\"}, \"hoverlabel\": {\"align\": \"left\"}, \"hovermode\": \"closest\", \"mapbox\": {\"style\": \"light\"}, \"paper_bgcolor\": \"white\", \"plot_bgcolor\": \"white\", \"polar\": {\"angularaxis\": {\"gridcolor\": \"#EBF0F8\", \"linecolor\": \"#EBF0F8\", \"ticks\": \"\"}, \"bgcolor\": \"white\", \"radialaxis\": {\"gridcolor\": \"#EBF0F8\", \"linecolor\": \"#EBF0F8\", \"ticks\": \"\"}}, \"scene\": {\"xaxis\": {\"backgroundcolor\": \"white\", \"gridcolor\": \"#DFE8F3\", \"gridwidth\": 2, \"linecolor\": \"#EBF0F8\", \"showbackground\": true, \"ticks\": \"\", \"zerolinecolor\": \"#EBF0F8\"}, \"yaxis\": {\"backgroundcolor\": \"white\", \"gridcolor\": \"#DFE8F3\", \"gridwidth\": 2, \"linecolor\": \"#EBF0F8\", \"showbackground\": true, \"ticks\": \"\", \"zerolinecolor\": \"#EBF0F8\"}, \"zaxis\": {\"backgroundcolor\": \"white\", \"gridcolor\": \"#DFE8F3\", \"gridwidth\": 2, \"linecolor\": \"#EBF0F8\", \"showbackground\": true, \"ticks\": \"\", \"zerolinecolor\": \"#EBF0F8\"}}, \"shapedefaults\": {\"line\": {\"color\": \"#2a3f5f\"}}, \"ternary\": {\"aaxis\": {\"gridcolor\": \"#DFE8F3\", \"linecolor\": \"#A2B1C6\", \"ticks\": \"\"}, \"baxis\": {\"gridcolor\": \"#DFE8F3\", \"linecolor\": \"#A2B1C6\", \"ticks\": \"\"}, \"bgcolor\": \"white\", \"caxis\": {\"gridcolor\": \"#DFE8F3\", \"linecolor\": \"#A2B1C6\", \"ticks\": \"\"}}, \"title\": {\"x\": 0.05}, \"xaxis\": {\"automargin\": true, \"gridcolor\": \"#EBF0F8\", \"linecolor\": \"#EBF0F8\", \"ticks\": \"\", \"title\": {\"standoff\": 15}, \"zerolinecolor\": \"#EBF0F8\", \"zerolinewidth\": 2}, \"yaxis\": {\"automargin\": true, \"gridcolor\": \"#EBF0F8\", \"linecolor\": \"#EBF0F8\", \"ticks\": \"\", \"title\": {\"standoff\": 15}, \"zerolinecolor\": \"#EBF0F8\", \"zerolinewidth\": 2}}}, \"title\": {\"font\": {\"family\": \"Helvetica\", \"size\": 18}, \"text\": \"<b>COVID19: Registrert smittet i Norge</b><br>Antall smittet per 1 000 innbyggere<br>Datakilde: FHI - folkehelseinstituttet. Oppdatert 21.03.2020\"}, \"updatemenus\": [{\"buttons\": [{\"args\": [null, {\"frame\": {\"duration\": 500, \"redraw\": true}, \"fromcurrent\": true, \"mode\": \"immediate\", \"transition\": {\"duration\": 500, \"easing\": \"linear\"}}], \"label\": \"&#9654;\", \"method\": \"animate\"}, {\"args\": [[null], {\"frame\": {\"duration\": 0, \"redraw\": true}, \"fromcurrent\": true, \"mode\": \"immediate\", \"transition\": {\"duration\": 0, \"easing\": \"linear\"}}], \"label\": \"&#9724;\", \"method\": \"animate\"}], \"direction\": \"left\", \"pad\": {\"r\": 10, \"t\": 70}, \"showactive\": false, \"type\": \"buttons\", \"x\": 0.1, \"xanchor\": \"right\", \"y\": 0, \"yanchor\": \"top\"}], \"xaxis\": {\"anchor\": \"y\", \"domain\": [0.0, 1.0], \"fixedrange\": true, \"range\": [0, 0.6], \"title\": {\"text\": \"per 1 000\"}}, \"yaxis\": {\"anchor\": \"x\", \"categoryorder\": \"total ascending\", \"domain\": [0.0, 1.0], \"fixedrange\": true, \"separatethousands\": true, \"title\": {\"text\": \"\"}}},\n",
       "                        {\"responsive\": true}\n",
       "                    ).then(function(){\n",
       "                            Plotly.addFrames('dc023a88-eb34-4ee6-a13a-62d831e3b4db', [{\"data\": [{\"alignmentgroup\": \"True\", \"hoverlabel\": {\"namelength\": 0}, \"hovertemplate\": \"RHF=Helse Midt-Norge<br>Dato=09 Mar<br>Smittede/tusen innb=%{x}<br>Fylke=%{y}<br>txt=%{text}\", \"ids\": [\"Tr\\u00f8ndelag\", \"M\\u00f8re og Romsdal\"], \"legendgroup\": \"Helse Midt-Norge\", \"marker\": {\"color\": \"#636efa\"}, \"name\": \"Helse Midt-Norge\", \"offsetgroup\": \"Helse Midt-Norge\", \"orientation\": \"h\", \"showlegend\": true, \"text\": [\"0.05\", \"0.02\"], \"textposition\": \"auto\", \"x\": [0.046938139798848734, 0.018850994201434185], \"xaxis\": \"x\", \"y\": [\"Tr\\u00f8ndelag\", \"M\\u00f8re og Romsdal\"], \"yaxis\": \"y\", \"type\": \"bar\"}, {\"alignmentgroup\": \"True\", \"hoverlabel\": {\"namelength\": 0}, \"hovertemplate\": \"RHF=Helse Nord<br>Dato=09 Mar<br>Smittede/tusen innb=%{x}<br>Fylke=%{y}<br>txt=%{text}\", \"ids\": [\"Nordland\", \"Troms og Finnmark\"], \"legendgroup\": \"Helse Nord\", \"marker\": {\"color\": \"#EF553B\"}, \"name\": \"Helse Nord\", \"offsetgroup\": \"Helse Nord\", \"orientation\": \"h\", \"showlegend\": true, \"text\": [\"0.01\", \"0.02\"], \"textposition\": \"auto\", \"x\": [0.01243600638381661, 0.024659797543062172], \"xaxis\": \"x\", \"y\": [\"Nordland\", \"Troms og Finnmark\"], \"yaxis\": \"y\", \"type\": \"bar\"}, {\"alignmentgroup\": \"True\", \"hoverlabel\": {\"namelength\": 0}, \"hovertemplate\": \"RHF=Helse S\\u00f8r-\\u00d8st<br>Dato=09 Mar<br>Smittede/tusen innb=%{x}<br>Fylke=%{y}<br>txt=%{text}\", \"ids\": [\"Agder\", \"Oslo\", \"Viken\", \"Innlandet\", \"Vestfold og Telemark\"], \"legendgroup\": \"Helse S\\u00f8r-\\u00d8st\", \"marker\": {\"color\": \"#00cc96\"}, \"name\": \"Helse S\\u00f8r-\\u00d8st\", \"offsetgroup\": \"Helse S\\u00f8r-\\u00d8st\", \"orientation\": \"h\", \"showlegend\": true, \"text\": [\"0.06\", \"0.07\", \"0.07\", \"0.04\", \"0.01\"], \"textposition\": \"auto\", \"x\": [0.06184271769450349, 0.07354065067614139, 0.06928973988148232, 0.043081976924216114, 0.0119219067420767], \"xaxis\": \"x\", \"y\": [\"Agder\", \"Oslo\", \"Viken\", \"Innlandet\", \"Vestfold og Telemark\"], \"yaxis\": \"y\", \"type\": \"bar\"}, {\"alignmentgroup\": \"True\", \"hoverlabel\": {\"namelength\": 0}, \"hovertemplate\": \"RHF=Helse Vest<br>Dato=09 Mar<br>Smittede/tusen innb=%{x}<br>Fylke=%{y}<br>txt=%{text}\", \"ids\": [\"Vestland\", \"Rogaland\"], \"legendgroup\": \"Helse Vest\", \"marker\": {\"color\": \"#ab63fa\"}, \"name\": \"Helse Vest\", \"offsetgroup\": \"Helse Vest\", \"orientation\": \"h\", \"showlegend\": true, \"text\": [\"0.05\", \"0.07\"], \"textposition\": \"auto\", \"x\": [0.048701477225775336, 0.06876547223125203], \"xaxis\": \"x\", \"y\": [\"Vestland\", \"Rogaland\"], \"yaxis\": \"y\", \"type\": \"bar\"}], \"name\": \"09 Mar\"}, {\"data\": [{\"alignmentgroup\": \"True\", \"hoverlabel\": {\"namelength\": 0}, \"hovertemplate\": \"RHF=Helse Midt-Norge<br>Dato=10 Mar<br>Smittede/tusen innb=%{x}<br>Fylke=%{y}<br>txt=%{text}\", \"ids\": [\"Tr\\u00f8ndelag\", \"M\\u00f8re og Romsdal\"], \"legendgroup\": \"Helse Midt-Norge\", \"marker\": {\"color\": \"#636efa\"}, \"name\": \"Helse Midt-Norge\", \"offsetgroup\": \"Helse Midt-Norge\", \"orientation\": \"h\", \"showlegend\": true, \"text\": [\"0.05\", \"0.02\"], \"textposition\": \"auto\", \"x\": [0.046938139798848734, 0.018850994201434185], \"xaxis\": \"x\", \"y\": [\"Tr\\u00f8ndelag\", \"M\\u00f8re og Romsdal\"], \"yaxis\": \"y\", \"type\": \"bar\"}, {\"alignmentgroup\": \"True\", \"hoverlabel\": {\"namelength\": 0}, \"hovertemplate\": \"RHF=Helse Nord<br>Dato=10 Mar<br>Smittede/tusen innb=%{x}<br>Fylke=%{y}<br>txt=%{text}\", \"ids\": [\"Troms og Finnmark\", \"Nordland\"], \"legendgroup\": \"Helse Nord\", \"marker\": {\"color\": \"#EF553B\"}, \"name\": \"Helse Nord\", \"offsetgroup\": \"Helse Nord\", \"orientation\": \"h\", \"showlegend\": true, \"text\": [\"0.02\", \"0.01\"], \"textposition\": \"auto\", \"x\": [0.024659797543062172, 0.01243600638381661], \"xaxis\": \"x\", \"y\": [\"Troms og Finnmark\", \"Nordland\"], \"yaxis\": \"y\", \"type\": \"bar\"}, {\"alignmentgroup\": \"True\", \"hoverlabel\": {\"namelength\": 0}, \"hovertemplate\": \"RHF=Helse S\\u00f8r-\\u00d8st<br>Dato=10 Mar<br>Smittede/tusen innb=%{x}<br>Fylke=%{y}<br>txt=%{text}\", \"ids\": [\"Agder\", \"Oslo\", \"Innlandet\", \"Viken\", \"Vestfold og Telemark\"], \"legendgroup\": \"Helse S\\u00f8r-\\u00d8st\", \"marker\": {\"color\": \"#00cc96\"}, \"name\": \"Helse S\\u00f8r-\\u00d8st\", \"offsetgroup\": \"Helse S\\u00f8r-\\u00d8st\", \"orientation\": \"h\", \"showlegend\": true, \"text\": [\"0.06\", \"0.07\", \"0.04\", \"0.07\", \"0.01\"], \"textposition\": \"auto\", \"x\": [0.06184271769450349, 0.07354065067614139, 0.043081976924216114, 0.06928973988148232, 0.0119219067420767], \"xaxis\": \"x\", \"y\": [\"Agder\", \"Oslo\", \"Innlandet\", \"Viken\", \"Vestfold og Telemark\"], \"yaxis\": \"y\", \"type\": \"bar\"}, {\"alignmentgroup\": \"True\", \"hoverlabel\": {\"namelength\": 0}, \"hovertemplate\": \"RHF=Helse Vest<br>Dato=10 Mar<br>Smittede/tusen innb=%{x}<br>Fylke=%{y}<br>txt=%{text}\", \"ids\": [\"Vestland\", \"Rogaland\"], \"legendgroup\": \"Helse Vest\", \"marker\": {\"color\": \"#ab63fa\"}, \"name\": \"Helse Vest\", \"offsetgroup\": \"Helse Vest\", \"orientation\": \"h\", \"showlegend\": true, \"text\": [\"0.05\", \"0.07\"], \"textposition\": \"auto\", \"x\": [0.048701477225775336, 0.06876547223125203], \"xaxis\": \"x\", \"y\": [\"Vestland\", \"Rogaland\"], \"yaxis\": \"y\", \"type\": \"bar\"}], \"name\": \"10 Mar\"}, {\"data\": [{\"alignmentgroup\": \"True\", \"hoverlabel\": {\"namelength\": 0}, \"hovertemplate\": \"RHF=Helse Midt-Norge<br>Dato=11 Mar<br>Smittede/tusen innb=%{x}<br>Fylke=%{y}<br>txt=%{text}\", \"ids\": [\"Tr\\u00f8ndelag\", \"M\\u00f8re og Romsdal\"], \"legendgroup\": \"Helse Midt-Norge\", \"marker\": {\"color\": \"#636efa\"}, \"name\": \"Helse Midt-Norge\", \"offsetgroup\": \"Helse Midt-Norge\", \"orientation\": \"h\", \"showlegend\": true, \"text\": [\"0.05\", \"0.03\"], \"textposition\": \"auto\", \"x\": [0.05333879522596447, 0.026391391882007856], \"xaxis\": \"x\", \"y\": [\"Tr\\u00f8ndelag\", \"M\\u00f8re og Romsdal\"], \"yaxis\": \"y\", \"type\": \"bar\"}, {\"alignmentgroup\": \"True\", \"hoverlabel\": {\"namelength\": 0}, \"hovertemplate\": \"RHF=Helse Nord<br>Dato=11 Mar<br>Smittede/tusen innb=%{x}<br>Fylke=%{y}<br>txt=%{text}\", \"ids\": [\"Troms og Finnmark\", \"Nordland\"], \"legendgroup\": \"Helse Nord\", \"marker\": {\"color\": \"#EF553B\"}, \"name\": \"Helse Nord\", \"offsetgroup\": \"Helse Nord\", \"orientation\": \"h\", \"showlegend\": true, \"text\": [\"0.03\", \"0.01\"], \"textposition\": \"auto\", \"x\": [0.028769763800239198, 0.01243600638381661], \"xaxis\": \"x\", \"y\": [\"Troms og Finnmark\", \"Nordland\"], \"yaxis\": \"y\", \"type\": \"bar\"}, {\"alignmentgroup\": \"True\", \"hoverlabel\": {\"namelength\": 0}, \"hovertemplate\": \"RHF=Helse S\\u00f8r-\\u00d8st<br>Dato=11 Mar<br>Smittede/tusen innb=%{x}<br>Fylke=%{y}<br>txt=%{text}\", \"ids\": [\"Vestfold og Telemark\", \"Oslo\", \"Innlandet\", \"Viken\", \"Agder\"], \"legendgroup\": \"Helse S\\u00f8r-\\u00d8st\", \"marker\": {\"color\": \"#00cc96\"}, \"name\": \"Helse S\\u00f8r-\\u00d8st\", \"offsetgroup\": \"Helse S\\u00f8r-\\u00d8st\", \"orientation\": \"h\", \"showlegend\": true, \"text\": [\"0.04\", \"0.18\", \"0.06\", \"0.1\", \"0.07\"], \"textposition\": \"auto\", \"x\": [0.0357657202262301, 0.177362745748341, 0.06193034182856066, 0.0999061365733001, 0.06509759757316157], \"xaxis\": \"x\", \"y\": [\"Vestfold og Telemark\", \"Oslo\", \"Innlandet\", \"Viken\", \"Agder\"], \"yaxis\": \"y\", \"type\": \"bar\"}, {\"alignmentgroup\": \"True\", \"hoverlabel\": {\"namelength\": 0}, \"hovertemplate\": \"RHF=Helse Vest<br>Dato=11 Mar<br>Smittede/tusen innb=%{x}<br>Fylke=%{y}<br>txt=%{text}\", \"ids\": [\"Vestland\", \"Rogaland\"], \"legendgroup\": \"Helse Vest\", \"marker\": {\"color\": \"#ab63fa\"}, \"name\": \"Helse Vest\", \"offsetgroup\": \"Helse Vest\", \"orientation\": \"h\", \"showlegend\": true, \"text\": [\"0.06\", \"0.15\"], \"textposition\": \"auto\", \"x\": [0.06441163116957384, 0.14794995540663317], \"xaxis\": \"x\", \"y\": [\"Vestland\", \"Rogaland\"], \"yaxis\": \"y\", \"type\": \"bar\"}], \"name\": \"11 Mar\"}, {\"data\": [{\"alignmentgroup\": \"True\", \"hoverlabel\": {\"namelength\": 0}, \"hovertemplate\": \"RHF=Helse Midt-Norge<br>Dato=12 Mar<br>Smittede/tusen innb=%{x}<br>Fylke=%{y}<br>txt=%{text}\", \"ids\": [\"Tr\\u00f8ndelag\", \"M\\u00f8re og Romsdal\"], \"legendgroup\": \"Helse Midt-Norge\", \"marker\": {\"color\": \"#636efa\"}, \"name\": \"Helse Midt-Norge\", \"offsetgroup\": \"Helse Midt-Norge\", \"orientation\": \"h\", \"showlegend\": true, \"text\": [\"0.08\", \"0.02\"], \"textposition\": \"auto\", \"x\": [0.07894141693442742, 0.02262119304172102], \"xaxis\": \"x\", \"y\": [\"Tr\\u00f8ndelag\", \"M\\u00f8re og Romsdal\"], \"yaxis\": \"y\", \"type\": \"bar\"}, {\"alignmentgroup\": \"True\", \"hoverlabel\": {\"namelength\": 0}, \"hovertemplate\": \"RHF=Helse Nord<br>Dato=12 Mar<br>Smittede/tusen innb=%{x}<br>Fylke=%{y}<br>txt=%{text}\", \"ids\": [\"Troms og Finnmark\", \"Nordland\"], \"legendgroup\": \"Helse Nord\", \"marker\": {\"color\": \"#EF553B\"}, \"name\": \"Helse Nord\", \"offsetgroup\": \"Helse Nord\", \"orientation\": \"h\", \"showlegend\": true, \"text\": [\"0.05\", \"0.02\"], \"textposition\": \"auto\", \"x\": [0.045209628828947315, 0.016581341845088814], \"xaxis\": \"x\", \"y\": [\"Troms og Finnmark\", \"Nordland\"], \"yaxis\": \"y\", \"type\": \"bar\"}, {\"alignmentgroup\": \"True\", \"hoverlabel\": {\"namelength\": 0}, \"hovertemplate\": \"RHF=Helse S\\u00f8r-\\u00d8st<br>Dato=12 Mar<br>Smittede/tusen innb=%{x}<br>Fylke=%{y}<br>txt=%{text}\", \"ids\": [\"Oslo\", \"Vestfold og Telemark\", \"Agder\", \"Viken\", \"Innlandet\"], \"legendgroup\": \"Helse S\\u00f8r-\\u00d8st\", \"marker\": {\"color\": \"#00cc96\"}, \"name\": \"Helse S\\u00f8r-\\u00d8st\", \"offsetgroup\": \"Helse S\\u00f8r-\\u00d8st\", \"orientation\": \"h\", \"showlegend\": true, \"text\": [\"0.24\", \"0.05\", \"0.1\", \"0.12\", \"0.11\"], \"textposition\": \"auto\", \"x\": [0.23936760808312688, 0.05245638966513748, 0.1041561561170585, 0.12407697606684043, 0.10770494231054027], \"xaxis\": \"x\", \"y\": [\"Oslo\", \"Vestfold og Telemark\", \"Agder\", \"Viken\", \"Innlandet\"], \"yaxis\": \"y\", \"type\": \"bar\"}, {\"alignmentgroup\": \"True\", \"hoverlabel\": {\"namelength\": 0}, \"hovertemplate\": \"RHF=Helse Vest<br>Dato=12 Mar<br>Smittede/tusen innb=%{x}<br>Fylke=%{y}<br>txt=%{text}\", \"ids\": [\"Rogaland\", \"Vestland\"], \"legendgroup\": \"Helse Vest\", \"marker\": {\"color\": \"#ab63fa\"}, \"name\": \"Helse Vest\", \"offsetgroup\": \"Helse Vest\", \"orientation\": \"h\", \"showlegend\": true, \"text\": [\"0.17\", \"0.11\"], \"textposition\": \"auto\", \"x\": [0.17087177948371718, 0.10525803142344993], \"xaxis\": \"x\", \"y\": [\"Rogaland\", \"Vestland\"], \"yaxis\": \"y\", \"type\": \"bar\"}], \"name\": \"12 Mar\"}, {\"data\": [{\"alignmentgroup\": \"True\", \"hoverlabel\": {\"namelength\": 0}, \"hovertemplate\": \"RHF=Helse Midt-Norge<br>Dato=13 Mar<br>Smittede/tusen innb=%{x}<br>Fylke=%{y}<br>txt=%{text}\", \"ids\": [\"M\\u00f8re og Romsdal\", \"Tr\\u00f8ndelag\"], \"legendgroup\": \"Helse Midt-Norge\", \"marker\": {\"color\": \"#636efa\"}, \"name\": \"Helse Midt-Norge\", \"offsetgroup\": \"Helse Midt-Norge\", \"orientation\": \"h\", \"showlegend\": true, \"text\": [\"0.03\", \"0.09\"], \"textposition\": \"auto\", \"x\": [0.026391391882007856, 0.0917427277886589], \"xaxis\": \"x\", \"y\": [\"M\\u00f8re og Romsdal\", \"Tr\\u00f8ndelag\"], \"yaxis\": \"y\", \"type\": \"bar\"}, {\"alignmentgroup\": \"True\", \"hoverlabel\": {\"namelength\": 0}, \"hovertemplate\": \"RHF=Helse Nord<br>Dato=13 Mar<br>Smittede/tusen innb=%{x}<br>Fylke=%{y}<br>txt=%{text}\", \"ids\": [\"Nordland\", \"Troms og Finnmark\"], \"legendgroup\": \"Helse Nord\", \"marker\": {\"color\": \"#EF553B\"}, \"name\": \"Helse Nord\", \"offsetgroup\": \"Helse Nord\", \"orientation\": \"h\", \"showlegend\": true, \"text\": [\"0.02\", \"0.05\"], \"textposition\": \"auto\", \"x\": [0.020726677306361015, 0.049319595086124345], \"xaxis\": \"x\", \"y\": [\"Nordland\", \"Troms og Finnmark\"], \"yaxis\": \"y\", \"type\": \"bar\"}, {\"alignmentgroup\": \"True\", \"hoverlabel\": {\"namelength\": 0}, \"hovertemplate\": \"RHF=Helse S\\u00f8r-\\u00d8st<br>Dato=13 Mar<br>Smittede/tusen innb=%{x}<br>Fylke=%{y}<br>txt=%{text}\", \"ids\": [\"Agder\", \"Viken\", \"Innlandet\", \"Oslo\", \"Vestfold og Telemark\"], \"legendgroup\": \"Helse S\\u00f8r-\\u00d8st\", \"marker\": {\"color\": \"#00cc96\"}, \"name\": \"Helse S\\u00f8r-\\u00d8st\", \"offsetgroup\": \"Helse S\\u00f8r-\\u00d8st\", \"orientation\": \"h\", \"showlegend\": true, \"text\": [\"0.11\", \"0.15\", \"0.13\", \"0.3\", \"0.07\"], \"textposition\": \"auto\", \"x\": [0.11066591587437466, 0.14502503696124205, 0.13193855433041185, 0.29848852333257386, 0.0715314404524602], \"xaxis\": \"x\", \"y\": [\"Agder\", \"Viken\", \"Innlandet\", \"Oslo\", \"Vestfold og Telemark\"], \"yaxis\": \"y\", \"type\": \"bar\"}, {\"alignmentgroup\": \"True\", \"hoverlabel\": {\"namelength\": 0}, \"hovertemplate\": \"RHF=Helse Vest<br>Dato=13 Mar<br>Smittede/tusen innb=%{x}<br>Fylke=%{y}<br>txt=%{text}\", \"ids\": [\"Vestland\", \"Rogaland\"], \"legendgroup\": \"Helse Vest\", \"marker\": {\"color\": \"#ab63fa\"}, \"name\": \"Helse Vest\", \"offsetgroup\": \"Helse Vest\", \"orientation\": \"h\", \"showlegend\": true, \"text\": [\"0.12\", \"0.22\"], \"textposition\": \"auto\", \"x\": [0.12253920076162828, 0.21879922982671102], \"xaxis\": \"x\", \"y\": [\"Vestland\", \"Rogaland\"], \"yaxis\": \"y\", \"type\": \"bar\"}], \"name\": \"13 Mar\"}, {\"data\": [{\"alignmentgroup\": \"True\", \"hoverlabel\": {\"namelength\": 0}, \"hovertemplate\": \"RHF=Helse Midt-Norge<br>Dato=14 Mar<br>Smittede/tusen innb=%{x}<br>Fylke=%{y}<br>txt=%{text}\", \"ids\": [\"Tr\\u00f8ndelag\", \"M\\u00f8re og Romsdal\"], \"legendgroup\": \"Helse Midt-Norge\", \"marker\": {\"color\": \"#636efa\"}, \"name\": \"Helse Midt-Norge\", \"offsetgroup\": \"Helse Midt-Norge\", \"orientation\": \"h\", \"showlegend\": true, \"text\": [\"0.1\", \"0.06\"], \"textposition\": \"auto\", \"x\": [0.09814338321577463, 0.06032318144458939], \"xaxis\": \"x\", \"y\": [\"Tr\\u00f8ndelag\", \"M\\u00f8re og Romsdal\"], \"yaxis\": \"y\", \"type\": \"bar\"}, {\"alignmentgroup\": \"True\", \"hoverlabel\": {\"namelength\": 0}, \"hovertemplate\": \"RHF=Helse Nord<br>Dato=14 Mar<br>Smittede/tusen innb=%{x}<br>Fylke=%{y}<br>txt=%{text}\", \"ids\": [\"Troms og Finnmark\", \"Nordland\"], \"legendgroup\": \"Helse Nord\", \"marker\": {\"color\": \"#EF553B\"}, \"name\": \"Helse Nord\", \"offsetgroup\": \"Helse Nord\", \"orientation\": \"h\", \"showlegend\": true, \"text\": [\"0.07\", \"0.03\"], \"textposition\": \"auto\", \"x\": [0.06575946011483245, 0.03316268369017763], \"xaxis\": \"x\", \"y\": [\"Troms og Finnmark\", \"Nordland\"], \"yaxis\": \"y\", \"type\": \"bar\"}, {\"alignmentgroup\": \"True\", \"hoverlabel\": {\"namelength\": 0}, \"hovertemplate\": \"RHF=Helse S\\u00f8r-\\u00d8st<br>Dato=14 Mar<br>Smittede/tusen innb=%{x}<br>Fylke=%{y}<br>txt=%{text}\", \"ids\": [\"Vestfold og Telemark\", \"Viken\", \"Agder\", \"Innlandet\", \"Oslo\"], \"legendgroup\": \"Helse S\\u00f8r-\\u00d8st\", \"marker\": {\"color\": \"#00cc96\"}, \"name\": \"Helse S\\u00f8r-\\u00d8st\", \"offsetgroup\": \"Helse S\\u00f8r-\\u00d8st\", \"orientation\": \"h\", \"showlegend\": true, \"text\": [\"0.09\", \"0.19\", \"0.17\", \"0.15\", \"0.32\"], \"textposition\": \"auto\", \"x\": [0.09299087258819826, 0.18611546410026064, 0.16925375369022005, 0.1534795427925199, 0.32011812647261545], \"xaxis\": \"x\", \"y\": [\"Vestfold og Telemark\", \"Viken\", \"Agder\", \"Innlandet\", \"Oslo\"], \"yaxis\": \"y\", \"type\": \"bar\"}, {\"alignmentgroup\": \"True\", \"hoverlabel\": {\"namelength\": 0}, \"hovertemplate\": \"RHF=Helse Vest<br>Dato=14 Mar<br>Smittede/tusen innb=%{x}<br>Fylke=%{y}<br>txt=%{text}\", \"ids\": [\"Vestland\", \"Rogaland\"], \"legendgroup\": \"Helse Vest\", \"marker\": {\"color\": \"#ab63fa\"}, \"name\": \"Helse Vest\", \"offsetgroup\": \"Helse Vest\", \"orientation\": \"h\", \"showlegend\": true, \"text\": [\"0.16\", \"0.25\"], \"textposition\": \"auto\", \"x\": [0.1586725548323648, 0.2479724604702725], \"xaxis\": \"x\", \"y\": [\"Vestland\", \"Rogaland\"], \"yaxis\": \"y\", \"type\": \"bar\"}], \"name\": \"14 Mar\"}, {\"data\": [{\"alignmentgroup\": \"True\", \"hoverlabel\": {\"namelength\": 0}, \"hovertemplate\": \"RHF=Helse Midt-Norge<br>Dato=15 Mar<br>Smittede/tusen innb=%{x}<br>Fylke=%{y}<br>txt=%{text}\", \"ids\": [\"Tr\\u00f8ndelag\", \"M\\u00f8re og Romsdal\"], \"legendgroup\": \"Helse Midt-Norge\", \"marker\": {\"color\": \"#636efa\"}, \"name\": \"Helse Midt-Norge\", \"offsetgroup\": \"Helse Midt-Norge\", \"orientation\": \"h\", \"showlegend\": true, \"text\": [\"0.11\", \"0.08\"], \"textposition\": \"auto\", \"x\": [0.10667759045192894, 0.07540397680573674], \"xaxis\": \"x\", \"y\": [\"Tr\\u00f8ndelag\", \"M\\u00f8re og Romsdal\"], \"yaxis\": \"y\", \"type\": \"bar\"}, {\"alignmentgroup\": \"True\", \"hoverlabel\": {\"namelength\": 0}, \"hovertemplate\": \"RHF=Helse Nord<br>Dato=15 Mar<br>Smittede/tusen innb=%{x}<br>Fylke=%{y}<br>txt=%{text}\", \"ids\": [\"Nordland\", \"Troms og Finnmark\"], \"legendgroup\": \"Helse Nord\", \"marker\": {\"color\": \"#EF553B\"}, \"name\": \"Helse Nord\", \"offsetgroup\": \"Helse Nord\", \"orientation\": \"h\", \"showlegend\": true, \"text\": [\"0.03\", \"0.08\"], \"textposition\": \"auto\", \"x\": [0.03316268369017763, 0.08219932514354057], \"xaxis\": \"x\", \"y\": [\"Nordland\", \"Troms og Finnmark\"], \"yaxis\": \"y\", \"type\": \"bar\"}, {\"alignmentgroup\": \"True\", \"hoverlabel\": {\"namelength\": 0}, \"hovertemplate\": \"RHF=Helse S\\u00f8r-\\u00d8st<br>Dato=15 Mar<br>Smittede/tusen innb=%{x}<br>Fylke=%{y}<br>txt=%{text}\", \"ids\": [\"Vestfold og Telemark\", \"Innlandet\", \"Viken\", \"Oslo\", \"Agder\"], \"legendgroup\": \"Helse S\\u00f8r-\\u00d8st\", \"marker\": {\"color\": \"#00cc96\"}, \"name\": \"Helse S\\u00f8r-\\u00d8st\", \"offsetgroup\": \"Helse S\\u00f8r-\\u00d8st\", \"orientation\": \"h\", \"showlegend\": true, \"text\": [\"0.11\", \"0.19\", \"0.22\", \"0.41\", \"0.18\"], \"textposition\": \"auto\", \"x\": [0.11445030472393633, 0.1938688961589725, 0.2239831126401405, 0.40519456549011235, 0.1790183933261943], \"xaxis\": \"x\", \"y\": [\"Vestfold og Telemark\", \"Innlandet\", \"Viken\", \"Oslo\", \"Agder\"], \"yaxis\": \"y\", \"type\": \"bar\"}, {\"alignmentgroup\": \"True\", \"hoverlabel\": {\"namelength\": 0}, \"hovertemplate\": \"RHF=Helse Vest<br>Dato=15 Mar<br>Smittede/tusen innb=%{x}<br>Fylke=%{y}<br>txt=%{text}\", \"ids\": [\"Rogaland\", \"Vestland\"], \"legendgroup\": \"Helse Vest\", \"marker\": {\"color\": \"#ab63fa\"}, \"name\": \"Helse Vest\", \"offsetgroup\": \"Helse Vest\", \"orientation\": \"h\", \"showlegend\": true, \"text\": [\"0.26\", \"0.19\"], \"textposition\": \"auto\", \"x\": [0.26464287798087904, 0.18537981653682226], \"xaxis\": \"x\", \"y\": [\"Rogaland\", \"Vestland\"], \"yaxis\": \"y\", \"type\": \"bar\"}], \"name\": \"15 Mar\"}, {\"data\": [{\"alignmentgroup\": \"True\", \"hoverlabel\": {\"namelength\": 0}, \"hovertemplate\": \"RHF=Helse Midt-Norge<br>Dato=16 Mar<br>Smittede/tusen innb=%{x}<br>Fylke=%{y}<br>txt=%{text}\", \"ids\": [\"Tr\\u00f8ndelag\", \"M\\u00f8re og Romsdal\"], \"legendgroup\": \"Helse Midt-Norge\", \"marker\": {\"color\": \"#636efa\"}, \"name\": \"Helse Midt-Norge\", \"offsetgroup\": \"Helse Midt-Norge\", \"orientation\": \"h\", \"showlegend\": true, \"text\": [\"0.11\", \"0.08\"], \"textposition\": \"auto\", \"x\": [0.11094469407000611, 0.07540397680573674], \"xaxis\": \"x\", \"y\": [\"Tr\\u00f8ndelag\", \"M\\u00f8re og Romsdal\"], \"yaxis\": \"y\", \"type\": \"bar\"}, {\"alignmentgroup\": \"True\", \"hoverlabel\": {\"namelength\": 0}, \"hovertemplate\": \"RHF=Helse Nord<br>Dato=16 Mar<br>Smittede/tusen innb=%{x}<br>Fylke=%{y}<br>txt=%{text}\", \"ids\": [\"Troms og Finnmark\", \"Nordland\"], \"legendgroup\": \"Helse Nord\", \"marker\": {\"color\": \"#EF553B\"}, \"name\": \"Helse Nord\", \"offsetgroup\": \"Helse Nord\", \"orientation\": \"h\", \"showlegend\": true, \"text\": [\"0.09\", \"0.05\"], \"textposition\": \"auto\", \"x\": [0.0863092914007176, 0.04559869007399424], \"xaxis\": \"x\", \"y\": [\"Troms og Finnmark\", \"Nordland\"], \"yaxis\": \"y\", \"type\": \"bar\"}, {\"alignmentgroup\": \"True\", \"hoverlabel\": {\"namelength\": 0}, \"hovertemplate\": \"RHF=Helse S\\u00f8r-\\u00d8st<br>Dato=16 Mar<br>Smittede/tusen innb=%{x}<br>Fylke=%{y}<br>txt=%{text}\", \"ids\": [\"Vestfold og Telemark\", \"Innlandet\", \"Viken\", \"Agder\", \"Oslo\"], \"legendgroup\": \"Helse S\\u00f8r-\\u00d8st\", \"marker\": {\"color\": \"#00cc96\"}, \"name\": \"Helse S\\u00f8r-\\u00d8st\", \"offsetgroup\": \"Helse S\\u00f8r-\\u00d8st\", \"orientation\": \"h\", \"showlegend\": true, \"text\": [\"0.13\", \"0.22\", \"0.25\", \"0.22\", \"0.42\"], \"textposition\": \"auto\", \"x\": [0.12637221146601302, 0.21810250817884405, 0.2529881200323889, 0.21807695187009124, 0.4210562744594762], \"xaxis\": \"x\", \"y\": [\"Vestfold og Telemark\", \"Innlandet\", \"Viken\", \"Agder\", \"Oslo\"], \"yaxis\": \"y\", \"type\": \"bar\"}, {\"alignmentgroup\": \"True\", \"hoverlabel\": {\"namelength\": 0}, \"hovertemplate\": \"RHF=Helse Vest<br>Dato=16 Mar<br>Smittede/tusen innb=%{x}<br>Fylke=%{y}<br>txt=%{text}\", \"ids\": [\"Rogaland\", \"Vestland\"], \"legendgroup\": \"Helse Vest\", \"marker\": {\"color\": \"#ab63fa\"}, \"name\": \"Helse Vest\", \"offsetgroup\": \"Helse Vest\", \"orientation\": \"h\", \"showlegend\": true, \"text\": [\"0.27\", \"0.2\"], \"textposition\": \"auto\", \"x\": [0.2729780867361823, 0.1995189550862409], \"xaxis\": \"x\", \"y\": [\"Rogaland\", \"Vestland\"], \"yaxis\": \"y\", \"type\": \"bar\"}], \"name\": \"16 Mar\"}, {\"data\": [{\"alignmentgroup\": \"True\", \"hoverlabel\": {\"namelength\": 0}, \"hovertemplate\": \"RHF=Helse Midt-Norge<br>Dato=17 Mar<br>Smittede/tusen innb=%{x}<br>Fylke=%{y}<br>txt=%{text}\", \"ids\": [\"M\\u00f8re og Romsdal\", \"Tr\\u00f8ndelag\"], \"legendgroup\": \"Helse Midt-Norge\", \"marker\": {\"color\": \"#636efa\"}, \"name\": \"Helse Midt-Norge\", \"offsetgroup\": \"Helse Midt-Norge\", \"orientation\": \"h\", \"showlegend\": true, \"text\": [\"0.08\", \"0.13\"], \"textposition\": \"auto\", \"x\": [0.07540397680573674, 0.1301466603513533], \"xaxis\": \"x\", \"y\": [\"M\\u00f8re og Romsdal\", \"Tr\\u00f8ndelag\"], \"yaxis\": \"y\", \"type\": \"bar\"}, {\"alignmentgroup\": \"True\", \"hoverlabel\": {\"namelength\": 0}, \"hovertemplate\": \"RHF=Helse Nord<br>Dato=17 Mar<br>Smittede/tusen innb=%{x}<br>Fylke=%{y}<br>txt=%{text}\", \"ids\": [\"Troms og Finnmark\", \"Nordland\"], \"legendgroup\": \"Helse Nord\", \"marker\": {\"color\": \"#EF553B\"}, \"name\": \"Helse Nord\", \"offsetgroup\": \"Helse Nord\", \"orientation\": \"h\", \"showlegend\": true, \"text\": [\"0.1\", \"0.05\"], \"textposition\": \"auto\", \"x\": [0.09863919017224869, 0.04559869007399424], \"xaxis\": \"x\", \"y\": [\"Troms og Finnmark\", \"Nordland\"], \"yaxis\": \"y\", \"type\": \"bar\"}, {\"alignmentgroup\": \"True\", \"hoverlabel\": {\"namelength\": 0}, \"hovertemplate\": \"RHF=Helse S\\u00f8r-\\u00d8st<br>Dato=17 Mar<br>Smittede/tusen innb=%{x}<br>Fylke=%{y}<br>txt=%{text}\", \"ids\": [\"Innlandet\", \"Vestfold og Telemark\", \"Viken\", \"Agder\", \"Oslo\"], \"legendgroup\": \"Helse S\\u00f8r-\\u00d8st\", \"marker\": {\"color\": \"#00cc96\"}, \"name\": \"Helse S\\u00f8r-\\u00d8st\", \"offsetgroup\": \"Helse S\\u00f8r-\\u00d8st\", \"orientation\": \"h\", \"showlegend\": true, \"text\": [\"0.24\", \"0.14\", \"0.29\", \"0.22\", \"0.47\"], \"textposition\": \"auto\", \"x\": [0.2369508730831886, 0.14067849955650508, 0.2884386846229148, 0.21807695187009124, 0.47440929553824546], \"xaxis\": \"x\", \"y\": [\"Innlandet\", \"Vestfold og Telemark\", \"Viken\", \"Agder\", \"Oslo\"], \"yaxis\": \"y\", \"type\": \"bar\"}, {\"alignmentgroup\": \"True\", \"hoverlabel\": {\"namelength\": 0}, \"hovertemplate\": \"RHF=Helse Vest<br>Dato=17 Mar<br>Smittede/tusen innb=%{x}<br>Fylke=%{y}<br>txt=%{text}\", \"ids\": [\"Vestland\", \"Rogaland\"], \"legendgroup\": \"Helse Vest\", \"marker\": {\"color\": \"#ab63fa\"}, \"name\": \"Helse Vest\", \"offsetgroup\": \"Helse Vest\", \"orientation\": \"h\", \"showlegend\": true, \"text\": [\"0.22\", \"0.31\"], \"textposition\": \"auto\", \"x\": [0.2215131706075588, 0.3125703283238729], \"xaxis\": \"x\", \"y\": [\"Vestland\", \"Rogaland\"], \"yaxis\": \"y\", \"type\": \"bar\"}], \"name\": \"17 Mar\"}, {\"data\": [{\"alignmentgroup\": \"True\", \"hoverlabel\": {\"namelength\": 0}, \"hovertemplate\": \"RHF=Helse Midt-Norge<br>Dato=18 Mar<br>Smittede/tusen innb=%{x}<br>Fylke=%{y}<br>txt=%{text}\", \"ids\": [\"M\\u00f8re og Romsdal\", \"Tr\\u00f8ndelag\"], \"legendgroup\": \"Helse Midt-Norge\", \"marker\": {\"color\": \"#636efa\"}, \"name\": \"Helse Midt-Norge\", \"offsetgroup\": \"Helse Midt-Norge\", \"orientation\": \"h\", \"showlegend\": true, \"text\": [\"0.08\", \"0.15\"], \"textposition\": \"auto\", \"x\": [0.07540397680573674, 0.14934862663270052], \"xaxis\": \"x\", \"y\": [\"M\\u00f8re og Romsdal\", \"Tr\\u00f8ndelag\"], \"yaxis\": \"y\", \"type\": \"bar\"}, {\"alignmentgroup\": \"True\", \"hoverlabel\": {\"namelength\": 0}, \"hovertemplate\": \"RHF=Helse Nord<br>Dato=18 Mar<br>Smittede/tusen innb=%{x}<br>Fylke=%{y}<br>txt=%{text}\", \"ids\": [\"Troms og Finnmark\", \"Nordland\"], \"legendgroup\": \"Helse Nord\", \"marker\": {\"color\": \"#EF553B\"}, \"name\": \"Helse Nord\", \"offsetgroup\": \"Helse Nord\", \"orientation\": \"h\", \"showlegend\": true, \"text\": [\"0.12\", \"0.05\"], \"textposition\": \"auto\", \"x\": [0.11507905520095679, 0.04974402553526644], \"xaxis\": \"x\", \"y\": [\"Troms og Finnmark\", \"Nordland\"], \"yaxis\": \"y\", \"type\": \"bar\"}, {\"alignmentgroup\": \"True\", \"hoverlabel\": {\"namelength\": 0}, \"hovertemplate\": \"RHF=Helse S\\u00f8r-\\u00d8st<br>Dato=18 Mar<br>Smittede/tusen innb=%{x}<br>Fylke=%{y}<br>txt=%{text}\", \"ids\": [\"Oslo\", \"Agder\", \"Viken\", \"Innlandet\", \"Vestfold og Telemark\"], \"legendgroup\": \"Helse S\\u00f8r-\\u00d8st\", \"marker\": {\"color\": \"#00cc96\"}, \"name\": \"Helse S\\u00f8r-\\u00d8st\", \"offsetgroup\": \"Helse S\\u00f8r-\\u00d8st\", \"orientation\": \"h\", \"showlegend\": true, \"text\": [\"0.5\", \"0.22\", \"0.33\", \"0.26\", \"0.15\"], \"textposition\": \"auto\", \"x\": [0.5018067928489648, 0.21807695187009124, 0.33033480641171803, 0.2611844851030602, 0.15021602495016642], \"xaxis\": \"x\", \"y\": [\"Oslo\", \"Agder\", \"Viken\", \"Innlandet\", \"Vestfold og Telemark\"], \"yaxis\": \"y\", \"type\": \"bar\"}, {\"alignmentgroup\": \"True\", \"hoverlabel\": {\"namelength\": 0}, \"hovertemplate\": \"RHF=Helse Vest<br>Dato=18 Mar<br>Smittede/tusen innb=%{x}<br>Fylke=%{y}<br>txt=%{text}\", \"ids\": [\"Rogaland\", \"Vestland\"], \"legendgroup\": \"Helse Vest\", \"marker\": {\"color\": \"#ab63fa\"}, \"name\": \"Helse Vest\", \"offsetgroup\": \"Helse Vest\", \"orientation\": \"h\", \"showlegend\": true, \"text\": [\"0.34\", \"0.23\"], \"textposition\": \"auto\", \"x\": [0.33549215240095687, 0.2309392629738379], \"xaxis\": \"x\", \"y\": [\"Rogaland\", \"Vestland\"], \"yaxis\": \"y\", \"type\": \"bar\"}], \"name\": \"18 Mar\"}, {\"data\": [{\"alignmentgroup\": \"True\", \"hoverlabel\": {\"namelength\": 0}, \"hovertemplate\": \"RHF=Helse Midt-Norge<br>Dato=19 Mar<br>Smittede/tusen innb=%{x}<br>Fylke=%{y}<br>txt=%{text}\", \"ids\": [\"Tr\\u00f8ndelag\", \"M\\u00f8re og Romsdal\"], \"legendgroup\": \"Helse Midt-Norge\", \"marker\": {\"color\": \"#636efa\"}, \"name\": \"Helse Midt-Norge\", \"offsetgroup\": \"Helse Midt-Norge\", \"orientation\": \"h\", \"showlegend\": true, \"text\": [\"0.16\", \"0.09\"], \"textposition\": \"auto\", \"x\": [0.16001638567789342, 0.09425497100717092], \"xaxis\": \"x\", \"y\": [\"Tr\\u00f8ndelag\", \"M\\u00f8re og Romsdal\"], \"yaxis\": \"y\", \"type\": \"bar\"}, {\"alignmentgroup\": \"True\", \"hoverlabel\": {\"namelength\": 0}, \"hovertemplate\": \"RHF=Helse Nord<br>Dato=19 Mar<br>Smittede/tusen innb=%{x}<br>Fylke=%{y}<br>txt=%{text}\", \"ids\": [\"Troms og Finnmark\", \"Nordland\"], \"legendgroup\": \"Helse Nord\", \"marker\": {\"color\": \"#EF553B\"}, \"name\": \"Helse Nord\", \"offsetgroup\": \"Helse Nord\", \"orientation\": \"h\", \"showlegend\": true, \"text\": [\"0.12\", \"0.05\"], \"textposition\": \"auto\", \"x\": [0.11507905520095679, 0.05388936099653864], \"xaxis\": \"x\", \"y\": [\"Troms og Finnmark\", \"Nordland\"], \"yaxis\": \"y\", \"type\": \"bar\"}, {\"alignmentgroup\": \"True\", \"hoverlabel\": {\"namelength\": 0}, \"hovertemplate\": \"RHF=Helse S\\u00f8r-\\u00d8st<br>Dato=19 Mar<br>Smittede/tusen innb=%{x}<br>Fylke=%{y}<br>txt=%{text}\", \"ids\": [\"Agder\", \"Innlandet\", \"Vestfold og Telemark\", \"Oslo\", \"Viken\"], \"legendgroup\": \"Helse S\\u00f8r-\\u00d8st\", \"marker\": {\"color\": \"#00cc96\"}, \"name\": \"Helse S\\u00f8r-\\u00d8st\", \"offsetgroup\": \"Helse S\\u00f8r-\\u00d8st\", \"orientation\": \"h\", \"showlegend\": true, \"text\": [\"0.24\", \"0.28\", \"0.15\", \"0.57\", \"0.36\"], \"textposition\": \"auto\", \"x\": [0.24411599089935587, 0.28272547356516825, 0.1549847876469971, 0.5652536287264202, 0.35853411915418176], \"xaxis\": \"x\", \"y\": [\"Agder\", \"Innlandet\", \"Vestfold og Telemark\", \"Oslo\", \"Viken\"], \"yaxis\": \"y\", \"type\": \"bar\"}, {\"alignmentgroup\": \"True\", \"hoverlabel\": {\"namelength\": 0}, \"hovertemplate\": \"RHF=Helse Vest<br>Dato=19 Mar<br>Smittede/tusen innb=%{x}<br>Fylke=%{y}<br>txt=%{text}\", \"ids\": [\"Vestland\", \"Rogaland\"], \"legendgroup\": \"Helse Vest\", \"marker\": {\"color\": \"#ab63fa\"}, \"name\": \"Helse Vest\", \"offsetgroup\": \"Helse Vest\", \"orientation\": \"h\", \"showlegend\": true, \"text\": [\"0.24\", \"0.37\"], \"textposition\": \"auto\", \"x\": [0.240365355340117, 0.36674918523334415], \"xaxis\": \"x\", \"y\": [\"Vestland\", \"Rogaland\"], \"yaxis\": \"y\", \"type\": \"bar\"}], \"name\": \"19 Mar\"}]);\n",
       "                        }).then(function(){\n",
       "                            \n",
       "var gd = document.getElementById('dc023a88-eb34-4ee6-a13a-62d831e3b4db');\n",
       "var x = new MutationObserver(function (mutations, observer) {{\n",
       "        var display = window.getComputedStyle(gd).display;\n",
       "        if (!display || display === 'none') {{\n",
       "            console.log([gd, 'removed!']);\n",
       "            Plotly.purge(gd);\n",
       "            observer.disconnect();\n",
       "        }}\n",
       "}});\n",
       "\n",
       "// Listen for the removal of the full notebook cells\n",
       "var notebookContainer = gd.closest('#notebook-container');\n",
       "if (notebookContainer) {{\n",
       "    x.observe(notebookContainer, {childList: true});\n",
       "}}\n",
       "\n",
       "// Listen for the clearing of the current output cell\n",
       "var outputEl = gd.closest('.output');\n",
       "if (outputEl) {{\n",
       "    x.observe(outputEl, {childList: true});\n",
       "}}\n",
       "\n",
       "                        })\n",
       "                };\n",
       "                });\n",
       "            </script>\n",
       "        </div>"
      ]
     },
     "metadata": {},
     "output_type": "display_data"
    }
   ],
   "source": [
    "legend = [i for i in vekst[\"RHF\"].unique()]\n",
    "legend.sort()\n",
    "\n",
    "fig = px.bar(melted, \n",
    "             x='Smittede/tusen innb', y='Fylke', animation_frame=\"variable\",\n",
    "             animation_group=\"Fylke\",\n",
    "             orientation='h',\n",
    "             category_orders={\"RHF\": legend},\n",
    "             labels = {\"Veksttakt\": \"daglig vekst (%)\", \"variable\": \"Dato\"},\n",
    "             color='RHF',\n",
    "             text=\"txt\",\n",
    "             height=600,\n",
    "             title = \"<b>COVID19: Registrert smittet i Norge</b><br>Antall smittet per 1 000 innbyggere<br>Datakilde: FHI - folkehelseinstituttet. Oppdatert \" +datetime.today().strftime('%d.%m.%Y'),\n",
    "             template = \"plotly_white\",\n",
    "             range_x=[0,0.6]\n",
    "                 ).update_yaxes(categoryorder=\"total ascending\")\n",
    "\n",
    "fig.layout.coloraxis.showscale = False\n",
    "\n",
    "fig.update_layout(\n",
    "    yaxis=dict(\n",
    "        separatethousands=True,\n",
    "        categoryorder = 'total ascending',\n",
    "        title_text=\"\",\n",
    "        fixedrange=True,\n",
    "    ), xaxis=dict(fixedrange=True,\n",
    "                 title_text=\"per 1 000\"),\n",
    "    title_font=dict(family=\"Helvetica\", size=18),\n",
    "        margin=dict(b=150)) #bottom margin\n",
    "\n",
    "fig.update_layout(autosize=True,\n",
    "    margin=dict(l=100, r=100, t=150, b=0),\n",
    "    paper_bgcolor='rgba(0, 0, 0, 0)'\n",
    "    #plot_bgcolor='rgb(248, 248, 255)'    \n",
    "                 )\n",
    "\n",
    "#py.plot(fig, filename='COVID19_per_capita_fylkesutvikling_animation.html')\n",
    "fig.show()"
   ]
  },
  {
   "cell_type": "code",
   "execution_count": null,
   "metadata": {},
   "outputs": [],
   "source": []
  },
  {
   "cell_type": "code",
   "execution_count": null,
   "metadata": {},
   "outputs": [],
   "source": []
  },
  {
   "cell_type": "code",
   "execution_count": null,
   "metadata": {},
   "outputs": [],
   "source": []
  }
 ],
 "metadata": {
  "kernelspec": {
   "display_name": "Python 3",
   "language": "python",
   "name": "python3"
  },
  "language_info": {
   "codemirror_mode": {
    "name": "ipython",
    "version": 3
   },
   "file_extension": ".py",
   "mimetype": "text/x-python",
   "name": "python",
   "nbconvert_exporter": "python",
   "pygments_lexer": "ipython3",
   "version": "3.7.4"
  }
 },
 "nbformat": 4,
 "nbformat_minor": 2
}
