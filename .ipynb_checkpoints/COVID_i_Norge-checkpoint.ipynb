{
 "cells": [
  {
   "cell_type": "code",
   "execution_count": 37,
   "metadata": {},
   "outputs": [],
   "source": [
    "import pandas as pd\n",
    "import numpy as np\n",
    "import plotly\n",
    "import chart_studio.plotly as py\n",
    "import chart_studio\n",
    "import matplotlib.pyplot as plt\n",
    "\n",
    "chart_studio.tools.set_credentials_file(username='oystein.nerva', api_key='0ODcZ6UisJ8n0AjEQt9N')"
   ]
  },
  {
   "cell_type": "code",
   "execution_count": 393,
   "metadata": {},
   "outputs": [
    {
     "data": {
      "text/html": [
       "<div>\n",
       "<style scoped>\n",
       "    .dataframe tbody tr th:only-of-type {\n",
       "        vertical-align: middle;\n",
       "    }\n",
       "\n",
       "    .dataframe tbody tr th {\n",
       "        vertical-align: top;\n",
       "    }\n",
       "\n",
       "    .dataframe thead th {\n",
       "        text-align: right;\n",
       "    }\n",
       "</style>\n",
       "<table border=\"1\" class=\"dataframe\">\n",
       "  <thead>\n",
       "    <tr style=\"text-align: right;\">\n",
       "      <th></th>\n",
       "      <th>Fylke</th>\n",
       "      <th>09-Mar-20</th>\n",
       "      <th>10-Mar-20</th>\n",
       "      <th>11-Mar-20</th>\n",
       "      <th>12-Mar-20</th>\n",
       "      <th>13-Mar-20</th>\n",
       "      <th>14-Mar-20</th>\n",
       "      <th>15-Mar-20</th>\n",
       "      <th>16-Mar-20</th>\n",
       "      <th>17-Mar-20</th>\n",
       "      <th>18-Mar-20</th>\n",
       "      <th>19-Mar-20</th>\n",
       "      <th>20-Mar-20</th>\n",
       "      <th>21-Mar-20</th>\n",
       "    </tr>\n",
       "  </thead>\n",
       "  <tbody>\n",
       "    <tr>\n",
       "      <td>0</td>\n",
       "      <td>Agder</td>\n",
       "      <td>19</td>\n",
       "      <td>19</td>\n",
       "      <td>20</td>\n",
       "      <td>32</td>\n",
       "      <td>34</td>\n",
       "      <td>52</td>\n",
       "      <td>55</td>\n",
       "      <td>67</td>\n",
       "      <td>67</td>\n",
       "      <td>67</td>\n",
       "      <td>75</td>\n",
       "      <td>79</td>\n",
       "      <td>82</td>\n",
       "    </tr>\n",
       "    <tr>\n",
       "      <td>1</td>\n",
       "      <td>Innlandet</td>\n",
       "      <td>16</td>\n",
       "      <td>16</td>\n",
       "      <td>23</td>\n",
       "      <td>40</td>\n",
       "      <td>49</td>\n",
       "      <td>57</td>\n",
       "      <td>72</td>\n",
       "      <td>81</td>\n",
       "      <td>88</td>\n",
       "      <td>97</td>\n",
       "      <td>105</td>\n",
       "      <td>115</td>\n",
       "      <td>125</td>\n",
       "    </tr>\n",
       "    <tr>\n",
       "      <td>2</td>\n",
       "      <td>Møre og Romsdal</td>\n",
       "      <td>5</td>\n",
       "      <td>5</td>\n",
       "      <td>7</td>\n",
       "      <td>6</td>\n",
       "      <td>7</td>\n",
       "      <td>16</td>\n",
       "      <td>20</td>\n",
       "      <td>20</td>\n",
       "      <td>20</td>\n",
       "      <td>20</td>\n",
       "      <td>25</td>\n",
       "      <td>29</td>\n",
       "      <td>32</td>\n",
       "    </tr>\n",
       "    <tr>\n",
       "      <td>3</td>\n",
       "      <td>Nordland</td>\n",
       "      <td>3</td>\n",
       "      <td>3</td>\n",
       "      <td>3</td>\n",
       "      <td>4</td>\n",
       "      <td>5</td>\n",
       "      <td>8</td>\n",
       "      <td>8</td>\n",
       "      <td>11</td>\n",
       "      <td>11</td>\n",
       "      <td>12</td>\n",
       "      <td>13</td>\n",
       "      <td>17</td>\n",
       "      <td>17</td>\n",
       "    </tr>\n",
       "    <tr>\n",
       "      <td>4</td>\n",
       "      <td>Oslo</td>\n",
       "      <td>51</td>\n",
       "      <td>51</td>\n",
       "      <td>123</td>\n",
       "      <td>166</td>\n",
       "      <td>207</td>\n",
       "      <td>222</td>\n",
       "      <td>281</td>\n",
       "      <td>292</td>\n",
       "      <td>329</td>\n",
       "      <td>348</td>\n",
       "      <td>392</td>\n",
       "      <td>419</td>\n",
       "      <td>448</td>\n",
       "    </tr>\n",
       "    <tr>\n",
       "      <td>5</td>\n",
       "      <td>Rogaland</td>\n",
       "      <td>33</td>\n",
       "      <td>33</td>\n",
       "      <td>71</td>\n",
       "      <td>82</td>\n",
       "      <td>105</td>\n",
       "      <td>119</td>\n",
       "      <td>127</td>\n",
       "      <td>131</td>\n",
       "      <td>150</td>\n",
       "      <td>161</td>\n",
       "      <td>176</td>\n",
       "      <td>180</td>\n",
       "      <td>199</td>\n",
       "    </tr>\n",
       "    <tr>\n",
       "      <td>6</td>\n",
       "      <td>Troms og Finnmark</td>\n",
       "      <td>6</td>\n",
       "      <td>6</td>\n",
       "      <td>7</td>\n",
       "      <td>11</td>\n",
       "      <td>12</td>\n",
       "      <td>16</td>\n",
       "      <td>20</td>\n",
       "      <td>21</td>\n",
       "      <td>24</td>\n",
       "      <td>28</td>\n",
       "      <td>28</td>\n",
       "      <td>32</td>\n",
       "      <td>37</td>\n",
       "    </tr>\n",
       "    <tr>\n",
       "      <td>7</td>\n",
       "      <td>Trøndelag</td>\n",
       "      <td>22</td>\n",
       "      <td>22</td>\n",
       "      <td>25</td>\n",
       "      <td>37</td>\n",
       "      <td>43</td>\n",
       "      <td>46</td>\n",
       "      <td>50</td>\n",
       "      <td>52</td>\n",
       "      <td>61</td>\n",
       "      <td>70</td>\n",
       "      <td>75</td>\n",
       "      <td>97</td>\n",
       "      <td>122</td>\n",
       "    </tr>\n",
       "    <tr>\n",
       "      <td>8</td>\n",
       "      <td>Vestfold og Telemark</td>\n",
       "      <td>5</td>\n",
       "      <td>5</td>\n",
       "      <td>15</td>\n",
       "      <td>22</td>\n",
       "      <td>30</td>\n",
       "      <td>39</td>\n",
       "      <td>48</td>\n",
       "      <td>53</td>\n",
       "      <td>59</td>\n",
       "      <td>63</td>\n",
       "      <td>65</td>\n",
       "      <td>72</td>\n",
       "      <td>81</td>\n",
       "    </tr>\n",
       "    <tr>\n",
       "      <td>9</td>\n",
       "      <td>Vestland</td>\n",
       "      <td>31</td>\n",
       "      <td>31</td>\n",
       "      <td>41</td>\n",
       "      <td>67</td>\n",
       "      <td>78</td>\n",
       "      <td>101</td>\n",
       "      <td>118</td>\n",
       "      <td>127</td>\n",
       "      <td>141</td>\n",
       "      <td>147</td>\n",
       "      <td>153</td>\n",
       "      <td>173</td>\n",
       "      <td>200</td>\n",
       "    </tr>\n",
       "    <tr>\n",
       "      <td>10</td>\n",
       "      <td>Viken</td>\n",
       "      <td>86</td>\n",
       "      <td>86</td>\n",
       "      <td>124</td>\n",
       "      <td>154</td>\n",
       "      <td>180</td>\n",
       "      <td>231</td>\n",
       "      <td>278</td>\n",
       "      <td>314</td>\n",
       "      <td>358</td>\n",
       "      <td>410</td>\n",
       "      <td>445</td>\n",
       "      <td>529</td>\n",
       "      <td>583</td>\n",
       "    </tr>\n",
       "  </tbody>\n",
       "</table>\n",
       "</div>"
      ],
      "text/plain": [
       "                   Fylke  09-Mar-20  10-Mar-20  11-Mar-20  12-Mar-20  \\\n",
       "0                  Agder         19         19         20         32   \n",
       "1              Innlandet         16         16         23         40   \n",
       "2        Møre og Romsdal          5          5          7          6   \n",
       "3               Nordland          3          3          3          4   \n",
       "4                   Oslo         51         51        123        166   \n",
       "5               Rogaland         33         33         71         82   \n",
       "6      Troms og Finnmark          6          6          7         11   \n",
       "7              Trøndelag         22         22         25         37   \n",
       "8   Vestfold og Telemark          5          5         15         22   \n",
       "9               Vestland         31         31         41         67   \n",
       "10                 Viken         86         86        124        154   \n",
       "\n",
       "    13-Mar-20  14-Mar-20  15-Mar-20  16-Mar-20  17-Mar-20  18-Mar-20  \\\n",
       "0          34         52         55         67         67         67   \n",
       "1          49         57         72         81         88         97   \n",
       "2           7         16         20         20         20         20   \n",
       "3           5          8          8         11         11         12   \n",
       "4         207        222        281        292        329        348   \n",
       "5         105        119        127        131        150        161   \n",
       "6          12         16         20         21         24         28   \n",
       "7          43         46         50         52         61         70   \n",
       "8          30         39         48         53         59         63   \n",
       "9          78        101        118        127        141        147   \n",
       "10        180        231        278        314        358        410   \n",
       "\n",
       "    19-Mar-20  20-Mar-20  21-Mar-20  \n",
       "0          75         79         82  \n",
       "1         105        115        125  \n",
       "2          25         29         32  \n",
       "3          13         17         17  \n",
       "4         392        419        448  \n",
       "5         176        180        199  \n",
       "6          28         32         37  \n",
       "7          75         97        122  \n",
       "8          65         72         81  \n",
       "9         153        173        200  \n",
       "10        445        529        583  "
      ]
     },
     "execution_count": 393,
     "metadata": {},
     "output_type": "execute_result"
    }
   ],
   "source": [
    "url = \"https://github.com/NRVA/COVID19_Norge/raw/master/COVID19_fhi_data_fylke.csv\"\n",
    "data = pd.read_csv(url, sep=';')\n",
    "data"
   ]
  },
  {
   "cell_type": "code",
   "execution_count": 319,
   "metadata": {},
   "outputs": [
    {
     "data": {
      "text/html": [
       "<div>\n",
       "<style scoped>\n",
       "    .dataframe tbody tr th:only-of-type {\n",
       "        vertical-align: middle;\n",
       "    }\n",
       "\n",
       "    .dataframe tbody tr th {\n",
       "        vertical-align: top;\n",
       "    }\n",
       "\n",
       "    .dataframe thead th {\n",
       "        text-align: right;\n",
       "    }\n",
       "</style>\n",
       "<table border=\"1\" class=\"dataframe\">\n",
       "  <thead>\n",
       "    <tr style=\"text-align: right;\">\n",
       "      <th></th>\n",
       "      <th>Fylke</th>\n",
       "      <th>RHF</th>\n",
       "      <th>Befolkning</th>\n",
       "    </tr>\n",
       "  </thead>\n",
       "  <tbody>\n",
       "    <tr>\n",
       "      <td>0</td>\n",
       "      <td>Agder</td>\n",
       "      <td>Helse Sør-Øst</td>\n",
       "      <td>307231</td>\n",
       "    </tr>\n",
       "    <tr>\n",
       "      <td>1</td>\n",
       "      <td>Innlandet</td>\n",
       "      <td>Helse Sør-Øst</td>\n",
       "      <td>371385</td>\n",
       "    </tr>\n",
       "    <tr>\n",
       "      <td>2</td>\n",
       "      <td>Møre og Romsdal</td>\n",
       "      <td>Helse Midt-Norge</td>\n",
       "      <td>265238</td>\n",
       "    </tr>\n",
       "    <tr>\n",
       "      <td>3</td>\n",
       "      <td>Nordland</td>\n",
       "      <td>Helse Nord</td>\n",
       "      <td>241235</td>\n",
       "    </tr>\n",
       "    <tr>\n",
       "      <td>4</td>\n",
       "      <td>Oslo</td>\n",
       "      <td>Helse Sør-Øst</td>\n",
       "      <td>693494</td>\n",
       "    </tr>\n",
       "    <tr>\n",
       "      <td>5</td>\n",
       "      <td>Rogaland</td>\n",
       "      <td>Helse Vest</td>\n",
       "      <td>479892</td>\n",
       "    </tr>\n",
       "    <tr>\n",
       "      <td>6</td>\n",
       "      <td>Troms og Finnmark</td>\n",
       "      <td>Helse Nord</td>\n",
       "      <td>243311</td>\n",
       "    </tr>\n",
       "    <tr>\n",
       "      <td>7</td>\n",
       "      <td>Trøndelag</td>\n",
       "      <td>Helse Midt-Norge</td>\n",
       "      <td>468702</td>\n",
       "    </tr>\n",
       "    <tr>\n",
       "      <td>8</td>\n",
       "      <td>Vestfold og Telemark</td>\n",
       "      <td>Helse Sør-Øst</td>\n",
       "      <td>419396</td>\n",
       "    </tr>\n",
       "    <tr>\n",
       "      <td>9</td>\n",
       "      <td>Vestland</td>\n",
       "      <td>Helse Vest</td>\n",
       "      <td>636531</td>\n",
       "    </tr>\n",
       "    <tr>\n",
       "      <td>10</td>\n",
       "      <td>Viken</td>\n",
       "      <td>Helse Sør-Øst</td>\n",
       "      <td>1241165</td>\n",
       "    </tr>\n",
       "  </tbody>\n",
       "</table>\n",
       "</div>"
      ],
      "text/plain": [
       "                   Fylke               RHF  Befolkning\n",
       "0                  Agder     Helse Sør-Øst      307231\n",
       "1              Innlandet     Helse Sør-Øst      371385\n",
       "2        Møre og Romsdal  Helse Midt-Norge      265238\n",
       "3               Nordland        Helse Nord      241235\n",
       "4                   Oslo     Helse Sør-Øst      693494\n",
       "5               Rogaland        Helse Vest      479892\n",
       "6      Troms og Finnmark        Helse Nord      243311\n",
       "7              Trøndelag  Helse Midt-Norge      468702\n",
       "8   Vestfold og Telemark     Helse Sør-Øst      419396\n",
       "9               Vestland        Helse Vest      636531\n",
       "10                 Viken     Helse Sør-Øst     1241165"
      ]
     },
     "execution_count": 319,
     "metadata": {},
     "output_type": "execute_result"
    }
   ],
   "source": [
    "url = \"https://github.com/NRVA/COVID19_Norge/raw/master/Fylkestilhorighet_2020.csv\"\n",
    "fylker = pd.read_csv(url, sep=';')\n",
    "fylker"
   ]
  },
  {
   "cell_type": "code",
   "execution_count": 394,
   "metadata": {},
   "outputs": [
    {
     "data": {
      "text/html": [
       "<div>\n",
       "<style scoped>\n",
       "    .dataframe tbody tr th:only-of-type {\n",
       "        vertical-align: middle;\n",
       "    }\n",
       "\n",
       "    .dataframe tbody tr th {\n",
       "        vertical-align: top;\n",
       "    }\n",
       "\n",
       "    .dataframe thead th {\n",
       "        text-align: right;\n",
       "    }\n",
       "</style>\n",
       "<table border=\"1\" class=\"dataframe\">\n",
       "  <thead>\n",
       "    <tr style=\"text-align: right;\">\n",
       "      <th>Fylke</th>\n",
       "      <th>Agder</th>\n",
       "      <th>Innlandet</th>\n",
       "      <th>Møre og Romsdal</th>\n",
       "      <th>Nordland</th>\n",
       "      <th>Oslo</th>\n",
       "      <th>Rogaland</th>\n",
       "      <th>Troms og Finnmark</th>\n",
       "      <th>Trøndelag</th>\n",
       "      <th>Vestfold og Telemark</th>\n",
       "      <th>Vestland</th>\n",
       "      <th>Viken</th>\n",
       "    </tr>\n",
       "    <tr>\n",
       "      <th>variable</th>\n",
       "      <th></th>\n",
       "      <th></th>\n",
       "      <th></th>\n",
       "      <th></th>\n",
       "      <th></th>\n",
       "      <th></th>\n",
       "      <th></th>\n",
       "      <th></th>\n",
       "      <th></th>\n",
       "      <th></th>\n",
       "      <th></th>\n",
       "    </tr>\n",
       "  </thead>\n",
       "  <tbody>\n",
       "    <tr>\n",
       "      <td>2020-03-09</td>\n",
       "      <td>19</td>\n",
       "      <td>16</td>\n",
       "      <td>5</td>\n",
       "      <td>3</td>\n",
       "      <td>51</td>\n",
       "      <td>33</td>\n",
       "      <td>6</td>\n",
       "      <td>22</td>\n",
       "      <td>5</td>\n",
       "      <td>31</td>\n",
       "      <td>86</td>\n",
       "    </tr>\n",
       "    <tr>\n",
       "      <td>2020-03-10</td>\n",
       "      <td>19</td>\n",
       "      <td>16</td>\n",
       "      <td>5</td>\n",
       "      <td>3</td>\n",
       "      <td>51</td>\n",
       "      <td>33</td>\n",
       "      <td>6</td>\n",
       "      <td>22</td>\n",
       "      <td>5</td>\n",
       "      <td>31</td>\n",
       "      <td>86</td>\n",
       "    </tr>\n",
       "    <tr>\n",
       "      <td>2020-03-11</td>\n",
       "      <td>20</td>\n",
       "      <td>23</td>\n",
       "      <td>7</td>\n",
       "      <td>3</td>\n",
       "      <td>123</td>\n",
       "      <td>71</td>\n",
       "      <td>7</td>\n",
       "      <td>25</td>\n",
       "      <td>15</td>\n",
       "      <td>41</td>\n",
       "      <td>124</td>\n",
       "    </tr>\n",
       "    <tr>\n",
       "      <td>2020-03-12</td>\n",
       "      <td>32</td>\n",
       "      <td>40</td>\n",
       "      <td>6</td>\n",
       "      <td>4</td>\n",
       "      <td>166</td>\n",
       "      <td>82</td>\n",
       "      <td>11</td>\n",
       "      <td>37</td>\n",
       "      <td>22</td>\n",
       "      <td>67</td>\n",
       "      <td>154</td>\n",
       "    </tr>\n",
       "    <tr>\n",
       "      <td>2020-03-13</td>\n",
       "      <td>34</td>\n",
       "      <td>49</td>\n",
       "      <td>7</td>\n",
       "      <td>5</td>\n",
       "      <td>207</td>\n",
       "      <td>105</td>\n",
       "      <td>12</td>\n",
       "      <td>43</td>\n",
       "      <td>30</td>\n",
       "      <td>78</td>\n",
       "      <td>180</td>\n",
       "    </tr>\n",
       "  </tbody>\n",
       "</table>\n",
       "</div>"
      ],
      "text/plain": [
       "Fylke       Agder  Innlandet  Møre og Romsdal  Nordland  Oslo  Rogaland  \\\n",
       "variable                                                                  \n",
       "2020-03-09     19         16                5         3    51        33   \n",
       "2020-03-10     19         16                5         3    51        33   \n",
       "2020-03-11     20         23                7         3   123        71   \n",
       "2020-03-12     32         40                6         4   166        82   \n",
       "2020-03-13     34         49                7         5   207       105   \n",
       "\n",
       "Fylke       Troms og Finnmark  Trøndelag  Vestfold og Telemark  Vestland  \\\n",
       "variable                                                                   \n",
       "2020-03-09                  6         22                     5        31   \n",
       "2020-03-10                  6         22                     5        31   \n",
       "2020-03-11                  7         25                    15        41   \n",
       "2020-03-12                 11         37                    22        67   \n",
       "2020-03-13                 12         43                    30        78   \n",
       "\n",
       "Fylke       Viken  \n",
       "variable           \n",
       "2020-03-09     86  \n",
       "2020-03-10     86  \n",
       "2020-03-11    124  \n",
       "2020-03-12    154  \n",
       "2020-03-13    180  "
      ]
     },
     "execution_count": 394,
     "metadata": {},
     "output_type": "execute_result"
    }
   ],
   "source": [
    "df = data.melt(id_vars=['Fylke']).copy()\n",
    "df['variable'] = pd.to_datetime(df['variable'], errors='coerce')\n",
    "df = df.groupby([\"Fylke\", pd.Grouper(key=\"variable\", freq=\"d\")]).max().reset_index()\n",
    "df = df.pivot(index=\"variable\", columns=\"Fylke\", values=\"value\")\n",
    "df.head()"
   ]
  },
  {
   "cell_type": "code",
   "execution_count": 395,
   "metadata": {},
   "outputs": [
    {
     "data": {
      "image/png": "[encoded data removed]",
      "text/plain": [
       "<Figure size 3200x2400 with 12 Axes>"
      ]
     },
     "metadata": {
      "needs_background": "light"
     },
     "output_type": "display_data"
    }
   ],
   "source": [
    "fig = plt.figure(figsize=(16,12), dpi=200, constrained_layout=True)\n",
    "\n",
    "axs = fig.subplots(nrows=4, ncols=3)\n",
    "\n",
    "for i in range(len(df.columns)):\n",
    "    axs.flat[i].plot(df.index, df.iloc[:,i], color='black')\n",
    "    axs.flat[i].get_xaxis().set_ticks([])\n",
    "    axs.flat[i].get_yaxis().set_ticks([])\n",
    "    axs.flat[i].annotate(df.iloc[:,i].name, (0.05, 0.8),xycoords='axes fraction', va='center', ha='left')\n",
    "    \n",
    "fig.savefig('fylker_matrix.png')"
   ]
  },
  {
   "cell_type": "code",
   "execution_count": 396,
   "metadata": {},
   "outputs": [
    {
     "data": {
      "text/html": [
       "<div>\n",
       "<style scoped>\n",
       "    .dataframe tbody tr th:only-of-type {\n",
       "        vertical-align: middle;\n",
       "    }\n",
       "\n",
       "    .dataframe tbody tr th {\n",
       "        vertical-align: top;\n",
       "    }\n",
       "\n",
       "    .dataframe thead th {\n",
       "        text-align: right;\n",
       "    }\n",
       "</style>\n",
       "<table border=\"1\" class=\"dataframe\">\n",
       "  <thead>\n",
       "    <tr style=\"text-align: right;\">\n",
       "      <th></th>\n",
       "      <th>Fylke</th>\n",
       "      <th>variable</th>\n",
       "      <th>0</th>\n",
       "    </tr>\n",
       "  </thead>\n",
       "  <tbody>\n",
       "    <tr>\n",
       "      <td>0</td>\n",
       "      <td>Agder</td>\n",
       "      <td>2020-03-09</td>\n",
       "      <td>19</td>\n",
       "    </tr>\n",
       "    <tr>\n",
       "      <td>1</td>\n",
       "      <td>Agder</td>\n",
       "      <td>2020-03-10</td>\n",
       "      <td>19</td>\n",
       "    </tr>\n",
       "    <tr>\n",
       "      <td>2</td>\n",
       "      <td>Agder</td>\n",
       "      <td>2020-03-11</td>\n",
       "      <td>20</td>\n",
       "    </tr>\n",
       "    <tr>\n",
       "      <td>3</td>\n",
       "      <td>Agder</td>\n",
       "      <td>2020-03-12</td>\n",
       "      <td>32</td>\n",
       "    </tr>\n",
       "    <tr>\n",
       "      <td>4</td>\n",
       "      <td>Agder</td>\n",
       "      <td>2020-03-13</td>\n",
       "      <td>34</td>\n",
       "    </tr>\n",
       "  </tbody>\n",
       "</table>\n",
       "</div>"
      ],
      "text/plain": [
       "   Fylke   variable   0\n",
       "0  Agder 2020-03-09  19\n",
       "1  Agder 2020-03-10  19\n",
       "2  Agder 2020-03-11  20\n",
       "3  Agder 2020-03-12  32\n",
       "4  Agder 2020-03-13  34"
      ]
     },
     "execution_count": 396,
     "metadata": {},
     "output_type": "execute_result"
    }
   ],
   "source": [
    "unstacked = df.unstack().reset_index()\n",
    "\n",
    "unstacked = unstacked[pd.to_datetime(unstacked[\"variable\"]) >= pd.to_datetime(\"2020-02-25\")]\n",
    "\n",
    "unstacked.head()"
   ]
  },
  {
   "cell_type": "code",
   "execution_count": 397,
   "metadata": {},
   "outputs": [
    {
     "data": {
      "application/vnd.plotly.v1+json": {
       "config": {
        "plotlyServerURL": "https://plot.ly"
       },
       "data": [
        {
         "hoverlabel": {
          "namelength": 0
         },
         "hovertemplate": "Fylke=Agder<br>variable=%{x}<br>0=%{y}",
         "legendgroup": "Agder",
         "marker": {
          "color": "#636efa",
          "symbol": "circle"
         },
         "mode": "markers+lines",
         "name": "Agder",
         "showlegend": true,
         "type": "scatter",
         "x": [
          "2020-03-09T00:00:00",
          "2020-03-10T00:00:00",
          "2020-03-11T00:00:00",
          "2020-03-12T00:00:00",
          "2020-03-13T00:00:00",
          "2020-03-14T00:00:00",
          "2020-03-15T00:00:00",
          "2020-03-16T00:00:00",
          "2020-03-17T00:00:00",
          "2020-03-18T00:00:00",
          "2020-03-19T00:00:00",
          "2020-03-20T00:00:00",
          "2020-03-21T00:00:00"
         ],
         "xaxis": "x",
         "y": [
          19,
          19,
          20,
          32,
          34,
          52,
          55,
          67,
          67,
          67,
          75,
          79,
          82
         ],
         "yaxis": "y"
        },
        {
         "hoverlabel": {
          "namelength": 0
         },
         "hovertemplate": "Fylke=Innlandet<br>variable=%{x}<br>0=%{y}",
         "legendgroup": "Innlandet",
         "marker": {
          "color": "#EF553B",
          "symbol": "circle"
         },
         "mode": "markers+lines",
         "name": "Innlandet",
         "showlegend": true,
         "type": "scatter",
         "x": [
          "2020-03-09T00:00:00",
          "2020-03-10T00:00:00",
          "2020-03-11T00:00:00",
          "2020-03-12T00:00:00",
          "2020-03-13T00:00:00",
          "2020-03-14T00:00:00",
          "2020-03-15T00:00:00",
          "2020-03-16T00:00:00",
          "2020-03-17T00:00:00",
          "2020-03-18T00:00:00",
          "2020-03-19T00:00:00",
          "2020-03-20T00:00:00",
          "2020-03-21T00:00:00"
         ],
         "xaxis": "x",
         "y": [
          16,
          16,
          23,
          40,
          49,
          57,
          72,
          81,
          88,
          97,
          105,
          115,
          125
         ],
         "yaxis": "y"
        },
        {
         "hoverlabel": {
          "namelength": 0
         },
         "hovertemplate": "Fylke=Møre og Romsdal<br>variable=%{x}<br>0=%{y}",
         "legendgroup": "Møre og Romsdal",
         "marker": {
          "color": "#00cc96",
          "symbol": "circle"
         },
         "mode": "markers+lines",
         "name": "Møre og Romsdal",
         "showlegend": true,
         "type": "scatter",
         "x": [
          "2020-03-09T00:00:00",
          "2020-03-10T00:00:00",
          "2020-03-11T00:00:00",
          "2020-03-12T00:00:00",
          "2020-03-13T00:00:00",
          "2020-03-14T00:00:00",
          "2020-03-15T00:00:00",
          "2020-03-16T00:00:00",
          "2020-03-17T00:00:00",
          "2020-03-18T00:00:00",
          "2020-03-19T00:00:00",
          "2020-03-20T00:00:00",
          "2020-03-21T00:00:00"
         ],
         "xaxis": "x",
         "y": [
          5,
          5,
          7,
          6,
          7,
          16,
          20,
          20,
          20,
          20,
          25,
          29,
          32
         ],
         "yaxis": "y"
        },
        {
         "hoverlabel": {
          "namelength": 0
         },
         "hovertemplate": "Fylke=Nordland<br>variable=%{x}<br>0=%{y}",
         "legendgroup": "Nordland",
         "marker": {
          "color": "#ab63fa",
          "symbol": "circle"
         },
         "mode": "markers+lines",
         "name": "Nordland",
         "showlegend": true,
         "type": "scatter",
         "x": [
          "2020-03-09T00:00:00",
          "2020-03-10T00:00:00",
          "2020-03-11T00:00:00",
          "2020-03-12T00:00:00",
          "2020-03-13T00:00:00",
          "2020-03-14T00:00:00",
          "2020-03-15T00:00:00",
          "2020-03-16T00:00:00",
          "2020-03-17T00:00:00",
          "2020-03-18T00:00:00",
          "2020-03-19T00:00:00",
          "2020-03-20T00:00:00",
          "2020-03-21T00:00:00"
         ],
         "xaxis": "x",
         "y": [
          3,
          3,
          3,
          4,
          5,
          8,
          8,
          11,
          11,
          12,
          13,
          17,
          17
         ],
         "yaxis": "y"
        },
        {
         "hoverlabel": {
          "namelength": 0
         },
         "hovertemplate": "Fylke=Oslo<br>variable=%{x}<br>0=%{y}",
         "legendgroup": "Oslo",
         "marker": {
          "color": "#FFA15A",
          "symbol": "circle"
         },
         "mode": "markers+lines",
         "name": "Oslo",
         "showlegend": true,
         "type": "scatter",
         "x": [
          "2020-03-09T00:00:00",
          "2020-03-10T00:00:00",
          "2020-03-11T00:00:00",
          "2020-03-12T00:00:00",
          "2020-03-13T00:00:00",
          "2020-03-14T00:00:00",
          "2020-03-15T00:00:00",
          "2020-03-16T00:00:00",
          "2020-03-17T00:00:00",
          "2020-03-18T00:00:00",
          "2020-03-19T00:00:00",
          "2020-03-20T00:00:00",
          "2020-03-21T00:00:00"
         ],
         "xaxis": "x",
         "y": [
          51,
          51,
          123,
          166,
          207,
          222,
          281,
          292,
          329,
          348,
          392,
          419,
          448
         ],
         "yaxis": "y"
        },
        {
         "hoverlabel": {
          "namelength": 0
         },
         "hovertemplate": "Fylke=Rogaland<br>variable=%{x}<br>0=%{y}",
         "legendgroup": "Rogaland",
         "marker": {
          "color": "#19d3f3",
          "symbol": "circle"
         },
         "mode": "markers+lines",
         "name": "Rogaland",
         "showlegend": true,
         "type": "scatter",
         "x": [
          "2020-03-09T00:00:00",
          "2020-03-10T00:00:00",
          "2020-03-11T00:00:00",
          "2020-03-12T00:00:00",
          "2020-03-13T00:00:00",
          "2020-03-14T00:00:00",
          "2020-03-15T00:00:00",
          "2020-03-16T00:00:00",
          "2020-03-17T00:00:00",
          "2020-03-18T00:00:00",
          "2020-03-19T00:00:00",
          "2020-03-20T00:00:00",
          "2020-03-21T00:00:00"
         ],
         "xaxis": "x",
         "y": [
          33,
          33,
          71,
          82,
          105,
          119,
          127,
          131,
          150,
          161,
          176,
          180,
          199
         ],
         "yaxis": "y"
        },
        {
         "hoverlabel": {
          "namelength": 0
         },
         "hovertemplate": "Fylke=Troms og Finnmark<br>variable=%{x}<br>0=%{y}",
         "legendgroup": "Troms og Finnmark",
         "marker": {
          "color": "#FF6692",
          "symbol": "circle"
         },
         "mode": "markers+lines",
         "name": "Troms og Finnmark",
         "showlegend": true,
         "type": "scatter",
         "x": [
          "2020-03-09T00:00:00",
          "2020-03-10T00:00:00",
          "2020-03-11T00:00:00",
          "2020-03-12T00:00:00",
          "2020-03-13T00:00:00",
          "2020-03-14T00:00:00",
          "2020-03-15T00:00:00",
          "2020-03-16T00:00:00",
          "2020-03-17T00:00:00",
          "2020-03-18T00:00:00",
          "2020-03-19T00:00:00",
          "2020-03-20T00:00:00",
          "2020-03-21T00:00:00"
         ],
         "xaxis": "x",
         "y": [
          6,
          6,
          7,
          11,
          12,
          16,
          20,
          21,
          24,
          28,
          28,
          32,
          37
         ],
         "yaxis": "y"
        },
        {
         "hoverlabel": {
          "namelength": 0
         },
         "hovertemplate": "Fylke=Trøndelag<br>variable=%{x}<br>0=%{y}",
         "legendgroup": "Trøndelag",
         "marker": {
          "color": "#B6E880",
          "symbol": "circle"
         },
         "mode": "markers+lines",
         "name": "Trøndelag",
         "showlegend": true,
         "type": "scatter",
         "x": [
          "2020-03-09T00:00:00",
          "2020-03-10T00:00:00",
          "2020-03-11T00:00:00",
          "2020-03-12T00:00:00",
          "2020-03-13T00:00:00",
          "2020-03-14T00:00:00",
          "2020-03-15T00:00:00",
          "2020-03-16T00:00:00",
          "2020-03-17T00:00:00",
          "2020-03-18T00:00:00",
          "2020-03-19T00:00:00",
          "2020-03-20T00:00:00",
          "2020-03-21T00:00:00"
         ],
         "xaxis": "x",
         "y": [
          22,
          22,
          25,
          37,
          43,
          46,
          50,
          52,
          61,
          70,
          75,
          97,
          122
         ],
         "yaxis": "y"
        },
        {
         "hoverlabel": {
          "namelength": 0
         },
         "hovertemplate": "Fylke=Vestfold og Telemark<br>variable=%{x}<br>0=%{y}",
         "legendgroup": "Vestfold og Telemark",
         "marker": {
          "color": "#FF97FF",
          "symbol": "circle"
         },
         "mode": "markers+lines",
         "name": "Vestfold og Telemark",
         "showlegend": true,
         "type": "scatter",
         "x": [
          "2020-03-09T00:00:00",
          "2020-03-10T00:00:00",
          "2020-03-11T00:00:00",
          "2020-03-12T00:00:00",
          "2020-03-13T00:00:00",
          "2020-03-14T00:00:00",
          "2020-03-15T00:00:00",
          "2020-03-16T00:00:00",
          "2020-03-17T00:00:00",
          "2020-03-18T00:00:00",
          "2020-03-19T00:00:00",
          "2020-03-20T00:00:00",
          "2020-03-21T00:00:00"
         ],
         "xaxis": "x",
         "y": [
          5,
          5,
          15,
          22,
          30,
          39,
          48,
          53,
          59,
          63,
          65,
          72,
          81
         ],
         "yaxis": "y"
        },
        {
         "hoverlabel": {
          "namelength": 0
         },
         "hovertemplate": "Fylke=Vestland<br>variable=%{x}<br>0=%{y}",
         "legendgroup": "Vestland",
         "marker": {
          "color": "#FECB52",
          "symbol": "circle"
         },
         "mode": "markers+lines",
         "name": "Vestland",
         "showlegend": true,
         "type": "scatter",
         "x": [
          "2020-03-09T00:00:00",
          "2020-03-10T00:00:00",
          "2020-03-11T00:00:00",
          "2020-03-12T00:00:00",
          "2020-03-13T00:00:00",
          "2020-03-14T00:00:00",
          "2020-03-15T00:00:00",
          "2020-03-16T00:00:00",
          "2020-03-17T00:00:00",
          "2020-03-18T00:00:00",
          "2020-03-19T00:00:00",
          "2020-03-20T00:00:00",
          "2020-03-21T00:00:00"
         ],
         "xaxis": "x",
         "y": [
          31,
          31,
          41,
          67,
          78,
          101,
          118,
          127,
          141,
          147,
          153,
          173,
          200
         ],
         "yaxis": "y"
        },
        {
         "hoverlabel": {
          "namelength": 0
         },
         "hovertemplate": "Fylke=Viken<br>variable=%{x}<br>0=%{y}",
         "legendgroup": "Viken",
         "marker": {
          "color": "#636efa",
          "symbol": "circle"
         },
         "mode": "markers+lines",
         "name": "Viken",
         "showlegend": true,
         "type": "scatter",
         "x": [
          "2020-03-09T00:00:00",
          "2020-03-10T00:00:00",
          "2020-03-11T00:00:00",
          "2020-03-12T00:00:00",
          "2020-03-13T00:00:00",
          "2020-03-14T00:00:00",
          "2020-03-15T00:00:00",
          "2020-03-16T00:00:00",
          "2020-03-17T00:00:00",
          "2020-03-18T00:00:00",
          "2020-03-19T00:00:00",
          "2020-03-20T00:00:00",
          "2020-03-21T00:00:00"
         ],
         "xaxis": "x",
         "y": [
          86,
          86,
          124,
          154,
          180,
          231,
          278,
          314,
          358,
          410,
          445,
          529,
          583
         ],
         "yaxis": "y"
        }
       ],
       "layout": {
        "legend": {
         "title": {
          "text": "Fylke"
         },
         "tracegroupgap": 0
        },
        "margin": {
         "t": 60
        },
        "template": {
         "data": {
          "bar": [
           {
            "error_x": {
             "color": "#2a3f5f"
            },
            "error_y": {
             "color": "#2a3f5f"
            },
            "marker": {
             "line": {
              "color": "#E5ECF6",
              "width": 0.5
             }
            },
            "type": "bar"
           }
          ],
          "barpolar": [
           {
            "marker": {
             "line": {
              "color": "#E5ECF6",
              "width": 0.5
             }
            },
            "type": "barpolar"
           }
          ],
          "carpet": [
           {
            "aaxis": {
             "endlinecolor": "#2a3f5f",
             "gridcolor": "white",
             "linecolor": "white",
             "minorgridcolor": "white",
             "startlinecolor": "#2a3f5f"
            },
            "baxis": {
             "endlinecolor": "#2a3f5f",
             "gridcolor": "white",
             "linecolor": "white",
             "minorgridcolor": "white",
             "startlinecolor": "#2a3f5f"
            },
            "type": "carpet"
           }
          ],
          "choropleth": [
           {
            "colorbar": {
             "outlinewidth": 0,
             "ticks": ""
            },
            "type": "choropleth"
           }
          ],
          "contour": [
           {
            "colorbar": {
             "outlinewidth": 0,
             "ticks": ""
            },
            "colorscale": [
             [
              0,
              "#0d0887"
             ],
             [
              0.1111111111111111,
              "#46039f"
             ],
             [
              0.2222222222222222,
              "#7201a8"
             ],
             [
              0.3333333333333333,
              "#9c179e"
             ],
             [
              0.4444444444444444,
              "#bd3786"
             ],
             [
              0.5555555555555556,
              "#d8576b"
             ],
             [
              0.6666666666666666,
              "#ed7953"
             ],
             [
              0.7777777777777778,
              "#fb9f3a"
             ],
             [
              0.8888888888888888,
              "#fdca26"
             ],
             [
              1,
              "#f0f921"
             ]
            ],
            "type": "contour"
           }
          ],
          "contourcarpet": [
           {
            "colorbar": {
             "outlinewidth": 0,
             "ticks": ""
            },
            "type": "contourcarpet"
           }
          ],
          "heatmap": [
           {
            "colorbar": {
             "outlinewidth": 0,
             "ticks": ""
            },
            "colorscale": [
             [
              0,
              "#0d0887"
             ],
             [
              0.1111111111111111,
              "#46039f"
             ],
             [
              0.2222222222222222,
              "#7201a8"
             ],
             [
              0.3333333333333333,
              "#9c179e"
             ],
             [
              0.4444444444444444,
              "#bd3786"
             ],
             [
              0.5555555555555556,
              "#d8576b"
             ],
             [
              0.6666666666666666,
              "#ed7953"
             ],
             [
              0.7777777777777778,
              "#fb9f3a"
             ],
             [
              0.8888888888888888,
              "#fdca26"
             ],
             [
              1,
              "#f0f921"
             ]
            ],
            "type": "heatmap"
           }
          ],
          "heatmapgl": [
           {
            "colorbar": {
             "outlinewidth": 0,
             "ticks": ""
            },
            "colorscale": [
             [
              0,
              "#0d0887"
             ],
             [
              0.1111111111111111,
              "#46039f"
             ],
             [
              0.2222222222222222,
              "#7201a8"
             ],
             [
              0.3333333333333333,
              "#9c179e"
             ],
             [
              0.4444444444444444,
              "#bd3786"
             ],
             [
              0.5555555555555556,
              "#d8576b"
             ],
             [
              0.6666666666666666,
              "#ed7953"
             ],
             [
              0.7777777777777778,
              "#fb9f3a"
             ],
             [
              0.8888888888888888,
              "#fdca26"
             ],
             [
              1,
              "#f0f921"
             ]
            ],
            "type": "heatmapgl"
           }
          ],
          "histogram": [
           {
            "marker": {
             "colorbar": {
              "outlinewidth": 0,
              "ticks": ""
             }
            },
            "type": "histogram"
           }
          ],
          "histogram2d": [
           {
            "colorbar": {
             "outlinewidth": 0,
             "ticks": ""
            },
            "colorscale": [
             [
              0,
              "#0d0887"
             ],
             [
              0.1111111111111111,
              "#46039f"
             ],
             [
              0.2222222222222222,
              "#7201a8"
             ],
             [
              0.3333333333333333,
              "#9c179e"
             ],
             [
              0.4444444444444444,
              "#bd3786"
             ],
             [
              0.5555555555555556,
              "#d8576b"
             ],
             [
              0.6666666666666666,
              "#ed7953"
             ],
             [
              0.7777777777777778,
              "#fb9f3a"
             ],
             [
              0.8888888888888888,
              "#fdca26"
             ],
             [
              1,
              "#f0f921"
             ]
            ],
            "type": "histogram2d"
           }
          ],
          "histogram2dcontour": [
           {
            "colorbar": {
             "outlinewidth": 0,
             "ticks": ""
            },
            "colorscale": [
             [
              0,
              "#0d0887"
             ],
             [
              0.1111111111111111,
              "#46039f"
             ],
             [
              0.2222222222222222,
              "#7201a8"
             ],
             [
              0.3333333333333333,
              "#9c179e"
             ],
             [
              0.4444444444444444,
              "#bd3786"
             ],
             [
              0.5555555555555556,
              "#d8576b"
             ],
             [
              0.6666666666666666,
              "#ed7953"
             ],
             [
              0.7777777777777778,
              "#fb9f3a"
             ],
             [
              0.8888888888888888,
              "#fdca26"
             ],
             [
              1,
              "#f0f921"
             ]
            ],
            "type": "histogram2dcontour"
           }
          ],
          "mesh3d": [
           {
            "colorbar": {
             "outlinewidth": 0,
             "ticks": ""
            },
            "type": "mesh3d"
           }
          ],
          "parcoords": [
           {
            "line": {
             "colorbar": {
              "outlinewidth": 0,
              "ticks": ""
             }
            },
            "type": "parcoords"
           }
          ],
          "pie": [
           {
            "automargin": true,
            "type": "pie"
           }
          ],
          "scatter": [
           {
            "marker": {
             "colorbar": {
              "outlinewidth": 0,
              "ticks": ""
             }
            },
            "type": "scatter"
           }
          ],
          "scatter3d": [
           {
            "line": {
             "colorbar": {
              "outlinewidth": 0,
              "ticks": ""
             }
            },
            "marker": {
             "colorbar": {
              "outlinewidth": 0,
              "ticks": ""
             }
            },
            "type": "scatter3d"
           }
          ],
          "scattercarpet": [
           {
            "marker": {
             "colorbar": {
              "outlinewidth": 0,
              "ticks": ""
             }
            },
            "type": "scattercarpet"
           }
          ],
          "scattergeo": [
           {
            "marker": {
             "colorbar": {
              "outlinewidth": 0,
              "ticks": ""
             }
            },
            "type": "scattergeo"
           }
          ],
          "scattergl": [
           {
            "marker": {
             "colorbar": {
              "outlinewidth": 0,
              "ticks": ""
             }
            },
            "type": "scattergl"
           }
          ],
          "scattermapbox": [
           {
            "marker": {
             "colorbar": {
              "outlinewidth": 0,
              "ticks": ""
             }
            },
            "type": "scattermapbox"
           }
          ],
          "scatterpolar": [
           {
            "marker": {
             "colorbar": {
              "outlinewidth": 0,
              "ticks": ""
             }
            },
            "type": "scatterpolar"
           }
          ],
          "scatterpolargl": [
           {
            "marker": {
             "colorbar": {
              "outlinewidth": 0,
              "ticks": ""
             }
            },
            "type": "scatterpolargl"
           }
          ],
          "scatterternary": [
           {
            "marker": {
             "colorbar": {
              "outlinewidth": 0,
              "ticks": ""
             }
            },
            "type": "scatterternary"
           }
          ],
          "surface": [
           {
            "colorbar": {
             "outlinewidth": 0,
             "ticks": ""
            },
            "colorscale": [
             [
              0,
              "#0d0887"
             ],
             [
              0.1111111111111111,
              "#46039f"
             ],
             [
              0.2222222222222222,
              "#7201a8"
             ],
             [
              0.3333333333333333,
              "#9c179e"
             ],
             [
              0.4444444444444444,
              "#bd3786"
             ],
             [
              0.5555555555555556,
              "#d8576b"
             ],
             [
              0.6666666666666666,
              "#ed7953"
             ],
             [
              0.7777777777777778,
              "#fb9f3a"
             ],
             [
              0.8888888888888888,
              "#fdca26"
             ],
             [
              1,
              "#f0f921"
             ]
            ],
            "type": "surface"
           }
          ],
          "table": [
           {
            "cells": {
             "fill": {
              "color": "#EBF0F8"
             },
             "line": {
              "color": "white"
             }
            },
            "header": {
             "fill": {
              "color": "#C8D4E3"
             },
             "line": {
              "color": "white"
             }
            },
            "type": "table"
           }
          ]
         },
         "layout": {
          "annotationdefaults": {
           "arrowcolor": "#2a3f5f",
           "arrowhead": 0,
           "arrowwidth": 1
          },
          "coloraxis": {
           "colorbar": {
            "outlinewidth": 0,
            "ticks": ""
           }
          },
          "colorscale": {
           "diverging": [
            [
             0,
             "#8e0152"
            ],
            [
             0.1,
             "#c51b7d"
            ],
            [
             0.2,
             "#de77ae"
            ],
            [
             0.3,
             "#f1b6da"
            ],
            [
             0.4,
             "#fde0ef"
            ],
            [
             0.5,
             "#f7f7f7"
            ],
            [
             0.6,
             "#e6f5d0"
            ],
            [
             0.7,
             "#b8e186"
            ],
            [
             0.8,
             "#7fbc41"
            ],
            [
             0.9,
             "#4d9221"
            ],
            [
             1,
             "#276419"
            ]
           ],
           "sequential": [
            [
             0,
             "#0d0887"
            ],
            [
             0.1111111111111111,
             "#46039f"
            ],
            [
             0.2222222222222222,
             "#7201a8"
            ],
            [
             0.3333333333333333,
             "#9c179e"
            ],
            [
             0.4444444444444444,
             "#bd3786"
            ],
            [
             0.5555555555555556,
             "#d8576b"
            ],
            [
             0.6666666666666666,
             "#ed7953"
            ],
            [
             0.7777777777777778,
             "#fb9f3a"
            ],
            [
             0.8888888888888888,
             "#fdca26"
            ],
            [
             1,
             "#f0f921"
            ]
           ],
           "sequentialminus": [
            [
             0,
             "#0d0887"
            ],
            [
             0.1111111111111111,
             "#46039f"
            ],
            [
             0.2222222222222222,
             "#7201a8"
            ],
            [
             0.3333333333333333,
             "#9c179e"
            ],
            [
             0.4444444444444444,
             "#bd3786"
            ],
            [
             0.5555555555555556,
             "#d8576b"
            ],
            [
             0.6666666666666666,
             "#ed7953"
            ],
            [
             0.7777777777777778,
             "#fb9f3a"
            ],
            [
             0.8888888888888888,
             "#fdca26"
            ],
            [
             1,
             "#f0f921"
            ]
           ]
          },
          "colorway": [
           "#636efa",
           "#EF553B",
           "#00cc96",
           "#ab63fa",
           "#FFA15A",
           "#19d3f3",
           "#FF6692",
           "#B6E880",
           "#FF97FF",
           "#FECB52"
          ],
          "font": {
           "color": "#2a3f5f"
          },
          "geo": {
           "bgcolor": "white",
           "lakecolor": "white",
           "landcolor": "#E5ECF6",
           "showlakes": true,
           "showland": true,
           "subunitcolor": "white"
          },
          "hoverlabel": {
           "align": "left"
          },
          "hovermode": "closest",
          "mapbox": {
           "style": "light"
          },
          "paper_bgcolor": "white",
          "plot_bgcolor": "#E5ECF6",
          "polar": {
           "angularaxis": {
            "gridcolor": "white",
            "linecolor": "white",
            "ticks": ""
           },
           "bgcolor": "#E5ECF6",
           "radialaxis": {
            "gridcolor": "white",
            "linecolor": "white",
            "ticks": ""
           }
          },
          "scene": {
           "xaxis": {
            "backgroundcolor": "#E5ECF6",
            "gridcolor": "white",
            "gridwidth": 2,
            "linecolor": "white",
            "showbackground": true,
            "ticks": "",
            "zerolinecolor": "white"
           },
           "yaxis": {
            "backgroundcolor": "#E5ECF6",
            "gridcolor": "white",
            "gridwidth": 2,
            "linecolor": "white",
            "showbackground": true,
            "ticks": "",
            "zerolinecolor": "white"
           },
           "zaxis": {
            "backgroundcolor": "#E5ECF6",
            "gridcolor": "white",
            "gridwidth": 2,
            "linecolor": "white",
            "showbackground": true,
            "ticks": "",
            "zerolinecolor": "white"
           }
          },
          "shapedefaults": {
           "line": {
            "color": "#2a3f5f"
           }
          },
          "ternary": {
           "aaxis": {
            "gridcolor": "white",
            "linecolor": "white",
            "ticks": ""
           },
           "baxis": {
            "gridcolor": "white",
            "linecolor": "white",
            "ticks": ""
           },
           "bgcolor": "#E5ECF6",
           "caxis": {
            "gridcolor": "white",
            "linecolor": "white",
            "ticks": ""
           }
          },
          "title": {
           "x": 0.05
          },
          "xaxis": {
           "automargin": true,
           "gridcolor": "white",
           "linecolor": "white",
           "ticks": "",
           "title": {
            "standoff": 15
           },
           "zerolinecolor": "white",
           "zerolinewidth": 2
          },
          "yaxis": {
           "automargin": true,
           "gridcolor": "white",
           "linecolor": "white",
           "ticks": "",
           "title": {
            "standoff": 15
           },
           "zerolinecolor": "white",
           "zerolinewidth": 2
          }
         }
        },
        "xaxis": {
         "anchor": "y",
         "domain": [
          0,
          1
         ],
         "title": {
          "text": "variable"
         }
        },
        "yaxis": {
         "anchor": "x",
         "domain": [
          0,
          1
         ],
         "title": {
          "text": "0"
         }
        }
       }
      },
      "text/html": [
       "<div>\n",
       "        \n",
       "        \n",
       "            <div id=\"05c7daea-bac2-43dd-949f-1940ba726b61\" class=\"plotly-graph-div\" style=\"height:525px; width:100%;\"></div>\n",
       "            <script type=\"text/javascript\">\n",
       "                require([\"plotly\"], function(Plotly) {\n",
       "                    window.PLOTLYENV=window.PLOTLYENV || {};\n",
       "                    \n",
       "                if (document.getElementById(\"05c7daea-bac2-43dd-949f-1940ba726b61\")) {\n",
       "                    Plotly.newPlot(\n",
       "                        '05c7daea-bac2-43dd-949f-1940ba726b61',\n",
       "                        [{\"hoverlabel\": {\"namelength\": 0}, \"hovertemplate\": \"Fylke=Agder<br>variable=%{x}<br>0=%{y}\", \"legendgroup\": \"Agder\", \"marker\": {\"color\": \"#636efa\", \"symbol\": \"circle\"}, \"mode\": \"markers+lines\", \"name\": \"Agder\", \"showlegend\": true, \"type\": \"scatter\", \"x\": [\"2020-03-09T00:00:00\", \"2020-03-10T00:00:00\", \"2020-03-11T00:00:00\", \"2020-03-12T00:00:00\", \"2020-03-13T00:00:00\", \"2020-03-14T00:00:00\", \"2020-03-15T00:00:00\", \"2020-03-16T00:00:00\", \"2020-03-17T00:00:00\", \"2020-03-18T00:00:00\", \"2020-03-19T00:00:00\", \"2020-03-20T00:00:00\", \"2020-03-21T00:00:00\"], \"xaxis\": \"x\", \"y\": [19, 19, 20, 32, 34, 52, 55, 67, 67, 67, 75, 79, 82], \"yaxis\": \"y\"}, {\"hoverlabel\": {\"namelength\": 0}, \"hovertemplate\": \"Fylke=Innlandet<br>variable=%{x}<br>0=%{y}\", \"legendgroup\": \"Innlandet\", \"marker\": {\"color\": \"#EF553B\", \"symbol\": \"circle\"}, \"mode\": \"markers+lines\", \"name\": \"Innlandet\", \"showlegend\": true, \"type\": \"scatter\", \"x\": [\"2020-03-09T00:00:00\", \"2020-03-10T00:00:00\", \"2020-03-11T00:00:00\", \"2020-03-12T00:00:00\", \"2020-03-13T00:00:00\", \"2020-03-14T00:00:00\", \"2020-03-15T00:00:00\", \"2020-03-16T00:00:00\", \"2020-03-17T00:00:00\", \"2020-03-18T00:00:00\", \"2020-03-19T00:00:00\", \"2020-03-20T00:00:00\", \"2020-03-21T00:00:00\"], \"xaxis\": \"x\", \"y\": [16, 16, 23, 40, 49, 57, 72, 81, 88, 97, 105, 115, 125], \"yaxis\": \"y\"}, {\"hoverlabel\": {\"namelength\": 0}, \"hovertemplate\": \"Fylke=M\\u00f8re og Romsdal<br>variable=%{x}<br>0=%{y}\", \"legendgroup\": \"M\\u00f8re og Romsdal\", \"marker\": {\"color\": \"#00cc96\", \"symbol\": \"circle\"}, \"mode\": \"markers+lines\", \"name\": \"M\\u00f8re og Romsdal\", \"showlegend\": true, \"type\": \"scatter\", \"x\": [\"2020-03-09T00:00:00\", \"2020-03-10T00:00:00\", \"2020-03-11T00:00:00\", \"2020-03-12T00:00:00\", \"2020-03-13T00:00:00\", \"2020-03-14T00:00:00\", \"2020-03-15T00:00:00\", \"2020-03-16T00:00:00\", \"2020-03-17T00:00:00\", \"2020-03-18T00:00:00\", \"2020-03-19T00:00:00\", \"2020-03-20T00:00:00\", \"2020-03-21T00:00:00\"], \"xaxis\": \"x\", \"y\": [5, 5, 7, 6, 7, 16, 20, 20, 20, 20, 25, 29, 32], \"yaxis\": \"y\"}, {\"hoverlabel\": {\"namelength\": 0}, \"hovertemplate\": \"Fylke=Nordland<br>variable=%{x}<br>0=%{y}\", \"legendgroup\": \"Nordland\", \"marker\": {\"color\": \"#ab63fa\", \"symbol\": \"circle\"}, \"mode\": \"markers+lines\", \"name\": \"Nordland\", \"showlegend\": true, \"type\": \"scatter\", \"x\": [\"2020-03-09T00:00:00\", \"2020-03-10T00:00:00\", \"2020-03-11T00:00:00\", \"2020-03-12T00:00:00\", \"2020-03-13T00:00:00\", \"2020-03-14T00:00:00\", \"2020-03-15T00:00:00\", \"2020-03-16T00:00:00\", \"2020-03-17T00:00:00\", \"2020-03-18T00:00:00\", \"2020-03-19T00:00:00\", \"2020-03-20T00:00:00\", \"2020-03-21T00:00:00\"], \"xaxis\": \"x\", \"y\": [3, 3, 3, 4, 5, 8, 8, 11, 11, 12, 13, 17, 17], \"yaxis\": \"y\"}, {\"hoverlabel\": {\"namelength\": 0}, \"hovertemplate\": \"Fylke=Oslo<br>variable=%{x}<br>0=%{y}\", \"legendgroup\": \"Oslo\", \"marker\": {\"color\": \"#FFA15A\", \"symbol\": \"circle\"}, \"mode\": \"markers+lines\", \"name\": \"Oslo\", \"showlegend\": true, \"type\": \"scatter\", \"x\": [\"2020-03-09T00:00:00\", \"2020-03-10T00:00:00\", \"2020-03-11T00:00:00\", \"2020-03-12T00:00:00\", \"2020-03-13T00:00:00\", \"2020-03-14T00:00:00\", \"2020-03-15T00:00:00\", \"2020-03-16T00:00:00\", \"2020-03-17T00:00:00\", \"2020-03-18T00:00:00\", \"2020-03-19T00:00:00\", \"2020-03-20T00:00:00\", \"2020-03-21T00:00:00\"], \"xaxis\": \"x\", \"y\": [51, 51, 123, 166, 207, 222, 281, 292, 329, 348, 392, 419, 448], \"yaxis\": \"y\"}, {\"hoverlabel\": {\"namelength\": 0}, \"hovertemplate\": \"Fylke=Rogaland<br>variable=%{x}<br>0=%{y}\", \"legendgroup\": \"Rogaland\", \"marker\": {\"color\": \"#19d3f3\", \"symbol\": \"circle\"}, \"mode\": \"markers+lines\", \"name\": \"Rogaland\", \"showlegend\": true, \"type\": \"scatter\", \"x\": [\"2020-03-09T00:00:00\", \"2020-03-10T00:00:00\", \"2020-03-11T00:00:00\", \"2020-03-12T00:00:00\", \"2020-03-13T00:00:00\", \"2020-03-14T00:00:00\", \"2020-03-15T00:00:00\", \"2020-03-16T00:00:00\", \"2020-03-17T00:00:00\", \"2020-03-18T00:00:00\", \"2020-03-19T00:00:00\", \"2020-03-20T00:00:00\", \"2020-03-21T00:00:00\"], \"xaxis\": \"x\", \"y\": [33, 33, 71, 82, 105, 119, 127, 131, 150, 161, 176, 180, 199], \"yaxis\": \"y\"}, {\"hoverlabel\": {\"namelength\": 0}, \"hovertemplate\": \"Fylke=Troms og Finnmark<br>variable=%{x}<br>0=%{y}\", \"legendgroup\": \"Troms og Finnmark\", \"marker\": {\"color\": \"#FF6692\", \"symbol\": \"circle\"}, \"mode\": \"markers+lines\", \"name\": \"Troms og Finnmark\", \"showlegend\": true, \"type\": \"scatter\", \"x\": [\"2020-03-09T00:00:00\", \"2020-03-10T00:00:00\", \"2020-03-11T00:00:00\", \"2020-03-12T00:00:00\", \"2020-03-13T00:00:00\", \"2020-03-14T00:00:00\", \"2020-03-15T00:00:00\", \"2020-03-16T00:00:00\", \"2020-03-17T00:00:00\", \"2020-03-18T00:00:00\", \"2020-03-19T00:00:00\", \"2020-03-20T00:00:00\", \"2020-03-21T00:00:00\"], \"xaxis\": \"x\", \"y\": [6, 6, 7, 11, 12, 16, 20, 21, 24, 28, 28, 32, 37], \"yaxis\": \"y\"}, {\"hoverlabel\": {\"namelength\": 0}, \"hovertemplate\": \"Fylke=Tr\\u00f8ndelag<br>variable=%{x}<br>0=%{y}\", \"legendgroup\": \"Tr\\u00f8ndelag\", \"marker\": {\"color\": \"#B6E880\", \"symbol\": \"circle\"}, \"mode\": \"markers+lines\", \"name\": \"Tr\\u00f8ndelag\", \"showlegend\": true, \"type\": \"scatter\", \"x\": [\"2020-03-09T00:00:00\", \"2020-03-10T00:00:00\", \"2020-03-11T00:00:00\", \"2020-03-12T00:00:00\", \"2020-03-13T00:00:00\", \"2020-03-14T00:00:00\", \"2020-03-15T00:00:00\", \"2020-03-16T00:00:00\", \"2020-03-17T00:00:00\", \"2020-03-18T00:00:00\", \"2020-03-19T00:00:00\", \"2020-03-20T00:00:00\", \"2020-03-21T00:00:00\"], \"xaxis\": \"x\", \"y\": [22, 22, 25, 37, 43, 46, 50, 52, 61, 70, 75, 97, 122], \"yaxis\": \"y\"}, {\"hoverlabel\": {\"namelength\": 0}, \"hovertemplate\": \"Fylke=Vestfold og Telemark<br>variable=%{x}<br>0=%{y}\", \"legendgroup\": \"Vestfold og Telemark\", \"marker\": {\"color\": \"#FF97FF\", \"symbol\": \"circle\"}, \"mode\": \"markers+lines\", \"name\": \"Vestfold og Telemark\", \"showlegend\": true, \"type\": \"scatter\", \"x\": [\"2020-03-09T00:00:00\", \"2020-03-10T00:00:00\", \"2020-03-11T00:00:00\", \"2020-03-12T00:00:00\", \"2020-03-13T00:00:00\", \"2020-03-14T00:00:00\", \"2020-03-15T00:00:00\", \"2020-03-16T00:00:00\", \"2020-03-17T00:00:00\", \"2020-03-18T00:00:00\", \"2020-03-19T00:00:00\", \"2020-03-20T00:00:00\", \"2020-03-21T00:00:00\"], \"xaxis\": \"x\", \"y\": [5, 5, 15, 22, 30, 39, 48, 53, 59, 63, 65, 72, 81], \"yaxis\": \"y\"}, {\"hoverlabel\": {\"namelength\": 0}, \"hovertemplate\": \"Fylke=Vestland<br>variable=%{x}<br>0=%{y}\", \"legendgroup\": \"Vestland\", \"marker\": {\"color\": \"#FECB52\", \"symbol\": \"circle\"}, \"mode\": \"markers+lines\", \"name\": \"Vestland\", \"showlegend\": true, \"type\": \"scatter\", \"x\": [\"2020-03-09T00:00:00\", \"2020-03-10T00:00:00\", \"2020-03-11T00:00:00\", \"2020-03-12T00:00:00\", \"2020-03-13T00:00:00\", \"2020-03-14T00:00:00\", \"2020-03-15T00:00:00\", \"2020-03-16T00:00:00\", \"2020-03-17T00:00:00\", \"2020-03-18T00:00:00\", \"2020-03-19T00:00:00\", \"2020-03-20T00:00:00\", \"2020-03-21T00:00:00\"], \"xaxis\": \"x\", \"y\": [31, 31, 41, 67, 78, 101, 118, 127, 141, 147, 153, 173, 200], \"yaxis\": \"y\"}, {\"hoverlabel\": {\"namelength\": 0}, \"hovertemplate\": \"Fylke=Viken<br>variable=%{x}<br>0=%{y}\", \"legendgroup\": \"Viken\", \"marker\": {\"color\": \"#636efa\", \"symbol\": \"circle\"}, \"mode\": \"markers+lines\", \"name\": \"Viken\", \"showlegend\": true, \"type\": \"scatter\", \"x\": [\"2020-03-09T00:00:00\", \"2020-03-10T00:00:00\", \"2020-03-11T00:00:00\", \"2020-03-12T00:00:00\", \"2020-03-13T00:00:00\", \"2020-03-14T00:00:00\", \"2020-03-15T00:00:00\", \"2020-03-16T00:00:00\", \"2020-03-17T00:00:00\", \"2020-03-18T00:00:00\", \"2020-03-19T00:00:00\", \"2020-03-20T00:00:00\", \"2020-03-21T00:00:00\"], \"xaxis\": \"x\", \"y\": [86, 86, 124, 154, 180, 231, 278, 314, 358, 410, 445, 529, 583], \"yaxis\": \"y\"}],\n",
       "                        {\"legend\": {\"title\": {\"text\": \"Fylke\"}, \"tracegroupgap\": 0}, \"margin\": {\"t\": 60}, \"template\": {\"data\": {\"bar\": [{\"error_x\": {\"color\": \"#2a3f5f\"}, \"error_y\": {\"color\": \"#2a3f5f\"}, \"marker\": {\"line\": {\"color\": \"#E5ECF6\", \"width\": 0.5}}, \"type\": \"bar\"}], \"barpolar\": [{\"marker\": {\"line\": {\"color\": \"#E5ECF6\", \"width\": 0.5}}, \"type\": \"barpolar\"}], \"carpet\": [{\"aaxis\": {\"endlinecolor\": \"#2a3f5f\", \"gridcolor\": \"white\", \"linecolor\": \"white\", \"minorgridcolor\": \"white\", \"startlinecolor\": \"#2a3f5f\"}, \"baxis\": {\"endlinecolor\": \"#2a3f5f\", \"gridcolor\": \"white\", \"linecolor\": \"white\", \"minorgridcolor\": \"white\", \"startlinecolor\": \"#2a3f5f\"}, \"type\": \"carpet\"}], \"choropleth\": [{\"colorbar\": {\"outlinewidth\": 0, \"ticks\": \"\"}, \"type\": \"choropleth\"}], \"contour\": [{\"colorbar\": {\"outlinewidth\": 0, \"ticks\": \"\"}, \"colorscale\": [[0.0, \"#0d0887\"], [0.1111111111111111, \"#46039f\"], [0.2222222222222222, \"#7201a8\"], [0.3333333333333333, \"#9c179e\"], [0.4444444444444444, \"#bd3786\"], [0.5555555555555556, \"#d8576b\"], [0.6666666666666666, \"#ed7953\"], [0.7777777777777778, \"#fb9f3a\"], [0.8888888888888888, \"#fdca26\"], [1.0, \"#f0f921\"]], \"type\": \"contour\"}], \"contourcarpet\": [{\"colorbar\": {\"outlinewidth\": 0, \"ticks\": \"\"}, \"type\": \"contourcarpet\"}], \"heatmap\": [{\"colorbar\": {\"outlinewidth\": 0, \"ticks\": \"\"}, \"colorscale\": [[0.0, \"#0d0887\"], [0.1111111111111111, \"#46039f\"], [0.2222222222222222, \"#7201a8\"], [0.3333333333333333, \"#9c179e\"], [0.4444444444444444, \"#bd3786\"], [0.5555555555555556, \"#d8576b\"], [0.6666666666666666, \"#ed7953\"], [0.7777777777777778, \"#fb9f3a\"], [0.8888888888888888, \"#fdca26\"], [1.0, \"#f0f921\"]], \"type\": \"heatmap\"}], \"heatmapgl\": [{\"colorbar\": {\"outlinewidth\": 0, \"ticks\": \"\"}, \"colorscale\": [[0.0, \"#0d0887\"], [0.1111111111111111, \"#46039f\"], [0.2222222222222222, \"#7201a8\"], [0.3333333333333333, \"#9c179e\"], [0.4444444444444444, \"#bd3786\"], [0.5555555555555556, \"#d8576b\"], [0.6666666666666666, \"#ed7953\"], [0.7777777777777778, \"#fb9f3a\"], [0.8888888888888888, \"#fdca26\"], [1.0, \"#f0f921\"]], \"type\": \"heatmapgl\"}], \"histogram\": [{\"marker\": {\"colorbar\": {\"outlinewidth\": 0, \"ticks\": \"\"}}, \"type\": \"histogram\"}], \"histogram2d\": [{\"colorbar\": {\"outlinewidth\": 0, \"ticks\": \"\"}, \"colorscale\": [[0.0, \"#0d0887\"], [0.1111111111111111, \"#46039f\"], [0.2222222222222222, \"#7201a8\"], [0.3333333333333333, \"#9c179e\"], [0.4444444444444444, \"#bd3786\"], [0.5555555555555556, \"#d8576b\"], [0.6666666666666666, \"#ed7953\"], [0.7777777777777778, \"#fb9f3a\"], [0.8888888888888888, \"#fdca26\"], [1.0, \"#f0f921\"]], \"type\": \"histogram2d\"}], \"histogram2dcontour\": [{\"colorbar\": {\"outlinewidth\": 0, \"ticks\": \"\"}, \"colorscale\": [[0.0, \"#0d0887\"], [0.1111111111111111, \"#46039f\"], [0.2222222222222222, \"#7201a8\"], [0.3333333333333333, \"#9c179e\"], [0.4444444444444444, \"#bd3786\"], [0.5555555555555556, \"#d8576b\"], [0.6666666666666666, \"#ed7953\"], [0.7777777777777778, \"#fb9f3a\"], [0.8888888888888888, \"#fdca26\"], [1.0, \"#f0f921\"]], \"type\": \"histogram2dcontour\"}], \"mesh3d\": [{\"colorbar\": {\"outlinewidth\": 0, \"ticks\": \"\"}, \"type\": \"mesh3d\"}], \"parcoords\": [{\"line\": {\"colorbar\": {\"outlinewidth\": 0, \"ticks\": \"\"}}, \"type\": \"parcoords\"}], \"pie\": [{\"automargin\": true, \"type\": \"pie\"}], \"scatter\": [{\"marker\": {\"colorbar\": {\"outlinewidth\": 0, \"ticks\": \"\"}}, \"type\": \"scatter\"}], \"scatter3d\": [{\"line\": {\"colorbar\": {\"outlinewidth\": 0, \"ticks\": \"\"}}, \"marker\": {\"colorbar\": {\"outlinewidth\": 0, \"ticks\": \"\"}}, \"type\": \"scatter3d\"}], \"scattercarpet\": [{\"marker\": {\"colorbar\": {\"outlinewidth\": 0, \"ticks\": \"\"}}, \"type\": \"scattercarpet\"}], \"scattergeo\": [{\"marker\": {\"colorbar\": {\"outlinewidth\": 0, \"ticks\": \"\"}}, \"type\": \"scattergeo\"}], \"scattergl\": [{\"marker\": {\"colorbar\": {\"outlinewidth\": 0, \"ticks\": \"\"}}, \"type\": \"scattergl\"}], \"scattermapbox\": [{\"marker\": {\"colorbar\": {\"outlinewidth\": 0, \"ticks\": \"\"}}, \"type\": \"scattermapbox\"}], \"scatterpolar\": [{\"marker\": {\"colorbar\": {\"outlinewidth\": 0, \"ticks\": \"\"}}, \"type\": \"scatterpolar\"}], \"scatterpolargl\": [{\"marker\": {\"colorbar\": {\"outlinewidth\": 0, \"ticks\": \"\"}}, \"type\": \"scatterpolargl\"}], \"scatterternary\": [{\"marker\": {\"colorbar\": {\"outlinewidth\": 0, \"ticks\": \"\"}}, \"type\": \"scatterternary\"}], \"surface\": [{\"colorbar\": {\"outlinewidth\": 0, \"ticks\": \"\"}, \"colorscale\": [[0.0, \"#0d0887\"], [0.1111111111111111, \"#46039f\"], [0.2222222222222222, \"#7201a8\"], [0.3333333333333333, \"#9c179e\"], [0.4444444444444444, \"#bd3786\"], [0.5555555555555556, \"#d8576b\"], [0.6666666666666666, \"#ed7953\"], [0.7777777777777778, \"#fb9f3a\"], [0.8888888888888888, \"#fdca26\"], [1.0, \"#f0f921\"]], \"type\": \"surface\"}], \"table\": [{\"cells\": {\"fill\": {\"color\": \"#EBF0F8\"}, \"line\": {\"color\": \"white\"}}, \"header\": {\"fill\": {\"color\": \"#C8D4E3\"}, \"line\": {\"color\": \"white\"}}, \"type\": \"table\"}]}, \"layout\": {\"annotationdefaults\": {\"arrowcolor\": \"#2a3f5f\", \"arrowhead\": 0, \"arrowwidth\": 1}, \"coloraxis\": {\"colorbar\": {\"outlinewidth\": 0, \"ticks\": \"\"}}, \"colorscale\": {\"diverging\": [[0, \"#8e0152\"], [0.1, \"#c51b7d\"], [0.2, \"#de77ae\"], [0.3, \"#f1b6da\"], [0.4, \"#fde0ef\"], [0.5, \"#f7f7f7\"], [0.6, \"#e6f5d0\"], [0.7, \"#b8e186\"], [0.8, \"#7fbc41\"], [0.9, \"#4d9221\"], [1, \"#276419\"]], \"sequential\": [[0.0, \"#0d0887\"], [0.1111111111111111, \"#46039f\"], [0.2222222222222222, \"#7201a8\"], [0.3333333333333333, \"#9c179e\"], [0.4444444444444444, \"#bd3786\"], [0.5555555555555556, \"#d8576b\"], [0.6666666666666666, \"#ed7953\"], [0.7777777777777778, \"#fb9f3a\"], [0.8888888888888888, \"#fdca26\"], [1.0, \"#f0f921\"]], \"sequentialminus\": [[0.0, \"#0d0887\"], [0.1111111111111111, \"#46039f\"], [0.2222222222222222, \"#7201a8\"], [0.3333333333333333, \"#9c179e\"], [0.4444444444444444, \"#bd3786\"], [0.5555555555555556, \"#d8576b\"], [0.6666666666666666, \"#ed7953\"], [0.7777777777777778, \"#fb9f3a\"], [0.8888888888888888, \"#fdca26\"], [1.0, \"#f0f921\"]]}, \"colorway\": [\"#636efa\", \"#EF553B\", \"#00cc96\", \"#ab63fa\", \"#FFA15A\", \"#19d3f3\", \"#FF6692\", \"#B6E880\", \"#FF97FF\", \"#FECB52\"], \"font\": {\"color\": \"#2a3f5f\"}, \"geo\": {\"bgcolor\": \"white\", \"lakecolor\": \"white\", \"landcolor\": \"#E5ECF6\", \"showlakes\": true, \"showland\": true, \"subunitcolor\": \"white\"}, \"hoverlabel\": {\"align\": \"left\"}, \"hovermode\": \"closest\", \"mapbox\": {\"style\": \"light\"}, \"paper_bgcolor\": \"white\", \"plot_bgcolor\": \"#E5ECF6\", \"polar\": {\"angularaxis\": {\"gridcolor\": \"white\", \"linecolor\": \"white\", \"ticks\": \"\"}, \"bgcolor\": \"#E5ECF6\", \"radialaxis\": {\"gridcolor\": \"white\", \"linecolor\": \"white\", \"ticks\": \"\"}}, \"scene\": {\"xaxis\": {\"backgroundcolor\": \"#E5ECF6\", \"gridcolor\": \"white\", \"gridwidth\": 2, \"linecolor\": \"white\", \"showbackground\": true, \"ticks\": \"\", \"zerolinecolor\": \"white\"}, \"yaxis\": {\"backgroundcolor\": \"#E5ECF6\", \"gridcolor\": \"white\", \"gridwidth\": 2, \"linecolor\": \"white\", \"showbackground\": true, \"ticks\": \"\", \"zerolinecolor\": \"white\"}, \"zaxis\": {\"backgroundcolor\": \"#E5ECF6\", \"gridcolor\": \"white\", \"gridwidth\": 2, \"linecolor\": \"white\", \"showbackground\": true, \"ticks\": \"\", \"zerolinecolor\": \"white\"}}, \"shapedefaults\": {\"line\": {\"color\": \"#2a3f5f\"}}, \"ternary\": {\"aaxis\": {\"gridcolor\": \"white\", \"linecolor\": \"white\", \"ticks\": \"\"}, \"baxis\": {\"gridcolor\": \"white\", \"linecolor\": \"white\", \"ticks\": \"\"}, \"bgcolor\": \"#E5ECF6\", \"caxis\": {\"gridcolor\": \"white\", \"linecolor\": \"white\", \"ticks\": \"\"}}, \"title\": {\"x\": 0.05}, \"xaxis\": {\"automargin\": true, \"gridcolor\": \"white\", \"linecolor\": \"white\", \"ticks\": \"\", \"title\": {\"standoff\": 15}, \"zerolinecolor\": \"white\", \"zerolinewidth\": 2}, \"yaxis\": {\"automargin\": true, \"gridcolor\": \"white\", \"linecolor\": \"white\", \"ticks\": \"\", \"title\": {\"standoff\": 15}, \"zerolinecolor\": \"white\", \"zerolinewidth\": 2}}}, \"xaxis\": {\"anchor\": \"y\", \"domain\": [0.0, 1.0], \"title\": {\"text\": \"variable\"}}, \"yaxis\": {\"anchor\": \"x\", \"domain\": [0.0, 1.0], \"title\": {\"text\": \"0\"}}},\n",
       "                        {\"responsive\": true}\n",
       "                    ).then(function(){\n",
       "                            \n",
       "var gd = document.getElementById('05c7daea-bac2-43dd-949f-1940ba726b61');\n",
       "var x = new MutationObserver(function (mutations, observer) {{\n",
       "        var display = window.getComputedStyle(gd).display;\n",
       "        if (!display || display === 'none') {{\n",
       "            console.log([gd, 'removed!']);\n",
       "            Plotly.purge(gd);\n",
       "            observer.disconnect();\n",
       "        }}\n",
       "}});\n",
       "\n",
       "// Listen for the removal of the full notebook cells\n",
       "var notebookContainer = gd.closest('#notebook-container');\n",
       "if (notebookContainer) {{\n",
       "    x.observe(notebookContainer, {childList: true});\n",
       "}}\n",
       "\n",
       "// Listen for the clearing of the current output cell\n",
       "var outputEl = gd.closest('.output');\n",
       "if (outputEl) {{\n",
       "    x.observe(outputEl, {childList: true});\n",
       "}}\n",
       "\n",
       "                        })\n",
       "                };\n",
       "                });\n",
       "            </script>\n",
       "        </div>"
      ]
     },
     "metadata": {},
     "output_type": "display_data"
    }
   ],
   "source": [
    "import plotly.express as px\n",
    "fig = px.scatter(unstacked, x=\"variable\", y=0, color=\"Fylke\")\n",
    "fig.update_traces(mode=\"markers+lines\")\n"
   ]
  },
  {
   "cell_type": "markdown",
   "metadata": {},
   "source": [
    "# moment"
   ]
  },
  {
   "cell_type": "code",
   "execution_count": 398,
   "metadata": {},
   "outputs": [
    {
     "data": {
      "text/html": [
       "<div>\n",
       "<style scoped>\n",
       "    .dataframe tbody tr th:only-of-type {\n",
       "        vertical-align: middle;\n",
       "    }\n",
       "\n",
       "    .dataframe tbody tr th {\n",
       "        vertical-align: top;\n",
       "    }\n",
       "\n",
       "    .dataframe thead th {\n",
       "        text-align: right;\n",
       "    }\n",
       "</style>\n",
       "<table border=\"1\" class=\"dataframe\">\n",
       "  <thead>\n",
       "    <tr style=\"text-align: right;\">\n",
       "      <th></th>\n",
       "      <th>Fylke</th>\n",
       "      <th>Vekstrate</th>\n",
       "      <th>- 1 uke</th>\n",
       "    </tr>\n",
       "  </thead>\n",
       "  <tbody>\n",
       "    <tr>\n",
       "      <td>0</td>\n",
       "      <td>Agder</td>\n",
       "      <td>7.462687</td>\n",
       "      <td>23.958333</td>\n",
       "    </tr>\n",
       "    <tr>\n",
       "      <td>1</td>\n",
       "      <td>Rogaland</td>\n",
       "      <td>7.867495</td>\n",
       "      <td>18.292683</td>\n",
       "    </tr>\n",
       "    <tr>\n",
       "      <td>2</td>\n",
       "      <td>Vestfold og Telemark</td>\n",
       "      <td>9.523810</td>\n",
       "      <td>39.393939</td>\n",
       "    </tr>\n",
       "    <tr>\n",
       "      <td>3</td>\n",
       "      <td>Oslo</td>\n",
       "      <td>9.578544</td>\n",
       "      <td>23.092369</td>\n",
       "    </tr>\n",
       "    <tr>\n",
       "      <td>4</td>\n",
       "      <td>Innlandet</td>\n",
       "      <td>9.621993</td>\n",
       "      <td>26.666667</td>\n",
       "    </tr>\n",
       "  </tbody>\n",
       "</table>\n",
       "</div>"
      ],
      "text/plain": [
       "                  Fylke  Vekstrate    - 1 uke\n",
       "0                 Agder   7.462687  23.958333\n",
       "1              Rogaland   7.867495  18.292683\n",
       "2  Vestfold og Telemark   9.523810  39.393939\n",
       "3                  Oslo   9.578544  23.092369\n",
       "4             Innlandet   9.621993  26.666667"
      ]
     },
     "execution_count": 398,
     "metadata": {},
     "output_type": "execute_result"
    }
   ],
   "source": [
    "roc = df.copy()\n",
    "roc = roc.pct_change(periods=3)*100/3\n",
    "\n",
    "roc.iloc[[-1]].melt()\n",
    "roc1 = roc.iloc[[-1]].melt().rename(columns={\"value\": \"Vekstrate\"}).sort_values(by=['Vekstrate'], ascending=True)\n",
    "lastweek = roc.iloc[[-7]].melt().rename(columns={\"value\": \"- 1 uke\"})\n",
    "\n",
    "vekst = roc1.merge(lastweek, how=\"left\", on=\"Fylke\")\n",
    "vekst.head()"
   ]
  },
  {
   "cell_type": "code",
   "execution_count": 399,
   "metadata": {},
   "outputs": [
    {
     "data": {
      "text/html": [
       "<div>\n",
       "<style scoped>\n",
       "    .dataframe tbody tr th:only-of-type {\n",
       "        vertical-align: middle;\n",
       "    }\n",
       "\n",
       "    .dataframe tbody tr th {\n",
       "        vertical-align: top;\n",
       "    }\n",
       "\n",
       "    .dataframe thead th {\n",
       "        text-align: right;\n",
       "    }\n",
       "</style>\n",
       "<table border=\"1\" class=\"dataframe\">\n",
       "  <thead>\n",
       "    <tr style=\"text-align: right;\">\n",
       "      <th></th>\n",
       "      <th>Fylke</th>\n",
       "      <th>Vekstrate</th>\n",
       "      <th>- 1 uke</th>\n",
       "      <th>dtime</th>\n",
       "      <th>momentum</th>\n",
       "      <th>text</th>\n",
       "      <th>RHF</th>\n",
       "      <th>Befolkning</th>\n",
       "    </tr>\n",
       "  </thead>\n",
       "  <tbody>\n",
       "    <tr>\n",
       "      <td>0</td>\n",
       "      <td>Agder</td>\n",
       "      <td>7.46</td>\n",
       "      <td>23.96</td>\n",
       "      <td>9.630589</td>\n",
       "      <td>Avtagende</td>\n",
       "      <td>Hver 10.0 dag</td>\n",
       "      <td>Helse Sør-Øst</td>\n",
       "      <td>307231</td>\n",
       "    </tr>\n",
       "    <tr>\n",
       "      <td>1</td>\n",
       "      <td>Rogaland</td>\n",
       "      <td>7.87</td>\n",
       "      <td>18.29</td>\n",
       "      <td>9.152465</td>\n",
       "      <td>Avtagende</td>\n",
       "      <td>Hver 9.0 dag</td>\n",
       "      <td>Helse Vest</td>\n",
       "      <td>479892</td>\n",
       "    </tr>\n",
       "    <tr>\n",
       "      <td>2</td>\n",
       "      <td>Vestfold og Telemark</td>\n",
       "      <td>9.52</td>\n",
       "      <td>39.39</td>\n",
       "      <td>7.619365</td>\n",
       "      <td>Avtagende</td>\n",
       "      <td>Hver 8.0 dag</td>\n",
       "      <td>Helse Sør-Øst</td>\n",
       "      <td>419396</td>\n",
       "    </tr>\n",
       "    <tr>\n",
       "      <td>3</td>\n",
       "      <td>Oslo</td>\n",
       "      <td>9.58</td>\n",
       "      <td>23.09</td>\n",
       "      <td>7.577747</td>\n",
       "      <td>Avtagende</td>\n",
       "      <td>Hver 8.0 dag</td>\n",
       "      <td>Helse Sør-Øst</td>\n",
       "      <td>693494</td>\n",
       "    </tr>\n",
       "    <tr>\n",
       "      <td>4</td>\n",
       "      <td>Innlandet</td>\n",
       "      <td>9.62</td>\n",
       "      <td>26.67</td>\n",
       "      <td>7.545047</td>\n",
       "      <td>Avtagende</td>\n",
       "      <td>Hver 8.0 dag</td>\n",
       "      <td>Helse Sør-Øst</td>\n",
       "      <td>371385</td>\n",
       "    </tr>\n",
       "    <tr>\n",
       "      <td>5</td>\n",
       "      <td>Troms og Finnmark</td>\n",
       "      <td>10.71</td>\n",
       "      <td>27.27</td>\n",
       "      <td>6.810069</td>\n",
       "      <td>Avtagende</td>\n",
       "      <td>Hver 7.0 dag</td>\n",
       "      <td>Helse Nord</td>\n",
       "      <td>243311</td>\n",
       "    </tr>\n",
       "    <tr>\n",
       "      <td>6</td>\n",
       "      <td>Vestland</td>\n",
       "      <td>12.02</td>\n",
       "      <td>25.37</td>\n",
       "      <td>6.107527</td>\n",
       "      <td>Avtagende</td>\n",
       "      <td>Hver 6.0 dag</td>\n",
       "      <td>Helse Vest</td>\n",
       "      <td>636531</td>\n",
       "    </tr>\n",
       "    <tr>\n",
       "      <td>7</td>\n",
       "      <td>Nordland</td>\n",
       "      <td>13.89</td>\n",
       "      <td>33.33</td>\n",
       "      <td>5.329723</td>\n",
       "      <td>Avtagende</td>\n",
       "      <td>Hver 5.0 dag</td>\n",
       "      <td>Helse Nord</td>\n",
       "      <td>241235</td>\n",
       "    </tr>\n",
       "    <tr>\n",
       "      <td>8</td>\n",
       "      <td>Viken</td>\n",
       "      <td>14.07</td>\n",
       "      <td>26.84</td>\n",
       "      <td>5.267131</td>\n",
       "      <td>Avtagende</td>\n",
       "      <td>Hver 5.0 dag</td>\n",
       "      <td>Helse Sør-Øst</td>\n",
       "      <td>1241165</td>\n",
       "    </tr>\n",
       "    <tr>\n",
       "      <td>9</td>\n",
       "      <td>Møre og Romsdal</td>\n",
       "      <td>20.00</td>\n",
       "      <td>77.78</td>\n",
       "      <td>3.801784</td>\n",
       "      <td>Avtagende</td>\n",
       "      <td>Hver 4.0 dag</td>\n",
       "      <td>Helse Midt-Norge</td>\n",
       "      <td>265238</td>\n",
       "    </tr>\n",
       "    <tr>\n",
       "      <td>10</td>\n",
       "      <td>Trøndelag</td>\n",
       "      <td>24.76</td>\n",
       "      <td>11.71</td>\n",
       "      <td>3.133053</td>\n",
       "      <td>Tiltagende</td>\n",
       "      <td>Hver 3.0 dag</td>\n",
       "      <td>Helse Midt-Norge</td>\n",
       "      <td>468702</td>\n",
       "    </tr>\n",
       "  </tbody>\n",
       "</table>\n",
       "</div>"
      ],
      "text/plain": [
       "                   Fylke  Vekstrate  - 1 uke     dtime    momentum  \\\n",
       "0                  Agder       7.46    23.96  9.630589   Avtagende   \n",
       "1               Rogaland       7.87    18.29  9.152465   Avtagende   \n",
       "2   Vestfold og Telemark       9.52    39.39  7.619365   Avtagende   \n",
       "3                   Oslo       9.58    23.09  7.577747   Avtagende   \n",
       "4              Innlandet       9.62    26.67  7.545047   Avtagende   \n",
       "5      Troms og Finnmark      10.71    27.27  6.810069   Avtagende   \n",
       "6               Vestland      12.02    25.37  6.107527   Avtagende   \n",
       "7               Nordland      13.89    33.33  5.329723   Avtagende   \n",
       "8                  Viken      14.07    26.84  5.267131   Avtagende   \n",
       "9        Møre og Romsdal      20.00    77.78  3.801784   Avtagende   \n",
       "10             Trøndelag      24.76    11.71  3.133053  Tiltagende   \n",
       "\n",
       "             text               RHF  Befolkning  \n",
       "0   Hver 10.0 dag     Helse Sør-Øst      307231  \n",
       "1    Hver 9.0 dag        Helse Vest      479892  \n",
       "2    Hver 8.0 dag     Helse Sør-Øst      419396  \n",
       "3    Hver 8.0 dag     Helse Sør-Øst      693494  \n",
       "4    Hver 8.0 dag     Helse Sør-Øst      371385  \n",
       "5    Hver 7.0 dag        Helse Nord      243311  \n",
       "6    Hver 6.0 dag        Helse Vest      636531  \n",
       "7    Hver 5.0 dag        Helse Nord      241235  \n",
       "8    Hver 5.0 dag     Helse Sør-Øst     1241165  \n",
       "9    Hver 4.0 dag  Helse Midt-Norge      265238  \n",
       "10   Hver 3.0 dag  Helse Midt-Norge      468702  "
      ]
     },
     "execution_count": 399,
     "metadata": {},
     "output_type": "execute_result"
    }
   ],
   "source": [
    "vekst[\"dtime\"] = np.log(2)/np.log(1+(vekst[\"Vekstrate\"]/100))\n",
    "#vekst[\"dtime\"] = (72/(vekst[\"Vekstrate\"]))\n",
    "vekst[\"momentum\"] = vekst[\"Vekstrate\"]-vekst[\"- 1 uke\"]\n",
    "vekst[\"momentum\"] = vekst[\"momentum\"].apply(lambda x: \"Avtagende\" if x < 0 else \"Tiltagende\")\n",
    "vekst[\"text\"] = \"Hver \"+vekst[\"dtime\"].round(0).astype(str)+\" dag\"\n",
    "vekst[\"Vekstrate\"] = vekst[\"Vekstrate\"].round(2)\n",
    "vekst[\"- 1 uke\"] = vekst[\"- 1 uke\"].round(2)\n",
    "vekst = vekst.merge(fylker, how=\"left\", on=\"Fylke\")\n",
    "\n",
    "vekst"
   ]
  },
  {
   "cell_type": "code",
   "execution_count": 400,
   "metadata": {},
   "outputs": [
    {
     "data": {
      "text/plain": [
       "'https://plot.ly/~oystein.nerva/58/'"
      ]
     },
     "execution_count": 400,
     "metadata": {},
     "output_type": "execute_result"
    }
   ],
   "source": [
    "from datetime import datetime\n",
    "\n",
    "legend = [i for i in vekst[\"RHF\"].unique()]\n",
    "legend.sort()\n",
    "\n",
    "fig = px.bar(vekst, \n",
    "             x='Vekstrate', y='Fylke', \n",
    "             orientation='h',\n",
    "             category_orders={\"RHF\": legend},\n",
    "             height=500,\n",
    "             title = \"<b>Endringer i antall registrerte smittede pr fylke</b><br>Gjennomsnittlig veksttakt siste tre dager<br>Datakilde: FHI - folkehelseinstituttet. Oppdatert \" +datetime.today().strftime('%d.%m.%Y'),\n",
    "             color='RHF',\n",
    "             text=\"text\",\n",
    "             hover_name=\"Fylke\",\n",
    "             hover_data=[\"Vekstrate\"],\n",
    "             template = \"plotly_white\", \n",
    "             labels = {\"Vekstrate\": \"daglig vekst (%)\", \"- 1 uke\": \"Daglig vekst for en uke siden\", \"text\": \"Dager før dobling med dagens vekst\"},\n",
    "            )\n",
    "\n",
    "\"\"\"\n",
    "fig.add_shape(\n",
    "        # doubling time 2 days\n",
    "        dict(\n",
    "            type=\"line\",\n",
    "            x0=41.42136,\n",
    "            y0=-0.5,\n",
    "            x1=41.42136,\n",
    "            y1=21.5,\n",
    "            line=dict(\n",
    "                color=\"Black\",\n",
    "                width=1\n",
    "            )))\n",
    "fig.add_shape(\n",
    "        # doubling time 1 uke\n",
    "        dict(\n",
    "            type=\"line\",\n",
    "            x0=10.40895,\n",
    "            y0=-0.5,\n",
    "            x1=10.40895,\n",
    "            y1=21.5,\n",
    "            line=dict(\n",
    "                color=\"Black\",\n",
    "                width=1\n",
    "            )))\n",
    "\n",
    "\"\"\"\n",
    "fig.layout.coloraxis.showscale = False\n",
    "\n",
    "fig.update_layout(\n",
    "    yaxis=dict(\n",
    "        separatethousands=True,\n",
    "        categoryorder = 'total ascending',\n",
    "        title_text=\"\",\n",
    "        fixedrange=True,\n",
    "    ), xaxis=dict(fixedrange=True,\n",
    "                 title_text=\"\"),\n",
    "    title_font=dict(family=\"Helvetica\", size=18),\n",
    "        margin=dict(b=150)) #bottom margin\n",
    "\n",
    "fig.update_layout(autosize=True,\n",
    "    margin=dict(l=100, r=100, t=150, b=0),\n",
    "    paper_bgcolor='rgba(0, 0, 0, 0)'\n",
    "    #plot_bgcolor='rgb(248, 248, 255)'    \n",
    "                 )\n",
    "\n",
    "#plotly.offline.plot(fig, filename='COVID_moment_fylke.html')\n",
    "py.plot(fig, filename='COVID19_vekstmomentum_fylker.html')"
   ]
  },
  {
   "cell_type": "markdown",
   "metadata": {},
   "source": [
    "# animation"
   ]
  },
  {
   "cell_type": "code",
   "execution_count": 401,
   "metadata": {},
   "outputs": [
    {
     "data": {
      "text/html": [
       "<div>\n",
       "<style scoped>\n",
       "    .dataframe tbody tr th:only-of-type {\n",
       "        vertical-align: middle;\n",
       "    }\n",
       "\n",
       "    .dataframe tbody tr th {\n",
       "        vertical-align: top;\n",
       "    }\n",
       "\n",
       "    .dataframe thead th {\n",
       "        text-align: right;\n",
       "    }\n",
       "</style>\n",
       "<table border=\"1\" class=\"dataframe\">\n",
       "  <thead>\n",
       "    <tr style=\"text-align: right;\">\n",
       "      <th></th>\n",
       "      <th>variable</th>\n",
       "      <th>Fylke</th>\n",
       "      <th>Registrerte smittede</th>\n",
       "      <th>RHF</th>\n",
       "      <th>Befolkning</th>\n",
       "      <th>Smittede/tusen innb</th>\n",
       "      <th>txt</th>\n",
       "    </tr>\n",
       "  </thead>\n",
       "  <tbody>\n",
       "    <tr>\n",
       "      <td>0</td>\n",
       "      <td>09 Mar</td>\n",
       "      <td>Agder</td>\n",
       "      <td>19</td>\n",
       "      <td>Helse Sør-Øst</td>\n",
       "      <td>307231</td>\n",
       "      <td>0.061843</td>\n",
       "      <td>0.06</td>\n",
       "    </tr>\n",
       "    <tr>\n",
       "      <td>1</td>\n",
       "      <td>09 Mar</td>\n",
       "      <td>Vestfold og Telemark</td>\n",
       "      <td>5</td>\n",
       "      <td>Helse Sør-Øst</td>\n",
       "      <td>419396</td>\n",
       "      <td>0.011922</td>\n",
       "      <td>0.01</td>\n",
       "    </tr>\n",
       "    <tr>\n",
       "      <td>2</td>\n",
       "      <td>09 Mar</td>\n",
       "      <td>Nordland</td>\n",
       "      <td>3</td>\n",
       "      <td>Helse Nord</td>\n",
       "      <td>241235</td>\n",
       "      <td>0.012436</td>\n",
       "      <td>0.01</td>\n",
       "    </tr>\n",
       "    <tr>\n",
       "      <td>3</td>\n",
       "      <td>09 Mar</td>\n",
       "      <td>Møre og Romsdal</td>\n",
       "      <td>5</td>\n",
       "      <td>Helse Midt-Norge</td>\n",
       "      <td>265238</td>\n",
       "      <td>0.018851</td>\n",
       "      <td>0.02</td>\n",
       "    </tr>\n",
       "    <tr>\n",
       "      <td>4</td>\n",
       "      <td>09 Mar</td>\n",
       "      <td>Rogaland</td>\n",
       "      <td>33</td>\n",
       "      <td>Helse Vest</td>\n",
       "      <td>479892</td>\n",
       "      <td>0.068765</td>\n",
       "      <td>0.07</td>\n",
       "    </tr>\n",
       "  </tbody>\n",
       "</table>\n",
       "</div>"
      ],
      "text/plain": [
       "  variable                 Fylke  Registrerte smittede               RHF  \\\n",
       "0   09 Mar                 Agder                    19     Helse Sør-Øst   \n",
       "1   09 Mar  Vestfold og Telemark                     5     Helse Sør-Øst   \n",
       "2   09 Mar              Nordland                     3        Helse Nord   \n",
       "3   09 Mar       Møre og Romsdal                     5  Helse Midt-Norge   \n",
       "4   09 Mar              Rogaland                    33        Helse Vest   \n",
       "\n",
       "   Befolkning  Smittede/tusen innb   txt  \n",
       "0      307231             0.061843  0.06  \n",
       "1      419396             0.011922  0.01  \n",
       "2      241235             0.012436  0.01  \n",
       "3      265238             0.018851  0.02  \n",
       "4      479892             0.068765  0.07  "
      ]
     },
     "execution_count": 401,
     "metadata": {},
     "output_type": "execute_result"
    }
   ],
   "source": [
    "melted = pd.melt(df.reset_index(), id_vars=[\"variable\"], var_name=\"Fylke\", value_name=\"Registrerte smittede\").dropna().sort_values(by=[\"variable\"])\n",
    "melted[\"variable\"] = melted[\"variable\"].apply(lambda x: x.strftime(\"%d %b\"))\n",
    "melted = melted.merge(fylker, how=\"left\", on=\"Fylke\")\n",
    "melted[\"Smittede/tusen innb\"] = melted[\"Registrerte smittede\"]/(melted[\"Befolkning\"]/1000)\n",
    "melted[\"txt\"] = melted[\"Smittede/tusen innb\"].round(2).astype(str)\n",
    "melted.head()"
   ]
  },
  {
   "cell_type": "code",
   "execution_count": 403,
   "metadata": {
    "scrolled": false
   },
   "outputs": [
    {
     "data": {
      "application/vnd.plotly.v1+json": {
       "config": {
        "plotlyServerURL": "https://plot.ly"
       },
       "data": [
        {
         "alignmentgroup": "True",
         "hoverlabel": {
          "namelength": 0
         },
         "hovertemplate": "RHF=Helse Midt-Norge<br>Dato=09 Mar<br>Registrerte smittede=%{text}<br>Fylke=%{y}",
         "ids": [
          "Møre og Romsdal",
          "Trøndelag"
         ],
         "legendgroup": "Helse Midt-Norge",
         "marker": {
          "color": "#636efa"
         },
         "name": "Helse Midt-Norge",
         "offsetgroup": "Helse Midt-Norge",
         "orientation": "h",
         "showlegend": true,
         "text": [
          5,
          22
         ],
         "textposition": "auto",
         "type": "bar",
         "x": [
          5,
          22
         ],
         "xaxis": "x",
         "y": [
          "Møre og Romsdal",
          "Trøndelag"
         ],
         "yaxis": "y"
        },
        {
         "alignmentgroup": "True",
         "hoverlabel": {
          "namelength": 0
         },
         "hovertemplate": "RHF=Helse Nord<br>Dato=09 Mar<br>Registrerte smittede=%{text}<br>Fylke=%{y}",
         "ids": [
          "Nordland",
          "Troms og Finnmark"
         ],
         "legendgroup": "Helse Nord",
         "marker": {
          "color": "#EF553B"
         },
         "name": "Helse Nord",
         "offsetgroup": "Helse Nord",
         "orientation": "h",
         "showlegend": true,
         "text": [
          3,
          6
         ],
         "textposition": "auto",
         "type": "bar",
         "x": [
          3,
          6
         ],
         "xaxis": "x",
         "y": [
          "Nordland",
          "Troms og Finnmark"
         ],
         "yaxis": "y"
        },
        {
         "alignmentgroup": "True",
         "hoverlabel": {
          "namelength": 0
         },
         "hovertemplate": "RHF=Helse Sør-Øst<br>Dato=09 Mar<br>Registrerte smittede=%{text}<br>Fylke=%{y}",
         "ids": [
          "Agder",
          "Vestfold og Telemark",
          "Viken",
          "Innlandet",
          "Oslo"
         ],
         "legendgroup": "Helse Sør-Øst",
         "marker": {
          "color": "#00cc96"
         },
         "name": "Helse Sør-Øst",
         "offsetgroup": "Helse Sør-Øst",
         "orientation": "h",
         "showlegend": true,
         "text": [
          19,
          5,
          86,
          16,
          51
         ],
         "textposition": "auto",
         "type": "bar",
         "x": [
          19,
          5,
          86,
          16,
          51
         ],
         "xaxis": "x",
         "y": [
          "Agder",
          "Vestfold og Telemark",
          "Viken",
          "Innlandet",
          "Oslo"
         ],
         "yaxis": "y"
        },
        {
         "alignmentgroup": "True",
         "hoverlabel": {
          "namelength": 0
         },
         "hovertemplate": "RHF=Helse Vest<br>Dato=09 Mar<br>Registrerte smittede=%{text}<br>Fylke=%{y}",
         "ids": [
          "Rogaland",
          "Vestland"
         ],
         "legendgroup": "Helse Vest",
         "marker": {
          "color": "#ab63fa"
         },
         "name": "Helse Vest",
         "offsetgroup": "Helse Vest",
         "orientation": "h",
         "showlegend": true,
         "text": [
          33,
          31
         ],
         "textposition": "auto",
         "type": "bar",
         "x": [
          33,
          31
         ],
         "xaxis": "x",
         "y": [
          "Rogaland",
          "Vestland"
         ],
         "yaxis": "y"
        }
       ],
       "frames": [
        {
         "data": [
          {
           "alignmentgroup": "True",
           "hoverlabel": {
            "namelength": 0
           },
           "hovertemplate": "RHF=Helse Midt-Norge<br>Dato=09 Mar<br>Registrerte smittede=%{text}<br>Fylke=%{y}",
           "ids": [
            "Møre og Romsdal",
            "Trøndelag"
           ],
           "legendgroup": "Helse Midt-Norge",
           "marker": {
            "color": "#636efa"
           },
           "name": "Helse Midt-Norge",
           "offsetgroup": "Helse Midt-Norge",
           "orientation": "h",
           "showlegend": true,
           "text": [
            5,
            22
           ],
           "textposition": "auto",
           "type": "bar",
           "x": [
            5,
            22
           ],
           "xaxis": "x",
           "y": [
            "Møre og Romsdal",
            "Trøndelag"
           ],
           "yaxis": "y"
          },
          {
           "alignmentgroup": "True",
           "hoverlabel": {
            "namelength": 0
           },
           "hovertemplate": "RHF=Helse Nord<br>Dato=09 Mar<br>Registrerte smittede=%{text}<br>Fylke=%{y}",
           "ids": [
            "Nordland",
            "Troms og Finnmark"
           ],
           "legendgroup": "Helse Nord",
           "marker": {
            "color": "#EF553B"
           },
           "name": "Helse Nord",
           "offsetgroup": "Helse Nord",
           "orientation": "h",
           "showlegend": true,
           "text": [
            3,
            6
           ],
           "textposition": "auto",
           "type": "bar",
           "x": [
            3,
            6
           ],
           "xaxis": "x",
           "y": [
            "Nordland",
            "Troms og Finnmark"
           ],
           "yaxis": "y"
          },
          {
           "alignmentgroup": "True",
           "hoverlabel": {
            "namelength": 0
           },
           "hovertemplate": "RHF=Helse Sør-Øst<br>Dato=09 Mar<br>Registrerte smittede=%{text}<br>Fylke=%{y}",
           "ids": [
            "Agder",
            "Vestfold og Telemark",
            "Viken",
            "Innlandet",
            "Oslo"
           ],
           "legendgroup": "Helse Sør-Øst",
           "marker": {
            "color": "#00cc96"
           },
           "name": "Helse Sør-Øst",
           "offsetgroup": "Helse Sør-Øst",
           "orientation": "h",
           "showlegend": true,
           "text": [
            19,
            5,
            86,
            16,
            51
           ],
           "textposition": "auto",
           "type": "bar",
           "x": [
            19,
            5,
            86,
            16,
            51
           ],
           "xaxis": "x",
           "y": [
            "Agder",
            "Vestfold og Telemark",
            "Viken",
            "Innlandet",
            "Oslo"
           ],
           "yaxis": "y"
          },
          {
           "alignmentgroup": "True",
           "hoverlabel": {
            "namelength": 0
           },
           "hovertemplate": "RHF=Helse Vest<br>Dato=09 Mar<br>Registrerte smittede=%{text}<br>Fylke=%{y}",
           "ids": [
            "Rogaland",
            "Vestland"
           ],
           "legendgroup": "Helse Vest",
           "marker": {
            "color": "#ab63fa"
           },
           "name": "Helse Vest",
           "offsetgroup": "Helse Vest",
           "orientation": "h",
           "showlegend": true,
           "text": [
            33,
            31
           ],
           "textposition": "auto",
           "type": "bar",
           "x": [
            33,
            31
           ],
           "xaxis": "x",
           "y": [
            "Rogaland",
            "Vestland"
           ],
           "yaxis": "y"
          }
         ],
         "name": "09 Mar"
        },
        {
         "data": [
          {
           "alignmentgroup": "True",
           "hoverlabel": {
            "namelength": 0
           },
           "hovertemplate": "RHF=Helse Midt-Norge<br>Dato=10 Mar<br>Registrerte smittede=%{text}<br>Fylke=%{y}",
           "ids": [
            "Møre og Romsdal",
            "Trøndelag"
           ],
           "legendgroup": "Helse Midt-Norge",
           "marker": {
            "color": "#636efa"
           },
           "name": "Helse Midt-Norge",
           "offsetgroup": "Helse Midt-Norge",
           "orientation": "h",
           "showlegend": true,
           "text": [
            5,
            22
           ],
           "textposition": "auto",
           "type": "bar",
           "x": [
            5,
            22
           ],
           "xaxis": "x",
           "y": [
            "Møre og Romsdal",
            "Trøndelag"
           ],
           "yaxis": "y"
          },
          {
           "alignmentgroup": "True",
           "hoverlabel": {
            "namelength": 0
           },
           "hovertemplate": "RHF=Helse Nord<br>Dato=10 Mar<br>Registrerte smittede=%{text}<br>Fylke=%{y}",
           "ids": [
            "Nordland",
            "Troms og Finnmark"
           ],
           "legendgroup": "Helse Nord",
           "marker": {
            "color": "#EF553B"
           },
           "name": "Helse Nord",
           "offsetgroup": "Helse Nord",
           "orientation": "h",
           "showlegend": true,
           "text": [
            3,
            6
           ],
           "textposition": "auto",
           "type": "bar",
           "x": [
            3,
            6
           ],
           "xaxis": "x",
           "y": [
            "Nordland",
            "Troms og Finnmark"
           ],
           "yaxis": "y"
          },
          {
           "alignmentgroup": "True",
           "hoverlabel": {
            "namelength": 0
           },
           "hovertemplate": "RHF=Helse Sør-Øst<br>Dato=10 Mar<br>Registrerte smittede=%{text}<br>Fylke=%{y}",
           "ids": [
            "Oslo",
            "Vestfold og Telemark",
            "Agder",
            "Innlandet",
            "Viken"
           ],
           "legendgroup": "Helse Sør-Øst",
           "marker": {
            "color": "#00cc96"
           },
           "name": "Helse Sør-Øst",
           "offsetgroup": "Helse Sør-Øst",
           "orientation": "h",
           "showlegend": true,
           "text": [
            51,
            5,
            19,
            16,
            86
           ],
           "textposition": "auto",
           "type": "bar",
           "x": [
            51,
            5,
            19,
            16,
            86
           ],
           "xaxis": "x",
           "y": [
            "Oslo",
            "Vestfold og Telemark",
            "Agder",
            "Innlandet",
            "Viken"
           ],
           "yaxis": "y"
          },
          {
           "alignmentgroup": "True",
           "hoverlabel": {
            "namelength": 0
           },
           "hovertemplate": "RHF=Helse Vest<br>Dato=10 Mar<br>Registrerte smittede=%{text}<br>Fylke=%{y}",
           "ids": [
            "Vestland",
            "Rogaland"
           ],
           "legendgroup": "Helse Vest",
           "marker": {
            "color": "#ab63fa"
           },
           "name": "Helse Vest",
           "offsetgroup": "Helse Vest",
           "orientation": "h",
           "showlegend": true,
           "text": [
            31,
            33
           ],
           "textposition": "auto",
           "type": "bar",
           "x": [
            31,
            33
           ],
           "xaxis": "x",
           "y": [
            "Vestland",
            "Rogaland"
           ],
           "yaxis": "y"
          }
         ],
         "name": "10 Mar"
        },
        {
         "data": [
          {
           "alignmentgroup": "True",
           "hoverlabel": {
            "namelength": 0
           },
           "hovertemplate": "RHF=Helse Midt-Norge<br>Dato=11 Mar<br>Registrerte smittede=%{text}<br>Fylke=%{y}",
           "ids": [
            "Trøndelag",
            "Møre og Romsdal"
           ],
           "legendgroup": "Helse Midt-Norge",
           "marker": {
            "color": "#636efa"
           },
           "name": "Helse Midt-Norge",
           "offsetgroup": "Helse Midt-Norge",
           "orientation": "h",
           "showlegend": true,
           "text": [
            25,
            7
           ],
           "textposition": "auto",
           "type": "bar",
           "x": [
            25,
            7
           ],
           "xaxis": "x",
           "y": [
            "Trøndelag",
            "Møre og Romsdal"
           ],
           "yaxis": "y"
          },
          {
           "alignmentgroup": "True",
           "hoverlabel": {
            "namelength": 0
           },
           "hovertemplate": "RHF=Helse Nord<br>Dato=11 Mar<br>Registrerte smittede=%{text}<br>Fylke=%{y}",
           "ids": [
            "Nordland",
            "Troms og Finnmark"
           ],
           "legendgroup": "Helse Nord",
           "marker": {
            "color": "#EF553B"
           },
           "name": "Helse Nord",
           "offsetgroup": "Helse Nord",
           "orientation": "h",
           "showlegend": true,
           "text": [
            3,
            7
           ],
           "textposition": "auto",
           "type": "bar",
           "x": [
            3,
            7
           ],
           "xaxis": "x",
           "y": [
            "Nordland",
            "Troms og Finnmark"
           ],
           "yaxis": "y"
          },
          {
           "alignmentgroup": "True",
           "hoverlabel": {
            "namelength": 0
           },
           "hovertemplate": "RHF=Helse Sør-Øst<br>Dato=11 Mar<br>Registrerte smittede=%{text}<br>Fylke=%{y}",
           "ids": [
            "Agder",
            "Oslo",
            "Viken",
            "Innlandet",
            "Vestfold og Telemark"
           ],
           "legendgroup": "Helse Sør-Øst",
           "marker": {
            "color": "#00cc96"
           },
           "name": "Helse Sør-Øst",
           "offsetgroup": "Helse Sør-Øst",
           "orientation": "h",
           "showlegend": true,
           "text": [
            20,
            123,
            124,
            23,
            15
           ],
           "textposition": "auto",
           "type": "bar",
           "x": [
            20,
            123,
            124,
            23,
            15
           ],
           "xaxis": "x",
           "y": [
            "Agder",
            "Oslo",
            "Viken",
            "Innlandet",
            "Vestfold og Telemark"
           ],
           "yaxis": "y"
          },
          {
           "alignmentgroup": "True",
           "hoverlabel": {
            "namelength": 0
           },
           "hovertemplate": "RHF=Helse Vest<br>Dato=11 Mar<br>Registrerte smittede=%{text}<br>Fylke=%{y}",
           "ids": [
            "Rogaland",
            "Vestland"
           ],
           "legendgroup": "Helse Vest",
           "marker": {
            "color": "#ab63fa"
           },
           "name": "Helse Vest",
           "offsetgroup": "Helse Vest",
           "orientation": "h",
           "showlegend": true,
           "text": [
            71,
            41
           ],
           "textposition": "auto",
           "type": "bar",
           "x": [
            71,
            41
           ],
           "xaxis": "x",
           "y": [
            "Rogaland",
            "Vestland"
           ],
           "yaxis": "y"
          }
         ],
         "name": "11 Mar"
        },
        {
         "data": [
          {
           "alignmentgroup": "True",
           "hoverlabel": {
            "namelength": 0
           },
           "hovertemplate": "RHF=Helse Midt-Norge<br>Dato=12 Mar<br>Registrerte smittede=%{text}<br>Fylke=%{y}",
           "ids": [
            "Trøndelag",
            "Møre og Romsdal"
           ],
           "legendgroup": "Helse Midt-Norge",
           "marker": {
            "color": "#636efa"
           },
           "name": "Helse Midt-Norge",
           "offsetgroup": "Helse Midt-Norge",
           "orientation": "h",
           "showlegend": true,
           "text": [
            37,
            6
           ],
           "textposition": "auto",
           "type": "bar",
           "x": [
            37,
            6
           ],
           "xaxis": "x",
           "y": [
            "Trøndelag",
            "Møre og Romsdal"
           ],
           "yaxis": "y"
          },
          {
           "alignmentgroup": "True",
           "hoverlabel": {
            "namelength": 0
           },
           "hovertemplate": "RHF=Helse Nord<br>Dato=12 Mar<br>Registrerte smittede=%{text}<br>Fylke=%{y}",
           "ids": [
            "Nordland",
            "Troms og Finnmark"
           ],
           "legendgroup": "Helse Nord",
           "marker": {
            "color": "#EF553B"
           },
           "name": "Helse Nord",
           "offsetgroup": "Helse Nord",
           "orientation": "h",
           "showlegend": true,
           "text": [
            4,
            11
           ],
           "textposition": "auto",
           "type": "bar",
           "x": [
            4,
            11
           ],
           "xaxis": "x",
           "y": [
            "Nordland",
            "Troms og Finnmark"
           ],
           "yaxis": "y"
          },
          {
           "alignmentgroup": "True",
           "hoverlabel": {
            "namelength": 0
           },
           "hovertemplate": "RHF=Helse Sør-Øst<br>Dato=12 Mar<br>Registrerte smittede=%{text}<br>Fylke=%{y}",
           "ids": [
            "Oslo",
            "Vestfold og Telemark",
            "Agder",
            "Innlandet",
            "Viken"
           ],
           "legendgroup": "Helse Sør-Øst",
           "marker": {
            "color": "#00cc96"
           },
           "name": "Helse Sør-Øst",
           "offsetgroup": "Helse Sør-Øst",
           "orientation": "h",
           "showlegend": true,
           "text": [
            166,
            22,
            32,
            40,
            154
           ],
           "textposition": "auto",
           "type": "bar",
           "x": [
            166,
            22,
            32,
            40,
            154
           ],
           "xaxis": "x",
           "y": [
            "Oslo",
            "Vestfold og Telemark",
            "Agder",
            "Innlandet",
            "Viken"
           ],
           "yaxis": "y"
          },
          {
           "alignmentgroup": "True",
           "hoverlabel": {
            "namelength": 0
           },
           "hovertemplate": "RHF=Helse Vest<br>Dato=12 Mar<br>Registrerte smittede=%{text}<br>Fylke=%{y}",
           "ids": [
            "Rogaland",
            "Vestland"
           ],
           "legendgroup": "Helse Vest",
           "marker": {
            "color": "#ab63fa"
           },
           "name": "Helse Vest",
           "offsetgroup": "Helse Vest",
           "orientation": "h",
           "showlegend": true,
           "text": [
            82,
            67
           ],
           "textposition": "auto",
           "type": "bar",
           "x": [
            82,
            67
           ],
           "xaxis": "x",
           "y": [
            "Rogaland",
            "Vestland"
           ],
           "yaxis": "y"
          }
         ],
         "name": "12 Mar"
        },
        {
         "data": [
          {
           "alignmentgroup": "True",
           "hoverlabel": {
            "namelength": 0
           },
           "hovertemplate": "RHF=Helse Midt-Norge<br>Dato=13 Mar<br>Registrerte smittede=%{text}<br>Fylke=%{y}",
           "ids": [
            "Møre og Romsdal",
            "Trøndelag"
           ],
           "legendgroup": "Helse Midt-Norge",
           "marker": {
            "color": "#636efa"
           },
           "name": "Helse Midt-Norge",
           "offsetgroup": "Helse Midt-Norge",
           "orientation": "h",
           "showlegend": true,
           "text": [
            7,
            43
           ],
           "textposition": "auto",
           "type": "bar",
           "x": [
            7,
            43
           ],
           "xaxis": "x",
           "y": [
            "Møre og Romsdal",
            "Trøndelag"
           ],
           "yaxis": "y"
          },
          {
           "alignmentgroup": "True",
           "hoverlabel": {
            "namelength": 0
           },
           "hovertemplate": "RHF=Helse Nord<br>Dato=13 Mar<br>Registrerte smittede=%{text}<br>Fylke=%{y}",
           "ids": [
            "Troms og Finnmark",
            "Nordland"
           ],
           "legendgroup": "Helse Nord",
           "marker": {
            "color": "#EF553B"
           },
           "name": "Helse Nord",
           "offsetgroup": "Helse Nord",
           "orientation": "h",
           "showlegend": true,
           "text": [
            12,
            5
           ],
           "textposition": "auto",
           "type": "bar",
           "x": [
            12,
            5
           ],
           "xaxis": "x",
           "y": [
            "Troms og Finnmark",
            "Nordland"
           ],
           "yaxis": "y"
          },
          {
           "alignmentgroup": "True",
           "hoverlabel": {
            "namelength": 0
           },
           "hovertemplate": "RHF=Helse Sør-Øst<br>Dato=13 Mar<br>Registrerte smittede=%{text}<br>Fylke=%{y}",
           "ids": [
            "Vestfold og Telemark",
            "Innlandet",
            "Viken",
            "Agder",
            "Oslo"
           ],
           "legendgroup": "Helse Sør-Øst",
           "marker": {
            "color": "#00cc96"
           },
           "name": "Helse Sør-Øst",
           "offsetgroup": "Helse Sør-Øst",
           "orientation": "h",
           "showlegend": true,
           "text": [
            30,
            49,
            180,
            34,
            207
           ],
           "textposition": "auto",
           "type": "bar",
           "x": [
            30,
            49,
            180,
            34,
            207
           ],
           "xaxis": "x",
           "y": [
            "Vestfold og Telemark",
            "Innlandet",
            "Viken",
            "Agder",
            "Oslo"
           ],
           "yaxis": "y"
          },
          {
           "alignmentgroup": "True",
           "hoverlabel": {
            "namelength": 0
           },
           "hovertemplate": "RHF=Helse Vest<br>Dato=13 Mar<br>Registrerte smittede=%{text}<br>Fylke=%{y}",
           "ids": [
            "Rogaland",
            "Vestland"
           ],
           "legendgroup": "Helse Vest",
           "marker": {
            "color": "#ab63fa"
           },
           "name": "Helse Vest",
           "offsetgroup": "Helse Vest",
           "orientation": "h",
           "showlegend": true,
           "text": [
            105,
            78
           ],
           "textposition": "auto",
           "type": "bar",
           "x": [
            105,
            78
           ],
           "xaxis": "x",
           "y": [
            "Rogaland",
            "Vestland"
           ],
           "yaxis": "y"
          }
         ],
         "name": "13 Mar"
        },
        {
         "data": [
          {
           "alignmentgroup": "True",
           "hoverlabel": {
            "namelength": 0
           },
           "hovertemplate": "RHF=Helse Midt-Norge<br>Dato=14 Mar<br>Registrerte smittede=%{text}<br>Fylke=%{y}",
           "ids": [
            "Trøndelag",
            "Møre og Romsdal"
           ],
           "legendgroup": "Helse Midt-Norge",
           "marker": {
            "color": "#636efa"
           },
           "name": "Helse Midt-Norge",
           "offsetgroup": "Helse Midt-Norge",
           "orientation": "h",
           "showlegend": true,
           "text": [
            46,
            16
           ],
           "textposition": "auto",
           "type": "bar",
           "x": [
            46,
            16
           ],
           "xaxis": "x",
           "y": [
            "Trøndelag",
            "Møre og Romsdal"
           ],
           "yaxis": "y"
          },
          {
           "alignmentgroup": "True",
           "hoverlabel": {
            "namelength": 0
           },
           "hovertemplate": "RHF=Helse Nord<br>Dato=14 Mar<br>Registrerte smittede=%{text}<br>Fylke=%{y}",
           "ids": [
            "Troms og Finnmark",
            "Nordland"
           ],
           "legendgroup": "Helse Nord",
           "marker": {
            "color": "#EF553B"
           },
           "name": "Helse Nord",
           "offsetgroup": "Helse Nord",
           "orientation": "h",
           "showlegend": true,
           "text": [
            16,
            8
           ],
           "textposition": "auto",
           "type": "bar",
           "x": [
            16,
            8
           ],
           "xaxis": "x",
           "y": [
            "Troms og Finnmark",
            "Nordland"
           ],
           "yaxis": "y"
          },
          {
           "alignmentgroup": "True",
           "hoverlabel": {
            "namelength": 0
           },
           "hovertemplate": "RHF=Helse Sør-Øst<br>Dato=14 Mar<br>Registrerte smittede=%{text}<br>Fylke=%{y}",
           "ids": [
            "Viken",
            "Agder",
            "Innlandet",
            "Oslo",
            "Vestfold og Telemark"
           ],
           "legendgroup": "Helse Sør-Øst",
           "marker": {
            "color": "#00cc96"
           },
           "name": "Helse Sør-Øst",
           "offsetgroup": "Helse Sør-Øst",
           "orientation": "h",
           "showlegend": true,
           "text": [
            231,
            52,
            57,
            222,
            39
           ],
           "textposition": "auto",
           "type": "bar",
           "x": [
            231,
            52,
            57,
            222,
            39
           ],
           "xaxis": "x",
           "y": [
            "Viken",
            "Agder",
            "Innlandet",
            "Oslo",
            "Vestfold og Telemark"
           ],
           "yaxis": "y"
          },
          {
           "alignmentgroup": "True",
           "hoverlabel": {
            "namelength": 0
           },
           "hovertemplate": "RHF=Helse Vest<br>Dato=14 Mar<br>Registrerte smittede=%{text}<br>Fylke=%{y}",
           "ids": [
            "Vestland",
            "Rogaland"
           ],
           "legendgroup": "Helse Vest",
           "marker": {
            "color": "#ab63fa"
           },
           "name": "Helse Vest",
           "offsetgroup": "Helse Vest",
           "orientation": "h",
           "showlegend": true,
           "text": [
            101,
            119
           ],
           "textposition": "auto",
           "type": "bar",
           "x": [
            101,
            119
           ],
           "xaxis": "x",
           "y": [
            "Vestland",
            "Rogaland"
           ],
           "yaxis": "y"
          }
         ],
         "name": "14 Mar"
        },
        {
         "data": [
          {
           "alignmentgroup": "True",
           "hoverlabel": {
            "namelength": 0
           },
           "hovertemplate": "RHF=Helse Midt-Norge<br>Dato=15 Mar<br>Registrerte smittede=%{text}<br>Fylke=%{y}",
           "ids": [
            "Trøndelag",
            "Møre og Romsdal"
           ],
           "legendgroup": "Helse Midt-Norge",
           "marker": {
            "color": "#636efa"
           },
           "name": "Helse Midt-Norge",
           "offsetgroup": "Helse Midt-Norge",
           "orientation": "h",
           "showlegend": true,
           "text": [
            50,
            20
           ],
           "textposition": "auto",
           "type": "bar",
           "x": [
            50,
            20
           ],
           "xaxis": "x",
           "y": [
            "Trøndelag",
            "Møre og Romsdal"
           ],
           "yaxis": "y"
          },
          {
           "alignmentgroup": "True",
           "hoverlabel": {
            "namelength": 0
           },
           "hovertemplate": "RHF=Helse Nord<br>Dato=15 Mar<br>Registrerte smittede=%{text}<br>Fylke=%{y}",
           "ids": [
            "Troms og Finnmark",
            "Nordland"
           ],
           "legendgroup": "Helse Nord",
           "marker": {
            "color": "#EF553B"
           },
           "name": "Helse Nord",
           "offsetgroup": "Helse Nord",
           "orientation": "h",
           "showlegend": true,
           "text": [
            20,
            8
           ],
           "textposition": "auto",
           "type": "bar",
           "x": [
            20,
            8
           ],
           "xaxis": "x",
           "y": [
            "Troms og Finnmark",
            "Nordland"
           ],
           "yaxis": "y"
          },
          {
           "alignmentgroup": "True",
           "hoverlabel": {
            "namelength": 0
           },
           "hovertemplate": "RHF=Helse Sør-Øst<br>Dato=15 Mar<br>Registrerte smittede=%{text}<br>Fylke=%{y}",
           "ids": [
            "Viken",
            "Vestfold og Telemark",
            "Agder",
            "Oslo",
            "Innlandet"
           ],
           "legendgroup": "Helse Sør-Øst",
           "marker": {
            "color": "#00cc96"
           },
           "name": "Helse Sør-Øst",
           "offsetgroup": "Helse Sør-Øst",
           "orientation": "h",
           "showlegend": true,
           "text": [
            278,
            48,
            55,
            281,
            72
           ],
           "textposition": "auto",
           "type": "bar",
           "x": [
            278,
            48,
            55,
            281,
            72
           ],
           "xaxis": "x",
           "y": [
            "Viken",
            "Vestfold og Telemark",
            "Agder",
            "Oslo",
            "Innlandet"
           ],
           "yaxis": "y"
          },
          {
           "alignmentgroup": "True",
           "hoverlabel": {
            "namelength": 0
           },
           "hovertemplate": "RHF=Helse Vest<br>Dato=15 Mar<br>Registrerte smittede=%{text}<br>Fylke=%{y}",
           "ids": [
            "Vestland",
            "Rogaland"
           ],
           "legendgroup": "Helse Vest",
           "marker": {
            "color": "#ab63fa"
           },
           "name": "Helse Vest",
           "offsetgroup": "Helse Vest",
           "orientation": "h",
           "showlegend": true,
           "text": [
            118,
            127
           ],
           "textposition": "auto",
           "type": "bar",
           "x": [
            118,
            127
           ],
           "xaxis": "x",
           "y": [
            "Vestland",
            "Rogaland"
           ],
           "yaxis": "y"
          }
         ],
         "name": "15 Mar"
        },
        {
         "data": [
          {
           "alignmentgroup": "True",
           "hoverlabel": {
            "namelength": 0
           },
           "hovertemplate": "RHF=Helse Midt-Norge<br>Dato=16 Mar<br>Registrerte smittede=%{text}<br>Fylke=%{y}",
           "ids": [
            "Møre og Romsdal",
            "Trøndelag"
           ],
           "legendgroup": "Helse Midt-Norge",
           "marker": {
            "color": "#636efa"
           },
           "name": "Helse Midt-Norge",
           "offsetgroup": "Helse Midt-Norge",
           "orientation": "h",
           "showlegend": true,
           "text": [
            20,
            52
           ],
           "textposition": "auto",
           "type": "bar",
           "x": [
            20,
            52
           ],
           "xaxis": "x",
           "y": [
            "Møre og Romsdal",
            "Trøndelag"
           ],
           "yaxis": "y"
          },
          {
           "alignmentgroup": "True",
           "hoverlabel": {
            "namelength": 0
           },
           "hovertemplate": "RHF=Helse Nord<br>Dato=16 Mar<br>Registrerte smittede=%{text}<br>Fylke=%{y}",
           "ids": [
            "Troms og Finnmark",
            "Nordland"
           ],
           "legendgroup": "Helse Nord",
           "marker": {
            "color": "#EF553B"
           },
           "name": "Helse Nord",
           "offsetgroup": "Helse Nord",
           "orientation": "h",
           "showlegend": true,
           "text": [
            21,
            11
           ],
           "textposition": "auto",
           "type": "bar",
           "x": [
            21,
            11
           ],
           "xaxis": "x",
           "y": [
            "Troms og Finnmark",
            "Nordland"
           ],
           "yaxis": "y"
          },
          {
           "alignmentgroup": "True",
           "hoverlabel": {
            "namelength": 0
           },
           "hovertemplate": "RHF=Helse Sør-Øst<br>Dato=16 Mar<br>Registrerte smittede=%{text}<br>Fylke=%{y}",
           "ids": [
            "Oslo",
            "Agder",
            "Viken",
            "Vestfold og Telemark",
            "Innlandet"
           ],
           "legendgroup": "Helse Sør-Øst",
           "marker": {
            "color": "#00cc96"
           },
           "name": "Helse Sør-Øst",
           "offsetgroup": "Helse Sør-Øst",
           "orientation": "h",
           "showlegend": true,
           "text": [
            292,
            67,
            314,
            53,
            81
           ],
           "textposition": "auto",
           "type": "bar",
           "x": [
            292,
            67,
            314,
            53,
            81
           ],
           "xaxis": "x",
           "y": [
            "Oslo",
            "Agder",
            "Viken",
            "Vestfold og Telemark",
            "Innlandet"
           ],
           "yaxis": "y"
          },
          {
           "alignmentgroup": "True",
           "hoverlabel": {
            "namelength": 0
           },
           "hovertemplate": "RHF=Helse Vest<br>Dato=16 Mar<br>Registrerte smittede=%{text}<br>Fylke=%{y}",
           "ids": [
            "Rogaland",
            "Vestland"
           ],
           "legendgroup": "Helse Vest",
           "marker": {
            "color": "#ab63fa"
           },
           "name": "Helse Vest",
           "offsetgroup": "Helse Vest",
           "orientation": "h",
           "showlegend": true,
           "text": [
            131,
            127
           ],
           "textposition": "auto",
           "type": "bar",
           "x": [
            131,
            127
           ],
           "xaxis": "x",
           "y": [
            "Rogaland",
            "Vestland"
           ],
           "yaxis": "y"
          }
         ],
         "name": "16 Mar"
        },
        {
         "data": [
          {
           "alignmentgroup": "True",
           "hoverlabel": {
            "namelength": 0
           },
           "hovertemplate": "RHF=Helse Midt-Norge<br>Dato=17 Mar<br>Registrerte smittede=%{text}<br>Fylke=%{y}",
           "ids": [
            "Trøndelag",
            "Møre og Romsdal"
           ],
           "legendgroup": "Helse Midt-Norge",
           "marker": {
            "color": "#636efa"
           },
           "name": "Helse Midt-Norge",
           "offsetgroup": "Helse Midt-Norge",
           "orientation": "h",
           "showlegend": true,
           "text": [
            61,
            20
           ],
           "textposition": "auto",
           "type": "bar",
           "x": [
            61,
            20
           ],
           "xaxis": "x",
           "y": [
            "Trøndelag",
            "Møre og Romsdal"
           ],
           "yaxis": "y"
          },
          {
           "alignmentgroup": "True",
           "hoverlabel": {
            "namelength": 0
           },
           "hovertemplate": "RHF=Helse Nord<br>Dato=17 Mar<br>Registrerte smittede=%{text}<br>Fylke=%{y}",
           "ids": [
            "Nordland",
            "Troms og Finnmark"
           ],
           "legendgroup": "Helse Nord",
           "marker": {
            "color": "#EF553B"
           },
           "name": "Helse Nord",
           "offsetgroup": "Helse Nord",
           "orientation": "h",
           "showlegend": true,
           "text": [
            11,
            24
           ],
           "textposition": "auto",
           "type": "bar",
           "x": [
            11,
            24
           ],
           "xaxis": "x",
           "y": [
            "Nordland",
            "Troms og Finnmark"
           ],
           "yaxis": "y"
          },
          {
           "alignmentgroup": "True",
           "hoverlabel": {
            "namelength": 0
           },
           "hovertemplate": "RHF=Helse Sør-Øst<br>Dato=17 Mar<br>Registrerte smittede=%{text}<br>Fylke=%{y}",
           "ids": [
            "Vestfold og Telemark",
            "Oslo",
            "Agder",
            "Viken",
            "Innlandet"
           ],
           "legendgroup": "Helse Sør-Øst",
           "marker": {
            "color": "#00cc96"
           },
           "name": "Helse Sør-Øst",
           "offsetgroup": "Helse Sør-Øst",
           "orientation": "h",
           "showlegend": true,
           "text": [
            59,
            329,
            67,
            358,
            88
           ],
           "textposition": "auto",
           "type": "bar",
           "x": [
            59,
            329,
            67,
            358,
            88
           ],
           "xaxis": "x",
           "y": [
            "Vestfold og Telemark",
            "Oslo",
            "Agder",
            "Viken",
            "Innlandet"
           ],
           "yaxis": "y"
          },
          {
           "alignmentgroup": "True",
           "hoverlabel": {
            "namelength": 0
           },
           "hovertemplate": "RHF=Helse Vest<br>Dato=17 Mar<br>Registrerte smittede=%{text}<br>Fylke=%{y}",
           "ids": [
            "Vestland",
            "Rogaland"
           ],
           "legendgroup": "Helse Vest",
           "marker": {
            "color": "#ab63fa"
           },
           "name": "Helse Vest",
           "offsetgroup": "Helse Vest",
           "orientation": "h",
           "showlegend": true,
           "text": [
            141,
            150
           ],
           "textposition": "auto",
           "type": "bar",
           "x": [
            141,
            150
           ],
           "xaxis": "x",
           "y": [
            "Vestland",
            "Rogaland"
           ],
           "yaxis": "y"
          }
         ],
         "name": "17 Mar"
        },
        {
         "data": [
          {
           "alignmentgroup": "True",
           "hoverlabel": {
            "namelength": 0
           },
           "hovertemplate": "RHF=Helse Midt-Norge<br>Dato=18 Mar<br>Registrerte smittede=%{text}<br>Fylke=%{y}",
           "ids": [
            "Møre og Romsdal",
            "Trøndelag"
           ],
           "legendgroup": "Helse Midt-Norge",
           "marker": {
            "color": "#636efa"
           },
           "name": "Helse Midt-Norge",
           "offsetgroup": "Helse Midt-Norge",
           "orientation": "h",
           "showlegend": true,
           "text": [
            20,
            70
           ],
           "textposition": "auto",
           "type": "bar",
           "x": [
            20,
            70
           ],
           "xaxis": "x",
           "y": [
            "Møre og Romsdal",
            "Trøndelag"
           ],
           "yaxis": "y"
          },
          {
           "alignmentgroup": "True",
           "hoverlabel": {
            "namelength": 0
           },
           "hovertemplate": "RHF=Helse Nord<br>Dato=18 Mar<br>Registrerte smittede=%{text}<br>Fylke=%{y}",
           "ids": [
            "Troms og Finnmark",
            "Nordland"
           ],
           "legendgroup": "Helse Nord",
           "marker": {
            "color": "#EF553B"
           },
           "name": "Helse Nord",
           "offsetgroup": "Helse Nord",
           "orientation": "h",
           "showlegend": true,
           "text": [
            28,
            12
           ],
           "textposition": "auto",
           "type": "bar",
           "x": [
            28,
            12
           ],
           "xaxis": "x",
           "y": [
            "Troms og Finnmark",
            "Nordland"
           ],
           "yaxis": "y"
          },
          {
           "alignmentgroup": "True",
           "hoverlabel": {
            "namelength": 0
           },
           "hovertemplate": "RHF=Helse Sør-Øst<br>Dato=18 Mar<br>Registrerte smittede=%{text}<br>Fylke=%{y}",
           "ids": [
            "Innlandet",
            "Vestfold og Telemark",
            "Agder",
            "Viken",
            "Oslo"
           ],
           "legendgroup": "Helse Sør-Øst",
           "marker": {
            "color": "#00cc96"
           },
           "name": "Helse Sør-Øst",
           "offsetgroup": "Helse Sør-Øst",
           "orientation": "h",
           "showlegend": true,
           "text": [
            97,
            63,
            67,
            410,
            348
           ],
           "textposition": "auto",
           "type": "bar",
           "x": [
            97,
            63,
            67,
            410,
            348
           ],
           "xaxis": "x",
           "y": [
            "Innlandet",
            "Vestfold og Telemark",
            "Agder",
            "Viken",
            "Oslo"
           ],
           "yaxis": "y"
          },
          {
           "alignmentgroup": "True",
           "hoverlabel": {
            "namelength": 0
           },
           "hovertemplate": "RHF=Helse Vest<br>Dato=18 Mar<br>Registrerte smittede=%{text}<br>Fylke=%{y}",
           "ids": [
            "Vestland",
            "Rogaland"
           ],
           "legendgroup": "Helse Vest",
           "marker": {
            "color": "#ab63fa"
           },
           "name": "Helse Vest",
           "offsetgroup": "Helse Vest",
           "orientation": "h",
           "showlegend": true,
           "text": [
            147,
            161
           ],
           "textposition": "auto",
           "type": "bar",
           "x": [
            147,
            161
           ],
           "xaxis": "x",
           "y": [
            "Vestland",
            "Rogaland"
           ],
           "yaxis": "y"
          }
         ],
         "name": "18 Mar"
        },
        {
         "data": [
          {
           "alignmentgroup": "True",
           "hoverlabel": {
            "namelength": 0
           },
           "hovertemplate": "RHF=Helse Midt-Norge<br>Dato=19 Mar<br>Registrerte smittede=%{text}<br>Fylke=%{y}",
           "ids": [
            "Møre og Romsdal",
            "Trøndelag"
           ],
           "legendgroup": "Helse Midt-Norge",
           "marker": {
            "color": "#636efa"
           },
           "name": "Helse Midt-Norge",
           "offsetgroup": "Helse Midt-Norge",
           "orientation": "h",
           "showlegend": true,
           "text": [
            25,
            75
           ],
           "textposition": "auto",
           "type": "bar",
           "x": [
            25,
            75
           ],
           "xaxis": "x",
           "y": [
            "Møre og Romsdal",
            "Trøndelag"
           ],
           "yaxis": "y"
          },
          {
           "alignmentgroup": "True",
           "hoverlabel": {
            "namelength": 0
           },
           "hovertemplate": "RHF=Helse Nord<br>Dato=19 Mar<br>Registrerte smittede=%{text}<br>Fylke=%{y}",
           "ids": [
            "Nordland",
            "Troms og Finnmark"
           ],
           "legendgroup": "Helse Nord",
           "marker": {
            "color": "#EF553B"
           },
           "name": "Helse Nord",
           "offsetgroup": "Helse Nord",
           "orientation": "h",
           "showlegend": true,
           "text": [
            13,
            28
           ],
           "textposition": "auto",
           "type": "bar",
           "x": [
            13,
            28
           ],
           "xaxis": "x",
           "y": [
            "Nordland",
            "Troms og Finnmark"
           ],
           "yaxis": "y"
          },
          {
           "alignmentgroup": "True",
           "hoverlabel": {
            "namelength": 0
           },
           "hovertemplate": "RHF=Helse Sør-Øst<br>Dato=19 Mar<br>Registrerte smittede=%{text}<br>Fylke=%{y}",
           "ids": [
            "Viken",
            "Vestfold og Telemark",
            "Oslo",
            "Agder",
            "Innlandet"
           ],
           "legendgroup": "Helse Sør-Øst",
           "marker": {
            "color": "#00cc96"
           },
           "name": "Helse Sør-Øst",
           "offsetgroup": "Helse Sør-Øst",
           "orientation": "h",
           "showlegend": true,
           "text": [
            445,
            65,
            392,
            75,
            105
           ],
           "textposition": "auto",
           "type": "bar",
           "x": [
            445,
            65,
            392,
            75,
            105
           ],
           "xaxis": "x",
           "y": [
            "Viken",
            "Vestfold og Telemark",
            "Oslo",
            "Agder",
            "Innlandet"
           ],
           "yaxis": "y"
          },
          {
           "alignmentgroup": "True",
           "hoverlabel": {
            "namelength": 0
           },
           "hovertemplate": "RHF=Helse Vest<br>Dato=19 Mar<br>Registrerte smittede=%{text}<br>Fylke=%{y}",
           "ids": [
            "Rogaland",
            "Vestland"
           ],
           "legendgroup": "Helse Vest",
           "marker": {
            "color": "#ab63fa"
           },
           "name": "Helse Vest",
           "offsetgroup": "Helse Vest",
           "orientation": "h",
           "showlegend": true,
           "text": [
            176,
            153
           ],
           "textposition": "auto",
           "type": "bar",
           "x": [
            176,
            153
           ],
           "xaxis": "x",
           "y": [
            "Rogaland",
            "Vestland"
           ],
           "yaxis": "y"
          }
         ],
         "name": "19 Mar"
        },
        {
         "data": [
          {
           "alignmentgroup": "True",
           "hoverlabel": {
            "namelength": 0
           },
           "hovertemplate": "RHF=Helse Midt-Norge<br>Dato=20 Mar<br>Registrerte smittede=%{text}<br>Fylke=%{y}",
           "ids": [
            "Møre og Romsdal",
            "Trøndelag"
           ],
           "legendgroup": "Helse Midt-Norge",
           "marker": {
            "color": "#636efa"
           },
           "name": "Helse Midt-Norge",
           "offsetgroup": "Helse Midt-Norge",
           "orientation": "h",
           "showlegend": true,
           "text": [
            29,
            97
           ],
           "textposition": "auto",
           "type": "bar",
           "x": [
            29,
            97
           ],
           "xaxis": "x",
           "y": [
            "Møre og Romsdal",
            "Trøndelag"
           ],
           "yaxis": "y"
          },
          {
           "alignmentgroup": "True",
           "hoverlabel": {
            "namelength": 0
           },
           "hovertemplate": "RHF=Helse Nord<br>Dato=20 Mar<br>Registrerte smittede=%{text}<br>Fylke=%{y}",
           "ids": [
            "Troms og Finnmark",
            "Nordland"
           ],
           "legendgroup": "Helse Nord",
           "marker": {
            "color": "#EF553B"
           },
           "name": "Helse Nord",
           "offsetgroup": "Helse Nord",
           "orientation": "h",
           "showlegend": true,
           "text": [
            32,
            17
           ],
           "textposition": "auto",
           "type": "bar",
           "x": [
            32,
            17
           ],
           "xaxis": "x",
           "y": [
            "Troms og Finnmark",
            "Nordland"
           ],
           "yaxis": "y"
          },
          {
           "alignmentgroup": "True",
           "hoverlabel": {
            "namelength": 0
           },
           "hovertemplate": "RHF=Helse Sør-Øst<br>Dato=20 Mar<br>Registrerte smittede=%{text}<br>Fylke=%{y}",
           "ids": [
            "Agder",
            "Oslo",
            "Innlandet",
            "Vestfold og Telemark",
            "Viken"
           ],
           "legendgroup": "Helse Sør-Øst",
           "marker": {
            "color": "#00cc96"
           },
           "name": "Helse Sør-Øst",
           "offsetgroup": "Helse Sør-Øst",
           "orientation": "h",
           "showlegend": true,
           "text": [
            79,
            419,
            115,
            72,
            529
           ],
           "textposition": "auto",
           "type": "bar",
           "x": [
            79,
            419,
            115,
            72,
            529
           ],
           "xaxis": "x",
           "y": [
            "Agder",
            "Oslo",
            "Innlandet",
            "Vestfold og Telemark",
            "Viken"
           ],
           "yaxis": "y"
          },
          {
           "alignmentgroup": "True",
           "hoverlabel": {
            "namelength": 0
           },
           "hovertemplate": "RHF=Helse Vest<br>Dato=20 Mar<br>Registrerte smittede=%{text}<br>Fylke=%{y}",
           "ids": [
            "Vestland",
            "Rogaland"
           ],
           "legendgroup": "Helse Vest",
           "marker": {
            "color": "#ab63fa"
           },
           "name": "Helse Vest",
           "offsetgroup": "Helse Vest",
           "orientation": "h",
           "showlegend": true,
           "text": [
            173,
            180
           ],
           "textposition": "auto",
           "type": "bar",
           "x": [
            173,
            180
           ],
           "xaxis": "x",
           "y": [
            "Vestland",
            "Rogaland"
           ],
           "yaxis": "y"
          }
         ],
         "name": "20 Mar"
        },
        {
         "data": [
          {
           "alignmentgroup": "True",
           "hoverlabel": {
            "namelength": 0
           },
           "hovertemplate": "RHF=Helse Midt-Norge<br>Dato=21 Mar<br>Registrerte smittede=%{text}<br>Fylke=%{y}",
           "ids": [
            "Trøndelag",
            "Møre og Romsdal"
           ],
           "legendgroup": "Helse Midt-Norge",
           "marker": {
            "color": "#636efa"
           },
           "name": "Helse Midt-Norge",
           "offsetgroup": "Helse Midt-Norge",
           "orientation": "h",
           "showlegend": true,
           "text": [
            122,
            32
           ],
           "textposition": "auto",
           "type": "bar",
           "x": [
            122,
            32
           ],
           "xaxis": "x",
           "y": [
            "Trøndelag",
            "Møre og Romsdal"
           ],
           "yaxis": "y"
          },
          {
           "alignmentgroup": "True",
           "hoverlabel": {
            "namelength": 0
           },
           "hovertemplate": "RHF=Helse Nord<br>Dato=21 Mar<br>Registrerte smittede=%{text}<br>Fylke=%{y}",
           "ids": [
            "Troms og Finnmark",
            "Nordland"
           ],
           "legendgroup": "Helse Nord",
           "marker": {
            "color": "#EF553B"
           },
           "name": "Helse Nord",
           "offsetgroup": "Helse Nord",
           "orientation": "h",
           "showlegend": true,
           "text": [
            37,
            17
           ],
           "textposition": "auto",
           "type": "bar",
           "x": [
            37,
            17
           ],
           "xaxis": "x",
           "y": [
            "Troms og Finnmark",
            "Nordland"
           ],
           "yaxis": "y"
          },
          {
           "alignmentgroup": "True",
           "hoverlabel": {
            "namelength": 0
           },
           "hovertemplate": "RHF=Helse Sør-Øst<br>Dato=21 Mar<br>Registrerte smittede=%{text}<br>Fylke=%{y}",
           "ids": [
            "Agder",
            "Innlandet",
            "Vestfold og Telemark",
            "Oslo",
            "Viken"
           ],
           "legendgroup": "Helse Sør-Øst",
           "marker": {
            "color": "#00cc96"
           },
           "name": "Helse Sør-Øst",
           "offsetgroup": "Helse Sør-Øst",
           "orientation": "h",
           "showlegend": true,
           "text": [
            82,
            125,
            81,
            448,
            583
           ],
           "textposition": "auto",
           "type": "bar",
           "x": [
            82,
            125,
            81,
            448,
            583
           ],
           "xaxis": "x",
           "y": [
            "Agder",
            "Innlandet",
            "Vestfold og Telemark",
            "Oslo",
            "Viken"
           ],
           "yaxis": "y"
          },
          {
           "alignmentgroup": "True",
           "hoverlabel": {
            "namelength": 0
           },
           "hovertemplate": "RHF=Helse Vest<br>Dato=21 Mar<br>Registrerte smittede=%{text}<br>Fylke=%{y}",
           "ids": [
            "Vestland",
            "Rogaland"
           ],
           "legendgroup": "Helse Vest",
           "marker": {
            "color": "#ab63fa"
           },
           "name": "Helse Vest",
           "offsetgroup": "Helse Vest",
           "orientation": "h",
           "showlegend": true,
           "text": [
            200,
            199
           ],
           "textposition": "auto",
           "type": "bar",
           "x": [
            200,
            199
           ],
           "xaxis": "x",
           "y": [
            "Vestland",
            "Rogaland"
           ],
           "yaxis": "y"
          }
         ],
         "name": "21 Mar"
        }
       ],
       "layout": {
        "autosize": true,
        "barmode": "relative",
        "coloraxis": {
         "showscale": false
        },
        "height": 600,
        "legend": {
         "title": {
          "text": "RHF"
         },
         "tracegroupgap": 0
        },
        "margin": {
         "b": 0,
         "l": 100,
         "r": 100,
         "t": 150
        },
        "paper_bgcolor": "rgba(0, 0, 0, 0)",
        "sliders": [
         {
          "active": 0,
          "currentvalue": {
           "prefix": "Dato="
          },
          "len": 0.9,
          "pad": {
           "b": 10,
           "t": 60
          },
          "steps": [
           {
            "args": [
             [
              "09 Mar"
             ],
             {
              "frame": {
               "duration": 0,
               "redraw": true
              },
              "fromcurrent": true,
              "mode": "immediate",
              "transition": {
               "duration": 0,
               "easing": "linear"
              }
             }
            ],
            "label": "09 Mar",
            "method": "animate"
           },
           {
            "args": [
             [
              "10 Mar"
             ],
             {
              "frame": {
               "duration": 0,
               "redraw": true
              },
              "fromcurrent": true,
              "mode": "immediate",
              "transition": {
               "duration": 0,
               "easing": "linear"
              }
             }
            ],
            "label": "10 Mar",
            "method": "animate"
           },
           {
            "args": [
             [
              "11 Mar"
             ],
             {
              "frame": {
               "duration": 0,
               "redraw": true
              },
              "fromcurrent": true,
              "mode": "immediate",
              "transition": {
               "duration": 0,
               "easing": "linear"
              }
             }
            ],
            "label": "11 Mar",
            "method": "animate"
           },
           {
            "args": [
             [
              "12 Mar"
             ],
             {
              "frame": {
               "duration": 0,
               "redraw": true
              },
              "fromcurrent": true,
              "mode": "immediate",
              "transition": {
               "duration": 0,
               "easing": "linear"
              }
             }
            ],
            "label": "12 Mar",
            "method": "animate"
           },
           {
            "args": [
             [
              "13 Mar"
             ],
             {
              "frame": {
               "duration": 0,
               "redraw": true
              },
              "fromcurrent": true,
              "mode": "immediate",
              "transition": {
               "duration": 0,
               "easing": "linear"
              }
             }
            ],
            "label": "13 Mar",
            "method": "animate"
           },
           {
            "args": [
             [
              "14 Mar"
             ],
             {
              "frame": {
               "duration": 0,
               "redraw": true
              },
              "fromcurrent": true,
              "mode": "immediate",
              "transition": {
               "duration": 0,
               "easing": "linear"
              }
             }
            ],
            "label": "14 Mar",
            "method": "animate"
           },
           {
            "args": [
             [
              "15 Mar"
             ],
             {
              "frame": {
               "duration": 0,
               "redraw": true
              },
              "fromcurrent": true,
              "mode": "immediate",
              "transition": {
               "duration": 0,
               "easing": "linear"
              }
             }
            ],
            "label": "15 Mar",
            "method": "animate"
           },
           {
            "args": [
             [
              "16 Mar"
             ],
             {
              "frame": {
               "duration": 0,
               "redraw": true
              },
              "fromcurrent": true,
              "mode": "immediate",
              "transition": {
               "duration": 0,
               "easing": "linear"
              }
             }
            ],
            "label": "16 Mar",
            "method": "animate"
           },
           {
            "args": [
             [
              "17 Mar"
             ],
             {
              "frame": {
               "duration": 0,
               "redraw": true
              },
              "fromcurrent": true,
              "mode": "immediate",
              "transition": {
               "duration": 0,
               "easing": "linear"
              }
             }
            ],
            "label": "17 Mar",
            "method": "animate"
           },
           {
            "args": [
             [
              "18 Mar"
             ],
             {
              "frame": {
               "duration": 0,
               "redraw": true
              },
              "fromcurrent": true,
              "mode": "immediate",
              "transition": {
               "duration": 0,
               "easing": "linear"
              }
             }
            ],
            "label": "18 Mar",
            "method": "animate"
           },
           {
            "args": [
             [
              "19 Mar"
             ],
             {
              "frame": {
               "duration": 0,
               "redraw": true
              },
              "fromcurrent": true,
              "mode": "immediate",
              "transition": {
               "duration": 0,
               "easing": "linear"
              }
             }
            ],
            "label": "19 Mar",
            "method": "animate"
           },
           {
            "args": [
             [
              "20 Mar"
             ],
             {
              "frame": {
               "duration": 0,
               "redraw": true
              },
              "fromcurrent": true,
              "mode": "immediate",
              "transition": {
               "duration": 0,
               "easing": "linear"
              }
             }
            ],
            "label": "20 Mar",
            "method": "animate"
           },
           {
            "args": [
             [
              "21 Mar"
             ],
             {
              "frame": {
               "duration": 0,
               "redraw": true
              },
              "fromcurrent": true,
              "mode": "immediate",
              "transition": {
               "duration": 0,
               "easing": "linear"
              }
             }
            ],
            "label": "21 Mar",
            "method": "animate"
           }
          ],
          "x": 0.1,
          "xanchor": "left",
          "y": 0,
          "yanchor": "top"
         }
        ],
        "template": {
         "data": {
          "bar": [
           {
            "error_x": {
             "color": "#2a3f5f"
            },
            "error_y": {
             "color": "#2a3f5f"
            },
            "marker": {
             "line": {
              "color": "white",
              "width": 0.5
             }
            },
            "type": "bar"
           }
          ],
          "barpolar": [
           {
            "marker": {
             "line": {
              "color": "white",
              "width": 0.5
             }
            },
            "type": "barpolar"
           }
          ],
          "carpet": [
           {
            "aaxis": {
             "endlinecolor": "#2a3f5f",
             "gridcolor": "#C8D4E3",
             "linecolor": "#C8D4E3",
             "minorgridcolor": "#C8D4E3",
             "startlinecolor": "#2a3f5f"
            },
            "baxis": {
             "endlinecolor": "#2a3f5f",
             "gridcolor": "#C8D4E3",
             "linecolor": "#C8D4E3",
             "minorgridcolor": "#C8D4E3",
             "startlinecolor": "#2a3f5f"
            },
            "type": "carpet"
           }
          ],
          "choropleth": [
           {
            "colorbar": {
             "outlinewidth": 0,
             "ticks": ""
            },
            "type": "choropleth"
           }
          ],
          "contour": [
           {
            "colorbar": {
             "outlinewidth": 0,
             "ticks": ""
            },
            "colorscale": [
             [
              0,
              "#0d0887"
             ],
             [
              0.1111111111111111,
              "#46039f"
             ],
             [
              0.2222222222222222,
              "#7201a8"
             ],
             [
              0.3333333333333333,
              "#9c179e"
             ],
             [
              0.4444444444444444,
              "#bd3786"
             ],
             [
              0.5555555555555556,
              "#d8576b"
             ],
             [
              0.6666666666666666,
              "#ed7953"
             ],
             [
              0.7777777777777778,
              "#fb9f3a"
             ],
             [
              0.8888888888888888,
              "#fdca26"
             ],
             [
              1,
              "#f0f921"
             ]
            ],
            "type": "contour"
           }
          ],
          "contourcarpet": [
           {
            "colorbar": {
             "outlinewidth": 0,
             "ticks": ""
            },
            "type": "contourcarpet"
           }
          ],
          "heatmap": [
           {
            "colorbar": {
             "outlinewidth": 0,
             "ticks": ""
            },
            "colorscale": [
             [
              0,
              "#0d0887"
             ],
             [
              0.1111111111111111,
              "#46039f"
             ],
             [
              0.2222222222222222,
              "#7201a8"
             ],
             [
              0.3333333333333333,
              "#9c179e"
             ],
             [
              0.4444444444444444,
              "#bd3786"
             ],
             [
              0.5555555555555556,
              "#d8576b"
             ],
             [
              0.6666666666666666,
              "#ed7953"
             ],
             [
              0.7777777777777778,
              "#fb9f3a"
             ],
             [
              0.8888888888888888,
              "#fdca26"
             ],
             [
              1,
              "#f0f921"
             ]
            ],
            "type": "heatmap"
           }
          ],
          "heatmapgl": [
           {
            "colorbar": {
             "outlinewidth": 0,
             "ticks": ""
            },
            "colorscale": [
             [
              0,
              "#0d0887"
             ],
             [
              0.1111111111111111,
              "#46039f"
             ],
             [
              0.2222222222222222,
              "#7201a8"
             ],
             [
              0.3333333333333333,
              "#9c179e"
             ],
             [
              0.4444444444444444,
              "#bd3786"
             ],
             [
              0.5555555555555556,
              "#d8576b"
             ],
             [
              0.6666666666666666,
              "#ed7953"
             ],
             [
              0.7777777777777778,
              "#fb9f3a"
             ],
             [
              0.8888888888888888,
              "#fdca26"
             ],
             [
              1,
              "#f0f921"
             ]
            ],
            "type": "heatmapgl"
           }
          ],
          "histogram": [
           {
            "marker": {
             "colorbar": {
              "outlinewidth": 0,
              "ticks": ""
             }
            },
            "type": "histogram"
           }
          ],
          "histogram2d": [
           {
            "colorbar": {
             "outlinewidth": 0,
             "ticks": ""
            },
            "colorscale": [
             [
              0,
              "#0d0887"
             ],
             [
              0.1111111111111111,
              "#46039f"
             ],
             [
              0.2222222222222222,
              "#7201a8"
             ],
             [
              0.3333333333333333,
              "#9c179e"
             ],
             [
              0.4444444444444444,
              "#bd3786"
             ],
             [
              0.5555555555555556,
              "#d8576b"
             ],
             [
              0.6666666666666666,
              "#ed7953"
             ],
             [
              0.7777777777777778,
              "#fb9f3a"
             ],
             [
              0.8888888888888888,
              "#fdca26"
             ],
             [
              1,
              "#f0f921"
             ]
            ],
            "type": "histogram2d"
           }
          ],
          "histogram2dcontour": [
           {
            "colorbar": {
             "outlinewidth": 0,
             "ticks": ""
            },
            "colorscale": [
             [
              0,
              "#0d0887"
             ],
             [
              0.1111111111111111,
              "#46039f"
             ],
             [
              0.2222222222222222,
              "#7201a8"
             ],
             [
              0.3333333333333333,
              "#9c179e"
             ],
             [
              0.4444444444444444,
              "#bd3786"
             ],
             [
              0.5555555555555556,
              "#d8576b"
             ],
             [
              0.6666666666666666,
              "#ed7953"
             ],
             [
              0.7777777777777778,
              "#fb9f3a"
             ],
             [
              0.8888888888888888,
              "#fdca26"
             ],
             [
              1,
              "#f0f921"
             ]
            ],
            "type": "histogram2dcontour"
           }
          ],
          "mesh3d": [
           {
            "colorbar": {
             "outlinewidth": 0,
             "ticks": ""
            },
            "type": "mesh3d"
           }
          ],
          "parcoords": [
           {
            "line": {
             "colorbar": {
              "outlinewidth": 0,
              "ticks": ""
             }
            },
            "type": "parcoords"
           }
          ],
          "pie": [
           {
            "automargin": true,
            "type": "pie"
           }
          ],
          "scatter": [
           {
            "marker": {
             "colorbar": {
              "outlinewidth": 0,
              "ticks": ""
             }
            },
            "type": "scatter"
           }
          ],
          "scatter3d": [
           {
            "line": {
             "colorbar": {
              "outlinewidth": 0,
              "ticks": ""
             }
            },
            "marker": {
             "colorbar": {
              "outlinewidth": 0,
              "ticks": ""
             }
            },
            "type": "scatter3d"
           }
          ],
          "scattercarpet": [
           {
            "marker": {
             "colorbar": {
              "outlinewidth": 0,
              "ticks": ""
             }
            },
            "type": "scattercarpet"
           }
          ],
          "scattergeo": [
           {
            "marker": {
             "colorbar": {
              "outlinewidth": 0,
              "ticks": ""
             }
            },
            "type": "scattergeo"
           }
          ],
          "scattergl": [
           {
            "marker": {
             "colorbar": {
              "outlinewidth": 0,
              "ticks": ""
             }
            },
            "type": "scattergl"
           }
          ],
          "scattermapbox": [
           {
            "marker": {
             "colorbar": {
              "outlinewidth": 0,
              "ticks": ""
             }
            },
            "type": "scattermapbox"
           }
          ],
          "scatterpolar": [
           {
            "marker": {
             "colorbar": {
              "outlinewidth": 0,
              "ticks": ""
             }
            },
            "type": "scatterpolar"
           }
          ],
          "scatterpolargl": [
           {
            "marker": {
             "colorbar": {
              "outlinewidth": 0,
              "ticks": ""
             }
            },
            "type": "scatterpolargl"
           }
          ],
          "scatterternary": [
           {
            "marker": {
             "colorbar": {
              "outlinewidth": 0,
              "ticks": ""
             }
            },
            "type": "scatterternary"
           }
          ],
          "surface": [
           {
            "colorbar": {
             "outlinewidth": 0,
             "ticks": ""
            },
            "colorscale": [
             [
              0,
              "#0d0887"
             ],
             [
              0.1111111111111111,
              "#46039f"
             ],
             [
              0.2222222222222222,
              "#7201a8"
             ],
             [
              0.3333333333333333,
              "#9c179e"
             ],
             [
              0.4444444444444444,
              "#bd3786"
             ],
             [
              0.5555555555555556,
              "#d8576b"
             ],
             [
              0.6666666666666666,
              "#ed7953"
             ],
             [
              0.7777777777777778,
              "#fb9f3a"
             ],
             [
              0.8888888888888888,
              "#fdca26"
             ],
             [
              1,
              "#f0f921"
             ]
            ],
            "type": "surface"
           }
          ],
          "table": [
           {
            "cells": {
             "fill": {
              "color": "#EBF0F8"
             },
             "line": {
              "color": "white"
             }
            },
            "header": {
             "fill": {
              "color": "#C8D4E3"
             },
             "line": {
              "color": "white"
             }
            },
            "type": "table"
           }
          ]
         },
         "layout": {
          "annotationdefaults": {
           "arrowcolor": "#2a3f5f",
           "arrowhead": 0,
           "arrowwidth": 1
          },
          "coloraxis": {
           "colorbar": {
            "outlinewidth": 0,
            "ticks": ""
           }
          },
          "colorscale": {
           "diverging": [
            [
             0,
             "#8e0152"
            ],
            [
             0.1,
             "#c51b7d"
            ],
            [
             0.2,
             "#de77ae"
            ],
            [
             0.3,
             "#f1b6da"
            ],
            [
             0.4,
             "#fde0ef"
            ],
            [
             0.5,
             "#f7f7f7"
            ],
            [
             0.6,
             "#e6f5d0"
            ],
            [
             0.7,
             "#b8e186"
            ],
            [
             0.8,
             "#7fbc41"
            ],
            [
             0.9,
             "#4d9221"
            ],
            [
             1,
             "#276419"
            ]
           ],
           "sequential": [
            [
             0,
             "#0d0887"
            ],
            [
             0.1111111111111111,
             "#46039f"
            ],
            [
             0.2222222222222222,
             "#7201a8"
            ],
            [
             0.3333333333333333,
             "#9c179e"
            ],
            [
             0.4444444444444444,
             "#bd3786"
            ],
            [
             0.5555555555555556,
             "#d8576b"
            ],
            [
             0.6666666666666666,
             "#ed7953"
            ],
            [
             0.7777777777777778,
             "#fb9f3a"
            ],
            [
             0.8888888888888888,
             "#fdca26"
            ],
            [
             1,
             "#f0f921"
            ]
           ],
           "sequentialminus": [
            [
             0,
             "#0d0887"
            ],
            [
             0.1111111111111111,
             "#46039f"
            ],
            [
             0.2222222222222222,
             "#7201a8"
            ],
            [
             0.3333333333333333,
             "#9c179e"
            ],
            [
             0.4444444444444444,
             "#bd3786"
            ],
            [
             0.5555555555555556,
             "#d8576b"
            ],
            [
             0.6666666666666666,
             "#ed7953"
            ],
            [
             0.7777777777777778,
             "#fb9f3a"
            ],
            [
             0.8888888888888888,
             "#fdca26"
            ],
            [
             1,
             "#f0f921"
            ]
           ]
          },
          "colorway": [
           "#636efa",
           "#EF553B",
           "#00cc96",
           "#ab63fa",
           "#FFA15A",
           "#19d3f3",
           "#FF6692",
           "#B6E880",
           "#FF97FF",
           "#FECB52"
          ],
          "font": {
           "color": "#2a3f5f"
          },
          "geo": {
           "bgcolor": "white",
           "lakecolor": "white",
           "landcolor": "white",
           "showlakes": true,
           "showland": true,
           "subunitcolor": "#C8D4E3"
          },
          "hoverlabel": {
           "align": "left"
          },
          "hovermode": "closest",
          "mapbox": {
           "style": "light"
          },
          "paper_bgcolor": "white",
          "plot_bgcolor": "white",
          "polar": {
           "angularaxis": {
            "gridcolor": "#EBF0F8",
            "linecolor": "#EBF0F8",
            "ticks": ""
           },
           "bgcolor": "white",
           "radialaxis": {
            "gridcolor": "#EBF0F8",
            "linecolor": "#EBF0F8",
            "ticks": ""
           }
          },
          "scene": {
           "xaxis": {
            "backgroundcolor": "white",
            "gridcolor": "#DFE8F3",
            "gridwidth": 2,
            "linecolor": "#EBF0F8",
            "showbackground": true,
            "ticks": "",
            "zerolinecolor": "#EBF0F8"
           },
           "yaxis": {
            "backgroundcolor": "white",
            "gridcolor": "#DFE8F3",
            "gridwidth": 2,
            "linecolor": "#EBF0F8",
            "showbackground": true,
            "ticks": "",
            "zerolinecolor": "#EBF0F8"
           },
           "zaxis": {
            "backgroundcolor": "white",
            "gridcolor": "#DFE8F3",
            "gridwidth": 2,
            "linecolor": "#EBF0F8",
            "showbackground": true,
            "ticks": "",
            "zerolinecolor": "#EBF0F8"
           }
          },
          "shapedefaults": {
           "line": {
            "color": "#2a3f5f"
           }
          },
          "ternary": {
           "aaxis": {
            "gridcolor": "#DFE8F3",
            "linecolor": "#A2B1C6",
            "ticks": ""
           },
           "baxis": {
            "gridcolor": "#DFE8F3",
            "linecolor": "#A2B1C6",
            "ticks": ""
           },
           "bgcolor": "white",
           "caxis": {
            "gridcolor": "#DFE8F3",
            "linecolor": "#A2B1C6",
            "ticks": ""
           }
          },
          "title": {
           "x": 0.05
          },
          "xaxis": {
           "automargin": true,
           "gridcolor": "#EBF0F8",
           "linecolor": "#EBF0F8",
           "ticks": "",
           "title": {
            "standoff": 15
           },
           "zerolinecolor": "#EBF0F8",
           "zerolinewidth": 2
          },
          "yaxis": {
           "automargin": true,
           "gridcolor": "#EBF0F8",
           "linecolor": "#EBF0F8",
           "ticks": "",
           "title": {
            "standoff": 15
           },
           "zerolinecolor": "#EBF0F8",
           "zerolinewidth": 2
          }
         }
        },
        "title": {
         "font": {
          "family": "Helvetica",
          "size": 18
         },
         "text": "<b>COVID19: Registrert smittet i Norge</b><br>Fordeling per fylke<br>Datakilde: FHI - folkehelseinstituttet. Oppdatert 22.03.2020"
        },
        "updatemenus": [
         {
          "buttons": [
           {
            "args": [
             null,
             {
              "frame": {
               "duration": 500,
               "redraw": true
              },
              "fromcurrent": true,
              "mode": "immediate",
              "transition": {
               "duration": 500,
               "easing": "linear"
              }
             }
            ],
            "label": "&#9654;",
            "method": "animate"
           },
           {
            "args": [
             [
              null
             ],
             {
              "frame": {
               "duration": 0,
               "redraw": true
              },
              "fromcurrent": true,
              "mode": "immediate",
              "transition": {
               "duration": 0,
               "easing": "linear"
              }
             }
            ],
            "label": "&#9724;",
            "method": "animate"
           }
          ],
          "direction": "left",
          "pad": {
           "r": 10,
           "t": 70
          },
          "showactive": false,
          "type": "buttons",
          "x": 0.1,
          "xanchor": "right",
          "y": 0,
          "yanchor": "top"
         }
        ],
        "xaxis": {
         "anchor": "y",
         "domain": [
          0,
          1
         ],
         "fixedrange": true,
         "range": [
          0,
          500
         ],
         "title": {
          "text": ""
         }
        },
        "yaxis": {
         "anchor": "x",
         "categoryorder": "total ascending",
         "domain": [
          0,
          1
         ],
         "fixedrange": true,
         "separatethousands": true,
         "title": {
          "text": ""
         }
        }
       }
      },
      "text/html": [
       "<div>\n",
       "        \n",
       "        \n",
       "            <div id=\"ed304c25-9bcf-47e3-b89b-8c43b8d61c73\" class=\"plotly-graph-div\" style=\"height:600px; width:100%;\"></div>\n",
       "            <script type=\"text/javascript\">\n",
       "                require([\"plotly\"], function(Plotly) {\n",
       "                    window.PLOTLYENV=window.PLOTLYENV || {};\n",
       "                    \n",
       "                if (document.getElementById(\"ed304c25-9bcf-47e3-b89b-8c43b8d61c73\")) {\n",
       "                    Plotly.newPlot(\n",
       "                        'ed304c25-9bcf-47e3-b89b-8c43b8d61c73',\n",
       "                        [{\"alignmentgroup\": \"True\", \"hoverlabel\": {\"namelength\": 0}, \"hovertemplate\": \"RHF=Helse Midt-Norge<br>Dato=09 Mar<br>Registrerte smittede=%{text}<br>Fylke=%{y}\", \"ids\": [\"M\\u00f8re og Romsdal\", \"Tr\\u00f8ndelag\"], \"legendgroup\": \"Helse Midt-Norge\", \"marker\": {\"color\": \"#636efa\"}, \"name\": \"Helse Midt-Norge\", \"offsetgroup\": \"Helse Midt-Norge\", \"orientation\": \"h\", \"showlegend\": true, \"text\": [5.0, 22.0], \"textposition\": \"auto\", \"type\": \"bar\", \"x\": [5, 22], \"xaxis\": \"x\", \"y\": [\"M\\u00f8re og Romsdal\", \"Tr\\u00f8ndelag\"], \"yaxis\": \"y\"}, {\"alignmentgroup\": \"True\", \"hoverlabel\": {\"namelength\": 0}, \"hovertemplate\": \"RHF=Helse Nord<br>Dato=09 Mar<br>Registrerte smittede=%{text}<br>Fylke=%{y}\", \"ids\": [\"Nordland\", \"Troms og Finnmark\"], \"legendgroup\": \"Helse Nord\", \"marker\": {\"color\": \"#EF553B\"}, \"name\": \"Helse Nord\", \"offsetgroup\": \"Helse Nord\", \"orientation\": \"h\", \"showlegend\": true, \"text\": [3.0, 6.0], \"textposition\": \"auto\", \"type\": \"bar\", \"x\": [3, 6], \"xaxis\": \"x\", \"y\": [\"Nordland\", \"Troms og Finnmark\"], \"yaxis\": \"y\"}, {\"alignmentgroup\": \"True\", \"hoverlabel\": {\"namelength\": 0}, \"hovertemplate\": \"RHF=Helse S\\u00f8r-\\u00d8st<br>Dato=09 Mar<br>Registrerte smittede=%{text}<br>Fylke=%{y}\", \"ids\": [\"Agder\", \"Vestfold og Telemark\", \"Viken\", \"Innlandet\", \"Oslo\"], \"legendgroup\": \"Helse S\\u00f8r-\\u00d8st\", \"marker\": {\"color\": \"#00cc96\"}, \"name\": \"Helse S\\u00f8r-\\u00d8st\", \"offsetgroup\": \"Helse S\\u00f8r-\\u00d8st\", \"orientation\": \"h\", \"showlegend\": true, \"text\": [19.0, 5.0, 86.0, 16.0, 51.0], \"textposition\": \"auto\", \"type\": \"bar\", \"x\": [19, 5, 86, 16, 51], \"xaxis\": \"x\", \"y\": [\"Agder\", \"Vestfold og Telemark\", \"Viken\", \"Innlandet\", \"Oslo\"], \"yaxis\": \"y\"}, {\"alignmentgroup\": \"True\", \"hoverlabel\": {\"namelength\": 0}, \"hovertemplate\": \"RHF=Helse Vest<br>Dato=09 Mar<br>Registrerte smittede=%{text}<br>Fylke=%{y}\", \"ids\": [\"Rogaland\", \"Vestland\"], \"legendgroup\": \"Helse Vest\", \"marker\": {\"color\": \"#ab63fa\"}, \"name\": \"Helse Vest\", \"offsetgroup\": \"Helse Vest\", \"orientation\": \"h\", \"showlegend\": true, \"text\": [33.0, 31.0], \"textposition\": \"auto\", \"type\": \"bar\", \"x\": [33, 31], \"xaxis\": \"x\", \"y\": [\"Rogaland\", \"Vestland\"], \"yaxis\": \"y\"}],\n",
       "                        {\"autosize\": true, \"barmode\": \"relative\", \"coloraxis\": {\"showscale\": false}, \"height\": 600, \"legend\": {\"title\": {\"text\": \"RHF\"}, \"tracegroupgap\": 0}, \"margin\": {\"b\": 0, \"l\": 100, \"r\": 100, \"t\": 150}, \"paper_bgcolor\": \"rgba(0, 0, 0, 0)\", \"sliders\": [{\"active\": 0, \"currentvalue\": {\"prefix\": \"Dato=\"}, \"len\": 0.9, \"pad\": {\"b\": 10, \"t\": 60}, \"steps\": [{\"args\": [[\"09 Mar\"], {\"frame\": {\"duration\": 0, \"redraw\": true}, \"fromcurrent\": true, \"mode\": \"immediate\", \"transition\": {\"duration\": 0, \"easing\": \"linear\"}}], \"label\": \"09 Mar\", \"method\": \"animate\"}, {\"args\": [[\"10 Mar\"], {\"frame\": {\"duration\": 0, \"redraw\": true}, \"fromcurrent\": true, \"mode\": \"immediate\", \"transition\": {\"duration\": 0, \"easing\": \"linear\"}}], \"label\": \"10 Mar\", \"method\": \"animate\"}, {\"args\": [[\"11 Mar\"], {\"frame\": {\"duration\": 0, \"redraw\": true}, \"fromcurrent\": true, \"mode\": \"immediate\", \"transition\": {\"duration\": 0, \"easing\": \"linear\"}}], \"label\": \"11 Mar\", \"method\": \"animate\"}, {\"args\": [[\"12 Mar\"], {\"frame\": {\"duration\": 0, \"redraw\": true}, \"fromcurrent\": true, \"mode\": \"immediate\", \"transition\": {\"duration\": 0, \"easing\": \"linear\"}}], \"label\": \"12 Mar\", \"method\": \"animate\"}, {\"args\": [[\"13 Mar\"], {\"frame\": {\"duration\": 0, \"redraw\": true}, \"fromcurrent\": true, \"mode\": \"immediate\", \"transition\": {\"duration\": 0, \"easing\": \"linear\"}}], \"label\": \"13 Mar\", \"method\": \"animate\"}, {\"args\": [[\"14 Mar\"], {\"frame\": {\"duration\": 0, \"redraw\": true}, \"fromcurrent\": true, \"mode\": \"immediate\", \"transition\": {\"duration\": 0, \"easing\": \"linear\"}}], \"label\": \"14 Mar\", \"method\": \"animate\"}, {\"args\": [[\"15 Mar\"], {\"frame\": {\"duration\": 0, \"redraw\": true}, \"fromcurrent\": true, \"mode\": \"immediate\", \"transition\": {\"duration\": 0, \"easing\": \"linear\"}}], \"label\": \"15 Mar\", \"method\": \"animate\"}, {\"args\": [[\"16 Mar\"], {\"frame\": {\"duration\": 0, \"redraw\": true}, \"fromcurrent\": true, \"mode\": \"immediate\", \"transition\": {\"duration\": 0, \"easing\": \"linear\"}}], \"label\": \"16 Mar\", \"method\": \"animate\"}, {\"args\": [[\"17 Mar\"], {\"frame\": {\"duration\": 0, \"redraw\": true}, \"fromcurrent\": true, \"mode\": \"immediate\", \"transition\": {\"duration\": 0, \"easing\": \"linear\"}}], \"label\": \"17 Mar\", \"method\": \"animate\"}, {\"args\": [[\"18 Mar\"], {\"frame\": {\"duration\": 0, \"redraw\": true}, \"fromcurrent\": true, \"mode\": \"immediate\", \"transition\": {\"duration\": 0, \"easing\": \"linear\"}}], \"label\": \"18 Mar\", \"method\": \"animate\"}, {\"args\": [[\"19 Mar\"], {\"frame\": {\"duration\": 0, \"redraw\": true}, \"fromcurrent\": true, \"mode\": \"immediate\", \"transition\": {\"duration\": 0, \"easing\": \"linear\"}}], \"label\": \"19 Mar\", \"method\": \"animate\"}, {\"args\": [[\"20 Mar\"], {\"frame\": {\"duration\": 0, \"redraw\": true}, \"fromcurrent\": true, \"mode\": \"immediate\", \"transition\": {\"duration\": 0, \"easing\": \"linear\"}}], \"label\": \"20 Mar\", \"method\": \"animate\"}, {\"args\": [[\"21 Mar\"], {\"frame\": {\"duration\": 0, \"redraw\": true}, \"fromcurrent\": true, \"mode\": \"immediate\", \"transition\": {\"duration\": 0, \"easing\": \"linear\"}}], \"label\": \"21 Mar\", \"method\": \"animate\"}], \"x\": 0.1, \"xanchor\": \"left\", \"y\": 0, \"yanchor\": \"top\"}], \"template\": {\"data\": {\"bar\": [{\"error_x\": {\"color\": \"#2a3f5f\"}, \"error_y\": {\"color\": \"#2a3f5f\"}, \"marker\": {\"line\": {\"color\": \"white\", \"width\": 0.5}}, \"type\": \"bar\"}], \"barpolar\": [{\"marker\": {\"line\": {\"color\": \"white\", \"width\": 0.5}}, \"type\": \"barpolar\"}], \"carpet\": [{\"aaxis\": {\"endlinecolor\": \"#2a3f5f\", \"gridcolor\": \"#C8D4E3\", \"linecolor\": \"#C8D4E3\", \"minorgridcolor\": \"#C8D4E3\", \"startlinecolor\": \"#2a3f5f\"}, \"baxis\": {\"endlinecolor\": \"#2a3f5f\", \"gridcolor\": \"#C8D4E3\", \"linecolor\": \"#C8D4E3\", \"minorgridcolor\": \"#C8D4E3\", \"startlinecolor\": \"#2a3f5f\"}, \"type\": \"carpet\"}], \"choropleth\": [{\"colorbar\": {\"outlinewidth\": 0, \"ticks\": \"\"}, \"type\": \"choropleth\"}], \"contour\": [{\"colorbar\": {\"outlinewidth\": 0, \"ticks\": \"\"}, \"colorscale\": [[0.0, \"#0d0887\"], [0.1111111111111111, \"#46039f\"], [0.2222222222222222, \"#7201a8\"], [0.3333333333333333, \"#9c179e\"], [0.4444444444444444, \"#bd3786\"], [0.5555555555555556, \"#d8576b\"], [0.6666666666666666, \"#ed7953\"], [0.7777777777777778, \"#fb9f3a\"], [0.8888888888888888, \"#fdca26\"], [1.0, \"#f0f921\"]], \"type\": \"contour\"}], \"contourcarpet\": [{\"colorbar\": {\"outlinewidth\": 0, \"ticks\": \"\"}, \"type\": \"contourcarpet\"}], \"heatmap\": [{\"colorbar\": {\"outlinewidth\": 0, \"ticks\": \"\"}, \"colorscale\": [[0.0, \"#0d0887\"], [0.1111111111111111, \"#46039f\"], [0.2222222222222222, \"#7201a8\"], [0.3333333333333333, \"#9c179e\"], [0.4444444444444444, \"#bd3786\"], [0.5555555555555556, \"#d8576b\"], [0.6666666666666666, \"#ed7953\"], [0.7777777777777778, \"#fb9f3a\"], [0.8888888888888888, \"#fdca26\"], [1.0, \"#f0f921\"]], \"type\": \"heatmap\"}], \"heatmapgl\": [{\"colorbar\": {\"outlinewidth\": 0, \"ticks\": \"\"}, \"colorscale\": [[0.0, \"#0d0887\"], [0.1111111111111111, \"#46039f\"], [0.2222222222222222, \"#7201a8\"], [0.3333333333333333, \"#9c179e\"], [0.4444444444444444, \"#bd3786\"], [0.5555555555555556, \"#d8576b\"], [0.6666666666666666, \"#ed7953\"], [0.7777777777777778, \"#fb9f3a\"], [0.8888888888888888, \"#fdca26\"], [1.0, \"#f0f921\"]], \"type\": \"heatmapgl\"}], \"histogram\": [{\"marker\": {\"colorbar\": {\"outlinewidth\": 0, \"ticks\": \"\"}}, \"type\": \"histogram\"}], \"histogram2d\": [{\"colorbar\": {\"outlinewidth\": 0, \"ticks\": \"\"}, \"colorscale\": [[0.0, \"#0d0887\"], [0.1111111111111111, \"#46039f\"], [0.2222222222222222, \"#7201a8\"], [0.3333333333333333, \"#9c179e\"], [0.4444444444444444, \"#bd3786\"], [0.5555555555555556, \"#d8576b\"], [0.6666666666666666, \"#ed7953\"], [0.7777777777777778, \"#fb9f3a\"], [0.8888888888888888, \"#fdca26\"], [1.0, \"#f0f921\"]], \"type\": \"histogram2d\"}], \"histogram2dcontour\": [{\"colorbar\": {\"outlinewidth\": 0, \"ticks\": \"\"}, \"colorscale\": [[0.0, \"#0d0887\"], [0.1111111111111111, \"#46039f\"], [0.2222222222222222, \"#7201a8\"], [0.3333333333333333, \"#9c179e\"], [0.4444444444444444, \"#bd3786\"], [0.5555555555555556, \"#d8576b\"], [0.6666666666666666, \"#ed7953\"], [0.7777777777777778, \"#fb9f3a\"], [0.8888888888888888, \"#fdca26\"], [1.0, \"#f0f921\"]], \"type\": \"histogram2dcontour\"}], \"mesh3d\": [{\"colorbar\": {\"outlinewidth\": 0, \"ticks\": \"\"}, \"type\": \"mesh3d\"}], \"parcoords\": [{\"line\": {\"colorbar\": {\"outlinewidth\": 0, \"ticks\": \"\"}}, \"type\": \"parcoords\"}], \"pie\": [{\"automargin\": true, \"type\": \"pie\"}], \"scatter\": [{\"marker\": {\"colorbar\": {\"outlinewidth\": 0, \"ticks\": \"\"}}, \"type\": \"scatter\"}], \"scatter3d\": [{\"line\": {\"colorbar\": {\"outlinewidth\": 0, \"ticks\": \"\"}}, \"marker\": {\"colorbar\": {\"outlinewidth\": 0, \"ticks\": \"\"}}, \"type\": \"scatter3d\"}], \"scattercarpet\": [{\"marker\": {\"colorbar\": {\"outlinewidth\": 0, \"ticks\": \"\"}}, \"type\": \"scattercarpet\"}], \"scattergeo\": [{\"marker\": {\"colorbar\": {\"outlinewidth\": 0, \"ticks\": \"\"}}, \"type\": \"scattergeo\"}], \"scattergl\": [{\"marker\": {\"colorbar\": {\"outlinewidth\": 0, \"ticks\": \"\"}}, \"type\": \"scattergl\"}], \"scattermapbox\": [{\"marker\": {\"colorbar\": {\"outlinewidth\": 0, \"ticks\": \"\"}}, \"type\": \"scattermapbox\"}], \"scatterpolar\": [{\"marker\": {\"colorbar\": {\"outlinewidth\": 0, \"ticks\": \"\"}}, \"type\": \"scatterpolar\"}], \"scatterpolargl\": [{\"marker\": {\"colorbar\": {\"outlinewidth\": 0, \"ticks\": \"\"}}, \"type\": \"scatterpolargl\"}], \"scatterternary\": [{\"marker\": {\"colorbar\": {\"outlinewidth\": 0, \"ticks\": \"\"}}, \"type\": \"scatterternary\"}], \"surface\": [{\"colorbar\": {\"outlinewidth\": 0, \"ticks\": \"\"}, \"colorscale\": [[0.0, \"#0d0887\"], [0.1111111111111111, \"#46039f\"], [0.2222222222222222, \"#7201a8\"], [0.3333333333333333, \"#9c179e\"], [0.4444444444444444, \"#bd3786\"], [0.5555555555555556, \"#d8576b\"], [0.6666666666666666, \"#ed7953\"], [0.7777777777777778, \"#fb9f3a\"], [0.8888888888888888, \"#fdca26\"], [1.0, \"#f0f921\"]], \"type\": \"surface\"}], \"table\": [{\"cells\": {\"fill\": {\"color\": \"#EBF0F8\"}, \"line\": {\"color\": \"white\"}}, \"header\": {\"fill\": {\"color\": \"#C8D4E3\"}, \"line\": {\"color\": \"white\"}}, \"type\": \"table\"}]}, \"layout\": {\"annotationdefaults\": {\"arrowcolor\": \"#2a3f5f\", \"arrowhead\": 0, \"arrowwidth\": 1}, \"coloraxis\": {\"colorbar\": {\"outlinewidth\": 0, \"ticks\": \"\"}}, \"colorscale\": {\"diverging\": [[0, \"#8e0152\"], [0.1, \"#c51b7d\"], [0.2, \"#de77ae\"], [0.3, \"#f1b6da\"], [0.4, \"#fde0ef\"], [0.5, \"#f7f7f7\"], [0.6, \"#e6f5d0\"], [0.7, \"#b8e186\"], [0.8, \"#7fbc41\"], [0.9, \"#4d9221\"], [1, \"#276419\"]], \"sequential\": [[0.0, \"#0d0887\"], [0.1111111111111111, \"#46039f\"], [0.2222222222222222, \"#7201a8\"], [0.3333333333333333, \"#9c179e\"], [0.4444444444444444, \"#bd3786\"], [0.5555555555555556, \"#d8576b\"], [0.6666666666666666, \"#ed7953\"], [0.7777777777777778, \"#fb9f3a\"], [0.8888888888888888, \"#fdca26\"], [1.0, \"#f0f921\"]], \"sequentialminus\": [[0.0, \"#0d0887\"], [0.1111111111111111, \"#46039f\"], [0.2222222222222222, \"#7201a8\"], [0.3333333333333333, \"#9c179e\"], [0.4444444444444444, \"#bd3786\"], [0.5555555555555556, \"#d8576b\"], [0.6666666666666666, \"#ed7953\"], [0.7777777777777778, \"#fb9f3a\"], [0.8888888888888888, \"#fdca26\"], [1.0, \"#f0f921\"]]}, \"colorway\": [\"#636efa\", \"#EF553B\", \"#00cc96\", \"#ab63fa\", \"#FFA15A\", \"#19d3f3\", \"#FF6692\", \"#B6E880\", \"#FF97FF\", \"#FECB52\"], \"font\": {\"color\": \"#2a3f5f\"}, \"geo\": {\"bgcolor\": \"white\", \"lakecolor\": \"white\", \"landcolor\": \"white\", \"showlakes\": true, \"showland\": true, \"subunitcolor\": \"#C8D4E3\"}, \"hoverlabel\": {\"align\": \"left\"}, \"hovermode\": \"closest\", \"mapbox\": {\"style\": \"light\"}, \"paper_bgcolor\": \"white\", \"plot_bgcolor\": \"white\", \"polar\": {\"angularaxis\": {\"gridcolor\": \"#EBF0F8\", \"linecolor\": \"#EBF0F8\", \"ticks\": \"\"}, \"bgcolor\": \"white\", \"radialaxis\": {\"gridcolor\": \"#EBF0F8\", \"linecolor\": \"#EBF0F8\", \"ticks\": \"\"}}, \"scene\": {\"xaxis\": {\"backgroundcolor\": \"white\", \"gridcolor\": \"#DFE8F3\", \"gridwidth\": 2, \"linecolor\": \"#EBF0F8\", \"showbackground\": true, \"ticks\": \"\", \"zerolinecolor\": \"#EBF0F8\"}, \"yaxis\": {\"backgroundcolor\": \"white\", \"gridcolor\": \"#DFE8F3\", \"gridwidth\": 2, \"linecolor\": \"#EBF0F8\", \"showbackground\": true, \"ticks\": \"\", \"zerolinecolor\": \"#EBF0F8\"}, \"zaxis\": {\"backgroundcolor\": \"white\", \"gridcolor\": \"#DFE8F3\", \"gridwidth\": 2, \"linecolor\": \"#EBF0F8\", \"showbackground\": true, \"ticks\": \"\", \"zerolinecolor\": \"#EBF0F8\"}}, \"shapedefaults\": {\"line\": {\"color\": \"#2a3f5f\"}}, \"ternary\": {\"aaxis\": {\"gridcolor\": \"#DFE8F3\", \"linecolor\": \"#A2B1C6\", \"ticks\": \"\"}, \"baxis\": {\"gridcolor\": \"#DFE8F3\", \"linecolor\": \"#A2B1C6\", \"ticks\": \"\"}, \"bgcolor\": \"white\", \"caxis\": {\"gridcolor\": \"#DFE8F3\", \"linecolor\": \"#A2B1C6\", \"ticks\": \"\"}}, \"title\": {\"x\": 0.05}, \"xaxis\": {\"automargin\": true, \"gridcolor\": \"#EBF0F8\", \"linecolor\": \"#EBF0F8\", \"ticks\": \"\", \"title\": {\"standoff\": 15}, \"zerolinecolor\": \"#EBF0F8\", \"zerolinewidth\": 2}, \"yaxis\": {\"automargin\": true, \"gridcolor\": \"#EBF0F8\", \"linecolor\": \"#EBF0F8\", \"ticks\": \"\", \"title\": {\"standoff\": 15}, \"zerolinecolor\": \"#EBF0F8\", \"zerolinewidth\": 2}}}, \"title\": {\"font\": {\"family\": \"Helvetica\", \"size\": 18}, \"text\": \"<b>COVID19: Registrert smittet i Norge</b><br>Fordeling per fylke<br>Datakilde: FHI - folkehelseinstituttet. Oppdatert 22.03.2020\"}, \"updatemenus\": [{\"buttons\": [{\"args\": [null, {\"frame\": {\"duration\": 500, \"redraw\": true}, \"fromcurrent\": true, \"mode\": \"immediate\", \"transition\": {\"duration\": 500, \"easing\": \"linear\"}}], \"label\": \"&#9654;\", \"method\": \"animate\"}, {\"args\": [[null], {\"frame\": {\"duration\": 0, \"redraw\": true}, \"fromcurrent\": true, \"mode\": \"immediate\", \"transition\": {\"duration\": 0, \"easing\": \"linear\"}}], \"label\": \"&#9724;\", \"method\": \"animate\"}], \"direction\": \"left\", \"pad\": {\"r\": 10, \"t\": 70}, \"showactive\": false, \"type\": \"buttons\", \"x\": 0.1, \"xanchor\": \"right\", \"y\": 0, \"yanchor\": \"top\"}], \"xaxis\": {\"anchor\": \"y\", \"domain\": [0.0, 1.0], \"fixedrange\": true, \"range\": [0, 500], \"title\": {\"text\": \"\"}}, \"yaxis\": {\"anchor\": \"x\", \"categoryorder\": \"total ascending\", \"domain\": [0.0, 1.0], \"fixedrange\": true, \"separatethousands\": true, \"title\": {\"text\": \"\"}}},\n",
       "                        {\"responsive\": true}\n",
       "                    ).then(function(){\n",
       "                            Plotly.addFrames('ed304c25-9bcf-47e3-b89b-8c43b8d61c73', [{\"data\": [{\"alignmentgroup\": \"True\", \"hoverlabel\": {\"namelength\": 0}, \"hovertemplate\": \"RHF=Helse Midt-Norge<br>Dato=09 Mar<br>Registrerte smittede=%{text}<br>Fylke=%{y}\", \"ids\": [\"M\\u00f8re og Romsdal\", \"Tr\\u00f8ndelag\"], \"legendgroup\": \"Helse Midt-Norge\", \"marker\": {\"color\": \"#636efa\"}, \"name\": \"Helse Midt-Norge\", \"offsetgroup\": \"Helse Midt-Norge\", \"orientation\": \"h\", \"showlegend\": true, \"text\": [5.0, 22.0], \"textposition\": \"auto\", \"x\": [5, 22], \"xaxis\": \"x\", \"y\": [\"M\\u00f8re og Romsdal\", \"Tr\\u00f8ndelag\"], \"yaxis\": \"y\", \"type\": \"bar\"}, {\"alignmentgroup\": \"True\", \"hoverlabel\": {\"namelength\": 0}, \"hovertemplate\": \"RHF=Helse Nord<br>Dato=09 Mar<br>Registrerte smittede=%{text}<br>Fylke=%{y}\", \"ids\": [\"Nordland\", \"Troms og Finnmark\"], \"legendgroup\": \"Helse Nord\", \"marker\": {\"color\": \"#EF553B\"}, \"name\": \"Helse Nord\", \"offsetgroup\": \"Helse Nord\", \"orientation\": \"h\", \"showlegend\": true, \"text\": [3.0, 6.0], \"textposition\": \"auto\", \"x\": [3, 6], \"xaxis\": \"x\", \"y\": [\"Nordland\", \"Troms og Finnmark\"], \"yaxis\": \"y\", \"type\": \"bar\"}, {\"alignmentgroup\": \"True\", \"hoverlabel\": {\"namelength\": 0}, \"hovertemplate\": \"RHF=Helse S\\u00f8r-\\u00d8st<br>Dato=09 Mar<br>Registrerte smittede=%{text}<br>Fylke=%{y}\", \"ids\": [\"Agder\", \"Vestfold og Telemark\", \"Viken\", \"Innlandet\", \"Oslo\"], \"legendgroup\": \"Helse S\\u00f8r-\\u00d8st\", \"marker\": {\"color\": \"#00cc96\"}, \"name\": \"Helse S\\u00f8r-\\u00d8st\", \"offsetgroup\": \"Helse S\\u00f8r-\\u00d8st\", \"orientation\": \"h\", \"showlegend\": true, \"text\": [19.0, 5.0, 86.0, 16.0, 51.0], \"textposition\": \"auto\", \"x\": [19, 5, 86, 16, 51], \"xaxis\": \"x\", \"y\": [\"Agder\", \"Vestfold og Telemark\", \"Viken\", \"Innlandet\", \"Oslo\"], \"yaxis\": \"y\", \"type\": \"bar\"}, {\"alignmentgroup\": \"True\", \"hoverlabel\": {\"namelength\": 0}, \"hovertemplate\": \"RHF=Helse Vest<br>Dato=09 Mar<br>Registrerte smittede=%{text}<br>Fylke=%{y}\", \"ids\": [\"Rogaland\", \"Vestland\"], \"legendgroup\": \"Helse Vest\", \"marker\": {\"color\": \"#ab63fa\"}, \"name\": \"Helse Vest\", \"offsetgroup\": \"Helse Vest\", \"orientation\": \"h\", \"showlegend\": true, \"text\": [33.0, 31.0], \"textposition\": \"auto\", \"x\": [33, 31], \"xaxis\": \"x\", \"y\": [\"Rogaland\", \"Vestland\"], \"yaxis\": \"y\", \"type\": \"bar\"}], \"name\": \"09 Mar\"}, {\"data\": [{\"alignmentgroup\": \"True\", \"hoverlabel\": {\"namelength\": 0}, \"hovertemplate\": \"RHF=Helse Midt-Norge<br>Dato=10 Mar<br>Registrerte smittede=%{text}<br>Fylke=%{y}\", \"ids\": [\"M\\u00f8re og Romsdal\", \"Tr\\u00f8ndelag\"], \"legendgroup\": \"Helse Midt-Norge\", \"marker\": {\"color\": \"#636efa\"}, \"name\": \"Helse Midt-Norge\", \"offsetgroup\": \"Helse Midt-Norge\", \"orientation\": \"h\", \"showlegend\": true, \"text\": [5.0, 22.0], \"textposition\": \"auto\", \"x\": [5, 22], \"xaxis\": \"x\", \"y\": [\"M\\u00f8re og Romsdal\", \"Tr\\u00f8ndelag\"], \"yaxis\": \"y\", \"type\": \"bar\"}, {\"alignmentgroup\": \"True\", \"hoverlabel\": {\"namelength\": 0}, \"hovertemplate\": \"RHF=Helse Nord<br>Dato=10 Mar<br>Registrerte smittede=%{text}<br>Fylke=%{y}\", \"ids\": [\"Nordland\", \"Troms og Finnmark\"], \"legendgroup\": \"Helse Nord\", \"marker\": {\"color\": \"#EF553B\"}, \"name\": \"Helse Nord\", \"offsetgroup\": \"Helse Nord\", \"orientation\": \"h\", \"showlegend\": true, \"text\": [3.0, 6.0], \"textposition\": \"auto\", \"x\": [3, 6], \"xaxis\": \"x\", \"y\": [\"Nordland\", \"Troms og Finnmark\"], \"yaxis\": \"y\", \"type\": \"bar\"}, {\"alignmentgroup\": \"True\", \"hoverlabel\": {\"namelength\": 0}, \"hovertemplate\": \"RHF=Helse S\\u00f8r-\\u00d8st<br>Dato=10 Mar<br>Registrerte smittede=%{text}<br>Fylke=%{y}\", \"ids\": [\"Oslo\", \"Vestfold og Telemark\", \"Agder\", \"Innlandet\", \"Viken\"], \"legendgroup\": \"Helse S\\u00f8r-\\u00d8st\", \"marker\": {\"color\": \"#00cc96\"}, \"name\": \"Helse S\\u00f8r-\\u00d8st\", \"offsetgroup\": \"Helse S\\u00f8r-\\u00d8st\", \"orientation\": \"h\", \"showlegend\": true, \"text\": [51.0, 5.0, 19.0, 16.0, 86.0], \"textposition\": \"auto\", \"x\": [51, 5, 19, 16, 86], \"xaxis\": \"x\", \"y\": [\"Oslo\", \"Vestfold og Telemark\", \"Agder\", \"Innlandet\", \"Viken\"], \"yaxis\": \"y\", \"type\": \"bar\"}, {\"alignmentgroup\": \"True\", \"hoverlabel\": {\"namelength\": 0}, \"hovertemplate\": \"RHF=Helse Vest<br>Dato=10 Mar<br>Registrerte smittede=%{text}<br>Fylke=%{y}\", \"ids\": [\"Vestland\", \"Rogaland\"], \"legendgroup\": \"Helse Vest\", \"marker\": {\"color\": \"#ab63fa\"}, \"name\": \"Helse Vest\", \"offsetgroup\": \"Helse Vest\", \"orientation\": \"h\", \"showlegend\": true, \"text\": [31.0, 33.0], \"textposition\": \"auto\", \"x\": [31, 33], \"xaxis\": \"x\", \"y\": [\"Vestland\", \"Rogaland\"], \"yaxis\": \"y\", \"type\": \"bar\"}], \"name\": \"10 Mar\"}, {\"data\": [{\"alignmentgroup\": \"True\", \"hoverlabel\": {\"namelength\": 0}, \"hovertemplate\": \"RHF=Helse Midt-Norge<br>Dato=11 Mar<br>Registrerte smittede=%{text}<br>Fylke=%{y}\", \"ids\": [\"Tr\\u00f8ndelag\", \"M\\u00f8re og Romsdal\"], \"legendgroup\": \"Helse Midt-Norge\", \"marker\": {\"color\": \"#636efa\"}, \"name\": \"Helse Midt-Norge\", \"offsetgroup\": \"Helse Midt-Norge\", \"orientation\": \"h\", \"showlegend\": true, \"text\": [25.0, 7.0], \"textposition\": \"auto\", \"x\": [25, 7], \"xaxis\": \"x\", \"y\": [\"Tr\\u00f8ndelag\", \"M\\u00f8re og Romsdal\"], \"yaxis\": \"y\", \"type\": \"bar\"}, {\"alignmentgroup\": \"True\", \"hoverlabel\": {\"namelength\": 0}, \"hovertemplate\": \"RHF=Helse Nord<br>Dato=11 Mar<br>Registrerte smittede=%{text}<br>Fylke=%{y}\", \"ids\": [\"Nordland\", \"Troms og Finnmark\"], \"legendgroup\": \"Helse Nord\", \"marker\": {\"color\": \"#EF553B\"}, \"name\": \"Helse Nord\", \"offsetgroup\": \"Helse Nord\", \"orientation\": \"h\", \"showlegend\": true, \"text\": [3.0, 7.0], \"textposition\": \"auto\", \"x\": [3, 7], \"xaxis\": \"x\", \"y\": [\"Nordland\", \"Troms og Finnmark\"], \"yaxis\": \"y\", \"type\": \"bar\"}, {\"alignmentgroup\": \"True\", \"hoverlabel\": {\"namelength\": 0}, \"hovertemplate\": \"RHF=Helse S\\u00f8r-\\u00d8st<br>Dato=11 Mar<br>Registrerte smittede=%{text}<br>Fylke=%{y}\", \"ids\": [\"Agder\", \"Oslo\", \"Viken\", \"Innlandet\", \"Vestfold og Telemark\"], \"legendgroup\": \"Helse S\\u00f8r-\\u00d8st\", \"marker\": {\"color\": \"#00cc96\"}, \"name\": \"Helse S\\u00f8r-\\u00d8st\", \"offsetgroup\": \"Helse S\\u00f8r-\\u00d8st\", \"orientation\": \"h\", \"showlegend\": true, \"text\": [20.0, 123.0, 124.0, 23.0, 15.0], \"textposition\": \"auto\", \"x\": [20, 123, 124, 23, 15], \"xaxis\": \"x\", \"y\": [\"Agder\", \"Oslo\", \"Viken\", \"Innlandet\", \"Vestfold og Telemark\"], \"yaxis\": \"y\", \"type\": \"bar\"}, {\"alignmentgroup\": \"True\", \"hoverlabel\": {\"namelength\": 0}, \"hovertemplate\": \"RHF=Helse Vest<br>Dato=11 Mar<br>Registrerte smittede=%{text}<br>Fylke=%{y}\", \"ids\": [\"Rogaland\", \"Vestland\"], \"legendgroup\": \"Helse Vest\", \"marker\": {\"color\": \"#ab63fa\"}, \"name\": \"Helse Vest\", \"offsetgroup\": \"Helse Vest\", \"orientation\": \"h\", \"showlegend\": true, \"text\": [71.0, 41.0], \"textposition\": \"auto\", \"x\": [71, 41], \"xaxis\": \"x\", \"y\": [\"Rogaland\", \"Vestland\"], \"yaxis\": \"y\", \"type\": \"bar\"}], \"name\": \"11 Mar\"}, {\"data\": [{\"alignmentgroup\": \"True\", \"hoverlabel\": {\"namelength\": 0}, \"hovertemplate\": \"RHF=Helse Midt-Norge<br>Dato=12 Mar<br>Registrerte smittede=%{text}<br>Fylke=%{y}\", \"ids\": [\"Tr\\u00f8ndelag\", \"M\\u00f8re og Romsdal\"], \"legendgroup\": \"Helse Midt-Norge\", \"marker\": {\"color\": \"#636efa\"}, \"name\": \"Helse Midt-Norge\", \"offsetgroup\": \"Helse Midt-Norge\", \"orientation\": \"h\", \"showlegend\": true, \"text\": [37.0, 6.0], \"textposition\": \"auto\", \"x\": [37, 6], \"xaxis\": \"x\", \"y\": [\"Tr\\u00f8ndelag\", \"M\\u00f8re og Romsdal\"], \"yaxis\": \"y\", \"type\": \"bar\"}, {\"alignmentgroup\": \"True\", \"hoverlabel\": {\"namelength\": 0}, \"hovertemplate\": \"RHF=Helse Nord<br>Dato=12 Mar<br>Registrerte smittede=%{text}<br>Fylke=%{y}\", \"ids\": [\"Nordland\", \"Troms og Finnmark\"], \"legendgroup\": \"Helse Nord\", \"marker\": {\"color\": \"#EF553B\"}, \"name\": \"Helse Nord\", \"offsetgroup\": \"Helse Nord\", \"orientation\": \"h\", \"showlegend\": true, \"text\": [4.0, 11.0], \"textposition\": \"auto\", \"x\": [4, 11], \"xaxis\": \"x\", \"y\": [\"Nordland\", \"Troms og Finnmark\"], \"yaxis\": \"y\", \"type\": \"bar\"}, {\"alignmentgroup\": \"True\", \"hoverlabel\": {\"namelength\": 0}, \"hovertemplate\": \"RHF=Helse S\\u00f8r-\\u00d8st<br>Dato=12 Mar<br>Registrerte smittede=%{text}<br>Fylke=%{y}\", \"ids\": [\"Oslo\", \"Vestfold og Telemark\", \"Agder\", \"Innlandet\", \"Viken\"], \"legendgroup\": \"Helse S\\u00f8r-\\u00d8st\", \"marker\": {\"color\": \"#00cc96\"}, \"name\": \"Helse S\\u00f8r-\\u00d8st\", \"offsetgroup\": \"Helse S\\u00f8r-\\u00d8st\", \"orientation\": \"h\", \"showlegend\": true, \"text\": [166.0, 22.0, 32.0, 40.0, 154.0], \"textposition\": \"auto\", \"x\": [166, 22, 32, 40, 154], \"xaxis\": \"x\", \"y\": [\"Oslo\", \"Vestfold og Telemark\", \"Agder\", \"Innlandet\", \"Viken\"], \"yaxis\": \"y\", \"type\": \"bar\"}, {\"alignmentgroup\": \"True\", \"hoverlabel\": {\"namelength\": 0}, \"hovertemplate\": \"RHF=Helse Vest<br>Dato=12 Mar<br>Registrerte smittede=%{text}<br>Fylke=%{y}\", \"ids\": [\"Rogaland\", \"Vestland\"], \"legendgroup\": \"Helse Vest\", \"marker\": {\"color\": \"#ab63fa\"}, \"name\": \"Helse Vest\", \"offsetgroup\": \"Helse Vest\", \"orientation\": \"h\", \"showlegend\": true, \"text\": [82.0, 67.0], \"textposition\": \"auto\", \"x\": [82, 67], \"xaxis\": \"x\", \"y\": [\"Rogaland\", \"Vestland\"], \"yaxis\": \"y\", \"type\": \"bar\"}], \"name\": \"12 Mar\"}, {\"data\": [{\"alignmentgroup\": \"True\", \"hoverlabel\": {\"namelength\": 0}, \"hovertemplate\": \"RHF=Helse Midt-Norge<br>Dato=13 Mar<br>Registrerte smittede=%{text}<br>Fylke=%{y}\", \"ids\": [\"M\\u00f8re og Romsdal\", \"Tr\\u00f8ndelag\"], \"legendgroup\": \"Helse Midt-Norge\", \"marker\": {\"color\": \"#636efa\"}, \"name\": \"Helse Midt-Norge\", \"offsetgroup\": \"Helse Midt-Norge\", \"orientation\": \"h\", \"showlegend\": true, \"text\": [7.0, 43.0], \"textposition\": \"auto\", \"x\": [7, 43], \"xaxis\": \"x\", \"y\": [\"M\\u00f8re og Romsdal\", \"Tr\\u00f8ndelag\"], \"yaxis\": \"y\", \"type\": \"bar\"}, {\"alignmentgroup\": \"True\", \"hoverlabel\": {\"namelength\": 0}, \"hovertemplate\": \"RHF=Helse Nord<br>Dato=13 Mar<br>Registrerte smittede=%{text}<br>Fylke=%{y}\", \"ids\": [\"Troms og Finnmark\", \"Nordland\"], \"legendgroup\": \"Helse Nord\", \"marker\": {\"color\": \"#EF553B\"}, \"name\": \"Helse Nord\", \"offsetgroup\": \"Helse Nord\", \"orientation\": \"h\", \"showlegend\": true, \"text\": [12.0, 5.0], \"textposition\": \"auto\", \"x\": [12, 5], \"xaxis\": \"x\", \"y\": [\"Troms og Finnmark\", \"Nordland\"], \"yaxis\": \"y\", \"type\": \"bar\"}, {\"alignmentgroup\": \"True\", \"hoverlabel\": {\"namelength\": 0}, \"hovertemplate\": \"RHF=Helse S\\u00f8r-\\u00d8st<br>Dato=13 Mar<br>Registrerte smittede=%{text}<br>Fylke=%{y}\", \"ids\": [\"Vestfold og Telemark\", \"Innlandet\", \"Viken\", \"Agder\", \"Oslo\"], \"legendgroup\": \"Helse S\\u00f8r-\\u00d8st\", \"marker\": {\"color\": \"#00cc96\"}, \"name\": \"Helse S\\u00f8r-\\u00d8st\", \"offsetgroup\": \"Helse S\\u00f8r-\\u00d8st\", \"orientation\": \"h\", \"showlegend\": true, \"text\": [30.0, 49.0, 180.0, 34.0, 207.0], \"textposition\": \"auto\", \"x\": [30, 49, 180, 34, 207], \"xaxis\": \"x\", \"y\": [\"Vestfold og Telemark\", \"Innlandet\", \"Viken\", \"Agder\", \"Oslo\"], \"yaxis\": \"y\", \"type\": \"bar\"}, {\"alignmentgroup\": \"True\", \"hoverlabel\": {\"namelength\": 0}, \"hovertemplate\": \"RHF=Helse Vest<br>Dato=13 Mar<br>Registrerte smittede=%{text}<br>Fylke=%{y}\", \"ids\": [\"Rogaland\", \"Vestland\"], \"legendgroup\": \"Helse Vest\", \"marker\": {\"color\": \"#ab63fa\"}, \"name\": \"Helse Vest\", \"offsetgroup\": \"Helse Vest\", \"orientation\": \"h\", \"showlegend\": true, \"text\": [105.0, 78.0], \"textposition\": \"auto\", \"x\": [105, 78], \"xaxis\": \"x\", \"y\": [\"Rogaland\", \"Vestland\"], \"yaxis\": \"y\", \"type\": \"bar\"}], \"name\": \"13 Mar\"}, {\"data\": [{\"alignmentgroup\": \"True\", \"hoverlabel\": {\"namelength\": 0}, \"hovertemplate\": \"RHF=Helse Midt-Norge<br>Dato=14 Mar<br>Registrerte smittede=%{text}<br>Fylke=%{y}\", \"ids\": [\"Tr\\u00f8ndelag\", \"M\\u00f8re og Romsdal\"], \"legendgroup\": \"Helse Midt-Norge\", \"marker\": {\"color\": \"#636efa\"}, \"name\": \"Helse Midt-Norge\", \"offsetgroup\": \"Helse Midt-Norge\", \"orientation\": \"h\", \"showlegend\": true, \"text\": [46.0, 16.0], \"textposition\": \"auto\", \"x\": [46, 16], \"xaxis\": \"x\", \"y\": [\"Tr\\u00f8ndelag\", \"M\\u00f8re og Romsdal\"], \"yaxis\": \"y\", \"type\": \"bar\"}, {\"alignmentgroup\": \"True\", \"hoverlabel\": {\"namelength\": 0}, \"hovertemplate\": \"RHF=Helse Nord<br>Dato=14 Mar<br>Registrerte smittede=%{text}<br>Fylke=%{y}\", \"ids\": [\"Troms og Finnmark\", \"Nordland\"], \"legendgroup\": \"Helse Nord\", \"marker\": {\"color\": \"#EF553B\"}, \"name\": \"Helse Nord\", \"offsetgroup\": \"Helse Nord\", \"orientation\": \"h\", \"showlegend\": true, \"text\": [16.0, 8.0], \"textposition\": \"auto\", \"x\": [16, 8], \"xaxis\": \"x\", \"y\": [\"Troms og Finnmark\", \"Nordland\"], \"yaxis\": \"y\", \"type\": \"bar\"}, {\"alignmentgroup\": \"True\", \"hoverlabel\": {\"namelength\": 0}, \"hovertemplate\": \"RHF=Helse S\\u00f8r-\\u00d8st<br>Dato=14 Mar<br>Registrerte smittede=%{text}<br>Fylke=%{y}\", \"ids\": [\"Viken\", \"Agder\", \"Innlandet\", \"Oslo\", \"Vestfold og Telemark\"], \"legendgroup\": \"Helse S\\u00f8r-\\u00d8st\", \"marker\": {\"color\": \"#00cc96\"}, \"name\": \"Helse S\\u00f8r-\\u00d8st\", \"offsetgroup\": \"Helse S\\u00f8r-\\u00d8st\", \"orientation\": \"h\", \"showlegend\": true, \"text\": [231.0, 52.0, 57.0, 222.0, 39.0], \"textposition\": \"auto\", \"x\": [231, 52, 57, 222, 39], \"xaxis\": \"x\", \"y\": [\"Viken\", \"Agder\", \"Innlandet\", \"Oslo\", \"Vestfold og Telemark\"], \"yaxis\": \"y\", \"type\": \"bar\"}, {\"alignmentgroup\": \"True\", \"hoverlabel\": {\"namelength\": 0}, \"hovertemplate\": \"RHF=Helse Vest<br>Dato=14 Mar<br>Registrerte smittede=%{text}<br>Fylke=%{y}\", \"ids\": [\"Vestland\", \"Rogaland\"], \"legendgroup\": \"Helse Vest\", \"marker\": {\"color\": \"#ab63fa\"}, \"name\": \"Helse Vest\", \"offsetgroup\": \"Helse Vest\", \"orientation\": \"h\", \"showlegend\": true, \"text\": [101.0, 119.0], \"textposition\": \"auto\", \"x\": [101, 119], \"xaxis\": \"x\", \"y\": [\"Vestland\", \"Rogaland\"], \"yaxis\": \"y\", \"type\": \"bar\"}], \"name\": \"14 Mar\"}, {\"data\": [{\"alignmentgroup\": \"True\", \"hoverlabel\": {\"namelength\": 0}, \"hovertemplate\": \"RHF=Helse Midt-Norge<br>Dato=15 Mar<br>Registrerte smittede=%{text}<br>Fylke=%{y}\", \"ids\": [\"Tr\\u00f8ndelag\", \"M\\u00f8re og Romsdal\"], \"legendgroup\": \"Helse Midt-Norge\", \"marker\": {\"color\": \"#636efa\"}, \"name\": \"Helse Midt-Norge\", \"offsetgroup\": \"Helse Midt-Norge\", \"orientation\": \"h\", \"showlegend\": true, \"text\": [50.0, 20.0], \"textposition\": \"auto\", \"x\": [50, 20], \"xaxis\": \"x\", \"y\": [\"Tr\\u00f8ndelag\", \"M\\u00f8re og Romsdal\"], \"yaxis\": \"y\", \"type\": \"bar\"}, {\"alignmentgroup\": \"True\", \"hoverlabel\": {\"namelength\": 0}, \"hovertemplate\": \"RHF=Helse Nord<br>Dato=15 Mar<br>Registrerte smittede=%{text}<br>Fylke=%{y}\", \"ids\": [\"Troms og Finnmark\", \"Nordland\"], \"legendgroup\": \"Helse Nord\", \"marker\": {\"color\": \"#EF553B\"}, \"name\": \"Helse Nord\", \"offsetgroup\": \"Helse Nord\", \"orientation\": \"h\", \"showlegend\": true, \"text\": [20.0, 8.0], \"textposition\": \"auto\", \"x\": [20, 8], \"xaxis\": \"x\", \"y\": [\"Troms og Finnmark\", \"Nordland\"], \"yaxis\": \"y\", \"type\": \"bar\"}, {\"alignmentgroup\": \"True\", \"hoverlabel\": {\"namelength\": 0}, \"hovertemplate\": \"RHF=Helse S\\u00f8r-\\u00d8st<br>Dato=15 Mar<br>Registrerte smittede=%{text}<br>Fylke=%{y}\", \"ids\": [\"Viken\", \"Vestfold og Telemark\", \"Agder\", \"Oslo\", \"Innlandet\"], \"legendgroup\": \"Helse S\\u00f8r-\\u00d8st\", \"marker\": {\"color\": \"#00cc96\"}, \"name\": \"Helse S\\u00f8r-\\u00d8st\", \"offsetgroup\": \"Helse S\\u00f8r-\\u00d8st\", \"orientation\": \"h\", \"showlegend\": true, \"text\": [278.0, 48.0, 55.0, 281.0, 72.0], \"textposition\": \"auto\", \"x\": [278, 48, 55, 281, 72], \"xaxis\": \"x\", \"y\": [\"Viken\", \"Vestfold og Telemark\", \"Agder\", \"Oslo\", \"Innlandet\"], \"yaxis\": \"y\", \"type\": \"bar\"}, {\"alignmentgroup\": \"True\", \"hoverlabel\": {\"namelength\": 0}, \"hovertemplate\": \"RHF=Helse Vest<br>Dato=15 Mar<br>Registrerte smittede=%{text}<br>Fylke=%{y}\", \"ids\": [\"Vestland\", \"Rogaland\"], \"legendgroup\": \"Helse Vest\", \"marker\": {\"color\": \"#ab63fa\"}, \"name\": \"Helse Vest\", \"offsetgroup\": \"Helse Vest\", \"orientation\": \"h\", \"showlegend\": true, \"text\": [118.0, 127.0], \"textposition\": \"auto\", \"x\": [118, 127], \"xaxis\": \"x\", \"y\": [\"Vestland\", \"Rogaland\"], \"yaxis\": \"y\", \"type\": \"bar\"}], \"name\": \"15 Mar\"}, {\"data\": [{\"alignmentgroup\": \"True\", \"hoverlabel\": {\"namelength\": 0}, \"hovertemplate\": \"RHF=Helse Midt-Norge<br>Dato=16 Mar<br>Registrerte smittede=%{text}<br>Fylke=%{y}\", \"ids\": [\"M\\u00f8re og Romsdal\", \"Tr\\u00f8ndelag\"], \"legendgroup\": \"Helse Midt-Norge\", \"marker\": {\"color\": \"#636efa\"}, \"name\": \"Helse Midt-Norge\", \"offsetgroup\": \"Helse Midt-Norge\", \"orientation\": \"h\", \"showlegend\": true, \"text\": [20.0, 52.0], \"textposition\": \"auto\", \"x\": [20, 52], \"xaxis\": \"x\", \"y\": [\"M\\u00f8re og Romsdal\", \"Tr\\u00f8ndelag\"], \"yaxis\": \"y\", \"type\": \"bar\"}, {\"alignmentgroup\": \"True\", \"hoverlabel\": {\"namelength\": 0}, \"hovertemplate\": \"RHF=Helse Nord<br>Dato=16 Mar<br>Registrerte smittede=%{text}<br>Fylke=%{y}\", \"ids\": [\"Troms og Finnmark\", \"Nordland\"], \"legendgroup\": \"Helse Nord\", \"marker\": {\"color\": \"#EF553B\"}, \"name\": \"Helse Nord\", \"offsetgroup\": \"Helse Nord\", \"orientation\": \"h\", \"showlegend\": true, \"text\": [21.0, 11.0], \"textposition\": \"auto\", \"x\": [21, 11], \"xaxis\": \"x\", \"y\": [\"Troms og Finnmark\", \"Nordland\"], \"yaxis\": \"y\", \"type\": \"bar\"}, {\"alignmentgroup\": \"True\", \"hoverlabel\": {\"namelength\": 0}, \"hovertemplate\": \"RHF=Helse S\\u00f8r-\\u00d8st<br>Dato=16 Mar<br>Registrerte smittede=%{text}<br>Fylke=%{y}\", \"ids\": [\"Oslo\", \"Agder\", \"Viken\", \"Vestfold og Telemark\", \"Innlandet\"], \"legendgroup\": \"Helse S\\u00f8r-\\u00d8st\", \"marker\": {\"color\": \"#00cc96\"}, \"name\": \"Helse S\\u00f8r-\\u00d8st\", \"offsetgroup\": \"Helse S\\u00f8r-\\u00d8st\", \"orientation\": \"h\", \"showlegend\": true, \"text\": [292.0, 67.0, 314.0, 53.0, 81.0], \"textposition\": \"auto\", \"x\": [292, 67, 314, 53, 81], \"xaxis\": \"x\", \"y\": [\"Oslo\", \"Agder\", \"Viken\", \"Vestfold og Telemark\", \"Innlandet\"], \"yaxis\": \"y\", \"type\": \"bar\"}, {\"alignmentgroup\": \"True\", \"hoverlabel\": {\"namelength\": 0}, \"hovertemplate\": \"RHF=Helse Vest<br>Dato=16 Mar<br>Registrerte smittede=%{text}<br>Fylke=%{y}\", \"ids\": [\"Rogaland\", \"Vestland\"], \"legendgroup\": \"Helse Vest\", \"marker\": {\"color\": \"#ab63fa\"}, \"name\": \"Helse Vest\", \"offsetgroup\": \"Helse Vest\", \"orientation\": \"h\", \"showlegend\": true, \"text\": [131.0, 127.0], \"textposition\": \"auto\", \"x\": [131, 127], \"xaxis\": \"x\", \"y\": [\"Rogaland\", \"Vestland\"], \"yaxis\": \"y\", \"type\": \"bar\"}], \"name\": \"16 Mar\"}, {\"data\": [{\"alignmentgroup\": \"True\", \"hoverlabel\": {\"namelength\": 0}, \"hovertemplate\": \"RHF=Helse Midt-Norge<br>Dato=17 Mar<br>Registrerte smittede=%{text}<br>Fylke=%{y}\", \"ids\": [\"Tr\\u00f8ndelag\", \"M\\u00f8re og Romsdal\"], \"legendgroup\": \"Helse Midt-Norge\", \"marker\": {\"color\": \"#636efa\"}, \"name\": \"Helse Midt-Norge\", \"offsetgroup\": \"Helse Midt-Norge\", \"orientation\": \"h\", \"showlegend\": true, \"text\": [61.0, 20.0], \"textposition\": \"auto\", \"x\": [61, 20], \"xaxis\": \"x\", \"y\": [\"Tr\\u00f8ndelag\", \"M\\u00f8re og Romsdal\"], \"yaxis\": \"y\", \"type\": \"bar\"}, {\"alignmentgroup\": \"True\", \"hoverlabel\": {\"namelength\": 0}, \"hovertemplate\": \"RHF=Helse Nord<br>Dato=17 Mar<br>Registrerte smittede=%{text}<br>Fylke=%{y}\", \"ids\": [\"Nordland\", \"Troms og Finnmark\"], \"legendgroup\": \"Helse Nord\", \"marker\": {\"color\": \"#EF553B\"}, \"name\": \"Helse Nord\", \"offsetgroup\": \"Helse Nord\", \"orientation\": \"h\", \"showlegend\": true, \"text\": [11.0, 24.0], \"textposition\": \"auto\", \"x\": [11, 24], \"xaxis\": \"x\", \"y\": [\"Nordland\", \"Troms og Finnmark\"], \"yaxis\": \"y\", \"type\": \"bar\"}, {\"alignmentgroup\": \"True\", \"hoverlabel\": {\"namelength\": 0}, \"hovertemplate\": \"RHF=Helse S\\u00f8r-\\u00d8st<br>Dato=17 Mar<br>Registrerte smittede=%{text}<br>Fylke=%{y}\", \"ids\": [\"Vestfold og Telemark\", \"Oslo\", \"Agder\", \"Viken\", \"Innlandet\"], \"legendgroup\": \"Helse S\\u00f8r-\\u00d8st\", \"marker\": {\"color\": \"#00cc96\"}, \"name\": \"Helse S\\u00f8r-\\u00d8st\", \"offsetgroup\": \"Helse S\\u00f8r-\\u00d8st\", \"orientation\": \"h\", \"showlegend\": true, \"text\": [59.0, 329.0, 67.0, 358.0, 88.0], \"textposition\": \"auto\", \"x\": [59, 329, 67, 358, 88], \"xaxis\": \"x\", \"y\": [\"Vestfold og Telemark\", \"Oslo\", \"Agder\", \"Viken\", \"Innlandet\"], \"yaxis\": \"y\", \"type\": \"bar\"}, {\"alignmentgroup\": \"True\", \"hoverlabel\": {\"namelength\": 0}, \"hovertemplate\": \"RHF=Helse Vest<br>Dato=17 Mar<br>Registrerte smittede=%{text}<br>Fylke=%{y}\", \"ids\": [\"Vestland\", \"Rogaland\"], \"legendgroup\": \"Helse Vest\", \"marker\": {\"color\": \"#ab63fa\"}, \"name\": \"Helse Vest\", \"offsetgroup\": \"Helse Vest\", \"orientation\": \"h\", \"showlegend\": true, \"text\": [141.0, 150.0], \"textposition\": \"auto\", \"x\": [141, 150], \"xaxis\": \"x\", \"y\": [\"Vestland\", \"Rogaland\"], \"yaxis\": \"y\", \"type\": \"bar\"}], \"name\": \"17 Mar\"}, {\"data\": [{\"alignmentgroup\": \"True\", \"hoverlabel\": {\"namelength\": 0}, \"hovertemplate\": \"RHF=Helse Midt-Norge<br>Dato=18 Mar<br>Registrerte smittede=%{text}<br>Fylke=%{y}\", \"ids\": [\"M\\u00f8re og Romsdal\", \"Tr\\u00f8ndelag\"], \"legendgroup\": \"Helse Midt-Norge\", \"marker\": {\"color\": \"#636efa\"}, \"name\": \"Helse Midt-Norge\", \"offsetgroup\": \"Helse Midt-Norge\", \"orientation\": \"h\", \"showlegend\": true, \"text\": [20.0, 70.0], \"textposition\": \"auto\", \"x\": [20, 70], \"xaxis\": \"x\", \"y\": [\"M\\u00f8re og Romsdal\", \"Tr\\u00f8ndelag\"], \"yaxis\": \"y\", \"type\": \"bar\"}, {\"alignmentgroup\": \"True\", \"hoverlabel\": {\"namelength\": 0}, \"hovertemplate\": \"RHF=Helse Nord<br>Dato=18 Mar<br>Registrerte smittede=%{text}<br>Fylke=%{y}\", \"ids\": [\"Troms og Finnmark\", \"Nordland\"], \"legendgroup\": \"Helse Nord\", \"marker\": {\"color\": \"#EF553B\"}, \"name\": \"Helse Nord\", \"offsetgroup\": \"Helse Nord\", \"orientation\": \"h\", \"showlegend\": true, \"text\": [28.0, 12.0], \"textposition\": \"auto\", \"x\": [28, 12], \"xaxis\": \"x\", \"y\": [\"Troms og Finnmark\", \"Nordland\"], \"yaxis\": \"y\", \"type\": \"bar\"}, {\"alignmentgroup\": \"True\", \"hoverlabel\": {\"namelength\": 0}, \"hovertemplate\": \"RHF=Helse S\\u00f8r-\\u00d8st<br>Dato=18 Mar<br>Registrerte smittede=%{text}<br>Fylke=%{y}\", \"ids\": [\"Innlandet\", \"Vestfold og Telemark\", \"Agder\", \"Viken\", \"Oslo\"], \"legendgroup\": \"Helse S\\u00f8r-\\u00d8st\", \"marker\": {\"color\": \"#00cc96\"}, \"name\": \"Helse S\\u00f8r-\\u00d8st\", \"offsetgroup\": \"Helse S\\u00f8r-\\u00d8st\", \"orientation\": \"h\", \"showlegend\": true, \"text\": [97.0, 63.0, 67.0, 410.0, 348.0], \"textposition\": \"auto\", \"x\": [97, 63, 67, 410, 348], \"xaxis\": \"x\", \"y\": [\"Innlandet\", \"Vestfold og Telemark\", \"Agder\", \"Viken\", \"Oslo\"], \"yaxis\": \"y\", \"type\": \"bar\"}, {\"alignmentgroup\": \"True\", \"hoverlabel\": {\"namelength\": 0}, \"hovertemplate\": \"RHF=Helse Vest<br>Dato=18 Mar<br>Registrerte smittede=%{text}<br>Fylke=%{y}\", \"ids\": [\"Vestland\", \"Rogaland\"], \"legendgroup\": \"Helse Vest\", \"marker\": {\"color\": \"#ab63fa\"}, \"name\": \"Helse Vest\", \"offsetgroup\": \"Helse Vest\", \"orientation\": \"h\", \"showlegend\": true, \"text\": [147.0, 161.0], \"textposition\": \"auto\", \"x\": [147, 161], \"xaxis\": \"x\", \"y\": [\"Vestland\", \"Rogaland\"], \"yaxis\": \"y\", \"type\": \"bar\"}], \"name\": \"18 Mar\"}, {\"data\": [{\"alignmentgroup\": \"True\", \"hoverlabel\": {\"namelength\": 0}, \"hovertemplate\": \"RHF=Helse Midt-Norge<br>Dato=19 Mar<br>Registrerte smittede=%{text}<br>Fylke=%{y}\", \"ids\": [\"M\\u00f8re og Romsdal\", \"Tr\\u00f8ndelag\"], \"legendgroup\": \"Helse Midt-Norge\", \"marker\": {\"color\": \"#636efa\"}, \"name\": \"Helse Midt-Norge\", \"offsetgroup\": \"Helse Midt-Norge\", \"orientation\": \"h\", \"showlegend\": true, \"text\": [25.0, 75.0], \"textposition\": \"auto\", \"x\": [25, 75], \"xaxis\": \"x\", \"y\": [\"M\\u00f8re og Romsdal\", \"Tr\\u00f8ndelag\"], \"yaxis\": \"y\", \"type\": \"bar\"}, {\"alignmentgroup\": \"True\", \"hoverlabel\": {\"namelength\": 0}, \"hovertemplate\": \"RHF=Helse Nord<br>Dato=19 Mar<br>Registrerte smittede=%{text}<br>Fylke=%{y}\", \"ids\": [\"Nordland\", \"Troms og Finnmark\"], \"legendgroup\": \"Helse Nord\", \"marker\": {\"color\": \"#EF553B\"}, \"name\": \"Helse Nord\", \"offsetgroup\": \"Helse Nord\", \"orientation\": \"h\", \"showlegend\": true, \"text\": [13.0, 28.0], \"textposition\": \"auto\", \"x\": [13, 28], \"xaxis\": \"x\", \"y\": [\"Nordland\", \"Troms og Finnmark\"], \"yaxis\": \"y\", \"type\": \"bar\"}, {\"alignmentgroup\": \"True\", \"hoverlabel\": {\"namelength\": 0}, \"hovertemplate\": \"RHF=Helse S\\u00f8r-\\u00d8st<br>Dato=19 Mar<br>Registrerte smittede=%{text}<br>Fylke=%{y}\", \"ids\": [\"Viken\", \"Vestfold og Telemark\", \"Oslo\", \"Agder\", \"Innlandet\"], \"legendgroup\": \"Helse S\\u00f8r-\\u00d8st\", \"marker\": {\"color\": \"#00cc96\"}, \"name\": \"Helse S\\u00f8r-\\u00d8st\", \"offsetgroup\": \"Helse S\\u00f8r-\\u00d8st\", \"orientation\": \"h\", \"showlegend\": true, \"text\": [445.0, 65.0, 392.0, 75.0, 105.0], \"textposition\": \"auto\", \"x\": [445, 65, 392, 75, 105], \"xaxis\": \"x\", \"y\": [\"Viken\", \"Vestfold og Telemark\", \"Oslo\", \"Agder\", \"Innlandet\"], \"yaxis\": \"y\", \"type\": \"bar\"}, {\"alignmentgroup\": \"True\", \"hoverlabel\": {\"namelength\": 0}, \"hovertemplate\": \"RHF=Helse Vest<br>Dato=19 Mar<br>Registrerte smittede=%{text}<br>Fylke=%{y}\", \"ids\": [\"Rogaland\", \"Vestland\"], \"legendgroup\": \"Helse Vest\", \"marker\": {\"color\": \"#ab63fa\"}, \"name\": \"Helse Vest\", \"offsetgroup\": \"Helse Vest\", \"orientation\": \"h\", \"showlegend\": true, \"text\": [176.0, 153.0], \"textposition\": \"auto\", \"x\": [176, 153], \"xaxis\": \"x\", \"y\": [\"Rogaland\", \"Vestland\"], \"yaxis\": \"y\", \"type\": \"bar\"}], \"name\": \"19 Mar\"}, {\"data\": [{\"alignmentgroup\": \"True\", \"hoverlabel\": {\"namelength\": 0}, \"hovertemplate\": \"RHF=Helse Midt-Norge<br>Dato=20 Mar<br>Registrerte smittede=%{text}<br>Fylke=%{y}\", \"ids\": [\"M\\u00f8re og Romsdal\", \"Tr\\u00f8ndelag\"], \"legendgroup\": \"Helse Midt-Norge\", \"marker\": {\"color\": \"#636efa\"}, \"name\": \"Helse Midt-Norge\", \"offsetgroup\": \"Helse Midt-Norge\", \"orientation\": \"h\", \"showlegend\": true, \"text\": [29.0, 97.0], \"textposition\": \"auto\", \"x\": [29, 97], \"xaxis\": \"x\", \"y\": [\"M\\u00f8re og Romsdal\", \"Tr\\u00f8ndelag\"], \"yaxis\": \"y\", \"type\": \"bar\"}, {\"alignmentgroup\": \"True\", \"hoverlabel\": {\"namelength\": 0}, \"hovertemplate\": \"RHF=Helse Nord<br>Dato=20 Mar<br>Registrerte smittede=%{text}<br>Fylke=%{y}\", \"ids\": [\"Troms og Finnmark\", \"Nordland\"], \"legendgroup\": \"Helse Nord\", \"marker\": {\"color\": \"#EF553B\"}, \"name\": \"Helse Nord\", \"offsetgroup\": \"Helse Nord\", \"orientation\": \"h\", \"showlegend\": true, \"text\": [32.0, 17.0], \"textposition\": \"auto\", \"x\": [32, 17], \"xaxis\": \"x\", \"y\": [\"Troms og Finnmark\", \"Nordland\"], \"yaxis\": \"y\", \"type\": \"bar\"}, {\"alignmentgroup\": \"True\", \"hoverlabel\": {\"namelength\": 0}, \"hovertemplate\": \"RHF=Helse S\\u00f8r-\\u00d8st<br>Dato=20 Mar<br>Registrerte smittede=%{text}<br>Fylke=%{y}\", \"ids\": [\"Agder\", \"Oslo\", \"Innlandet\", \"Vestfold og Telemark\", \"Viken\"], \"legendgroup\": \"Helse S\\u00f8r-\\u00d8st\", \"marker\": {\"color\": \"#00cc96\"}, \"name\": \"Helse S\\u00f8r-\\u00d8st\", \"offsetgroup\": \"Helse S\\u00f8r-\\u00d8st\", \"orientation\": \"h\", \"showlegend\": true, \"text\": [79.0, 419.0, 115.0, 72.0, 529.0], \"textposition\": \"auto\", \"x\": [79, 419, 115, 72, 529], \"xaxis\": \"x\", \"y\": [\"Agder\", \"Oslo\", \"Innlandet\", \"Vestfold og Telemark\", \"Viken\"], \"yaxis\": \"y\", \"type\": \"bar\"}, {\"alignmentgroup\": \"True\", \"hoverlabel\": {\"namelength\": 0}, \"hovertemplate\": \"RHF=Helse Vest<br>Dato=20 Mar<br>Registrerte smittede=%{text}<br>Fylke=%{y}\", \"ids\": [\"Vestland\", \"Rogaland\"], \"legendgroup\": \"Helse Vest\", \"marker\": {\"color\": \"#ab63fa\"}, \"name\": \"Helse Vest\", \"offsetgroup\": \"Helse Vest\", \"orientation\": \"h\", \"showlegend\": true, \"text\": [173.0, 180.0], \"textposition\": \"auto\", \"x\": [173, 180], \"xaxis\": \"x\", \"y\": [\"Vestland\", \"Rogaland\"], \"yaxis\": \"y\", \"type\": \"bar\"}], \"name\": \"20 Mar\"}, {\"data\": [{\"alignmentgroup\": \"True\", \"hoverlabel\": {\"namelength\": 0}, \"hovertemplate\": \"RHF=Helse Midt-Norge<br>Dato=21 Mar<br>Registrerte smittede=%{text}<br>Fylke=%{y}\", \"ids\": [\"Tr\\u00f8ndelag\", \"M\\u00f8re og Romsdal\"], \"legendgroup\": \"Helse Midt-Norge\", \"marker\": {\"color\": \"#636efa\"}, \"name\": \"Helse Midt-Norge\", \"offsetgroup\": \"Helse Midt-Norge\", \"orientation\": \"h\", \"showlegend\": true, \"text\": [122.0, 32.0], \"textposition\": \"auto\", \"x\": [122, 32], \"xaxis\": \"x\", \"y\": [\"Tr\\u00f8ndelag\", \"M\\u00f8re og Romsdal\"], \"yaxis\": \"y\", \"type\": \"bar\"}, {\"alignmentgroup\": \"True\", \"hoverlabel\": {\"namelength\": 0}, \"hovertemplate\": \"RHF=Helse Nord<br>Dato=21 Mar<br>Registrerte smittede=%{text}<br>Fylke=%{y}\", \"ids\": [\"Troms og Finnmark\", \"Nordland\"], \"legendgroup\": \"Helse Nord\", \"marker\": {\"color\": \"#EF553B\"}, \"name\": \"Helse Nord\", \"offsetgroup\": \"Helse Nord\", \"orientation\": \"h\", \"showlegend\": true, \"text\": [37.0, 17.0], \"textposition\": \"auto\", \"x\": [37, 17], \"xaxis\": \"x\", \"y\": [\"Troms og Finnmark\", \"Nordland\"], \"yaxis\": \"y\", \"type\": \"bar\"}, {\"alignmentgroup\": \"True\", \"hoverlabel\": {\"namelength\": 0}, \"hovertemplate\": \"RHF=Helse S\\u00f8r-\\u00d8st<br>Dato=21 Mar<br>Registrerte smittede=%{text}<br>Fylke=%{y}\", \"ids\": [\"Agder\", \"Innlandet\", \"Vestfold og Telemark\", \"Oslo\", \"Viken\"], \"legendgroup\": \"Helse S\\u00f8r-\\u00d8st\", \"marker\": {\"color\": \"#00cc96\"}, \"name\": \"Helse S\\u00f8r-\\u00d8st\", \"offsetgroup\": \"Helse S\\u00f8r-\\u00d8st\", \"orientation\": \"h\", \"showlegend\": true, \"text\": [82.0, 125.0, 81.0, 448.0, 583.0], \"textposition\": \"auto\", \"x\": [82, 125, 81, 448, 583], \"xaxis\": \"x\", \"y\": [\"Agder\", \"Innlandet\", \"Vestfold og Telemark\", \"Oslo\", \"Viken\"], \"yaxis\": \"y\", \"type\": \"bar\"}, {\"alignmentgroup\": \"True\", \"hoverlabel\": {\"namelength\": 0}, \"hovertemplate\": \"RHF=Helse Vest<br>Dato=21 Mar<br>Registrerte smittede=%{text}<br>Fylke=%{y}\", \"ids\": [\"Vestland\", \"Rogaland\"], \"legendgroup\": \"Helse Vest\", \"marker\": {\"color\": \"#ab63fa\"}, \"name\": \"Helse Vest\", \"offsetgroup\": \"Helse Vest\", \"orientation\": \"h\", \"showlegend\": true, \"text\": [200.0, 199.0], \"textposition\": \"auto\", \"x\": [200, 199], \"xaxis\": \"x\", \"y\": [\"Vestland\", \"Rogaland\"], \"yaxis\": \"y\", \"type\": \"bar\"}], \"name\": \"21 Mar\"}]);\n",
       "                        }).then(function(){\n",
       "                            \n",
       "var gd = document.getElementById('ed304c25-9bcf-47e3-b89b-8c43b8d61c73');\n",
       "var x = new MutationObserver(function (mutations, observer) {{\n",
       "        var display = window.getComputedStyle(gd).display;\n",
       "        if (!display || display === 'none') {{\n",
       "            console.log([gd, 'removed!']);\n",
       "            Plotly.purge(gd);\n",
       "            observer.disconnect();\n",
       "        }}\n",
       "}});\n",
       "\n",
       "// Listen for the removal of the full notebook cells\n",
       "var notebookContainer = gd.closest('#notebook-container');\n",
       "if (notebookContainer) {{\n",
       "    x.observe(notebookContainer, {childList: true});\n",
       "}}\n",
       "\n",
       "// Listen for the clearing of the current output cell\n",
       "var outputEl = gd.closest('.output');\n",
       "if (outputEl) {{\n",
       "    x.observe(outputEl, {childList: true});\n",
       "}}\n",
       "\n",
       "                        })\n",
       "                };\n",
       "                });\n",
       "            </script>\n",
       "        </div>"
      ]
     },
     "metadata": {},
     "output_type": "display_data"
    }
   ],
   "source": [
    "legend = [i for i in vekst[\"RHF\"].unique()]\n",
    "legend.sort()\n",
    "\n",
    "fig = px.bar(melted, \n",
    "             x='Registrerte smittede', y='Fylke', animation_frame=\"variable\",\n",
    "             animation_group=\"Fylke\",\n",
    "             orientation='h',\n",
    "             category_orders={\"RHF\": legend},\n",
    "             labels = {\"Veksttakt\": \"daglig vekst (%)\", \"variable\": \"Dato\"},\n",
    "             color='RHF',\n",
    "             text=\"Registrerte smittede\",\n",
    "             height=600,\n",
    "             title = \"<b>COVID19: Registrert smittet i Norge</b><br>Fordeling per fylke<br>Datakilde: FHI - folkehelseinstituttet. Oppdatert \" +datetime.today().strftime('%d.%m.%Y'),\n",
    "             template = \"plotly_white\",\n",
    "             range_x=[0,600]\n",
    "                 ).update_yaxes(categoryorder=\"total ascending\")\n",
    "\n",
    "fig.layout.coloraxis.showscale = False\n",
    "\n",
    "fig.update_layout(\n",
    "    yaxis=dict(\n",
    "        separatethousands=True,\n",
    "        categoryorder = 'total ascending',\n",
    "        title_text=\"\",\n",
    "        fixedrange=True,\n",
    "    ), xaxis=dict(fixedrange=True,\n",
    "                 title_text=\"\"),\n",
    "    title_font=dict(family=\"Helvetica\", size=18),\n",
    "        margin=dict(b=150)) #bottom margin\n",
    "\n",
    "fig.update_layout(autosize=True,\n",
    "    margin=dict(l=100, r=100, t=150, b=0),\n",
    "    paper_bgcolor='rgba(0, 0, 0, 0)'\n",
    "    #plot_bgcolor='rgb(248, 248, 255)'    \n",
    "                 )\n",
    "\n",
    "#plotly.offline.plot(fig, filename='COVID19_fylkesutvikling_animation.html')\n",
    "py.plot(fig, filename='COVID19_fylkesutvikling_animation.html')\n",
    "fig.show()"
   ]
  },
  {
   "cell_type": "code",
   "execution_count": 406,
   "metadata": {},
   "outputs": [
    {
     "data": {
      "application/vnd.plotly.v1+json": {
       "config": {
        "plotlyServerURL": "https://plot.ly"
       },
       "data": [
        {
         "alignmentgroup": "True",
         "hoverlabel": {
          "namelength": 0
         },
         "hovertemplate": "RHF=Helse Midt-Norge<br>Dato=09 Mar<br>Smittede/tusen innb=%{x}<br>Fylke=%{y}<br>txt=%{text}",
         "ids": [
          "Møre og Romsdal",
          "Trøndelag"
         ],
         "legendgroup": "Helse Midt-Norge",
         "marker": {
          "color": "#636efa"
         },
         "name": "Helse Midt-Norge",
         "offsetgroup": "Helse Midt-Norge",
         "orientation": "h",
         "showlegend": true,
         "text": [
          "0.02",
          "0.05"
         ],
         "textposition": "auto",
         "type": "bar",
         "x": [
          0.018850994201434185,
          0.046938139798848734
         ],
         "xaxis": "x",
         "y": [
          "Møre og Romsdal",
          "Trøndelag"
         ],
         "yaxis": "y"
        },
        {
         "alignmentgroup": "True",
         "hoverlabel": {
          "namelength": 0
         },
         "hovertemplate": "RHF=Helse Nord<br>Dato=09 Mar<br>Smittede/tusen innb=%{x}<br>Fylke=%{y}<br>txt=%{text}",
         "ids": [
          "Nordland",
          "Troms og Finnmark"
         ],
         "legendgroup": "Helse Nord",
         "marker": {
          "color": "#EF553B"
         },
         "name": "Helse Nord",
         "offsetgroup": "Helse Nord",
         "orientation": "h",
         "showlegend": true,
         "text": [
          "0.01",
          "0.02"
         ],
         "textposition": "auto",
         "type": "bar",
         "x": [
          0.01243600638381661,
          0.024659797543062172
         ],
         "xaxis": "x",
         "y": [
          "Nordland",
          "Troms og Finnmark"
         ],
         "yaxis": "y"
        },
        {
         "alignmentgroup": "True",
         "hoverlabel": {
          "namelength": 0
         },
         "hovertemplate": "RHF=Helse Sør-Øst<br>Dato=09 Mar<br>Smittede/tusen innb=%{x}<br>Fylke=%{y}<br>txt=%{text}",
         "ids": [
          "Agder",
          "Vestfold og Telemark",
          "Viken",
          "Innlandet",
          "Oslo"
         ],
         "legendgroup": "Helse Sør-Øst",
         "marker": {
          "color": "#00cc96"
         },
         "name": "Helse Sør-Øst",
         "offsetgroup": "Helse Sør-Øst",
         "orientation": "h",
         "showlegend": true,
         "text": [
          "0.06",
          "0.01",
          "0.07",
          "0.04",
          "0.07"
         ],
         "textposition": "auto",
         "type": "bar",
         "x": [
          0.06184271769450349,
          0.0119219067420767,
          0.06928973988148232,
          0.043081976924216114,
          0.07354065067614139
         ],
         "xaxis": "x",
         "y": [
          "Agder",
          "Vestfold og Telemark",
          "Viken",
          "Innlandet",
          "Oslo"
         ],
         "yaxis": "y"
        },
        {
         "alignmentgroup": "True",
         "hoverlabel": {
          "namelength": 0
         },
         "hovertemplate": "RHF=Helse Vest<br>Dato=09 Mar<br>Smittede/tusen innb=%{x}<br>Fylke=%{y}<br>txt=%{text}",
         "ids": [
          "Rogaland",
          "Vestland"
         ],
         "legendgroup": "Helse Vest",
         "marker": {
          "color": "#ab63fa"
         },
         "name": "Helse Vest",
         "offsetgroup": "Helse Vest",
         "orientation": "h",
         "showlegend": true,
         "text": [
          "0.07",
          "0.05"
         ],
         "textposition": "auto",
         "type": "bar",
         "x": [
          0.06876547223125203,
          0.048701477225775336
         ],
         "xaxis": "x",
         "y": [
          "Rogaland",
          "Vestland"
         ],
         "yaxis": "y"
        }
       ],
       "frames": [
        {
         "data": [
          {
           "alignmentgroup": "True",
           "hoverlabel": {
            "namelength": 0
           },
           "hovertemplate": "RHF=Helse Midt-Norge<br>Dato=09 Mar<br>Smittede/tusen innb=%{x}<br>Fylke=%{y}<br>txt=%{text}",
           "ids": [
            "Møre og Romsdal",
            "Trøndelag"
           ],
           "legendgroup": "Helse Midt-Norge",
           "marker": {
            "color": "#636efa"
           },
           "name": "Helse Midt-Norge",
           "offsetgroup": "Helse Midt-Norge",
           "orientation": "h",
           "showlegend": true,
           "text": [
            "0.02",
            "0.05"
           ],
           "textposition": "auto",
           "type": "bar",
           "x": [
            0.018850994201434185,
            0.046938139798848734
           ],
           "xaxis": "x",
           "y": [
            "Møre og Romsdal",
            "Trøndelag"
           ],
           "yaxis": "y"
          },
          {
           "alignmentgroup": "True",
           "hoverlabel": {
            "namelength": 0
           },
           "hovertemplate": "RHF=Helse Nord<br>Dato=09 Mar<br>Smittede/tusen innb=%{x}<br>Fylke=%{y}<br>txt=%{text}",
           "ids": [
            "Nordland",
            "Troms og Finnmark"
           ],
           "legendgroup": "Helse Nord",
           "marker": {
            "color": "#EF553B"
           },
           "name": "Helse Nord",
           "offsetgroup": "Helse Nord",
           "orientation": "h",
           "showlegend": true,
           "text": [
            "0.01",
            "0.02"
           ],
           "textposition": "auto",
           "type": "bar",
           "x": [
            0.01243600638381661,
            0.024659797543062172
           ],
           "xaxis": "x",
           "y": [
            "Nordland",
            "Troms og Finnmark"
           ],
           "yaxis": "y"
          },
          {
           "alignmentgroup": "True",
           "hoverlabel": {
            "namelength": 0
           },
           "hovertemplate": "RHF=Helse Sør-Øst<br>Dato=09 Mar<br>Smittede/tusen innb=%{x}<br>Fylke=%{y}<br>txt=%{text}",
           "ids": [
            "Agder",
            "Vestfold og Telemark",
            "Viken",
            "Innlandet",
            "Oslo"
           ],
           "legendgroup": "Helse Sør-Øst",
           "marker": {
            "color": "#00cc96"
           },
           "name": "Helse Sør-Øst",
           "offsetgroup": "Helse Sør-Øst",
           "orientation": "h",
           "showlegend": true,
           "text": [
            "0.06",
            "0.01",
            "0.07",
            "0.04",
            "0.07"
           ],
           "textposition": "auto",
           "type": "bar",
           "x": [
            0.06184271769450349,
            0.0119219067420767,
            0.06928973988148232,
            0.043081976924216114,
            0.07354065067614139
           ],
           "xaxis": "x",
           "y": [
            "Agder",
            "Vestfold og Telemark",
            "Viken",
            "Innlandet",
            "Oslo"
           ],
           "yaxis": "y"
          },
          {
           "alignmentgroup": "True",
           "hoverlabel": {
            "namelength": 0
           },
           "hovertemplate": "RHF=Helse Vest<br>Dato=09 Mar<br>Smittede/tusen innb=%{x}<br>Fylke=%{y}<br>txt=%{text}",
           "ids": [
            "Rogaland",
            "Vestland"
           ],
           "legendgroup": "Helse Vest",
           "marker": {
            "color": "#ab63fa"
           },
           "name": "Helse Vest",
           "offsetgroup": "Helse Vest",
           "orientation": "h",
           "showlegend": true,
           "text": [
            "0.07",
            "0.05"
           ],
           "textposition": "auto",
           "type": "bar",
           "x": [
            0.06876547223125203,
            0.048701477225775336
           ],
           "xaxis": "x",
           "y": [
            "Rogaland",
            "Vestland"
           ],
           "yaxis": "y"
          }
         ],
         "name": "09 Mar"
        },
        {
         "data": [
          {
           "alignmentgroup": "True",
           "hoverlabel": {
            "namelength": 0
           },
           "hovertemplate": "RHF=Helse Midt-Norge<br>Dato=10 Mar<br>Smittede/tusen innb=%{x}<br>Fylke=%{y}<br>txt=%{text}",
           "ids": [
            "Møre og Romsdal",
            "Trøndelag"
           ],
           "legendgroup": "Helse Midt-Norge",
           "marker": {
            "color": "#636efa"
           },
           "name": "Helse Midt-Norge",
           "offsetgroup": "Helse Midt-Norge",
           "orientation": "h",
           "showlegend": true,
           "text": [
            "0.02",
            "0.05"
           ],
           "textposition": "auto",
           "type": "bar",
           "x": [
            0.018850994201434185,
            0.046938139798848734
           ],
           "xaxis": "x",
           "y": [
            "Møre og Romsdal",
            "Trøndelag"
           ],
           "yaxis": "y"
          },
          {
           "alignmentgroup": "True",
           "hoverlabel": {
            "namelength": 0
           },
           "hovertemplate": "RHF=Helse Nord<br>Dato=10 Mar<br>Smittede/tusen innb=%{x}<br>Fylke=%{y}<br>txt=%{text}",
           "ids": [
            "Nordland",
            "Troms og Finnmark"
           ],
           "legendgroup": "Helse Nord",
           "marker": {
            "color": "#EF553B"
           },
           "name": "Helse Nord",
           "offsetgroup": "Helse Nord",
           "orientation": "h",
           "showlegend": true,
           "text": [
            "0.01",
            "0.02"
           ],
           "textposition": "auto",
           "type": "bar",
           "x": [
            0.01243600638381661,
            0.024659797543062172
           ],
           "xaxis": "x",
           "y": [
            "Nordland",
            "Troms og Finnmark"
           ],
           "yaxis": "y"
          },
          {
           "alignmentgroup": "True",
           "hoverlabel": {
            "namelength": 0
           },
           "hovertemplate": "RHF=Helse Sør-Øst<br>Dato=10 Mar<br>Smittede/tusen innb=%{x}<br>Fylke=%{y}<br>txt=%{text}",
           "ids": [
            "Oslo",
            "Vestfold og Telemark",
            "Agder",
            "Innlandet",
            "Viken"
           ],
           "legendgroup": "Helse Sør-Øst",
           "marker": {
            "color": "#00cc96"
           },
           "name": "Helse Sør-Øst",
           "offsetgroup": "Helse Sør-Øst",
           "orientation": "h",
           "showlegend": true,
           "text": [
            "0.07",
            "0.01",
            "0.06",
            "0.04",
            "0.07"
           ],
           "textposition": "auto",
           "type": "bar",
           "x": [
            0.07354065067614139,
            0.0119219067420767,
            0.06184271769450349,
            0.043081976924216114,
            0.06928973988148232
           ],
           "xaxis": "x",
           "y": [
            "Oslo",
            "Vestfold og Telemark",
            "Agder",
            "Innlandet",
            "Viken"
           ],
           "yaxis": "y"
          },
          {
           "alignmentgroup": "True",
           "hoverlabel": {
            "namelength": 0
           },
           "hovertemplate": "RHF=Helse Vest<br>Dato=10 Mar<br>Smittede/tusen innb=%{x}<br>Fylke=%{y}<br>txt=%{text}",
           "ids": [
            "Vestland",
            "Rogaland"
           ],
           "legendgroup": "Helse Vest",
           "marker": {
            "color": "#ab63fa"
           },
           "name": "Helse Vest",
           "offsetgroup": "Helse Vest",
           "orientation": "h",
           "showlegend": true,
           "text": [
            "0.05",
            "0.07"
           ],
           "textposition": "auto",
           "type": "bar",
           "x": [
            0.048701477225775336,
            0.06876547223125203
           ],
           "xaxis": "x",
           "y": [
            "Vestland",
            "Rogaland"
           ],
           "yaxis": "y"
          }
         ],
         "name": "10 Mar"
        },
        {
         "data": [
          {
           "alignmentgroup": "True",
           "hoverlabel": {
            "namelength": 0
           },
           "hovertemplate": "RHF=Helse Midt-Norge<br>Dato=11 Mar<br>Smittede/tusen innb=%{x}<br>Fylke=%{y}<br>txt=%{text}",
           "ids": [
            "Trøndelag",
            "Møre og Romsdal"
           ],
           "legendgroup": "Helse Midt-Norge",
           "marker": {
            "color": "#636efa"
           },
           "name": "Helse Midt-Norge",
           "offsetgroup": "Helse Midt-Norge",
           "orientation": "h",
           "showlegend": true,
           "text": [
            "0.05",
            "0.03"
           ],
           "textposition": "auto",
           "type": "bar",
           "x": [
            0.05333879522596447,
            0.026391391882007856
           ],
           "xaxis": "x",
           "y": [
            "Trøndelag",
            "Møre og Romsdal"
           ],
           "yaxis": "y"
          },
          {
           "alignmentgroup": "True",
           "hoverlabel": {
            "namelength": 0
           },
           "hovertemplate": "RHF=Helse Nord<br>Dato=11 Mar<br>Smittede/tusen innb=%{x}<br>Fylke=%{y}<br>txt=%{text}",
           "ids": [
            "Nordland",
            "Troms og Finnmark"
           ],
           "legendgroup": "Helse Nord",
           "marker": {
            "color": "#EF553B"
           },
           "name": "Helse Nord",
           "offsetgroup": "Helse Nord",
           "orientation": "h",
           "showlegend": true,
           "text": [
            "0.01",
            "0.03"
           ],
           "textposition": "auto",
           "type": "bar",
           "x": [
            0.01243600638381661,
            0.028769763800239198
           ],
           "xaxis": "x",
           "y": [
            "Nordland",
            "Troms og Finnmark"
           ],
           "yaxis": "y"
          },
          {
           "alignmentgroup": "True",
           "hoverlabel": {
            "namelength": 0
           },
           "hovertemplate": "RHF=Helse Sør-Øst<br>Dato=11 Mar<br>Smittede/tusen innb=%{x}<br>Fylke=%{y}<br>txt=%{text}",
           "ids": [
            "Agder",
            "Oslo",
            "Viken",
            "Innlandet",
            "Vestfold og Telemark"
           ],
           "legendgroup": "Helse Sør-Øst",
           "marker": {
            "color": "#00cc96"
           },
           "name": "Helse Sør-Øst",
           "offsetgroup": "Helse Sør-Øst",
           "orientation": "h",
           "showlegend": true,
           "text": [
            "0.07",
            "0.18",
            "0.1",
            "0.06",
            "0.04"
           ],
           "textposition": "auto",
           "type": "bar",
           "x": [
            0.06509759757316157,
            0.177362745748341,
            0.0999061365733001,
            0.06193034182856066,
            0.0357657202262301
           ],
           "xaxis": "x",
           "y": [
            "Agder",
            "Oslo",
            "Viken",
            "Innlandet",
            "Vestfold og Telemark"
           ],
           "yaxis": "y"
          },
          {
           "alignmentgroup": "True",
           "hoverlabel": {
            "namelength": 0
           },
           "hovertemplate": "RHF=Helse Vest<br>Dato=11 Mar<br>Smittede/tusen innb=%{x}<br>Fylke=%{y}<br>txt=%{text}",
           "ids": [
            "Rogaland",
            "Vestland"
           ],
           "legendgroup": "Helse Vest",
           "marker": {
            "color": "#ab63fa"
           },
           "name": "Helse Vest",
           "offsetgroup": "Helse Vest",
           "orientation": "h",
           "showlegend": true,
           "text": [
            "0.15",
            "0.06"
           ],
           "textposition": "auto",
           "type": "bar",
           "x": [
            0.14794995540663317,
            0.06441163116957384
           ],
           "xaxis": "x",
           "y": [
            "Rogaland",
            "Vestland"
           ],
           "yaxis": "y"
          }
         ],
         "name": "11 Mar"
        },
        {
         "data": [
          {
           "alignmentgroup": "True",
           "hoverlabel": {
            "namelength": 0
           },
           "hovertemplate": "RHF=Helse Midt-Norge<br>Dato=12 Mar<br>Smittede/tusen innb=%{x}<br>Fylke=%{y}<br>txt=%{text}",
           "ids": [
            "Trøndelag",
            "Møre og Romsdal"
           ],
           "legendgroup": "Helse Midt-Norge",
           "marker": {
            "color": "#636efa"
           },
           "name": "Helse Midt-Norge",
           "offsetgroup": "Helse Midt-Norge",
           "orientation": "h",
           "showlegend": true,
           "text": [
            "0.08",
            "0.02"
           ],
           "textposition": "auto",
           "type": "bar",
           "x": [
            0.07894141693442742,
            0.02262119304172102
           ],
           "xaxis": "x",
           "y": [
            "Trøndelag",
            "Møre og Romsdal"
           ],
           "yaxis": "y"
          },
          {
           "alignmentgroup": "True",
           "hoverlabel": {
            "namelength": 0
           },
           "hovertemplate": "RHF=Helse Nord<br>Dato=12 Mar<br>Smittede/tusen innb=%{x}<br>Fylke=%{y}<br>txt=%{text}",
           "ids": [
            "Nordland",
            "Troms og Finnmark"
           ],
           "legendgroup": "Helse Nord",
           "marker": {
            "color": "#EF553B"
           },
           "name": "Helse Nord",
           "offsetgroup": "Helse Nord",
           "orientation": "h",
           "showlegend": true,
           "text": [
            "0.02",
            "0.05"
           ],
           "textposition": "auto",
           "type": "bar",
           "x": [
            0.016581341845088814,
            0.045209628828947315
           ],
           "xaxis": "x",
           "y": [
            "Nordland",
            "Troms og Finnmark"
           ],
           "yaxis": "y"
          },
          {
           "alignmentgroup": "True",
           "hoverlabel": {
            "namelength": 0
           },
           "hovertemplate": "RHF=Helse Sør-Øst<br>Dato=12 Mar<br>Smittede/tusen innb=%{x}<br>Fylke=%{y}<br>txt=%{text}",
           "ids": [
            "Oslo",
            "Vestfold og Telemark",
            "Agder",
            "Innlandet",
            "Viken"
           ],
           "legendgroup": "Helse Sør-Øst",
           "marker": {
            "color": "#00cc96"
           },
           "name": "Helse Sør-Øst",
           "offsetgroup": "Helse Sør-Øst",
           "orientation": "h",
           "showlegend": true,
           "text": [
            "0.24",
            "0.05",
            "0.1",
            "0.11",
            "0.12"
           ],
           "textposition": "auto",
           "type": "bar",
           "x": [
            0.23936760808312688,
            0.05245638966513748,
            0.1041561561170585,
            0.10770494231054027,
            0.12407697606684043
           ],
           "xaxis": "x",
           "y": [
            "Oslo",
            "Vestfold og Telemark",
            "Agder",
            "Innlandet",
            "Viken"
           ],
           "yaxis": "y"
          },
          {
           "alignmentgroup": "True",
           "hoverlabel": {
            "namelength": 0
           },
           "hovertemplate": "RHF=Helse Vest<br>Dato=12 Mar<br>Smittede/tusen innb=%{x}<br>Fylke=%{y}<br>txt=%{text}",
           "ids": [
            "Rogaland",
            "Vestland"
           ],
           "legendgroup": "Helse Vest",
           "marker": {
            "color": "#ab63fa"
           },
           "name": "Helse Vest",
           "offsetgroup": "Helse Vest",
           "orientation": "h",
           "showlegend": true,
           "text": [
            "0.17",
            "0.11"
           ],
           "textposition": "auto",
           "type": "bar",
           "x": [
            0.17087177948371718,
            0.10525803142344993
           ],
           "xaxis": "x",
           "y": [
            "Rogaland",
            "Vestland"
           ],
           "yaxis": "y"
          }
         ],
         "name": "12 Mar"
        },
        {
         "data": [
          {
           "alignmentgroup": "True",
           "hoverlabel": {
            "namelength": 0
           },
           "hovertemplate": "RHF=Helse Midt-Norge<br>Dato=13 Mar<br>Smittede/tusen innb=%{x}<br>Fylke=%{y}<br>txt=%{text}",
           "ids": [
            "Møre og Romsdal",
            "Trøndelag"
           ],
           "legendgroup": "Helse Midt-Norge",
           "marker": {
            "color": "#636efa"
           },
           "name": "Helse Midt-Norge",
           "offsetgroup": "Helse Midt-Norge",
           "orientation": "h",
           "showlegend": true,
           "text": [
            "0.03",
            "0.09"
           ],
           "textposition": "auto",
           "type": "bar",
           "x": [
            0.026391391882007856,
            0.0917427277886589
           ],
           "xaxis": "x",
           "y": [
            "Møre og Romsdal",
            "Trøndelag"
           ],
           "yaxis": "y"
          },
          {
           "alignmentgroup": "True",
           "hoverlabel": {
            "namelength": 0
           },
           "hovertemplate": "RHF=Helse Nord<br>Dato=13 Mar<br>Smittede/tusen innb=%{x}<br>Fylke=%{y}<br>txt=%{text}",
           "ids": [
            "Troms og Finnmark",
            "Nordland"
           ],
           "legendgroup": "Helse Nord",
           "marker": {
            "color": "#EF553B"
           },
           "name": "Helse Nord",
           "offsetgroup": "Helse Nord",
           "orientation": "h",
           "showlegend": true,
           "text": [
            "0.05",
            "0.02"
           ],
           "textposition": "auto",
           "type": "bar",
           "x": [
            0.049319595086124345,
            0.020726677306361015
           ],
           "xaxis": "x",
           "y": [
            "Troms og Finnmark",
            "Nordland"
           ],
           "yaxis": "y"
          },
          {
           "alignmentgroup": "True",
           "hoverlabel": {
            "namelength": 0
           },
           "hovertemplate": "RHF=Helse Sør-Øst<br>Dato=13 Mar<br>Smittede/tusen innb=%{x}<br>Fylke=%{y}<br>txt=%{text}",
           "ids": [
            "Vestfold og Telemark",
            "Innlandet",
            "Viken",
            "Agder",
            "Oslo"
           ],
           "legendgroup": "Helse Sør-Øst",
           "marker": {
            "color": "#00cc96"
           },
           "name": "Helse Sør-Øst",
           "offsetgroup": "Helse Sør-Øst",
           "orientation": "h",
           "showlegend": true,
           "text": [
            "0.07",
            "0.13",
            "0.15",
            "0.11",
            "0.3"
           ],
           "textposition": "auto",
           "type": "bar",
           "x": [
            0.0715314404524602,
            0.13193855433041185,
            0.14502503696124205,
            0.11066591587437466,
            0.29848852333257386
           ],
           "xaxis": "x",
           "y": [
            "Vestfold og Telemark",
            "Innlandet",
            "Viken",
            "Agder",
            "Oslo"
           ],
           "yaxis": "y"
          },
          {
           "alignmentgroup": "True",
           "hoverlabel": {
            "namelength": 0
           },
           "hovertemplate": "RHF=Helse Vest<br>Dato=13 Mar<br>Smittede/tusen innb=%{x}<br>Fylke=%{y}<br>txt=%{text}",
           "ids": [
            "Rogaland",
            "Vestland"
           ],
           "legendgroup": "Helse Vest",
           "marker": {
            "color": "#ab63fa"
           },
           "name": "Helse Vest",
           "offsetgroup": "Helse Vest",
           "orientation": "h",
           "showlegend": true,
           "text": [
            "0.22",
            "0.12"
           ],
           "textposition": "auto",
           "type": "bar",
           "x": [
            0.21879922982671102,
            0.12253920076162828
           ],
           "xaxis": "x",
           "y": [
            "Rogaland",
            "Vestland"
           ],
           "yaxis": "y"
          }
         ],
         "name": "13 Mar"
        },
        {
         "data": [
          {
           "alignmentgroup": "True",
           "hoverlabel": {
            "namelength": 0
           },
           "hovertemplate": "RHF=Helse Midt-Norge<br>Dato=14 Mar<br>Smittede/tusen innb=%{x}<br>Fylke=%{y}<br>txt=%{text}",
           "ids": [
            "Trøndelag",
            "Møre og Romsdal"
           ],
           "legendgroup": "Helse Midt-Norge",
           "marker": {
            "color": "#636efa"
           },
           "name": "Helse Midt-Norge",
           "offsetgroup": "Helse Midt-Norge",
           "orientation": "h",
           "showlegend": true,
           "text": [
            "0.1",
            "0.06"
           ],
           "textposition": "auto",
           "type": "bar",
           "x": [
            0.09814338321577463,
            0.06032318144458939
           ],
           "xaxis": "x",
           "y": [
            "Trøndelag",
            "Møre og Romsdal"
           ],
           "yaxis": "y"
          },
          {
           "alignmentgroup": "True",
           "hoverlabel": {
            "namelength": 0
           },
           "hovertemplate": "RHF=Helse Nord<br>Dato=14 Mar<br>Smittede/tusen innb=%{x}<br>Fylke=%{y}<br>txt=%{text}",
           "ids": [
            "Troms og Finnmark",
            "Nordland"
           ],
           "legendgroup": "Helse Nord",
           "marker": {
            "color": "#EF553B"
           },
           "name": "Helse Nord",
           "offsetgroup": "Helse Nord",
           "orientation": "h",
           "showlegend": true,
           "text": [
            "0.07",
            "0.03"
           ],
           "textposition": "auto",
           "type": "bar",
           "x": [
            0.06575946011483245,
            0.03316268369017763
           ],
           "xaxis": "x",
           "y": [
            "Troms og Finnmark",
            "Nordland"
           ],
           "yaxis": "y"
          },
          {
           "alignmentgroup": "True",
           "hoverlabel": {
            "namelength": 0
           },
           "hovertemplate": "RHF=Helse Sør-Øst<br>Dato=14 Mar<br>Smittede/tusen innb=%{x}<br>Fylke=%{y}<br>txt=%{text}",
           "ids": [
            "Viken",
            "Agder",
            "Innlandet",
            "Oslo",
            "Vestfold og Telemark"
           ],
           "legendgroup": "Helse Sør-Øst",
           "marker": {
            "color": "#00cc96"
           },
           "name": "Helse Sør-Øst",
           "offsetgroup": "Helse Sør-Øst",
           "orientation": "h",
           "showlegend": true,
           "text": [
            "0.19",
            "0.17",
            "0.15",
            "0.32",
            "0.09"
           ],
           "textposition": "auto",
           "type": "bar",
           "x": [
            0.18611546410026064,
            0.16925375369022005,
            0.1534795427925199,
            0.32011812647261545,
            0.09299087258819826
           ],
           "xaxis": "x",
           "y": [
            "Viken",
            "Agder",
            "Innlandet",
            "Oslo",
            "Vestfold og Telemark"
           ],
           "yaxis": "y"
          },
          {
           "alignmentgroup": "True",
           "hoverlabel": {
            "namelength": 0
           },
           "hovertemplate": "RHF=Helse Vest<br>Dato=14 Mar<br>Smittede/tusen innb=%{x}<br>Fylke=%{y}<br>txt=%{text}",
           "ids": [
            "Vestland",
            "Rogaland"
           ],
           "legendgroup": "Helse Vest",
           "marker": {
            "color": "#ab63fa"
           },
           "name": "Helse Vest",
           "offsetgroup": "Helse Vest",
           "orientation": "h",
           "showlegend": true,
           "text": [
            "0.16",
            "0.25"
           ],
           "textposition": "auto",
           "type": "bar",
           "x": [
            0.1586725548323648,
            0.2479724604702725
           ],
           "xaxis": "x",
           "y": [
            "Vestland",
            "Rogaland"
           ],
           "yaxis": "y"
          }
         ],
         "name": "14 Mar"
        },
        {
         "data": [
          {
           "alignmentgroup": "True",
           "hoverlabel": {
            "namelength": 0
           },
           "hovertemplate": "RHF=Helse Midt-Norge<br>Dato=15 Mar<br>Smittede/tusen innb=%{x}<br>Fylke=%{y}<br>txt=%{text}",
           "ids": [
            "Trøndelag",
            "Møre og Romsdal"
           ],
           "legendgroup": "Helse Midt-Norge",
           "marker": {
            "color": "#636efa"
           },
           "name": "Helse Midt-Norge",
           "offsetgroup": "Helse Midt-Norge",
           "orientation": "h",
           "showlegend": true,
           "text": [
            "0.11",
            "0.08"
           ],
           "textposition": "auto",
           "type": "bar",
           "x": [
            0.10667759045192894,
            0.07540397680573674
           ],
           "xaxis": "x",
           "y": [
            "Trøndelag",
            "Møre og Romsdal"
           ],
           "yaxis": "y"
          },
          {
           "alignmentgroup": "True",
           "hoverlabel": {
            "namelength": 0
           },
           "hovertemplate": "RHF=Helse Nord<br>Dato=15 Mar<br>Smittede/tusen innb=%{x}<br>Fylke=%{y}<br>txt=%{text}",
           "ids": [
            "Troms og Finnmark",
            "Nordland"
           ],
           "legendgroup": "Helse Nord",
           "marker": {
            "color": "#EF553B"
           },
           "name": "Helse Nord",
           "offsetgroup": "Helse Nord",
           "orientation": "h",
           "showlegend": true,
           "text": [
            "0.08",
            "0.03"
           ],
           "textposition": "auto",
           "type": "bar",
           "x": [
            0.08219932514354057,
            0.03316268369017763
           ],
           "xaxis": "x",
           "y": [
            "Troms og Finnmark",
            "Nordland"
           ],
           "yaxis": "y"
          },
          {
           "alignmentgroup": "True",
           "hoverlabel": {
            "namelength": 0
           },
           "hovertemplate": "RHF=Helse Sør-Øst<br>Dato=15 Mar<br>Smittede/tusen innb=%{x}<br>Fylke=%{y}<br>txt=%{text}",
           "ids": [
            "Viken",
            "Vestfold og Telemark",
            "Agder",
            "Oslo",
            "Innlandet"
           ],
           "legendgroup": "Helse Sør-Øst",
           "marker": {
            "color": "#00cc96"
           },
           "name": "Helse Sør-Øst",
           "offsetgroup": "Helse Sør-Øst",
           "orientation": "h",
           "showlegend": true,
           "text": [
            "0.22",
            "0.11",
            "0.18",
            "0.41",
            "0.19"
           ],
           "textposition": "auto",
           "type": "bar",
           "x": [
            0.2239831126401405,
            0.11445030472393633,
            0.1790183933261943,
            0.40519456549011235,
            0.1938688961589725
           ],
           "xaxis": "x",
           "y": [
            "Viken",
            "Vestfold og Telemark",
            "Agder",
            "Oslo",
            "Innlandet"
           ],
           "yaxis": "y"
          },
          {
           "alignmentgroup": "True",
           "hoverlabel": {
            "namelength": 0
           },
           "hovertemplate": "RHF=Helse Vest<br>Dato=15 Mar<br>Smittede/tusen innb=%{x}<br>Fylke=%{y}<br>txt=%{text}",
           "ids": [
            "Vestland",
            "Rogaland"
           ],
           "legendgroup": "Helse Vest",
           "marker": {
            "color": "#ab63fa"
           },
           "name": "Helse Vest",
           "offsetgroup": "Helse Vest",
           "orientation": "h",
           "showlegend": true,
           "text": [
            "0.19",
            "0.26"
           ],
           "textposition": "auto",
           "type": "bar",
           "x": [
            0.18537981653682226,
            0.26464287798087904
           ],
           "xaxis": "x",
           "y": [
            "Vestland",
            "Rogaland"
           ],
           "yaxis": "y"
          }
         ],
         "name": "15 Mar"
        },
        {
         "data": [
          {
           "alignmentgroup": "True",
           "hoverlabel": {
            "namelength": 0
           },
           "hovertemplate": "RHF=Helse Midt-Norge<br>Dato=16 Mar<br>Smittede/tusen innb=%{x}<br>Fylke=%{y}<br>txt=%{text}",
           "ids": [
            "Møre og Romsdal",
            "Trøndelag"
           ],
           "legendgroup": "Helse Midt-Norge",
           "marker": {
            "color": "#636efa"
           },
           "name": "Helse Midt-Norge",
           "offsetgroup": "Helse Midt-Norge",
           "orientation": "h",
           "showlegend": true,
           "text": [
            "0.08",
            "0.11"
           ],
           "textposition": "auto",
           "type": "bar",
           "x": [
            0.07540397680573674,
            0.11094469407000611
           ],
           "xaxis": "x",
           "y": [
            "Møre og Romsdal",
            "Trøndelag"
           ],
           "yaxis": "y"
          },
          {
           "alignmentgroup": "True",
           "hoverlabel": {
            "namelength": 0
           },
           "hovertemplate": "RHF=Helse Nord<br>Dato=16 Mar<br>Smittede/tusen innb=%{x}<br>Fylke=%{y}<br>txt=%{text}",
           "ids": [
            "Troms og Finnmark",
            "Nordland"
           ],
           "legendgroup": "Helse Nord",
           "marker": {
            "color": "#EF553B"
           },
           "name": "Helse Nord",
           "offsetgroup": "Helse Nord",
           "orientation": "h",
           "showlegend": true,
           "text": [
            "0.09",
            "0.05"
           ],
           "textposition": "auto",
           "type": "bar",
           "x": [
            0.0863092914007176,
            0.04559869007399424
           ],
           "xaxis": "x",
           "y": [
            "Troms og Finnmark",
            "Nordland"
           ],
           "yaxis": "y"
          },
          {
           "alignmentgroup": "True",
           "hoverlabel": {
            "namelength": 0
           },
           "hovertemplate": "RHF=Helse Sør-Øst<br>Dato=16 Mar<br>Smittede/tusen innb=%{x}<br>Fylke=%{y}<br>txt=%{text}",
           "ids": [
            "Oslo",
            "Agder",
            "Viken",
            "Vestfold og Telemark",
            "Innlandet"
           ],
           "legendgroup": "Helse Sør-Øst",
           "marker": {
            "color": "#00cc96"
           },
           "name": "Helse Sør-Øst",
           "offsetgroup": "Helse Sør-Øst",
           "orientation": "h",
           "showlegend": true,
           "text": [
            "0.42",
            "0.22",
            "0.25",
            "0.13",
            "0.22"
           ],
           "textposition": "auto",
           "type": "bar",
           "x": [
            0.4210562744594762,
            0.21807695187009124,
            0.2529881200323889,
            0.12637221146601302,
            0.21810250817884405
           ],
           "xaxis": "x",
           "y": [
            "Oslo",
            "Agder",
            "Viken",
            "Vestfold og Telemark",
            "Innlandet"
           ],
           "yaxis": "y"
          },
          {
           "alignmentgroup": "True",
           "hoverlabel": {
            "namelength": 0
           },
           "hovertemplate": "RHF=Helse Vest<br>Dato=16 Mar<br>Smittede/tusen innb=%{x}<br>Fylke=%{y}<br>txt=%{text}",
           "ids": [
            "Rogaland",
            "Vestland"
           ],
           "legendgroup": "Helse Vest",
           "marker": {
            "color": "#ab63fa"
           },
           "name": "Helse Vest",
           "offsetgroup": "Helse Vest",
           "orientation": "h",
           "showlegend": true,
           "text": [
            "0.27",
            "0.2"
           ],
           "textposition": "auto",
           "type": "bar",
           "x": [
            0.2729780867361823,
            0.1995189550862409
           ],
           "xaxis": "x",
           "y": [
            "Rogaland",
            "Vestland"
           ],
           "yaxis": "y"
          }
         ],
         "name": "16 Mar"
        },
        {
         "data": [
          {
           "alignmentgroup": "True",
           "hoverlabel": {
            "namelength": 0
           },
           "hovertemplate": "RHF=Helse Midt-Norge<br>Dato=17 Mar<br>Smittede/tusen innb=%{x}<br>Fylke=%{y}<br>txt=%{text}",
           "ids": [
            "Trøndelag",
            "Møre og Romsdal"
           ],
           "legendgroup": "Helse Midt-Norge",
           "marker": {
            "color": "#636efa"
           },
           "name": "Helse Midt-Norge",
           "offsetgroup": "Helse Midt-Norge",
           "orientation": "h",
           "showlegend": true,
           "text": [
            "0.13",
            "0.08"
           ],
           "textposition": "auto",
           "type": "bar",
           "x": [
            0.1301466603513533,
            0.07540397680573674
           ],
           "xaxis": "x",
           "y": [
            "Trøndelag",
            "Møre og Romsdal"
           ],
           "yaxis": "y"
          },
          {
           "alignmentgroup": "True",
           "hoverlabel": {
            "namelength": 0
           },
           "hovertemplate": "RHF=Helse Nord<br>Dato=17 Mar<br>Smittede/tusen innb=%{x}<br>Fylke=%{y}<br>txt=%{text}",
           "ids": [
            "Nordland",
            "Troms og Finnmark"
           ],
           "legendgroup": "Helse Nord",
           "marker": {
            "color": "#EF553B"
           },
           "name": "Helse Nord",
           "offsetgroup": "Helse Nord",
           "orientation": "h",
           "showlegend": true,
           "text": [
            "0.05",
            "0.1"
           ],
           "textposition": "auto",
           "type": "bar",
           "x": [
            0.04559869007399424,
            0.09863919017224869
           ],
           "xaxis": "x",
           "y": [
            "Nordland",
            "Troms og Finnmark"
           ],
           "yaxis": "y"
          },
          {
           "alignmentgroup": "True",
           "hoverlabel": {
            "namelength": 0
           },
           "hovertemplate": "RHF=Helse Sør-Øst<br>Dato=17 Mar<br>Smittede/tusen innb=%{x}<br>Fylke=%{y}<br>txt=%{text}",
           "ids": [
            "Vestfold og Telemark",
            "Oslo",
            "Agder",
            "Viken",
            "Innlandet"
           ],
           "legendgroup": "Helse Sør-Øst",
           "marker": {
            "color": "#00cc96"
           },
           "name": "Helse Sør-Øst",
           "offsetgroup": "Helse Sør-Øst",
           "orientation": "h",
           "showlegend": true,
           "text": [
            "0.14",
            "0.47",
            "0.22",
            "0.29",
            "0.24"
           ],
           "textposition": "auto",
           "type": "bar",
           "x": [
            0.14067849955650508,
            0.47440929553824546,
            0.21807695187009124,
            0.2884386846229148,
            0.2369508730831886
           ],
           "xaxis": "x",
           "y": [
            "Vestfold og Telemark",
            "Oslo",
            "Agder",
            "Viken",
            "Innlandet"
           ],
           "yaxis": "y"
          },
          {
           "alignmentgroup": "True",
           "hoverlabel": {
            "namelength": 0
           },
           "hovertemplate": "RHF=Helse Vest<br>Dato=17 Mar<br>Smittede/tusen innb=%{x}<br>Fylke=%{y}<br>txt=%{text}",
           "ids": [
            "Vestland",
            "Rogaland"
           ],
           "legendgroup": "Helse Vest",
           "marker": {
            "color": "#ab63fa"
           },
           "name": "Helse Vest",
           "offsetgroup": "Helse Vest",
           "orientation": "h",
           "showlegend": true,
           "text": [
            "0.22",
            "0.31"
           ],
           "textposition": "auto",
           "type": "bar",
           "x": [
            0.2215131706075588,
            0.3125703283238729
           ],
           "xaxis": "x",
           "y": [
            "Vestland",
            "Rogaland"
           ],
           "yaxis": "y"
          }
         ],
         "name": "17 Mar"
        },
        {
         "data": [
          {
           "alignmentgroup": "True",
           "hoverlabel": {
            "namelength": 0
           },
           "hovertemplate": "RHF=Helse Midt-Norge<br>Dato=18 Mar<br>Smittede/tusen innb=%{x}<br>Fylke=%{y}<br>txt=%{text}",
           "ids": [
            "Møre og Romsdal",
            "Trøndelag"
           ],
           "legendgroup": "Helse Midt-Norge",
           "marker": {
            "color": "#636efa"
           },
           "name": "Helse Midt-Norge",
           "offsetgroup": "Helse Midt-Norge",
           "orientation": "h",
           "showlegend": true,
           "text": [
            "0.08",
            "0.15"
           ],
           "textposition": "auto",
           "type": "bar",
           "x": [
            0.07540397680573674,
            0.14934862663270052
           ],
           "xaxis": "x",
           "y": [
            "Møre og Romsdal",
            "Trøndelag"
           ],
           "yaxis": "y"
          },
          {
           "alignmentgroup": "True",
           "hoverlabel": {
            "namelength": 0
           },
           "hovertemplate": "RHF=Helse Nord<br>Dato=18 Mar<br>Smittede/tusen innb=%{x}<br>Fylke=%{y}<br>txt=%{text}",
           "ids": [
            "Troms og Finnmark",
            "Nordland"
           ],
           "legendgroup": "Helse Nord",
           "marker": {
            "color": "#EF553B"
           },
           "name": "Helse Nord",
           "offsetgroup": "Helse Nord",
           "orientation": "h",
           "showlegend": true,
           "text": [
            "0.12",
            "0.05"
           ],
           "textposition": "auto",
           "type": "bar",
           "x": [
            0.11507905520095679,
            0.04974402553526644
           ],
           "xaxis": "x",
           "y": [
            "Troms og Finnmark",
            "Nordland"
           ],
           "yaxis": "y"
          },
          {
           "alignmentgroup": "True",
           "hoverlabel": {
            "namelength": 0
           },
           "hovertemplate": "RHF=Helse Sør-Øst<br>Dato=18 Mar<br>Smittede/tusen innb=%{x}<br>Fylke=%{y}<br>txt=%{text}",
           "ids": [
            "Innlandet",
            "Vestfold og Telemark",
            "Agder",
            "Viken",
            "Oslo"
           ],
           "legendgroup": "Helse Sør-Øst",
           "marker": {
            "color": "#00cc96"
           },
           "name": "Helse Sør-Øst",
           "offsetgroup": "Helse Sør-Øst",
           "orientation": "h",
           "showlegend": true,
           "text": [
            "0.26",
            "0.15",
            "0.22",
            "0.33",
            "0.5"
           ],
           "textposition": "auto",
           "type": "bar",
           "x": [
            0.2611844851030602,
            0.15021602495016642,
            0.21807695187009124,
            0.33033480641171803,
            0.5018067928489648
           ],
           "xaxis": "x",
           "y": [
            "Innlandet",
            "Vestfold og Telemark",
            "Agder",
            "Viken",
            "Oslo"
           ],
           "yaxis": "y"
          },
          {
           "alignmentgroup": "True",
           "hoverlabel": {
            "namelength": 0
           },
           "hovertemplate": "RHF=Helse Vest<br>Dato=18 Mar<br>Smittede/tusen innb=%{x}<br>Fylke=%{y}<br>txt=%{text}",
           "ids": [
            "Vestland",
            "Rogaland"
           ],
           "legendgroup": "Helse Vest",
           "marker": {
            "color": "#ab63fa"
           },
           "name": "Helse Vest",
           "offsetgroup": "Helse Vest",
           "orientation": "h",
           "showlegend": true,
           "text": [
            "0.23",
            "0.34"
           ],
           "textposition": "auto",
           "type": "bar",
           "x": [
            0.2309392629738379,
            0.33549215240095687
           ],
           "xaxis": "x",
           "y": [
            "Vestland",
            "Rogaland"
           ],
           "yaxis": "y"
          }
         ],
         "name": "18 Mar"
        },
        {
         "data": [
          {
           "alignmentgroup": "True",
           "hoverlabel": {
            "namelength": 0
           },
           "hovertemplate": "RHF=Helse Midt-Norge<br>Dato=19 Mar<br>Smittede/tusen innb=%{x}<br>Fylke=%{y}<br>txt=%{text}",
           "ids": [
            "Møre og Romsdal",
            "Trøndelag"
           ],
           "legendgroup": "Helse Midt-Norge",
           "marker": {
            "color": "#636efa"
           },
           "name": "Helse Midt-Norge",
           "offsetgroup": "Helse Midt-Norge",
           "orientation": "h",
           "showlegend": true,
           "text": [
            "0.09",
            "0.16"
           ],
           "textposition": "auto",
           "type": "bar",
           "x": [
            0.09425497100717092,
            0.16001638567789342
           ],
           "xaxis": "x",
           "y": [
            "Møre og Romsdal",
            "Trøndelag"
           ],
           "yaxis": "y"
          },
          {
           "alignmentgroup": "True",
           "hoverlabel": {
            "namelength": 0
           },
           "hovertemplate": "RHF=Helse Nord<br>Dato=19 Mar<br>Smittede/tusen innb=%{x}<br>Fylke=%{y}<br>txt=%{text}",
           "ids": [
            "Nordland",
            "Troms og Finnmark"
           ],
           "legendgroup": "Helse Nord",
           "marker": {
            "color": "#EF553B"
           },
           "name": "Helse Nord",
           "offsetgroup": "Helse Nord",
           "orientation": "h",
           "showlegend": true,
           "text": [
            "0.05",
            "0.12"
           ],
           "textposition": "auto",
           "type": "bar",
           "x": [
            0.05388936099653864,
            0.11507905520095679
           ],
           "xaxis": "x",
           "y": [
            "Nordland",
            "Troms og Finnmark"
           ],
           "yaxis": "y"
          },
          {
           "alignmentgroup": "True",
           "hoverlabel": {
            "namelength": 0
           },
           "hovertemplate": "RHF=Helse Sør-Øst<br>Dato=19 Mar<br>Smittede/tusen innb=%{x}<br>Fylke=%{y}<br>txt=%{text}",
           "ids": [
            "Viken",
            "Vestfold og Telemark",
            "Oslo",
            "Agder",
            "Innlandet"
           ],
           "legendgroup": "Helse Sør-Øst",
           "marker": {
            "color": "#00cc96"
           },
           "name": "Helse Sør-Øst",
           "offsetgroup": "Helse Sør-Øst",
           "orientation": "h",
           "showlegend": true,
           "text": [
            "0.36",
            "0.15",
            "0.57",
            "0.24",
            "0.28"
           ],
           "textposition": "auto",
           "type": "bar",
           "x": [
            0.35853411915418176,
            0.1549847876469971,
            0.5652536287264202,
            0.24411599089935587,
            0.28272547356516825
           ],
           "xaxis": "x",
           "y": [
            "Viken",
            "Vestfold og Telemark",
            "Oslo",
            "Agder",
            "Innlandet"
           ],
           "yaxis": "y"
          },
          {
           "alignmentgroup": "True",
           "hoverlabel": {
            "namelength": 0
           },
           "hovertemplate": "RHF=Helse Vest<br>Dato=19 Mar<br>Smittede/tusen innb=%{x}<br>Fylke=%{y}<br>txt=%{text}",
           "ids": [
            "Rogaland",
            "Vestland"
           ],
           "legendgroup": "Helse Vest",
           "marker": {
            "color": "#ab63fa"
           },
           "name": "Helse Vest",
           "offsetgroup": "Helse Vest",
           "orientation": "h",
           "showlegend": true,
           "text": [
            "0.37",
            "0.24"
           ],
           "textposition": "auto",
           "type": "bar",
           "x": [
            0.36674918523334415,
            0.240365355340117
           ],
           "xaxis": "x",
           "y": [
            "Rogaland",
            "Vestland"
           ],
           "yaxis": "y"
          }
         ],
         "name": "19 Mar"
        },
        {
         "data": [
          {
           "alignmentgroup": "True",
           "hoverlabel": {
            "namelength": 0
           },
           "hovertemplate": "RHF=Helse Midt-Norge<br>Dato=20 Mar<br>Smittede/tusen innb=%{x}<br>Fylke=%{y}<br>txt=%{text}",
           "ids": [
            "Møre og Romsdal",
            "Trøndelag"
           ],
           "legendgroup": "Helse Midt-Norge",
           "marker": {
            "color": "#636efa"
           },
           "name": "Helse Midt-Norge",
           "offsetgroup": "Helse Midt-Norge",
           "orientation": "h",
           "showlegend": true,
           "text": [
            "0.11",
            "0.21"
           ],
           "textposition": "auto",
           "type": "bar",
           "x": [
            0.10933576636831827,
            0.20695452547674215
           ],
           "xaxis": "x",
           "y": [
            "Møre og Romsdal",
            "Trøndelag"
           ],
           "yaxis": "y"
          },
          {
           "alignmentgroup": "True",
           "hoverlabel": {
            "namelength": 0
           },
           "hovertemplate": "RHF=Helse Nord<br>Dato=20 Mar<br>Smittede/tusen innb=%{x}<br>Fylke=%{y}<br>txt=%{text}",
           "ids": [
            "Troms og Finnmark",
            "Nordland"
           ],
           "legendgroup": "Helse Nord",
           "marker": {
            "color": "#EF553B"
           },
           "name": "Helse Nord",
           "offsetgroup": "Helse Nord",
           "orientation": "h",
           "showlegend": true,
           "text": [
            "0.13",
            "0.07"
           ],
           "textposition": "auto",
           "type": "bar",
           "x": [
            0.1315189202296649,
            0.07047070284162746
           ],
           "xaxis": "x",
           "y": [
            "Troms og Finnmark",
            "Nordland"
           ],
           "yaxis": "y"
          },
          {
           "alignmentgroup": "True",
           "hoverlabel": {
            "namelength": 0
           },
           "hovertemplate": "RHF=Helse Sør-Øst<br>Dato=20 Mar<br>Smittede/tusen innb=%{x}<br>Fylke=%{y}<br>txt=%{text}",
           "ids": [
            "Agder",
            "Oslo",
            "Innlandet",
            "Vestfold og Telemark",
            "Viken"
           ],
           "legendgroup": "Helse Sør-Øst",
           "marker": {
            "color": "#00cc96"
           },
           "name": "Helse Sør-Øst",
           "offsetgroup": "Helse Sør-Øst",
           "orientation": "h",
           "showlegend": true,
           "text": [
            "0.26",
            "0.6",
            "0.31",
            "0.17",
            "0.43"
           ],
           "textposition": "auto",
           "type": "bar",
           "x": [
            0.2571355104139882,
            0.6041869143784949,
            0.3096517091428033,
            0.17167545708590448,
            0.4262124697360947
           ],
           "xaxis": "x",
           "y": [
            "Agder",
            "Oslo",
            "Innlandet",
            "Vestfold og Telemark",
            "Viken"
           ],
           "yaxis": "y"
          },
          {
           "alignmentgroup": "True",
           "hoverlabel": {
            "namelength": 0
           },
           "hovertemplate": "RHF=Helse Vest<br>Dato=20 Mar<br>Smittede/tusen innb=%{x}<br>Fylke=%{y}<br>txt=%{text}",
           "ids": [
            "Vestland",
            "Rogaland"
           ],
           "legendgroup": "Helse Vest",
           "marker": {
            "color": "#ab63fa"
           },
           "name": "Helse Vest",
           "offsetgroup": "Helse Vest",
           "orientation": "h",
           "showlegend": true,
           "text": [
            "0.27",
            "0.38"
           ],
           "textposition": "auto",
           "type": "bar",
           "x": [
            0.27178566322771397,
            0.37508439398864746
           ],
           "xaxis": "x",
           "y": [
            "Vestland",
            "Rogaland"
           ],
           "yaxis": "y"
          }
         ],
         "name": "20 Mar"
        },
        {
         "data": [
          {
           "alignmentgroup": "True",
           "hoverlabel": {
            "namelength": 0
           },
           "hovertemplate": "RHF=Helse Midt-Norge<br>Dato=21 Mar<br>Smittede/tusen innb=%{x}<br>Fylke=%{y}<br>txt=%{text}",
           "ids": [
            "Trøndelag",
            "Møre og Romsdal"
           ],
           "legendgroup": "Helse Midt-Norge",
           "marker": {
            "color": "#636efa"
           },
           "name": "Helse Midt-Norge",
           "offsetgroup": "Helse Midt-Norge",
           "orientation": "h",
           "showlegend": true,
           "text": [
            "0.26",
            "0.12"
           ],
           "textposition": "auto",
           "type": "bar",
           "x": [
            0.2602933207027066,
            0.12064636288917878
           ],
           "xaxis": "x",
           "y": [
            "Trøndelag",
            "Møre og Romsdal"
           ],
           "yaxis": "y"
          },
          {
           "alignmentgroup": "True",
           "hoverlabel": {
            "namelength": 0
           },
           "hovertemplate": "RHF=Helse Nord<br>Dato=21 Mar<br>Smittede/tusen innb=%{x}<br>Fylke=%{y}<br>txt=%{text}",
           "ids": [
            "Troms og Finnmark",
            "Nordland"
           ],
           "legendgroup": "Helse Nord",
           "marker": {
            "color": "#EF553B"
           },
           "name": "Helse Nord",
           "offsetgroup": "Helse Nord",
           "orientation": "h",
           "showlegend": true,
           "text": [
            "0.15",
            "0.07"
           ],
           "textposition": "auto",
           "type": "bar",
           "x": [
            0.15206875151555005,
            0.07047070284162746
           ],
           "xaxis": "x",
           "y": [
            "Troms og Finnmark",
            "Nordland"
           ],
           "yaxis": "y"
          },
          {
           "alignmentgroup": "True",
           "hoverlabel": {
            "namelength": 0
           },
           "hovertemplate": "RHF=Helse Sør-Øst<br>Dato=21 Mar<br>Smittede/tusen innb=%{x}<br>Fylke=%{y}<br>txt=%{text}",
           "ids": [
            "Agder",
            "Innlandet",
            "Vestfold og Telemark",
            "Oslo",
            "Viken"
           ],
           "legendgroup": "Helse Sør-Øst",
           "marker": {
            "color": "#00cc96"
           },
           "name": "Helse Sør-Øst",
           "offsetgroup": "Helse Sør-Øst",
           "orientation": "h",
           "showlegend": true,
           "text": [
            "0.27",
            "0.34",
            "0.19",
            "0.65",
            "0.47"
           ],
           "textposition": "auto",
           "type": "bar",
           "x": [
            0.2669001500499624,
            0.3365779447204384,
            0.19313488922164254,
            0.6460041471159087,
            0.46971998082446736
           ],
           "xaxis": "x",
           "y": [
            "Agder",
            "Innlandet",
            "Vestfold og Telemark",
            "Oslo",
            "Viken"
           ],
           "yaxis": "y"
          },
          {
           "alignmentgroup": "True",
           "hoverlabel": {
            "namelength": 0
           },
           "hovertemplate": "RHF=Helse Vest<br>Dato=21 Mar<br>Smittede/tusen innb=%{x}<br>Fylke=%{y}<br>txt=%{text}",
           "ids": [
            "Vestland",
            "Rogaland"
           ],
           "legendgroup": "Helse Vest",
           "marker": {
            "color": "#ab63fa"
           },
           "name": "Helse Vest",
           "offsetgroup": "Helse Vest",
           "orientation": "h",
           "showlegend": true,
           "text": [
            "0.31",
            "0.41"
           ],
           "textposition": "auto",
           "type": "bar",
           "x": [
            0.31420307887596993,
            0.414676635576338
           ],
           "xaxis": "x",
           "y": [
            "Vestland",
            "Rogaland"
           ],
           "yaxis": "y"
          }
         ],
         "name": "21 Mar"
        }
       ],
       "layout": {
        "autosize": true,
        "barmode": "relative",
        "coloraxis": {
         "showscale": false
        },
        "height": 600,
        "legend": {
         "title": {
          "text": "RHF"
         },
         "tracegroupgap": 0
        },
        "margin": {
         "b": 0,
         "l": 100,
         "r": 100,
         "t": 150
        },
        "paper_bgcolor": "rgba(0, 0, 0, 0)",
        "sliders": [
         {
          "active": 0,
          "currentvalue": {
           "prefix": "Dato="
          },
          "len": 0.9,
          "pad": {
           "b": 10,
           "t": 60
          },
          "steps": [
           {
            "args": [
             [
              "09 Mar"
             ],
             {
              "frame": {
               "duration": 0,
               "redraw": true
              },
              "fromcurrent": true,
              "mode": "immediate",
              "transition": {
               "duration": 0,
               "easing": "linear"
              }
             }
            ],
            "label": "09 Mar",
            "method": "animate"
           },
           {
            "args": [
             [
              "10 Mar"
             ],
             {
              "frame": {
               "duration": 0,
               "redraw": true
              },
              "fromcurrent": true,
              "mode": "immediate",
              "transition": {
               "duration": 0,
               "easing": "linear"
              }
             }
            ],
            "label": "10 Mar",
            "method": "animate"
           },
           {
            "args": [
             [
              "11 Mar"
             ],
             {
              "frame": {
               "duration": 0,
               "redraw": true
              },
              "fromcurrent": true,
              "mode": "immediate",
              "transition": {
               "duration": 0,
               "easing": "linear"
              }
             }
            ],
            "label": "11 Mar",
            "method": "animate"
           },
           {
            "args": [
             [
              "12 Mar"
             ],
             {
              "frame": {
               "duration": 0,
               "redraw": true
              },
              "fromcurrent": true,
              "mode": "immediate",
              "transition": {
               "duration": 0,
               "easing": "linear"
              }
             }
            ],
            "label": "12 Mar",
            "method": "animate"
           },
           {
            "args": [
             [
              "13 Mar"
             ],
             {
              "frame": {
               "duration": 0,
               "redraw": true
              },
              "fromcurrent": true,
              "mode": "immediate",
              "transition": {
               "duration": 0,
               "easing": "linear"
              }
             }
            ],
            "label": "13 Mar",
            "method": "animate"
           },
           {
            "args": [
             [
              "14 Mar"
             ],
             {
              "frame": {
               "duration": 0,
               "redraw": true
              },
              "fromcurrent": true,
              "mode": "immediate",
              "transition": {
               "duration": 0,
               "easing": "linear"
              }
             }
            ],
            "label": "14 Mar",
            "method": "animate"
           },
           {
            "args": [
             [
              "15 Mar"
             ],
             {
              "frame": {
               "duration": 0,
               "redraw": true
              },
              "fromcurrent": true,
              "mode": "immediate",
              "transition": {
               "duration": 0,
               "easing": "linear"
              }
             }
            ],
            "label": "15 Mar",
            "method": "animate"
           },
           {
            "args": [
             [
              "16 Mar"
             ],
             {
              "frame": {
               "duration": 0,
               "redraw": true
              },
              "fromcurrent": true,
              "mode": "immediate",
              "transition": {
               "duration": 0,
               "easing": "linear"
              }
             }
            ],
            "label": "16 Mar",
            "method": "animate"
           },
           {
            "args": [
             [
              "17 Mar"
             ],
             {
              "frame": {
               "duration": 0,
               "redraw": true
              },
              "fromcurrent": true,
              "mode": "immediate",
              "transition": {
               "duration": 0,
               "easing": "linear"
              }
             }
            ],
            "label": "17 Mar",
            "method": "animate"
           },
           {
            "args": [
             [
              "18 Mar"
             ],
             {
              "frame": {
               "duration": 0,
               "redraw": true
              },
              "fromcurrent": true,
              "mode": "immediate",
              "transition": {
               "duration": 0,
               "easing": "linear"
              }
             }
            ],
            "label": "18 Mar",
            "method": "animate"
           },
           {
            "args": [
             [
              "19 Mar"
             ],
             {
              "frame": {
               "duration": 0,
               "redraw": true
              },
              "fromcurrent": true,
              "mode": "immediate",
              "transition": {
               "duration": 0,
               "easing": "linear"
              }
             }
            ],
            "label": "19 Mar",
            "method": "animate"
           },
           {
            "args": [
             [
              "20 Mar"
             ],
             {
              "frame": {
               "duration": 0,
               "redraw": true
              },
              "fromcurrent": true,
              "mode": "immediate",
              "transition": {
               "duration": 0,
               "easing": "linear"
              }
             }
            ],
            "label": "20 Mar",
            "method": "animate"
           },
           {
            "args": [
             [
              "21 Mar"
             ],
             {
              "frame": {
               "duration": 0,
               "redraw": true
              },
              "fromcurrent": true,
              "mode": "immediate",
              "transition": {
               "duration": 0,
               "easing": "linear"
              }
             }
            ],
            "label": "21 Mar",
            "method": "animate"
           }
          ],
          "x": 0.1,
          "xanchor": "left",
          "y": 0,
          "yanchor": "top"
         }
        ],
        "template": {
         "data": {
          "bar": [
           {
            "error_x": {
             "color": "#2a3f5f"
            },
            "error_y": {
             "color": "#2a3f5f"
            },
            "marker": {
             "line": {
              "color": "white",
              "width": 0.5
             }
            },
            "type": "bar"
           }
          ],
          "barpolar": [
           {
            "marker": {
             "line": {
              "color": "white",
              "width": 0.5
             }
            },
            "type": "barpolar"
           }
          ],
          "carpet": [
           {
            "aaxis": {
             "endlinecolor": "#2a3f5f",
             "gridcolor": "#C8D4E3",
             "linecolor": "#C8D4E3",
             "minorgridcolor": "#C8D4E3",
             "startlinecolor": "#2a3f5f"
            },
            "baxis": {
             "endlinecolor": "#2a3f5f",
             "gridcolor": "#C8D4E3",
             "linecolor": "#C8D4E3",
             "minorgridcolor": "#C8D4E3",
             "startlinecolor": "#2a3f5f"
            },
            "type": "carpet"
           }
          ],
          "choropleth": [
           {
            "colorbar": {
             "outlinewidth": 0,
             "ticks": ""
            },
            "type": "choropleth"
           }
          ],
          "contour": [
           {
            "colorbar": {
             "outlinewidth": 0,
             "ticks": ""
            },
            "colorscale": [
             [
              0,
              "#0d0887"
             ],
             [
              0.1111111111111111,
              "#46039f"
             ],
             [
              0.2222222222222222,
              "#7201a8"
             ],
             [
              0.3333333333333333,
              "#9c179e"
             ],
             [
              0.4444444444444444,
              "#bd3786"
             ],
             [
              0.5555555555555556,
              "#d8576b"
             ],
             [
              0.6666666666666666,
              "#ed7953"
             ],
             [
              0.7777777777777778,
              "#fb9f3a"
             ],
             [
              0.8888888888888888,
              "#fdca26"
             ],
             [
              1,
              "#f0f921"
             ]
            ],
            "type": "contour"
           }
          ],
          "contourcarpet": [
           {
            "colorbar": {
             "outlinewidth": 0,
             "ticks": ""
            },
            "type": "contourcarpet"
           }
          ],
          "heatmap": [
           {
            "colorbar": {
             "outlinewidth": 0,
             "ticks": ""
            },
            "colorscale": [
             [
              0,
              "#0d0887"
             ],
             [
              0.1111111111111111,
              "#46039f"
             ],
             [
              0.2222222222222222,
              "#7201a8"
             ],
             [
              0.3333333333333333,
              "#9c179e"
             ],
             [
              0.4444444444444444,
              "#bd3786"
             ],
             [
              0.5555555555555556,
              "#d8576b"
             ],
             [
              0.6666666666666666,
              "#ed7953"
             ],
             [
              0.7777777777777778,
              "#fb9f3a"
             ],
             [
              0.8888888888888888,
              "#fdca26"
             ],
             [
              1,
              "#f0f921"
             ]
            ],
            "type": "heatmap"
           }
          ],
          "heatmapgl": [
           {
            "colorbar": {
             "outlinewidth": 0,
             "ticks": ""
            },
            "colorscale": [
             [
              0,
              "#0d0887"
             ],
             [
              0.1111111111111111,
              "#46039f"
             ],
             [
              0.2222222222222222,
              "#7201a8"
             ],
             [
              0.3333333333333333,
              "#9c179e"
             ],
             [
              0.4444444444444444,
              "#bd3786"
             ],
             [
              0.5555555555555556,
              "#d8576b"
             ],
             [
              0.6666666666666666,
              "#ed7953"
             ],
             [
              0.7777777777777778,
              "#fb9f3a"
             ],
             [
              0.8888888888888888,
              "#fdca26"
             ],
             [
              1,
              "#f0f921"
             ]
            ],
            "type": "heatmapgl"
           }
          ],
          "histogram": [
           {
            "marker": {
             "colorbar": {
              "outlinewidth": 0,
              "ticks": ""
             }
            },
            "type": "histogram"
           }
          ],
          "histogram2d": [
           {
            "colorbar": {
             "outlinewidth": 0,
             "ticks": ""
            },
            "colorscale": [
             [
              0,
              "#0d0887"
             ],
             [
              0.1111111111111111,
              "#46039f"
             ],
             [
              0.2222222222222222,
              "#7201a8"
             ],
             [
              0.3333333333333333,
              "#9c179e"
             ],
             [
              0.4444444444444444,
              "#bd3786"
             ],
             [
              0.5555555555555556,
              "#d8576b"
             ],
             [
              0.6666666666666666,
              "#ed7953"
             ],
             [
              0.7777777777777778,
              "#fb9f3a"
             ],
             [
              0.8888888888888888,
              "#fdca26"
             ],
             [
              1,
              "#f0f921"
             ]
            ],
            "type": "histogram2d"
           }
          ],
          "histogram2dcontour": [
           {
            "colorbar": {
             "outlinewidth": 0,
             "ticks": ""
            },
            "colorscale": [
             [
              0,
              "#0d0887"
             ],
             [
              0.1111111111111111,
              "#46039f"
             ],
             [
              0.2222222222222222,
              "#7201a8"
             ],
             [
              0.3333333333333333,
              "#9c179e"
             ],
             [
              0.4444444444444444,
              "#bd3786"
             ],
             [
              0.5555555555555556,
              "#d8576b"
             ],
             [
              0.6666666666666666,
              "#ed7953"
             ],
             [
              0.7777777777777778,
              "#fb9f3a"
             ],
             [
              0.8888888888888888,
              "#fdca26"
             ],
             [
              1,
              "#f0f921"
             ]
            ],
            "type": "histogram2dcontour"
           }
          ],
          "mesh3d": [
           {
            "colorbar": {
             "outlinewidth": 0,
             "ticks": ""
            },
            "type": "mesh3d"
           }
          ],
          "parcoords": [
           {
            "line": {
             "colorbar": {
              "outlinewidth": 0,
              "ticks": ""
             }
            },
            "type": "parcoords"
           }
          ],
          "pie": [
           {
            "automargin": true,
            "type": "pie"
           }
          ],
          "scatter": [
           {
            "marker": {
             "colorbar": {
              "outlinewidth": 0,
              "ticks": ""
             }
            },
            "type": "scatter"
           }
          ],
          "scatter3d": [
           {
            "line": {
             "colorbar": {
              "outlinewidth": 0,
              "ticks": ""
             }
            },
            "marker": {
             "colorbar": {
              "outlinewidth": 0,
              "ticks": ""
             }
            },
            "type": "scatter3d"
           }
          ],
          "scattercarpet": [
           {
            "marker": {
             "colorbar": {
              "outlinewidth": 0,
              "ticks": ""
             }
            },
            "type": "scattercarpet"
           }
          ],
          "scattergeo": [
           {
            "marker": {
             "colorbar": {
              "outlinewidth": 0,
              "ticks": ""
             }
            },
            "type": "scattergeo"
           }
          ],
          "scattergl": [
           {
            "marker": {
             "colorbar": {
              "outlinewidth": 0,
              "ticks": ""
             }
            },
            "type": "scattergl"
           }
          ],
          "scattermapbox": [
           {
            "marker": {
             "colorbar": {
              "outlinewidth": 0,
              "ticks": ""
             }
            },
            "type": "scattermapbox"
           }
          ],
          "scatterpolar": [
           {
            "marker": {
             "colorbar": {
              "outlinewidth": 0,
              "ticks": ""
             }
            },
            "type": "scatterpolar"
           }
          ],
          "scatterpolargl": [
           {
            "marker": {
             "colorbar": {
              "outlinewidth": 0,
              "ticks": ""
             }
            },
            "type": "scatterpolargl"
           }
          ],
          "scatterternary": [
           {
            "marker": {
             "colorbar": {
              "outlinewidth": 0,
              "ticks": ""
             }
            },
            "type": "scatterternary"
           }
          ],
          "surface": [
           {
            "colorbar": {
             "outlinewidth": 0,
             "ticks": ""
            },
            "colorscale": [
             [
              0,
              "#0d0887"
             ],
             [
              0.1111111111111111,
              "#46039f"
             ],
             [
              0.2222222222222222,
              "#7201a8"
             ],
             [
              0.3333333333333333,
              "#9c179e"
             ],
             [
              0.4444444444444444,
              "#bd3786"
             ],
             [
              0.5555555555555556,
              "#d8576b"
             ],
             [
              0.6666666666666666,
              "#ed7953"
             ],
             [
              0.7777777777777778,
              "#fb9f3a"
             ],
             [
              0.8888888888888888,
              "#fdca26"
             ],
             [
              1,
              "#f0f921"
             ]
            ],
            "type": "surface"
           }
          ],
          "table": [
           {
            "cells": {
             "fill": {
              "color": "#EBF0F8"
             },
             "line": {
              "color": "white"
             }
            },
            "header": {
             "fill": {
              "color": "#C8D4E3"
             },
             "line": {
              "color": "white"
             }
            },
            "type": "table"
           }
          ]
         },
         "layout": {
          "annotationdefaults": {
           "arrowcolor": "#2a3f5f",
           "arrowhead": 0,
           "arrowwidth": 1
          },
          "coloraxis": {
           "colorbar": {
            "outlinewidth": 0,
            "ticks": ""
           }
          },
          "colorscale": {
           "diverging": [
            [
             0,
             "#8e0152"
            ],
            [
             0.1,
             "#c51b7d"
            ],
            [
             0.2,
             "#de77ae"
            ],
            [
             0.3,
             "#f1b6da"
            ],
            [
             0.4,
             "#fde0ef"
            ],
            [
             0.5,
             "#f7f7f7"
            ],
            [
             0.6,
             "#e6f5d0"
            ],
            [
             0.7,
             "#b8e186"
            ],
            [
             0.8,
             "#7fbc41"
            ],
            [
             0.9,
             "#4d9221"
            ],
            [
             1,
             "#276419"
            ]
           ],
           "sequential": [
            [
             0,
             "#0d0887"
            ],
            [
             0.1111111111111111,
             "#46039f"
            ],
            [
             0.2222222222222222,
             "#7201a8"
            ],
            [
             0.3333333333333333,
             "#9c179e"
            ],
            [
             0.4444444444444444,
             "#bd3786"
            ],
            [
             0.5555555555555556,
             "#d8576b"
            ],
            [
             0.6666666666666666,
             "#ed7953"
            ],
            [
             0.7777777777777778,
             "#fb9f3a"
            ],
            [
             0.8888888888888888,
             "#fdca26"
            ],
            [
             1,
             "#f0f921"
            ]
           ],
           "sequentialminus": [
            [
             0,
             "#0d0887"
            ],
            [
             0.1111111111111111,
             "#46039f"
            ],
            [
             0.2222222222222222,
             "#7201a8"
            ],
            [
             0.3333333333333333,
             "#9c179e"
            ],
            [
             0.4444444444444444,
             "#bd3786"
            ],
            [
             0.5555555555555556,
             "#d8576b"
            ],
            [
             0.6666666666666666,
             "#ed7953"
            ],
            [
             0.7777777777777778,
             "#fb9f3a"
            ],
            [
             0.8888888888888888,
             "#fdca26"
            ],
            [
             1,
             "#f0f921"
            ]
           ]
          },
          "colorway": [
           "#636efa",
           "#EF553B",
           "#00cc96",
           "#ab63fa",
           "#FFA15A",
           "#19d3f3",
           "#FF6692",
           "#B6E880",
           "#FF97FF",
           "#FECB52"
          ],
          "font": {
           "color": "#2a3f5f"
          },
          "geo": {
           "bgcolor": "white",
           "lakecolor": "white",
           "landcolor": "white",
           "showlakes": true,
           "showland": true,
           "subunitcolor": "#C8D4E3"
          },
          "hoverlabel": {
           "align": "left"
          },
          "hovermode": "closest",
          "mapbox": {
           "style": "light"
          },
          "paper_bgcolor": "white",
          "plot_bgcolor": "white",
          "polar": {
           "angularaxis": {
            "gridcolor": "#EBF0F8",
            "linecolor": "#EBF0F8",
            "ticks": ""
           },
           "bgcolor": "white",
           "radialaxis": {
            "gridcolor": "#EBF0F8",
            "linecolor": "#EBF0F8",
            "ticks": ""
           }
          },
          "scene": {
           "xaxis": {
            "backgroundcolor": "white",
            "gridcolor": "#DFE8F3",
            "gridwidth": 2,
            "linecolor": "#EBF0F8",
            "showbackground": true,
            "ticks": "",
            "zerolinecolor": "#EBF0F8"
           },
           "yaxis": {
            "backgroundcolor": "white",
            "gridcolor": "#DFE8F3",
            "gridwidth": 2,
            "linecolor": "#EBF0F8",
            "showbackground": true,
            "ticks": "",
            "zerolinecolor": "#EBF0F8"
           },
           "zaxis": {
            "backgroundcolor": "white",
            "gridcolor": "#DFE8F3",
            "gridwidth": 2,
            "linecolor": "#EBF0F8",
            "showbackground": true,
            "ticks": "",
            "zerolinecolor": "#EBF0F8"
           }
          },
          "shapedefaults": {
           "line": {
            "color": "#2a3f5f"
           }
          },
          "ternary": {
           "aaxis": {
            "gridcolor": "#DFE8F3",
            "linecolor": "#A2B1C6",
            "ticks": ""
           },
           "baxis": {
            "gridcolor": "#DFE8F3",
            "linecolor": "#A2B1C6",
            "ticks": ""
           },
           "bgcolor": "white",
           "caxis": {
            "gridcolor": "#DFE8F3",
            "linecolor": "#A2B1C6",
            "ticks": ""
           }
          },
          "title": {
           "x": 0.05
          },
          "xaxis": {
           "automargin": true,
           "gridcolor": "#EBF0F8",
           "linecolor": "#EBF0F8",
           "ticks": "",
           "title": {
            "standoff": 15
           },
           "zerolinecolor": "#EBF0F8",
           "zerolinewidth": 2
          },
          "yaxis": {
           "automargin": true,
           "gridcolor": "#EBF0F8",
           "linecolor": "#EBF0F8",
           "ticks": "",
           "title": {
            "standoff": 15
           },
           "zerolinecolor": "#EBF0F8",
           "zerolinewidth": 2
          }
         }
        },
        "title": {
         "font": {
          "family": "Helvetica",
          "size": 18
         },
         "text": "<b>COVID19: Registrert smittet i Norge</b><br>Antall smittet per 1 000 innbyggere<br>Datakilde: FHI - folkehelseinstituttet. Oppdatert 22.03.2020"
        },
        "updatemenus": [
         {
          "buttons": [
           {
            "args": [
             null,
             {
              "frame": {
               "duration": 500,
               "redraw": true
              },
              "fromcurrent": true,
              "mode": "immediate",
              "transition": {
               "duration": 500,
               "easing": "linear"
              }
             }
            ],
            "label": "&#9654;",
            "method": "animate"
           },
           {
            "args": [
             [
              null
             ],
             {
              "frame": {
               "duration": 0,
               "redraw": true
              },
              "fromcurrent": true,
              "mode": "immediate",
              "transition": {
               "duration": 0,
               "easing": "linear"
              }
             }
            ],
            "label": "&#9724;",
            "method": "animate"
           }
          ],
          "direction": "left",
          "pad": {
           "r": 10,
           "t": 70
          },
          "showactive": false,
          "type": "buttons",
          "x": 0.1,
          "xanchor": "right",
          "y": 0,
          "yanchor": "top"
         }
        ],
        "xaxis": {
         "anchor": "y",
         "domain": [
          0,
          1
         ],
         "fixedrange": true,
         "range": [
          0,
          0.7
         ],
         "title": {
          "text": "per 1 000"
         }
        },
        "yaxis": {
         "anchor": "x",
         "categoryorder": "total ascending",
         "domain": [
          0,
          1
         ],
         "fixedrange": true,
         "separatethousands": true,
         "title": {
          "text": ""
         }
        }
       }
      },
      "text/html": [
       "<div>\n",
       "        \n",
       "        \n",
       "            <div id=\"d7859b6b-6b8b-40e0-9a87-cd79e26d3058\" class=\"plotly-graph-div\" style=\"height:600px; width:100%;\"></div>\n",
       "            <script type=\"text/javascript\">\n",
       "                require([\"plotly\"], function(Plotly) {\n",
       "                    window.PLOTLYENV=window.PLOTLYENV || {};\n",
       "                    \n",
       "                if (document.getElementById(\"d7859b6b-6b8b-40e0-9a87-cd79e26d3058\")) {\n",
       "                    Plotly.newPlot(\n",
       "                        'd7859b6b-6b8b-40e0-9a87-cd79e26d3058',\n",
       "                        [{\"alignmentgroup\": \"True\", \"hoverlabel\": {\"namelength\": 0}, \"hovertemplate\": \"RHF=Helse Midt-Norge<br>Dato=09 Mar<br>Smittede/tusen innb=%{x}<br>Fylke=%{y}<br>txt=%{text}\", \"ids\": [\"M\\u00f8re og Romsdal\", \"Tr\\u00f8ndelag\"], \"legendgroup\": \"Helse Midt-Norge\", \"marker\": {\"color\": \"#636efa\"}, \"name\": \"Helse Midt-Norge\", \"offsetgroup\": \"Helse Midt-Norge\", \"orientation\": \"h\", \"showlegend\": true, \"text\": [\"0.02\", \"0.05\"], \"textposition\": \"auto\", \"type\": \"bar\", \"x\": [0.018850994201434185, 0.046938139798848734], \"xaxis\": \"x\", \"y\": [\"M\\u00f8re og Romsdal\", \"Tr\\u00f8ndelag\"], \"yaxis\": \"y\"}, {\"alignmentgroup\": \"True\", \"hoverlabel\": {\"namelength\": 0}, \"hovertemplate\": \"RHF=Helse Nord<br>Dato=09 Mar<br>Smittede/tusen innb=%{x}<br>Fylke=%{y}<br>txt=%{text}\", \"ids\": [\"Nordland\", \"Troms og Finnmark\"], \"legendgroup\": \"Helse Nord\", \"marker\": {\"color\": \"#EF553B\"}, \"name\": \"Helse Nord\", \"offsetgroup\": \"Helse Nord\", \"orientation\": \"h\", \"showlegend\": true, \"text\": [\"0.01\", \"0.02\"], \"textposition\": \"auto\", \"type\": \"bar\", \"x\": [0.01243600638381661, 0.024659797543062172], \"xaxis\": \"x\", \"y\": [\"Nordland\", \"Troms og Finnmark\"], \"yaxis\": \"y\"}, {\"alignmentgroup\": \"True\", \"hoverlabel\": {\"namelength\": 0}, \"hovertemplate\": \"RHF=Helse S\\u00f8r-\\u00d8st<br>Dato=09 Mar<br>Smittede/tusen innb=%{x}<br>Fylke=%{y}<br>txt=%{text}\", \"ids\": [\"Agder\", \"Vestfold og Telemark\", \"Viken\", \"Innlandet\", \"Oslo\"], \"legendgroup\": \"Helse S\\u00f8r-\\u00d8st\", \"marker\": {\"color\": \"#00cc96\"}, \"name\": \"Helse S\\u00f8r-\\u00d8st\", \"offsetgroup\": \"Helse S\\u00f8r-\\u00d8st\", \"orientation\": \"h\", \"showlegend\": true, \"text\": [\"0.06\", \"0.01\", \"0.07\", \"0.04\", \"0.07\"], \"textposition\": \"auto\", \"type\": \"bar\", \"x\": [0.06184271769450349, 0.0119219067420767, 0.06928973988148232, 0.043081976924216114, 0.07354065067614139], \"xaxis\": \"x\", \"y\": [\"Agder\", \"Vestfold og Telemark\", \"Viken\", \"Innlandet\", \"Oslo\"], \"yaxis\": \"y\"}, {\"alignmentgroup\": \"True\", \"hoverlabel\": {\"namelength\": 0}, \"hovertemplate\": \"RHF=Helse Vest<br>Dato=09 Mar<br>Smittede/tusen innb=%{x}<br>Fylke=%{y}<br>txt=%{text}\", \"ids\": [\"Rogaland\", \"Vestland\"], \"legendgroup\": \"Helse Vest\", \"marker\": {\"color\": \"#ab63fa\"}, \"name\": \"Helse Vest\", \"offsetgroup\": \"Helse Vest\", \"orientation\": \"h\", \"showlegend\": true, \"text\": [\"0.07\", \"0.05\"], \"textposition\": \"auto\", \"type\": \"bar\", \"x\": [0.06876547223125203, 0.048701477225775336], \"xaxis\": \"x\", \"y\": [\"Rogaland\", \"Vestland\"], \"yaxis\": \"y\"}],\n",
       "                        {\"autosize\": true, \"barmode\": \"relative\", \"coloraxis\": {\"showscale\": false}, \"height\": 600, \"legend\": {\"title\": {\"text\": \"RHF\"}, \"tracegroupgap\": 0}, \"margin\": {\"b\": 0, \"l\": 100, \"r\": 100, \"t\": 150}, \"paper_bgcolor\": \"rgba(0, 0, 0, 0)\", \"sliders\": [{\"active\": 0, \"currentvalue\": {\"prefix\": \"Dato=\"}, \"len\": 0.9, \"pad\": {\"b\": 10, \"t\": 60}, \"steps\": [{\"args\": [[\"09 Mar\"], {\"frame\": {\"duration\": 0, \"redraw\": true}, \"fromcurrent\": true, \"mode\": \"immediate\", \"transition\": {\"duration\": 0, \"easing\": \"linear\"}}], \"label\": \"09 Mar\", \"method\": \"animate\"}, {\"args\": [[\"10 Mar\"], {\"frame\": {\"duration\": 0, \"redraw\": true}, \"fromcurrent\": true, \"mode\": \"immediate\", \"transition\": {\"duration\": 0, \"easing\": \"linear\"}}], \"label\": \"10 Mar\", \"method\": \"animate\"}, {\"args\": [[\"11 Mar\"], {\"frame\": {\"duration\": 0, \"redraw\": true}, \"fromcurrent\": true, \"mode\": \"immediate\", \"transition\": {\"duration\": 0, \"easing\": \"linear\"}}], \"label\": \"11 Mar\", \"method\": \"animate\"}, {\"args\": [[\"12 Mar\"], {\"frame\": {\"duration\": 0, \"redraw\": true}, \"fromcurrent\": true, \"mode\": \"immediate\", \"transition\": {\"duration\": 0, \"easing\": \"linear\"}}], \"label\": \"12 Mar\", \"method\": \"animate\"}, {\"args\": [[\"13 Mar\"], {\"frame\": {\"duration\": 0, \"redraw\": true}, \"fromcurrent\": true, \"mode\": \"immediate\", \"transition\": {\"duration\": 0, \"easing\": \"linear\"}}], \"label\": \"13 Mar\", \"method\": \"animate\"}, {\"args\": [[\"14 Mar\"], {\"frame\": {\"duration\": 0, \"redraw\": true}, \"fromcurrent\": true, \"mode\": \"immediate\", \"transition\": {\"duration\": 0, \"easing\": \"linear\"}}], \"label\": \"14 Mar\", \"method\": \"animate\"}, {\"args\": [[\"15 Mar\"], {\"frame\": {\"duration\": 0, \"redraw\": true}, \"fromcurrent\": true, \"mode\": \"immediate\", \"transition\": {\"duration\": 0, \"easing\": \"linear\"}}], \"label\": \"15 Mar\", \"method\": \"animate\"}, {\"args\": [[\"16 Mar\"], {\"frame\": {\"duration\": 0, \"redraw\": true}, \"fromcurrent\": true, \"mode\": \"immediate\", \"transition\": {\"duration\": 0, \"easing\": \"linear\"}}], \"label\": \"16 Mar\", \"method\": \"animate\"}, {\"args\": [[\"17 Mar\"], {\"frame\": {\"duration\": 0, \"redraw\": true}, \"fromcurrent\": true, \"mode\": \"immediate\", \"transition\": {\"duration\": 0, \"easing\": \"linear\"}}], \"label\": \"17 Mar\", \"method\": \"animate\"}, {\"args\": [[\"18 Mar\"], {\"frame\": {\"duration\": 0, \"redraw\": true}, \"fromcurrent\": true, \"mode\": \"immediate\", \"transition\": {\"duration\": 0, \"easing\": \"linear\"}}], \"label\": \"18 Mar\", \"method\": \"animate\"}, {\"args\": [[\"19 Mar\"], {\"frame\": {\"duration\": 0, \"redraw\": true}, \"fromcurrent\": true, \"mode\": \"immediate\", \"transition\": {\"duration\": 0, \"easing\": \"linear\"}}], \"label\": \"19 Mar\", \"method\": \"animate\"}, {\"args\": [[\"20 Mar\"], {\"frame\": {\"duration\": 0, \"redraw\": true}, \"fromcurrent\": true, \"mode\": \"immediate\", \"transition\": {\"duration\": 0, \"easing\": \"linear\"}}], \"label\": \"20 Mar\", \"method\": \"animate\"}, {\"args\": [[\"21 Mar\"], {\"frame\": {\"duration\": 0, \"redraw\": true}, \"fromcurrent\": true, \"mode\": \"immediate\", \"transition\": {\"duration\": 0, \"easing\": \"linear\"}}], \"label\": \"21 Mar\", \"method\": \"animate\"}], \"x\": 0.1, \"xanchor\": \"left\", \"y\": 0, \"yanchor\": \"top\"}], \"template\": {\"data\": {\"bar\": [{\"error_x\": {\"color\": \"#2a3f5f\"}, \"error_y\": {\"color\": \"#2a3f5f\"}, \"marker\": {\"line\": {\"color\": \"white\", \"width\": 0.5}}, \"type\": \"bar\"}], \"barpolar\": [{\"marker\": {\"line\": {\"color\": \"white\", \"width\": 0.5}}, \"type\": \"barpolar\"}], \"carpet\": [{\"aaxis\": {\"endlinecolor\": \"#2a3f5f\", \"gridcolor\": \"#C8D4E3\", \"linecolor\": \"#C8D4E3\", \"minorgridcolor\": \"#C8D4E3\", \"startlinecolor\": \"#2a3f5f\"}, \"baxis\": {\"endlinecolor\": \"#2a3f5f\", \"gridcolor\": \"#C8D4E3\", \"linecolor\": \"#C8D4E3\", \"minorgridcolor\": \"#C8D4E3\", \"startlinecolor\": \"#2a3f5f\"}, \"type\": \"carpet\"}], \"choropleth\": [{\"colorbar\": {\"outlinewidth\": 0, \"ticks\": \"\"}, \"type\": \"choropleth\"}], \"contour\": [{\"colorbar\": {\"outlinewidth\": 0, \"ticks\": \"\"}, \"colorscale\": [[0.0, \"#0d0887\"], [0.1111111111111111, \"#46039f\"], [0.2222222222222222, \"#7201a8\"], [0.3333333333333333, \"#9c179e\"], [0.4444444444444444, \"#bd3786\"], [0.5555555555555556, \"#d8576b\"], [0.6666666666666666, \"#ed7953\"], [0.7777777777777778, \"#fb9f3a\"], [0.8888888888888888, \"#fdca26\"], [1.0, \"#f0f921\"]], \"type\": \"contour\"}], \"contourcarpet\": [{\"colorbar\": {\"outlinewidth\": 0, \"ticks\": \"\"}, \"type\": \"contourcarpet\"}], \"heatmap\": [{\"colorbar\": {\"outlinewidth\": 0, \"ticks\": \"\"}, \"colorscale\": [[0.0, \"#0d0887\"], [0.1111111111111111, \"#46039f\"], [0.2222222222222222, \"#7201a8\"], [0.3333333333333333, \"#9c179e\"], [0.4444444444444444, \"#bd3786\"], [0.5555555555555556, \"#d8576b\"], [0.6666666666666666, \"#ed7953\"], [0.7777777777777778, \"#fb9f3a\"], [0.8888888888888888, \"#fdca26\"], [1.0, \"#f0f921\"]], \"type\": \"heatmap\"}], \"heatmapgl\": [{\"colorbar\": {\"outlinewidth\": 0, \"ticks\": \"\"}, \"colorscale\": [[0.0, \"#0d0887\"], [0.1111111111111111, \"#46039f\"], [0.2222222222222222, \"#7201a8\"], [0.3333333333333333, \"#9c179e\"], [0.4444444444444444, \"#bd3786\"], [0.5555555555555556, \"#d8576b\"], [0.6666666666666666, \"#ed7953\"], [0.7777777777777778, \"#fb9f3a\"], [0.8888888888888888, \"#fdca26\"], [1.0, \"#f0f921\"]], \"type\": \"heatmapgl\"}], \"histogram\": [{\"marker\": {\"colorbar\": {\"outlinewidth\": 0, \"ticks\": \"\"}}, \"type\": \"histogram\"}], \"histogram2d\": [{\"colorbar\": {\"outlinewidth\": 0, \"ticks\": \"\"}, \"colorscale\": [[0.0, \"#0d0887\"], [0.1111111111111111, \"#46039f\"], [0.2222222222222222, \"#7201a8\"], [0.3333333333333333, \"#9c179e\"], [0.4444444444444444, \"#bd3786\"], [0.5555555555555556, \"#d8576b\"], [0.6666666666666666, \"#ed7953\"], [0.7777777777777778, \"#fb9f3a\"], [0.8888888888888888, \"#fdca26\"], [1.0, \"#f0f921\"]], \"type\": \"histogram2d\"}], \"histogram2dcontour\": [{\"colorbar\": {\"outlinewidth\": 0, \"ticks\": \"\"}, \"colorscale\": [[0.0, \"#0d0887\"], [0.1111111111111111, \"#46039f\"], [0.2222222222222222, \"#7201a8\"], [0.3333333333333333, \"#9c179e\"], [0.4444444444444444, \"#bd3786\"], [0.5555555555555556, \"#d8576b\"], [0.6666666666666666, \"#ed7953\"], [0.7777777777777778, \"#fb9f3a\"], [0.8888888888888888, \"#fdca26\"], [1.0, \"#f0f921\"]], \"type\": \"histogram2dcontour\"}], \"mesh3d\": [{\"colorbar\": {\"outlinewidth\": 0, \"ticks\": \"\"}, \"type\": \"mesh3d\"}], \"parcoords\": [{\"line\": {\"colorbar\": {\"outlinewidth\": 0, \"ticks\": \"\"}}, \"type\": \"parcoords\"}], \"pie\": [{\"automargin\": true, \"type\": \"pie\"}], \"scatter\": [{\"marker\": {\"colorbar\": {\"outlinewidth\": 0, \"ticks\": \"\"}}, \"type\": \"scatter\"}], \"scatter3d\": [{\"line\": {\"colorbar\": {\"outlinewidth\": 0, \"ticks\": \"\"}}, \"marker\": {\"colorbar\": {\"outlinewidth\": 0, \"ticks\": \"\"}}, \"type\": \"scatter3d\"}], \"scattercarpet\": [{\"marker\": {\"colorbar\": {\"outlinewidth\": 0, \"ticks\": \"\"}}, \"type\": \"scattercarpet\"}], \"scattergeo\": [{\"marker\": {\"colorbar\": {\"outlinewidth\": 0, \"ticks\": \"\"}}, \"type\": \"scattergeo\"}], \"scattergl\": [{\"marker\": {\"colorbar\": {\"outlinewidth\": 0, \"ticks\": \"\"}}, \"type\": \"scattergl\"}], \"scattermapbox\": [{\"marker\": {\"colorbar\": {\"outlinewidth\": 0, \"ticks\": \"\"}}, \"type\": \"scattermapbox\"}], \"scatterpolar\": [{\"marker\": {\"colorbar\": {\"outlinewidth\": 0, \"ticks\": \"\"}}, \"type\": \"scatterpolar\"}], \"scatterpolargl\": [{\"marker\": {\"colorbar\": {\"outlinewidth\": 0, \"ticks\": \"\"}}, \"type\": \"scatterpolargl\"}], \"scatterternary\": [{\"marker\": {\"colorbar\": {\"outlinewidth\": 0, \"ticks\": \"\"}}, \"type\": \"scatterternary\"}], \"surface\": [{\"colorbar\": {\"outlinewidth\": 0, \"ticks\": \"\"}, \"colorscale\": [[0.0, \"#0d0887\"], [0.1111111111111111, \"#46039f\"], [0.2222222222222222, \"#7201a8\"], [0.3333333333333333, \"#9c179e\"], [0.4444444444444444, \"#bd3786\"], [0.5555555555555556, \"#d8576b\"], [0.6666666666666666, \"#ed7953\"], [0.7777777777777778, \"#fb9f3a\"], [0.8888888888888888, \"#fdca26\"], [1.0, \"#f0f921\"]], \"type\": \"surface\"}], \"table\": [{\"cells\": {\"fill\": {\"color\": \"#EBF0F8\"}, \"line\": {\"color\": \"white\"}}, \"header\": {\"fill\": {\"color\": \"#C8D4E3\"}, \"line\": {\"color\": \"white\"}}, \"type\": \"table\"}]}, \"layout\": {\"annotationdefaults\": {\"arrowcolor\": \"#2a3f5f\", \"arrowhead\": 0, \"arrowwidth\": 1}, \"coloraxis\": {\"colorbar\": {\"outlinewidth\": 0, \"ticks\": \"\"}}, \"colorscale\": {\"diverging\": [[0, \"#8e0152\"], [0.1, \"#c51b7d\"], [0.2, \"#de77ae\"], [0.3, \"#f1b6da\"], [0.4, \"#fde0ef\"], [0.5, \"#f7f7f7\"], [0.6, \"#e6f5d0\"], [0.7, \"#b8e186\"], [0.8, \"#7fbc41\"], [0.9, \"#4d9221\"], [1, \"#276419\"]], \"sequential\": [[0.0, \"#0d0887\"], [0.1111111111111111, \"#46039f\"], [0.2222222222222222, \"#7201a8\"], [0.3333333333333333, \"#9c179e\"], [0.4444444444444444, \"#bd3786\"], [0.5555555555555556, \"#d8576b\"], [0.6666666666666666, \"#ed7953\"], [0.7777777777777778, \"#fb9f3a\"], [0.8888888888888888, \"#fdca26\"], [1.0, \"#f0f921\"]], \"sequentialminus\": [[0.0, \"#0d0887\"], [0.1111111111111111, \"#46039f\"], [0.2222222222222222, \"#7201a8\"], [0.3333333333333333, \"#9c179e\"], [0.4444444444444444, \"#bd3786\"], [0.5555555555555556, \"#d8576b\"], [0.6666666666666666, \"#ed7953\"], [0.7777777777777778, \"#fb9f3a\"], [0.8888888888888888, \"#fdca26\"], [1.0, \"#f0f921\"]]}, \"colorway\": [\"#636efa\", \"#EF553B\", \"#00cc96\", \"#ab63fa\", \"#FFA15A\", \"#19d3f3\", \"#FF6692\", \"#B6E880\", \"#FF97FF\", \"#FECB52\"], \"font\": {\"color\": \"#2a3f5f\"}, \"geo\": {\"bgcolor\": \"white\", \"lakecolor\": \"white\", \"landcolor\": \"white\", \"showlakes\": true, \"showland\": true, \"subunitcolor\": \"#C8D4E3\"}, \"hoverlabel\": {\"align\": \"left\"}, \"hovermode\": \"closest\", \"mapbox\": {\"style\": \"light\"}, \"paper_bgcolor\": \"white\", \"plot_bgcolor\": \"white\", \"polar\": {\"angularaxis\": {\"gridcolor\": \"#EBF0F8\", \"linecolor\": \"#EBF0F8\", \"ticks\": \"\"}, \"bgcolor\": \"white\", \"radialaxis\": {\"gridcolor\": \"#EBF0F8\", \"linecolor\": \"#EBF0F8\", \"ticks\": \"\"}}, \"scene\": {\"xaxis\": {\"backgroundcolor\": \"white\", \"gridcolor\": \"#DFE8F3\", \"gridwidth\": 2, \"linecolor\": \"#EBF0F8\", \"showbackground\": true, \"ticks\": \"\", \"zerolinecolor\": \"#EBF0F8\"}, \"yaxis\": {\"backgroundcolor\": \"white\", \"gridcolor\": \"#DFE8F3\", \"gridwidth\": 2, \"linecolor\": \"#EBF0F8\", \"showbackground\": true, \"ticks\": \"\", \"zerolinecolor\": \"#EBF0F8\"}, \"zaxis\": {\"backgroundcolor\": \"white\", \"gridcolor\": \"#DFE8F3\", \"gridwidth\": 2, \"linecolor\": \"#EBF0F8\", \"showbackground\": true, \"ticks\": \"\", \"zerolinecolor\": \"#EBF0F8\"}}, \"shapedefaults\": {\"line\": {\"color\": \"#2a3f5f\"}}, \"ternary\": {\"aaxis\": {\"gridcolor\": \"#DFE8F3\", \"linecolor\": \"#A2B1C6\", \"ticks\": \"\"}, \"baxis\": {\"gridcolor\": \"#DFE8F3\", \"linecolor\": \"#A2B1C6\", \"ticks\": \"\"}, \"bgcolor\": \"white\", \"caxis\": {\"gridcolor\": \"#DFE8F3\", \"linecolor\": \"#A2B1C6\", \"ticks\": \"\"}}, \"title\": {\"x\": 0.05}, \"xaxis\": {\"automargin\": true, \"gridcolor\": \"#EBF0F8\", \"linecolor\": \"#EBF0F8\", \"ticks\": \"\", \"title\": {\"standoff\": 15}, \"zerolinecolor\": \"#EBF0F8\", \"zerolinewidth\": 2}, \"yaxis\": {\"automargin\": true, \"gridcolor\": \"#EBF0F8\", \"linecolor\": \"#EBF0F8\", \"ticks\": \"\", \"title\": {\"standoff\": 15}, \"zerolinecolor\": \"#EBF0F8\", \"zerolinewidth\": 2}}}, \"title\": {\"font\": {\"family\": \"Helvetica\", \"size\": 18}, \"text\": \"<b>COVID19: Registrert smittet i Norge</b><br>Antall smittet per 1 000 innbyggere<br>Datakilde: FHI - folkehelseinstituttet. Oppdatert 22.03.2020\"}, \"updatemenus\": [{\"buttons\": [{\"args\": [null, {\"frame\": {\"duration\": 500, \"redraw\": true}, \"fromcurrent\": true, \"mode\": \"immediate\", \"transition\": {\"duration\": 500, \"easing\": \"linear\"}}], \"label\": \"&#9654;\", \"method\": \"animate\"}, {\"args\": [[null], {\"frame\": {\"duration\": 0, \"redraw\": true}, \"fromcurrent\": true, \"mode\": \"immediate\", \"transition\": {\"duration\": 0, \"easing\": \"linear\"}}], \"label\": \"&#9724;\", \"method\": \"animate\"}], \"direction\": \"left\", \"pad\": {\"r\": 10, \"t\": 70}, \"showactive\": false, \"type\": \"buttons\", \"x\": 0.1, \"xanchor\": \"right\", \"y\": 0, \"yanchor\": \"top\"}], \"xaxis\": {\"anchor\": \"y\", \"domain\": [0.0, 1.0], \"fixedrange\": true, \"range\": [0, 0.7], \"title\": {\"text\": \"per 1 000\"}}, \"yaxis\": {\"anchor\": \"x\", \"categoryorder\": \"total ascending\", \"domain\": [0.0, 1.0], \"fixedrange\": true, \"separatethousands\": true, \"title\": {\"text\": \"\"}}},\n",
       "                        {\"responsive\": true}\n",
       "                    ).then(function(){\n",
       "                            Plotly.addFrames('d7859b6b-6b8b-40e0-9a87-cd79e26d3058', [{\"data\": [{\"alignmentgroup\": \"True\", \"hoverlabel\": {\"namelength\": 0}, \"hovertemplate\": \"RHF=Helse Midt-Norge<br>Dato=09 Mar<br>Smittede/tusen innb=%{x}<br>Fylke=%{y}<br>txt=%{text}\", \"ids\": [\"M\\u00f8re og Romsdal\", \"Tr\\u00f8ndelag\"], \"legendgroup\": \"Helse Midt-Norge\", \"marker\": {\"color\": \"#636efa\"}, \"name\": \"Helse Midt-Norge\", \"offsetgroup\": \"Helse Midt-Norge\", \"orientation\": \"h\", \"showlegend\": true, \"text\": [\"0.02\", \"0.05\"], \"textposition\": \"auto\", \"x\": [0.018850994201434185, 0.046938139798848734], \"xaxis\": \"x\", \"y\": [\"M\\u00f8re og Romsdal\", \"Tr\\u00f8ndelag\"], \"yaxis\": \"y\", \"type\": \"bar\"}, {\"alignmentgroup\": \"True\", \"hoverlabel\": {\"namelength\": 0}, \"hovertemplate\": \"RHF=Helse Nord<br>Dato=09 Mar<br>Smittede/tusen innb=%{x}<br>Fylke=%{y}<br>txt=%{text}\", \"ids\": [\"Nordland\", \"Troms og Finnmark\"], \"legendgroup\": \"Helse Nord\", \"marker\": {\"color\": \"#EF553B\"}, \"name\": \"Helse Nord\", \"offsetgroup\": \"Helse Nord\", \"orientation\": \"h\", \"showlegend\": true, \"text\": [\"0.01\", \"0.02\"], \"textposition\": \"auto\", \"x\": [0.01243600638381661, 0.024659797543062172], \"xaxis\": \"x\", \"y\": [\"Nordland\", \"Troms og Finnmark\"], \"yaxis\": \"y\", \"type\": \"bar\"}, {\"alignmentgroup\": \"True\", \"hoverlabel\": {\"namelength\": 0}, \"hovertemplate\": \"RHF=Helse S\\u00f8r-\\u00d8st<br>Dato=09 Mar<br>Smittede/tusen innb=%{x}<br>Fylke=%{y}<br>txt=%{text}\", \"ids\": [\"Agder\", \"Vestfold og Telemark\", \"Viken\", \"Innlandet\", \"Oslo\"], \"legendgroup\": \"Helse S\\u00f8r-\\u00d8st\", \"marker\": {\"color\": \"#00cc96\"}, \"name\": \"Helse S\\u00f8r-\\u00d8st\", \"offsetgroup\": \"Helse S\\u00f8r-\\u00d8st\", \"orientation\": \"h\", \"showlegend\": true, \"text\": [\"0.06\", \"0.01\", \"0.07\", \"0.04\", \"0.07\"], \"textposition\": \"auto\", \"x\": [0.06184271769450349, 0.0119219067420767, 0.06928973988148232, 0.043081976924216114, 0.07354065067614139], \"xaxis\": \"x\", \"y\": [\"Agder\", \"Vestfold og Telemark\", \"Viken\", \"Innlandet\", \"Oslo\"], \"yaxis\": \"y\", \"type\": \"bar\"}, {\"alignmentgroup\": \"True\", \"hoverlabel\": {\"namelength\": 0}, \"hovertemplate\": \"RHF=Helse Vest<br>Dato=09 Mar<br>Smittede/tusen innb=%{x}<br>Fylke=%{y}<br>txt=%{text}\", \"ids\": [\"Rogaland\", \"Vestland\"], \"legendgroup\": \"Helse Vest\", \"marker\": {\"color\": \"#ab63fa\"}, \"name\": \"Helse Vest\", \"offsetgroup\": \"Helse Vest\", \"orientation\": \"h\", \"showlegend\": true, \"text\": [\"0.07\", \"0.05\"], \"textposition\": \"auto\", \"x\": [0.06876547223125203, 0.048701477225775336], \"xaxis\": \"x\", \"y\": [\"Rogaland\", \"Vestland\"], \"yaxis\": \"y\", \"type\": \"bar\"}], \"name\": \"09 Mar\"}, {\"data\": [{\"alignmentgroup\": \"True\", \"hoverlabel\": {\"namelength\": 0}, \"hovertemplate\": \"RHF=Helse Midt-Norge<br>Dato=10 Mar<br>Smittede/tusen innb=%{x}<br>Fylke=%{y}<br>txt=%{text}\", \"ids\": [\"M\\u00f8re og Romsdal\", \"Tr\\u00f8ndelag\"], \"legendgroup\": \"Helse Midt-Norge\", \"marker\": {\"color\": \"#636efa\"}, \"name\": \"Helse Midt-Norge\", \"offsetgroup\": \"Helse Midt-Norge\", \"orientation\": \"h\", \"showlegend\": true, \"text\": [\"0.02\", \"0.05\"], \"textposition\": \"auto\", \"x\": [0.018850994201434185, 0.046938139798848734], \"xaxis\": \"x\", \"y\": [\"M\\u00f8re og Romsdal\", \"Tr\\u00f8ndelag\"], \"yaxis\": \"y\", \"type\": \"bar\"}, {\"alignmentgroup\": \"True\", \"hoverlabel\": {\"namelength\": 0}, \"hovertemplate\": \"RHF=Helse Nord<br>Dato=10 Mar<br>Smittede/tusen innb=%{x}<br>Fylke=%{y}<br>txt=%{text}\", \"ids\": [\"Nordland\", \"Troms og Finnmark\"], \"legendgroup\": \"Helse Nord\", \"marker\": {\"color\": \"#EF553B\"}, \"name\": \"Helse Nord\", \"offsetgroup\": \"Helse Nord\", \"orientation\": \"h\", \"showlegend\": true, \"text\": [\"0.01\", \"0.02\"], \"textposition\": \"auto\", \"x\": [0.01243600638381661, 0.024659797543062172], \"xaxis\": \"x\", \"y\": [\"Nordland\", \"Troms og Finnmark\"], \"yaxis\": \"y\", \"type\": \"bar\"}, {\"alignmentgroup\": \"True\", \"hoverlabel\": {\"namelength\": 0}, \"hovertemplate\": \"RHF=Helse S\\u00f8r-\\u00d8st<br>Dato=10 Mar<br>Smittede/tusen innb=%{x}<br>Fylke=%{y}<br>txt=%{text}\", \"ids\": [\"Oslo\", \"Vestfold og Telemark\", \"Agder\", \"Innlandet\", \"Viken\"], \"legendgroup\": \"Helse S\\u00f8r-\\u00d8st\", \"marker\": {\"color\": \"#00cc96\"}, \"name\": \"Helse S\\u00f8r-\\u00d8st\", \"offsetgroup\": \"Helse S\\u00f8r-\\u00d8st\", \"orientation\": \"h\", \"showlegend\": true, \"text\": [\"0.07\", \"0.01\", \"0.06\", \"0.04\", \"0.07\"], \"textposition\": \"auto\", \"x\": [0.07354065067614139, 0.0119219067420767, 0.06184271769450349, 0.043081976924216114, 0.06928973988148232], \"xaxis\": \"x\", \"y\": [\"Oslo\", \"Vestfold og Telemark\", \"Agder\", \"Innlandet\", \"Viken\"], \"yaxis\": \"y\", \"type\": \"bar\"}, {\"alignmentgroup\": \"True\", \"hoverlabel\": {\"namelength\": 0}, \"hovertemplate\": \"RHF=Helse Vest<br>Dato=10 Mar<br>Smittede/tusen innb=%{x}<br>Fylke=%{y}<br>txt=%{text}\", \"ids\": [\"Vestland\", \"Rogaland\"], \"legendgroup\": \"Helse Vest\", \"marker\": {\"color\": \"#ab63fa\"}, \"name\": \"Helse Vest\", \"offsetgroup\": \"Helse Vest\", \"orientation\": \"h\", \"showlegend\": true, \"text\": [\"0.05\", \"0.07\"], \"textposition\": \"auto\", \"x\": [0.048701477225775336, 0.06876547223125203], \"xaxis\": \"x\", \"y\": [\"Vestland\", \"Rogaland\"], \"yaxis\": \"y\", \"type\": \"bar\"}], \"name\": \"10 Mar\"}, {\"data\": [{\"alignmentgroup\": \"True\", \"hoverlabel\": {\"namelength\": 0}, \"hovertemplate\": \"RHF=Helse Midt-Norge<br>Dato=11 Mar<br>Smittede/tusen innb=%{x}<br>Fylke=%{y}<br>txt=%{text}\", \"ids\": [\"Tr\\u00f8ndelag\", \"M\\u00f8re og Romsdal\"], \"legendgroup\": \"Helse Midt-Norge\", \"marker\": {\"color\": \"#636efa\"}, \"name\": \"Helse Midt-Norge\", \"offsetgroup\": \"Helse Midt-Norge\", \"orientation\": \"h\", \"showlegend\": true, \"text\": [\"0.05\", \"0.03\"], \"textposition\": \"auto\", \"x\": [0.05333879522596447, 0.026391391882007856], \"xaxis\": \"x\", \"y\": [\"Tr\\u00f8ndelag\", \"M\\u00f8re og Romsdal\"], \"yaxis\": \"y\", \"type\": \"bar\"}, {\"alignmentgroup\": \"True\", \"hoverlabel\": {\"namelength\": 0}, \"hovertemplate\": \"RHF=Helse Nord<br>Dato=11 Mar<br>Smittede/tusen innb=%{x}<br>Fylke=%{y}<br>txt=%{text}\", \"ids\": [\"Nordland\", \"Troms og Finnmark\"], \"legendgroup\": \"Helse Nord\", \"marker\": {\"color\": \"#EF553B\"}, \"name\": \"Helse Nord\", \"offsetgroup\": \"Helse Nord\", \"orientation\": \"h\", \"showlegend\": true, \"text\": [\"0.01\", \"0.03\"], \"textposition\": \"auto\", \"x\": [0.01243600638381661, 0.028769763800239198], \"xaxis\": \"x\", \"y\": [\"Nordland\", \"Troms og Finnmark\"], \"yaxis\": \"y\", \"type\": \"bar\"}, {\"alignmentgroup\": \"True\", \"hoverlabel\": {\"namelength\": 0}, \"hovertemplate\": \"RHF=Helse S\\u00f8r-\\u00d8st<br>Dato=11 Mar<br>Smittede/tusen innb=%{x}<br>Fylke=%{y}<br>txt=%{text}\", \"ids\": [\"Agder\", \"Oslo\", \"Viken\", \"Innlandet\", \"Vestfold og Telemark\"], \"legendgroup\": \"Helse S\\u00f8r-\\u00d8st\", \"marker\": {\"color\": \"#00cc96\"}, \"name\": \"Helse S\\u00f8r-\\u00d8st\", \"offsetgroup\": \"Helse S\\u00f8r-\\u00d8st\", \"orientation\": \"h\", \"showlegend\": true, \"text\": [\"0.07\", \"0.18\", \"0.1\", \"0.06\", \"0.04\"], \"textposition\": \"auto\", \"x\": [0.06509759757316157, 0.177362745748341, 0.0999061365733001, 0.06193034182856066, 0.0357657202262301], \"xaxis\": \"x\", \"y\": [\"Agder\", \"Oslo\", \"Viken\", \"Innlandet\", \"Vestfold og Telemark\"], \"yaxis\": \"y\", \"type\": \"bar\"}, {\"alignmentgroup\": \"True\", \"hoverlabel\": {\"namelength\": 0}, \"hovertemplate\": \"RHF=Helse Vest<br>Dato=11 Mar<br>Smittede/tusen innb=%{x}<br>Fylke=%{y}<br>txt=%{text}\", \"ids\": [\"Rogaland\", \"Vestland\"], \"legendgroup\": \"Helse Vest\", \"marker\": {\"color\": \"#ab63fa\"}, \"name\": \"Helse Vest\", \"offsetgroup\": \"Helse Vest\", \"orientation\": \"h\", \"showlegend\": true, \"text\": [\"0.15\", \"0.06\"], \"textposition\": \"auto\", \"x\": [0.14794995540663317, 0.06441163116957384], \"xaxis\": \"x\", \"y\": [\"Rogaland\", \"Vestland\"], \"yaxis\": \"y\", \"type\": \"bar\"}], \"name\": \"11 Mar\"}, {\"data\": [{\"alignmentgroup\": \"True\", \"hoverlabel\": {\"namelength\": 0}, \"hovertemplate\": \"RHF=Helse Midt-Norge<br>Dato=12 Mar<br>Smittede/tusen innb=%{x}<br>Fylke=%{y}<br>txt=%{text}\", \"ids\": [\"Tr\\u00f8ndelag\", \"M\\u00f8re og Romsdal\"], \"legendgroup\": \"Helse Midt-Norge\", \"marker\": {\"color\": \"#636efa\"}, \"name\": \"Helse Midt-Norge\", \"offsetgroup\": \"Helse Midt-Norge\", \"orientation\": \"h\", \"showlegend\": true, \"text\": [\"0.08\", \"0.02\"], \"textposition\": \"auto\", \"x\": [0.07894141693442742, 0.02262119304172102], \"xaxis\": \"x\", \"y\": [\"Tr\\u00f8ndelag\", \"M\\u00f8re og Romsdal\"], \"yaxis\": \"y\", \"type\": \"bar\"}, {\"alignmentgroup\": \"True\", \"hoverlabel\": {\"namelength\": 0}, \"hovertemplate\": \"RHF=Helse Nord<br>Dato=12 Mar<br>Smittede/tusen innb=%{x}<br>Fylke=%{y}<br>txt=%{text}\", \"ids\": [\"Nordland\", \"Troms og Finnmark\"], \"legendgroup\": \"Helse Nord\", \"marker\": {\"color\": \"#EF553B\"}, \"name\": \"Helse Nord\", \"offsetgroup\": \"Helse Nord\", \"orientation\": \"h\", \"showlegend\": true, \"text\": [\"0.02\", \"0.05\"], \"textposition\": \"auto\", \"x\": [0.016581341845088814, 0.045209628828947315], \"xaxis\": \"x\", \"y\": [\"Nordland\", \"Troms og Finnmark\"], \"yaxis\": \"y\", \"type\": \"bar\"}, {\"alignmentgroup\": \"True\", \"hoverlabel\": {\"namelength\": 0}, \"hovertemplate\": \"RHF=Helse S\\u00f8r-\\u00d8st<br>Dato=12 Mar<br>Smittede/tusen innb=%{x}<br>Fylke=%{y}<br>txt=%{text}\", \"ids\": [\"Oslo\", \"Vestfold og Telemark\", \"Agder\", \"Innlandet\", \"Viken\"], \"legendgroup\": \"Helse S\\u00f8r-\\u00d8st\", \"marker\": {\"color\": \"#00cc96\"}, \"name\": \"Helse S\\u00f8r-\\u00d8st\", \"offsetgroup\": \"Helse S\\u00f8r-\\u00d8st\", \"orientation\": \"h\", \"showlegend\": true, \"text\": [\"0.24\", \"0.05\", \"0.1\", \"0.11\", \"0.12\"], \"textposition\": \"auto\", \"x\": [0.23936760808312688, 0.05245638966513748, 0.1041561561170585, 0.10770494231054027, 0.12407697606684043], \"xaxis\": \"x\", \"y\": [\"Oslo\", \"Vestfold og Telemark\", \"Agder\", \"Innlandet\", \"Viken\"], \"yaxis\": \"y\", \"type\": \"bar\"}, {\"alignmentgroup\": \"True\", \"hoverlabel\": {\"namelength\": 0}, \"hovertemplate\": \"RHF=Helse Vest<br>Dato=12 Mar<br>Smittede/tusen innb=%{x}<br>Fylke=%{y}<br>txt=%{text}\", \"ids\": [\"Rogaland\", \"Vestland\"], \"legendgroup\": \"Helse Vest\", \"marker\": {\"color\": \"#ab63fa\"}, \"name\": \"Helse Vest\", \"offsetgroup\": \"Helse Vest\", \"orientation\": \"h\", \"showlegend\": true, \"text\": [\"0.17\", \"0.11\"], \"textposition\": \"auto\", \"x\": [0.17087177948371718, 0.10525803142344993], \"xaxis\": \"x\", \"y\": [\"Rogaland\", \"Vestland\"], \"yaxis\": \"y\", \"type\": \"bar\"}], \"name\": \"12 Mar\"}, {\"data\": [{\"alignmentgroup\": \"True\", \"hoverlabel\": {\"namelength\": 0}, \"hovertemplate\": \"RHF=Helse Midt-Norge<br>Dato=13 Mar<br>Smittede/tusen innb=%{x}<br>Fylke=%{y}<br>txt=%{text}\", \"ids\": [\"M\\u00f8re og Romsdal\", \"Tr\\u00f8ndelag\"], \"legendgroup\": \"Helse Midt-Norge\", \"marker\": {\"color\": \"#636efa\"}, \"name\": \"Helse Midt-Norge\", \"offsetgroup\": \"Helse Midt-Norge\", \"orientation\": \"h\", \"showlegend\": true, \"text\": [\"0.03\", \"0.09\"], \"textposition\": \"auto\", \"x\": [0.026391391882007856, 0.0917427277886589], \"xaxis\": \"x\", \"y\": [\"M\\u00f8re og Romsdal\", \"Tr\\u00f8ndelag\"], \"yaxis\": \"y\", \"type\": \"bar\"}, {\"alignmentgroup\": \"True\", \"hoverlabel\": {\"namelength\": 0}, \"hovertemplate\": \"RHF=Helse Nord<br>Dato=13 Mar<br>Smittede/tusen innb=%{x}<br>Fylke=%{y}<br>txt=%{text}\", \"ids\": [\"Troms og Finnmark\", \"Nordland\"], \"legendgroup\": \"Helse Nord\", \"marker\": {\"color\": \"#EF553B\"}, \"name\": \"Helse Nord\", \"offsetgroup\": \"Helse Nord\", \"orientation\": \"h\", \"showlegend\": true, \"text\": [\"0.05\", \"0.02\"], \"textposition\": \"auto\", \"x\": [0.049319595086124345, 0.020726677306361015], \"xaxis\": \"x\", \"y\": [\"Troms og Finnmark\", \"Nordland\"], \"yaxis\": \"y\", \"type\": \"bar\"}, {\"alignmentgroup\": \"True\", \"hoverlabel\": {\"namelength\": 0}, \"hovertemplate\": \"RHF=Helse S\\u00f8r-\\u00d8st<br>Dato=13 Mar<br>Smittede/tusen innb=%{x}<br>Fylke=%{y}<br>txt=%{text}\", \"ids\": [\"Vestfold og Telemark\", \"Innlandet\", \"Viken\", \"Agder\", \"Oslo\"], \"legendgroup\": \"Helse S\\u00f8r-\\u00d8st\", \"marker\": {\"color\": \"#00cc96\"}, \"name\": \"Helse S\\u00f8r-\\u00d8st\", \"offsetgroup\": \"Helse S\\u00f8r-\\u00d8st\", \"orientation\": \"h\", \"showlegend\": true, \"text\": [\"0.07\", \"0.13\", \"0.15\", \"0.11\", \"0.3\"], \"textposition\": \"auto\", \"x\": [0.0715314404524602, 0.13193855433041185, 0.14502503696124205, 0.11066591587437466, 0.29848852333257386], \"xaxis\": \"x\", \"y\": [\"Vestfold og Telemark\", \"Innlandet\", \"Viken\", \"Agder\", \"Oslo\"], \"yaxis\": \"y\", \"type\": \"bar\"}, {\"alignmentgroup\": \"True\", \"hoverlabel\": {\"namelength\": 0}, \"hovertemplate\": \"RHF=Helse Vest<br>Dato=13 Mar<br>Smittede/tusen innb=%{x}<br>Fylke=%{y}<br>txt=%{text}\", \"ids\": [\"Rogaland\", \"Vestland\"], \"legendgroup\": \"Helse Vest\", \"marker\": {\"color\": \"#ab63fa\"}, \"name\": \"Helse Vest\", \"offsetgroup\": \"Helse Vest\", \"orientation\": \"h\", \"showlegend\": true, \"text\": [\"0.22\", \"0.12\"], \"textposition\": \"auto\", \"x\": [0.21879922982671102, 0.12253920076162828], \"xaxis\": \"x\", \"y\": [\"Rogaland\", \"Vestland\"], \"yaxis\": \"y\", \"type\": \"bar\"}], \"name\": \"13 Mar\"}, {\"data\": [{\"alignmentgroup\": \"True\", \"hoverlabel\": {\"namelength\": 0}, \"hovertemplate\": \"RHF=Helse Midt-Norge<br>Dato=14 Mar<br>Smittede/tusen innb=%{x}<br>Fylke=%{y}<br>txt=%{text}\", \"ids\": [\"Tr\\u00f8ndelag\", \"M\\u00f8re og Romsdal\"], \"legendgroup\": \"Helse Midt-Norge\", \"marker\": {\"color\": \"#636efa\"}, \"name\": \"Helse Midt-Norge\", \"offsetgroup\": \"Helse Midt-Norge\", \"orientation\": \"h\", \"showlegend\": true, \"text\": [\"0.1\", \"0.06\"], \"textposition\": \"auto\", \"x\": [0.09814338321577463, 0.06032318144458939], \"xaxis\": \"x\", \"y\": [\"Tr\\u00f8ndelag\", \"M\\u00f8re og Romsdal\"], \"yaxis\": \"y\", \"type\": \"bar\"}, {\"alignmentgroup\": \"True\", \"hoverlabel\": {\"namelength\": 0}, \"hovertemplate\": \"RHF=Helse Nord<br>Dato=14 Mar<br>Smittede/tusen innb=%{x}<br>Fylke=%{y}<br>txt=%{text}\", \"ids\": [\"Troms og Finnmark\", \"Nordland\"], \"legendgroup\": \"Helse Nord\", \"marker\": {\"color\": \"#EF553B\"}, \"name\": \"Helse Nord\", \"offsetgroup\": \"Helse Nord\", \"orientation\": \"h\", \"showlegend\": true, \"text\": [\"0.07\", \"0.03\"], \"textposition\": \"auto\", \"x\": [0.06575946011483245, 0.03316268369017763], \"xaxis\": \"x\", \"y\": [\"Troms og Finnmark\", \"Nordland\"], \"yaxis\": \"y\", \"type\": \"bar\"}, {\"alignmentgroup\": \"True\", \"hoverlabel\": {\"namelength\": 0}, \"hovertemplate\": \"RHF=Helse S\\u00f8r-\\u00d8st<br>Dato=14 Mar<br>Smittede/tusen innb=%{x}<br>Fylke=%{y}<br>txt=%{text}\", \"ids\": [\"Viken\", \"Agder\", \"Innlandet\", \"Oslo\", \"Vestfold og Telemark\"], \"legendgroup\": \"Helse S\\u00f8r-\\u00d8st\", \"marker\": {\"color\": \"#00cc96\"}, \"name\": \"Helse S\\u00f8r-\\u00d8st\", \"offsetgroup\": \"Helse S\\u00f8r-\\u00d8st\", \"orientation\": \"h\", \"showlegend\": true, \"text\": [\"0.19\", \"0.17\", \"0.15\", \"0.32\", \"0.09\"], \"textposition\": \"auto\", \"x\": [0.18611546410026064, 0.16925375369022005, 0.1534795427925199, 0.32011812647261545, 0.09299087258819826], \"xaxis\": \"x\", \"y\": [\"Viken\", \"Agder\", \"Innlandet\", \"Oslo\", \"Vestfold og Telemark\"], \"yaxis\": \"y\", \"type\": \"bar\"}, {\"alignmentgroup\": \"True\", \"hoverlabel\": {\"namelength\": 0}, \"hovertemplate\": \"RHF=Helse Vest<br>Dato=14 Mar<br>Smittede/tusen innb=%{x}<br>Fylke=%{y}<br>txt=%{text}\", \"ids\": [\"Vestland\", \"Rogaland\"], \"legendgroup\": \"Helse Vest\", \"marker\": {\"color\": \"#ab63fa\"}, \"name\": \"Helse Vest\", \"offsetgroup\": \"Helse Vest\", \"orientation\": \"h\", \"showlegend\": true, \"text\": [\"0.16\", \"0.25\"], \"textposition\": \"auto\", \"x\": [0.1586725548323648, 0.2479724604702725], \"xaxis\": \"x\", \"y\": [\"Vestland\", \"Rogaland\"], \"yaxis\": \"y\", \"type\": \"bar\"}], \"name\": \"14 Mar\"}, {\"data\": [{\"alignmentgroup\": \"True\", \"hoverlabel\": {\"namelength\": 0}, \"hovertemplate\": \"RHF=Helse Midt-Norge<br>Dato=15 Mar<br>Smittede/tusen innb=%{x}<br>Fylke=%{y}<br>txt=%{text}\", \"ids\": [\"Tr\\u00f8ndelag\", \"M\\u00f8re og Romsdal\"], \"legendgroup\": \"Helse Midt-Norge\", \"marker\": {\"color\": \"#636efa\"}, \"name\": \"Helse Midt-Norge\", \"offsetgroup\": \"Helse Midt-Norge\", \"orientation\": \"h\", \"showlegend\": true, \"text\": [\"0.11\", \"0.08\"], \"textposition\": \"auto\", \"x\": [0.10667759045192894, 0.07540397680573674], \"xaxis\": \"x\", \"y\": [\"Tr\\u00f8ndelag\", \"M\\u00f8re og Romsdal\"], \"yaxis\": \"y\", \"type\": \"bar\"}, {\"alignmentgroup\": \"True\", \"hoverlabel\": {\"namelength\": 0}, \"hovertemplate\": \"RHF=Helse Nord<br>Dato=15 Mar<br>Smittede/tusen innb=%{x}<br>Fylke=%{y}<br>txt=%{text}\", \"ids\": [\"Troms og Finnmark\", \"Nordland\"], \"legendgroup\": \"Helse Nord\", \"marker\": {\"color\": \"#EF553B\"}, \"name\": \"Helse Nord\", \"offsetgroup\": \"Helse Nord\", \"orientation\": \"h\", \"showlegend\": true, \"text\": [\"0.08\", \"0.03\"], \"textposition\": \"auto\", \"x\": [0.08219932514354057, 0.03316268369017763], \"xaxis\": \"x\", \"y\": [\"Troms og Finnmark\", \"Nordland\"], \"yaxis\": \"y\", \"type\": \"bar\"}, {\"alignmentgroup\": \"True\", \"hoverlabel\": {\"namelength\": 0}, \"hovertemplate\": \"RHF=Helse S\\u00f8r-\\u00d8st<br>Dato=15 Mar<br>Smittede/tusen innb=%{x}<br>Fylke=%{y}<br>txt=%{text}\", \"ids\": [\"Viken\", \"Vestfold og Telemark\", \"Agder\", \"Oslo\", \"Innlandet\"], \"legendgroup\": \"Helse S\\u00f8r-\\u00d8st\", \"marker\": {\"color\": \"#00cc96\"}, \"name\": \"Helse S\\u00f8r-\\u00d8st\", \"offsetgroup\": \"Helse S\\u00f8r-\\u00d8st\", \"orientation\": \"h\", \"showlegend\": true, \"text\": [\"0.22\", \"0.11\", \"0.18\", \"0.41\", \"0.19\"], \"textposition\": \"auto\", \"x\": [0.2239831126401405, 0.11445030472393633, 0.1790183933261943, 0.40519456549011235, 0.1938688961589725], \"xaxis\": \"x\", \"y\": [\"Viken\", \"Vestfold og Telemark\", \"Agder\", \"Oslo\", \"Innlandet\"], \"yaxis\": \"y\", \"type\": \"bar\"}, {\"alignmentgroup\": \"True\", \"hoverlabel\": {\"namelength\": 0}, \"hovertemplate\": \"RHF=Helse Vest<br>Dato=15 Mar<br>Smittede/tusen innb=%{x}<br>Fylke=%{y}<br>txt=%{text}\", \"ids\": [\"Vestland\", \"Rogaland\"], \"legendgroup\": \"Helse Vest\", \"marker\": {\"color\": \"#ab63fa\"}, \"name\": \"Helse Vest\", \"offsetgroup\": \"Helse Vest\", \"orientation\": \"h\", \"showlegend\": true, \"text\": [\"0.19\", \"0.26\"], \"textposition\": \"auto\", \"x\": [0.18537981653682226, 0.26464287798087904], \"xaxis\": \"x\", \"y\": [\"Vestland\", \"Rogaland\"], \"yaxis\": \"y\", \"type\": \"bar\"}], \"name\": \"15 Mar\"}, {\"data\": [{\"alignmentgroup\": \"True\", \"hoverlabel\": {\"namelength\": 0}, \"hovertemplate\": \"RHF=Helse Midt-Norge<br>Dato=16 Mar<br>Smittede/tusen innb=%{x}<br>Fylke=%{y}<br>txt=%{text}\", \"ids\": [\"M\\u00f8re og Romsdal\", \"Tr\\u00f8ndelag\"], \"legendgroup\": \"Helse Midt-Norge\", \"marker\": {\"color\": \"#636efa\"}, \"name\": \"Helse Midt-Norge\", \"offsetgroup\": \"Helse Midt-Norge\", \"orientation\": \"h\", \"showlegend\": true, \"text\": [\"0.08\", \"0.11\"], \"textposition\": \"auto\", \"x\": [0.07540397680573674, 0.11094469407000611], \"xaxis\": \"x\", \"y\": [\"M\\u00f8re og Romsdal\", \"Tr\\u00f8ndelag\"], \"yaxis\": \"y\", \"type\": \"bar\"}, {\"alignmentgroup\": \"True\", \"hoverlabel\": {\"namelength\": 0}, \"hovertemplate\": \"RHF=Helse Nord<br>Dato=16 Mar<br>Smittede/tusen innb=%{x}<br>Fylke=%{y}<br>txt=%{text}\", \"ids\": [\"Troms og Finnmark\", \"Nordland\"], \"legendgroup\": \"Helse Nord\", \"marker\": {\"color\": \"#EF553B\"}, \"name\": \"Helse Nord\", \"offsetgroup\": \"Helse Nord\", \"orientation\": \"h\", \"showlegend\": true, \"text\": [\"0.09\", \"0.05\"], \"textposition\": \"auto\", \"x\": [0.0863092914007176, 0.04559869007399424], \"xaxis\": \"x\", \"y\": [\"Troms og Finnmark\", \"Nordland\"], \"yaxis\": \"y\", \"type\": \"bar\"}, {\"alignmentgroup\": \"True\", \"hoverlabel\": {\"namelength\": 0}, \"hovertemplate\": \"RHF=Helse S\\u00f8r-\\u00d8st<br>Dato=16 Mar<br>Smittede/tusen innb=%{x}<br>Fylke=%{y}<br>txt=%{text}\", \"ids\": [\"Oslo\", \"Agder\", \"Viken\", \"Vestfold og Telemark\", \"Innlandet\"], \"legendgroup\": \"Helse S\\u00f8r-\\u00d8st\", \"marker\": {\"color\": \"#00cc96\"}, \"name\": \"Helse S\\u00f8r-\\u00d8st\", \"offsetgroup\": \"Helse S\\u00f8r-\\u00d8st\", \"orientation\": \"h\", \"showlegend\": true, \"text\": [\"0.42\", \"0.22\", \"0.25\", \"0.13\", \"0.22\"], \"textposition\": \"auto\", \"x\": [0.4210562744594762, 0.21807695187009124, 0.2529881200323889, 0.12637221146601302, 0.21810250817884405], \"xaxis\": \"x\", \"y\": [\"Oslo\", \"Agder\", \"Viken\", \"Vestfold og Telemark\", \"Innlandet\"], \"yaxis\": \"y\", \"type\": \"bar\"}, {\"alignmentgroup\": \"True\", \"hoverlabel\": {\"namelength\": 0}, \"hovertemplate\": \"RHF=Helse Vest<br>Dato=16 Mar<br>Smittede/tusen innb=%{x}<br>Fylke=%{y}<br>txt=%{text}\", \"ids\": [\"Rogaland\", \"Vestland\"], \"legendgroup\": \"Helse Vest\", \"marker\": {\"color\": \"#ab63fa\"}, \"name\": \"Helse Vest\", \"offsetgroup\": \"Helse Vest\", \"orientation\": \"h\", \"showlegend\": true, \"text\": [\"0.27\", \"0.2\"], \"textposition\": \"auto\", \"x\": [0.2729780867361823, 0.1995189550862409], \"xaxis\": \"x\", \"y\": [\"Rogaland\", \"Vestland\"], \"yaxis\": \"y\", \"type\": \"bar\"}], \"name\": \"16 Mar\"}, {\"data\": [{\"alignmentgroup\": \"True\", \"hoverlabel\": {\"namelength\": 0}, \"hovertemplate\": \"RHF=Helse Midt-Norge<br>Dato=17 Mar<br>Smittede/tusen innb=%{x}<br>Fylke=%{y}<br>txt=%{text}\", \"ids\": [\"Tr\\u00f8ndelag\", \"M\\u00f8re og Romsdal\"], \"legendgroup\": \"Helse Midt-Norge\", \"marker\": {\"color\": \"#636efa\"}, \"name\": \"Helse Midt-Norge\", \"offsetgroup\": \"Helse Midt-Norge\", \"orientation\": \"h\", \"showlegend\": true, \"text\": [\"0.13\", \"0.08\"], \"textposition\": \"auto\", \"x\": [0.1301466603513533, 0.07540397680573674], \"xaxis\": \"x\", \"y\": [\"Tr\\u00f8ndelag\", \"M\\u00f8re og Romsdal\"], \"yaxis\": \"y\", \"type\": \"bar\"}, {\"alignmentgroup\": \"True\", \"hoverlabel\": {\"namelength\": 0}, \"hovertemplate\": \"RHF=Helse Nord<br>Dato=17 Mar<br>Smittede/tusen innb=%{x}<br>Fylke=%{y}<br>txt=%{text}\", \"ids\": [\"Nordland\", \"Troms og Finnmark\"], \"legendgroup\": \"Helse Nord\", \"marker\": {\"color\": \"#EF553B\"}, \"name\": \"Helse Nord\", \"offsetgroup\": \"Helse Nord\", \"orientation\": \"h\", \"showlegend\": true, \"text\": [\"0.05\", \"0.1\"], \"textposition\": \"auto\", \"x\": [0.04559869007399424, 0.09863919017224869], \"xaxis\": \"x\", \"y\": [\"Nordland\", \"Troms og Finnmark\"], \"yaxis\": \"y\", \"type\": \"bar\"}, {\"alignmentgroup\": \"True\", \"hoverlabel\": {\"namelength\": 0}, \"hovertemplate\": \"RHF=Helse S\\u00f8r-\\u00d8st<br>Dato=17 Mar<br>Smittede/tusen innb=%{x}<br>Fylke=%{y}<br>txt=%{text}\", \"ids\": [\"Vestfold og Telemark\", \"Oslo\", \"Agder\", \"Viken\", \"Innlandet\"], \"legendgroup\": \"Helse S\\u00f8r-\\u00d8st\", \"marker\": {\"color\": \"#00cc96\"}, \"name\": \"Helse S\\u00f8r-\\u00d8st\", \"offsetgroup\": \"Helse S\\u00f8r-\\u00d8st\", \"orientation\": \"h\", \"showlegend\": true, \"text\": [\"0.14\", \"0.47\", \"0.22\", \"0.29\", \"0.24\"], \"textposition\": \"auto\", \"x\": [0.14067849955650508, 0.47440929553824546, 0.21807695187009124, 0.2884386846229148, 0.2369508730831886], \"xaxis\": \"x\", \"y\": [\"Vestfold og Telemark\", \"Oslo\", \"Agder\", \"Viken\", \"Innlandet\"], \"yaxis\": \"y\", \"type\": \"bar\"}, {\"alignmentgroup\": \"True\", \"hoverlabel\": {\"namelength\": 0}, \"hovertemplate\": \"RHF=Helse Vest<br>Dato=17 Mar<br>Smittede/tusen innb=%{x}<br>Fylke=%{y}<br>txt=%{text}\", \"ids\": [\"Vestland\", \"Rogaland\"], \"legendgroup\": \"Helse Vest\", \"marker\": {\"color\": \"#ab63fa\"}, \"name\": \"Helse Vest\", \"offsetgroup\": \"Helse Vest\", \"orientation\": \"h\", \"showlegend\": true, \"text\": [\"0.22\", \"0.31\"], \"textposition\": \"auto\", \"x\": [0.2215131706075588, 0.3125703283238729], \"xaxis\": \"x\", \"y\": [\"Vestland\", \"Rogaland\"], \"yaxis\": \"y\", \"type\": \"bar\"}], \"name\": \"17 Mar\"}, {\"data\": [{\"alignmentgroup\": \"True\", \"hoverlabel\": {\"namelength\": 0}, \"hovertemplate\": \"RHF=Helse Midt-Norge<br>Dato=18 Mar<br>Smittede/tusen innb=%{x}<br>Fylke=%{y}<br>txt=%{text}\", \"ids\": [\"M\\u00f8re og Romsdal\", \"Tr\\u00f8ndelag\"], \"legendgroup\": \"Helse Midt-Norge\", \"marker\": {\"color\": \"#636efa\"}, \"name\": \"Helse Midt-Norge\", \"offsetgroup\": \"Helse Midt-Norge\", \"orientation\": \"h\", \"showlegend\": true, \"text\": [\"0.08\", \"0.15\"], \"textposition\": \"auto\", \"x\": [0.07540397680573674, 0.14934862663270052], \"xaxis\": \"x\", \"y\": [\"M\\u00f8re og Romsdal\", \"Tr\\u00f8ndelag\"], \"yaxis\": \"y\", \"type\": \"bar\"}, {\"alignmentgroup\": \"True\", \"hoverlabel\": {\"namelength\": 0}, \"hovertemplate\": \"RHF=Helse Nord<br>Dato=18 Mar<br>Smittede/tusen innb=%{x}<br>Fylke=%{y}<br>txt=%{text}\", \"ids\": [\"Troms og Finnmark\", \"Nordland\"], \"legendgroup\": \"Helse Nord\", \"marker\": {\"color\": \"#EF553B\"}, \"name\": \"Helse Nord\", \"offsetgroup\": \"Helse Nord\", \"orientation\": \"h\", \"showlegend\": true, \"text\": [\"0.12\", \"0.05\"], \"textposition\": \"auto\", \"x\": [0.11507905520095679, 0.04974402553526644], \"xaxis\": \"x\", \"y\": [\"Troms og Finnmark\", \"Nordland\"], \"yaxis\": \"y\", \"type\": \"bar\"}, {\"alignmentgroup\": \"True\", \"hoverlabel\": {\"namelength\": 0}, \"hovertemplate\": \"RHF=Helse S\\u00f8r-\\u00d8st<br>Dato=18 Mar<br>Smittede/tusen innb=%{x}<br>Fylke=%{y}<br>txt=%{text}\", \"ids\": [\"Innlandet\", \"Vestfold og Telemark\", \"Agder\", \"Viken\", \"Oslo\"], \"legendgroup\": \"Helse S\\u00f8r-\\u00d8st\", \"marker\": {\"color\": \"#00cc96\"}, \"name\": \"Helse S\\u00f8r-\\u00d8st\", \"offsetgroup\": \"Helse S\\u00f8r-\\u00d8st\", \"orientation\": \"h\", \"showlegend\": true, \"text\": [\"0.26\", \"0.15\", \"0.22\", \"0.33\", \"0.5\"], \"textposition\": \"auto\", \"x\": [0.2611844851030602, 0.15021602495016642, 0.21807695187009124, 0.33033480641171803, 0.5018067928489648], \"xaxis\": \"x\", \"y\": [\"Innlandet\", \"Vestfold og Telemark\", \"Agder\", \"Viken\", \"Oslo\"], \"yaxis\": \"y\", \"type\": \"bar\"}, {\"alignmentgroup\": \"True\", \"hoverlabel\": {\"namelength\": 0}, \"hovertemplate\": \"RHF=Helse Vest<br>Dato=18 Mar<br>Smittede/tusen innb=%{x}<br>Fylke=%{y}<br>txt=%{text}\", \"ids\": [\"Vestland\", \"Rogaland\"], \"legendgroup\": \"Helse Vest\", \"marker\": {\"color\": \"#ab63fa\"}, \"name\": \"Helse Vest\", \"offsetgroup\": \"Helse Vest\", \"orientation\": \"h\", \"showlegend\": true, \"text\": [\"0.23\", \"0.34\"], \"textposition\": \"auto\", \"x\": [0.2309392629738379, 0.33549215240095687], \"xaxis\": \"x\", \"y\": [\"Vestland\", \"Rogaland\"], \"yaxis\": \"y\", \"type\": \"bar\"}], \"name\": \"18 Mar\"}, {\"data\": [{\"alignmentgroup\": \"True\", \"hoverlabel\": {\"namelength\": 0}, \"hovertemplate\": \"RHF=Helse Midt-Norge<br>Dato=19 Mar<br>Smittede/tusen innb=%{x}<br>Fylke=%{y}<br>txt=%{text}\", \"ids\": [\"M\\u00f8re og Romsdal\", \"Tr\\u00f8ndelag\"], \"legendgroup\": \"Helse Midt-Norge\", \"marker\": {\"color\": \"#636efa\"}, \"name\": \"Helse Midt-Norge\", \"offsetgroup\": \"Helse Midt-Norge\", \"orientation\": \"h\", \"showlegend\": true, \"text\": [\"0.09\", \"0.16\"], \"textposition\": \"auto\", \"x\": [0.09425497100717092, 0.16001638567789342], \"xaxis\": \"x\", \"y\": [\"M\\u00f8re og Romsdal\", \"Tr\\u00f8ndelag\"], \"yaxis\": \"y\", \"type\": \"bar\"}, {\"alignmentgroup\": \"True\", \"hoverlabel\": {\"namelength\": 0}, \"hovertemplate\": \"RHF=Helse Nord<br>Dato=19 Mar<br>Smittede/tusen innb=%{x}<br>Fylke=%{y}<br>txt=%{text}\", \"ids\": [\"Nordland\", \"Troms og Finnmark\"], \"legendgroup\": \"Helse Nord\", \"marker\": {\"color\": \"#EF553B\"}, \"name\": \"Helse Nord\", \"offsetgroup\": \"Helse Nord\", \"orientation\": \"h\", \"showlegend\": true, \"text\": [\"0.05\", \"0.12\"], \"textposition\": \"auto\", \"x\": [0.05388936099653864, 0.11507905520095679], \"xaxis\": \"x\", \"y\": [\"Nordland\", \"Troms og Finnmark\"], \"yaxis\": \"y\", \"type\": \"bar\"}, {\"alignmentgroup\": \"True\", \"hoverlabel\": {\"namelength\": 0}, \"hovertemplate\": \"RHF=Helse S\\u00f8r-\\u00d8st<br>Dato=19 Mar<br>Smittede/tusen innb=%{x}<br>Fylke=%{y}<br>txt=%{text}\", \"ids\": [\"Viken\", \"Vestfold og Telemark\", \"Oslo\", \"Agder\", \"Innlandet\"], \"legendgroup\": \"Helse S\\u00f8r-\\u00d8st\", \"marker\": {\"color\": \"#00cc96\"}, \"name\": \"Helse S\\u00f8r-\\u00d8st\", \"offsetgroup\": \"Helse S\\u00f8r-\\u00d8st\", \"orientation\": \"h\", \"showlegend\": true, \"text\": [\"0.36\", \"0.15\", \"0.57\", \"0.24\", \"0.28\"], \"textposition\": \"auto\", \"x\": [0.35853411915418176, 0.1549847876469971, 0.5652536287264202, 0.24411599089935587, 0.28272547356516825], \"xaxis\": \"x\", \"y\": [\"Viken\", \"Vestfold og Telemark\", \"Oslo\", \"Agder\", \"Innlandet\"], \"yaxis\": \"y\", \"type\": \"bar\"}, {\"alignmentgroup\": \"True\", \"hoverlabel\": {\"namelength\": 0}, \"hovertemplate\": \"RHF=Helse Vest<br>Dato=19 Mar<br>Smittede/tusen innb=%{x}<br>Fylke=%{y}<br>txt=%{text}\", \"ids\": [\"Rogaland\", \"Vestland\"], \"legendgroup\": \"Helse Vest\", \"marker\": {\"color\": \"#ab63fa\"}, \"name\": \"Helse Vest\", \"offsetgroup\": \"Helse Vest\", \"orientation\": \"h\", \"showlegend\": true, \"text\": [\"0.37\", \"0.24\"], \"textposition\": \"auto\", \"x\": [0.36674918523334415, 0.240365355340117], \"xaxis\": \"x\", \"y\": [\"Rogaland\", \"Vestland\"], \"yaxis\": \"y\", \"type\": \"bar\"}], \"name\": \"19 Mar\"}, {\"data\": [{\"alignmentgroup\": \"True\", \"hoverlabel\": {\"namelength\": 0}, \"hovertemplate\": \"RHF=Helse Midt-Norge<br>Dato=20 Mar<br>Smittede/tusen innb=%{x}<br>Fylke=%{y}<br>txt=%{text}\", \"ids\": [\"M\\u00f8re og Romsdal\", \"Tr\\u00f8ndelag\"], \"legendgroup\": \"Helse Midt-Norge\", \"marker\": {\"color\": \"#636efa\"}, \"name\": \"Helse Midt-Norge\", \"offsetgroup\": \"Helse Midt-Norge\", \"orientation\": \"h\", \"showlegend\": true, \"text\": [\"0.11\", \"0.21\"], \"textposition\": \"auto\", \"x\": [0.10933576636831827, 0.20695452547674215], \"xaxis\": \"x\", \"y\": [\"M\\u00f8re og Romsdal\", \"Tr\\u00f8ndelag\"], \"yaxis\": \"y\", \"type\": \"bar\"}, {\"alignmentgroup\": \"True\", \"hoverlabel\": {\"namelength\": 0}, \"hovertemplate\": \"RHF=Helse Nord<br>Dato=20 Mar<br>Smittede/tusen innb=%{x}<br>Fylke=%{y}<br>txt=%{text}\", \"ids\": [\"Troms og Finnmark\", \"Nordland\"], \"legendgroup\": \"Helse Nord\", \"marker\": {\"color\": \"#EF553B\"}, \"name\": \"Helse Nord\", \"offsetgroup\": \"Helse Nord\", \"orientation\": \"h\", \"showlegend\": true, \"text\": [\"0.13\", \"0.07\"], \"textposition\": \"auto\", \"x\": [0.1315189202296649, 0.07047070284162746], \"xaxis\": \"x\", \"y\": [\"Troms og Finnmark\", \"Nordland\"], \"yaxis\": \"y\", \"type\": \"bar\"}, {\"alignmentgroup\": \"True\", \"hoverlabel\": {\"namelength\": 0}, \"hovertemplate\": \"RHF=Helse S\\u00f8r-\\u00d8st<br>Dato=20 Mar<br>Smittede/tusen innb=%{x}<br>Fylke=%{y}<br>txt=%{text}\", \"ids\": [\"Agder\", \"Oslo\", \"Innlandet\", \"Vestfold og Telemark\", \"Viken\"], \"legendgroup\": \"Helse S\\u00f8r-\\u00d8st\", \"marker\": {\"color\": \"#00cc96\"}, \"name\": \"Helse S\\u00f8r-\\u00d8st\", \"offsetgroup\": \"Helse S\\u00f8r-\\u00d8st\", \"orientation\": \"h\", \"showlegend\": true, \"text\": [\"0.26\", \"0.6\", \"0.31\", \"0.17\", \"0.43\"], \"textposition\": \"auto\", \"x\": [0.2571355104139882, 0.6041869143784949, 0.3096517091428033, 0.17167545708590448, 0.4262124697360947], \"xaxis\": \"x\", \"y\": [\"Agder\", \"Oslo\", \"Innlandet\", \"Vestfold og Telemark\", \"Viken\"], \"yaxis\": \"y\", \"type\": \"bar\"}, {\"alignmentgroup\": \"True\", \"hoverlabel\": {\"namelength\": 0}, \"hovertemplate\": \"RHF=Helse Vest<br>Dato=20 Mar<br>Smittede/tusen innb=%{x}<br>Fylke=%{y}<br>txt=%{text}\", \"ids\": [\"Vestland\", \"Rogaland\"], \"legendgroup\": \"Helse Vest\", \"marker\": {\"color\": \"#ab63fa\"}, \"name\": \"Helse Vest\", \"offsetgroup\": \"Helse Vest\", \"orientation\": \"h\", \"showlegend\": true, \"text\": [\"0.27\", \"0.38\"], \"textposition\": \"auto\", \"x\": [0.27178566322771397, 0.37508439398864746], \"xaxis\": \"x\", \"y\": [\"Vestland\", \"Rogaland\"], \"yaxis\": \"y\", \"type\": \"bar\"}], \"name\": \"20 Mar\"}, {\"data\": [{\"alignmentgroup\": \"True\", \"hoverlabel\": {\"namelength\": 0}, \"hovertemplate\": \"RHF=Helse Midt-Norge<br>Dato=21 Mar<br>Smittede/tusen innb=%{x}<br>Fylke=%{y}<br>txt=%{text}\", \"ids\": [\"Tr\\u00f8ndelag\", \"M\\u00f8re og Romsdal\"], \"legendgroup\": \"Helse Midt-Norge\", \"marker\": {\"color\": \"#636efa\"}, \"name\": \"Helse Midt-Norge\", \"offsetgroup\": \"Helse Midt-Norge\", \"orientation\": \"h\", \"showlegend\": true, \"text\": [\"0.26\", \"0.12\"], \"textposition\": \"auto\", \"x\": [0.2602933207027066, 0.12064636288917878], \"xaxis\": \"x\", \"y\": [\"Tr\\u00f8ndelag\", \"M\\u00f8re og Romsdal\"], \"yaxis\": \"y\", \"type\": \"bar\"}, {\"alignmentgroup\": \"True\", \"hoverlabel\": {\"namelength\": 0}, \"hovertemplate\": \"RHF=Helse Nord<br>Dato=21 Mar<br>Smittede/tusen innb=%{x}<br>Fylke=%{y}<br>txt=%{text}\", \"ids\": [\"Troms og Finnmark\", \"Nordland\"], \"legendgroup\": \"Helse Nord\", \"marker\": {\"color\": \"#EF553B\"}, \"name\": \"Helse Nord\", \"offsetgroup\": \"Helse Nord\", \"orientation\": \"h\", \"showlegend\": true, \"text\": [\"0.15\", \"0.07\"], \"textposition\": \"auto\", \"x\": [0.15206875151555005, 0.07047070284162746], \"xaxis\": \"x\", \"y\": [\"Troms og Finnmark\", \"Nordland\"], \"yaxis\": \"y\", \"type\": \"bar\"}, {\"alignmentgroup\": \"True\", \"hoverlabel\": {\"namelength\": 0}, \"hovertemplate\": \"RHF=Helse S\\u00f8r-\\u00d8st<br>Dato=21 Mar<br>Smittede/tusen innb=%{x}<br>Fylke=%{y}<br>txt=%{text}\", \"ids\": [\"Agder\", \"Innlandet\", \"Vestfold og Telemark\", \"Oslo\", \"Viken\"], \"legendgroup\": \"Helse S\\u00f8r-\\u00d8st\", \"marker\": {\"color\": \"#00cc96\"}, \"name\": \"Helse S\\u00f8r-\\u00d8st\", \"offsetgroup\": \"Helse S\\u00f8r-\\u00d8st\", \"orientation\": \"h\", \"showlegend\": true, \"text\": [\"0.27\", \"0.34\", \"0.19\", \"0.65\", \"0.47\"], \"textposition\": \"auto\", \"x\": [0.2669001500499624, 0.3365779447204384, 0.19313488922164254, 0.6460041471159087, 0.46971998082446736], \"xaxis\": \"x\", \"y\": [\"Agder\", \"Innlandet\", \"Vestfold og Telemark\", \"Oslo\", \"Viken\"], \"yaxis\": \"y\", \"type\": \"bar\"}, {\"alignmentgroup\": \"True\", \"hoverlabel\": {\"namelength\": 0}, \"hovertemplate\": \"RHF=Helse Vest<br>Dato=21 Mar<br>Smittede/tusen innb=%{x}<br>Fylke=%{y}<br>txt=%{text}\", \"ids\": [\"Vestland\", \"Rogaland\"], \"legendgroup\": \"Helse Vest\", \"marker\": {\"color\": \"#ab63fa\"}, \"name\": \"Helse Vest\", \"offsetgroup\": \"Helse Vest\", \"orientation\": \"h\", \"showlegend\": true, \"text\": [\"0.31\", \"0.41\"], \"textposition\": \"auto\", \"x\": [0.31420307887596993, 0.414676635576338], \"xaxis\": \"x\", \"y\": [\"Vestland\", \"Rogaland\"], \"yaxis\": \"y\", \"type\": \"bar\"}], \"name\": \"21 Mar\"}]);\n",
       "                        }).then(function(){\n",
       "                            \n",
       "var gd = document.getElementById('d7859b6b-6b8b-40e0-9a87-cd79e26d3058');\n",
       "var x = new MutationObserver(function (mutations, observer) {{\n",
       "        var display = window.getComputedStyle(gd).display;\n",
       "        if (!display || display === 'none') {{\n",
       "            console.log([gd, 'removed!']);\n",
       "            Plotly.purge(gd);\n",
       "            observer.disconnect();\n",
       "        }}\n",
       "}});\n",
       "\n",
       "// Listen for the removal of the full notebook cells\n",
       "var notebookContainer = gd.closest('#notebook-container');\n",
       "if (notebookContainer) {{\n",
       "    x.observe(notebookContainer, {childList: true});\n",
       "}}\n",
       "\n",
       "// Listen for the clearing of the current output cell\n",
       "var outputEl = gd.closest('.output');\n",
       "if (outputEl) {{\n",
       "    x.observe(outputEl, {childList: true});\n",
       "}}\n",
       "\n",
       "                        })\n",
       "                };\n",
       "                });\n",
       "            </script>\n",
       "        </div>"
      ]
     },
     "metadata": {},
     "output_type": "display_data"
    }
   ],
   "source": [
    "legend = [i for i in vekst[\"RHF\"].unique()]\n",
    "legend.sort()\n",
    "\n",
    "fig = px.bar(melted, \n",
    "             x='Smittede/tusen innb', y='Fylke', animation_frame=\"variable\",\n",
    "             animation_group=\"Fylke\",\n",
    "             orientation='h',\n",
    "             category_orders={\"RHF\": legend},\n",
    "             labels = {\"Veksttakt\": \"daglig vekst (%)\", \"variable\": \"Dato\"},\n",
    "             color='RHF',\n",
    "             text=\"txt\",\n",
    "             height=600,\n",
    "             title = \"<b>COVID19: Registrert smittet i Norge</b><br>Antall smittet per 1 000 innbyggere<br>Datakilde: FHI - folkehelseinstituttet. Oppdatert \" +datetime.today().strftime('%d.%m.%Y'),\n",
    "             template = \"plotly_white\",\n",
    "             range_x=[0,0.7]\n",
    "                 ).update_yaxes(categoryorder=\"total ascending\")\n",
    "\n",
    "fig.layout.coloraxis.showscale = False\n",
    "\n",
    "fig.update_layout(\n",
    "    yaxis=dict(\n",
    "        separatethousands=True,\n",
    "        categoryorder = 'total ascending',\n",
    "        title_text=\"\",\n",
    "        fixedrange=True,\n",
    "    ), xaxis=dict(fixedrange=True,\n",
    "                 title_text=\"per 1 000\"),\n",
    "    title_font=dict(family=\"Helvetica\", size=18),\n",
    "        margin=dict(b=150)) #bottom margin\n",
    "\n",
    "fig.update_layout(autosize=True,\n",
    "    margin=dict(l=100, r=100, t=150, b=0),\n",
    "    paper_bgcolor='rgba(0, 0, 0, 0)'\n",
    "    #plot_bgcolor='rgb(248, 248, 255)'    \n",
    "                 )\n",
    "\n",
    "py.plot(fig, filename='COVID19_per_capita_fylkesutvikling_animation.html')\n",
    "fig.show()"
   ]
  },
  {
   "cell_type": "code",
   "execution_count": null,
   "metadata": {},
   "outputs": [],
   "source": []
  },
  {
   "cell_type": "code",
   "execution_count": null,
   "metadata": {},
   "outputs": [],
   "source": []
  },
  {
   "cell_type": "code",
   "execution_count": null,
   "metadata": {},
   "outputs": [],
   "source": []
  }
 ],
 "metadata": {
  "kernelspec": {
   "display_name": "Python 3",
   "language": "python",
   "name": "python3"
  },
  "language_info": {
   "codemirror_mode": {
    "name": "ipython",
    "version": 3
   },
   "file_extension": ".py",
   "mimetype": "text/x-python",
   "name": "python",
   "nbconvert_exporter": "python",
   "pygments_lexer": "ipython3",
   "version": "3.7.4"
  }
 },
 "nbformat": 4,
 "nbformat_minor": 2
}
