{
 "cells": [
  {
   "cell_type": "code",
   "execution_count": 72,
   "metadata": {},
   "outputs": [],
   "source": [
    "import pandas as pd\n",
    "import numpy as np\n",
    "import plotly\n",
    "import plotly.express as px\n",
    "import chart_studio.plotly as py\n",
    "import chart_studio\n",
    "import matplotlib.pyplot as plt\n",
    "from datetime import datetime\n",
    "\n",
    "chart_studio.tools.set_credentials_file(username='oystein.nerva', api_key='0ODcZ6UisJ8n0AjEQt9N')"
   ]
  },
  {
   "cell_type": "code",
   "execution_count": 38,
   "metadata": {},
   "outputs": [
    {
     "data": {
      "text/html": [
       "<div>\n",
       "<style scoped>\n",
       "    .dataframe tbody tr th:only-of-type {\n",
       "        vertical-align: middle;\n",
       "    }\n",
       "\n",
       "    .dataframe tbody tr th {\n",
       "        vertical-align: top;\n",
       "    }\n",
       "\n",
       "    .dataframe thead th {\n",
       "        text-align: right;\n",
       "    }\n",
       "</style>\n",
       "<table border=\"1\" class=\"dataframe\">\n",
       "  <thead>\n",
       "    <tr style=\"text-align: right;\">\n",
       "      <th></th>\n",
       "      <th>Fylke</th>\n",
       "      <th>02.mar.20</th>\n",
       "      <th>03.mar.20</th>\n",
       "      <th>04.mar.20</th>\n",
       "      <th>05.mar.20</th>\n",
       "      <th>06.mar.20</th>\n",
       "      <th>07.mar.20</th>\n",
       "      <th>08.mar.20</th>\n",
       "      <th>09.mar.20</th>\n",
       "      <th>10.mar.20</th>\n",
       "      <th>...</th>\n",
       "      <th>24.mar.20</th>\n",
       "      <th>25.mar.20</th>\n",
       "      <th>26.mar.20</th>\n",
       "      <th>27.mar.20</th>\n",
       "      <th>28.mar.20</th>\n",
       "      <th>29.mar.20</th>\n",
       "      <th>30.mar.20</th>\n",
       "      <th>31.mar.20</th>\n",
       "      <th>01.apr.20</th>\n",
       "      <th>02.apr.20</th>\n",
       "    </tr>\n",
       "  </thead>\n",
       "  <tbody>\n",
       "    <tr>\n",
       "      <td>0</td>\n",
       "      <td>Agder</td>\n",
       "      <td>2.0</td>\n",
       "      <td>3.0</td>\n",
       "      <td>3.0</td>\n",
       "      <td>7.0</td>\n",
       "      <td>7.0</td>\n",
       "      <td>9.0</td>\n",
       "      <td>9.0</td>\n",
       "      <td>17.0</td>\n",
       "      <td>19.0</td>\n",
       "      <td>...</td>\n",
       "      <td>92.0</td>\n",
       "      <td>128.0</td>\n",
       "      <td>134.0</td>\n",
       "      <td>148.0</td>\n",
       "      <td>159.0</td>\n",
       "      <td>161.0</td>\n",
       "      <td>166.0</td>\n",
       "      <td>176.0</td>\n",
       "      <td>190.0</td>\n",
       "      <td>207.0</td>\n",
       "    </tr>\n",
       "    <tr>\n",
       "      <td>1</td>\n",
       "      <td>Innlandet</td>\n",
       "      <td>0.0</td>\n",
       "      <td>0.0</td>\n",
       "      <td>3.0</td>\n",
       "      <td>4.0</td>\n",
       "      <td>12.0</td>\n",
       "      <td>12.0</td>\n",
       "      <td>12.0</td>\n",
       "      <td>14.0</td>\n",
       "      <td>16.0</td>\n",
       "      <td>...</td>\n",
       "      <td>163.0</td>\n",
       "      <td>193.0</td>\n",
       "      <td>198.0</td>\n",
       "      <td>200.0</td>\n",
       "      <td>228.0</td>\n",
       "      <td>246.0</td>\n",
       "      <td>258.0</td>\n",
       "      <td>293.0</td>\n",
       "      <td>327.0</td>\n",
       "      <td>344.0</td>\n",
       "    </tr>\n",
       "    <tr>\n",
       "      <td>2</td>\n",
       "      <td>Møre og Romsdal</td>\n",
       "      <td>0.0</td>\n",
       "      <td>0.0</td>\n",
       "      <td>1.0</td>\n",
       "      <td>2.0</td>\n",
       "      <td>2.0</td>\n",
       "      <td>2.0</td>\n",
       "      <td>2.0</td>\n",
       "      <td>4.0</td>\n",
       "      <td>5.0</td>\n",
       "      <td>...</td>\n",
       "      <td>46.0</td>\n",
       "      <td>66.0</td>\n",
       "      <td>71.0</td>\n",
       "      <td>74.0</td>\n",
       "      <td>81.0</td>\n",
       "      <td>81.0</td>\n",
       "      <td>81.0</td>\n",
       "      <td>82.0</td>\n",
       "      <td>90.0</td>\n",
       "      <td>95.0</td>\n",
       "    </tr>\n",
       "    <tr>\n",
       "      <td>3</td>\n",
       "      <td>Nordland</td>\n",
       "      <td>0.0</td>\n",
       "      <td>0.0</td>\n",
       "      <td>0.0</td>\n",
       "      <td>0.0</td>\n",
       "      <td>1.0</td>\n",
       "      <td>2.0</td>\n",
       "      <td>3.0</td>\n",
       "      <td>3.0</td>\n",
       "      <td>3.0</td>\n",
       "      <td>...</td>\n",
       "      <td>18.0</td>\n",
       "      <td>27.0</td>\n",
       "      <td>29.0</td>\n",
       "      <td>36.0</td>\n",
       "      <td>42.0</td>\n",
       "      <td>46.0</td>\n",
       "      <td>48.0</td>\n",
       "      <td>52.0</td>\n",
       "      <td>62.0</td>\n",
       "      <td>68.0</td>\n",
       "    </tr>\n",
       "    <tr>\n",
       "      <td>4</td>\n",
       "      <td>Oslo</td>\n",
       "      <td>7.0</td>\n",
       "      <td>7.0</td>\n",
       "      <td>14.0</td>\n",
       "      <td>18.0</td>\n",
       "      <td>23.0</td>\n",
       "      <td>29.0</td>\n",
       "      <td>35.0</td>\n",
       "      <td>35.0</td>\n",
       "      <td>51.0</td>\n",
       "      <td>...</td>\n",
       "      <td>640.0</td>\n",
       "      <td>647.0</td>\n",
       "      <td>744.0</td>\n",
       "      <td>903.0</td>\n",
       "      <td>989.0</td>\n",
       "      <td>1118.0</td>\n",
       "      <td>1169.0</td>\n",
       "      <td>1233.0</td>\n",
       "      <td>1281.0</td>\n",
       "      <td>1379.0</td>\n",
       "    </tr>\n",
       "    <tr>\n",
       "      <td>5</td>\n",
       "      <td>Rogaland</td>\n",
       "      <td>0.0</td>\n",
       "      <td>0.0</td>\n",
       "      <td>3.0</td>\n",
       "      <td>6.0</td>\n",
       "      <td>11.0</td>\n",
       "      <td>14.0</td>\n",
       "      <td>19.0</td>\n",
       "      <td>25.0</td>\n",
       "      <td>33.0</td>\n",
       "      <td>...</td>\n",
       "      <td>251.0</td>\n",
       "      <td>253.0</td>\n",
       "      <td>270.0</td>\n",
       "      <td>277.0</td>\n",
       "      <td>304.0</td>\n",
       "      <td>305.0</td>\n",
       "      <td>305.0</td>\n",
       "      <td>317.0</td>\n",
       "      <td>321.0</td>\n",
       "      <td>332.0</td>\n",
       "    </tr>\n",
       "    <tr>\n",
       "      <td>6</td>\n",
       "      <td>Troms og Finnmark</td>\n",
       "      <td>1.0</td>\n",
       "      <td>2.0</td>\n",
       "      <td>2.0</td>\n",
       "      <td>2.0</td>\n",
       "      <td>6.0</td>\n",
       "      <td>6.0</td>\n",
       "      <td>6.0</td>\n",
       "      <td>6.0</td>\n",
       "      <td>6.0</td>\n",
       "      <td>...</td>\n",
       "      <td>59.0</td>\n",
       "      <td>75.0</td>\n",
       "      <td>93.0</td>\n",
       "      <td>116.0</td>\n",
       "      <td>129.0</td>\n",
       "      <td>143.0</td>\n",
       "      <td>146.0</td>\n",
       "      <td>152.0</td>\n",
       "      <td>157.0</td>\n",
       "      <td>164.0</td>\n",
       "    </tr>\n",
       "    <tr>\n",
       "      <td>7</td>\n",
       "      <td>Trøndelag</td>\n",
       "      <td>0.0</td>\n",
       "      <td>0.0</td>\n",
       "      <td>1.0</td>\n",
       "      <td>7.0</td>\n",
       "      <td>15.0</td>\n",
       "      <td>18.0</td>\n",
       "      <td>19.0</td>\n",
       "      <td>22.0</td>\n",
       "      <td>22.0</td>\n",
       "      <td>...</td>\n",
       "      <td>158.0</td>\n",
       "      <td>196.0</td>\n",
       "      <td>236.0</td>\n",
       "      <td>261.0</td>\n",
       "      <td>281.0</td>\n",
       "      <td>296.0</td>\n",
       "      <td>311.0</td>\n",
       "      <td>320.0</td>\n",
       "      <td>330.0</td>\n",
       "      <td>340.0</td>\n",
       "    </tr>\n",
       "    <tr>\n",
       "      <td>8</td>\n",
       "      <td>Vestfold og Telemark</td>\n",
       "      <td>0.0</td>\n",
       "      <td>0.0</td>\n",
       "      <td>0.0</td>\n",
       "      <td>2.0</td>\n",
       "      <td>2.0</td>\n",
       "      <td>2.0</td>\n",
       "      <td>3.0</td>\n",
       "      <td>5.0</td>\n",
       "      <td>5.0</td>\n",
       "      <td>...</td>\n",
       "      <td>95.0</td>\n",
       "      <td>114.0</td>\n",
       "      <td>136.0</td>\n",
       "      <td>146.0</td>\n",
       "      <td>149.0</td>\n",
       "      <td>154.0</td>\n",
       "      <td>163.0</td>\n",
       "      <td>174.0</td>\n",
       "      <td>180.0</td>\n",
       "      <td>190.0</td>\n",
       "    </tr>\n",
       "    <tr>\n",
       "      <td>9</td>\n",
       "      <td>Vestland</td>\n",
       "      <td>9.0</td>\n",
       "      <td>12.0</td>\n",
       "      <td>17.0</td>\n",
       "      <td>22.0</td>\n",
       "      <td>24.0</td>\n",
       "      <td>24.0</td>\n",
       "      <td>24.0</td>\n",
       "      <td>28.0</td>\n",
       "      <td>31.0</td>\n",
       "      <td>...</td>\n",
       "      <td>279.0</td>\n",
       "      <td>346.0</td>\n",
       "      <td>375.0</td>\n",
       "      <td>410.0</td>\n",
       "      <td>436.0</td>\n",
       "      <td>445.0</td>\n",
       "      <td>460.0</td>\n",
       "      <td>467.0</td>\n",
       "      <td>490.0</td>\n",
       "      <td>510.0</td>\n",
       "    </tr>\n",
       "    <tr>\n",
       "      <td>10</td>\n",
       "      <td>Viken</td>\n",
       "      <td>5.0</td>\n",
       "      <td>8.0</td>\n",
       "      <td>19.0</td>\n",
       "      <td>23.0</td>\n",
       "      <td>26.0</td>\n",
       "      <td>38.0</td>\n",
       "      <td>41.0</td>\n",
       "      <td>52.0</td>\n",
       "      <td>86.0</td>\n",
       "      <td>...</td>\n",
       "      <td>748.0</td>\n",
       "      <td>834.0</td>\n",
       "      <td>896.0</td>\n",
       "      <td>1007.0</td>\n",
       "      <td>1048.0</td>\n",
       "      <td>1107.0</td>\n",
       "      <td>1118.0</td>\n",
       "      <td>1180.0</td>\n",
       "      <td>1225.0</td>\n",
       "      <td>1306.0</td>\n",
       "    </tr>\n",
       "    <tr>\n",
       "      <td>11</td>\n",
       "      <td>NaN</td>\n",
       "      <td>NaN</td>\n",
       "      <td>NaN</td>\n",
       "      <td>NaN</td>\n",
       "      <td>NaN</td>\n",
       "      <td>NaN</td>\n",
       "      <td>NaN</td>\n",
       "      <td>NaN</td>\n",
       "      <td>NaN</td>\n",
       "      <td>NaN</td>\n",
       "      <td>...</td>\n",
       "      <td>NaN</td>\n",
       "      <td>NaN</td>\n",
       "      <td>NaN</td>\n",
       "      <td>NaN</td>\n",
       "      <td>NaN</td>\n",
       "      <td>NaN</td>\n",
       "      <td>NaN</td>\n",
       "      <td>NaN</td>\n",
       "      <td>NaN</td>\n",
       "      <td>NaN</td>\n",
       "    </tr>\n",
       "    <tr>\n",
       "      <td>12</td>\n",
       "      <td>NaN</td>\n",
       "      <td>NaN</td>\n",
       "      <td>NaN</td>\n",
       "      <td>NaN</td>\n",
       "      <td>NaN</td>\n",
       "      <td>NaN</td>\n",
       "      <td>NaN</td>\n",
       "      <td>NaN</td>\n",
       "      <td>NaN</td>\n",
       "      <td>NaN</td>\n",
       "      <td>...</td>\n",
       "      <td>NaN</td>\n",
       "      <td>NaN</td>\n",
       "      <td>NaN</td>\n",
       "      <td>NaN</td>\n",
       "      <td>NaN</td>\n",
       "      <td>NaN</td>\n",
       "      <td>NaN</td>\n",
       "      <td>NaN</td>\n",
       "      <td>NaN</td>\n",
       "      <td>NaN</td>\n",
       "    </tr>\n",
       "    <tr>\n",
       "      <td>13</td>\n",
       "      <td>NaN</td>\n",
       "      <td>NaN</td>\n",
       "      <td>NaN</td>\n",
       "      <td>NaN</td>\n",
       "      <td>NaN</td>\n",
       "      <td>NaN</td>\n",
       "      <td>NaN</td>\n",
       "      <td>NaN</td>\n",
       "      <td>NaN</td>\n",
       "      <td>NaN</td>\n",
       "      <td>...</td>\n",
       "      <td>NaN</td>\n",
       "      <td>NaN</td>\n",
       "      <td>NaN</td>\n",
       "      <td>NaN</td>\n",
       "      <td>NaN</td>\n",
       "      <td>NaN</td>\n",
       "      <td>NaN</td>\n",
       "      <td>NaN</td>\n",
       "      <td>NaN</td>\n",
       "      <td>NaN</td>\n",
       "    </tr>\n",
       "    <tr>\n",
       "      <td>14</td>\n",
       "      <td>NaN</td>\n",
       "      <td>NaN</td>\n",
       "      <td>NaN</td>\n",
       "      <td>NaN</td>\n",
       "      <td>NaN</td>\n",
       "      <td>NaN</td>\n",
       "      <td>NaN</td>\n",
       "      <td>NaN</td>\n",
       "      <td>NaN</td>\n",
       "      <td>NaN</td>\n",
       "      <td>...</td>\n",
       "      <td>NaN</td>\n",
       "      <td>NaN</td>\n",
       "      <td>NaN</td>\n",
       "      <td>NaN</td>\n",
       "      <td>NaN</td>\n",
       "      <td>NaN</td>\n",
       "      <td>NaN</td>\n",
       "      <td>NaN</td>\n",
       "      <td>NaN</td>\n",
       "      <td>NaN</td>\n",
       "    </tr>\n",
       "    <tr>\n",
       "      <td>15</td>\n",
       "      <td>NaN</td>\n",
       "      <td>NaN</td>\n",
       "      <td>NaN</td>\n",
       "      <td>NaN</td>\n",
       "      <td>NaN</td>\n",
       "      <td>NaN</td>\n",
       "      <td>NaN</td>\n",
       "      <td>NaN</td>\n",
       "      <td>NaN</td>\n",
       "      <td>NaN</td>\n",
       "      <td>...</td>\n",
       "      <td>NaN</td>\n",
       "      <td>NaN</td>\n",
       "      <td>NaN</td>\n",
       "      <td>NaN</td>\n",
       "      <td>NaN</td>\n",
       "      <td>NaN</td>\n",
       "      <td>NaN</td>\n",
       "      <td>NaN</td>\n",
       "      <td>NaN</td>\n",
       "      <td>NaN</td>\n",
       "    </tr>\n",
       "    <tr>\n",
       "      <td>16</td>\n",
       "      <td>NaN</td>\n",
       "      <td>NaN</td>\n",
       "      <td>NaN</td>\n",
       "      <td>NaN</td>\n",
       "      <td>NaN</td>\n",
       "      <td>NaN</td>\n",
       "      <td>NaN</td>\n",
       "      <td>NaN</td>\n",
       "      <td>NaN</td>\n",
       "      <td>NaN</td>\n",
       "      <td>...</td>\n",
       "      <td>NaN</td>\n",
       "      <td>NaN</td>\n",
       "      <td>NaN</td>\n",
       "      <td>NaN</td>\n",
       "      <td>NaN</td>\n",
       "      <td>NaN</td>\n",
       "      <td>NaN</td>\n",
       "      <td>NaN</td>\n",
       "      <td>NaN</td>\n",
       "      <td>NaN</td>\n",
       "    </tr>\n",
       "    <tr>\n",
       "      <td>17</td>\n",
       "      <td>NaN</td>\n",
       "      <td>NaN</td>\n",
       "      <td>NaN</td>\n",
       "      <td>NaN</td>\n",
       "      <td>NaN</td>\n",
       "      <td>NaN</td>\n",
       "      <td>NaN</td>\n",
       "      <td>NaN</td>\n",
       "      <td>NaN</td>\n",
       "      <td>NaN</td>\n",
       "      <td>...</td>\n",
       "      <td>NaN</td>\n",
       "      <td>NaN</td>\n",
       "      <td>NaN</td>\n",
       "      <td>NaN</td>\n",
       "      <td>NaN</td>\n",
       "      <td>NaN</td>\n",
       "      <td>NaN</td>\n",
       "      <td>NaN</td>\n",
       "      <td>NaN</td>\n",
       "      <td>NaN</td>\n",
       "    </tr>\n",
       "  </tbody>\n",
       "</table>\n",
       "<p>18 rows × 33 columns</p>\n",
       "</div>"
      ],
      "text/plain": [
       "                   Fylke  02.mar.20  03.mar.20  04.mar.20  05.mar.20  \\\n",
       "0                  Agder        2.0        3.0        3.0        7.0   \n",
       "1              Innlandet        0.0        0.0        3.0        4.0   \n",
       "2        Møre og Romsdal        0.0        0.0        1.0        2.0   \n",
       "3               Nordland        0.0        0.0        0.0        0.0   \n",
       "4                   Oslo        7.0        7.0       14.0       18.0   \n",
       "5               Rogaland        0.0        0.0        3.0        6.0   \n",
       "6      Troms og Finnmark        1.0        2.0        2.0        2.0   \n",
       "7              Trøndelag        0.0        0.0        1.0        7.0   \n",
       "8   Vestfold og Telemark        0.0        0.0        0.0        2.0   \n",
       "9               Vestland        9.0       12.0       17.0       22.0   \n",
       "10                 Viken        5.0        8.0       19.0       23.0   \n",
       "11                   NaN        NaN        NaN        NaN        NaN   \n",
       "12                   NaN        NaN        NaN        NaN        NaN   \n",
       "13                   NaN        NaN        NaN        NaN        NaN   \n",
       "14                   NaN        NaN        NaN        NaN        NaN   \n",
       "15                   NaN        NaN        NaN        NaN        NaN   \n",
       "16                   NaN        NaN        NaN        NaN        NaN   \n",
       "17                   NaN        NaN        NaN        NaN        NaN   \n",
       "\n",
       "    06.mar.20  07.mar.20  08.mar.20  09.mar.20  10.mar.20  ...  24.mar.20  \\\n",
       "0         7.0        9.0        9.0       17.0       19.0  ...       92.0   \n",
       "1        12.0       12.0       12.0       14.0       16.0  ...      163.0   \n",
       "2         2.0        2.0        2.0        4.0        5.0  ...       46.0   \n",
       "3         1.0        2.0        3.0        3.0        3.0  ...       18.0   \n",
       "4        23.0       29.0       35.0       35.0       51.0  ...      640.0   \n",
       "5        11.0       14.0       19.0       25.0       33.0  ...      251.0   \n",
       "6         6.0        6.0        6.0        6.0        6.0  ...       59.0   \n",
       "7        15.0       18.0       19.0       22.0       22.0  ...      158.0   \n",
       "8         2.0        2.0        3.0        5.0        5.0  ...       95.0   \n",
       "9        24.0       24.0       24.0       28.0       31.0  ...      279.0   \n",
       "10       26.0       38.0       41.0       52.0       86.0  ...      748.0   \n",
       "11        NaN        NaN        NaN        NaN        NaN  ...        NaN   \n",
       "12        NaN        NaN        NaN        NaN        NaN  ...        NaN   \n",
       "13        NaN        NaN        NaN        NaN        NaN  ...        NaN   \n",
       "14        NaN        NaN        NaN        NaN        NaN  ...        NaN   \n",
       "15        NaN        NaN        NaN        NaN        NaN  ...        NaN   \n",
       "16        NaN        NaN        NaN        NaN        NaN  ...        NaN   \n",
       "17        NaN        NaN        NaN        NaN        NaN  ...        NaN   \n",
       "\n",
       "    25.mar.20  26.mar.20  27.mar.20  28.mar.20  29.mar.20  30.mar.20  \\\n",
       "0       128.0      134.0      148.0      159.0      161.0      166.0   \n",
       "1       193.0      198.0      200.0      228.0      246.0      258.0   \n",
       "2        66.0       71.0       74.0       81.0       81.0       81.0   \n",
       "3        27.0       29.0       36.0       42.0       46.0       48.0   \n",
       "4       647.0      744.0      903.0      989.0     1118.0     1169.0   \n",
       "5       253.0      270.0      277.0      304.0      305.0      305.0   \n",
       "6        75.0       93.0      116.0      129.0      143.0      146.0   \n",
       "7       196.0      236.0      261.0      281.0      296.0      311.0   \n",
       "8       114.0      136.0      146.0      149.0      154.0      163.0   \n",
       "9       346.0      375.0      410.0      436.0      445.0      460.0   \n",
       "10      834.0      896.0     1007.0     1048.0     1107.0     1118.0   \n",
       "11        NaN        NaN        NaN        NaN        NaN        NaN   \n",
       "12        NaN        NaN        NaN        NaN        NaN        NaN   \n",
       "13        NaN        NaN        NaN        NaN        NaN        NaN   \n",
       "14        NaN        NaN        NaN        NaN        NaN        NaN   \n",
       "15        NaN        NaN        NaN        NaN        NaN        NaN   \n",
       "16        NaN        NaN        NaN        NaN        NaN        NaN   \n",
       "17        NaN        NaN        NaN        NaN        NaN        NaN   \n",
       "\n",
       "    31.mar.20  01.apr.20  02.apr.20  \n",
       "0       176.0      190.0      207.0  \n",
       "1       293.0      327.0      344.0  \n",
       "2        82.0       90.0       95.0  \n",
       "3        52.0       62.0       68.0  \n",
       "4      1233.0     1281.0     1379.0  \n",
       "5       317.0      321.0      332.0  \n",
       "6       152.0      157.0      164.0  \n",
       "7       320.0      330.0      340.0  \n",
       "8       174.0      180.0      190.0  \n",
       "9       467.0      490.0      510.0  \n",
       "10     1180.0     1225.0     1306.0  \n",
       "11        NaN        NaN        NaN  \n",
       "12        NaN        NaN        NaN  \n",
       "13        NaN        NaN        NaN  \n",
       "14        NaN        NaN        NaN  \n",
       "15        NaN        NaN        NaN  \n",
       "16        NaN        NaN        NaN  \n",
       "17        NaN        NaN        NaN  \n",
       "\n",
       "[18 rows x 33 columns]"
      ]
     },
     "execution_count": 38,
     "metadata": {},
     "output_type": "execute_result"
    }
   ],
   "source": [
    "url = 'https://github.com/NRVA/COVID19_Norge/raw/master/COVID19_fhi_data_fylke.csv'\n",
    "data = pd.read_csv(url, sep=';')\n",
    "data"
   ]
  },
  {
   "cell_type": "markdown",
   "metadata": {},
   "source": [
    "# gjennomsnitt"
   ]
  },
  {
   "cell_type": "code",
   "execution_count": 42,
   "metadata": {},
   "outputs": [
    {
     "data": {
      "text/html": [
       "<div>\n",
       "<style scoped>\n",
       "    .dataframe tbody tr th:only-of-type {\n",
       "        vertical-align: middle;\n",
       "    }\n",
       "\n",
       "    .dataframe tbody tr th {\n",
       "        vertical-align: top;\n",
       "    }\n",
       "\n",
       "    .dataframe thead th {\n",
       "        text-align: right;\n",
       "    }\n",
       "</style>\n",
       "<table border=\"1\" class=\"dataframe\">\n",
       "  <thead>\n",
       "    <tr style=\"text-align: right;\">\n",
       "      <th></th>\n",
       "      <th>variable</th>\n",
       "      <th>Fylke</th>\n",
       "      <th>Totale tilfeller</th>\n",
       "      <th>Nye tilfeller</th>\n",
       "    </tr>\n",
       "  </thead>\n",
       "  <tbody>\n",
       "    <tr>\n",
       "      <td>0</td>\n",
       "      <td>2020-03-09</td>\n",
       "      <td>Agder</td>\n",
       "      <td>17.0</td>\n",
       "      <td>2.142857</td>\n",
       "    </tr>\n",
       "    <tr>\n",
       "      <td>1</td>\n",
       "      <td>2020-03-09</td>\n",
       "      <td>Innlandet</td>\n",
       "      <td>14.0</td>\n",
       "      <td>2.000000</td>\n",
       "    </tr>\n",
       "    <tr>\n",
       "      <td>2</td>\n",
       "      <td>2020-03-09</td>\n",
       "      <td>Møre og Romsdal</td>\n",
       "      <td>4.0</td>\n",
       "      <td>0.571429</td>\n",
       "    </tr>\n",
       "    <tr>\n",
       "      <td>3</td>\n",
       "      <td>2020-03-09</td>\n",
       "      <td>Nordland</td>\n",
       "      <td>3.0</td>\n",
       "      <td>0.428571</td>\n",
       "    </tr>\n",
       "    <tr>\n",
       "      <td>4</td>\n",
       "      <td>2020-03-09</td>\n",
       "      <td>Oslo</td>\n",
       "      <td>35.0</td>\n",
       "      <td>4.000000</td>\n",
       "    </tr>\n",
       "  </tbody>\n",
       "</table>\n",
       "</div>"
      ],
      "text/plain": [
       "    variable            Fylke  Totale tilfeller  Nye tilfeller\n",
       "0 2020-03-09            Agder              17.0       2.142857\n",
       "1 2020-03-09        Innlandet              14.0       2.000000\n",
       "2 2020-03-09  Møre og Romsdal               4.0       0.571429\n",
       "3 2020-03-09         Nordland               3.0       0.428571\n",
       "4 2020-03-09             Oslo              35.0       4.000000"
      ]
     },
     "execution_count": 42,
     "metadata": {},
     "output_type": "execute_result"
    }
   ],
   "source": [
    "df = data.melt(id_vars=['Fylke']).copy()\n",
    "df['variable'] = pd.to_datetime(df['variable'], errors='coerce')\n",
    "df = df.groupby([\"Fylke\", pd.Grouper(key=\"variable\", freq=\"d\")]).max().reset_index()\n",
    "df = df.pivot(index=\"variable\", columns=\"Fylke\", values=\"value\")\n",
    "\n",
    "endring = df.copy().diff(1).rolling(window=7).mean()\n",
    "\n",
    "data = pd.concat([df, endring], keys=[\"Totale tilfeller\", \"Nye tilfeller\"], axis=1).dropna()\n",
    "data = data.stack(1).reset_index()\n",
    "\n",
    "data.head()\n"
   ]
  },
  {
   "cell_type": "code",
   "execution_count": 45,
   "metadata": {},
   "outputs": [],
   "source": [
    "data[\"variable\"] = data[\"variable\"].apply(lambda x: x.strftime(\"%d %b\"))"
   ]
  },
  {
   "cell_type": "code",
   "execution_count": 83,
   "metadata": {},
   "outputs": [
    {
     "data": {
      "application/vnd.plotly.v1+json": {
       "config": {
        "plotlyServerURL": "https://plot.ly"
       },
       "data": [
        {
         "customdata": [
          [
           "09 Mar"
          ],
          [
           "10 Mar"
          ],
          [
           "11 Mar"
          ],
          [
           "12 Mar"
          ],
          [
           "13 Mar"
          ],
          [
           "14 Mar"
          ],
          [
           "15 Mar"
          ],
          [
           "16 Mar"
          ],
          [
           "17 Mar"
          ],
          [
           "18 Mar"
          ],
          [
           "19 Mar"
          ],
          [
           "20 Mar"
          ],
          [
           "21 Mar"
          ],
          [
           "22 Mar"
          ],
          [
           "23 Mar"
          ],
          [
           "24 Mar"
          ],
          [
           "25 Mar"
          ],
          [
           "26 Mar"
          ],
          [
           "27 Mar"
          ],
          [
           "28 Mar"
          ],
          [
           "29 Mar"
          ],
          [
           "30 Mar"
          ],
          [
           "31 Mar"
          ],
          [
           "01 Apr"
          ],
          [
           "02 Apr"
          ]
         ],
         "hoverlabel": {
          "namelength": 0
         },
         "hovertemplate": "<b>%{hovertext}</b><br><br>Fylke=Agder<br>Antall registrerte tilfeller totalt=%{x}<br>Nye tilfeller (gjennomsnitt siste uke)=%{y}<br>Dato=%{customdata[0]}",
         "hovertext": [
          "Agder",
          "Agder",
          "Agder",
          "Agder",
          "Agder",
          "Agder",
          "Agder",
          "Agder",
          "Agder",
          "Agder",
          "Agder",
          "Agder",
          "Agder",
          "Agder",
          "Agder",
          "Agder",
          "Agder",
          "Agder",
          "Agder",
          "Agder",
          "Agder",
          "Agder",
          "Agder",
          "Agder",
          "Agder"
         ],
         "legendgroup": "Agder",
         "marker": {
          "color": "#636efa",
          "symbol": "circle"
         },
         "mode": "lines",
         "name": "Agder",
         "showlegend": true,
         "type": "scatter",
         "x": [
          17,
          19,
          20,
          32,
          34,
          52,
          55,
          67,
          67,
          67,
          75,
          79,
          82,
          91,
          91,
          92,
          128,
          134,
          148,
          159,
          161,
          166,
          176,
          190,
          207
         ],
         "xaxis": "x",
         "y": [
          2.142857142857143,
          2.2857142857142856,
          2.4285714285714284,
          3.5714285714285716,
          3.857142857142857,
          6.142857142857143,
          6.571428571428571,
          7.142857142857143,
          6.857142857142857,
          6.714285714285714,
          6.142857142857143,
          6.428571428571429,
          4.285714285714286,
          5.142857142857143,
          3.4285714285714284,
          3.5714285714285716,
          8.714285714285714,
          8.428571428571429,
          9.857142857142858,
          11,
          10,
          10.714285714285714,
          12,
          8.857142857142858,
          10.428571428571429
         ],
         "yaxis": "y"
        },
        {
         "customdata": [
          [
           "09 Mar"
          ],
          [
           "10 Mar"
          ],
          [
           "11 Mar"
          ],
          [
           "12 Mar"
          ],
          [
           "13 Mar"
          ],
          [
           "14 Mar"
          ],
          [
           "15 Mar"
          ],
          [
           "16 Mar"
          ],
          [
           "17 Mar"
          ],
          [
           "18 Mar"
          ],
          [
           "19 Mar"
          ],
          [
           "20 Mar"
          ],
          [
           "21 Mar"
          ],
          [
           "22 Mar"
          ],
          [
           "23 Mar"
          ],
          [
           "24 Mar"
          ],
          [
           "25 Mar"
          ],
          [
           "26 Mar"
          ],
          [
           "27 Mar"
          ],
          [
           "28 Mar"
          ],
          [
           "29 Mar"
          ],
          [
           "30 Mar"
          ],
          [
           "31 Mar"
          ],
          [
           "01 Apr"
          ],
          [
           "02 Apr"
          ]
         ],
         "hoverlabel": {
          "namelength": 0
         },
         "hovertemplate": "<b>%{hovertext}</b><br><br>Fylke=Innlandet<br>Antall registrerte tilfeller totalt=%{x}<br>Nye tilfeller (gjennomsnitt siste uke)=%{y}<br>Dato=%{customdata[0]}",
         "hovertext": [
          "Innlandet",
          "Innlandet",
          "Innlandet",
          "Innlandet",
          "Innlandet",
          "Innlandet",
          "Innlandet",
          "Innlandet",
          "Innlandet",
          "Innlandet",
          "Innlandet",
          "Innlandet",
          "Innlandet",
          "Innlandet",
          "Innlandet",
          "Innlandet",
          "Innlandet",
          "Innlandet",
          "Innlandet",
          "Innlandet",
          "Innlandet",
          "Innlandet",
          "Innlandet",
          "Innlandet",
          "Innlandet"
         ],
         "legendgroup": "Innlandet",
         "marker": {
          "color": "#EF553B",
          "symbol": "circle"
         },
         "mode": "lines",
         "name": "Innlandet",
         "showlegend": true,
         "type": "scatter",
         "x": [
          14,
          16,
          23,
          40,
          49,
          57,
          72,
          81,
          88,
          97,
          105,
          115,
          125,
          148,
          151,
          163,
          193,
          198,
          200,
          228,
          246,
          258,
          293,
          327,
          344
         ],
         "xaxis": "x",
         "y": [
          2,
          2.2857142857142856,
          2.857142857142857,
          5.142857142857143,
          5.285714285714286,
          6.428571428571429,
          8.571428571428571,
          9.571428571428571,
          10.285714285714286,
          10.571428571428571,
          9.285714285714286,
          9.428571428571429,
          9.714285714285714,
          10.857142857142858,
          10,
          10.714285714285714,
          13.714285714285714,
          13.285714285714286,
          12.142857142857142,
          14.714285714285714,
          14,
          15.285714285714286,
          18.571428571428573,
          19.142857142857142,
          20.857142857142858
         ],
         "yaxis": "y"
        },
        {
         "customdata": [
          [
           "09 Mar"
          ],
          [
           "10 Mar"
          ],
          [
           "11 Mar"
          ],
          [
           "12 Mar"
          ],
          [
           "13 Mar"
          ],
          [
           "14 Mar"
          ],
          [
           "15 Mar"
          ],
          [
           "16 Mar"
          ],
          [
           "17 Mar"
          ],
          [
           "18 Mar"
          ],
          [
           "19 Mar"
          ],
          [
           "20 Mar"
          ],
          [
           "21 Mar"
          ],
          [
           "22 Mar"
          ],
          [
           "23 Mar"
          ],
          [
           "24 Mar"
          ],
          [
           "25 Mar"
          ],
          [
           "26 Mar"
          ],
          [
           "27 Mar"
          ],
          [
           "28 Mar"
          ],
          [
           "29 Mar"
          ],
          [
           "30 Mar"
          ],
          [
           "31 Mar"
          ],
          [
           "01 Apr"
          ],
          [
           "02 Apr"
          ]
         ],
         "hoverlabel": {
          "namelength": 0
         },
         "hovertemplate": "<b>%{hovertext}</b><br><br>Fylke=Møre og Romsdal<br>Antall registrerte tilfeller totalt=%{x}<br>Nye tilfeller (gjennomsnitt siste uke)=%{y}<br>Dato=%{customdata[0]}",
         "hovertext": [
          "Møre og Romsdal",
          "Møre og Romsdal",
          "Møre og Romsdal",
          "Møre og Romsdal",
          "Møre og Romsdal",
          "Møre og Romsdal",
          "Møre og Romsdal",
          "Møre og Romsdal",
          "Møre og Romsdal",
          "Møre og Romsdal",
          "Møre og Romsdal",
          "Møre og Romsdal",
          "Møre og Romsdal",
          "Møre og Romsdal",
          "Møre og Romsdal",
          "Møre og Romsdal",
          "Møre og Romsdal",
          "Møre og Romsdal",
          "Møre og Romsdal",
          "Møre og Romsdal",
          "Møre og Romsdal",
          "Møre og Romsdal",
          "Møre og Romsdal",
          "Møre og Romsdal",
          "Møre og Romsdal"
         ],
         "legendgroup": "Møre og Romsdal",
         "marker": {
          "color": "#00cc96",
          "symbol": "circle"
         },
         "mode": "lines",
         "name": "Møre og Romsdal",
         "showlegend": true,
         "type": "scatter",
         "x": [
          4,
          5,
          7,
          6,
          7,
          16,
          20,
          20,
          20,
          20,
          25,
          29,
          32,
          38,
          44,
          46,
          66,
          71,
          74,
          81,
          81,
          81,
          82,
          90,
          95
         ],
         "xaxis": "x",
         "y": [
          0.5714285714285714,
          0.7142857142857143,
          0.8571428571428571,
          0.5714285714285714,
          0.7142857142857143,
          2,
          2.5714285714285716,
          2.2857142857142856,
          2.142857142857143,
          1.8571428571428572,
          2.7142857142857144,
          3.142857142857143,
          2.2857142857142856,
          2.5714285714285716,
          3.4285714285714284,
          3.7142857142857144,
          6.571428571428571,
          6.571428571428571,
          6.428571428571429,
          7,
          6.142857142857143,
          5.285714285714286,
          5.142857142857143,
          3.4285714285714284,
          3.4285714285714284
         ],
         "yaxis": "y"
        },
        {
         "customdata": [
          [
           "09 Mar"
          ],
          [
           "10 Mar"
          ],
          [
           "11 Mar"
          ],
          [
           "12 Mar"
          ],
          [
           "13 Mar"
          ],
          [
           "14 Mar"
          ],
          [
           "15 Mar"
          ],
          [
           "16 Mar"
          ],
          [
           "17 Mar"
          ],
          [
           "18 Mar"
          ],
          [
           "19 Mar"
          ],
          [
           "20 Mar"
          ],
          [
           "21 Mar"
          ],
          [
           "22 Mar"
          ],
          [
           "23 Mar"
          ],
          [
           "24 Mar"
          ],
          [
           "25 Mar"
          ],
          [
           "26 Mar"
          ],
          [
           "27 Mar"
          ],
          [
           "28 Mar"
          ],
          [
           "29 Mar"
          ],
          [
           "30 Mar"
          ],
          [
           "31 Mar"
          ],
          [
           "01 Apr"
          ],
          [
           "02 Apr"
          ]
         ],
         "hoverlabel": {
          "namelength": 0
         },
         "hovertemplate": "<b>%{hovertext}</b><br><br>Fylke=Nordland<br>Antall registrerte tilfeller totalt=%{x}<br>Nye tilfeller (gjennomsnitt siste uke)=%{y}<br>Dato=%{customdata[0]}",
         "hovertext": [
          "Nordland",
          "Nordland",
          "Nordland",
          "Nordland",
          "Nordland",
          "Nordland",
          "Nordland",
          "Nordland",
          "Nordland",
          "Nordland",
          "Nordland",
          "Nordland",
          "Nordland",
          "Nordland",
          "Nordland",
          "Nordland",
          "Nordland",
          "Nordland",
          "Nordland",
          "Nordland",
          "Nordland",
          "Nordland",
          "Nordland",
          "Nordland",
          "Nordland"
         ],
         "legendgroup": "Nordland",
         "marker": {
          "color": "#ab63fa",
          "symbol": "circle"
         },
         "mode": "lines",
         "name": "Nordland",
         "showlegend": true,
         "type": "scatter",
         "x": [
          3,
          3,
          3,
          4,
          5,
          8,
          8,
          11,
          11,
          12,
          13,
          17,
          17,
          18,
          18,
          18,
          27,
          29,
          36,
          42,
          46,
          48,
          52,
          62,
          68
         ],
         "xaxis": "x",
         "y": [
          0.42857142857142855,
          0.42857142857142855,
          0.42857142857142855,
          0.5714285714285714,
          0.5714285714285714,
          0.8571428571428571,
          0.7142857142857143,
          1.1428571428571428,
          1.1428571428571428,
          1.2857142857142858,
          1.2857142857142858,
          1.7142857142857142,
          1.2857142857142858,
          1.4285714285714286,
          1,
          1,
          2.142857142857143,
          2.2857142857142856,
          2.7142857142857144,
          3.5714285714285716,
          4,
          4.285714285714286,
          4.857142857142857,
          5,
          5.571428571428571
         ],
         "yaxis": "y"
        },
        {
         "customdata": [
          [
           "09 Mar"
          ],
          [
           "10 Mar"
          ],
          [
           "11 Mar"
          ],
          [
           "12 Mar"
          ],
          [
           "13 Mar"
          ],
          [
           "14 Mar"
          ],
          [
           "15 Mar"
          ],
          [
           "16 Mar"
          ],
          [
           "17 Mar"
          ],
          [
           "18 Mar"
          ],
          [
           "19 Mar"
          ],
          [
           "20 Mar"
          ],
          [
           "21 Mar"
          ],
          [
           "22 Mar"
          ],
          [
           "23 Mar"
          ],
          [
           "24 Mar"
          ],
          [
           "25 Mar"
          ],
          [
           "26 Mar"
          ],
          [
           "27 Mar"
          ],
          [
           "28 Mar"
          ],
          [
           "29 Mar"
          ],
          [
           "30 Mar"
          ],
          [
           "31 Mar"
          ],
          [
           "01 Apr"
          ],
          [
           "02 Apr"
          ]
         ],
         "hoverlabel": {
          "namelength": 0
         },
         "hovertemplate": "<b>%{hovertext}</b><br><br>Fylke=Oslo<br>Antall registrerte tilfeller totalt=%{x}<br>Nye tilfeller (gjennomsnitt siste uke)=%{y}<br>Dato=%{customdata[0]}",
         "hovertext": [
          "Oslo",
          "Oslo",
          "Oslo",
          "Oslo",
          "Oslo",
          "Oslo",
          "Oslo",
          "Oslo",
          "Oslo",
          "Oslo",
          "Oslo",
          "Oslo",
          "Oslo",
          "Oslo",
          "Oslo",
          "Oslo",
          "Oslo",
          "Oslo",
          "Oslo",
          "Oslo",
          "Oslo",
          "Oslo",
          "Oslo",
          "Oslo",
          "Oslo"
         ],
         "legendgroup": "Oslo",
         "marker": {
          "color": "#FFA15A",
          "symbol": "circle"
         },
         "mode": "lines",
         "name": "Oslo",
         "showlegend": true,
         "type": "scatter",
         "x": [
          35,
          51,
          123,
          166,
          207,
          222,
          281,
          292,
          329,
          348,
          392,
          419,
          448,
          523,
          636,
          640,
          647,
          744,
          903,
          989,
          1118,
          1169,
          1233,
          1281,
          1379
         ],
         "xaxis": "x",
         "y": [
          4,
          6.285714285714286,
          15.571428571428571,
          21.142857142857142,
          26.285714285714285,
          27.571428571428573,
          35.142857142857146,
          36.714285714285715,
          39.714285714285715,
          32.142857142857146,
          32.285714285714285,
          30.285714285714285,
          32.285714285714285,
          34.57142857142857,
          49.142857142857146,
          44.42857142857143,
          42.714285714285715,
          50.285714285714285,
          69.14285714285714,
          77.28571428571429,
          85,
          76.14285714285714,
          84.71428571428571,
          90.57142857142857,
          90.71428571428571
         ],
         "yaxis": "y"
        },
        {
         "customdata": [
          [
           "09 Mar"
          ],
          [
           "10 Mar"
          ],
          [
           "11 Mar"
          ],
          [
           "12 Mar"
          ],
          [
           "13 Mar"
          ],
          [
           "14 Mar"
          ],
          [
           "15 Mar"
          ],
          [
           "16 Mar"
          ],
          [
           "17 Mar"
          ],
          [
           "18 Mar"
          ],
          [
           "19 Mar"
          ],
          [
           "20 Mar"
          ],
          [
           "21 Mar"
          ],
          [
           "22 Mar"
          ],
          [
           "23 Mar"
          ],
          [
           "24 Mar"
          ],
          [
           "25 Mar"
          ],
          [
           "26 Mar"
          ],
          [
           "27 Mar"
          ],
          [
           "28 Mar"
          ],
          [
           "29 Mar"
          ],
          [
           "30 Mar"
          ],
          [
           "31 Mar"
          ],
          [
           "01 Apr"
          ],
          [
           "02 Apr"
          ]
         ],
         "hoverlabel": {
          "namelength": 0
         },
         "hovertemplate": "<b>%{hovertext}</b><br><br>Fylke=Rogaland<br>Antall registrerte tilfeller totalt=%{x}<br>Nye tilfeller (gjennomsnitt siste uke)=%{y}<br>Dato=%{customdata[0]}",
         "hovertext": [
          "Rogaland",
          "Rogaland",
          "Rogaland",
          "Rogaland",
          "Rogaland",
          "Rogaland",
          "Rogaland",
          "Rogaland",
          "Rogaland",
          "Rogaland",
          "Rogaland",
          "Rogaland",
          "Rogaland",
          "Rogaland",
          "Rogaland",
          "Rogaland",
          "Rogaland",
          "Rogaland",
          "Rogaland",
          "Rogaland",
          "Rogaland",
          "Rogaland",
          "Rogaland",
          "Rogaland",
          "Rogaland"
         ],
         "legendgroup": "Rogaland",
         "marker": {
          "color": "#19d3f3",
          "symbol": "circle"
         },
         "mode": "lines",
         "name": "Rogaland",
         "showlegend": true,
         "type": "scatter",
         "x": [
          25,
          33,
          71,
          82,
          105,
          119,
          127,
          131,
          150,
          161,
          176,
          180,
          199,
          219,
          237,
          251,
          253,
          270,
          277,
          304,
          305,
          305,
          317,
          321,
          332
         ],
         "xaxis": "x",
         "y": [
          3.5714285714285716,
          4.714285714285714,
          9.714285714285714,
          10.857142857142858,
          13.428571428571429,
          15,
          15.428571428571429,
          15.142857142857142,
          16.714285714285715,
          12.857142857142858,
          13.428571428571429,
          10.714285714285714,
          11.428571428571429,
          13.142857142857142,
          15.142857142857142,
          14.428571428571429,
          13.142857142857142,
          13.428571428571429,
          13.857142857142858,
          15,
          12.285714285714286,
          9.714285714285714,
          9.428571428571429,
          9.714285714285714,
          8.857142857142858
         ],
         "yaxis": "y"
        },
        {
         "customdata": [
          [
           "09 Mar"
          ],
          [
           "10 Mar"
          ],
          [
           "11 Mar"
          ],
          [
           "12 Mar"
          ],
          [
           "13 Mar"
          ],
          [
           "14 Mar"
          ],
          [
           "15 Mar"
          ],
          [
           "16 Mar"
          ],
          [
           "17 Mar"
          ],
          [
           "18 Mar"
          ],
          [
           "19 Mar"
          ],
          [
           "20 Mar"
          ],
          [
           "21 Mar"
          ],
          [
           "22 Mar"
          ],
          [
           "23 Mar"
          ],
          [
           "24 Mar"
          ],
          [
           "25 Mar"
          ],
          [
           "26 Mar"
          ],
          [
           "27 Mar"
          ],
          [
           "28 Mar"
          ],
          [
           "29 Mar"
          ],
          [
           "30 Mar"
          ],
          [
           "31 Mar"
          ],
          [
           "01 Apr"
          ],
          [
           "02 Apr"
          ]
         ],
         "hoverlabel": {
          "namelength": 0
         },
         "hovertemplate": "<b>%{hovertext}</b><br><br>Fylke=Troms og Finnmark<br>Antall registrerte tilfeller totalt=%{x}<br>Nye tilfeller (gjennomsnitt siste uke)=%{y}<br>Dato=%{customdata[0]}",
         "hovertext": [
          "Troms og Finnmark",
          "Troms og Finnmark",
          "Troms og Finnmark",
          "Troms og Finnmark",
          "Troms og Finnmark",
          "Troms og Finnmark",
          "Troms og Finnmark",
          "Troms og Finnmark",
          "Troms og Finnmark",
          "Troms og Finnmark",
          "Troms og Finnmark",
          "Troms og Finnmark",
          "Troms og Finnmark",
          "Troms og Finnmark",
          "Troms og Finnmark",
          "Troms og Finnmark",
          "Troms og Finnmark",
          "Troms og Finnmark",
          "Troms og Finnmark",
          "Troms og Finnmark",
          "Troms og Finnmark",
          "Troms og Finnmark",
          "Troms og Finnmark",
          "Troms og Finnmark",
          "Troms og Finnmark"
         ],
         "legendgroup": "Troms og Finnmark",
         "marker": {
          "color": "#FF6692",
          "symbol": "circle"
         },
         "mode": "lines",
         "name": "Troms og Finnmark",
         "showlegend": true,
         "type": "scatter",
         "x": [
          6,
          6,
          7,
          11,
          12,
          16,
          20,
          21,
          24,
          28,
          28,
          32,
          37,
          49,
          55,
          59,
          75,
          93,
          116,
          129,
          143,
          146,
          152,
          157,
          164
         ],
         "xaxis": "x",
         "y": [
          0.7142857142857143,
          0.5714285714285714,
          0.7142857142857143,
          1.2857142857142858,
          0.8571428571428571,
          1.4285714285714286,
          2,
          2.142857142857143,
          2.5714285714285716,
          3,
          2.4285714285714284,
          2.857142857142857,
          3,
          4.142857142857143,
          4.857142857142857,
          5,
          6.714285714285714,
          9.285714285714286,
          12,
          13.142857142857142,
          13.428571428571429,
          13,
          13.285714285714286,
          11.714285714285714,
          10.142857142857142
         ],
         "yaxis": "y"
        },
        {
         "customdata": [
          [
           "09 Mar"
          ],
          [
           "10 Mar"
          ],
          [
           "11 Mar"
          ],
          [
           "12 Mar"
          ],
          [
           "13 Mar"
          ],
          [
           "14 Mar"
          ],
          [
           "15 Mar"
          ],
          [
           "16 Mar"
          ],
          [
           "17 Mar"
          ],
          [
           "18 Mar"
          ],
          [
           "19 Mar"
          ],
          [
           "20 Mar"
          ],
          [
           "21 Mar"
          ],
          [
           "22 Mar"
          ],
          [
           "23 Mar"
          ],
          [
           "24 Mar"
          ],
          [
           "25 Mar"
          ],
          [
           "26 Mar"
          ],
          [
           "27 Mar"
          ],
          [
           "28 Mar"
          ],
          [
           "29 Mar"
          ],
          [
           "30 Mar"
          ],
          [
           "31 Mar"
          ],
          [
           "01 Apr"
          ],
          [
           "02 Apr"
          ]
         ],
         "hoverlabel": {
          "namelength": 0
         },
         "hovertemplate": "<b>%{hovertext}</b><br><br>Fylke=Trøndelag<br>Antall registrerte tilfeller totalt=%{x}<br>Nye tilfeller (gjennomsnitt siste uke)=%{y}<br>Dato=%{customdata[0]}",
         "hovertext": [
          "Trøndelag",
          "Trøndelag",
          "Trøndelag",
          "Trøndelag",
          "Trøndelag",
          "Trøndelag",
          "Trøndelag",
          "Trøndelag",
          "Trøndelag",
          "Trøndelag",
          "Trøndelag",
          "Trøndelag",
          "Trøndelag",
          "Trøndelag",
          "Trøndelag",
          "Trøndelag",
          "Trøndelag",
          "Trøndelag",
          "Trøndelag",
          "Trøndelag",
          "Trøndelag",
          "Trøndelag",
          "Trøndelag",
          "Trøndelag",
          "Trøndelag"
         ],
         "legendgroup": "Trøndelag",
         "marker": {
          "color": "#B6E880",
          "symbol": "circle"
         },
         "mode": "lines",
         "name": "Trøndelag",
         "showlegend": true,
         "type": "scatter",
         "x": [
          22,
          22,
          25,
          37,
          43,
          46,
          50,
          52,
          61,
          70,
          75,
          97,
          122,
          131,
          144,
          158,
          196,
          236,
          261,
          281,
          296,
          311,
          320,
          330,
          340
         ],
         "xaxis": "x",
         "y": [
          3.142857142857143,
          3.142857142857143,
          3.4285714285714284,
          4.285714285714286,
          4,
          4,
          4.428571428571429,
          4.285714285714286,
          5.571428571428571,
          6.428571428571429,
          5.428571428571429,
          7.714285714285714,
          10.857142857142858,
          11.571428571428571,
          13.142857142857142,
          13.857142857142858,
          18,
          23,
          23.428571428571427,
          22.714285714285715,
          23.571428571428573,
          23.857142857142858,
          23.142857142857142,
          19.142857142857142,
          14.857142857142858
         ],
         "yaxis": "y"
        },
        {
         "customdata": [
          [
           "09 Mar"
          ],
          [
           "10 Mar"
          ],
          [
           "11 Mar"
          ],
          [
           "12 Mar"
          ],
          [
           "13 Mar"
          ],
          [
           "14 Mar"
          ],
          [
           "15 Mar"
          ],
          [
           "16 Mar"
          ],
          [
           "17 Mar"
          ],
          [
           "18 Mar"
          ],
          [
           "19 Mar"
          ],
          [
           "20 Mar"
          ],
          [
           "21 Mar"
          ],
          [
           "22 Mar"
          ],
          [
           "23 Mar"
          ],
          [
           "24 Mar"
          ],
          [
           "25 Mar"
          ],
          [
           "26 Mar"
          ],
          [
           "27 Mar"
          ],
          [
           "28 Mar"
          ],
          [
           "29 Mar"
          ],
          [
           "30 Mar"
          ],
          [
           "31 Mar"
          ],
          [
           "01 Apr"
          ],
          [
           "02 Apr"
          ]
         ],
         "hoverlabel": {
          "namelength": 0
         },
         "hovertemplate": "<b>%{hovertext}</b><br><br>Fylke=Vestfold og Telemark<br>Antall registrerte tilfeller totalt=%{x}<br>Nye tilfeller (gjennomsnitt siste uke)=%{y}<br>Dato=%{customdata[0]}",
         "hovertext": [
          "Vestfold og Telemark",
          "Vestfold og Telemark",
          "Vestfold og Telemark",
          "Vestfold og Telemark",
          "Vestfold og Telemark",
          "Vestfold og Telemark",
          "Vestfold og Telemark",
          "Vestfold og Telemark",
          "Vestfold og Telemark",
          "Vestfold og Telemark",
          "Vestfold og Telemark",
          "Vestfold og Telemark",
          "Vestfold og Telemark",
          "Vestfold og Telemark",
          "Vestfold og Telemark",
          "Vestfold og Telemark",
          "Vestfold og Telemark",
          "Vestfold og Telemark",
          "Vestfold og Telemark",
          "Vestfold og Telemark",
          "Vestfold og Telemark",
          "Vestfold og Telemark",
          "Vestfold og Telemark",
          "Vestfold og Telemark",
          "Vestfold og Telemark"
         ],
         "legendgroup": "Vestfold og Telemark",
         "marker": {
          "color": "#FF97FF",
          "symbol": "circle"
         },
         "mode": "lines",
         "name": "Vestfold og Telemark",
         "showlegend": true,
         "type": "scatter",
         "x": [
          5,
          5,
          15,
          22,
          30,
          39,
          48,
          53,
          59,
          63,
          65,
          72,
          81,
          85,
          87,
          95,
          114,
          136,
          146,
          149,
          154,
          163,
          174,
          180,
          190
         ],
         "xaxis": "x",
         "y": [
          0.7142857142857143,
          0.7142857142857143,
          2.142857142857143,
          2.857142857142857,
          4,
          5.285714285714286,
          6.428571428571429,
          6.857142857142857,
          7.714285714285714,
          6.857142857142857,
          6.142857142857143,
          6,
          6,
          5.285714285714286,
          4.857142857142857,
          5.142857142857143,
          7.285714285714286,
          10.142857142857142,
          10.571428571428571,
          9.714285714285714,
          9.857142857142858,
          10.857142857142858,
          11.285714285714286,
          9.428571428571429,
          7.714285714285714
         ],
         "yaxis": "y"
        },
        {
         "customdata": [
          [
           "09 Mar"
          ],
          [
           "10 Mar"
          ],
          [
           "11 Mar"
          ],
          [
           "12 Mar"
          ],
          [
           "13 Mar"
          ],
          [
           "14 Mar"
          ],
          [
           "15 Mar"
          ],
          [
           "16 Mar"
          ],
          [
           "17 Mar"
          ],
          [
           "18 Mar"
          ],
          [
           "19 Mar"
          ],
          [
           "20 Mar"
          ],
          [
           "21 Mar"
          ],
          [
           "22 Mar"
          ],
          [
           "23 Mar"
          ],
          [
           "24 Mar"
          ],
          [
           "25 Mar"
          ],
          [
           "26 Mar"
          ],
          [
           "27 Mar"
          ],
          [
           "28 Mar"
          ],
          [
           "29 Mar"
          ],
          [
           "30 Mar"
          ],
          [
           "31 Mar"
          ],
          [
           "01 Apr"
          ],
          [
           "02 Apr"
          ]
         ],
         "hoverlabel": {
          "namelength": 0
         },
         "hovertemplate": "<b>%{hovertext}</b><br><br>Fylke=Vestland<br>Antall registrerte tilfeller totalt=%{x}<br>Nye tilfeller (gjennomsnitt siste uke)=%{y}<br>Dato=%{customdata[0]}",
         "hovertext": [
          "Vestland",
          "Vestland",
          "Vestland",
          "Vestland",
          "Vestland",
          "Vestland",
          "Vestland",
          "Vestland",
          "Vestland",
          "Vestland",
          "Vestland",
          "Vestland",
          "Vestland",
          "Vestland",
          "Vestland",
          "Vestland",
          "Vestland",
          "Vestland",
          "Vestland",
          "Vestland",
          "Vestland",
          "Vestland",
          "Vestland",
          "Vestland",
          "Vestland"
         ],
         "legendgroup": "Vestland",
         "marker": {
          "color": "#FECB52",
          "symbol": "circle"
         },
         "mode": "lines",
         "name": "Vestland",
         "showlegend": true,
         "type": "scatter",
         "x": [
          28,
          31,
          41,
          67,
          78,
          101,
          118,
          127,
          141,
          147,
          153,
          173,
          200,
          214,
          234,
          279,
          346,
          375,
          410,
          436,
          445,
          460,
          467,
          490,
          510
         ],
         "xaxis": "x",
         "y": [
          2.7142857142857144,
          2.7142857142857144,
          3.4285714285714284,
          6.428571428571429,
          7.714285714285714,
          11,
          13.428571428571429,
          14.142857142857142,
          15.714285714285714,
          15.142857142857142,
          12.285714285714286,
          13.571428571428571,
          14.142857142857142,
          13.714285714285714,
          15.285714285714286,
          19.714285714285715,
          28.428571428571427,
          31.714285714285715,
          33.857142857142854,
          33.714285714285715,
          33,
          32.285714285714285,
          26.857142857142858,
          20.571428571428573,
          19.285714285714285
         ],
         "yaxis": "y"
        },
        {
         "customdata": [
          [
           "09 Mar"
          ],
          [
           "10 Mar"
          ],
          [
           "11 Mar"
          ],
          [
           "12 Mar"
          ],
          [
           "13 Mar"
          ],
          [
           "14 Mar"
          ],
          [
           "15 Mar"
          ],
          [
           "16 Mar"
          ],
          [
           "17 Mar"
          ],
          [
           "18 Mar"
          ],
          [
           "19 Mar"
          ],
          [
           "20 Mar"
          ],
          [
           "21 Mar"
          ],
          [
           "22 Mar"
          ],
          [
           "23 Mar"
          ],
          [
           "24 Mar"
          ],
          [
           "25 Mar"
          ],
          [
           "26 Mar"
          ],
          [
           "27 Mar"
          ],
          [
           "28 Mar"
          ],
          [
           "29 Mar"
          ],
          [
           "30 Mar"
          ],
          [
           "31 Mar"
          ],
          [
           "01 Apr"
          ],
          [
           "02 Apr"
          ]
         ],
         "hoverlabel": {
          "namelength": 0
         },
         "hovertemplate": "<b>%{hovertext}</b><br><br>Fylke=Viken<br>Antall registrerte tilfeller totalt=%{x}<br>Nye tilfeller (gjennomsnitt siste uke)=%{y}<br>Dato=%{customdata[0]}",
         "hovertext": [
          "Viken",
          "Viken",
          "Viken",
          "Viken",
          "Viken",
          "Viken",
          "Viken",
          "Viken",
          "Viken",
          "Viken",
          "Viken",
          "Viken",
          "Viken",
          "Viken",
          "Viken",
          "Viken",
          "Viken",
          "Viken",
          "Viken",
          "Viken",
          "Viken",
          "Viken",
          "Viken",
          "Viken",
          "Viken"
         ],
         "legendgroup": "Viken",
         "marker": {
          "color": "#636efa",
          "symbol": "circle"
         },
         "mode": "lines",
         "name": "Viken",
         "showlegend": true,
         "type": "scatter",
         "x": [
          52,
          86,
          124,
          154,
          180,
          231,
          278,
          314,
          358,
          410,
          445,
          529,
          583,
          615,
          674,
          748,
          834,
          896,
          1007,
          1048,
          1107,
          1118,
          1180,
          1225,
          1306
         ],
         "xaxis": "x",
         "y": [
          6.714285714285714,
          11.142857142857142,
          15,
          18.714285714285715,
          22,
          27.571428571428573,
          33.857142857142854,
          37.42857142857143,
          38.857142857142854,
          40.857142857142854,
          41.57142857142857,
          49.857142857142854,
          50.285714285714285,
          48.142857142857146,
          51.42857142857143,
          55.714285714285715,
          60.57142857142857,
          64.42857142857143,
          68.28571428571429,
          66.42857142857143,
          70.28571428571429,
          63.42857142857143,
          61.714285714285715,
          55.857142857142854,
          58.57142857142857
         ],
         "yaxis": "y"
        }
       ],
       "layout": {
        "legend": {
         "title": {
          "text": "Fylke"
         },
         "tracegroupgap": 0
        },
        "template": {
         "data": {
          "bar": [
           {
            "error_x": {
             "color": "#2a3f5f"
            },
            "error_y": {
             "color": "#2a3f5f"
            },
            "marker": {
             "line": {
              "color": "white",
              "width": 0.5
             }
            },
            "type": "bar"
           }
          ],
          "barpolar": [
           {
            "marker": {
             "line": {
              "color": "white",
              "width": 0.5
             }
            },
            "type": "barpolar"
           }
          ],
          "carpet": [
           {
            "aaxis": {
             "endlinecolor": "#2a3f5f",
             "gridcolor": "#C8D4E3",
             "linecolor": "#C8D4E3",
             "minorgridcolor": "#C8D4E3",
             "startlinecolor": "#2a3f5f"
            },
            "baxis": {
             "endlinecolor": "#2a3f5f",
             "gridcolor": "#C8D4E3",
             "linecolor": "#C8D4E3",
             "minorgridcolor": "#C8D4E3",
             "startlinecolor": "#2a3f5f"
            },
            "type": "carpet"
           }
          ],
          "choropleth": [
           {
            "colorbar": {
             "outlinewidth": 0,
             "ticks": ""
            },
            "type": "choropleth"
           }
          ],
          "contour": [
           {
            "colorbar": {
             "outlinewidth": 0,
             "ticks": ""
            },
            "colorscale": [
             [
              0,
              "#0d0887"
             ],
             [
              0.1111111111111111,
              "#46039f"
             ],
             [
              0.2222222222222222,
              "#7201a8"
             ],
             [
              0.3333333333333333,
              "#9c179e"
             ],
             [
              0.4444444444444444,
              "#bd3786"
             ],
             [
              0.5555555555555556,
              "#d8576b"
             ],
             [
              0.6666666666666666,
              "#ed7953"
             ],
             [
              0.7777777777777778,
              "#fb9f3a"
             ],
             [
              0.8888888888888888,
              "#fdca26"
             ],
             [
              1,
              "#f0f921"
             ]
            ],
            "type": "contour"
           }
          ],
          "contourcarpet": [
           {
            "colorbar": {
             "outlinewidth": 0,
             "ticks": ""
            },
            "type": "contourcarpet"
           }
          ],
          "heatmap": [
           {
            "colorbar": {
             "outlinewidth": 0,
             "ticks": ""
            },
            "colorscale": [
             [
              0,
              "#0d0887"
             ],
             [
              0.1111111111111111,
              "#46039f"
             ],
             [
              0.2222222222222222,
              "#7201a8"
             ],
             [
              0.3333333333333333,
              "#9c179e"
             ],
             [
              0.4444444444444444,
              "#bd3786"
             ],
             [
              0.5555555555555556,
              "#d8576b"
             ],
             [
              0.6666666666666666,
              "#ed7953"
             ],
             [
              0.7777777777777778,
              "#fb9f3a"
             ],
             [
              0.8888888888888888,
              "#fdca26"
             ],
             [
              1,
              "#f0f921"
             ]
            ],
            "type": "heatmap"
           }
          ],
          "heatmapgl": [
           {
            "colorbar": {
             "outlinewidth": 0,
             "ticks": ""
            },
            "colorscale": [
             [
              0,
              "#0d0887"
             ],
             [
              0.1111111111111111,
              "#46039f"
             ],
             [
              0.2222222222222222,
              "#7201a8"
             ],
             [
              0.3333333333333333,
              "#9c179e"
             ],
             [
              0.4444444444444444,
              "#bd3786"
             ],
             [
              0.5555555555555556,
              "#d8576b"
             ],
             [
              0.6666666666666666,
              "#ed7953"
             ],
             [
              0.7777777777777778,
              "#fb9f3a"
             ],
             [
              0.8888888888888888,
              "#fdca26"
             ],
             [
              1,
              "#f0f921"
             ]
            ],
            "type": "heatmapgl"
           }
          ],
          "histogram": [
           {
            "marker": {
             "colorbar": {
              "outlinewidth": 0,
              "ticks": ""
             }
            },
            "type": "histogram"
           }
          ],
          "histogram2d": [
           {
            "colorbar": {
             "outlinewidth": 0,
             "ticks": ""
            },
            "colorscale": [
             [
              0,
              "#0d0887"
             ],
             [
              0.1111111111111111,
              "#46039f"
             ],
             [
              0.2222222222222222,
              "#7201a8"
             ],
             [
              0.3333333333333333,
              "#9c179e"
             ],
             [
              0.4444444444444444,
              "#bd3786"
             ],
             [
              0.5555555555555556,
              "#d8576b"
             ],
             [
              0.6666666666666666,
              "#ed7953"
             ],
             [
              0.7777777777777778,
              "#fb9f3a"
             ],
             [
              0.8888888888888888,
              "#fdca26"
             ],
             [
              1,
              "#f0f921"
             ]
            ],
            "type": "histogram2d"
           }
          ],
          "histogram2dcontour": [
           {
            "colorbar": {
             "outlinewidth": 0,
             "ticks": ""
            },
            "colorscale": [
             [
              0,
              "#0d0887"
             ],
             [
              0.1111111111111111,
              "#46039f"
             ],
             [
              0.2222222222222222,
              "#7201a8"
             ],
             [
              0.3333333333333333,
              "#9c179e"
             ],
             [
              0.4444444444444444,
              "#bd3786"
             ],
             [
              0.5555555555555556,
              "#d8576b"
             ],
             [
              0.6666666666666666,
              "#ed7953"
             ],
             [
              0.7777777777777778,
              "#fb9f3a"
             ],
             [
              0.8888888888888888,
              "#fdca26"
             ],
             [
              1,
              "#f0f921"
             ]
            ],
            "type": "histogram2dcontour"
           }
          ],
          "mesh3d": [
           {
            "colorbar": {
             "outlinewidth": 0,
             "ticks": ""
            },
            "type": "mesh3d"
           }
          ],
          "parcoords": [
           {
            "line": {
             "colorbar": {
              "outlinewidth": 0,
              "ticks": ""
             }
            },
            "type": "parcoords"
           }
          ],
          "pie": [
           {
            "automargin": true,
            "type": "pie"
           }
          ],
          "scatter": [
           {
            "marker": {
             "colorbar": {
              "outlinewidth": 0,
              "ticks": ""
             }
            },
            "type": "scatter"
           }
          ],
          "scatter3d": [
           {
            "line": {
             "colorbar": {
              "outlinewidth": 0,
              "ticks": ""
             }
            },
            "marker": {
             "colorbar": {
              "outlinewidth": 0,
              "ticks": ""
             }
            },
            "type": "scatter3d"
           }
          ],
          "scattercarpet": [
           {
            "marker": {
             "colorbar": {
              "outlinewidth": 0,
              "ticks": ""
             }
            },
            "type": "scattercarpet"
           }
          ],
          "scattergeo": [
           {
            "marker": {
             "colorbar": {
              "outlinewidth": 0,
              "ticks": ""
             }
            },
            "type": "scattergeo"
           }
          ],
          "scattergl": [
           {
            "marker": {
             "colorbar": {
              "outlinewidth": 0,
              "ticks": ""
             }
            },
            "type": "scattergl"
           }
          ],
          "scattermapbox": [
           {
            "marker": {
             "colorbar": {
              "outlinewidth": 0,
              "ticks": ""
             }
            },
            "type": "scattermapbox"
           }
          ],
          "scatterpolar": [
           {
            "marker": {
             "colorbar": {
              "outlinewidth": 0,
              "ticks": ""
             }
            },
            "type": "scatterpolar"
           }
          ],
          "scatterpolargl": [
           {
            "marker": {
             "colorbar": {
              "outlinewidth": 0,
              "ticks": ""
             }
            },
            "type": "scatterpolargl"
           }
          ],
          "scatterternary": [
           {
            "marker": {
             "colorbar": {
              "outlinewidth": 0,
              "ticks": ""
             }
            },
            "type": "scatterternary"
           }
          ],
          "surface": [
           {
            "colorbar": {
             "outlinewidth": 0,
             "ticks": ""
            },
            "colorscale": [
             [
              0,
              "#0d0887"
             ],
             [
              0.1111111111111111,
              "#46039f"
             ],
             [
              0.2222222222222222,
              "#7201a8"
             ],
             [
              0.3333333333333333,
              "#9c179e"
             ],
             [
              0.4444444444444444,
              "#bd3786"
             ],
             [
              0.5555555555555556,
              "#d8576b"
             ],
             [
              0.6666666666666666,
              "#ed7953"
             ],
             [
              0.7777777777777778,
              "#fb9f3a"
             ],
             [
              0.8888888888888888,
              "#fdca26"
             ],
             [
              1,
              "#f0f921"
             ]
            ],
            "type": "surface"
           }
          ],
          "table": [
           {
            "cells": {
             "fill": {
              "color": "#EBF0F8"
             },
             "line": {
              "color": "white"
             }
            },
            "header": {
             "fill": {
              "color": "#C8D4E3"
             },
             "line": {
              "color": "white"
             }
            },
            "type": "table"
           }
          ]
         },
         "layout": {
          "annotationdefaults": {
           "arrowcolor": "#2a3f5f",
           "arrowhead": 0,
           "arrowwidth": 1
          },
          "coloraxis": {
           "colorbar": {
            "outlinewidth": 0,
            "ticks": ""
           }
          },
          "colorscale": {
           "diverging": [
            [
             0,
             "#8e0152"
            ],
            [
             0.1,
             "#c51b7d"
            ],
            [
             0.2,
             "#de77ae"
            ],
            [
             0.3,
             "#f1b6da"
            ],
            [
             0.4,
             "#fde0ef"
            ],
            [
             0.5,
             "#f7f7f7"
            ],
            [
             0.6,
             "#e6f5d0"
            ],
            [
             0.7,
             "#b8e186"
            ],
            [
             0.8,
             "#7fbc41"
            ],
            [
             0.9,
             "#4d9221"
            ],
            [
             1,
             "#276419"
            ]
           ],
           "sequential": [
            [
             0,
             "#0d0887"
            ],
            [
             0.1111111111111111,
             "#46039f"
            ],
            [
             0.2222222222222222,
             "#7201a8"
            ],
            [
             0.3333333333333333,
             "#9c179e"
            ],
            [
             0.4444444444444444,
             "#bd3786"
            ],
            [
             0.5555555555555556,
             "#d8576b"
            ],
            [
             0.6666666666666666,
             "#ed7953"
            ],
            [
             0.7777777777777778,
             "#fb9f3a"
            ],
            [
             0.8888888888888888,
             "#fdca26"
            ],
            [
             1,
             "#f0f921"
            ]
           ],
           "sequentialminus": [
            [
             0,
             "#0d0887"
            ],
            [
             0.1111111111111111,
             "#46039f"
            ],
            [
             0.2222222222222222,
             "#7201a8"
            ],
            [
             0.3333333333333333,
             "#9c179e"
            ],
            [
             0.4444444444444444,
             "#bd3786"
            ],
            [
             0.5555555555555556,
             "#d8576b"
            ],
            [
             0.6666666666666666,
             "#ed7953"
            ],
            [
             0.7777777777777778,
             "#fb9f3a"
            ],
            [
             0.8888888888888888,
             "#fdca26"
            ],
            [
             1,
             "#f0f921"
            ]
           ]
          },
          "colorway": [
           "#636efa",
           "#EF553B",
           "#00cc96",
           "#ab63fa",
           "#FFA15A",
           "#19d3f3",
           "#FF6692",
           "#B6E880",
           "#FF97FF",
           "#FECB52"
          ],
          "font": {
           "color": "#2a3f5f"
          },
          "geo": {
           "bgcolor": "white",
           "lakecolor": "white",
           "landcolor": "white",
           "showlakes": true,
           "showland": true,
           "subunitcolor": "#C8D4E3"
          },
          "hoverlabel": {
           "align": "left"
          },
          "hovermode": "closest",
          "mapbox": {
           "style": "light"
          },
          "paper_bgcolor": "white",
          "plot_bgcolor": "white",
          "polar": {
           "angularaxis": {
            "gridcolor": "#EBF0F8",
            "linecolor": "#EBF0F8",
            "ticks": ""
           },
           "bgcolor": "white",
           "radialaxis": {
            "gridcolor": "#EBF0F8",
            "linecolor": "#EBF0F8",
            "ticks": ""
           }
          },
          "scene": {
           "xaxis": {
            "backgroundcolor": "white",
            "gridcolor": "#DFE8F3",
            "gridwidth": 2,
            "linecolor": "#EBF0F8",
            "showbackground": true,
            "ticks": "",
            "zerolinecolor": "#EBF0F8"
           },
           "yaxis": {
            "backgroundcolor": "white",
            "gridcolor": "#DFE8F3",
            "gridwidth": 2,
            "linecolor": "#EBF0F8",
            "showbackground": true,
            "ticks": "",
            "zerolinecolor": "#EBF0F8"
           },
           "zaxis": {
            "backgroundcolor": "white",
            "gridcolor": "#DFE8F3",
            "gridwidth": 2,
            "linecolor": "#EBF0F8",
            "showbackground": true,
            "ticks": "",
            "zerolinecolor": "#EBF0F8"
           }
          },
          "shapedefaults": {
           "line": {
            "color": "#2a3f5f"
           }
          },
          "ternary": {
           "aaxis": {
            "gridcolor": "#DFE8F3",
            "linecolor": "#A2B1C6",
            "ticks": ""
           },
           "baxis": {
            "gridcolor": "#DFE8F3",
            "linecolor": "#A2B1C6",
            "ticks": ""
           },
           "bgcolor": "white",
           "caxis": {
            "gridcolor": "#DFE8F3",
            "linecolor": "#A2B1C6",
            "ticks": ""
           }
          },
          "title": {
           "x": 0.05
          },
          "xaxis": {
           "automargin": true,
           "gridcolor": "#EBF0F8",
           "linecolor": "#EBF0F8",
           "ticks": "",
           "title": {
            "standoff": 15
           },
           "zerolinecolor": "#EBF0F8",
           "zerolinewidth": 2
          },
          "yaxis": {
           "automargin": true,
           "gridcolor": "#EBF0F8",
           "linecolor": "#EBF0F8",
           "ticks": "",
           "title": {
            "standoff": 15
           },
           "zerolinecolor": "#EBF0F8",
           "zerolinewidth": 2
          }
         }
        },
        "title": {
         "text": "<b>Koronatrenden i Norge</b><br>Datakilde: FHI. Oppdatert 03.04.2020"
        },
        "updatemenus": [
         {
          "active": 0,
          "buttons": [
           {
            "args": [
             {
              "visible": [
               true
              ]
             },
             {
              "yaxis": {
               "nticks": 4,
               "type": "log"
              }
             }
            ],
            "label": "Logaritmisk",
            "method": "update"
           },
           {
            "args": [
             {
              "visible": [
               true
              ]
             },
             {
              "yaxis": {
               "type": "linear"
              }
             }
            ],
            "label": "Lineær",
            "method": "update"
           }
          ],
          "showactive": true,
          "type": "buttons",
          "x": 1.05,
          "xanchor": "left",
          "y": 0.3,
          "yanchor": "top"
         }
        ],
        "xaxis": {
         "anchor": "y",
         "domain": [
          0,
          1
         ],
         "nticks": 4,
         "title": {
          "text": "Antall registrerte tilfeller totalt"
         },
         "type": "log"
        },
        "yaxis": {
         "anchor": "x",
         "domain": [
          0,
          1
         ],
         "nticks": 3,
         "title": {
          "text": "Nye tilfeller (gjennomsnitt siste uke)"
         },
         "type": "log"
        }
       }
      },
      "text/html": [
       "<div>\n",
       "        \n",
       "        \n",
       "            <div id=\"cd3a15c6-8db1-4c59-a932-e0e7aae245cb\" class=\"plotly-graph-div\" style=\"height:525px; width:100%;\"></div>\n",
       "            <script type=\"text/javascript\">\n",
       "                require([\"plotly\"], function(Plotly) {\n",
       "                    window.PLOTLYENV=window.PLOTLYENV || {};\n",
       "                    \n",
       "                if (document.getElementById(\"cd3a15c6-8db1-4c59-a932-e0e7aae245cb\")) {\n",
       "                    Plotly.newPlot(\n",
       "                        'cd3a15c6-8db1-4c59-a932-e0e7aae245cb',\n",
       "                        [{\"customdata\": [[\"09 Mar\"], [\"10 Mar\"], [\"11 Mar\"], [\"12 Mar\"], [\"13 Mar\"], [\"14 Mar\"], [\"15 Mar\"], [\"16 Mar\"], [\"17 Mar\"], [\"18 Mar\"], [\"19 Mar\"], [\"20 Mar\"], [\"21 Mar\"], [\"22 Mar\"], [\"23 Mar\"], [\"24 Mar\"], [\"25 Mar\"], [\"26 Mar\"], [\"27 Mar\"], [\"28 Mar\"], [\"29 Mar\"], [\"30 Mar\"], [\"31 Mar\"], [\"01 Apr\"], [\"02 Apr\"]], \"hoverlabel\": {\"namelength\": 0}, \"hovertemplate\": \"<b>%{hovertext}</b><br><br>Fylke=Agder<br>Antall registrerte tilfeller totalt=%{x}<br>Nye tilfeller (gjennomsnitt siste uke)=%{y}<br>Dato=%{customdata[0]}\", \"hovertext\": [\"Agder\", \"Agder\", \"Agder\", \"Agder\", \"Agder\", \"Agder\", \"Agder\", \"Agder\", \"Agder\", \"Agder\", \"Agder\", \"Agder\", \"Agder\", \"Agder\", \"Agder\", \"Agder\", \"Agder\", \"Agder\", \"Agder\", \"Agder\", \"Agder\", \"Agder\", \"Agder\", \"Agder\", \"Agder\"], \"legendgroup\": \"Agder\", \"marker\": {\"color\": \"#636efa\", \"symbol\": \"circle\"}, \"mode\": \"lines\", \"name\": \"Agder\", \"showlegend\": true, \"type\": \"scatter\", \"x\": [17.0, 19.0, 20.0, 32.0, 34.0, 52.0, 55.0, 67.0, 67.0, 67.0, 75.0, 79.0, 82.0, 91.0, 91.0, 92.0, 128.0, 134.0, 148.0, 159.0, 161.0, 166.0, 176.0, 190.0, 207.0], \"xaxis\": \"x\", \"y\": [2.142857142857143, 2.2857142857142856, 2.4285714285714284, 3.5714285714285716, 3.857142857142857, 6.142857142857143, 6.571428571428571, 7.142857142857143, 6.857142857142857, 6.714285714285714, 6.142857142857143, 6.428571428571429, 4.285714285714286, 5.142857142857143, 3.4285714285714284, 3.5714285714285716, 8.714285714285714, 8.428571428571429, 9.857142857142858, 11.0, 10.0, 10.714285714285714, 12.0, 8.857142857142858, 10.428571428571429], \"yaxis\": \"y\"}, {\"customdata\": [[\"09 Mar\"], [\"10 Mar\"], [\"11 Mar\"], [\"12 Mar\"], [\"13 Mar\"], [\"14 Mar\"], [\"15 Mar\"], [\"16 Mar\"], [\"17 Mar\"], [\"18 Mar\"], [\"19 Mar\"], [\"20 Mar\"], [\"21 Mar\"], [\"22 Mar\"], [\"23 Mar\"], [\"24 Mar\"], [\"25 Mar\"], [\"26 Mar\"], [\"27 Mar\"], [\"28 Mar\"], [\"29 Mar\"], [\"30 Mar\"], [\"31 Mar\"], [\"01 Apr\"], [\"02 Apr\"]], \"hoverlabel\": {\"namelength\": 0}, \"hovertemplate\": \"<b>%{hovertext}</b><br><br>Fylke=Innlandet<br>Antall registrerte tilfeller totalt=%{x}<br>Nye tilfeller (gjennomsnitt siste uke)=%{y}<br>Dato=%{customdata[0]}\", \"hovertext\": [\"Innlandet\", \"Innlandet\", \"Innlandet\", \"Innlandet\", \"Innlandet\", \"Innlandet\", \"Innlandet\", \"Innlandet\", \"Innlandet\", \"Innlandet\", \"Innlandet\", \"Innlandet\", \"Innlandet\", \"Innlandet\", \"Innlandet\", \"Innlandet\", \"Innlandet\", \"Innlandet\", \"Innlandet\", \"Innlandet\", \"Innlandet\", \"Innlandet\", \"Innlandet\", \"Innlandet\", \"Innlandet\"], \"legendgroup\": \"Innlandet\", \"marker\": {\"color\": \"#EF553B\", \"symbol\": \"circle\"}, \"mode\": \"lines\", \"name\": \"Innlandet\", \"showlegend\": true, \"type\": \"scatter\", \"x\": [14.0, 16.0, 23.0, 40.0, 49.0, 57.0, 72.0, 81.0, 88.0, 97.0, 105.0, 115.0, 125.0, 148.0, 151.0, 163.0, 193.0, 198.0, 200.0, 228.0, 246.0, 258.0, 293.0, 327.0, 344.0], \"xaxis\": \"x\", \"y\": [2.0, 2.2857142857142856, 2.857142857142857, 5.142857142857143, 5.285714285714286, 6.428571428571429, 8.571428571428571, 9.571428571428571, 10.285714285714286, 10.571428571428571, 9.285714285714286, 9.428571428571429, 9.714285714285714, 10.857142857142858, 10.0, 10.714285714285714, 13.714285714285714, 13.285714285714286, 12.142857142857142, 14.714285714285714, 14.0, 15.285714285714286, 18.571428571428573, 19.142857142857142, 20.857142857142858], \"yaxis\": \"y\"}, {\"customdata\": [[\"09 Mar\"], [\"10 Mar\"], [\"11 Mar\"], [\"12 Mar\"], [\"13 Mar\"], [\"14 Mar\"], [\"15 Mar\"], [\"16 Mar\"], [\"17 Mar\"], [\"18 Mar\"], [\"19 Mar\"], [\"20 Mar\"], [\"21 Mar\"], [\"22 Mar\"], [\"23 Mar\"], [\"24 Mar\"], [\"25 Mar\"], [\"26 Mar\"], [\"27 Mar\"], [\"28 Mar\"], [\"29 Mar\"], [\"30 Mar\"], [\"31 Mar\"], [\"01 Apr\"], [\"02 Apr\"]], \"hoverlabel\": {\"namelength\": 0}, \"hovertemplate\": \"<b>%{hovertext}</b><br><br>Fylke=M\\u00f8re og Romsdal<br>Antall registrerte tilfeller totalt=%{x}<br>Nye tilfeller (gjennomsnitt siste uke)=%{y}<br>Dato=%{customdata[0]}\", \"hovertext\": [\"M\\u00f8re og Romsdal\", \"M\\u00f8re og Romsdal\", \"M\\u00f8re og Romsdal\", \"M\\u00f8re og Romsdal\", \"M\\u00f8re og Romsdal\", \"M\\u00f8re og Romsdal\", \"M\\u00f8re og Romsdal\", \"M\\u00f8re og Romsdal\", \"M\\u00f8re og Romsdal\", \"M\\u00f8re og Romsdal\", \"M\\u00f8re og Romsdal\", \"M\\u00f8re og Romsdal\", \"M\\u00f8re og Romsdal\", \"M\\u00f8re og Romsdal\", \"M\\u00f8re og Romsdal\", \"M\\u00f8re og Romsdal\", \"M\\u00f8re og Romsdal\", \"M\\u00f8re og Romsdal\", \"M\\u00f8re og Romsdal\", \"M\\u00f8re og Romsdal\", \"M\\u00f8re og Romsdal\", \"M\\u00f8re og Romsdal\", \"M\\u00f8re og Romsdal\", \"M\\u00f8re og Romsdal\", \"M\\u00f8re og Romsdal\"], \"legendgroup\": \"M\\u00f8re og Romsdal\", \"marker\": {\"color\": \"#00cc96\", \"symbol\": \"circle\"}, \"mode\": \"lines\", \"name\": \"M\\u00f8re og Romsdal\", \"showlegend\": true, \"type\": \"scatter\", \"x\": [4.0, 5.0, 7.0, 6.0, 7.0, 16.0, 20.0, 20.0, 20.0, 20.0, 25.0, 29.0, 32.0, 38.0, 44.0, 46.0, 66.0, 71.0, 74.0, 81.0, 81.0, 81.0, 82.0, 90.0, 95.0], \"xaxis\": \"x\", \"y\": [0.5714285714285714, 0.7142857142857143, 0.8571428571428571, 0.5714285714285714, 0.7142857142857143, 2.0, 2.5714285714285716, 2.2857142857142856, 2.142857142857143, 1.8571428571428572, 2.7142857142857144, 3.142857142857143, 2.2857142857142856, 2.5714285714285716, 3.4285714285714284, 3.7142857142857144, 6.571428571428571, 6.571428571428571, 6.428571428571429, 7.0, 6.142857142857143, 5.285714285714286, 5.142857142857143, 3.4285714285714284, 3.4285714285714284], \"yaxis\": \"y\"}, {\"customdata\": [[\"09 Mar\"], [\"10 Mar\"], [\"11 Mar\"], [\"12 Mar\"], [\"13 Mar\"], [\"14 Mar\"], [\"15 Mar\"], [\"16 Mar\"], [\"17 Mar\"], [\"18 Mar\"], [\"19 Mar\"], [\"20 Mar\"], [\"21 Mar\"], [\"22 Mar\"], [\"23 Mar\"], [\"24 Mar\"], [\"25 Mar\"], [\"26 Mar\"], [\"27 Mar\"], [\"28 Mar\"], [\"29 Mar\"], [\"30 Mar\"], [\"31 Mar\"], [\"01 Apr\"], [\"02 Apr\"]], \"hoverlabel\": {\"namelength\": 0}, \"hovertemplate\": \"<b>%{hovertext}</b><br><br>Fylke=Nordland<br>Antall registrerte tilfeller totalt=%{x}<br>Nye tilfeller (gjennomsnitt siste uke)=%{y}<br>Dato=%{customdata[0]}\", \"hovertext\": [\"Nordland\", \"Nordland\", \"Nordland\", \"Nordland\", \"Nordland\", \"Nordland\", \"Nordland\", \"Nordland\", \"Nordland\", \"Nordland\", \"Nordland\", \"Nordland\", \"Nordland\", \"Nordland\", \"Nordland\", \"Nordland\", \"Nordland\", \"Nordland\", \"Nordland\", \"Nordland\", \"Nordland\", \"Nordland\", \"Nordland\", \"Nordland\", \"Nordland\"], \"legendgroup\": \"Nordland\", \"marker\": {\"color\": \"#ab63fa\", \"symbol\": \"circle\"}, \"mode\": \"lines\", \"name\": \"Nordland\", \"showlegend\": true, \"type\": \"scatter\", \"x\": [3.0, 3.0, 3.0, 4.0, 5.0, 8.0, 8.0, 11.0, 11.0, 12.0, 13.0, 17.0, 17.0, 18.0, 18.0, 18.0, 27.0, 29.0, 36.0, 42.0, 46.0, 48.0, 52.0, 62.0, 68.0], \"xaxis\": \"x\", \"y\": [0.42857142857142855, 0.42857142857142855, 0.42857142857142855, 0.5714285714285714, 0.5714285714285714, 0.8571428571428571, 0.7142857142857143, 1.1428571428571428, 1.1428571428571428, 1.2857142857142858, 1.2857142857142858, 1.7142857142857142, 1.2857142857142858, 1.4285714285714286, 1.0, 1.0, 2.142857142857143, 2.2857142857142856, 2.7142857142857144, 3.5714285714285716, 4.0, 4.285714285714286, 4.857142857142857, 5.0, 5.571428571428571], \"yaxis\": \"y\"}, {\"customdata\": [[\"09 Mar\"], [\"10 Mar\"], [\"11 Mar\"], [\"12 Mar\"], [\"13 Mar\"], [\"14 Mar\"], [\"15 Mar\"], [\"16 Mar\"], [\"17 Mar\"], [\"18 Mar\"], [\"19 Mar\"], [\"20 Mar\"], [\"21 Mar\"], [\"22 Mar\"], [\"23 Mar\"], [\"24 Mar\"], [\"25 Mar\"], [\"26 Mar\"], [\"27 Mar\"], [\"28 Mar\"], [\"29 Mar\"], [\"30 Mar\"], [\"31 Mar\"], [\"01 Apr\"], [\"02 Apr\"]], \"hoverlabel\": {\"namelength\": 0}, \"hovertemplate\": \"<b>%{hovertext}</b><br><br>Fylke=Oslo<br>Antall registrerte tilfeller totalt=%{x}<br>Nye tilfeller (gjennomsnitt siste uke)=%{y}<br>Dato=%{customdata[0]}\", \"hovertext\": [\"Oslo\", \"Oslo\", \"Oslo\", \"Oslo\", \"Oslo\", \"Oslo\", \"Oslo\", \"Oslo\", \"Oslo\", \"Oslo\", \"Oslo\", \"Oslo\", \"Oslo\", \"Oslo\", \"Oslo\", \"Oslo\", \"Oslo\", \"Oslo\", \"Oslo\", \"Oslo\", \"Oslo\", \"Oslo\", \"Oslo\", \"Oslo\", \"Oslo\"], \"legendgroup\": \"Oslo\", \"marker\": {\"color\": \"#FFA15A\", \"symbol\": \"circle\"}, \"mode\": \"lines\", \"name\": \"Oslo\", \"showlegend\": true, \"type\": \"scatter\", \"x\": [35.0, 51.0, 123.0, 166.0, 207.0, 222.0, 281.0, 292.0, 329.0, 348.0, 392.0, 419.0, 448.0, 523.0, 636.0, 640.0, 647.0, 744.0, 903.0, 989.0, 1118.0, 1169.0, 1233.0, 1281.0, 1379.0], \"xaxis\": \"x\", \"y\": [4.0, 6.285714285714286, 15.571428571428571, 21.142857142857142, 26.285714285714285, 27.571428571428573, 35.142857142857146, 36.714285714285715, 39.714285714285715, 32.142857142857146, 32.285714285714285, 30.285714285714285, 32.285714285714285, 34.57142857142857, 49.142857142857146, 44.42857142857143, 42.714285714285715, 50.285714285714285, 69.14285714285714, 77.28571428571429, 85.0, 76.14285714285714, 84.71428571428571, 90.57142857142857, 90.71428571428571], \"yaxis\": \"y\"}, {\"customdata\": [[\"09 Mar\"], [\"10 Mar\"], [\"11 Mar\"], [\"12 Mar\"], [\"13 Mar\"], [\"14 Mar\"], [\"15 Mar\"], [\"16 Mar\"], [\"17 Mar\"], [\"18 Mar\"], [\"19 Mar\"], [\"20 Mar\"], [\"21 Mar\"], [\"22 Mar\"], [\"23 Mar\"], [\"24 Mar\"], [\"25 Mar\"], [\"26 Mar\"], [\"27 Mar\"], [\"28 Mar\"], [\"29 Mar\"], [\"30 Mar\"], [\"31 Mar\"], [\"01 Apr\"], [\"02 Apr\"]], \"hoverlabel\": {\"namelength\": 0}, \"hovertemplate\": \"<b>%{hovertext}</b><br><br>Fylke=Rogaland<br>Antall registrerte tilfeller totalt=%{x}<br>Nye tilfeller (gjennomsnitt siste uke)=%{y}<br>Dato=%{customdata[0]}\", \"hovertext\": [\"Rogaland\", \"Rogaland\", \"Rogaland\", \"Rogaland\", \"Rogaland\", \"Rogaland\", \"Rogaland\", \"Rogaland\", \"Rogaland\", \"Rogaland\", \"Rogaland\", \"Rogaland\", \"Rogaland\", \"Rogaland\", \"Rogaland\", \"Rogaland\", \"Rogaland\", \"Rogaland\", \"Rogaland\", \"Rogaland\", \"Rogaland\", \"Rogaland\", \"Rogaland\", \"Rogaland\", \"Rogaland\"], \"legendgroup\": \"Rogaland\", \"marker\": {\"color\": \"#19d3f3\", \"symbol\": \"circle\"}, \"mode\": \"lines\", \"name\": \"Rogaland\", \"showlegend\": true, \"type\": \"scatter\", \"x\": [25.0, 33.0, 71.0, 82.0, 105.0, 119.0, 127.0, 131.0, 150.0, 161.0, 176.0, 180.0, 199.0, 219.0, 237.0, 251.0, 253.0, 270.0, 277.0, 304.0, 305.0, 305.0, 317.0, 321.0, 332.0], \"xaxis\": \"x\", \"y\": [3.5714285714285716, 4.714285714285714, 9.714285714285714, 10.857142857142858, 13.428571428571429, 15.0, 15.428571428571429, 15.142857142857142, 16.714285714285715, 12.857142857142858, 13.428571428571429, 10.714285714285714, 11.428571428571429, 13.142857142857142, 15.142857142857142, 14.428571428571429, 13.142857142857142, 13.428571428571429, 13.857142857142858, 15.0, 12.285714285714286, 9.714285714285714, 9.428571428571429, 9.714285714285714, 8.857142857142858], \"yaxis\": \"y\"}, {\"customdata\": [[\"09 Mar\"], [\"10 Mar\"], [\"11 Mar\"], [\"12 Mar\"], [\"13 Mar\"], [\"14 Mar\"], [\"15 Mar\"], [\"16 Mar\"], [\"17 Mar\"], [\"18 Mar\"], [\"19 Mar\"], [\"20 Mar\"], [\"21 Mar\"], [\"22 Mar\"], [\"23 Mar\"], [\"24 Mar\"], [\"25 Mar\"], [\"26 Mar\"], [\"27 Mar\"], [\"28 Mar\"], [\"29 Mar\"], [\"30 Mar\"], [\"31 Mar\"], [\"01 Apr\"], [\"02 Apr\"]], \"hoverlabel\": {\"namelength\": 0}, \"hovertemplate\": \"<b>%{hovertext}</b><br><br>Fylke=Troms og Finnmark<br>Antall registrerte tilfeller totalt=%{x}<br>Nye tilfeller (gjennomsnitt siste uke)=%{y}<br>Dato=%{customdata[0]}\", \"hovertext\": [\"Troms og Finnmark\", \"Troms og Finnmark\", \"Troms og Finnmark\", \"Troms og Finnmark\", \"Troms og Finnmark\", \"Troms og Finnmark\", \"Troms og Finnmark\", \"Troms og Finnmark\", \"Troms og Finnmark\", \"Troms og Finnmark\", \"Troms og Finnmark\", \"Troms og Finnmark\", \"Troms og Finnmark\", \"Troms og Finnmark\", \"Troms og Finnmark\", \"Troms og Finnmark\", \"Troms og Finnmark\", \"Troms og Finnmark\", \"Troms og Finnmark\", \"Troms og Finnmark\", \"Troms og Finnmark\", \"Troms og Finnmark\", \"Troms og Finnmark\", \"Troms og Finnmark\", \"Troms og Finnmark\"], \"legendgroup\": \"Troms og Finnmark\", \"marker\": {\"color\": \"#FF6692\", \"symbol\": \"circle\"}, \"mode\": \"lines\", \"name\": \"Troms og Finnmark\", \"showlegend\": true, \"type\": \"scatter\", \"x\": [6.0, 6.0, 7.0, 11.0, 12.0, 16.0, 20.0, 21.0, 24.0, 28.0, 28.0, 32.0, 37.0, 49.0, 55.0, 59.0, 75.0, 93.0, 116.0, 129.0, 143.0, 146.0, 152.0, 157.0, 164.0], \"xaxis\": \"x\", \"y\": [0.7142857142857143, 0.5714285714285714, 0.7142857142857143, 1.2857142857142858, 0.8571428571428571, 1.4285714285714286, 2.0, 2.142857142857143, 2.5714285714285716, 3.0, 2.4285714285714284, 2.857142857142857, 3.0, 4.142857142857143, 4.857142857142857, 5.0, 6.714285714285714, 9.285714285714286, 12.0, 13.142857142857142, 13.428571428571429, 13.0, 13.285714285714286, 11.714285714285714, 10.142857142857142], \"yaxis\": \"y\"}, {\"customdata\": [[\"09 Mar\"], [\"10 Mar\"], [\"11 Mar\"], [\"12 Mar\"], [\"13 Mar\"], [\"14 Mar\"], [\"15 Mar\"], [\"16 Mar\"], [\"17 Mar\"], [\"18 Mar\"], [\"19 Mar\"], [\"20 Mar\"], [\"21 Mar\"], [\"22 Mar\"], [\"23 Mar\"], [\"24 Mar\"], [\"25 Mar\"], [\"26 Mar\"], [\"27 Mar\"], [\"28 Mar\"], [\"29 Mar\"], [\"30 Mar\"], [\"31 Mar\"], [\"01 Apr\"], [\"02 Apr\"]], \"hoverlabel\": {\"namelength\": 0}, \"hovertemplate\": \"<b>%{hovertext}</b><br><br>Fylke=Tr\\u00f8ndelag<br>Antall registrerte tilfeller totalt=%{x}<br>Nye tilfeller (gjennomsnitt siste uke)=%{y}<br>Dato=%{customdata[0]}\", \"hovertext\": [\"Tr\\u00f8ndelag\", \"Tr\\u00f8ndelag\", \"Tr\\u00f8ndelag\", \"Tr\\u00f8ndelag\", \"Tr\\u00f8ndelag\", \"Tr\\u00f8ndelag\", \"Tr\\u00f8ndelag\", \"Tr\\u00f8ndelag\", \"Tr\\u00f8ndelag\", \"Tr\\u00f8ndelag\", \"Tr\\u00f8ndelag\", \"Tr\\u00f8ndelag\", \"Tr\\u00f8ndelag\", \"Tr\\u00f8ndelag\", \"Tr\\u00f8ndelag\", \"Tr\\u00f8ndelag\", \"Tr\\u00f8ndelag\", \"Tr\\u00f8ndelag\", \"Tr\\u00f8ndelag\", \"Tr\\u00f8ndelag\", \"Tr\\u00f8ndelag\", \"Tr\\u00f8ndelag\", \"Tr\\u00f8ndelag\", \"Tr\\u00f8ndelag\", \"Tr\\u00f8ndelag\"], \"legendgroup\": \"Tr\\u00f8ndelag\", \"marker\": {\"color\": \"#B6E880\", \"symbol\": \"circle\"}, \"mode\": \"lines\", \"name\": \"Tr\\u00f8ndelag\", \"showlegend\": true, \"type\": \"scatter\", \"x\": [22.0, 22.0, 25.0, 37.0, 43.0, 46.0, 50.0, 52.0, 61.0, 70.0, 75.0, 97.0, 122.0, 131.0, 144.0, 158.0, 196.0, 236.0, 261.0, 281.0, 296.0, 311.0, 320.0, 330.0, 340.0], \"xaxis\": \"x\", \"y\": [3.142857142857143, 3.142857142857143, 3.4285714285714284, 4.285714285714286, 4.0, 4.0, 4.428571428571429, 4.285714285714286, 5.571428571428571, 6.428571428571429, 5.428571428571429, 7.714285714285714, 10.857142857142858, 11.571428571428571, 13.142857142857142, 13.857142857142858, 18.0, 23.0, 23.428571428571427, 22.714285714285715, 23.571428571428573, 23.857142857142858, 23.142857142857142, 19.142857142857142, 14.857142857142858], \"yaxis\": \"y\"}, {\"customdata\": [[\"09 Mar\"], [\"10 Mar\"], [\"11 Mar\"], [\"12 Mar\"], [\"13 Mar\"], [\"14 Mar\"], [\"15 Mar\"], [\"16 Mar\"], [\"17 Mar\"], [\"18 Mar\"], [\"19 Mar\"], [\"20 Mar\"], [\"21 Mar\"], [\"22 Mar\"], [\"23 Mar\"], [\"24 Mar\"], [\"25 Mar\"], [\"26 Mar\"], [\"27 Mar\"], [\"28 Mar\"], [\"29 Mar\"], [\"30 Mar\"], [\"31 Mar\"], [\"01 Apr\"], [\"02 Apr\"]], \"hoverlabel\": {\"namelength\": 0}, \"hovertemplate\": \"<b>%{hovertext}</b><br><br>Fylke=Vestfold og Telemark<br>Antall registrerte tilfeller totalt=%{x}<br>Nye tilfeller (gjennomsnitt siste uke)=%{y}<br>Dato=%{customdata[0]}\", \"hovertext\": [\"Vestfold og Telemark\", \"Vestfold og Telemark\", \"Vestfold og Telemark\", \"Vestfold og Telemark\", \"Vestfold og Telemark\", \"Vestfold og Telemark\", \"Vestfold og Telemark\", \"Vestfold og Telemark\", \"Vestfold og Telemark\", \"Vestfold og Telemark\", \"Vestfold og Telemark\", \"Vestfold og Telemark\", \"Vestfold og Telemark\", \"Vestfold og Telemark\", \"Vestfold og Telemark\", \"Vestfold og Telemark\", \"Vestfold og Telemark\", \"Vestfold og Telemark\", \"Vestfold og Telemark\", \"Vestfold og Telemark\", \"Vestfold og Telemark\", \"Vestfold og Telemark\", \"Vestfold og Telemark\", \"Vestfold og Telemark\", \"Vestfold og Telemark\"], \"legendgroup\": \"Vestfold og Telemark\", \"marker\": {\"color\": \"#FF97FF\", \"symbol\": \"circle\"}, \"mode\": \"lines\", \"name\": \"Vestfold og Telemark\", \"showlegend\": true, \"type\": \"scatter\", \"x\": [5.0, 5.0, 15.0, 22.0, 30.0, 39.0, 48.0, 53.0, 59.0, 63.0, 65.0, 72.0, 81.0, 85.0, 87.0, 95.0, 114.0, 136.0, 146.0, 149.0, 154.0, 163.0, 174.0, 180.0, 190.0], \"xaxis\": \"x\", \"y\": [0.7142857142857143, 0.7142857142857143, 2.142857142857143, 2.857142857142857, 4.0, 5.285714285714286, 6.428571428571429, 6.857142857142857, 7.714285714285714, 6.857142857142857, 6.142857142857143, 6.0, 6.0, 5.285714285714286, 4.857142857142857, 5.142857142857143, 7.285714285714286, 10.142857142857142, 10.571428571428571, 9.714285714285714, 9.857142857142858, 10.857142857142858, 11.285714285714286, 9.428571428571429, 7.714285714285714], \"yaxis\": \"y\"}, {\"customdata\": [[\"09 Mar\"], [\"10 Mar\"], [\"11 Mar\"], [\"12 Mar\"], [\"13 Mar\"], [\"14 Mar\"], [\"15 Mar\"], [\"16 Mar\"], [\"17 Mar\"], [\"18 Mar\"], [\"19 Mar\"], [\"20 Mar\"], [\"21 Mar\"], [\"22 Mar\"], [\"23 Mar\"], [\"24 Mar\"], [\"25 Mar\"], [\"26 Mar\"], [\"27 Mar\"], [\"28 Mar\"], [\"29 Mar\"], [\"30 Mar\"], [\"31 Mar\"], [\"01 Apr\"], [\"02 Apr\"]], \"hoverlabel\": {\"namelength\": 0}, \"hovertemplate\": \"<b>%{hovertext}</b><br><br>Fylke=Vestland<br>Antall registrerte tilfeller totalt=%{x}<br>Nye tilfeller (gjennomsnitt siste uke)=%{y}<br>Dato=%{customdata[0]}\", \"hovertext\": [\"Vestland\", \"Vestland\", \"Vestland\", \"Vestland\", \"Vestland\", \"Vestland\", \"Vestland\", \"Vestland\", \"Vestland\", \"Vestland\", \"Vestland\", \"Vestland\", \"Vestland\", \"Vestland\", \"Vestland\", \"Vestland\", \"Vestland\", \"Vestland\", \"Vestland\", \"Vestland\", \"Vestland\", \"Vestland\", \"Vestland\", \"Vestland\", \"Vestland\"], \"legendgroup\": \"Vestland\", \"marker\": {\"color\": \"#FECB52\", \"symbol\": \"circle\"}, \"mode\": \"lines\", \"name\": \"Vestland\", \"showlegend\": true, \"type\": \"scatter\", \"x\": [28.0, 31.0, 41.0, 67.0, 78.0, 101.0, 118.0, 127.0, 141.0, 147.0, 153.0, 173.0, 200.0, 214.0, 234.0, 279.0, 346.0, 375.0, 410.0, 436.0, 445.0, 460.0, 467.0, 490.0, 510.0], \"xaxis\": \"x\", \"y\": [2.7142857142857144, 2.7142857142857144, 3.4285714285714284, 6.428571428571429, 7.714285714285714, 11.0, 13.428571428571429, 14.142857142857142, 15.714285714285714, 15.142857142857142, 12.285714285714286, 13.571428571428571, 14.142857142857142, 13.714285714285714, 15.285714285714286, 19.714285714285715, 28.428571428571427, 31.714285714285715, 33.857142857142854, 33.714285714285715, 33.0, 32.285714285714285, 26.857142857142858, 20.571428571428573, 19.285714285714285], \"yaxis\": \"y\"}, {\"customdata\": [[\"09 Mar\"], [\"10 Mar\"], [\"11 Mar\"], [\"12 Mar\"], [\"13 Mar\"], [\"14 Mar\"], [\"15 Mar\"], [\"16 Mar\"], [\"17 Mar\"], [\"18 Mar\"], [\"19 Mar\"], [\"20 Mar\"], [\"21 Mar\"], [\"22 Mar\"], [\"23 Mar\"], [\"24 Mar\"], [\"25 Mar\"], [\"26 Mar\"], [\"27 Mar\"], [\"28 Mar\"], [\"29 Mar\"], [\"30 Mar\"], [\"31 Mar\"], [\"01 Apr\"], [\"02 Apr\"]], \"hoverlabel\": {\"namelength\": 0}, \"hovertemplate\": \"<b>%{hovertext}</b><br><br>Fylke=Viken<br>Antall registrerte tilfeller totalt=%{x}<br>Nye tilfeller (gjennomsnitt siste uke)=%{y}<br>Dato=%{customdata[0]}\", \"hovertext\": [\"Viken\", \"Viken\", \"Viken\", \"Viken\", \"Viken\", \"Viken\", \"Viken\", \"Viken\", \"Viken\", \"Viken\", \"Viken\", \"Viken\", \"Viken\", \"Viken\", \"Viken\", \"Viken\", \"Viken\", \"Viken\", \"Viken\", \"Viken\", \"Viken\", \"Viken\", \"Viken\", \"Viken\", \"Viken\"], \"legendgroup\": \"Viken\", \"marker\": {\"color\": \"#636efa\", \"symbol\": \"circle\"}, \"mode\": \"lines\", \"name\": \"Viken\", \"showlegend\": true, \"type\": \"scatter\", \"x\": [52.0, 86.0, 124.0, 154.0, 180.0, 231.0, 278.0, 314.0, 358.0, 410.0, 445.0, 529.0, 583.0, 615.0, 674.0, 748.0, 834.0, 896.0, 1007.0, 1048.0, 1107.0, 1118.0, 1180.0, 1225.0, 1306.0], \"xaxis\": \"x\", \"y\": [6.714285714285714, 11.142857142857142, 15.0, 18.714285714285715, 22.0, 27.571428571428573, 33.857142857142854, 37.42857142857143, 38.857142857142854, 40.857142857142854, 41.57142857142857, 49.857142857142854, 50.285714285714285, 48.142857142857146, 51.42857142857143, 55.714285714285715, 60.57142857142857, 64.42857142857143, 68.28571428571429, 66.42857142857143, 70.28571428571429, 63.42857142857143, 61.714285714285715, 55.857142857142854, 58.57142857142857], \"yaxis\": \"y\"}],\n",
       "                        {\"legend\": {\"title\": {\"text\": \"Fylke\"}, \"tracegroupgap\": 0}, \"template\": {\"data\": {\"bar\": [{\"error_x\": {\"color\": \"#2a3f5f\"}, \"error_y\": {\"color\": \"#2a3f5f\"}, \"marker\": {\"line\": {\"color\": \"white\", \"width\": 0.5}}, \"type\": \"bar\"}], \"barpolar\": [{\"marker\": {\"line\": {\"color\": \"white\", \"width\": 0.5}}, \"type\": \"barpolar\"}], \"carpet\": [{\"aaxis\": {\"endlinecolor\": \"#2a3f5f\", \"gridcolor\": \"#C8D4E3\", \"linecolor\": \"#C8D4E3\", \"minorgridcolor\": \"#C8D4E3\", \"startlinecolor\": \"#2a3f5f\"}, \"baxis\": {\"endlinecolor\": \"#2a3f5f\", \"gridcolor\": \"#C8D4E3\", \"linecolor\": \"#C8D4E3\", \"minorgridcolor\": \"#C8D4E3\", \"startlinecolor\": \"#2a3f5f\"}, \"type\": \"carpet\"}], \"choropleth\": [{\"colorbar\": {\"outlinewidth\": 0, \"ticks\": \"\"}, \"type\": \"choropleth\"}], \"contour\": [{\"colorbar\": {\"outlinewidth\": 0, \"ticks\": \"\"}, \"colorscale\": [[0.0, \"#0d0887\"], [0.1111111111111111, \"#46039f\"], [0.2222222222222222, \"#7201a8\"], [0.3333333333333333, \"#9c179e\"], [0.4444444444444444, \"#bd3786\"], [0.5555555555555556, \"#d8576b\"], [0.6666666666666666, \"#ed7953\"], [0.7777777777777778, \"#fb9f3a\"], [0.8888888888888888, \"#fdca26\"], [1.0, \"#f0f921\"]], \"type\": \"contour\"}], \"contourcarpet\": [{\"colorbar\": {\"outlinewidth\": 0, \"ticks\": \"\"}, \"type\": \"contourcarpet\"}], \"heatmap\": [{\"colorbar\": {\"outlinewidth\": 0, \"ticks\": \"\"}, \"colorscale\": [[0.0, \"#0d0887\"], [0.1111111111111111, \"#46039f\"], [0.2222222222222222, \"#7201a8\"], [0.3333333333333333, \"#9c179e\"], [0.4444444444444444, \"#bd3786\"], [0.5555555555555556, \"#d8576b\"], [0.6666666666666666, \"#ed7953\"], [0.7777777777777778, \"#fb9f3a\"], [0.8888888888888888, \"#fdca26\"], [1.0, \"#f0f921\"]], \"type\": \"heatmap\"}], \"heatmapgl\": [{\"colorbar\": {\"outlinewidth\": 0, \"ticks\": \"\"}, \"colorscale\": [[0.0, \"#0d0887\"], [0.1111111111111111, \"#46039f\"], [0.2222222222222222, \"#7201a8\"], [0.3333333333333333, \"#9c179e\"], [0.4444444444444444, \"#bd3786\"], [0.5555555555555556, \"#d8576b\"], [0.6666666666666666, \"#ed7953\"], [0.7777777777777778, \"#fb9f3a\"], [0.8888888888888888, \"#fdca26\"], [1.0, \"#f0f921\"]], \"type\": \"heatmapgl\"}], \"histogram\": [{\"marker\": {\"colorbar\": {\"outlinewidth\": 0, \"ticks\": \"\"}}, \"type\": \"histogram\"}], \"histogram2d\": [{\"colorbar\": {\"outlinewidth\": 0, \"ticks\": \"\"}, \"colorscale\": [[0.0, \"#0d0887\"], [0.1111111111111111, \"#46039f\"], [0.2222222222222222, \"#7201a8\"], [0.3333333333333333, \"#9c179e\"], [0.4444444444444444, \"#bd3786\"], [0.5555555555555556, \"#d8576b\"], [0.6666666666666666, \"#ed7953\"], [0.7777777777777778, \"#fb9f3a\"], [0.8888888888888888, \"#fdca26\"], [1.0, \"#f0f921\"]], \"type\": \"histogram2d\"}], \"histogram2dcontour\": [{\"colorbar\": {\"outlinewidth\": 0, \"ticks\": \"\"}, \"colorscale\": [[0.0, \"#0d0887\"], [0.1111111111111111, \"#46039f\"], [0.2222222222222222, \"#7201a8\"], [0.3333333333333333, \"#9c179e\"], [0.4444444444444444, \"#bd3786\"], [0.5555555555555556, \"#d8576b\"], [0.6666666666666666, \"#ed7953\"], [0.7777777777777778, \"#fb9f3a\"], [0.8888888888888888, \"#fdca26\"], [1.0, \"#f0f921\"]], \"type\": \"histogram2dcontour\"}], \"mesh3d\": [{\"colorbar\": {\"outlinewidth\": 0, \"ticks\": \"\"}, \"type\": \"mesh3d\"}], \"parcoords\": [{\"line\": {\"colorbar\": {\"outlinewidth\": 0, \"ticks\": \"\"}}, \"type\": \"parcoords\"}], \"pie\": [{\"automargin\": true, \"type\": \"pie\"}], \"scatter\": [{\"marker\": {\"colorbar\": {\"outlinewidth\": 0, \"ticks\": \"\"}}, \"type\": \"scatter\"}], \"scatter3d\": [{\"line\": {\"colorbar\": {\"outlinewidth\": 0, \"ticks\": \"\"}}, \"marker\": {\"colorbar\": {\"outlinewidth\": 0, \"ticks\": \"\"}}, \"type\": \"scatter3d\"}], \"scattercarpet\": [{\"marker\": {\"colorbar\": {\"outlinewidth\": 0, \"ticks\": \"\"}}, \"type\": \"scattercarpet\"}], \"scattergeo\": [{\"marker\": {\"colorbar\": {\"outlinewidth\": 0, \"ticks\": \"\"}}, \"type\": \"scattergeo\"}], \"scattergl\": [{\"marker\": {\"colorbar\": {\"outlinewidth\": 0, \"ticks\": \"\"}}, \"type\": \"scattergl\"}], \"scattermapbox\": [{\"marker\": {\"colorbar\": {\"outlinewidth\": 0, \"ticks\": \"\"}}, \"type\": \"scattermapbox\"}], \"scatterpolar\": [{\"marker\": {\"colorbar\": {\"outlinewidth\": 0, \"ticks\": \"\"}}, \"type\": \"scatterpolar\"}], \"scatterpolargl\": [{\"marker\": {\"colorbar\": {\"outlinewidth\": 0, \"ticks\": \"\"}}, \"type\": \"scatterpolargl\"}], \"scatterternary\": [{\"marker\": {\"colorbar\": {\"outlinewidth\": 0, \"ticks\": \"\"}}, \"type\": \"scatterternary\"}], \"surface\": [{\"colorbar\": {\"outlinewidth\": 0, \"ticks\": \"\"}, \"colorscale\": [[0.0, \"#0d0887\"], [0.1111111111111111, \"#46039f\"], [0.2222222222222222, \"#7201a8\"], [0.3333333333333333, \"#9c179e\"], [0.4444444444444444, \"#bd3786\"], [0.5555555555555556, \"#d8576b\"], [0.6666666666666666, \"#ed7953\"], [0.7777777777777778, \"#fb9f3a\"], [0.8888888888888888, \"#fdca26\"], [1.0, \"#f0f921\"]], \"type\": \"surface\"}], \"table\": [{\"cells\": {\"fill\": {\"color\": \"#EBF0F8\"}, \"line\": {\"color\": \"white\"}}, \"header\": {\"fill\": {\"color\": \"#C8D4E3\"}, \"line\": {\"color\": \"white\"}}, \"type\": \"table\"}]}, \"layout\": {\"annotationdefaults\": {\"arrowcolor\": \"#2a3f5f\", \"arrowhead\": 0, \"arrowwidth\": 1}, \"coloraxis\": {\"colorbar\": {\"outlinewidth\": 0, \"ticks\": \"\"}}, \"colorscale\": {\"diverging\": [[0, \"#8e0152\"], [0.1, \"#c51b7d\"], [0.2, \"#de77ae\"], [0.3, \"#f1b6da\"], [0.4, \"#fde0ef\"], [0.5, \"#f7f7f7\"], [0.6, \"#e6f5d0\"], [0.7, \"#b8e186\"], [0.8, \"#7fbc41\"], [0.9, \"#4d9221\"], [1, \"#276419\"]], \"sequential\": [[0.0, \"#0d0887\"], [0.1111111111111111, \"#46039f\"], [0.2222222222222222, \"#7201a8\"], [0.3333333333333333, \"#9c179e\"], [0.4444444444444444, \"#bd3786\"], [0.5555555555555556, \"#d8576b\"], [0.6666666666666666, \"#ed7953\"], [0.7777777777777778, \"#fb9f3a\"], [0.8888888888888888, \"#fdca26\"], [1.0, \"#f0f921\"]], \"sequentialminus\": [[0.0, \"#0d0887\"], [0.1111111111111111, \"#46039f\"], [0.2222222222222222, \"#7201a8\"], [0.3333333333333333, \"#9c179e\"], [0.4444444444444444, \"#bd3786\"], [0.5555555555555556, \"#d8576b\"], [0.6666666666666666, \"#ed7953\"], [0.7777777777777778, \"#fb9f3a\"], [0.8888888888888888, \"#fdca26\"], [1.0, \"#f0f921\"]]}, \"colorway\": [\"#636efa\", \"#EF553B\", \"#00cc96\", \"#ab63fa\", \"#FFA15A\", \"#19d3f3\", \"#FF6692\", \"#B6E880\", \"#FF97FF\", \"#FECB52\"], \"font\": {\"color\": \"#2a3f5f\"}, \"geo\": {\"bgcolor\": \"white\", \"lakecolor\": \"white\", \"landcolor\": \"white\", \"showlakes\": true, \"showland\": true, \"subunitcolor\": \"#C8D4E3\"}, \"hoverlabel\": {\"align\": \"left\"}, \"hovermode\": \"closest\", \"mapbox\": {\"style\": \"light\"}, \"paper_bgcolor\": \"white\", \"plot_bgcolor\": \"white\", \"polar\": {\"angularaxis\": {\"gridcolor\": \"#EBF0F8\", \"linecolor\": \"#EBF0F8\", \"ticks\": \"\"}, \"bgcolor\": \"white\", \"radialaxis\": {\"gridcolor\": \"#EBF0F8\", \"linecolor\": \"#EBF0F8\", \"ticks\": \"\"}}, \"scene\": {\"xaxis\": {\"backgroundcolor\": \"white\", \"gridcolor\": \"#DFE8F3\", \"gridwidth\": 2, \"linecolor\": \"#EBF0F8\", \"showbackground\": true, \"ticks\": \"\", \"zerolinecolor\": \"#EBF0F8\"}, \"yaxis\": {\"backgroundcolor\": \"white\", \"gridcolor\": \"#DFE8F3\", \"gridwidth\": 2, \"linecolor\": \"#EBF0F8\", \"showbackground\": true, \"ticks\": \"\", \"zerolinecolor\": \"#EBF0F8\"}, \"zaxis\": {\"backgroundcolor\": \"white\", \"gridcolor\": \"#DFE8F3\", \"gridwidth\": 2, \"linecolor\": \"#EBF0F8\", \"showbackground\": true, \"ticks\": \"\", \"zerolinecolor\": \"#EBF0F8\"}}, \"shapedefaults\": {\"line\": {\"color\": \"#2a3f5f\"}}, \"ternary\": {\"aaxis\": {\"gridcolor\": \"#DFE8F3\", \"linecolor\": \"#A2B1C6\", \"ticks\": \"\"}, \"baxis\": {\"gridcolor\": \"#DFE8F3\", \"linecolor\": \"#A2B1C6\", \"ticks\": \"\"}, \"bgcolor\": \"white\", \"caxis\": {\"gridcolor\": \"#DFE8F3\", \"linecolor\": \"#A2B1C6\", \"ticks\": \"\"}}, \"title\": {\"x\": 0.05}, \"xaxis\": {\"automargin\": true, \"gridcolor\": \"#EBF0F8\", \"linecolor\": \"#EBF0F8\", \"ticks\": \"\", \"title\": {\"standoff\": 15}, \"zerolinecolor\": \"#EBF0F8\", \"zerolinewidth\": 2}, \"yaxis\": {\"automargin\": true, \"gridcolor\": \"#EBF0F8\", \"linecolor\": \"#EBF0F8\", \"ticks\": \"\", \"title\": {\"standoff\": 15}, \"zerolinecolor\": \"#EBF0F8\", \"zerolinewidth\": 2}}}, \"title\": {\"text\": \"<b>Koronatrenden i Norge</b><br>Datakilde: FHI. Oppdatert 03.04.2020\"}, \"updatemenus\": [{\"active\": 0, \"buttons\": [{\"args\": [{\"visible\": [true]}, {\"yaxis\": {\"nticks\": 4, \"type\": \"log\"}}], \"label\": \"Logaritmisk\", \"method\": \"update\"}, {\"args\": [{\"visible\": [true]}, {\"yaxis\": {\"type\": \"linear\"}}], \"label\": \"Line\\u00e6r\", \"method\": \"update\"}], \"showactive\": true, \"type\": \"buttons\", \"x\": 1.05, \"xanchor\": \"left\", \"y\": 0.3, \"yanchor\": \"top\"}], \"xaxis\": {\"anchor\": \"y\", \"domain\": [0.0, 1.0], \"nticks\": 4, \"title\": {\"text\": \"Antall registrerte tilfeller totalt\"}, \"type\": \"log\"}, \"yaxis\": {\"anchor\": \"x\", \"domain\": [0.0, 1.0], \"nticks\": 3, \"title\": {\"text\": \"Nye tilfeller (gjennomsnitt siste uke)\"}, \"type\": \"log\"}},\n",
       "                        {\"responsive\": true}\n",
       "                    ).then(function(){\n",
       "                            \n",
       "var gd = document.getElementById('cd3a15c6-8db1-4c59-a932-e0e7aae245cb');\n",
       "var x = new MutationObserver(function (mutations, observer) {{\n",
       "        var display = window.getComputedStyle(gd).display;\n",
       "        if (!display || display === 'none') {{\n",
       "            console.log([gd, 'removed!']);\n",
       "            Plotly.purge(gd);\n",
       "            observer.disconnect();\n",
       "        }}\n",
       "}});\n",
       "\n",
       "// Listen for the removal of the full notebook cells\n",
       "var notebookContainer = gd.closest('#notebook-container');\n",
       "if (notebookContainer) {{\n",
       "    x.observe(notebookContainer, {childList: true});\n",
       "}}\n",
       "\n",
       "// Listen for the clearing of the current output cell\n",
       "var outputEl = gd.closest('.output');\n",
       "if (outputEl) {{\n",
       "    x.observe(outputEl, {childList: true});\n",
       "}}\n",
       "\n",
       "                        })\n",
       "                };\n",
       "                });\n",
       "            </script>\n",
       "        </div>"
      ]
     },
     "metadata": {},
     "output_type": "display_data"
    }
   ],
   "source": [
    "kategori = [i for i in data[\"Fylke\"].unique()]\n",
    "kategori.sort()\n",
    "\n",
    "fig = px.scatter(data, \n",
    "                 x=\"Totale tilfeller\", \n",
    "                 y=\"Nye tilfeller\", \n",
    "                 color=\"Fylke\",\n",
    "                 hover_name=\"Fylke\",\n",
    "                 hover_data=[\"variable\"],\n",
    "                 #animation_frame=\"variable\",\n",
    "                 #animation_group=\"RHF\",\n",
    "                 log_y=True,\n",
    "                 log_x=True,\n",
    "                 #category_orders={\"Fylke\": kategori}, \n",
    "                 #color_discrete_sequence=colorlist,\n",
    "                 template = \"plotly_white\",\n",
    "                 title = \"<b>Koronatrenden i Norge</b><br>Datakilde: FHI. Oppdatert \"+datetime.today().strftime('%d.%m.%Y'),\n",
    "                 labels = {\"Nye tilfeller\": \"Nye tilfeller (gjennomsnitt siste uke)\", \"variable\": \"Dato\", \"Totale tilfeller\": \"Antall registrerte tilfeller totalt\"}    \n",
    "                )\n",
    "\n",
    "fig.update_layout(\n",
    "    updatemenus = list([\n",
    "    dict(type=\"buttons\", \n",
    "         #direction=\"left\", \n",
    "         active=0,\n",
    "         buttons=list([\n",
    "            dict(label='Logaritmisk',\n",
    "                 method='update',\n",
    "                 args=[{'visible': [True]},\n",
    "                       {'yaxis': {'type': 'log',\n",
    "                                  #\"title\": \"Totalt registrerte smittede (log)\",\n",
    "                                  #\"range\":[0,9900],\n",
    "                                  \"nticks\":4}}]),\n",
    "            dict(label='Lineær',\n",
    "                 method='update',\n",
    "                 args=[{'visible': [True]},\n",
    "                       {'yaxis': {'type': 'linear',\n",
    "                                  #\"title\": \"Totalt registrerte smittede\",\n",
    "                                  #\"range\":[0,2000],\n",
    "                                 }}])\n",
    "            ]),\n",
    "            showactive=True,\n",
    "            x=1.05,\n",
    "            xanchor=\"left\",\n",
    "            y=0.3,\n",
    "            yanchor=\"top\"\n",
    "        )\n",
    "    ]))\n",
    "\n",
    "fig.update_yaxes(nticks=3)\n",
    "fig.update_xaxes(nticks=4)\n",
    "\n",
    "fig.update_traces(mode=\"lines\")"
   ]
  },
  {
   "cell_type": "code",
   "execution_count": null,
   "metadata": {},
   "outputs": [],
   "source": [
    "fig = px.scatter(data, \n",
    "                 x=\"Totale tilfeller\", \n",
    "                 y=\"Nye tilfeller\", \n",
    "                 color=\"Fylke\",\n",
    "                 hover_name=\"Fylke\",\n",
    "                 #hover_data=[\"RHF\", \"variable\", \"value\"],\n",
    "                 #animation_frame=\"variable\",\n",
    "                 #animation_group=\"RHF\",\n",
    "                 log_y=True,\n",
    "                 log_x=True,\n",
    "                 #category_orders={\"Fylke\": kategori}, \n",
    "                 #color_discrete_sequence=colorlist,\n",
    "                 template = \"plotly_white\",\n",
    "                 title = \"<b>Koronatrenden i Norge</b><br>Datakilde: FHI. Oppdatert \"+datetime.today().strftime('%d.%m.%Y'),\n",
    "                 labels = {\"level_1\": \"Dager siden antall smittede passerte 5\", \"variable\": \"Dato\", \"value\": \"Totalt registrerte smittede\"}    \n",
    "                )\n",
    "\n",
    "\n",
    "\n",
    "fig.update_yaxes(nticks=3)\n",
    "fig.update_xaxes(nticks=4)\n",
    "\n",
    "fig.update_traces(mode=\"lines\")"
   ]
  }
 ],
 "metadata": {
  "kernelspec": {
   "display_name": "Python 3",
   "language": "python",
   "name": "python3"
  },
  "language_info": {
   "codemirror_mode": {
    "name": "ipython",
    "version": 3
   },
   "file_extension": ".py",
   "mimetype": "text/x-python",
   "name": "python",
   "nbconvert_exporter": "python",
   "pygments_lexer": "ipython3",
   "version": "3.7.4"
  }
 },
 "nbformat": 4,
 "nbformat_minor": 2
}
