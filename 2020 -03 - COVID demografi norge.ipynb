{
 "cells": [
  {
   "cell_type": "code",
   "execution_count": 46,
   "metadata": {},
   "outputs": [],
   "source": [
    "import pandas as pd\n",
    "import numpy as np\n",
    "import plotly\n",
    "import plotly.express as px\n",
    "import chart_studio.plotly as py\n",
    "import chart_studio\n",
    "import matplotlib.pyplot as plt\n",
    "\n",
    "chart_studio.tools.set_credentials_file(username='oystein.nerva', api_key='0ODcZ6UisJ8n0AjEQt9N')"
   ]
  },
  {
   "cell_type": "code",
   "execution_count": 101,
   "metadata": {},
   "outputs": [
    {
     "data": {
      "text/html": [
       "<div>\n",
       "<style scoped>\n",
       "    .dataframe tbody tr th:only-of-type {\n",
       "        vertical-align: middle;\n",
       "    }\n",
       "\n",
       "    .dataframe tbody tr th {\n",
       "        vertical-align: top;\n",
       "    }\n",
       "\n",
       "    .dataframe thead th {\n",
       "        text-align: right;\n",
       "    }\n",
       "</style>\n",
       "<table border=\"1\" class=\"dataframe\">\n",
       "  <thead>\n",
       "    <tr style=\"text-align: right;\">\n",
       "      <th></th>\n",
       "      <th>region</th>\n",
       "      <th>alder</th>\n",
       "      <th>år</th>\n",
       "      <th>statistikkvariabel</th>\n",
       "      <th>07459: Befolkning, etter region, alder, år og statistikkvariabel</th>\n",
       "    </tr>\n",
       "  </thead>\n",
       "  <tbody>\n",
       "    <tr>\n",
       "      <td>0</td>\n",
       "      <td>3001 Halden</td>\n",
       "      <td>000 0 år</td>\n",
       "      <td>2020</td>\n",
       "      <td>Personer</td>\n",
       "      <td>256</td>\n",
       "    </tr>\n",
       "    <tr>\n",
       "      <td>1</td>\n",
       "      <td>3001 Halden</td>\n",
       "      <td>001 1 år</td>\n",
       "      <td>2020</td>\n",
       "      <td>Personer</td>\n",
       "      <td>256</td>\n",
       "    </tr>\n",
       "    <tr>\n",
       "      <td>2</td>\n",
       "      <td>3001 Halden</td>\n",
       "      <td>002 2 år</td>\n",
       "      <td>2020</td>\n",
       "      <td>Personer</td>\n",
       "      <td>322</td>\n",
       "    </tr>\n",
       "    <tr>\n",
       "      <td>3</td>\n",
       "      <td>3001 Halden</td>\n",
       "      <td>003 3 år</td>\n",
       "      <td>2020</td>\n",
       "      <td>Personer</td>\n",
       "      <td>321</td>\n",
       "    </tr>\n",
       "    <tr>\n",
       "      <td>4</td>\n",
       "      <td>3001 Halden</td>\n",
       "      <td>004 4 år</td>\n",
       "      <td>2020</td>\n",
       "      <td>Personer</td>\n",
       "      <td>320</td>\n",
       "    </tr>\n",
       "  </tbody>\n",
       "</table>\n",
       "</div>"
      ],
      "text/plain": [
       "        region     alder    år statistikkvariabel  \\\n",
       "0  3001 Halden  000 0 år  2020           Personer   \n",
       "1  3001 Halden  001 1 år  2020           Personer   \n",
       "2  3001 Halden  002 2 år  2020           Personer   \n",
       "3  3001 Halden  003 3 år  2020           Personer   \n",
       "4  3001 Halden  004 4 år  2020           Personer   \n",
       "\n",
       "   07459: Befolkning, etter region, alder, år og statistikkvariabel  \n",
       "0                                                256                 \n",
       "1                                                256                 \n",
       "2                                                322                 \n",
       "3                                                321                 \n",
       "4                                                320                 "
      ]
     },
     "execution_count": 101,
     "metadata": {},
     "output_type": "execute_result"
    }
   ],
   "source": [
    "# finn API url her: https://data.ssb.no/api/v0/dataset\n",
    "\n",
    "url = \"https://data.ssb.no/api/v0/dataset/1080.csv?lang=no\"\n",
    "\n",
    "df = pd.read_csv(url, sep=\";\", decimal=\",\", encoding=\"ISO-8859-1\")\n",
    "df.head()"
   ]
  },
  {
   "cell_type": "code",
   "execution_count": 102,
   "metadata": {},
   "outputs": [
    {
     "data": {
      "text/html": [
       "<div>\n",
       "<style scoped>\n",
       "    .dataframe tbody tr th:only-of-type {\n",
       "        vertical-align: middle;\n",
       "    }\n",
       "\n",
       "    .dataframe tbody tr th {\n",
       "        vertical-align: top;\n",
       "    }\n",
       "\n",
       "    .dataframe thead th {\n",
       "        text-align: right;\n",
       "    }\n",
       "</style>\n",
       "<table border=\"1\" class=\"dataframe\">\n",
       "  <thead>\n",
       "    <tr style=\"text-align: right;\">\n",
       "      <th></th>\n",
       "      <th>region</th>\n",
       "      <th>07459: Befolkning, etter region, alder, år og statistikkvariabel</th>\n",
       "      <th>age</th>\n",
       "    </tr>\n",
       "  </thead>\n",
       "  <tbody>\n",
       "    <tr>\n",
       "      <td>0</td>\n",
       "      <td>3001 Halden</td>\n",
       "      <td>256</td>\n",
       "      <td>0.0</td>\n",
       "    </tr>\n",
       "    <tr>\n",
       "      <td>1</td>\n",
       "      <td>3001 Halden</td>\n",
       "      <td>256</td>\n",
       "      <td>1.0</td>\n",
       "    </tr>\n",
       "    <tr>\n",
       "      <td>2</td>\n",
       "      <td>3001 Halden</td>\n",
       "      <td>322</td>\n",
       "      <td>2.0</td>\n",
       "    </tr>\n",
       "    <tr>\n",
       "      <td>3</td>\n",
       "      <td>3001 Halden</td>\n",
       "      <td>321</td>\n",
       "      <td>3.0</td>\n",
       "    </tr>\n",
       "    <tr>\n",
       "      <td>4</td>\n",
       "      <td>3001 Halden</td>\n",
       "      <td>320</td>\n",
       "      <td>4.0</td>\n",
       "    </tr>\n",
       "  </tbody>\n",
       "</table>\n",
       "</div>"
      ],
      "text/plain": [
       "        region  \\\n",
       "0  3001 Halden   \n",
       "1  3001 Halden   \n",
       "2  3001 Halden   \n",
       "3  3001 Halden   \n",
       "4  3001 Halden   \n",
       "\n",
       "   07459: Befolkning, etter region, alder, år og statistikkvariabel  age  \n",
       "0                                                256                 0.0  \n",
       "1                                                256                 1.0  \n",
       "2                                                322                 2.0  \n",
       "3                                                321                 3.0  \n",
       "4                                                320                 4.0  "
      ]
     },
     "execution_count": 102,
     "metadata": {},
     "output_type": "execute_result"
    }
   ],
   "source": [
    "df[\"age\"], df[\"rest\"] = df[\"alder\"].str.split(\" \",1).str\n",
    "df = df.drop(columns = [\"rest\", \"statistikkvariabel\", \"år\", \"alder\"])\n",
    "df[\"age\"] = pd.to_numeric(df[\"age\"], errors='coerce')\n",
    "df.head()"
   ]
  },
  {
   "cell_type": "code",
   "execution_count": 103,
   "metadata": {},
   "outputs": [
    {
     "data": {
      "text/html": [
       "<div>\n",
       "<style scoped>\n",
       "    .dataframe tbody tr th:only-of-type {\n",
       "        vertical-align: middle;\n",
       "    }\n",
       "\n",
       "    .dataframe tbody tr th {\n",
       "        vertical-align: top;\n",
       "    }\n",
       "\n",
       "    .dataframe thead th {\n",
       "        text-align: right;\n",
       "    }\n",
       "</style>\n",
       "<table border=\"1\" class=\"dataframe\">\n",
       "  <thead>\n",
       "    <tr style=\"text-align: right;\">\n",
       "      <th></th>\n",
       "      <th>region</th>\n",
       "      <th>07459: Befolkning, etter region, alder, år og statistikkvariabel</th>\n",
       "      <th>age</th>\n",
       "      <th>gammel</th>\n",
       "    </tr>\n",
       "  </thead>\n",
       "  <tbody>\n",
       "    <tr>\n",
       "      <td>0</td>\n",
       "      <td>0301 Oslo kommune</td>\n",
       "      <td>693494</td>\n",
       "      <td>5460.0</td>\n",
       "      <td>87347</td>\n",
       "    </tr>\n",
       "    <tr>\n",
       "      <td>1</td>\n",
       "      <td>1101 Eigersund</td>\n",
       "      <td>14811</td>\n",
       "      <td>5460.0</td>\n",
       "      <td>2687</td>\n",
       "    </tr>\n",
       "    <tr>\n",
       "      <td>2</td>\n",
       "      <td>1103 Stavanger</td>\n",
       "      <td>143574</td>\n",
       "      <td>5460.0</td>\n",
       "      <td>20728</td>\n",
       "    </tr>\n",
       "    <tr>\n",
       "      <td>3</td>\n",
       "      <td>1106 Haugesund</td>\n",
       "      <td>37357</td>\n",
       "      <td>5460.0</td>\n",
       "      <td>6342</td>\n",
       "    </tr>\n",
       "    <tr>\n",
       "      <td>4</td>\n",
       "      <td>1108 Sandnes</td>\n",
       "      <td>79537</td>\n",
       "      <td>5460.0</td>\n",
       "      <td>10291</td>\n",
       "    </tr>\n",
       "  </tbody>\n",
       "</table>\n",
       "</div>"
      ],
      "text/plain": [
       "              region  \\\n",
       "0  0301 Oslo kommune   \n",
       "1     1101 Eigersund   \n",
       "2     1103 Stavanger   \n",
       "3     1106 Haugesund   \n",
       "4       1108 Sandnes   \n",
       "\n",
       "   07459: Befolkning, etter region, alder, år og statistikkvariabel     age  \\\n",
       "0                                             693494                 5460.0   \n",
       "1                                              14811                 5460.0   \n",
       "2                                             143574                 5460.0   \n",
       "3                                              37357                 5460.0   \n",
       "4                                              79537                 5460.0   \n",
       "\n",
       "   gammel  \n",
       "0   87347  \n",
       "1    2687  \n",
       "2   20728  \n",
       "3    6342  \n",
       "4   10291  "
      ]
     },
     "execution_count": 103,
     "metadata": {},
     "output_type": "execute_result"
    }
   ],
   "source": [
    "df[\"gammel\"] = df.apply(lambda x: x[\"07459: Befolkning, etter region, alder, år og statistikkvariabel\"] if x[\"age\"] >= 65 else 0, axis=1)\n",
    "df = df.groupby([\"region\"]).sum().reset_index()\n",
    "df.head()"
   ]
  },
  {
   "cell_type": "code",
   "execution_count": 104,
   "metadata": {},
   "outputs": [
    {
     "data": {
      "text/html": [
       "<div>\n",
       "<style scoped>\n",
       "    .dataframe tbody tr th:only-of-type {\n",
       "        vertical-align: middle;\n",
       "    }\n",
       "\n",
       "    .dataframe tbody tr th {\n",
       "        vertical-align: top;\n",
       "    }\n",
       "\n",
       "    .dataframe thead th {\n",
       "        text-align: right;\n",
       "    }\n",
       "</style>\n",
       "<table border=\"1\" class=\"dataframe\">\n",
       "  <thead>\n",
       "    <tr style=\"text-align: right;\">\n",
       "      <th></th>\n",
       "      <th>region</th>\n",
       "      <th>07459: Befolkning, etter region, alder, år og statistikkvariabel</th>\n",
       "      <th>age</th>\n",
       "      <th>gammel</th>\n",
       "      <th>Andel over 65 år</th>\n",
       "    </tr>\n",
       "  </thead>\n",
       "  <tbody>\n",
       "    <tr>\n",
       "      <td>0</td>\n",
       "      <td>0301 Oslo kommune</td>\n",
       "      <td>693494</td>\n",
       "      <td>5460.0</td>\n",
       "      <td>87347</td>\n",
       "      <td>12.595206</td>\n",
       "    </tr>\n",
       "    <tr>\n",
       "      <td>1</td>\n",
       "      <td>1101 Eigersund</td>\n",
       "      <td>14811</td>\n",
       "      <td>5460.0</td>\n",
       "      <td>2687</td>\n",
       "      <td>18.141922</td>\n",
       "    </tr>\n",
       "    <tr>\n",
       "      <td>2</td>\n",
       "      <td>1103 Stavanger</td>\n",
       "      <td>143574</td>\n",
       "      <td>5460.0</td>\n",
       "      <td>20728</td>\n",
       "      <td>14.437154</td>\n",
       "    </tr>\n",
       "    <tr>\n",
       "      <td>3</td>\n",
       "      <td>1106 Haugesund</td>\n",
       "      <td>37357</td>\n",
       "      <td>5460.0</td>\n",
       "      <td>6342</td>\n",
       "      <td>16.976738</td>\n",
       "    </tr>\n",
       "    <tr>\n",
       "      <td>4</td>\n",
       "      <td>1108 Sandnes</td>\n",
       "      <td>79537</td>\n",
       "      <td>5460.0</td>\n",
       "      <td>10291</td>\n",
       "      <td>12.938632</td>\n",
       "    </tr>\n",
       "  </tbody>\n",
       "</table>\n",
       "</div>"
      ],
      "text/plain": [
       "              region  \\\n",
       "0  0301 Oslo kommune   \n",
       "1     1101 Eigersund   \n",
       "2     1103 Stavanger   \n",
       "3     1106 Haugesund   \n",
       "4       1108 Sandnes   \n",
       "\n",
       "   07459: Befolkning, etter region, alder, år og statistikkvariabel     age  \\\n",
       "0                                             693494                 5460.0   \n",
       "1                                              14811                 5460.0   \n",
       "2                                             143574                 5460.0   \n",
       "3                                              37357                 5460.0   \n",
       "4                                              79537                 5460.0   \n",
       "\n",
       "   gammel  Andel over 65 år  \n",
       "0   87347         12.595206  \n",
       "1    2687         18.141922  \n",
       "2   20728         14.437154  \n",
       "3    6342         16.976738  \n",
       "4   10291         12.938632  "
      ]
     },
     "execution_count": 104,
     "metadata": {},
     "output_type": "execute_result"
    }
   ],
   "source": [
    "df[\"Andel over 65 år\"] = (df[\"gammel\"]/df[\"07459: Befolkning, etter region, alder, år og statistikkvariabel\"])*100\n",
    "df.head()"
   ]
  },
  {
   "cell_type": "code",
   "execution_count": 105,
   "metadata": {},
   "outputs": [
    {
     "data": {
      "text/html": [
       "<div>\n",
       "<style scoped>\n",
       "    .dataframe tbody tr th:only-of-type {\n",
       "        vertical-align: middle;\n",
       "    }\n",
       "\n",
       "    .dataframe tbody tr th {\n",
       "        vertical-align: top;\n",
       "    }\n",
       "\n",
       "    .dataframe thead th {\n",
       "        text-align: right;\n",
       "    }\n",
       "</style>\n",
       "<table border=\"1\" class=\"dataframe\">\n",
       "  <thead>\n",
       "    <tr style=\"text-align: right;\">\n",
       "      <th></th>\n",
       "      <th>07459: Befolkning, etter region, alder, år og statistikkvariabel</th>\n",
       "      <th>age</th>\n",
       "      <th>gammel</th>\n",
       "      <th>Andel over 65 år</th>\n",
       "      <th>Kommunenr</th>\n",
       "      <th>Kommune</th>\n",
       "    </tr>\n",
       "  </thead>\n",
       "  <tbody>\n",
       "    <tr>\n",
       "      <td>0</td>\n",
       "      <td>693494</td>\n",
       "      <td>5460.0</td>\n",
       "      <td>87347</td>\n",
       "      <td>12.595206</td>\n",
       "      <td>0301</td>\n",
       "      <td>Oslo kommune</td>\n",
       "    </tr>\n",
       "    <tr>\n",
       "      <td>1</td>\n",
       "      <td>14811</td>\n",
       "      <td>5460.0</td>\n",
       "      <td>2687</td>\n",
       "      <td>18.141922</td>\n",
       "      <td>1101</td>\n",
       "      <td>Eigersund</td>\n",
       "    </tr>\n",
       "    <tr>\n",
       "      <td>2</td>\n",
       "      <td>143574</td>\n",
       "      <td>5460.0</td>\n",
       "      <td>20728</td>\n",
       "      <td>14.437154</td>\n",
       "      <td>1103</td>\n",
       "      <td>Stavanger</td>\n",
       "    </tr>\n",
       "    <tr>\n",
       "      <td>3</td>\n",
       "      <td>37357</td>\n",
       "      <td>5460.0</td>\n",
       "      <td>6342</td>\n",
       "      <td>16.976738</td>\n",
       "      <td>1106</td>\n",
       "      <td>Haugesund</td>\n",
       "    </tr>\n",
       "    <tr>\n",
       "      <td>4</td>\n",
       "      <td>79537</td>\n",
       "      <td>5460.0</td>\n",
       "      <td>10291</td>\n",
       "      <td>12.938632</td>\n",
       "      <td>1108</td>\n",
       "      <td>Sandnes</td>\n",
       "    </tr>\n",
       "  </tbody>\n",
       "</table>\n",
       "</div>"
      ],
      "text/plain": [
       "   07459: Befolkning, etter region, alder, år og statistikkvariabel     age  \\\n",
       "0                                             693494                 5460.0   \n",
       "1                                              14811                 5460.0   \n",
       "2                                             143574                 5460.0   \n",
       "3                                              37357                 5460.0   \n",
       "4                                              79537                 5460.0   \n",
       "\n",
       "   gammel  Andel over 65 år Kommunenr       Kommune  \n",
       "0   87347         12.595206      0301  Oslo kommune  \n",
       "1    2687         18.141922      1101     Eigersund  \n",
       "2   20728         14.437154      1103     Stavanger  \n",
       "3    6342         16.976738      1106     Haugesund  \n",
       "4   10291         12.938632      1108       Sandnes  "
      ]
     },
     "execution_count": 105,
     "metadata": {},
     "output_type": "execute_result"
    }
   ],
   "source": [
    "df[\"Kommunenr\"], df[\"Kommune\"] = df[\"region\"].str.split(\" \",1).str\n",
    "df = df.drop(columns=\"region\")\n",
    "df.head()"
   ]
  },
  {
   "cell_type": "markdown",
   "metadata": {},
   "source": [
    "# kategoriser kommuner"
   ]
  },
  {
   "cell_type": "code",
   "execution_count": 106,
   "metadata": {},
   "outputs": [
    {
     "data": {
      "text/html": [
       "<div>\n",
       "<style scoped>\n",
       "    .dataframe tbody tr th:only-of-type {\n",
       "        vertical-align: middle;\n",
       "    }\n",
       "\n",
       "    .dataframe tbody tr th {\n",
       "        vertical-align: top;\n",
       "    }\n",
       "\n",
       "    .dataframe thead th {\n",
       "        text-align: right;\n",
       "    }\n",
       "</style>\n",
       "<table border=\"1\" class=\"dataframe\">\n",
       "  <thead>\n",
       "    <tr style=\"text-align: right;\">\n",
       "      <th></th>\n",
       "      <th>Kommunenr</th>\n",
       "      <th>Kommune</th>\n",
       "      <th>Foretak</th>\n",
       "      <th>Foretak kort</th>\n",
       "    </tr>\n",
       "  </thead>\n",
       "  <tbody>\n",
       "    <tr>\n",
       "      <td>0</td>\n",
       "      <td>1835</td>\n",
       "      <td>TRÆNA</td>\n",
       "      <td>Helgelandssykehuset HF</td>\n",
       "      <td>HSYK</td>\n",
       "    </tr>\n",
       "    <tr>\n",
       "      <td>1</td>\n",
       "      <td>5425</td>\n",
       "      <td>Storfjord</td>\n",
       "      <td>UNN HF</td>\n",
       "      <td>UNN</td>\n",
       "    </tr>\n",
       "    <tr>\n",
       "      <td>2</td>\n",
       "      <td>1812</td>\n",
       "      <td>SØMNA</td>\n",
       "      <td>Helgelandssykehuset HF</td>\n",
       "      <td>HSYK</td>\n",
       "    </tr>\n",
       "    <tr>\n",
       "      <td>3</td>\n",
       "      <td>5406</td>\n",
       "      <td>Hammerfest</td>\n",
       "      <td>Finnmarkssykehuset HF</td>\n",
       "      <td>FIN</td>\n",
       "    </tr>\n",
       "    <tr>\n",
       "      <td>4</td>\n",
       "      <td>5418</td>\n",
       "      <td>Målselv</td>\n",
       "      <td>UNN HF</td>\n",
       "      <td>UNN</td>\n",
       "    </tr>\n",
       "  </tbody>\n",
       "</table>\n",
       "</div>"
      ],
      "text/plain": [
       "   Kommunenr     Kommune                 Foretak Foretak kort\n",
       "0       1835       TRÆNA  Helgelandssykehuset HF         HSYK\n",
       "1       5425   Storfjord                  UNN HF          UNN\n",
       "2       1812       SØMNA  Helgelandssykehuset HF         HSYK\n",
       "3       5406  Hammerfest   Finnmarkssykehuset HF          FIN\n",
       "4       5418     Målselv                  UNN HF          UNN"
      ]
     },
     "execution_count": 106,
     "metadata": {},
     "output_type": "execute_result"
    }
   ],
   "source": [
    "kommuner = pd.read_excel(\"Kommunetilhorighet.xlsx\")\n",
    "kommuner.head()"
   ]
  },
  {
   "cell_type": "code",
   "execution_count": 107,
   "metadata": {},
   "outputs": [
    {
     "data": {
      "text/html": [
       "<div>\n",
       "<style scoped>\n",
       "    .dataframe tbody tr th:only-of-type {\n",
       "        vertical-align: middle;\n",
       "    }\n",
       "\n",
       "    .dataframe tbody tr th {\n",
       "        vertical-align: top;\n",
       "    }\n",
       "\n",
       "    .dataframe thead th {\n",
       "        text-align: right;\n",
       "    }\n",
       "</style>\n",
       "<table border=\"1\" class=\"dataframe\">\n",
       "  <thead>\n",
       "    <tr style=\"text-align: right;\">\n",
       "      <th></th>\n",
       "      <th>07459: Befolkning, etter region, alder, år og statistikkvariabel</th>\n",
       "      <th>age</th>\n",
       "      <th>gammel</th>\n",
       "      <th>Andel over 65 år</th>\n",
       "      <th>Kommunenr</th>\n",
       "      <th>Kommune_x</th>\n",
       "      <th>Kommune_y</th>\n",
       "      <th>Foretak</th>\n",
       "      <th>Foretak kort</th>\n",
       "    </tr>\n",
       "  </thead>\n",
       "  <tbody>\n",
       "    <tr>\n",
       "      <td>0</td>\n",
       "      <td>693494</td>\n",
       "      <td>5460.0</td>\n",
       "      <td>87347</td>\n",
       "      <td>12.595206</td>\n",
       "      <td>301</td>\n",
       "      <td>Oslo kommune</td>\n",
       "      <td>NaN</td>\n",
       "      <td>NaN</td>\n",
       "      <td>NaN</td>\n",
       "    </tr>\n",
       "    <tr>\n",
       "      <td>1</td>\n",
       "      <td>14811</td>\n",
       "      <td>5460.0</td>\n",
       "      <td>2687</td>\n",
       "      <td>18.141922</td>\n",
       "      <td>1101</td>\n",
       "      <td>Eigersund</td>\n",
       "      <td>NaN</td>\n",
       "      <td>NaN</td>\n",
       "      <td>NaN</td>\n",
       "    </tr>\n",
       "    <tr>\n",
       "      <td>2</td>\n",
       "      <td>143574</td>\n",
       "      <td>5460.0</td>\n",
       "      <td>20728</td>\n",
       "      <td>14.437154</td>\n",
       "      <td>1103</td>\n",
       "      <td>Stavanger</td>\n",
       "      <td>NaN</td>\n",
       "      <td>NaN</td>\n",
       "      <td>NaN</td>\n",
       "    </tr>\n",
       "    <tr>\n",
       "      <td>3</td>\n",
       "      <td>37357</td>\n",
       "      <td>5460.0</td>\n",
       "      <td>6342</td>\n",
       "      <td>16.976738</td>\n",
       "      <td>1106</td>\n",
       "      <td>Haugesund</td>\n",
       "      <td>NaN</td>\n",
       "      <td>NaN</td>\n",
       "      <td>NaN</td>\n",
       "    </tr>\n",
       "    <tr>\n",
       "      <td>4</td>\n",
       "      <td>79537</td>\n",
       "      <td>5460.0</td>\n",
       "      <td>10291</td>\n",
       "      <td>12.938632</td>\n",
       "      <td>1108</td>\n",
       "      <td>Sandnes</td>\n",
       "      <td>NaN</td>\n",
       "      <td>NaN</td>\n",
       "      <td>NaN</td>\n",
       "    </tr>\n",
       "  </tbody>\n",
       "</table>\n",
       "</div>"
      ],
      "text/plain": [
       "   07459: Befolkning, etter region, alder, år og statistikkvariabel     age  \\\n",
       "0                                             693494                 5460.0   \n",
       "1                                              14811                 5460.0   \n",
       "2                                             143574                 5460.0   \n",
       "3                                              37357                 5460.0   \n",
       "4                                              79537                 5460.0   \n",
       "\n",
       "   gammel  Andel over 65 år  Kommunenr     Kommune_x Kommune_y Foretak  \\\n",
       "0   87347         12.595206        301  Oslo kommune       NaN     NaN   \n",
       "1    2687         18.141922       1101     Eigersund       NaN     NaN   \n",
       "2   20728         14.437154       1103     Stavanger       NaN     NaN   \n",
       "3    6342         16.976738       1106     Haugesund       NaN     NaN   \n",
       "4   10291         12.938632       1108       Sandnes       NaN     NaN   \n",
       "\n",
       "  Foretak kort  \n",
       "0          NaN  \n",
       "1          NaN  \n",
       "2          NaN  \n",
       "3          NaN  \n",
       "4          NaN  "
      ]
     },
     "execution_count": 107,
     "metadata": {},
     "output_type": "execute_result"
    }
   ],
   "source": [
    "df[\"Kommunenr\"] = pd.to_numeric(df[\"Kommunenr\"], errors='coerce')\n",
    "df = df.merge(kommuner, how=\"left\", on=\"Kommunenr\")\n",
    "df.head()"
   ]
  },
  {
   "cell_type": "code",
   "execution_count": 111,
   "metadata": {},
   "outputs": [],
   "source": [
    "bars = df.sort_values(by=['Andel over 65 år'], ascending=True)\n",
    "bars = bars.replace(np.nan, \"Annet\")\n",
    "bars = bars.tail(20)"
   ]
  },
  {
   "cell_type": "code",
   "execution_count": 113,
   "metadata": {},
   "outputs": [
    {
     "data": {
      "application/vnd.plotly.v1+json": {
       "config": {
        "plotlyServerURL": "https://plot.ly"
       },
       "data": [
        {
         "alignmentgroup": "True",
         "customdata": [
          [
           28.088426527958386
          ],
          [
           28.09061488673139
          ],
          [
           28.46975088967972
          ],
          [
           28.924544666088465
          ],
          [
           29.02208201892745
          ],
          [
           29.066410009624637
          ],
          [
           29.219409282700422
          ],
          [
           30.39325842696629
          ],
          [
           30.700179533213646
          ]
         ],
         "hoverlabel": {
          "namelength": 0
         },
         "hovertemplate": "<b>%{hovertext}</b><br><br>Foretak=Annet<br>Andel over 65 år=%{customdata[0]}<br>Kommune_x=%{y}",
         "hovertext": [
          "Tydal",
          "Folldal",
          "Namsskogan",
          "Grue",
          "Engerdal",
          "Vanylven",
          "Osen",
          "Rendalen",
          "Leka"
         ],
         "legendgroup": "Annet",
         "marker": {
          "color": "#636efa"
         },
         "name": "Annet",
         "offsetgroup": "Annet",
         "orientation": "h",
         "showlegend": true,
         "textposition": "auto",
         "type": "bar",
         "x": [
          28.088426527958386,
          28.09061488673139,
          28.46975088967972,
          28.924544666088465,
          29.02208201892745,
          29.066410009624637,
          29.219409282700422,
          30.39325842696629,
          30.700179533213646
         ],
         "xaxis": "x",
         "y": [
          "Tydal",
          "Folldal",
          "Namsskogan",
          "Grue",
          "Engerdal",
          "Vanylven",
          "Osen",
          "Rendalen",
          "Leka"
         ],
         "yaxis": "y"
        },
        {
         "alignmentgroup": "True",
         "customdata": [
          [
           28.131710808876164
          ],
          [
           28.454545454545453
          ],
          [
           28.99353647276085
          ],
          [
           29.547689282202555
          ],
          [
           29.673590504451035
          ],
          [
           31.741366642174874
          ]
         ],
         "hoverlabel": {
          "namelength": 0
         },
         "hovertemplate": "<b>%{hovertext}</b><br><br>Foretak=UNN HF<br>Andel over 65 år=%{customdata[0]}<br>Kommune_x=%{y}",
         "hovertext": [
          "Lyngen",
          "Karlsøy",
          "Dyrøy",
          "Lødingen",
          "Evenes",
          "Ibestad"
         ],
         "legendgroup": "UNN HF",
         "marker": {
          "color": "#EF553B"
         },
         "name": "UNN HF",
         "offsetgroup": "UNN HF",
         "orientation": "h",
         "showlegend": true,
         "textposition": "auto",
         "type": "bar",
         "x": [
          28.131710808876164,
          28.454545454545453,
          28.99353647276085,
          29.547689282202555,
          29.673590504451035,
          31.741366642174874
         ],
         "xaxis": "x",
         "y": [
          "Lyngen",
          "Karlsøy",
          "Dyrøy",
          "Lødingen",
          "Evenes",
          "Ibestad"
         ],
         "yaxis": "y"
        },
        {
         "alignmentgroup": "True",
         "customdata": [
          [
           28.13852813852814
          ],
          [
           28.962131837307155
          ]
         ],
         "hoverlabel": {
          "namelength": 0
         },
         "hovertemplate": "<b>%{hovertext}</b><br><br>Foretak=Helgelandssykehuset HF<br>Andel over 65 år=%{customdata[0]}<br>Kommune_x=%{y}",
         "hovertext": [
          "Vevelstad",
          "Bindal"
         ],
         "legendgroup": "Helgelandssykehuset HF",
         "marker": {
          "color": "#00cc96"
         },
         "name": "Helgelandssykehuset HF",
         "offsetgroup": "Helgelandssykehuset HF",
         "orientation": "h",
         "showlegend": true,
         "textposition": "auto",
         "type": "bar",
         "x": [
          28.13852813852814,
          28.962131837307155
         ],
         "xaxis": "x",
         "y": [
          "Vevelstad",
          "Bindal"
         ],
         "yaxis": "y"
        },
        {
         "alignmentgroup": "True",
         "customdata": [
          [
           29.155313351498634
          ],
          [
           31.268436578171094
          ]
         ],
         "hoverlabel": {
          "namelength": 0
         },
         "hovertemplate": "<b>%{hovertext}</b><br><br>Foretak=Nordlandssykehuset HF<br>Andel over 65 år=%{customdata[0]}<br>Kommune_x=%{y}",
         "hovertext": [
          "Bø (Nordland)",
          "Beiarn"
         ],
         "legendgroup": "Nordlandssykehuset HF",
         "marker": {
          "color": "#ab63fa"
         },
         "name": "Nordlandssykehuset HF",
         "offsetgroup": "Nordlandssykehuset HF",
         "orientation": "h",
         "showlegend": true,
         "textposition": "auto",
         "type": "bar",
         "x": [
          29.155313351498634,
          31.268436578171094
         ],
         "xaxis": "x",
         "y": [
          "Bø (Nordland)",
          "Beiarn"
         ],
         "yaxis": "y"
        },
        {
         "alignmentgroup": "True",
         "customdata": [
          [
           29.504504504504503
          ]
         ],
         "hoverlabel": {
          "namelength": 0
         },
         "hovertemplate": "<b>%{hovertext}</b><br><br>Foretak=Finnmarkssykehuset HF<br>Andel over 65 år=%{customdata[0]}<br>Kommune_x=%{y}",
         "hovertext": [
          "Loppa"
         ],
         "legendgroup": "Finnmarkssykehuset HF",
         "marker": {
          "color": "#FFA15A"
         },
         "name": "Finnmarkssykehuset HF",
         "offsetgroup": "Finnmarkssykehuset HF",
         "orientation": "h",
         "showlegend": true,
         "textposition": "auto",
         "type": "bar",
         "x": [
          29.504504504504503
         ],
         "xaxis": "x",
         "y": [
          "Loppa"
         ],
         "yaxis": "y"
        }
       ],
       "layout": {
        "autosize": true,
        "barmode": "relative",
        "coloraxis": {
         "showscale": false
        },
        "height": 500,
        "legend": {
         "title": {
          "text": "Foretak"
         },
         "tracegroupgap": 0
        },
        "margin": {
         "b": 0,
         "l": 100,
         "r": 100,
         "t": 150
        },
        "paper_bgcolor": "rgba(0, 0, 0, 0)",
        "template": {
         "data": {
          "bar": [
           {
            "error_x": {
             "color": "#2a3f5f"
            },
            "error_y": {
             "color": "#2a3f5f"
            },
            "marker": {
             "line": {
              "color": "white",
              "width": 0.5
             }
            },
            "type": "bar"
           }
          ],
          "barpolar": [
           {
            "marker": {
             "line": {
              "color": "white",
              "width": 0.5
             }
            },
            "type": "barpolar"
           }
          ],
          "carpet": [
           {
            "aaxis": {
             "endlinecolor": "#2a3f5f",
             "gridcolor": "#C8D4E3",
             "linecolor": "#C8D4E3",
             "minorgridcolor": "#C8D4E3",
             "startlinecolor": "#2a3f5f"
            },
            "baxis": {
             "endlinecolor": "#2a3f5f",
             "gridcolor": "#C8D4E3",
             "linecolor": "#C8D4E3",
             "minorgridcolor": "#C8D4E3",
             "startlinecolor": "#2a3f5f"
            },
            "type": "carpet"
           }
          ],
          "choropleth": [
           {
            "colorbar": {
             "outlinewidth": 0,
             "ticks": ""
            },
            "type": "choropleth"
           }
          ],
          "contour": [
           {
            "colorbar": {
             "outlinewidth": 0,
             "ticks": ""
            },
            "colorscale": [
             [
              0,
              "#0d0887"
             ],
             [
              0.1111111111111111,
              "#46039f"
             ],
             [
              0.2222222222222222,
              "#7201a8"
             ],
             [
              0.3333333333333333,
              "#9c179e"
             ],
             [
              0.4444444444444444,
              "#bd3786"
             ],
             [
              0.5555555555555556,
              "#d8576b"
             ],
             [
              0.6666666666666666,
              "#ed7953"
             ],
             [
              0.7777777777777778,
              "#fb9f3a"
             ],
             [
              0.8888888888888888,
              "#fdca26"
             ],
             [
              1,
              "#f0f921"
             ]
            ],
            "type": "contour"
           }
          ],
          "contourcarpet": [
           {
            "colorbar": {
             "outlinewidth": 0,
             "ticks": ""
            },
            "type": "contourcarpet"
           }
          ],
          "heatmap": [
           {
            "colorbar": {
             "outlinewidth": 0,
             "ticks": ""
            },
            "colorscale": [
             [
              0,
              "#0d0887"
             ],
             [
              0.1111111111111111,
              "#46039f"
             ],
             [
              0.2222222222222222,
              "#7201a8"
             ],
             [
              0.3333333333333333,
              "#9c179e"
             ],
             [
              0.4444444444444444,
              "#bd3786"
             ],
             [
              0.5555555555555556,
              "#d8576b"
             ],
             [
              0.6666666666666666,
              "#ed7953"
             ],
             [
              0.7777777777777778,
              "#fb9f3a"
             ],
             [
              0.8888888888888888,
              "#fdca26"
             ],
             [
              1,
              "#f0f921"
             ]
            ],
            "type": "heatmap"
           }
          ],
          "heatmapgl": [
           {
            "colorbar": {
             "outlinewidth": 0,
             "ticks": ""
            },
            "colorscale": [
             [
              0,
              "#0d0887"
             ],
             [
              0.1111111111111111,
              "#46039f"
             ],
             [
              0.2222222222222222,
              "#7201a8"
             ],
             [
              0.3333333333333333,
              "#9c179e"
             ],
             [
              0.4444444444444444,
              "#bd3786"
             ],
             [
              0.5555555555555556,
              "#d8576b"
             ],
             [
              0.6666666666666666,
              "#ed7953"
             ],
             [
              0.7777777777777778,
              "#fb9f3a"
             ],
             [
              0.8888888888888888,
              "#fdca26"
             ],
             [
              1,
              "#f0f921"
             ]
            ],
            "type": "heatmapgl"
           }
          ],
          "histogram": [
           {
            "marker": {
             "colorbar": {
              "outlinewidth": 0,
              "ticks": ""
             }
            },
            "type": "histogram"
           }
          ],
          "histogram2d": [
           {
            "colorbar": {
             "outlinewidth": 0,
             "ticks": ""
            },
            "colorscale": [
             [
              0,
              "#0d0887"
             ],
             [
              0.1111111111111111,
              "#46039f"
             ],
             [
              0.2222222222222222,
              "#7201a8"
             ],
             [
              0.3333333333333333,
              "#9c179e"
             ],
             [
              0.4444444444444444,
              "#bd3786"
             ],
             [
              0.5555555555555556,
              "#d8576b"
             ],
             [
              0.6666666666666666,
              "#ed7953"
             ],
             [
              0.7777777777777778,
              "#fb9f3a"
             ],
             [
              0.8888888888888888,
              "#fdca26"
             ],
             [
              1,
              "#f0f921"
             ]
            ],
            "type": "histogram2d"
           }
          ],
          "histogram2dcontour": [
           {
            "colorbar": {
             "outlinewidth": 0,
             "ticks": ""
            },
            "colorscale": [
             [
              0,
              "#0d0887"
             ],
             [
              0.1111111111111111,
              "#46039f"
             ],
             [
              0.2222222222222222,
              "#7201a8"
             ],
             [
              0.3333333333333333,
              "#9c179e"
             ],
             [
              0.4444444444444444,
              "#bd3786"
             ],
             [
              0.5555555555555556,
              "#d8576b"
             ],
             [
              0.6666666666666666,
              "#ed7953"
             ],
             [
              0.7777777777777778,
              "#fb9f3a"
             ],
             [
              0.8888888888888888,
              "#fdca26"
             ],
             [
              1,
              "#f0f921"
             ]
            ],
            "type": "histogram2dcontour"
           }
          ],
          "mesh3d": [
           {
            "colorbar": {
             "outlinewidth": 0,
             "ticks": ""
            },
            "type": "mesh3d"
           }
          ],
          "parcoords": [
           {
            "line": {
             "colorbar": {
              "outlinewidth": 0,
              "ticks": ""
             }
            },
            "type": "parcoords"
           }
          ],
          "pie": [
           {
            "automargin": true,
            "type": "pie"
           }
          ],
          "scatter": [
           {
            "marker": {
             "colorbar": {
              "outlinewidth": 0,
              "ticks": ""
             }
            },
            "type": "scatter"
           }
          ],
          "scatter3d": [
           {
            "line": {
             "colorbar": {
              "outlinewidth": 0,
              "ticks": ""
             }
            },
            "marker": {
             "colorbar": {
              "outlinewidth": 0,
              "ticks": ""
             }
            },
            "type": "scatter3d"
           }
          ],
          "scattercarpet": [
           {
            "marker": {
             "colorbar": {
              "outlinewidth": 0,
              "ticks": ""
             }
            },
            "type": "scattercarpet"
           }
          ],
          "scattergeo": [
           {
            "marker": {
             "colorbar": {
              "outlinewidth": 0,
              "ticks": ""
             }
            },
            "type": "scattergeo"
           }
          ],
          "scattergl": [
           {
            "marker": {
             "colorbar": {
              "outlinewidth": 0,
              "ticks": ""
             }
            },
            "type": "scattergl"
           }
          ],
          "scattermapbox": [
           {
            "marker": {
             "colorbar": {
              "outlinewidth": 0,
              "ticks": ""
             }
            },
            "type": "scattermapbox"
           }
          ],
          "scatterpolar": [
           {
            "marker": {
             "colorbar": {
              "outlinewidth": 0,
              "ticks": ""
             }
            },
            "type": "scatterpolar"
           }
          ],
          "scatterpolargl": [
           {
            "marker": {
             "colorbar": {
              "outlinewidth": 0,
              "ticks": ""
             }
            },
            "type": "scatterpolargl"
           }
          ],
          "scatterternary": [
           {
            "marker": {
             "colorbar": {
              "outlinewidth": 0,
              "ticks": ""
             }
            },
            "type": "scatterternary"
           }
          ],
          "surface": [
           {
            "colorbar": {
             "outlinewidth": 0,
             "ticks": ""
            },
            "colorscale": [
             [
              0,
              "#0d0887"
             ],
             [
              0.1111111111111111,
              "#46039f"
             ],
             [
              0.2222222222222222,
              "#7201a8"
             ],
             [
              0.3333333333333333,
              "#9c179e"
             ],
             [
              0.4444444444444444,
              "#bd3786"
             ],
             [
              0.5555555555555556,
              "#d8576b"
             ],
             [
              0.6666666666666666,
              "#ed7953"
             ],
             [
              0.7777777777777778,
              "#fb9f3a"
             ],
             [
              0.8888888888888888,
              "#fdca26"
             ],
             [
              1,
              "#f0f921"
             ]
            ],
            "type": "surface"
           }
          ],
          "table": [
           {
            "cells": {
             "fill": {
              "color": "#EBF0F8"
             },
             "line": {
              "color": "white"
             }
            },
            "header": {
             "fill": {
              "color": "#C8D4E3"
             },
             "line": {
              "color": "white"
             }
            },
            "type": "table"
           }
          ]
         },
         "layout": {
          "annotationdefaults": {
           "arrowcolor": "#2a3f5f",
           "arrowhead": 0,
           "arrowwidth": 1
          },
          "coloraxis": {
           "colorbar": {
            "outlinewidth": 0,
            "ticks": ""
           }
          },
          "colorscale": {
           "diverging": [
            [
             0,
             "#8e0152"
            ],
            [
             0.1,
             "#c51b7d"
            ],
            [
             0.2,
             "#de77ae"
            ],
            [
             0.3,
             "#f1b6da"
            ],
            [
             0.4,
             "#fde0ef"
            ],
            [
             0.5,
             "#f7f7f7"
            ],
            [
             0.6,
             "#e6f5d0"
            ],
            [
             0.7,
             "#b8e186"
            ],
            [
             0.8,
             "#7fbc41"
            ],
            [
             0.9,
             "#4d9221"
            ],
            [
             1,
             "#276419"
            ]
           ],
           "sequential": [
            [
             0,
             "#0d0887"
            ],
            [
             0.1111111111111111,
             "#46039f"
            ],
            [
             0.2222222222222222,
             "#7201a8"
            ],
            [
             0.3333333333333333,
             "#9c179e"
            ],
            [
             0.4444444444444444,
             "#bd3786"
            ],
            [
             0.5555555555555556,
             "#d8576b"
            ],
            [
             0.6666666666666666,
             "#ed7953"
            ],
            [
             0.7777777777777778,
             "#fb9f3a"
            ],
            [
             0.8888888888888888,
             "#fdca26"
            ],
            [
             1,
             "#f0f921"
            ]
           ],
           "sequentialminus": [
            [
             0,
             "#0d0887"
            ],
            [
             0.1111111111111111,
             "#46039f"
            ],
            [
             0.2222222222222222,
             "#7201a8"
            ],
            [
             0.3333333333333333,
             "#9c179e"
            ],
            [
             0.4444444444444444,
             "#bd3786"
            ],
            [
             0.5555555555555556,
             "#d8576b"
            ],
            [
             0.6666666666666666,
             "#ed7953"
            ],
            [
             0.7777777777777778,
             "#fb9f3a"
            ],
            [
             0.8888888888888888,
             "#fdca26"
            ],
            [
             1,
             "#f0f921"
            ]
           ]
          },
          "colorway": [
           "#636efa",
           "#EF553B",
           "#00cc96",
           "#ab63fa",
           "#FFA15A",
           "#19d3f3",
           "#FF6692",
           "#B6E880",
           "#FF97FF",
           "#FECB52"
          ],
          "font": {
           "color": "#2a3f5f"
          },
          "geo": {
           "bgcolor": "white",
           "lakecolor": "white",
           "landcolor": "white",
           "showlakes": true,
           "showland": true,
           "subunitcolor": "#C8D4E3"
          },
          "hoverlabel": {
           "align": "left"
          },
          "hovermode": "closest",
          "mapbox": {
           "style": "light"
          },
          "paper_bgcolor": "white",
          "plot_bgcolor": "white",
          "polar": {
           "angularaxis": {
            "gridcolor": "#EBF0F8",
            "linecolor": "#EBF0F8",
            "ticks": ""
           },
           "bgcolor": "white",
           "radialaxis": {
            "gridcolor": "#EBF0F8",
            "linecolor": "#EBF0F8",
            "ticks": ""
           }
          },
          "scene": {
           "xaxis": {
            "backgroundcolor": "white",
            "gridcolor": "#DFE8F3",
            "gridwidth": 2,
            "linecolor": "#EBF0F8",
            "showbackground": true,
            "ticks": "",
            "zerolinecolor": "#EBF0F8"
           },
           "yaxis": {
            "backgroundcolor": "white",
            "gridcolor": "#DFE8F3",
            "gridwidth": 2,
            "linecolor": "#EBF0F8",
            "showbackground": true,
            "ticks": "",
            "zerolinecolor": "#EBF0F8"
           },
           "zaxis": {
            "backgroundcolor": "white",
            "gridcolor": "#DFE8F3",
            "gridwidth": 2,
            "linecolor": "#EBF0F8",
            "showbackground": true,
            "ticks": "",
            "zerolinecolor": "#EBF0F8"
           }
          },
          "shapedefaults": {
           "line": {
            "color": "#2a3f5f"
           }
          },
          "ternary": {
           "aaxis": {
            "gridcolor": "#DFE8F3",
            "linecolor": "#A2B1C6",
            "ticks": ""
           },
           "baxis": {
            "gridcolor": "#DFE8F3",
            "linecolor": "#A2B1C6",
            "ticks": ""
           },
           "bgcolor": "white",
           "caxis": {
            "gridcolor": "#DFE8F3",
            "linecolor": "#A2B1C6",
            "ticks": ""
           }
          },
          "title": {
           "x": 0.05
          },
          "xaxis": {
           "automargin": true,
           "gridcolor": "#EBF0F8",
           "linecolor": "#EBF0F8",
           "ticks": "",
           "title": {
            "standoff": 15
           },
           "zerolinecolor": "#EBF0F8",
           "zerolinewidth": 2
          },
          "yaxis": {
           "automargin": true,
           "gridcolor": "#EBF0F8",
           "linecolor": "#EBF0F8",
           "ticks": "",
           "title": {
            "standoff": 15
           },
           "zerolinecolor": "#EBF0F8",
           "zerolinewidth": 2
          }
         }
        },
        "title": {
         "font": {
          "family": "Helvetica",
          "size": 18
         },
         "text": "<b>Andel av befolkningen over 65 år</b><br>Datakilde: ssb.no."
        },
        "xaxis": {
         "anchor": "y",
         "domain": [
          0,
          1
         ],
         "fixedrange": true,
         "title": {
          "text": ""
         }
        },
        "yaxis": {
         "anchor": "x",
         "categoryorder": "total ascending",
         "domain": [
          0,
          1
         ],
         "fixedrange": true,
         "separatethousands": true,
         "title": {
          "text": ""
         }
        }
       }
      },
      "text/html": [
       "<div>\n",
       "        \n",
       "        \n",
       "            <div id=\"f4dd5ab4-a2dd-44de-bc63-642b8b77914f\" class=\"plotly-graph-div\" style=\"height:500px; width:100%;\"></div>\n",
       "            <script type=\"text/javascript\">\n",
       "                require([\"plotly\"], function(Plotly) {\n",
       "                    window.PLOTLYENV=window.PLOTLYENV || {};\n",
       "                    \n",
       "                if (document.getElementById(\"f4dd5ab4-a2dd-44de-bc63-642b8b77914f\")) {\n",
       "                    Plotly.newPlot(\n",
       "                        'f4dd5ab4-a2dd-44de-bc63-642b8b77914f',\n",
       "                        [{\"alignmentgroup\": \"True\", \"customdata\": [[28.088426527958386], [28.09061488673139], [28.46975088967972], [28.924544666088465], [29.02208201892745], [29.066410009624637], [29.219409282700422], [30.39325842696629], [30.700179533213646]], \"hoverlabel\": {\"namelength\": 0}, \"hovertemplate\": \"<b>%{hovertext}</b><br><br>Foretak=Annet<br>Andel over 65 \\u00e5r=%{customdata[0]}<br>Kommune_x=%{y}\", \"hovertext\": [\"Tydal\", \"Folldal\", \"Namsskogan\", \"Grue\", \"Engerdal\", \"Vanylven\", \"Osen\", \"Rendalen\", \"Leka\"], \"legendgroup\": \"Annet\", \"marker\": {\"color\": \"#636efa\"}, \"name\": \"Annet\", \"offsetgroup\": \"Annet\", \"orientation\": \"h\", \"showlegend\": true, \"textposition\": \"auto\", \"type\": \"bar\", \"x\": [28.088426527958386, 28.09061488673139, 28.46975088967972, 28.924544666088465, 29.02208201892745, 29.066410009624637, 29.219409282700422, 30.39325842696629, 30.700179533213646], \"xaxis\": \"x\", \"y\": [\"Tydal\", \"Folldal\", \"Namsskogan\", \"Grue\", \"Engerdal\", \"Vanylven\", \"Osen\", \"Rendalen\", \"Leka\"], \"yaxis\": \"y\"}, {\"alignmentgroup\": \"True\", \"customdata\": [[28.131710808876164], [28.454545454545453], [28.99353647276085], [29.547689282202555], [29.673590504451035], [31.741366642174874]], \"hoverlabel\": {\"namelength\": 0}, \"hovertemplate\": \"<b>%{hovertext}</b><br><br>Foretak=UNN HF<br>Andel over 65 \\u00e5r=%{customdata[0]}<br>Kommune_x=%{y}\", \"hovertext\": [\"Lyngen\", \"Karls\\u00f8y\", \"Dyr\\u00f8y\", \"L\\u00f8dingen\", \"Evenes\", \"Ibestad\"], \"legendgroup\": \"UNN HF\", \"marker\": {\"color\": \"#EF553B\"}, \"name\": \"UNN HF\", \"offsetgroup\": \"UNN HF\", \"orientation\": \"h\", \"showlegend\": true, \"textposition\": \"auto\", \"type\": \"bar\", \"x\": [28.131710808876164, 28.454545454545453, 28.99353647276085, 29.547689282202555, 29.673590504451035, 31.741366642174874], \"xaxis\": \"x\", \"y\": [\"Lyngen\", \"Karls\\u00f8y\", \"Dyr\\u00f8y\", \"L\\u00f8dingen\", \"Evenes\", \"Ibestad\"], \"yaxis\": \"y\"}, {\"alignmentgroup\": \"True\", \"customdata\": [[28.13852813852814], [28.962131837307155]], \"hoverlabel\": {\"namelength\": 0}, \"hovertemplate\": \"<b>%{hovertext}</b><br><br>Foretak=Helgelandssykehuset HF<br>Andel over 65 \\u00e5r=%{customdata[0]}<br>Kommune_x=%{y}\", \"hovertext\": [\"Vevelstad\", \"Bindal\"], \"legendgroup\": \"Helgelandssykehuset HF\", \"marker\": {\"color\": \"#00cc96\"}, \"name\": \"Helgelandssykehuset HF\", \"offsetgroup\": \"Helgelandssykehuset HF\", \"orientation\": \"h\", \"showlegend\": true, \"textposition\": \"auto\", \"type\": \"bar\", \"x\": [28.13852813852814, 28.962131837307155], \"xaxis\": \"x\", \"y\": [\"Vevelstad\", \"Bindal\"], \"yaxis\": \"y\"}, {\"alignmentgroup\": \"True\", \"customdata\": [[29.155313351498634], [31.268436578171094]], \"hoverlabel\": {\"namelength\": 0}, \"hovertemplate\": \"<b>%{hovertext}</b><br><br>Foretak=Nordlandssykehuset HF<br>Andel over 65 \\u00e5r=%{customdata[0]}<br>Kommune_x=%{y}\", \"hovertext\": [\"B\\u00f8 (Nordland)\", \"Beiarn\"], \"legendgroup\": \"Nordlandssykehuset HF\", \"marker\": {\"color\": \"#ab63fa\"}, \"name\": \"Nordlandssykehuset HF\", \"offsetgroup\": \"Nordlandssykehuset HF\", \"orientation\": \"h\", \"showlegend\": true, \"textposition\": \"auto\", \"type\": \"bar\", \"x\": [29.155313351498634, 31.268436578171094], \"xaxis\": \"x\", \"y\": [\"B\\u00f8 (Nordland)\", \"Beiarn\"], \"yaxis\": \"y\"}, {\"alignmentgroup\": \"True\", \"customdata\": [[29.504504504504503]], \"hoverlabel\": {\"namelength\": 0}, \"hovertemplate\": \"<b>%{hovertext}</b><br><br>Foretak=Finnmarkssykehuset HF<br>Andel over 65 \\u00e5r=%{customdata[0]}<br>Kommune_x=%{y}\", \"hovertext\": [\"Loppa\"], \"legendgroup\": \"Finnmarkssykehuset HF\", \"marker\": {\"color\": \"#FFA15A\"}, \"name\": \"Finnmarkssykehuset HF\", \"offsetgroup\": \"Finnmarkssykehuset HF\", \"orientation\": \"h\", \"showlegend\": true, \"textposition\": \"auto\", \"type\": \"bar\", \"x\": [29.504504504504503], \"xaxis\": \"x\", \"y\": [\"Loppa\"], \"yaxis\": \"y\"}],\n",
       "                        {\"autosize\": true, \"barmode\": \"relative\", \"coloraxis\": {\"showscale\": false}, \"height\": 500, \"legend\": {\"title\": {\"text\": \"Foretak\"}, \"tracegroupgap\": 0}, \"margin\": {\"b\": 0, \"l\": 100, \"r\": 100, \"t\": 150}, \"paper_bgcolor\": \"rgba(0, 0, 0, 0)\", \"template\": {\"data\": {\"bar\": [{\"error_x\": {\"color\": \"#2a3f5f\"}, \"error_y\": {\"color\": \"#2a3f5f\"}, \"marker\": {\"line\": {\"color\": \"white\", \"width\": 0.5}}, \"type\": \"bar\"}], \"barpolar\": [{\"marker\": {\"line\": {\"color\": \"white\", \"width\": 0.5}}, \"type\": \"barpolar\"}], \"carpet\": [{\"aaxis\": {\"endlinecolor\": \"#2a3f5f\", \"gridcolor\": \"#C8D4E3\", \"linecolor\": \"#C8D4E3\", \"minorgridcolor\": \"#C8D4E3\", \"startlinecolor\": \"#2a3f5f\"}, \"baxis\": {\"endlinecolor\": \"#2a3f5f\", \"gridcolor\": \"#C8D4E3\", \"linecolor\": \"#C8D4E3\", \"minorgridcolor\": \"#C8D4E3\", \"startlinecolor\": \"#2a3f5f\"}, \"type\": \"carpet\"}], \"choropleth\": [{\"colorbar\": {\"outlinewidth\": 0, \"ticks\": \"\"}, \"type\": \"choropleth\"}], \"contour\": [{\"colorbar\": {\"outlinewidth\": 0, \"ticks\": \"\"}, \"colorscale\": [[0.0, \"#0d0887\"], [0.1111111111111111, \"#46039f\"], [0.2222222222222222, \"#7201a8\"], [0.3333333333333333, \"#9c179e\"], [0.4444444444444444, \"#bd3786\"], [0.5555555555555556, \"#d8576b\"], [0.6666666666666666, \"#ed7953\"], [0.7777777777777778, \"#fb9f3a\"], [0.8888888888888888, \"#fdca26\"], [1.0, \"#f0f921\"]], \"type\": \"contour\"}], \"contourcarpet\": [{\"colorbar\": {\"outlinewidth\": 0, \"ticks\": \"\"}, \"type\": \"contourcarpet\"}], \"heatmap\": [{\"colorbar\": {\"outlinewidth\": 0, \"ticks\": \"\"}, \"colorscale\": [[0.0, \"#0d0887\"], [0.1111111111111111, \"#46039f\"], [0.2222222222222222, \"#7201a8\"], [0.3333333333333333, \"#9c179e\"], [0.4444444444444444, \"#bd3786\"], [0.5555555555555556, \"#d8576b\"], [0.6666666666666666, \"#ed7953\"], [0.7777777777777778, \"#fb9f3a\"], [0.8888888888888888, \"#fdca26\"], [1.0, \"#f0f921\"]], \"type\": \"heatmap\"}], \"heatmapgl\": [{\"colorbar\": {\"outlinewidth\": 0, \"ticks\": \"\"}, \"colorscale\": [[0.0, \"#0d0887\"], [0.1111111111111111, \"#46039f\"], [0.2222222222222222, \"#7201a8\"], [0.3333333333333333, \"#9c179e\"], [0.4444444444444444, \"#bd3786\"], [0.5555555555555556, \"#d8576b\"], [0.6666666666666666, \"#ed7953\"], [0.7777777777777778, \"#fb9f3a\"], [0.8888888888888888, \"#fdca26\"], [1.0, \"#f0f921\"]], \"type\": \"heatmapgl\"}], \"histogram\": [{\"marker\": {\"colorbar\": {\"outlinewidth\": 0, \"ticks\": \"\"}}, \"type\": \"histogram\"}], \"histogram2d\": [{\"colorbar\": {\"outlinewidth\": 0, \"ticks\": \"\"}, \"colorscale\": [[0.0, \"#0d0887\"], [0.1111111111111111, \"#46039f\"], [0.2222222222222222, \"#7201a8\"], [0.3333333333333333, \"#9c179e\"], [0.4444444444444444, \"#bd3786\"], [0.5555555555555556, \"#d8576b\"], [0.6666666666666666, \"#ed7953\"], [0.7777777777777778, \"#fb9f3a\"], [0.8888888888888888, \"#fdca26\"], [1.0, \"#f0f921\"]], \"type\": \"histogram2d\"}], \"histogram2dcontour\": [{\"colorbar\": {\"outlinewidth\": 0, \"ticks\": \"\"}, \"colorscale\": [[0.0, \"#0d0887\"], [0.1111111111111111, \"#46039f\"], [0.2222222222222222, \"#7201a8\"], [0.3333333333333333, \"#9c179e\"], [0.4444444444444444, \"#bd3786\"], [0.5555555555555556, \"#d8576b\"], [0.6666666666666666, \"#ed7953\"], [0.7777777777777778, \"#fb9f3a\"], [0.8888888888888888, \"#fdca26\"], [1.0, \"#f0f921\"]], \"type\": \"histogram2dcontour\"}], \"mesh3d\": [{\"colorbar\": {\"outlinewidth\": 0, \"ticks\": \"\"}, \"type\": \"mesh3d\"}], \"parcoords\": [{\"line\": {\"colorbar\": {\"outlinewidth\": 0, \"ticks\": \"\"}}, \"type\": \"parcoords\"}], \"pie\": [{\"automargin\": true, \"type\": \"pie\"}], \"scatter\": [{\"marker\": {\"colorbar\": {\"outlinewidth\": 0, \"ticks\": \"\"}}, \"type\": \"scatter\"}], \"scatter3d\": [{\"line\": {\"colorbar\": {\"outlinewidth\": 0, \"ticks\": \"\"}}, \"marker\": {\"colorbar\": {\"outlinewidth\": 0, \"ticks\": \"\"}}, \"type\": \"scatter3d\"}], \"scattercarpet\": [{\"marker\": {\"colorbar\": {\"outlinewidth\": 0, \"ticks\": \"\"}}, \"type\": \"scattercarpet\"}], \"scattergeo\": [{\"marker\": {\"colorbar\": {\"outlinewidth\": 0, \"ticks\": \"\"}}, \"type\": \"scattergeo\"}], \"scattergl\": [{\"marker\": {\"colorbar\": {\"outlinewidth\": 0, \"ticks\": \"\"}}, \"type\": \"scattergl\"}], \"scattermapbox\": [{\"marker\": {\"colorbar\": {\"outlinewidth\": 0, \"ticks\": \"\"}}, \"type\": \"scattermapbox\"}], \"scatterpolar\": [{\"marker\": {\"colorbar\": {\"outlinewidth\": 0, \"ticks\": \"\"}}, \"type\": \"scatterpolar\"}], \"scatterpolargl\": [{\"marker\": {\"colorbar\": {\"outlinewidth\": 0, \"ticks\": \"\"}}, \"type\": \"scatterpolargl\"}], \"scatterternary\": [{\"marker\": {\"colorbar\": {\"outlinewidth\": 0, \"ticks\": \"\"}}, \"type\": \"scatterternary\"}], \"surface\": [{\"colorbar\": {\"outlinewidth\": 0, \"ticks\": \"\"}, \"colorscale\": [[0.0, \"#0d0887\"], [0.1111111111111111, \"#46039f\"], [0.2222222222222222, \"#7201a8\"], [0.3333333333333333, \"#9c179e\"], [0.4444444444444444, \"#bd3786\"], [0.5555555555555556, \"#d8576b\"], [0.6666666666666666, \"#ed7953\"], [0.7777777777777778, \"#fb9f3a\"], [0.8888888888888888, \"#fdca26\"], [1.0, \"#f0f921\"]], \"type\": \"surface\"}], \"table\": [{\"cells\": {\"fill\": {\"color\": \"#EBF0F8\"}, \"line\": {\"color\": \"white\"}}, \"header\": {\"fill\": {\"color\": \"#C8D4E3\"}, \"line\": {\"color\": \"white\"}}, \"type\": \"table\"}]}, \"layout\": {\"annotationdefaults\": {\"arrowcolor\": \"#2a3f5f\", \"arrowhead\": 0, \"arrowwidth\": 1}, \"coloraxis\": {\"colorbar\": {\"outlinewidth\": 0, \"ticks\": \"\"}}, \"colorscale\": {\"diverging\": [[0, \"#8e0152\"], [0.1, \"#c51b7d\"], [0.2, \"#de77ae\"], [0.3, \"#f1b6da\"], [0.4, \"#fde0ef\"], [0.5, \"#f7f7f7\"], [0.6, \"#e6f5d0\"], [0.7, \"#b8e186\"], [0.8, \"#7fbc41\"], [0.9, \"#4d9221\"], [1, \"#276419\"]], \"sequential\": [[0.0, \"#0d0887\"], [0.1111111111111111, \"#46039f\"], [0.2222222222222222, \"#7201a8\"], [0.3333333333333333, \"#9c179e\"], [0.4444444444444444, \"#bd3786\"], [0.5555555555555556, \"#d8576b\"], [0.6666666666666666, \"#ed7953\"], [0.7777777777777778, \"#fb9f3a\"], [0.8888888888888888, \"#fdca26\"], [1.0, \"#f0f921\"]], \"sequentialminus\": [[0.0, \"#0d0887\"], [0.1111111111111111, \"#46039f\"], [0.2222222222222222, \"#7201a8\"], [0.3333333333333333, \"#9c179e\"], [0.4444444444444444, \"#bd3786\"], [0.5555555555555556, \"#d8576b\"], [0.6666666666666666, \"#ed7953\"], [0.7777777777777778, \"#fb9f3a\"], [0.8888888888888888, \"#fdca26\"], [1.0, \"#f0f921\"]]}, \"colorway\": [\"#636efa\", \"#EF553B\", \"#00cc96\", \"#ab63fa\", \"#FFA15A\", \"#19d3f3\", \"#FF6692\", \"#B6E880\", \"#FF97FF\", \"#FECB52\"], \"font\": {\"color\": \"#2a3f5f\"}, \"geo\": {\"bgcolor\": \"white\", \"lakecolor\": \"white\", \"landcolor\": \"white\", \"showlakes\": true, \"showland\": true, \"subunitcolor\": \"#C8D4E3\"}, \"hoverlabel\": {\"align\": \"left\"}, \"hovermode\": \"closest\", \"mapbox\": {\"style\": \"light\"}, \"paper_bgcolor\": \"white\", \"plot_bgcolor\": \"white\", \"polar\": {\"angularaxis\": {\"gridcolor\": \"#EBF0F8\", \"linecolor\": \"#EBF0F8\", \"ticks\": \"\"}, \"bgcolor\": \"white\", \"radialaxis\": {\"gridcolor\": \"#EBF0F8\", \"linecolor\": \"#EBF0F8\", \"ticks\": \"\"}}, \"scene\": {\"xaxis\": {\"backgroundcolor\": \"white\", \"gridcolor\": \"#DFE8F3\", \"gridwidth\": 2, \"linecolor\": \"#EBF0F8\", \"showbackground\": true, \"ticks\": \"\", \"zerolinecolor\": \"#EBF0F8\"}, \"yaxis\": {\"backgroundcolor\": \"white\", \"gridcolor\": \"#DFE8F3\", \"gridwidth\": 2, \"linecolor\": \"#EBF0F8\", \"showbackground\": true, \"ticks\": \"\", \"zerolinecolor\": \"#EBF0F8\"}, \"zaxis\": {\"backgroundcolor\": \"white\", \"gridcolor\": \"#DFE8F3\", \"gridwidth\": 2, \"linecolor\": \"#EBF0F8\", \"showbackground\": true, \"ticks\": \"\", \"zerolinecolor\": \"#EBF0F8\"}}, \"shapedefaults\": {\"line\": {\"color\": \"#2a3f5f\"}}, \"ternary\": {\"aaxis\": {\"gridcolor\": \"#DFE8F3\", \"linecolor\": \"#A2B1C6\", \"ticks\": \"\"}, \"baxis\": {\"gridcolor\": \"#DFE8F3\", \"linecolor\": \"#A2B1C6\", \"ticks\": \"\"}, \"bgcolor\": \"white\", \"caxis\": {\"gridcolor\": \"#DFE8F3\", \"linecolor\": \"#A2B1C6\", \"ticks\": \"\"}}, \"title\": {\"x\": 0.05}, \"xaxis\": {\"automargin\": true, \"gridcolor\": \"#EBF0F8\", \"linecolor\": \"#EBF0F8\", \"ticks\": \"\", \"title\": {\"standoff\": 15}, \"zerolinecolor\": \"#EBF0F8\", \"zerolinewidth\": 2}, \"yaxis\": {\"automargin\": true, \"gridcolor\": \"#EBF0F8\", \"linecolor\": \"#EBF0F8\", \"ticks\": \"\", \"title\": {\"standoff\": 15}, \"zerolinecolor\": \"#EBF0F8\", \"zerolinewidth\": 2}}}, \"title\": {\"font\": {\"family\": \"Helvetica\", \"size\": 18}, \"text\": \"<b>Andel av befolkningen over 65 \\u00e5r</b><br>Datakilde: ssb.no.\"}, \"xaxis\": {\"anchor\": \"y\", \"domain\": [0.0, 1.0], \"fixedrange\": true, \"title\": {\"text\": \"\"}}, \"yaxis\": {\"anchor\": \"x\", \"categoryorder\": \"total ascending\", \"domain\": [0.0, 1.0], \"fixedrange\": true, \"separatethousands\": true, \"title\": {\"text\": \"\"}}},\n",
       "                        {\"responsive\": true}\n",
       "                    ).then(function(){\n",
       "                            \n",
       "var gd = document.getElementById('f4dd5ab4-a2dd-44de-bc63-642b8b77914f');\n",
       "var x = new MutationObserver(function (mutations, observer) {{\n",
       "        var display = window.getComputedStyle(gd).display;\n",
       "        if (!display || display === 'none') {{\n",
       "            console.log([gd, 'removed!']);\n",
       "            Plotly.purge(gd);\n",
       "            observer.disconnect();\n",
       "        }}\n",
       "}});\n",
       "\n",
       "// Listen for the removal of the full notebook cells\n",
       "var notebookContainer = gd.closest('#notebook-container');\n",
       "if (notebookContainer) {{\n",
       "    x.observe(notebookContainer, {childList: true});\n",
       "}}\n",
       "\n",
       "// Listen for the clearing of the current output cell\n",
       "var outputEl = gd.closest('.output');\n",
       "if (outputEl) {{\n",
       "    x.observe(outputEl, {childList: true});\n",
       "}}\n",
       "\n",
       "                        })\n",
       "                };\n",
       "                });\n",
       "            </script>\n",
       "        </div>"
      ]
     },
     "metadata": {},
     "output_type": "display_data"
    }
   ],
   "source": [
    "legend = [i for i in df[\"Kommune_x\"].dropna().unique()]\n",
    "legend.sort()\n",
    "\n",
    "fig = px.bar(bars, \n",
    "             x='Andel over 65 år', y='Kommune_x', \n",
    "             orientation='h',\n",
    "             category_orders={\"Foretak kort\": legend},\n",
    "             height=500,\n",
    "             title = \"<b>Andel av befolkningen over 65 år</b><br>Datakilde: ssb.no.\",\n",
    "             color='Foretak',\n",
    "             hover_name=\"Kommune_x\",\n",
    "             hover_data=[\"Andel over 65 år\"],\n",
    "             template = \"plotly_white\", \n",
    "             #labels = {\"Vekstrate\": \"daglig vekst (%)\", \"- 1 uke\": \"Daglig vekst for en uke siden\", \"text\": \"Dager før dobling med dagens vekst\"},\n",
    "            )\n",
    "\n",
    "\n",
    "fig.layout.coloraxis.showscale = False\n",
    "\n",
    "fig.update_layout(\n",
    "    yaxis=dict(\n",
    "        separatethousands=True,\n",
    "        categoryorder = 'total ascending',\n",
    "        title_text=\"\",\n",
    "        fixedrange=True,\n",
    "    ), xaxis=dict(fixedrange=True,\n",
    "                 title_text=\"\"),\n",
    "    title_font=dict(family=\"Helvetica\", size=18),\n",
    "        margin=dict(b=150)) #bottom margin\n",
    "\n",
    "fig.update_layout(autosize=True,\n",
    "    margin=dict(l=100, r=100, t=150, b=0),\n",
    "    paper_bgcolor='rgba(0, 0, 0, 0)'\n",
    "    #plot_bgcolor='rgb(248, 248, 255)'    \n",
    "                 )\n",
    "\n",
    "#plotly.offline.plot(fig, filename='COVID_moment_fylke.html')\n",
    "#py.plot(fig, filename='COVID19_vekstmomentum_fylker.html', auto_open=False)\n",
    "fig.show()"
   ]
  },
  {
   "cell_type": "markdown",
   "metadata": {},
   "source": [
    "# legg til smittetall fra VG"
   ]
  },
  {
   "cell_type": "code",
   "execution_count": 114,
   "metadata": {},
   "outputs": [
    {
     "data": {
      "text/html": [
       "<div>\n",
       "<style scoped>\n",
       "    .dataframe tbody tr th:only-of-type {\n",
       "        vertical-align: middle;\n",
       "    }\n",
       "\n",
       "    .dataframe tbody tr th {\n",
       "        vertical-align: top;\n",
       "    }\n",
       "\n",
       "    .dataframe thead th {\n",
       "        text-align: right;\n",
       "    }\n",
       "</style>\n",
       "<table border=\"1\" class=\"dataframe\">\n",
       "  <thead>\n",
       "    <tr style=\"text-align: right;\">\n",
       "      <th></th>\n",
       "      <th>KOMMUNE_ID</th>\n",
       "      <th>KOMMUNENAVN</th>\n",
       "      <th>VG-tall 31.03 2030</th>\n",
       "    </tr>\n",
       "  </thead>\n",
       "  <tbody>\n",
       "    <tr>\n",
       "      <td>0</td>\n",
       "      <td>1820</td>\n",
       "      <td>Alstahaug</td>\n",
       "      <td>3</td>\n",
       "    </tr>\n",
       "    <tr>\n",
       "      <td>1</td>\n",
       "      <td>5403</td>\n",
       "      <td>Alta</td>\n",
       "      <td>5</td>\n",
       "    </tr>\n",
       "    <tr>\n",
       "      <td>2</td>\n",
       "      <td>3428</td>\n",
       "      <td>Alvdal</td>\n",
       "      <td>1</td>\n",
       "    </tr>\n",
       "    <tr>\n",
       "      <td>3</td>\n",
       "      <td>4631</td>\n",
       "      <td>Alver</td>\n",
       "      <td>15</td>\n",
       "    </tr>\n",
       "    <tr>\n",
       "      <td>4</td>\n",
       "      <td>1871</td>\n",
       "      <td>Andøy</td>\n",
       "      <td>0</td>\n",
       "    </tr>\n",
       "  </tbody>\n",
       "</table>\n",
       "</div>"
      ],
      "text/plain": [
       "   KOMMUNE_ID KOMMUNENAVN  VG-tall 31.03 2030\n",
       "0        1820   Alstahaug                   3\n",
       "1        5403        Alta                   5\n",
       "2        3428      Alvdal                   1\n",
       "3        4631       Alver                  15\n",
       "4        1871       Andøy                   0"
      ]
     },
     "execution_count": 114,
     "metadata": {},
     "output_type": "execute_result"
    }
   ],
   "source": [
    "smittede = pd.read_excel(\"VG-smitte.xlsx\")\n",
    "smittede = smittede[[\"KOMMUNE_ID\", \"KOMMUNENAVN\", \"VG-tall 31.03 2030\"]]\n",
    "smittede.head()"
   ]
  },
  {
   "cell_type": "code",
   "execution_count": 115,
   "metadata": {},
   "outputs": [
    {
     "data": {
      "text/html": [
       "<div>\n",
       "<style scoped>\n",
       "    .dataframe tbody tr th:only-of-type {\n",
       "        vertical-align: middle;\n",
       "    }\n",
       "\n",
       "    .dataframe tbody tr th {\n",
       "        vertical-align: top;\n",
       "    }\n",
       "\n",
       "    .dataframe thead th {\n",
       "        text-align: right;\n",
       "    }\n",
       "</style>\n",
       "<table border=\"1\" class=\"dataframe\">\n",
       "  <thead>\n",
       "    <tr style=\"text-align: right;\">\n",
       "      <th></th>\n",
       "      <th>07459: Befolkning, etter region, alder, år og statistikkvariabel</th>\n",
       "      <th>age</th>\n",
       "      <th>gammel</th>\n",
       "      <th>Andel over 65 år</th>\n",
       "      <th>Kommunenr</th>\n",
       "      <th>Kommune_x</th>\n",
       "      <th>Kommune_y</th>\n",
       "      <th>Foretak</th>\n",
       "      <th>Foretak kort</th>\n",
       "      <th>KOMMUNE_ID</th>\n",
       "      <th>KOMMUNENAVN</th>\n",
       "      <th>VG-tall 31.03 2030</th>\n",
       "    </tr>\n",
       "  </thead>\n",
       "  <tbody>\n",
       "    <tr>\n",
       "      <td>0</td>\n",
       "      <td>693494</td>\n",
       "      <td>5460.0</td>\n",
       "      <td>87347</td>\n",
       "      <td>12.595206</td>\n",
       "      <td>301</td>\n",
       "      <td>Oslo kommune</td>\n",
       "      <td>NaN</td>\n",
       "      <td>NaN</td>\n",
       "      <td>NaN</td>\n",
       "      <td>301</td>\n",
       "      <td>Oslo</td>\n",
       "      <td>1233</td>\n",
       "    </tr>\n",
       "    <tr>\n",
       "      <td>1</td>\n",
       "      <td>14811</td>\n",
       "      <td>5460.0</td>\n",
       "      <td>2687</td>\n",
       "      <td>18.141922</td>\n",
       "      <td>1101</td>\n",
       "      <td>Eigersund</td>\n",
       "      <td>NaN</td>\n",
       "      <td>NaN</td>\n",
       "      <td>NaN</td>\n",
       "      <td>1101</td>\n",
       "      <td>Eigersund</td>\n",
       "      <td>14</td>\n",
       "    </tr>\n",
       "    <tr>\n",
       "      <td>2</td>\n",
       "      <td>143574</td>\n",
       "      <td>5460.0</td>\n",
       "      <td>20728</td>\n",
       "      <td>14.437154</td>\n",
       "      <td>1103</td>\n",
       "      <td>Stavanger</td>\n",
       "      <td>NaN</td>\n",
       "      <td>NaN</td>\n",
       "      <td>NaN</td>\n",
       "      <td>1103</td>\n",
       "      <td>Stavanger</td>\n",
       "      <td>120</td>\n",
       "    </tr>\n",
       "    <tr>\n",
       "      <td>3</td>\n",
       "      <td>37357</td>\n",
       "      <td>5460.0</td>\n",
       "      <td>6342</td>\n",
       "      <td>16.976738</td>\n",
       "      <td>1106</td>\n",
       "      <td>Haugesund</td>\n",
       "      <td>NaN</td>\n",
       "      <td>NaN</td>\n",
       "      <td>NaN</td>\n",
       "      <td>1106</td>\n",
       "      <td>Haugesund</td>\n",
       "      <td>34</td>\n",
       "    </tr>\n",
       "    <tr>\n",
       "      <td>4</td>\n",
       "      <td>79537</td>\n",
       "      <td>5460.0</td>\n",
       "      <td>10291</td>\n",
       "      <td>12.938632</td>\n",
       "      <td>1108</td>\n",
       "      <td>Sandnes</td>\n",
       "      <td>NaN</td>\n",
       "      <td>NaN</td>\n",
       "      <td>NaN</td>\n",
       "      <td>1108</td>\n",
       "      <td>Sandnes</td>\n",
       "      <td>41</td>\n",
       "    </tr>\n",
       "  </tbody>\n",
       "</table>\n",
       "</div>"
      ],
      "text/plain": [
       "   07459: Befolkning, etter region, alder, år og statistikkvariabel     age  \\\n",
       "0                                             693494                 5460.0   \n",
       "1                                              14811                 5460.0   \n",
       "2                                             143574                 5460.0   \n",
       "3                                              37357                 5460.0   \n",
       "4                                              79537                 5460.0   \n",
       "\n",
       "   gammel  Andel over 65 år  Kommunenr     Kommune_x Kommune_y Foretak  \\\n",
       "0   87347         12.595206        301  Oslo kommune       NaN     NaN   \n",
       "1    2687         18.141922       1101     Eigersund       NaN     NaN   \n",
       "2   20728         14.437154       1103     Stavanger       NaN     NaN   \n",
       "3    6342         16.976738       1106     Haugesund       NaN     NaN   \n",
       "4   10291         12.938632       1108       Sandnes       NaN     NaN   \n",
       "\n",
       "  Foretak kort  KOMMUNE_ID KOMMUNENAVN  VG-tall 31.03 2030  \n",
       "0          NaN         301        Oslo                1233  \n",
       "1          NaN        1101   Eigersund                  14  \n",
       "2          NaN        1103   Stavanger                 120  \n",
       "3          NaN        1106   Haugesund                  34  \n",
       "4          NaN        1108     Sandnes                  41  "
      ]
     },
     "execution_count": 115,
     "metadata": {},
     "output_type": "execute_result"
    }
   ],
   "source": [
    "df = df.merge(smittede, how=\"left\", left_on=\"Kommunenr\", right_on=\"KOMMUNE_ID\")\n",
    "df.head()"
   ]
  },
  {
   "cell_type": "code",
   "execution_count": 116,
   "metadata": {},
   "outputs": [
    {
     "data": {
      "application/vnd.plotly.v1+json": {
       "config": {
        "plotlyServerURL": "https://plot.ly"
       },
       "data": [
        {
         "hoverlabel": {
          "namelength": 0
         },
         "hovertemplate": "Foretak=Annet<br>Andel over 65 år=%{x}<br>VG-tall 31.03 2030=%{y}<br>07459: Befolkning, etter region, alder, år og statistikkvariabel=%{marker.size}",
         "legendgroup": "Annet",
         "marker": {
          "color": "#636efa",
          "size": [
           693494,
           14811,
           143574,
           37357,
           79537,
           3280,
           3202,
           2787,
           18991,
           19588,
           18916,
           12002,
           27153,
           11221,
           12968,
           2574,
           3804,
           4595,
           517,
           852,
           11065,
           42186,
           198,
           8714,
           24179,
           31967,
           66258,
           3117,
           2461,
           8900,
           8571,
           5175,
           10825,
           4523,
           7625,
           9310,
           8462,
           6532,
           7468,
           3509,
           5788,
           2629,
           3025,
           7036,
           5920,
           2150,
           3507,
           10473,
           2549,
           13279,
           31373,
           49273,
           56732,
           82385,
           101386,
           27723,
           30641,
           4668,
           1325,
           3595,
           44792,
           3805,
           8255,
           7508,
           5736,
           18042,
           59288,
           20439,
           15877,
           19616,
           127731,
           94441,
           17390,
           18530,
           11110,
           41460,
           85983,
           24249,
           6890,
           39625,
           23092,
           25436,
           14139,
           2854,
           6799,
           1050,
           3273,
           4608,
           2486,
           4674,
           4441,
           3467,
           2212,
           14115,
           19423,
           26811,
           2688,
           1390,
           2439,
           6852,
           9048,
           17829,
           31369,
           28345,
           30560,
           34768,
           7674,
           21064,
           5016,
           7905,
           6106,
           4612,
           7203,
           3662,
           21254,
           6627,
           4356,
           2419,
           1780,
           1268,
           1562,
           5578,
           2432,
           1545,
           1891,
           2553,
           1975,
           2197,
           2228,
           3570,
           5723,
           5739,
           3119,
           4392,
           5100,
           6106,
           14973,
           13427,
           13630,
           5617,
           6633,
           2954,
           1279,
           6413,
           2125,
           3229,
           1578,
           27351,
           24699,
           56293,
           63764,
           47204,
           36397,
           54942,
           13049,
           26730,
           2340,
           14061,
           10380,
           4060,
           6515,
           10444,
           5691,
           1573,
           2888,
           2403,
           1448,
           1287,
           2201,
           3676,
           6809,
           23544,
           44999,
           111633,
           23046,
           9691,
           9028,
           2428,
           2097,
           6053,
           5951,
           11074,
           5226,
           1836,
           1331,
           3634,
           1162,
           1164,
           965,
           14774,
           932,
           10365,
           1680,
           5987,
           1822,
           283929,
           17207,
           4062,
           5766,
           11957,
           18759,
           3189,
           2869,
           13071,
           11048,
           906,
           1080,
           15740,
           8457,
           2485,
           24908,
           5236,
           38316,
           29553,
           3977,
           388,
           8098,
           29224,
           2870,
           548,
           1691,
           2297,
           802,
           1328,
           4101,
           2635,
           11847,
           1781,
           2126,
           5193,
           5174,
           3011,
           2802,
           22030,
           3629,
           9457,
           5854,
           7130,
           205163,
           24357,
           15230,
           5151,
           948,
           7001,
           2486,
           5581,
           1981,
           6238,
           16733,
           8325,
           14148,
           4062,
           769,
           2422,
           24145,
           2627,
           20164,
           14948,
           2063,
           1355,
           461,
           843,
           2359,
           1231,
           3884,
           1103,
           557,
           6816,
           10084,
           5963,
           5050,
           10323,
           4288,
           18217,
           9623,
           2003
          ],
          "sizemode": "area",
          "sizeref": 277.3976,
          "symbol": "circle"
         },
         "mode": "markers",
         "name": "Annet",
         "showlegend": true,
         "type": "scatter",
         "x": [
          12.595206303154749,
          18.141921544797786,
          14.437154359424408,
          16.97673796075702,
          12.93863233463671,
          20.426829268292682,
          18.425983760149904,
          15.536419088625763,
          14.422621241640776,
          13.37043087604656,
          14.331782617889619,
          11.648058656890518,
          13.07406179795971,
          14.891720880491935,
          16.15515114127082,
          21.6006216006216,
          21.58254468980021,
          22.023939064200217,
          23.404255319148938,
          21.12676056338028,
          16.484410302756437,
          17.301948513724934,
          21.21212121212121,
          18.223548313059446,
          20.451631581124115,
          20.264647918165608,
          17.489208850252044,
          29.066410009624637,
          23.20195042665583,
          20.123595505617978,
          16.5441605413604,
          18.33816425120773,
          20,
          22.50718549635198,
          20.288524590163934,
          16.27282491944146,
          16.37910659418577,
          21.785058175137785,
          23.19228709159079,
          20.60416072955258,
          21.458189357290948,
          23.392925066565233,
          25.355371900826444,
          21.859010801591815,
          23.344594594594597,
          24.88372093023256,
          24.721984602224122,
          19.860593908144754,
          24.597881522165554,
          19.271029444988326,
          20.278583495362255,
          20.06575609360096,
          18.913487978565886,
          19.065363840504943,
          17.587240841930836,
          19.204270822061105,
          20.864201560001305,
          27.485004284490145,
          23.471698113207548,
          26.091794158553544,
          19.063672084300766,
          17.897503285151117,
          20.327074500302846,
          21.09749600426212,
          14.539748953974897,
          17.2209289435761,
          16.915733369315884,
          14.183668476931357,
          20.463563645524975,
          16.38458401305057,
          16.631044930361462,
          16.82002520091909,
          19.539965497412307,
          13.847814355099839,
          15.445544554455445,
          15.496864447660396,
          15.19486410104323,
          14.55317745061652,
          15.486211901306241,
          13.226498422712934,
          16.616144119175473,
          16.25255543324422,
          13.303628262253342,
          21.723896285914506,
          18.399764671275186,
          24.666666666666668,
          25.90895203177513,
          22.265625,
          15.929203539823009,
          22.95678219940094,
          23.350596712452152,
          24.603403518892414,
          22.016274864376133,
          20.87849805171803,
          17.95809092313237,
          16.564096825929656,
          21.465773809523807,
          25.827338129496404,
          24.846248462484624,
          19.994162288382956,
          18.85499557913351,
          24.005833193112345,
          22.034492651981257,
          20.38101958017287,
          20.04253926701571,
          19.854463874827427,
          20.862653114412304,
          20.091150778579568,
          25.259170653907496,
          20.961416824794433,
          25.66328201768752,
          28.924544666088465,
          27.016520894071917,
          27.36209721463681,
          20.320880775383458,
          25.592274030481367,
          21.62534435261708,
          27.821413807358415,
          30.39325842696629,
          29.02208201892745,
          21.830985915492956,
          21.351738974542847,
          20.394736842105264,
          28.09061488673139,
          24.061343204653625,
          27.262044653348998,
          24.050632911392405,
          26.12653618570778,
          24.461400359066428,
          24.53781512605042,
          24.55006115673598,
          24.568740198640878,
          22.731644757935236,
          24.681238615664842,
          21.11764705882353,
          22.617097936455945,
          22.106458291591533,
          21.240783495941017,
          21.621423330887747,
          22.787965105928432,
          23.126790290969396,
          25.761679079214623,
          26.348709929632523,
          23.60829564946203,
          22.400000000000002,
          22.143078352431093,
          22.9404309252218,
          20.342949069503856,
          19.494716385278757,
          18.073295081093562,
          19.098550906467597,
          21.468519616981613,
          19.875264444871828,
          19.658913035564776,
          21.53421718139321,
          21.608679386457162,
          20.34188034188034,
          21.406727828746178,
          25.134874759152215,
          22.364532019704434,
          22.225633154259402,
          19.149751053236308,
          24.42452995958531,
          24.157660521296883,
          24.272853185595565,
          23.88680815647108,
          22.582872928176794,
          22.455322455322456,
          23.489323034984096,
          21.92600652883569,
          24.57042150095462,
          16.607203533809038,
          19.29376208360186,
          15.749823080988595,
          19.07489369087911,
          20.854400990609847,
          21.01240584847142,
          22.075782537067546,
          17.02432045779685,
          22.51775978853461,
          15.963703579230382,
          18.340256456564926,
          16.494450822809032,
          21.895424836601308,
          15.326821938392184,
          20.225646670335717,
          25.817555938037867,
          24.140893470790378,
          14.715025906735752,
          15.398673345065655,
          16.84549356223176,
          17.29860106126387,
          18.333333333333332,
          18.64038750626357,
          20.032930845225028,
          15.670819113229012,
          18.573836229441508,
          21.245691777449533,
          17.568505029483177,
          17.79710629756628,
          17.015832400447785,
          18.5010975227344,
          26.768909027535727,
          22.1712187284829,
          24.07675597393193,
          22.40618101545254,
          25.833333333333336,
          21.556543837357054,
          22.655788104528792,
          22.374245472837025,
          16.82993415770034,
          18.048128342245988,
          14.962417788913248,
          14.743004094338986,
          23.03243650993211,
          17.525773195876287,
          18.91825142010373,
          18.033123460169723,
          22.473867595818817,
          27.37226277372263,
          24.659964518036663,
          22.59468872442316,
          26.184538653366584,
          27.03313253012048,
          23.603999024628138,
          26.451612903225808,
          17.768211361526127,
          21.055586749017404,
          23.847601128880527,
          23.377623724244177,
          21.24081948202551,
          26.36997675190966,
          23.09064953604568,
          16.73172945982751,
          25.98511986773216,
          21.39156180606958,
          22.80491971301674,
          20.112201963534364,
          14.659075954241263,
          21.808925565545838,
          20.82731451083388,
          16.55989128324597,
          29.219409282700422,
          21.868304527924582,
          25.94529364440869,
          25.01343845189034,
          26.905603230691572,
          20.407181789034947,
          17.307117671666767,
          14.846846846846848,
          14.32004523607577,
          22.895125553914326,
          28.088426527958386,
          24.483897605284888,
          18.517291364671777,
          22.154548915112297,
          18.885141836937116,
          20.524484880920525,
          24.43044110518662,
          27.084870848708487,
          27.765726681127983,
          28.46975088967972,
          23.993217465027556,
          25.995125913891144,
          18.717816683831103,
          25.385312783318227,
          30.700179533213646,
          21.40551643192488,
          22.90757635858786,
          24.098608083179606,
          20.594059405940595,
          20.778843359488523,
          25.02332089552239,
          21.27133995718285,
          19.44300114309467,
          25.012481278082877
         ],
         "xaxis": "x",
         "y": [
          1233,
          14,
          120,
          34,
          41,
          2,
          0,
          0,
          6,
          5,
          11,
          10,
          11,
          11,
          12,
          0,
          0,
          3,
          0,
          0,
          11,
          27,
          0,
          8,
          14,
          14,
          21,
          1,
          4,
          4,
          7,
          2,
          5,
          0,
          0,
          6,
          5,
          0,
          9,
          0,
          0,
          0,
          1,
          2,
          0,
          0,
          3,
          6,
          1,
          1,
          15,
          52,
          36,
          47,
          94,
          16,
          4,
          0,
          1,
          1,
          36,
          1,
          1,
          1,
          5,
          17,
          65,
          21,
          16,
          40,
          262,
          100,
          4,
          13,
          21,
          59,
          96,
          41,
          4,
          40,
          9,
          26,
          13,
          1,
          7,
          1,
          14,
          9,
          6,
          8,
          46,
          1,
          0,
          7,
          4,
          18,
          1,
          0,
          1,
          5,
          5,
          1,
          57,
          27,
          9,
          50,
          11,
          27,
          0,
          9,
          3,
          3,
          3,
          1,
          8,
          1,
          1,
          0,
          0,
          1,
          0,
          0,
          1,
          0,
          0,
          3,
          1,
          1,
          3,
          1,
          12,
          35,
          1,
          7,
          1,
          5,
          4,
          3,
          9,
          0,
          1,
          0,
          0,
          6,
          0,
          0,
          0,
          18,
          16,
          33,
          27,
          10,
          3,
          28,
          4,
          20,
          2,
          5,
          1,
          0,
          1,
          0,
          1,
          0,
          0,
          0,
          0,
          0,
          0,
          1,
          0,
          1,
          19,
          101,
          6,
          11,
          0,
          1,
          0,
          2,
          1,
          7,
          3,
          1,
          1,
          1,
          2,
          0,
          3,
          4,
          0,
          4,
          2,
          1,
          0,
          281,
          4,
          4,
          1,
          3,
          5,
          4,
          0,
          5,
          0,
          0,
          1,
          25,
          5,
          0,
          11,
          3,
          33,
          23,
          1,
          0,
          0,
          15,
          0,
          0,
          0,
          0,
          3,
          0,
          2,
          1,
          5,
          0,
          0,
          0,
          3,
          0,
          0,
          10,
          0,
          0,
          1,
          12,
          178,
          10,
          3,
          0,
          0,
          8,
          5,
          0,
          1,
          6,
          3,
          4,
          5,
          2,
          0,
          1,
          4,
          23,
          16,
          10,
          0,
          0,
          0,
          0,
          2,
          1,
          3,
          0,
          0,
          7,
          1,
          1,
          0,
          11,
          1,
          12,
          0,
          0
         ],
         "yaxis": "y"
        },
        {
         "hoverlabel": {
          "namelength": 0
         },
         "hovertemplate": "Foretak=Nordlandssykehuset HF<br>Andel over 65 år=%{x}<br>VG-tall 31.03 2030=%{y}<br>07459: Befolkning, etter region, alder, år og statistikkvariabel=%{marker.size}",
         "legendgroup": "Nordlandssykehuset HF",
         "marker": {
          "color": "#EF553B",
          "size": [
           52357,
           6288,
           1950,
           1017,
           4671,
           9739,
           1926,
           2608,
           498,
           728,
           1272,
           11433,
           9608,
           8061,
           2569,
           4410,
           10566,
           4663,
           1015,
           2766
          ],
          "sizemode": "area",
          "sizeref": 277.3976,
          "symbol": "circle"
         },
         "mode": "markers",
         "name": "Nordlandssykehuset HF",
         "showlegend": true,
         "type": "scatter",
         "x": [
          16.291995339687148,
          21.962468193384225,
          27.025641025641022,
          31.268436578171094,
          24.405908798972384,
          22.01458055241811,
          26.791277258566975,
          26.495398773006134,
          23.09236947791165,
          22.939560439560438,
          26.022012578616355,
          19.86355287326161,
          20.295587010824313,
          22.92519538518794,
          29.155313351498634,
          21.58730158730159,
          18.77720991860685,
          26.356422903710058,
          25.320197044334975,
          26.35574837310195
         ],
         "xaxis": "x",
         "y": [
          10,
          2,
          0,
          0,
          0,
          1,
          0,
          1,
          0,
          0,
          0,
          1,
          3,
          3,
          0,
          0,
          1,
          0,
          0,
          0
         ],
         "yaxis": "y"
        },
        {
         "hoverlabel": {
          "namelength": 0
         },
         "hovertemplate": "Foretak=UNN HF<br>Andel over 65 år=%{x}<br>VG-tall 31.03 2030=%{y}<br>07459: Befolkning, etter region, alder, år og statistikkvariabel=%{marker.size}",
         "legendgroup": "UNN HF",
         "marker": {
          "color": "#00cc96",
          "size": [
           21845,
           2034,
           1348,
           76974,
           24703,
           2839,
           4216,
           1361,
           1091,
           1034,
           4005,
           2146,
           6640,
           3464,
           1083,
           14851,
           5559,
           2200,
           2794,
           1829,
           2071,
           2927,
           4861,
           1191
          ],
          "sizemode": "area",
          "sizeref": 277.3976,
          "symbol": "circle"
         },
         "mode": "markers",
         "name": "UNN HF",
         "showlegend": true,
         "type": "scatter",
         "x": [
          21.387045090409703,
          29.547689282202555,
          29.673590504451035,
          14.042403928599267,
          20.086629154353723,
          23.21239873194787,
          27.016129032258064,
          31.741366642174874,
          26.03116406966086,
          25.241779497098648,
          20.44943820224719,
          23.951537744641193,
          20.210843373493976,
          20.75635103926097,
          28.99353647276085,
          21.04908760352838,
          23.90717754991905,
          28.454545454545453,
          28.131710808876164,
          25.642427556041554,
          27.764365041042975,
          21.557909121967885,
          21.25077144620448,
          28.043660789252726
         ],
         "xaxis": "x",
         "y": [
          4,
          0,
          0,
          96,
          4,
          0,
          1,
          0,
          0,
          3,
          1,
          1,
          1,
          0,
          1,
          15,
          0,
          0,
          0,
          0,
          0,
          1,
          1,
          0
         ],
         "yaxis": "y"
        },
        {
         "hoverlabel": {
          "namelength": 0
         },
         "hovertemplate": "Foretak=Helgelandssykehuset HF<br>Andel over 65 år=%{x}<br>VG-tall 31.03 2030=%{y}<br>07459: Befolkning, etter region, alder, år og statistikkvariabel=%{marker.size}",
         "legendgroup": "Helgelandssykehuset HF",
         "marker": {
          "color": "#ab63fa",
          "size": [
           1426,
           1975,
           7917,
           1200,
           462,
           1777,
           7447,
           2294,
           13278,
           1482,
           1297,
           1371,
           1761,
           4454,
           26184,
           1890,
           435,
           1213
          ],
          "sizemode": "area",
          "sizeref": 277.3976,
          "symbol": "circle"
         },
         "mode": "markers",
         "name": "Helgelandssykehuset HF",
         "showlegend": true,
         "type": "scatter",
         "x": [
          28.962131837307155,
          23.189873417721518,
          18.908677529367186,
          26.916666666666668,
          28.13852813852814,
          22.566122678671917,
          20.93460453874043,
          20.57541412380122,
          21.61470100918813,
          24.898785425101213,
          27.679259830377795,
          24.945295404814004,
          19.988642816581486,
          24.27031881454872,
          19.935838680109992,
          25.608465608465607,
          18.620689655172416,
          22.91838417147568
         ],
         "xaxis": "x",
         "y": [
          0,
          1,
          1,
          2,
          0,
          0,
          3,
          2,
          0,
          0,
          0,
          5,
          0,
          0,
          2,
          0,
          0,
          0
         ],
         "yaxis": "y"
        },
        {
         "hoverlabel": {
          "namelength": 0
         },
         "hovertemplate": "Foretak=Finnmarkssykehuset HF<br>Andel over 65 år=%{x}<br>VG-tall 31.03 2030=%{y}<br>07459: Befolkning, etter region, alder, år og statistikkvariabel=%{marker.size}",
         "legendgroup": "Finnmarkssykehuset HF",
         "marker": {
          "color": "#FFA15A",
          "size": [
           20789,
           2029,
           5788,
           11448,
           2910,
           888,
           1005,
           1225,
           3162,
           3998,
           2628,
           1290,
           1132,
           957,
           2918,
           926,
           2221,
           10158
          ],
          "sizemode": "area",
          "sizeref": 277.3976,
          "symbol": "circle"
         },
         "mode": "markers",
         "name": "Finnmarkssykehuset HF",
         "showlegend": true,
         "type": "scatter",
         "x": [
          14.603877050363174,
          24.396254312469196,
          19.678645473393228,
          16.867575122292102,
          18.10996563573883,
          29.504504504504503,
          22.388059701492537,
          27.10204081632653,
          21.094244149272612,
          22.336168084042022,
          19.863013698630137,
          22.48062015503876,
          20.936395759717314,
          25.287356321839084,
          23.098012337217273,
          27.5377969762419,
          17.829806393516435,
          18.113801929513684
         ],
         "xaxis": "x",
         "y": [
          5,
          0,
          3,
          10,
          1,
          0,
          0,
          0,
          1,
          3,
          1,
          0,
          0,
          0,
          0,
          1,
          0,
          2
         ],
         "yaxis": "y"
        }
       ],
       "layout": {
        "legend": {
         "itemsizing": "constant",
         "title": {
          "text": "Foretak"
         },
         "tracegroupgap": 0
        },
        "margin": {
         "t": 60
        },
        "template": {
         "data": {
          "bar": [
           {
            "error_x": {
             "color": "#2a3f5f"
            },
            "error_y": {
             "color": "#2a3f5f"
            },
            "marker": {
             "line": {
              "color": "#E5ECF6",
              "width": 0.5
             }
            },
            "type": "bar"
           }
          ],
          "barpolar": [
           {
            "marker": {
             "line": {
              "color": "#E5ECF6",
              "width": 0.5
             }
            },
            "type": "barpolar"
           }
          ],
          "carpet": [
           {
            "aaxis": {
             "endlinecolor": "#2a3f5f",
             "gridcolor": "white",
             "linecolor": "white",
             "minorgridcolor": "white",
             "startlinecolor": "#2a3f5f"
            },
            "baxis": {
             "endlinecolor": "#2a3f5f",
             "gridcolor": "white",
             "linecolor": "white",
             "minorgridcolor": "white",
             "startlinecolor": "#2a3f5f"
            },
            "type": "carpet"
           }
          ],
          "choropleth": [
           {
            "colorbar": {
             "outlinewidth": 0,
             "ticks": ""
            },
            "type": "choropleth"
           }
          ],
          "contour": [
           {
            "colorbar": {
             "outlinewidth": 0,
             "ticks": ""
            },
            "colorscale": [
             [
              0,
              "#0d0887"
             ],
             [
              0.1111111111111111,
              "#46039f"
             ],
             [
              0.2222222222222222,
              "#7201a8"
             ],
             [
              0.3333333333333333,
              "#9c179e"
             ],
             [
              0.4444444444444444,
              "#bd3786"
             ],
             [
              0.5555555555555556,
              "#d8576b"
             ],
             [
              0.6666666666666666,
              "#ed7953"
             ],
             [
              0.7777777777777778,
              "#fb9f3a"
             ],
             [
              0.8888888888888888,
              "#fdca26"
             ],
             [
              1,
              "#f0f921"
             ]
            ],
            "type": "contour"
           }
          ],
          "contourcarpet": [
           {
            "colorbar": {
             "outlinewidth": 0,
             "ticks": ""
            },
            "type": "contourcarpet"
           }
          ],
          "heatmap": [
           {
            "colorbar": {
             "outlinewidth": 0,
             "ticks": ""
            },
            "colorscale": [
             [
              0,
              "#0d0887"
             ],
             [
              0.1111111111111111,
              "#46039f"
             ],
             [
              0.2222222222222222,
              "#7201a8"
             ],
             [
              0.3333333333333333,
              "#9c179e"
             ],
             [
              0.4444444444444444,
              "#bd3786"
             ],
             [
              0.5555555555555556,
              "#d8576b"
             ],
             [
              0.6666666666666666,
              "#ed7953"
             ],
             [
              0.7777777777777778,
              "#fb9f3a"
             ],
             [
              0.8888888888888888,
              "#fdca26"
             ],
             [
              1,
              "#f0f921"
             ]
            ],
            "type": "heatmap"
           }
          ],
          "heatmapgl": [
           {
            "colorbar": {
             "outlinewidth": 0,
             "ticks": ""
            },
            "colorscale": [
             [
              0,
              "#0d0887"
             ],
             [
              0.1111111111111111,
              "#46039f"
             ],
             [
              0.2222222222222222,
              "#7201a8"
             ],
             [
              0.3333333333333333,
              "#9c179e"
             ],
             [
              0.4444444444444444,
              "#bd3786"
             ],
             [
              0.5555555555555556,
              "#d8576b"
             ],
             [
              0.6666666666666666,
              "#ed7953"
             ],
             [
              0.7777777777777778,
              "#fb9f3a"
             ],
             [
              0.8888888888888888,
              "#fdca26"
             ],
             [
              1,
              "#f0f921"
             ]
            ],
            "type": "heatmapgl"
           }
          ],
          "histogram": [
           {
            "marker": {
             "colorbar": {
              "outlinewidth": 0,
              "ticks": ""
             }
            },
            "type": "histogram"
           }
          ],
          "histogram2d": [
           {
            "colorbar": {
             "outlinewidth": 0,
             "ticks": ""
            },
            "colorscale": [
             [
              0,
              "#0d0887"
             ],
             [
              0.1111111111111111,
              "#46039f"
             ],
             [
              0.2222222222222222,
              "#7201a8"
             ],
             [
              0.3333333333333333,
              "#9c179e"
             ],
             [
              0.4444444444444444,
              "#bd3786"
             ],
             [
              0.5555555555555556,
              "#d8576b"
             ],
             [
              0.6666666666666666,
              "#ed7953"
             ],
             [
              0.7777777777777778,
              "#fb9f3a"
             ],
             [
              0.8888888888888888,
              "#fdca26"
             ],
             [
              1,
              "#f0f921"
             ]
            ],
            "type": "histogram2d"
           }
          ],
          "histogram2dcontour": [
           {
            "colorbar": {
             "outlinewidth": 0,
             "ticks": ""
            },
            "colorscale": [
             [
              0,
              "#0d0887"
             ],
             [
              0.1111111111111111,
              "#46039f"
             ],
             [
              0.2222222222222222,
              "#7201a8"
             ],
             [
              0.3333333333333333,
              "#9c179e"
             ],
             [
              0.4444444444444444,
              "#bd3786"
             ],
             [
              0.5555555555555556,
              "#d8576b"
             ],
             [
              0.6666666666666666,
              "#ed7953"
             ],
             [
              0.7777777777777778,
              "#fb9f3a"
             ],
             [
              0.8888888888888888,
              "#fdca26"
             ],
             [
              1,
              "#f0f921"
             ]
            ],
            "type": "histogram2dcontour"
           }
          ],
          "mesh3d": [
           {
            "colorbar": {
             "outlinewidth": 0,
             "ticks": ""
            },
            "type": "mesh3d"
           }
          ],
          "parcoords": [
           {
            "line": {
             "colorbar": {
              "outlinewidth": 0,
              "ticks": ""
             }
            },
            "type": "parcoords"
           }
          ],
          "pie": [
           {
            "automargin": true,
            "type": "pie"
           }
          ],
          "scatter": [
           {
            "marker": {
             "colorbar": {
              "outlinewidth": 0,
              "ticks": ""
             }
            },
            "type": "scatter"
           }
          ],
          "scatter3d": [
           {
            "line": {
             "colorbar": {
              "outlinewidth": 0,
              "ticks": ""
             }
            },
            "marker": {
             "colorbar": {
              "outlinewidth": 0,
              "ticks": ""
             }
            },
            "type": "scatter3d"
           }
          ],
          "scattercarpet": [
           {
            "marker": {
             "colorbar": {
              "outlinewidth": 0,
              "ticks": ""
             }
            },
            "type": "scattercarpet"
           }
          ],
          "scattergeo": [
           {
            "marker": {
             "colorbar": {
              "outlinewidth": 0,
              "ticks": ""
             }
            },
            "type": "scattergeo"
           }
          ],
          "scattergl": [
           {
            "marker": {
             "colorbar": {
              "outlinewidth": 0,
              "ticks": ""
             }
            },
            "type": "scattergl"
           }
          ],
          "scattermapbox": [
           {
            "marker": {
             "colorbar": {
              "outlinewidth": 0,
              "ticks": ""
             }
            },
            "type": "scattermapbox"
           }
          ],
          "scatterpolar": [
           {
            "marker": {
             "colorbar": {
              "outlinewidth": 0,
              "ticks": ""
             }
            },
            "type": "scatterpolar"
           }
          ],
          "scatterpolargl": [
           {
            "marker": {
             "colorbar": {
              "outlinewidth": 0,
              "ticks": ""
             }
            },
            "type": "scatterpolargl"
           }
          ],
          "scatterternary": [
           {
            "marker": {
             "colorbar": {
              "outlinewidth": 0,
              "ticks": ""
             }
            },
            "type": "scatterternary"
           }
          ],
          "surface": [
           {
            "colorbar": {
             "outlinewidth": 0,
             "ticks": ""
            },
            "colorscale": [
             [
              0,
              "#0d0887"
             ],
             [
              0.1111111111111111,
              "#46039f"
             ],
             [
              0.2222222222222222,
              "#7201a8"
             ],
             [
              0.3333333333333333,
              "#9c179e"
             ],
             [
              0.4444444444444444,
              "#bd3786"
             ],
             [
              0.5555555555555556,
              "#d8576b"
             ],
             [
              0.6666666666666666,
              "#ed7953"
             ],
             [
              0.7777777777777778,
              "#fb9f3a"
             ],
             [
              0.8888888888888888,
              "#fdca26"
             ],
             [
              1,
              "#f0f921"
             ]
            ],
            "type": "surface"
           }
          ],
          "table": [
           {
            "cells": {
             "fill": {
              "color": "#EBF0F8"
             },
             "line": {
              "color": "white"
             }
            },
            "header": {
             "fill": {
              "color": "#C8D4E3"
             },
             "line": {
              "color": "white"
             }
            },
            "type": "table"
           }
          ]
         },
         "layout": {
          "annotationdefaults": {
           "arrowcolor": "#2a3f5f",
           "arrowhead": 0,
           "arrowwidth": 1
          },
          "coloraxis": {
           "colorbar": {
            "outlinewidth": 0,
            "ticks": ""
           }
          },
          "colorscale": {
           "diverging": [
            [
             0,
             "#8e0152"
            ],
            [
             0.1,
             "#c51b7d"
            ],
            [
             0.2,
             "#de77ae"
            ],
            [
             0.3,
             "#f1b6da"
            ],
            [
             0.4,
             "#fde0ef"
            ],
            [
             0.5,
             "#f7f7f7"
            ],
            [
             0.6,
             "#e6f5d0"
            ],
            [
             0.7,
             "#b8e186"
            ],
            [
             0.8,
             "#7fbc41"
            ],
            [
             0.9,
             "#4d9221"
            ],
            [
             1,
             "#276419"
            ]
           ],
           "sequential": [
            [
             0,
             "#0d0887"
            ],
            [
             0.1111111111111111,
             "#46039f"
            ],
            [
             0.2222222222222222,
             "#7201a8"
            ],
            [
             0.3333333333333333,
             "#9c179e"
            ],
            [
             0.4444444444444444,
             "#bd3786"
            ],
            [
             0.5555555555555556,
             "#d8576b"
            ],
            [
             0.6666666666666666,
             "#ed7953"
            ],
            [
             0.7777777777777778,
             "#fb9f3a"
            ],
            [
             0.8888888888888888,
             "#fdca26"
            ],
            [
             1,
             "#f0f921"
            ]
           ],
           "sequentialminus": [
            [
             0,
             "#0d0887"
            ],
            [
             0.1111111111111111,
             "#46039f"
            ],
            [
             0.2222222222222222,
             "#7201a8"
            ],
            [
             0.3333333333333333,
             "#9c179e"
            ],
            [
             0.4444444444444444,
             "#bd3786"
            ],
            [
             0.5555555555555556,
             "#d8576b"
            ],
            [
             0.6666666666666666,
             "#ed7953"
            ],
            [
             0.7777777777777778,
             "#fb9f3a"
            ],
            [
             0.8888888888888888,
             "#fdca26"
            ],
            [
             1,
             "#f0f921"
            ]
           ]
          },
          "colorway": [
           "#636efa",
           "#EF553B",
           "#00cc96",
           "#ab63fa",
           "#FFA15A",
           "#19d3f3",
           "#FF6692",
           "#B6E880",
           "#FF97FF",
           "#FECB52"
          ],
          "font": {
           "color": "#2a3f5f"
          },
          "geo": {
           "bgcolor": "white",
           "lakecolor": "white",
           "landcolor": "#E5ECF6",
           "showlakes": true,
           "showland": true,
           "subunitcolor": "white"
          },
          "hoverlabel": {
           "align": "left"
          },
          "hovermode": "closest",
          "mapbox": {
           "style": "light"
          },
          "paper_bgcolor": "white",
          "plot_bgcolor": "#E5ECF6",
          "polar": {
           "angularaxis": {
            "gridcolor": "white",
            "linecolor": "white",
            "ticks": ""
           },
           "bgcolor": "#E5ECF6",
           "radialaxis": {
            "gridcolor": "white",
            "linecolor": "white",
            "ticks": ""
           }
          },
          "scene": {
           "xaxis": {
            "backgroundcolor": "#E5ECF6",
            "gridcolor": "white",
            "gridwidth": 2,
            "linecolor": "white",
            "showbackground": true,
            "ticks": "",
            "zerolinecolor": "white"
           },
           "yaxis": {
            "backgroundcolor": "#E5ECF6",
            "gridcolor": "white",
            "gridwidth": 2,
            "linecolor": "white",
            "showbackground": true,
            "ticks": "",
            "zerolinecolor": "white"
           },
           "zaxis": {
            "backgroundcolor": "#E5ECF6",
            "gridcolor": "white",
            "gridwidth": 2,
            "linecolor": "white",
            "showbackground": true,
            "ticks": "",
            "zerolinecolor": "white"
           }
          },
          "shapedefaults": {
           "line": {
            "color": "#2a3f5f"
           }
          },
          "ternary": {
           "aaxis": {
            "gridcolor": "white",
            "linecolor": "white",
            "ticks": ""
           },
           "baxis": {
            "gridcolor": "white",
            "linecolor": "white",
            "ticks": ""
           },
           "bgcolor": "#E5ECF6",
           "caxis": {
            "gridcolor": "white",
            "linecolor": "white",
            "ticks": ""
           }
          },
          "title": {
           "x": 0.05
          },
          "xaxis": {
           "automargin": true,
           "gridcolor": "white",
           "linecolor": "white",
           "ticks": "",
           "title": {
            "standoff": 15
           },
           "zerolinecolor": "white",
           "zerolinewidth": 2
          },
          "yaxis": {
           "automargin": true,
           "gridcolor": "white",
           "linecolor": "white",
           "ticks": "",
           "title": {
            "standoff": 15
           },
           "zerolinecolor": "white",
           "zerolinewidth": 2
          }
         }
        },
        "xaxis": {
         "anchor": "y",
         "domain": [
          0,
          1
         ],
         "title": {
          "text": "Andel over 65 år"
         },
         "type": "log"
        },
        "yaxis": {
         "anchor": "x",
         "domain": [
          0,
          1
         ],
         "title": {
          "text": "VG-tall 31.03 2030"
         },
         "type": "log"
        }
       }
      },
      "text/html": [
       "<div>\n",
       "        \n",
       "        \n",
       "            <div id=\"0e74dc01-0003-4987-8064-eced2c716d57\" class=\"plotly-graph-div\" style=\"height:525px; width:100%;\"></div>\n",
       "            <script type=\"text/javascript\">\n",
       "                require([\"plotly\"], function(Plotly) {\n",
       "                    window.PLOTLYENV=window.PLOTLYENV || {};\n",
       "                    \n",
       "                if (document.getElementById(\"0e74dc01-0003-4987-8064-eced2c716d57\")) {\n",
       "                    Plotly.newPlot(\n",
       "                        '0e74dc01-0003-4987-8064-eced2c716d57',\n",
       "                        [{\"hoverlabel\": {\"namelength\": 0}, \"hovertemplate\": \"Foretak=Annet<br>Andel over 65 \\u00e5r=%{x}<br>VG-tall 31.03 2030=%{y}<br>07459: Befolkning, etter region, alder, \\u00e5r og statistikkvariabel=%{marker.size}\", \"legendgroup\": \"Annet\", \"marker\": {\"color\": \"#636efa\", \"size\": [693494, 14811, 143574, 37357, 79537, 3280, 3202, 2787, 18991, 19588, 18916, 12002, 27153, 11221, 12968, 2574, 3804, 4595, 517, 852, 11065, 42186, 198, 8714, 24179, 31967, 66258, 3117, 2461, 8900, 8571, 5175, 10825, 4523, 7625, 9310, 8462, 6532, 7468, 3509, 5788, 2629, 3025, 7036, 5920, 2150, 3507, 10473, 2549, 13279, 31373, 49273, 56732, 82385, 101386, 27723, 30641, 4668, 1325, 3595, 44792, 3805, 8255, 7508, 5736, 18042, 59288, 20439, 15877, 19616, 127731, 94441, 17390, 18530, 11110, 41460, 85983, 24249, 6890, 39625, 23092, 25436, 14139, 2854, 6799, 1050, 3273, 4608, 2486, 4674, 4441, 3467, 2212, 14115, 19423, 26811, 2688, 1390, 2439, 6852, 9048, 17829, 31369, 28345, 30560, 34768, 7674, 21064, 5016, 7905, 6106, 4612, 7203, 3662, 21254, 6627, 4356, 2419, 1780, 1268, 1562, 5578, 2432, 1545, 1891, 2553, 1975, 2197, 2228, 3570, 5723, 5739, 3119, 4392, 5100, 6106, 14973, 13427, 13630, 5617, 6633, 2954, 1279, 6413, 2125, 3229, 1578, 27351, 24699, 56293, 63764, 47204, 36397, 54942, 13049, 26730, 2340, 14061, 10380, 4060, 6515, 10444, 5691, 1573, 2888, 2403, 1448, 1287, 2201, 3676, 6809, 23544, 44999, 111633, 23046, 9691, 9028, 2428, 2097, 6053, 5951, 11074, 5226, 1836, 1331, 3634, 1162, 1164, 965, 14774, 932, 10365, 1680, 5987, 1822, 283929, 17207, 4062, 5766, 11957, 18759, 3189, 2869, 13071, 11048, 906, 1080, 15740, 8457, 2485, 24908, 5236, 38316, 29553, 3977, 388, 8098, 29224, 2870, 548, 1691, 2297, 802, 1328, 4101, 2635, 11847, 1781, 2126, 5193, 5174, 3011, 2802, 22030, 3629, 9457, 5854, 7130, 205163, 24357, 15230, 5151, 948, 7001, 2486, 5581, 1981, 6238, 16733, 8325, 14148, 4062, 769, 2422, 24145, 2627, 20164, 14948, 2063, 1355, 461, 843, 2359, 1231, 3884, 1103, 557, 6816, 10084, 5963, 5050, 10323, 4288, 18217, 9623, 2003], \"sizemode\": \"area\", \"sizeref\": 277.3976, \"symbol\": \"circle\"}, \"mode\": \"markers\", \"name\": \"Annet\", \"showlegend\": true, \"type\": \"scatter\", \"x\": [12.595206303154749, 18.141921544797786, 14.437154359424408, 16.97673796075702, 12.93863233463671, 20.426829268292682, 18.425983760149904, 15.536419088625763, 14.422621241640776, 13.37043087604656, 14.331782617889619, 11.648058656890518, 13.07406179795971, 14.891720880491935, 16.15515114127082, 21.6006216006216, 21.58254468980021, 22.023939064200217, 23.404255319148938, 21.12676056338028, 16.484410302756437, 17.301948513724934, 21.21212121212121, 18.223548313059446, 20.451631581124115, 20.264647918165608, 17.489208850252044, 29.066410009624637, 23.20195042665583, 20.123595505617978, 16.5441605413604, 18.33816425120773, 20.0, 22.50718549635198, 20.288524590163934, 16.27282491944146, 16.37910659418577, 21.785058175137785, 23.19228709159079, 20.60416072955258, 21.458189357290948, 23.392925066565233, 25.355371900826444, 21.859010801591815, 23.344594594594597, 24.88372093023256, 24.721984602224122, 19.860593908144754, 24.597881522165554, 19.271029444988326, 20.278583495362255, 20.06575609360096, 18.913487978565886, 19.065363840504943, 17.587240841930836, 19.204270822061105, 20.864201560001305, 27.485004284490145, 23.471698113207548, 26.091794158553544, 19.063672084300766, 17.897503285151117, 20.327074500302846, 21.09749600426212, 14.539748953974897, 17.2209289435761, 16.915733369315884, 14.183668476931357, 20.463563645524975, 16.38458401305057, 16.631044930361462, 16.82002520091909, 19.539965497412307, 13.847814355099839, 15.445544554455445, 15.496864447660396, 15.19486410104323, 14.55317745061652, 15.486211901306241, 13.226498422712934, 16.616144119175473, 16.25255543324422, 13.303628262253342, 21.723896285914506, 18.399764671275186, 24.666666666666668, 25.90895203177513, 22.265625, 15.929203539823009, 22.95678219940094, 23.350596712452152, 24.603403518892414, 22.016274864376133, 20.87849805171803, 17.95809092313237, 16.564096825929656, 21.465773809523807, 25.827338129496404, 24.846248462484624, 19.994162288382956, 18.85499557913351, 24.005833193112345, 22.034492651981257, 20.38101958017287, 20.04253926701571, 19.854463874827427, 20.862653114412304, 20.091150778579568, 25.259170653907496, 20.961416824794433, 25.66328201768752, 28.924544666088465, 27.016520894071917, 27.36209721463681, 20.320880775383458, 25.592274030481367, 21.62534435261708, 27.821413807358415, 30.39325842696629, 29.02208201892745, 21.830985915492956, 21.351738974542847, 20.394736842105264, 28.09061488673139, 24.061343204653625, 27.262044653348998, 24.050632911392405, 26.12653618570778, 24.461400359066428, 24.53781512605042, 24.55006115673598, 24.568740198640878, 22.731644757935236, 24.681238615664842, 21.11764705882353, 22.617097936455945, 22.106458291591533, 21.240783495941017, 21.621423330887747, 22.787965105928432, 23.126790290969396, 25.761679079214623, 26.348709929632523, 23.60829564946203, 22.400000000000002, 22.143078352431093, 22.9404309252218, 20.342949069503856, 19.494716385278757, 18.073295081093562, 19.098550906467597, 21.468519616981613, 19.875264444871828, 19.658913035564776, 21.53421718139321, 21.608679386457162, 20.34188034188034, 21.406727828746178, 25.134874759152215, 22.364532019704434, 22.225633154259402, 19.149751053236308, 24.42452995958531, 24.157660521296883, 24.272853185595565, 23.88680815647108, 22.582872928176794, 22.455322455322456, 23.489323034984096, 21.92600652883569, 24.57042150095462, 16.607203533809038, 19.29376208360186, 15.749823080988595, 19.07489369087911, 20.854400990609847, 21.01240584847142, 22.075782537067546, 17.02432045779685, 22.51775978853461, 15.963703579230382, 18.340256456564926, 16.494450822809032, 21.895424836601308, 15.326821938392184, 20.225646670335717, 25.817555938037867, 24.140893470790378, 14.715025906735752, 15.398673345065655, 16.84549356223176, 17.29860106126387, 18.333333333333332, 18.64038750626357, 20.032930845225028, 15.670819113229012, 18.573836229441508, 21.245691777449533, 17.568505029483177, 17.79710629756628, 17.015832400447785, 18.5010975227344, 26.768909027535727, 22.1712187284829, 24.07675597393193, 22.40618101545254, 25.833333333333336, 21.556543837357054, 22.655788104528792, 22.374245472837025, 16.82993415770034, 18.048128342245988, 14.962417788913248, 14.743004094338986, 23.03243650993211, 17.525773195876287, 18.91825142010373, 18.033123460169723, 22.473867595818817, 27.37226277372263, 24.659964518036663, 22.59468872442316, 26.184538653366584, 27.03313253012048, 23.603999024628138, 26.451612903225808, 17.768211361526127, 21.055586749017404, 23.847601128880527, 23.377623724244177, 21.24081948202551, 26.36997675190966, 23.09064953604568, 16.73172945982751, 25.98511986773216, 21.39156180606958, 22.80491971301674, 20.112201963534364, 14.659075954241263, 21.808925565545838, 20.82731451083388, 16.55989128324597, 29.219409282700422, 21.868304527924582, 25.94529364440869, 25.01343845189034, 26.905603230691572, 20.407181789034947, 17.307117671666767, 14.846846846846848, 14.32004523607577, 22.895125553914326, 28.088426527958386, 24.483897605284888, 18.517291364671777, 22.154548915112297, 18.885141836937116, 20.524484880920525, 24.43044110518662, 27.084870848708487, 27.765726681127983, 28.46975088967972, 23.993217465027556, 25.995125913891144, 18.717816683831103, 25.385312783318227, 30.700179533213646, 21.40551643192488, 22.90757635858786, 24.098608083179606, 20.594059405940595, 20.778843359488523, 25.02332089552239, 21.27133995718285, 19.44300114309467, 25.012481278082877], \"xaxis\": \"x\", \"y\": [1233, 14, 120, 34, 41, 2, 0, 0, 6, 5, 11, 10, 11, 11, 12, 0, 0, 3, 0, 0, 11, 27, 0, 8, 14, 14, 21, 1, 4, 4, 7, 2, 5, 0, 0, 6, 5, 0, 9, 0, 0, 0, 1, 2, 0, 0, 3, 6, 1, 1, 15, 52, 36, 47, 94, 16, 4, 0, 1, 1, 36, 1, 1, 1, 5, 17, 65, 21, 16, 40, 262, 100, 4, 13, 21, 59, 96, 41, 4, 40, 9, 26, 13, 1, 7, 1, 14, 9, 6, 8, 46, 1, 0, 7, 4, 18, 1, 0, 1, 5, 5, 1, 57, 27, 9, 50, 11, 27, 0, 9, 3, 3, 3, 1, 8, 1, 1, 0, 0, 1, 0, 0, 1, 0, 0, 3, 1, 1, 3, 1, 12, 35, 1, 7, 1, 5, 4, 3, 9, 0, 1, 0, 0, 6, 0, 0, 0, 18, 16, 33, 27, 10, 3, 28, 4, 20, 2, 5, 1, 0, 1, 0, 1, 0, 0, 0, 0, 0, 0, 1, 0, 1, 19, 101, 6, 11, 0, 1, 0, 2, 1, 7, 3, 1, 1, 1, 2, 0, 3, 4, 0, 4, 2, 1, 0, 281, 4, 4, 1, 3, 5, 4, 0, 5, 0, 0, 1, 25, 5, 0, 11, 3, 33, 23, 1, 0, 0, 15, 0, 0, 0, 0, 3, 0, 2, 1, 5, 0, 0, 0, 3, 0, 0, 10, 0, 0, 1, 12, 178, 10, 3, 0, 0, 8, 5, 0, 1, 6, 3, 4, 5, 2, 0, 1, 4, 23, 16, 10, 0, 0, 0, 0, 2, 1, 3, 0, 0, 7, 1, 1, 0, 11, 1, 12, 0, 0], \"yaxis\": \"y\"}, {\"hoverlabel\": {\"namelength\": 0}, \"hovertemplate\": \"Foretak=Nordlandssykehuset HF<br>Andel over 65 \\u00e5r=%{x}<br>VG-tall 31.03 2030=%{y}<br>07459: Befolkning, etter region, alder, \\u00e5r og statistikkvariabel=%{marker.size}\", \"legendgroup\": \"Nordlandssykehuset HF\", \"marker\": {\"color\": \"#EF553B\", \"size\": [52357, 6288, 1950, 1017, 4671, 9739, 1926, 2608, 498, 728, 1272, 11433, 9608, 8061, 2569, 4410, 10566, 4663, 1015, 2766], \"sizemode\": \"area\", \"sizeref\": 277.3976, \"symbol\": \"circle\"}, \"mode\": \"markers\", \"name\": \"Nordlandssykehuset HF\", \"showlegend\": true, \"type\": \"scatter\", \"x\": [16.291995339687148, 21.962468193384225, 27.025641025641022, 31.268436578171094, 24.405908798972384, 22.01458055241811, 26.791277258566975, 26.495398773006134, 23.09236947791165, 22.939560439560438, 26.022012578616355, 19.86355287326161, 20.295587010824313, 22.92519538518794, 29.155313351498634, 21.58730158730159, 18.77720991860685, 26.356422903710058, 25.320197044334975, 26.35574837310195], \"xaxis\": \"x\", \"y\": [10, 2, 0, 0, 0, 1, 0, 1, 0, 0, 0, 1, 3, 3, 0, 0, 1, 0, 0, 0], \"yaxis\": \"y\"}, {\"hoverlabel\": {\"namelength\": 0}, \"hovertemplate\": \"Foretak=UNN HF<br>Andel over 65 \\u00e5r=%{x}<br>VG-tall 31.03 2030=%{y}<br>07459: Befolkning, etter region, alder, \\u00e5r og statistikkvariabel=%{marker.size}\", \"legendgroup\": \"UNN HF\", \"marker\": {\"color\": \"#00cc96\", \"size\": [21845, 2034, 1348, 76974, 24703, 2839, 4216, 1361, 1091, 1034, 4005, 2146, 6640, 3464, 1083, 14851, 5559, 2200, 2794, 1829, 2071, 2927, 4861, 1191], \"sizemode\": \"area\", \"sizeref\": 277.3976, \"symbol\": \"circle\"}, \"mode\": \"markers\", \"name\": \"UNN HF\", \"showlegend\": true, \"type\": \"scatter\", \"x\": [21.387045090409703, 29.547689282202555, 29.673590504451035, 14.042403928599267, 20.086629154353723, 23.21239873194787, 27.016129032258064, 31.741366642174874, 26.03116406966086, 25.241779497098648, 20.44943820224719, 23.951537744641193, 20.210843373493976, 20.75635103926097, 28.99353647276085, 21.04908760352838, 23.90717754991905, 28.454545454545453, 28.131710808876164, 25.642427556041554, 27.764365041042975, 21.557909121967885, 21.25077144620448, 28.043660789252726], \"xaxis\": \"x\", \"y\": [4, 0, 0, 96, 4, 0, 1, 0, 0, 3, 1, 1, 1, 0, 1, 15, 0, 0, 0, 0, 0, 1, 1, 0], \"yaxis\": \"y\"}, {\"hoverlabel\": {\"namelength\": 0}, \"hovertemplate\": \"Foretak=Helgelandssykehuset HF<br>Andel over 65 \\u00e5r=%{x}<br>VG-tall 31.03 2030=%{y}<br>07459: Befolkning, etter region, alder, \\u00e5r og statistikkvariabel=%{marker.size}\", \"legendgroup\": \"Helgelandssykehuset HF\", \"marker\": {\"color\": \"#ab63fa\", \"size\": [1426, 1975, 7917, 1200, 462, 1777, 7447, 2294, 13278, 1482, 1297, 1371, 1761, 4454, 26184, 1890, 435, 1213], \"sizemode\": \"area\", \"sizeref\": 277.3976, \"symbol\": \"circle\"}, \"mode\": \"markers\", \"name\": \"Helgelandssykehuset HF\", \"showlegend\": true, \"type\": \"scatter\", \"x\": [28.962131837307155, 23.189873417721518, 18.908677529367186, 26.916666666666668, 28.13852813852814, 22.566122678671917, 20.93460453874043, 20.57541412380122, 21.61470100918813, 24.898785425101213, 27.679259830377795, 24.945295404814004, 19.988642816581486, 24.27031881454872, 19.935838680109992, 25.608465608465607, 18.620689655172416, 22.91838417147568], \"xaxis\": \"x\", \"y\": [0, 1, 1, 2, 0, 0, 3, 2, 0, 0, 0, 5, 0, 0, 2, 0, 0, 0], \"yaxis\": \"y\"}, {\"hoverlabel\": {\"namelength\": 0}, \"hovertemplate\": \"Foretak=Finnmarkssykehuset HF<br>Andel over 65 \\u00e5r=%{x}<br>VG-tall 31.03 2030=%{y}<br>07459: Befolkning, etter region, alder, \\u00e5r og statistikkvariabel=%{marker.size}\", \"legendgroup\": \"Finnmarkssykehuset HF\", \"marker\": {\"color\": \"#FFA15A\", \"size\": [20789, 2029, 5788, 11448, 2910, 888, 1005, 1225, 3162, 3998, 2628, 1290, 1132, 957, 2918, 926, 2221, 10158], \"sizemode\": \"area\", \"sizeref\": 277.3976, \"symbol\": \"circle\"}, \"mode\": \"markers\", \"name\": \"Finnmarkssykehuset HF\", \"showlegend\": true, \"type\": \"scatter\", \"x\": [14.603877050363174, 24.396254312469196, 19.678645473393228, 16.867575122292102, 18.10996563573883, 29.504504504504503, 22.388059701492537, 27.10204081632653, 21.094244149272612, 22.336168084042022, 19.863013698630137, 22.48062015503876, 20.936395759717314, 25.287356321839084, 23.098012337217273, 27.5377969762419, 17.829806393516435, 18.113801929513684], \"xaxis\": \"x\", \"y\": [5, 0, 3, 10, 1, 0, 0, 0, 1, 3, 1, 0, 0, 0, 0, 1, 0, 2], \"yaxis\": \"y\"}],\n",
       "                        {\"legend\": {\"itemsizing\": \"constant\", \"title\": {\"text\": \"Foretak\"}, \"tracegroupgap\": 0}, \"margin\": {\"t\": 60}, \"template\": {\"data\": {\"bar\": [{\"error_x\": {\"color\": \"#2a3f5f\"}, \"error_y\": {\"color\": \"#2a3f5f\"}, \"marker\": {\"line\": {\"color\": \"#E5ECF6\", \"width\": 0.5}}, \"type\": \"bar\"}], \"barpolar\": [{\"marker\": {\"line\": {\"color\": \"#E5ECF6\", \"width\": 0.5}}, \"type\": \"barpolar\"}], \"carpet\": [{\"aaxis\": {\"endlinecolor\": \"#2a3f5f\", \"gridcolor\": \"white\", \"linecolor\": \"white\", \"minorgridcolor\": \"white\", \"startlinecolor\": \"#2a3f5f\"}, \"baxis\": {\"endlinecolor\": \"#2a3f5f\", \"gridcolor\": \"white\", \"linecolor\": \"white\", \"minorgridcolor\": \"white\", \"startlinecolor\": \"#2a3f5f\"}, \"type\": \"carpet\"}], \"choropleth\": [{\"colorbar\": {\"outlinewidth\": 0, \"ticks\": \"\"}, \"type\": \"choropleth\"}], \"contour\": [{\"colorbar\": {\"outlinewidth\": 0, \"ticks\": \"\"}, \"colorscale\": [[0.0, \"#0d0887\"], [0.1111111111111111, \"#46039f\"], [0.2222222222222222, \"#7201a8\"], [0.3333333333333333, \"#9c179e\"], [0.4444444444444444, \"#bd3786\"], [0.5555555555555556, \"#d8576b\"], [0.6666666666666666, \"#ed7953\"], [0.7777777777777778, \"#fb9f3a\"], [0.8888888888888888, \"#fdca26\"], [1.0, \"#f0f921\"]], \"type\": \"contour\"}], \"contourcarpet\": [{\"colorbar\": {\"outlinewidth\": 0, \"ticks\": \"\"}, \"type\": \"contourcarpet\"}], \"heatmap\": [{\"colorbar\": {\"outlinewidth\": 0, \"ticks\": \"\"}, \"colorscale\": [[0.0, \"#0d0887\"], [0.1111111111111111, \"#46039f\"], [0.2222222222222222, \"#7201a8\"], [0.3333333333333333, \"#9c179e\"], [0.4444444444444444, \"#bd3786\"], [0.5555555555555556, \"#d8576b\"], [0.6666666666666666, \"#ed7953\"], [0.7777777777777778, \"#fb9f3a\"], [0.8888888888888888, \"#fdca26\"], [1.0, \"#f0f921\"]], \"type\": \"heatmap\"}], \"heatmapgl\": [{\"colorbar\": {\"outlinewidth\": 0, \"ticks\": \"\"}, \"colorscale\": [[0.0, \"#0d0887\"], [0.1111111111111111, \"#46039f\"], [0.2222222222222222, \"#7201a8\"], [0.3333333333333333, \"#9c179e\"], [0.4444444444444444, \"#bd3786\"], [0.5555555555555556, \"#d8576b\"], [0.6666666666666666, \"#ed7953\"], [0.7777777777777778, \"#fb9f3a\"], [0.8888888888888888, \"#fdca26\"], [1.0, \"#f0f921\"]], \"type\": \"heatmapgl\"}], \"histogram\": [{\"marker\": {\"colorbar\": {\"outlinewidth\": 0, \"ticks\": \"\"}}, \"type\": \"histogram\"}], \"histogram2d\": [{\"colorbar\": {\"outlinewidth\": 0, \"ticks\": \"\"}, \"colorscale\": [[0.0, \"#0d0887\"], [0.1111111111111111, \"#46039f\"], [0.2222222222222222, \"#7201a8\"], [0.3333333333333333, \"#9c179e\"], [0.4444444444444444, \"#bd3786\"], [0.5555555555555556, \"#d8576b\"], [0.6666666666666666, \"#ed7953\"], [0.7777777777777778, \"#fb9f3a\"], [0.8888888888888888, \"#fdca26\"], [1.0, \"#f0f921\"]], \"type\": \"histogram2d\"}], \"histogram2dcontour\": [{\"colorbar\": {\"outlinewidth\": 0, \"ticks\": \"\"}, \"colorscale\": [[0.0, \"#0d0887\"], [0.1111111111111111, \"#46039f\"], [0.2222222222222222, \"#7201a8\"], [0.3333333333333333, \"#9c179e\"], [0.4444444444444444, \"#bd3786\"], [0.5555555555555556, \"#d8576b\"], [0.6666666666666666, \"#ed7953\"], [0.7777777777777778, \"#fb9f3a\"], [0.8888888888888888, \"#fdca26\"], [1.0, \"#f0f921\"]], \"type\": \"histogram2dcontour\"}], \"mesh3d\": [{\"colorbar\": {\"outlinewidth\": 0, \"ticks\": \"\"}, \"type\": \"mesh3d\"}], \"parcoords\": [{\"line\": {\"colorbar\": {\"outlinewidth\": 0, \"ticks\": \"\"}}, \"type\": \"parcoords\"}], \"pie\": [{\"automargin\": true, \"type\": \"pie\"}], \"scatter\": [{\"marker\": {\"colorbar\": {\"outlinewidth\": 0, \"ticks\": \"\"}}, \"type\": \"scatter\"}], \"scatter3d\": [{\"line\": {\"colorbar\": {\"outlinewidth\": 0, \"ticks\": \"\"}}, \"marker\": {\"colorbar\": {\"outlinewidth\": 0, \"ticks\": \"\"}}, \"type\": \"scatter3d\"}], \"scattercarpet\": [{\"marker\": {\"colorbar\": {\"outlinewidth\": 0, \"ticks\": \"\"}}, \"type\": \"scattercarpet\"}], \"scattergeo\": [{\"marker\": {\"colorbar\": {\"outlinewidth\": 0, \"ticks\": \"\"}}, \"type\": \"scattergeo\"}], \"scattergl\": [{\"marker\": {\"colorbar\": {\"outlinewidth\": 0, \"ticks\": \"\"}}, \"type\": \"scattergl\"}], \"scattermapbox\": [{\"marker\": {\"colorbar\": {\"outlinewidth\": 0, \"ticks\": \"\"}}, \"type\": \"scattermapbox\"}], \"scatterpolar\": [{\"marker\": {\"colorbar\": {\"outlinewidth\": 0, \"ticks\": \"\"}}, \"type\": \"scatterpolar\"}], \"scatterpolargl\": [{\"marker\": {\"colorbar\": {\"outlinewidth\": 0, \"ticks\": \"\"}}, \"type\": \"scatterpolargl\"}], \"scatterternary\": [{\"marker\": {\"colorbar\": {\"outlinewidth\": 0, \"ticks\": \"\"}}, \"type\": \"scatterternary\"}], \"surface\": [{\"colorbar\": {\"outlinewidth\": 0, \"ticks\": \"\"}, \"colorscale\": [[0.0, \"#0d0887\"], [0.1111111111111111, \"#46039f\"], [0.2222222222222222, \"#7201a8\"], [0.3333333333333333, \"#9c179e\"], [0.4444444444444444, \"#bd3786\"], [0.5555555555555556, \"#d8576b\"], [0.6666666666666666, \"#ed7953\"], [0.7777777777777778, \"#fb9f3a\"], [0.8888888888888888, \"#fdca26\"], [1.0, \"#f0f921\"]], \"type\": \"surface\"}], \"table\": [{\"cells\": {\"fill\": {\"color\": \"#EBF0F8\"}, \"line\": {\"color\": \"white\"}}, \"header\": {\"fill\": {\"color\": \"#C8D4E3\"}, \"line\": {\"color\": \"white\"}}, \"type\": \"table\"}]}, \"layout\": {\"annotationdefaults\": {\"arrowcolor\": \"#2a3f5f\", \"arrowhead\": 0, \"arrowwidth\": 1}, \"coloraxis\": {\"colorbar\": {\"outlinewidth\": 0, \"ticks\": \"\"}}, \"colorscale\": {\"diverging\": [[0, \"#8e0152\"], [0.1, \"#c51b7d\"], [0.2, \"#de77ae\"], [0.3, \"#f1b6da\"], [0.4, \"#fde0ef\"], [0.5, \"#f7f7f7\"], [0.6, \"#e6f5d0\"], [0.7, \"#b8e186\"], [0.8, \"#7fbc41\"], [0.9, \"#4d9221\"], [1, \"#276419\"]], \"sequential\": [[0.0, \"#0d0887\"], [0.1111111111111111, \"#46039f\"], [0.2222222222222222, \"#7201a8\"], [0.3333333333333333, \"#9c179e\"], [0.4444444444444444, \"#bd3786\"], [0.5555555555555556, \"#d8576b\"], [0.6666666666666666, \"#ed7953\"], [0.7777777777777778, \"#fb9f3a\"], [0.8888888888888888, \"#fdca26\"], [1.0, \"#f0f921\"]], \"sequentialminus\": [[0.0, \"#0d0887\"], [0.1111111111111111, \"#46039f\"], [0.2222222222222222, \"#7201a8\"], [0.3333333333333333, \"#9c179e\"], [0.4444444444444444, \"#bd3786\"], [0.5555555555555556, \"#d8576b\"], [0.6666666666666666, \"#ed7953\"], [0.7777777777777778, \"#fb9f3a\"], [0.8888888888888888, \"#fdca26\"], [1.0, \"#f0f921\"]]}, \"colorway\": [\"#636efa\", \"#EF553B\", \"#00cc96\", \"#ab63fa\", \"#FFA15A\", \"#19d3f3\", \"#FF6692\", \"#B6E880\", \"#FF97FF\", \"#FECB52\"], \"font\": {\"color\": \"#2a3f5f\"}, \"geo\": {\"bgcolor\": \"white\", \"lakecolor\": \"white\", \"landcolor\": \"#E5ECF6\", \"showlakes\": true, \"showland\": true, \"subunitcolor\": \"white\"}, \"hoverlabel\": {\"align\": \"left\"}, \"hovermode\": \"closest\", \"mapbox\": {\"style\": \"light\"}, \"paper_bgcolor\": \"white\", \"plot_bgcolor\": \"#E5ECF6\", \"polar\": {\"angularaxis\": {\"gridcolor\": \"white\", \"linecolor\": \"white\", \"ticks\": \"\"}, \"bgcolor\": \"#E5ECF6\", \"radialaxis\": {\"gridcolor\": \"white\", \"linecolor\": \"white\", \"ticks\": \"\"}}, \"scene\": {\"xaxis\": {\"backgroundcolor\": \"#E5ECF6\", \"gridcolor\": \"white\", \"gridwidth\": 2, \"linecolor\": \"white\", \"showbackground\": true, \"ticks\": \"\", \"zerolinecolor\": \"white\"}, \"yaxis\": {\"backgroundcolor\": \"#E5ECF6\", \"gridcolor\": \"white\", \"gridwidth\": 2, \"linecolor\": \"white\", \"showbackground\": true, \"ticks\": \"\", \"zerolinecolor\": \"white\"}, \"zaxis\": {\"backgroundcolor\": \"#E5ECF6\", \"gridcolor\": \"white\", \"gridwidth\": 2, \"linecolor\": \"white\", \"showbackground\": true, \"ticks\": \"\", \"zerolinecolor\": \"white\"}}, \"shapedefaults\": {\"line\": {\"color\": \"#2a3f5f\"}}, \"ternary\": {\"aaxis\": {\"gridcolor\": \"white\", \"linecolor\": \"white\", \"ticks\": \"\"}, \"baxis\": {\"gridcolor\": \"white\", \"linecolor\": \"white\", \"ticks\": \"\"}, \"bgcolor\": \"#E5ECF6\", \"caxis\": {\"gridcolor\": \"white\", \"linecolor\": \"white\", \"ticks\": \"\"}}, \"title\": {\"x\": 0.05}, \"xaxis\": {\"automargin\": true, \"gridcolor\": \"white\", \"linecolor\": \"white\", \"ticks\": \"\", \"title\": {\"standoff\": 15}, \"zerolinecolor\": \"white\", \"zerolinewidth\": 2}, \"yaxis\": {\"automargin\": true, \"gridcolor\": \"white\", \"linecolor\": \"white\", \"ticks\": \"\", \"title\": {\"standoff\": 15}, \"zerolinecolor\": \"white\", \"zerolinewidth\": 2}}}, \"xaxis\": {\"anchor\": \"y\", \"domain\": [0.0, 1.0], \"title\": {\"text\": \"Andel over 65 \\u00e5r\"}, \"type\": \"log\"}, \"yaxis\": {\"anchor\": \"x\", \"domain\": [0.0, 1.0], \"title\": {\"text\": \"VG-tall 31.03 2030\"}, \"type\": \"log\"}},\n",
       "                        {\"responsive\": true}\n",
       "                    ).then(function(){\n",
       "                            \n",
       "var gd = document.getElementById('0e74dc01-0003-4987-8064-eced2c716d57');\n",
       "var x = new MutationObserver(function (mutations, observer) {{\n",
       "        var display = window.getComputedStyle(gd).display;\n",
       "        if (!display || display === 'none') {{\n",
       "            console.log([gd, 'removed!']);\n",
       "            Plotly.purge(gd);\n",
       "            observer.disconnect();\n",
       "        }}\n",
       "}});\n",
       "\n",
       "// Listen for the removal of the full notebook cells\n",
       "var notebookContainer = gd.closest('#notebook-container');\n",
       "if (notebookContainer) {{\n",
       "    x.observe(notebookContainer, {childList: true});\n",
       "}}\n",
       "\n",
       "// Listen for the clearing of the current output cell\n",
       "var outputEl = gd.closest('.output');\n",
       "if (outputEl) {{\n",
       "    x.observe(outputEl, {childList: true});\n",
       "}}\n",
       "\n",
       "                        })\n",
       "                };\n",
       "                });\n",
       "            </script>\n",
       "        </div>"
      ]
     },
     "metadata": {},
     "output_type": "display_data"
    }
   ],
   "source": [
    "fig = px.scatter(df.replace(np.nan, \"Annet\"), x=\"Andel over 65 år\", y=\"VG-tall 31.03 2030\", \n",
    "                 size=\"07459: Befolkning, etter region, alder, år og statistikkvariabel\", color=\"Foretak\",\n",
    "                 #hover_name=\"country\", \n",
    "                 log_y=True, log_x=True, \n",
    "                 size_max=50\n",
    "                )\n",
    "fig.show()"
   ]
  },
  {
   "cell_type": "markdown",
   "metadata": {},
   "source": [
    "# Fylkesdata"
   ]
  },
  {
   "cell_type": "code",
   "execution_count": 117,
   "metadata": {},
   "outputs": [
    {
     "data": {
      "text/html": [
       "<div>\n",
       "<style scoped>\n",
       "    .dataframe tbody tr th:only-of-type {\n",
       "        vertical-align: middle;\n",
       "    }\n",
       "\n",
       "    .dataframe tbody tr th {\n",
       "        vertical-align: top;\n",
       "    }\n",
       "\n",
       "    .dataframe thead th {\n",
       "        text-align: right;\n",
       "    }\n",
       "</style>\n",
       "<table border=\"1\" class=\"dataframe\">\n",
       "  <thead>\n",
       "    <tr style=\"text-align: right;\">\n",
       "      <th></th>\n",
       "      <th>region</th>\n",
       "      <th>07459: Befolkning, etter region, alder, år og statistikkvariabel</th>\n",
       "      <th>age</th>\n",
       "      <th>gammel</th>\n",
       "      <th>Andel over 65 år</th>\n",
       "    </tr>\n",
       "  </thead>\n",
       "  <tbody>\n",
       "    <tr>\n",
       "      <td>0</td>\n",
       "      <td>03 Oslo</td>\n",
       "      <td>693494</td>\n",
       "      <td>5460.0</td>\n",
       "      <td>87347</td>\n",
       "      <td>12.595206</td>\n",
       "    </tr>\n",
       "    <tr>\n",
       "      <td>1</td>\n",
       "      <td>11 Rogaland</td>\n",
       "      <td>479892</td>\n",
       "      <td>5460.0</td>\n",
       "      <td>71967</td>\n",
       "      <td>14.996499</td>\n",
       "    </tr>\n",
       "    <tr>\n",
       "      <td>2</td>\n",
       "      <td>15 Møre og Romsdal</td>\n",
       "      <td>265238</td>\n",
       "      <td>5460.0</td>\n",
       "      <td>52367</td>\n",
       "      <td>19.743400</td>\n",
       "    </tr>\n",
       "    <tr>\n",
       "      <td>3</td>\n",
       "      <td>18 Nordland</td>\n",
       "      <td>241235</td>\n",
       "      <td>5460.0</td>\n",
       "      <td>50191</td>\n",
       "      <td>20.805853</td>\n",
       "    </tr>\n",
       "    <tr>\n",
       "      <td>4</td>\n",
       "      <td>21 Svalbard</td>\n",
       "      <td>0</td>\n",
       "      <td>5460.0</td>\n",
       "      <td>0</td>\n",
       "      <td>NaN</td>\n",
       "    </tr>\n",
       "  </tbody>\n",
       "</table>\n",
       "</div>"
      ],
      "text/plain": [
       "               region  \\\n",
       "0             03 Oslo   \n",
       "1         11 Rogaland   \n",
       "2  15 Møre og Romsdal   \n",
       "3         18 Nordland   \n",
       "4         21 Svalbard   \n",
       "\n",
       "   07459: Befolkning, etter region, alder, år og statistikkvariabel     age  \\\n",
       "0                                             693494                 5460.0   \n",
       "1                                             479892                 5460.0   \n",
       "2                                             265238                 5460.0   \n",
       "3                                             241235                 5460.0   \n",
       "4                                                  0                 5460.0   \n",
       "\n",
       "   gammel  Andel over 65 år  \n",
       "0   87347         12.595206  \n",
       "1   71967         14.996499  \n",
       "2   52367         19.743400  \n",
       "3   50191         20.805853  \n",
       "4       0               NaN  "
      ]
     },
     "execution_count": 117,
     "metadata": {},
     "output_type": "execute_result"
    }
   ],
   "source": [
    "url = \"https://data.ssb.no/api/v0/dataset/1076.csv?lang=no\"\n",
    "df = pd.read_csv(url, sep=\";\", decimal=\",\", encoding=\"ISO-8859-1\")\n",
    "\n",
    "df[\"age\"], df[\"rest\"] = df[\"alder\"].str.split(\" \",1).str\n",
    "df = df.drop(columns = [\"rest\", \"statistikkvariabel\", \"år\", \"alder\"])\n",
    "df[\"age\"] = pd.to_numeric(df[\"age\"], errors='coerce')\n",
    "\n",
    "df[\"gammel\"] = df.apply(lambda x: x[\"07459: Befolkning, etter region, alder, år og statistikkvariabel\"] if x[\"age\"] >= 65 else 0, axis=1)\n",
    "df = df.groupby([\"region\"]).sum().reset_index()\n",
    "\n",
    "df[\"Andel over 65 år\"] = (df[\"gammel\"]/df[\"07459: Befolkning, etter region, alder, år og statistikkvariabel\"])*100\n",
    "\n",
    "df.head()"
   ]
  },
  {
   "cell_type": "code",
   "execution_count": 118,
   "metadata": {},
   "outputs": [
    {
     "data": {
      "text/html": [
       "<div>\n",
       "<style scoped>\n",
       "    .dataframe tbody tr th:only-of-type {\n",
       "        vertical-align: middle;\n",
       "    }\n",
       "\n",
       "    .dataframe tbody tr th {\n",
       "        vertical-align: top;\n",
       "    }\n",
       "\n",
       "    .dataframe thead th {\n",
       "        text-align: right;\n",
       "    }\n",
       "</style>\n",
       "<table border=\"1\" class=\"dataframe\">\n",
       "  <thead>\n",
       "    <tr style=\"text-align: right;\">\n",
       "      <th></th>\n",
       "      <th>07459: Befolkning, etter region, alder, år og statistikkvariabel</th>\n",
       "      <th>age</th>\n",
       "      <th>gammel</th>\n",
       "      <th>Andel over 65 år</th>\n",
       "      <th>Fylkesnr</th>\n",
       "      <th>Fylke</th>\n",
       "    </tr>\n",
       "  </thead>\n",
       "  <tbody>\n",
       "    <tr>\n",
       "      <td>0</td>\n",
       "      <td>693494</td>\n",
       "      <td>5460.0</td>\n",
       "      <td>87347</td>\n",
       "      <td>12.595206</td>\n",
       "      <td>3</td>\n",
       "      <td>Oslo</td>\n",
       "    </tr>\n",
       "    <tr>\n",
       "      <td>1</td>\n",
       "      <td>479892</td>\n",
       "      <td>5460.0</td>\n",
       "      <td>71967</td>\n",
       "      <td>14.996499</td>\n",
       "      <td>11</td>\n",
       "      <td>Rogaland</td>\n",
       "    </tr>\n",
       "    <tr>\n",
       "      <td>2</td>\n",
       "      <td>265238</td>\n",
       "      <td>5460.0</td>\n",
       "      <td>52367</td>\n",
       "      <td>19.743400</td>\n",
       "      <td>15</td>\n",
       "      <td>Møre og Romsdal</td>\n",
       "    </tr>\n",
       "    <tr>\n",
       "      <td>3</td>\n",
       "      <td>241235</td>\n",
       "      <td>5460.0</td>\n",
       "      <td>50191</td>\n",
       "      <td>20.805853</td>\n",
       "      <td>18</td>\n",
       "      <td>Nordland</td>\n",
       "    </tr>\n",
       "    <tr>\n",
       "      <td>4</td>\n",
       "      <td>0</td>\n",
       "      <td>5460.0</td>\n",
       "      <td>0</td>\n",
       "      <td>NaN</td>\n",
       "      <td>21</td>\n",
       "      <td>Svalbard</td>\n",
       "    </tr>\n",
       "  </tbody>\n",
       "</table>\n",
       "</div>"
      ],
      "text/plain": [
       "   07459: Befolkning, etter region, alder, år og statistikkvariabel     age  \\\n",
       "0                                             693494                 5460.0   \n",
       "1                                             479892                 5460.0   \n",
       "2                                             265238                 5460.0   \n",
       "3                                             241235                 5460.0   \n",
       "4                                                  0                 5460.0   \n",
       "\n",
       "   gammel  Andel over 65 år  Fylkesnr            Fylke  \n",
       "0   87347         12.595206         3             Oslo  \n",
       "1   71967         14.996499        11         Rogaland  \n",
       "2   52367         19.743400        15  Møre og Romsdal  \n",
       "3   50191         20.805853        18         Nordland  \n",
       "4       0               NaN        21         Svalbard  "
      ]
     },
     "execution_count": 118,
     "metadata": {},
     "output_type": "execute_result"
    }
   ],
   "source": [
    "df[\"Fylkesnr\"], df[\"Fylke\"] = df[\"region\"].str.split(\" \",1).str\n",
    "df = df.drop(columns=\"region\")\n",
    "df[\"Fylkesnr\"] = pd.to_numeric(df[\"Fylkesnr\"], errors='coerce')\n",
    "df.head()"
   ]
  },
  {
   "cell_type": "code",
   "execution_count": 97,
   "metadata": {},
   "outputs": [
    {
     "data": {
      "text/html": [
       "<div>\n",
       "<style scoped>\n",
       "    .dataframe tbody tr th:only-of-type {\n",
       "        vertical-align: middle;\n",
       "    }\n",
       "\n",
       "    .dataframe tbody tr th {\n",
       "        vertical-align: top;\n",
       "    }\n",
       "\n",
       "    .dataframe thead th {\n",
       "        text-align: right;\n",
       "    }\n",
       "</style>\n",
       "<table border=\"1\" class=\"dataframe\">\n",
       "  <thead>\n",
       "    <tr style=\"text-align: right;\">\n",
       "      <th></th>\n",
       "      <th>07459: Befolkning, etter region, alder, år og statistikkvariabel</th>\n",
       "      <th>age</th>\n",
       "      <th>gammel</th>\n",
       "      <th>Andel over 65 år</th>\n",
       "      <th>Fylkesnr</th>\n",
       "      <th>Fylke</th>\n",
       "    </tr>\n",
       "  </thead>\n",
       "  <tbody>\n",
       "    <tr>\n",
       "      <td>0</td>\n",
       "      <td>693494</td>\n",
       "      <td>5460.0</td>\n",
       "      <td>87347</td>\n",
       "      <td>12.595206</td>\n",
       "      <td>3</td>\n",
       "      <td>Oslo</td>\n",
       "    </tr>\n",
       "    <tr>\n",
       "      <td>1</td>\n",
       "      <td>479892</td>\n",
       "      <td>5460.0</td>\n",
       "      <td>71967</td>\n",
       "      <td>14.996499</td>\n",
       "      <td>11</td>\n",
       "      <td>Rogaland</td>\n",
       "    </tr>\n",
       "    <tr>\n",
       "      <td>2</td>\n",
       "      <td>265238</td>\n",
       "      <td>5460.0</td>\n",
       "      <td>52367</td>\n",
       "      <td>19.743400</td>\n",
       "      <td>15</td>\n",
       "      <td>Møre og Romsdal</td>\n",
       "    </tr>\n",
       "    <tr>\n",
       "      <td>3</td>\n",
       "      <td>241235</td>\n",
       "      <td>5460.0</td>\n",
       "      <td>50191</td>\n",
       "      <td>20.805853</td>\n",
       "      <td>18</td>\n",
       "      <td>Nordland</td>\n",
       "    </tr>\n",
       "    <tr>\n",
       "      <td>4</td>\n",
       "      <td>0</td>\n",
       "      <td>5460.0</td>\n",
       "      <td>0</td>\n",
       "      <td>NaN</td>\n",
       "      <td>21</td>\n",
       "      <td>Svalbard</td>\n",
       "    </tr>\n",
       "    <tr>\n",
       "      <td>5</td>\n",
       "      <td>1241165</td>\n",
       "      <td>5460.0</td>\n",
       "      <td>217911</td>\n",
       "      <td>17.556973</td>\n",
       "      <td>30</td>\n",
       "      <td>Viken</td>\n",
       "    </tr>\n",
       "    <tr>\n",
       "      <td>6</td>\n",
       "      <td>371385</td>\n",
       "      <td>5460.0</td>\n",
       "      <td>82379</td>\n",
       "      <td>22.181564</td>\n",
       "      <td>34</td>\n",
       "      <td>Innlandet</td>\n",
       "    </tr>\n",
       "    <tr>\n",
       "      <td>7</td>\n",
       "      <td>419396</td>\n",
       "      <td>5460.0</td>\n",
       "      <td>84921</td>\n",
       "      <td>20.248405</td>\n",
       "      <td>38</td>\n",
       "      <td>Vestfold og Telemark</td>\n",
       "    </tr>\n",
       "    <tr>\n",
       "      <td>8</td>\n",
       "      <td>307231</td>\n",
       "      <td>5460.0</td>\n",
       "      <td>54338</td>\n",
       "      <td>17.686366</td>\n",
       "      <td>42</td>\n",
       "      <td>Agder</td>\n",
       "    </tr>\n",
       "    <tr>\n",
       "      <td>9</td>\n",
       "      <td>636531</td>\n",
       "      <td>5460.0</td>\n",
       "      <td>111289</td>\n",
       "      <td>17.483673</td>\n",
       "      <td>46</td>\n",
       "      <td>Vestland</td>\n",
       "    </tr>\n",
       "    <tr>\n",
       "      <td>10</td>\n",
       "      <td>468702</td>\n",
       "      <td>5460.0</td>\n",
       "      <td>83907</td>\n",
       "      <td>17.901993</td>\n",
       "      <td>50</td>\n",
       "      <td>Trøndelag - Trööndelage</td>\n",
       "    </tr>\n",
       "    <tr>\n",
       "      <td>11</td>\n",
       "      <td>243311</td>\n",
       "      <td>5460.0</td>\n",
       "      <td>45126</td>\n",
       "      <td>18.546634</td>\n",
       "      <td>54</td>\n",
       "      <td>Troms og Finnmark - Romsa ja Finnmárku</td>\n",
       "    </tr>\n",
       "  </tbody>\n",
       "</table>\n",
       "</div>"
      ],
      "text/plain": [
       "    07459: Befolkning, etter region, alder, år og statistikkvariabel     age  \\\n",
       "0                                              693494                 5460.0   \n",
       "1                                              479892                 5460.0   \n",
       "2                                              265238                 5460.0   \n",
       "3                                              241235                 5460.0   \n",
       "4                                                   0                 5460.0   \n",
       "5                                             1241165                 5460.0   \n",
       "6                                              371385                 5460.0   \n",
       "7                                              419396                 5460.0   \n",
       "8                                              307231                 5460.0   \n",
       "9                                              636531                 5460.0   \n",
       "10                                             468702                 5460.0   \n",
       "11                                             243311                 5460.0   \n",
       "\n",
       "    gammel  Andel over 65 år  Fylkesnr                                   Fylke  \n",
       "0    87347         12.595206         3                                    Oslo  \n",
       "1    71967         14.996499        11                                Rogaland  \n",
       "2    52367         19.743400        15                         Møre og Romsdal  \n",
       "3    50191         20.805853        18                                Nordland  \n",
       "4        0               NaN        21                                Svalbard  \n",
       "5   217911         17.556973        30                                   Viken  \n",
       "6    82379         22.181564        34                               Innlandet  \n",
       "7    84921         20.248405        38                    Vestfold og Telemark  \n",
       "8    54338         17.686366        42                                   Agder  \n",
       "9   111289         17.483673        46                                Vestland  \n",
       "10   83907         17.901993        50                 Trøndelag - Trööndelage  \n",
       "11   45126         18.546634        54  Troms og Finnmark - Romsa ja Finnmárku  "
      ]
     },
     "execution_count": 97,
     "metadata": {},
     "output_type": "execute_result"
    }
   ],
   "source": [
    "df"
   ]
  },
  {
   "cell_type": "code",
   "execution_count": 119,
   "metadata": {},
   "outputs": [
    {
     "data": {
      "application/vnd.plotly.v1+json": {
       "config": {
        "plotlyServerURL": "https://plot.ly"
       },
       "data": [
        {
         "alignmentgroup": "True",
         "customdata": [
          [
           12.595206303154749
          ],
          [
           14.996499212322773
          ],
          [
           19.743400266930077
          ],
          [
           20.805853213671316
          ],
          [
           17.5569726829229
          ],
          [
           22.181563606499992
          ],
          [
           20.24840484887791
          ],
          [
           17.686366284652266
          ],
          [
           17.483673222513907
          ],
          [
           17.901993164100006
          ],
          [
           18.546633732137057
          ]
         ],
         "hoverlabel": {
          "namelength": 0
         },
         "hovertemplate": "<b>%{hovertext}</b><br><br>Andel over 65 år=%{customdata[0]}<br>Fylke=%{y}<br>07459: Befolkning, etter region, alder, år og statistikkvariabel=%{marker.color}",
         "hovertext": [
          "Oslo",
          "Rogaland",
          "Møre og Romsdal",
          "Nordland",
          "Viken",
          "Innlandet",
          "Vestfold og Telemark",
          "Agder",
          "Vestland",
          "Trøndelag - Trööndelage",
          "Troms og Finnmark - Romsa ja Finnmárku"
         ],
         "legendgroup": "",
         "marker": {
          "color": [
           693494,
           479892,
           265238,
           241235,
           1241165,
           371385,
           419396,
           307231,
           636531,
           468702,
           243311
          ],
          "coloraxis": "coloraxis"
         },
         "name": "",
         "offsetgroup": "",
         "orientation": "h",
         "showlegend": false,
         "textposition": "auto",
         "type": "bar",
         "x": [
          12.595206303154749,
          14.996499212322773,
          19.743400266930077,
          20.805853213671316,
          17.5569726829229,
          22.181563606499992,
          20.24840484887791,
          17.686366284652266,
          17.483673222513907,
          17.901993164100006,
          18.546633732137057
         ],
         "xaxis": "x",
         "y": [
          "Oslo",
          "Rogaland",
          "Møre og Romsdal",
          "Nordland",
          "Viken",
          "Innlandet",
          "Vestfold og Telemark",
          "Agder",
          "Vestland",
          "Trøndelag - Trööndelage",
          "Troms og Finnmark - Romsa ja Finnmárku"
         ],
         "yaxis": "y"
        }
       ],
       "layout": {
        "autosize": true,
        "barmode": "relative",
        "coloraxis": {
         "colorbar": {
          "title": {
           "text": "07459: Befolkning, etter region, alder, år og statistikkvariabel"
          }
         },
         "colorscale": [
          [
           0,
           "#0d0887"
          ],
          [
           0.1111111111111111,
           "#46039f"
          ],
          [
           0.2222222222222222,
           "#7201a8"
          ],
          [
           0.3333333333333333,
           "#9c179e"
          ],
          [
           0.4444444444444444,
           "#bd3786"
          ],
          [
           0.5555555555555556,
           "#d8576b"
          ],
          [
           0.6666666666666666,
           "#ed7953"
          ],
          [
           0.7777777777777778,
           "#fb9f3a"
          ],
          [
           0.8888888888888888,
           "#fdca26"
          ],
          [
           1,
           "#f0f921"
          ]
         ],
         "showscale": false
        },
        "height": 500,
        "legend": {
         "tracegroupgap": 0
        },
        "margin": {
         "b": 0,
         "l": 100,
         "r": 100,
         "t": 150
        },
        "paper_bgcolor": "rgba(0, 0, 0, 0)",
        "template": {
         "data": {
          "bar": [
           {
            "error_x": {
             "color": "#2a3f5f"
            },
            "error_y": {
             "color": "#2a3f5f"
            },
            "marker": {
             "line": {
              "color": "white",
              "width": 0.5
             }
            },
            "type": "bar"
           }
          ],
          "barpolar": [
           {
            "marker": {
             "line": {
              "color": "white",
              "width": 0.5
             }
            },
            "type": "barpolar"
           }
          ],
          "carpet": [
           {
            "aaxis": {
             "endlinecolor": "#2a3f5f",
             "gridcolor": "#C8D4E3",
             "linecolor": "#C8D4E3",
             "minorgridcolor": "#C8D4E3",
             "startlinecolor": "#2a3f5f"
            },
            "baxis": {
             "endlinecolor": "#2a3f5f",
             "gridcolor": "#C8D4E3",
             "linecolor": "#C8D4E3",
             "minorgridcolor": "#C8D4E3",
             "startlinecolor": "#2a3f5f"
            },
            "type": "carpet"
           }
          ],
          "choropleth": [
           {
            "colorbar": {
             "outlinewidth": 0,
             "ticks": ""
            },
            "type": "choropleth"
           }
          ],
          "contour": [
           {
            "colorbar": {
             "outlinewidth": 0,
             "ticks": ""
            },
            "colorscale": [
             [
              0,
              "#0d0887"
             ],
             [
              0.1111111111111111,
              "#46039f"
             ],
             [
              0.2222222222222222,
              "#7201a8"
             ],
             [
              0.3333333333333333,
              "#9c179e"
             ],
             [
              0.4444444444444444,
              "#bd3786"
             ],
             [
              0.5555555555555556,
              "#d8576b"
             ],
             [
              0.6666666666666666,
              "#ed7953"
             ],
             [
              0.7777777777777778,
              "#fb9f3a"
             ],
             [
              0.8888888888888888,
              "#fdca26"
             ],
             [
              1,
              "#f0f921"
             ]
            ],
            "type": "contour"
           }
          ],
          "contourcarpet": [
           {
            "colorbar": {
             "outlinewidth": 0,
             "ticks": ""
            },
            "type": "contourcarpet"
           }
          ],
          "heatmap": [
           {
            "colorbar": {
             "outlinewidth": 0,
             "ticks": ""
            },
            "colorscale": [
             [
              0,
              "#0d0887"
             ],
             [
              0.1111111111111111,
              "#46039f"
             ],
             [
              0.2222222222222222,
              "#7201a8"
             ],
             [
              0.3333333333333333,
              "#9c179e"
             ],
             [
              0.4444444444444444,
              "#bd3786"
             ],
             [
              0.5555555555555556,
              "#d8576b"
             ],
             [
              0.6666666666666666,
              "#ed7953"
             ],
             [
              0.7777777777777778,
              "#fb9f3a"
             ],
             [
              0.8888888888888888,
              "#fdca26"
             ],
             [
              1,
              "#f0f921"
             ]
            ],
            "type": "heatmap"
           }
          ],
          "heatmapgl": [
           {
            "colorbar": {
             "outlinewidth": 0,
             "ticks": ""
            },
            "colorscale": [
             [
              0,
              "#0d0887"
             ],
             [
              0.1111111111111111,
              "#46039f"
             ],
             [
              0.2222222222222222,
              "#7201a8"
             ],
             [
              0.3333333333333333,
              "#9c179e"
             ],
             [
              0.4444444444444444,
              "#bd3786"
             ],
             [
              0.5555555555555556,
              "#d8576b"
             ],
             [
              0.6666666666666666,
              "#ed7953"
             ],
             [
              0.7777777777777778,
              "#fb9f3a"
             ],
             [
              0.8888888888888888,
              "#fdca26"
             ],
             [
              1,
              "#f0f921"
             ]
            ],
            "type": "heatmapgl"
           }
          ],
          "histogram": [
           {
            "marker": {
             "colorbar": {
              "outlinewidth": 0,
              "ticks": ""
             }
            },
            "type": "histogram"
           }
          ],
          "histogram2d": [
           {
            "colorbar": {
             "outlinewidth": 0,
             "ticks": ""
            },
            "colorscale": [
             [
              0,
              "#0d0887"
             ],
             [
              0.1111111111111111,
              "#46039f"
             ],
             [
              0.2222222222222222,
              "#7201a8"
             ],
             [
              0.3333333333333333,
              "#9c179e"
             ],
             [
              0.4444444444444444,
              "#bd3786"
             ],
             [
              0.5555555555555556,
              "#d8576b"
             ],
             [
              0.6666666666666666,
              "#ed7953"
             ],
             [
              0.7777777777777778,
              "#fb9f3a"
             ],
             [
              0.8888888888888888,
              "#fdca26"
             ],
             [
              1,
              "#f0f921"
             ]
            ],
            "type": "histogram2d"
           }
          ],
          "histogram2dcontour": [
           {
            "colorbar": {
             "outlinewidth": 0,
             "ticks": ""
            },
            "colorscale": [
             [
              0,
              "#0d0887"
             ],
             [
              0.1111111111111111,
              "#46039f"
             ],
             [
              0.2222222222222222,
              "#7201a8"
             ],
             [
              0.3333333333333333,
              "#9c179e"
             ],
             [
              0.4444444444444444,
              "#bd3786"
             ],
             [
              0.5555555555555556,
              "#d8576b"
             ],
             [
              0.6666666666666666,
              "#ed7953"
             ],
             [
              0.7777777777777778,
              "#fb9f3a"
             ],
             [
              0.8888888888888888,
              "#fdca26"
             ],
             [
              1,
              "#f0f921"
             ]
            ],
            "type": "histogram2dcontour"
           }
          ],
          "mesh3d": [
           {
            "colorbar": {
             "outlinewidth": 0,
             "ticks": ""
            },
            "type": "mesh3d"
           }
          ],
          "parcoords": [
           {
            "line": {
             "colorbar": {
              "outlinewidth": 0,
              "ticks": ""
             }
            },
            "type": "parcoords"
           }
          ],
          "pie": [
           {
            "automargin": true,
            "type": "pie"
           }
          ],
          "scatter": [
           {
            "marker": {
             "colorbar": {
              "outlinewidth": 0,
              "ticks": ""
             }
            },
            "type": "scatter"
           }
          ],
          "scatter3d": [
           {
            "line": {
             "colorbar": {
              "outlinewidth": 0,
              "ticks": ""
             }
            },
            "marker": {
             "colorbar": {
              "outlinewidth": 0,
              "ticks": ""
             }
            },
            "type": "scatter3d"
           }
          ],
          "scattercarpet": [
           {
            "marker": {
             "colorbar": {
              "outlinewidth": 0,
              "ticks": ""
             }
            },
            "type": "scattercarpet"
           }
          ],
          "scattergeo": [
           {
            "marker": {
             "colorbar": {
              "outlinewidth": 0,
              "ticks": ""
             }
            },
            "type": "scattergeo"
           }
          ],
          "scattergl": [
           {
            "marker": {
             "colorbar": {
              "outlinewidth": 0,
              "ticks": ""
             }
            },
            "type": "scattergl"
           }
          ],
          "scattermapbox": [
           {
            "marker": {
             "colorbar": {
              "outlinewidth": 0,
              "ticks": ""
             }
            },
            "type": "scattermapbox"
           }
          ],
          "scatterpolar": [
           {
            "marker": {
             "colorbar": {
              "outlinewidth": 0,
              "ticks": ""
             }
            },
            "type": "scatterpolar"
           }
          ],
          "scatterpolargl": [
           {
            "marker": {
             "colorbar": {
              "outlinewidth": 0,
              "ticks": ""
             }
            },
            "type": "scatterpolargl"
           }
          ],
          "scatterternary": [
           {
            "marker": {
             "colorbar": {
              "outlinewidth": 0,
              "ticks": ""
             }
            },
            "type": "scatterternary"
           }
          ],
          "surface": [
           {
            "colorbar": {
             "outlinewidth": 0,
             "ticks": ""
            },
            "colorscale": [
             [
              0,
              "#0d0887"
             ],
             [
              0.1111111111111111,
              "#46039f"
             ],
             [
              0.2222222222222222,
              "#7201a8"
             ],
             [
              0.3333333333333333,
              "#9c179e"
             ],
             [
              0.4444444444444444,
              "#bd3786"
             ],
             [
              0.5555555555555556,
              "#d8576b"
             ],
             [
              0.6666666666666666,
              "#ed7953"
             ],
             [
              0.7777777777777778,
              "#fb9f3a"
             ],
             [
              0.8888888888888888,
              "#fdca26"
             ],
             [
              1,
              "#f0f921"
             ]
            ],
            "type": "surface"
           }
          ],
          "table": [
           {
            "cells": {
             "fill": {
              "color": "#EBF0F8"
             },
             "line": {
              "color": "white"
             }
            },
            "header": {
             "fill": {
              "color": "#C8D4E3"
             },
             "line": {
              "color": "white"
             }
            },
            "type": "table"
           }
          ]
         },
         "layout": {
          "annotationdefaults": {
           "arrowcolor": "#2a3f5f",
           "arrowhead": 0,
           "arrowwidth": 1
          },
          "coloraxis": {
           "colorbar": {
            "outlinewidth": 0,
            "ticks": ""
           }
          },
          "colorscale": {
           "diverging": [
            [
             0,
             "#8e0152"
            ],
            [
             0.1,
             "#c51b7d"
            ],
            [
             0.2,
             "#de77ae"
            ],
            [
             0.3,
             "#f1b6da"
            ],
            [
             0.4,
             "#fde0ef"
            ],
            [
             0.5,
             "#f7f7f7"
            ],
            [
             0.6,
             "#e6f5d0"
            ],
            [
             0.7,
             "#b8e186"
            ],
            [
             0.8,
             "#7fbc41"
            ],
            [
             0.9,
             "#4d9221"
            ],
            [
             1,
             "#276419"
            ]
           ],
           "sequential": [
            [
             0,
             "#0d0887"
            ],
            [
             0.1111111111111111,
             "#46039f"
            ],
            [
             0.2222222222222222,
             "#7201a8"
            ],
            [
             0.3333333333333333,
             "#9c179e"
            ],
            [
             0.4444444444444444,
             "#bd3786"
            ],
            [
             0.5555555555555556,
             "#d8576b"
            ],
            [
             0.6666666666666666,
             "#ed7953"
            ],
            [
             0.7777777777777778,
             "#fb9f3a"
            ],
            [
             0.8888888888888888,
             "#fdca26"
            ],
            [
             1,
             "#f0f921"
            ]
           ],
           "sequentialminus": [
            [
             0,
             "#0d0887"
            ],
            [
             0.1111111111111111,
             "#46039f"
            ],
            [
             0.2222222222222222,
             "#7201a8"
            ],
            [
             0.3333333333333333,
             "#9c179e"
            ],
            [
             0.4444444444444444,
             "#bd3786"
            ],
            [
             0.5555555555555556,
             "#d8576b"
            ],
            [
             0.6666666666666666,
             "#ed7953"
            ],
            [
             0.7777777777777778,
             "#fb9f3a"
            ],
            [
             0.8888888888888888,
             "#fdca26"
            ],
            [
             1,
             "#f0f921"
            ]
           ]
          },
          "colorway": [
           "#636efa",
           "#EF553B",
           "#00cc96",
           "#ab63fa",
           "#FFA15A",
           "#19d3f3",
           "#FF6692",
           "#B6E880",
           "#FF97FF",
           "#FECB52"
          ],
          "font": {
           "color": "#2a3f5f"
          },
          "geo": {
           "bgcolor": "white",
           "lakecolor": "white",
           "landcolor": "white",
           "showlakes": true,
           "showland": true,
           "subunitcolor": "#C8D4E3"
          },
          "hoverlabel": {
           "align": "left"
          },
          "hovermode": "closest",
          "mapbox": {
           "style": "light"
          },
          "paper_bgcolor": "white",
          "plot_bgcolor": "white",
          "polar": {
           "angularaxis": {
            "gridcolor": "#EBF0F8",
            "linecolor": "#EBF0F8",
            "ticks": ""
           },
           "bgcolor": "white",
           "radialaxis": {
            "gridcolor": "#EBF0F8",
            "linecolor": "#EBF0F8",
            "ticks": ""
           }
          },
          "scene": {
           "xaxis": {
            "backgroundcolor": "white",
            "gridcolor": "#DFE8F3",
            "gridwidth": 2,
            "linecolor": "#EBF0F8",
            "showbackground": true,
            "ticks": "",
            "zerolinecolor": "#EBF0F8"
           },
           "yaxis": {
            "backgroundcolor": "white",
            "gridcolor": "#DFE8F3",
            "gridwidth": 2,
            "linecolor": "#EBF0F8",
            "showbackground": true,
            "ticks": "",
            "zerolinecolor": "#EBF0F8"
           },
           "zaxis": {
            "backgroundcolor": "white",
            "gridcolor": "#DFE8F3",
            "gridwidth": 2,
            "linecolor": "#EBF0F8",
            "showbackground": true,
            "ticks": "",
            "zerolinecolor": "#EBF0F8"
           }
          },
          "shapedefaults": {
           "line": {
            "color": "#2a3f5f"
           }
          },
          "ternary": {
           "aaxis": {
            "gridcolor": "#DFE8F3",
            "linecolor": "#A2B1C6",
            "ticks": ""
           },
           "baxis": {
            "gridcolor": "#DFE8F3",
            "linecolor": "#A2B1C6",
            "ticks": ""
           },
           "bgcolor": "white",
           "caxis": {
            "gridcolor": "#DFE8F3",
            "linecolor": "#A2B1C6",
            "ticks": ""
           }
          },
          "title": {
           "x": 0.05
          },
          "xaxis": {
           "automargin": true,
           "gridcolor": "#EBF0F8",
           "linecolor": "#EBF0F8",
           "ticks": "",
           "title": {
            "standoff": 15
           },
           "zerolinecolor": "#EBF0F8",
           "zerolinewidth": 2
          },
          "yaxis": {
           "automargin": true,
           "gridcolor": "#EBF0F8",
           "linecolor": "#EBF0F8",
           "ticks": "",
           "title": {
            "standoff": 15
           },
           "zerolinecolor": "#EBF0F8",
           "zerolinewidth": 2
          }
         }
        },
        "title": {
         "font": {
          "family": "Helvetica",
          "size": 18
         },
         "text": "<b>Andel av befolkningen over 65 år</b><br>Datakilde: ssb.no."
        },
        "xaxis": {
         "anchor": "y",
         "domain": [
          0,
          1
         ],
         "fixedrange": true,
         "title": {
          "text": ""
         }
        },
        "yaxis": {
         "anchor": "x",
         "categoryarray": [
          "Viken",
          "Vestland",
          "Vestfold og Telemark",
          "Trøndelag - Trööndelage",
          "Troms og Finnmark - Romsa ja Finnmárku",
          "Svalbard",
          "Rogaland",
          "Oslo",
          "Nordland",
          "Møre og Romsdal",
          "Innlandet",
          "Agder"
         ],
         "categoryorder": "total ascending",
         "domain": [
          0,
          1
         ],
         "fixedrange": true,
         "separatethousands": true,
         "title": {
          "text": ""
         }
        }
       }
      },
      "text/html": [
       "<div>\n",
       "        \n",
       "        \n",
       "            <div id=\"263e7e04-cc4e-4c69-beb6-ae4bff0929ec\" class=\"plotly-graph-div\" style=\"height:500px; width:100%;\"></div>\n",
       "            <script type=\"text/javascript\">\n",
       "                require([\"plotly\"], function(Plotly) {\n",
       "                    window.PLOTLYENV=window.PLOTLYENV || {};\n",
       "                    \n",
       "                if (document.getElementById(\"263e7e04-cc4e-4c69-beb6-ae4bff0929ec\")) {\n",
       "                    Plotly.newPlot(\n",
       "                        '263e7e04-cc4e-4c69-beb6-ae4bff0929ec',\n",
       "                        [{\"alignmentgroup\": \"True\", \"customdata\": [[12.595206303154749], [14.996499212322773], [19.743400266930077], [20.805853213671316], [17.5569726829229], [22.181563606499992], [20.24840484887791], [17.686366284652266], [17.483673222513907], [17.901993164100006], [18.546633732137057]], \"hoverlabel\": {\"namelength\": 0}, \"hovertemplate\": \"<b>%{hovertext}</b><br><br>Andel over 65 \\u00e5r=%{customdata[0]}<br>Fylke=%{y}<br>07459: Befolkning, etter region, alder, \\u00e5r og statistikkvariabel=%{marker.color}\", \"hovertext\": [\"Oslo\", \"Rogaland\", \"M\\u00f8re og Romsdal\", \"Nordland\", \"Viken\", \"Innlandet\", \"Vestfold og Telemark\", \"Agder\", \"Vestland\", \"Tr\\u00f8ndelag - Tr\\u00f6\\u00f6ndelage\", \"Troms og Finnmark - Romsa ja Finnm\\u00e1rku\"], \"legendgroup\": \"\", \"marker\": {\"color\": [693494, 479892, 265238, 241235, 1241165, 371385, 419396, 307231, 636531, 468702, 243311], \"coloraxis\": \"coloraxis\"}, \"name\": \"\", \"offsetgroup\": \"\", \"orientation\": \"h\", \"showlegend\": false, \"textposition\": \"auto\", \"type\": \"bar\", \"x\": [12.595206303154749, 14.996499212322773, 19.743400266930077, 20.805853213671316, 17.5569726829229, 22.181563606499992, 20.24840484887791, 17.686366284652266, 17.483673222513907, 17.901993164100006, 18.546633732137057], \"xaxis\": \"x\", \"y\": [\"Oslo\", \"Rogaland\", \"M\\u00f8re og Romsdal\", \"Nordland\", \"Viken\", \"Innlandet\", \"Vestfold og Telemark\", \"Agder\", \"Vestland\", \"Tr\\u00f8ndelag - Tr\\u00f6\\u00f6ndelage\", \"Troms og Finnmark - Romsa ja Finnm\\u00e1rku\"], \"yaxis\": \"y\"}],\n",
       "                        {\"autosize\": true, \"barmode\": \"relative\", \"coloraxis\": {\"colorbar\": {\"title\": {\"text\": \"07459: Befolkning, etter region, alder, \\u00e5r og statistikkvariabel\"}}, \"colorscale\": [[0.0, \"#0d0887\"], [0.1111111111111111, \"#46039f\"], [0.2222222222222222, \"#7201a8\"], [0.3333333333333333, \"#9c179e\"], [0.4444444444444444, \"#bd3786\"], [0.5555555555555556, \"#d8576b\"], [0.6666666666666666, \"#ed7953\"], [0.7777777777777778, \"#fb9f3a\"], [0.8888888888888888, \"#fdca26\"], [1.0, \"#f0f921\"]], \"showscale\": false}, \"height\": 500, \"legend\": {\"tracegroupgap\": 0}, \"margin\": {\"b\": 0, \"l\": 100, \"r\": 100, \"t\": 150}, \"paper_bgcolor\": \"rgba(0, 0, 0, 0)\", \"template\": {\"data\": {\"bar\": [{\"error_x\": {\"color\": \"#2a3f5f\"}, \"error_y\": {\"color\": \"#2a3f5f\"}, \"marker\": {\"line\": {\"color\": \"white\", \"width\": 0.5}}, \"type\": \"bar\"}], \"barpolar\": [{\"marker\": {\"line\": {\"color\": \"white\", \"width\": 0.5}}, \"type\": \"barpolar\"}], \"carpet\": [{\"aaxis\": {\"endlinecolor\": \"#2a3f5f\", \"gridcolor\": \"#C8D4E3\", \"linecolor\": \"#C8D4E3\", \"minorgridcolor\": \"#C8D4E3\", \"startlinecolor\": \"#2a3f5f\"}, \"baxis\": {\"endlinecolor\": \"#2a3f5f\", \"gridcolor\": \"#C8D4E3\", \"linecolor\": \"#C8D4E3\", \"minorgridcolor\": \"#C8D4E3\", \"startlinecolor\": \"#2a3f5f\"}, \"type\": \"carpet\"}], \"choropleth\": [{\"colorbar\": {\"outlinewidth\": 0, \"ticks\": \"\"}, \"type\": \"choropleth\"}], \"contour\": [{\"colorbar\": {\"outlinewidth\": 0, \"ticks\": \"\"}, \"colorscale\": [[0.0, \"#0d0887\"], [0.1111111111111111, \"#46039f\"], [0.2222222222222222, \"#7201a8\"], [0.3333333333333333, \"#9c179e\"], [0.4444444444444444, \"#bd3786\"], [0.5555555555555556, \"#d8576b\"], [0.6666666666666666, \"#ed7953\"], [0.7777777777777778, \"#fb9f3a\"], [0.8888888888888888, \"#fdca26\"], [1.0, \"#f0f921\"]], \"type\": \"contour\"}], \"contourcarpet\": [{\"colorbar\": {\"outlinewidth\": 0, \"ticks\": \"\"}, \"type\": \"contourcarpet\"}], \"heatmap\": [{\"colorbar\": {\"outlinewidth\": 0, \"ticks\": \"\"}, \"colorscale\": [[0.0, \"#0d0887\"], [0.1111111111111111, \"#46039f\"], [0.2222222222222222, \"#7201a8\"], [0.3333333333333333, \"#9c179e\"], [0.4444444444444444, \"#bd3786\"], [0.5555555555555556, \"#d8576b\"], [0.6666666666666666, \"#ed7953\"], [0.7777777777777778, \"#fb9f3a\"], [0.8888888888888888, \"#fdca26\"], [1.0, \"#f0f921\"]], \"type\": \"heatmap\"}], \"heatmapgl\": [{\"colorbar\": {\"outlinewidth\": 0, \"ticks\": \"\"}, \"colorscale\": [[0.0, \"#0d0887\"], [0.1111111111111111, \"#46039f\"], [0.2222222222222222, \"#7201a8\"], [0.3333333333333333, \"#9c179e\"], [0.4444444444444444, \"#bd3786\"], [0.5555555555555556, \"#d8576b\"], [0.6666666666666666, \"#ed7953\"], [0.7777777777777778, \"#fb9f3a\"], [0.8888888888888888, \"#fdca26\"], [1.0, \"#f0f921\"]], \"type\": \"heatmapgl\"}], \"histogram\": [{\"marker\": {\"colorbar\": {\"outlinewidth\": 0, \"ticks\": \"\"}}, \"type\": \"histogram\"}], \"histogram2d\": [{\"colorbar\": {\"outlinewidth\": 0, \"ticks\": \"\"}, \"colorscale\": [[0.0, \"#0d0887\"], [0.1111111111111111, \"#46039f\"], [0.2222222222222222, \"#7201a8\"], [0.3333333333333333, \"#9c179e\"], [0.4444444444444444, \"#bd3786\"], [0.5555555555555556, \"#d8576b\"], [0.6666666666666666, \"#ed7953\"], [0.7777777777777778, \"#fb9f3a\"], [0.8888888888888888, \"#fdca26\"], [1.0, \"#f0f921\"]], \"type\": \"histogram2d\"}], \"histogram2dcontour\": [{\"colorbar\": {\"outlinewidth\": 0, \"ticks\": \"\"}, \"colorscale\": [[0.0, \"#0d0887\"], [0.1111111111111111, \"#46039f\"], [0.2222222222222222, \"#7201a8\"], [0.3333333333333333, \"#9c179e\"], [0.4444444444444444, \"#bd3786\"], [0.5555555555555556, \"#d8576b\"], [0.6666666666666666, \"#ed7953\"], [0.7777777777777778, \"#fb9f3a\"], [0.8888888888888888, \"#fdca26\"], [1.0, \"#f0f921\"]], \"type\": \"histogram2dcontour\"}], \"mesh3d\": [{\"colorbar\": {\"outlinewidth\": 0, \"ticks\": \"\"}, \"type\": \"mesh3d\"}], \"parcoords\": [{\"line\": {\"colorbar\": {\"outlinewidth\": 0, \"ticks\": \"\"}}, \"type\": \"parcoords\"}], \"pie\": [{\"automargin\": true, \"type\": \"pie\"}], \"scatter\": [{\"marker\": {\"colorbar\": {\"outlinewidth\": 0, \"ticks\": \"\"}}, \"type\": \"scatter\"}], \"scatter3d\": [{\"line\": {\"colorbar\": {\"outlinewidth\": 0, \"ticks\": \"\"}}, \"marker\": {\"colorbar\": {\"outlinewidth\": 0, \"ticks\": \"\"}}, \"type\": \"scatter3d\"}], \"scattercarpet\": [{\"marker\": {\"colorbar\": {\"outlinewidth\": 0, \"ticks\": \"\"}}, \"type\": \"scattercarpet\"}], \"scattergeo\": [{\"marker\": {\"colorbar\": {\"outlinewidth\": 0, \"ticks\": \"\"}}, \"type\": \"scattergeo\"}], \"scattergl\": [{\"marker\": {\"colorbar\": {\"outlinewidth\": 0, \"ticks\": \"\"}}, \"type\": \"scattergl\"}], \"scattermapbox\": [{\"marker\": {\"colorbar\": {\"outlinewidth\": 0, \"ticks\": \"\"}}, \"type\": \"scattermapbox\"}], \"scatterpolar\": [{\"marker\": {\"colorbar\": {\"outlinewidth\": 0, \"ticks\": \"\"}}, \"type\": \"scatterpolar\"}], \"scatterpolargl\": [{\"marker\": {\"colorbar\": {\"outlinewidth\": 0, \"ticks\": \"\"}}, \"type\": \"scatterpolargl\"}], \"scatterternary\": [{\"marker\": {\"colorbar\": {\"outlinewidth\": 0, \"ticks\": \"\"}}, \"type\": \"scatterternary\"}], \"surface\": [{\"colorbar\": {\"outlinewidth\": 0, \"ticks\": \"\"}, \"colorscale\": [[0.0, \"#0d0887\"], [0.1111111111111111, \"#46039f\"], [0.2222222222222222, \"#7201a8\"], [0.3333333333333333, \"#9c179e\"], [0.4444444444444444, \"#bd3786\"], [0.5555555555555556, \"#d8576b\"], [0.6666666666666666, \"#ed7953\"], [0.7777777777777778, \"#fb9f3a\"], [0.8888888888888888, \"#fdca26\"], [1.0, \"#f0f921\"]], \"type\": \"surface\"}], \"table\": [{\"cells\": {\"fill\": {\"color\": \"#EBF0F8\"}, \"line\": {\"color\": \"white\"}}, \"header\": {\"fill\": {\"color\": \"#C8D4E3\"}, \"line\": {\"color\": \"white\"}}, \"type\": \"table\"}]}, \"layout\": {\"annotationdefaults\": {\"arrowcolor\": \"#2a3f5f\", \"arrowhead\": 0, \"arrowwidth\": 1}, \"coloraxis\": {\"colorbar\": {\"outlinewidth\": 0, \"ticks\": \"\"}}, \"colorscale\": {\"diverging\": [[0, \"#8e0152\"], [0.1, \"#c51b7d\"], [0.2, \"#de77ae\"], [0.3, \"#f1b6da\"], [0.4, \"#fde0ef\"], [0.5, \"#f7f7f7\"], [0.6, \"#e6f5d0\"], [0.7, \"#b8e186\"], [0.8, \"#7fbc41\"], [0.9, \"#4d9221\"], [1, \"#276419\"]], \"sequential\": [[0.0, \"#0d0887\"], [0.1111111111111111, \"#46039f\"], [0.2222222222222222, \"#7201a8\"], [0.3333333333333333, \"#9c179e\"], [0.4444444444444444, \"#bd3786\"], [0.5555555555555556, \"#d8576b\"], [0.6666666666666666, \"#ed7953\"], [0.7777777777777778, \"#fb9f3a\"], [0.8888888888888888, \"#fdca26\"], [1.0, \"#f0f921\"]], \"sequentialminus\": [[0.0, \"#0d0887\"], [0.1111111111111111, \"#46039f\"], [0.2222222222222222, \"#7201a8\"], [0.3333333333333333, \"#9c179e\"], [0.4444444444444444, \"#bd3786\"], [0.5555555555555556, \"#d8576b\"], [0.6666666666666666, \"#ed7953\"], [0.7777777777777778, \"#fb9f3a\"], [0.8888888888888888, \"#fdca26\"], [1.0, \"#f0f921\"]]}, \"colorway\": [\"#636efa\", \"#EF553B\", \"#00cc96\", \"#ab63fa\", \"#FFA15A\", \"#19d3f3\", \"#FF6692\", \"#B6E880\", \"#FF97FF\", \"#FECB52\"], \"font\": {\"color\": \"#2a3f5f\"}, \"geo\": {\"bgcolor\": \"white\", \"lakecolor\": \"white\", \"landcolor\": \"white\", \"showlakes\": true, \"showland\": true, \"subunitcolor\": \"#C8D4E3\"}, \"hoverlabel\": {\"align\": \"left\"}, \"hovermode\": \"closest\", \"mapbox\": {\"style\": \"light\"}, \"paper_bgcolor\": \"white\", \"plot_bgcolor\": \"white\", \"polar\": {\"angularaxis\": {\"gridcolor\": \"#EBF0F8\", \"linecolor\": \"#EBF0F8\", \"ticks\": \"\"}, \"bgcolor\": \"white\", \"radialaxis\": {\"gridcolor\": \"#EBF0F8\", \"linecolor\": \"#EBF0F8\", \"ticks\": \"\"}}, \"scene\": {\"xaxis\": {\"backgroundcolor\": \"white\", \"gridcolor\": \"#DFE8F3\", \"gridwidth\": 2, \"linecolor\": \"#EBF0F8\", \"showbackground\": true, \"ticks\": \"\", \"zerolinecolor\": \"#EBF0F8\"}, \"yaxis\": {\"backgroundcolor\": \"white\", \"gridcolor\": \"#DFE8F3\", \"gridwidth\": 2, \"linecolor\": \"#EBF0F8\", \"showbackground\": true, \"ticks\": \"\", \"zerolinecolor\": \"#EBF0F8\"}, \"zaxis\": {\"backgroundcolor\": \"white\", \"gridcolor\": \"#DFE8F3\", \"gridwidth\": 2, \"linecolor\": \"#EBF0F8\", \"showbackground\": true, \"ticks\": \"\", \"zerolinecolor\": \"#EBF0F8\"}}, \"shapedefaults\": {\"line\": {\"color\": \"#2a3f5f\"}}, \"ternary\": {\"aaxis\": {\"gridcolor\": \"#DFE8F3\", \"linecolor\": \"#A2B1C6\", \"ticks\": \"\"}, \"baxis\": {\"gridcolor\": \"#DFE8F3\", \"linecolor\": \"#A2B1C6\", \"ticks\": \"\"}, \"bgcolor\": \"white\", \"caxis\": {\"gridcolor\": \"#DFE8F3\", \"linecolor\": \"#A2B1C6\", \"ticks\": \"\"}}, \"title\": {\"x\": 0.05}, \"xaxis\": {\"automargin\": true, \"gridcolor\": \"#EBF0F8\", \"linecolor\": \"#EBF0F8\", \"ticks\": \"\", \"title\": {\"standoff\": 15}, \"zerolinecolor\": \"#EBF0F8\", \"zerolinewidth\": 2}, \"yaxis\": {\"automargin\": true, \"gridcolor\": \"#EBF0F8\", \"linecolor\": \"#EBF0F8\", \"ticks\": \"\", \"title\": {\"standoff\": 15}, \"zerolinecolor\": \"#EBF0F8\", \"zerolinewidth\": 2}}}, \"title\": {\"font\": {\"family\": \"Helvetica\", \"size\": 18}, \"text\": \"<b>Andel av befolkningen over 65 \\u00e5r</b><br>Datakilde: ssb.no.\"}, \"xaxis\": {\"anchor\": \"y\", \"domain\": [0.0, 1.0], \"fixedrange\": true, \"title\": {\"text\": \"\"}}, \"yaxis\": {\"anchor\": \"x\", \"categoryarray\": [\"Viken\", \"Vestland\", \"Vestfold og Telemark\", \"Tr\\u00f8ndelag - Tr\\u00f6\\u00f6ndelage\", \"Troms og Finnmark - Romsa ja Finnm\\u00e1rku\", \"Svalbard\", \"Rogaland\", \"Oslo\", \"Nordland\", \"M\\u00f8re og Romsdal\", \"Innlandet\", \"Agder\"], \"categoryorder\": \"total ascending\", \"domain\": [0.0, 1.0], \"fixedrange\": true, \"separatethousands\": true, \"title\": {\"text\": \"\"}}},\n",
       "                        {\"responsive\": true}\n",
       "                    ).then(function(){\n",
       "                            \n",
       "var gd = document.getElementById('263e7e04-cc4e-4c69-beb6-ae4bff0929ec');\n",
       "var x = new MutationObserver(function (mutations, observer) {{\n",
       "        var display = window.getComputedStyle(gd).display;\n",
       "        if (!display || display === 'none') {{\n",
       "            console.log([gd, 'removed!']);\n",
       "            Plotly.purge(gd);\n",
       "            observer.disconnect();\n",
       "        }}\n",
       "}});\n",
       "\n",
       "// Listen for the removal of the full notebook cells\n",
       "var notebookContainer = gd.closest('#notebook-container');\n",
       "if (notebookContainer) {{\n",
       "    x.observe(notebookContainer, {childList: true});\n",
       "}}\n",
       "\n",
       "// Listen for the clearing of the current output cell\n",
       "var outputEl = gd.closest('.output');\n",
       "if (outputEl) {{\n",
       "    x.observe(outputEl, {childList: true});\n",
       "}}\n",
       "\n",
       "                        })\n",
       "                };\n",
       "                });\n",
       "            </script>\n",
       "        </div>"
      ]
     },
     "metadata": {},
     "output_type": "display_data"
    }
   ],
   "source": [
    "legend = [i for i in df[\"Fylke\"].dropna().unique()]\n",
    "legend.sort()\n",
    "\n",
    "fig = px.bar(df.dropna(), \n",
    "             x='Andel over 65 år', y='Fylke', \n",
    "             orientation='h',\n",
    "             category_orders={\"Fylke\": legend},\n",
    "             height=500,\n",
    "             title = \"<b>Andel av befolkningen over 65 år</b><br>Datakilde: ssb.no.\",\n",
    "             color='07459: Befolkning, etter region, alder, år og statistikkvariabel',\n",
    "             hover_name=\"Fylke\",\n",
    "             hover_data=[\"Andel over 65 år\"],\n",
    "             template = \"plotly_white\", \n",
    "             #labels = {\"Vekstrate\": \"daglig vekst (%)\", \"- 1 uke\": \"Daglig vekst for en uke siden\", \"text\": \"Dager før dobling med dagens vekst\"},\n",
    "            )\n",
    "\n",
    "\n",
    "fig.layout.coloraxis.showscale = False\n",
    "\n",
    "fig.update_layout(\n",
    "    yaxis=dict(\n",
    "        separatethousands=True,\n",
    "        categoryorder = 'total ascending',\n",
    "        title_text=\"\",\n",
    "        fixedrange=True,\n",
    "    ), xaxis=dict(fixedrange=True,\n",
    "                 title_text=\"\"),\n",
    "    title_font=dict(family=\"Helvetica\", size=18),\n",
    "        margin=dict(b=150)) #bottom margin\n",
    "\n",
    "fig.update_layout(autosize=True,\n",
    "    margin=dict(l=100, r=100, t=150, b=0),\n",
    "    paper_bgcolor='rgba(0, 0, 0, 0)'\n",
    "    #plot_bgcolor='rgb(248, 248, 255)'    \n",
    "                 )\n",
    "\n",
    "#plotly.offline.plot(fig, filename='COVID_moment_fylke.html')\n",
    "#py.plot(fig, filename='COVID19_vekstmomentum_fylker.html', auto_open=False)\n",
    "fig.show()"
   ]
  }
 ],
 "metadata": {
  "kernelspec": {
   "display_name": "Python 3",
   "language": "python",
   "name": "python3"
  },
  "language_info": {
   "codemirror_mode": {
    "name": "ipython",
    "version": 3
   },
   "file_extension": ".py",
   "mimetype": "text/x-python",
   "name": "python",
   "nbconvert_exporter": "python",
   "pygments_lexer": "ipython3",
   "version": "3.7.4"
  }
 },
 "nbformat": 4,
 "nbformat_minor": 2
}
